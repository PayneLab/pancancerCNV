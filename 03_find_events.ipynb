{
 "cells": [
  {
   "cell_type": "markdown",
   "metadata": {},
   "source": [
    "# SCNA analysis step 3: Find a summarize SCNA events\n",
    "\n",
    "- Input: SCNA table\n",
    "- Output: Event table (summary of individual genes' SCNA reads)\n",
    "    1. Sort SCNA table by these columns in this order, all ascending: [cancer_type, patient_id, chromosome, first]\n",
    "    2. Identify individual events.\n",
    "        1. We will define an event as a set of adjacent genes that are all up or all down. If we want to get fancy later, and if values between genes are directly comparable, we can also check for values not deviating too far. (We probably wouldn't be able to define an acceptable range without first identifying the whole potential group.)\n",
    "        2. Start a counter at zero\n",
    "        3. Iterate over dataframe, assigning the current value of the counter to each row. Before assignment, increment the counter if any of the following conditions are met:\n",
    "            1. We are onto a new chromosome or new sample\n",
    "            2. The current value has a different sign than the previous value, or didn't pass the cutoff. However, allow some gaps--start experimenting with 1 or 2.\n",
    "    3. Summarize each event.\n",
    "        1. Group by event number created in the previous step\n",
    "        2. For each group, create the following values in a new summary dataframe:\n",
    "            1. A list of the genes contained in it\n",
    "            2. The min of the \"first\" column\n",
    "            3. The max of the \"last\" column\n",
    "            4. The average of the \"cna_val\" column"
   ]
  },
  {
   "cell_type": "markdown",
   "metadata": {},
   "source": [
    "## Setup"
   ]
  },
  {
   "cell_type": "code",
   "execution_count": 9,
   "metadata": {},
   "outputs": [],
   "source": [
    "import cptac\n",
    "import pandas as pd\n",
    "import numpy as np\n",
    "import datetime\n",
    "import os\n",
    "\n",
    "TIME_START = datetime.datetime.now().strftime('%Y%m%d_%H%M%S')\n",
    "MAX_SKIP = 1\n",
    "\n",
    "# Note: If you are running this yourself, you will need to first run\n",
    "# the step 2 notebook (02_get_locations) and sub in the appropriate output\n",
    "# file name for STEP2_FILE_NAME. We didn't include the output files in\n",
    "# the repository because they exceed GitHub's 100 MB per file limit.\n",
    "\n",
    "STEP2_DIR = \"02_outputs\"\n",
    "STEP2_FILE_NAME = \"locations_scna_cutoff_0.2_20200706_092210.tsv.gz\"\n",
    "STEP2_FILE_PATH = os.path.join(STEP2_DIR, STEP2_FILE_NAME)\n",
    "\n",
    "STEP3_DIR = \"03_outputs\"\n",
    "if not os.path.isdir(STEP3_DIR):\n",
    "    os.mkdir(STEP3_DIR)\n",
    "    \n",
    "STEP3_FILE_PATH = os.path.join(STEP3_DIR, f\"summary_{TIME_START}_skip_{MAX_SKIP}_from_{STEP2_FILE_NAME}\")"
   ]
  },
  {
   "cell_type": "code",
   "execution_count": 10,
   "metadata": {},
   "outputs": [
    {
     "name": "stdout",
     "output_type": "stream",
     "text": [
      "03_outputs/summary_20200708_154024_skip_1_from_locations_scna_cutoff_0.2_20200706_092210.tsv.gz\n"
     ]
    }
   ],
   "source": [
    "print(STEP3_FILE_PATH)"
   ]
  },
  {
   "cell_type": "code",
   "execution_count": 11,
   "metadata": {},
   "outputs": [],
   "source": [
    "cnas = pd.read_csv(STEP2_FILE_PATH, sep=\"\\t\", dtype={\"Database_ID\": \"O\", \"chromosome\": \"O\"})"
   ]
  },
  {
   "cell_type": "markdown",
   "metadata": {},
   "source": [
    "## Sort genes by location\n",
    "\n",
    "Because the table is big and we're using Python, this uses a lot of RAM. To mitigate that, we perform these operations inside functions so that when the functions end, variables inside them will pass out of scope and be garbage collected."
   ]
  },
  {
   "cell_type": "code",
   "execution_count": 12,
   "metadata": {},
   "outputs": [],
   "source": [
    "def sort_cnas(table):\n",
    "    return table.sort_values(by=[\"cancer_type\", \"Patient_ID\", \"chromosome\", \"first\"])\n",
    "\n",
    "def reset_drop_index(table):\n",
    "    return table.reset_index(drop=True)"
   ]
  },
  {
   "cell_type": "code",
   "execution_count": 13,
   "metadata": {},
   "outputs": [],
   "source": [
    "cnas = sort_cnas(cnas)\n",
    "cnas = reset_drop_index(cnas)"
   ]
  },
  {
   "cell_type": "markdown",
   "metadata": {},
   "source": [
    "## Identify individual events"
   ]
  },
  {
   "cell_type": "markdown",
   "metadata": {},
   "source": [
    "- States:\n",
    "    1. Last value\n",
    "    2. Current chromosome\n",
    "    3. Are we on a potentially new event?\n",
    "    \n",
    "    \n",
    "- Goal:\n",
    "    - Iterate through the genes\n",
    "    - If we find a set of genes that is MAX_SKIP or longer and differs from the event we've been on, make it a new event.\n",
    "    - If the set is below the length cutoff and the event continues after it, just omit those genes--assign the group as NaN\n",
    "\n",
    "\n",
    "- Method:\n",
    "    - If we reach a row with a different sign or not passes, look ahead and see if we're going to skip it or not, by seeing if the set is shorter than MAX_SKIP and if the event really continues after it.\n",
    "        - Look ahead using index lookup\n",
    "        - If skip:\n",
    "            - Insert as many NaNs as were in the gap\n",
    "        - If not skip:\n",
    "            - Increment counter to indicate a new event, and continue as normal"
   ]
  },
  {
   "cell_type": "code",
   "execution_count": null,
   "metadata": {},
   "outputs": [],
   "source": [
    "# We're going to use pandas.DataFrame.itertuples to iterate over\n",
    "# the CNA dataframe. It will return each row as a tuple. Below\n",
    "# we assign to variables the indexes in a row's tuple that will\n",
    "# correspond to the values of the different columns for the row.\n",
    "# We do this instead of not passing None to the name parameter\n",
    "# of itertuples because this is more efficient.\n",
    "index_idx = 0\n",
    "Patient_ID_idx = 1\n",
    "gene_idx = 2\n",
    "Database_ID_idx = 3\n",
    "cna_val_idx = 4\n",
    "cancer_type_idx = 5\n",
    "passes_idx = 6\n",
    "chromosome_idx = 7\n",
    "start_idx = 8\n",
    "end_idx = 9\n",
    "first_idx = 10\n",
    "last_idx = 11\n",
    "\n",
    "## Set the variables we'll use as we iterate over the table\n",
    "\n",
    "# This will be a list of numbers that we will later append as \n",
    "# a column to our CNA dataframe. All genes that we determine\n",
    "# are part of the same event will have the same number in this\n",
    "# column. All genes that we skip will have np.nan.\n",
    "groups = []\n",
    "\n",
    "# We will use this counter to keep track of which event we\n",
    "# are on, so we know what group number to append to the \n",
    "# groups list for each gene.\n",
    "counter = 0\n",
    "\n",
    "# If we've looked ahead and determined that there are some\n",
    "# genes that make a gap in the event, but the gap is small \n",
    "# enough to ignore, we'll use this counter to signal to\n",
    "# skip that many genes.\n",
    "num_ahead_to_skip = 0\n",
    "\n",
    "# These variables will help us keep track of when it would\n",
    "# be appropriate to say we're on a new event.\n",
    "current_cancer = cnas.loc[0, \"cancer_type\"] # If we get to a new cancer type, we're obviously onto a new event\n",
    "current_sample = cnas.loc[0, \"Patient_ID\"] # Same if we get to a new sample...\n",
    "current_chr = cnas.loc[0, \"chromosome\"] # or a new chromosome.\n",
    "\n",
    "# If the next gene's cna_val has a different sign than the previous \n",
    "# gene, it may be a new event. We'll figure that out below :D\n",
    "current_val = cnas.loc[0, \"cna_val\"]\n",
    "\n",
    "for row in cnas.itertuples(index=True, name=None):\n",
    "    \n",
    "    # We will execute this block if we've previously looked ahead \n",
    "    # in the table and determined that there's a set of genes to \n",
    "    # skip and not count in our current event.\n",
    "    if num_ahead_to_skip > 0:\n",
    "        groups.append(np.nan)\n",
    "        num_ahead_to_skip -= 1\n",
    "        continue\n",
    "    \n",
    "    # We always say we're on a new event if we reach a new \n",
    "    # cancer type, sample, or chromosome\n",
    "    if (\n",
    "        row[cancer_type_idx] != current_cancer or\n",
    "        row[Patient_ID_idx] != current_sample or\n",
    "        row[chromosome_idx] != current_chr\n",
    "    ):\n",
    "        counter += 1\n",
    "    \n",
    "    # If the cna_val changes sign, let's see if it's just a small,\n",
    "    # ignorable gap in the event, or if we should count it as a new\n",
    "    # event.\n",
    "    elif (\n",
    "        np.sign(row[cna_val_idx]) != np.sign(current_val) or \n",
    "        not row[passes_idx]\n",
    "    ):\n",
    "        \n",
    "        # Slice out the next 2 * MAX_SKIP rows\n",
    "        # TODO: Make sure that if we're at the very end of the table, we don't slice out of range\n",
    "        num_rows = 2 * MAX_SKIP\n",
    "        curr_index = row[index_idx]\n",
    "        next_rows = cnas.iloc[(curr_index + 1): (curr_index + 1) + num_rows, :]\n",
    "        \n",
    "        # Keep track of how big this gap is, including the gene\n",
    "        # we're on right now\n",
    "        gap_width = 1\n",
    "        \n",
    "        # Keep track of how many genes after this gap continue \n",
    "        # the event we were on before\n",
    "        cont_current_width = 0\n",
    "        \n",
    "        for ahead_row in next_rows.itertuples(index=True, name=None):\n",
    "            # See if the gap is short enough to skip. Also require that\n",
    "            # there be more genes after the gap that continue the current\n",
    "            # trend, than are in the gap\n",
    "            \n",
    "            if (\n",
    "                ahead_row[cancer_type_idx] != current_cancer or\n",
    "                ahead_row[Patient_ID_idx] != current_sample or\n",
    "                ahead_row[chromosome_idx] != current_chr\n",
    "            ):\n",
    "                # We reached a new cancer type, sample, or chromosome\n",
    "                # before we got to a point where we could skip the gap. So,\n",
    "                # don't skip the gap.\n",
    "                skip = False\n",
    "                break\n",
    "            \n",
    "            elif (\n",
    "                np.sign(ahead_row[cna_val_idx]) == np.sign(current_val) and \n",
    "                ahead_row[passes_idx]\n",
    "            ):\n",
    "                # The conditions directly above were true, so this gene \n",
    "                # continued the event we were on, so it counts as continuing\n",
    "                # the event past the gap.\n",
    "                cont_current_width += 1\n",
    "    \n",
    "            else:\n",
    "                # The current gene continues the gap.\n",
    "                gap_width += 1\n",
    "                \n",
    "                # Because the cont_current_width segment (if there was one) that \n",
    "                # was continuing the event after the gap was shorter than the \n",
    "                # first continuous portion of the gap (because the \n",
    "                # 'cont_current_width >= gap_width' condition below never evaluated\n",
    "                # to True), that segment is not counted as continuing the event \n",
    "                # anymore, and contributes to the gap.\n",
    "                gap_width += cont_current_width\n",
    "                \n",
    "                # We have to start over trying to create a new contiguous\n",
    "                # segment that continues the current event.\n",
    "                cont_current_width = 0\n",
    "                \n",
    "            if gap_width > MAX_SKIP:\n",
    "                # We found a gap too big to skip.\n",
    "                skip = False\n",
    "                break\n",
    "                \n",
    "            elif cont_current_width >= gap_width:\n",
    "                # If we got here, there was a continuous segment after the gap \n",
    "                # that was longer than the gap, and continued the event we were \n",
    "                # on, and the gap was shorter than MAX_SKIP (because the check \n",
    "                # above was False), so we'll skip the gap.\n",
    "                skip = True\n",
    "                break\n",
    "            \n",
    "        if skip:\n",
    "            \n",
    "            # Indicate that we're skipping the gene we're on right now\n",
    "            groups.append(np.nan) \n",
    "            \n",
    "            # Indicate how many additional genes to skip\n",
    "            num_ahead_to_skip = gap_width - 1 # Is that the right number?\n",
    "\n",
    "            # This 'continue' applies to the outer for loop--the one iterating\n",
    "            # over the entire CNA table. We skip the rest of this iteration\n",
    "            # of the loop, because we're saying that the event hasn't changed\n",
    "            # yet, so there's no need to update the variables below.\n",
    "            continue\n",
    "        else:\n",
    "            assert num_ahead_to_skip == 0\n",
    "            \n",
    "            # The gap was too big to skip. We're on a new event.\n",
    "            counter += 1\n",
    "            \n",
    "    # Append the group number indicating which event this current gene is part of\n",
    "    groups.append(counter)\n",
    "    \n",
    "    # Update which cancer type, sample, chromosome, and value we're on\n",
    "    current_cancer = row[cancer_type_idx]\n",
    "    current_sample = row[Patient_ID_idx]\n",
    "    current_chr = row[chromosome_idx]\n",
    "    current_val = row[cna_val_idx]"
   ]
  },
  {
   "cell_type": "markdown",
   "metadata": {},
   "source": [
    "We will manually convert the group list to a numpy array before appending it, to save RAM."
   ]
  },
  {
   "cell_type": "code",
   "execution_count": null,
   "metadata": {},
   "outputs": [],
   "source": [
    "groups_ar = np.array(groups, dtype=np.uint32)"
   ]
  },
  {
   "cell_type": "code",
   "execution_count": null,
   "metadata": {},
   "outputs": [],
   "source": [
    "cnas = cnas.assign(event=groups_ar)"
   ]
  },
  {
   "cell_type": "markdown",
   "metadata": {},
   "source": [
    "## Drop rows that don't pass\n",
    "We didn't drop them earlier because we still needed their record of when a group of genes has breaks."
   ]
  },
  {
   "cell_type": "code",
   "execution_count": null,
   "metadata": {},
   "outputs": [],
   "source": [
    "cnas = cnas[cnas[\"passes\"]]"
   ]
  },
  {
   "cell_type": "markdown",
   "metadata": {},
   "source": [
    "## Drop rows we skipped"
   ]
  },
  {
   "cell_type": "code",
   "execution_count": null,
   "metadata": {},
   "outputs": [],
   "source": [
    "cnas = cnas[pd.notnull(cnas[\"event\"])]"
   ]
  },
  {
   "cell_type": "markdown",
   "metadata": {},
   "source": [
    "## Summarize events"
   ]
  },
  {
   "cell_type": "code",
   "execution_count": null,
   "metadata": {},
   "outputs": [],
   "source": [
    "summary = cnas.groupby(\"event\").agg(**{\n",
    "    \"chromosome\": (\"chromosome\", lambda x: x[0]),\n",
    "    \"cancer_type\": (\"cancer_type\", lambda x: x[0]),\n",
    "    \"Patient_ID\": (\"Patient_ID\", lambda x: x[0]),\n",
    "    \"genes\": (\"gene\", list),\n",
    "    \"start\": (\"first\", min),\n",
    "    \"end\": (\"last\", max),\n",
    "    \"num_genes\": (\"gene\", len),\n",
    "    \"avg_cna\": (\"cna_val\", np.mean) # TODO: Weight this by gene length!\n",
    "})"
   ]
  },
  {
   "cell_type": "code",
   "execution_count": null,
   "metadata": {},
   "outputs": [],
   "source": [
    "summary.to_csv(STEP3_FILE_PATH, index=False, compression=\"gzip\", sep=\"\\t\")"
   ]
  },
  {
   "cell_type": "code",
   "execution_count": null,
   "metadata": {},
   "outputs": [],
   "source": [
    "summary"
   ]
  }
 ],
 "metadata": {
  "kernelspec": {
   "display_name": "Python 3",
   "language": "python",
   "name": "python3"
  },
  "language_info": {
   "codemirror_mode": {
    "name": "ipython",
    "version": 3
   },
   "file_extension": ".py",
   "mimetype": "text/x-python",
   "name": "python",
   "nbconvert_exporter": "python",
   "pygments_lexer": "ipython3",
   "version": "3.7.7"
  }
 },
 "nbformat": 4,
 "nbformat_minor": 4
}
