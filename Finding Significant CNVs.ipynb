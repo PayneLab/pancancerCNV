{
 "cells": [
  {
   "cell_type": "markdown",
   "metadata": {},
   "source": [
    "# Finding Significant CNVs"
   ]
  },
  {
   "cell_type": "code",
   "execution_count": 1,
   "metadata": {},
   "outputs": [
    {
     "name": "stdout",
     "output_type": "stream",
     "text": [
      "Requirement already satisfied: cptac in c:\\users\\chels\\anaconda3\\lib\\site-packages (0.8.0)\n",
      "Requirement already satisfied: urllib3>=1.24.2 in c:\\users\\chels\\anaconda3\\lib\\site-packages (from cptac) (1.25.8)\n",
      "Requirement already satisfied: numpy>=1.16.3 in c:\\users\\chels\\anaconda3\\lib\\site-packages (from cptac) (1.18.1)\n",
      "Requirement already satisfied: scipy>=1.2.1 in c:\\users\\chels\\anaconda3\\lib\\site-packages (from cptac) (1.4.1)\n",
      "Requirement already satisfied: pandas>=0.25.1 in c:\\users\\chels\\anaconda3\\lib\\site-packages (from cptac) (1.0.1)\n",
      "Requirement already satisfied: requests>=2.21.0 in c:\\users\\chels\\anaconda3\\lib\\site-packages (from cptac) (2.22.0)\n",
      "Requirement already satisfied: packaging>=19.2 in c:\\users\\chels\\anaconda3\\lib\\site-packages (from cptac) (20.1)\n",
      "Requirement already satisfied: xlrd>=1.2.0 in c:\\users\\chels\\anaconda3\\lib\\site-packages (from cptac) (1.2.0)\n",
      "Requirement already satisfied: beautifulsoup4>=4.7.1 in c:\\users\\chels\\anaconda3\\lib\\site-packages (from cptac) (4.8.2)\n",
      "Requirement already satisfied: pytz>=2017.2 in c:\\users\\chels\\anaconda3\\lib\\site-packages (from pandas>=0.25.1->cptac) (2019.3)\n",
      "Requirement already satisfied: python-dateutil>=2.6.1 in c:\\users\\chels\\anaconda3\\lib\\site-packages (from pandas>=0.25.1->cptac) (2.8.1)\n",
      "Requirement already satisfied: idna<2.9,>=2.5 in c:\\users\\chels\\anaconda3\\lib\\site-packages (from requests>=2.21.0->cptac) (2.8)\n",
      "Requirement already satisfied: certifi>=2017.4.17 in c:\\users\\chels\\anaconda3\\lib\\site-packages (from requests>=2.21.0->cptac) (2019.11.28)\n",
      "Requirement already satisfied: chardet<3.1.0,>=3.0.2 in c:\\users\\chels\\anaconda3\\lib\\site-packages (from requests>=2.21.0->cptac) (3.0.4)\n",
      "Requirement already satisfied: six in c:\\users\\chels\\anaconda3\\lib\\site-packages (from packaging>=19.2->cptac) (1.14.0)\n",
      "Requirement already satisfied: pyparsing>=2.0.2 in c:\\users\\chels\\anaconda3\\lib\\site-packages (from packaging>=19.2->cptac) (2.4.6)\n",
      "Requirement already satisfied: soupsieve>=1.2 in c:\\users\\chels\\anaconda3\\lib\\site-packages (from beautifulsoup4>=4.7.1->cptac) (1.9.5)\n"
     ]
    }
   ],
   "source": [
    "!pip install cptac"
   ]
  },
  {
   "cell_type": "code",
   "execution_count": 2,
   "metadata": {},
   "outputs": [],
   "source": [
    "import pandas as pd\n",
    "import matplotlib.pyplot as plt\n",
    "import seaborn as sns\n",
    "import numpy as np\n",
    "import cptac"
   ]
  },
  {
   "cell_type": "code",
   "execution_count": 3,
   "metadata": {},
   "outputs": [
    {
     "name": "stdout",
     "output_type": "stream",
     "text": [
      "Requirement already up-to-date: cptac in c:\\users\\chels\\anaconda3\\lib\\site-packages (0.8.0)\n",
      "Requirement already satisfied, skipping upgrade: requests>=2.21.0 in c:\\users\\chels\\anaconda3\\lib\\site-packages (from cptac) (2.22.0)\n",
      "Requirement already satisfied, skipping upgrade: pandas>=0.25.1 in c:\\users\\chels\\anaconda3\\lib\\site-packages (from cptac) (1.0.1)\n",
      "Requirement already satisfied, skipping upgrade: urllib3>=1.24.2 in c:\\users\\chels\\anaconda3\\lib\\site-packages (from cptac) (1.25.8)\n",
      "Requirement already satisfied, skipping upgrade: packaging>=19.2 in c:\\users\\chels\\anaconda3\\lib\\site-packages (from cptac) (20.1)\n",
      "Requirement already satisfied, skipping upgrade: scipy>=1.2.1 in c:\\users\\chels\\anaconda3\\lib\\site-packages (from cptac) (1.4.1)\n",
      "Requirement already satisfied, skipping upgrade: xlrd>=1.2.0 in c:\\users\\chels\\anaconda3\\lib\\site-packages (from cptac) (1.2.0)\n",
      "Requirement already satisfied, skipping upgrade: numpy>=1.16.3 in c:\\users\\chels\\anaconda3\\lib\\site-packages (from cptac) (1.18.1)\n",
      "Requirement already satisfied, skipping upgrade: beautifulsoup4>=4.7.1 in c:\\users\\chels\\anaconda3\\lib\\site-packages (from cptac) (4.8.2)\n",
      "Requirement already satisfied, skipping upgrade: chardet<3.1.0,>=3.0.2 in c:\\users\\chels\\anaconda3\\lib\\site-packages (from requests>=2.21.0->cptac) (3.0.4)\n",
      "Requirement already satisfied, skipping upgrade: certifi>=2017.4.17 in c:\\users\\chels\\anaconda3\\lib\\site-packages (from requests>=2.21.0->cptac) (2019.11.28)\n",
      "Requirement already satisfied, skipping upgrade: idna<2.9,>=2.5 in c:\\users\\chels\\anaconda3\\lib\\site-packages (from requests>=2.21.0->cptac) (2.8)\n",
      "Requirement already satisfied, skipping upgrade: python-dateutil>=2.6.1 in c:\\users\\chels\\anaconda3\\lib\\site-packages (from pandas>=0.25.1->cptac) (2.8.1)\n",
      "Requirement already satisfied, skipping upgrade: pytz>=2017.2 in c:\\users\\chels\\anaconda3\\lib\\site-packages (from pandas>=0.25.1->cptac) (2019.3)\n",
      "Requirement already satisfied, skipping upgrade: pyparsing>=2.0.2 in c:\\users\\chels\\anaconda3\\lib\\site-packages (from packaging>=19.2->cptac) (2.4.6)\n",
      "Requirement already satisfied, skipping upgrade: six in c:\\users\\chels\\anaconda3\\lib\\site-packages (from packaging>=19.2->cptac) (1.14.0)\n",
      "Requirement already satisfied, skipping upgrade: soupsieve>=1.2 in c:\\users\\chels\\anaconda3\\lib\\site-packages (from beautifulsoup4>=4.7.1->cptac) (1.9.5)\n"
     ]
    }
   ],
   "source": [
    "!pip install --upgrade cptac"
   ]
  },
  {
   "cell_type": "markdown",
   "metadata": {},
   "source": [
    "## Download CNV Data"
   ]
  },
  {
   "cell_type": "code",
   "execution_count": 4,
   "metadata": {},
   "outputs": [
    {
     "name": "stdout",
     "output_type": "stream",
     "text": [
      "Available datasets:\n",
      "\n",
      "Dataset name                               Description     Data reuse status  \\\n",
      "                                                                               \n",
      "Brca                                     breast cancer       no restrictions   \n",
      "Ccrcc         clear cell renal cell carcinoma (kidney)       no restrictions   \n",
      "Colon                                colorectal cancer       no restrictions   \n",
      "Endometrial            endometrial carcinoma (uterine)       no restrictions   \n",
      "Gbm                                       glioblastoma   publication embargo   \n",
      "Hnscc                                    head and neck  password access only   \n",
      "Lscc                      lung squamous cell carcinoma  password access only   \n",
      "Luad                               lung adenocarcinoma   publication embargo   \n",
      "Ovarian               high grade serous ovarian cancer       no restrictions   \n",
      "\n",
      "Dataset name                              Publication link  \n",
      "                                                            \n",
      "Brca                                           unpublished  \n",
      "Ccrcc         https://www.ncbi.nlm.nih.gov/pubmed/31675502  \n",
      "Colon         https://www.ncbi.nlm.nih.gov/pubmed/31031003  \n",
      "Endometrial   https://www.ncbi.nlm.nih.gov/pubmed/32059776  \n",
      "Gbm                                            unpublished  \n",
      "Hnscc                                          unpublished  \n",
      "Lscc                                           unpublished  \n",
      "Luad                                           unpublished  \n",
      "Ovarian       https://www.ncbi.nlm.nih.gov/pubmed/27372738  \n"
     ]
    }
   ],
   "source": [
    "cptac.list_datasets()"
   ]
  },
  {
   "cell_type": "code",
   "execution_count": 5,
   "metadata": {},
   "outputs": [
    {
     "name": "stdout",
     "output_type": "stream",
     "text": [
      "                                                \r"
     ]
    },
    {
     "data": {
      "text/plain": [
       "True"
      ]
     },
     "execution_count": 5,
     "metadata": {},
     "output_type": "execute_result"
    }
   ],
   "source": [
    "cptac.download(dataset=\"endometrial\")"
   ]
  },
  {
   "cell_type": "code",
   "execution_count": 6,
   "metadata": {},
   "outputs": [
    {
     "name": "stdout",
     "output_type": "stream",
     "text": [
      "                                         \r"
     ]
    },
    {
     "data": {
      "text/plain": [
       "True"
      ]
     },
     "execution_count": 6,
     "metadata": {},
     "output_type": "execute_result"
    }
   ],
   "source": [
    "cptac.download(dataset=\"brca\")"
   ]
  },
  {
   "cell_type": "code",
   "execution_count": 7,
   "metadata": {},
   "outputs": [
    {
     "name": "stdout",
     "output_type": "stream",
     "text": [
      "                                          \r"
     ]
    },
    {
     "data": {
      "text/plain": [
       "True"
      ]
     },
     "execution_count": 7,
     "metadata": {},
     "output_type": "execute_result"
    }
   ],
   "source": [
    "cptac.download(dataset=\"ccrcc\")"
   ]
  },
  {
   "cell_type": "code",
   "execution_count": 8,
   "metadata": {},
   "outputs": [
    {
     "name": "stdout",
     "output_type": "stream",
     "text": [
      "                                        \r"
     ]
    },
    {
     "data": {
      "text/plain": [
       "True"
      ]
     },
     "execution_count": 8,
     "metadata": {},
     "output_type": "execute_result"
    }
   ],
   "source": [
    "cptac.download(dataset=\"gbm\")"
   ]
  },
  {
   "cell_type": "code",
   "execution_count": 9,
   "metadata": {},
   "outputs": [
    {
     "name": "stdout",
     "output_type": "stream",
     "text": [
      "                                          \r"
     ]
    },
    {
     "data": {
      "text/plain": [
       "True"
      ]
     },
     "execution_count": 9,
     "metadata": {},
     "output_type": "execute_result"
    }
   ],
   "source": [
    "cptac.download(dataset=\"hnscc\")"
   ]
  },
  {
   "cell_type": "code",
   "execution_count": 10,
   "metadata": {},
   "outputs": [
    {
     "name": "stdout",
     "output_type": "stream",
     "text": [
      "                                         \r"
     ]
    },
    {
     "data": {
      "text/plain": [
       "True"
      ]
     },
     "execution_count": 10,
     "metadata": {},
     "output_type": "execute_result"
    }
   ],
   "source": [
    "cptac.download(dataset=\"luad\")"
   ]
  },
  {
   "cell_type": "code",
   "execution_count": 11,
   "metadata": {},
   "outputs": [
    {
     "name": "stdout",
     "output_type": "stream",
     "text": [
      "                                            \r"
     ]
    },
    {
     "data": {
      "text/plain": [
       "True"
      ]
     },
     "execution_count": 11,
     "metadata": {},
     "output_type": "execute_result"
    }
   ],
   "source": [
    "cptac.download(dataset=\"ovarian\")"
   ]
  },
  {
   "cell_type": "code",
   "execution_count": 12,
   "metadata": {},
   "outputs": [
    {
     "name": "stdout",
     "output_type": "stream",
     "text": [
      "                                          \r"
     ]
    },
    {
     "data": {
      "text/plain": [
       "True"
      ]
     },
     "execution_count": 12,
     "metadata": {},
     "output_type": "execute_result"
    }
   ],
   "source": [
    "cptac.download(dataset=\"colon\")"
   ]
  },
  {
   "cell_type": "code",
   "execution_count": 13,
   "metadata": {},
   "outputs": [
    {
     "name": "stdout",
     "output_type": "stream",
     "text": [
      "                                         \r"
     ]
    },
    {
     "data": {
      "text/plain": [
       "True"
      ]
     },
     "execution_count": 13,
     "metadata": {},
     "output_type": "execute_result"
    }
   ],
   "source": [
    "cptac.download(dataset=\"lscc\")"
   ]
  },
  {
   "cell_type": "code",
   "execution_count": 14,
   "metadata": {},
   "outputs": [
    {
     "name": "stdout",
     "output_type": "stream",
     "text": [
      "Checking that hnscc index is up-to-date...      \r"
     ]
    },
    {
     "name": "stderr",
     "output_type": "stream",
     "text": [
      "cptac warning: The GBM dataset is under publication embargo until March 01, 2021. CPTAC is a community resource project and data are made available rapidly after generation for community research use. The embargo allows exploring and utilizing the data, but analysis may not be published until after the embargo date. Please see https://proteomics.cancer.gov/data-portal/about/data-use-agreement or enter cptac.embargo() to open the webpage for more details. (C:\\Users\\chels\\anaconda3\\lib\\site-packages\\ipykernel_launcher.py, line 4)\n"
     ]
    },
    {
     "name": "stdout",
     "output_type": "stream",
     "text": [
      "Checking that luad index is up-to-date... \r"
     ]
    },
    {
     "name": "stderr",
     "output_type": "stream",
     "text": [
      "cptac warning: The HNSCC data is currently strictly reserved for CPTAC investigators. Otherwise, you are not authorized to access these data. Additionally, even after these data become publicly available, they will be subject to a publication embargo (see https://proteomics.cancer.gov/data-portal/about/data-use-agreement or enter cptac.embargo() to open the webpage for more details). (C:\\Users\\chels\\anaconda3\\lib\\site-packages\\ipykernel_launcher.py, line 5)\n"
     ]
    },
    {
     "name": "stdout",
     "output_type": "stream",
     "text": [
      "Checking that ovarian index is up-to-date...\r"
     ]
    },
    {
     "name": "stderr",
     "output_type": "stream",
     "text": [
      "cptac warning: The LUAD dataset is under publication embargo until July 01, 2020. CPTAC is a community resource project and data are made available rapidly after generation for community research use. The embargo allows exploring and utilizing the data, but analysis may not be published until after the embargo date. Please see https://proteomics.cancer.gov/data-portal/about/data-use-agreement or enter cptac.embargo() to open the webpage for more details. (C:\\Users\\chels\\anaconda3\\lib\\site-packages\\ipykernel_launcher.py, line 6)\n"
     ]
    },
    {
     "name": "stdout",
     "output_type": "stream",
     "text": [
      "                                            \r"
     ]
    },
    {
     "name": "stderr",
     "output_type": "stream",
     "text": [
      "cptac warning: The LSCC data is currently strictly reserved for CPTAC investigators. Otherwise, you are not authorized to access these data. Additionally, even after these data become publicly available, they will be subject to a publication embargo (see https://proteomics.cancer.gov/data-portal/about/data-use-agreement or enter cptac.embargo() to open the webpage for more details). (C:\\Users\\chels\\anaconda3\\lib\\site-packages\\ipykernel_launcher.py, line 9)\n"
     ]
    }
   ],
   "source": [
    "en = cptac.Endometrial()\n",
    "brca = cptac.Brca()\n",
    "ccrcc = cptac.Ccrcc()\n",
    "gbm = cptac.Gbm()\n",
    "hnscc = cptac.Hnscc()\n",
    "luad = cptac.Luad()\n",
    "ovarian = cptac.Ovarian()\n",
    "colon = cptac.Colon()\n",
    "lscc = cptac.Lscc()"
   ]
  },
  {
   "cell_type": "code",
   "execution_count": 15,
   "metadata": {},
   "outputs": [],
   "source": [
    "en_cnv = en.get_CNV()\n",
    "brca_cnv = brca.get_CNV()\n",
    "ccrcc_cnv = ccrcc.get_CNV()\n",
    "gbm_cnv = gbm.get_CNV()\n",
    "hnscc_cnv = hnscc.get_CNV()\n",
    "luad_cnv = luad.get_CNV()\n",
    "ovarian_cnv = ovarian.get_CNV()\n",
    "colon_cnv = colon.get_CNV()\n",
    "lscc_cnv = lscc.get_CNV()"
   ]
  },
  {
   "cell_type": "markdown",
   "metadata": {},
   "source": [
    "## Create Summary Tables"
   ]
  },
  {
   "cell_type": "code",
   "execution_count": 16,
   "metadata": {},
   "outputs": [],
   "source": [
    "def separate(hiCut, lowCut, data):\n",
    "  \"\"\"\n",
    "  Counts the Number of patients with high and low value for each gene.\n",
    "  \"\"\"\n",
    "  sepDict = dict()\n",
    "  for column in data:\n",
    "    numHi = 0\n",
    "    numLow = 0\n",
    "    numNeu = 0\n",
    "    for i in data[column]:\n",
    "        if i > hiCut:\n",
    "            numHi += 1\n",
    "        elif i < lowCut:\n",
    "            numLow += 1\n",
    "        else:\n",
    "            numNeu += 1 \n",
    "    sepDict[column] = [numHi, numNeu, numLow]\n",
    "  return sepDict"
   ]
  },
  {
   "cell_type": "code",
   "execution_count": 17,
   "metadata": {},
   "outputs": [],
   "source": [
    "def get_counts_and_average(data):\n",
    "  \"\"\"\n",
    "  Takes a CNV dataframe and generates a dataframe with the counts of high, low and neutral values\n",
    "  \"\"\"\n",
    "  df = pd.DataFrame(data = separate(.3,-.2,data), index = [\"amplifications\", \"neutral\", \"deletions\"])\n",
    "  df = df.append(pd.DataFrame(data.mean(0), columns=['average']).transpose(), sort=True)\n",
    "  return df.transpose()"
   ]
  },
  {
   "cell_type": "code",
   "execution_count": 18,
   "metadata": {},
   "outputs": [],
   "source": [
    "en_counts = get_counts_and_average(en_cnv)\n",
    "gbm_counts = get_counts_and_average(gbm_cnv)\n",
    "brca_counts = get_counts_and_average(brca_cnv)\n",
    "hnscc_counts = get_counts_and_average(hnscc_cnv)\n",
    "luad_counts = get_counts_and_average(luad_cnv)\n",
    "ovarian_counts = get_counts_and_average(ovarian_cnv)\n",
    "ccrcc_counts = get_counts_and_average(ccrcc_cnv)\n",
    "colon_counts = get_counts_and_average(colon_cnv)\n",
    "lscc_counts = get_counts_and_average(lscc_cnv)"
   ]
  },
  {
   "cell_type": "markdown",
   "metadata": {},
   "source": [
    "## Finding Significant Genes in each Cancer Type"
   ]
  },
  {
   "cell_type": "code",
   "execution_count": 19,
   "metadata": {},
   "outputs": [],
   "source": [
    "en_sig_genes_up = list(en_counts[en_counts.amplifications >= 20].index.get_level_values(0))\n",
    "gbm_sig_genes_up = list(gbm_counts[gbm_counts.amplifications >= 20].index)\n",
    "brca_sig_genes_up = list(brca_counts[brca_counts.amplifications >= 20].index.get_level_values(0))\n",
    "hnscc_sig_genes_up = list(hnscc_counts[hnscc_counts.amplifications >= 20].index)\n",
    "luad_sig_genes_up = list(luad_counts[luad_counts.amplifications >= 20].index)\n",
    "ovarian_sig_genes_up = list(ovarian_counts[ovarian_counts.amplifications >= 20].index)\n",
    "ccrcc_sig_genes_up = list(ccrcc_counts[ccrcc_counts.amplifications >= 20].index.get_level_values(0))\n",
    "colon_sig_genes_up = list(colon_counts[colon_counts.amplifications >= 20].index)\n",
    "lscc_sig_genes_up = list(lscc_counts[lscc_counts.amplifications >= 20].index)"
   ]
  },
  {
   "cell_type": "code",
   "execution_count": 20,
   "metadata": {},
   "outputs": [],
   "source": [
    "en_sig_genes_down = list(en_counts[en_counts.deletions >= 20].index.get_level_values(0))\n",
    "gbm_sig_genes_down = list(gbm_counts[gbm_counts.deletions >= 20].index)\n",
    "brca_sig_genes_down = list(brca_counts[brca_counts.deletions >= 20].index.get_level_values(0))\n",
    "hnscc_sig_genes_down = list(hnscc_counts[hnscc_counts.deletions >= 20].index)\n",
    "luad_sig_genes_down = list(luad_counts[luad_counts.deletions >= 20].index)\n",
    "ovarian_sig_genes_down = list(ovarian_counts[ovarian_counts.deletions >= 20].index)\n",
    "ccrcc_sig_genes_down = list(ccrcc_counts[ccrcc_counts.deletions >= 20].index.get_level_values(0))\n",
    "colon_sig_genes_down = list(colon_counts[colon_counts.deletions >= 20].index)\n",
    "lscc_sig_genes_down = list(lscc_counts[lscc_counts.deletions >= 20].index)"
   ]
  },
  {
   "cell_type": "code",
   "execution_count": 21,
   "metadata": {},
   "outputs": [],
   "source": [
    "chromosomes = pd.read_csv('uniprot_chromosomes.csv')"
   ]
  },
  {
   "cell_type": "code",
   "execution_count": 22,
   "metadata": {},
   "outputs": [],
   "source": [
    "chromosomes = chromosomes.drop(columns=['Unnamed: 0'])"
   ]
  },
  {
   "cell_type": "markdown",
   "metadata": {},
   "source": [
    "## Common Sig Genes"
   ]
  },
  {
   "cell_type": "code",
   "execution_count": 23,
   "metadata": {},
   "outputs": [],
   "source": [
    "def CountFrequency(my_list): \n",
    "  \"\"\"\n",
    "  Counts the frequency of the gene in the given list.\n",
    "  Returns a list of genes that appeared 3 or more times.\n",
    "  \"\"\"\n",
    "  freq = {} \n",
    "  for items in my_list: \n",
    "      freq[items] = my_list.count(items) \n",
    "  sig = []\n",
    "  for key, value in freq.items(): \n",
    "    if value >= 4:\n",
    "      sig.append(key)\n",
    "  return sig"
   ]
  },
  {
   "cell_type": "code",
   "execution_count": 24,
   "metadata": {},
   "outputs": [],
   "source": [
    "sig_genes_up = CountFrequency(en_sig_genes_up +\n",
    "                              gbm_sig_genes_up +\n",
    "                              brca_sig_genes_up +\n",
    "                              hnscc_sig_genes_up +\n",
    "                              luad_sig_genes_up +\n",
    "                              ovarian_sig_genes_up +\n",
    "                              ccrcc_sig_genes_up +\n",
    "                              colon_sig_genes_up +\n",
    "                              lscc_sig_genes_up)"
   ]
  },
  {
   "cell_type": "code",
   "execution_count": 25,
   "metadata": {},
   "outputs": [],
   "source": [
    "sig_genes_down = CountFrequency(en_sig_genes_down +\n",
    "                                gbm_sig_genes_down +\n",
    "                                brca_sig_genes_down +\n",
    "                                hnscc_sig_genes_down +\n",
    "                                luad_sig_genes_down +\n",
    "                                ovarian_sig_genes_down +\n",
    "                                ccrcc_sig_genes_down +\n",
    "                                colon_sig_genes_down +\n",
    "                                lscc_sig_genes_down)"
   ]
  },
  {
   "cell_type": "code",
   "execution_count": 26,
   "metadata": {},
   "outputs": [],
   "source": [
    "sig_genes_up_df = chromosomes[chromosomes.gene.isin(sig_genes_up)]"
   ]
  },
  {
   "cell_type": "code",
   "execution_count": 27,
   "metadata": {},
   "outputs": [
    {
     "name": "stderr",
     "output_type": "stream",
     "text": [
      "C:\\Users\\chels\\anaconda3\\lib\\site-packages\\ipykernel_launcher.py:1: SettingWithCopyWarning: \n",
      "A value is trying to be set on a copy of a slice from a DataFrame.\n",
      "Try using .loc[row_indexer,col_indexer] = value instead\n",
      "\n",
      "See the caveats in the documentation: https://pandas.pydata.org/pandas-docs/stable/user_guide/indexing.html#returning-a-view-versus-a-copy\n",
      "  \"\"\"Entry point for launching an IPython kernel.\n"
     ]
    }
   ],
   "source": [
    "sig_genes_up_df['chromosome'] = sig_genes_up_df['chromosome'].str.extract(pat='([0-9,X,Y]+)')"
   ]
  },
  {
   "cell_type": "code",
   "execution_count": 28,
   "metadata": {},
   "outputs": [
    {
     "data": {
      "text/plain": [
       "<matplotlib.axes._subplots.AxesSubplot at 0x203c7b8be08>"
      ]
     },
     "execution_count": 28,
     "metadata": {},
     "output_type": "execute_result"
    },
    {
     "data": {
      "image/png": "[encoded data removed]",
      "text/plain": [
       "<Figure size 432x288 with 1 Axes>"
      ]
     },
     "metadata": {
      "needs_background": "light"
     },
     "output_type": "display_data"
    }
   ],
   "source": [
    "sns.countplot(x='chromosome', data=sig_genes_up_df)"
   ]
  },
  {
   "cell_type": "code",
   "execution_count": 29,
   "metadata": {},
   "outputs": [],
   "source": [
    "sig_genes_down_df = chromosomes[chromosomes.gene.isin(sig_genes_down)]"
   ]
  },
  {
   "cell_type": "code",
   "execution_count": 30,
   "metadata": {},
   "outputs": [
    {
     "name": "stdout",
     "output_type": "stream",
     "text": [
      "['AMELY', 'BPY2', 'BPY2B', 'BPY2C', 'CDY1', 'CDY1B', 'CDY2A', 'CDY2B', 'DAZ1', 'DAZ2', 'DAZ3', 'DAZ4', 'DDX3Y', 'EIF1AY', 'HSFY1', 'HSFY2', 'KDM5D', 'NLGN4Y', 'PCDH11Y', 'PRORY', 'PRY', 'PRY2', 'RBMY1A1', 'RBMY1B', 'RBMY1D', 'RBMY1E', 'RBMY1F', 'RBMY1J', 'RPS4Y1', 'RPS4Y2', 'SRY', 'TBL1Y', 'TGIF2LY', 'TMSB4Y', 'TSPY1', 'TSPY10', 'TSPY2', 'TSPY3', 'TSPY4', 'TSPY8', 'USP9Y', 'UTY', 'VCY', 'VCY1B', 'ZFY', 'A4GALT', 'ABCC2', 'ABCC4', 'ABCD4', 'ABHD12B', 'ABHD13', 'ABHD4', 'ABRACL', 'ACADSB', 'ACAT2', 'ACER2', 'ACIN1', 'ACO1', 'ACO2', 'ACOT1', 'ACOT2', 'ACOT4', 'ACOT6', 'ACR', 'ACSL5', 'ACTN1', 'ACTR10', 'ACTR1A', 'ACYP1', 'ADAM20', 'ADAM21', 'ADAMTSL1', 'ADAT2', 'ADCK1', 'ADCY4', 'ADD3', 'ADGB', 'ADGRG6', 'ADIRF', 'ADK', 'ADM2', 'ADORA2A', 'ADRA2A', 'ADRB1', 'ADSL', 'ADSSL1', 'AFAP1L2', 'AFDN', 'AGAP5', 'AGPAT4', 'AHI1', 'AHNAK2', 'AHSA1', 'AIG1', 'AJUBA', 'AK3', 'AK7', 'AK9', 'AKAP11', 'AKAP5', 'AKAP6', 'AKAP7', 'AKT1', 'AL359736.1', 'ALDH18A1', 'ALDH6A1', 'ALDH8A1', 'ALG11', 'ALG12', 'ALG5', 'ALKBH1', 'ALOX5AP', 'AMD1', 'AMER2', 'AMN', 'ANAPC16', 'ANG', 'ANGEL1', 'ANKRD1', 'ANKRD2', 'ANKRD54', 'ANKRD9', 'ANXA7', 'AP1B1', 'AP1G2', 'AP3M1', 'AP4S1', 'AP5M1', 'APEX1', 'APOBEC3A', 'APOBEC3B', 'APOBEC3C', 'APOBEC3D', 'APOBEC3F', 'APOBEC3G', 'APOBEC3H', 'APOL1', 'APOL2', 'APOL3', 'APOL4', 'APOL5', 'APOL6', 'APOPT1', 'APTX', 'AREL1', 'ARF6', 'ARFGAP3', 'ARFGEF3', 'ARG1', 'ARG2', 'ARGLU1', 'ARHGAP18', 'ARHGAP19', 'ARHGAP5', 'ARHGAP8', 'ARHGEF40', 'ARID1B', 'ARID3C', 'ARID4A', 'ARL11', 'ARL3', 'ARMC2', 'ARMS2', 'ARMT1', 'ARSA', 'AS3MT', 'ASB2', 'ASCC1', 'ASCC2', 'ASCC3', 'ASF1A', 'ASPG', 'ATAD1', 'ATE1', 'ATF4', 'ATG14', 'ATG2B', 'ATG5', 'ATL1', 'ATOH7', 'ATP12A', 'ATP5S', 'ATP6V1D', 'ATP6V1E1', 'ATP7B', 'ATP8A2', 'ATRNL1', 'ATXN10', 'ATXN3', 'B3GLCT', 'B4GALT1', 'BAG1', 'BAG3', 'BAG5', 'BAIAP2L2', 'BATF', 'BAZ1A', 'BBIP1', 'BCL11B', 'BCL2L13', 'BCL2L2', 'BCLAF1', 'BDKRB1', 'BDKRB2', 'BEGAIN', 'BEND3', 'BID', 'BIK', 'BIVM', 'BLNK', 'BLOC1S2', 'BMP4', 'BMPR1A', 'BNC2', 'BORA', 'BPIFC', 'BRCA2', 'BRD1', 'BRF1', 'BRMS1L', 'BTAF1', 'BTBD16', 'BTBD6', 'BTBD7', 'BTRC', 'BVES', 'C10orf120', 'C10orf55', 'C10orf62', 'C10orf82', 'C10orf88', 'C10orf95', 'C14orf119', 'C14orf132', 'C14orf177', 'C14orf178', 'C14orf180', 'C14orf28', 'C14orf39', 'C14orf93', 'C1QTNF6', 'C1QTNF9', 'C1QTNF9B', 'C22orf15', 'C22orf23', 'C22orf31', 'C22orf42', 'C22orf46', 'C6orf118', 'C6orf203', 'C6orf58', 'C9orf131', 'C9orf66', 'C9orf72', 'C9orf92', 'CAAP1', 'CAB39L', 'CABP7', 'CACNA1I', 'CACNG2', 'CACUL1', 'CALHM1', 'CALHM2', 'CALHM3', 'CALM1', 'CALY', 'CAMK2G', 'CARD10', 'CASP7', 'CATSPERB', 'CBLN3', 'CBWD1', 'CBX6', 'CBX7', 'CBY1', 'CC2D2B', 'CCAR1', 'CCDC117', 'CCDC122', 'CCDC134', 'CCDC157', 'CCDC168', 'CCDC169', 'CCDC169-SOHLH2', 'CCDC171', 'CCDC172', 'CCDC175', 'CCDC177', 'CCDC28A', 'CCDC70', 'CCDC85C', 'CCDC88C', 'CCNA1', 'CCNB1IP1', 'CCNC', 'CCNJ', 'CCNK', 'CCR6', 'CCT8L2', 'CD164', 'CD24', 'CD274', 'CDADC1', 'CDC37L1', 'CDC40', 'CDC42BPB', 'CDC42EP1', 'CDCA4', 'CDH23', 'CDH24', 'CDK19', 'CDK8', 'CDKL1', 'CDKN2A', 'CDKN2B', 'CDKN3', 'CDPF1', 'CDX2', 'CEBPE', 'CECR2', 'CELSR1', 'CENPJ', 'CENPM', 'CENPW', 'CEP128', 'CEP170B', 'CEP57L1', 'CEP85L', 'CER1', 'CERK', 'CFL2', 'CGRRF1', 'CHADL', 'CHCHD1', 'CHCHD10', 'CHD8', 'CHEK2', 'CHGA', 'CHKB', 'CHMP4A', 'CHMP5', 'CHST3', 'CHUK', 'CHURC1', 'CHURC1-FNTB', 'CIDEB', 'CINP', 'CITED2', 'CKAP2', 'CKB', 'CLDN10', 'CLDN20', 'CLEC14A', 'CLMN', 'CLN5', 'CLVS2', 'CLYBL', 'CMA1', 'CMTM5', 'CNKSR3', 'CNMD', 'CNNM1', 'CNNM2', 'CNTLN', 'CNTNAP3', 'COCH', 'COG3', 'COG6', 'COL10A1', 'COMMD6', 'COMTD1', 'COQ3', 'COQ6', 'COX15', 'COX16', 'COX8C', 'CPB2', 'CPEB3', 'CPN1', 'CPNE6', 'CPSF2', 'CPT1B', 'CRELD2', 'CRIP1', 'CRIP2', 'CRTAC1', 'CRYL1', 'CSDC2', 'CSF2RB', 'CSNK1A1L', 'CSNK1E', 'CTAGE9', 'CTBP2', 'CTGF', 'CTNNA3', 'CTSG', 'CUEDC2', 'CUTC', 'CUZD1', 'CWF19L1', 'CYB5R3', 'CYP17A1', 'CYP26A1', 'CYP26C1', 'CYP2C18', 'CYP2C8', 'CYP2C9', 'CYP2D6', 'CYP2E1', 'CYP46A1', 'CYSLTR2', 'CYTH4', 'DAAM1', 'DACH1', 'DACT1', 'DACT2', 'DAD1', 'DAOA', 'DCAF11', 'DCAF4', 'DCAF5', 'DCBLD1', 'DCLK1', 'DCLRE1A', 'DCT', 'DCTN3', 'DDHD1', 'DDIT4', 'DDO', 'DDX17', 'DDX21', 'DDX24', 'DDX50', 'DDX58', 'DEGS2', 'DENND4C', 'DENND6B', 'DEPDC5', 'DERL3', 'DESI1', 'DGKH', 'DHRS1', 'DHRS12', 'DHRS2', 'DHRS4', 'DHRS4L2', 'DHRS7', 'DIAPH3', 'DICER1', 'DIO2', 'DIO3', 'DIS3', 'DLEU7', 'DLGAP5', 'DLK1', 'DLST', 'DMBT1', 'DMC1', 'DMRT1', 'DMRT2', 'DMRT3', 'DMRTA1', 'DNA2', 'DNAAF2', 'DNAJA1', 'DNAJB12', 'DNAJB7', 'DNAJC12', 'DNAJC15', 'DNAJC3', 'DNAJC9', 'DNAL1', 'DNAL4', 'DNMBP', 'DNTT', 'DOCK8', 'DOCK9', 'DPCD', 'DPF3', 'DRG1', 'DSE', 'DTD2', 'DUPD1', 'DUSP13', 'DUSP18', 'DUSP5', 'DYNC1H1', 'DYNLT1', 'DZIP1', 'EAPP', 'EBPL', 'ECD', 'ECHDC1', 'ECHS1', 'ECT2L', 'EDDM3A', 'EDDM3B', 'EDNRB', 'EEF1AKMT1', 'EFCAB11', 'EFCAB6', 'EFNB2', 'EFS', 'EGLN3', 'EIF2B2', 'EIF2S1', 'EIF3A', 'EIF3D', 'EIF3L', 'EIF4ENIF1', 'EIF5', 'ELAVL2', 'ELF1', 'ELFN2', 'ELMSAN1', 'ELOVL3', 'EMC9', 'EMID1', 'EML1', 'EML5', 'EMX2', 'ENO4', 'ENOX1', 'ENPP1', 'ENPP3', 'ENTHD1', 'ENTPD1', 'ENTPD5', 'ENTPD7', 'EP300', 'EPB41L2', 'EPSTI1', 'EQTN', 'ERCC5', 'ERH', 'ERICH6B', 'ERLIN1', 'ERMP1', 'ESD', 'ESR1', 'ESR2', 'ESRRB', 'EVL', 'EWSR1', 'EXD2', 'EXOC3L4', 'EXOC5', 'EXOC6', 'EXOSC1', 'EXOSC8', 'EYA4', 'EZR', 'FABP7', 'FAM118A', 'FAM124A', 'FAM149B1', 'FAM155A', 'FAM160B1', 'FAM161B', 'FAM162B', 'FAM177A1', 'FAM181A', 'FAM184A', 'FAM19A5', 'FAM204A', 'FAM216B', 'FAM227A', 'FAM229B', 'FAM24A', 'FAM24B', 'FAM25A', 'FAM45A', 'FAM53B', 'FAM71D', 'FAM83F', 'FANCM', 'FARP1', 'FAXC', 'FBLN1', 'FBLN5', 'FBXL15', 'FBXL3', 'FBXL4', 'FBXO30', 'FBXO33', 'FBXO34', 'FBXO7', 'FBXW4', 'FCF1', 'FERMT2', 'FFAR4', 'FGF14', 'FGF8', 'FGF9', 'FGFBP3', 'FGFR1OP', 'FGFR2', 'FHL5', 'FIG4', 'FITM1', 'FKBP3', 'FLRT2', 'FLT1', 'FLT3', 'FLVCR2', 'FNDC1', 'FNDC3A', 'FNTB', 'FOCAD', 'FOS', 'FOXA1', 'FOXD4', 'FOXG1', 'FOXN3', 'FOXO1', 'FOXO3', 'FOXRED2', 'FRA10AC1', 'FRAT1', 'FRAT2', 'FREM1', 'FREM2', 'FRG2B', 'FRK', 'FRMD1', 'FRMD6', 'FRY', 'FSCB', 'FUCA2', 'FUOM', 'FUT11', 'FUT8', 'FUT9', 'FYN', 'G2E3', 'GAB4', 'GAL3ST1', 'GALC', 'GALNT16', 'GALR3', 'GALT', 'GAS2L1', 'GBF1', 'GCAT', 'GCH1', 'GEMIN2', 'GFRA1', 'GGA1', 'GGACT', 'GGT1', 'GJA1', 'GJA3', 'GJB2', 'GJB6', 'GJE1', 'GLDC', 'GLIS3', 'GLRX5', 'GLUD1', 'GMFB', 'GMPR2', 'GNAZ', 'GNG2', 'GNPNAT1', 'GOLGA5', 'GOLGA7B', 'GOPC', 'GOT1', 'GPALPP1', 'GPAM', 'GPATCH2L', 'GPC5', 'GPC6', 'GPHB5', 'GPHN', 'GPR12', 'GPR132', 'GPR135', 'GPR137C', 'GPR18', 'GPR180', 'GPR183', 'GPR31', 'GPR33', 'GPR6', 'GPR63', 'GPR65', 'GPR68', 'GPRC6A', 'GPX2', 'GRAMD4', 'GRAP2', 'GRID1', 'GRIK2', 'GRK5', 'GRM1', 'GSC', 'GSKIP', 'GSTZ1', 'GSX1', 'GTF2A1', 'GTF2F2', 'GTF2H5', 'GTF3A', 'GTF3C6', 'GTPBP1', 'GTSE1', 'GUCD1', 'GVQW2', 'GZMB', 'GZMH', 'H1F0', 'HABP2', 'HACD4', 'HACE1', 'HAUS4', 'HAUS6', 'HBS1L', 'HDAC10', 'HDAC2', 'HEATR4', 'HEATR5A', 'HEBP2', 'HECA', 'HECTD1', 'HECTD2', 'HELLS', 'HERC4', 'HHEX', 'HHIPL1', 'HIF1A', 'HIF1AN', 'HIVEP2', 'HK1', 'HKDC1', 'HMGB1', 'HMGXB4', 'HMOX1', 'HMX2', 'HMX3', 'HNRNPA1L2', 'HNRNPC', 'HNRNPH3', 'HOGA1', 'HOMEZ', 'HORMAD2', 'HPS1', 'HPS6', 'HPSE2', 'HS3ST5', 'HS6ST3', 'HSCB', 'HSF2', 'HSP90AA1', 'HSPA12A', 'HSPA2', 'HSPH1', 'HTR2A', 'HTR7', 'HTRA1', 'IDE', 'IFI27', 'IFI27L1', 'IFI27L2', 'IFNA1', 'IFNA10', 'IFNA13', 'IFNA14', 'IFNA16', 'IFNA17', 'IFNA2', 'IFNA21', 'IFNA4', 'IFNA5', 'IFNA6', 'IFNA7', 'IFNA8', 'IFNB1', 'IFNE', 'IFNGR1', 'IFNK', 'IFNW1', 'IFT27', 'IFT43', 'IFT74', 'IFT88', 'IGF2R', 'IGLL1', 'IKZF5', 'IL11RA', 'IL17D', 'IL17RA', 'IL17REL', 'IL20RA', 'IL22RA2', 'IL25', 'IL2RB', 'IL33', 'INA', 'INF2', 'INPP5F', 'INPP5J', 'INSL4', 'INSL6', 'INSM2', 'INTS6', 'IPCEF1', 'IPO4', 'IPO5', 'IRF2BPL', 'IRF9', 'IRS2', 'ISCA2', 'ISM2', 'ISX', 'ITGBL1', 'ITM2B', 'ITPK1', 'IZUMO3', 'JAG2', 'JAK2', 'JDP2', 'JKAMP', 'JMJD1C', 'JOSD1', 'JPH4', 'KANK1', 'KAT6B', 'KATNAL1', 'KAZALD1', 'KBTBD6', 'KBTBD7', 'KCNH5', 'KCNIP2', 'KCNJ4', 'KCNK10', 'KCNK13', 'KCNK18', 'KCNRG', 'KCNV2', 'KCTD12', 'KCTD17', 'KCTD4', 'KDELC1', 'KDELR3', 'KDM4C', 'KHNYN', 'KIAA0391', 'KIAA0408', 'KIAA0586', 'KIAA0930', 'KIAA2026', 'KIF11', 'KIF20B', 'KIF25', 'KIF26A', 'KL', 'KLC1', 'KLF12', 'KLF5', 'KLHDC1', 'KLHDC2', 'KLHDC7B', 'KLHL1', 'KLHL28', 'KLHL32', 'KLHL33', 'KLHL9', 'KLLN', 'KNDC1', 'KPNA3', 'KPNA5', 'KREMEN1', 'KTN1', 'L2HGDH', 'L3HYPDH', 'L3MBTL2', 'L3MBTL3', 'LACC1', 'LAMA2', 'LAMA4', 'LATS2', 'LBX1', 'LCOR', 'LCP1', 'LDB1', 'LDB3', 'LGALS1', 'LGALS2', 'LGALS3', 'LGI1', 'LGMN', 'LIF', 'LIG4', 'LIMK2', 'LIN28B', 'LIN52', 'LINGO2', 'LMF2', 'LMO7', 'LNX2', 'LOXL4', 'LPA', 'LPAR6', 'LRCH1', 'LRFN5', 'LRP10', 'LRR1', 'LRRC19', 'LRRC63', 'LRRC9', 'LRRTM3', 'LTB4R', 'LTB4R2', 'LTBP2', 'LURAP1L', 'LZTS2', 'MAB21L1', 'MAFF', 'MAN1A1', 'MANEA', 'MAP3K4', 'MAP3K5', 'MAP3K9', 'MAP4K5', 'MAP7', 'MAPK11', 'MAPK12', 'MAPK1IP1L', 'MAPK8IP2', 'MARCH5', 'MARCKS', 'MARK3', 'MARVELD1', 'MAS1', 'MAX', 'MB', 'MBIP', 'MBNL2', 'MCAT', 'MCHR1', 'MCHR2', 'MCM5', 'MCM9', 'MCMBP', 'MCU', 'MDGA2', 'MDP1', 'MED23', 'MED4', 'MED6', 'MEDAG', 'MEI1', 'METTL17', 'METTL21C', 'METTL24', 'METTL3', 'MFNG', 'MGAT2', 'MGAT3', 'MIA2', 'MICAL1', 'MICALL1', 'MICU1', 'MICU2', 'MIF', 'MINPP1', 'MIOX', 'MIPEP', 'MIPOL1', 'MIS18BP1', 'MLANA', 'MLC1', 'MLH3', 'MLLT3', 'MLNR', 'MMP11', 'MMP14', 'MMRN2', 'MMS19', 'MMS22L', 'MNAT1', 'MOAP1', 'MOB3B', 'MOK', 'MORC2', 'MORN4', 'MOV10L1', 'MOXD1', 'MPC1', 'MPDZ', 'MPHOSPH8', 'MPP5', 'MPPED1', 'MPST', 'MRPL18', 'MRPL43', 'MRPL52', 'MRPL57', 'MRPS16', 'MRPS31', 'MSS51', 'MTA1', 'MTAP', 'MTFP1', 'MTFR2', 'MTG1', 'MTHFD1', 'MTIF3', 'MTMR3', 'MTMR6', 'MTRF1', 'MTUS2', 'MXI1', 'MYB', 'MYCBP2', 'MYCT1', 'MYH6', 'MYH7', 'MYH9', 'MYO16', 'MYOF', 'MYOZ1', 'MYPN', 'MZT1', 'N4BP2L1', 'N4BP2L2', 'NAA16', 'NAA30', 'NAGA', 'NALCN', 'NANOS1', 'NBEA', 'NCAPH2', 'NCF4', 'NDFIP2', 'NDRG2', 'NDST2', 'NDUFA6', 'NDUFAF4', 'NDUFB1', 'NDUFB6', 'NDUFB8', 'NEDD8', 'NEFH', 'NEK3', 'NEK5', 'NEK9', 'NEMF', 'NEURL1', 'NF2', 'NFAM1', 'NFATC4', 'NFIB', 'NFKB2', 'NFKBIA', 'NGB', 'NGDN', 'NHLRC2', 'NHLRC3', 'NHSL1', 'NID2', 'NIN', 'NIPSNAP1', 'NKAIN2', 'NKX2-1', 'NKX2-3', 'NKX2-8', 'NMBR', 'NOC3L', 'NOL12', 'NOLC1', 'NOP9', 'NOVA1', 'NOX3', 'NOXRED1', 'NPAS3', 'NPC2', 'NPM3', 'NPTXR', 'NR2E1', 'NRAP', 'NRBF2', 'NRDE2', 'NRL', 'NRXN3', 'NSMCE4A', 'NT5C2', 'NT5DC1', 'NUBPL', 'NUDT13', 'NUDT14', 'NUDT15', 'NUFIP1', 'NUMB', 'NUP50', 'NUP58', 'NUS1', 'NUTM2A', 'NUTM2B', 'NUTM2D', 'NYNRIN', 'ODF3B', 'OIT3', 'OLFM4', 'OLIG3', 'OPALIN', 'OPN4', 'OPRM1', 'OR10G2', 'OR10G3', 'OR11G2', 'OR11H1', 'OR11H12', 'OR11H2', 'OR11H4', 'OR11H6', 'OR2A4', 'OR4E2', 'OR4K1', 'OR4K13', 'OR4K14', 'OR4K15', 'OR4K17', 'OR4K2', 'OR4K5', 'OR4L1', 'OR4M1', 'OR4N2', 'OR4N5', 'OR4Q3', 'OR5AU1', 'OR6J1', 'OR6S1', 'OSBP2', 'OSGEP', 'OSM', 'OSTM1', 'OTUB2', 'OTX2', 'OXA1L', 'OXGR1', 'P4HA1', 'PABPC3', 'PABPN1', 'PACRG', 'PACS2', 'PACSIN2', 'PAN3', 'PANK1', 'PANX2', 'PAOX', 'PAPLN', 'PAPOLA', 'PAPSS2', 'PARP2', 'PARP4', 'PARVB', 'PARVG', 'PATZ1', 'PAX2', 'PAX9', 'PBLD', 'PBOV1', 'PCCA', 'PCDH17', 'PCDH20', 'PCDH8', 'PCDH9', 'PCGF5', 'PCGF6', 'PCK2', 'PDCD11', 'PDCD1LG2', 'PDCD4', 'PDE10A', 'PDE6C', 'PDE7B', 'PDGFB', 'PDLIM1', 'PDS5B', 'PDSS2', 'PDX1', 'PDXP', 'PDZD7', 'PDZD8', 'PELI2', 'PERP', 'PES1', 'PEX3', 'PEX7', 'PGAM1', 'PGF', 'PHACTR2', 'PHF11', 'PHF21B', 'PHF5A', 'PI4K2A', 'PIBF1', 'PICK1', 'PIGH', 'PIK3AP1', 'PIK3IP1', 'PIM3', 'PISD', 'PITX3', 'PIWIL3', 'PKD2L1', 'PKDREJ', 'PKIB', 'PLA2G12B', 'PLA2G3', 'PLA2G6', 'PLAA', 'PLAU', 'PLCE1', 'PLD4', 'PLEK2', 'PLEKHA1', 'PLEKHD1', 'PLEKHG1', 'PLEKHG3', 'PLEKHH1', 'PLEKHS1', 'PLG', 'PLGRKT', 'PLIN2', 'PLN', 'PLPP6', 'PLXNB2', 'PMM1', 'PNISR', 'PNLDC1', 'PNLIP', 'PNLIPRP1', 'PNLIPRP3', 'PNMA1', 'PNN', 'PNP', 'PNPLA3', 'PNPLA5', 'POLDIP3', 'POLE2', 'POLL', 'POLR1D', 'POLR2F', 'POLR3H', 'POMP', 'POMT2', 'POPDC3', 'POSTN', 'POTEG', 'POTEH', 'POTEM', 'POU3F2', 'POU4F1', 'PPARA', 'PPIL6', 'PPM1A', 'PPP1R13B', 'PPP1R36', 'PPP1R3C', 'PPP1R3E', 'PPP2R3C', 'PPP2R5C', 'PPP2R5E', 'PPP3CB', 'PPP4R4', 'PPP6R2', 'PPRC1', 'PRAP1', 'PRDM1', 'PRDM13', 'PRDX3', 'PREP', 'PRIMA1', 'PRKCH', 'PRKD1', 'PRMT5', 'PROSER1', 'PROX2', 'PRPF39', 'PRR14L', 'PRR18', 'PRR20A', 'PRR20B', 'PRR20C', 'PRR20D', 'PRR20E', 'PRR5', 'PSAP', 'PSD', 'PSEN1', 'PSIP1', 'PSMA3', 'PSMA6', 'PSMB11', 'PSMB5', 'PSMC1', 'PSMC6', 'PSME1', 'PSME2', 'PSPC1', 'PSTK', 'PTEN', 'PTGDR', 'PTGER2', 'PTGR2', 'PTPN21', 'PTPRD', 'PTPRK', 'PUM3', 'PVALB', 'PYGL', 'PYROXD2', 'QKI', 'QRSL1', 'RAB11FIP2', 'RAB15', 'RAB2B', 'RAB32', 'RABGGTA', 'RABL2B', 'RAC2', 'RAD51B', 'RALGAPA1', 'RANBP6', 'RANGAP1', 'RAP2A', 'RASD2', 'RASL10A', 'RASL11A', 'RB1', 'RBFOX2', 'RBM20', 'RBM23', 'RBM25', 'RBM26', 'RBP4', 'RBX1', 'RCBTB1', 'RCBTB2', 'RCL1', 'RCOR1', 'RD3L', 'RDH11', 'RDH12', 'REC8', 'REEP3', 'REM2', 'REPS1', 'REV3L', 'RFC3', 'RFPL1', 'RFPL2', 'RFPL3', 'RFPL4B', 'RFX3', 'RFX6', 'RFXAP', 'RGCC', 'RGL4', 'RGS10', 'RGS17', 'RGS6', 'RHBDD3', 'RHOJ', 'RIBC2', 'RIC1', 'RIN3', 'RIPK3', 'RLN1', 'RLN2', 'RMND1', 'RNASE1', 'RNASE10', 'RNASE11', 'RNASE12', 'RNASE13', 'RNASE2', 'RNASE3', 'RNASE4', 'RNASE6', 'RNASE7', 'RNASE8', 'RNASE9', 'RNASEH2B', 'RNASET2', 'RNF113B', 'RNF146', 'RNF17', 'RNF185', 'RNF215', 'RNF217', 'RNF219', 'RNF31', 'RNF38', 'RNF6', 'RNLS', 'ROS1', 'RPEL1', 'RPF2', 'RPGRIP1', 'RPL10L', 'RPL21', 'RPL3', 'RPL36AL', 'RPP25L', 'RPP30', 'RPS12', 'RPS19BP1', 'RPS29', 'RPS6', 'RPS6KA2', 'RPS6KA5', 'RPS6KL1', 'RRAGA', 'RRP12', 'RRP7A', 'RSPH3', 'RSPH4A', 'RSPO3', 'RTCB', 'RTL1', 'RTN1', 'RTN4IP1', 'RUBCNL', 'RUFY2', 'RWDD1', 'RXFP2', 'SACS', 'SALL2', 'SAMD15', 'SAMD3', 'SAMD4A', 'SAMD8', 'SAMM50', 'SAP18', 'SAV1', 'SAXO1', 'SBF1', 'SCAF8', 'SCD', 'SCEL', 'SCFD1', 'SCML4', 'SCO2', 'SCUBE1', 'SDR39U1', 'SEC14L2', 'SEC14L3', 'SEC14L4', 'SEC14L6', 'SEC23A', 'SEC23IP', 'SEC24C', 'SEC31B', 'SEC63', 'SEL1L', 'SEMA4G', 'SEPT3', 'SERAC1', 'SERHL2', 'SERINC1', 'SERP2', 'SERPINA1', 'SERPINA10', 'SERPINA11', 'SERPINA12', 'SERPINA3', 'SERPINA4', 'SERPINA5', 'SERPINA6', 'SERPINA9', 'SERPINE3', 'SERTM1', 'SESN1', 'SETD3', 'SETDB2', 'SF3A1', 'SFI1', 'SFRP5', 'SFT2D1', 'SFTA3', 'SFXN2', 'SFXN3', 'SFXN4', 'SGCG', 'SGK1', 'SGPP1', 'SGSM3', 'SH3BP1', 'SH3GL2', 'SH3PXD2A', 'SHANK3', 'SHISA2', 'SHISA8', 'SHOC2', 'SHPRH', 'SIAH3', 'SIGMAR1', 'SIM1', 'SIPA1L1', 'SIRT1', 'SIVA1', 'SIX1', 'SIX4', 'SIX6', 'SKA3', 'SLAIN1', 'SLC10A1', 'SLC10A2', 'SLC15A1', 'SLC16A10', 'SLC16A12', 'SLC16A8', 'SLC18A2', 'SLC18B1', 'SLC1A1', 'SLC22A1', 'SLC22A16', 'SLC22A17', 'SLC22A2', 'SLC22A3', 'SLC24A2', 'SLC24A4', 'SLC25A15', 'SLC25A16', 'SLC25A17', 'SLC25A18', 'SLC25A21', 'SLC25A28', 'SLC25A30', 'SLC2A11', 'SLC2A12', 'SLC35D3', 'SLC35E4', 'SLC35F1', 'SLC35F4', 'SLC35G1', 'SLC38A6', 'SLC39A2', 'SLC39A9', 'SLC46A3', 'SLC5A1', 'SLC5A4', 'SLC7A1', 'SLC7A7', 'SLC7A8', 'SLC8A3', 'SLIRP', 'SLIT1', 'SLITRK1', 'SLITRK5', 'SLITRK6', 'SLK', 'SMAD9', 'SMARCA2', 'SMARCB1', 'SMC1B', 'SMC3', 'SMDT1', 'SMIM2', 'SMLR1', 'SMNDC1', 'SMOC1', 'SMOC2', 'SMPD2', 'SMPDL3A', 'SMTN', 'SMU1', 'SNAPC1', 'SNAPC3', 'SNCG', 'SNRPD3', 'SNW1', 'SNX3', 'SNX6', 'SNX9', 'SOBP', 'SOCS4', 'SOD2', 'SOGA3', 'SOHLH2', 'SORCS1', 'SORCS3', 'SOS2', 'SOX10', 'SOX21', 'SPATA13', 'SPATA31A1', 'SPATA6L', 'SPATA7', 'SPECC1L', 'SPERT', 'SPINK4', 'SPOCK2', 'SPRN', 'SPRY2', 'SPRYD7', 'SPTB', 'SPTLC2', 'SPTSSA', 'SREBF2', 'SRGN', 'SRP54', 'SRSF5', 'SSTR1', 'SSTR3', 'ST13', 'STARD13', 'STK24', 'STOML3', 'STON2', 'STOX1', 'STRN3', 'STX7', 'STXBP6', 'STYX', 'SUCLA2', 'SUFU', 'SUGT1', 'SULT4A1', 'SUN2', 'SUPT16H', 'SUPT20H', 'SUPV3L1', 'SYCE1', 'SYCE3', 'SYN3', 'SYNDIG1L', 'SYNE1', 'SYNE2', 'SYNE3', 'SYNGR1', 'SYNJ2', 'SYNJ2BP', 'SYNJ2BP-COX16', 'SYNPO2L', 'SYT16', 'SYTL3', 'TAAR1', 'TAAR2', 'TAAR5', 'TAAR6', 'TAAR8', 'TAAR9', 'TAB1', 'TACC2', 'TACR2', 'TAF1L', 'TAF5', 'TAGAP', 'TBC1D10A', 'TBC1D12', 'TBC1D22A', 'TBC1D32', 'TBC1D4', 'TBPL1', 'TBPL2', 'TC2N', 'TCF20', 'TCF21', 'TCF7L2', 'TCL1A', 'TCL1B', 'TCN2', 'TCP1', 'TCP10', 'TCP10L2', 'TCTN3', 'TDP1', 'TDRD1', 'TDRD3', 'TDRD9', 'TECPR2', 'TECTB', 'TEF', 'TEK', 'TEP1', 'TET1', 'TEX22', 'TEX26', 'TEX29', 'TEX30', 'TEX33', 'TFB1M', 'TGDS', 'TGFB3', 'TGM1', 'THBS2', 'THEMIS', 'THOC5', 'THSD1', 'THTPA', 'TIAL1', 'TIAM2', 'TIMM9', 'TIMP3', 'TINF2', 'TLL2', 'TLX1', 'TM9SF1', 'TM9SF2', 'TM9SF3', 'TMED10', 'TMED8', 'TMEM121', 'TMEM179', 'TMEM181', 'TMEM184B', 'TMEM200A', 'TMEM215', 'TMEM229B', 'TMEM242', 'TMEM244', 'TMEM251', 'TMEM253', 'TMEM254', 'TMEM260', 'TMEM30B', 'TMEM63C', 'TMPRSS6', 'TMTC4', 'TMX1', 'TNFAIP2', 'TNFAIP3', 'TNFRSF13C', 'TNFRSF19', 'TNFSF11', 'TNFSF13B', 'TNKS2', 'TNRC6B', 'TOB2', 'TOM1', 'TOMM20L', 'TOMM22', 'TOPORS', 'TOX4', 'TPD52L3', 'TPP2', 'TPPP2', 'TPT1', 'TPTE2', 'TRABD', 'TRAF3', 'TRAF3IP2', 'TRAPPC3L', 'TRAPPC6B', 'TRDN', 'TRIM13', 'TRIM8', 'TRIM9', 'TRIOBP', 'TRIP11', 'TRMT11', 'TRMT5', 'TRMT61A', 'TRMU', 'TRPC4', 'TRUB1', 'TSC22D1', 'TSHR', 'TSPAN15', 'TSPO', 'TSPYL1', 'TSPYL4', 'TSSK4', 'TST', 'TSTD3', 'TTC38', 'TTC39B', 'TTC5', 'TTC7B', 'TTC8', 'TTC9', 'TTLL1', 'TTLL12', 'TTLL2', 'TTLL5', 'TUBA3C', 'TUBE1', 'TUBGCP6', 'TULP4', 'TUNAR', 'TUSC1', 'TXLNB', 'TXN2', 'TXNDC16', 'TYMP', 'TYRP1', 'UBAC2', 'UBL3', 'UBR7', 'UBTD1', 'UCHL3', 'UFL1', 'UFM1', 'UGGT2', 'UHRF2', 'UNC79', 'UNC93A', 'UPB1', 'UPK3A', 'UQCR10', 'URAD', 'USP12', 'USP45', 'USP54', 'USPL1', 'UTP14C', 'VASH1', 'VAX1', 'VCL', 'VCP', 'VDAC2', 'VGLL2', 'VIP', 'VIPAS39', 'VLDLR', 'VNN1', 'VNN2', 'VNN3', 'VPREB3', 'VPS26A', 'VPS36', 'VRK1', 'VRTN', 'VSX2', 'VTA1', 'VTI1A', 'VTI1B', 'VWA2', 'VWA8', 'WARS', 'WASF1', 'WASF3', 'WBP1L', 'WBP2NL', 'WBP4', 'WDFY2', 'WDHD1', 'WDR11', 'WDR20', 'WDR25', 'WDR89', 'WISP3', 'WNT7B', 'WNT8B', 'WTAP', 'XBP1', 'XKR3', 'XPNPEP1', 'XPNPEP3', 'XPO4', 'XRCC3', 'XRCC6', 'YLPM1', 'YWHAH', 'YY1', 'ZAR1L', 'ZBED4', 'ZBTB1', 'ZBTB24', 'ZBTB25', 'ZBTB42', 'ZC2HC1C', 'ZC3H13', 'ZC3H14', 'ZC3H7B', 'ZDHHC14', 'ZDHHC16', 'ZDHHC20', 'ZDHHC21', 'ZDHHC22', 'ZDHHC6', 'ZFHX2', 'ZFP36L1', 'ZFYVE1', 'ZFYVE21', 'ZFYVE26', 'ZFYVE27', 'ZIC2', 'ZIC5', 'ZMAT5', 'ZMYM2', 'ZMYM5', 'ZNF219', 'ZNF280A', 'ZNF280B', 'ZNF410', 'ZNF503', 'ZNF70', 'ZNF839', 'ZNRF3', 'ZRANB1', 'ZSWIM8', '7SK', 'AADACL3', 'AADACL4', 'AADAT', 'AAED1', 'AAGAB', 'AARS', 'ABCA1', 'ABCA7', 'ABCE1', 'ABCG2', 'ABCG4', 'ABHD14A', 'ABHD14B', 'ABHD17A', 'ABHD17B', 'ABHD17C', 'ABHD2', 'ABHD3', 'ABHD5', 'ABHD6', 'ABL1', 'ABLIM2', 'ABR', 'ACAA2', 'ACAD8', 'ACADVL', 'ACAN', 'ACAP1', 'ACAP3', 'ACAT1', 'ACD', 'ACKR2', 'ACOT12', 'ACOT7', 'ACOX2', 'ACOX3', 'ACRV1', 'ACSBG1', 'ACSF3', 'ACSL1', 'ACSL6', 'ACTBL2', 'ACTC1', 'ACTL7A', 'ACTL7B', 'ACTL8', 'ACTL9', 'ACTR8', 'ACTRT2', 'ACVR2B', 'ACY1', 'ADAD2', 'ADAL', 'ADAM10', 'ADAM18', 'ADAM2', 'ADAM28', 'ADAM29', 'ADAM32', 'ADAM7', 'ADAM9', 'ADAMDEC1', 'ADAMTS1', 'ADAMTS10', 'ADAMTS13', 'ADAMTS15', 'ADAMTS19', 'ADAMTS2', 'ADAMTS5', 'ADAMTS6', 'ADAMTS7', 'ADAMTS8', 'ADAMTS9', 'ADAMTSL2', 'ADAMTSL3', 'ADAMTSL5', 'ADAT3', 'ADCYAP1', 'ADD1', 'ADM', 'ADNP2', 'ADORA2B', 'ADORA3', 'ADPGK', 'ADPRHL1', 'ADPRM', 'ADRA1A', 'ADRA2C', 'ADRB3', 'AEN', 'AES', 'AFAP1', 'AFF1', 'AFF4', 'AGA', 'AGBL1', 'AGGF1', 'AGL', 'AGMAT', 'AGPAT2', 'AGPAT5', 'AGRN', 'AGRP', 'AGTPBP1', 'AGTRAP', 'AHCYL1', 'AHDC1', 'AIF1L', 'AIFM3', 'AIMP1', 'AIPL1', 'AJAP1', 'AK1', 'AK2', 'AK8', 'AKAP10', 'AKAP12', 'AKAP13', 'AKAP2', 'AKIP1', 'AKNA', 'AKNAD1', 'AKR7A2', 'AKR7A3', 'AKT1S1', 'ALAD', 'ALAS1', 'ALDH1A1', 'ALDH1A2', 'ALDH1B1', 'ALDH3A1', 'ALDH3A2', 'ALDH4A1', 'ALDH7A1', 'ALDOB', 'ALG2', 'ALG9', 'ALKBH5', 'ALKBH8', 'ALOX12', 'ALOX12B', 'ALOX15', 'ALOX15B', 'ALOXE3', 'ALPK1', 'ALPK2', 'ALPK3', 'ALPL', 'ALS2CL', 'ALX3', 'AMBN', 'AMBP', 'AMH', 'AMIGO1', 'AMIGO3', 'AMPD1', 'AMPD2', 'AMPD3', 'AMT', 'AMY1A', 'AMY1B', 'AMY1C', 'AMY2A', 'AMY2B', 'ANAPC10', 'ANAPC2', 'ANAPC4', 'ANGPT2', 'ANGPTL2', 'ANGPTL7', 'ANK2', 'ANKDD1A', 'ANKDD1B', 'ANKFY1', 'ANKHD1', 'ANKK1', 'ANKRA2', 'ANKRD10', 'ANKRD11', 'ANKRD12', 'ANKRD18A', 'ANKRD18B', 'ANKRD20A4', 'ANKRD24', 'ANKRD30B', 'ANKRD31', 'ANKRD34B', 'ANKRD34C', 'ANKRD37', 'ANKRD50', 'ANKRD55', 'ANKRD6', 'ANKRD63', 'ANKRD65', 'ANKS6', 'ANO10', 'ANP32A', 'ANP32B', 'ANPEP', 'ANXA1', 'ANXA10', 'ANXA2', 'AP1AR', 'AP1G1', 'AP2A2', 'AP2S1', 'AP3B1', 'AP3B2', 'AP3D1', 'AP3S1', 'AP3S2', 'AP4B1', 'AP4E1', 'APBA1', 'APBA2', 'APBA3', 'APBB1', 'APBB2', 'APBB3', 'APC', 'APC2', 'APEH', 'APH1B', 'APLP2', 'APOA1', 'APOA4', 'APOA5', 'APOC3', 'APP', 'APPL1', 'APRT', 'AQP3', 'AQP4', 'AQP7', 'AQP9', 'AQR', 'ARAP2', 'ARAP3', 'ARCN1', 'ARF4', 'ARFIP1', 'ARFIP2', 'ARHGAP10', 'ARHGAP11A', 'ARHGAP11B', 'ARHGAP20', 'ARHGAP26', 'ARHGAP28', 'ARHGAP32', 'ARHGAP35', 'ARHGAP44', 'ARHGEF10', 'ARHGEF12', 'ARHGEF15', 'ARHGEF16', 'ARHGEF18', 'ARHGEF19', 'ARHGEF28', 'ARHGEF3', 'ARHGEF37', 'ARHGEF38', 'ARHGEF39', 'ARHGEF7', 'ARID1A', 'ARID3A', 'ARID3B', 'ARIH1', 'ARIH2', 'ARIH2OS', 'ARL10', 'ARL14EPL', 'ARL15', 'ARL6IP5', 'ARNT2', 'ARPC5L', 'ARPP19', 'ARRB2', 'ARRDC1', 'ARRDC3', 'ARRDC5', 'ARSB', 'ARSJ', 'ARSK', 'ART1', 'ART3', 'ART5', 'ARVCF', 'ASAH1', 'ASAP3', 'ASB14', 'ASB5', 'ASB6', 'ASCL2', 'ASCL3', 'ASGR1', 'ASGR2', 'ASH2L', 'ASIC5', 'ASPA', 'ASPHD2', 'ASPN', 'ASS1', 'ASXL3', 'ATAD3A', 'ATAD3B', 'ATAD3C', 'ATCAY', 'ATF5', 'ATG10', 'ATG12', 'ATM', 'ATMIN', 'ATP10A', 'ATP10D', 'ATP11A', 'ATP13A2', 'ATP1B2', 'ATP2A3', 'ATP2C2', 'ATP4B', 'ATP5A1', 'ATP5D', 'ATP5L2', 'ATP6AP1L', 'ATP6V0D1', 'ATP6V0E1', 'ATP6V1B2', 'ATP6V1G1', 'ATP8A1', 'ATP8B1', 'ATP8B3', 'ATP8B4', 'ATP9B', 'ATPAF2', 'ATRIP', 'ATXN1L', 'ATXN7', 'ATXN7L2', 'AUH', 'AUNIP', 'AURKAIP1', 'AURKB', 'AVEN', 'AZU1', 'B2M', 'B3GALT6', 'B3GAT1', 'B3GNT9', 'B4GALNT4', 'B4GALT6', 'B9D1', 'BAAT', 'BACE1', 'BACH2', 'BAG4', 'BAHD1', 'BANP', 'BAP1', 'BARHL1', 'BARX1', 'BARX2', 'BBC3', 'BBS4', 'BBS7', 'BCAR1', 'BCAR3', 'BCAS2', 'BCL2', 'BCL2A1', 'BCL2L10', 'BCL2L15', 'BCL6B', 'BCL9L', 'BCR', 'BDH2', 'BDP1', 'BEND4', 'BET1L', 'BHLHA9', 'BHMT', 'BHMT2', 'BICD2', 'BIN3', 'BLID', 'BLK', 'BLM', 'BLOC1S4', 'BLOC1S6', 'BMF', 'BMP1', 'BNC1', 'BNIP1', 'BNIP2', 'BNIP3L', 'BOD1', 'BOD1L1', 'BOD1L2', 'BRD3', 'BRD8', 'BRDT', 'BRF2', 'BRSK2', 'BSDC1', 'BSG', 'BSN', 'BSPH1', 'BSPRY', 'BST1', 'BSX', 'BTBD1', 'BTBD2', 'BTBD8', 'BTF3', 'BTG4', 'BTNL3', 'BTNL8', 'BTNL9', 'BUB1B', 'BUD13', 'C11orf1', 'C11orf16', 'C11orf21', 'C11orf40', 'C11orf42', 'C11orf45', 'C11orf52', 'C11orf53', 'C11orf65', 'C11orf71', 'C11orf87', 'C11orf88', 'C14orf1', 'C14orf105', 'C14orf159', 'C14orf166', 'C14orf2', 'C14orf37', 'C14orf79', 'C14orf80', 'C15orf40', 'C15orf41', 'C15orf48', 'C15orf52', 'C15orf53', 'C15orf57', 'C15orf59', 'C15orf61', 'C15orf62', 'C15orf65', 'C16orf46', 'C16orf70', 'C16orf74', 'C16orf86', 'C16orf95', 'C17orf100', 'C17orf107', 'C17orf49', 'C17orf51', 'C17orf74', 'C17orf97', 'C18orf21', 'C18orf25', 'C18orf32', 'C18orf54', 'C18orf63', 'C18orf8', 'C19orf24', 'C19orf25', 'C19orf35', 'C19orf45', 'C19orf70', 'C19orf71', 'C1QA', 'C1QB', 'C1QBP', 'C1QC', 'C1QTNF5', 'C1QTNF7', 'C1orf127', 'C1orf146', 'C1orf158', 'C1orf159', 'C1orf162', 'C1orf174', 'C1orf194', 'C22orf29', 'C22orf39', 'C2CD2L', 'C2CD4A', 'C2CD4B', 'C2CD4C', 'C3', 'C3orf14', 'C3orf18', 'C3orf49', 'C3orf62', 'C3orf67', 'C3orf84', 'C4orf19', 'C4orf45', 'C4orf46', 'C4orf47', 'C4orf48', 'C5AR1', 'C5AR2', 'C5orf15', 'C5orf24', 'C5orf30', 'C5orf47', 'C5orf52', 'C5orf60', 'C5orf63', 'C6orf120', 'C8G', 'C8orf48', 'C8orf58', 'C8orf74', 'C8orf86', 'C9orf116', 'C9orf129', 'C9orf135', 'C9orf152', 'C9orf153', 'C9orf16', 'C9orf24', 'C9orf3', 'C9orf40', 'C9orf43', 'C9orf50', 'C9orf57', 'C9orf64', 'C9orf78', 'C9orf84', 'C9orf85', 'CA12', 'CA5A', 'CA6', 'CA9', 'CABIN1', 'CABLES1', 'CABP5', 'CABYR', 'CACFD1', 'CACNA1D', 'CACNA2D2', 'CACNA2D3', 'CACTIN', 'CADM1', 'CADM2', 'CADPS', 'CALM3', 'CALML4', 'CALML6', 'CAMK2D', 'CAMK2N1', 'CAMK4', 'CAMKK1', 'CAMKV', 'CAMLG', 'CAMP', 'CAMSAP1', 'CAMSAP3', 'CAMTA1', 'CAMTA2', 'CANX', 'CAPN3', 'CAPS', 'CAPZA1', 'CAPZB', 'CARD8', 'CARD9', 'CARS', 'CARS2', 'CARTPT', 'CASC4', 'CASP3', 'CASP6', 'CASP9', 'CAST', 'CASZ1', 'CATSPER2', 'CATSPER3', 'CATSPER4', 'CATSPERD', 'CBFA2T3', 'CBFB', 'CBL', 'CBLN2', 'CBR4', 'CBY3', 'CC2D2A', 'CCBE1', 'CCDC102B', 'CCDC107', 'CCDC110', 'CCDC112', 'CCDC113', 'CCDC116', 'CCDC12', 'CCDC125', 'CCDC13', 'CCDC144A', 'CCDC144NL', 'CCDC149', 'CCDC15', 'CCDC153', 'CCDC170', 'CCDC178', 'CCDC18', 'CCDC180', 'CCDC25', 'CCDC27', 'CCDC28B', 'CCDC33', 'CCDC36', 'CCDC42', 'CCDC51', 'CCDC61', 'CCDC66', 'CCDC68', 'CCDC71', 'CCDC8', 'CCDC84', 'CCDC9', 'CCDC94', 'CCDC96', 'CCIN', 'CCK', 'CCKAR', 'CCKBR', 'CCL19', 'CCL21', 'CCL25', 'CCL27', 'CCNB1', 'CCNB2', 'CCNDBP1', 'CCNH', 'CCNI2', 'CCNL2', 'CCNO', 'CCPG1', 'CCR1', 'CCR2', 'CCR3', 'CCR4', 'CCR5', 'CCR9', 'CCSER1', 'CD14', 'CD151', 'CD164L2', 'CD180', 'CD209', 'CD226', 'CD276', 'CD38', 'CD3D', 'CD3E', 'CD3G', 'CD52', 'CD53', 'CD68', 'CD70', 'CD72', 'CD81', 'CDA', 'CDAN1', 'CDC14A', 'CDC14B', 'CDC16', 'CDC20B', 'CDC23', 'CDC25A', 'CDC25C', 'CDC26', 'CDC34', 'CDC42', 'CDC42SE2', 'CDC45', 'CDC7', 'CDCA2', 'CDCP1', 'CDH1', 'CDH13', 'CDH15', 'CDH19', 'CDH2', 'CDH20', 'CDH3', 'CDH7', 'CDHR2', 'CDHR4', 'CDK10', 'CDK11A', 'CDK20', 'CDK7', 'CDK9', 'CDKL2', 'CDKL3', 'CDKN1C', 'CDKN2AIP', 'CDKN2AIPNL', 'CDO1', 'CDON', 'CDRT1', 'CDRT15', 'CDRT15L2', 'CDRT4', 'CDS1', 'CDT1', 'CDYL2', 'CECR1', 'CECR6', 'CEL', 'CELA2A', 'CELA3A', 'CELA3B', 'CELF4', 'CELF5', 'CELF6', 'CELSR2', 'CELSR3', 'CEND1', 'CENPBD1', 'CENPE', 'CENPH', 'CENPK', 'CENPN', 'CENPP', 'CENPT', 'CENPV', 'CEP104', 'CEP120', 'CEP152', 'CEP164', 'CEP44', 'CEP78', 'CEP85', 'CEPT1', 'CERCAM', 'CERS4', 'CES4A', 'CETN3', 'CFD', 'CFDP1', 'CGNL1', 'CHAC1', 'CHAF1A', 'CHAMP1', 'CHD1', 'CHD3', 'CHD5', 'CHDH', 'CHEK1', 'CHI3L2', 'CHIA', 'CHID1', 'CHMP1A', 'CHMP7', 'CHP1', 'CHRFAM7A', 'CHRM5', 'CHRNA10', 'CHRNA2', 'CHRNA3', 'CHRNA5', 'CHRNA7', 'CHRNA9', 'CHRNB1', 'CHRNB4', 'CHRNE', 'CHST14', 'CHST6', 'CHST9', 'CHSY3', 'CHTF8', 'CIB1', 'CIB2', 'CIRBP', 'CISD2', 'CISH', 'CIZ1', 'CKMT1A', 'CKMT1B', 'CKMT2', 'CKS2', 'CLASP2', 'CLCC1', 'CLCN3', 'CLCNKA', 'CLCNKB', 'CLDN22', 'CLDN23', 'CLDN24', 'CLDN25', 'CLDN5', 'CLDN7', 'CLEC10A', 'CLEC11A', 'CLEC18A', 'CLEC18B', 'CLEC18C', 'CLEC3B', 'CLEC4G', 'CLEC4M', 'CLGN', 'CLIC3', 'CLIC4', 'CLINT1', 'CLK3', 'CLK4', 'CLMP', 'CLN6', 'CLN8', 'CLNK', 'CLPX', 'CLRN2', 'CLSTN1', 'CLTA', 'CLTB', 'CLTCL1', 'CLU', 'CLUH', 'CLUL1', 'CMC2', 'CMIP', 'CMTM6', 'CMTM7', 'CMTM8', 'CMYA5', 'CNDP1', 'CNDP2', 'CNGA1', 'CNGA4', 'CNKSR1', 'CNN2', 'CNOT1', 'CNOT10', 'CNOT6', 'CNOT7', 'CNR2', 'CNTFR', 'CNTN3', 'CNTNAP3B', 'CNTRL', 'CNTROB', 'COG4', 'COG8', 'COL15A1', 'COL16A1', 'COL23A1', 'COL27A1', 'COL4A1', 'COL4A2', 'COL4A3BP', 'COL5A1', 'COL5A3', 'COL7A1', 'COMMD10', 'COMMD4', 'COMMD8', 'COMT', 'COPS2', 'COPS3', 'COPS4', 'COQ2', 'COQ4', 'CORIN', 'CORO2A', 'CORO2B', 'CORT', 'COTL1', 'COX10', 'COX4I1', 'COX5A', 'COX7B2', 'COX7C', 'CPE', 'CPEB1', 'CPEB2', 'CPEB4', 'CPLX1', 'CPLX2', 'CPLX3', 'CPLX4', 'CPNE7', 'CPZ', 'CRABP1', 'CRAT', 'CRB2', 'CRB3', 'CREB3', 'CREB3L3', 'CREBRF', 'CRHBP', 'CRISPLD2', 'CRK', 'CRKL', 'CRMP1', 'CROCC', 'CRTAM', 'CRTAP', 'CRTC3', 'CRX', 'CRYAB', 'CRYBA4', 'CRYBB1', 'CRYBB2', 'CRYBB3', 'CSDE1', 'CSF1', 'CSF2', 'CSGALNACT1', 'CSK', 'CSMD1', 'CSNK1G1', 'CSNK1G2', 'CSNK1G3', 'CSNK2A2', 'CSPG4', 'CSPG5', 'CSRNP1', 'CT62', 'CTAGE1', 'CTAGE5', 'CTBP1', 'CTC1', 'CTCF', 'CTDNEP1', 'CTDP1', 'CTDSPL2', 'CTIF', 'CTNNA1', 'CTNNAL1', 'CTNNB1', 'CTNNBIP1', 'CTNS', 'CTR9', 'CTRB1', 'CTRB2', 'CTRC', 'CTRL', 'CTSB', 'CTSD', 'CTSH', 'CTSL', 'CTSO', 'CTSV', 'CTTNBP2NL', 'CTU2', 'CTXN1', 'CTXN2', 'CTXN3', 'CUL4A', 'CUL5', 'CWC27', 'CWF19L2', 'CWH43', 'CXCL10', 'CXCL11', 'CXCL14', 'CXCL16', 'CXCL9', 'CXCR5', 'CXCR6', 'CXXC1', 'CXXC4', 'CXXC5', 'CYB561D1', 'CYB561D2', 'CYB5A', 'CYB5B', 'CYB5D1', 'CYB5D2', 'CYB5R2', 'CYBA', 'CYFIP1', 'CYLC2', 'CYP11A1', 'CYP19A1', 'CYP1A1', 'CYP1A2', 'CYP2U1', 'CYP4V2', 'CYP8B1', 'CYSTM1', 'CYTL1', 'CYYR1', 'DAB2IP', 'DACT3', 'DAG1', 'DALRD3', 'DAPK1', 'DAPK2', 'DAPK3', 'DAZAP1', 'DBH', 'DBNDD1', 'DBT', 'DCAF10', 'DCAF12', 'DCAF16', 'DCAF4L1', 'DCC', 'DCDC2B', 'DCHS2', 'DCK', 'DCLK2', 'DCLRE1B', 'DCP1A', 'DCP2', 'DCPS', 'DCTD', 'DCTN6', 'DCUN1D2', 'DCUN1D4', 'DDHD2', 'DDI2', 'DDT', 'DDTL', 'DDX10', 'DDX19A', 'DDX19B', 'DDX20', 'DDX25', 'DDX28', 'DDX31', 'DDX4', 'DDX46', 'DDX6', 'DDX60', 'DDX60L', 'DEAF1', 'DEF8', 'DEFA1', 'DEFA1B', 'DEFA3', 'DEFA4', 'DEFA5', 'DEFA6', 'DEFB1', 'DEFB103A', 'DEFB103B', 'DEFB104A', 'DEFB104B', 'DEFB105A', 'DEFB105B', 'DEFB106A', 'DEFB106B', 'DEFB107A', 'DEFB107B', 'DEFB130', 'DEFB134', 'DEFB135', 'DEFB136', 'DEFB4A', 'DEFB4B', 'DENND1A', 'DENND1C', 'DENND2C', 'DENND2D', 'DENND4A', 'DENND5A', 'DENND6A', 'DEPDC1B', 'DEPDC7', 'DERL2', 'DET1', 'DFFA', 'DFFB', 'DGCR14', 'DGCR2', 'DGCR6', 'DGCR6L', 'DGCR8', 'DGKQ', 'DHDDS', 'DHFR', 'DHRS3', 'DHRS7B', 'DHRS7C', 'DHX15', 'DHX29', 'DHX30', 'DHX33', 'DHX34', 'DIAPH1', 'DIMT1', 'DIRAS1', 'DIRAS2', 'DIS3L', 'DISP2', 'DIXDC1', 'DLAT', 'DLC1', 'DLG4', 'DLGAP1', 'DLGAP2', 'DLL1', 'DLL4', 'DMGDH', 'DMP1', 'DMTN', 'DMXL1', 'DMXL2', 'DNAAF1', 'DNAH1', 'DNAH12', 'DNAH2', 'DNAH9', 'DNAI1', 'DNAJA4', 'DNAJB5', 'DNAJC11', 'DNAJC16', 'DNAJC17', 'DNAJC18', 'DNAJC25', 'DNAJC8', 'DNASE1L3', 'DND1', 'DNER', 'DNHD1', 'DNLZ', 'DNM1', 'DOC2B', 'DOCK3', 'DOCK5', 'DOHH', 'DOK2', 'DOK6', 'DOK7', 'DOLK', 'DOLPP1', 'DONSON', 'DOT1L', 'DPAGT1', 'DPEP1', 'DPEP3', 'DPH1', 'DPH6', 'DPH7', 'DPM2', 'DPP7', 'DPP8', 'DPP9', 'DPYD', 'DPYSL2', 'DR1', 'DRAM2', 'DRAXIN', 'DRD1', 'DRD2', 'DRD4', 'DRD5', 'DRG2', 'DSC1', 'DSC2', 'DSC3', 'DSCAML1', 'DSEL', 'DSG1', 'DSG2', 'DSG3', 'DSG4', 'DSPP', 'DTHD1', 'DTNA', 'DTWD1', 'DTWD2', 'DUOX1', 'DUOX2', 'DUOXA1', 'DUOXA2', 'DUS3L', 'DUSP26', 'DUSP4', 'DUSP7', 'DUSP8', 'DUT', 'DUX4', 'DVL1', 'DVL2', 'DYM', 'DYNAP', 'DYNC1LI1', 'DYNLRB2', 'DYX1C1', 'E2F2', 'EBF2', 'EBI3', 'EBLN2', 'ECE1', 'ECM2', 'ECSCR', 'EDC3', 'EDC4', 'EDF1', 'EDIL3', 'EEF2', 'EFHD2', 'EFNA2', 'EFNA5', 'EFNB3', 'EGF', 'EGFL7', 'EGR1', 'EGR3', 'EHD2', 'EHD4', 'EHMT1', 'EID1', 'EIF1B', 'EIF2AK4', 'EIF3F', 'EIF3I', 'EIF3J', 'EIF4A1', 'EIF4E1B', 'EIF4E3', 'EIF4EBP1', 'EIF4EBP3', 'EIF4G3', 'EIF5A', 'ELAC1', 'ELAC2', 'ELANE', 'ELAVL1', 'ELF2', 'ELL2', 'ELL3', 'ELMOD1', 'ELOVL6', 'ELOVL7', 'ELP2', 'ELP3', 'ELP5', 'ELP6', 'ELSPBP1', 'EMC1', 'EMC4', 'EMC6', 'EMC7', 'EMC8', 'EMILIN2', 'ENAM', 'ENC1', 'ENDOG', 'ENG', 'ENHO', 'ENKD1', 'ENO1', 'ENO3', 'ENOPH1', 'ENOSF1', 'ENPEP', 'ENPP6', 'ENTPD2', 'ENTPD3', 'ENTPD4', 'ENTPD8', 'EOGT', 'EPB41', 'EPB41L3', 'EPB41L4A', 'EPB41L4B', 'EPB42', 'EPG5', 'EPHA2', 'EPHA7', 'EPHA8', 'EPHB2', 'EPHX2', 'EPHX4', 'EPM2A', 'EPM2AIP1', 'EPN2', 'EPS8L2', 'EPS8L3', 'ERAP1', 'ERAP2', 'ERC2', 'ERCC6L2', 'ERCC8', 'ERI1', 'ERICH1', 'ERLIN2', 'ERP44', 'ERRFI1', 'ESAM', 'ESCO1', 'ESCO2', 'ESM1', 'ESPN', 'ESRP2', 'ETF1', 'ETFA', 'ETFDH', 'ETNPPL', 'ETS1', 'EVC', 'EVC2', 'EVI5', 'EVI5L', 'EVPLL', 'EXD1', 'EXD3', 'EXOC3L1', 'EXOG', 'EXOSC10', 'EXOSC2', 'EXOSC3', 'EXOSC6', 'EXOSC7', 'EXOSC9', 'EXPH5', 'EXTL1', 'EXTL3', 'EYA3', 'F10', 'F11', 'F2R', 'F2RL1', 'F2RL2', 'F7', 'FA2H', 'FABP3', 'FAF2', 'FAH', 'FAM102A', 'FAM102B', 'FAM103A1', 'FAM106A', 'FAM107A', 'FAM109B', 'FAM110D', 'FAM114A1', 'FAM118B', 'FAM120A', 'FAM120AOS', 'FAM120B', 'FAM122A', 'FAM129B', 'FAM131C', 'FAM13A', 'FAM13B', 'FAM149A', 'FAM151B', 'FAM153A', 'FAM153B', 'FAM160A1', 'FAM160A2', 'FAM160B2', 'FAM163B', 'FAM166A', 'FAM166B', 'FAM167A', 'FAM167B', 'FAM169A', 'FAM170A', 'FAM172A', 'FAM184B', 'FAM189A1', 'FAM189A2', 'FAM193A', 'FAM198A', 'FAM198B', 'FAM19A1', 'FAM19A3', 'FAM19A4', 'FAM200B', 'FAM205A', 'FAM206A', 'FAM208A', 'FAM210A', 'FAM212A', 'FAM214A', 'FAM218A', 'FAM219A', 'FAM219B', 'FAM221B', 'FAM227B', 'FAM229A', 'FAM3D', 'FAM43B', 'FAM53A', 'FAM53C', 'FAM57A', 'FAM64A', 'FAM69A', 'FAM69B', 'FAM69C', 'FAM76A', 'FAM78A', 'FAM81A', 'FAM83G', 'FAM86B1', 'FAM86B2', 'FAM90A26', 'FAM96A', 'FAM98B', 'FAN1', 'FANCA', 'FANCC', 'FANCI', 'FAT1', 'FAT4', 'FAXDC2', 'FBLIM1', 'FBN1', 'FBN2', 'FBN3', 'FBP1', 'FBP2', 'FBXL17', 'FBXL2', 'FBXL22', 'FBXL5', 'FBXL8', 'FBXO10', 'FBXO15', 'FBXO16', 'FBXO2', 'FBXO22', 'FBXO25', 'FBXO31', 'FBXO39', 'FBXO42', 'FBXO44', 'FBXO5', 'FBXO6', 'FBXO8', 'FBXW10', 'FBXW12', 'FBXW5', 'FBXW7', 'FCER2', 'FCHO2', 'FCHSD1', 'FCN1', 'FCN2', 'FCN3', 'FDFT1', 'FDX1', 'FDXACB1', 'FECH', 'FEM1A', 'FEM1B', 'FEM1C', 'FER', 'FES', 'FEZ1', 'FEZF2', 'FGA', 'FGB', 'FGD3', 'FGF1', 'FGF11', 'FGF17', 'FGF20', 'FGF22', 'FGF7', 'FGFBP1', 'FGFBP2', 'FGFR1', 'FGFR3', 'FGFR4', 'FGFRL1', 'FGG', 'FGL1', 'FGR', 'FHAD1', 'FHDC1', 'FHIT', 'FHOD3', 'FIBCD1', 'FKBP15', 'FKRP', 'FKTN', 'FLCN', 'FLI1', 'FLII', 'FLNB', 'FLT4', 'FMN1', 'FNBP1', 'FNBP1L', 'FNDC5', 'FNDC7', 'FNIP1', 'FNIP2', 'FOXB1', 'FOXB2', 'FOXC2', 'FOXD4L4', 'FOXE1', 'FOXF1', 'FOXL1', 'FOXP1', 'FOXR1', 'FOXRED1', 'FPGS', 'FRG1', 'FRG2', 'FRG2C', 'FRMD3', 'FRMD4B', 'FRMD5', 'FRMPD1', 'FRRS1', 'FRRS1L', 'FRYL', 'FSD1', 'FSD1L', 'FSD2', 'FSIP1', 'FST', 'FSTL3', 'FSTL4', 'FSTL5', 'FTMT', 'FUBP3', 'FUCA1', 'FUK', 'FURIN', 'FUT10', 'FUT3', 'FUT5', 'FUT6', 'FUT7', 'FXN', 'FXR2', 'FXYD2', 'FXYD6', 'FYCO1', 'FZD3', 'FZR1', 'G3BP1', 'G3BP2', 'GABARAP', 'GABBR2', 'GABPB1', 'GABRA2', 'GABRA4', 'GABRA5', 'GABRB1', 'GABRB3', 'GABRD', 'GABRG1', 'GABRG3', 'GABRR1', 'GABRR2', 'GADD45B', 'GADD45G', 'GAK', 'GALE', 'GALK2', 'GALNS', 'GALNT1', 'GALNT12', 'GALNT7', 'GALNTL6', 'GALR1', 'GAMT', 'GAN', 'GANC', 'GAPT', 'GAPVD1', 'GAR1', 'GARNL3', 'GART', 'GAS1', 'GAS6', 'GAS7', 'GAS8', 'GATA4', 'GATA6', 'GATM', 'GATSL3', 'GBA2', 'GBE1', 'GBGT1', 'GCHFR', 'GCNT1', 'GCNT3', 'GCNT4', 'GCOM1', 'GCSH', 'GDA', 'GDF9', 'GDPGP1', 'GEMIN4', 'GFI1', 'GFI1B', 'GFM2', 'GFOD2', 'GFPT2', 'GFRA2', 'GFRA3', 'GGT5', 'GGT6', 'GGTLC2', 'GID4', 'GIMD1', 'GIN1', 'GINM1', 'GINS2', 'GINS3', 'GIPC3', 'GJA10', 'GJD2', 'GKAP1', 'GLB1', 'GLB1L2', 'GLB1L3', 'GLCE', 'GLDN', 'GLE1', 'GLG1', 'GLIPR2', 'GLMN', 'GLOD4', 'GLP2R', 'GLRA1', 'GLRA3', 'GLRB', 'GLRX', 'GLT6D1', 'GLT8D1', 'GLTPD2', 'GLTSCR1', 'GLTSCR2', 'GLYCTK', 'GMEB1', 'GMPPB', 'GNA11', 'GNA14', 'GNA15', 'GNAI2', 'GNAI3', 'GNAQ', 'GNAT1', 'GNAT2', 'GNB1', 'GNB1L', 'GNB5', 'GNE', 'GNG10', 'GNG7', 'GNG8', 'GNL3', 'GNPDA1', 'GNPDA2', 'GNRH1', 'GOLGA1', 'GOLGA2', 'GOLGA4', 'GOLGA6A', 'GOLGA6B', 'GOLGA6C', 'GOLGA6D', 'GOLGA6L1', 'GOLGA6L10', 'GOLGA6L4', 'GOLGA6L6', 'GOLGA6L9', 'GOLGA8A', 'GOLGA8B', 'GOLGA8F', 'GOLGA8G', 'GOLGA8H', 'GOLGA8J', 'GOLGA8K', 'GOLGA8M', 'GOLGA8N', 'GOLGA8O', 'GOLGA8R', 'GOLGA8T', 'GOLM1', 'GORASP1', 'GOT1L1', 'GOT2', 'GP1BA', 'GP1BB', 'GPATCH3', 'GPBP1', 'GPD1L', 'GPM6A', 'GPN2', 'GPR107', 'GPR108', 'GPR150', 'GPR151', 'GPR153', 'GPR157', 'GPR176', 'GPR21', 'GPR27', 'GPR3', 'GPR61', 'GPR62', 'GPR78', 'GPR88', 'GPRIN1', 'GPS2', 'GPSM1', 'GPSM2', 'GPX1', 'GPX4', 'GPX8', 'GRAMD1B', 'GRAMD2', 'GRAP', 'GRAPL', 'GREB1L', 'GREM1', 'GRHL3', 'GRHPR', 'GRIA1', 'GRIA2', 'GRIK4', 'GRIN1', 'GRIN3A', 'GRIN3B', 'GRK4', 'GRM2', 'GRM6', 'GRP', 'GRPEL1', 'GRSF1', 'GRTP1', 'GRXCR1', 'GRXCR2', 'GSC2', 'GSE1', 'GSG2', 'GSN', 'GSR', 'GSTCD', 'GSTM1', 'GSTM2', 'GSTM3', 'GSTM4', 'GSTM5', 'GTF2A2', 'GTF2E2', 'GTF2H2', 'GTF2H2C', 'GTF3C4', 'GTF3C5', 'GTSCR1', 'GUCY2D', 'GUF1', 'GXYLT2', 'GZMK', 'GZMM', 'H2AFX', 'H2AFY', 'H6PD', 'HABP4', 'HAND2', 'HAPLN1', 'HAPLN3', 'HARS', 'HARS2', 'HAS3', 'HAUS1', 'HAUS2', 'HAUS3', 'HBB', 'HBD', 'HBE1', 'HBEGF', 'HBG1', 'HBG2', 'HCN2', 'HCN4', 'HCRTR1', 'HDAC1', 'HDAC3', 'HDC', 'HDDC2', 'HDDC3', 'HDHD2', 'HDHD3', 'HELT', 'HEMGN', 'HEMK1', 'HENMT1', 'HEPACAM', 'HEPN1', 'HERC1', 'HERC2', 'HERC3', 'HERC5', 'HERC6', 'HES2', 'HES3', 'HES4', 'HES5', 'HES7', 'HESX1', 'HEXA', 'HEXB', 'HEY2', 'HFM1', 'HGFAC', 'HHATL', 'HIC1', 'HIF3A', 'HIGD1A', 'HIGD2A', 'HINFP', 'HINT1', 'HINT2', 'HINT3', 'HIPK1', 'HIRA', 'HK3', 'HMBOX1', 'HMBS', 'HMG20A', 'HMG20B', 'HMGB2', 'HMGCL', 'HMGCR', 'HMGN2', 'HMSD', 'HMX1', 'HNRNPA0', 'HNRNPAB', 'HNRNPCL1', 'HNRNPD', 'HNRNPDL', 'HNRNPH1', 'HNRNPK', 'HNRNPM', 'HNRNPR', 'HOMER1', 'HOMER2', 'HP1BP3', 'HPCA', 'HPGD', 'HPS4', 'HPSE', 'HPX', 'HR', 'HRAS', 'HRCT1', 'HRH2', 'HRH4', 'HS3ST1', 'HS3ST3A1', 'HS3ST3B1', 'HSBP1', 'HSBP1L1', 'HSD11B1L', 'HSD11B2', 'HSD17B11', 'HSD17B13', 'HSD17B2', 'HSD17B3', 'HSD17B4', 'HSDL1', 'HSDL2', 'HSF4', 'HSPA4', 'HSPA4L', 'HSPA5', 'HSPA8', 'HSPA9', 'HSPB2', 'HSPB3', 'HSPB7', 'HSPG2', 'HTR1A', 'HTR1D', 'HTR3A', 'HTR3B', 'HTR6', 'HTRA3', 'HTRA4', 'HTT', 'HUNK', 'HYAL1', 'HYAL2', 'HYAL3', 'HYKK', 'HYLS1', 'HYOU1', 'HYPK', 'IARS', 'IBSP', 'ICMT', 'ID3', 'IDH2', 'IDH3A', 'IDNK', 'IDO1', 'IDO2', 'IDUA', 'IER3IP1', 'IER5L', 'IFFO2', 'IFI6', 'IFITM10', 'IFITM2', 'IFITM3', 'IFITM5', 'IFNLR1', 'IFRD2', 'IFT46', 'IGDCC3', 'IGDCC4', 'IGF2', 'IGFBPL1', 'IGFL1', 'IGFL2', 'IGFL3', 'IGFL4', 'IGIP', 'IGSF21', 'IGSF9B', 'IK', 'IL10RA', 'IL13', 'IL16', 'IL17C', 'IL17RB', 'IL17RD', 'IL18', 'IL22RA1', 'IL3', 'IL31RA', 'IL34', 'IL4', 'IL4I1', 'IL5', 'IL6ST', 'IL9', 'ILK', 'IMP3', 'IMPDH2', 'INCA1', 'ING1', 'ING2', 'INIP', 'INO80', 'INO80C', 'INPP5E', 'INPP5K', 'INS', 'INSR', 'INTS10', 'INTS12', 'INTS9', 'INTU', 'INVS', 'IP6K1', 'IP6K2', 'IPO11', 'IPO7', 'IPPK', 'IQCC', 'IQCF1', 'IQCF2', 'IQCF3', 'IQCF5', 'IQCF6', 'IQGAP1', 'IQGAP2', 'IRF1', 'IRF2', 'IRF2BP1', 'IRF7', 'IRF8', 'ISCA1', 'ISG15', 'ISG20', 'ISL2', 'ISLR', 'ISLR2', 'ISOC1', 'IST1', 'ITGA1', 'ITGA11', 'ITGA2', 'ITGAE', 'ITIH1', 'ITIH3', 'ITIH4', 'ITPKA', 'IVD', 'IYD', 'IZUMO2', 'IZUMO4', 'JAKMIP1', 'JAM3', 'JMJD7', 'JMY', 'JPH3', 'JSRP1', 'KATNA1', 'KATNAL2', 'KATNBL1', 'KAZN', 'KBTBD11', 'KBTBD13', 'KBTBD8', 'KCNA10', 'KCNA2', 'KCNA3', 'KCNAB2', 'KCNAB3', 'KCNC3', 'KCNC4', 'KCND3', 'KCNG2', 'KCNG4', 'KCNIP4', 'KCNJ1', 'KCNJ12', 'KCNJ5', 'KCNN2', 'KCNQ1', 'KCNT1', 'KCNU1', 'KCTD1', 'KCTD11', 'KCTD16', 'KCTD19', 'KCTD6', 'KCTD8', 'KCTD9', 'KDELC2', 'KDM1A', 'KDM3B', 'KDM4B', 'KDM6B', 'KDSR', 'KHDRBS1', 'KHSRP', 'KIAA0232', 'KIAA0368', 'KIAA0513', 'KIAA0753', 'KIAA0825', 'KIAA0895L', 'KIAA1024', 'KIAA1143', 'KIAA1191', 'KIAA1324', 'KIAA1328', 'KIAA1456', 'KIAA1468', 'KIAA1644', 'KIAA1671', 'KIAA1958', 'KIAA2013', 'KIF12', 'KIF13B', 'KIF15', 'KIF17', 'KIF1B', 'KIF1C', 'KIF20A', 'KIF23', 'KIF24', 'KIF27', 'KIF2A', 'KIF3A', 'KIF7', 'KIF9', 'KIRREL3', 'KISS1R', 'KLB', 'KLF13', 'KLF16', 'KLF3', 'KLF4', 'KLF9', 'KLHDC4', 'KLHDC7A', 'KLHDC8B', 'KLHL14', 'KLHL17', 'KLHL18', 'KLHL2', 'KLHL21', 'KLHL22', 'KLHL25', 'KLHL3', 'KLHL36', 'KLHL40', 'KLHL5', 'KLHL8', 'KLKB1', 'KMT2A', 'KNSTRN', 'KPNA6', 'KPTN', 'KRBA2', 'KRBOX1', 'L3MBTL4', 'LACE1', 'LACTB', 'LAMA1', 'LAMA3', 'LAMB2', 'LAMC3', 'LAMP1', 'LAMTOR5', 'LAP3', 'LAPTM5', 'LARP1', 'LARP1B', 'LARP6', 'LARP7', 'LARS', 'LARS2', 'LATS1', 'LAYN', 'LCAT', 'LCK', 'LCMT2', 'LCN1', 'LCN10', 'LCN12', 'LCN15', 'LCN2', 'LCN6', 'LCN8', 'LCNL1', 'LCORL', 'LCTL', 'LDB2', 'LDHAL6B', 'LDHD', 'LDLRAD2', 'LDLRAP1', 'LDOC1L', 'LEAP2', 'LECT2', 'LEF1', 'LEO1', 'LEPROTL1', 'LETM1', 'LETM2', 'LGALS9B', 'LGALS9C', 'LGI2', 'LGI3', 'LHFPL2', 'LHX2', 'LHX3', 'LIAS', 'LIG1', 'LIMCH1', 'LIMD1', 'LIN28A', 'LIN54', 'LINGO1', 'LINGO3', 'LIPC', 'LIPG', 'LIPI', 'LIX1', 'LLGL1', 'LMAN1', 'LMAN1L', 'LMNB1', 'LMNB2', 'LMO1', 'LMOD3', 'LMX1B', 'LNPEP', 'LONP1', 'LONRF1', 'LOX', 'LOXHD1', 'LOXL1', 'LOXL2', 'LPAR1', 'LPCAT4', 'LPL', 'LRAT', 'LRBA', 'LRG1', 'LRIF1', 'LRIG1', 'LRIG2', 'LRIT3', 'LRP11', 'LRP2BP', 'LRP5L', 'LRPAP1', 'LRRC2', 'LRRC26', 'LRRC30', 'LRRC36', 'LRRC38', 'LRRC39', 'LRRC47', 'LRRC49', 'LRRC56', 'LRRC57', 'LRRC70', 'LRRC8A', 'LRRC8E', 'LRRFIP2', 'LRRTM2', 'LRSAM1', 'LRTM1', 'LSM1', 'LSM11', 'LSM7', 'LSMEM2', 'LSP1', 'LTC4S', 'LTF', 'LTK', 'LTV1', 'LUZP1', 'LYAR', 'LYPLA2', 'LYRM2', 'LYRM7', 'LYSMD2', 'LYSMD3', 'LYVE1', 'LYZL4', 'LZIC', 'LZTFL1', 'LZTR1', 'LZTS1', 'MAB21L2', 'MAD2L1', 'MAD2L2', 'MADCAM1', 'MAEA', 'MAGEL2', 'MAGI1', 'MAGI3', 'MAK16', 'MALT1', 'MAMDC2', 'MAMDC4', 'MAML1', 'MAML3', 'MAN1B1', 'MAN1C1', 'MAN2A1', 'MAN2A2', 'MAN2B2', 'MAN2C1', 'MANBA', 'MANF', 'MAP1A', 'MAP1B', 'MAP1LC3B', 'MAP2K1', 'MAP2K2', 'MAP2K3', 'MAP2K4', 'MAP2K5', 'MAP2K7', 'MAP3K1', 'MAP3K6', 'MAP4', 'MAP9', 'MAPK1', 'MAPK10', 'MAPK4', 'MAPK6', 'MAPK7', 'MAPK9', 'MAPKAP1', 'MAPKAPK3', 'MAPKBP1', 'MAPRE2', 'MARCH1', 'MARCH2', 'MARCH3', 'MARCKSL1', 'MARVELD2', 'MASP2', 'MAST4', 'MATK', 'MATN1', 'MATR3', 'MBD1', 'MBD2', 'MBD3', 'MBD3L1', 'MBD3L2', 'MBD3L3', 'MBD3L4', 'MBD3L5', 'MBOAT4', 'MBP', 'MBTPS1', 'MC1R', 'MC2R', 'MC4R', 'MC5R', 'MCAM', 'MCC', 'MCCC2', 'MCF2L', 'MCIDAS', 'MCOLN1', 'MCPH1', 'MCTP1', 'MCTP2', 'MDN1', 'ME2', 'MECR', 'MED11', 'MED15', 'MED16', 'MED18', 'MED22', 'MED25', 'MED27', 'MED28', 'MED31', 'MED9', 'MEF2C', 'MEGF10', 'MEGF11', 'MEGF6', 'MEIS2', 'MEIS3', 'MELK', 'MEP1B', 'MEPE', 'MESDC1', 'MESDC2', 'MESP1', 'MESP2', 'METTL14', 'METTL16', 'METTL4', 'MEX3B', 'MEX3C', 'MEX3D', 'MFAP1', 'MFAP2', 'MFAP3L', 'MFAP4', 'MFGE8', 'MFHAS1', 'MFN2', 'MFRP', 'MFSD10', 'MFSD12', 'MFSD6L', 'MFSD8', 'MGA', 'MGARP', 'MGAT1', 'MGAT4B', 'MGST2', 'MIB1', 'MIB2', 'MICAL3', 'MICU3', 'MIDN', 'MIER2', 'MIER3', 'MIIP', 'MINK1', 'MINOS1', 'MIS12', 'MISP', 'MITF', 'MKL1', 'MKNK2', 'MKRN3', 'MLH1', 'MLKL', 'MLYCD', 'MMEL1', 'MMP23B', 'MMP26', 'MN1', 'MND1', 'MNS1', 'MNT', 'MOB1B', 'MOB2', 'MOB3A', 'MOCOS', 'MOCS2', 'MON1A', 'MORF4L1', 'MORN1', 'MOV10', 'MPDU1', 'MPHOSPH6', 'MPI', 'MPND', 'MPRIP', 'MPZL2', 'MPZL3', 'MRFAP1', 'MRFAP1L1', 'MRGPRE', 'MRGPRG', 'MRO', 'MRPL17', 'MRPL20', 'MRPL23', 'MRPL40', 'MRPL41', 'MRPL46', 'MRPL50', 'MRPL54', 'MRPS11', 'MRPS18C', 'MRPS2', 'MRPS27', 'MRPS36', 'MRTO4', 'MRVI1', 'MSANTD1', 'MSANTD2', 'MSANTD3', 'MSH3', 'MSMO1', 'MSMP', 'MSR1', 'MSRA', 'MST1', 'MST1R', 'MSX1', 'MSX2', 'MTF2', 'MTFMT', 'MTFR1L', 'MTHFD1L', 'MTHFR', 'MTHFS', 'MTHFSD', 'MTMR10', 'MTMR7', 'MTMR9', 'MTNR1A', 'MTOR', 'MTRF1L', 'MTRNR2L1', 'MTRNR2L2', 'MTRNR2L8', 'MTUS1', 'MTX3', 'MUC16', 'MUC5B', 'MUC6', 'MUL1', 'MUM1', 'MUSTN1', 'MVB12B', 'MVD', 'MXD4', 'MXRA8', 'MYBBP1A', 'MYBPHL', 'MYEF2', 'MYH1', 'MYH10', 'MYH13', 'MYH14', 'MYH2', 'MYH3', 'MYH4', 'MYH8', 'MYL3', 'MYL5', 'MYO15A', 'MYO18B', 'MYO1C', 'MYO1E', 'MYO1F', 'MYO5A', 'MYO5B', 'MYO5C', 'MYO9A', 'MYOCD', 'MYOM2', 'MYOM3', 'MYOT', 'MYOZ2', 'MYPOP', 'MYRIP', 'MYZAP', 'MZB1', 'N4BP2', 'N4BP3', 'N6AMT1', 'NAA15', 'NAA35', 'NAAA', 'NACC2', 'NADK', 'NAF1', 'NAIF1', 'NAIP', 'NANOS2', 'NANS', 'NAP1L4', 'NAP1L5', 'NAPA', 'NAPSA', 'NARS', 'NAT1', 'NAT2', 'NAT8L', 'NBEAL2', 'NBL1', 'NBPF3', 'NBPF4', 'NBPF6', 'NCAM2', 'NCAPD3', 'NCAPG', 'NCBP1', 'NCKIPSD', 'NCLN', 'NCMAP', 'NCOA7', 'NCOR1', 'NCS1', 'NDC80', 'NDEL1', 'NDFIP1', 'NDN', 'NDOR1', 'NDRG4', 'NDST3', 'NDST4', 'NDUFA11', 'NDUFA2', 'NDUFAF1', 'NDUFAF2', 'NDUFAF3', 'NDUFC1', 'NDUFS4', 'NDUFS7', 'NDUFV2', 'NECAB2', 'NECAP2', 'NEDD4', 'NEDD4L', 'NEFL', 'NEFM', 'NEIL1', 'NEIL2', 'NEIL3', 'NEK1', 'NEK4', 'NEK6', 'NELFA', 'NELFB', 'NEO1', 'NETO1', 'NEURL4', 'NEUROG1', 'NEUROG2', 'NFAT5', 'NFATC1', 'NFATC3', 'NFIC', 'NFIL3', 'NFKB1', 'NFRKB', 'NFX1', 'NFXL1', 'NGRN', 'NHP2', 'NICN1', 'NINJ1', 'NIP7', 'NIPA1', 'NIPA2', 'NIPAL1', 'NIPAL3', 'NIPSNAP3A', 'NIPSNAP3B', 'NISCH', 'NKAIN1', 'NKTR', 'NLGN2', 'NLN', 'NLRP1', 'NLRP10', 'NLRP14', 'NLRP6', 'NLRX1', 'NMB', 'NME5', 'NME6', 'NMNAT1', 'NMRK1', 'NMRK2', 'NMUR2', 'NNMT', 'NOB1', 'NOL3', 'NOL4', 'NOL6', 'NOL8', 'NOP10', 'NOP14', 'NOP16', 'NOTCH1', 'NOVA2', 'NOX5', 'NOXA1', 'NPAP1', 'NPAS1', 'NPAT', 'NPC1', 'NPDC1', 'NPHP4', 'NPM2', 'NPNT', 'NPPA', 'NPPB', 'NPR2', 'NPRL2', 'NPTN', 'NPY1R', 'NPY5R', 'NQO1', 'NR0B2', 'NR1H2', 'NR2E3', 'NR2F1', 'NR3C1', 'NR4A3', 'NR5A1', 'NR6A1', 'NRARP', 'NRAS', 'NREP', 'NRG1', 'NRG2', 'NRG4', 'NRGN', 'NRIP3', 'NRN1L', 'NRTN', 'NSA2', 'NSD1', 'NSG1', 'NSMF', 'NSUN7', 'NT5DC2', 'NT5M', 'NTM', 'NTMT1', 'NTN1', 'NTNG2', 'NTRK2', 'NTRK3', 'NUDC', 'NUDT12', 'NUDT18', 'NUDT2', 'NUDT7', 'NUDT9', 'NUGGC', 'NUP188', 'NUP214', 'NUP43', 'NUP62', 'NUP88', 'NUP98', 'NUSAP1', 'NUTF2', 'NUTM1', 'NUTM2F', 'NUTM2G', 'NXN', 'NXNL2', 'NXPE1', 'NXPE2', 'NXPE4', 'OAF', 'OAZ1', 'OBP2A', 'OBP2B', 'OCA2', 'OCIAD1', 'OCIAD2', 'OCLN', 'ODF2', 'ODF3', 'ODF3L1', 'ODF3L2', 'ODF4', 'OGN', 'OIP5', 'OLFM1', 'OLFML1', 'OLFML2A', 'OLFML3', 'OMD', 'ONECUT1', 'ONECUT2', 'ONECUT3', 'OPCML', 'OPRD1', 'OR10A2', 'OR10A3', 'OR10A4', 'OR10A5', 'OR10A6', 'OR10G4', 'OR10G7', 'OR10G8', 'OR10G9', 'OR10S1', 'OR13C2', 'OR13C3', 'OR13C4', 'OR13C5', 'OR13C8', 'OR13C9', 'OR13D1', 'OR13F1', 'OR13J1', 'OR1A1', 'OR1A2', 'OR1D2', 'OR1D5', 'OR1E1', 'OR1E2', 'OR1G1', 'OR1L1', 'OR1L3', 'OR1L4', 'OR1L6', 'OR1M1', 'OR2AG1', 'OR2AG2', 'OR2D2', 'OR2D3', 'OR2K2', 'OR2S2', 'OR2V1', 'OR2V2', 'OR2Y1', 'OR2Z1', 'OR3A1', 'OR3A2', 'OR3A3', 'OR4D5', 'OR4F15', 'OR4F21', 'OR4F6', 'OR4M2', 'OR4N4', 'OR51A2', 'OR51A4', 'OR51A7', 'OR51B2', 'OR51B4', 'OR51B6', 'OR51D1', 'OR51E1', 'OR51E2', 'OR51F1', 'OR51F2', 'OR51G1', 'OR51G2', 'OR51I1', 'OR51I2', 'OR51L1', 'OR51M1', 'OR51Q1', 'OR51S1', 'OR51T1', 'OR51V1', 'OR52A1', 'OR52A5', 'OR52B2', 'OR52B4', 'OR52B6', 'OR52D1', 'OR52E2', 'OR52E4', 'OR52E6', 'OR52E8', 'OR52H1', 'OR52I1', 'OR52I2', 'OR52J3', 'OR52K1', 'OR52K2', 'OR52L1', 'OR52M1', 'OR52N1', 'OR52N2', 'OR52N4', 'OR52N5', 'OR52R1', 'OR52W1', 'OR56A1', 'OR56A3', 'OR56A4', 'OR56B1', 'OR56B4', 'OR5C1', 'OR5P2', 'OR5P3', 'OR6A2', 'OR6M1', 'OR6T1', 'OR6X1', 'OR7D2', 'OR7D4', 'OR7E24', 'OR7G1', 'OR7G2', 'OR7G3', 'OR8A1', 'OR8B12', 'OR8B2', 'OR8B3', 'OR8B4', 'OR8B8', 'OR8D1', 'OR8D2', 'OR8D4', 'ORM1', 'ORM2', 'OSBPL10', 'OSBPL1A', 'OSBPL5', 'OSGIN1', 'OSTC', 'OSTF1', 'OTOP1', 'OTP', 'OTUD3', 'OTUD4', 'OTUD7A', 'OVCA2', 'OVCH2', 'OVGP1', 'OXSR1', 'P2RX1', 'P2RX5', 'P2RX6', 'P4HA2', 'P4HTM', 'PABPC4L', 'PABPN1L', 'PACRGL', 'PADI1', 'PADI2', 'PADI3', 'PADI4', 'PADI6', 'PAEP', 'PAFAH1B1', 'PAFAH1B2', 'PAFAH2', 'PAIP2', 'PAK6', 'PALLD', 'PALM', 'PALM2', 'PALMD', 'PAM', 'PANK4', 'PANX3', 'PAQR5', 'PAQR7', 'PARD6A', 'PARD6G', 'PARK2', 'PARK7', 'PARP16', 'PARP3', 'PARP6', 'PATE1', 'PATE2', 'PATE3', 'PATE4', 'PATL2', 'PAX5', 'PAX7', 'PBK', 'PBRM1', 'PBX3', 'PCBD2', 'PCBP4', 'PCDH1', 'PCDH10', 'PCDH12', 'PCDH18', 'PCDH7', 'PCDHA12', 'PCDHA13', 'PCDHA2', 'PCDHA3', 'PCDHA5', 'PCDHA6', 'PCDHA7', 'PCDHA8', 'PCDHA9', 'PCDHAC1', 'PCDHAC2', 'PCDHB1', 'PCDHB10', 'PCDHB11', 'PCDHB12', 'PCDHB13', 'PCDHB14', 'PCDHB15', 'PCDHB16', 'PCDHB2', 'PCDHB3', 'PCDHB4', 'PCDHB5', 'PCDHB6', 'PCDHB7', 'PCDHB8', 'PCDHGA1', 'PCDHGA10', 'PCDHGA11', 'PCDHGA12', 'PCDHGA2', 'PCDHGA3', 'PCDHGA4', 'PCDHGA5', 'PCDHGA6', 'PCDHGA7', 'PCDHGA8', 'PCDHGA9', 'PCDHGB1', 'PCDHGB2', 'PCDHGB3', 'PCDHGB4', 'PCDHGB6', 'PCDHGB7', 'PCDHGC3', 'PCDHGC4', 'PCDHGC5', 'PCGF3', 'PCID2', 'PCM1', 'PCMT1', 'PCP2', 'PCSK1', 'PCSK4', 'PCSK5', 'PCSK7', 'PDCD2', 'PDCD6IP', 'PDCD7', 'PDCL', 'PDE12', 'PDE4D', 'PDE5A', 'PDE6B', 'PDE8A', 'PDE8B', 'PDF', 'PDGFC', 'PDGFRL', 'PDHB', 'PDIA3', 'PDIK1L', 'PDLIM2', 'PDLIM3', 'PDLIM4', 'PDPN', 'PDPR', 'PDS5A', 'PDZD3', 'PDZRN3', 'PEAK1', 'PEBP4', 'PEF1', 'PELO', 'PELP1', 'PEMT', 'PER1', 'PER3', 'PET100', 'PEX10', 'PEX11A', 'PEX11G', 'PEX14', 'PEX26', 'PFAS', 'PFDN1', 'PFKFB4', 'PFN1', 'PGAP2', 'PGBD4', 'PGD', 'PGGT1B', 'PGLYRP1', 'PGM2', 'PGM5', 'PGRMC2', 'PHACTR4', 'PHAX', 'PHF10', 'PHF13', 'PHF2', 'PHF23', 'PHF7', 'PHGR1', 'PHLDA2', 'PHLDB1', 'PHLPP1', 'PHLPP2', 'PHOX2B', 'PHPT1', 'PHRF1', 'PHTF1', 'PHYHD1', 'PHYHIP', 'PHYKPL', 'PI4K2B', 'PI4KA', 'PIAS2', 'PIAS4', 'PID1', 'PIEZO1', 'PIF1', 'PIFO', 'PIGB', 'PIGG', 'PIGL', 'PIGN', 'PIGV', 'PIGY', 'PIH1D2', 'PIK3C2A', 'PIK3C3', 'PIK3CD', 'PIK3R1', 'PIK3R5', 'PIK3R6', 'PINK1', 'PINX1', 'PIP5K1B', 'PIP5K1C', 'PIP5KL1', 'PIRT', 'PITHD1', 'PITPNA', 'PITPNB', 'PITX1', 'PITX2', 'PIWIL2', 'PJA2', 'PKD2', 'PKD2L2', 'PKM', 'PKN3', 'PKNOX2', 'PKP3', 'PLA2G12A', 'PLA2G15', 'PLA2G2A', 'PLA2G2C', 'PLA2G2D', 'PLA2G2E', 'PLA2G2F', 'PLA2G4B', 'PLA2G4C', 'PLA2G4D', 'PLA2G4E', 'PLA2G4F', 'PLA2G5', 'PLAC8', 'PLAC8L1', 'PLAGL1', 'PLCB2', 'PLCG2', 'PLCH2', 'PLD2', 'PLD6', 'PLEKHA2', 'PLEKHG4', 'PLEKHG5', 'PLEKHJ1', 'PLEKHM2', 'PLEKHN1', 'PLEKHO2', 'PLIN1', 'PLIN3', 'PLIN4', 'PLIN5', 'PLK2', 'PLK4', 'PLK5', 'PLOD1', 'PLRG1', 'PLSCR3', 'PLXNB1', 'PM20D2', 'PMAIP1', 'PML', 'PMP22', 'PMPCA', 'PNKP', 'PNMA2', 'PNMAL1', 'PNMAL2', 'PNOC', 'PNPLA2', 'PNPLA6', 'PNPLA7', 'PNRC1', 'POC1A', 'POC5', 'POLD1', 'POLE3', 'POLG', 'POLI', 'POLK', 'POLN', 'POLR1E', 'POLR2A', 'POLR2E', 'POLR2L', 'POLR2M', 'POLR3D', 'POLR3G', 'POLRMT', 'POMT1', 'POTEB2', 'POTED', 'POU2AF1', 'POU2F3', 'POU4F3', 'POU5F2', 'PPA2', 'PPARGC1A', 'PPCDC', 'PPEF2', 'PPIB', 'PPIC', 'PPID', 'PPIL2', 'PPIL4', 'PPIP5K1', 'PPIP5K2', 'PPM1F', 'PPM1J', 'PPM1K', 'PPM1M', 'PPP1R14C', 'PPP1R14D', 'PPP1R26', 'PPP1R3B', 'PPP1R8', 'PPP2CA', 'PPP2CB', 'PPP2R1B', 'PPP2R2A', 'PPP2R2B', 'PPP2R2C', 'PPP3CC', 'PPP3R2', 'PPP4R1', 'PPP4R2', 'PPP5C', 'PPP5D1', 'PPP6C', 'PPWD1', 'PQLC1', 'PQLC2', 'PRAM1', 'PRAME', 'PRAMEF1', 'PRAMEF10', 'PRAMEF11', 'PRAMEF12', 'PRAMEF13', 'PRAMEF15', 'PRAMEF17', 'PRAMEF2', 'PRAMEF20', 'PRAMEF4', 'PRAMEF5', 'PRAMEF7', 'PRDM10', 'PRDM12', 'PRDM16', 'PRDM2', 'PRDM6', 'PRELID2', 'PRICKLE2', 'PRKACG', 'PRKAR2A', 'PRKCD', 'PRKCZ', 'PRMT6', 'PRMT7', 'PROB1', 'PROK1', 'PROK2', 'PROM1', 'PROSC', 'PROZ', 'PRPF38B', 'PRPF4', 'PRPF8', 'PRPSAP2', 'PRR16', 'PRRC2B', 'PRRX2', 'PRSS12', 'PRSS42', 'PRSS45', 'PRSS48', 'PRSS50', 'PRSS51', 'PRSS54', 'PRSS55', 'PRSS57', 'PRTG', 'PRTN3', 'PRUNE2', 'PSAPL1', 'PSAT1', 'PSD2', 'PSD3', 'PSKH1', 'PSMA4', 'PSMA5', 'PSMA8', 'PSMB1', 'PSMB10', 'PSMB6', 'PSMB7', 'PSMD13', 'PSMD6', 'PSMD7', 'PSRC1', 'PSTPIP1', 'PSTPIP2', 'PTAFR', 'PTAR1', 'PTBP1', 'PTBP3', 'PTCD2', 'PTCH1', 'PTDSS2', 'PTGDS', 'PTGES', 'PTGES2', 'PTGIR', 'PTGR1', 'PTH1R', 'PTK2B', 'PTOV1', 'PTP4A2', 'PTPDC1', 'PTPN13', 'PTPN22', 'PTPN23', 'PTPN3', 'PTPN9', 'PTPRG', 'PTPRM', 'PTPRS', 'PTPRU', 'PTRH1', 'PTS', 'PTTG1', 'PTTG2', 'PUM1', 'PURA', 'PURG', 'PUS3', 'PUSL1', 'PXK', 'PYGO1', 'QARS', 'QDPR', 'QRFP', 'QRICH1', 'QSOX2', 'R3HCC1', 'R3HDM4', 'RAB11A', 'RAB11FIP1', 'RAB12', 'RAB14', 'RAB20', 'RAB27A', 'RAB27B', 'RAB28', 'RAB31', 'RAB33B', 'RAB36', 'RAB39A', 'RAB3C', 'RAB42', 'RAB8B', 'RABEP1', 'RABEPK', 'RABGAP1', 'RABL6', 'RAD17', 'RAD23B', 'RAD50', 'RAD51', 'RAD54L2', 'RAET1E', 'RAET1G', 'RAET1L', 'RAI1', 'RALBP1', 'RALGDS', 'RALGPS1', 'RANBP1', 'RANBP10', 'RANGRF', 'RAP1A', 'RAP1GAP', 'RAP1GAP2', 'RAPGEF1', 'RAPGEF2', 'RAPGEF6', 'RASA1', 'RASA3', 'RASD1', 'RASEF', 'RASGEF1C', 'RASGRF1', 'RASGRF2', 'RASGRP1', 'RASL12', 'RASSF1', 'RASSF7', 'RAX', 'RAX2', 'RBBP4', 'RBBP8', 'RBFA', 'RBM15', 'RBM15B', 'RBM27', 'RBM46', 'RBM47', 'RBM5', 'RBM6', 'RBM7', 'RBMXL2', 'RBP7', 'RBPJ', 'RBPMS', 'RBPMS2', 'RC3H2', 'RCAN3', 'RCC1', 'RCC2', 'RCN2', 'RCVRN', 'RDX', 'RECK', 'REEP2', 'REEP4', 'REEP5', 'REEP6', 'RELL1', 'RELL2', 'RER1', 'RERE', 'RETN', 'REXO1', 'REXO2', 'RFC1', 'RFESD', 'RFK', 'RFT1', 'RFWD3', 'RFX7', 'RGMB', 'RGP1', 'RGS12', 'RGS3', 'RGS7BP', 'RHCG', 'RHD', 'RHOA', 'RHOBTB2', 'RHOBTB3', 'RHOC', 'RHOG', 'RHOH', 'RHOV', 'RIC3', 'RIC8A', 'RILP', 'RIMBP3C', 'RIOK2', 'RIOK3', 'RIT2', 'RLBP1', 'RMDN3', 'RMI1', 'RMND5B', 'RNASEK', 'RNF111', 'RNF112', 'RNF122', 'RNF123', 'RNF125', 'RNF126', 'RNF130', 'RNF138', 'RNF14', 'RNF141', 'RNF152', 'RNF165', 'RNF166', 'RNF167', 'RNF175', 'RNF180', 'RNF183', 'RNF186', 'RNF19B', 'RNF20', 'RNF207', 'RNF208', 'RNF212', 'RNF214', 'RNF222', 'RNF223', 'RNF224', 'RNF26', 'RNF4', 'RNF44', 'RNGTT', 'RNH1', 'RNMT', 'ROBO1', 'ROBO2', 'ROBO3', 'ROBO4', 'ROCK1', 'ROR2', 'RORA', 'RORB', 'RP1L1', 'RPA1', 'RPA2', 'RPAIN', 'RPAP1', 'RPAP2', 'RPH3AL', 'RPL11', 'RPL12', 'RPL13', 'RPL14', 'RPL17', 'RPL22', 'RPL26', 'RPL27A', 'RPL29', 'RPL34', 'RPL35', 'RPL36', 'RPL4', 'RPL5', 'RPL7A', 'RPL9', 'RPLP1', 'RPLP2', 'RPP14', 'RPP25', 'RPRD1A', 'RPS15', 'RPS23', 'RPS25', 'RPS27L', 'RPS3A', 'RPS6KA1', 'RPUSD2', 'RPUSD4', 'RRAGD', 'RRH', 'RRM1', 'RRP8', 'RRP9', 'RSBN1', 'RSC1A1', 'RSL24D1', 'RTCA', 'RTF1', 'RTN4R', 'RTN4RL1', 'RTP3', 'RTTN', 'RUFY1', 'RUFY3', 'RUNX3', 'RWDD4', 'RXFP1', 'RXRA', 'RYBP', 'RYR3', 'S100P', 'S100PBP', 'S100Z', 'S1PR3', 'S1PR4', 'SACM1L', 'SAE1', 'SAFB', 'SAFB2', 'SALL3', 'SAMD5', 'SAP30', 'SAPCD2', 'SAR1B', 'SARDH', 'SARS', 'SASH1', 'SASS6', 'SAT2', 'SBF2', 'SBNO2', 'SC5D', 'SCAF4', 'SCAI', 'SCAMP1', 'SCAMP2', 'SCAMP4', 'SCAMP5', 'SCAP', 'SCAPER', 'SCARA3', 'SCARA5', 'SCARF1', 'SCARF2', 'SCARNA16', 'SCARNA17', 'SCARNA18', 'SCARNA20', 'SCARNA21', 'SCD5', 'SCG3', 'SCG5', 'SCGB1C1', 'SCGB3A1', 'SCIMP', 'SCLT1', 'SCN10A', 'SCN11A', 'SCN2B', 'SCN3B', 'SCN4B', 'SCN5A', 'SCNN1D', 'SCO1', 'SCOC', 'SCRG1', 'SCT', 'SCUBE2', 'SDAD1', 'SDC3', 'SDF2L1', 'SDF4', 'SDHB', 'SDHD', 'SDR42E1', 'SEC11A', 'SEC11C', 'SEC16A', 'SEC22C', 'SEC24A', 'SEC24B', 'SEC24D', 'SEC31A', 'SEC61B', 'SECISBP2', 'SECISBP2L', 'SEL1L3', 'SEMA3B', 'SEMA3F', 'SEMA3G', 'SEMA4B', 'SEMA4D', 'SEMA6A', 'SEMA6B', 'SEMA6D', 'SEMA7A', 'SENP3', 'SENP8', 'SEPSECS', 'SEPT2', 'SEPT5', 'SEPT8', 'SERF1A', 'SERF1B', 'SERF2', 'SERINC2', 'SERINC4', 'SERINC5', 'SERPINB10', 'SERPINB11', 'SERPINB12', 'SERPINB13', 'SERPINB2', 'SERPINB3', 'SERPINB4', 'SERPINB5', 'SERPINB7', 'SERPINB8', 'SERPIND1', 'SERPINE2', 'SERPINF1', 'SERPINF2', 'SESN2', 'SET', 'SETBP1', 'SETD2', 'SETD6', 'SETD7', 'SETD9', 'SETX', 'SEZ6L', 'SF3A2', 'SF3B3', 'SF3B5', 'SFMBT1', 'SFN', 'SFRP2', 'SFTPC', 'SFXN1', 'SGCB', 'SGCZ', 'SGMS2', 'SGSM1', 'SGSM2', 'SGTA', 'SGTB', 'SH2D3A', 'SH2D3C', 'SH2D4A', 'SH2D5', 'SH2D7', 'SH3BGRL3', 'SH3BP2', 'SH3D19', 'SH3GL1', 'SH3GL3', 'SH3GLB2', 'SH3RF1', 'SH3TC1', 'SHANK1', 'SHB', 'SHBG', 'SHC2', 'SHC3', 'SHC4', 'SHD', 'SHF', 'SHISA3', 'SHISA5', 'SHISA6', 'SHMT1', 'SHPK', 'SHQ1', 'SHROOM1', 'SIAE', 'SIDT2', 'SIGIRR', 'SIGLEC11', 'SIGLEC15', 'SIK2', 'SIK3', 'SIKE1', 'SIL1', 'SIMC1', 'SIN3A', 'SIRT3', 'SIRT6', 'SIT1', 'SKA1', 'SKI', 'SKOR1', 'SKOR2', 'SKP1', 'SLAIN2', 'SLBP', 'SLC10A4', 'SLC10A6', 'SLC12A1', 'SLC12A2', 'SLC12A4', 'SLC12A6', 'SLC13A5', 'SLC14A1', 'SLC14A2', 'SLC16A1', 'SLC16A11', 'SLC16A13', 'SLC16A4', 'SLC18A1', 'SLC1A5', 'SLC22A13', 'SLC22A14', 'SLC22A18', 'SLC22A18AS', 'SLC22A31', 'SLC22A4', 'SLC22A5', 'SLC23A1', 'SLC24A1', 'SLC24A5', 'SLC25A1', 'SLC25A11', 'SLC25A2', 'SLC25A20', 'SLC25A22', 'SLC25A23', 'SLC25A24', 'SLC25A25', 'SLC25A26', 'SLC25A29', 'SLC25A31', 'SLC25A33', 'SLC25A34', 'SLC25A35', 'SLC25A37', 'SLC25A4', 'SLC25A41', 'SLC25A46', 'SLC25A47', 'SLC25A48', 'SLC25A51', 'SLC25A52', 'SLC26A1', 'SLC26A6', 'SLC27A2', 'SLC27A4', 'SLC27A6', 'SLC28A1', 'SLC28A2', 'SLC28A3', 'SLC2A4', 'SLC2A5', 'SLC2A6', 'SLC2A7', 'SLC2A8', 'SLC2A9', 'SLC30A2', 'SLC30A4', 'SLC30A5', 'SLC30A9', 'SLC31A1', 'SLC31A2', 'SLC34A2', 'SLC35A3', 'SLC35A4', 'SLC35D2', 'SLC35E2B', 'SLC35F2', 'SLC35G5', 'SLC35G6', 'SLC37A2', 'SLC37A4', 'SLC38A3', 'SLC38A7', 'SLC38A8', 'SLC38A9', 'SLC39A14', 'SLC39A3', 'SLC39A6', 'SLC39A8', 'SLC43A2', 'SLC44A1', 'SLC45A1', 'SLC46A2', 'SLC47A1', 'SLC47A2', 'SLC4A4', 'SLC4A9', 'SLC51B', 'SLC52A1', 'SLC5A10', 'SLC6A17', 'SLC6A20', 'SLC7A11', 'SLC7A2', 'SLC7A4', 'SLC7A5', 'SLC7A6', 'SLC7A6OS', 'SLC8A2', 'SLC9A1', 'SLC9B2', 'SLCO4C1', 'SLCO6A1', 'SLIT2', 'SLMAP', 'SLN', 'SLTM', 'SLU7', 'SMAD2', 'SMAD3', 'SMAD4', 'SMAD6', 'SMAD7', 'SMARCC1', 'SMC2', 'SMC5', 'SMCHD1', 'SMCR8', 'SMG6', 'SMIM1', 'SMIM14', 'SMIM15', 'SMIM18', 'SMIM20', 'SMIM21', 'SMIM4', 'SMN1', 'SMN2', 'SMPD1', 'SMPD3', 'SMPDL3B', 'SMTNL2', 'SMYD4', 'SNAI3', 'SNAP23', 'SNAP29', 'SNAPC2', 'SNAPC4', 'SNAPC5', 'SNCAIP', 'SNCB', 'SNORA1', 'SNORA11', 'SNORA18', 'SNORA25', 'SNORA27', 'SNORA31', 'SNORA40', 'SNORA48', 'SNORA51', 'SNORA62', 'SNORA63', 'SNORA67', 'SNORA70', 'SNORA73', 'SNORA74', 'SNORD112', 'SNORD113', 'SNORD37', 'SNORD38', 'SNORD56', 'SNORD63', 'SNORD74', 'SNORD77', 'SNRK', 'SNRNP40', 'SNRPD1', 'SNRPN', 'SNTB2', 'SNTN', 'SNUPN', 'SNURF', 'SNX1', 'SNX18', 'SNX2', 'SNX22', 'SNX24', 'SNX25', 'SNX30', 'SNX33', 'SNX7', 'SOCS6', 'SOD1', 'SOD3', 'SORBS2', 'SORBS3', 'SORCS2', 'SORD', 'SORT1', 'SOWAHA', 'SOX1', 'SOX15', 'SOX7', 'SPA17', 'SPACA7', 'SPAG11A', 'SPAG11B', 'SPAG7', 'SPAG8', 'SPARCL1', 'SPATA12', 'SPATA19', 'SPATA21', 'SPATA22', 'SPATA24', 'SPATA2L', 'SPATA31A3', 'SPATA31A6', 'SPATA31D1', 'SPATA31D3', 'SPATA31D4', 'SPATA31E1', 'SPATA33', 'SPATA4', 'SPATA5', 'SPATA5L1', 'SPATA9', 'SPCS1', 'SPCS3', 'SPDYE4', 'SPECC1', 'SPEM1', 'SPEN', 'SPESP1', 'SPG11', 'SPG21', 'SPG7', 'SPIB', 'SPIN1', 'SPINK8', 'SPINT1', 'SPIRE2', 'SPNS2', 'SPNS3', 'SPOCD1', 'SPOCK3', 'SPON2', 'SPP1', 'SPPL2A', 'SPPL2B', 'SPRED1', 'SPRY4', 'SPSB1', 'SPTAN1', 'SPTBN5', 'SPTLC1', 'SPZ1', 'SQRDL', 'SQSTM1', 'SRA1', 'SREBF1', 'SREK1', 'SREK1IP1', 'SRFBP1', 'SRM', 'SRP14', 'SRP19', 'SRR', 'SRRD', 'SRRM1', 'SRSF12', 'SRSF4', 'SS18', 'SS18L2', 'SSBP2', 'SSNA1', 'SSU72', 'ST14', 'ST20', 'ST3GAL2', 'ST3GAL4', 'ST5', 'ST6GALNAC4', 'ST6GALNAC6', 'ST7L', 'ST8SIA3', 'ST8SIA4', 'ST8SIA5', 'STAB1', 'STAP2', 'STAR', 'STARD4', 'STARD5', 'STARD6', 'STARD9', 'STC1', 'STC2', 'STIM1', 'STIM2', 'STK11', 'STK32A', 'STK32B', 'STK33', 'STMN1', 'STMN4', 'STOM', 'STOML1', 'STOX2', 'STPG1', 'STRA6', 'STRBP', 'STRC', 'STRIP1', 'STRN4', 'STT3A', 'STX11', 'STX12', 'STX17', 'STX18', 'STX8', 'STXBP1', 'STXBP2', 'STXBP3', 'STXBP5', 'SUCLG2', 'SULT2A1', 'SUMO4', 'SURF1', 'SURF4', 'SURF6', 'SUSD1', 'SUSD2', 'SUSD3', 'SUSD5', 'SV2C', 'SVEP1', 'SWAP70', 'SWI5', 'SYCP1', 'SYF2', 'SYK', 'SYNJ1', 'SYNPO2', 'SYNPR', 'SYPL2', 'SYT4', 'SYT6', 'SYT9', 'SYTL1', 'SZRD1', 'T', 'TAB2', 'TACC1', 'TACC3', 'TACR3', 'TADA2B', 'TAF10', 'TAF12', 'TAF13', 'TAF1C', 'TAF4B', 'TAF7', 'TAF9', 'TAGLN', 'TAL2', 'TALDO1', 'TANGO2', 'TANGO6', 'TAPT1', 'TARDBP', 'TARSL2', 'TAS1R1', 'TAS1R2', 'TAX1BP3', 'TBC1D1', 'TBC1D13', 'TBC1D14', 'TBC1D19', 'TBC1D2', 'TBC1D21', 'TBC1D26', 'TBC1D28', 'TBC1D2B', 'TBCA', 'TBCEL', 'TBP', 'TBRG1', 'TBX1', 'TBXA2R', 'TCAIM', 'TCEA3', 'TCERG1', 'TCF12', 'TCF25', 'TCF3', 'TCF4', 'TCF7', 'TCP11L1', 'TCTA', 'TCTE3', 'TDGF1', 'TDO2', 'TDRD7', 'TDRP', 'TEC', 'TECTA', 'TEKT1', 'TEKT3', 'TENM3', 'TERF2', 'TET2', 'TEX10', 'TEX12', 'TEX15', 'TEX264', 'TEX9', 'TFDP1', 'TFIP11', 'TGFBI', 'TGFBR1', 'TGFBR3', 'TGFBR3L', 'TGIF1', 'TGM4', 'TGM5', 'TGM7', 'TH', 'THAP10', 'THAP11', 'THAP3', 'THAP6', 'THAP7', 'THAP9', 'THBS1', 'THBS4', 'THEG', 'THEMIS2', 'THG1L', 'THOC1', 'THOC3', 'THOC7', 'THOP1', 'THSD4', 'THY1', 'THYN1', 'TIAM1', 'TICAM1', 'TICAM2', 'TICRR', 'TIFA', 'TIFAB', 'TIGD2', 'TIGD4', 'TIMM10B', 'TIMM13', 'TIMM21', 'TIMM22', 'TIMM44', 'TIMM8B', 'TINAGL1', 'TINCR', 'TIRAP', 'TJP1', 'TJP2', 'TJP3', 'TKT', 'TKTL2', 'TLCD2', 'TLDC1', 'TLE1', 'TLE2', 'TLE3', 'TLE4', 'TLE6', 'TLL1', 'TLN1', 'TLN2', 'TLR1', 'TLR10', 'TLR2', 'TLR3', 'TLR6', 'TLR9', 'TM2D2', 'TM2D3', 'TM4SF5', 'TM6SF1', 'TMA16', 'TMA7', 'TMC1', 'TMC3', 'TMCO3', 'TMCO4', 'TMCO5A', 'TMCO6', 'TMED3', 'TMED5', 'TMED6', 'TMED7', 'TMEFF1', 'TMEM102', 'TMEM107', 'TMEM11', 'TMEM110', 'TMEM115', 'TMEM128', 'TMEM129', 'TMEM136', 'TMEM141', 'TMEM144', 'TMEM150C', 'TMEM154', 'TMEM156', 'TMEM158', 'TMEM160', 'TMEM161B', 'TMEM167A', 'TMEM167B', 'TMEM170A', 'TMEM171', 'TMEM173', 'TMEM174', 'TMEM175', 'TMEM192', 'TMEM2', 'TMEM200B', 'TMEM200C', 'TMEM201', 'TMEM202', 'TMEM203', 'TMEM211', 'TMEM218', 'TMEM220', 'TMEM222', 'TMEM225', 'TMEM232', 'TMEM234', 'TMEM240', 'TMEM241', 'TMEM245', 'TMEM246', 'TMEM25', 'TMEM252', 'TMEM255B', 'TMEM256', 'TMEM259', 'TMEM33', 'TMEM38B', 'TMEM39B', 'TMEM41B', 'TMEM42', 'TMEM45B', 'TMEM50A', 'TMEM51', 'TMEM52', 'TMEM54', 'TMEM62', 'TMEM80', 'TMEM82', 'TMEM87A', 'TMEM88', 'TMEM88B', 'TMEM89', 'TMEM8B', 'TMEM95', 'TMEM9B', 'TMF1', 'TMIE', 'TMIGD2', 'TMOD1', 'TMOD2', 'TMOD3', 'TMPPE', 'TMPRSS13', 'TMPRSS5', 'TMPRSS9', 'TMX3', 'TNFAIP8', 'TNFAIP8L1', 'TNFAIP8L3', 'TNFRSF10A', 'TNFRSF10B', 'TNFRSF10C', 'TNFRSF10D', 'TNFRSF11A', 'TNFRSF13B', 'TNFRSF14', 'TNFRSF18', 'TNFRSF1B', 'TNFRSF25', 'TNFRSF4', 'TNFRSF8', 'TNFRSF9', 'TNFSF12', 'TNFSF13', 'TNFSF14', 'TNFSF15', 'TNFSF8', 'TNFSF9', 'TNIP2', 'TNK1', 'TNKS', 'TNNC1', 'TNNI2', 'TNNT3', 'TNPO1', 'TOLLIP', 'TOM1L2', 'TOMM5', 'TOP3A', 'TOP3B', 'TOPAZ1', 'TOR1A', 'TOR1B', 'TOR2A', 'TOR4A', 'TP53', 'TP53AIP1', 'TP53BP1', 'TP73', 'TPD52L1', 'TPGS1', 'TPGS2', 'TPM1', 'TPM2', 'TPP1', 'TPPP3', 'TPRG1L', 'TPRN', 'TPRX1', 'TPST2', 'TPTE', 'TRADD', 'TRAF2', 'TRAIP', 'TRAK1', 'TRAM1L1', 'TRANK1', 'TRAPPC1', 'TRAPPC11', 'TRAPPC13', 'TRAPPC2L', 'TRAPPC4', 'TRAPPC5', 'TRAPPC8', 'TREH', 'TREX1', 'TRIM14', 'TRIM16', 'TRIM16L', 'TRIM2', 'TRIM21', 'TRIM22', 'TRIM23', 'TRIM29', 'TRIM3', 'TRIM33', 'TRIM34', 'TRIM35', 'TRIM36', 'TRIM41', 'TRIM5', 'TRIM52', 'TRIM6', 'TRIM60', 'TRIM61', 'TRIM63', 'TRIM66', 'TRIM68', 'TRIM69', 'TRIM7', 'TRIM71', 'TRIML1', 'TRIML2', 'TRIP10', 'TRIP4', 'TRMT10B', 'TRMT13', 'TRMT2A', 'TRMT44', 'TRNAU1AP', 'TRPC3', 'TRPC7', 'TRPM1', 'TRPM3', 'TRPM5', 'TRPM6', 'TRPM7', 'TRPV1', 'TRPV2', 'TRPV3', 'TRUB2', 'TSC1', 'TSHZ1', 'TSLP', 'TSNAXIP1', 'TSPAN17', 'TSPAN3', 'TSPAN32', 'TSPAN4', 'TSR1', 'TSSC4', 'TSSK1B', 'TSSK2', 'TSSK3', 'TSTD2', 'TTBK2', 'TTC12', 'TTC16', 'TTC19', 'TTC21A', 'TTC28', 'TTC34', 'TTC36', 'TTC37', 'TTC39C', 'TTF1', 'TTI2', 'TTLL10', 'TTLL11', 'TTR', 'TUB', 'TUBA8', 'TUBB3', 'TUBB4A', 'TUBB4B', 'TUBGCP3', 'TUBGCP4', 'TUBGCP5', 'TUSC2', 'TUSC3', 'TUSC5', 'TVP23B', 'TVP23C', 'TWF2', 'TWSG1', 'TXK', 'TXLNA', 'TXN', 'TXNDC15', 'TXNDC17', 'TXNDC2', 'TXNDC8', 'TXNL1', 'TXNL4A', 'TYMS', 'TYRO3', 'U3', 'U6', 'U8', 'UACA', 'UAP1L1', 'UBA3', 'UBA7', 'UBAC1', 'UBAP1', 'UBAP1L', 'UBAP2', 'UBASH3B', 'UBB', 'UBE2B', 'UBE2D2', 'UBE2D3', 'UBE2G1', 'UBE2J1', 'UBE2J2', 'UBE2K', 'UBE2Q2', 'UBE2R2', 'UBE3A', 'UBE4A', 'UBE4B', 'UBIAD1', 'UBL4B', 'UBL7', 'UBP1', 'UBQLN1', 'UBQLN3', 'UBQLNL', 'UBR1', 'UBR4', 'UBXN10', 'UBXN11', 'UBXN6', 'UBXN8', 'UCHL1', 'UCK1', 'UCN2', 'UFD1L', 'UFSP2', 'UGCG', 'UGDH', 'UHRF1', 'UIMC1', 'ULBP1', 'ULBP2', 'ULBP3', 'ULK2', 'ULK3', 'ULK4', 'UNC13B', 'UNC13C', 'UNC45A', 'UNC5A', 'UNC5D', 'UPF3A', 'UPK2', 'UQCR11', 'UQCRC1', 'UQCRQ', 'URM1', 'USMG5', 'USP10', 'USP14', 'USP17L10', 'USP17L11', 'USP17L12', 'USP17L13', 'USP17L15', 'USP17L17', 'USP17L18', 'USP17L19', 'USP17L2', 'USP17L20', 'USP17L21', 'USP17L22', 'USP17L24', 'USP17L25', 'USP17L26', 'USP17L27', 'USP17L28', 'USP17L29', 'USP17L30', 'USP18', 'USP19', 'USP2', 'USP20', 'USP22', 'USP28', 'USP3', 'USP4', 'USP43', 'USP48', 'USP50', 'USP53', 'USP6', 'USP8', 'UST', 'UTP15', 'UTP3', 'UTRN', 'UTS2', 'UVSSA', 'VAMP2', 'VAMP3', 'VAPA', 'VAT1L', 'VAV1', 'VAV2', 'VCAM1', 'VCAN', 'VDAC1', 'VEGFC', 'VIPR1', 'VMAC', 'VMO1', 'VPREB1', 'VPS11', 'VPS13A', 'VPS13C', 'VPS13D', 'VPS18', 'VPS26B', 'VPS37A', 'VPS39', 'VPS4A', 'VPS4B', 'VPS53', 'VPS9D1', 'VRK3', 'VSIG2', 'VWA1', 'VWA5A', 'VWA5B1', 'WASF2', 'WDFY3', 'WDR1', 'WDR17', 'WDR18', 'WDR19', 'WDR27', 'WDR31', 'WDR34', 'WDR36', 'WDR38', 'WDR41', 'WDR47', 'WDR48', 'WDR5', 'WDR59', 'WDR6', 'WDR61', 'WDR7', 'WDR72', 'WDR73', 'WDR76', 'WDR77', 'WDR81', 'WDR82', 'WDR93', 'WDTC1', 'WEE1', 'WFDC1', 'WFS1', 'WHAMM', 'WNK2', 'WNT2B', 'WNT4', 'WNT5A', 'WNT8A', 'WRAP53', 'WRAP73', 'WRN', 'WSCD1', 'WWC2', 'WWOX', 'WWP2', 'XAB2', 'XAF1', 'XCR1', 'XKR5', 'XKR6', 'XKR8', 'XPA', 'XPO7', 'XRCC4', 'XYLB', 'YBX2', 'YDJC', 'YES1', 'YIPF5', 'YIPF7', 'YPEL1', 'YTHDC2', 'YTHDF2', 'YWHAE', 'ZADH2', 'ZAR1', 'ZBED3', 'ZBTB14', 'ZBTB16', 'ZBTB17', 'ZBTB2', 'ZBTB26', 'ZBTB34', 'ZBTB4', 'ZBTB40', 'ZBTB43', 'ZBTB44', 'ZBTB47', 'ZBTB48', 'ZBTB49', 'ZBTB5', 'ZBTB6', 'ZBTB7A', 'ZBTB7C', 'ZBTB8A', 'ZBTB8B', 'ZBTB8OS', 'ZC2HC1B', 'ZC3H12C', 'ZC3H12D', 'ZC3H18', 'ZC3H4', 'ZCCHC10', 'ZCCHC14', 'ZCCHC17', 'ZCCHC2', 'ZCCHC4', 'ZCCHC7', 'ZCCHC9', 'ZDHHC1', 'ZDHHC12', 'ZDHHC18', 'ZDHHC2', 'ZDHHC3', 'ZDHHC7', 'ZDHHC8', 'ZER1', 'ZFAND5', 'ZFAND6', 'ZFP1', 'ZFP2', 'ZFP3', 'ZFP37', 'ZFP42', 'ZFP62', 'ZFP90', 'ZFPM1', 'ZFR2', 'ZFYVE16', 'ZFYVE19', 'ZFYVE28', 'ZKSCAN7', 'ZMAT2', 'ZMAT4', 'ZMYND10', 'ZMYND15', 'ZMYND19', 'ZNF106', 'ZNF114', 'ZNF141', 'ZNF143', 'ZNF169', 'ZNF177', 'ZNF18', 'ZNF189', 'ZNF195', 'ZNF197', 'ZNF202', 'ZNF214', 'ZNF215', 'ZNF232', 'ZNF236', 'ZNF24', 'ZNF266', 'ZNF276', 'ZNF280D', 'ZNF286A', 'ZNF286B', 'ZNF287', 'ZNF317', 'ZNF346', 'ZNF35', 'ZNF354A', 'ZNF354B', 'ZNF354C', 'ZNF358', 'ZNF366', 'ZNF367', 'ZNF395', 'ZNF396', 'ZNF397', 'ZNF407', 'ZNF426', 'ZNF436', 'ZNF445', 'ZNF454', 'ZNF462', 'ZNF469', 'ZNF473', 'ZNF474', 'ZNF483', 'ZNF484', 'ZNF501', 'ZNF502', 'ZNF510', 'ZNF516', 'ZNF518B', 'ZNF519', 'ZNF521', 'ZNF532', 'ZNF541', 'ZNF554', 'ZNF555', 'ZNF556', 'ZNF557', 'ZNF558', 'ZNF559', 'ZNF560', 'ZNF57', 'ZNF589', 'ZNF592', 'ZNF593', 'ZNF594', 'ZNF595', 'ZNF596', 'ZNF608', 'ZNF609', 'ZNF618', 'ZNF619', 'ZNF620', 'ZNF621', 'ZNF624', 'ZNF644', 'ZNF658', 'ZNF660', 'ZNF662', 'ZNF683', 'ZNF699', 'ZNF703', 'ZNF705B', 'ZNF705D', 'ZNF705G', 'ZNF710', 'ZNF717', 'ZNF718', 'ZNF721', 'ZNF732', 'ZNF74', 'ZNF77', 'ZNF770', 'ZNF774', 'ZNF778', 'ZNF782', 'ZNF79', 'ZNF821', 'ZNF852', 'ZNF860', 'ZNF879', 'ZNF883', 'ZNRF1', 'ZNRF4', 'ZSCAN2', 'ZSCAN29', 'ZSCAN30', 'ZSWIM6', 'ZSWIM7', 'ZW10', 'ZWILCH', 'ZZEF1', 'snoU13', 'ACAA1', 'AKAP17A', 'ANKRD28', 'ARL8B', 'ARPC4', 'ARPC4-TTLL3', 'ARPP21', 'ASMT', 'ASMTL', 'ATG7', 'ATP2B2', 'AZI2', 'B3GALT5', 'BACH1', 'BHLHE40', 'BRK1', 'BRPF1', 'BRWD1', 'BTD', 'BTG3', 'C21orf91', 'C3orf20', 'C3orf35', 'C3orf38', 'CAMK1', 'CAND2', 'CAPN7', 'CAV3', 'CBR1', 'CBR3', 'CBS', 'CCAR2', 'CCDC174', 'CCNJL', 'CCR8', 'CCRL2', 'CCT8', 'CD99', 'CGGBP1', 'CHAF1B', 'CHCHD4', 'CHL1', 'CHMP2B', 'CHODL', 'CIDEC', 'CLDN14', 'CLDN17', 'CLDN8', 'CMC1', 'CNTN4', 'CNTN6', 'COL6A1', 'COL6A2', 'COLQ', 'CPNE9', 'CRBN', 'CRELD1', 'CRLF2', 'CRYAA', 'CRYZL1', 'CSF2RA', 'CTDSPL', 'CX3CR1', 'CXADR', 'DAZL', 'DCAF1', 'DCLK3', 'DHRSX', 'DLEC1', 'DNAJC28', 'DPH3', 'DSCAM', 'DYRK1A', 'EAF1', 'EDEM1', 'EFHB', 'EMC3', 'EOMES', 'EPHA3', 'EVA1C', 'FABP6', 'FAM71B', 'FANCD2', 'FANCD2OS', 'FBLN2', 'FGD5', 'FTCD', 'GABPA', 'GADL1', 'GALNT15', 'GHRL', 'GRIK1', 'GRIP2', 'GRM7', 'GTPBP6', 'HACL1', 'HAVCR1', 'HAVCR2', 'HDAC11', 'HLCS', 'HMGN1', 'HRH1', 'HTR1F', 'IFNAR1', 'IFNAR2', 'IFNGR2', 'IGSF5', 'IL10RB', 'IL17RC', 'IL17RE', 'IL3RA', 'IL5RA', 'IQSEC1', 'IRAK2', 'ITGA9', 'ITK', 'ITPR1', 'ITSN1', 'JAGN1', 'JAM2', 'KAT2B', 'KCNH8', 'KRTAP11-1', 'KRTAP13-1', 'KRTAP13-2', 'KRTAP13-3', 'KRTAP13-4', 'KRTAP15-1', 'KRTAP19-1', 'KRTAP19-2', 'KRTAP19-3', 'KRTAP19-4', 'KRTAP19-5', 'KRTAP19-6', 'KRTAP19-7', 'KRTAP19-8', 'KRTAP20-1', 'KRTAP20-2', 'KRTAP20-3', 'KRTAP21-1', 'KRTAP21-2', 'KRTAP21-3', 'KRTAP22-1', 'KRTAP22-2', 'KRTAP23-1', 'KRTAP24-1', 'KRTAP25-1', 'KRTAP26-1', 'KRTAP27-1', 'KRTAP6-1', 'KRTAP6-2', 'KRTAP6-3', 'KRTAP7-1', 'KRTAP8-1', 'LCA5L', 'LHFPL4', 'LMCD1', 'LRRC3B', 'LRRN1', 'LSM3', 'LSS', 'LTN1', 'MAP3K7CL', 'MCM3AP', 'MED7', 'METTL6', 'MIS18A', 'MKRN2', 'MKRN2OS', 'MOBP', 'MORC3', 'MRAP', 'MRPS25', 'MRPS6', 'MTMR14', 'MYD88', 'NDUFV3', 'NEK10', 'NGLY1', 'NKIRAS1', 'NKX2-6', 'NKX3-1', 'NKX3-2', 'NR1D2', 'NR2C2', 'NUP210', 'OGG1', 'OLIG1', 'OLIG2', 'OXNAD1', 'OXSM', 'OXTR', 'P2RY8', 'PAXBP1', 'PCBP3', 'PCNT', 'PCP4', 'PDE9A', 'PIGP', 'PKNOX1', 'PLCD1', 'PLCL2', 'PLCXD1', 'POMGNT2', 'POU1F1', 'PP2D1', 'PPARG', 'PPP2R3B', 'PRAG1', 'PRR23D1', 'PRR23D2', 'PRRT3', 'PSMG1', 'PWWP2A', 'RAB24', 'RAB5A', 'RAD18', 'RAF1', 'RARB', 'RBM11', 'RBMS3', 'RBSN', 'RFTN1', 'RIPPLY3', 'RPL15', 'RPL17-C18orf32', 'RPL32', 'RPSA', 'RPUSD3', 'RWDD2B', 'SARAF', 'SATB1', 'SEC13', 'SELENOK', 'SETD4', 'SETD5', 'SETMAR', 'SGO1', 'SH3BGR', 'SH3BP5', 'SHOX', 'SIM2', 'SLC25A38', 'SLC25A6', 'SLC4A7', 'SLC5A3', 'SLC6A1', 'SLC6A11', 'SLC6A6', 'SPATC1L', 'SRGAP3', 'SSUH2', 'STAC', 'STT3B', 'SUMF1', 'SYN2', 'TADA3', 'TAMM41', 'TATDN2', 'TBC1D5', 'TCP10L', 'TGFBR2', 'THRB', 'THUMPD3', 'TIMD4', 'TIMP4', 'TMED7-TICAM2', 'TMEM40', 'TMEM43', 'TMEM50B', 'TOP2B', 'TRNT1', 'TSEN2', 'TTC1', 'TTC3', 'TTLL3', 'U2AF1', 'UBE2E1', 'UBE2E2', 'URB1', 'USP16', 'USP17L1', 'USP17L3', 'USP17L4', 'USP17L7', 'USP17L8', 'USP25', 'VGLL3', 'VGLL4', 'VHL', 'VILL', 'WDR4', 'WNT7A', 'WRB', 'XG', 'XIRP1', 'XPC', 'YBEY', 'ZBED1', 'ZCWPW2', 'ZNF385D', 'ZNF654', 'ACER1', 'ACP5', 'ACSBG2', 'ALKBH7', 'ANGPTL4', 'ANGPTL6', 'ASPDH', 'BAX', 'BCAT2', 'C19orf38', 'C19orf48', 'C19orf66', 'C19orf73', 'C19orf81', 'CA11', 'CARM1', 'CCDC114', 'CCDC151', 'CD320', 'CDC37', 'CGB1', 'CGB2', 'CGB7', 'CGB8', 'CLPP', 'CNN1', 'CYTH2', 'DBP', 'DHDH', 'DNM2', 'DNMT1', 'DOCK6', 'ECSIT', 'EIF3G', 'ELAVL3', 'ELOF1', 'EMC10', 'EMP3', 'EPOR', 'ERVV-1', 'ERVV-2', 'FAM71E1', 'FAM83E', 'FBXL12', 'FGF21', 'FTL', 'FUT1', 'FUT2', 'GPR32', 'GRIN2D', 'GRWD1', 'GTF2F1', 'GYS1', 'HRC', 'HSD17B14', 'ICAM1', 'ICAM3', 'ICAM4', 'ICAM5', 'IZUMO1', 'JOSD2', 'KANK2', 'KANK3', 'KCNA7', 'KCNJ14', 'KDELR1', 'KLK1', 'KLK10', 'KLK14', 'KLK15', 'KLK2', 'KLK3', 'KLK4', 'KLK7', 'LDLR', 'LHB', 'LIN7B', 'LMTK3', 'LRRC4B', 'MAMSTR', 'MAN2B1', 'MLLT1', 'MRPL4', 'MYBPC2', 'NDUFA7', 'NTF4', 'NTN5', 'NUCB1', 'OLFM2', 'P2RY11', 'PDE4A', 'PIN1', 'PITPNM3', 'PLEKHA4', 'PPAN', 'PPFIA3', 'PPP1R15A', 'PPP2R1A', 'PRKCSH', 'PRR22', 'PSPN', 'QTRT1', 'RAB11B', 'RANBP3', 'RASIP1', 'RAVER1', 'RDH8', 'RFX2', 'RGL3', 'RPL18', 'RPS28', 'RUVBL2', 'S1PR2', 'SMARCA4', 'SNRNP70', 'SPACA4', 'SPC24', 'SPHK2', 'SULT2B1', 'SWSAP1', 'SYNGR4', 'SYT3', 'TMED1', 'TMEM143', 'TULP2', 'TYK2', 'UBL5', 'YIPF2', 'ZGLP1', 'ZNF121', 'ZNF136', 'ZNF20', 'ZNF28', 'ZNF331', 'ZNF350', 'ZNF414', 'ZNF432', 'ZNF433', 'ZNF439', 'ZNF44', 'ZNF440', 'ZNF441', 'ZNF442', 'ZNF468', 'ZNF480', 'ZNF490', 'ZNF491', 'ZNF528', 'ZNF534', 'ZNF561', 'ZNF562', 'ZNF563', 'ZNF564', 'ZNF577', 'ZNF578', 'ZNF610', 'ZNF611', 'ZNF613', 'ZNF614', 'ZNF615', 'ZNF616', 'ZNF625', 'ZNF627', 'ZNF649', 'ZNF653', 'ZNF69', 'ZNF700', 'ZNF701', 'ZNF709', 'ZNF761', 'ZNF763', 'ZNF766', 'ZNF791', 'ZNF799', 'ZNF808', 'ZNF813', 'ZNF823', 'ZNF83', 'ZNF836', 'ZNF841', 'ZNF844', 'ZNF846', 'ZNF878', 'ZNF880']\n"
     ]
    }
   ],
   "source": [
    "print(sig_genes_down)"
   ]
  },
  {
   "cell_type": "code",
   "execution_count": 31,
   "metadata": {},
   "outputs": [
    {
     "name": "stderr",
     "output_type": "stream",
     "text": [
      "C:\\Users\\chels\\anaconda3\\lib\\site-packages\\ipykernel_launcher.py:1: SettingWithCopyWarning: \n",
      "A value is trying to be set on a copy of a slice from a DataFrame.\n",
      "Try using .loc[row_indexer,col_indexer] = value instead\n",
      "\n",
      "See the caveats in the documentation: https://pandas.pydata.org/pandas-docs/stable/user_guide/indexing.html#returning-a-view-versus-a-copy\n",
      "  \"\"\"Entry point for launching an IPython kernel.\n"
     ]
    }
   ],
   "source": [
    "sig_genes_down_df['chromosome'] = sig_genes_down_df['chromosome'].str.extract(pat='([0-9,X,Y]+)')"
   ]
  },
  {
   "cell_type": "code",
   "execution_count": 32,
   "metadata": {},
   "outputs": [
    {
     "data": {
      "text/plain": [
       "<matplotlib.axes._subplots.AxesSubplot at 0x20391174a48>"
      ]
     },
     "execution_count": 32,
     "metadata": {},
     "output_type": "execute_result"
    },
    {
     "data": {
      "image/png": "[encoded data removed]",
      "text/plain": [
       "<Figure size 432x288 with 1 Axes>"
      ]
     },
     "metadata": {
      "needs_background": "light"
     },
     "output_type": "display_data"
    }
   ],
   "source": [
    "sns.countplot(x='chromosome', data=sig_genes_down_df)"
   ]
  },
  {
   "cell_type": "code",
   "execution_count": 33,
   "metadata": {},
   "outputs": [
    {
     "name": "stdout",
     "output_type": "stream",
     "text": [
      "['ARHGEF2', 'C2CD4D', 'CTSK', 'CTSS', 'DAP3', 'ENSA', 'GOLPH3L', 'GON4L', 'HORMAD1', 'LAMTOR2', 'LINGO4', 'LMNA', 'MEX3A', 'MRPL9', 'RAB25', 'RIIAD1', 'RIT1', 'RORC', 'RXFP4', 'SEMA4A', 'SSR2', 'SYT11', 'TDRKH', 'THEM4', 'UBQLN4', 'AAR2', 'AASS', 'ABCA13', 'ABCB5', 'ABCB8', 'ABHD12', 'ABHD16B', 'ACHE', 'ACOT8', 'ACSS1', 'ACSS2', 'ACTL10', 'ACTL6B', 'ACTR3C', 'ACTR5', 'ADA', 'ADAM22', 'ADAM33', 'ADAP1', 'ADCK2', 'ADCY1', 'ADCYAP1R1', 'ADIG', 'ADNP', 'ADRA1D', 'ADRM1', 'AEBP1', 'AGBL3', 'AGFG2', 'AGK', 'AGMO', 'AGR2', 'AGR3', 'AHCY', 'AHCYL2', 'AHR', 'AIMP2', 'AKAP9', 'AKR1B1', 'AKR1B10', 'AKR1B15', 'AKR1D1', 'ALKBH4', 'AMPH', 'AMZ1', 'ANGPT4', 'ANKEF1', 'ANKIB1', 'ANKMY2', 'ANKRD61', 'ANKRD7', 'ANLN', 'AOAH', 'AOC1', 'AP1S1', 'AP4M1', 'AP5S1', 'APCDD1L', 'APMAP', 'AQP1', 'ARF5', 'ARFGAP1', 'ARFGEF2', 'ARFRP1', 'ARHGAP40', 'ARHGEF35', 'ARHGEF5', 'ARL4A', 'ARMC10', 'ARPC1A', 'ARPC1B', 'ASB15', 'ASB4', 'ASIC3', 'ASIP', 'ASNS', 'ASZ1', 'ATP6V0A4', 'ATP6V0E2', 'ATP9A', 'ATRN', 'ATXN7L1', 'AURKA', 'AVL9', 'AZGP1', 'B4GALT5', 'BAIAP2L1', 'BANF2', 'BBS9', 'BCAS1', 'BCAS4', 'BCL2L1', 'BET1', 'BFSP1', 'BHLHA15', 'BHLHE23', 'BIRC7', 'BLCAP', 'BLVRA', 'BMP2', 'BMP7', 'BMPER', 'BPGM', 'BPI', 'BPIFA1', 'BPIFA2', 'BPIFA3', 'BPIFB1', 'BPIFB2', 'BPIFB3', 'BPIFB4', 'BPIFB6', 'BRAF', 'BRI3', 'BTBD3', 'BUD31', 'BZW2', 'C1GALT1', 'C20orf141', 'C20orf144', 'C20orf173', 'C20orf194', 'C20orf202', 'C20orf203', 'C20orf27', 'C20orf85', 'C7orf25', 'C7orf26', 'C7orf31', 'C7orf43', 'C7orf50', 'C7orf57', 'C7orf61', 'CABLES2', 'CADPS2', 'CALCR', 'CALD1', 'CALU', 'CAMK2B', 'CAPZA2', 'CASD1', 'CASP2', 'CASS4', 'CAV1', 'CAV2', 'CBFA2T2', 'CBLL1', 'CBLN4', 'CBX3', 'CCDC126', 'CCDC71L', 'CCM2', 'CCM2L', 'CCT6A', 'CCZ1', 'CCZ1B', 'CD40', 'CD93', 'CDC25B', 'CDCA7L', 'CDH22', 'CDH26', 'CDH4', 'CDHR3', 'CDK13', 'CDK14', 'CDK5', 'CDK5RAP1', 'CDK6', 'CDS2', 'CEBPB', 'CENPB', 'CEP250', 'CEP41', 'CFTR', 'CHCHD2', 'CHD6', 'CHGB', 'CHMP4B', 'CHN2', 'CHRM2', 'CHRNA4', 'CLDN12', 'CLDN15', 'CLEC2L', 'CLEC5A', 'CNBD2', 'CNOT4', 'CNPY4', 'CNTNAP2', 'COA1', 'COBL', 'COL1A2', 'COL20A1', 'COL28A1', 'COL9A3', 'COMMD7', 'COPS6', 'COX19', 'COX4I2', 'CPA1', 'CPA2', 'CPA4', 'CPA5', 'CPED1', 'CPNE1', 'CPSF4', 'CPVL', 'CPXM1', 'CREB3L2', 'CREB5', 'CRHR2', 'CRLS1', 'CRNKL1', 'CSE1L', 'CST1', 'CST11', 'CST2', 'CST3', 'CST4', 'CST5', 'CST7', 'CST8', 'CST9', 'CST9L', 'CSTF1', 'CSTL1', 'CTAGE15', 'CTAGE6', 'CTCFL', 'CTNNBL1', 'CTSA', 'CTSZ', 'CTTNBP2', 'CUX1', 'CYCS', 'CYP24A1', 'CYP2W1', 'CYP3A4', 'CYP3A43', 'CYP3A5', 'CYP3A7', 'CYP51A1', 'CYTH3', 'DAGLB', 'DBF4', 'DBNDD2', 'DBNL', 'DDC', 'DDRGK1', 'DDX27', 'DDX56', 'DEFB115', 'DEFB116', 'DEFB118', 'DEFB119', 'DEFB121', 'DEFB123', 'DEFB124', 'DENND2A', 'DGKB', 'DGKI', 'DHX35', 'DIDO1', 'DLD', 'DLGAP4', 'DLX5', 'DLX6', 'DMTF1', 'DNAH11', 'DNAJB9', 'DNAJC2', 'DNAJC5', 'DNMT3B', 'DNTTIP1', 'DOK5', 'DPM1', 'DPY19L1', 'DSN1', 'DSTN', 'DTD1', 'DUSP15', 'DYNC1I1', 'DYNLRB1', 'DZANK1', 'E2F1', 'EDEM2', 'EDN3', 'EEF1A2', 'EEPD1', 'EFCAB10', 'EGFR', 'EIF2AK1', 'EIF2S2', 'EIF6', 'ELFN1', 'ELMO1', 'ELMO2', 'EMILIN3', 'EPB41L1', 'EPDR1', 'EPHA1', 'EPHB4', 'EPHB6', 'EPO', 'EPPIN', 'ERGIC3', 'ESF1', 'ETV1', 'EVX1', 'EXOC4', 'EYA2', 'FAM126A', 'FAM131B', 'FAM133B', 'FAM180A', 'FAM185A', 'FAM200A', 'FAM209A', 'FAM209B', 'FAM20C', 'FAM210B', 'FAM217B', 'FAM220A', 'FAM221A', 'FAM3C', 'FAM71F1', 'FAM71F2', 'FAM83C', 'FAM83D', 'FASTK', 'FASTKD5', 'FBXL13', 'FBXO24', 'FERD3L', 'FERMT1', 'FEZF1', 'FIGNL1', 'FIS1', 'FITM2', 'FKBP14', 'FKBP1A', 'FKBP9', 'FLRT3', 'FOXA2', 'FOXP2', 'FOXS1', 'FSCN3', 'FZD1', 'GAL3ST4', 'GARS', 'GATA5', 'GATAD1', 'GCC1', 'GCK', 'GDAP1L1', 'GDF5', 'GET4', 'GFRA4', 'GGCT', 'GGT7', 'GGTLC1', 'GHRH', 'GHRHR', 'GID8', 'GIGYF1', 'GIMAP1', 'GIMAP2', 'GIMAP4', 'GIMAP5', 'GIMAP6', 'GIMAP7', 'GIMAP8', 'GINS1', 'GJC3', 'GLCCI1', 'GLI3', 'GMEB2', 'GNA12', 'GNAS', 'GNB2', 'GNG11', 'GNGT1', 'GPC2', 'GPCPD1', 'GPNMB', 'GPR141', 'GPR146', 'GPR22', 'GPR37', 'GPR85', 'GRB10', 'GRID2IP', 'GRM3', 'GRM8', 'GSS', 'GSTK1', 'GTPBP10', 'GTSF1L', 'GZF1', 'H2AFV', 'HAO1', 'HBP1', 'HCK', 'HDAC9', 'HECW1', 'HELZ2', 'HEPACAM2', 'HERPUD2', 'HIBADH', 'HILPDA', 'HIPK2', 'HM13', 'HNF4A', 'HNRNPA2B1', 'HOXA1', 'HOXA10', 'HOXA11', 'HOXA13', 'HOXA2', 'HOXA3', 'HOXA4', 'HOXA5', 'HOXA6', 'HOXA7', 'HOXA9', 'HRH3', 'HSPA12B', 'HUS1', 'HYAL4', 'ICA1', 'ID1', 'IFRD1', 'IFT52', 'IGF2BP3', 'IGFBP1', 'IGFBP3', 'IKZF1', 'IL6', 'IMMP2L', 'IMPDH1', 'ING3', 'INHBA', 'INMT', 'INSM1', 'INTS1', 'IQCE', 'IQUB', 'IRF5', 'ISM1', 'ISPD', 'ITCH', 'ITGB8', 'ITPA', 'JAG1', 'JAZF1', 'JPH2', 'KBTBD2', 'KCNB1', 'KCND2', 'KCNG1', 'KCNH2', 'KCNK15', 'KCNQ2', 'KCNS1', 'KDELR2', 'KEL', 'KIAA0895', 'KIAA1147', 'KIAA1549', 'KIAA1755', 'KIF16B', 'KIF3B', 'KLF14', 'KLHDC10', 'KLHL7', 'KLRG2', 'KMT2C', 'KMT2E', 'KPNA7', 'KRIT1', 'L3MBTL1', 'LAMA5', 'LAMB1', 'LAMB4', 'LAMP5', 'LAMTOR4', 'LANCL2', 'LBP', 'LHFPL3', 'LIME1', 'LMOD2', 'LMTK2', 'LPIN3', 'LRCH4', 'LRGUK', 'LRRC17', 'LRRC4', 'LRRC61', 'LRRC72', 'LRRD1', 'LRRN3', 'LRRN4', 'LRWD1', 'LSM14B', 'LSM5', 'LSMEM1', 'LUC7L2', 'LZTS3', 'MACC1', 'MACROD2', 'MAD1L1', 'MAFB', 'MAFK', 'MALSU1', 'MANBAL', 'MAP1LC3A', 'MAPRE1', 'MATN4', 'MAVS', 'MBLAC1', 'MC3R', 'MCM7', 'MDFIC', 'MEOX2', 'MEPCE', 'MEST', 'MET', 'METTL2B', 'MGAM', 'MGME1', 'MICALL2', 'MIOS', 'MKKS', 'MKLN1', 'MKRN1', 'MMP24', 'MMP9', 'MOCS3', 'MOGAT3', 'MOSPD3', 'MPLKIP', 'MPP6', 'MRGBP', 'MRPL32', 'MRPS17', 'MRPS24', 'MRPS33', 'MTG2', 'MTRNR2L3', 'MTRNR2L6', 'MUC17', 'MYBL2', 'MYH7B', 'MYL7', 'MYL9', 'MYLK2', 'MYO1G', 'MYT1', 'NAA20', 'NACAD', 'NAMPT', 'NANP', 'NAPB', 'NAPEPLD', 'NAT16', 'NCOA3', 'NCOA5', 'NCOA6', 'NDRG3', 'NDUFA4', 'NDUFA5', 'NDUFAF5', 'NDUFB2', 'NECAB3', 'NELFCD', 'NEURL2', 'NEUROD6', 'NFATC2', 'NFE2L3', 'NFS1', 'NINL', 'NKAIN4', 'NME8', 'NNAT', 'NOBOX', 'NOD1', 'NOS3', 'NPBWR2', 'NPC1L1', 'NPEPL1', 'NPSR1', 'NPTX2', 'NPVF', 'NPY', 'NRCAM', 'NRF1', 'NSFL1C', 'NT5C3A', 'NTSR1', 'NUDCD3', 'NUPL2', 'NXPH1', 'NXT1', 'NYAP1', 'OCM', 'OCM2', 'OCSTAMP', 'OGDH', 'OGFR', 'OPRL1', 'OR2A12', 'OR2A14', 'OR2A2', 'OR2A25', 'OR2A5', 'OR2AE1', 'OR2F1', 'OR2F2', 'OR6B1', 'OR6V1', 'OR9A2', 'OR9A4', 'ORAI2', 'ORC5', 'OSBPL2', 'OSBPL3', 'OSER1', 'OTOR', 'OVOL2', 'PABPC1L', 'PANK2', 'PARD6B', 'PARP12', 'PAX1', 'PAX4', 'PCED1A', 'PCIF1', 'PCK1', 'PCMTD2', 'PCNA', 'PCOLCE', 'PCSK2', 'PDAP1', 'PDE1C', 'PDGFA', 'PDK4', 'PDRG1', 'PDYN', 'PEG10', 'PET117', 'PEX1', 'PFDN4', 'PGAM2', 'PHACTR3', 'PHF14', 'PHF20', 'PHKG1', 'PI3', 'PIGT', 'PIGU', 'PIK3CG', 'PILRA', 'PILRB', 'PIP', 'PKD1L1', 'PKIG', 'PLAGL2', 'PLCB1', 'PLCB4', 'PLCG1', 'PLEKHA8', 'PLOD3', 'PLTP', 'PLXNA4', 'PMEPA1', 'PMPCB', 'PMS2', 'PNPLA8', 'PODXL', 'POFUT1', 'POLD2', 'POLM', 'POLR2J', 'POLR2J2', 'POLR2J3', 'POLR3F', 'POM121L12', 'PON1', 'PON2', 'PON3', 'POP7', 'POT1', 'POU6F2', 'PPDPF', 'PPIA', 'PPP1R16B', 'PPP1R17', 'PPP1R35', 'PPP1R3A', 'PPP1R3D', 'PPP1R9A', 'PRKAG2', 'PRKAR1B', 'PRKAR2B', 'PRKRIP1', 'PRND', 'PRNP', 'PROCR', 'PROKR2', 'PRPF6', 'PRPS1L1', 'PRR15', 'PRRT4', 'PRSS1', 'PRSS37', 'PRSS58', 'PSMA2', 'PSMA7', 'PSMC2', 'PSMF1', 'PSMG3', 'PSPH', 'PTCD1', 'PTGIS', 'PTK6', 'PTN', 'PTPN1', 'PTPRT', 'PTPRZ1', 'PURB', 'PUS7', 'PVRIG', 'PXMP4', 'PYGB', 'R3HDML', 'RAB19', 'RAB22A', 'RAC1', 'RAD21L1', 'RAE1', 'RALA', 'RALGAPA2', 'RALGAPB', 'RALY', 'RAMP3', 'RAPGEF5', 'RARRES2', 'RASA4', 'RASA4B', 'RASSF2', 'RBBP8NL', 'RBBP9', 'RBL1', 'RBM12', 'RBM28', 'RBM38', 'RBM39', 'RBM48', 'RBPJL', 'RELN', 'REM1', 'REPIN1', 'RGS19', 'RIMS4', 'RIN2', 'RINT1', 'RNF114', 'RNF133', 'RNF148', 'RNF216', 'RNF24', 'ROMO1', 'RP9', 'RPA3', 'RPN2', 'RPRD1B', 'RPS21', 'RSPH10B', 'RSPO4', 'RTEL1', 'SALL4', 'SAMD10', 'SAMD9', 'SAMD9L', 'SAMHD1', 'SAP25', 'SCAND1', 'SCIN', 'SCP2D1', 'SCRN1', 'SDC4', 'SDCBP2', 'SEC23B', 'SEC61G', 'SEL1L2', 'SEMA3A', 'SEMA3E', 'SEMG1', 'SEMG2', 'SEPT14', 'SEPT7', 'SERINC3', 'SERPINE1', 'SFRP4', 'SGCE', 'SGK2', 'SH2B2', 'SIGLEC1', 'SIRPA', 'SIRPB1', 'SIRPB2', 'SIRPD', 'SIRPG', 'SKAP2', 'SLA2', 'SLC12A5', 'SLC12A9', 'SLC13A1', 'SLC13A3', 'SLC13A4', 'SLC23A2', 'SLC24A3', 'SLC25A13', 'SLC25A40', 'SLC26A3', 'SLC26A4', 'SLC26A5', 'SLC2A10', 'SLC2A4RG', 'SLC32A1', 'SLC35B4', 'SLC35C2', 'SLC37A3', 'SLC4A11', 'SLC4A2', 'SLC9A8', 'SLCO4A1', 'SLPI', 'SLX4IP', 'SMKR1', 'SMO', 'SMOX', 'SMURF1', 'SNAI1', 'SNAP25', 'SND1', 'SNPH', 'SNRPB2', 'SNTA1', 'SNX10', 'SNX13', 'SNX21', 'SNX5', 'SOGA1', 'SOSTDC1', 'SOX18', 'SP4', 'SP8', 'SPAG4', 'SPAM1', 'SPATA2', 'SPATA25', 'SPDYE1', 'SPDYE2', 'SPDYE2B', 'SPDYE3', 'SPDYE6', 'SPEF1', 'SPINT3', 'SPINT4', 'SPO11', 'SPTLC3', 'SRC', 'SRI', 'SRMS', 'SRPK2', 'SRRT', 'SRSF6', 'SS18L1', 'SSBP1', 'SSMEM1', 'SSPO', 'SSTR4', 'ST7', 'STAG3', 'STARD3NL', 'STAU1', 'STEAP1', 'STEAP1B', 'STEAP2', 'STEAP4', 'STK17A', 'STK31', 'STK35', 'STK4', 'STMN3', 'STRA8', 'STRIP2', 'STX16', 'SULF2', 'SUMF2', 'SUN1', 'SUN3', 'SUN5', 'SVOPL', 'SYCP2', 'SYNDIG1', 'SYPL1', 'SYS1', 'TAC1', 'TAF4', 'TAF6', 'TAS2R16', 'TAS2R3', 'TAS2R39', 'TAS2R4', 'TAS2R40', 'TAS2R41', 'TAS2R5', 'TAS2R60', 'TASP1', 'TAX1BP1', 'TBRG4', 'TBX20', 'TCEA2', 'TCFL5', 'TECPR1', 'TES', 'TFAP2C', 'TFEC', 'TFPI2', 'TFR2', 'TGIF2', 'TGM2', 'TGM3', 'THAP5', 'THBD', 'THSD7A', 'TLDC2', 'TM9SF4', 'TMED4', 'TMEM106B', 'TMEM130', 'TMEM139', 'TMEM140', 'TMEM168', 'TMEM176A', 'TMEM176B', 'TMEM178B', 'TMEM184A', 'TMEM196', 'TMEM209', 'TMEM213', 'TMEM229A', 'TMEM230', 'TMEM239', 'TMEM74B', 'TMX4', 'TNFRSF6B', 'TNNC2', 'TNPO3', 'TNS3', 'TOMM34', 'TOMM7', 'TOP1', 'TOX2', 'TP53INP2', 'TP53RK', 'TP53TG5', 'TPD52L2', 'TPK1', 'TPX2', 'TRA2A', 'TRIL', 'TRIM24', 'TRIM4', 'TRIM56', 'TRIP6', 'TRPC4AP', 'TRPV5', 'TRPV6', 'TRRAP', 'TSC22D4', 'TSGA13', 'TSHZ2', 'TSPAN12', 'TSPAN13', 'TTC26', 'TTI1', 'TTLL9', 'TTPAL', 'TTYH3', 'TUBB1', 'TWIST1', 'TWISTNB', 'UBE2C', 'UBE2D4', 'UBE2H', 'UBE2V1', 'UBN2', 'UBOX5', 'UCKL1', 'UFSP1', 'UNCX', 'UPP1', 'URGCP', 'USP42', 'VAPB', 'VGF', 'VOPP1', 'VPS16', 'VPS41', 'VSTM2A', 'VSTM2L', 'VSX1', 'VWC2', 'VWDE', 'WASL', 'WDR91', 'WEE2', 'WFDC10A', 'WFDC10B', 'WFDC11', 'WFDC12', 'WFDC13', 'WFDC2', 'WFDC3', 'WFDC5', 'WFDC6', 'WFDC8', 'WFDC9', 'WIPF3', 'WISP2', 'WNT16', 'WNT2', 'XKR7', 'XRN2', 'YKT6', 'YTHDF1', 'YWHAB', 'ZAN', 'ZBED6CL', 'ZBP1', 'ZBTB46', 'ZC3HAV1', 'ZC3HAV1L', 'ZC3HC1', 'ZCWPW1', 'ZDHHC4', 'ZFAND2A', 'ZFP64', 'ZGPAT', 'ZHX3', 'ZKSCAN1', 'ZKSCAN5', 'ZMIZ2', 'ZMYND8', 'ZNF12', 'ZNF212', 'ZNF217', 'ZNF277', 'ZNF282', 'ZNF3', 'ZNF334', 'ZNF335', 'ZNF337', 'ZNF341', 'ZNF394', 'ZNF398', 'ZNF425', 'ZNF467', 'ZNF512B', 'ZNF655', 'ZNF713', 'ZNF716', 'ZNF746', 'ZNF775', 'ZNF777', 'ZNF783', 'ZNF786', 'ZNF789', 'ZNF800', 'ZNF804B', 'ZNF831', 'ZNF853', 'ZNF862', 'ZNFX1', 'ZNHIT1', 'ZNRF2', 'ZPBP', 'ZSCAN21', 'ZSCAN25', 'ZSWIM1', 'ZSWIM3', 'ZYX', 'AADAC', 'AADACL2', 'AARD', 'ABCC5', 'ABCF3', 'ABRA', 'ACAP2', 'ACTL6A', 'ACTRT3', 'ADAM15', 'ADAMTS12', 'ADAMTS16', 'ADCK5', 'ADCY2', 'ADCY8', 'ADHFE1', 'ADIPOQ', 'AGO2', 'AGTR1', 'AGXT2', 'AHRR', 'AHSG', 'ALG3', 'AMACR', 'AMOTL2', 'ANGPT1', 'ANKH', 'ANKRD33B', 'ANKRD46', 'ANKUB1', 'ANXA13', 'ANXA2R', 'AP2M1', 'AP3M2', 'APOD', 'ARC', 'ARFGEF1', 'ARHGAP39', 'ARHGEF26', 'ARL14', 'ARMC1', 'ASAP1', 'ASPH', 'ASTN1', 'ATAD2', 'ATP11B', 'ATP13A3', 'ATP13A4', 'ATP13A5', 'ATP6V0D2', 'ATP6V1C1', 'AZIN1', 'B3GALNT1', 'B3GNT5', 'BAALC', 'BASP1', 'BCHE', 'BCL6', 'BDH1', 'BHLHE22', 'BLZF1', 'BOP1', 'BRD9', 'BRIX1', 'C1QTNF3', 'C1orf105', 'C3orf33', 'C3orf70', 'C3orf80', 'C5orf22', 'C5orf34', 'C5orf38', 'C5orf49', 'C5orf51', 'C6', 'C7', 'C8orf31', 'C8orf33', 'C8orf34', 'C8orf37', 'C8orf44', 'C8orf46', 'C8orf76', 'C8orf82', 'C8orf87', 'C9', 'CA1', 'CA13', 'CA2', 'CA3', 'CA8', 'CALB1', 'CAMK2N2', 'CAPSL', 'CARD6', 'CCDC127', 'CCDC14', 'CCDC152', 'CCDC166', 'CCDC181', 'CCDC39', 'CCDC50', 'CCL28', 'CCNE2', 'CCNL1', 'CCT5', 'CDH10', 'CDH12', 'CDH17', 'CDH18', 'CDH6', 'CDH9', 'CEBPD', 'CEP72', 'CHD7', 'CHMP4C', 'CHRAC1', 'CHRD', 'CHST2', 'CKS1B', 'CLCN2', 'CLDN1', 'CLDN11', 'CLDN16', 'CLK2', 'CLPTM1L', 'CLRN1', 'CLSTN2', 'CMBL', 'CNBD1', 'CNGB3', 'COL14A1', 'COL22A1', 'COLEC10', 'COMMD2', 'COMMD5', 'COPB2', 'COPS5', 'COX6C', 'CPA3', 'CPA6', 'CPB1', 'CPNE3', 'CPQ', 'CPSF1', 'CRH', 'CRISPLD1', 'CRYBG3', 'CRYGS', 'CSMD3', 'CSPP1', 'CTHRC1', 'CTNND2', 'CTTN', 'CYC1', 'CYHR1', 'CYP11B1', 'CYP11B2', 'CYP7B1', 'DAB2', 'DAP', 'DCAF13', 'DCAF4L2', 'DCST1', 'DCST2', 'DCSTAMP', 'DCUN1D1', 'DECR1', 'DENND3', 'DEPTOR', 'DERL1', 'DGAT1', 'DGKG', 'DHX36', 'DKK4', 'DNAH5', 'DNAJB11', 'DNAJC19', 'DNAJC21', 'DNAJC5B', 'DNM3', 'DPM3', 'DPY19L4', 'DPYS', 'DROSHA', 'DSCC1', 'DVL3', 'E2F5', 'EBAG9', 'ECE2', 'ECT2', 'EEF1D', 'EFCAB1', 'EFNA1', 'EFNA3', 'EFNA4', 'EFR3A', 'EGFLAM', 'EHHADH', 'EIF2A', 'EIF2B5', 'EIF3E', 'EIF3H', 'EIF4A2', 'EIF4G1', 'EIF5A2', 'EMC2', 'ENPP2', 'ENY2', 'EPHB1', 'EPHB3', 'EPPK1', 'ESRP1', 'ETV5', 'EXOC3', 'EXOSC4', 'EXT1', 'EYA1', 'FABP12', 'FABP4', 'FABP5', 'FABP9', 'FAM131A', 'FAM135B', 'FAM173B', 'FAM189B', 'FAM43A', 'FAM49B', 'FAM83A', 'FAM83H', 'FAM84B', 'FAM91A1', 'FASLG', 'FASTKD3', 'FBXL6', 'FBXL7', 'FBXO32', 'FBXO4', 'FBXO43', 'FCRL5', 'FER1L6', 'FETUB', 'FGF10', 'FGF12', 'FLAD1', 'FNDC3B', 'FOXH1', 'FOXL2', 'FSBP', 'FXR1', 'FYTTD1', 'FZD6', 'GBA', 'GDAP1', 'GDF6', 'GDNF', 'GEM', 'GFM1', 'GGH', 'GHR', 'GHSR', 'GLI4', 'GML', 'GMNC', 'GMPS', 'GNB4', 'GOLIM4', 'GOLPH3', 'GP5', 'GPAA1', 'GPIHBP1', 'GPR149', 'GPR160', 'GPR171', 'GPR20', 'GPR87', 'GPT', 'GRHL2', 'GRINA', 'GSDMC', 'GSDMD', 'GYG1', 'HAS2', 'HCN1', 'HCN3', 'HES1', 'HEY1', 'HGSNAT', 'HHLA1', 'HLTF', 'HMGCS1', 'HNF4G', 'HPS3', 'HRG', 'HSF1', 'HTR3C', 'HTR3D', 'HTR3E', 'IDO1', 'IFT80', 'IGF2BP2', 'IGSF10', 'IKBKB', 'IL12A', 'IL1RAP', 'IL7', 'IL7R', 'IMPA1', 'INTS8', 'IQCG', 'IQCJ', 'IQSEC3', 'IRF2BP2', 'IRX1', 'IRX2', 'IRX4', 'JPH1', 'JRK', 'KALRN', 'KAT6A', 'KCNAB1', 'KCNB2', 'KCNK9', 'KCNMB2', 'KCNMB3', 'KCNQ3', 'KCNS2', 'KCNV1', 'KDM5A', 'KHDRBS3', 'KIAA1429', 'KIFC2', 'KLF10', 'KLHL24', 'KLHL38', 'KLHL6', 'KNG1', 'KPNA4', 'KRTCAP2', 'LACTB2', 'LAMP3', 'LAPTM4B', 'LEKR1', 'LENEP', 'LIFR', 'LIPH', 'LMBRD2', 'LMLN', 'LPCAT1', 'LPP', 'LRCH3', 'LRP12', 'LRRC14', 'LRRC14B', 'LRRC15', 'LRRC24', 'LRRC31', 'LRRC34', 'LRRC6', 'LRRC69', 'LRRCC1', 'LRRIQ4', 'LSG1', 'LXN', 'LY6D', 'LY6E', 'LY6H', 'LY6K', 'LY96', 'LYNX1', 'LYPD2', 'MAF1', 'MAFA', 'MAGEF1', 'MAL2', 'MAP3K13', 'MAP6D1', 'MAPK15', 'MARCH11', 'MARCH6', 'MASP1', 'MATN2', 'MB21D2', 'MBNL1', 'MCCC1', 'MCF2L2', 'MCM4', 'MCMDC2', 'MECOM', 'MED10', 'MED12L', 'MED30', 'MFSD1', 'MFSD3', 'MLF1', 'MME', 'MMP16', 'MROH1', 'MROH2B', 'MROH6', 'MRPL13', 'MRPL36', 'MRPL47', 'MRPS22', 'MRPS28', 'MRPS30', 'MSC', 'MTBP', 'MTDH', 'MTFR1', 'MTMR12', 'MTRR', 'MTSS1', 'MTX1', 'MUC1', 'MUC20', 'MUC4', 'MYBL1', 'MYC', 'MYNN', 'MYO10', 'NAALADL2', 'NADK2', 'NBN', 'NCALD', 'NCEH1', 'NCOA2', 'NDRG1', 'NDUFAF6', 'NDUFB5', 'NDUFB9', 'NDUFS6', 'NECAB1', 'NIPAL2', 'NIPBL', 'NKAIN3', 'NKD2', 'NLGN1', 'NMD3', 'NME7', 'NMNAT3', 'NNT', 'NOV', 'NPR3', 'NRBP2', 'NSMCE2', 'NSUN2', 'NUDCD1', 'NUP155', 'OC90', 'ODF1', 'OPA1', 'OPLAH', 'OR14I1', 'OR2G6', 'OR2T1', 'OR2T10', 'OR2T2', 'OR2T27', 'OR2T29', 'OR2T3', 'OR2T34', 'OR2T35', 'OR2T5', 'OSGIN2', 'OSMR', 'OSR2', 'OSTN', 'OTOL1', 'OTUD6B', 'OXCT1', 'OXR1', 'P2RY1', 'P2RY12', 'P2RY13', 'P2RY14', 'PABPC1', 'PAG1', 'PAIP1', 'PAQR9', 'PARL', 'PARP10', 'PBXIP1', 'PCOLCE2', 'PCYT1A', 'PDCD10', 'PDCD6', 'PDE7A', 'PDP1', 'PDZD2', 'PEX2', 'PEX5L', 'PFN2', 'PGBD2', 'PHC3', 'PHF20L1', 'PI15', 'PIGC', 'PIK3CA', 'PKHD1L1', 'PKIA', 'PKLR', 'PLAT', 'PLCH1', 'PLCXD3', 'PLD1', 'PLEC', 'PLEKHA2', 'PLEKHF2', 'PLEKHG4B', 'PLOD2', 'PLSCR1', 'PLSCR2', 'PLSCR4', 'PLSCR5', 'PMP2', 'POLB', 'POLR2H', 'POLR2K', 'POP1', 'POU5F1B', 'PPFIA1', 'PPM1L', 'PPP1R16A', 'PPP1R2', 'PPP1R42', 'PRDM14', 'PRDM9', 'PREX2', 'PRKAA1', 'PRKCI', 'PRLR', 'PRR23A', 'PRR23B', 'PRR23C', 'PSCA', 'PSKH2', 'PSMD2', 'PTDSS1', 'PTGER4', 'PTK2', 'PTP4A3', 'PTX3', 'PUF60', 'PYCRL', 'PYDC2', 'PYGO2', 'RAB6B', 'RAD1', 'RAD21', 'RAD54B', 'RAI14', 'RALYL', 'RANBP3L', 'RAP2B', 'RARRES1', 'RASA2', 'RBM12B', 'RBP1', 'RBP2', 'RDH10', 'RECQL4', 'RFC4', 'RGS22', 'RHPN1', 'RICTOR', 'RIMS2', 'RIPK2', 'RMDN1', 'RNF13', 'RNF139', 'RNF19A', 'ROPN1', 'ROPN1L', 'RPL22L1', 'RPL30', 'RPL35A', 'RPL37', 'RPL39L', 'RPL7', 'RPL8', 'RRM2B', 'RRS1', 'RSPO2', 'RSRC1', 'RTP1', 'RTP2', 'RTP4', 'RUNX1T1', 'RXFP3', 'SAMD12', 'SAMD7', 'SBSPON', 'SCAMP3', 'SCARNA20', 'SCHIP1', 'SCRIB', 'SCRT1', 'SDC2', 'SDHA', 'SEC16B', 'SEC62', 'SELE', 'SELL', 'SELP', 'SEMA5A', 'SENP2', 'SERP1', 'SERPINI1', 'SERPINI2', 'SGK3', 'SH3BP5L', 'SHARPIN', 'SHC1', 'SHOX2', 'SI', 'SIAH2', 'SKIL', 'SKP2', 'SLA', 'SLC10A5', 'SLC12A7', 'SLC19A2', 'SLC1A3', 'SLC20A2', 'SLC25A32', 'SLC25A36', 'SLC26A7', 'SLC2A2', 'SLC30A8', 'SLC33A1', 'SLC39A4', 'SLC45A2', 'SLC45A4', 'SLC50A1', 'SLC51A', 'SLC52A2', 'SLC6A12', 'SLC6A13', 'SLC6A18', 'SLC6A19', 'SLC6A3', 'SLC7A13', 'SLC7A14', 'SLC9A3', 'SLC9A9', 'SLCO2A1', 'SLCO5A1', 'SLITRK3', 'SLURP1', 'SMC4', 'SMIM19', 'SNORA25', 'SNORA26', 'SNORA31', 'SNORA4', 'SNORA40', 'SNORA51', 'SNORA63', 'SNORA67', 'SNORA70', 'SNORA72', 'SNORD112', 'SNTB1', 'SNX16', 'SNX31', 'SOX2', 'SPAG1', 'SPATA16', 'SPATC1', 'SPEF2', 'SPIDR', 'SPTSSB', 'SQLE', 'SRD5A1', 'SRPRB', 'SSR3', 'SST', 'ST3GAL1', 'ST6GAL1', 'STAU2', 'STK3', 'STMN2', 'SUB1', 'SUCNR1', 'SUCO', 'SULF1', 'SYBU', 'TAF2', 'TARS', 'TAS2R1', 'TATDN1', 'TBC1D31', 'TBCCD1', 'TBL1XR1', 'TCF24', 'TCTEX1D2', 'TERF1', 'TERT', 'TFRC', 'TG', 'THBS3', 'THEM6', 'THPO', 'TIGD5', 'TIPARP', 'TM4SF1', 'TM4SF18', 'TM4SF19', 'TM4SF4', 'TMEM207', 'TMEM212', 'TMEM249', 'TMEM41A', 'TMEM44', 'TMEM55A', 'TMEM64', 'TMEM65', 'TMEM67', 'TMEM70', 'TMEM71', 'TMEM74', 'TNFRSF11B', 'TNFSF10', 'TNIK', 'TNK2', 'TONSL', 'TOP1MT', 'TP53INP1', 'TP63', 'TPD52', 'TPPP', 'TPRG1', 'TRA2B', 'TRAM1', 'TRAPPC9', 'TRHR', 'TRIB1', 'TRIM42', 'TRIM46', 'TRIM55', 'TRIM59', 'TRIO', 'TRIP13', 'TRIQK', 'TRMT12', 'TRPA1', 'TRPC1', 'TRPS1', 'TSC22D2', 'TSNARE1', 'TSPYL5', 'TSTA3', 'TTC14', 'TTC23L', 'TTC33', 'TTPA', 'U2SURP', 'U3', 'U6', 'U8', 'UBE2QL1', 'UBE2W', 'UBR5', 'UGT3A1', 'UGT3A2', 'UQCRB', 'USP13', 'UTP23', 'UTS2B', 'VCPIP1', 'VDAC3', 'VEPH1', 'VPS13B', 'VPS28', 'VPS8', 'VWA5B2', 'WDR49', 'WDR70', 'WDYHV1', 'WISP1', 'WWP1', 'WWTR1', 'XKR9', 'XXYLT1', 'YEATS2', 'YWHAZ', 'ZBBX', 'ZBTB10', 'ZBTB38', 'ZBTB7B', 'ZC2HC1A', 'ZC3H3', 'ZDHHC11', 'ZDHHC11B', 'ZDHHC19', 'ZFAND1', 'ZFAT', 'ZFHX4', 'ZFP41', 'ZFPM2', 'ZFR', 'ZHX1', 'ZHX2', 'ZIC1', 'ZIC4', 'ZMAT3', 'ZNF131', 'ZNF16', 'ZNF250', 'ZNF251', 'ZNF34', 'ZNF517', 'ZNF572', 'ZNF622', 'ZNF623', 'ZNF639', 'ZNF672', 'ZNF692', 'ZNF696', 'ZNF7', 'ZNF704', 'ZNF706', 'ZNF707', 'snoU13', 'C8orf88', 'ERICH5']\n"
     ]
    }
   ],
   "source": [
    "print(sig_genes_up)"
   ]
  },
  {
   "cell_type": "markdown",
   "metadata": {},
   "source": [
    "## Visualizations"
   ]
  },
  {
   "cell_type": "code",
   "execution_count": 34,
   "metadata": {},
   "outputs": [],
   "source": [
    "luad_genes_up_in_list = [value for value in sig_genes_up if value in luad_sig_genes_up]\n",
    "hnscc_genes_up_in_list = [value for value in sig_genes_up if value in hnscc_sig_genes_up]\n",
    "ovarian_genes_up_in_list = [value for value in sig_genes_up if value in ovarian_sig_genes_up]\n",
    "brca_genes_up_in_list = [value for value in sig_genes_up if value in brca_sig_genes_up]\n",
    "gbm_genes_up_in_list = [value for value in sig_genes_up if value in gbm_sig_genes_up]\n",
    "en_genes_up_in_list = [value for value in sig_genes_up if value in en_sig_genes_up]\n",
    "lscc_genes_up_in_list = [value for value in sig_genes_up if value in lscc_sig_genes_up]\n",
    "ccrcc_genes_up_in_list = [value for value in sig_genes_up if value in ccrcc_sig_genes_up]\n",
    "colon_genes_up_in_list = [value for value in sig_genes_up if value in colon_sig_genes_up]"
   ]
  },
  {
   "cell_type": "code",
   "execution_count": 35,
   "metadata": {},
   "outputs": [
    {
     "name": "stdout",
     "output_type": "stream",
     "text": [
      "LUAD 794\n",
      "HSNCC 918\n",
      "OVARIAN 1539\n",
      "BRCA 1937\n",
      "GBM 1096\n",
      "ENDO 25\n",
      "LSCC 667\n",
      "CCRCC 2\n",
      "COLON 1542\n"
     ]
    }
   ],
   "source": [
    "print('LUAD', len(luad_genes_up_in_list))\n",
    "print('HSNCC', len(hnscc_genes_up_in_list))\n",
    "print('OVARIAN', len(ovarian_genes_up_in_list))\n",
    "print('BRCA', len(brca_genes_up_in_list))\n",
    "print('GBM', len(gbm_genes_up_in_list))\n",
    "print('ENDO', len(en_genes_up_in_list))\n",
    "print('LSCC', len(lscc_genes_up_in_list))\n",
    "print('CCRCC', len(ccrcc_genes_up_in_list))\n",
    "print('COLON', len(colon_genes_up_in_list))"
   ]
  },
  {
   "cell_type": "markdown",
   "metadata": {},
   "source": [
    "## Plot on Chromosomes"
   ]
  },
  {
   "cell_type": "code",
   "execution_count": 36,
   "metadata": {},
   "outputs": [],
   "source": [
    "import pyensembl\n",
    "ensembl = pyensembl.EnsemblRelease()"
   ]
  },
  {
   "cell_type": "code",
   "execution_count": 37,
   "metadata": {},
   "outputs": [
    {
     "data": {
      "text/plain": [
       "[Gene(gene_id='ENSG00000141736', gene_name='ERBB2', biotype='protein_coding', contig='17', start=39687914, end=39730426, strand='+', genome='GRCh38')]"
      ]
     },
     "execution_count": 37,
     "metadata": {},
     "output_type": "execute_result"
    }
   ],
   "source": [
    "ensembl.genes_by_name('ERBB2')"
   ]
  },
  {
   "cell_type": "code",
   "execution_count": 38,
   "metadata": {},
   "outputs": [],
   "source": [
    "def add_chromo_and_loc(my_dict, cancer):\n",
    "    chromo = list()\n",
    "    locations = list()\n",
    "    not_found = list()\n",
    "    count = 0\n",
    "    for gene in list(my_dict.index.get_level_values(0)):\n",
    "        count += 1\n",
    "        try:\n",
    "            e_gene = ensembl.genes_by_name(gene)\n",
    "            chromo.append(e_gene[0].contig)\n",
    "            locations.append((e_gene[0].start + e_gene[0].end)/2)\n",
    "        except:\n",
    "            not_found.append(gene)\n",
    "            chromo.append(None)\n",
    "            locations.append(None)\n",
    "    my_dict['chromo'] = chromo\n",
    "    my_dict['location'] = locations\n",
    "    my_dict['cancer'] = cancer\n",
    "    print(len(not_found)/count)\n",
    "    return my_dict"
   ]
  },
  {
   "cell_type": "code",
   "execution_count": 39,
   "metadata": {},
   "outputs": [
    {
     "name": "stdout",
     "output_type": "stream",
     "text": [
      "0.037577204546634144\n",
      "0.019470286208123633\n",
      "0.05881324318022849\n",
      "0.016476616265635204\n",
      "0.016476616265635204\n"
     ]
    }
   ],
   "source": [
    "luad_counts = add_chromo_and_loc(luad_counts, 'LUAD')\n",
    "hnscc_counts = add_chromo_and_loc(hnscc_counts, 'HNSCC')\n",
    "ovarian_counts = add_chromo_and_loc(ovarian_counts, 'OVARIAN')\n",
    "gbm_counts = add_chromo_and_loc(gbm_counts, 'GBM')\n",
    "lscc_counts = add_chromo_and_loc(lscc_counts, 'LSCC')"
   ]
  },
  {
   "cell_type": "code",
   "execution_count": 40,
   "metadata": {},
   "outputs": [
    {
     "name": "stdout",
     "output_type": "stream",
     "text": [
      "0.1250645174097749\n",
      "0.09678372446395407\n",
      "0.03754213119004408\n",
      "0.09352389777952026\n"
     ]
    }
   ],
   "source": [
    "colon_counts = add_chromo_and_loc(colon_counts, 'COLON')\n",
    "brca_counts = add_chromo_and_loc(brca_counts, 'BRCA')\n",
    "ccrcc_counts = add_chromo_and_loc(ccrcc_counts, 'CCRCC')\n",
    "en_counts = add_chromo_and_loc(en_counts, 'ENDO')"
   ]
  },
  {
   "cell_type": "code",
   "execution_count": 299,
   "metadata": {},
   "outputs": [],
   "source": [
    "chromosome_num = 'Y'"
   ]
  },
  {
   "cell_type": "code",
   "execution_count": 300,
   "metadata": {},
   "outputs": [],
   "source": [
    "# Get just chromosome 8\n",
    "luad_counts_8 = luad_counts[luad_counts.chromo == chromosome_num]\n",
    "hnscc_counts_8 = hnscc_counts[hnscc_counts.chromo == chromosome_num]\n",
    "ovarian_counts_8 = ovarian_counts[ovarian_counts.chromo == chromosome_num]\n",
    "colon_counts_8 = colon_counts[colon_counts.chromo == chromosome_num]\n",
    "brca_counts_8 = brca_counts[brca_counts.chromo == chromosome_num]\n",
    "gbm_counts_8 = gbm_counts[gbm_counts.chromo == chromosome_num]\n",
    "lscc_counts_8 = lscc_counts[lscc_counts.chromo == chromosome_num]\n",
    "ccrcc_counts_8 = ccrcc_counts[ccrcc_counts.chromo == chromosome_num]\n",
    "en_counts_8 = en_counts[en_counts.chromo == chromosome_num]"
   ]
  },
  {
   "cell_type": "code",
   "execution_count": 301,
   "metadata": {},
   "outputs": [],
   "source": [
    "# Format for graphs\n",
    "luad_counts_8 = pd.melt(luad_counts_8, id_vars=['chromo', 'location', 'cancer'], value_vars=['amplifications', 'deletions'])\n",
    "hnscc_counts_8 = pd.melt(hnscc_counts_8, id_vars=['chromo', 'location', 'cancer'], value_vars=['amplifications', 'deletions'])\n",
    "ovarian_counts_8 = pd.melt(ovarian_counts_8, id_vars=['chromo', 'location', 'cancer'], value_vars=['amplifications', 'deletions'])\n",
    "colon_counts_8 = pd.melt(colon_counts_8, id_vars=['chromo', 'location', 'cancer'], value_vars=['amplifications', 'deletions'])\n",
    "brca_counts_8 = pd.melt(brca_counts_8, id_vars=['chromo', 'location', 'cancer'], value_vars=['amplifications', 'deletions'])\n",
    "gbm_counts_8 = pd.melt(gbm_counts_8, id_vars=['chromo', 'location', 'cancer'], value_vars=['amplifications', 'deletions'])\n",
    "lscc_counts_8 = pd.melt(lscc_counts_8, id_vars=['chromo', 'location', 'cancer'], value_vars=['amplifications', 'deletions'])\n",
    "ccrcc_counts_8 = pd.melt(ccrcc_counts_8, id_vars=['chromo', 'location', 'cancer'], value_vars=['amplifications', 'deletions'])\n",
    "en_counts_8 = pd.melt(en_counts_8, id_vars=['chromo', 'location', 'cancer'], value_vars=['amplifications', 'deletions'])"
   ]
  },
  {
   "cell_type": "code",
   "execution_count": 302,
   "metadata": {},
   "outputs": [],
   "source": [
    "frames = [luad_counts_8, hnscc_counts_8, ovarian_counts_8, colon_counts_8, brca_counts_8, gbm_counts_8, lscc_counts_8, ccrcc_counts_8, en_counts_8]"
   ]
  },
  {
   "cell_type": "code",
   "execution_count": 303,
   "metadata": {},
   "outputs": [],
   "source": [
    "all_cancer_8 = pd.concat(frames)"
   ]
  },
  {
   "cell_type": "code",
   "execution_count": 304,
   "metadata": {},
   "outputs": [],
   "source": [
    "ideogram_data = pd.read_csv('NCBI_ideogram.csv')\n",
    "chromo8 = ideogram_data[ideogram_data['#chromosome'] == chromosome_num]\n",
    "colors = []\n",
    "sections = list()\n",
    "for index, row in chromo8.iterrows():\n",
    "  sections.append((row['bp_start'], row['bp_stop']-row['bp_start']))\n",
    "  if row['stain'] == 'gneg':\n",
    "    colors.append('white')\n",
    "  elif row['stain'] == 'gpos':\n",
    "    if row['density'] == 25.0:\n",
    "      colors.append('lightgray')\n",
    "    elif row['density'] == 50.0:\n",
    "      colors.append('gray')\n",
    "    elif row['density'] == 75.0:\n",
    "      colors.append('darkgray')\n",
    "    else:\n",
    "      colors.append('black')\n",
    "  elif row['stain'] == 'acen':\n",
    "    colors.append('red')\n",
    "  else:\n",
    "    colors.append('lightgray')"
   ]
  },
  {
   "cell_type": "code",
   "execution_count": 305,
   "metadata": {},
   "outputs": [
    {
     "ename": "IndexError",
     "evalue": "index out of bounds",
     "output_type": "error",
     "traceback": [
      "\u001b[1;31m---------------------------------------------------------------------------\u001b[0m",
      "\u001b[1;31mKeyError\u001b[0m                                  Traceback (most recent call last)",
      "\u001b[1;32m~\\anaconda3\\lib\\site-packages\\pandas\\core\\indexes\\base.py\u001b[0m in \u001b[0;36mget_value\u001b[1;34m(self, series, key)\u001b[0m\n\u001b[0;32m   4404\u001b[0m         \u001b[1;32mtry\u001b[0m\u001b[1;33m:\u001b[0m\u001b[1;33m\u001b[0m\u001b[1;33m\u001b[0m\u001b[0m\n\u001b[1;32m-> 4405\u001b[1;33m             \u001b[1;32mreturn\u001b[0m \u001b[0mself\u001b[0m\u001b[1;33m.\u001b[0m\u001b[0m_engine\u001b[0m\u001b[1;33m.\u001b[0m\u001b[0mget_value\u001b[0m\u001b[1;33m(\u001b[0m\u001b[0ms\u001b[0m\u001b[1;33m,\u001b[0m \u001b[0mk\u001b[0m\u001b[1;33m,\u001b[0m \u001b[0mtz\u001b[0m\u001b[1;33m=\u001b[0m\u001b[0mgetattr\u001b[0m\u001b[1;33m(\u001b[0m\u001b[0mseries\u001b[0m\u001b[1;33m.\u001b[0m\u001b[0mdtype\u001b[0m\u001b[1;33m,\u001b[0m \u001b[1;34m\"tz\"\u001b[0m\u001b[1;33m,\u001b[0m \u001b[1;32mNone\u001b[0m\u001b[1;33m)\u001b[0m\u001b[1;33m)\u001b[0m\u001b[1;33m\u001b[0m\u001b[1;33m\u001b[0m\u001b[0m\n\u001b[0m\u001b[0;32m   4406\u001b[0m         \u001b[1;32mexcept\u001b[0m \u001b[0mKeyError\u001b[0m \u001b[1;32mas\u001b[0m \u001b[0me1\u001b[0m\u001b[1;33m:\u001b[0m\u001b[1;33m\u001b[0m\u001b[1;33m\u001b[0m\u001b[0m\n",
      "\u001b[1;32mpandas\\_libs\\index.pyx\u001b[0m in \u001b[0;36mpandas._libs.index.IndexEngine.get_value\u001b[1;34m()\u001b[0m\n",
      "\u001b[1;32mpandas\\_libs\\index.pyx\u001b[0m in \u001b[0;36mpandas._libs.index.IndexEngine.get_value\u001b[1;34m()\u001b[0m\n",
      "\u001b[1;32mpandas\\_libs\\index.pyx\u001b[0m in \u001b[0;36mpandas._libs.index.IndexEngine.get_loc\u001b[1;34m()\u001b[0m\n",
      "\u001b[1;32mpandas\\_libs\\hashtable_class_helper.pxi\u001b[0m in \u001b[0;36mpandas._libs.hashtable.Int64HashTable.get_item\u001b[1;34m()\u001b[0m\n",
      "\u001b[1;32mpandas\\_libs\\hashtable_class_helper.pxi\u001b[0m in \u001b[0;36mpandas._libs.hashtable.Int64HashTable.get_item\u001b[1;34m()\u001b[0m\n",
      "\u001b[1;31mKeyError\u001b[0m: 0",
      "\nDuring handling of the above exception, another exception occurred:\n",
      "\u001b[1;31mIndexError\u001b[0m                                Traceback (most recent call last)",
      "\u001b[1;32m<ipython-input-305-a7417eb631cb>\u001b[0m in \u001b[0;36m<module>\u001b[1;34m\u001b[0m\n\u001b[0;32m     12\u001b[0m     \u001b[0maxs\u001b[0m\u001b[1;33m[\u001b[0m\u001b[0mcount\u001b[0m\u001b[1;33m]\u001b[0m\u001b[1;33m.\u001b[0m\u001b[0mset_frame_on\u001b[0m\u001b[1;33m(\u001b[0m\u001b[1;32mFalse\u001b[0m\u001b[1;33m)\u001b[0m\u001b[1;33m\u001b[0m\u001b[1;33m\u001b[0m\u001b[0m\n\u001b[0;32m     13\u001b[0m \u001b[1;31m#     axs[count].text(150000000, 25, frame.cancer[0])\u001b[0m\u001b[1;33m\u001b[0m\u001b[1;33m\u001b[0m\u001b[1;33m\u001b[0m\u001b[0m\n\u001b[1;32m---> 14\u001b[1;33m     \u001b[0maxs\u001b[0m\u001b[1;33m[\u001b[0m\u001b[0mcount\u001b[0m\u001b[1;33m]\u001b[0m\u001b[1;33m.\u001b[0m\u001b[0mtext\u001b[0m\u001b[1;33m(\u001b[0m\u001b[0mend_bp\u001b[0m \u001b[1;33m+\u001b[0m \u001b[1;36m5000000\u001b[0m\u001b[1;33m,\u001b[0m \u001b[1;36m25\u001b[0m\u001b[1;33m,\u001b[0m \u001b[0mframe\u001b[0m\u001b[1;33m.\u001b[0m\u001b[0mcancer\u001b[0m\u001b[1;33m[\u001b[0m\u001b[1;36m0\u001b[0m\u001b[1;33m]\u001b[0m\u001b[1;33m)\u001b[0m\u001b[1;33m\u001b[0m\u001b[1;33m\u001b[0m\u001b[0m\n\u001b[0m\u001b[0;32m     15\u001b[0m     \u001b[0msns\u001b[0m\u001b[1;33m.\u001b[0m\u001b[0mlineplot\u001b[0m\u001b[1;33m(\u001b[0m\u001b[0mx\u001b[0m\u001b[1;33m=\u001b[0m\u001b[1;34m\"location\"\u001b[0m\u001b[1;33m,\u001b[0m \u001b[0my\u001b[0m\u001b[1;33m=\u001b[0m\u001b[1;34m\"value\"\u001b[0m\u001b[1;33m,\u001b[0m \u001b[0mhue\u001b[0m\u001b[1;33m=\u001b[0m\u001b[1;34m\"variable\"\u001b[0m\u001b[1;33m,\u001b[0m \u001b[0mpalette\u001b[0m\u001b[1;33m=\u001b[0m\u001b[1;33m[\u001b[0m\u001b[1;34m'darkred'\u001b[0m\u001b[1;33m,\u001b[0m \u001b[1;34m'darkblue'\u001b[0m\u001b[1;33m]\u001b[0m\u001b[1;33m,\u001b[0m \u001b[0mdata\u001b[0m\u001b[1;33m=\u001b[0m\u001b[0mframe\u001b[0m\u001b[1;33m,\u001b[0m \u001b[0max\u001b[0m\u001b[1;33m=\u001b[0m\u001b[0maxs\u001b[0m\u001b[1;33m[\u001b[0m\u001b[0mcount\u001b[0m\u001b[1;33m]\u001b[0m\u001b[1;33m,\u001b[0m \u001b[0mlegend\u001b[0m\u001b[1;33m=\u001b[0m\u001b[1;32mFalse\u001b[0m\u001b[1;33m)\u001b[0m\u001b[1;33m\u001b[0m\u001b[1;33m\u001b[0m\u001b[0m\n\u001b[0;32m     16\u001b[0m     \u001b[0maxs\u001b[0m\u001b[1;33m[\u001b[0m\u001b[0mcount\u001b[0m\u001b[1;33m]\u001b[0m\u001b[1;33m.\u001b[0m\u001b[0mset_ylabel\u001b[0m\u001b[1;33m(\u001b[0m\u001b[1;34m\"\"\u001b[0m\u001b[1;33m)\u001b[0m\u001b[1;33m\u001b[0m\u001b[1;33m\u001b[0m\u001b[0m\n",
      "\u001b[1;32m~\\anaconda3\\lib\\site-packages\\pandas\\core\\series.py\u001b[0m in \u001b[0;36m__getitem__\u001b[1;34m(self, key)\u001b[0m\n\u001b[0;32m    869\u001b[0m         \u001b[0mkey\u001b[0m \u001b[1;33m=\u001b[0m \u001b[0mcom\u001b[0m\u001b[1;33m.\u001b[0m\u001b[0mapply_if_callable\u001b[0m\u001b[1;33m(\u001b[0m\u001b[0mkey\u001b[0m\u001b[1;33m,\u001b[0m \u001b[0mself\u001b[0m\u001b[1;33m)\u001b[0m\u001b[1;33m\u001b[0m\u001b[1;33m\u001b[0m\u001b[0m\n\u001b[0;32m    870\u001b[0m         \u001b[1;32mtry\u001b[0m\u001b[1;33m:\u001b[0m\u001b[1;33m\u001b[0m\u001b[1;33m\u001b[0m\u001b[0m\n\u001b[1;32m--> 871\u001b[1;33m             \u001b[0mresult\u001b[0m \u001b[1;33m=\u001b[0m \u001b[0mself\u001b[0m\u001b[1;33m.\u001b[0m\u001b[0mindex\u001b[0m\u001b[1;33m.\u001b[0m\u001b[0mget_value\u001b[0m\u001b[1;33m(\u001b[0m\u001b[0mself\u001b[0m\u001b[1;33m,\u001b[0m \u001b[0mkey\u001b[0m\u001b[1;33m)\u001b[0m\u001b[1;33m\u001b[0m\u001b[1;33m\u001b[0m\u001b[0m\n\u001b[0m\u001b[0;32m    872\u001b[0m \u001b[1;33m\u001b[0m\u001b[0m\n\u001b[0;32m    873\u001b[0m             \u001b[1;32mif\u001b[0m \u001b[1;32mnot\u001b[0m \u001b[0mis_scalar\u001b[0m\u001b[1;33m(\u001b[0m\u001b[0mresult\u001b[0m\u001b[1;33m)\u001b[0m\u001b[1;33m:\u001b[0m\u001b[1;33m\u001b[0m\u001b[1;33m\u001b[0m\u001b[0m\n",
      "\u001b[1;32m~\\anaconda3\\lib\\site-packages\\pandas\\core\\indexes\\base.py\u001b[0m in \u001b[0;36mget_value\u001b[1;34m(self, series, key)\u001b[0m\n\u001b[0;32m   4409\u001b[0m \u001b[1;33m\u001b[0m\u001b[0m\n\u001b[0;32m   4410\u001b[0m             \u001b[1;32mtry\u001b[0m\u001b[1;33m:\u001b[0m\u001b[1;33m\u001b[0m\u001b[1;33m\u001b[0m\u001b[0m\n\u001b[1;32m-> 4411\u001b[1;33m                 \u001b[1;32mreturn\u001b[0m \u001b[0mlibindex\u001b[0m\u001b[1;33m.\u001b[0m\u001b[0mget_value_at\u001b[0m\u001b[1;33m(\u001b[0m\u001b[0ms\u001b[0m\u001b[1;33m,\u001b[0m \u001b[0mkey\u001b[0m\u001b[1;33m)\u001b[0m\u001b[1;33m\u001b[0m\u001b[1;33m\u001b[0m\u001b[0m\n\u001b[0m\u001b[0;32m   4412\u001b[0m             \u001b[1;32mexcept\u001b[0m \u001b[0mIndexError\u001b[0m\u001b[1;33m:\u001b[0m\u001b[1;33m\u001b[0m\u001b[1;33m\u001b[0m\u001b[0m\n\u001b[0;32m   4413\u001b[0m                 \u001b[1;32mraise\u001b[0m\u001b[1;33m\u001b[0m\u001b[1;33m\u001b[0m\u001b[0m\n",
      "\u001b[1;32mpandas\\_libs\\index.pyx\u001b[0m in \u001b[0;36mpandas._libs.index.get_value_at\u001b[1;34m()\u001b[0m\n",
      "\u001b[1;32mpandas\\_libs\\index.pyx\u001b[0m in \u001b[0;36mpandas._libs.index.get_value_at\u001b[1;34m()\u001b[0m\n",
      "\u001b[1;32mpandas\\_libs\\util.pxd\u001b[0m in \u001b[0;36mpandas._libs.util.get_value_at\u001b[1;34m()\u001b[0m\n",
      "\u001b[1;32mpandas\\_libs\\util.pxd\u001b[0m in \u001b[0;36mpandas._libs.util.validate_indexer\u001b[1;34m()\u001b[0m\n",
      "\u001b[1;31mIndexError\u001b[0m: index out of bounds"
     ]
    },
    {
     "data": {
      "image/png": "[encoded data removed]",
      "text/plain": [
       "<Figure size 720x792 with 10 Axes>"
      ]
     },
     "metadata": {
      "needs_background": "light"
     },
     "output_type": "display_data"
    }
   ],
   "source": [
    "count = 0\n",
    "end_bp = sections[len(sections) - 1][0] + sections[len(sections) - 1][1]\n",
    "fig, axs = plt.subplots(nrows=10, sharex=True, sharey=True, num=0, figsize=(10,11), )\n",
    "title = f'Chromosome {chromosome_num}'\n",
    "fig.suptitle(title, y=0.9, x=0.45)\n",
    "# plt.xlim(0,175138636)\n",
    "plt.xlim(0,end_bp + (end_bp/5))\n",
    "plt.ylim(0, 100)\n",
    "for frame in frames:\n",
    "    axs[count].get_xaxis().set_visible(False)\n",
    "    axs[count].set_yticks([25,50])\n",
    "    axs[count].set_frame_on(False)\n",
    "#     axs[count].text(150000000, 25, frame.cancer[0])\n",
    "    axs[count].text(end_bp + 5000000, 25, frame.cancer[0])\n",
    "    sns.lineplot(x=\"location\", y=\"value\", hue=\"variable\", palette=['darkred', 'darkblue'], data=frame, ax=axs[count], legend=False)\n",
    "    axs[count].set_ylabel(\"\")\n",
    "    count += 1\n",
    "plt.broken_barh(sections, (50,15), facecolors=colors, edgecolor=\"black\")\n",
    "plt.axis('off')\n",
    "fig.legend(labels=(\"Amplifications\", \"Deletions\"), loc='center right')\n",
    "fig.text(0.07, 0.5, \"Number of Samples\", rotation=\"vertical\")\n",
    "\n"
   ]
  },
  {
   "cell_type": "code",
   "execution_count": 49,
   "metadata": {},
   "outputs": [
    {
     "data": {
      "text/plain": [
       "<matplotlib.axes._subplots.AxesSubplot at 0x203d3e74dc8>"
      ]
     },
     "execution_count": 49,
     "metadata": {},
     "output_type": "execute_result"
    },
    {
     "data": {
      "image/png": "[encoded data removed]",
      "text/plain": [
       "<Figure size 432x288 with 1 Axes>"
      ]
     },
     "metadata": {
      "needs_background": "light"
     },
     "output_type": "display_data"
    }
   ],
   "source": [
    "sns.lineplot(x=\"location\", y=\"value\", hue=\"variable\", data=en_counts_8)"
   ]
  },
  {
   "cell_type": "code",
   "execution_count": 50,
   "metadata": {},
   "outputs": [
    {
     "data": {
      "text/html": [
       "<div>\n",
       "<style scoped>\n",
       "    .dataframe tbody tr th:only-of-type {\n",
       "        vertical-align: middle;\n",
       "    }\n",
       "\n",
       "    .dataframe tbody tr th {\n",
       "        vertical-align: top;\n",
       "    }\n",
       "\n",
       "    .dataframe thead th {\n",
       "        text-align: right;\n",
       "    }\n",
       "</style>\n",
       "<table border=\"1\" class=\"dataframe\">\n",
       "  <thead>\n",
       "    <tr style=\"text-align: right;\">\n",
       "      <th></th>\n",
       "      <th>amplifications</th>\n",
       "      <th>neutral</th>\n",
       "      <th>deletions</th>\n",
       "      <th>average</th>\n",
       "      <th>chromo</th>\n",
       "      <th>location</th>\n",
       "      <th>cancer</th>\n",
       "    </tr>\n",
       "    <tr>\n",
       "      <th>Name</th>\n",
       "      <th></th>\n",
       "      <th></th>\n",
       "      <th></th>\n",
       "      <th></th>\n",
       "      <th></th>\n",
       "      <th></th>\n",
       "      <th></th>\n",
       "    </tr>\n",
       "  </thead>\n",
       "  <tbody>\n",
       "    <tr>\n",
       "      <th>A1BG</th>\n",
       "      <td>22.0</td>\n",
       "      <td>71.0</td>\n",
       "      <td>5.0</td>\n",
       "      <td>0.123574</td>\n",
       "      <td>19</td>\n",
       "      <td>58349335.0</td>\n",
       "      <td>GBM</td>\n",
       "    </tr>\n",
       "    <tr>\n",
       "      <th>A1CF</th>\n",
       "      <td>0.0</td>\n",
       "      <td>23.0</td>\n",
       "      <td>75.0</td>\n",
       "      <td>-0.447073</td>\n",
       "      <td>10</td>\n",
       "      <td>50842542.0</td>\n",
       "      <td>GBM</td>\n",
       "    </tr>\n",
       "    <tr>\n",
       "      <th>A2M</th>\n",
       "      <td>2.0</td>\n",
       "      <td>93.0</td>\n",
       "      <td>3.0</td>\n",
       "      <td>-0.004708</td>\n",
       "      <td>12</td>\n",
       "      <td>9091946.5</td>\n",
       "      <td>GBM</td>\n",
       "    </tr>\n",
       "    <tr>\n",
       "      <th>A2ML1</th>\n",
       "      <td>2.0</td>\n",
       "      <td>93.0</td>\n",
       "      <td>3.0</td>\n",
       "      <td>-0.004277</td>\n",
       "      <td>12</td>\n",
       "      <td>8854811.0</td>\n",
       "      <td>GBM</td>\n",
       "    </tr>\n",
       "    <tr>\n",
       "      <th>A3GALT2</th>\n",
       "      <td>2.0</td>\n",
       "      <td>90.0</td>\n",
       "      <td>6.0</td>\n",
       "      <td>-0.009638</td>\n",
       "      <td>1</td>\n",
       "      <td>33313932.0</td>\n",
       "      <td>GBM</td>\n",
       "    </tr>\n",
       "    <tr>\n",
       "      <th>...</th>\n",
       "      <td>...</td>\n",
       "      <td>...</td>\n",
       "      <td>...</td>\n",
       "      <td>...</td>\n",
       "      <td>...</td>\n",
       "      <td>...</td>\n",
       "      <td>...</td>\n",
       "    </tr>\n",
       "    <tr>\n",
       "      <th>ZXDC</th>\n",
       "      <td>1.0</td>\n",
       "      <td>92.0</td>\n",
       "      <td>5.0</td>\n",
       "      <td>-0.020824</td>\n",
       "      <td>3</td>\n",
       "      <td>126456746.0</td>\n",
       "      <td>GBM</td>\n",
       "    </tr>\n",
       "    <tr>\n",
       "      <th>ZYG11A</th>\n",
       "      <td>2.0</td>\n",
       "      <td>89.0</td>\n",
       "      <td>7.0</td>\n",
       "      <td>-0.013865</td>\n",
       "      <td>1</td>\n",
       "      <td>52868754.5</td>\n",
       "      <td>GBM</td>\n",
       "    </tr>\n",
       "    <tr>\n",
       "      <th>ZYG11B</th>\n",
       "      <td>2.0</td>\n",
       "      <td>89.0</td>\n",
       "      <td>7.0</td>\n",
       "      <td>-0.014392</td>\n",
       "      <td>1</td>\n",
       "      <td>52776894.5</td>\n",
       "      <td>GBM</td>\n",
       "    </tr>\n",
       "    <tr>\n",
       "      <th>ZYX</th>\n",
       "      <td>58.0</td>\n",
       "      <td>39.0</td>\n",
       "      <td>1.0</td>\n",
       "      <td>0.312500</td>\n",
       "      <td>7</td>\n",
       "      <td>143386203.0</td>\n",
       "      <td>GBM</td>\n",
       "    </tr>\n",
       "    <tr>\n",
       "      <th>ZZEF1</th>\n",
       "      <td>1.0</td>\n",
       "      <td>87.0</td>\n",
       "      <td>10.0</td>\n",
       "      <td>-0.045232</td>\n",
       "      <td>17</td>\n",
       "      <td>4073737.5</td>\n",
       "      <td>GBM</td>\n",
       "    </tr>\n",
       "  </tbody>\n",
       "</table>\n",
       "<p>19907 rows × 7 columns</p>\n",
       "</div>"
      ],
      "text/plain": [
       "         amplifications  neutral  deletions   average chromo     location  \\\n",
       "Name                                                                        \n",
       "A1BG               22.0     71.0        5.0  0.123574     19   58349335.0   \n",
       "A1CF                0.0     23.0       75.0 -0.447073     10   50842542.0   \n",
       "A2M                 2.0     93.0        3.0 -0.004708     12    9091946.5   \n",
       "A2ML1               2.0     93.0        3.0 -0.004277     12    8854811.0   \n",
       "A3GALT2             2.0     90.0        6.0 -0.009638      1   33313932.0   \n",
       "...                 ...      ...        ...       ...    ...          ...   \n",
       "ZXDC                1.0     92.0        5.0 -0.020824      3  126456746.0   \n",
       "ZYG11A              2.0     89.0        7.0 -0.013865      1   52868754.5   \n",
       "ZYG11B              2.0     89.0        7.0 -0.014392      1   52776894.5   \n",
       "ZYX                58.0     39.0        1.0  0.312500      7  143386203.0   \n",
       "ZZEF1               1.0     87.0       10.0 -0.045232     17    4073737.5   \n",
       "\n",
       "        cancer  \n",
       "Name            \n",
       "A1BG       GBM  \n",
       "A1CF       GBM  \n",
       "A2M        GBM  \n",
       "A2ML1      GBM  \n",
       "A3GALT2    GBM  \n",
       "...        ...  \n",
       "ZXDC       GBM  \n",
       "ZYG11A     GBM  \n",
       "ZYG11B     GBM  \n",
       "ZYX        GBM  \n",
       "ZZEF1      GBM  \n",
       "\n",
       "[19907 rows x 7 columns]"
      ]
     },
     "execution_count": 50,
     "metadata": {},
     "output_type": "execute_result"
    }
   ],
   "source": [
    "gbm_counts"
   ]
  },
  {
   "cell_type": "code",
   "execution_count": 51,
   "metadata": {},
   "outputs": [],
   "source": [
    "# Looking at another chromosome\n",
    "luad_counts_1 = luad_counts[luad_counts.chromo == '8']\n",
    "hnscc_counts_1 = hnscc_counts[hnscc_counts.chromo == '8']\n",
    "ovarian_counts_1 = ovarian_counts[ovarian_counts.chromo == '8']\n",
    "colon_counts_1 = colon_counts[colon_counts.chromo == '8']\n",
    "brca_counts_1 = brca_counts[brca_counts.chromo == '8']\n",
    "gbm_counts_1 = gbm_counts[gbm_counts.chromo == '8']\n",
    "lscc_counts_1 = lscc_counts[lscc_counts.chromo == '8']\n",
    "ccrcc_counts_1 = ccrcc_counts[ccrcc_counts.chromo == '8']\n",
    "en_counts_1 = en_counts[en_counts.chromo == '8']"
   ]
  },
  {
   "cell_type": "code",
   "execution_count": 52,
   "metadata": {},
   "outputs": [],
   "source": [
    "# Format for graphs\n",
    "luad_counts_1 = pd.melt(luad_counts_1, id_vars=['chromo', 'location', 'cancer'], value_vars=['amplifications', 'deletions'])\n",
    "hnscc_counts_1 = pd.melt(hnscc_counts_1, id_vars=['chromo', 'location', 'cancer'], value_vars=['amplifications', 'deletions'])\n",
    "ovarian_counts_1 = pd.melt(ovarian_counts_1, id_vars=['chromo', 'location', 'cancer'], value_vars=['amplifications', 'deletions'])\n",
    "colon_counts_1 = pd.melt(colon_counts_1, id_vars=['chromo', 'location', 'cancer'], value_vars=['amplifications', 'deletions'])\n",
    "brca_counts_1 = pd.melt(brca_counts_1, id_vars=['chromo', 'location', 'cancer'], value_vars=['amplifications', 'deletions'])\n",
    "gbm_counts_1 = pd.melt(gbm_counts_1, id_vars=['chromo', 'location', 'cancer'], value_vars=['amplifications', 'deletions'])\n",
    "lscc_counts_1 = pd.melt(lscc_counts_1, id_vars=['chromo', 'location', 'cancer'], value_vars=['amplifications', 'deletions'])\n",
    "ccrcc_counts_1 = pd.melt(ccrcc_counts_1, id_vars=['chromo', 'location', 'cancer'], value_vars=['amplifications', 'deletions'])\n",
    "en_counts_1 = pd.melt(en_counts_1, id_vars=['chromo', 'location', 'cancer'], value_vars=['amplifications', 'deletions'])"
   ]
  },
  {
   "cell_type": "code",
   "execution_count": null,
   "metadata": {},
   "outputs": [],
   "source": []
  },
  {
   "cell_type": "code",
   "execution_count": 53,
   "metadata": {},
   "outputs": [],
   "source": [
    "frames = [luad_counts_1, hnscc_counts_1, ovarian_counts_1, colon_counts_1, brca_counts_1, gbm_counts_1, lscc_counts_1, ccrcc_counts_1, en_counts_1]\n",
    "all_cancer_1 = pd.concat(frames)"
   ]
  },
  {
   "cell_type": "code",
   "execution_count": 54,
   "metadata": {},
   "outputs": [
    {
     "name": "stderr",
     "output_type": "stream",
     "text": [
      "C:\\Users\\chels\\anaconda3\\lib\\site-packages\\seaborn\\relational.py:1656: UserWarning: relplot is a figure-level function and does not accept target axes. You may wish to try scatterplot\n",
      "  warnings.warn(msg, UserWarning)\n"
     ]
    },
    {
     "ename": "AttributeError",
     "evalue": "'PathCollection' object has no property 'type'",
     "output_type": "error",
     "traceback": [
      "\u001b[1;31m---------------------------------------------------------------------------\u001b[0m",
      "\u001b[1;31mAttributeError\u001b[0m                            Traceback (most recent call last)",
      "\u001b[1;32m<ipython-input-54-27d975e7c420>\u001b[0m in \u001b[0;36m<module>\u001b[1;34m\u001b[0m\n\u001b[0;32m      1\u001b[0m \u001b[0mfig\u001b[0m\u001b[1;33m,\u001b[0m \u001b[0maxs\u001b[0m \u001b[1;33m=\u001b[0m \u001b[0mplt\u001b[0m\u001b[1;33m.\u001b[0m\u001b[0msubplots\u001b[0m\u001b[1;33m(\u001b[0m\u001b[0mncols\u001b[0m\u001b[1;33m=\u001b[0m\u001b[1;36m3\u001b[0m\u001b[1;33m)\u001b[0m\u001b[1;33m\u001b[0m\u001b[1;33m\u001b[0m\u001b[0m\n\u001b[1;32m----> 2\u001b[1;33m \u001b[0msns\u001b[0m\u001b[1;33m.\u001b[0m\u001b[0mrelplot\u001b[0m\u001b[1;33m(\u001b[0m\u001b[0mx\u001b[0m\u001b[1;33m=\u001b[0m\u001b[1;34m\"location\"\u001b[0m\u001b[1;33m,\u001b[0m \u001b[0my\u001b[0m\u001b[1;33m=\u001b[0m\u001b[1;34m\"value\"\u001b[0m\u001b[1;33m,\u001b[0m \u001b[0mheight\u001b[0m\u001b[1;33m=\u001b[0m\u001b[1;36m3\u001b[0m\u001b[1;33m,\u001b[0m \u001b[0maspect\u001b[0m\u001b[1;33m=\u001b[0m\u001b[1;36m4\u001b[0m\u001b[1;33m,\u001b[0m \u001b[0mhue\u001b[0m\u001b[1;33m=\u001b[0m\u001b[1;34m\"variable\"\u001b[0m\u001b[1;33m,\u001b[0m \u001b[0mrow\u001b[0m\u001b[1;33m=\u001b[0m\u001b[1;34m\"cancer\"\u001b[0m\u001b[1;33m,\u001b[0m \u001b[0mtype\u001b[0m\u001b[1;33m=\u001b[0m\u001b[1;34m\"lineplot\"\u001b[0m\u001b[1;33m,\u001b[0m \u001b[0mdata\u001b[0m\u001b[1;33m=\u001b[0m\u001b[0mall_cancer_1\u001b[0m\u001b[1;33m,\u001b[0m \u001b[0max\u001b[0m\u001b[1;33m=\u001b[0m\u001b[0maxs\u001b[0m\u001b[1;33m[\u001b[0m\u001b[1;36m0\u001b[0m\u001b[1;33m]\u001b[0m\u001b[1;33m)\u001b[0m\u001b[1;33m\u001b[0m\u001b[1;33m\u001b[0m\u001b[0m\n\u001b[0m\u001b[0;32m      3\u001b[0m \u001b[0mplt\u001b[0m\u001b[1;33m.\u001b[0m\u001b[0mylabel\u001b[0m\u001b[1;33m(\u001b[0m\u001b[1;34m\"Counts\"\u001b[0m\u001b[1;33m)\u001b[0m\u001b[1;33m\u001b[0m\u001b[1;33m\u001b[0m\u001b[0m\n",
      "\u001b[1;32m~\\anaconda3\\lib\\site-packages\\seaborn\\relational.py\u001b[0m in \u001b[0;36mrelplot\u001b[1;34m(x, y, hue, size, style, data, row, col, col_wrap, row_order, col_order, palette, hue_order, hue_norm, sizes, size_order, size_norm, markers, dashes, style_order, legend, kind, height, aspect, facet_kws, **kwargs)\u001b[0m\n\u001b[0;32m   1700\u001b[0m     g.map_dataframe(func, x, y,\n\u001b[0;32m   1701\u001b[0m                     \u001b[0mhue\u001b[0m\u001b[1;33m=\u001b[0m\u001b[0mhue\u001b[0m\u001b[1;33m,\u001b[0m \u001b[0msize\u001b[0m\u001b[1;33m=\u001b[0m\u001b[0msize\u001b[0m\u001b[1;33m,\u001b[0m \u001b[0mstyle\u001b[0m\u001b[1;33m=\u001b[0m\u001b[0mstyle\u001b[0m\u001b[1;33m,\u001b[0m\u001b[1;33m\u001b[0m\u001b[1;33m\u001b[0m\u001b[0m\n\u001b[1;32m-> 1702\u001b[1;33m                     **plot_kws)\n\u001b[0m\u001b[0;32m   1703\u001b[0m \u001b[1;33m\u001b[0m\u001b[0m\n\u001b[0;32m   1704\u001b[0m     \u001b[1;31m# Show the legend\u001b[0m\u001b[1;33m\u001b[0m\u001b[1;33m\u001b[0m\u001b[1;33m\u001b[0m\u001b[0m\n",
      "\u001b[1;32m~\\anaconda3\\lib\\site-packages\\seaborn\\axisgrid.py\u001b[0m in \u001b[0;36mmap_dataframe\u001b[1;34m(self, func, *args, **kwargs)\u001b[0m\n\u001b[0;32m    831\u001b[0m \u001b[1;33m\u001b[0m\u001b[0m\n\u001b[0;32m    832\u001b[0m             \u001b[1;31m# Draw the plot\u001b[0m\u001b[1;33m\u001b[0m\u001b[1;33m\u001b[0m\u001b[1;33m\u001b[0m\u001b[0m\n\u001b[1;32m--> 833\u001b[1;33m             \u001b[0mself\u001b[0m\u001b[1;33m.\u001b[0m\u001b[0m_facet_plot\u001b[0m\u001b[1;33m(\u001b[0m\u001b[0mfunc\u001b[0m\u001b[1;33m,\u001b[0m \u001b[0max\u001b[0m\u001b[1;33m,\u001b[0m \u001b[0margs\u001b[0m\u001b[1;33m,\u001b[0m \u001b[0mkwargs\u001b[0m\u001b[1;33m)\u001b[0m\u001b[1;33m\u001b[0m\u001b[1;33m\u001b[0m\u001b[0m\n\u001b[0m\u001b[0;32m    834\u001b[0m \u001b[1;33m\u001b[0m\u001b[0m\n\u001b[0;32m    835\u001b[0m         \u001b[1;31m# Finalize the annotations and layout\u001b[0m\u001b[1;33m\u001b[0m\u001b[1;33m\u001b[0m\u001b[1;33m\u001b[0m\u001b[0m\n",
      "\u001b[1;32m~\\anaconda3\\lib\\site-packages\\seaborn\\axisgrid.py\u001b[0m in \u001b[0;36m_facet_plot\u001b[1;34m(self, func, ax, plot_args, plot_kwargs)\u001b[0m\n\u001b[0;32m    849\u001b[0m \u001b[1;33m\u001b[0m\u001b[0m\n\u001b[0;32m    850\u001b[0m         \u001b[1;31m# Draw the plot\u001b[0m\u001b[1;33m\u001b[0m\u001b[1;33m\u001b[0m\u001b[1;33m\u001b[0m\u001b[0m\n\u001b[1;32m--> 851\u001b[1;33m         \u001b[0mfunc\u001b[0m\u001b[1;33m(\u001b[0m\u001b[1;33m*\u001b[0m\u001b[0mplot_args\u001b[0m\u001b[1;33m,\u001b[0m \u001b[1;33m**\u001b[0m\u001b[0mplot_kwargs\u001b[0m\u001b[1;33m)\u001b[0m\u001b[1;33m\u001b[0m\u001b[1;33m\u001b[0m\u001b[0m\n\u001b[0m\u001b[0;32m    852\u001b[0m \u001b[1;33m\u001b[0m\u001b[0m\n\u001b[0;32m    853\u001b[0m         \u001b[1;31m# Sort out the supporting information\u001b[0m\u001b[1;33m\u001b[0m\u001b[1;33m\u001b[0m\u001b[1;33m\u001b[0m\u001b[0m\n",
      "\u001b[1;32m~\\anaconda3\\lib\\site-packages\\seaborn\\relational.py\u001b[0m in \u001b[0;36mscatterplot\u001b[1;34m(x, y, hue, style, size, data, palette, hue_order, hue_norm, sizes, size_order, size_norm, markers, style_order, x_bins, y_bins, units, estimator, ci, n_boot, alpha, x_jitter, y_jitter, legend, ax, **kwargs)\u001b[0m\n\u001b[0;32m   1406\u001b[0m         \u001b[0max\u001b[0m \u001b[1;33m=\u001b[0m \u001b[0mplt\u001b[0m\u001b[1;33m.\u001b[0m\u001b[0mgca\u001b[0m\u001b[1;33m(\u001b[0m\u001b[1;33m)\u001b[0m\u001b[1;33m\u001b[0m\u001b[1;33m\u001b[0m\u001b[0m\n\u001b[0;32m   1407\u001b[0m \u001b[1;33m\u001b[0m\u001b[0m\n\u001b[1;32m-> 1408\u001b[1;33m     \u001b[0mp\u001b[0m\u001b[1;33m.\u001b[0m\u001b[0mplot\u001b[0m\u001b[1;33m(\u001b[0m\u001b[0max\u001b[0m\u001b[1;33m,\u001b[0m \u001b[0mkwargs\u001b[0m\u001b[1;33m)\u001b[0m\u001b[1;33m\u001b[0m\u001b[1;33m\u001b[0m\u001b[0m\n\u001b[0m\u001b[0;32m   1409\u001b[0m \u001b[1;33m\u001b[0m\u001b[0m\n\u001b[0;32m   1410\u001b[0m     \u001b[1;32mreturn\u001b[0m \u001b[0max\u001b[0m\u001b[1;33m\u001b[0m\u001b[1;33m\u001b[0m\u001b[0m\n",
      "\u001b[1;32m~\\anaconda3\\lib\\site-packages\\seaborn\\relational.py\u001b[0m in \u001b[0;36mplot\u001b[1;34m(self, ax, kws)\u001b[0m\n\u001b[0;32m    916\u001b[0m         \u001b[1;31m# function will advance the axes property cycle.\u001b[0m\u001b[1;33m\u001b[0m\u001b[1;33m\u001b[0m\u001b[1;33m\u001b[0m\u001b[0m\n\u001b[0;32m    917\u001b[0m \u001b[1;33m\u001b[0m\u001b[0m\n\u001b[1;32m--> 918\u001b[1;33m         \u001b[0mscout\u001b[0m \u001b[1;33m=\u001b[0m \u001b[0max\u001b[0m\u001b[1;33m.\u001b[0m\u001b[0mscatter\u001b[0m\u001b[1;33m(\u001b[0m\u001b[1;33m[\u001b[0m\u001b[1;33m]\u001b[0m\u001b[1;33m,\u001b[0m \u001b[1;33m[\u001b[0m\u001b[1;33m]\u001b[0m\u001b[1;33m,\u001b[0m \u001b[1;33m**\u001b[0m\u001b[0mkws\u001b[0m\u001b[1;33m)\u001b[0m\u001b[1;33m\u001b[0m\u001b[1;33m\u001b[0m\u001b[0m\n\u001b[0m\u001b[0;32m    919\u001b[0m         \u001b[0ms\u001b[0m \u001b[1;33m=\u001b[0m \u001b[0mkws\u001b[0m\u001b[1;33m.\u001b[0m\u001b[0mpop\u001b[0m\u001b[1;33m(\u001b[0m\u001b[1;34m\"s\"\u001b[0m\u001b[1;33m,\u001b[0m \u001b[0mscout\u001b[0m\u001b[1;33m.\u001b[0m\u001b[0mget_sizes\u001b[0m\u001b[1;33m(\u001b[0m\u001b[1;33m)\u001b[0m\u001b[1;33m)\u001b[0m\u001b[1;33m\u001b[0m\u001b[1;33m\u001b[0m\u001b[0m\n\u001b[0;32m    920\u001b[0m         \u001b[0mc\u001b[0m \u001b[1;33m=\u001b[0m \u001b[0mkws\u001b[0m\u001b[1;33m.\u001b[0m\u001b[0mpop\u001b[0m\u001b[1;33m(\u001b[0m\u001b[1;34m\"c\"\u001b[0m\u001b[1;33m,\u001b[0m \u001b[0mscout\u001b[0m\u001b[1;33m.\u001b[0m\u001b[0mget_facecolors\u001b[0m\u001b[1;33m(\u001b[0m\u001b[1;33m)\u001b[0m\u001b[1;33m)\u001b[0m\u001b[1;33m\u001b[0m\u001b[1;33m\u001b[0m\u001b[0m\n",
      "\u001b[1;32m~\\anaconda3\\lib\\site-packages\\matplotlib\\__init__.py\u001b[0m in \u001b[0;36minner\u001b[1;34m(ax, data, *args, **kwargs)\u001b[0m\n\u001b[0;32m   1597\u001b[0m     \u001b[1;32mdef\u001b[0m \u001b[0minner\u001b[0m\u001b[1;33m(\u001b[0m\u001b[0max\u001b[0m\u001b[1;33m,\u001b[0m \u001b[1;33m*\u001b[0m\u001b[0margs\u001b[0m\u001b[1;33m,\u001b[0m \u001b[0mdata\u001b[0m\u001b[1;33m=\u001b[0m\u001b[1;32mNone\u001b[0m\u001b[1;33m,\u001b[0m \u001b[1;33m**\u001b[0m\u001b[0mkwargs\u001b[0m\u001b[1;33m)\u001b[0m\u001b[1;33m:\u001b[0m\u001b[1;33m\u001b[0m\u001b[1;33m\u001b[0m\u001b[0m\n\u001b[0;32m   1598\u001b[0m         \u001b[1;32mif\u001b[0m \u001b[0mdata\u001b[0m \u001b[1;32mis\u001b[0m \u001b[1;32mNone\u001b[0m\u001b[1;33m:\u001b[0m\u001b[1;33m\u001b[0m\u001b[1;33m\u001b[0m\u001b[0m\n\u001b[1;32m-> 1599\u001b[1;33m             \u001b[1;32mreturn\u001b[0m \u001b[0mfunc\u001b[0m\u001b[1;33m(\u001b[0m\u001b[0max\u001b[0m\u001b[1;33m,\u001b[0m \u001b[1;33m*\u001b[0m\u001b[0mmap\u001b[0m\u001b[1;33m(\u001b[0m\u001b[0msanitize_sequence\u001b[0m\u001b[1;33m,\u001b[0m \u001b[0margs\u001b[0m\u001b[1;33m)\u001b[0m\u001b[1;33m,\u001b[0m \u001b[1;33m**\u001b[0m\u001b[0mkwargs\u001b[0m\u001b[1;33m)\u001b[0m\u001b[1;33m\u001b[0m\u001b[1;33m\u001b[0m\u001b[0m\n\u001b[0m\u001b[0;32m   1600\u001b[0m \u001b[1;33m\u001b[0m\u001b[0m\n\u001b[0;32m   1601\u001b[0m         \u001b[0mbound\u001b[0m \u001b[1;33m=\u001b[0m \u001b[0mnew_sig\u001b[0m\u001b[1;33m.\u001b[0m\u001b[0mbind\u001b[0m\u001b[1;33m(\u001b[0m\u001b[0max\u001b[0m\u001b[1;33m,\u001b[0m \u001b[1;33m*\u001b[0m\u001b[0margs\u001b[0m\u001b[1;33m,\u001b[0m \u001b[1;33m**\u001b[0m\u001b[0mkwargs\u001b[0m\u001b[1;33m)\u001b[0m\u001b[1;33m\u001b[0m\u001b[1;33m\u001b[0m\u001b[0m\n",
      "\u001b[1;32m~\\anaconda3\\lib\\site-packages\\matplotlib\\axes\\_axes.py\u001b[0m in \u001b[0;36mscatter\u001b[1;34m(self, x, y, s, c, marker, cmap, norm, vmin, vmax, alpha, linewidths, verts, edgecolors, plotnonfinite, **kwargs)\u001b[0m\n\u001b[0;32m   4498\u001b[0m                 )\n\u001b[0;32m   4499\u001b[0m         \u001b[0mcollection\u001b[0m\u001b[1;33m.\u001b[0m\u001b[0mset_transform\u001b[0m\u001b[1;33m(\u001b[0m\u001b[0mmtransforms\u001b[0m\u001b[1;33m.\u001b[0m\u001b[0mIdentityTransform\u001b[0m\u001b[1;33m(\u001b[0m\u001b[1;33m)\u001b[0m\u001b[1;33m)\u001b[0m\u001b[1;33m\u001b[0m\u001b[1;33m\u001b[0m\u001b[0m\n\u001b[1;32m-> 4500\u001b[1;33m         \u001b[0mcollection\u001b[0m\u001b[1;33m.\u001b[0m\u001b[0mupdate\u001b[0m\u001b[1;33m(\u001b[0m\u001b[0mkwargs\u001b[0m\u001b[1;33m)\u001b[0m\u001b[1;33m\u001b[0m\u001b[1;33m\u001b[0m\u001b[0m\n\u001b[0m\u001b[0;32m   4501\u001b[0m \u001b[1;33m\u001b[0m\u001b[0m\n\u001b[0;32m   4502\u001b[0m         \u001b[1;32mif\u001b[0m \u001b[0mcolors\u001b[0m \u001b[1;32mis\u001b[0m \u001b[1;32mNone\u001b[0m\u001b[1;33m:\u001b[0m\u001b[1;33m\u001b[0m\u001b[1;33m\u001b[0m\u001b[0m\n",
      "\u001b[1;32m~\\anaconda3\\lib\\site-packages\\matplotlib\\artist.py\u001b[0m in \u001b[0;36mupdate\u001b[1;34m(self, props)\u001b[0m\n\u001b[0;32m    972\u001b[0m \u001b[1;33m\u001b[0m\u001b[0m\n\u001b[0;32m    973\u001b[0m         \u001b[1;32mwith\u001b[0m \u001b[0mcbook\u001b[0m\u001b[1;33m.\u001b[0m\u001b[0m_setattr_cm\u001b[0m\u001b[1;33m(\u001b[0m\u001b[0mself\u001b[0m\u001b[1;33m,\u001b[0m \u001b[0meventson\u001b[0m\u001b[1;33m=\u001b[0m\u001b[1;32mFalse\u001b[0m\u001b[1;33m)\u001b[0m\u001b[1;33m:\u001b[0m\u001b[1;33m\u001b[0m\u001b[1;33m\u001b[0m\u001b[0m\n\u001b[1;32m--> 974\u001b[1;33m             \u001b[0mret\u001b[0m \u001b[1;33m=\u001b[0m \u001b[1;33m[\u001b[0m\u001b[0m_update_property\u001b[0m\u001b[1;33m(\u001b[0m\u001b[0mself\u001b[0m\u001b[1;33m,\u001b[0m \u001b[0mk\u001b[0m\u001b[1;33m,\u001b[0m \u001b[0mv\u001b[0m\u001b[1;33m)\u001b[0m \u001b[1;32mfor\u001b[0m \u001b[0mk\u001b[0m\u001b[1;33m,\u001b[0m \u001b[0mv\u001b[0m \u001b[1;32min\u001b[0m \u001b[0mprops\u001b[0m\u001b[1;33m.\u001b[0m\u001b[0mitems\u001b[0m\u001b[1;33m(\u001b[0m\u001b[1;33m)\u001b[0m\u001b[1;33m]\u001b[0m\u001b[1;33m\u001b[0m\u001b[1;33m\u001b[0m\u001b[0m\n\u001b[0m\u001b[0;32m    975\u001b[0m \u001b[1;33m\u001b[0m\u001b[0m\n\u001b[0;32m    976\u001b[0m         \u001b[1;32mif\u001b[0m \u001b[0mlen\u001b[0m\u001b[1;33m(\u001b[0m\u001b[0mret\u001b[0m\u001b[1;33m)\u001b[0m\u001b[1;33m:\u001b[0m\u001b[1;33m\u001b[0m\u001b[1;33m\u001b[0m\u001b[0m\n",
      "\u001b[1;32m~\\anaconda3\\lib\\site-packages\\matplotlib\\artist.py\u001b[0m in \u001b[0;36m<listcomp>\u001b[1;34m(.0)\u001b[0m\n\u001b[0;32m    972\u001b[0m \u001b[1;33m\u001b[0m\u001b[0m\n\u001b[0;32m    973\u001b[0m         \u001b[1;32mwith\u001b[0m \u001b[0mcbook\u001b[0m\u001b[1;33m.\u001b[0m\u001b[0m_setattr_cm\u001b[0m\u001b[1;33m(\u001b[0m\u001b[0mself\u001b[0m\u001b[1;33m,\u001b[0m \u001b[0meventson\u001b[0m\u001b[1;33m=\u001b[0m\u001b[1;32mFalse\u001b[0m\u001b[1;33m)\u001b[0m\u001b[1;33m:\u001b[0m\u001b[1;33m\u001b[0m\u001b[1;33m\u001b[0m\u001b[0m\n\u001b[1;32m--> 974\u001b[1;33m             \u001b[0mret\u001b[0m \u001b[1;33m=\u001b[0m \u001b[1;33m[\u001b[0m\u001b[0m_update_property\u001b[0m\u001b[1;33m(\u001b[0m\u001b[0mself\u001b[0m\u001b[1;33m,\u001b[0m \u001b[0mk\u001b[0m\u001b[1;33m,\u001b[0m \u001b[0mv\u001b[0m\u001b[1;33m)\u001b[0m \u001b[1;32mfor\u001b[0m \u001b[0mk\u001b[0m\u001b[1;33m,\u001b[0m \u001b[0mv\u001b[0m \u001b[1;32min\u001b[0m \u001b[0mprops\u001b[0m\u001b[1;33m.\u001b[0m\u001b[0mitems\u001b[0m\u001b[1;33m(\u001b[0m\u001b[1;33m)\u001b[0m\u001b[1;33m]\u001b[0m\u001b[1;33m\u001b[0m\u001b[1;33m\u001b[0m\u001b[0m\n\u001b[0m\u001b[0;32m    975\u001b[0m \u001b[1;33m\u001b[0m\u001b[0m\n\u001b[0;32m    976\u001b[0m         \u001b[1;32mif\u001b[0m \u001b[0mlen\u001b[0m\u001b[1;33m(\u001b[0m\u001b[0mret\u001b[0m\u001b[1;33m)\u001b[0m\u001b[1;33m:\u001b[0m\u001b[1;33m\u001b[0m\u001b[1;33m\u001b[0m\u001b[0m\n",
      "\u001b[1;32m~\\anaconda3\\lib\\site-packages\\matplotlib\\artist.py\u001b[0m in \u001b[0;36m_update_property\u001b[1;34m(self, k, v)\u001b[0m\n\u001b[0;32m    968\u001b[0m                 \u001b[1;32mif\u001b[0m \u001b[1;32mnot\u001b[0m \u001b[0mcallable\u001b[0m\u001b[1;33m(\u001b[0m\u001b[0mfunc\u001b[0m\u001b[1;33m)\u001b[0m\u001b[1;33m:\u001b[0m\u001b[1;33m\u001b[0m\u001b[1;33m\u001b[0m\u001b[0m\n\u001b[0;32m    969\u001b[0m                     raise AttributeError('{!r} object has no property {!r}'\n\u001b[1;32m--> 970\u001b[1;33m                                          .format(type(self).__name__, k))\n\u001b[0m\u001b[0;32m    971\u001b[0m                 \u001b[1;32mreturn\u001b[0m \u001b[0mfunc\u001b[0m\u001b[1;33m(\u001b[0m\u001b[0mv\u001b[0m\u001b[1;33m)\u001b[0m\u001b[1;33m\u001b[0m\u001b[1;33m\u001b[0m\u001b[0m\n\u001b[0;32m    972\u001b[0m \u001b[1;33m\u001b[0m\u001b[0m\n",
      "\u001b[1;31mAttributeError\u001b[0m: 'PathCollection' object has no property 'type'"
     ]
    },
    {
     "data": {
      "image/png": "[encoded data removed]",
      "text/plain": [
       "<Figure size 432x288 with 3 Axes>"
      ]
     },
     "metadata": {
      "needs_background": "light"
     },
     "output_type": "display_data"
    },
    {
     "data": {
      "image/png": "[encoded data removed]",
      "text/plain": [
       "<Figure size 864x1944 with 9 Axes>"
      ]
     },
     "metadata": {
      "needs_background": "light"
     },
     "output_type": "display_data"
    }
   ],
   "source": [
    "fig, axs = plt.subplots(ncols=3)\n",
    "sns.relplot(x=\"location\", y=\"value\", height=3, aspect=4, hue=\"variable\", row=\"cancer\", type=\"lineplot\", data=all_cancer_1, ax=axs[0])\n",
    "plt.ylabel(\"Counts\")"
   ]
  },
  {
   "cell_type": "markdown",
   "metadata": {},
   "source": [
    "# Random Exploration"
   ]
  },
  {
   "cell_type": "code",
   "execution_count": null,
   "metadata": {},
   "outputs": [],
   "source": [
    "def add_chromo_loc(my_dict):\n",
    "    chromo = list()\n",
    "    locations = list()\n",
    "    for gene in list(my_dict.index.get_level_values(0)):\n",
    "        try:\n",
    "            e_gene = ensembl.genes_by_name(gene)\n",
    "            print(e_gene[0])\n",
    "            chromo.append(e_gene[0].contig)\n",
    "            locations.append((e_gene[0].start + e_gene[0].end)/2)\n",
    "        except:\n",
    "            chromo.append(None)\n",
    "            locations.append(None)\n",
    "    my_dict['chromo'] = chromo\n",
    "    my_dict['location'] = locations\n",
    "    return my_dict"
   ]
  },
  {
   "cell_type": "code",
   "execution_count": null,
   "metadata": {},
   "outputs": [],
   "source": [
    "add_chromo_loc(en_cnv.transpose())"
   ]
  }
 ],
 "metadata": {
  "kernelspec": {
   "display_name": "Python 3",
   "language": "python",
   "name": "python3"
  },
  "language_info": {
   "codemirror_mode": {
    "name": "ipython",
    "version": 3
   },
   "file_extension": ".py",
   "mimetype": "text/x-python",
   "name": "python",
   "nbconvert_exporter": "python",
   "pygments_lexer": "ipython3",
   "version": "3.7.6"
  }
 },
 "nbformat": 4,
 "nbformat_minor": 2
}
