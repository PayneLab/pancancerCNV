{
 "cells": [
  {
   "cell_type": "markdown",
   "metadata": {},
   "source": [
    "# Pancancer trans effect overlaps\n",
    "\n",
    "We want to test whether the number of trans-affected proteins that we see across multiple cancer types is much different from the number we'd expect to see if we just randomly chose that proportion of proteins from each cancer type. To do this, we will use a permutation test. Each permutation will randomly select a number of proteins from each cancer type that is the same as the number that we found to be affected. It will then calculate the proportions of those proteins that are common across different numbers of cancer types. This will create a null distribution for effect overlap among cancer types."
   ]
  },
  {
   "cell_type": "markdown",
   "metadata": {},
   "source": [
    "## Setup"
   ]
  },
  {
   "cell_type": "code",
   "execution_count": 1,
   "metadata": {},
   "outputs": [],
   "source": [
    "import pandas as pd\n",
    "import numpy as np\n",
    "import os\n",
    "import altair as alt\n",
    "import operator"
   ]
  },
  {
   "cell_type": "code",
   "execution_count": 2,
   "metadata": {},
   "outputs": [],
   "source": [
    "NUM_PERMUTATIONS = 1000\n",
    "\n",
    "CHROMOSOME = \"8\"\n",
    "ARM = \"p\"\n",
    "TRANS_OR_CIS = \"trans\"\n",
    "\n",
    "ttest_results_file = f\"{CHROMOSOME}{ARM}_{TRANS_OR_CIS}effects_ttest.tsv\""
   ]
  },
  {
   "cell_type": "markdown",
   "metadata": {},
   "source": [
    "## Load and parse ttest results file"
   ]
  },
  {
   "cell_type": "code",
   "execution_count": 3,
   "metadata": {},
   "outputs": [],
   "source": [
    "ttest_results = pd.\\\n",
    "read_csv(ttest_results_file, sep=\"\\t\").\\\n",
    "rename(columns={\"Name\": \"protein\"}).\\\n",
    "set_index(\"protein\")\n",
    "\n",
    "cancer_types = sorted(ttest_results.columns.to_series().str.split(\"_\", n=1, expand=True)[0].unique())\n",
    "\n",
    "long_results = pd.DataFrame()\n",
    "\n",
    "for cancer_type in cancer_types:\n",
    "    cancer_df = ttest_results.\\\n",
    "    loc[:, ttest_results.columns.str.startswith(cancer_type)].\\\n",
    "    dropna(axis=\"index\", how=\"all\").\\\n",
    "    reset_index(drop=False)\n",
    "    \n",
    "    # If the cancer type has database IDs, make a separate column that has them.\n",
    "    # If not, create a column of NaNs (so that the tables all match)\n",
    "    if f\"{cancer_type}_Database_ID\" in cancer_df.columns:\n",
    "        cancer_df = cancer_df.rename(columns={f\"{cancer_type}_Database_ID\": \"Database_ID\"})\n",
    "    else:\n",
    "        cancer_df = cancer_df.assign(Database_ID=np.nan)\n",
    "        \n",
    "    # Rename the pvalue and diff columns to not have the cancer type\n",
    "    cancer_df = cancer_df.rename(columns={\n",
    "        f\"{cancer_type}_pvalue\": \"adj_p\",\n",
    "        f\"{cancer_type}_diff\": \"change\"\n",
    "    }).\\\n",
    "    assign(cancer_type=cancer_type)\n",
    "    \n",
    "    # Reorder the columns\n",
    "    cancer_df = cancer_df[[\"cancer_type\", \"protein\", \"Database_ID\", \"adj_p\", \"change\"]]\n",
    "    \n",
    "    # Append to the overall dataframe\n",
    "    long_results = long_results.append(cancer_df)\n",
    "\n",
    "# Drop duplicate rows and reset the index\n",
    "long_results = long_results[~long_results.duplicated(keep=False)].\\\n",
    "reset_index(drop=True)"
   ]
  },
  {
   "cell_type": "markdown",
   "metadata": {},
   "source": [
    "## Find the number of proteins that were significantly affected in each cancer type"
   ]
  },
  {
   "cell_type": "code",
   "execution_count": 4,
   "metadata": {},
   "outputs": [
    {
     "data": {
      "text/plain": [
       "cancer_type\n",
       "brca          2\n",
       "colon        40\n",
       "hnscc         7\n",
       "lscc       1139\n",
       "luad         63\n",
       "ovarian       0\n",
       "Name: adj_p, dtype: int64"
      ]
     },
     "execution_count": 4,
     "metadata": {},
     "output_type": "execute_result"
    }
   ],
   "source": [
    "props_different = long_results.\\\n",
    "groupby(\"cancer_type\")[\"adj_p\"].\\\n",
    "apply(lambda x: (x <= 0.05).sum())\n",
    "\n",
    "props_different"
   ]
  },
  {
   "cell_type": "markdown",
   "metadata": {},
   "source": [
    "## Permutation tests\n",
    "\n",
    "In each iteration: For each cancer type, randomly select the correct number of the appropriate group of proteins, and then see how many overlaps we have between cancer types."
   ]
  },
  {
   "cell_type": "code",
   "execution_count": 5,
   "metadata": {},
   "outputs": [
    {
     "data": {
      "text/plain": [
       "1    1220252\n",
       "2      14670\n",
       "3         44\n",
       "4          0\n",
       "5          0\n",
       "6          0\n",
       "dtype: int64"
      ]
     },
     "execution_count": 5,
     "metadata": {},
     "output_type": "execute_result"
    }
   ],
   "source": [
    "counts = pd.Series(0, index=range(1, props_different.size + 1))\n",
    "\n",
    "generator = np.random.RandomState(0)\n",
    "\n",
    "for i in range(NUM_PERMUTATIONS):\n",
    "    perm_summary = long_results.\\\n",
    "    groupby(\"cancer_type\")[\"protein\"].\\\n",
    "    apply(lambda x: x.sample(n=props_different[x.name], replace=False, random_state=generator)).\\\n",
    "    to_frame().\\\n",
    "    droplevel(1).\\\n",
    "    reset_index().\\\n",
    "    groupby(\"protein\").\\\n",
    "    agg(**{\"cancers\": (\"cancer_type\", lambda x: x.sort_values().drop_duplicates(keep=\"first\").tolist())})\n",
    "\n",
    "    perm_summary = perm_summary.\\\n",
    "    assign(\n",
    "        num_cancers=perm_summary[\"cancers\"].apply(len),\n",
    "    ).\\\n",
    "    groupby(\"num_cancers\")[\"num_cancers\"].\\\n",
    "    count()\n",
    "\n",
    "    counts = counts.combine(perm_summary, func=operator.add, fill_value=0)\n",
    "\n",
    "counts"
   ]
  },
  {
   "cell_type": "markdown",
   "metadata": {},
   "source": [
    "## Make a barchart of results"
   ]
  },
  {
   "cell_type": "code",
   "execution_count": 6,
   "metadata": {},
   "outputs": [],
   "source": [
    "counts = counts.rename(\"counts\").to_frame().reset_index(drop=False)"
   ]
  },
  {
   "cell_type": "code",
   "execution_count": 7,
   "metadata": {},
   "outputs": [
    {
     "data": {
      "text/html": [
       "\n",
       "<div id=\"altair-viz-1a6a94b8acb24c23b946b6d766f9410d\"></div>\n",
       "<script type=\"text/javascript\">\n",
       "  (function(spec, embedOpt){\n",
       "    let outputDiv = document.currentScript.previousElementSibling;\n",
       "    if (outputDiv.id !== \"altair-viz-1a6a94b8acb24c23b946b6d766f9410d\") {\n",
       "      outputDiv = document.getElementById(\"altair-viz-1a6a94b8acb24c23b946b6d766f9410d\");\n",
       "    }\n",
       "    const paths = {\n",
       "      \"vega\": \"https://cdn.jsdelivr.net/npm//vega@5?noext\",\n",
       "      \"vega-lib\": \"https://cdn.jsdelivr.net/npm//vega-lib?noext\",\n",
       "      \"vega-lite\": \"https://cdn.jsdelivr.net/npm//vega-lite@4.8.1?noext\",\n",
       "      \"vega-embed\": \"https://cdn.jsdelivr.net/npm//vega-embed@6?noext\",\n",
       "    };\n",
       "\n",
       "    function loadScript(lib) {\n",
       "      return new Promise(function(resolve, reject) {\n",
       "        var s = document.createElement('script');\n",
       "        s.src = paths[lib];\n",
       "        s.async = true;\n",
       "        s.onload = () => resolve(paths[lib]);\n",
       "        s.onerror = () => reject(`Error loading script: ${paths[lib]}`);\n",
       "        document.getElementsByTagName(\"head\")[0].appendChild(s);\n",
       "      });\n",
       "    }\n",
       "\n",
       "    function showError(err) {\n",
       "      outputDiv.innerHTML = `<div class=\"error\" style=\"color:red;\">${err}</div>`;\n",
       "      throw err;\n",
       "    }\n",
       "\n",
       "    function displayChart(vegaEmbed) {\n",
       "      vegaEmbed(outputDiv, spec, embedOpt)\n",
       "        .catch(err => showError(`Javascript Error: ${err.message}<br>This usually means there's a typo in your chart specification. See the javascript console for the full traceback.`));\n",
       "    }\n",
       "\n",
       "    if(typeof define === \"function\" && define.amd) {\n",
       "      requirejs.config({paths});\n",
       "      require([\"vega-embed\"], displayChart, err => showError(`Error loading script: ${err.message}`));\n",
       "    } else if (typeof vegaEmbed === \"function\") {\n",
       "      displayChart(vegaEmbed);\n",
       "    } else {\n",
       "      loadScript(\"vega\")\n",
       "        .then(() => loadScript(\"vega-lite\"))\n",
       "        .then(() => loadScript(\"vega-embed\"))\n",
       "        .catch(showError)\n",
       "        .then(() => displayChart(vegaEmbed));\n",
       "    }\n",
       "  })({\"config\": {\"view\": {\"continuousWidth\": 400, \"continuousHeight\": 300}}, \"data\": {\"name\": \"data-957c06ddbbb9df710d6bac4823bd67ca\"}, \"mark\": \"bar\", \"encoding\": {\"x\": {\"type\": \"ordinal\", \"axis\": {\"labelAngle\": 0, \"title\": \"Overlap size\"}, \"field\": \"index\"}, \"y\": {\"type\": \"quantitative\", \"axis\": {\"title\": \"Number of occurrences\"}, \"field\": \"counts\"}}, \"$schema\": \"https://vega.github.io/schema/vega-lite/v4.8.1.json\", \"datasets\": {\"data-957c06ddbbb9df710d6bac4823bd67ca\": [{\"index\": 1, \"counts\": 1220252}, {\"index\": 2, \"counts\": 14670}, {\"index\": 3, \"counts\": 44}, {\"index\": 4, \"counts\": 0}, {\"index\": 5, \"counts\": 0}, {\"index\": 6, \"counts\": 0}]}}, {\"mode\": \"vega-lite\"});\n",
       "</script>"
      ],
      "text/plain": [
       "alt.Chart(...)"
      ]
     },
     "execution_count": 7,
     "metadata": {},
     "output_type": "execute_result"
    }
   ],
   "source": [
    "alt.Chart(counts).mark_bar().encode(\n",
    "    x=alt.X(\n",
    "        \"index:O\",\n",
    "        axis=alt.Axis(\n",
    "            labelAngle=0,\n",
    "            title=\"Overlap size\"\n",
    "        )\n",
    "    ),\n",
    "    y=alt.Y(\n",
    "        \"counts\",\n",
    "        axis=alt.Axis(\n",
    "            title=\"Number of occurrences\"\n",
    "        )\n",
    "    )\n",
    ")"
   ]
  },
  {
   "cell_type": "markdown",
   "metadata": {},
   "source": [
    "## Calculate one-sided p values for each overlap size\n",
    "\n",
    "We do one-sided p values because the null hypothesis is that there is no similarity between cancer types, and therefore no overlap, while the alternative hypothesis is that there is similarity between cancer types, so there is some overlap."
   ]
  },
  {
   "cell_type": "code",
   "execution_count": 8,
   "metadata": {},
   "outputs": [],
   "source": [
    "counts = counts.set_index(\"index\")[\"counts\"]"
   ]
  },
  {
   "cell_type": "code",
   "execution_count": 9,
   "metadata": {},
   "outputs": [
    {
     "data": {
      "text/html": [
       "<div>\n",
       "<style scoped>\n",
       "    .dataframe tbody tr th:only-of-type {\n",
       "        vertical-align: middle;\n",
       "    }\n",
       "\n",
       "    .dataframe tbody tr th {\n",
       "        vertical-align: top;\n",
       "    }\n",
       "\n",
       "    .dataframe thead th {\n",
       "        text-align: right;\n",
       "    }\n",
       "</style>\n",
       "<table border=\"1\" class=\"dataframe\">\n",
       "  <thead>\n",
       "    <tr style=\"text-align: right;\">\n",
       "      <th></th>\n",
       "      <th>pvals</th>\n",
       "    </tr>\n",
       "    <tr>\n",
       "      <th>overlap_size</th>\n",
       "      <th></th>\n",
       "    </tr>\n",
       "  </thead>\n",
       "  <tbody>\n",
       "    <tr>\n",
       "      <th>1</th>\n",
       "      <td>1.000000</td>\n",
       "    </tr>\n",
       "    <tr>\n",
       "      <th>2</th>\n",
       "      <td>0.011914</td>\n",
       "    </tr>\n",
       "    <tr>\n",
       "      <th>3</th>\n",
       "      <td>0.000036</td>\n",
       "    </tr>\n",
       "    <tr>\n",
       "      <th>4</th>\n",
       "      <td>0.000000</td>\n",
       "    </tr>\n",
       "    <tr>\n",
       "      <th>5</th>\n",
       "      <td>0.000000</td>\n",
       "    </tr>\n",
       "    <tr>\n",
       "      <th>6</th>\n",
       "      <td>0.000000</td>\n",
       "    </tr>\n",
       "  </tbody>\n",
       "</table>\n",
       "</div>"
      ],
      "text/plain": [
       "                 pvals\n",
       "overlap_size          \n",
       "1             1.000000\n",
       "2             0.011914\n",
       "3             0.000036\n",
       "4             0.000000\n",
       "5             0.000000\n",
       "6             0.000000"
      ]
     },
     "execution_count": 9,
     "metadata": {},
     "output_type": "execute_result"
    }
   ],
   "source": [
    "total = counts.sum()\n",
    "pvals = pd.Series(np.nan, index=counts.index.copy())\n",
    "\n",
    "for overlap_size in counts.index:\n",
    "    as_or_more_extreme_count = counts[counts.index >= overlap_size].sum() / total\n",
    "    pvals[overlap_size] = as_or_more_extreme_count\n",
    "    \n",
    "pvals = pvals.rename(\"pvals\").to_frame()\n",
    "pvals.index.name = \"overlap_size\"\n",
    "pvals"
   ]
  },
  {
   "cell_type": "code",
   "execution_count": 10,
   "metadata": {},
   "outputs": [],
   "source": [
    "pvals.to_csv(f\"overlap_pvals_{CHROMOSOME}{ARM}_{TRANS_OR_CIS}.tsv\", sep=\"\\t\")"
   ]
  }
 ],
 "metadata": {
  "kernelspec": {
   "display_name": "Python 3",
   "language": "python",
   "name": "python3"
  },
  "language_info": {
   "codemirror_mode": {
    "name": "ipython",
    "version": 3
   },
   "file_extension": ".py",
   "mimetype": "text/x-python",
   "name": "python",
   "nbconvert_exporter": "python",
   "pygments_lexer": "ipython3",
   "version": "3.7.7"
  }
 },
 "nbformat": 4,
 "nbformat_minor": 4
}
