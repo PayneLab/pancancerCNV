{
 "cells": [
  {
   "cell_type": "markdown",
   "metadata": {},
   "source": [
    "# Filtered trans-effects with t tests\n",
    "\n",
    "Here we look for genes NOT in the event discussed that are affected by the arm-level event. To increase the power of our tests, we will only consider trans effects for interacting proteins of proteins that showed a cis effect. We will find these effects by performing a series of t-tests comparing the proteomic values of the patients with the event against those without the event."
   ]
  },
  {
   "cell_type": "markdown",
   "metadata": {},
   "source": [
    "## Setup (Install necessary packages)\n",
    "\n",
    "We will start by importing necessary packages and collecting all of the proteomics data we will need to run the tests. The cancer types analyzed should have been determined in 01_event_basic_info where we determine which types of cancer seem to have the event we are looking at."
   ]
  },
  {
   "cell_type": "code",
   "execution_count": 1,
   "metadata": {},
   "outputs": [],
   "source": [
    "import pandas as pd\n",
    "import matplotlib.pyplot as plt\n",
    "import seaborn as sns\n",
    "import numpy as np\n",
    "import cptac\n",
    "from scipy import stats\n",
    "import cnvutils\n",
    "import cptac.utils\n",
    "import cptac.exceptions as ex"
   ]
  },
  {
   "cell_type": "code",
   "execution_count": null,
   "metadata": {},
   "outputs": [],
   "source": [
    "# These variables specify which chromosome and arm we're working on, and whether to do cis or trans effects\n",
    "params = cnvutils.load_params(os.path.join(\"..\", \"data\", \"params.json\"))\n",
    "CHROMOSOME = params[\"CHROMOSOME\"]\n",
    "ARM = params[\"ARM\"]\n",
    "CIS_OR_TRANS = \"trans\"\n",
    "\n",
    "# Get data tables\n",
    "CANCER_TYPES = params[\"CANCER_TYPES\"]\n",
    "data_types = [\"proteomics\"]\n",
    "tables = cnvutils.load_tables(CANCER_TYPES, data_types, pancan=False)\n",
    "proteomics = tables[\"proteomics\"]\n",
    "\n",
    "# Get event location data\n",
    "event_metadata = cnvutils.load_params(os.path.join(\"..\", \"data\", \"event_metadata.json\"))\n",
    "EVENT_START = event_metadata[\"START\"]\n",
    "EVENT_END = event_metadata[\"END\"]\n",
    "\n",
    "EVENT_COLUMN = \"event\""
   ]
  },
  {
   "cell_type": "markdown",
   "metadata": {},
   "source": [
    "## Select only the interacting proteins of proteins that showed a cis effect\n",
    "\n",
    "We will first just do this for proteins that showed a cis effect in all 6 cancers."
   ]
  },
  {
   "cell_type": "code",
   "execution_count": 6,
   "metadata": {
    "scrolled": true
   },
   "outputs": [],
   "source": [
    "# Get the proteins that showed a cis effect in all cancers\n",
    "cis_df = pd.read_csv(os.path.join(\"..\", \"data\", f\"common_summary_{CHROMOSOME}{ARM}_cis.tsv\"), sep=\"\\t\")\n",
    "cis_prots = cis_df.loc[cis_df[\"num_cancers\"] == 6, \"protein\"]\n",
    "\n",
    "# Get the interacting proteins for the cis effect proteins\n",
    "interactors = pd.DataFrame()\n",
    "\n",
    "for prot in cis_prots:\n",
    "    \n",
    "    try:\n",
    "        prot_int = cptac.utils.\\\n",
    "        get_interacting_proteins_biogrid(prot).\\\n",
    "        assign(cis_parent=prot).\\\n",
    "        reset_index(drop=False)\n",
    "\n",
    "        interactors = interactors.append(prot_int)\n",
    "    \n",
    "    # Catch if there were no interactors\n",
    "    except ex.InvalidParameterError:\n",
    "        continue\n",
    "\n",
    "# If any of the cis proteins were included on the interactors lists (due\n",
    "# to a protein interacting with itself), take them out. Also get rid of\n",
    "# duplicates.\n",
    "interactors = interactors[~interactors[\"protein\"].isin(cis_prots)].\\\n",
    "reset_index(drop=True).\\\n",
    "groupby(\"protein\")[[\"num_references\"]].\\\n",
    "sum().\\\n",
    "reset_index(drop=False)"
   ]
  },
  {
   "cell_type": "code",
   "execution_count": 7,
   "metadata": {},
   "outputs": [],
   "source": [
    "# For each cancer type, select just those interacting proteins\n",
    "for cancer_type in proteomics.keys():\n",
    "    \n",
    "    df = proteomics[cancer_type]\n",
    "    \n",
    "    if df.columns.nlevels == 1:\n",
    "        df = df.loc[:, df.columns.isin(interactors[\"protein\"])]\n",
    "    else:\n",
    "        df = df.loc[:, df.columns.get_level_values(0).isin(interactors[\"protein\"])]\n",
    "        \n",
    "    proteomics[cancer_type] = df"
   ]
  },
  {
   "cell_type": "markdown",
   "metadata": {},
   "source": [
    "## Select the proteins we're interested in\n",
    "\n",
    "If we're looking at cis effects, we select proteins within the event. If we're looking at trans effects, we select proteins outside of the event.\n",
    "\n",
    "Note that the cnvutils.get_event_genes function uses Ensembl gene IDs for the Database_ID column, while the proteomics dataframes that have a Database_ID column use RefSeq protein IDs. So, when we're selecting the genes we want, we ignore the Database_ID column if it is present, and just use gene names."
   ]
  },
  {
   "cell_type": "code",
   "execution_count": 8,
   "metadata": {},
   "outputs": [],
   "source": [
    "selected_genes = cnvutils.\\\n",
    "get_event_genes(\n",
    "    chrm=CHROMOSOME,\n",
    "    event_start=EVENT_START,\n",
    "    event_end=EVENT_END,\n",
    "    cis_or_trans=CIS_OR_TRANS\n",
    ")[\"Name\"].\\\n",
    "drop_duplicates(keep=\"first\")\n",
    "\n",
    "for cancer_type in proteomics.keys():\n",
    "    df = proteomics[cancer_type].transpose()\n",
    "    \n",
    "    if df.index.nlevels == 1:\n",
    "        df = df[df.index.isin(selected_genes)]\n",
    "    else:\n",
    "        df = df[df.index.isin(selected_genes, level=\"Name\")]\n",
    "\n",
    "    proteomics[cancer_type] = df"
   ]
  },
  {
   "cell_type": "markdown",
   "metadata": {},
   "source": [
    "## Append Event Data\n",
    "\n",
    "We now append the data from the event table that should have been created in a previous notebook."
   ]
  },
  {
   "cell_type": "code",
   "execution_count": 9,
   "metadata": {},
   "outputs": [
    {
     "name": "stderr",
     "output_type": "stream",
     "text": [
      "/home/caleb/anaconda3/envs/dev/lib/python3.7/site-packages/pandas/core/reshape/merge.py:648: UserWarning: merging between different levels can give an unintended result (2 levels on the left,1 on the right)\n",
      "  warnings.warn(msg, UserWarning)\n",
      "/home/caleb/anaconda3/envs/dev/lib/python3.7/site-packages/pandas/core/reshape/merge.py:648: UserWarning: merging between different levels can give an unintended result (2 levels on the left,1 on the right)\n",
      "  warnings.warn(msg, UserWarning)\n",
      "/home/caleb/anaconda3/envs/dev/lib/python3.7/site-packages/pandas/core/reshape/merge.py:648: UserWarning: merging between different levels can give an unintended result (2 levels on the left,1 on the right)\n",
      "  warnings.warn(msg, UserWarning)\n",
      "/home/caleb/anaconda3/envs/dev/lib/python3.7/site-packages/pandas/core/reshape/merge.py:648: UserWarning: merging between different levels can give an unintended result (2 levels on the left,1 on the right)\n",
      "  warnings.warn(msg, UserWarning)\n"
     ]
    }
   ],
   "source": [
    "has_event = dict()\n",
    "for cancer_type in proteomics.keys():\n",
    "    df = proteomics[cancer_type]\n",
    "    df = df.transpose()\n",
    "    event = pd.read_csv(os.path.join(\"..\", \"data\", f'{cancer_type}_has_event.tsv'), sep='\\t', index_col=0)\n",
    "    event.index.rename('Name')\n",
    "    df = df.join(event)\n",
    "    df = df.dropna(subset=[EVENT_COLUMN])\n",
    "    has_event[cancer_type] = df[EVENT_COLUMN]\n",
    "    proteomics[cancer_type] = df"
   ]
  },
  {
   "cell_type": "markdown",
   "metadata": {},
   "source": [
    "## Run T-Tests"
   ]
  },
  {
   "cell_type": "code",
   "execution_count": 10,
   "metadata": {},
   "outputs": [],
   "source": [
    "results_df = None\n",
    "for cancer_type in proteomics.keys():\n",
    "    prot_df = proteomics[cancer_type]\n",
    "    results = cptac.utils.wrap_ttest(\n",
    "        df=prot_df, \n",
    "        label_column=EVENT_COLUMN,\n",
    "        correction_method=\"fdr_bh\",\n",
    "        return_all=True\n",
    "    )\n",
    "    results.set_index('Comparison', inplace=True)\n",
    "    if isinstance(results.index[0], tuple):\n",
    "        results[['Name', f'{cancer_type}_Database_ID']] = pd.DataFrame(\n",
    "            results.index.values.tolist(),\n",
    "            index=results.index\n",
    "        )\n",
    "        results.set_index(['Name', f'{cancer_type}_Database_ID'], inplace=True)\n",
    "    else:\n",
    "        results.index.name='Name'\n",
    "    results.rename(columns={'P_Value': f'{cancer_type}_pvalue'}, inplace=True)\n",
    "    if results_df is None:\n",
    "        results_df = results\n",
    "    else:\n",
    "        results_df = results_df.join(results)"
   ]
  },
  {
   "cell_type": "markdown",
   "metadata": {},
   "source": [
    "## Append Difference Data\n",
    "\n",
    "We want to collect one more piece of information about the data. We want to find the difference between the averages of the two groups. This will tell us if there is a positive or negative coorelation between the event and the proteomic data and can give us some indication of the strength of the coorelation. "
   ]
  },
  {
   "cell_type": "code",
   "execution_count": 11,
   "metadata": {},
   "outputs": [],
   "source": [
    "def get_diff(col, event):\n",
    "    has_event = col[event]\n",
    "    invert_list = [not x for x in event]\n",
    "    no_event = col[invert_list]\n",
    "    event_avg = has_event.mean()\n",
    "    no_event_avg = no_event.mean()\n",
    "    return event_avg - no_event_avg"
   ]
  },
  {
   "cell_type": "code",
   "execution_count": 12,
   "metadata": {},
   "outputs": [],
   "source": [
    "diff_df = None\n",
    "for cancer_type in proteomics.keys():\n",
    "    df = proteomics[cancer_type]\n",
    "    df = df.drop(EVENT_COLUMN, axis=1)\n",
    "    results = df.apply(lambda x: get_diff(x, has_event[cancer_type]))\n",
    "    df = pd.DataFrame(results)\n",
    "    if isinstance(df.index[0], tuple):\n",
    "        df[['Name', f'{cancer_type}_Database_ID']] = pd.DataFrame(df.index.values.tolist(), index=df.index)\n",
    "        df.set_index(['Name', f'{cancer_type}_Database_ID'], inplace=True)\n",
    "    else:\n",
    "        df.index.name='Name'\n",
    "    df.rename(columns={0: f'{cancer_type}_diff'}, inplace=True)\n",
    "    if diff_df is None:\n",
    "        diff_df = df\n",
    "    else:\n",
    "        diff_df = diff_df.join(df)"
   ]
  },
  {
   "cell_type": "markdown",
   "metadata": {},
   "source": [
    "## Join the tables, reformat, and save\n",
    "\n",
    "We now join the difference table and the results table together, then reformat them nicely. We also save the table to a tsv for use in future analyses. "
   ]
  },
  {
   "cell_type": "code",
   "execution_count": 13,
   "metadata": {},
   "outputs": [],
   "source": [
    "results_df = results_df.join(diff_df)"
   ]
  },
  {
   "cell_type": "code",
   "execution_count": 14,
   "metadata": {},
   "outputs": [],
   "source": [
    "results_df = results_df.\\\n",
    "reset_index(drop=False).\\\n",
    "rename(columns={\"Name\": \"protein\"}).\\\n",
    "set_index(\"protein\")\n",
    "\n",
    "long_results = pd.DataFrame()\n",
    "\n",
    "for cancer_type in CANCER_TYPES:\n",
    "    cancer_df = results_df.\\\n",
    "    loc[:, results_df.columns.str.startswith(cancer_type)].\\\n",
    "    dropna(axis=\"index\", how=\"all\").\\\n",
    "    reset_index(drop=False)\n",
    "\n",
    "    # If the cancer type has database IDs, make a separate column that has them.\n",
    "    # If not, create a column of NaNs (so that the tables all match)\n",
    "    if f\"{cancer_type}_Database_ID\" in cancer_df.columns:\n",
    "        cancer_df = cancer_df.rename(columns={f\"{cancer_type}_Database_ID\": \"Database_ID\"})\n",
    "    else:\n",
    "        cancer_df = cancer_df.assign(Database_ID=np.nan)\n",
    "\n",
    "    # Rename the pvalue and diff columns to not have the cancer type\n",
    "    cancer_df = cancer_df.rename(columns={\n",
    "        f\"{cancer_type}_pvalue\": \"adj_p\",\n",
    "        f\"{cancer_type}_diff\": \"change\"\n",
    "    }).\\\n",
    "    assign(cancer_type=cancer_type)\n",
    "\n",
    "    # Reorder the columns\n",
    "    cancer_df = cancer_df[[\"cancer_type\", \"protein\", \"Database_ID\", \"adj_p\", \"change\"]]\n",
    "\n",
    "    # Append to the overall dataframe\n",
    "    long_results = long_results.append(cancer_df)\n",
    "\n",
    "# Drop duplicate rows and reset the index\n",
    "long_results = long_results[~long_results.duplicated(keep=False)].\\\n",
    "reset_index(drop=True)"
   ]
  },
  {
   "cell_type": "code",
   "execution_count": null,
   "metadata": {},
   "outputs": [],
   "source": [
    "save_path = os.path.join(\"..\", \"data\", f\"{CHROMOSOME}{ARM}_ttest_{CIS_OR_TRANS}_effects_filtered.tsv\")\n",
    "long_results.to_csv(save_path, sep='\\t', index=False)"
   ]
  }
 ],
 "metadata": {
  "kernelspec": {
   "display_name": "Python 3 (ipykernel)",
   "language": "python",
   "name": "python3"
  },
  "language_info": {
   "codemirror_mode": {
    "name": "ipython",
    "version": 3
   },
   "file_extension": ".py",
   "mimetype": "text/x-python",
   "name": "python",
   "nbconvert_exporter": "python",
   "pygments_lexer": "ipython3",
   "version": "3.7.7"
  }
 },
 "nbformat": 4,
 "nbformat_minor": 4
}
