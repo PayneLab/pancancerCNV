{
 "cells": [
  {
   "cell_type": "markdown",
   "metadata": {},
   "source": [
    "\n",
    "# Pancancer trans effect overlaps\n",
    "\n",
    "We want to test whether the number of cis-affected proteins that we see across multiple cancer types is much different from the number we'd expect to see if we just randomly chose that proportion of proteins from each cancer type. To do this, we will use a permutation test. Each permutation will randomly select a number of proteins from each cancer type that is the same as the number that we found to be affected. It will then calculate the proportions of those proteins that are common across different numbers of cancer types. This will create a null distribution for effect overlap among cancer types."
   ]
  },
  {
   "cell_type": "markdown",
   "metadata": {},
   "source": [
    "## Setup"
   ]
  },
  {
   "cell_type": "code",
   "execution_count": 1,
   "metadata": {},
   "outputs": [],
   "source": [
    "import cnvutils\n",
    "import pandas as pd\n",
    "import numpy as np\n",
    "import os\n",
    "import altair as alt\n",
    "import operator"
   ]
  },
  {
   "cell_type": "code",
   "execution_count": 2,
   "metadata": {},
   "outputs": [],
   "source": [
    "NUM_PERMUTATIONS = 10000\n",
    "\n",
    "params = cnvutils.load_params(os.path.join(\"..\", \"data\", \"params.json\"))\n",
    "CHROMOSOME = params[\"CHROMOSOME\"]\n",
    "ARM = params[\"ARM\"]\n",
    "CIS_OR_TRANS = \"trans\"\n",
    "\n",
    "ttest_results_file = os.path.join(\"..\", \"data\", f\"{CHROMOSOME}{ARM}_{CIS_OR_TRANS}_ttest.tsv\")"
   ]
  },
  {
   "cell_type": "markdown",
   "metadata": {},
   "source": [
    "## Load and parse ttest results file"
   ]
  },
  {
   "cell_type": "code",
   "execution_count": 3,
   "metadata": {},
   "outputs": [],
   "source": [
    "ttest_results = pd.read_csv(ttest_results_file, sep=\"\\t\")"
   ]
  },
  {
   "cell_type": "markdown",
   "metadata": {},
   "source": [
    "## Find the number of proteins that were significantly affected in each cancer type"
   ]
  },
  {
   "cell_type": "code",
   "execution_count": 4,
   "metadata": {},
   "outputs": [
    {
     "name": "stderr",
     "output_type": "stream",
     "text": [
      "INFO:numexpr.utils:NumExpr defaulting to 8 threads.\n"
     ]
    },
    {
     "data": {
      "text/plain": [
       "cancer_type\n",
       "brca       25\n",
       "colon      22\n",
       "hnscc      28\n",
       "lscc       32\n",
       "luad       42\n",
       "ovarian    29\n",
       "Name: adj_p, dtype: int64"
      ]
     },
     "execution_count": 4,
     "metadata": {},
     "output_type": "execute_result"
    }
   ],
   "source": [
    "props_different = ttest_results.\\\n",
    "groupby(\"cancer_type\")[\"adj_p\"].\\\n",
    "apply(lambda x: (x <= 0.05).sum())\n",
    "\n",
    "props_different"
   ]
  },
  {
   "cell_type": "markdown",
   "metadata": {},
   "source": [
    "## Permutation tests\n",
    "\n",
    "In each iteration: For each cancer type, randomly select the correct number of the appropriate group of proteins, and then see how many overlaps we have between cancer types."
   ]
  },
  {
   "cell_type": "code",
   "execution_count": 5,
   "metadata": {},
   "outputs": [
    {
     "data": {
      "text/plain": [
       "1    195507\n",
       "2    214846\n",
       "3    193324\n",
       "4     99501\n",
       "5     27961\n",
       "6      3224\n",
       "dtype: int64"
      ]
     },
     "execution_count": 5,
     "metadata": {},
     "output_type": "execute_result"
    }
   ],
   "source": [
    "counts = pd.Series(0, index=range(1, props_different.size + 1))\n",
    "\n",
    "generator = np.random.RandomState(0)\n",
    "\n",
    "for i in range(NUM_PERMUTATIONS):\n",
    "    perm_summary = ttest_results.\\\n",
    "    groupby(\"cancer_type\")[\"protein\"].\\\n",
    "    apply(lambda x: x.sample(n=props_different[x.name], replace=False, random_state=generator)).\\\n",
    "    to_frame().\\\n",
    "    droplevel(1).\\\n",
    "    reset_index().\\\n",
    "    groupby(\"protein\").\\\n",
    "    agg(**{\"cancers\": (\"cancer_type\", lambda x: x.sort_values().drop_duplicates(keep=\"first\").tolist())})\n",
    "\n",
    "    perm_summary = perm_summary.\\\n",
    "    assign(\n",
    "        num_cancers=perm_summary[\"cancers\"].apply(len),\n",
    "    ).\\\n",
    "    groupby(\"num_cancers\")[\"num_cancers\"].\\\n",
    "    count()\n",
    "\n",
    "    counts = counts.combine(perm_summary, func=operator.add, fill_value=0)\n",
    "\n",
    "counts"
   ]
  },
  {
   "cell_type": "markdown",
   "metadata": {},
   "source": [
    "## Make a barchart of results"
   ]
  },
  {
   "cell_type": "code",
   "execution_count": 6,
   "metadata": {},
   "outputs": [],
   "source": [
    "counts = counts.rename(\"counts\").to_frame().reset_index(drop=False)"
   ]
  },
  {
   "cell_type": "code",
   "execution_count": 7,
   "metadata": {},
   "outputs": [
    {
     "data": {
      "text/html": [
       "\n",
       "<div id=\"altair-viz-ca0c2c14b7854ead92aed4d20afbf5df\"></div>\n",
       "<script type=\"text/javascript\">\n",
       "  (function(spec, embedOpt){\n",
       "    let outputDiv = document.currentScript.previousElementSibling;\n",
       "    if (outputDiv.id !== \"altair-viz-ca0c2c14b7854ead92aed4d20afbf5df\") {\n",
       "      outputDiv = document.getElementById(\"altair-viz-ca0c2c14b7854ead92aed4d20afbf5df\");\n",
       "    }\n",
       "    const paths = {\n",
       "      \"vega\": \"https://cdn.jsdelivr.net/npm//vega@5?noext\",\n",
       "      \"vega-lib\": \"https://cdn.jsdelivr.net/npm//vega-lib?noext\",\n",
       "      \"vega-lite\": \"https://cdn.jsdelivr.net/npm//vega-lite@4.8.1?noext\",\n",
       "      \"vega-embed\": \"https://cdn.jsdelivr.net/npm//vega-embed@6?noext\",\n",
       "    };\n",
       "\n",
       "    function loadScript(lib) {\n",
       "      return new Promise(function(resolve, reject) {\n",
       "        var s = document.createElement('script');\n",
       "        s.src = paths[lib];\n",
       "        s.async = true;\n",
       "        s.onload = () => resolve(paths[lib]);\n",
       "        s.onerror = () => reject(`Error loading script: ${paths[lib]}`);\n",
       "        document.getElementsByTagName(\"head\")[0].appendChild(s);\n",
       "      });\n",
       "    }\n",
       "\n",
       "    function showError(err) {\n",
       "      outputDiv.innerHTML = `<div class=\"error\" style=\"color:red;\">${err}</div>`;\n",
       "      throw err;\n",
       "    }\n",
       "\n",
       "    function displayChart(vegaEmbed) {\n",
       "      vegaEmbed(outputDiv, spec, embedOpt)\n",
       "        .catch(err => showError(`Javascript Error: ${err.message}<br>This usually means there's a typo in your chart specification. See the javascript console for the full traceback.`));\n",
       "    }\n",
       "\n",
       "    if(typeof define === \"function\" && define.amd) {\n",
       "      requirejs.config({paths});\n",
       "      require([\"vega-embed\"], displayChart, err => showError(`Error loading script: ${err.message}`));\n",
       "    } else if (typeof vegaEmbed === \"function\") {\n",
       "      displayChart(vegaEmbed);\n",
       "    } else {\n",
       "      loadScript(\"vega\")\n",
       "        .then(() => loadScript(\"vega-lite\"))\n",
       "        .then(() => loadScript(\"vega-embed\"))\n",
       "        .catch(showError)\n",
       "        .then(() => displayChart(vegaEmbed));\n",
       "    }\n",
       "  })({\"config\": {\"view\": {\"continuousWidth\": 400, \"continuousHeight\": 300}}, \"data\": {\"name\": \"data-b249179ca5462ef738f53b74faa86613\"}, \"mark\": \"bar\", \"encoding\": {\"x\": {\"type\": \"ordinal\", \"axis\": {\"labelAngle\": 0, \"title\": \"Overlap size\"}, \"field\": \"index\"}, \"y\": {\"type\": \"quantitative\", \"axis\": {\"title\": \"Number of occurrences\"}, \"field\": \"counts\"}}, \"$schema\": \"https://vega.github.io/schema/vega-lite/v4.8.1.json\", \"datasets\": {\"data-b249179ca5462ef738f53b74faa86613\": [{\"index\": 1, \"counts\": 195507}, {\"index\": 2, \"counts\": 214846}, {\"index\": 3, \"counts\": 193324}, {\"index\": 4, \"counts\": 99501}, {\"index\": 5, \"counts\": 27961}, {\"index\": 6, \"counts\": 3224}]}}, {\"mode\": \"vega-lite\"});\n",
       "</script>"
      ],
      "text/plain": [
       "alt.Chart(...)"
      ]
     },
     "execution_count": 7,
     "metadata": {},
     "output_type": "execute_result"
    }
   ],
   "source": [
    "alt.Chart(counts).mark_bar().encode(\n",
    "    x=alt.X(\n",
    "        \"index:O\",\n",
    "        axis=alt.Axis(\n",
    "            labelAngle=0,\n",
    "            title=\"Overlap size\"\n",
    "        )\n",
    "    ),\n",
    "    y=alt.Y(\n",
    "        \"counts\",\n",
    "        axis=alt.Axis(\n",
    "            title=\"Number of occurrences\"\n",
    "        )\n",
    "    )\n",
    ")"
   ]
  },
  {
   "cell_type": "markdown",
   "metadata": {},
   "source": [
    "## Calculate one-sided p values for each overlap size\n",
    "\n",
    "We do one-sided p values because the null hypothesis is that there is no similarity between cancer types, and therefore no overlap, while the alternative hypothesis is that there is similarity between cancer types, so there is some overlap."
   ]
  },
  {
   "cell_type": "code",
   "execution_count": 8,
   "metadata": {},
   "outputs": [],
   "source": [
    "counts = counts.set_index(\"index\")[\"counts\"]"
   ]
  },
  {
   "cell_type": "code",
   "execution_count": 9,
   "metadata": {},
   "outputs": [
    {
     "data": {
      "text/html": [
       "<div>\n",
       "<style scoped>\n",
       "    .dataframe tbody tr th:only-of-type {\n",
       "        vertical-align: middle;\n",
       "    }\n",
       "\n",
       "    .dataframe tbody tr th {\n",
       "        vertical-align: top;\n",
       "    }\n",
       "\n",
       "    .dataframe thead th {\n",
       "        text-align: right;\n",
       "    }\n",
       "</style>\n",
       "<table border=\"1\" class=\"dataframe\">\n",
       "  <thead>\n",
       "    <tr style=\"text-align: right;\">\n",
       "      <th></th>\n",
       "      <th>pvals</th>\n",
       "    </tr>\n",
       "    <tr>\n",
       "      <th>overlap_size</th>\n",
       "      <th></th>\n",
       "    </tr>\n",
       "  </thead>\n",
       "  <tbody>\n",
       "    <tr>\n",
       "      <th>1</th>\n",
       "      <td>1.000000</td>\n",
       "    </tr>\n",
       "    <tr>\n",
       "      <th>2</th>\n",
       "      <td>0.733773</td>\n",
       "    </tr>\n",
       "    <tr>\n",
       "      <th>3</th>\n",
       "      <td>0.441212</td>\n",
       "    </tr>\n",
       "    <tr>\n",
       "      <th>4</th>\n",
       "      <td>0.177958</td>\n",
       "    </tr>\n",
       "    <tr>\n",
       "      <th>5</th>\n",
       "      <td>0.042465</td>\n",
       "    </tr>\n",
       "    <tr>\n",
       "      <th>6</th>\n",
       "      <td>0.004390</td>\n",
       "    </tr>\n",
       "  </tbody>\n",
       "</table>\n",
       "</div>"
      ],
      "text/plain": [
       "                 pvals\n",
       "overlap_size          \n",
       "1             1.000000\n",
       "2             0.733773\n",
       "3             0.441212\n",
       "4             0.177958\n",
       "5             0.042465\n",
       "6             0.004390"
      ]
     },
     "execution_count": 9,
     "metadata": {},
     "output_type": "execute_result"
    }
   ],
   "source": [
    "total = counts.sum()\n",
    "pvals = pd.Series(np.nan, index=counts.index.copy())\n",
    "\n",
    "for overlap_size in counts.index:\n",
    "    as_or_more_extreme_count = counts[counts.index >= overlap_size].sum() / total\n",
    "    pvals[overlap_size] = as_or_more_extreme_count\n",
    "    \n",
    "pvals = pvals.rename(\"pvals\").to_frame()\n",
    "pvals.index.name = \"overlap_size\"\n",
    "pvals"
   ]
  },
  {
   "cell_type": "code",
   "execution_count": 10,
   "metadata": {},
   "outputs": [],
   "source": [
    "save_path = os.path.join(\"..\", \"data\", f\"{CHROMOSOME}{ARM}_{CIS_OR_TRANS}_overlap_pvals.tsv\")\n",
    "pvals.to_csv(save_path, sep=\"\\t\")"
   ]
  }
 ],
 "metadata": {
  "kernelspec": {
   "display_name": "Python 3 (ipykernel)",
   "language": "python",
   "name": "python3"
  },
  "language_info": {
   "codemirror_mode": {
    "name": "ipython",
    "version": 3
   },
   "file_extension": ".py",
   "mimetype": "text/x-python",
   "name": "python",
   "nbconvert_exporter": "python",
   "pygments_lexer": "ipython3",
   "version": "3.7.7"
  }
 },
 "nbformat": 4,
 "nbformat_minor": 4
}
