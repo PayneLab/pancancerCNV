{
 "cells": [
  {
   "cell_type": "markdown",
   "metadata": {},
   "source": [
    "# Chromosome 8 Cis-Effects"
   ]
  },
  {
   "cell_type": "markdown",
   "metadata": {},
   "source": [
    "Here we run t-tests on all the proteins on chromosome 8 against the 2 events (gain of 8q and loss of 8p)"
   ]
  },
  {
   "cell_type": "markdown",
   "metadata": {},
   "source": [
    "## Import Libraries and download data"
   ]
  },
  {
   "cell_type": "code",
   "execution_count": 5,
   "metadata": {},
   "outputs": [],
   "source": [
    "import pandas as pd\n",
    "import matplotlib.pyplot as plt\n",
    "import seaborn as sns\n",
    "import numpy as np\n",
    "import cptac\n",
    "from scipy import stats"
   ]
  },
  {
   "cell_type": "code",
   "execution_count": 6,
   "metadata": {},
   "outputs": [
    {
     "name": "stdout",
     "output_type": "stream",
     "text": [
      "Checking that luad index is up-to-date... \r"
     ]
    },
    {
     "name": "stderr",
     "output_type": "stream",
     "text": [
      "cptac warning: The HNSCC data is currently strictly reserved for CPTAC investigators. Otherwise, you are not authorized to access these data. Additionally, even after these data become publicly available, they will be subject to a publication embargo (see https://proteomics.cancer.gov/data-portal/about/data-use-agreement or enter cptac.embargo() to open the webpage for more details). (C:\\Users\\chels\\anaconda3\\lib\\site-packages\\ipykernel_launcher.py, line 2)\n"
     ]
    },
    {
     "name": "stdout",
     "output_type": "stream",
     "text": [
      "Checking that ovarian index is up-to-date...\r"
     ]
    },
    {
     "name": "stderr",
     "output_type": "stream",
     "text": [
      "cptac warning: The LUAD dataset is under publication embargo until July 01, 2020. CPTAC is a community resource project and data are made available rapidly after generation for community research use. The embargo allows exploring and utilizing the data, but analysis may not be published until after the embargo date. Please see https://proteomics.cancer.gov/data-portal/about/data-use-agreement or enter cptac.embargo() to open the webpage for more details. (C:\\Users\\chels\\anaconda3\\lib\\site-packages\\ipykernel_launcher.py, line 3)\n"
     ]
    },
    {
     "name": "stdout",
     "output_type": "stream",
     "text": [
      "version 3scc v3.2.......                    \n",
      "                            \r"
     ]
    },
    {
     "name": "stderr",
     "output_type": "stream",
     "text": [
      "cptac warning: The LSCC data is currently strictly reserved for CPTAC investigators. Otherwise, you are not authorized to access these data. Additionally, even after these data become publicly available, they will be subject to a publication embargo (see https://proteomics.cancer.gov/data-portal/about/data-use-agreement or enter cptac.embargo() to open the webpage for more details). (C:\\Users\\chels\\anaconda3\\lib\\site-packages\\ipykernel_launcher.py, line 6)\n"
     ]
    }
   ],
   "source": [
    "brca = cptac.Brca()\n",
    "hnscc = cptac.Hnscc()\n",
    "luad = cptac.Luad()\n",
    "ovarian = cptac.Ovarian()\n",
    "colon = cptac.Colon()\n",
    "lscc = cptac.Lscc()"
   ]
  },
  {
   "cell_type": "markdown",
   "metadata": {},
   "source": [
    "## Get proteomic and CNV Event data for each cancer type"
   ]
  },
  {
   "cell_type": "code",
   "execution_count": 7,
   "metadata": {},
   "outputs": [],
   "source": [
    "brca_has_event = pd.read_csv(\"../brca_has_event.csv\")\n",
    "hnscc_has_event = pd.read_csv(\"../hnscc_has_event.csv\")\n",
    "luad_has_event = pd.read_csv(\"../luad_has_event.csv\")\n",
    "ovarian_has_event = pd.read_csv(\"../ovarian_has_event.csv\")\n",
    "colon_has_event = pd.read_csv(\"../colon_has_event.csv\")\n",
    "lscc_has_event = pd.read_csv(\"../lscc_has_event.csv\")"
   ]
  },
  {
   "cell_type": "code",
   "execution_count": 8,
   "metadata": {},
   "outputs": [],
   "source": [
    "brca_prot = brca.get_proteomics()\n",
    "hnscc_prot = hnscc.get_proteomics()\n",
    "luad_prot = luad.get_proteomics()\n",
    "ovarian_prot = ovarian.get_proteomics()\n",
    "colon_prot = colon.get_proteomics()\n",
    "lscc_prot = lscc.get_proteomics()"
   ]
  },
  {
   "cell_type": "markdown",
   "metadata": {},
   "source": [
    "## Get Genes on Chromosome 8"
   ]
  },
  {
   "cell_type": "code",
   "execution_count": 9,
   "metadata": {},
   "outputs": [],
   "source": [
    "import pyensembl\n",
    "ensembl = pyensembl.EnsemblRelease()"
   ]
  },
  {
   "cell_type": "code",
   "execution_count": 10,
   "metadata": {},
   "outputs": [],
   "source": [
    "def add_chromo_and_loc(df):\n",
    "    chromo = list()\n",
    "    not_found = list()\n",
    "    count = 0\n",
    "    for gene in list(df.index.get_level_values(0)):\n",
    "        count += 1\n",
    "        try:\n",
    "            e_gene = ensembl.genes_by_name(gene)\n",
    "            chromo.append(e_gene[0].contig)\n",
    "        except:\n",
    "            not_found.append(gene)\n",
    "            chromo.append(None)\n",
    "    df['chromo'] = chromo\n",
    "    print(len(not_found)/count)\n",
    "    return df"
   ]
  },
  {
   "cell_type": "code",
   "execution_count": 11,
   "metadata": {},
   "outputs": [
    {
     "name": "stdout",
     "output_type": "stream",
     "text": [
      "0.03225487286039379\n",
      "0.01353882833787466\n",
      "0.014861201981493597\n",
      "0.019932622122403144\n",
      "0.027271600347093094\n",
      "0.013995680345572354\n"
     ]
    }
   ],
   "source": [
    "brca_prot_loc = add_chromo_and_loc(brca_prot.transpose())\n",
    "hnscc_prot_loc = add_chromo_and_loc(hnscc_prot.transpose())\n",
    "luad_prot_loc = add_chromo_and_loc(luad_prot.transpose())\n",
    "ovarian_prot_loc = add_chromo_and_loc(ovarian_prot.transpose())\n",
    "colon_prot_loc = add_chromo_and_loc(colon_prot.transpose())\n",
    "lscc_prot_loc = add_chromo_and_loc(lscc_prot.transpose())"
   ]
  },
  {
   "cell_type": "code",
   "execution_count": 12,
   "metadata": {},
   "outputs": [
    {
     "name": "stderr",
     "output_type": "stream",
     "text": [
      "C:\\Users\\chels\\anaconda3\\lib\\site-packages\\pandas\\core\\frame.py:3997: SettingWithCopyWarning: \n",
      "A value is trying to be set on a copy of a slice from a DataFrame\n",
      "\n",
      "See the caveats in the documentation: https://pandas.pydata.org/pandas-docs/stable/user_guide/indexing.html#returning-a-view-versus-a-copy\n",
      "  errors=errors,\n"
     ]
    }
   ],
   "source": [
    "# Get just those on chromosome 8\n",
    "brca_prot_8 = brca_prot_loc[brca_prot_loc.chromo == '8']\n",
    "brca_prot_8.drop('chromo', axis=1, inplace=True)\n",
    "\n",
    "hnscc_prot_8 = hnscc_prot_loc[hnscc_prot_loc.chromo == '8']\n",
    "hnscc_prot_8.drop('chromo', axis=1, inplace=True)\n",
    "\n",
    "luad_prot_8 = luad_prot_loc[luad_prot_loc.chromo == '8']\n",
    "luad_prot_8.drop('chromo', axis=1, inplace=True)\n",
    "\n",
    "ovarian_prot_8 = ovarian_prot_loc[ovarian_prot_loc.chromo == '8']\n",
    "ovarian_prot_8.drop('chromo', axis=1, inplace=True)\n",
    "\n",
    "colon_prot_8 = colon_prot_loc[colon_prot_loc.chromo == '8']\n",
    "colon_prot_8.drop('chromo', axis=1, inplace=True)\n",
    "\n",
    "lscc_prot_8 = lscc_prot_loc[lscc_prot_loc.chromo == '8']\n",
    "lscc_prot_8.drop('chromo', axis=1, inplace=True)"
   ]
  },
  {
   "cell_type": "markdown",
   "metadata": {},
   "source": [
    "## Append Event Info"
   ]
  },
  {
   "cell_type": "code",
   "execution_count": 13,
   "metadata": {},
   "outputs": [],
   "source": [
    "brca_prot_8 = brca_prot_8.transpose()\n",
    "hnscc_prot_8 = hnscc_prot_8.transpose()\n",
    "luad_prot_8 = luad_prot_8.transpose()\n",
    "ovarian_prot_8 = ovarian_prot_8.transpose()\n",
    "colon_prot_8 = colon_prot_8.transpose()\n",
    "lscc_prot_8 = lscc_prot_8.transpose()"
   ]
  },
  {
   "cell_type": "code",
   "execution_count": 14,
   "metadata": {},
   "outputs": [],
   "source": [
    "brca_has_event.set_index('Patient_ID', inplace=True)\n",
    "hnscc_has_event.set_index('Patient_ID', inplace=True)\n",
    "luad_has_event.set_index('Patient_ID', inplace=True)\n",
    "ovarian_has_event.set_index('Patient_ID', inplace=True)\n",
    "colon_has_event.set_index('Patient_ID', inplace=True)\n",
    "lscc_has_event.set_index('Patient_ID', inplace=True)"
   ]
  },
  {
   "cell_type": "code",
   "execution_count": 15,
   "metadata": {},
   "outputs": [
    {
     "name": "stderr",
     "output_type": "stream",
     "text": [
      "C:\\Users\\chels\\anaconda3\\lib\\site-packages\\pandas\\core\\reshape\\merge.py:618: UserWarning: merging between different levels can give an unintended result (2 levels on the left, 1 on the right)\n",
      "  warnings.warn(msg, UserWarning)\n"
     ]
    }
   ],
   "source": [
    "brca_prot_and_event = brca_prot_8.join(brca_has_event)\n",
    "hnscc_prot_and_event = hnscc_prot_8.join(hnscc_has_event)\n",
    "luad_prot_and_event = luad_prot_8.join(luad_has_event)\n",
    "ovarian_prot_and_event = ovarian_prot_8.join(ovarian_has_event)\n",
    "colon_prot_and_event = colon_prot_8.join(colon_has_event)\n",
    "lscc_prot_and_event = lscc_prot_8.join(lscc_has_event)"
   ]
  },
  {
   "cell_type": "code",
   "execution_count": 16,
   "metadata": {},
   "outputs": [],
   "source": [
    "brca_prot_8 = brca_prot_and_event.dropna(subset=['gain_event', 'loss_event'], how='all')\n",
    "hnscc_prot_8 = hnscc_prot_and_event.dropna(subset=['gain_event', 'loss_event'], how='all')\n",
    "luad_prot_8 = luad_prot_and_event.dropna(subset=['gain_event', 'loss_event'], how='all')\n",
    "ovarian_prot_8 = ovarian_prot_and_event.dropna(subset=['gain_event', 'loss_event'], how='all')\n",
    "colon_prot_8 = colon_prot_and_event.dropna(subset=['gain_event', 'loss_event'], how='all')\n",
    "lscc_prot_8 = lscc_prot_and_event.dropna(subset=['gain_event', 'loss_event'], how='all')"
   ]
  },
  {
   "cell_type": "markdown",
   "metadata": {},
   "source": [
    "## Get Gain and Loss Events"
   ]
  },
  {
   "cell_type": "code",
   "execution_count": 17,
   "metadata": {},
   "outputs": [],
   "source": [
    "brca_gain_event = list(map(bool, brca_prot_8['gain_event']))\n",
    "hnscc_gain_event = list(map(bool, hnscc_prot_8['gain_event']))\n",
    "luad_gain_event = list(map(bool, luad_prot_8['gain_event']))\n",
    "ovarian_gain_event = list(map(bool, ovarian_prot_8['gain_event']))\n",
    "colon_gain_event = list(map(bool, colon_prot_8['gain_event']))\n",
    "lscc_gain_event = list(map(bool, lscc_prot_8['gain_event']))"
   ]
  },
  {
   "cell_type": "code",
   "execution_count": 18,
   "metadata": {},
   "outputs": [],
   "source": [
    "brca_loss_event = list(map(bool, brca_prot_8['loss_event']))\n",
    "hnscc_loss_event = list(map(bool, hnscc_prot_8['loss_event']))\n",
    "luad_loss_event = list(map(bool, luad_prot_8['loss_event']))\n",
    "ovarian_loss_event = list(map(bool, ovarian_prot_8['loss_event']))\n",
    "colon_loss_event = list(map(bool, colon_prot_8['loss_event']))\n",
    "lscc_loss_event = list(map(bool, lscc_prot_8['loss_event']))"
   ]
  },
  {
   "cell_type": "code",
   "execution_count": 19,
   "metadata": {},
   "outputs": [],
   "source": [
    "brca_prot_8.drop(['gain_event', 'loss_event'], inplace=True, axis=1)\n",
    "hnscc_prot_8.drop(['gain_event', 'loss_event'], inplace=True, axis=1)\n",
    "luad_prot_8.drop(['gain_event', 'loss_event'], inplace=True, axis=1)\n",
    "ovarian_prot_8.drop(['gain_event', 'loss_event'], inplace=True, axis=1)\n",
    "colon_prot_8.drop(['gain_event', 'loss_event'], inplace=True, axis=1)\n",
    "lscc_prot_8.drop(['gain_event', 'loss_event'], inplace=True, axis=1)"
   ]
  },
  {
   "cell_type": "markdown",
   "metadata": {},
   "source": [
    "## Run T-tests"
   ]
  },
  {
   "cell_type": "code",
   "execution_count": 20,
   "metadata": {},
   "outputs": [],
   "source": [
    "def t_test(col, event):\n",
    "    has_event = col[event]\n",
    "    no_event = col[[not i for i in event]]\n",
    "    return stats.ttest_ind(has_event, no_event)\n",
    "    "
   ]
  },
  {
   "cell_type": "code",
   "execution_count": 21,
   "metadata": {},
   "outputs": [
    {
     "name": "stderr",
     "output_type": "stream",
     "text": [
      "C:\\Users\\chels\\anaconda3\\lib\\site-packages\\scipy\\stats\\_distn_infrastructure.py:903: RuntimeWarning: invalid value encountered in greater\n",
      "  return (a < x) & (x < b)\n",
      "C:\\Users\\chels\\anaconda3\\lib\\site-packages\\scipy\\stats\\_distn_infrastructure.py:903: RuntimeWarning: invalid value encountered in less\n",
      "  return (a < x) & (x < b)\n",
      "C:\\Users\\chels\\anaconda3\\lib\\site-packages\\scipy\\stats\\_distn_infrastructure.py:1912: RuntimeWarning: invalid value encountered in less_equal\n",
      "  cond2 = cond0 & (x <= _a)\n"
     ]
    }
   ],
   "source": [
    "brca_t_test_gain = brca_prot_8.apply(lambda x: t_test(x, brca_gain_event), result_type='expand').transpose()\n",
    "hnscc_t_test_gain = hnscc_prot_8.apply(lambda x: t_test(x, hnscc_gain_event), result_type='expand').transpose()\n",
    "luad_t_test_gain = luad_prot_8.apply(lambda x: t_test(x, luad_gain_event), result_type='expand').transpose()\n",
    "ovarian_t_test_gain = ovarian_prot_8.apply(lambda x: t_test(x, ovarian_gain_event), result_type='expand').transpose()\n",
    "colon_t_test_gain = colon_prot_8.apply(lambda x: t_test(x, colon_gain_event), result_type='expand').transpose()\n",
    "lscc_t_test_gain = lscc_prot_8.apply(lambda x: t_test(x, lscc_gain_event), result_type='expand').transpose()"
   ]
  },
  {
   "cell_type": "code",
   "execution_count": 22,
   "metadata": {},
   "outputs": [],
   "source": [
    "brca_t_test_loss = brca_prot_8.apply(lambda x: t_test(x, brca_loss_event), result_type='expand').transpose()\n",
    "hnscc_t_test_loss = hnscc_prot_8.apply(lambda x: t_test(x, hnscc_loss_event), result_type='expand').transpose()\n",
    "luad_t_test_loss = luad_prot_8.apply(lambda x: t_test(x, luad_loss_event), result_type='expand').transpose()\n",
    "ovarian_t_test_loss = ovarian_prot_8.apply(lambda x: t_test(x, ovarian_loss_event), result_type='expand').transpose()\n",
    "colon_t_test_loss = colon_prot_8.apply(lambda x: t_test(x, colon_loss_event), result_type='expand').transpose()\n",
    "lscc_t_test_loss = lscc_prot_8.apply(lambda x: t_test(x, lscc_loss_event), result_type='expand').transpose()"
   ]
  },
  {
   "cell_type": "code",
   "execution_count": 23,
   "metadata": {},
   "outputs": [],
   "source": [
    "brca_t_test_gain.index = [x[0] for x in list(brca_t_test_gain.index)]\n",
    "luad_t_test_gain.index = [x[0] for x in list(luad_t_test_gain.index)]\n",
    "ovarian_t_test_gain.index = [x[0] for x in list(ovarian_t_test_gain.index)]\n",
    "lscc_t_test_gain.index = [x[0] for x in list(lscc_t_test_gain.index)]"
   ]
  },
  {
   "cell_type": "code",
   "execution_count": 24,
   "metadata": {},
   "outputs": [],
   "source": [
    "brca_t_test_loss.index = [x[0] for x in list(brca_t_test_loss.index)]\n",
    "luad_t_test_loss.index = [x[0] for x in list(luad_t_test_loss.index)]\n",
    "ovarian_t_test_loss.index = [x[0] for x in list(ovarian_t_test_loss.index)]\n",
    "lscc_t_test_loss.index = [x[0] for x in list(lscc_t_test_loss.index)]"
   ]
  },
  {
   "cell_type": "code",
   "execution_count": 25,
   "metadata": {},
   "outputs": [],
   "source": [
    "luad_t_test_gain = luad_t_test_gain.rename(columns={0:\"luad_stat\", 1:\"luad_pvalue\"})\n",
    "ovarian_t_test_gain = ovarian_t_test_gain.rename(columns={0:\"ovarian_stat\", 1:\"ovarian_pvalue\"})\n",
    "brca_t_test_gain = brca_t_test_gain.rename(columns={0:\"brca_stat\", 1:\"brca_pvalue\"})\n",
    "lscc_t_test_gain = lscc_t_test_gain.rename(columns={0:\"lscc_stat\", 1:\"lscc_pvalue\"})\n",
    "hnscc_t_test_gain = hnscc_t_test_gain.rename(columns={0:\"hnscc_stat\", 1:\"hnscc_pvalue\"})\n",
    "colon_t_test_gain = colon_t_test_gain.rename(columns={0:\"colon_stat\", 1:\"colon_pvalue\"})"
   ]
  },
  {
   "cell_type": "code",
   "execution_count": 26,
   "metadata": {},
   "outputs": [],
   "source": [
    "luad_t_test_loss = luad_t_test_loss.rename(columns={0:\"luad_stat\", 1:\"luad_pvalue\"})\n",
    "ovarian_t_test_loss = ovarian_t_test_loss.rename(columns={0:\"ovarian_stat\", 1:\"ovarian_pvalue\"})\n",
    "brca_t_test_loss = brca_t_test_loss.rename(columns={0:\"brca_stat\", 1:\"brca_pvalue\"})\n",
    "lscc_t_test_loss = lscc_t_test_loss.rename(columns={0:\"lscc_stat\", 1:\"lscc_pvalue\"})\n",
    "hnscc_t_test_loss = hnscc_t_test_loss.rename(columns={0:\"hnscc_stat\", 1:\"hnscc_pvalue\"})\n",
    "colon_t_test_loss = colon_t_test_loss.rename(columns={0:\"colon_stat\", 1:\"colon_pvalue\"})"
   ]
  },
  {
   "cell_type": "code",
   "execution_count": 27,
   "metadata": {},
   "outputs": [],
   "source": [
    "results_gain = colon_t_test_gain.join(brca_t_test_gain).join(luad_t_test_gain).join(hnscc_t_test_gain).join(ovarian_t_test_gain).join(lscc_t_test_gain)"
   ]
  },
  {
   "cell_type": "code",
   "execution_count": 28,
   "metadata": {},
   "outputs": [],
   "source": [
    "results_loss = colon_t_test_loss.join(brca_t_test_loss).join(luad_t_test_loss).join(hnscc_t_test_loss).join(ovarian_t_test_loss).join(lscc_t_test_loss) "
   ]
  },
  {
   "cell_type": "markdown",
   "metadata": {},
   "source": [
    "## Subset the rows where all cancer types have sig pvalue"
   ]
  },
  {
   "cell_type": "code",
   "execution_count": 29,
   "metadata": {},
   "outputs": [],
   "source": [
    "def all_low_pvalues(row):\n",
    "    return ((row['luad_pvalue'] < 0.1) & (row['ovarian_pvalue'] < 0.05) & (row['hnscc_pvalue'] < 0.1) & (row['colon_pvalue'] < 0.1) & (row['brca_pvalue'] < 0.1) & (row['lscc_pvalue'] < 0.1))"
   ]
  },
  {
   "cell_type": "code",
   "execution_count": 30,
   "metadata": {},
   "outputs": [],
   "source": [
    "common_low_pvalues_gain = results_gain[results_gain.apply(lambda x: all_low_pvalues(x), axis=1)]"
   ]
  },
  {
   "cell_type": "code",
   "execution_count": 31,
   "metadata": {},
   "outputs": [],
   "source": [
    "common_low_pvalues_loss = results_loss[results_loss.apply(lambda x: all_low_pvalues(x), axis=1)]"
   ]
  },
  {
   "cell_type": "code",
   "execution_count": 32,
   "metadata": {},
   "outputs": [],
   "source": [
    "gain_proteins = list(common_low_pvalues_gain.index)\n",
    "loss_proteins = list(common_low_pvalues_loss.index)"
   ]
  },
  {
   "cell_type": "code",
   "execution_count": 33,
   "metadata": {},
   "outputs": [
    {
     "name": "stdout",
     "output_type": "stream",
     "text": [
      "Gain Proteins: \n",
      "['AGO2', 'C8orf82', 'CPNE3', 'DECR1', 'ESRP1', 'ESRP1', 'GGH', 'HGH1', 'LACTB2', 'MRPL15', 'NDRG1', 'NUDCD1', 'POP1', 'PRKDC', 'PTK2', 'PUF60', 'PUF60', 'PUF60', 'PUF60', 'PUF60', 'PUF60', 'RBM12B', 'RIDA', 'RMDN1', 'RRS1', 'SCRIB', 'SCRIB', 'TATDN1', 'TATDN1', 'YTHDF3', 'YWHAZ']\n"
     ]
    }
   ],
   "source": [
    "print(\"Gain Proteins: \")\n",
    "print(gain_proteins)"
   ]
  },
  {
   "cell_type": "code",
   "execution_count": 34,
   "metadata": {},
   "outputs": [
    {
     "name": "stdout",
     "output_type": "stream",
     "text": [
      "Loss Proteins\n",
      "['AGPAT5', 'ATP6V1B2', 'ATP6V1H', 'CCAR2', 'CCDC25', 'CHMP7', 'KIF13B', 'NAT1', 'PCM1', 'PPP2R2A', 'XPO7']\n"
     ]
    }
   ],
   "source": [
    "print(\"Loss Proteins\")\n",
    "print(loss_proteins)"
   ]
  }
 ],
 "metadata": {
  "kernelspec": {
   "display_name": "Python 3",
   "language": "python",
   "name": "python3"
  },
  "language_info": {
   "codemirror_mode": {
    "name": "ipython",
    "version": 3
   },
   "file_extension": ".py",
   "mimetype": "text/x-python",
   "name": "python",
   "nbconvert_exporter": "python",
   "pygments_lexer": "ipython3",
   "version": "3.7.6"
  }
 },
 "nbformat": 4,
 "nbformat_minor": 4
}
