{
 "cells": [
  {
   "cell_type": "markdown",
   "metadata": {},
   "source": [
    "# Finding Significant CNVs"
   ]
  },
  {
   "cell_type": "markdown",
   "metadata": {},
   "source": [
    "We want to know what CNVs are shared among different types of cancer. Here we Identify CNVs in each type of cancer, and then user those lists to find genes that are the similarly lost or gained in several types of cancer. We also map these genes to their respective chromosomes. "
   ]
  },
  {
   "cell_type": "code",
   "execution_count": 3,
   "metadata": {},
   "outputs": [],
   "source": [
    "import pandas as pd\n",
    "import matplotlib.pyplot as plt\n",
    "import seaborn as sns\n",
    "import numpy as np\n",
    "import cptac"
   ]
  },
  {
   "cell_type": "markdown",
   "metadata": {},
   "source": [
    "## Load CNV Data"
   ]
  },
  {
   "cell_type": "code",
   "execution_count": 4,
   "metadata": {},
   "outputs": [
    {
     "name": "stdout",
     "output_type": "stream",
     "text": [
      "Checking that hnscc index is up-to-date...      \r"
     ]
    },
    {
     "name": "stderr",
     "output_type": "stream",
     "text": [
      "cptac warning: The GBM dataset is under publication embargo until March 01, 2021. CPTAC is a community resource project and data are made available rapidly after generation for community research use. The embargo allows exploring and utilizing the data, but analysis may not be published until after the embargo date. Please see https://proteomics.cancer.gov/data-portal/about/data-use-agreement or enter cptac.embargo() to open the webpage for more details. (C:\\Users\\chels\\anaconda3\\lib\\site-packages\\ipykernel_launcher.py, line 4)\n"
     ]
    },
    {
     "name": "stdout",
     "output_type": "stream",
     "text": [
      "Checking that luad index is up-to-date... \r"
     ]
    },
    {
     "name": "stderr",
     "output_type": "stream",
     "text": [
      "cptac warning: The HNSCC data is currently strictly reserved for CPTAC investigators. Otherwise, you are not authorized to access these data. Additionally, even after these data become publicly available, they will be subject to a publication embargo (see https://proteomics.cancer.gov/data-portal/about/data-use-agreement or enter cptac.embargo() to open the webpage for more details). (C:\\Users\\chels\\anaconda3\\lib\\site-packages\\ipykernel_launcher.py, line 5)\n"
     ]
    },
    {
     "name": "stdout",
     "output_type": "stream",
     "text": [
      "Checking that ovarian index is up-to-date...\r"
     ]
    },
    {
     "name": "stderr",
     "output_type": "stream",
     "text": [
      "cptac warning: The LUAD dataset is under publication embargo until July 01, 2020. CPTAC is a community resource project and data are made available rapidly after generation for community research use. The embargo allows exploring and utilizing the data, but analysis may not be published until after the embargo date. Please see https://proteomics.cancer.gov/data-portal/about/data-use-agreement or enter cptac.embargo() to open the webpage for more details. (C:\\Users\\chels\\anaconda3\\lib\\site-packages\\ipykernel_launcher.py, line 6)\n"
     ]
    },
    {
     "name": "stdout",
     "output_type": "stream",
     "text": [
      "version 3scc v3.2.......                    \n",
      "                            \r"
     ]
    },
    {
     "name": "stderr",
     "output_type": "stream",
     "text": [
      "cptac warning: The LSCC data is currently strictly reserved for CPTAC investigators. Otherwise, you are not authorized to access these data. Additionally, even after these data become publicly available, they will be subject to a publication embargo (see https://proteomics.cancer.gov/data-portal/about/data-use-agreement or enter cptac.embargo() to open the webpage for more details). (C:\\Users\\chels\\anaconda3\\lib\\site-packages\\ipykernel_launcher.py, line 9)\n"
     ]
    }
   ],
   "source": [
    "en = cptac.Endometrial()\n",
    "brca = cptac.Brca()\n",
    "ccrcc = cptac.Ccrcc()\n",
    "gbm = cptac.Gbm()\n",
    "hnscc = cptac.Hnscc()\n",
    "luad = cptac.Luad()\n",
    "ovarian = cptac.Ovarian()\n",
    "colon = cptac.Colon()\n",
    "lscc = cptac.Lscc()"
   ]
  },
  {
   "cell_type": "code",
   "execution_count": 5,
   "metadata": {},
   "outputs": [],
   "source": [
    "en_cnv = en.get_CNV()\n",
    "brca_cnv = brca.get_CNV()\n",
    "ccrcc_cnv = ccrcc.get_CNV()\n",
    "gbm_cnv = gbm.get_CNV()\n",
    "hnscc_cnv = hnscc.get_CNV()\n",
    "luad_cnv = luad.get_CNV()\n",
    "ovarian_cnv = ovarian.get_CNV()\n",
    "colon_cnv = colon.get_CNV()\n",
    "lscc_cnv = lscc.get_CNV()"
   ]
  },
  {
   "cell_type": "markdown",
   "metadata": {},
   "source": [
    "## Create Summary Tables"
   ]
  },
  {
   "cell_type": "code",
   "execution_count": 6,
   "metadata": {},
   "outputs": [],
   "source": [
    "def separate(hiCut, lowCut, data):\n",
    "  \"\"\"\n",
    "  Counts the Number of patients with high and low values for each gene.\n",
    "  \"\"\"\n",
    "  sepDict = dict()\n",
    "  for column in data:\n",
    "    numHi = 0\n",
    "    numLow = 0\n",
    "    numNeu = 0\n",
    "    for i in data[column]:\n",
    "        if i > hiCut:\n",
    "            numHi += 1\n",
    "        elif i < lowCut:\n",
    "            numLow += 1\n",
    "        else:\n",
    "            numNeu += 1 \n",
    "    sepDict[column] = [numHi, numNeu, numLow]\n",
    "  return sepDict"
   ]
  },
  {
   "cell_type": "code",
   "execution_count": 7,
   "metadata": {},
   "outputs": [],
   "source": [
    "def get_counts_and_average(data):\n",
    "  \"\"\"\n",
    "  Takes a CNV dataframe and generates a dataframe with the counts of high, low and neutral values\n",
    "  \"\"\"\n",
    "  df = pd.DataFrame(data = separate(.3,-.2,data), index = [\"amplifications\", \"neutral\", \"deletions\"])\n",
    "  df = df.append(pd.DataFrame(data.mean(0), columns=['average']).transpose(), sort=True)\n",
    "  return df.transpose()"
   ]
  },
  {
   "cell_type": "code",
   "execution_count": 8,
   "metadata": {},
   "outputs": [],
   "source": [
    "en_counts = get_counts_and_average(en_cnv)\n",
    "gbm_counts = get_counts_and_average(gbm_cnv)\n",
    "brca_counts = get_counts_and_average(brca_cnv)\n",
    "hnscc_counts = get_counts_and_average(hnscc_cnv)\n",
    "luad_counts = get_counts_and_average(luad_cnv)\n",
    "ovarian_counts = get_counts_and_average(ovarian_cnv)\n",
    "ccrcc_counts = get_counts_and_average(ccrcc_cnv)\n",
    "colon_counts = get_counts_and_average(colon_cnv)\n",
    "lscc_counts = get_counts_and_average(lscc_cnv)"
   ]
  },
  {
   "cell_type": "code",
   "execution_count": null,
   "metadata": {},
   "outputs": [],
   "source": [
    "# These summary tables will be used for a lot of different analyses. Rather than generating them every time,\n",
    "# we will save them so that we can just load them into future notebooks.\n",
    "\n",
    "# Because the tables are already saved, I have commented this section out.\n",
    "# en_counts.to_csv(\"count_tables/en_counts.csv\")\n",
    "# gbm_counts.to_csv(\"count_tables/gbm_counts.csv\")\n",
    "# brca_counts.to_csv(\"count_tables/brca_counts.csv\")\n",
    "# hnscc_counts.to_csv(\"count_tables/hnscc_counts.csv\")\n",
    "# luad_counts.to_csv(\"count_tables/luad_counts.csv\")\n",
    "# ovarian_counts.to_csv(\"count_tables/ovarian_counts.csv\")\n",
    "# ccrcc_counts.to_csv(\"count_tables/ccrcc_counts.csv\")\n",
    "# colon_counts.to_csv(\"count_tables/colon_counts.csv\")\n",
    "# lscc_counts.to_csv(\"count_tables/lscc_counts.csv\")"
   ]
  },
  {
   "cell_type": "markdown",
   "metadata": {},
   "source": [
    "## Finding Significant Genes in each Cancer Type"
   ]
  },
  {
   "cell_type": "code",
   "execution_count": 9,
   "metadata": {},
   "outputs": [],
   "source": [
    "en_sig_genes_up = list(en_counts[en_counts.amplifications >= 20].index.get_level_values(0))\n",
    "gbm_sig_genes_up = list(gbm_counts[gbm_counts.amplifications >= 20].index)\n",
    "brca_sig_genes_up = list(brca_counts[brca_counts.amplifications >= 20].index.get_level_values(0))\n",
    "hnscc_sig_genes_up = list(hnscc_counts[hnscc_counts.amplifications >= 20].index)\n",
    "luad_sig_genes_up = list(luad_counts[luad_counts.amplifications >= 20].index)\n",
    "ovarian_sig_genes_up = list(ovarian_counts[ovarian_counts.amplifications >= 20].index)\n",
    "ccrcc_sig_genes_up = list(ccrcc_counts[ccrcc_counts.amplifications >= 20].index.get_level_values(0))\n",
    "colon_sig_genes_up = list(colon_counts[colon_counts.amplifications >= 20].index)\n",
    "lscc_sig_genes_up = list(lscc_counts[lscc_counts.amplifications >= 20].index)"
   ]
  },
  {
   "cell_type": "code",
   "execution_count": 10,
   "metadata": {},
   "outputs": [],
   "source": [
    "en_sig_genes_down = list(en_counts[en_counts.deletions >= 20].index.get_level_values(0))\n",
    "gbm_sig_genes_down = list(gbm_counts[gbm_counts.deletions >= 20].index)\n",
    "brca_sig_genes_down = list(brca_counts[brca_counts.deletions >= 20].index.get_level_values(0))\n",
    "hnscc_sig_genes_down = list(hnscc_counts[hnscc_counts.deletions >= 20].index)\n",
    "luad_sig_genes_down = list(luad_counts[luad_counts.deletions >= 20].index)\n",
    "ovarian_sig_genes_down = list(ovarian_counts[ovarian_counts.deletions >= 20].index)\n",
    "ccrcc_sig_genes_down = list(ccrcc_counts[ccrcc_counts.deletions >= 20].index.get_level_values(0))\n",
    "colon_sig_genes_down = list(colon_counts[colon_counts.deletions >= 20].index)\n",
    "lscc_sig_genes_down = list(lscc_counts[lscc_counts.deletions >= 20].index)"
   ]
  },
  {
   "cell_type": "code",
   "execution_count": 11,
   "metadata": {},
   "outputs": [],
   "source": [
    "# This is a dataframe from Uniprot that contains the chromosome location information for genes.\n",
    "chromosomes = pd.read_csv('uniprot_chromosomes.csv')"
   ]
  },
  {
   "cell_type": "code",
   "execution_count": 12,
   "metadata": {},
   "outputs": [],
   "source": [
    "chromosomes = chromosomes.drop(columns=['Unnamed: 0'])"
   ]
  },
  {
   "cell_type": "markdown",
   "metadata": {},
   "source": [
    "## Common Sig Genes"
   ]
  },
  {
   "cell_type": "code",
   "execution_count": 13,
   "metadata": {},
   "outputs": [],
   "source": [
    "def CountFrequency(my_list): \n",
    "  \"\"\"\n",
    "  Counts the frequency of the gene in the given list.\n",
    "  Returns a list of genes that appeared 3 or more times.\n",
    "  \"\"\"\n",
    "  freq = {} \n",
    "  for items in my_list: \n",
    "      freq[items] = my_list.count(items) \n",
    "  sig = []\n",
    "  for key, value in freq.items(): \n",
    "    if value >= 4: # This value sets how many types of cancer the gene must be sig in to include. It can be altered to be more strict or lenient.\n",
    "      sig.append(key)\n",
    "  return sig"
   ]
  },
  {
   "cell_type": "code",
   "execution_count": 14,
   "metadata": {},
   "outputs": [],
   "source": [
    "sig_genes_up = CountFrequency(en_sig_genes_up +\n",
    "                              gbm_sig_genes_up +\n",
    "                              brca_sig_genes_up +\n",
    "                              hnscc_sig_genes_up +\n",
    "                              luad_sig_genes_up +\n",
    "                              ovarian_sig_genes_up +\n",
    "                              ccrcc_sig_genes_up +\n",
    "                              colon_sig_genes_up +\n",
    "                              lscc_sig_genes_up)"
   ]
  },
  {
   "cell_type": "code",
   "execution_count": 15,
   "metadata": {},
   "outputs": [],
   "source": [
    "sig_genes_down = CountFrequency(en_sig_genes_down +\n",
    "                                gbm_sig_genes_down +\n",
    "                                brca_sig_genes_down +\n",
    "                                hnscc_sig_genes_down +\n",
    "                                luad_sig_genes_down +\n",
    "                                ovarian_sig_genes_down +\n",
    "                                ccrcc_sig_genes_down +\n",
    "                                colon_sig_genes_down +\n",
    "                                lscc_sig_genes_down)"
   ]
  },
  {
   "cell_type": "code",
   "execution_count": 16,
   "metadata": {},
   "outputs": [],
   "source": [
    "# Creates a dataframe with the chromosome location attached to each of our significant genes\n",
    "sig_genes_up_df = chromosomes[chromosomes.gene.isin(sig_genes_up)]"
   ]
  },
  {
   "cell_type": "code",
   "execution_count": 17,
   "metadata": {},
   "outputs": [
    {
     "name": "stderr",
     "output_type": "stream",
     "text": [
      "C:\\Users\\chels\\anaconda3\\lib\\site-packages\\ipykernel_launcher.py:2: SettingWithCopyWarning: \n",
      "A value is trying to be set on a copy of a slice from a DataFrame.\n",
      "Try using .loc[row_indexer,col_indexer] = value instead\n",
      "\n",
      "See the caveats in the documentation: https://pandas.pydata.org/pandas-docs/stable/user_guide/indexing.html#returning-a-view-versus-a-copy\n",
      "  \n"
     ]
    }
   ],
   "source": [
    "# We want just the number of the chromosome (for display purposes)\n",
    "sig_genes_up_df['chromosome'] = sig_genes_up_df['chromosome'].str.extract(pat='([0-9,X,Y]+)')"
   ]
  },
  {
   "cell_type": "code",
   "execution_count": 18,
   "metadata": {},
   "outputs": [
    {
     "data": {
      "text/plain": [
       "<matplotlib.axes._subplots.AxesSubplot at 0x22fefe0f048>"
      ]
     },
     "execution_count": 18,
     "metadata": {},
     "output_type": "execute_result"
    },
    {
     "data": {
      "image/png": "[encoded data removed]",
      "text/plain": [
       "<Figure size 432x288 with 1 Axes>"
      ]
     },
     "metadata": {
      "needs_background": "light"
     },
     "output_type": "display_data"
    }
   ],
   "source": [
    "sns.countplot(x='chromosome', data=sig_genes_up_df)"
   ]
  },
  {
   "cell_type": "code",
   "execution_count": 19,
   "metadata": {},
   "outputs": [],
   "source": [
    "sig_genes_down_df = chromosomes[chromosomes.gene.isin(sig_genes_down)]"
   ]
  },
  {
   "cell_type": "code",
   "execution_count": 20,
   "metadata": {},
   "outputs": [
    {
     "name": "stderr",
     "output_type": "stream",
     "text": [
      "C:\\Users\\chels\\anaconda3\\lib\\site-packages\\ipykernel_launcher.py:1: SettingWithCopyWarning: \n",
      "A value is trying to be set on a copy of a slice from a DataFrame.\n",
      "Try using .loc[row_indexer,col_indexer] = value instead\n",
      "\n",
      "See the caveats in the documentation: https://pandas.pydata.org/pandas-docs/stable/user_guide/indexing.html#returning-a-view-versus-a-copy\n",
      "  \"\"\"Entry point for launching an IPython kernel.\n"
     ]
    }
   ],
   "source": [
    "sig_genes_down_df['chromosome'] = sig_genes_down_df['chromosome'].str.extract(pat='([0-9,X,Y]+)')"
   ]
  },
  {
   "cell_type": "code",
   "execution_count": 21,
   "metadata": {},
   "outputs": [
    {
     "data": {
      "text/plain": [
       "<matplotlib.axes._subplots.AxesSubplot at 0x22f75e92bc8>"
      ]
     },
     "execution_count": 21,
     "metadata": {},
     "output_type": "execute_result"
    },
    {
     "data": {
      "image/png": "[encoded data removed]",
      "text/plain": [
       "<Figure size 432x288 with 1 Axes>"
      ]
     },
     "metadata": {
      "needs_background": "light"
     },
     "output_type": "display_data"
    }
   ],
   "source": [
    "sns.countplot(x='chromosome', data=sig_genes_down_df)"
   ]
  }
 ],
 "metadata": {
  "kernelspec": {
   "display_name": "Python 3",
   "language": "python",
   "name": "python3"
  },
  "language_info": {
   "codemirror_mode": {
    "name": "ipython",
    "version": 3
   },
   "file_extension": ".py",
   "mimetype": "text/x-python",
   "name": "python",
   "nbconvert_exporter": "python",
   "pygments_lexer": "ipython3",
   "version": "3.7.6"
  }
 },
 "nbformat": 4,
 "nbformat_minor": 2
}
