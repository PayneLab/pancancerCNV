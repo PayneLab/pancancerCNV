{
 "cells": [
  {
   "cell_type": "code",
   "execution_count": 1,
   "metadata": {},
   "outputs": [],
   "source": [
    "import cnvutils"
   ]
  },
  {
   "cell_type": "code",
   "execution_count": 25,
   "metadata": {},
   "outputs": [
    {
     "data": {
      "text/plain": [
       "MultiIndex([( 'LINC01605',                  nan),\n",
       "            ('AC124067.1',                  nan),\n",
       "            ('AC124067.2',                  nan),\n",
       "            ('AC124067.3',                  nan),\n",
       "            ('AC124067.4',                  nan),\n",
       "            ('AC137579.2',                  nan),\n",
       "            ('AC137579.1',                  nan),\n",
       "            ( 'RNU6-607P',                  nan),\n",
       "            (    'ZNF703',  'ENSG00000183779.5'),\n",
       "            (    'ZNF703',  'ENSG00000183779.6'),\n",
       "            (    'ZNF703',                  nan),\n",
       "            ('AC138356.3',                  nan),\n",
       "            ('AC138356.1',                  nan),\n",
       "            (    'ERLIN2', 'ENSG00000147475.10'),\n",
       "            (    'ERLIN2',                  nan),\n",
       "            (    'ERLIN2', 'ENSG00000147475.14'),\n",
       "            ('AC138356.2',                  nan),\n",
       "            (     'PLPBP',                  nan),\n",
       "            (    'ADGRA2', 'ENSG00000020181.17'),\n",
       "            (    'ADGRA2',                  nan),\n",
       "            (      'BRF2',                  nan),\n",
       "            (      'BRF2', 'ENSG00000104221.12'),\n",
       "            (      'BRF2',  'ENSG00000104221.8'),\n",
       "            ( 'RAB11FIP1',                  nan),\n",
       "            ( 'RAB11FIP1', 'ENSG00000156675.11'),\n",
       "            ( 'RAB11FIP1', 'ENSG00000156675.15'),\n",
       "            ('AC130304.1',                  nan),\n",
       "            ( 'RN7SL709P',                  nan),\n",
       "            ( 'RN7SL709P',  'ENSG00000241032.2'),\n",
       "            (    'GOT1L1',  'ENSG00000169154.5'),\n",
       "            (    'GOT1L1',                  nan),\n",
       "            (    'GOT1L1',  'ENSG00000169154.4'),\n",
       "            ('AC144573.1',                  nan),\n",
       "            (     'ADRB3',                  nan),\n",
       "            (     'ADRB3',  'ENSG00000188778.5'),\n",
       "            (     'ADRB3',  'ENSG00000188778.3'),\n",
       "            (  'RPL12P48',                  nan),\n",
       "            (  'EIF4EBP1',  'ENSG00000187840.4'),\n",
       "            (  'EIF4EBP1',                  nan),\n",
       "            ('AP006545.1',                  nan),\n",
       "            ('AP006545.3',                  nan),\n",
       "            ('AP006545.2',                  nan),\n",
       "            (     'ASH2L', 'ENSG00000129691.11'),\n",
       "            (     'ASH2L', 'ENSG00000129691.15'),\n",
       "            (     'ASH2L',                  nan),\n",
       "            ( 'RNU6-988P',                  nan),\n",
       "            ('AC084024.1',                  nan),\n",
       "            (      'STAR', 'ENSG00000147465.11'),\n",
       "            (      'STAR',                  nan),\n",
       "            (      'STAR',  'ENSG00000147465.7'),\n",
       "            ('AC084024.3',                  nan),\n",
       "            (      'LSM1',                  nan),\n",
       "            (      'LSM1',  'ENSG00000175324.9'),\n",
       "            (      'LSM1',  'ENSG00000175324.5'),\n",
       "            ( 'RNU6-323P',                  nan),\n",
       "            (      'BAG4',                  nan),\n",
       "            (      'BAG4',  'ENSG00000156735.6'),\n",
       "            (      'BAG4', 'ENSG00000156735.10'),\n",
       "            ('AC084024.2',                  nan),\n",
       "            ('AC084024.4',                  nan),\n",
       "            (     'DDHD2',                  nan),\n",
       "            (     'DDHD2',  'ENSG00000085788.9'),\n",
       "            (     'DDHD2', 'ENSG00000085788.13'),\n",
       "            (     'PLPP5', 'ENSG00000147535.16'),\n",
       "            (     'PLPP5',                  nan),\n",
       "            (      'NSD3',                  nan),\n",
       "            (      'NSD3', 'ENSG00000147548.16'),\n",
       "            ('AC087362.2',                  nan),\n",
       "            ('AC087362.1',                  nan),\n",
       "            ('AC087623.2',                  nan),\n",
       "            (     'LETM2',  'ENSG00000165046.8'),\n",
       "            (     'LETM2', 'ENSG00000165046.12'),\n",
       "            (     'LETM2',                  nan),\n",
       "            (     'FGFR1', 'ENSG00000077782.19'),\n",
       "            (     'FGFR1',                  nan),\n",
       "            (     'FGFR1', 'ENSG00000077782.15')],\n",
       "           names=['Name', 'Database_ID'])"
      ]
     },
     "execution_count": 25,
     "metadata": {},
     "output_type": "execute_result"
    }
   ],
   "source": [
    "locations = cnvutils.get_gene_locations()\n",
    "df = locations[(locations.start_bp >= 37421341) & (locations.start_bp <= 38400215) & (locations.chromosome == '8')].sort_values('start_bp')\n",
    "df.index"
   ]
  },
  {
   "cell_type": "code",
   "execution_count": 18,
   "metadata": {},
   "outputs": [],
   "source": [
    "genes = { 'blue': ['HSPA8P13', 'AC131281.1', 'LINC01605', 'ST18'], 'green': ['FGFR1']}"
   ]
  },
  {
   "cell_type": "code",
   "execution_count": 19,
   "metadata": {},
   "outputs": [
    {
     "data": {
      "text/plain": [
       "<module 'matplotlib.pyplot' from 'C:\\\\Users\\\\chels\\\\anaconda3\\\\envs\\\\notebooks\\\\lib\\\\site-packages\\\\matplotlib\\\\pyplot.py'>"
      ]
     },
     "execution_count": 19,
     "metadata": {},
     "output_type": "execute_result"
    },
    {
     "data": {
      "image/png": "[encoded data removed]",
      "text/plain": [
       "<Figure size 2160x36 with 1 Axes>"
      ]
     },
     "metadata": {
      "needs_background": "light"
     },
     "output_type": "display_data"
    }
   ],
   "source": [
    "cnvutils.make_chromosome_plot('8', genes=genes)"
   ]
  }
 ],
 "metadata": {
  "kernelspec": {
   "display_name": "Python 3",
   "language": "python",
   "name": "python3"
  },
  "language_info": {
   "codemirror_mode": {
    "name": "ipython",
    "version": 3
   },
   "file_extension": ".py",
   "mimetype": "text/x-python",
   "name": "python",
   "nbconvert_exporter": "python",
   "pygments_lexer": "ipython3",
   "version": "3.8.5"
  }
 },
 "nbformat": 4,
 "nbformat_minor": 4
}
