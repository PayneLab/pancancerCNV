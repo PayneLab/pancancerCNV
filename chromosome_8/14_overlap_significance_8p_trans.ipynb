{
 "cells": [
  {
   "cell_type": "markdown",
   "metadata": {},
   "source": [
    "# Assign overlap p values to individual proteins and perform multiple testing correction"
   ]
  },
  {
   "cell_type": "code",
   "execution_count": 1,
   "metadata": {},
   "outputs": [],
   "source": [
    "import pandas as pd\n",
    "import numpy as np\n",
    "import statsmodels.stats.multitest"
   ]
  },
  {
   "cell_type": "code",
   "execution_count": 2,
   "metadata": {},
   "outputs": [],
   "source": [
    "CHROMOSOME = \"8\"\n",
    "ARM = \"p\"\n",
    "TRANS_OR_CIS = \"trans\""
   ]
  },
  {
   "cell_type": "code",
   "execution_count": 3,
   "metadata": {},
   "outputs": [],
   "source": [
    "overlaps = pd.read_csv(f\"pancancer_summary_{CHROMOSOME}{ARM}_{TRANS_OR_CIS}.tsv\", sep=\"\\t\")\n",
    "pvals = pd.read_csv(f\"overlap_pvals_{CHROMOSOME}{ARM}_{TRANS_OR_CIS}.tsv\", sep=\"\\t\")"
   ]
  },
  {
   "cell_type": "markdown",
   "metadata": {},
   "source": [
    "## Merge in the _p_ values for each protein\n",
    "\n",
    "We will exclude proteins that were only different in one cancer type (no overlap)."
   ]
  },
  {
   "cell_type": "code",
   "execution_count": 4,
   "metadata": {
    "scrolled": true
   },
   "outputs": [],
   "source": [
    "overlaps = overlaps[overlaps[\"num_cancers\"] > 1].\\\n",
    "merge(\n",
    "    right=pvals,\n",
    "    left_on=\"num_cancers\",\n",
    "    right_on=\"overlap_size\",\n",
    "    how=\"inner\"\n",
    ")"
   ]
  },
  {
   "cell_type": "markdown",
   "metadata": {},
   "source": [
    "## Apply multiple testing correction"
   ]
  },
  {
   "cell_type": "code",
   "execution_count": 5,
   "metadata": {},
   "outputs": [],
   "source": [
    "reject, adj_pvals, alpha_sidak, alpha_bonf = statsmodels.stats.multitest.multipletests(\n",
    "    pvals=overlaps[\"pvals\"], \n",
    "    alpha=0.05, \n",
    "    method=\"fdr_bh\"\n",
    ")\n",
    "\n",
    "overlaps = overlaps.assign(\n",
    "    adj_p=adj_pvals\n",
    ")"
   ]
  },
  {
   "cell_type": "code",
   "execution_count": 6,
   "metadata": {},
   "outputs": [
    {
     "data": {
      "text/html": [
       "<div>\n",
       "<style scoped>\n",
       "    .dataframe tbody tr th:only-of-type {\n",
       "        vertical-align: middle;\n",
       "    }\n",
       "\n",
       "    .dataframe tbody tr th {\n",
       "        vertical-align: top;\n",
       "    }\n",
       "\n",
       "    .dataframe thead th {\n",
       "        text-align: right;\n",
       "    }\n",
       "</style>\n",
       "<table border=\"1\" class=\"dataframe\">\n",
       "  <thead>\n",
       "    <tr style=\"text-align: right;\">\n",
       "      <th></th>\n",
       "      <th>protein</th>\n",
       "      <th>cancers</th>\n",
       "      <th>mean_simp_change</th>\n",
       "      <th>num_cancers</th>\n",
       "      <th>overlap_size</th>\n",
       "      <th>pvals</th>\n",
       "      <th>adj_p</th>\n",
       "    </tr>\n",
       "  </thead>\n",
       "  <tbody>\n",
       "    <tr>\n",
       "      <th>0</th>\n",
       "      <td>CNOT8</td>\n",
       "      <td>brca_luad</td>\n",
       "      <td>1</td>\n",
       "      <td>2</td>\n",
       "      <td>2</td>\n",
       "      <td>0.001777</td>\n",
       "      <td>0.001777</td>\n",
       "    </tr>\n",
       "    <tr>\n",
       "      <th>1</th>\n",
       "      <td>ATP6V1A</td>\n",
       "      <td>colon_luad</td>\n",
       "      <td>-1</td>\n",
       "      <td>2</td>\n",
       "      <td>2</td>\n",
       "      <td>0.001777</td>\n",
       "      <td>0.001777</td>\n",
       "    </tr>\n",
       "    <tr>\n",
       "      <th>2</th>\n",
       "      <td>ATP6V1E1</td>\n",
       "      <td>colon_luad</td>\n",
       "      <td>-1</td>\n",
       "      <td>2</td>\n",
       "      <td>2</td>\n",
       "      <td>0.001777</td>\n",
       "      <td>0.001777</td>\n",
       "    </tr>\n",
       "    <tr>\n",
       "      <th>3</th>\n",
       "      <td>ATP6V1H</td>\n",
       "      <td>colon_luad</td>\n",
       "      <td>-1</td>\n",
       "      <td>2</td>\n",
       "      <td>2</td>\n",
       "      <td>0.001777</td>\n",
       "      <td>0.001777</td>\n",
       "    </tr>\n",
       "    <tr>\n",
       "      <th>4</th>\n",
       "      <td>HIST1H1D</td>\n",
       "      <td>hnscc_luad</td>\n",
       "      <td>-1</td>\n",
       "      <td>2</td>\n",
       "      <td>2</td>\n",
       "      <td>0.001777</td>\n",
       "      <td>0.001777</td>\n",
       "    </tr>\n",
       "  </tbody>\n",
       "</table>\n",
       "</div>"
      ],
      "text/plain": [
       "    protein     cancers  mean_simp_change  num_cancers  overlap_size  \\\n",
       "0     CNOT8   brca_luad                 1            2             2   \n",
       "1   ATP6V1A  colon_luad                -1            2             2   \n",
       "2  ATP6V1E1  colon_luad                -1            2             2   \n",
       "3   ATP6V1H  colon_luad                -1            2             2   \n",
       "4  HIST1H1D  hnscc_luad                -1            2             2   \n",
       "\n",
       "      pvals     adj_p  \n",
       "0  0.001777  0.001777  \n",
       "1  0.001777  0.001777  \n",
       "2  0.001777  0.001777  \n",
       "3  0.001777  0.001777  \n",
       "4  0.001777  0.001777  "
      ]
     },
     "execution_count": 6,
     "metadata": {},
     "output_type": "execute_result"
    }
   ],
   "source": [
    "overlaps"
   ]
  },
  {
   "cell_type": "code",
   "execution_count": 7,
   "metadata": {},
   "outputs": [],
   "source": [
    "overlaps.to_csv(f\"sig_diff_overlaps_{CHROMOSOME}{ARM}_{TRANS_OR_CIS}.tsv\", sep=\"\\t\", index=False)"
   ]
  }
 ],
 "metadata": {
  "kernelspec": {
   "display_name": "Python 3",
   "language": "python",
   "name": "python3"
  },
  "language_info": {
   "codemirror_mode": {
    "name": "ipython",
    "version": 3
   },
   "file_extension": ".py",
   "mimetype": "text/x-python",
   "name": "python",
   "nbconvert_exporter": "python",
   "pygments_lexer": "ipython3",
   "version": "3.7.7"
  }
 },
 "nbformat": 4,
 "nbformat_minor": 4
}
