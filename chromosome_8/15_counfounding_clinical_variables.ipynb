{
 "cells": [
  {
   "cell_type": "markdown",
   "metadata": {},
   "source": [
    "# Check for confounding variables\n",
    "\n",
    "This notebook uses chi-squared tests to look for clinical variables that are associated with having a chromosome event or not."
   ]
  },
  {
   "cell_type": "markdown",
   "metadata": {},
   "source": [
    "- Get clinical tables\n",
    "- Get event tables\n",
    "- Binarize clinical columns as needed\n",
    "- For each binary column in the clinical table, make a contingency table of that column and the event table\n",
    "- Run chi squared test and save results"
   ]
  },
  {
   "cell_type": "code",
   "execution_count": 1,
   "metadata": {},
   "outputs": [],
   "source": [
    "import pandas as pd\n",
    "import numpy as np\n",
    "import os\n",
    "import cptac\n",
    "import altair as alt\n",
    "import scipy.stats\n",
    "import statsmodels.stats.multitest"
   ]
  },
  {
   "cell_type": "code",
   "execution_count": 2,
   "metadata": {},
   "outputs": [],
   "source": [
    "pd.options.display.max_columns = None\n",
    "pd.options.display.max_colwidth = None"
   ]
  },
  {
   "cell_type": "code",
   "execution_count": 3,
   "metadata": {},
   "outputs": [],
   "source": [
    "dss = {\n",
    "    \"brca\": cptac.Brca,\n",
    "#     \"ccrcc\": cptac.Ccrcc,\n",
    "    \"colon\": cptac.Colon,\n",
    "#     \"endometrial\": cptac.Endometrial,\n",
    "#     \"gbm\": cptac.Gbm,\n",
    "    \"hnscc\": cptac.Hnscc,\n",
    "    \"lscc\": cptac.Lscc,\n",
    "    \"luad\": cptac.Luad,\n",
    "    \"ovarian\": cptac.Ovarian\n",
    "}"
   ]
  },
  {
   "cell_type": "code",
   "execution_count": 4,
   "metadata": {},
   "outputs": [],
   "source": [
    "def load_tables(cancer_type):\n",
    "    \n",
    "    # Load the dataset\n",
    "    ds = dss[cancer_type]()\n",
    "    \n",
    "    # Get the clinical table\n",
    "    clin = ds.get_clinical()\n",
    "    \n",
    "    # Get the event table\n",
    "    event = pd.\\\n",
    "    read_csv(f\"{cancer_type}_has_event.tsv\", sep=\"\\t\", index_col=0).\\\n",
    "    rename(columns={\"gain_event\": \"8q_gain\", \"loss_event\": \"8p_loss\"})\n",
    "    \n",
    "    joined = clin.join(event, how=\"inner\")\n",
    "    \n",
    "    return joined"
   ]
  },
  {
   "cell_type": "code",
   "execution_count": 5,
   "metadata": {
    "scrolled": false
   },
   "outputs": [],
   "source": [
    "def test_cnv_association(cancer_type, df, test_cols, cnv_col):\n",
    "    \n",
    "    pvals = []\n",
    "\n",
    "    for col in test_cols:\n",
    "        \n",
    "        # Create contingency table\n",
    "        contingency_table = pd.crosstab(df[cnv_col], df[col])\n",
    "        \n",
    "        # Run test\n",
    "        chi2, p, dof, exp_freq = scipy.stats.chi2_contingency(contingency_table)\n",
    "        \n",
    "        # Check assumptions: No group has expected value < 1, and no more than\n",
    "        # 20% of groups have expected frequency < 5.\n",
    "        exp_freq = pd.DataFrame(exp_freq)\n",
    "        \n",
    "        if (exp_freq < 1).any().any():\n",
    "            pvals.append(\"Not all expected frequencies were > 1.\")\n",
    "        elif (exp_freq < 5).sum().sum() > 0.2 * exp_freq.shape[0] * exp_freq.shape[1]:\n",
    "            pvals.append(\"More than 20% of groups had expected frequency < 5.\")\n",
    "        else:\n",
    "            pvals.append(p)\n",
    "        \n",
    "    pvals = pd.DataFrame({\n",
    "        \"cancer_type\": cancer_type,\n",
    "        \"cnv_event\": cnv_col,\n",
    "        \"variable\": test_cols,\n",
    "        \"pval\": pvals\n",
    "    })\n",
    "    \n",
    "    return pvals"
   ]
  },
  {
   "cell_type": "code",
   "execution_count": 6,
   "metadata": {},
   "outputs": [],
   "source": [
    "all_results = pd.DataFrame()"
   ]
  },
  {
   "cell_type": "markdown",
   "metadata": {},
   "source": [
    "## BRCA"
   ]
  },
  {
   "cell_type": "code",
   "execution_count": 7,
   "metadata": {},
   "outputs": [
    {
     "name": "stdout",
     "output_type": "stream",
     "text": [
      "                                         \r"
     ]
    }
   ],
   "source": [
    "brca = load_tables(\"brca\")"
   ]
  },
  {
   "cell_type": "markdown",
   "metadata": {},
   "source": [
    "### Simplify the age column\n",
    "For the age column, we will create groups of 15 years, and combine all > 75 years."
   ]
  },
  {
   "cell_type": "code",
   "execution_count": 8,
   "metadata": {},
   "outputs": [],
   "source": [
    "brca = brca.assign(Age=brca[\"Age.in.Month\"] // 12)\n",
    "brca = brca.assign(Age_group=(brca[\"Age\"] // 15) * 15)\n",
    "brca = brca.assign(Age_group=brca[\"Age_group\"].where(cond=(brca[\"Age_group\"] < 75) | (pd.isnull(brca[\"Age\"])), other=75))"
   ]
  },
  {
   "cell_type": "code",
   "execution_count": 9,
   "metadata": {},
   "outputs": [
    {
     "data": {
      "text/plain": [
       "30.0    12\n",
       "45.0    36\n",
       "60.0    38\n",
       "75.0    19\n",
       "NaN     17\n",
       "Name: Age_group, dtype: int64"
      ]
     },
     "execution_count": 9,
     "metadata": {},
     "output_type": "execute_result"
    }
   ],
   "source": [
    "brca[\"Age_group\"].value_counts(dropna=False).sort_index()"
   ]
  },
  {
   "cell_type": "markdown",
   "metadata": {},
   "source": [
    "### Simplify the stage column\n",
    "\n",
    "We will also simplify the \"Stage\" column."
   ]
  },
  {
   "cell_type": "code",
   "execution_count": 10,
   "metadata": {},
   "outputs": [
    {
     "data": {
      "text/plain": [
       "Stage IA       4\n",
       "Stage IIA     50\n",
       "Stage IIB     20\n",
       "Stage III      4\n",
       "Stage IIIA    22\n",
       "Stage IIIB     3\n",
       "Stage IIIC     4\n",
       "NaN           15\n",
       "Name: Stage, dtype: int64"
      ]
     },
     "execution_count": 10,
     "metadata": {},
     "output_type": "execute_result"
    }
   ],
   "source": [
    "brca[\"Stage\"].value_counts(dropna=False).sort_index()"
   ]
  },
  {
   "cell_type": "markdown",
   "metadata": {},
   "source": [
    "Because there are only 4 Stage I samples, we will group them with Stage II."
   ]
  },
  {
   "cell_type": "code",
   "execution_count": 11,
   "metadata": {},
   "outputs": [],
   "source": [
    "def simplify_stage_brca(row):\n",
    "    if pd.isna(row):\n",
    "        return row\n",
    "    elif row.startswith(\"Stage III\"):\n",
    "        return \"III\"\n",
    "    elif row.startswith(\"Stage II\"):\n",
    "        return \"I or II\"\n",
    "    elif row.startswith(\"Stage I\"):\n",
    "        return \"I or II\"\n",
    "    else:\n",
    "        return row\n",
    "    \n",
    "brca = brca.assign(Stage=brca[\"Stage\"].apply(simplify_stage_brca))"
   ]
  },
  {
   "cell_type": "code",
   "execution_count": 12,
   "metadata": {},
   "outputs": [
    {
     "data": {
      "text/plain": [
       "I or II    74\n",
       "III        33\n",
       "NaN        15\n",
       "Name: Stage, dtype: int64"
      ]
     },
     "execution_count": 12,
     "metadata": {},
     "output_type": "execute_result"
    }
   ],
   "source": [
    "brca[\"Stage\"].value_counts(dropna=False).sort_index()"
   ]
  },
  {
   "cell_type": "markdown",
   "metadata": {},
   "source": [
    "### Race column\n",
    "\n",
    "There aren't enough people in the hispanic.or.latino group to satisfy the requirements of the chi-squared test, so we have to drop the category."
   ]
  },
  {
   "cell_type": "code",
   "execution_count": 13,
   "metadata": {},
   "outputs": [
    {
     "data": {
      "text/plain": [
       "white                        78\n",
       "asian                        19\n",
       "black.or.african.american    14\n",
       "NaN                           7\n",
       "hispanic.or.latino            4\n",
       "Name: Race, dtype: int64"
      ]
     },
     "execution_count": 13,
     "metadata": {},
     "output_type": "execute_result"
    }
   ],
   "source": [
    "brca[\"Race\"].value_counts(dropna=False)"
   ]
  },
  {
   "cell_type": "code",
   "execution_count": 14,
   "metadata": {},
   "outputs": [],
   "source": [
    "brca[\"Race\"] = brca[\"Race\"].replace(\n",
    "    to_replace=\"hispanic.or.latino\",\n",
    "    value=np.nan\n",
    ")"
   ]
  },
  {
   "cell_type": "code",
   "execution_count": 15,
   "metadata": {},
   "outputs": [
    {
     "data": {
      "text/plain": [
       "white                        78\n",
       "asian                        19\n",
       "black.or.african.american    14\n",
       "NaN                          11\n",
       "Name: Race, dtype: int64"
      ]
     },
     "execution_count": 15,
     "metadata": {},
     "output_type": "execute_result"
    }
   ],
   "source": [
    "brca[\"Race\"].value_counts(dropna=False)"
   ]
  },
  {
   "cell_type": "markdown",
   "metadata": {},
   "source": [
    "### Run chi-squared tests\n",
    "Now we will run chi-squared tests to look for association between each variable and CNV events."
   ]
  },
  {
   "cell_type": "code",
   "execution_count": 16,
   "metadata": {},
   "outputs": [],
   "source": [
    "brca_cols = [\n",
    "    \"Age_group\",\n",
    "    \"Race\",\n",
    "    \"Stage\",\n",
    "    \"PAM50\",\n",
    "    \"NMF.v2.1\",\n",
    "]\n",
    "# Don't use gender because all female"
   ]
  },
  {
   "cell_type": "code",
   "execution_count": 17,
   "metadata": {
    "scrolled": false
   },
   "outputs": [],
   "source": [
    "all_results = all_results.append(test_cnv_association(\n",
    "    cancer_type=\"brca\",\n",
    "    df=brca,\n",
    "    test_cols=brca_cols,\n",
    "    cnv_col=\"8p_loss\"\n",
    "))"
   ]
  },
  {
   "cell_type": "code",
   "execution_count": 18,
   "metadata": {
    "scrolled": false
   },
   "outputs": [],
   "source": [
    "all_results = all_results.append(test_cnv_association(\n",
    "    cancer_type=\"brca\",\n",
    "    df=brca,\n",
    "    test_cols=brca_cols,\n",
    "    cnv_col=\"8q_gain\"\n",
    "))"
   ]
  },
  {
   "cell_type": "markdown",
   "metadata": {},
   "source": [
    "## Colon"
   ]
  },
  {
   "cell_type": "code",
   "execution_count": 19,
   "metadata": {
    "scrolled": true
   },
   "outputs": [
    {
     "name": "stdout",
     "output_type": "stream",
     "text": [
      "                                          \r"
     ]
    }
   ],
   "source": [
    "colon = load_tables(\"colon\")"
   ]
  },
  {
   "cell_type": "markdown",
   "metadata": {},
   "source": [
    "### Simplify the Age column"
   ]
  },
  {
   "cell_type": "code",
   "execution_count": 20,
   "metadata": {},
   "outputs": [],
   "source": [
    "colon = colon.assign(Age_years=colon[\"Age\"] // 12)\n",
    "colon = colon.assign(Age_group=(colon[\"Age_years\"] // 15) * 15)"
   ]
  },
  {
   "cell_type": "code",
   "execution_count": 21,
   "metadata": {},
   "outputs": [
    {
     "data": {
      "text/plain": [
       "30.0     4\n",
       "45.0    31\n",
       "60.0    48\n",
       "75.0    19\n",
       "90.0     1\n",
       "NaN      2\n",
       "Name: Age_group, dtype: int64"
      ]
     },
     "execution_count": 21,
     "metadata": {},
     "output_type": "execute_result"
    }
   ],
   "source": [
    "colon[\"Age_group\"].value_counts(dropna=False).sort_index()"
   ]
  },
  {
   "cell_type": "code",
   "execution_count": 22,
   "metadata": {},
   "outputs": [],
   "source": [
    "colon = colon.assign(\n",
    "    Age_group=colon[\"Age_group\"].where(cond=(colon[\"Age_group\"] < 75) | (pd.isnull(colon[\"Age\"])), other=75)\n",
    ")\n",
    "colon = colon.assign(\n",
    "    Age_group=colon[\"Age_group\"].where(cond=(colon[\"Age_group\"] > 45) | (pd.isnull(colon[\"Age\"])), other=30)\n",
    ")"
   ]
  },
  {
   "cell_type": "code",
   "execution_count": 23,
   "metadata": {},
   "outputs": [
    {
     "data": {
      "text/plain": [
       "30.0    35\n",
       "60.0    48\n",
       "75.0    20\n",
       "NaN      2\n",
       "Name: Age_group, dtype: int64"
      ]
     },
     "execution_count": 23,
     "metadata": {},
     "output_type": "execute_result"
    }
   ],
   "source": [
    "colon[\"Age_group\"].value_counts(dropna=False).sort_index()"
   ]
  },
  {
   "cell_type": "markdown",
   "metadata": {},
   "source": [
    "### Simplify the Stage column"
   ]
  },
  {
   "cell_type": "code",
   "execution_count": 24,
   "metadata": {},
   "outputs": [
    {
     "data": {
      "text/plain": [
       "Stage I      12\n",
       "Stage II     42\n",
       "Stage III    44\n",
       "Stage IV      7\n",
       "Name: Stage, dtype: int64"
      ]
     },
     "execution_count": 24,
     "metadata": {},
     "output_type": "execute_result"
    }
   ],
   "source": [
    "colon[\"Stage\"].value_counts(dropna=False).sort_index()"
   ]
  },
  {
   "cell_type": "code",
   "execution_count": 25,
   "metadata": {},
   "outputs": [],
   "source": [
    "colon = colon.assign(Stage=colon[\"Stage\"].where(colon[\"Stage\"] != \"Stage IV\", \"Stage III or IV\"))\n",
    "colon = colon.assign(\n",
    "    Stage=colon[\"Stage\"].where(colon[\"Stage\"] != \"Stage III\", \"Stage III or IV\")\n",
    ")"
   ]
  },
  {
   "cell_type": "code",
   "execution_count": 26,
   "metadata": {},
   "outputs": [
    {
     "data": {
      "text/plain": [
       "Stage I            12\n",
       "Stage II           42\n",
       "Stage III or IV    51\n",
       "Name: Stage, dtype: int64"
      ]
     },
     "execution_count": 26,
     "metadata": {},
     "output_type": "execute_result"
    }
   ],
   "source": [
    "colon[\"Stage\"].value_counts(dropna=False).sort_index()"
   ]
  },
  {
   "cell_type": "markdown",
   "metadata": {},
   "source": [
    "### Run chi-squared tests"
   ]
  },
  {
   "cell_type": "code",
   "execution_count": 27,
   "metadata": {},
   "outputs": [],
   "source": [
    "colon_cols = [\n",
    "    \"Age_group\",\n",
    "    \"Gender\",\n",
    "    \"Stage\",\n",
    "    \"Mucinous\"\n",
    "]"
   ]
  },
  {
   "cell_type": "code",
   "execution_count": 28,
   "metadata": {},
   "outputs": [],
   "source": [
    "all_results = all_results.append(test_cnv_association(\n",
    "    cancer_type=\"colon\",\n",
    "    df=colon,\n",
    "    test_cols=colon_cols,\n",
    "    cnv_col=\"8p_loss\"\n",
    "))"
   ]
  },
  {
   "cell_type": "code",
   "execution_count": 29,
   "metadata": {},
   "outputs": [],
   "source": [
    "all_results = all_results.append(test_cnv_association(\n",
    "    cancer_type=\"colon\",\n",
    "    df=colon,\n",
    "    test_cols=colon_cols,\n",
    "    cnv_col=\"8q_gain\"\n",
    "))"
   ]
  },
  {
   "cell_type": "markdown",
   "metadata": {},
   "source": [
    "## HNSCC"
   ]
  },
  {
   "cell_type": "code",
   "execution_count": 30,
   "metadata": {},
   "outputs": [
    {
     "name": "stdout",
     "output_type": "stream",
     "text": [
      "                                          \r"
     ]
    },
    {
     "name": "stderr",
     "output_type": "stream",
     "text": [
      "cptac warning: The HNSCC data is currently strictly reserved for CPTAC investigators. Otherwise, you are not authorized to access these data. Additionally, even after these data become publicly available, they will be subject to a publication embargo (see https://proteomics.cancer.gov/data-portal/about/data-use-agreement or enter cptac.embargo() to open the webpage for more details). (/home/caleb/anaconda3/envs/dev/lib/python3.7/site-packages/ipykernel_launcher.py, line 4)\n"
     ]
    }
   ],
   "source": [
    "hnscc = load_tables(\"hnscc\")"
   ]
  },
  {
   "cell_type": "markdown",
   "metadata": {},
   "source": [
    "### Group ages"
   ]
  },
  {
   "cell_type": "code",
   "execution_count": 31,
   "metadata": {},
   "outputs": [],
   "source": [
    "hnscc = hnscc.assign(Age_group=(hnscc[\"age\"] // 10) * 10)"
   ]
  },
  {
   "cell_type": "code",
   "execution_count": 32,
   "metadata": {},
   "outputs": [
    {
     "data": {
      "text/plain": [
       "20.0     1\n",
       "40.0     5\n",
       "50.0    37\n",
       "60.0    48\n",
       "70.0    14\n",
       "80.0     3\n",
       "NaN      1\n",
       "Name: Age_group, dtype: int64"
      ]
     },
     "execution_count": 32,
     "metadata": {},
     "output_type": "execute_result"
    }
   ],
   "source": [
    "hnscc[\"Age_group\"].value_counts(dropna=False).sort_index()"
   ]
  },
  {
   "cell_type": "code",
   "execution_count": 33,
   "metadata": {},
   "outputs": [],
   "source": [
    "hnscc = hnscc.assign(\n",
    "    Age_group=hnscc[\"Age_group\"].where(cond=(hnscc[\"Age_group\"] < 70) | (pd.isnull(hnscc[\"age\"])), other=70)\n",
    ")\n",
    "hnscc = hnscc.assign(\n",
    "    Age_group=hnscc[\"Age_group\"].where(cond=(hnscc[\"Age_group\"] > 50) | (pd.isnull(hnscc[\"age\"])), other=50)\n",
    ")"
   ]
  },
  {
   "cell_type": "code",
   "execution_count": 34,
   "metadata": {},
   "outputs": [
    {
     "data": {
      "text/plain": [
       "50.0    43\n",
       "60.0    48\n",
       "70.0    17\n",
       "NaN      1\n",
       "Name: Age_group, dtype: int64"
      ]
     },
     "execution_count": 34,
     "metadata": {},
     "output_type": "execute_result"
    }
   ],
   "source": [
    "hnscc[\"Age_group\"].value_counts(dropna=False).sort_index()"
   ]
  },
  {
   "cell_type": "markdown",
   "metadata": {},
   "source": [
    "### Simplify alcohol consumption column\n",
    "\n",
    "We are going to combine the past drinker group with the current but less group.\n",
    "\n",
    "Also replace the history not available group with NaN."
   ]
  },
  {
   "cell_type": "code",
   "execution_count": 35,
   "metadata": {},
   "outputs": [
    {
     "data": {
      "text/plain": [
       "Alcohol consumption equal to or less than 2 drinks per day for men and 1 drink or less per day for women    44\n",
       "Alcohol consumption history not available                                                                   23\n",
       "Lifelong non-drinker                                                                                        21\n",
       "Alcohol consumption more than 2 drinks per day for men and more than 1 drink per day for women              11\n",
       "NaN                                                                                                          7\n",
       "Consumed alcohol in the past, but currently a non-drinker                                                    3\n",
       "Name: alcohol_consum, dtype: int64"
      ]
     },
     "execution_count": 35,
     "metadata": {},
     "output_type": "execute_result"
    }
   ],
   "source": [
    "hnscc[\"alcohol_consum\"].value_counts(dropna=False)"
   ]
  },
  {
   "cell_type": "code",
   "execution_count": 36,
   "metadata": {},
   "outputs": [],
   "source": [
    "hnscc[\"alcohol_consum\"] = hnscc[\"alcohol_consum\"].replace(\n",
    "    to_replace=\"Consumed alcohol in the past, but currently a non-drinker\",\n",
    "    value=\"Alcohol consumption equal to or less than 2 drinks per day for men and 1 drink or less per day for women\"\n",
    ").replace(\n",
    "    to_replace=\"Alcohol consumption history not available\",\n",
    "    value=np.nan\n",
    ")"
   ]
  },
  {
   "cell_type": "code",
   "execution_count": 37,
   "metadata": {},
   "outputs": [
    {
     "data": {
      "text/plain": [
       "Alcohol consumption equal to or less than 2 drinks per day for men and 1 drink or less per day for women    47\n",
       "NaN                                                                                                         30\n",
       "Lifelong non-drinker                                                                                        21\n",
       "Alcohol consumption more than 2 drinks per day for men and more than 1 drink per day for women              11\n",
       "Name: alcohol_consum, dtype: int64"
      ]
     },
     "execution_count": 37,
     "metadata": {},
     "output_type": "execute_result"
    }
   ],
   "source": [
    "hnscc[\"alcohol_consum\"].value_counts(dropna=False)"
   ]
  },
  {
   "cell_type": "markdown",
   "metadata": {},
   "source": [
    "### Simplify smoking history column\n",
    "\n",
    "Combine all the \"current reformed\" groups and set the \"history not available\" group to NaN."
   ]
  },
  {
   "cell_type": "code",
   "execution_count": 38,
   "metadata": {},
   "outputs": [
    {
     "data": {
      "text/plain": [
       "Current smoker: Includes daily and non-daily smokers                38\n",
       "Smoking history not available                                       21\n",
       "Lifelong non-smoker: Less than 100 cigarettes smoked in lifetime    21\n",
       "Current reformed smoker within past 15 years                        14\n",
       "Current reformed smoker, more than 15 years                         10\n",
       "Current reformed smoker, years unknown                               4\n",
       "NaN                                                                  1\n",
       "Name: smoking_history, dtype: int64"
      ]
     },
     "execution_count": 38,
     "metadata": {},
     "output_type": "execute_result"
    }
   ],
   "source": [
    "hnscc[\"smoking_history\"].value_counts(dropna=False)"
   ]
  },
  {
   "cell_type": "code",
   "execution_count": 39,
   "metadata": {},
   "outputs": [],
   "source": [
    "hnscc[\"smoking_history\"] = hnscc[\"smoking_history\"].replace(\n",
    "    to_replace=\"Smoking history not available\",\n",
    "    value=np.nan\n",
    ").replace(\n",
    "    to_replace=[\n",
    "        \"Current reformed smoker, years unknown\", \n",
    "        \"Current reformed smoker within past 15 years\",\n",
    "        \"Current reformed smoker, more than 15 years\"\n",
    "    ],\n",
    "    value=\"Current reformed smoker\"\n",
    ")"
   ]
  },
  {
   "cell_type": "code",
   "execution_count": 40,
   "metadata": {},
   "outputs": [
    {
     "data": {
      "text/plain": [
       "Current smoker: Includes daily and non-daily smokers                38\n",
       "Current reformed smoker                                             28\n",
       "NaN                                                                 22\n",
       "Lifelong non-smoker: Less than 100 cigarettes smoked in lifetime    21\n",
       "Name: smoking_history, dtype: int64"
      ]
     },
     "execution_count": 40,
     "metadata": {},
     "output_type": "execute_result"
    }
   ],
   "source": [
    "hnscc[\"smoking_history\"].value_counts(dropna=False)"
   ]
  },
  {
   "cell_type": "markdown",
   "metadata": {},
   "source": [
    "### Simplify tumor site column\n",
    "\n",
    "Combine the two pharynx categories, and put lip with Oral cavity."
   ]
  },
  {
   "cell_type": "code",
   "execution_count": 41,
   "metadata": {},
   "outputs": [
    {
     "data": {
      "text/plain": [
       "Oral cavity    49\n",
       "Larynx         47\n",
       "Oropharynx      6\n",
       "Lip             4\n",
       "Hypopharynx     2\n",
       "NaN             1\n",
       "Name: tumor_site_curated, dtype: int64"
      ]
     },
     "execution_count": 41,
     "metadata": {},
     "output_type": "execute_result"
    }
   ],
   "source": [
    "hnscc[\"tumor_site_curated\"].value_counts(dropna=False)"
   ]
  },
  {
   "cell_type": "code",
   "execution_count": 42,
   "metadata": {},
   "outputs": [],
   "source": [
    "hnscc[\"tumor_site_curated\"] = hnscc[\"tumor_site_curated\"].replace(\n",
    "    to_replace=[\"Oropharynx\", \"Hypopharynx\"],\n",
    "    value=\"Pharynx\"\n",
    ").replace(\n",
    "    to_replace=\"Lip\",\n",
    "    value=\"Oral cavity\"\n",
    ")"
   ]
  },
  {
   "cell_type": "code",
   "execution_count": 43,
   "metadata": {},
   "outputs": [
    {
     "data": {
      "text/plain": [
       "Oral cavity    53\n",
       "Larynx         47\n",
       "Pharynx         8\n",
       "NaN             1\n",
       "Name: tumor_site_curated, dtype: int64"
      ]
     },
     "execution_count": 43,
     "metadata": {},
     "output_type": "execute_result"
    }
   ],
   "source": [
    "hnscc[\"tumor_site_curated\"].value_counts(dropna=False)"
   ]
  },
  {
   "cell_type": "markdown",
   "metadata": {},
   "source": [
    "### Simplify stage column\n",
    "\n",
    "Combine stage I and stage II groups"
   ]
  },
  {
   "cell_type": "code",
   "execution_count": 44,
   "metadata": {},
   "outputs": [
    {
     "data": {
      "text/plain": [
       "Stage IV     45\n",
       "Stage III    32\n",
       "Stage II     24\n",
       "Stage I       7\n",
       "NaN           1\n",
       "Name: patho_staging_curated, dtype: int64"
      ]
     },
     "execution_count": 44,
     "metadata": {},
     "output_type": "execute_result"
    }
   ],
   "source": [
    "hnscc[\"patho_staging_curated\"].value_counts(dropna=False)"
   ]
  },
  {
   "cell_type": "code",
   "execution_count": 45,
   "metadata": {},
   "outputs": [],
   "source": [
    "hnscc[\"patho_staging_curated\"] = hnscc[\"patho_staging_curated\"].replace(\n",
    "    to_replace=[\"Stage I\", \"Stage II\"],\n",
    "    value=\"Stage I/II\"\n",
    ")"
   ]
  },
  {
   "cell_type": "code",
   "execution_count": 46,
   "metadata": {},
   "outputs": [
    {
     "data": {
      "text/plain": [
       "Stage IV      45\n",
       "Stage III     32\n",
       "Stage I/II    31\n",
       "NaN            1\n",
       "Name: patho_staging_curated, dtype: int64"
      ]
     },
     "execution_count": 46,
     "metadata": {},
     "output_type": "execute_result"
    }
   ],
   "source": [
    "hnscc[\"patho_staging_curated\"].value_counts(dropna=False)"
   ]
  },
  {
   "cell_type": "markdown",
   "metadata": {},
   "source": [
    "### Run chi-squared tests"
   ]
  },
  {
   "cell_type": "code",
   "execution_count": 47,
   "metadata": {},
   "outputs": [],
   "source": [
    "hnscc_cols = [\n",
    "    \"Age_group\",\n",
    "    \"alcohol_consum\",\n",
    "#     \"gender\", # There are only 14 women and 94 men. Chi square assumption not met: More than 20% of groups had expected frequency < 5.\n",
    "    \"histologic_grade\",\n",
    "#     \"histologic_type\", # 97 out of 104 are all \"Squamous cell carcinoma, conventional\"\n",
    "    \"patho_staging_curated\",\n",
    "    \"smoking_history\",\n",
    "    \"tumor_site_curated\"\n",
    "]"
   ]
  },
  {
   "cell_type": "code",
   "execution_count": 48,
   "metadata": {},
   "outputs": [],
   "source": [
    "all_results = all_results.append(test_cnv_association(\n",
    "    cancer_type=\"hnscc\",\n",
    "    df=hnscc,\n",
    "    test_cols=hnscc_cols,\n",
    "    cnv_col=\"8p_loss\"\n",
    "))"
   ]
  },
  {
   "cell_type": "code",
   "execution_count": 49,
   "metadata": {},
   "outputs": [],
   "source": [
    "all_results = all_results.append(test_cnv_association(\n",
    "    cancer_type=\"hnscc\",\n",
    "    df=hnscc,\n",
    "    test_cols=hnscc_cols,\n",
    "    cnv_col=\"8q_gain\"\n",
    "))"
   ]
  },
  {
   "cell_type": "markdown",
   "metadata": {},
   "source": [
    "## LSCC"
   ]
  },
  {
   "cell_type": "code",
   "execution_count": 50,
   "metadata": {},
   "outputs": [
    {
     "name": "stdout",
     "output_type": "stream",
     "text": [
      "                                         \r"
     ]
    },
    {
     "name": "stderr",
     "output_type": "stream",
     "text": [
      "cptac warning: The LSCC data is currently strictly reserved for CPTAC investigators. Otherwise, you are not authorized to access these data. Additionally, even after these data become publicly available, they will be subject to a publication embargo (see https://proteomics.cancer.gov/data-portal/about/data-use-agreement or enter cptac.embargo() to open the webpage for more details). (/home/caleb/anaconda3/envs/dev/lib/python3.7/site-packages/ipykernel_launcher.py, line 4)\n"
     ]
    }
   ],
   "source": [
    "lscc = load_tables(\"lscc\")"
   ]
  },
  {
   "cell_type": "code",
   "execution_count": 51,
   "metadata": {},
   "outputs": [],
   "source": [
    "lscc[\"Age\"] = lscc[\"Age\"].astype(int)"
   ]
  },
  {
   "cell_type": "markdown",
   "metadata": {},
   "source": [
    "### Group ages"
   ]
  },
  {
   "cell_type": "code",
   "execution_count": 52,
   "metadata": {},
   "outputs": [],
   "source": [
    "lscc = lscc.assign(Age_group=(lscc[\"Age\"] // 10) * 10)"
   ]
  },
  {
   "cell_type": "code",
   "execution_count": 53,
   "metadata": {},
   "outputs": [
    {
     "data": {
      "text/plain": [
       "40     5\n",
       "50    18\n",
       "60    46\n",
       "70    37\n",
       "80     2\n",
       "Name: Age_group, dtype: int64"
      ]
     },
     "execution_count": 53,
     "metadata": {},
     "output_type": "execute_result"
    }
   ],
   "source": [
    "lscc[\"Age_group\"].value_counts(dropna=False).sort_index()"
   ]
  },
  {
   "cell_type": "code",
   "execution_count": 54,
   "metadata": {},
   "outputs": [],
   "source": [
    "lscc = lscc.assign(\n",
    "    Age_group=lscc[\"Age_group\"].where(cond=(lscc[\"Age_group\"] < 70) | (pd.isnull(lscc[\"Age\"])), other=70)\n",
    ")\n",
    "lscc = lscc.assign(\n",
    "    Age_group=lscc[\"Age_group\"].where(cond=(lscc[\"Age_group\"] > 50) | (pd.isnull(lscc[\"Age\"])), other=50)\n",
    ")"
   ]
  },
  {
   "cell_type": "code",
   "execution_count": 55,
   "metadata": {},
   "outputs": [
    {
     "data": {
      "text/plain": [
       "50    23\n",
       "60    46\n",
       "70    39\n",
       "Name: Age_group, dtype: int64"
      ]
     },
     "execution_count": 55,
     "metadata": {},
     "output_type": "execute_result"
    }
   ],
   "source": [
    "lscc[\"Age_group\"].value_counts(dropna=False).sort_index()"
   ]
  },
  {
   "cell_type": "markdown",
   "metadata": {},
   "source": [
    "### Simplify the Stage column"
   ]
  },
  {
   "cell_type": "code",
   "execution_count": 56,
   "metadata": {},
   "outputs": [
    {
     "data": {
      "text/plain": [
       "I        3\n",
       "IA      12\n",
       "IB      22\n",
       "II       2\n",
       "IIA     22\n",
       "IIB     20\n",
       "III      2\n",
       "IIIA    17\n",
       "IIIB     2\n",
       "IV       1\n",
       "NaN      5\n",
       "Name: Stage, dtype: int64"
      ]
     },
     "execution_count": 56,
     "metadata": {},
     "output_type": "execute_result"
    }
   ],
   "source": [
    "lscc[\"Stage\"].value_counts(dropna=False).sort_index()"
   ]
  },
  {
   "cell_type": "code",
   "execution_count": 57,
   "metadata": {},
   "outputs": [],
   "source": [
    "def simplify_stage_lscc(row):\n",
    "    if pd.isna(row):\n",
    "        return row\n",
    "    elif row.startswith(\"IV\"):\n",
    "        return \"III or IV\"\n",
    "    elif row.startswith(\"III\"):\n",
    "        return \"III or IV\"\n",
    "    elif row.startswith(\"II\"):\n",
    "        return \"II\"\n",
    "    elif row.startswith(\"I\"):\n",
    "        return \"I\"\n",
    "    else:\n",
    "        return row\n",
    "    \n",
    "lscc = lscc.assign(Stage=lscc[\"Stage\"].apply(simplify_stage_lscc))"
   ]
  },
  {
   "cell_type": "code",
   "execution_count": 58,
   "metadata": {},
   "outputs": [
    {
     "data": {
      "text/plain": [
       "I            37\n",
       "II           44\n",
       "III or IV    22\n",
       "NaN           5\n",
       "Name: Stage, dtype: int64"
      ]
     },
     "execution_count": 58,
     "metadata": {},
     "output_type": "execute_result"
    }
   ],
   "source": [
    "lscc[\"Stage\"].value_counts(dropna=False).sort_index()"
   ]
  },
  {
   "cell_type": "markdown",
   "metadata": {},
   "source": [
    "### Country.of.Origin column\n",
    "\n",
    "Combine by region--North America, Asian, or Eurasia. We use this column instead of the Ethnicity column because the Ethnicity column only had enough info test two groups--white and Asian."
   ]
  },
  {
   "cell_type": "code",
   "execution_count": 59,
   "metadata": {},
   "outputs": [
    {
     "data": {
      "text/plain": [
       "bulgaria    25\n",
       "china       17\n",
       "other        2\n",
       "poland      14\n",
       "russia       2\n",
       "ukraine     10\n",
       "usa         32\n",
       "vietnam      6\n",
       "Name: Country.of.Origin, dtype: int64"
      ]
     },
     "execution_count": 59,
     "metadata": {},
     "output_type": "execute_result"
    }
   ],
   "source": [
    "lscc[\"Country.of.Origin\"].value_counts(dropna=False).sort_index()"
   ]
  },
  {
   "cell_type": "code",
   "execution_count": 60,
   "metadata": {},
   "outputs": [],
   "source": [
    "lscc[\"Country.of.Origin\"] = lscc[\"Country.of.Origin\"].replace(\n",
    "    to_replace=\"usa\",\n",
    "    value=\"North America\"\n",
    ").replace(\n",
    "    to_replace=[\"bulgaria\", \"poland\", \"russia\", \"ukraine\"],\n",
    "    value=\"Eurasia\"\n",
    ").replace(\n",
    "    to_replace=[\"china\", \"vietnam\"],\n",
    "    value=\"Asia\"\n",
    ").replace(\n",
    "    to_replace=\"other\",\n",
    "    value=np.nan\n",
    ")"
   ]
  },
  {
   "cell_type": "code",
   "execution_count": 61,
   "metadata": {},
   "outputs": [
    {
     "data": {
      "text/plain": [
       "Asia             23\n",
       "Eurasia          51\n",
       "North America    32\n",
       "NaN               2\n",
       "Name: Country.of.Origin, dtype: int64"
      ]
     },
     "execution_count": 61,
     "metadata": {},
     "output_type": "execute_result"
    }
   ],
   "source": [
    "lscc[\"Country.of.Origin\"].value_counts(dropna=False).sort_index()"
   ]
  },
  {
   "cell_type": "markdown",
   "metadata": {},
   "source": [
    "### Pack.Years.Smoked column"
   ]
  },
  {
   "cell_type": "code",
   "execution_count": 62,
   "metadata": {},
   "outputs": [],
   "source": [
    "lscc[\"Pack.Years.Smoked\"] = lscc[\"Pack.Years.Smoked\"].astype(float)\n",
    "\n",
    "lscc = lscc.assign(**{\"Pack.Years.Smoked\": (lscc[\"Pack.Years.Smoked\"] // 20) * 20})\n",
    "\n",
    "lscc = lscc.assign(**{\n",
    "    \"Pack.Years.Smoked\": lscc[\"Pack.Years.Smoked\"].where(\n",
    "        cond=(lscc[\"Pack.Years.Smoked\"] < 60) | (pd.isnull(lscc[\"Pack.Years.Smoked\"])), other=60\n",
    "    )\n",
    "})\n",
    "lscc = lscc.assign(**{\n",
    "    \"Pack.Years.Smoked\": lscc[\"Pack.Years.Smoked\"].where(\n",
    "        cond=(lscc[\"Pack.Years.Smoked\"] > 20) | (pd.isnull(lscc[\"Pack.Years.Smoked\"])), other=20\n",
    "    )\n",
    "})"
   ]
  },
  {
   "cell_type": "code",
   "execution_count": 63,
   "metadata": {},
   "outputs": [
    {
     "data": {
      "text/plain": [
       "20.0    23\n",
       "40.0    20\n",
       "60.0    14\n",
       "NaN     51\n",
       "Name: Pack.Years.Smoked, dtype: int64"
      ]
     },
     "execution_count": 63,
     "metadata": {},
     "output_type": "execute_result"
    }
   ],
   "source": [
    "lscc[\"Pack.Years.Smoked\"].value_counts(dropna=False).sort_index()"
   ]
  },
  {
   "cell_type": "markdown",
   "metadata": {},
   "source": [
    "### Run chi squared tests"
   ]
  },
  {
   "cell_type": "code",
   "execution_count": 64,
   "metadata": {},
   "outputs": [],
   "source": [
    "lscc_cols = [\n",
    "    \"Age_group\",\n",
    "    \"Gender\",\n",
    "    \"Stage\",\n",
    "    \"Country.of.Origin\",\n",
    "    \"Pack.Years.Smoked\"\n",
    "]"
   ]
  },
  {
   "cell_type": "code",
   "execution_count": 65,
   "metadata": {},
   "outputs": [],
   "source": [
    "all_results = all_results.append(test_cnv_association(\n",
    "    cancer_type=\"lscc\",\n",
    "    df=lscc,\n",
    "    test_cols=lscc_cols,\n",
    "    cnv_col=\"8p_loss\"\n",
    "))"
   ]
  },
  {
   "cell_type": "code",
   "execution_count": 66,
   "metadata": {},
   "outputs": [],
   "source": [
    "all_results = all_results.append(test_cnv_association(\n",
    "    cancer_type=\"lscc\",\n",
    "    df=lscc,\n",
    "    test_cols=lscc_cols,\n",
    "    cnv_col=\"8q_gain\"\n",
    "))"
   ]
  },
  {
   "cell_type": "markdown",
   "metadata": {},
   "source": [
    "## LUAD"
   ]
  },
  {
   "cell_type": "code",
   "execution_count": 67,
   "metadata": {},
   "outputs": [
    {
     "name": "stdout",
     "output_type": "stream",
     "text": [
      "                                         \r"
     ]
    }
   ],
   "source": [
    "luad = load_tables(\"luad\")"
   ]
  },
  {
   "cell_type": "markdown",
   "metadata": {},
   "source": [
    "### Group ages"
   ]
  },
  {
   "cell_type": "code",
   "execution_count": 68,
   "metadata": {},
   "outputs": [],
   "source": [
    "luad = luad.assign(Age_group=(luad[\"Age\"] // 10) * 10)"
   ]
  },
  {
   "cell_type": "code",
   "execution_count": 69,
   "metadata": {},
   "outputs": [
    {
     "data": {
      "text/plain": [
       "30.0     2\n",
       "40.0    10\n",
       "50.0    32\n",
       "60.0    39\n",
       "70.0    23\n",
       "80.0     3\n",
       "Name: Age_group, dtype: int64"
      ]
     },
     "execution_count": 69,
     "metadata": {},
     "output_type": "execute_result"
    }
   ],
   "source": [
    "luad[\"Age_group\"].value_counts(dropna=False).sort_index()"
   ]
  },
  {
   "cell_type": "code",
   "execution_count": 70,
   "metadata": {},
   "outputs": [],
   "source": [
    "luad = luad.assign(\n",
    "    Age_group=luad[\"Age_group\"].where(cond=(luad[\"Age_group\"] < 70) | (pd.isnull(luad[\"Age\"])), other=70)\n",
    ")\n",
    "luad = luad.assign(\n",
    "    Age_group=luad[\"Age_group\"].where(cond=(luad[\"Age_group\"] > 40) | (pd.isnull(luad[\"Age\"])), other=40)\n",
    ")"
   ]
  },
  {
   "cell_type": "code",
   "execution_count": 71,
   "metadata": {},
   "outputs": [
    {
     "data": {
      "text/plain": [
       "40.0    12\n",
       "50.0    32\n",
       "60.0    39\n",
       "70.0    26\n",
       "Name: Age_group, dtype: int64"
      ]
     },
     "execution_count": 71,
     "metadata": {},
     "output_type": "execute_result"
    }
   ],
   "source": [
    "luad[\"Age_group\"].value_counts(dropna=False).sort_index()"
   ]
  },
  {
   "cell_type": "markdown",
   "metadata": {},
   "source": [
    "### Simplify BMI column\n",
    "\n",
    "Based on the ranges from the CDC: https://www.cdc.gov/obesity/adult/defining.html"
   ]
  },
  {
   "cell_type": "code",
   "execution_count": 72,
   "metadata": {
    "scrolled": true
   },
   "outputs": [],
   "source": [
    "luad = luad.assign(BMI_range=np.nan)\n",
    "luad[\"BMI_range\"] = np.where(luad[\"BMI\"] < 18.5, \"underweight\", luad[\"BMI_range\"])\n",
    "luad[\"BMI_range\"] = np.where((luad[\"BMI\"] < 25) & (luad[\"BMI\"] >= 18.5), \"healthyweight\", luad[\"BMI_range\"])\n",
    "luad[\"BMI_range\"] = np.where(luad[\"BMI\"] >= 25, \"overweight or obese\", luad[\"BMI_range\"])"
   ]
  },
  {
   "cell_type": "code",
   "execution_count": 73,
   "metadata": {
    "scrolled": true
   },
   "outputs": [
    {
     "data": {
      "text/plain": [
       "healthyweight          52\n",
       "overweight or obese    40\n",
       "underweight            17\n",
       "Name: BMI_range, dtype: int64"
      ]
     },
     "execution_count": 73,
     "metadata": {},
     "output_type": "execute_result"
    }
   ],
   "source": [
    "luad[\"BMI_range\"].value_counts(dropna=False).sort_index()"
   ]
  },
  {
   "cell_type": "markdown",
   "metadata": {},
   "source": [
    "### Simplify the Stage column\n",
    "\n",
    "We had to combine the Stage 2 and 3 categories to get high enough counts to meet the assumptions of the chi squared test."
   ]
  },
  {
   "cell_type": "code",
   "execution_count": 74,
   "metadata": {
    "scrolled": true
   },
   "outputs": [
    {
     "data": {
      "text/plain": [
       "1       1\n",
       "1A     15\n",
       "1B     29\n",
       "2A      8\n",
       "2B      9\n",
       "3       1\n",
       "3A     12\n",
       "NaN    34\n",
       "Name: Stage, dtype: int64"
      ]
     },
     "execution_count": 74,
     "metadata": {},
     "output_type": "execute_result"
    }
   ],
   "source": [
    "luad[\"Stage\"].value_counts(dropna=False).sort_index()"
   ]
  },
  {
   "cell_type": "code",
   "execution_count": 75,
   "metadata": {},
   "outputs": [],
   "source": [
    "def simplify_stage_luad(row):\n",
    "    if pd.isna(row):\n",
    "        return row\n",
    "    elif row.startswith(\"3\"):\n",
    "        return \"2 or 3\"\n",
    "    elif row.startswith(\"2\"):\n",
    "        return \"2 or 3\"\n",
    "    elif row.startswith(\"1\"):\n",
    "        return \"1\"\n",
    "    else:\n",
    "        return row\n",
    "    \n",
    "luad = luad.assign(Stage=luad[\"Stage\"].apply(simplify_stage_luad))"
   ]
  },
  {
   "cell_type": "code",
   "execution_count": 76,
   "metadata": {
    "scrolled": true
   },
   "outputs": [
    {
     "data": {
      "text/plain": [
       "1         45\n",
       "2 or 3    30\n",
       "NaN       34\n",
       "Name: Stage, dtype: int64"
      ]
     },
     "execution_count": 76,
     "metadata": {},
     "output_type": "execute_result"
    }
   ],
   "source": [
    "luad[\"Stage\"].value_counts(dropna=False).sort_index()"
   ]
  },
  {
   "cell_type": "markdown",
   "metadata": {},
   "source": [
    "### Pack.Years.Smoked column"
   ]
  },
  {
   "cell_type": "code",
   "execution_count": 77,
   "metadata": {},
   "outputs": [],
   "source": [
    "luad[\"Pack.Years.Smoked\"] = luad[\"Pack.Years.Smoked\"].astype(float)\n",
    "\n",
    "luad = luad.assign(**{\"Pack.Years.Smoked\": (luad[\"Pack.Years.Smoked\"] // 15) * 15})"
   ]
  },
  {
   "cell_type": "code",
   "execution_count": 78,
   "metadata": {},
   "outputs": [],
   "source": [
    "luad = luad.assign(**{\n",
    "    \"Pack.Years.Smoked\": luad[\"Pack.Years.Smoked\"].where(\n",
    "        cond=(luad[\"Pack.Years.Smoked\"] < 15) | (pd.isnull(luad[\"Pack.Years.Smoked\"])), other=15\n",
    "    )\n",
    "})"
   ]
  },
  {
   "cell_type": "code",
   "execution_count": 79,
   "metadata": {},
   "outputs": [
    {
     "data": {
      "text/plain": [
       "0.0     21\n",
       "15.0    28\n",
       "NaN     60\n",
       "Name: Pack.Years.Smoked, dtype: int64"
      ]
     },
     "execution_count": 79,
     "metadata": {},
     "output_type": "execute_result"
    }
   ],
   "source": [
    "luad[\"Pack.Years.Smoked\"].value_counts(dropna=False).sort_index()"
   ]
  },
  {
   "cell_type": "markdown",
   "metadata": {},
   "source": [
    "### Run chi squared tests"
   ]
  },
  {
   "cell_type": "code",
   "execution_count": 80,
   "metadata": {},
   "outputs": [],
   "source": [
    "luad_cols = [\n",
    "    \"Age_group\",\n",
    "    \"Gender\",\n",
    "    \"BMI_range\",\n",
    "    \"Stage\",\n",
    "    \"Region.of.Origin\",\n",
    "    \"Pack.Years.Smoked\"\n",
    "]"
   ]
  },
  {
   "cell_type": "code",
   "execution_count": 81,
   "metadata": {},
   "outputs": [],
   "source": [
    "all_results = all_results.append(test_cnv_association(\n",
    "    cancer_type=\"luad\",\n",
    "    df=luad,\n",
    "    test_cols=luad_cols,\n",
    "    cnv_col=\"8p_loss\"\n",
    "))"
   ]
  },
  {
   "cell_type": "code",
   "execution_count": 82,
   "metadata": {},
   "outputs": [],
   "source": [
    "all_results = all_results.append(test_cnv_association(\n",
    "    cancer_type=\"luad\",\n",
    "    df=luad,\n",
    "    test_cols=luad_cols,\n",
    "    cnv_col=\"8q_gain\"\n",
    "))"
   ]
  },
  {
   "cell_type": "markdown",
   "metadata": {},
   "source": [
    "## Ovarian"
   ]
  },
  {
   "cell_type": "code",
   "execution_count": 83,
   "metadata": {},
   "outputs": [
    {
     "name": "stdout",
     "output_type": "stream",
     "text": [
      "                                            \r"
     ]
    }
   ],
   "source": [
    "ovarian = load_tables(\"ovarian\")"
   ]
  },
  {
   "cell_type": "markdown",
   "metadata": {},
   "source": [
    "### Group ages"
   ]
  },
  {
   "cell_type": "code",
   "execution_count": 84,
   "metadata": {},
   "outputs": [],
   "source": [
    "ovarian = ovarian.assign(Age=ovarian[\"Participant_Procurement_Age\"] // 12)\n",
    "ovarian = ovarian.assign(Age_group=(ovarian[\"Age\"] // 10) * 10)"
   ]
  },
  {
   "cell_type": "code",
   "execution_count": 85,
   "metadata": {},
   "outputs": [
    {
     "data": {
      "text/plain": [
       "30.0     3\n",
       "40.0    14\n",
       "50.0    38\n",
       "60.0    29\n",
       "70.0    15\n",
       "80.0     1\n",
       "Name: Age_group, dtype: int64"
      ]
     },
     "execution_count": 85,
     "metadata": {},
     "output_type": "execute_result"
    }
   ],
   "source": [
    "ovarian[\"Age_group\"].value_counts(dropna=False).sort_index()"
   ]
  },
  {
   "cell_type": "code",
   "execution_count": 86,
   "metadata": {},
   "outputs": [],
   "source": [
    "ovarian = ovarian.assign(\n",
    "    Age_group=ovarian[\"Age_group\"].where(cond=(ovarian[\"Age_group\"] < 70) | (pd.isnull(ovarian[\"Age\"])), other=70)\n",
    ")\n",
    "ovarian = ovarian.assign(\n",
    "    Age_group=ovarian[\"Age_group\"].where(cond=(ovarian[\"Age_group\"] > 40) | (pd.isnull(ovarian[\"Age\"])), other=40)\n",
    ")"
   ]
  },
  {
   "cell_type": "code",
   "execution_count": 87,
   "metadata": {},
   "outputs": [
    {
     "data": {
      "text/plain": [
       "40.0    17\n",
       "50.0    38\n",
       "60.0    29\n",
       "70.0    16\n",
       "Name: Age_group, dtype: int64"
      ]
     },
     "execution_count": 87,
     "metadata": {},
     "output_type": "execute_result"
    }
   ],
   "source": [
    "ovarian[\"Age_group\"].value_counts(dropna=False).sort_index()"
   ]
  },
  {
   "cell_type": "markdown",
   "metadata": {},
   "source": [
    "### Run chi squared tests"
   ]
  },
  {
   "cell_type": "code",
   "execution_count": 88,
   "metadata": {},
   "outputs": [],
   "source": [
    "ovarian_cols = [\n",
    "    \"Age_group\",\n",
    "#     \"Participant_Race\", # Not enough patients in the different categories to pass the assumptions of the test.\n",
    "#     \"Histological_Subtype\", # All are \"Serous Adenocarcinoma\"\n",
    "#     \"Tumor_Stage_Ovary_FIGO\", # Not enough of different stages to pass assumptions of test\n",
    "#     \"Tumor_Grade\" # Not enough of different grades to pass assumptions of test\n",
    "]"
   ]
  },
  {
   "cell_type": "code",
   "execution_count": 89,
   "metadata": {},
   "outputs": [],
   "source": [
    "all_results = all_results.append(test_cnv_association(\n",
    "    cancer_type=\"ovarian\",\n",
    "    df=ovarian,\n",
    "    test_cols=ovarian_cols,\n",
    "    cnv_col=\"8p_loss\"\n",
    "))"
   ]
  },
  {
   "cell_type": "code",
   "execution_count": 90,
   "metadata": {},
   "outputs": [],
   "source": [
    "all_results = all_results.append(test_cnv_association(\n",
    "    cancer_type=\"ovarian\",\n",
    "    df=ovarian,\n",
    "    test_cols=ovarian_cols,\n",
    "    cnv_col=\"8q_gain\"\n",
    "))"
   ]
  },
  {
   "cell_type": "markdown",
   "metadata": {},
   "source": [
    "## Multiple testing correction"
   ]
  },
  {
   "cell_type": "code",
   "execution_count": 91,
   "metadata": {},
   "outputs": [],
   "source": [
    "reject, pvals_corrected, alphacSidak, alphacBonf = statsmodels.stats.multitest.multipletests(\n",
    "    pvals=all_results[\"pval\"], \n",
    "    alpha=0.05, \n",
    "    method=\"fdr_bh\"\n",
    ")\n",
    "\n",
    "all_results = all_results.assign(adj_p=pvals_corrected)"
   ]
  },
  {
   "cell_type": "code",
   "execution_count": 92,
   "metadata": {},
   "outputs": [
    {
     "data": {
      "text/html": [
       "<div>\n",
       "<style scoped>\n",
       "    .dataframe tbody tr th:only-of-type {\n",
       "        vertical-align: middle;\n",
       "    }\n",
       "\n",
       "    .dataframe tbody tr th {\n",
       "        vertical-align: top;\n",
       "    }\n",
       "\n",
       "    .dataframe thead th {\n",
       "        text-align: right;\n",
       "    }\n",
       "</style>\n",
       "<table border=\"1\" class=\"dataframe\">\n",
       "  <thead>\n",
       "    <tr style=\"text-align: right;\">\n",
       "      <th></th>\n",
       "      <th>cancer_type</th>\n",
       "      <th>cnv_event</th>\n",
       "      <th>variable</th>\n",
       "      <th>pval</th>\n",
       "      <th>adj_p</th>\n",
       "    </tr>\n",
       "  </thead>\n",
       "  <tbody>\n",
       "    <tr>\n",
       "      <th>3</th>\n",
       "      <td>brca</td>\n",
       "      <td>8q_gain</td>\n",
       "      <td>PAM50</td>\n",
       "      <td>0.001121</td>\n",
       "      <td>0.020171</td>\n",
       "    </tr>\n",
       "    <tr>\n",
       "      <th>4</th>\n",
       "      <td>brca</td>\n",
       "      <td>8q_gain</td>\n",
       "      <td>NMF.v2.1</td>\n",
       "      <td>0.000461</td>\n",
       "      <td>0.020171</td>\n",
       "    </tr>\n",
       "    <tr>\n",
       "      <th>2</th>\n",
       "      <td>luad</td>\n",
       "      <td>8q_gain</td>\n",
       "      <td>BMI_range</td>\n",
       "      <td>0.003183</td>\n",
       "      <td>0.042971</td>\n",
       "    </tr>\n",
       "    <tr>\n",
       "      <th>4</th>\n",
       "      <td>luad</td>\n",
       "      <td>8q_gain</td>\n",
       "      <td>Region.of.Origin</td>\n",
       "      <td>0.000801</td>\n",
       "      <td>0.020171</td>\n",
       "    </tr>\n",
       "  </tbody>\n",
       "</table>\n",
       "</div>"
      ],
      "text/plain": [
       "  cancer_type cnv_event          variable      pval     adj_p\n",
       "3        brca   8q_gain             PAM50  0.001121  0.020171\n",
       "4        brca   8q_gain          NMF.v2.1  0.000461  0.020171\n",
       "2        luad   8q_gain         BMI_range  0.003183  0.042971\n",
       "4        luad   8q_gain  Region.of.Origin  0.000801  0.020171"
      ]
     },
     "execution_count": 92,
     "metadata": {},
     "output_type": "execute_result"
    }
   ],
   "source": [
    "all_results[all_results[\"adj_p\"] <= 0.05]"
   ]
  },
  {
   "cell_type": "code",
   "execution_count": 93,
   "metadata": {
    "scrolled": false
   },
   "outputs": [
    {
     "data": {
      "text/html": [
       "<div>\n",
       "<style scoped>\n",
       "    .dataframe tbody tr th:only-of-type {\n",
       "        vertical-align: middle;\n",
       "    }\n",
       "\n",
       "    .dataframe tbody tr th {\n",
       "        vertical-align: top;\n",
       "    }\n",
       "\n",
       "    .dataframe thead th {\n",
       "        text-align: right;\n",
       "    }\n",
       "</style>\n",
       "<table border=\"1\" class=\"dataframe\">\n",
       "  <thead>\n",
       "    <tr style=\"text-align: right;\">\n",
       "      <th></th>\n",
       "      <th>cancer_type</th>\n",
       "      <th>cnv_event</th>\n",
       "      <th>variable</th>\n",
       "      <th>pval</th>\n",
       "      <th>adj_p</th>\n",
       "    </tr>\n",
       "  </thead>\n",
       "  <tbody>\n",
       "    <tr>\n",
       "      <th>0</th>\n",
       "      <td>brca</td>\n",
       "      <td>8p_loss</td>\n",
       "      <td>Age_group</td>\n",
       "      <td>0.245893</td>\n",
       "      <td>0.613231</td>\n",
       "    </tr>\n",
       "    <tr>\n",
       "      <th>1</th>\n",
       "      <td>brca</td>\n",
       "      <td>8p_loss</td>\n",
       "      <td>Race</td>\n",
       "      <td>0.664741</td>\n",
       "      <td>0.892749</td>\n",
       "    </tr>\n",
       "    <tr>\n",
       "      <th>2</th>\n",
       "      <td>brca</td>\n",
       "      <td>8p_loss</td>\n",
       "      <td>Stage</td>\n",
       "      <td>0.973413</td>\n",
       "      <td>0.973413</td>\n",
       "    </tr>\n",
       "    <tr>\n",
       "      <th>3</th>\n",
       "      <td>brca</td>\n",
       "      <td>8p_loss</td>\n",
       "      <td>PAM50</td>\n",
       "      <td>0.668204</td>\n",
       "      <td>0.892749</td>\n",
       "    </tr>\n",
       "    <tr>\n",
       "      <th>4</th>\n",
       "      <td>brca</td>\n",
       "      <td>8p_loss</td>\n",
       "      <td>NMF.v2.1</td>\n",
       "      <td>0.937665</td>\n",
       "      <td>0.955357</td>\n",
       "    </tr>\n",
       "    <tr>\n",
       "      <th>0</th>\n",
       "      <td>brca</td>\n",
       "      <td>8q_gain</td>\n",
       "      <td>Age_group</td>\n",
       "      <td>0.837975</td>\n",
       "      <td>0.923482</td>\n",
       "    </tr>\n",
       "    <tr>\n",
       "      <th>1</th>\n",
       "      <td>brca</td>\n",
       "      <td>8q_gain</td>\n",
       "      <td>Race</td>\n",
       "      <td>0.223218</td>\n",
       "      <td>0.613231</td>\n",
       "    </tr>\n",
       "    <tr>\n",
       "      <th>2</th>\n",
       "      <td>brca</td>\n",
       "      <td>8q_gain</td>\n",
       "      <td>Stage</td>\n",
       "      <td>0.674630</td>\n",
       "      <td>0.892749</td>\n",
       "    </tr>\n",
       "    <tr>\n",
       "      <th>3</th>\n",
       "      <td>brca</td>\n",
       "      <td>8q_gain</td>\n",
       "      <td>PAM50</td>\n",
       "      <td>0.001121</td>\n",
       "      <td>0.020171</td>\n",
       "    </tr>\n",
       "    <tr>\n",
       "      <th>4</th>\n",
       "      <td>brca</td>\n",
       "      <td>8q_gain</td>\n",
       "      <td>NMF.v2.1</td>\n",
       "      <td>0.000461</td>\n",
       "      <td>0.020171</td>\n",
       "    </tr>\n",
       "    <tr>\n",
       "      <th>0</th>\n",
       "      <td>colon</td>\n",
       "      <td>8p_loss</td>\n",
       "      <td>Age_group</td>\n",
       "      <td>0.044830</td>\n",
       "      <td>0.242080</td>\n",
       "    </tr>\n",
       "    <tr>\n",
       "      <th>1</th>\n",
       "      <td>colon</td>\n",
       "      <td>8p_loss</td>\n",
       "      <td>Gender</td>\n",
       "      <td>0.299017</td>\n",
       "      <td>0.621035</td>\n",
       "    </tr>\n",
       "    <tr>\n",
       "      <th>2</th>\n",
       "      <td>colon</td>\n",
       "      <td>8p_loss</td>\n",
       "      <td>Stage</td>\n",
       "      <td>0.249238</td>\n",
       "      <td>0.613231</td>\n",
       "    </tr>\n",
       "    <tr>\n",
       "      <th>3</th>\n",
       "      <td>colon</td>\n",
       "      <td>8p_loss</td>\n",
       "      <td>Mucinous</td>\n",
       "      <td>0.230789</td>\n",
       "      <td>0.613231</td>\n",
       "    </tr>\n",
       "    <tr>\n",
       "      <th>0</th>\n",
       "      <td>colon</td>\n",
       "      <td>8q_gain</td>\n",
       "      <td>Age_group</td>\n",
       "      <td>0.815270</td>\n",
       "      <td>0.917178</td>\n",
       "    </tr>\n",
       "    <tr>\n",
       "      <th>1</th>\n",
       "      <td>colon</td>\n",
       "      <td>8q_gain</td>\n",
       "      <td>Gender</td>\n",
       "      <td>0.765412</td>\n",
       "      <td>0.917178</td>\n",
       "    </tr>\n",
       "    <tr>\n",
       "      <th>2</th>\n",
       "      <td>colon</td>\n",
       "      <td>8q_gain</td>\n",
       "      <td>Stage</td>\n",
       "      <td>0.677828</td>\n",
       "      <td>0.892749</td>\n",
       "    </tr>\n",
       "    <tr>\n",
       "      <th>3</th>\n",
       "      <td>colon</td>\n",
       "      <td>8q_gain</td>\n",
       "      <td>Mucinous</td>\n",
       "      <td>0.626902</td>\n",
       "      <td>0.892749</td>\n",
       "    </tr>\n",
       "    <tr>\n",
       "      <th>0</th>\n",
       "      <td>hnscc</td>\n",
       "      <td>8p_loss</td>\n",
       "      <td>Age_group</td>\n",
       "      <td>0.611143</td>\n",
       "      <td>0.892749</td>\n",
       "    </tr>\n",
       "    <tr>\n",
       "      <th>1</th>\n",
       "      <td>hnscc</td>\n",
       "      <td>8p_loss</td>\n",
       "      <td>alcohol_consum</td>\n",
       "      <td>0.565015</td>\n",
       "      <td>0.892749</td>\n",
       "    </tr>\n",
       "    <tr>\n",
       "      <th>2</th>\n",
       "      <td>hnscc</td>\n",
       "      <td>8p_loss</td>\n",
       "      <td>histologic_grade</td>\n",
       "      <td>0.320023</td>\n",
       "      <td>0.640047</td>\n",
       "    </tr>\n",
       "    <tr>\n",
       "      <th>3</th>\n",
       "      <td>hnscc</td>\n",
       "      <td>8p_loss</td>\n",
       "      <td>patho_staging_curated</td>\n",
       "      <td>0.053354</td>\n",
       "      <td>0.261921</td>\n",
       "    </tr>\n",
       "    <tr>\n",
       "      <th>4</th>\n",
       "      <td>hnscc</td>\n",
       "      <td>8p_loss</td>\n",
       "      <td>smoking_history</td>\n",
       "      <td>0.294374</td>\n",
       "      <td>0.621035</td>\n",
       "    </tr>\n",
       "    <tr>\n",
       "      <th>5</th>\n",
       "      <td>hnscc</td>\n",
       "      <td>8p_loss</td>\n",
       "      <td>tumor_site_curated</td>\n",
       "      <td>0.563740</td>\n",
       "      <td>0.892749</td>\n",
       "    </tr>\n",
       "    <tr>\n",
       "      <th>0</th>\n",
       "      <td>hnscc</td>\n",
       "      <td>8q_gain</td>\n",
       "      <td>Age_group</td>\n",
       "      <td>0.104835</td>\n",
       "      <td>0.435468</td>\n",
       "    </tr>\n",
       "    <tr>\n",
       "      <th>1</th>\n",
       "      <td>hnscc</td>\n",
       "      <td>8q_gain</td>\n",
       "      <td>alcohol_consum</td>\n",
       "      <td>0.266480</td>\n",
       "      <td>0.613231</td>\n",
       "    </tr>\n",
       "    <tr>\n",
       "      <th>2</th>\n",
       "      <td>hnscc</td>\n",
       "      <td>8q_gain</td>\n",
       "      <td>histologic_grade</td>\n",
       "      <td>0.930855</td>\n",
       "      <td>0.955357</td>\n",
       "    </tr>\n",
       "    <tr>\n",
       "      <th>3</th>\n",
       "      <td>hnscc</td>\n",
       "      <td>8q_gain</td>\n",
       "      <td>patho_staging_curated</td>\n",
       "      <td>0.272547</td>\n",
       "      <td>0.613231</td>\n",
       "    </tr>\n",
       "    <tr>\n",
       "      <th>4</th>\n",
       "      <td>hnscc</td>\n",
       "      <td>8q_gain</td>\n",
       "      <td>smoking_history</td>\n",
       "      <td>0.078895</td>\n",
       "      <td>0.355026</td>\n",
       "    </tr>\n",
       "    <tr>\n",
       "      <th>5</th>\n",
       "      <td>hnscc</td>\n",
       "      <td>8q_gain</td>\n",
       "      <td>tumor_site_curated</td>\n",
       "      <td>0.739403</td>\n",
       "      <td>0.917178</td>\n",
       "    </tr>\n",
       "    <tr>\n",
       "      <th>0</th>\n",
       "      <td>lscc</td>\n",
       "      <td>8p_loss</td>\n",
       "      <td>Age_group</td>\n",
       "      <td>0.562964</td>\n",
       "      <td>0.892749</td>\n",
       "    </tr>\n",
       "    <tr>\n",
       "      <th>1</th>\n",
       "      <td>lscc</td>\n",
       "      <td>8p_loss</td>\n",
       "      <td>Gender</td>\n",
       "      <td>0.893751</td>\n",
       "      <td>0.946324</td>\n",
       "    </tr>\n",
       "    <tr>\n",
       "      <th>2</th>\n",
       "      <td>lscc</td>\n",
       "      <td>8p_loss</td>\n",
       "      <td>Stage</td>\n",
       "      <td>0.194889</td>\n",
       "      <td>0.613231</td>\n",
       "    </tr>\n",
       "    <tr>\n",
       "      <th>3</th>\n",
       "      <td>lscc</td>\n",
       "      <td>8p_loss</td>\n",
       "      <td>Country.of.Origin</td>\n",
       "      <td>0.395868</td>\n",
       "      <td>0.715099</td>\n",
       "    </tr>\n",
       "    <tr>\n",
       "      <th>4</th>\n",
       "      <td>lscc</td>\n",
       "      <td>8p_loss</td>\n",
       "      <td>Pack.Years.Smoked</td>\n",
       "      <td>0.808111</td>\n",
       "      <td>0.917178</td>\n",
       "    </tr>\n",
       "    <tr>\n",
       "      <th>0</th>\n",
       "      <td>lscc</td>\n",
       "      <td>8q_gain</td>\n",
       "      <td>Age_group</td>\n",
       "      <td>0.023878</td>\n",
       "      <td>0.143270</td>\n",
       "    </tr>\n",
       "    <tr>\n",
       "      <th>1</th>\n",
       "      <td>lscc</td>\n",
       "      <td>8q_gain</td>\n",
       "      <td>Gender</td>\n",
       "      <td>0.463236</td>\n",
       "      <td>0.806928</td>\n",
       "    </tr>\n",
       "    <tr>\n",
       "      <th>2</th>\n",
       "      <td>lscc</td>\n",
       "      <td>8q_gain</td>\n",
       "      <td>Stage</td>\n",
       "      <td>0.397277</td>\n",
       "      <td>0.715099</td>\n",
       "    </tr>\n",
       "    <tr>\n",
       "      <th>3</th>\n",
       "      <td>lscc</td>\n",
       "      <td>8q_gain</td>\n",
       "      <td>Country.of.Origin</td>\n",
       "      <td>0.006063</td>\n",
       "      <td>0.054568</td>\n",
       "    </tr>\n",
       "    <tr>\n",
       "      <th>4</th>\n",
       "      <td>lscc</td>\n",
       "      <td>8q_gain</td>\n",
       "      <td>Pack.Years.Smoked</td>\n",
       "      <td>0.219610</td>\n",
       "      <td>0.613231</td>\n",
       "    </tr>\n",
       "    <tr>\n",
       "      <th>0</th>\n",
       "      <td>luad</td>\n",
       "      <td>8p_loss</td>\n",
       "      <td>Age_group</td>\n",
       "      <td>0.266145</td>\n",
       "      <td>0.613231</td>\n",
       "    </tr>\n",
       "    <tr>\n",
       "      <th>1</th>\n",
       "      <td>luad</td>\n",
       "      <td>8p_loss</td>\n",
       "      <td>Gender</td>\n",
       "      <td>0.005557</td>\n",
       "      <td>0.054568</td>\n",
       "    </tr>\n",
       "    <tr>\n",
       "      <th>2</th>\n",
       "      <td>luad</td>\n",
       "      <td>8p_loss</td>\n",
       "      <td>BMI_range</td>\n",
       "      <td>0.018372</td>\n",
       "      <td>0.124009</td>\n",
       "    </tr>\n",
       "    <tr>\n",
       "      <th>3</th>\n",
       "      <td>luad</td>\n",
       "      <td>8p_loss</td>\n",
       "      <td>Stage</td>\n",
       "      <td>0.789853</td>\n",
       "      <td>0.917178</td>\n",
       "    </tr>\n",
       "    <tr>\n",
       "      <th>4</th>\n",
       "      <td>luad</td>\n",
       "      <td>8p_loss</td>\n",
       "      <td>Region.of.Origin</td>\n",
       "      <td>0.250587</td>\n",
       "      <td>0.613231</td>\n",
       "    </tr>\n",
       "    <tr>\n",
       "      <th>5</th>\n",
       "      <td>luad</td>\n",
       "      <td>8p_loss</td>\n",
       "      <td>Pack.Years.Smoked</td>\n",
       "      <td>0.810525</td>\n",
       "      <td>0.917178</td>\n",
       "    </tr>\n",
       "    <tr>\n",
       "      <th>0</th>\n",
       "      <td>luad</td>\n",
       "      <td>8q_gain</td>\n",
       "      <td>Age_group</td>\n",
       "      <td>0.007725</td>\n",
       "      <td>0.059594</td>\n",
       "    </tr>\n",
       "    <tr>\n",
       "      <th>1</th>\n",
       "      <td>luad</td>\n",
       "      <td>8q_gain</td>\n",
       "      <td>Gender</td>\n",
       "      <td>0.641866</td>\n",
       "      <td>0.892749</td>\n",
       "    </tr>\n",
       "    <tr>\n",
       "      <th>2</th>\n",
       "      <td>luad</td>\n",
       "      <td>8q_gain</td>\n",
       "      <td>BMI_range</td>\n",
       "      <td>0.003183</td>\n",
       "      <td>0.042971</td>\n",
       "    </tr>\n",
       "    <tr>\n",
       "      <th>3</th>\n",
       "      <td>luad</td>\n",
       "      <td>8q_gain</td>\n",
       "      <td>Stage</td>\n",
       "      <td>0.868498</td>\n",
       "      <td>0.937978</td>\n",
       "    </tr>\n",
       "    <tr>\n",
       "      <th>4</th>\n",
       "      <td>luad</td>\n",
       "      <td>8q_gain</td>\n",
       "      <td>Region.of.Origin</td>\n",
       "      <td>0.000801</td>\n",
       "      <td>0.020171</td>\n",
       "    </tr>\n",
       "    <tr>\n",
       "      <th>5</th>\n",
       "      <td>luad</td>\n",
       "      <td>8q_gain</td>\n",
       "      <td>Pack.Years.Smoked</td>\n",
       "      <td>0.362272</td>\n",
       "      <td>0.698667</td>\n",
       "    </tr>\n",
       "    <tr>\n",
       "      <th>0</th>\n",
       "      <td>ovarian</td>\n",
       "      <td>8p_loss</td>\n",
       "      <td>Age_group</td>\n",
       "      <td>0.762846</td>\n",
       "      <td>0.917178</td>\n",
       "    </tr>\n",
       "    <tr>\n",
       "      <th>0</th>\n",
       "      <td>ovarian</td>\n",
       "      <td>8q_gain</td>\n",
       "      <td>Age_group</td>\n",
       "      <td>0.218780</td>\n",
       "      <td>0.613231</td>\n",
       "    </tr>\n",
       "  </tbody>\n",
       "</table>\n",
       "</div>"
      ],
      "text/plain": [
       "  cancer_type cnv_event               variable      pval     adj_p\n",
       "0        brca   8p_loss              Age_group  0.245893  0.613231\n",
       "1        brca   8p_loss                   Race  0.664741  0.892749\n",
       "2        brca   8p_loss                  Stage  0.973413  0.973413\n",
       "3        brca   8p_loss                  PAM50  0.668204  0.892749\n",
       "4        brca   8p_loss               NMF.v2.1  0.937665  0.955357\n",
       "0        brca   8q_gain              Age_group  0.837975  0.923482\n",
       "1        brca   8q_gain                   Race  0.223218  0.613231\n",
       "2        brca   8q_gain                  Stage  0.674630  0.892749\n",
       "3        brca   8q_gain                  PAM50  0.001121  0.020171\n",
       "4        brca   8q_gain               NMF.v2.1  0.000461  0.020171\n",
       "0       colon   8p_loss              Age_group  0.044830  0.242080\n",
       "1       colon   8p_loss                 Gender  0.299017  0.621035\n",
       "2       colon   8p_loss                  Stage  0.249238  0.613231\n",
       "3       colon   8p_loss               Mucinous  0.230789  0.613231\n",
       "0       colon   8q_gain              Age_group  0.815270  0.917178\n",
       "1       colon   8q_gain                 Gender  0.765412  0.917178\n",
       "2       colon   8q_gain                  Stage  0.677828  0.892749\n",
       "3       colon   8q_gain               Mucinous  0.626902  0.892749\n",
       "0       hnscc   8p_loss              Age_group  0.611143  0.892749\n",
       "1       hnscc   8p_loss         alcohol_consum  0.565015  0.892749\n",
       "2       hnscc   8p_loss       histologic_grade  0.320023  0.640047\n",
       "3       hnscc   8p_loss  patho_staging_curated  0.053354  0.261921\n",
       "4       hnscc   8p_loss        smoking_history  0.294374  0.621035\n",
       "5       hnscc   8p_loss     tumor_site_curated  0.563740  0.892749\n",
       "0       hnscc   8q_gain              Age_group  0.104835  0.435468\n",
       "1       hnscc   8q_gain         alcohol_consum  0.266480  0.613231\n",
       "2       hnscc   8q_gain       histologic_grade  0.930855  0.955357\n",
       "3       hnscc   8q_gain  patho_staging_curated  0.272547  0.613231\n",
       "4       hnscc   8q_gain        smoking_history  0.078895  0.355026\n",
       "5       hnscc   8q_gain     tumor_site_curated  0.739403  0.917178\n",
       "0        lscc   8p_loss              Age_group  0.562964  0.892749\n",
       "1        lscc   8p_loss                 Gender  0.893751  0.946324\n",
       "2        lscc   8p_loss                  Stage  0.194889  0.613231\n",
       "3        lscc   8p_loss      Country.of.Origin  0.395868  0.715099\n",
       "4        lscc   8p_loss      Pack.Years.Smoked  0.808111  0.917178\n",
       "0        lscc   8q_gain              Age_group  0.023878  0.143270\n",
       "1        lscc   8q_gain                 Gender  0.463236  0.806928\n",
       "2        lscc   8q_gain                  Stage  0.397277  0.715099\n",
       "3        lscc   8q_gain      Country.of.Origin  0.006063  0.054568\n",
       "4        lscc   8q_gain      Pack.Years.Smoked  0.219610  0.613231\n",
       "0        luad   8p_loss              Age_group  0.266145  0.613231\n",
       "1        luad   8p_loss                 Gender  0.005557  0.054568\n",
       "2        luad   8p_loss              BMI_range  0.018372  0.124009\n",
       "3        luad   8p_loss                  Stage  0.789853  0.917178\n",
       "4        luad   8p_loss       Region.of.Origin  0.250587  0.613231\n",
       "5        luad   8p_loss      Pack.Years.Smoked  0.810525  0.917178\n",
       "0        luad   8q_gain              Age_group  0.007725  0.059594\n",
       "1        luad   8q_gain                 Gender  0.641866  0.892749\n",
       "2        luad   8q_gain              BMI_range  0.003183  0.042971\n",
       "3        luad   8q_gain                  Stage  0.868498  0.937978\n",
       "4        luad   8q_gain       Region.of.Origin  0.000801  0.020171\n",
       "5        luad   8q_gain      Pack.Years.Smoked  0.362272  0.698667\n",
       "0     ovarian   8p_loss              Age_group  0.762846  0.917178\n",
       "0     ovarian   8q_gain              Age_group  0.218780  0.613231"
      ]
     },
     "execution_count": 93,
     "metadata": {},
     "output_type": "execute_result"
    }
   ],
   "source": [
    "all_results"
   ]
  },
  {
   "cell_type": "code",
   "execution_count": 95,
   "metadata": {},
   "outputs": [
    {
     "data": {
      "text/html": [
       "\n",
       "<div id=\"altair-viz-23857a11cb9e41209c8b398290762c1e\"></div>\n",
       "<script type=\"text/javascript\">\n",
       "  (function(spec, embedOpt){\n",
       "    let outputDiv = document.currentScript.previousElementSibling;\n",
       "    if (outputDiv.id !== \"altair-viz-23857a11cb9e41209c8b398290762c1e\") {\n",
       "      outputDiv = document.getElementById(\"altair-viz-23857a11cb9e41209c8b398290762c1e\");\n",
       "    }\n",
       "    const paths = {\n",
       "      \"vega\": \"https://cdn.jsdelivr.net/npm//vega@5?noext\",\n",
       "      \"vega-lib\": \"https://cdn.jsdelivr.net/npm//vega-lib?noext\",\n",
       "      \"vega-lite\": \"https://cdn.jsdelivr.net/npm//vega-lite@4.8.1?noext\",\n",
       "      \"vega-embed\": \"https://cdn.jsdelivr.net/npm//vega-embed@6?noext\",\n",
       "    };\n",
       "\n",
       "    function loadScript(lib) {\n",
       "      return new Promise(function(resolve, reject) {\n",
       "        var s = document.createElement('script');\n",
       "        s.src = paths[lib];\n",
       "        s.async = true;\n",
       "        s.onload = () => resolve(paths[lib]);\n",
       "        s.onerror = () => reject(`Error loading script: ${paths[lib]}`);\n",
       "        document.getElementsByTagName(\"head\")[0].appendChild(s);\n",
       "      });\n",
       "    }\n",
       "\n",
       "    function showError(err) {\n",
       "      outputDiv.innerHTML = `<div class=\"error\" style=\"color:red;\">${err}</div>`;\n",
       "      throw err;\n",
       "    }\n",
       "\n",
       "    function displayChart(vegaEmbed) {\n",
       "      vegaEmbed(outputDiv, spec, embedOpt)\n",
       "        .catch(err => showError(`Javascript Error: ${err.message}<br>This usually means there's a typo in your chart specification. See the javascript console for the full traceback.`));\n",
       "    }\n",
       "\n",
       "    if(typeof define === \"function\" && define.amd) {\n",
       "      requirejs.config({paths});\n",
       "      require([\"vega-embed\"], displayChart, err => showError(`Error loading script: ${err.message}`));\n",
       "    } else if (typeof vegaEmbed === \"function\") {\n",
       "      displayChart(vegaEmbed);\n",
       "    } else {\n",
       "      loadScript(\"vega\")\n",
       "        .then(() => loadScript(\"vega-lite\"))\n",
       "        .then(() => loadScript(\"vega-embed\"))\n",
       "        .catch(showError)\n",
       "        .then(() => displayChart(vegaEmbed));\n",
       "    }\n",
       "  })({\"config\": {\"view\": {\"continuousWidth\": 400, \"continuousHeight\": 300}}, \"data\": {\"name\": \"data-20ac7ccbad196da9e139c3fb19be76b6\"}, \"mark\": \"bar\", \"encoding\": {\"x\": {\"type\": \"quantitative\", \"bin\": {\"step\": 0.05}, \"field\": \"adj_p\"}, \"y\": {\"type\": \"quantitative\", \"aggregate\": \"count\"}}, \"$schema\": \"https://vega.github.io/schema/vega-lite/v4.8.1.json\", \"datasets\": {\"data-20ac7ccbad196da9e139c3fb19be76b6\": [{\"cancer_type\": \"brca\", \"cnv_event\": \"8p_loss\", \"variable\": \"Age_group\", \"pval\": 0.24589323115503423, \"adj_p\": 0.6132311276499763}, {\"cancer_type\": \"brca\", \"cnv_event\": \"8p_loss\", \"variable\": \"Race\", \"pval\": 0.6647408583742095, \"adj_p\": 0.8927491577395846}, {\"cancer_type\": \"brca\", \"cnv_event\": \"8p_loss\", \"variable\": \"Stage\", \"pval\": 0.9734126397175564, \"adj_p\": 0.9734126397175564}, {\"cancer_type\": \"brca\", \"cnv_event\": \"8p_loss\", \"variable\": \"PAM50\", \"pval\": 0.6682039787558702, \"adj_p\": 0.8927491577395846}, {\"cancer_type\": \"brca\", \"cnv_event\": \"8p_loss\", \"variable\": \"NMF.v2.1\", \"pval\": 0.9376654721693928, \"adj_p\": 0.9553572735310794}, {\"cancer_type\": \"brca\", \"cnv_event\": \"8q_gain\", \"variable\": \"Age_group\", \"pval\": 0.8379745779530865, \"adj_p\": 0.9234821879482994}, {\"cancer_type\": \"brca\", \"cnv_event\": \"8q_gain\", \"variable\": \"Race\", \"pval\": 0.22321829237186144, \"adj_p\": 0.6132311276499763}, {\"cancer_type\": \"brca\", \"cnv_event\": \"8q_gain\", \"variable\": \"Stage\", \"pval\": 0.6746303796024199, \"adj_p\": 0.8927491577395846}, {\"cancer_type\": \"brca\", \"cnv_event\": \"8q_gain\", \"variable\": \"PAM50\", \"pval\": 0.0011205851221707994, \"adj_p\": 0.02017053219907439}, {\"cancer_type\": \"brca\", \"cnv_event\": \"8q_gain\", \"variable\": \"NMF.v2.1\", \"pval\": 0.00046097106087949336, \"adj_p\": 0.02017053219907439}, {\"cancer_type\": \"colon\", \"cnv_event\": \"8p_loss\", \"variable\": \"Age_group\", \"pval\": 0.044829552578227454, \"adj_p\": 0.24207958392242826}, {\"cancer_type\": \"colon\", \"cnv_event\": \"8p_loss\", \"variable\": \"Gender\", \"pval\": 0.2990169394758265, \"adj_p\": 0.6210351819882551}, {\"cancer_type\": \"colon\", \"cnv_event\": \"8p_loss\", \"variable\": \"Stage\", \"pval\": 0.24923826607740698, \"adj_p\": 0.6132311276499763}, {\"cancer_type\": \"colon\", \"cnv_event\": \"8p_loss\", \"variable\": \"Mucinous\", \"pval\": 0.2307890920394459, \"adj_p\": 0.6132311276499763}, {\"cancer_type\": \"colon\", \"cnv_event\": \"8q_gain\", \"variable\": \"Age_group\", \"pval\": 0.8152695580614634, \"adj_p\": 0.9171782528191463}, {\"cancer_type\": \"colon\", \"cnv_event\": \"8q_gain\", \"variable\": \"Gender\", \"pval\": 0.7654123138716132, \"adj_p\": 0.9171782528191463}, {\"cancer_type\": \"colon\", \"cnv_event\": \"8q_gain\", \"variable\": \"Stage\", \"pval\": 0.6778280642096847, \"adj_p\": 0.8927491577395846}, {\"cancer_type\": \"colon\", \"cnv_event\": \"8q_gain\", \"variable\": \"Mucinous\", \"pval\": 0.6269016448051137, \"adj_p\": 0.8927491577395846}, {\"cancer_type\": \"hnscc\", \"cnv_event\": \"8p_loss\", \"variable\": \"Age_group\", \"pval\": 0.6111425708124121, \"adj_p\": 0.8927491577395846}, {\"cancer_type\": \"hnscc\", \"cnv_event\": \"8p_loss\", \"variable\": \"alcohol_consum\", \"pval\": 0.5650153864118063, \"adj_p\": 0.8927491577395846}, {\"cancer_type\": \"hnscc\", \"cnv_event\": \"8p_loss\", \"variable\": \"histologic_grade\", \"pval\": 0.3200233296615763, \"adj_p\": 0.6400466593231526}, {\"cancer_type\": \"hnscc\", \"cnv_event\": \"8p_loss\", \"variable\": \"patho_staging_curated\", \"pval\": 0.05335429763083384, \"adj_p\": 0.26192109746045705}, {\"cancer_type\": \"hnscc\", \"cnv_event\": \"8p_loss\", \"variable\": \"smoking_history\", \"pval\": 0.2943741875194572, \"adj_p\": 0.6210351819882551}, {\"cancer_type\": \"hnscc\", \"cnv_event\": \"8p_loss\", \"variable\": \"tumor_site_curated\", \"pval\": 0.5637399062237836, \"adj_p\": 0.8927491577395846}, {\"cancer_type\": \"hnscc\", \"cnv_event\": \"8q_gain\", \"variable\": \"Age_group\", \"pval\": 0.10483494620773133, \"adj_p\": 0.43546823809365326}, {\"cancer_type\": \"hnscc\", \"cnv_event\": \"8q_gain\", \"variable\": \"alcohol_consum\", \"pval\": 0.2664803055364952, \"adj_p\": 0.6132311276499763}, {\"cancer_type\": \"hnscc\", \"cnv_event\": \"8q_gain\", \"variable\": \"histologic_grade\", \"pval\": 0.9308545952292779, \"adj_p\": 0.9553572735310794}, {\"cancer_type\": \"hnscc\", \"cnv_event\": \"8q_gain\", \"variable\": \"patho_staging_curated\", \"pval\": 0.2725471678444339, \"adj_p\": 0.6132311276499763}, {\"cancer_type\": \"hnscc\", \"cnv_event\": \"8q_gain\", \"variable\": \"smoking_history\", \"pval\": 0.07889467731963395, \"adj_p\": 0.3550260479383528}, {\"cancer_type\": \"hnscc\", \"cnv_event\": \"8q_gain\", \"variable\": \"tumor_site_curated\", \"pval\": 0.7394034816244281, \"adj_p\": 0.9171782528191463}, {\"cancer_type\": \"lscc\", \"cnv_event\": \"8p_loss\", \"variable\": \"Age_group\", \"pval\": 0.5629636972770375, \"adj_p\": 0.8927491577395846}, {\"cancer_type\": \"lscc\", \"cnv_event\": \"8p_loss\", \"variable\": \"Gender\", \"pval\": 0.8937505374555524, \"adj_p\": 0.9463240984823497}, {\"cancer_type\": \"lscc\", \"cnv_event\": \"8p_loss\", \"variable\": \"Stage\", \"pval\": 0.1948891568908549, \"adj_p\": 0.6132311276499763}, {\"cancer_type\": \"lscc\", \"cnv_event\": \"8p_loss\", \"variable\": \"Country.of.Origin\", \"pval\": 0.3958681906040415, \"adj_p\": 0.7150988082085442}, {\"cancer_type\": \"lscc\", \"cnv_event\": \"8p_loss\", \"variable\": \"Pack.Years.Smoked\", \"pval\": 0.8081106568201012, \"adj_p\": 0.9171782528191463}, {\"cancer_type\": \"lscc\", \"cnv_event\": \"8q_gain\", \"variable\": \"Age_group\", \"pval\": 0.023878272577633617, \"adj_p\": 0.1432696354658017}, {\"cancer_type\": \"lscc\", \"cnv_event\": \"8q_gain\", \"variable\": \"Gender\", \"pval\": 0.46323643821094695, \"adj_p\": 0.8069279891416495}, {\"cancer_type\": \"lscc\", \"cnv_event\": \"8q_gain\", \"variable\": \"Stage\", \"pval\": 0.3972771156714135, \"adj_p\": 0.7150988082085442}, {\"cancer_type\": \"lscc\", \"cnv_event\": \"8q_gain\", \"variable\": \"Country.of.Origin\", \"pval\": 0.006063134118829542, \"adj_p\": 0.054568207069465885}, {\"cancer_type\": \"lscc\", \"cnv_event\": \"8q_gain\", \"variable\": \"Pack.Years.Smoked\", \"pval\": 0.21961012574350786, \"adj_p\": 0.6132311276499763}, {\"cancer_type\": \"luad\", \"cnv_event\": \"8p_loss\", \"variable\": \"Age_group\", \"pval\": 0.2661450748812933, \"adj_p\": 0.6132311276499763}, {\"cancer_type\": \"luad\", \"cnv_event\": \"8p_loss\", \"variable\": \"Gender\", \"pval\": 0.005557150270645612, \"adj_p\": 0.054568207069465885}, {\"cancer_type\": \"luad\", \"cnv_event\": \"8p_loss\", \"variable\": \"BMI_range\", \"pval\": 0.01837177024731224, \"adj_p\": 0.12400944916935762}, {\"cancer_type\": \"luad\", \"cnv_event\": \"8p_loss\", \"variable\": \"Stage\", \"pval\": 0.7898534698691264, \"adj_p\": 0.9171782528191463}, {\"cancer_type\": \"luad\", \"cnv_event\": \"8p_loss\", \"variable\": \"Region.of.Origin\", \"pval\": 0.2505869083122464, \"adj_p\": 0.6132311276499763}, {\"cancer_type\": \"luad\", \"cnv_event\": \"8p_loss\", \"variable\": \"Pack.Years.Smoked\", \"pval\": 0.8105252156935501, \"adj_p\": 0.9171782528191463}, {\"cancer_type\": \"luad\", \"cnv_event\": \"8q_gain\", \"variable\": \"Age_group\", \"pval\": 0.00772512458016708, \"adj_p\": 0.059593818189860336}, {\"cancer_type\": \"luad\", \"cnv_event\": \"8q_gain\", \"variable\": \"Gender\", \"pval\": 0.6418656794254851, \"adj_p\": 0.8927491577395846}, {\"cancer_type\": \"luad\", \"cnv_event\": \"8q_gain\", \"variable\": \"BMI_range\", \"pval\": 0.0031830674310095136, \"adj_p\": 0.04297141031862844}, {\"cancer_type\": \"luad\", \"cnv_event\": \"8q_gain\", \"variable\": \"Stage\", \"pval\": 0.8684980773707909, \"adj_p\": 0.9379779235604542}, {\"cancer_type\": \"luad\", \"cnv_event\": \"8q_gain\", \"variable\": \"Region.of.Origin\", \"pval\": 0.000800958699160075, \"adj_p\": 0.02017053219907439}, {\"cancer_type\": \"luad\", \"cnv_event\": \"8q_gain\", \"variable\": \"Pack.Years.Smoked\", \"pval\": 0.3622719862866538, \"adj_p\": 0.6986674021242609}, {\"cancer_type\": \"ovarian\", \"cnv_event\": \"8p_loss\", \"variable\": \"Age_group\", \"pval\": 0.7628456942709776, \"adj_p\": 0.9171782528191463}, {\"cancer_type\": \"ovarian\", \"cnv_event\": \"8q_gain\", \"variable\": \"Age_group\", \"pval\": 0.21878026687028185, \"adj_p\": 0.6132311276499763}]}}, {\"mode\": \"vega-lite\"});\n",
       "</script>"
      ],
      "text/plain": [
       "alt.Chart(...)"
      ]
     },
     "execution_count": 95,
     "metadata": {},
     "output_type": "execute_result"
    }
   ],
   "source": [
    "alt.Chart(all_results).mark_bar().encode(\n",
    "    x=alt.X(\n",
    "        \"adj_p\",\n",
    "        bin=alt.Bin(step=0.05)\n",
    "    ),\n",
    "    y=alt.Y(\n",
    "        \"count()\"\n",
    "    )\n",
    ")"
   ]
  }
 ],
 "metadata": {
  "kernelspec": {
   "display_name": "Python 3",
   "language": "python",
   "name": "python3"
  },
  "language_info": {
   "codemirror_mode": {
    "name": "ipython",
    "version": 3
   },
   "file_extension": ".py",
   "mimetype": "text/x-python",
   "name": "python",
   "nbconvert_exporter": "python",
   "pygments_lexer": "ipython3",
   "version": "3.7.7"
  }
 },
 "nbformat": 4,
 "nbformat_minor": 4
}
