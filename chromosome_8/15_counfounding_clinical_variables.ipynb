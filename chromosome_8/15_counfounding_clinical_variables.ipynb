{
 "cells": [
  {
   "cell_type": "markdown",
   "metadata": {},
   "source": [
    "# Check for confounding variables\n",
    "\n",
    "This notebook uses chi-squared tests to look for clinical variables that are associated with having a chromosome event or not."
   ]
  },
  {
   "cell_type": "markdown",
   "metadata": {},
   "source": [
    "- Get clinical tables\n",
    "- Get event tables\n",
    "- Binarize clinical columns as needed\n",
    "- For each binary column in the clinical table, make a contingency table of that column and the event table\n",
    "- Run chi squared test and save results"
   ]
  },
  {
   "cell_type": "code",
   "execution_count": 1,
   "metadata": {},
   "outputs": [],
   "source": [
    "import pandas as pd\n",
    "import numpy as np\n",
    "import os\n",
    "import cptac\n",
    "import altair as alt\n",
    "import scipy.stats"
   ]
  },
  {
   "cell_type": "code",
   "execution_count": 2,
   "metadata": {},
   "outputs": [],
   "source": [
    "pd.options.display.max_columns = None\n",
    "pd.options.display.max_colwidth = None"
   ]
  },
  {
   "cell_type": "code",
   "execution_count": 3,
   "metadata": {},
   "outputs": [],
   "source": [
    "dss = {\n",
    "    \"brca\": cptac.Brca,\n",
    "#     \"ccrcc\": cptac.Ccrcc,\n",
    "    \"colon\": cptac.Colon,\n",
    "#     \"endometrial\": cptac.Endometrial,\n",
    "#     \"gbm\": cptac.Gbm,\n",
    "    \"hnscc\": cptac.Hnscc,\n",
    "    \"lscc\": cptac.Lscc,\n",
    "    \"luad\": cptac.Luad,\n",
    "    \"ovarian\": cptac.Ovarian\n",
    "}"
   ]
  },
  {
   "cell_type": "code",
   "execution_count": 4,
   "metadata": {},
   "outputs": [],
   "source": [
    "def load_tables(cancer_type):\n",
    "    \n",
    "    # Load the dataset\n",
    "    ds = dss[cancer_type]()\n",
    "    \n",
    "    # Get the clinical table\n",
    "    clin = ds.get_clinical()\n",
    "    \n",
    "    # Get the event table\n",
    "    event = pd.\\\n",
    "    read_csv(f\"{cancer_type}_has_event.tsv\", sep=\"\\t\", index_col=0).\\\n",
    "    rename(columns={\"gain_event\": \"8q_gain\", \"loss_event\": \"8p_loss\"})\n",
    "    \n",
    "    joined = clin.join(event, how=\"inner\")\n",
    "    \n",
    "    return joined"
   ]
  },
  {
   "cell_type": "code",
   "execution_count": 5,
   "metadata": {
    "scrolled": false
   },
   "outputs": [],
   "source": [
    "def test_cnv_association(df, test_cols, cnv_col):\n",
    "    \n",
    "    pvals = {}\n",
    "    efs = {}\n",
    "    \n",
    "    for col in test_cols:\n",
    "        \n",
    "        # Create contingency table\n",
    "        contingency_table = pd.crosstab(df[cnv_col], df[col])\n",
    "        \n",
    "        # Run test\n",
    "        chi2, p, dof, exp_freq = scipy.stats.chi2_contingency(contingency_table)\n",
    "        \n",
    "        # Check assumptions: No group has expected value < 1, and no more than\n",
    "        # 20% of groups have expected frequency < 5.\n",
    "        exp_freq = pd.DataFrame(exp_freq)\n",
    "        \n",
    "        if (exp_freq < 1).any().any():\n",
    "            pvals[col] = \"Not all expected frequencies were > 1.\"\n",
    "        elif (exp_freq < 5).sum().sum() > 0.2 * exp_freq.shape[0] * exp_freq.shape[1]:\n",
    "            pvals[col] = \"More than 20% of groups had expected frequency < 5.\"\n",
    "        else:\n",
    "            pvals[col] = p\n",
    "            \n",
    "        efs[col] = exp_freq\n",
    "        \n",
    "    pvals = pd.DataFrame(pvals.values(), index=pvals.keys())\n",
    "    pvals = pvals.rename(columns={0: \"pval\"})\n",
    "    \n",
    "    return pvals"
   ]
  },
  {
   "cell_type": "markdown",
   "metadata": {},
   "source": [
    "## BRCA"
   ]
  },
  {
   "cell_type": "code",
   "execution_count": 6,
   "metadata": {},
   "outputs": [
    {
     "name": "stdout",
     "output_type": "stream",
     "text": [
      "                                         \r"
     ]
    }
   ],
   "source": [
    "brca = load_tables(\"brca\")"
   ]
  },
  {
   "cell_type": "markdown",
   "metadata": {},
   "source": [
    "### Simplify the age column\n",
    "For the age column, we will create groups of 15 years, and combine all > 75 years."
   ]
  },
  {
   "cell_type": "code",
   "execution_count": 7,
   "metadata": {},
   "outputs": [],
   "source": [
    "brca = brca.assign(Age=brca[\"Age.in.Month\"] // 12)\n",
    "brca = brca.assign(Age_group=(brca[\"Age\"] // 15) * 15)\n",
    "brca = brca.assign(Age_group=brca[\"Age_group\"].where(cond=(brca[\"Age_group\"] < 75) | (pd.isnull(brca[\"Age\"])), other=75))"
   ]
  },
  {
   "cell_type": "code",
   "execution_count": 8,
   "metadata": {},
   "outputs": [
    {
     "data": {
      "text/plain": [
       "30.0    12\n",
       "45.0    36\n",
       "60.0    38\n",
       "75.0    19\n",
       "NaN     17\n",
       "Name: Age_group, dtype: int64"
      ]
     },
     "execution_count": 8,
     "metadata": {},
     "output_type": "execute_result"
    }
   ],
   "source": [
    "brca[\"Age_group\"].value_counts(dropna=False).sort_index()"
   ]
  },
  {
   "cell_type": "markdown",
   "metadata": {},
   "source": [
    "### Simplify the stage column\n",
    "\n",
    "We will also simplify the \"Stage\" column."
   ]
  },
  {
   "cell_type": "code",
   "execution_count": 9,
   "metadata": {},
   "outputs": [
    {
     "data": {
      "text/plain": [
       "Stage IA       4\n",
       "Stage IIA     50\n",
       "Stage IIB     20\n",
       "Stage III      4\n",
       "Stage IIIA    22\n",
       "Stage IIIB     3\n",
       "Stage IIIC     4\n",
       "NaN           15\n",
       "Name: Stage, dtype: int64"
      ]
     },
     "execution_count": 9,
     "metadata": {},
     "output_type": "execute_result"
    }
   ],
   "source": [
    "brca[\"Stage\"].value_counts(dropna=False).sort_index()"
   ]
  },
  {
   "cell_type": "markdown",
   "metadata": {},
   "source": [
    "Because there are only 4 Stage I samples, we will group them with Stage II."
   ]
  },
  {
   "cell_type": "code",
   "execution_count": 10,
   "metadata": {},
   "outputs": [],
   "source": [
    "def simplify_stage_brca(row):\n",
    "    if pd.isna(row):\n",
    "        return row\n",
    "    elif row.startswith(\"Stage III\"):\n",
    "        return \"III\"\n",
    "    elif row.startswith(\"Stage II\"):\n",
    "        return \"I or II\"\n",
    "    elif row.startswith(\"Stage I\"):\n",
    "        return \"I or II\"\n",
    "    else:\n",
    "        return row\n",
    "    \n",
    "brca = brca.assign(Stage=brca[\"Stage\"].apply(simplify_stage_brca))"
   ]
  },
  {
   "cell_type": "code",
   "execution_count": 11,
   "metadata": {},
   "outputs": [
    {
     "data": {
      "text/plain": [
       "I or II    74\n",
       "III        33\n",
       "NaN        15\n",
       "Name: Stage, dtype: int64"
      ]
     },
     "execution_count": 11,
     "metadata": {},
     "output_type": "execute_result"
    }
   ],
   "source": [
    "brca[\"Stage\"].value_counts(dropna=False).sort_index()"
   ]
  },
  {
   "cell_type": "markdown",
   "metadata": {},
   "source": [
    "### Race column\n",
    "\n",
    "There aren't enough people in the hispanic.or.latino group to satisfy the requirements of the chi-squared test, so we have to drop the category."
   ]
  },
  {
   "cell_type": "code",
   "execution_count": 12,
   "metadata": {},
   "outputs": [
    {
     "data": {
      "text/plain": [
       "white                        78\n",
       "asian                        19\n",
       "black.or.african.american    14\n",
       "NaN                           7\n",
       "hispanic.or.latino            4\n",
       "Name: Race, dtype: int64"
      ]
     },
     "execution_count": 12,
     "metadata": {},
     "output_type": "execute_result"
    }
   ],
   "source": [
    "brca[\"Race\"].value_counts(dropna=False)"
   ]
  },
  {
   "cell_type": "code",
   "execution_count": 13,
   "metadata": {},
   "outputs": [],
   "source": [
    "brca[\"Race\"] = brca[\"Race\"].replace(\n",
    "    to_replace=\"hispanic.or.latino\",\n",
    "    value=np.nan\n",
    ")"
   ]
  },
  {
   "cell_type": "code",
   "execution_count": 14,
   "metadata": {},
   "outputs": [
    {
     "data": {
      "text/plain": [
       "white                        78\n",
       "asian                        19\n",
       "black.or.african.american    14\n",
       "NaN                          11\n",
       "Name: Race, dtype: int64"
      ]
     },
     "execution_count": 14,
     "metadata": {},
     "output_type": "execute_result"
    }
   ],
   "source": [
    "brca[\"Race\"].value_counts(dropna=False)"
   ]
  },
  {
   "cell_type": "markdown",
   "metadata": {},
   "source": [
    "### Run chi-squared tests\n",
    "Now we will run chi-squared tests to look for association between each variable and CNV events."
   ]
  },
  {
   "cell_type": "code",
   "execution_count": 15,
   "metadata": {},
   "outputs": [],
   "source": [
    "brca_cols = [\n",
    "    \"Age_group\",\n",
    "    \"Race\",\n",
    "    \"Stage\",\n",
    "    \"PAM50\",\n",
    "    \"NMF.v2.1\",\n",
    "]\n",
    "# Don't use gender because all female"
   ]
  },
  {
   "cell_type": "code",
   "execution_count": 16,
   "metadata": {
    "scrolled": false
   },
   "outputs": [
    {
     "data": {
      "text/html": [
       "<div>\n",
       "<style scoped>\n",
       "    .dataframe tbody tr th:only-of-type {\n",
       "        vertical-align: middle;\n",
       "    }\n",
       "\n",
       "    .dataframe tbody tr th {\n",
       "        vertical-align: top;\n",
       "    }\n",
       "\n",
       "    .dataframe thead th {\n",
       "        text-align: right;\n",
       "    }\n",
       "</style>\n",
       "<table border=\"1\" class=\"dataframe\">\n",
       "  <thead>\n",
       "    <tr style=\"text-align: right;\">\n",
       "      <th></th>\n",
       "      <th>pval</th>\n",
       "    </tr>\n",
       "  </thead>\n",
       "  <tbody>\n",
       "    <tr>\n",
       "      <th>Age_group</th>\n",
       "      <td>0.245893</td>\n",
       "    </tr>\n",
       "    <tr>\n",
       "      <th>Race</th>\n",
       "      <td>0.664741</td>\n",
       "    </tr>\n",
       "    <tr>\n",
       "      <th>Stage</th>\n",
       "      <td>0.973413</td>\n",
       "    </tr>\n",
       "    <tr>\n",
       "      <th>PAM50</th>\n",
       "      <td>0.668204</td>\n",
       "    </tr>\n",
       "    <tr>\n",
       "      <th>NMF.v2.1</th>\n",
       "      <td>0.937665</td>\n",
       "    </tr>\n",
       "  </tbody>\n",
       "</table>\n",
       "</div>"
      ],
      "text/plain": [
       "               pval\n",
       "Age_group  0.245893\n",
       "Race       0.664741\n",
       "Stage      0.973413\n",
       "PAM50      0.668204\n",
       "NMF.v2.1   0.937665"
      ]
     },
     "execution_count": 16,
     "metadata": {},
     "output_type": "execute_result"
    }
   ],
   "source": [
    "test_cnv_association(\n",
    "    df=brca,\n",
    "    test_cols=brca_cols,\n",
    "    cnv_col=\"8p_loss\"\n",
    ")"
   ]
  },
  {
   "cell_type": "code",
   "execution_count": 17,
   "metadata": {
    "scrolled": false
   },
   "outputs": [
    {
     "data": {
      "text/html": [
       "<div>\n",
       "<style scoped>\n",
       "    .dataframe tbody tr th:only-of-type {\n",
       "        vertical-align: middle;\n",
       "    }\n",
       "\n",
       "    .dataframe tbody tr th {\n",
       "        vertical-align: top;\n",
       "    }\n",
       "\n",
       "    .dataframe thead th {\n",
       "        text-align: right;\n",
       "    }\n",
       "</style>\n",
       "<table border=\"1\" class=\"dataframe\">\n",
       "  <thead>\n",
       "    <tr style=\"text-align: right;\">\n",
       "      <th></th>\n",
       "      <th>pval</th>\n",
       "    </tr>\n",
       "  </thead>\n",
       "  <tbody>\n",
       "    <tr>\n",
       "      <th>Age_group</th>\n",
       "      <td>0.837975</td>\n",
       "    </tr>\n",
       "    <tr>\n",
       "      <th>Race</th>\n",
       "      <td>0.223218</td>\n",
       "    </tr>\n",
       "    <tr>\n",
       "      <th>Stage</th>\n",
       "      <td>0.674630</td>\n",
       "    </tr>\n",
       "    <tr>\n",
       "      <th>PAM50</th>\n",
       "      <td>0.001121</td>\n",
       "    </tr>\n",
       "    <tr>\n",
       "      <th>NMF.v2.1</th>\n",
       "      <td>0.000461</td>\n",
       "    </tr>\n",
       "  </tbody>\n",
       "</table>\n",
       "</div>"
      ],
      "text/plain": [
       "               pval\n",
       "Age_group  0.837975\n",
       "Race       0.223218\n",
       "Stage      0.674630\n",
       "PAM50      0.001121\n",
       "NMF.v2.1   0.000461"
      ]
     },
     "execution_count": 17,
     "metadata": {},
     "output_type": "execute_result"
    }
   ],
   "source": [
    "test_cnv_association(\n",
    "    df=brca,\n",
    "    test_cols=brca_cols,\n",
    "    cnv_col=\"8q_gain\"\n",
    ")"
   ]
  },
  {
   "cell_type": "markdown",
   "metadata": {},
   "source": [
    "## Colon"
   ]
  },
  {
   "cell_type": "code",
   "execution_count": 18,
   "metadata": {
    "scrolled": true
   },
   "outputs": [
    {
     "name": "stdout",
     "output_type": "stream",
     "text": [
      "                                          \r"
     ]
    }
   ],
   "source": [
    "colon = load_tables(\"colon\")"
   ]
  },
  {
   "cell_type": "markdown",
   "metadata": {},
   "source": [
    "### Simplify the Age column"
   ]
  },
  {
   "cell_type": "code",
   "execution_count": 19,
   "metadata": {},
   "outputs": [],
   "source": [
    "colon = colon.assign(Age_years=colon[\"Age\"] // 12)\n",
    "colon = colon.assign(Age_group=(colon[\"Age_years\"] // 15) * 15)"
   ]
  },
  {
   "cell_type": "code",
   "execution_count": 20,
   "metadata": {},
   "outputs": [
    {
     "data": {
      "text/plain": [
       "30.0     4\n",
       "45.0    31\n",
       "60.0    48\n",
       "75.0    19\n",
       "90.0     1\n",
       "NaN      2\n",
       "Name: Age_group, dtype: int64"
      ]
     },
     "execution_count": 20,
     "metadata": {},
     "output_type": "execute_result"
    }
   ],
   "source": [
    "colon[\"Age_group\"].value_counts(dropna=False).sort_index()"
   ]
  },
  {
   "cell_type": "code",
   "execution_count": 21,
   "metadata": {},
   "outputs": [],
   "source": [
    "colon = colon.assign(\n",
    "    Age_group=colon[\"Age_group\"].where(cond=(colon[\"Age_group\"] < 75) | (pd.isnull(colon[\"Age\"])), other=75)\n",
    ")\n",
    "colon = colon.assign(\n",
    "    Age_group=colon[\"Age_group\"].where(cond=(colon[\"Age_group\"] > 45) | (pd.isnull(colon[\"Age\"])), other=30)\n",
    ")"
   ]
  },
  {
   "cell_type": "code",
   "execution_count": 22,
   "metadata": {},
   "outputs": [
    {
     "data": {
      "text/plain": [
       "30.0    35\n",
       "60.0    48\n",
       "75.0    20\n",
       "NaN      2\n",
       "Name: Age_group, dtype: int64"
      ]
     },
     "execution_count": 22,
     "metadata": {},
     "output_type": "execute_result"
    }
   ],
   "source": [
    "colon[\"Age_group\"].value_counts(dropna=False).sort_index()"
   ]
  },
  {
   "cell_type": "markdown",
   "metadata": {},
   "source": [
    "### Simplify the Stage column"
   ]
  },
  {
   "cell_type": "code",
   "execution_count": 23,
   "metadata": {},
   "outputs": [
    {
     "data": {
      "text/plain": [
       "Stage I      12\n",
       "Stage II     42\n",
       "Stage III    44\n",
       "Stage IV      7\n",
       "Name: Stage, dtype: int64"
      ]
     },
     "execution_count": 23,
     "metadata": {},
     "output_type": "execute_result"
    }
   ],
   "source": [
    "colon[\"Stage\"].value_counts(dropna=False).sort_index()"
   ]
  },
  {
   "cell_type": "code",
   "execution_count": 24,
   "metadata": {},
   "outputs": [],
   "source": [
    "colon = colon.assign(Stage=colon[\"Stage\"].where(colon[\"Stage\"] != \"Stage IV\", \"Stage III or IV\"))\n",
    "colon = colon.assign(\n",
    "    Stage=colon[\"Stage\"].where(colon[\"Stage\"] != \"Stage III\", \"Stage III or IV\")\n",
    ")"
   ]
  },
  {
   "cell_type": "code",
   "execution_count": 25,
   "metadata": {},
   "outputs": [
    {
     "data": {
      "text/plain": [
       "Stage I            12\n",
       "Stage II           42\n",
       "Stage III or IV    51\n",
       "Name: Stage, dtype: int64"
      ]
     },
     "execution_count": 25,
     "metadata": {},
     "output_type": "execute_result"
    }
   ],
   "source": [
    "colon[\"Stage\"].value_counts(dropna=False).sort_index()"
   ]
  },
  {
   "cell_type": "markdown",
   "metadata": {},
   "source": [
    "### Run chi-squared tests"
   ]
  },
  {
   "cell_type": "code",
   "execution_count": 26,
   "metadata": {},
   "outputs": [],
   "source": [
    "colon_cols = [\n",
    "    \"Age_group\",\n",
    "    \"Gender\",\n",
    "    \"Stage\",\n",
    "    \"Mucinous\"\n",
    "]"
   ]
  },
  {
   "cell_type": "code",
   "execution_count": 27,
   "metadata": {},
   "outputs": [
    {
     "data": {
      "text/html": [
       "<div>\n",
       "<style scoped>\n",
       "    .dataframe tbody tr th:only-of-type {\n",
       "        vertical-align: middle;\n",
       "    }\n",
       "\n",
       "    .dataframe tbody tr th {\n",
       "        vertical-align: top;\n",
       "    }\n",
       "\n",
       "    .dataframe thead th {\n",
       "        text-align: right;\n",
       "    }\n",
       "</style>\n",
       "<table border=\"1\" class=\"dataframe\">\n",
       "  <thead>\n",
       "    <tr style=\"text-align: right;\">\n",
       "      <th></th>\n",
       "      <th>pval</th>\n",
       "    </tr>\n",
       "  </thead>\n",
       "  <tbody>\n",
       "    <tr>\n",
       "      <th>Age_group</th>\n",
       "      <td>0.044830</td>\n",
       "    </tr>\n",
       "    <tr>\n",
       "      <th>Gender</th>\n",
       "      <td>0.299017</td>\n",
       "    </tr>\n",
       "    <tr>\n",
       "      <th>Stage</th>\n",
       "      <td>0.249238</td>\n",
       "    </tr>\n",
       "    <tr>\n",
       "      <th>Mucinous</th>\n",
       "      <td>0.230789</td>\n",
       "    </tr>\n",
       "  </tbody>\n",
       "</table>\n",
       "</div>"
      ],
      "text/plain": [
       "               pval\n",
       "Age_group  0.044830\n",
       "Gender     0.299017\n",
       "Stage      0.249238\n",
       "Mucinous   0.230789"
      ]
     },
     "execution_count": 27,
     "metadata": {},
     "output_type": "execute_result"
    }
   ],
   "source": [
    "test_cnv_association(\n",
    "    df=colon,\n",
    "    test_cols=colon_cols,\n",
    "    cnv_col=\"8p_loss\"\n",
    ")"
   ]
  },
  {
   "cell_type": "code",
   "execution_count": 28,
   "metadata": {},
   "outputs": [
    {
     "data": {
      "text/html": [
       "<div>\n",
       "<style scoped>\n",
       "    .dataframe tbody tr th:only-of-type {\n",
       "        vertical-align: middle;\n",
       "    }\n",
       "\n",
       "    .dataframe tbody tr th {\n",
       "        vertical-align: top;\n",
       "    }\n",
       "\n",
       "    .dataframe thead th {\n",
       "        text-align: right;\n",
       "    }\n",
       "</style>\n",
       "<table border=\"1\" class=\"dataframe\">\n",
       "  <thead>\n",
       "    <tr style=\"text-align: right;\">\n",
       "      <th></th>\n",
       "      <th>pval</th>\n",
       "    </tr>\n",
       "  </thead>\n",
       "  <tbody>\n",
       "    <tr>\n",
       "      <th>Age_group</th>\n",
       "      <td>0.815270</td>\n",
       "    </tr>\n",
       "    <tr>\n",
       "      <th>Gender</th>\n",
       "      <td>0.765412</td>\n",
       "    </tr>\n",
       "    <tr>\n",
       "      <th>Stage</th>\n",
       "      <td>0.677828</td>\n",
       "    </tr>\n",
       "    <tr>\n",
       "      <th>Mucinous</th>\n",
       "      <td>0.626902</td>\n",
       "    </tr>\n",
       "  </tbody>\n",
       "</table>\n",
       "</div>"
      ],
      "text/plain": [
       "               pval\n",
       "Age_group  0.815270\n",
       "Gender     0.765412\n",
       "Stage      0.677828\n",
       "Mucinous   0.626902"
      ]
     },
     "execution_count": 28,
     "metadata": {},
     "output_type": "execute_result"
    }
   ],
   "source": [
    "test_cnv_association(\n",
    "    df=colon,\n",
    "    test_cols=colon_cols,\n",
    "    cnv_col=\"8q_gain\"\n",
    ")"
   ]
  },
  {
   "cell_type": "markdown",
   "metadata": {},
   "source": [
    "## HNSCC"
   ]
  },
  {
   "cell_type": "code",
   "execution_count": 29,
   "metadata": {},
   "outputs": [
    {
     "name": "stdout",
     "output_type": "stream",
     "text": [
      "                                          \r"
     ]
    },
    {
     "name": "stderr",
     "output_type": "stream",
     "text": [
      "cptac warning: The HNSCC data is currently strictly reserved for CPTAC investigators. Otherwise, you are not authorized to access these data. Additionally, even after these data become publicly available, they will be subject to a publication embargo (see https://proteomics.cancer.gov/data-portal/about/data-use-agreement or enter cptac.embargo() to open the webpage for more details). (/home/caleb/anaconda3/envs/dev/lib/python3.7/site-packages/ipykernel_launcher.py, line 4)\n"
     ]
    }
   ],
   "source": [
    "hnscc = load_tables(\"hnscc\")"
   ]
  },
  {
   "cell_type": "markdown",
   "metadata": {},
   "source": [
    "### Group ages"
   ]
  },
  {
   "cell_type": "code",
   "execution_count": 30,
   "metadata": {},
   "outputs": [],
   "source": [
    "hnscc = hnscc.assign(Age_group=(hnscc[\"age\"] // 10) * 10)"
   ]
  },
  {
   "cell_type": "code",
   "execution_count": 31,
   "metadata": {},
   "outputs": [
    {
     "data": {
      "text/plain": [
       "20.0     1\n",
       "40.0     5\n",
       "50.0    37\n",
       "60.0    48\n",
       "70.0    14\n",
       "80.0     3\n",
       "NaN      1\n",
       "Name: Age_group, dtype: int64"
      ]
     },
     "execution_count": 31,
     "metadata": {},
     "output_type": "execute_result"
    }
   ],
   "source": [
    "hnscc[\"Age_group\"].value_counts(dropna=False).sort_index()"
   ]
  },
  {
   "cell_type": "code",
   "execution_count": 32,
   "metadata": {},
   "outputs": [],
   "source": [
    "hnscc = hnscc.assign(\n",
    "    Age_group=hnscc[\"Age_group\"].where(cond=(hnscc[\"Age_group\"] < 70) | (pd.isnull(hnscc[\"age\"])), other=70)\n",
    ")\n",
    "hnscc = hnscc.assign(\n",
    "    Age_group=hnscc[\"Age_group\"].where(cond=(hnscc[\"Age_group\"] > 50) | (pd.isnull(hnscc[\"age\"])), other=50)\n",
    ")"
   ]
  },
  {
   "cell_type": "code",
   "execution_count": 33,
   "metadata": {},
   "outputs": [
    {
     "data": {
      "text/plain": [
       "50.0    43\n",
       "60.0    48\n",
       "70.0    17\n",
       "NaN      1\n",
       "Name: Age_group, dtype: int64"
      ]
     },
     "execution_count": 33,
     "metadata": {},
     "output_type": "execute_result"
    }
   ],
   "source": [
    "hnscc[\"Age_group\"].value_counts(dropna=False).sort_index()"
   ]
  },
  {
   "cell_type": "markdown",
   "metadata": {},
   "source": [
    "### Simplify alcohol consumption column\n",
    "\n",
    "We are going to combine the past drinker group with the current but less group.\n",
    "\n",
    "Also replace the history not available group with NaN."
   ]
  },
  {
   "cell_type": "code",
   "execution_count": 34,
   "metadata": {},
   "outputs": [
    {
     "data": {
      "text/plain": [
       "Alcohol consumption equal to or less than 2 drinks per day for men and 1 drink or less per day for women    44\n",
       "Alcohol consumption history not available                                                                   23\n",
       "Lifelong non-drinker                                                                                        21\n",
       "Alcohol consumption more than 2 drinks per day for men and more than 1 drink per day for women              11\n",
       "NaN                                                                                                          7\n",
       "Consumed alcohol in the past, but currently a non-drinker                                                    3\n",
       "Name: alcohol_consum, dtype: int64"
      ]
     },
     "execution_count": 34,
     "metadata": {},
     "output_type": "execute_result"
    }
   ],
   "source": [
    "hnscc[\"alcohol_consum\"].value_counts(dropna=False)"
   ]
  },
  {
   "cell_type": "code",
   "execution_count": 35,
   "metadata": {},
   "outputs": [],
   "source": [
    "hnscc[\"alcohol_consum\"] = hnscc[\"alcohol_consum\"].replace(\n",
    "    to_replace=\"Consumed alcohol in the past, but currently a non-drinker\",\n",
    "    value=\"Alcohol consumption equal to or less than 2 drinks per day for men and 1 drink or less per day for women\"\n",
    ").replace(\n",
    "    to_replace=\"Alcohol consumption history not available\",\n",
    "    value=np.nan\n",
    ")"
   ]
  },
  {
   "cell_type": "code",
   "execution_count": 36,
   "metadata": {},
   "outputs": [
    {
     "data": {
      "text/plain": [
       "Alcohol consumption equal to or less than 2 drinks per day for men and 1 drink or less per day for women    47\n",
       "NaN                                                                                                         30\n",
       "Lifelong non-drinker                                                                                        21\n",
       "Alcohol consumption more than 2 drinks per day for men and more than 1 drink per day for women              11\n",
       "Name: alcohol_consum, dtype: int64"
      ]
     },
     "execution_count": 36,
     "metadata": {},
     "output_type": "execute_result"
    }
   ],
   "source": [
    "hnscc[\"alcohol_consum\"].value_counts(dropna=False)"
   ]
  },
  {
   "cell_type": "markdown",
   "metadata": {},
   "source": [
    "### Simplify smoking history column\n",
    "\n",
    "Combine all the \"current reformed\" groups and set the \"history not available\" group to NaN."
   ]
  },
  {
   "cell_type": "code",
   "execution_count": 37,
   "metadata": {},
   "outputs": [
    {
     "data": {
      "text/plain": [
       "Current smoker: Includes daily and non-daily smokers                38\n",
       "Lifelong non-smoker: Less than 100 cigarettes smoked in lifetime    21\n",
       "Smoking history not available                                       21\n",
       "Current reformed smoker within past 15 years                        14\n",
       "Current reformed smoker, more than 15 years                         10\n",
       "Current reformed smoker, years unknown                               4\n",
       "NaN                                                                  1\n",
       "Name: smoking_history, dtype: int64"
      ]
     },
     "execution_count": 37,
     "metadata": {},
     "output_type": "execute_result"
    }
   ],
   "source": [
    "hnscc[\"smoking_history\"].value_counts(dropna=False)"
   ]
  },
  {
   "cell_type": "code",
   "execution_count": 38,
   "metadata": {},
   "outputs": [],
   "source": [
    "hnscc[\"smoking_history\"] = hnscc[\"smoking_history\"].replace(\n",
    "    to_replace=\"Smoking history not available\",\n",
    "    value=np.nan\n",
    ").replace(\n",
    "    to_replace=[\n",
    "        \"Current reformed smoker, years unknown\", \n",
    "        \"Current reformed smoker within past 15 years\",\n",
    "        \"Current reformed smoker, more than 15 years\"\n",
    "    ],\n",
    "    value=\"Current reformed smoker\"\n",
    ")"
   ]
  },
  {
   "cell_type": "code",
   "execution_count": 39,
   "metadata": {},
   "outputs": [
    {
     "data": {
      "text/plain": [
       "Current smoker: Includes daily and non-daily smokers                38\n",
       "Current reformed smoker                                             28\n",
       "NaN                                                                 22\n",
       "Lifelong non-smoker: Less than 100 cigarettes smoked in lifetime    21\n",
       "Name: smoking_history, dtype: int64"
      ]
     },
     "execution_count": 39,
     "metadata": {},
     "output_type": "execute_result"
    }
   ],
   "source": [
    "hnscc[\"smoking_history\"].value_counts(dropna=False)"
   ]
  },
  {
   "cell_type": "markdown",
   "metadata": {},
   "source": [
    "### Simplify tumor site column\n",
    "\n",
    "Combine the two pharynx categories, and put lip with Oral cavity."
   ]
  },
  {
   "cell_type": "code",
   "execution_count": 40,
   "metadata": {},
   "outputs": [
    {
     "data": {
      "text/plain": [
       "Oral cavity    49\n",
       "Larynx         47\n",
       "Oropharynx      6\n",
       "Lip             4\n",
       "Hypopharynx     2\n",
       "NaN             1\n",
       "Name: tumor_site_curated, dtype: int64"
      ]
     },
     "execution_count": 40,
     "metadata": {},
     "output_type": "execute_result"
    }
   ],
   "source": [
    "hnscc[\"tumor_site_curated\"].value_counts(dropna=False)"
   ]
  },
  {
   "cell_type": "code",
   "execution_count": 41,
   "metadata": {},
   "outputs": [],
   "source": [
    "hnscc[\"tumor_site_curated\"] = hnscc[\"tumor_site_curated\"].replace(\n",
    "    to_replace=[\"Oropharynx\", \"Hypopharynx\"],\n",
    "    value=\"Pharynx\"\n",
    ").replace(\n",
    "    to_replace=\"Lip\",\n",
    "    value=\"Oral cavity\"\n",
    ")"
   ]
  },
  {
   "cell_type": "code",
   "execution_count": 42,
   "metadata": {},
   "outputs": [
    {
     "data": {
      "text/plain": [
       "Oral cavity    53\n",
       "Larynx         47\n",
       "Pharynx         8\n",
       "NaN             1\n",
       "Name: tumor_site_curated, dtype: int64"
      ]
     },
     "execution_count": 42,
     "metadata": {},
     "output_type": "execute_result"
    }
   ],
   "source": [
    "hnscc[\"tumor_site_curated\"].value_counts(dropna=False)"
   ]
  },
  {
   "cell_type": "markdown",
   "metadata": {},
   "source": [
    "### Simplify stage column\n",
    "\n",
    "Combine stage I and stage II groups"
   ]
  },
  {
   "cell_type": "code",
   "execution_count": 43,
   "metadata": {},
   "outputs": [
    {
     "data": {
      "text/plain": [
       "Stage IV     45\n",
       "Stage III    32\n",
       "Stage II     24\n",
       "Stage I       7\n",
       "NaN           1\n",
       "Name: patho_staging_curated, dtype: int64"
      ]
     },
     "execution_count": 43,
     "metadata": {},
     "output_type": "execute_result"
    }
   ],
   "source": [
    "hnscc[\"patho_staging_curated\"].value_counts(dropna=False)"
   ]
  },
  {
   "cell_type": "code",
   "execution_count": 44,
   "metadata": {},
   "outputs": [],
   "source": [
    "hnscc[\"patho_staging_curated\"] = hnscc[\"patho_staging_curated\"].replace(\n",
    "    to_replace=[\"Stage I\", \"Stage II\"],\n",
    "    value=\"Stage I/II\"\n",
    ")"
   ]
  },
  {
   "cell_type": "code",
   "execution_count": 45,
   "metadata": {},
   "outputs": [
    {
     "data": {
      "text/plain": [
       "Stage IV      45\n",
       "Stage III     32\n",
       "Stage I/II    31\n",
       "NaN            1\n",
       "Name: patho_staging_curated, dtype: int64"
      ]
     },
     "execution_count": 45,
     "metadata": {},
     "output_type": "execute_result"
    }
   ],
   "source": [
    "hnscc[\"patho_staging_curated\"].value_counts(dropna=False)"
   ]
  },
  {
   "cell_type": "markdown",
   "metadata": {},
   "source": [
    "### Run chi-squared tests"
   ]
  },
  {
   "cell_type": "code",
   "execution_count": 46,
   "metadata": {},
   "outputs": [],
   "source": [
    "hnscc_cols = [\n",
    "    \"Age_group\",\n",
    "    \"alcohol_consum\",\n",
    "#     \"gender\", # There are only 14 women and 94 men. Chi square assumption not met: More than 20% of groups had expected frequency < 5.\n",
    "    \"histologic_grade\",\n",
    "#     \"histologic_type\", # 97 out of 104 are all \"Squamous cell carcinoma, conventional\"\n",
    "    \"patho_staging_curated\",\n",
    "    \"smoking_history\",\n",
    "    \"tumor_site_curated\"\n",
    "]"
   ]
  },
  {
   "cell_type": "code",
   "execution_count": 47,
   "metadata": {},
   "outputs": [
    {
     "data": {
      "text/html": [
       "<div>\n",
       "<style scoped>\n",
       "    .dataframe tbody tr th:only-of-type {\n",
       "        vertical-align: middle;\n",
       "    }\n",
       "\n",
       "    .dataframe tbody tr th {\n",
       "        vertical-align: top;\n",
       "    }\n",
       "\n",
       "    .dataframe thead th {\n",
       "        text-align: right;\n",
       "    }\n",
       "</style>\n",
       "<table border=\"1\" class=\"dataframe\">\n",
       "  <thead>\n",
       "    <tr style=\"text-align: right;\">\n",
       "      <th></th>\n",
       "      <th>pval</th>\n",
       "    </tr>\n",
       "  </thead>\n",
       "  <tbody>\n",
       "    <tr>\n",
       "      <th>Age_group</th>\n",
       "      <td>0.611143</td>\n",
       "    </tr>\n",
       "    <tr>\n",
       "      <th>alcohol_consum</th>\n",
       "      <td>0.565015</td>\n",
       "    </tr>\n",
       "    <tr>\n",
       "      <th>histologic_grade</th>\n",
       "      <td>0.320023</td>\n",
       "    </tr>\n",
       "    <tr>\n",
       "      <th>patho_staging_curated</th>\n",
       "      <td>0.053354</td>\n",
       "    </tr>\n",
       "    <tr>\n",
       "      <th>smoking_history</th>\n",
       "      <td>0.294374</td>\n",
       "    </tr>\n",
       "    <tr>\n",
       "      <th>tumor_site_curated</th>\n",
       "      <td>0.563740</td>\n",
       "    </tr>\n",
       "  </tbody>\n",
       "</table>\n",
       "</div>"
      ],
      "text/plain": [
       "                           pval\n",
       "Age_group              0.611143\n",
       "alcohol_consum         0.565015\n",
       "histologic_grade       0.320023\n",
       "patho_staging_curated  0.053354\n",
       "smoking_history        0.294374\n",
       "tumor_site_curated     0.563740"
      ]
     },
     "execution_count": 47,
     "metadata": {},
     "output_type": "execute_result"
    }
   ],
   "source": [
    "test_cnv_association(\n",
    "    df=hnscc,\n",
    "    test_cols=hnscc_cols,\n",
    "    cnv_col=\"8p_loss\"\n",
    ")"
   ]
  },
  {
   "cell_type": "code",
   "execution_count": 48,
   "metadata": {},
   "outputs": [
    {
     "data": {
      "text/html": [
       "<div>\n",
       "<style scoped>\n",
       "    .dataframe tbody tr th:only-of-type {\n",
       "        vertical-align: middle;\n",
       "    }\n",
       "\n",
       "    .dataframe tbody tr th {\n",
       "        vertical-align: top;\n",
       "    }\n",
       "\n",
       "    .dataframe thead th {\n",
       "        text-align: right;\n",
       "    }\n",
       "</style>\n",
       "<table border=\"1\" class=\"dataframe\">\n",
       "  <thead>\n",
       "    <tr style=\"text-align: right;\">\n",
       "      <th></th>\n",
       "      <th>pval</th>\n",
       "    </tr>\n",
       "  </thead>\n",
       "  <tbody>\n",
       "    <tr>\n",
       "      <th>Age_group</th>\n",
       "      <td>0.104835</td>\n",
       "    </tr>\n",
       "    <tr>\n",
       "      <th>alcohol_consum</th>\n",
       "      <td>0.266480</td>\n",
       "    </tr>\n",
       "    <tr>\n",
       "      <th>histologic_grade</th>\n",
       "      <td>0.930855</td>\n",
       "    </tr>\n",
       "    <tr>\n",
       "      <th>patho_staging_curated</th>\n",
       "      <td>0.272547</td>\n",
       "    </tr>\n",
       "    <tr>\n",
       "      <th>smoking_history</th>\n",
       "      <td>0.078895</td>\n",
       "    </tr>\n",
       "    <tr>\n",
       "      <th>tumor_site_curated</th>\n",
       "      <td>0.739403</td>\n",
       "    </tr>\n",
       "  </tbody>\n",
       "</table>\n",
       "</div>"
      ],
      "text/plain": [
       "                           pval\n",
       "Age_group              0.104835\n",
       "alcohol_consum         0.266480\n",
       "histologic_grade       0.930855\n",
       "patho_staging_curated  0.272547\n",
       "smoking_history        0.078895\n",
       "tumor_site_curated     0.739403"
      ]
     },
     "execution_count": 48,
     "metadata": {},
     "output_type": "execute_result"
    }
   ],
   "source": [
    "test_cnv_association(\n",
    "    df=hnscc,\n",
    "    test_cols=hnscc_cols,\n",
    "    cnv_col=\"8q_gain\"\n",
    ")"
   ]
  },
  {
   "cell_type": "markdown",
   "metadata": {},
   "source": [
    "## LSCC"
   ]
  },
  {
   "cell_type": "code",
   "execution_count": 49,
   "metadata": {},
   "outputs": [
    {
     "name": "stdout",
     "output_type": "stream",
     "text": [
      "                                         \r"
     ]
    },
    {
     "name": "stderr",
     "output_type": "stream",
     "text": [
      "cptac warning: The LSCC data is currently strictly reserved for CPTAC investigators. Otherwise, you are not authorized to access these data. Additionally, even after these data become publicly available, they will be subject to a publication embargo (see https://proteomics.cancer.gov/data-portal/about/data-use-agreement or enter cptac.embargo() to open the webpage for more details). (/home/caleb/anaconda3/envs/dev/lib/python3.7/site-packages/ipykernel_launcher.py, line 4)\n"
     ]
    }
   ],
   "source": [
    "lscc = load_tables(\"lscc\")"
   ]
  },
  {
   "cell_type": "code",
   "execution_count": 50,
   "metadata": {},
   "outputs": [],
   "source": [
    "lscc[\"Age\"] = lscc[\"Age\"].astype(int)"
   ]
  },
  {
   "cell_type": "markdown",
   "metadata": {},
   "source": [
    "### Group ages"
   ]
  },
  {
   "cell_type": "code",
   "execution_count": 51,
   "metadata": {},
   "outputs": [],
   "source": [
    "lscc = lscc.assign(Age_group=(lscc[\"Age\"] // 10) * 10)"
   ]
  },
  {
   "cell_type": "code",
   "execution_count": 52,
   "metadata": {},
   "outputs": [
    {
     "data": {
      "text/plain": [
       "40     5\n",
       "50    18\n",
       "60    46\n",
       "70    37\n",
       "80     2\n",
       "Name: Age_group, dtype: int64"
      ]
     },
     "execution_count": 52,
     "metadata": {},
     "output_type": "execute_result"
    }
   ],
   "source": [
    "lscc[\"Age_group\"].value_counts(dropna=False).sort_index()"
   ]
  },
  {
   "cell_type": "code",
   "execution_count": 53,
   "metadata": {},
   "outputs": [],
   "source": [
    "lscc = lscc.assign(\n",
    "    Age_group=lscc[\"Age_group\"].where(cond=(lscc[\"Age_group\"] < 70) | (pd.isnull(lscc[\"Age\"])), other=70)\n",
    ")\n",
    "lscc = lscc.assign(\n",
    "    Age_group=lscc[\"Age_group\"].where(cond=(lscc[\"Age_group\"] > 50) | (pd.isnull(lscc[\"Age\"])), other=50)\n",
    ")"
   ]
  },
  {
   "cell_type": "code",
   "execution_count": 54,
   "metadata": {},
   "outputs": [
    {
     "data": {
      "text/plain": [
       "50    23\n",
       "60    46\n",
       "70    39\n",
       "Name: Age_group, dtype: int64"
      ]
     },
     "execution_count": 54,
     "metadata": {},
     "output_type": "execute_result"
    }
   ],
   "source": [
    "lscc[\"Age_group\"].value_counts(dropna=False).sort_index()"
   ]
  },
  {
   "cell_type": "markdown",
   "metadata": {},
   "source": [
    "### Simplify the Stage column"
   ]
  },
  {
   "cell_type": "code",
   "execution_count": 55,
   "metadata": {},
   "outputs": [
    {
     "data": {
      "text/plain": [
       "I        3\n",
       "IA      12\n",
       "IB      22\n",
       "II       2\n",
       "IIA     22\n",
       "IIB     20\n",
       "III      2\n",
       "IIIA    17\n",
       "IIIB     2\n",
       "IV       1\n",
       "NaN      5\n",
       "Name: Stage, dtype: int64"
      ]
     },
     "execution_count": 55,
     "metadata": {},
     "output_type": "execute_result"
    }
   ],
   "source": [
    "lscc[\"Stage\"].value_counts(dropna=False).sort_index()"
   ]
  },
  {
   "cell_type": "code",
   "execution_count": 56,
   "metadata": {},
   "outputs": [],
   "source": [
    "def simplify_stage_lscc(row):\n",
    "    if pd.isna(row):\n",
    "        return row\n",
    "    elif row.startswith(\"IV\"):\n",
    "        return \"III or IV\"\n",
    "    elif row.startswith(\"III\"):\n",
    "        return \"III or IV\"\n",
    "    elif row.startswith(\"II\"):\n",
    "        return \"II\"\n",
    "    elif row.startswith(\"I\"):\n",
    "        return \"I\"\n",
    "    else:\n",
    "        return row\n",
    "    \n",
    "lscc = lscc.assign(Stage=lscc[\"Stage\"].apply(simplify_stage_lscc))"
   ]
  },
  {
   "cell_type": "code",
   "execution_count": 57,
   "metadata": {},
   "outputs": [
    {
     "data": {
      "text/plain": [
       "I            37\n",
       "II           44\n",
       "III or IV    22\n",
       "NaN           5\n",
       "Name: Stage, dtype: int64"
      ]
     },
     "execution_count": 57,
     "metadata": {},
     "output_type": "execute_result"
    }
   ],
   "source": [
    "lscc[\"Stage\"].value_counts(dropna=False).sort_index()"
   ]
  },
  {
   "cell_type": "markdown",
   "metadata": {},
   "source": [
    "### Ethnicity column\n",
    "\n",
    "Mark the \"not collected\" group as NaN. Combine the Asian and Han groups, and \"caucasian\" and \"white(caucasian)\". We'll have to drop the other categories, because we don't have enough patients in them."
   ]
  },
  {
   "cell_type": "code",
   "execution_count": 58,
   "metadata": {},
   "outputs": [
    {
     "data": {
      "text/plain": [
       "asian                               6\n",
       "black                               1\n",
       "caucasian                          68\n",
       "han                                17\n",
       "slavic                              9\n",
       "tssdidnotcollectthisinformation     1\n",
       "white(caucasian)                    3\n",
       "NaN                                 3\n",
       "Name: Ethnicity, dtype: int64"
      ]
     },
     "execution_count": 58,
     "metadata": {},
     "output_type": "execute_result"
    }
   ],
   "source": [
    "lscc[\"Ethnicity\"].value_counts(dropna=False).sort_index()"
   ]
  },
  {
   "cell_type": "code",
   "execution_count": 59,
   "metadata": {},
   "outputs": [],
   "source": [
    "lscc[\"Ethnicity\"] = lscc[\"Ethnicity\"].replace(\n",
    "    to_replace=[\"tssdidnotcollectthisinformation\", \"black\", \"slavic\"],\n",
    "    value=np.nan\n",
    ").replace(\n",
    "    to_replace=\"han\",\n",
    "    value=\"asian\"\n",
    ").replace(\n",
    "    to_replace=[\"caucasian\", \"white(caucasian)\"],\n",
    "    value=\"white\"\n",
    ")"
   ]
  },
  {
   "cell_type": "code",
   "execution_count": 60,
   "metadata": {},
   "outputs": [
    {
     "data": {
      "text/plain": [
       "asian    23\n",
       "white    71\n",
       "NaN      14\n",
       "Name: Ethnicity, dtype: int64"
      ]
     },
     "execution_count": 60,
     "metadata": {},
     "output_type": "execute_result"
    }
   ],
   "source": [
    "lscc[\"Ethnicity\"].value_counts(dropna=False).sort_index()"
   ]
  },
  {
   "cell_type": "markdown",
   "metadata": {},
   "source": [
    "### Country.of.Origin column\n",
    "\n",
    "Combine by region--North America, Asian, or Eurasia."
   ]
  },
  {
   "cell_type": "code",
   "execution_count": 61,
   "metadata": {},
   "outputs": [
    {
     "data": {
      "text/plain": [
       "bulgaria    25\n",
       "china       17\n",
       "other        2\n",
       "poland      14\n",
       "russia       2\n",
       "ukraine     10\n",
       "usa         32\n",
       "vietnam      6\n",
       "Name: Country.of.Origin, dtype: int64"
      ]
     },
     "execution_count": 61,
     "metadata": {},
     "output_type": "execute_result"
    }
   ],
   "source": [
    "lscc[\"Country.of.Origin\"].value_counts(dropna=False).sort_index()"
   ]
  },
  {
   "cell_type": "code",
   "execution_count": 62,
   "metadata": {},
   "outputs": [],
   "source": [
    "lscc[\"Country.of.Origin\"] = lscc[\"Country.of.Origin\"].replace(\n",
    "    to_replace=\"usa\",\n",
    "    value=\"North America\"\n",
    ").replace(\n",
    "    to_replace=[\"bulgaria\", \"poland\", \"russia\", \"ukraine\"],\n",
    "    value=\"Eurasia\"\n",
    ").replace(\n",
    "    to_replace=[\"china\", \"vietnam\"],\n",
    "    value=\"Asia\"\n",
    ").replace(\n",
    "    to_replace=\"other\",\n",
    "    value=np.nan\n",
    ")"
   ]
  },
  {
   "cell_type": "code",
   "execution_count": 63,
   "metadata": {},
   "outputs": [
    {
     "data": {
      "text/plain": [
       "Asia             23\n",
       "Eurasia          51\n",
       "North America    32\n",
       "NaN               2\n",
       "Name: Country.of.Origin, dtype: int64"
      ]
     },
     "execution_count": 63,
     "metadata": {},
     "output_type": "execute_result"
    }
   ],
   "source": [
    "lscc[\"Country.of.Origin\"].value_counts(dropna=False).sort_index()"
   ]
  },
  {
   "cell_type": "markdown",
   "metadata": {},
   "source": [
    "### Simplify Smoking.History column\n",
    "\n",
    "Mark the \"not available\" and \"reformed years unknown\" groups as NaN."
   ]
  },
  {
   "cell_type": "code",
   "execution_count": 64,
   "metadata": {},
   "outputs": [
    {
     "data": {
      "text/plain": [
       "Current reformed smoker within past 15 years                        28\n",
       "Current reformed smoker, more than 15 years                         17\n",
       "Current reformed smoker, years unknown                               1\n",
       "Current smoker: Includes daily and non-daily smokers                34\n",
       "Lifelong non-smoker: Less than 100 cigarettes smoked in lifetime    16\n",
       "Smoking history not available                                        7\n",
       "NaN                                                                  5\n",
       "Name: Smoking.History, dtype: int64"
      ]
     },
     "execution_count": 64,
     "metadata": {},
     "output_type": "execute_result"
    }
   ],
   "source": [
    "lscc[\"Smoking.History\"].value_counts(dropna=False).sort_index()"
   ]
  },
  {
   "cell_type": "code",
   "execution_count": 65,
   "metadata": {},
   "outputs": [],
   "source": [
    "lscc[\"Smoking.History\"] = lscc[\"Smoking.History\"].replace(\n",
    "    to_replace=[\n",
    "        \"Current reformed smoker, years unknown\",\n",
    "        \"Smoking history not available\",\n",
    "    ], \n",
    "    value=np.nan\n",
    ")"
   ]
  },
  {
   "cell_type": "code",
   "execution_count": 66,
   "metadata": {},
   "outputs": [
    {
     "data": {
      "text/plain": [
       "Current reformed smoker within past 15 years                        28\n",
       "Current reformed smoker, more than 15 years                         17\n",
       "Current smoker: Includes daily and non-daily smokers                34\n",
       "Lifelong non-smoker: Less than 100 cigarettes smoked in lifetime    16\n",
       "NaN                                                                 13\n",
       "Name: Smoking.History, dtype: int64"
      ]
     },
     "execution_count": 66,
     "metadata": {},
     "output_type": "execute_result"
    }
   ],
   "source": [
    "lscc[\"Smoking.History\"].value_counts(dropna=False).sort_index()"
   ]
  },
  {
   "cell_type": "markdown",
   "metadata": {},
   "source": [
    "### Cigarettes.per.Day column"
   ]
  },
  {
   "cell_type": "code",
   "execution_count": 67,
   "metadata": {},
   "outputs": [
    {
     "data": {
      "text/plain": [
       "0           1\n",
       "1           1\n",
       "10          4\n",
       "15          1\n",
       "20         37\n",
       "25          1\n",
       "3           1\n",
       "30         11\n",
       "35          1\n",
       "40         13\n",
       "5           2\n",
       "50          1\n",
       "Unknown     6\n",
       "NaN        28\n",
       "Name: Cigarettes.per.Day, dtype: int64"
      ]
     },
     "execution_count": 67,
     "metadata": {},
     "output_type": "execute_result"
    }
   ],
   "source": [
    "lscc[\"Cigarettes.per.Day\"].value_counts(dropna=False).sort_index()"
   ]
  },
  {
   "cell_type": "code",
   "execution_count": 68,
   "metadata": {},
   "outputs": [],
   "source": [
    "lscc[\"Cigarettes.per.Day\"] = lscc[\"Cigarettes.per.Day\"].replace(\n",
    "    to_replace=\"Unknown\",\n",
    "    value=np.nan\n",
    ").astype(float)\n",
    "\n",
    "lscc = lscc.assign(**{\"Cigarettes.per.Day\": (lscc[\"Cigarettes.per.Day\"] // 10) * 10})"
   ]
  },
  {
   "cell_type": "code",
   "execution_count": 69,
   "metadata": {},
   "outputs": [
    {
     "data": {
      "text/plain": [
       "0.0      5\n",
       "10.0     5\n",
       "20.0    38\n",
       "30.0    12\n",
       "40.0    13\n",
       "50.0     1\n",
       "NaN     34\n",
       "Name: Cigarettes.per.Day, dtype: int64"
      ]
     },
     "execution_count": 69,
     "metadata": {},
     "output_type": "execute_result"
    }
   ],
   "source": [
    "lscc[\"Cigarettes.per.Day\"].value_counts(dropna=False).sort_index()"
   ]
  },
  {
   "cell_type": "code",
   "execution_count": 70,
   "metadata": {},
   "outputs": [],
   "source": [
    "lscc = lscc.assign(**{\n",
    "    \"Cigarettes.per.Day\": lscc[\"Cigarettes.per.Day\"].where(\n",
    "        cond=(lscc[\"Cigarettes.per.Day\"] < 40) | (pd.isnull(lscc[\"Cigarettes.per.Day\"])), other=40\n",
    "    )\n",
    "})\n",
    "lscc = lscc.assign(**{\n",
    "    \"Cigarettes.per.Day\": lscc[\"Cigarettes.per.Day\"].where(\n",
    "        cond=(lscc[\"Cigarettes.per.Day\"] > 20) | (pd.isnull(lscc[\"Cigarettes.per.Day\"])), other=20\n",
    "    )\n",
    "})"
   ]
  },
  {
   "cell_type": "code",
   "execution_count": 71,
   "metadata": {},
   "outputs": [
    {
     "data": {
      "text/plain": [
       "20.0    48\n",
       "30.0    12\n",
       "40.0    14\n",
       "NaN     34\n",
       "Name: Cigarettes.per.Day, dtype: int64"
      ]
     },
     "execution_count": 71,
     "metadata": {},
     "output_type": "execute_result"
    }
   ],
   "source": [
    "lscc[\"Cigarettes.per.Day\"].value_counts(dropna=False).sort_index()"
   ]
  },
  {
   "cell_type": "markdown",
   "metadata": {},
   "source": [
    "### Pack.Years.Smoked column"
   ]
  },
  {
   "cell_type": "code",
   "execution_count": 72,
   "metadata": {},
   "outputs": [
    {
     "data": {
      "text/plain": [
       "1.5      1\n",
       "10       1\n",
       "100      1\n",
       "108      1\n",
       "19       1\n",
       "2.5      1\n",
       "20       4\n",
       "24       1\n",
       "29       1\n",
       "3        1\n",
       "3.2      1\n",
       "31       1\n",
       "33       1\n",
       "35       2\n",
       "35.3     1\n",
       "36       2\n",
       "38       1\n",
       "39       1\n",
       "40       6\n",
       "42       3\n",
       "43.5     2\n",
       "45       3\n",
       "48.8     1\n",
       "5        2\n",
       "52.5     1\n",
       "56       2\n",
       "57       1\n",
       "58.5     1\n",
       "60       1\n",
       "67.5     2\n",
       "70       2\n",
       "72       1\n",
       "78       1\n",
       "79.5     2\n",
       "84       1\n",
       "90       1\n",
       "96.3     1\n",
       "NaN     51\n",
       "Name: Pack.Years.Smoked, dtype: int64"
      ]
     },
     "execution_count": 72,
     "metadata": {},
     "output_type": "execute_result"
    }
   ],
   "source": [
    "lscc[\"Pack.Years.Smoked\"].value_counts(dropna=False).sort_index()"
   ]
  },
  {
   "cell_type": "code",
   "execution_count": 73,
   "metadata": {},
   "outputs": [],
   "source": [
    "lscc[\"Pack.Years.Smoked\"] = lscc[\"Pack.Years.Smoked\"].astype(float)\n",
    "\n",
    "lscc = lscc.assign(**{\"Pack.Years.Smoked\": (lscc[\"Pack.Years.Smoked\"] // 20) * 20})\n",
    "\n",
    "lscc = lscc.assign(**{\n",
    "    \"Pack.Years.Smoked\": lscc[\"Pack.Years.Smoked\"].where(\n",
    "        cond=(lscc[\"Pack.Years.Smoked\"] < 60) | (pd.isnull(lscc[\"Pack.Years.Smoked\"])), other=60\n",
    "    )\n",
    "})\n",
    "lscc = lscc.assign(**{\n",
    "    \"Pack.Years.Smoked\": lscc[\"Pack.Years.Smoked\"].where(\n",
    "        cond=(lscc[\"Pack.Years.Smoked\"] > 20) | (pd.isnull(lscc[\"Pack.Years.Smoked\"])), other=20\n",
    "    )\n",
    "})"
   ]
  },
  {
   "cell_type": "code",
   "execution_count": 74,
   "metadata": {},
   "outputs": [
    {
     "data": {
      "text/plain": [
       "20.0    23\n",
       "40.0    20\n",
       "60.0    14\n",
       "NaN     51\n",
       "Name: Pack.Years.Smoked, dtype: int64"
      ]
     },
     "execution_count": 74,
     "metadata": {},
     "output_type": "execute_result"
    }
   ],
   "source": [
    "lscc[\"Pack.Years.Smoked\"].value_counts(dropna=False).sort_index()"
   ]
  },
  {
   "cell_type": "markdown",
   "metadata": {},
   "source": [
    "### Run chi squared tests"
   ]
  },
  {
   "cell_type": "code",
   "execution_count": 75,
   "metadata": {},
   "outputs": [],
   "source": [
    "lscc_cols = [\n",
    "    \"Age_group\",\n",
    "    \"Gender\",\n",
    "    \"Stage\",\n",
    "    \"Ethnicity\",\n",
    "    \"Country.of.Origin\",\n",
    "    \"Smoking.History\",  \n",
    "    \"Cigarettes.per.Day\",\n",
    "    \"Pack.Years.Smoked\",\n",
    "    \"Secondhand.Smoke\"\n",
    "    \n",
    "]"
   ]
  },
  {
   "cell_type": "code",
   "execution_count": 76,
   "metadata": {},
   "outputs": [
    {
     "data": {
      "text/html": [
       "<div>\n",
       "<style scoped>\n",
       "    .dataframe tbody tr th:only-of-type {\n",
       "        vertical-align: middle;\n",
       "    }\n",
       "\n",
       "    .dataframe tbody tr th {\n",
       "        vertical-align: top;\n",
       "    }\n",
       "\n",
       "    .dataframe thead th {\n",
       "        text-align: right;\n",
       "    }\n",
       "</style>\n",
       "<table border=\"1\" class=\"dataframe\">\n",
       "  <thead>\n",
       "    <tr style=\"text-align: right;\">\n",
       "      <th></th>\n",
       "      <th>pval</th>\n",
       "    </tr>\n",
       "  </thead>\n",
       "  <tbody>\n",
       "    <tr>\n",
       "      <th>Age_group</th>\n",
       "      <td>0.562964</td>\n",
       "    </tr>\n",
       "    <tr>\n",
       "      <th>Gender</th>\n",
       "      <td>0.893751</td>\n",
       "    </tr>\n",
       "    <tr>\n",
       "      <th>Stage</th>\n",
       "      <td>0.194889</td>\n",
       "    </tr>\n",
       "    <tr>\n",
       "      <th>Ethnicity</th>\n",
       "      <td>0.556727</td>\n",
       "    </tr>\n",
       "    <tr>\n",
       "      <th>Country.of.Origin</th>\n",
       "      <td>0.395868</td>\n",
       "    </tr>\n",
       "    <tr>\n",
       "      <th>Smoking.History</th>\n",
       "      <td>0.022584</td>\n",
       "    </tr>\n",
       "    <tr>\n",
       "      <th>Cigarettes.per.Day</th>\n",
       "      <td>0.544314</td>\n",
       "    </tr>\n",
       "    <tr>\n",
       "      <th>Pack.Years.Smoked</th>\n",
       "      <td>0.808111</td>\n",
       "    </tr>\n",
       "    <tr>\n",
       "      <th>Secondhand.Smoke</th>\n",
       "      <td>0.892513</td>\n",
       "    </tr>\n",
       "  </tbody>\n",
       "</table>\n",
       "</div>"
      ],
      "text/plain": [
       "                        pval\n",
       "Age_group           0.562964\n",
       "Gender              0.893751\n",
       "Stage               0.194889\n",
       "Ethnicity           0.556727\n",
       "Country.of.Origin   0.395868\n",
       "Smoking.History     0.022584\n",
       "Cigarettes.per.Day  0.544314\n",
       "Pack.Years.Smoked   0.808111\n",
       "Secondhand.Smoke    0.892513"
      ]
     },
     "execution_count": 76,
     "metadata": {},
     "output_type": "execute_result"
    }
   ],
   "source": [
    "test_cnv_association(\n",
    "    df=lscc,\n",
    "    test_cols=lscc_cols,\n",
    "    cnv_col=\"8p_loss\"\n",
    ")"
   ]
  },
  {
   "cell_type": "code",
   "execution_count": 77,
   "metadata": {},
   "outputs": [
    {
     "data": {
      "text/html": [
       "<div>\n",
       "<style scoped>\n",
       "    .dataframe tbody tr th:only-of-type {\n",
       "        vertical-align: middle;\n",
       "    }\n",
       "\n",
       "    .dataframe tbody tr th {\n",
       "        vertical-align: top;\n",
       "    }\n",
       "\n",
       "    .dataframe thead th {\n",
       "        text-align: right;\n",
       "    }\n",
       "</style>\n",
       "<table border=\"1\" class=\"dataframe\">\n",
       "  <thead>\n",
       "    <tr style=\"text-align: right;\">\n",
       "      <th></th>\n",
       "      <th>pval</th>\n",
       "    </tr>\n",
       "  </thead>\n",
       "  <tbody>\n",
       "    <tr>\n",
       "      <th>Age_group</th>\n",
       "      <td>0.023878</td>\n",
       "    </tr>\n",
       "    <tr>\n",
       "      <th>Gender</th>\n",
       "      <td>0.463236</td>\n",
       "    </tr>\n",
       "    <tr>\n",
       "      <th>Stage</th>\n",
       "      <td>0.397277</td>\n",
       "    </tr>\n",
       "    <tr>\n",
       "      <th>Ethnicity</th>\n",
       "      <td>0.085090</td>\n",
       "    </tr>\n",
       "    <tr>\n",
       "      <th>Country.of.Origin</th>\n",
       "      <td>0.006063</td>\n",
       "    </tr>\n",
       "    <tr>\n",
       "      <th>Smoking.History</th>\n",
       "      <td>0.264843</td>\n",
       "    </tr>\n",
       "    <tr>\n",
       "      <th>Cigarettes.per.Day</th>\n",
       "      <td>0.557984</td>\n",
       "    </tr>\n",
       "    <tr>\n",
       "      <th>Pack.Years.Smoked</th>\n",
       "      <td>0.219610</td>\n",
       "    </tr>\n",
       "    <tr>\n",
       "      <th>Secondhand.Smoke</th>\n",
       "      <td>0.536243</td>\n",
       "    </tr>\n",
       "  </tbody>\n",
       "</table>\n",
       "</div>"
      ],
      "text/plain": [
       "                        pval\n",
       "Age_group           0.023878\n",
       "Gender              0.463236\n",
       "Stage               0.397277\n",
       "Ethnicity           0.085090\n",
       "Country.of.Origin   0.006063\n",
       "Smoking.History     0.264843\n",
       "Cigarettes.per.Day  0.557984\n",
       "Pack.Years.Smoked   0.219610\n",
       "Secondhand.Smoke    0.536243"
      ]
     },
     "execution_count": 77,
     "metadata": {},
     "output_type": "execute_result"
    }
   ],
   "source": [
    "test_cnv_association(\n",
    "    df=lscc,\n",
    "    test_cols=lscc_cols,\n",
    "    cnv_col=\"8q_gain\"\n",
    ")"
   ]
  },
  {
   "cell_type": "markdown",
   "metadata": {},
   "source": [
    "## LUAD"
   ]
  },
  {
   "cell_type": "code",
   "execution_count": null,
   "metadata": {},
   "outputs": [],
   "source": [
    "luad = load_tables(\"luad\")"
   ]
  },
  {
   "cell_type": "markdown",
   "metadata": {},
   "source": [
    "## Ovarian"
   ]
  },
  {
   "cell_type": "code",
   "execution_count": null,
   "metadata": {},
   "outputs": [],
   "source": [
    "ovarian = load_tables(\"ovarian\")"
   ]
  }
 ],
 "metadata": {
  "kernelspec": {
   "display_name": "Python 3",
   "language": "python",
   "name": "python3"
  },
  "language_info": {
   "codemirror_mode": {
    "name": "ipython",
    "version": 3
   },
   "file_extension": ".py",
   "mimetype": "text/x-python",
   "name": "python",
   "nbconvert_exporter": "python",
   "pygments_lexer": "ipython3",
   "version": "3.7.7"
  }
 },
 "nbformat": 4,
 "nbformat_minor": 4
}
