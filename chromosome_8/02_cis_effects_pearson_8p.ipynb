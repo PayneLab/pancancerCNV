{
 "cells": [
  {
   "cell_type": "markdown",
   "metadata": {},
   "source": [
    "# Cis Effects 8p"
   ]
  },
  {
   "cell_type": "code",
   "execution_count": 1,
   "metadata": {},
   "outputs": [],
   "source": [
    "import pandas as pd\n",
    "import matplotlib.pyplot as plt\n",
    "import matplotlib.lines as mlines\n",
    "import seaborn as sns\n",
    "import numpy as np\n",
    "import cptac\n",
    "from scipy import stats\n",
    "from cnvutils import *\n",
    "import statsmodels.stats.multitest\n",
    "import cptac.utils"
   ]
  },
  {
   "cell_type": "code",
   "execution_count": 2,
   "metadata": {},
   "outputs": [
    {
     "name": "stdout",
     "output_type": "stream",
     "text": [
      "                                         \r"
     ]
    },
    {
     "data": {
      "text/plain": [
       "True"
      ]
     },
     "execution_count": 2,
     "metadata": {},
     "output_type": "execute_result"
    }
   ],
   "source": [
    "cptac.download(dataset='lscc')"
   ]
  },
  {
   "cell_type": "code",
   "execution_count": 3,
   "metadata": {},
   "outputs": [
    {
     "name": "stdout",
     "output_type": "stream",
     "text": [
      "Checking that ovarian index is up-to-date...\r"
     ]
    },
    {
     "name": "stderr",
     "output_type": "stream",
     "text": [
      "cptac warning: The HNSCC data is currently strictly reserved for CPTAC investigators. Otherwise, you are not authorized to access these data. Additionally, even after these data become publicly available, they will be subject to a publication embargo (see https://proteomics.cancer.gov/data-portal/about/data-use-agreement or enter cptac.embargo() to open the webpage for more details). (<ipython-input-3-057fd76044c6>, line 2)\n"
     ]
    },
    {
     "name": "stdout",
     "output_type": "stream",
     "text": [
      "                                            \r"
     ]
    },
    {
     "name": "stderr",
     "output_type": "stream",
     "text": [
      "cptac warning: The LSCC data is currently strictly reserved for CPTAC investigators. Otherwise, you are not authorized to access these data. Additionally, even after these data become publicly available, they will be subject to a publication embargo (see https://proteomics.cancer.gov/data-portal/about/data-use-agreement or enter cptac.embargo() to open the webpage for more details). (<ipython-input-3-057fd76044c6>, line 6)\n"
     ]
    }
   ],
   "source": [
    "luad = cptac.Luad()\n",
    "hnscc = cptac.Hnscc()\n",
    "ovarian = cptac.Ovarian()\n",
    "colon = cptac.Colon()\n",
    "brca = cptac.Brca()\n",
    "lscc = cptac.Lscc()"
   ]
  },
  {
   "cell_type": "code",
   "execution_count": 4,
   "metadata": {},
   "outputs": [],
   "source": [
    "proteomics = {\n",
    "    'luad': luad.get_proteomics(),\n",
    "    'hnscc': hnscc.get_proteomics(),\n",
    "    'ovarian': ovarian.get_proteomics(),\n",
    "    'colon': colon.get_proteomics(),\n",
    "    'brca': brca.get_proteomics(),\n",
    "    'lscc': lscc.get_proteomics()\n",
    "}"
   ]
  },
  {
   "cell_type": "code",
   "execution_count": 5,
   "metadata": {},
   "outputs": [],
   "source": [
    "cnv = {\n",
    "    'luad': luad.get_CNV(),\n",
    "    'hnscc': hnscc.get_CNV(),\n",
    "    'ovarian': ovarian.get_CNV(),\n",
    "    'colon': colon.get_CNV(),\n",
    "    'brca': brca.get_CNV(),\n",
    "    'lscc': lscc.get_CNV()\n",
    "}"
   ]
  },
  {
   "cell_type": "code",
   "execution_count": 6,
   "metadata": {},
   "outputs": [],
   "source": [
    "transcriptomics = {\n",
    "    'luad': luad.get_transcriptomics(),\n",
    "    'hnscc': hnscc.get_transcriptomics(),\n",
    "    'ovarian': ovarian.get_transcriptomics(),\n",
    "    'colon': colon.get_transcriptomics(),\n",
    "    'brca': brca.get_transcriptomics(),\n",
    "    'lscc': lscc.get_transcriptomics()\n",
    "}"
   ]
  },
  {
   "cell_type": "markdown",
   "metadata": {},
   "source": [
    "## Get Locations"
   ]
  },
  {
   "cell_type": "code",
   "execution_count": 7,
   "metadata": {},
   "outputs": [],
   "source": [
    "locations = get_gene_locations()"
   ]
  },
  {
   "cell_type": "code",
   "execution_count": 8,
   "metadata": {},
   "outputs": [],
   "source": [
    "CHROMOSOME = '8'\n",
    "ARM = 'p'\n",
    "EVENT_START = 0\n",
    "EVENT_END = 30794385"
   ]
  },
  {
   "cell_type": "code",
   "execution_count": 9,
   "metadata": {},
   "outputs": [
    {
     "data": {
      "text/html": [
       "<div>\n",
       "<style scoped>\n",
       "    .dataframe tbody tr th:only-of-type {\n",
       "        vertical-align: middle;\n",
       "    }\n",
       "\n",
       "    .dataframe tbody tr th {\n",
       "        vertical-align: top;\n",
       "    }\n",
       "\n",
       "    .dataframe thead th {\n",
       "        text-align: right;\n",
       "    }\n",
       "</style>\n",
       "<table border=\"1\" class=\"dataframe\">\n",
       "  <thead>\n",
       "    <tr style=\"text-align: right;\">\n",
       "      <th></th>\n",
       "      <th></th>\n",
       "      <th>chromosome</th>\n",
       "      <th>start_bp</th>\n",
       "      <th>end_bp</th>\n",
       "      <th>arm</th>\n",
       "    </tr>\n",
       "    <tr>\n",
       "      <th>Name</th>\n",
       "      <th>Database_ID</th>\n",
       "      <th></th>\n",
       "      <th></th>\n",
       "      <th></th>\n",
       "      <th></th>\n",
       "    </tr>\n",
       "  </thead>\n",
       "  <tbody>\n",
       "    <tr>\n",
       "      <th>SPTLC1P3</th>\n",
       "      <th>NaN</th>\n",
       "      <td>6</td>\n",
       "      <td>63227485.0</td>\n",
       "      <td>63227743.0</td>\n",
       "      <td>q</td>\n",
       "    </tr>\n",
       "    <tr>\n",
       "      <th>LLGL1</th>\n",
       "      <th>ENSG00000131899.6</th>\n",
       "      <td>17</td>\n",
       "      <td>18225635.0</td>\n",
       "      <td>18244875.0</td>\n",
       "      <td>p</td>\n",
       "    </tr>\n",
       "    <tr>\n",
       "      <th>DUX4L1</th>\n",
       "      <th>NaN</th>\n",
       "      <td>4</td>\n",
       "      <td>190084412.0</td>\n",
       "      <td>190085686.0</td>\n",
       "      <td>q</td>\n",
       "    </tr>\n",
       "    <tr>\n",
       "      <th>RBM18</th>\n",
       "      <th>ENSG00000119446.9</th>\n",
       "      <td>9</td>\n",
       "      <td>122237622.0</td>\n",
       "      <td>122264840.0</td>\n",
       "      <td>q</td>\n",
       "    </tr>\n",
       "    <tr>\n",
       "      <th>KRT18P53</th>\n",
       "      <th>NaN</th>\n",
       "      <td>X</td>\n",
       "      <td>545236.0</td>\n",
       "      <td>545352.0</td>\n",
       "      <td>p</td>\n",
       "    </tr>\n",
       "    <tr>\n",
       "      <th>...</th>\n",
       "      <th>...</th>\n",
       "      <td>...</td>\n",
       "      <td>...</td>\n",
       "      <td>...</td>\n",
       "      <td>...</td>\n",
       "    </tr>\n",
       "    <tr>\n",
       "      <th>PRPF38B</th>\n",
       "      <th>NaN</th>\n",
       "      <td>1</td>\n",
       "      <td>108692310.0</td>\n",
       "      <td>108702928.0</td>\n",
       "      <td>p</td>\n",
       "    </tr>\n",
       "    <tr>\n",
       "      <th>OR7E29P</th>\n",
       "      <th>NaN</th>\n",
       "      <td>3</td>\n",
       "      <td>125712139.0</td>\n",
       "      <td>125713045.0</td>\n",
       "      <td>q</td>\n",
       "    </tr>\n",
       "    <tr>\n",
       "      <th>TK1</th>\n",
       "      <th>ENSG00000167900.11</th>\n",
       "      <td>17</td>\n",
       "      <td>78174091.0</td>\n",
       "      <td>78187233.0</td>\n",
       "      <td>q</td>\n",
       "    </tr>\n",
       "    <tr>\n",
       "      <th>U52112.2</th>\n",
       "      <th>NaN</th>\n",
       "      <td>X</td>\n",
       "      <td>153872221.0</td>\n",
       "      <td>153909223.0</td>\n",
       "      <td>q</td>\n",
       "    </tr>\n",
       "    <tr>\n",
       "      <th>ASMT|chrX</th>\n",
       "      <th>NaN</th>\n",
       "      <td>NaN</td>\n",
       "      <td>NaN</td>\n",
       "      <td>NaN</td>\n",
       "      <td>NaN</td>\n",
       "    </tr>\n",
       "  </tbody>\n",
       "</table>\n",
       "<p>105327 rows × 4 columns</p>\n",
       "</div>"
      ],
      "text/plain": [
       "                             chromosome     start_bp       end_bp  arm\n",
       "Name      Database_ID                                                 \n",
       "SPTLC1P3  NaN                         6   63227485.0   63227743.0    q\n",
       "LLGL1     ENSG00000131899.6          17   18225635.0   18244875.0    p\n",
       "DUX4L1    NaN                         4  190084412.0  190085686.0    q\n",
       "RBM18     ENSG00000119446.9           9  122237622.0  122264840.0    q\n",
       "KRT18P53  NaN                         X     545236.0     545352.0    p\n",
       "...                                 ...          ...          ...  ...\n",
       "PRPF38B   NaN                         1  108692310.0  108702928.0    p\n",
       "OR7E29P   NaN                         3  125712139.0  125713045.0    q\n",
       "TK1       ENSG00000167900.11         17   78174091.0   78187233.0    q\n",
       "U52112.2  NaN                         X  153872221.0  153909223.0    q\n",
       "ASMT|chrX NaN                       NaN          NaN          NaN  NaN\n",
       "\n",
       "[105327 rows x 4 columns]"
      ]
     },
     "execution_count": 9,
     "metadata": {},
     "output_type": "execute_result"
    }
   ],
   "source": [
    "locations"
   ]
  },
  {
   "cell_type": "code",
   "execution_count": 10,
   "metadata": {},
   "outputs": [],
   "source": [
    "subset_event = locations[(locations.chromosome == CHROMOSOME) & (locations.arm == ARM) & (locations.start_bp >= EVENT_START) & (locations.end_bp <= EVENT_END)]\n",
    "genes = set(subset_event.index.get_level_values('Name'))"
   ]
  },
  {
   "cell_type": "markdown",
   "metadata": {},
   "source": [
    "## Run Pearson Correlations"
   ]
  },
  {
   "cell_type": "code",
   "execution_count": 11,
   "metadata": {},
   "outputs": [],
   "source": [
    "def run_pearsons(protein, cnv_df, omics):\n",
    "    try:\n",
    "        if protein in cnv_df.columns.get_level_values('Name'):\n",
    "            cnv_data = cnv_df.loc[:,cnv_df.columns.get_level_values('Name')==protein]\n",
    "            cnv_column_name = cnv_data.columns.tolist()[0]\n",
    "        else:\n",
    "            return (np.nan, np.nan)\n",
    "        omics_data = omics[protein]\n",
    "        if isinstance(omics_data, pd.DataFrame):\n",
    "            omics_data = omics.iloc[:,0]\n",
    "        omics_data.name = 'omics'\n",
    "        df = pd.concat([cnv_data, omics_data], axis=1)\n",
    "        df.dropna(inplace=True)\n",
    "        if len(df) < 3:\n",
    "            return (np.nan,np.nan)\n",
    "        return stats.pearsonr(df[cnv_column_name], df['omics'])\n",
    "    except Exception as e:\n",
    "        print(e)"
   ]
  },
  {
   "cell_type": "code",
   "execution_count": 12,
   "metadata": {},
   "outputs": [],
   "source": [
    "proteomics_results = None\n",
    "for cancer_type in proteomics.keys():\n",
    "    try:\n",
    "        # We will use the index from the proteomics table. \n",
    "        proteomics_table = proteomics[cancer_type].copy()\n",
    "        proteomics_table = proteomics_table.loc[:, proteomics_table.columns.get_level_values('Name').isin(genes)]\n",
    "        if isinstance(proteomics_table.columns, pd.MultiIndex):\n",
    "            proteomics_table = proteomics_table.droplevel('Database_ID', axis=1)\n",
    "        pvalues = list()\n",
    "        rvalues = list()\n",
    "        index = proteomics_table.columns.get_level_values('Name').tolist()\n",
    "        for protein in index:\n",
    "            r, p = run_pearsons(protein, cnv[cancer_type], proteomics_table)\n",
    "            pvalues.append(p)\n",
    "            rvalues.append(r)\n",
    "        # Correct for multiple tests\n",
    "        pvalues = np.array(pvalues)\n",
    "        mask = np.isfinite(pvalues)\n",
    "        pval_corrected = np.empty(len(pvalues))\n",
    "        pval_corrected.fill(np.nan)\n",
    "        pval_corrected[mask] = statsmodels.stats.multitest.multipletests(pvals=list(pvalues[mask]), alpha=0.05, method='fdr_bh')[1]\n",
    "        temp = pd.DataFrame(data={f'{cancer_type}_pvalue_proteomics': pval_corrected, f'{cancer_type}_rvalue_proteomics': rvalues}, index=index)\n",
    "        temp.index.name = 'Name'\n",
    "        if proteomics_results is not None:\n",
    "            proteomics_results = proteomics_results.join(temp, how='outer')\n",
    "        else:\n",
    "            proteomics_results = temp\n",
    "    except Exception as e:\n",
    "        print(e)"
   ]
  },
  {
   "cell_type": "code",
   "execution_count": 13,
   "metadata": {},
   "outputs": [
    {
     "name": "stderr",
     "output_type": "stream",
     "text": [
      "C:\\Users\\chels\\anaconda3\\envs\\notebooks\\lib\\site-packages\\scipy\\stats\\stats.py:3845: PearsonRConstantInputWarning: An input array is constant; the correlation coefficent is not defined.\n",
      "  warnings.warn(PearsonRConstantInputWarning())\n",
      "C:\\Users\\chels\\anaconda3\\envs\\notebooks\\lib\\site-packages\\scipy\\stats\\stats.py:3845: PearsonRConstantInputWarning: An input array is constant; the correlation coefficent is not defined.\n",
      "  warnings.warn(PearsonRConstantInputWarning())\n",
      "C:\\Users\\chels\\anaconda3\\envs\\notebooks\\lib\\site-packages\\scipy\\stats\\stats.py:3845: PearsonRConstantInputWarning: An input array is constant; the correlation coefficent is not defined.\n",
      "  warnings.warn(PearsonRConstantInputWarning())\n",
      "C:\\Users\\chels\\anaconda3\\envs\\notebooks\\lib\\site-packages\\scipy\\stats\\stats.py:3845: PearsonRConstantInputWarning: An input array is constant; the correlation coefficent is not defined.\n",
      "  warnings.warn(PearsonRConstantInputWarning())\n",
      "C:\\Users\\chels\\anaconda3\\envs\\notebooks\\lib\\site-packages\\scipy\\stats\\stats.py:3845: PearsonRConstantInputWarning: An input array is constant; the correlation coefficent is not defined.\n",
      "  warnings.warn(PearsonRConstantInputWarning())\n",
      "C:\\Users\\chels\\anaconda3\\envs\\notebooks\\lib\\site-packages\\scipy\\stats\\stats.py:3845: PearsonRConstantInputWarning: An input array is constant; the correlation coefficent is not defined.\n",
      "  warnings.warn(PearsonRConstantInputWarning())\n",
      "C:\\Users\\chels\\anaconda3\\envs\\notebooks\\lib\\site-packages\\scipy\\stats\\stats.py:3845: PearsonRConstantInputWarning: An input array is constant; the correlation coefficent is not defined.\n",
      "  warnings.warn(PearsonRConstantInputWarning())\n",
      "C:\\Users\\chels\\anaconda3\\envs\\notebooks\\lib\\site-packages\\scipy\\stats\\stats.py:3845: PearsonRConstantInputWarning: An input array is constant; the correlation coefficent is not defined.\n",
      "  warnings.warn(PearsonRConstantInputWarning())\n",
      "C:\\Users\\chels\\anaconda3\\envs\\notebooks\\lib\\site-packages\\scipy\\stats\\stats.py:3845: PearsonRConstantInputWarning: An input array is constant; the correlation coefficent is not defined.\n",
      "  warnings.warn(PearsonRConstantInputWarning())\n",
      "C:\\Users\\chels\\anaconda3\\envs\\notebooks\\lib\\site-packages\\scipy\\stats\\stats.py:3845: PearsonRConstantInputWarning: An input array is constant; the correlation coefficent is not defined.\n",
      "  warnings.warn(PearsonRConstantInputWarning())\n",
      "C:\\Users\\chels\\anaconda3\\envs\\notebooks\\lib\\site-packages\\scipy\\stats\\stats.py:3845: PearsonRConstantInputWarning: An input array is constant; the correlation coefficent is not defined.\n",
      "  warnings.warn(PearsonRConstantInputWarning())\n",
      "C:\\Users\\chels\\anaconda3\\envs\\notebooks\\lib\\site-packages\\scipy\\stats\\stats.py:3845: PearsonRConstantInputWarning: An input array is constant; the correlation coefficent is not defined.\n",
      "  warnings.warn(PearsonRConstantInputWarning())\n",
      "C:\\Users\\chels\\anaconda3\\envs\\notebooks\\lib\\site-packages\\scipy\\stats\\stats.py:3845: PearsonRConstantInputWarning: An input array is constant; the correlation coefficent is not defined.\n",
      "  warnings.warn(PearsonRConstantInputWarning())\n",
      "C:\\Users\\chels\\anaconda3\\envs\\notebooks\\lib\\site-packages\\scipy\\stats\\stats.py:3845: PearsonRConstantInputWarning: An input array is constant; the correlation coefficent is not defined.\n",
      "  warnings.warn(PearsonRConstantInputWarning())\n",
      "C:\\Users\\chels\\anaconda3\\envs\\notebooks\\lib\\site-packages\\scipy\\stats\\stats.py:3845: PearsonRConstantInputWarning: An input array is constant; the correlation coefficent is not defined.\n",
      "  warnings.warn(PearsonRConstantInputWarning())\n",
      "C:\\Users\\chels\\anaconda3\\envs\\notebooks\\lib\\site-packages\\scipy\\stats\\stats.py:3845: PearsonRConstantInputWarning: An input array is constant; the correlation coefficent is not defined.\n",
      "  warnings.warn(PearsonRConstantInputWarning())\n",
      "C:\\Users\\chels\\anaconda3\\envs\\notebooks\\lib\\site-packages\\scipy\\stats\\stats.py:3845: PearsonRConstantInputWarning: An input array is constant; the correlation coefficent is not defined.\n",
      "  warnings.warn(PearsonRConstantInputWarning())\n",
      "C:\\Users\\chels\\anaconda3\\envs\\notebooks\\lib\\site-packages\\scipy\\stats\\stats.py:3845: PearsonRConstantInputWarning: An input array is constant; the correlation coefficent is not defined.\n",
      "  warnings.warn(PearsonRConstantInputWarning())\n",
      "C:\\Users\\chels\\anaconda3\\envs\\notebooks\\lib\\site-packages\\scipy\\stats\\stats.py:3845: PearsonRConstantInputWarning: An input array is constant; the correlation coefficent is not defined.\n",
      "  warnings.warn(PearsonRConstantInputWarning())\n",
      "C:\\Users\\chels\\anaconda3\\envs\\notebooks\\lib\\site-packages\\scipy\\stats\\stats.py:3845: PearsonRConstantInputWarning: An input array is constant; the correlation coefficent is not defined.\n",
      "  warnings.warn(PearsonRConstantInputWarning())\n",
      "C:\\Users\\chels\\anaconda3\\envs\\notebooks\\lib\\site-packages\\scipy\\stats\\stats.py:3845: PearsonRConstantInputWarning: An input array is constant; the correlation coefficent is not defined.\n",
      "  warnings.warn(PearsonRConstantInputWarning())\n",
      "C:\\Users\\chels\\anaconda3\\envs\\notebooks\\lib\\site-packages\\scipy\\stats\\stats.py:3845: PearsonRConstantInputWarning: An input array is constant; the correlation coefficent is not defined.\n",
      "  warnings.warn(PearsonRConstantInputWarning())\n",
      "C:\\Users\\chels\\anaconda3\\envs\\notebooks\\lib\\site-packages\\scipy\\stats\\stats.py:3845: PearsonRConstantInputWarning: An input array is constant; the correlation coefficent is not defined.\n",
      "  warnings.warn(PearsonRConstantInputWarning())\n",
      "C:\\Users\\chels\\anaconda3\\envs\\notebooks\\lib\\site-packages\\scipy\\stats\\stats.py:3845: PearsonRConstantInputWarning: An input array is constant; the correlation coefficent is not defined.\n",
      "  warnings.warn(PearsonRConstantInputWarning())\n",
      "C:\\Users\\chels\\anaconda3\\envs\\notebooks\\lib\\site-packages\\scipy\\stats\\stats.py:3845: PearsonRConstantInputWarning: An input array is constant; the correlation coefficent is not defined.\n",
      "  warnings.warn(PearsonRConstantInputWarning())\n",
      "C:\\Users\\chels\\anaconda3\\envs\\notebooks\\lib\\site-packages\\scipy\\stats\\stats.py:3845: PearsonRConstantInputWarning: An input array is constant; the correlation coefficent is not defined.\n",
      "  warnings.warn(PearsonRConstantInputWarning())\n",
      "C:\\Users\\chels\\anaconda3\\envs\\notebooks\\lib\\site-packages\\scipy\\stats\\stats.py:3845: PearsonRConstantInputWarning: An input array is constant; the correlation coefficent is not defined.\n",
      "  warnings.warn(PearsonRConstantInputWarning())\n"
     ]
    }
   ],
   "source": [
    "transcriptomics_results = None\n",
    "for cancer_type in transcriptomics.keys():\n",
    "    try:\n",
    "        # We will use the index from the proteomics table. \n",
    "        transcriptomics_table = transcriptomics[cancer_type].copy()\n",
    "        transcriptomics_table = transcriptomics_table.loc[:, transcriptomics_table.columns.get_level_values('Name').isin(genes)]\n",
    "        if isinstance(transcriptomics_table.columns, pd.MultiIndex):\n",
    "            transcriptomics_table = transcriptomics_table.droplevel('Database_ID', axis=1)\n",
    "        pvalues = list()\n",
    "        rvalues = list()\n",
    "        index = transcriptomics_table.columns.get_level_values('Name').tolist()\n",
    "        for protein in index:\n",
    "            r, p = run_pearsons(protein, cnv[cancer_type], transcriptomics_table)\n",
    "            pvalues.append(p)\n",
    "            rvalues.append(r)\n",
    "        pvalues = np.array(pvalues)\n",
    "        mask = np.isfinite(pvalues)\n",
    "        pval_corrected = np.empty(len(pvalues))\n",
    "        pval_corrected.fill(np.nan)\n",
    "        pval_corrected[mask] = statsmodels.stats.multitest.multipletests(pvals=list(pvalues[mask]), alpha=0.05, method='fdr_bh')[1]\n",
    "        temp = pd.DataFrame(data={f'{cancer_type}_pvalue_transcriptomics': pval_corrected, f'{cancer_type}_rvalue_transcriptomics': rvalues}, index=index)\n",
    "        temp.index.name = 'Name'\n",
    "        if transcriptomics_results is not None:\n",
    "            transcriptomics_results = transcriptomics_results.join(temp, how='outer')\n",
    "        else:\n",
    "            transcriptomics_results = temp\n",
    "    except Exception as e:\n",
    "        print(e)"
   ]
  },
  {
   "cell_type": "code",
   "execution_count": 14,
   "metadata": {},
   "outputs": [],
   "source": [
    "all_results = transcriptomics_results.join(proteomics_results)"
   ]
  },
  {
   "cell_type": "code",
   "execution_count": 15,
   "metadata": {},
   "outputs": [],
   "source": [
    "all_results.to_csv('pearson_cis_effect_results_8p.tsv', sep='\\t')"
   ]
  },
  {
   "cell_type": "code",
   "execution_count": 16,
   "metadata": {
    "scrolled": false
   },
   "outputs": [
    {
     "data": {
      "image/png": "[encoded data removed]",
      "text/plain": [
       "<Figure size 720x792 with 6 Axes>"
      ]
     },
     "metadata": {
      "needs_background": "light"
     },
     "output_type": "display_data"
    }
   ],
   "source": [
    "fig, axs = plt.subplots(nrows=3, ncols=2, sharex=False, sharey=False, figsize=(10,11))\n",
    "fig.suptitle(\"Chromosome 8p Cis-Effects\")\n",
    "count = 0\n",
    "for cancer_type in proteomics.keys():\n",
    "    sns.scatterplot(x=f'{cancer_type}_rvalue_transcriptomics', y=f'{cancer_type}_rvalue_proteomics', data=all_results, ax=axs[count//2][count%2])\n",
    "    axs[count//2][count%2].set_title(cancer_type.upper())\n",
    "    axs[count//2][count%2].set_xlabel(\"Transcriptomics R Value\")\n",
    "    axs[count//2][count%2].set_ylabel(\"Proteomics R Value\")\n",
    "    min_val = np.min(all_results[f'{cancer_type}_rvalue_transcriptomics'])\n",
    "    max_val = np.max(all_results[f'{cancer_type}_rvalue_transcriptomics'])\n",
    "    axs[count//2][count%2].plot([min_val,max_val], [min_val,max_val])\n",
    "    count += 1\n",
    "plt.subplots_adjust(hspace=0.4, wspace=0.3)"
   ]
  },
  {
   "cell_type": "code",
   "execution_count": null,
   "metadata": {},
   "outputs": [],
   "source": []
  }
 ],
 "metadata": {
  "kernelspec": {
   "display_name": "Python 3",
   "language": "python",
   "name": "python3"
  },
  "language_info": {
   "codemirror_mode": {
    "name": "ipython",
    "version": 3
   },
   "file_extension": ".py",
   "mimetype": "text/x-python",
   "name": "python",
   "nbconvert_exporter": "python",
   "pygments_lexer": "ipython3",
   "version": "3.8.5"
  }
 },
 "nbformat": 4,
 "nbformat_minor": 4
}
