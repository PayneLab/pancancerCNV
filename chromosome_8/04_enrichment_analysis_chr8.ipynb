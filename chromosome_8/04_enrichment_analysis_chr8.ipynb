{
 "cells": [
  {
   "cell_type": "markdown",
   "metadata": {},
   "source": [
    "# Enrichment analysis\n",
    "\n",
    "Perform enrichment analysis to discover interesting pathways.\n",
    "\n",
    "- We could just see what pathways are enriched with all genes on the arm that is gained or lost. But that seems pretty messy and imprecise.\n",
    "    - Better idea would be to use the results of the t-tests. Get a list of the genes on the arm that also have a significant trans effect on other genes, and see what pathways are enriched for those genes.\n",
    "        - I don't have those lists yet, but I can hash out the workflow first with mock lists.\n",
    "        - There are probably also other ways to choose a list to look for enrichment in. Look for some papers on that.\n",
    "    - Or, we could also see which proteins are differentially expressed in cancers with the event but not in cancers without the event, and look for pathways enriched with those proteins\n",
    "- Which enrichment analysis algorithm to use? And will this be ranked or unranked analysis?\n",
    "    - If we use the t tests' results we can do ranked.\n",
    "- Also, there were some other ideas of analyses to try. I can work on those if I reach a pausing point on this one.\n",
    "\n",
    "What do we do with the interesting pathways once we have them, besides just list them off? Because that would be boring."
   ]
  }
 ],
 "metadata": {
  "kernelspec": {
   "display_name": "Python 3",
   "language": "python",
   "name": "python3"
  },
  "language_info": {
   "codemirror_mode": {
    "name": "ipython",
    "version": 3
   },
   "file_extension": ".py",
   "mimetype": "text/x-python",
   "name": "python",
   "nbconvert_exporter": "python",
   "pygments_lexer": "ipython3",
   "version": "3.7.7"
  }
 },
 "nbformat": 4,
 "nbformat_minor": 4
}
