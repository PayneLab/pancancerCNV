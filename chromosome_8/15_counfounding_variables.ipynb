{
 "cells": [
  {
   "cell_type": "markdown",
   "metadata": {},
   "source": [
    "# Check for confounding variables\n",
    "\n",
    "This notebook uses chi-squared tests to look for clinical variables that are associated with having a chromosome event or not."
   ]
  },
  {
   "cell_type": "markdown",
   "metadata": {},
   "source": [
    "- Get clinical tables\n",
    "- Get event tables\n",
    "- Binarize clinical columns as needed\n",
    "- For each binary column in the clinical table, make a contingency table of that column and the event table\n",
    "- Run chi squared test and save results"
   ]
  },
  {
   "cell_type": "code",
   "execution_count": null,
   "metadata": {},
   "outputs": [],
   "source": [
    "import pandas as pd\n",
    "import numpy as np\n",
    "import os\n",
    "import cptac"
   ]
  },
  {
   "cell_type": "code",
   "execution_count": null,
   "metadata": {},
   "outputs": [],
   "source": [
    "CANCER_TYPES = [\n",
    "    \"brca\",\n",
    "    \"colon\",\n",
    "    \"hnscc\",\n",
    "    \"lscc\",\n",
    "    \"luad\",\n",
    "    \"ovarian\"\n",
    "]"
   ]
  },
  {
   "cell_type": "code",
   "execution_count": null,
   "metadata": {},
   "outputs": [],
   "source": [
    "def find_confounding_vars_cancer_type(cancer_type):\n",
    "    pass"
   ]
  }
 ],
 "metadata": {
  "kernelspec": {
   "display_name": "Python 3",
   "language": "python",
   "name": "python3"
  },
  "language_info": {
   "codemirror_mode": {
    "name": "ipython",
    "version": 3
   },
   "file_extension": ".py",
   "mimetype": "text/x-python",
   "name": "python",
   "nbconvert_exporter": "python",
   "pygments_lexer": "ipython3",
   "version": "3.7.7"
  }
 },
 "nbformat": 4,
 "nbformat_minor": 4
}
