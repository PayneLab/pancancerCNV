{
 "cells": [
  {
   "cell_type": "markdown",
   "metadata": {},
   "source": [
    "# Check for confounding variables\n",
    "\n",
    "This notebook uses chi-squared tests to look for clinical variables that are associated with having a chromosome event or not."
   ]
  },
  {
   "cell_type": "markdown",
   "metadata": {},
   "source": [
    "- Get clinical tables\n",
    "- Get event tables\n",
    "- Binarize clinical columns as needed\n",
    "- For each binary column in the clinical table, make a contingency table of that column and the event table\n",
    "- Run chi squared test and save results"
   ]
  },
  {
   "cell_type": "code",
   "execution_count": 19,
   "metadata": {},
   "outputs": [],
   "source": [
    "import pandas as pd\n",
    "import numpy as np\n",
    "import os\n",
    "import cptac\n",
    "import altair as alt\n",
    "import scipy.stats"
   ]
  },
  {
   "cell_type": "code",
   "execution_count": 2,
   "metadata": {},
   "outputs": [],
   "source": [
    "pd.options.display.max_columns = None"
   ]
  },
  {
   "cell_type": "code",
   "execution_count": 3,
   "metadata": {},
   "outputs": [],
   "source": [
    "dss = {\n",
    "    \"brca\": cptac.Brca,\n",
    "#     \"ccrcc\": cptac.Ccrcc,\n",
    "    \"colon\": cptac.Colon,\n",
    "#     \"endometrial\": cptac.Endometrial,\n",
    "#     \"gbm\": cptac.Gbm,\n",
    "    \"hnscc\": cptac.Hnscc,\n",
    "    \"lscc\": cptac.Lscc,\n",
    "    \"luad\": cptac.Luad,\n",
    "    \"ovarian\": cptac.Ovarian\n",
    "}"
   ]
  },
  {
   "cell_type": "code",
   "execution_count": 4,
   "metadata": {},
   "outputs": [],
   "source": [
    "def load_tables(cancer_type):\n",
    "    \n",
    "    # Load the dataset\n",
    "    ds = dss[cancer_type]()\n",
    "    \n",
    "    # Get the clinical table\n",
    "    clin = ds.get_clinical()\n",
    "    \n",
    "    # Get the event table\n",
    "    event = pd.\\\n",
    "    read_csv(f\"{cancer_type}_has_event.tsv\", sep=\"\\t\", index_col=0).\\\n",
    "    rename(columns={\"gain_event\": \"8q_gain\", \"loss_event\": \"8p_loss\"})\n",
    "    \n",
    "    joined = clin.join(event, how=\"inner\")\n",
    "    \n",
    "    return joined"
   ]
  },
  {
   "cell_type": "markdown",
   "metadata": {},
   "source": [
    "## BRCA"
   ]
  },
  {
   "cell_type": "code",
   "execution_count": 5,
   "metadata": {},
   "outputs": [
    {
     "name": "stdout",
     "output_type": "stream",
     "text": [
      "                                         \r"
     ]
    }
   ],
   "source": [
    "brca = load_tables(\"brca\")"
   ]
  },
  {
   "cell_type": "code",
   "execution_count": 6,
   "metadata": {},
   "outputs": [],
   "source": [
    "brca_cols = [\n",
    "    \"Age.in.Month\",\n",
    "    \"Race\",\n",
    "    \"Stage\",\n",
    "    \"PAM50\",\n",
    "    \"NMF.v2.1\",\n",
    "]\n",
    "\n",
    "# Don't use gender because all female\n",
    "# Todo: Split up age. In decades?\n",
    "# Todo: Consolidate stages"
   ]
  },
  {
   "cell_type": "code",
   "execution_count": 7,
   "metadata": {},
   "outputs": [
    {
     "data": {
      "text/html": [
       "\n",
       "<div id=\"altair-viz-fb4a21e87ad2468886633aae6bc2190e\"></div>\n",
       "<script type=\"text/javascript\">\n",
       "  (function(spec, embedOpt){\n",
       "    let outputDiv = document.currentScript.previousElementSibling;\n",
       "    if (outputDiv.id !== \"altair-viz-fb4a21e87ad2468886633aae6bc2190e\") {\n",
       "      outputDiv = document.getElementById(\"altair-viz-fb4a21e87ad2468886633aae6bc2190e\");\n",
       "    }\n",
       "    const paths = {\n",
       "      \"vega\": \"https://cdn.jsdelivr.net/npm//vega@5?noext\",\n",
       "      \"vega-lib\": \"https://cdn.jsdelivr.net/npm//vega-lib?noext\",\n",
       "      \"vega-lite\": \"https://cdn.jsdelivr.net/npm//vega-lite@4.8.1?noext\",\n",
       "      \"vega-embed\": \"https://cdn.jsdelivr.net/npm//vega-embed@6?noext\",\n",
       "    };\n",
       "\n",
       "    function loadScript(lib) {\n",
       "      return new Promise(function(resolve, reject) {\n",
       "        var s = document.createElement('script');\n",
       "        s.src = paths[lib];\n",
       "        s.async = true;\n",
       "        s.onload = () => resolve(paths[lib]);\n",
       "        s.onerror = () => reject(`Error loading script: ${paths[lib]}`);\n",
       "        document.getElementsByTagName(\"head\")[0].appendChild(s);\n",
       "      });\n",
       "    }\n",
       "\n",
       "    function showError(err) {\n",
       "      outputDiv.innerHTML = `<div class=\"error\" style=\"color:red;\">${err}</div>`;\n",
       "      throw err;\n",
       "    }\n",
       "\n",
       "    function displayChart(vegaEmbed) {\n",
       "      vegaEmbed(outputDiv, spec, embedOpt)\n",
       "        .catch(err => showError(`Javascript Error: ${err.message}<br>This usually means there's a typo in your chart specification. See the javascript console for the full traceback.`));\n",
       "    }\n",
       "\n",
       "    if(typeof define === \"function\" && define.amd) {\n",
       "      requirejs.config({paths});\n",
       "      require([\"vega-embed\"], displayChart, err => showError(`Error loading script: ${err.message}`));\n",
       "    } else if (typeof vegaEmbed === \"function\") {\n",
       "      displayChart(vegaEmbed);\n",
       "    } else {\n",
       "      loadScript(\"vega\")\n",
       "        .then(() => loadScript(\"vega-lite\"))\n",
       "        .then(() => loadScript(\"vega-embed\"))\n",
       "        .catch(showError)\n",
       "        .then(() => displayChart(vegaEmbed));\n",
       "    }\n",
       "  })({\"config\": {\"view\": {\"continuousWidth\": 400, \"continuousHeight\": 300}}, \"data\": {\"name\": \"data-4afd092b9c49c7183c73f97e6a2c5951\"}, \"mark\": \"bar\", \"encoding\": {\"x\": {\"type\": \"quantitative\", \"bin\": {}, \"field\": \"Age\"}, \"y\": {\"type\": \"quantitative\", \"aggregate\": \"count\"}}, \"$schema\": \"https://vega.github.io/schema/vega-lite/v4.8.1.json\", \"datasets\": {\"data-4afd092b9c49c7183c73f97e6a2c5951\": [{\"Replicate_Measurement_IDs\": \"CPT000814\", \"Sample_Tumor_Normal\": \"Tumor\", \"Age.in.Month\": null, \"Gender\": null, \"Race\": \"black.or.african.american\", \"Human.Readable.Label\": \"CPT000814 0004\", \"Experiment\": \"13\", \"Channel\": \"127C\", \"Stage\": \"Stage IIA\", \"PAM50\": \"Basal\", \"NMF.v2.1\": null, \"ER\": \"negative\", \"PR\": \"negative\", \"ER.IHC.Score\": null, \"PR.IHC.Score\": null, \"Coring.or.Excision\": null, \"Ischemia.Time.in.Minutes\": null, \"Ischemia.Decade\": null, \"Necrosis\": null, \"Tumor.Cellularity\": null, \"Total.Cellularity\": null, \"In.CR\": null, \"QC.status\": \"QC.pass\", \"8q_gain\": true, \"8p_loss\": true, \"Age\": null}, {\"Replicate_Measurement_IDs\": \"CPT001846\", \"Sample_Tumor_Normal\": \"Tumor\", \"Age.in.Month\": null, \"Gender\": null, \"Race\": \"white\", \"Human.Readable.Label\": \"CPT001846 0005\", \"Experiment\": \"12\", \"Channel\": \"128C\", \"Stage\": \"Stage III\", \"PAM50\": \"Basal\", \"NMF.v2.1\": null, \"ER\": \"negative\", \"PR\": \"negative\", \"ER.IHC.Score\": null, \"PR.IHC.Score\": null, \"Coring.or.Excision\": null, \"Ischemia.Time.in.Minutes\": null, \"Ischemia.Decade\": null, \"Necrosis\": null, \"Tumor.Cellularity\": null, \"Total.Cellularity\": null, \"In.CR\": null, \"QC.status\": \"QC.pass\", \"8q_gain\": true, \"8p_loss\": false, \"Age\": null}, {\"Replicate_Measurement_IDs\": \"X01BR001\", \"Sample_Tumor_Normal\": \"Tumor\", \"Age.in.Month\": 660.0, \"Gender\": \"female\", \"Race\": \"black.or.african.american\", \"Human.Readable.Label\": \"[17]-af938b_D2\", \"Experiment\": \"2\", \"Channel\": \"129N\", \"Stage\": \"Stage IIB\", \"PAM50\": \"Basal\", \"NMF.v2.1\": \"C4\", \"ER\": \"negative\", \"PR\": \"negative\", \"ER.IHC.Score\": \"0\", \"PR.IHC.Score\": \"0\", \"Coring.or.Excision\": \"coring\", \"Ischemia.Time.in.Minutes\": 0.0, \"Ischemia.Decade\": 1.0, \"Necrosis\": 10.0, \"Tumor.Cellularity\": 70.0, \"Total.Cellularity\": 50.0, \"In.CR\": \"yes\", \"QC.status\": \"QC.pass\", \"8q_gain\": true, \"8p_loss\": true, \"Age\": 55.0}, {\"Replicate_Measurement_IDs\": \"X01BR008\", \"Sample_Tumor_Normal\": \"Tumor\", \"Age.in.Month\": null, \"Gender\": null, \"Race\": null, \"Human.Readable.Label\": \"[cf]-467c39_D1\", \"Experiment\": \"16\", \"Channel\": \"127C\", \"Stage\": null, \"PAM50\": \"Basal\", \"NMF.v2.1\": \"C4\", \"ER\": null, \"PR\": null, \"ER.IHC.Score\": null, \"PR.IHC.Score\": null, \"Coring.or.Excision\": null, \"Ischemia.Time.in.Minutes\": null, \"Ischemia.Decade\": null, \"Necrosis\": 0.0, \"Tumor.Cellularity\": 90.0, \"Total.Cellularity\": 60.0, \"In.CR\": \"no\", \"QC.status\": \"QC.pass\", \"8q_gain\": true, \"8p_loss\": false, \"Age\": null}, {\"Replicate_Measurement_IDs\": \"X01BR009\", \"Sample_Tumor_Normal\": \"Tumor\", \"Age.in.Month\": null, \"Gender\": null, \"Race\": null, \"Human.Readable.Label\": \"[0e]-051582_D1\", \"Experiment\": \"16\", \"Channel\": \"127N\", \"Stage\": null, \"PAM50\": \"Basal\", \"NMF.v2.1\": \"C4\", \"ER\": \"negative\", \"PR\": \"negative\", \"ER.IHC.Score\": null, \"PR.IHC.Score\": null, \"Coring.or.Excision\": null, \"Ischemia.Time.in.Minutes\": null, \"Ischemia.Decade\": null, \"Necrosis\": 0.0, \"Tumor.Cellularity\": 80.0, \"Total.Cellularity\": 70.0, \"In.CR\": \"no\", \"QC.status\": \"QC.pass\", \"8q_gain\": true, \"8p_loss\": false, \"Age\": null}, {\"Replicate_Measurement_IDs\": \"X01BR010\", \"Sample_Tumor_Normal\": \"Tumor\", \"Age.in.Month\": null, \"Gender\": null, \"Race\": null, \"Human.Readable.Label\": \"[26]-5e5d29_D1\", \"Experiment\": \"17\", \"Channel\": \"130C\", \"Stage\": null, \"PAM50\": \"Her2\", \"NMF.v2.1\": \"C1\", \"ER\": \"negative\", \"PR\": \"negative\", \"ER.IHC.Score\": null, \"PR.IHC.Score\": null, \"Coring.or.Excision\": null, \"Ischemia.Time.in.Minutes\": null, \"Ischemia.Decade\": null, \"Necrosis\": 0.0, \"Tumor.Cellularity\": 70.0, \"Total.Cellularity\": 70.0, \"In.CR\": \"no\", \"QC.status\": \"QC.pass\", \"8q_gain\": true, \"8p_loss\": false, \"Age\": null}, {\"Replicate_Measurement_IDs\": \"X01BR015\", \"Sample_Tumor_Normal\": \"Tumor\", \"Age.in.Month\": 420.0, \"Gender\": \"female\", \"Race\": \"white\", \"Human.Readable.Label\": \"[42]-e7fe56_D2\", \"Experiment\": \"2\", \"Channel\": \"128N\", \"Stage\": \"Stage IIB\", \"PAM50\": \"LumA\", \"NMF.v2.1\": \"C3\", \"ER\": \"positive\", \"PR\": \"positive\", \"ER.IHC.Score\": \"2+\", \"PR.IHC.Score\": \"3+\", \"Coring.or.Excision\": \"coring\", \"Ischemia.Time.in.Minutes\": 1.0, \"Ischemia.Decade\": 1.0, \"Necrosis\": 0.0, \"Tumor.Cellularity\": 60.0, \"Total.Cellularity\": 50.0, \"In.CR\": \"no\", \"QC.status\": \"QC.pass\", \"8q_gain\": true, \"8p_loss\": true, \"Age\": 35.0}, {\"Replicate_Measurement_IDs\": \"X01BR017\", \"Sample_Tumor_Normal\": \"Tumor\", \"Age.in.Month\": 540.0, \"Gender\": \"female\", \"Race\": \"white\", \"Human.Readable.Label\": \"[09]-e221e0_D2\", \"Experiment\": \"1\", \"Channel\": \"130C\", \"Stage\": \"Stage III\", \"PAM50\": \"Her2\", \"NMF.v2.1\": \"C4\", \"ER\": \"negative\", \"PR\": \"negative\", \"ER.IHC.Score\": \"0\", \"PR.IHC.Score\": \"0\", \"Coring.or.Excision\": \"coring\", \"Ischemia.Time.in.Minutes\": 0.0, \"Ischemia.Decade\": 1.0, \"Necrosis\": 5.0, \"Tumor.Cellularity\": 70.0, \"Total.Cellularity\": 70.0, \"In.CR\": \"no\", \"QC.status\": \"QC.pass\", \"8q_gain\": false, \"8p_loss\": false, \"Age\": 45.0}, {\"Replicate_Measurement_IDs\": \"X01BR018\", \"Sample_Tumor_Normal\": \"Tumor\", \"Age.in.Month\": 792.0, \"Gender\": \"female\", \"Race\": \"white\", \"Human.Readable.Label\": \"[d1]-84cfb8_D8\", \"Experiment\": \"7\", \"Channel\": \"129N\", \"Stage\": \"Stage IIIA\", \"PAM50\": \"Basal\", \"NMF.v2.1\": \"C4\", \"ER\": \"positive\", \"PR\": \"negative\", \"ER.IHC.Score\": \"2+\", \"PR.IHC.Score\": \"0\", \"Coring.or.Excision\": \"coring\", \"Ischemia.Time.in.Minutes\": 1.0, \"Ischemia.Decade\": 1.0, \"Necrosis\": 5.0, \"Tumor.Cellularity\": 80.0, \"Total.Cellularity\": 30.0, \"In.CR\": \"yes\", \"QC.status\": \"QC.pass\", \"8q_gain\": false, \"8p_loss\": true, \"Age\": 66.0}, {\"Replicate_Measurement_IDs\": \"X01BR020\", \"Sample_Tumor_Normal\": \"Tumor\", \"Age.in.Month\": null, \"Gender\": null, \"Race\": null, \"Human.Readable.Label\": \"[3f]-2fca26_D1\", \"Experiment\": \"17\", \"Channel\": \"127C\", \"Stage\": null, \"PAM50\": \"Basal\", \"NMF.v2.1\": \"C4\", \"ER\": \"negative\", \"PR\": \"negative\", \"ER.IHC.Score\": null, \"PR.IHC.Score\": null, \"Coring.or.Excision\": null, \"Ischemia.Time.in.Minutes\": null, \"Ischemia.Decade\": null, \"Necrosis\": 5.0, \"Tumor.Cellularity\": 98.0, \"Total.Cellularity\": 60.0, \"In.CR\": \"no\", \"QC.status\": \"QC.pass\", \"8q_gain\": true, \"8p_loss\": true, \"Age\": null}, {\"Replicate_Measurement_IDs\": \"X01BR023\", \"Sample_Tumor_Normal\": \"Tumor\", \"Age.in.Month\": null, \"Gender\": null, \"Race\": null, \"Human.Readable.Label\": \"[c8]-26129c_D1\", \"Experiment\": \"17\", \"Channel\": \"126\", \"Stage\": null, \"PAM50\": \"LumA\", \"NMF.v2.1\": \"C2\", \"ER\": \"positive\", \"PR\": \"positive\", \"ER.IHC.Score\": null, \"PR.IHC.Score\": null, \"Coring.or.Excision\": null, \"Ischemia.Time.in.Minutes\": null, \"Ischemia.Decade\": null, \"Necrosis\": 0.0, \"Tumor.Cellularity\": 90.0, \"Total.Cellularity\": 60.0, \"In.CR\": \"no\", \"QC.status\": \"QC.pass\", \"8q_gain\": true, \"8p_loss\": true, \"Age\": null}, {\"Replicate_Measurement_IDs\": \"X01BR025\", \"Sample_Tumor_Normal\": \"Tumor\", \"Age.in.Month\": 744.0, \"Gender\": \"female\", \"Race\": \"black.or.african.american\", \"Human.Readable.Label\": \"[d6]-829353_D2\", \"Experiment\": \"9\", \"Channel\": \"127N\", \"Stage\": \"Stage IIIA\", \"PAM50\": \"LumA\", \"NMF.v2.1\": null, \"ER\": \"positive\", \"PR\": \"positive\", \"ER.IHC.Score\": null, \"PR.IHC.Score\": \"2+\", \"Coring.or.Excision\": \"coring\", \"Ischemia.Time.in.Minutes\": 6.0, \"Ischemia.Decade\": 1.0, \"Necrosis\": 10.0, \"Tumor.Cellularity\": 60.0, \"Total.Cellularity\": 80.0, \"In.CR\": \"no\", \"QC.status\": \"QC.pass\", \"8q_gain\": true, \"8p_loss\": false, \"Age\": 62.0}, {\"Replicate_Measurement_IDs\": \"X01BR026\", \"Sample_Tumor_Normal\": \"Tumor\", \"Age.in.Month\": null, \"Gender\": null, \"Race\": \"white\", \"Human.Readable.Label\": \"[88]-0e1f49\", \"Experiment\": \"16\", \"Channel\": \"129N\", \"Stage\": null, \"PAM50\": \"Basal\", \"NMF.v2.1\": \"C4\", \"ER\": \"negative\", \"PR\": \"negative\", \"ER.IHC.Score\": null, \"PR.IHC.Score\": null, \"Coring.or.Excision\": null, \"Ischemia.Time.in.Minutes\": null, \"Ischemia.Decade\": null, \"Necrosis\": 0.0, \"Tumor.Cellularity\": 70.0, \"Total.Cellularity\": 20.0, \"In.CR\": \"no\", \"QC.status\": \"QC.pass\", \"8q_gain\": true, \"8p_loss\": true, \"Age\": null}, {\"Replicate_Measurement_IDs\": \"X01BR027\", \"Sample_Tumor_Normal\": \"Tumor\", \"Age.in.Month\": 960.0, \"Gender\": \"female\", \"Race\": \"black.or.african.american\", \"Human.Readable.Label\": \"[19]-91cdc1_D2\", \"Experiment\": \"3\", \"Channel\": \"127N\", \"Stage\": \"Stage IIA\", \"PAM50\": \"Basal\", \"NMF.v2.1\": \"C4\", \"ER\": \"negative\", \"PR\": \"negative\", \"ER.IHC.Score\": \"0\", \"PR.IHC.Score\": \"0\", \"Coring.or.Excision\": \"coring\", \"Ischemia.Time.in.Minutes\": 8.0, \"Ischemia.Decade\": 1.0, \"Necrosis\": 10.0, \"Tumor.Cellularity\": 90.0, \"Total.Cellularity\": 80.0, \"In.CR\": \"yes\", \"QC.status\": \"QC.pass\", \"8q_gain\": true, \"8p_loss\": true, \"Age\": 80.0}, {\"Replicate_Measurement_IDs\": \"X01BR030\", \"Sample_Tumor_Normal\": \"Tumor\", \"Age.in.Month\": 1010.0, \"Gender\": \"female\", \"Race\": \"black.or.african.american\", \"Human.Readable.Label\": \"[1f]-38cd2b_D2\", \"Experiment\": \"7\", \"Channel\": \"128C\", \"Stage\": \"Stage IIIA\", \"PAM50\": \"LumA\", \"NMF.v2.1\": \"C3\", \"ER\": \"positive\", \"PR\": \"positive\", \"ER.IHC.Score\": null, \"PR.IHC.Score\": null, \"Coring.or.Excision\": \"coring\", \"Ischemia.Time.in.Minutes\": 4.0, \"Ischemia.Decade\": 1.0, \"Necrosis\": 0.0, \"Tumor.Cellularity\": 80.0, \"Total.Cellularity\": 60.0, \"In.CR\": \"no\", \"QC.status\": \"QC.pass\", \"8q_gain\": true, \"8p_loss\": true, \"Age\": 84.16666666666667}, {\"Replicate_Measurement_IDs\": \"X01BR031\", \"Sample_Tumor_Normal\": \"Tumor\", \"Age.in.Month\": 740.0, \"Gender\": \"female\", \"Race\": \"black.or.african.american\", \"Human.Readable.Label\": \"[96]-a71e7c_D2\", \"Experiment\": \"6\", \"Channel\": \"130N\", \"Stage\": \"Stage III\", \"PAM50\": \"Basal\", \"NMF.v2.1\": \"C4\", \"ER\": \"negative\", \"PR\": \"negative\", \"ER.IHC.Score\": \"0\", \"PR.IHC.Score\": \"0\", \"Coring.or.Excision\": \"coring\", \"Ischemia.Time.in.Minutes\": 9.0, \"Ischemia.Decade\": 1.0, \"Necrosis\": 15.0, \"Tumor.Cellularity\": 65.0, \"Total.Cellularity\": 50.0, \"In.CR\": \"yes\", \"QC.status\": \"QC.pass\", \"8q_gain\": true, \"8p_loss\": false, \"Age\": 61.666666666666664}, {\"Replicate_Measurement_IDs\": \"X01BR032\", \"Sample_Tumor_Normal\": \"Tumor\", \"Age.in.Month\": 557.0, \"Gender\": \"female\", \"Race\": \"white\", \"Human.Readable.Label\": \"[e5]-fd1231_D2\", \"Experiment\": \"2\", \"Channel\": \"130N\", \"Stage\": \"Stage IIIB\", \"PAM50\": \"LumB\", \"NMF.v2.1\": \"C2\", \"ER\": \"positive\", \"PR\": \"positive\", \"ER.IHC.Score\": \"4+\", \"PR.IHC.Score\": \"4+\", \"Coring.or.Excision\": \"excision\", \"Ischemia.Time.in.Minutes\": 0.0, \"Ischemia.Decade\": 1.0, \"Necrosis\": 5.0, \"Tumor.Cellularity\": 75.0, \"Total.Cellularity\": 75.0, \"In.CR\": \"yes\", \"QC.status\": \"QC.pass\", \"8q_gain\": false, \"8p_loss\": false, \"Age\": 46.416666666666664}, {\"Replicate_Measurement_IDs\": \"X01BR033\", \"Sample_Tumor_Normal\": \"Tumor\", \"Age.in.Month\": 485.0, \"Gender\": \"female\", \"Race\": \"black.or.african.american\", \"Human.Readable.Label\": \"[c6]-daca71_D2\", \"Experiment\": \"5\", \"Channel\": \"128N\", \"Stage\": \"Stage III\", \"PAM50\": \"LumA\", \"NMF.v2.1\": \"C3\", \"ER\": \"positive\", \"PR\": \"positive\", \"ER.IHC.Score\": \"3+\", \"PR.IHC.Score\": \"2+\", \"Coring.or.Excision\": \"coring\", \"Ischemia.Time.in.Minutes\": 10.0, \"Ischemia.Decade\": 1.0, \"Necrosis\": 0.0, \"Tumor.Cellularity\": 60.0, \"Total.Cellularity\": 60.0, \"In.CR\": \"no\", \"QC.status\": \"QC.pass\", \"8q_gain\": false, \"8p_loss\": true, \"Age\": 40.416666666666664}, {\"Replicate_Measurement_IDs\": \"X01BR040\", \"Sample_Tumor_Normal\": \"Tumor\", \"Age.in.Month\": null, \"Gender\": null, \"Race\": \"black.or.african.american\", \"Human.Readable.Label\": \"[4a]-c11709_D2\", \"Experiment\": \"11\", \"Channel\": \"127N\", \"Stage\": \"Stage IIB\", \"PAM50\": \"Basal\", \"NMF.v2.1\": \"C4\", \"ER\": \"negative\", \"PR\": \"negative\", \"ER.IHC.Score\": null, \"PR.IHC.Score\": null, \"Coring.or.Excision\": null, \"Ischemia.Time.in.Minutes\": null, \"Ischemia.Decade\": null, \"Necrosis\": 10.0, \"Tumor.Cellularity\": 80.0, \"Total.Cellularity\": 70.0, \"In.CR\": null, \"QC.status\": \"QC.pass\", \"8q_gain\": true, \"8p_loss\": false, \"Age\": null}, {\"Replicate_Measurement_IDs\": \"X01BR042\", \"Sample_Tumor_Normal\": \"Tumor\", \"Age.in.Month\": null, \"Gender\": null, \"Race\": \"black.or.african.american\", \"Human.Readable.Label\": \"[4d]-d77da9_D2\", \"Experiment\": \"13\", \"Channel\": \"128N\", \"Stage\": null, \"PAM50\": \"Basal\", \"NMF.v2.1\": \"C4\", \"ER\": \"negative\", \"PR\": \"negative\", \"ER.IHC.Score\": null, \"PR.IHC.Score\": null, \"Coring.or.Excision\": null, \"Ischemia.Time.in.Minutes\": null, \"Ischemia.Decade\": null, \"Necrosis\": null, \"Tumor.Cellularity\": null, \"Total.Cellularity\": null, \"In.CR\": null, \"QC.status\": \"QC.pass\", \"8q_gain\": false, \"8p_loss\": false, \"Age\": null}, {\"Replicate_Measurement_IDs\": \"X01BR043\", \"Sample_Tumor_Normal\": \"Tumor\", \"Age.in.Month\": null, \"Gender\": null, \"Race\": \"white\", \"Human.Readable.Label\": \"[c4]-1b83f7_D2\", \"Experiment\": \"9\", \"Channel\": \"129C\", \"Stage\": null, \"PAM50\": \"Basal\", \"NMF.v2.1\": \"C4\", \"ER\": \"negative\", \"PR\": \"negative\", \"ER.IHC.Score\": null, \"PR.IHC.Score\": null, \"Coring.or.Excision\": null, \"Ischemia.Time.in.Minutes\": null, \"Ischemia.Decade\": null, \"Necrosis\": 20.0, \"Tumor.Cellularity\": 70.0, \"Total.Cellularity\": 60.0, \"In.CR\": \"no\", \"QC.status\": \"QC.pass\", \"8q_gain\": true, \"8p_loss\": true, \"Age\": null}, {\"Replicate_Measurement_IDs\": \"X03BR002\", \"Sample_Tumor_Normal\": \"Tumor\", \"Age.in.Month\": 727.0, \"Gender\": \"female\", \"Race\": \"white\", \"Human.Readable.Label\": \"[ca]-80f7eb_D2\", \"Experiment\": \"12\", \"Channel\": \"126\", \"Stage\": \"Stage IIIA\", \"PAM50\": \"LumA\", \"NMF.v2.1\": null, \"ER\": \"positive\", \"PR\": \"positive\", \"ER.IHC.Score\": \"3+\", \"PR.IHC.Score\": \"3+\", \"Coring.or.Excision\": \"excision\", \"Ischemia.Time.in.Minutes\": 15.0, \"Ischemia.Decade\": 2.0, \"Necrosis\": 0.0, \"Tumor.Cellularity\": 90.0, \"Total.Cellularity\": 40.0, \"In.CR\": \"no\", \"QC.status\": \"QC.pass\", \"8q_gain\": true, \"8p_loss\": true, \"Age\": 60.583333333333336}, {\"Replicate_Measurement_IDs\": \"X03BR004\", \"Sample_Tumor_Normal\": \"Tumor\", \"Age.in.Month\": 1064.0, \"Gender\": \"female\", \"Race\": \"white\", \"Human.Readable.Label\": \"[46]-be8121_D2\", \"Experiment\": \"3\", \"Channel\": \"130N\", \"Stage\": \"Stage IIB\", \"PAM50\": \"LumA\", \"NMF.v2.1\": \"C3\", \"ER\": \"positive\", \"PR\": \"positive\", \"ER.IHC.Score\": \"3+\", \"PR.IHC.Score\": \"3+\", \"Coring.or.Excision\": \"excision\", \"Ischemia.Time.in.Minutes\": 24.0, \"Ischemia.Decade\": 3.0, \"Necrosis\": 0.0, \"Tumor.Cellularity\": 70.0, \"Total.Cellularity\": 75.0, \"In.CR\": \"no\", \"QC.status\": \"QC.pass\", \"8q_gain\": true, \"8p_loss\": true, \"Age\": 88.66666666666667}, {\"Replicate_Measurement_IDs\": \"X03BR005\", \"Sample_Tumor_Normal\": \"Tumor\", \"Age.in.Month\": 738.0, \"Gender\": \"female\", \"Race\": \"white\", \"Human.Readable.Label\": \"[96]-dc390b_D2\", \"Experiment\": \"7\", \"Channel\": \"126\", \"Stage\": \"Stage IIA\", \"PAM50\": \"LumA\", \"NMF.v2.1\": null, \"ER\": \"positive\", \"PR\": \"positive\", \"ER.IHC.Score\": \"3+\", \"PR.IHC.Score\": \"3+\", \"Coring.or.Excision\": \"excision\", \"Ischemia.Time.in.Minutes\": 12.0, \"Ischemia.Decade\": 2.0, \"Necrosis\": 0.0, \"Tumor.Cellularity\": 70.0, \"Total.Cellularity\": 1.0, \"In.CR\": \"no\", \"QC.status\": \"QC.pass\", \"8q_gain\": true, \"8p_loss\": true, \"Age\": 61.5}, {\"Replicate_Measurement_IDs\": \"X03BR006\", \"Sample_Tumor_Normal\": \"Tumor\", \"Age.in.Month\": null, \"Gender\": null, \"Race\": \"white\", \"Human.Readable.Label\": \"[07]-348352\", \"Experiment\": \"16\", \"Channel\": \"130N\", \"Stage\": null, \"PAM50\": \"Basal\", \"NMF.v2.1\": \"C4\", \"ER\": \"negative\", \"PR\": \"negative\", \"ER.IHC.Score\": null, \"PR.IHC.Score\": null, \"Coring.or.Excision\": null, \"Ischemia.Time.in.Minutes\": null, \"Ischemia.Decade\": null, \"Necrosis\": 10.0, \"Tumor.Cellularity\": 95.0, \"Total.Cellularity\": 70.0, \"In.CR\": \"no\", \"QC.status\": \"QC.pass\", \"8q_gain\": true, \"8p_loss\": false, \"Age\": null}, {\"Replicate_Measurement_IDs\": \"X03BR010\", \"Sample_Tumor_Normal\": \"Tumor\", \"Age.in.Month\": 943.0, \"Gender\": \"female\", \"Race\": \"white\", \"Human.Readable.Label\": \"[49]-139c3d_D2\", \"Experiment\": \"5\", \"Channel\": \"129C\", \"Stage\": \"Stage IIA\", \"PAM50\": \"LumA\", \"NMF.v2.1\": \"C2\", \"ER\": \"positive\", \"PR\": \"positive\", \"ER.IHC.Score\": \"3+\", \"PR.IHC.Score\": \"3+\", \"Coring.or.Excision\": \"excision\", \"Ischemia.Time.in.Minutes\": 21.0, \"Ischemia.Decade\": 3.0, \"Necrosis\": 0.0, \"Tumor.Cellularity\": 80.0, \"Total.Cellularity\": 60.0, \"In.CR\": \"no\", \"QC.status\": \"QC.pass\", \"8q_gain\": false, \"8p_loss\": false, \"Age\": 78.58333333333333}, {\"Replicate_Measurement_IDs\": \"X03BR011\", \"Sample_Tumor_Normal\": \"Tumor\", \"Age.in.Month\": null, \"Gender\": null, \"Race\": \"white\", \"Human.Readable.Label\": \"[60]-5fb803\", \"Experiment\": \"17\", \"Channel\": \"129C\", \"Stage\": null, \"PAM50\": \"LumA\", \"NMF.v2.1\": \"C2\", \"ER\": \"positive\", \"PR\": \"negative\", \"ER.IHC.Score\": null, \"PR.IHC.Score\": null, \"Coring.or.Excision\": null, \"Ischemia.Time.in.Minutes\": null, \"Ischemia.Decade\": null, \"Necrosis\": 0.0, \"Tumor.Cellularity\": 70.0, \"Total.Cellularity\": 80.0, \"In.CR\": \"no\", \"QC.status\": \"QC.pass\", \"8q_gain\": false, \"8p_loss\": true, \"Age\": null}, {\"Replicate_Measurement_IDs\": \"X03BR013\", \"Sample_Tumor_Normal\": \"Tumor\", \"Age.in.Month\": 626.0, \"Gender\": \"female\", \"Race\": null, \"Human.Readable.Label\": \"[01]-7c40cf_D2\", \"Experiment\": \"3\", \"Channel\": \"128C\", \"Stage\": \"Stage IIA\", \"PAM50\": \"LumA\", \"NMF.v2.1\": \"C3\", \"ER\": \"positive\", \"PR\": \"positive\", \"ER.IHC.Score\": \"3+\", \"PR.IHC.Score\": \"3+\", \"Coring.or.Excision\": \"excision\", \"Ischemia.Time.in.Minutes\": 9.0, \"Ischemia.Decade\": 1.0, \"Necrosis\": 0.0, \"Tumor.Cellularity\": 70.0, \"Total.Cellularity\": 50.0, \"In.CR\": \"no\", \"QC.status\": \"QC.pass\", \"8q_gain\": false, \"8p_loss\": true, \"Age\": 52.166666666666664}, {\"Replicate_Measurement_IDs\": \"X05BR001\", \"Sample_Tumor_Normal\": \"Tumor\", \"Age.in.Month\": 840.0, \"Gender\": \"female\", \"Race\": \"white\", \"Human.Readable.Label\": \"[55]-d77a5d_D2\", \"Experiment\": \"6\", \"Channel\": \"128N\", \"Stage\": \"Stage IIB\", \"PAM50\": \"Basal\", \"NMF.v2.1\": null, \"ER\": \"negative\", \"PR\": \"positive\", \"ER.IHC.Score\": \"0\", \"PR.IHC.Score\": \"0\", \"Coring.or.Excision\": \"excision\", \"Ischemia.Time.in.Minutes\": 29.0, \"Ischemia.Decade\": 3.0, \"Necrosis\": 0.0, \"Tumor.Cellularity\": 90.0, \"Total.Cellularity\": 40.0, \"In.CR\": \"no\", \"QC.status\": \"QC.pass\", \"8q_gain\": true, \"8p_loss\": false, \"Age\": 70.0}, {\"Replicate_Measurement_IDs\": \"X05BR003\", \"Sample_Tumor_Normal\": \"Tumor\", \"Age.in.Month\": 451.0, \"Gender\": \"female\", \"Race\": \"white\", \"Human.Readable.Label\": \"[ff]-c23321_D2\", \"Experiment\": \"9\", \"Channel\": \"130N\", \"Stage\": \"Stage IIB\", \"PAM50\": \"LumA\", \"NMF.v2.1\": \"C3\", \"ER\": \"positive\", \"PR\": \"positive\", \"ER.IHC.Score\": null, \"PR.IHC.Score\": \"0\", \"Coring.or.Excision\": \"excision\", \"Ischemia.Time.in.Minutes\": 30.0, \"Ischemia.Decade\": 3.0, \"Necrosis\": 0.0, \"Tumor.Cellularity\": 70.0, \"Total.Cellularity\": 20.0, \"In.CR\": \"no\", \"QC.status\": \"QC.pass\", \"8q_gain\": false, \"8p_loss\": true, \"Age\": 37.583333333333336}, {\"Replicate_Measurement_IDs\": \"X05BR004\", \"Sample_Tumor_Normal\": \"Tumor\", \"Age.in.Month\": null, \"Gender\": null, \"Race\": \"white\", \"Human.Readable.Label\": \"[71]-6e1420_D1\", \"Experiment\": \"16\", \"Channel\": \"129C\", \"Stage\": null, \"PAM50\": \"LumA\", \"NMF.v2.1\": \"C3\", \"ER\": \"positive\", \"PR\": \"positive\", \"ER.IHC.Score\": null, \"PR.IHC.Score\": null, \"Coring.or.Excision\": null, \"Ischemia.Time.in.Minutes\": null, \"Ischemia.Decade\": null, \"Necrosis\": 0.0, \"Tumor.Cellularity\": 90.0, \"Total.Cellularity\": 60.0, \"In.CR\": \"no\", \"QC.status\": \"QC.pass\", \"8q_gain\": false, \"8p_loss\": false, \"Age\": null}, {\"Replicate_Measurement_IDs\": \"X05BR005\", \"Sample_Tumor_Normal\": \"Tumor\", \"Age.in.Month\": 600.0, \"Gender\": \"female\", \"Race\": \"white\", \"Human.Readable.Label\": \"[68]-35bd46_D2\", \"Experiment\": \"12\", \"Channel\": \"130C\", \"Stage\": \"Stage IA\", \"PAM50\": \"LumA\", \"NMF.v2.1\": \"C3\", \"ER\": \"positive\", \"PR\": \"positive\", \"ER.IHC.Score\": \"0\", \"PR.IHC.Score\": \"0\", \"Coring.or.Excision\": \"excision\", \"Ischemia.Time.in.Minutes\": 11.0, \"Ischemia.Decade\": 2.0, \"Necrosis\": 0.0, \"Tumor.Cellularity\": 65.0, \"Total.Cellularity\": 30.0, \"In.CR\": \"no\", \"QC.status\": \"QC.pass\", \"8q_gain\": true, \"8p_loss\": false, \"Age\": 50.0}, {\"Replicate_Measurement_IDs\": \"X05BR009\", \"Sample_Tumor_Normal\": \"Tumor\", \"Age.in.Month\": 772.0, \"Gender\": \"female\", \"Race\": \"white\", \"Human.Readable.Label\": \"[48]-d0e30a_D2\", \"Experiment\": \"9\", \"Channel\": \"126\", \"Stage\": \"Stage IIIC\", \"PAM50\": \"LumA\", \"NMF.v2.1\": \"C3\", \"ER\": \"positive\", \"PR\": \"positive\", \"ER.IHC.Score\": null, \"PR.IHC.Score\": \"0\", \"Coring.or.Excision\": \"excision\", \"Ischemia.Time.in.Minutes\": 28.0, \"Ischemia.Decade\": 3.0, \"Necrosis\": 0.0, \"Tumor.Cellularity\": 90.0, \"Total.Cellularity\": 10.0, \"In.CR\": \"no\", \"QC.status\": \"QC.pass\", \"8q_gain\": false, \"8p_loss\": false, \"Age\": 64.33333333333333}, {\"Replicate_Measurement_IDs\": \"X05BR016\", \"Sample_Tumor_Normal\": \"Tumor\", \"Age.in.Month\": 938.0, \"Gender\": \"female\", \"Race\": \"white\", \"Human.Readable.Label\": \"[3f]-ec3f8d_D2\", \"Experiment\": \"7\", \"Channel\": \"128N\", \"Stage\": \"Stage IIB\", \"PAM50\": \"LumA\", \"NMF.v2.1\": \"C2\", \"ER\": \"positive\", \"PR\": \"positive\", \"ER.IHC.Score\": \"0\", \"PR.IHC.Score\": \"0\", \"Coring.or.Excision\": \"excision\", \"Ischemia.Time.in.Minutes\": 20.0, \"Ischemia.Decade\": 2.0, \"Necrosis\": 0.0, \"Tumor.Cellularity\": 90.0, \"Total.Cellularity\": 60.0, \"In.CR\": \"yes\", \"QC.status\": \"QC.pass\", \"8q_gain\": true, \"8p_loss\": false, \"Age\": 78.16666666666667}, {\"Replicate_Measurement_IDs\": \"X05BR026\", \"Sample_Tumor_Normal\": \"Tumor\", \"Age.in.Month\": 858.0, \"Gender\": \"female\", \"Race\": \"white\", \"Human.Readable.Label\": \"[d1]-3b2a6f_D2\", \"Experiment\": \"10\", \"Channel\": \"127N\", \"Stage\": \"Stage IIA\", \"PAM50\": \"LumA\", \"NMF.v2.1\": \"C3\", \"ER\": \"positive\", \"PR\": \"positive\", \"ER.IHC.Score\": \"0\", \"PR.IHC.Score\": \"0\", \"Coring.or.Excision\": \"excision\", \"Ischemia.Time.in.Minutes\": 19.0, \"Ischemia.Decade\": 2.0, \"Necrosis\": 0.0, \"Tumor.Cellularity\": 60.0, \"Total.Cellularity\": 65.0, \"In.CR\": \"no\", \"QC.status\": \"QC.pass\", \"8q_gain\": false, \"8p_loss\": false, \"Age\": 71.5}, {\"Replicate_Measurement_IDs\": \"X05BR029\", \"Sample_Tumor_Normal\": \"Tumor\", \"Age.in.Month\": 743.0, \"Gender\": \"female\", \"Race\": \"white\", \"Human.Readable.Label\": \"[d0]-9254b0_D2\", \"Experiment\": \"9\", \"Channel\": \"130C\", \"Stage\": \"Stage IIA\", \"PAM50\": \"Basal\", \"NMF.v2.1\": \"C4\", \"ER\": \"negative\", \"PR\": \"negative\", \"ER.IHC.Score\": \"0\", \"PR.IHC.Score\": \"0\", \"Coring.or.Excision\": \"excision\", \"Ischemia.Time.in.Minutes\": 13.0, \"Ischemia.Decade\": 2.0, \"Necrosis\": 0.0, \"Tumor.Cellularity\": 85.0, \"Total.Cellularity\": 85.0, \"In.CR\": \"yes\", \"QC.status\": \"QC.pass\", \"8q_gain\": true, \"8p_loss\": true, \"Age\": 61.916666666666664}, {\"Replicate_Measurement_IDs\": \"X05BR038\", \"Sample_Tumor_Normal\": \"Tumor\", \"Age.in.Month\": 627.0, \"Gender\": \"female\", \"Race\": \"white\", \"Human.Readable.Label\": \"[94]-03e182_D2\", \"Experiment\": \"11\", \"Channel\": \"128C\", \"Stage\": \"Stage IA\", \"PAM50\": \"LumA\", \"NMF.v2.1\": \"C3\", \"ER\": \"positive\", \"PR\": \"positive\", \"ER.IHC.Score\": \"0\", \"PR.IHC.Score\": \"0\", \"Coring.or.Excision\": \"excision\", \"Ischemia.Time.in.Minutes\": 22.0, \"Ischemia.Decade\": 3.0, \"Necrosis\": 0.0, \"Tumor.Cellularity\": 60.0, \"Total.Cellularity\": 65.0, \"In.CR\": \"no\", \"QC.status\": \"QC.pass\", \"8q_gain\": false, \"8p_loss\": false, \"Age\": 52.25}, {\"Replicate_Measurement_IDs\": \"X05BR042\", \"Sample_Tumor_Normal\": \"Tumor\", \"Age.in.Month\": 480.0, \"Gender\": \"female\", \"Race\": \"white\", \"Human.Readable.Label\": \"[8a]-7fceb0_D2\", \"Experiment\": \"7\", \"Channel\": \"129C\", \"Stage\": \"Stage IIB\", \"PAM50\": \"Basal\", \"NMF.v2.1\": \"C4\", \"ER\": \"negative\", \"PR\": \"negative\", \"ER.IHC.Score\": \"0\", \"PR.IHC.Score\": \"0\", \"Coring.or.Excision\": \"excision\", \"Ischemia.Time.in.Minutes\": 20.0, \"Ischemia.Decade\": 2.0, \"Necrosis\": 10.0, \"Tumor.Cellularity\": 80.0, \"Total.Cellularity\": 70.0, \"In.CR\": \"no\", \"QC.status\": \"QC.pass\", \"8q_gain\": true, \"8p_loss\": false, \"Age\": 40.0}, {\"Replicate_Measurement_IDs\": \"X05BR043\", \"Sample_Tumor_Normal\": \"Tumor\", \"Age.in.Month\": 600.0, \"Gender\": \"female\", \"Race\": \"white\", \"Human.Readable.Label\": \"[6e]-e2bca3_D2\", \"Experiment\": \"10\", \"Channel\": \"126\", \"Stage\": \"Stage IIB\", \"PAM50\": \"Basal\", \"NMF.v2.1\": \"C4\", \"ER\": \"negative\", \"PR\": \"negative\", \"ER.IHC.Score\": \"0\", \"PR.IHC.Score\": \"0\", \"Coring.or.Excision\": \"excision\", \"Ischemia.Time.in.Minutes\": 16.0, \"Ischemia.Decade\": 2.0, \"Necrosis\": 0.0, \"Tumor.Cellularity\": 75.0, \"Total.Cellularity\": 65.0, \"In.CR\": \"no\", \"QC.status\": \"QC.pass\", \"8q_gain\": true, \"8p_loss\": false, \"Age\": 50.0}, {\"Replicate_Measurement_IDs\": \"X05BR044\", \"Sample_Tumor_Normal\": \"Tumor\", \"Age.in.Month\": 753.0, \"Gender\": \"female\", \"Race\": \"white\", \"Human.Readable.Label\": \"[d0]-f95bdf_D2\", \"Experiment\": \"8\", \"Channel\": \"126\", \"Stage\": \"Stage IIB\", \"PAM50\": \"Her2\", \"NMF.v2.1\": \"C1\", \"ER\": \"negative\", \"PR\": \"negative\", \"ER.IHC.Score\": \"0\", \"PR.IHC.Score\": \"0\", \"Coring.or.Excision\": \"excision\", \"Ischemia.Time.in.Minutes\": 17.0, \"Ischemia.Decade\": 2.0, \"Necrosis\": 5.0, \"Tumor.Cellularity\": 75.0, \"Total.Cellularity\": 75.0, \"In.CR\": \"no\", \"QC.status\": \"QC.pass\", \"8q_gain\": false, \"8p_loss\": false, \"Age\": 62.75}, {\"Replicate_Measurement_IDs\": \"X05BR045\", \"Sample_Tumor_Normal\": \"Tumor\", \"Age.in.Month\": 720.0, \"Gender\": \"female\", \"Race\": \"white\", \"Human.Readable.Label\": \"[92]-cc9d0c_D2\", \"Experiment\": \"2\", \"Channel\": \"130C\", \"Stage\": \"Stage IIA\", \"PAM50\": \"Basal\", \"NMF.v2.1\": \"C4\", \"ER\": \"negative\", \"PR\": \"negative\", \"ER.IHC.Score\": \"0\", \"PR.IHC.Score\": \"0\", \"Coring.or.Excision\": \"excision\", \"Ischemia.Time.in.Minutes\": 13.0, \"Ischemia.Decade\": 2.0, \"Necrosis\": 0.0, \"Tumor.Cellularity\": 65.0, \"Total.Cellularity\": 50.0, \"In.CR\": \"no\", \"QC.status\": \"QC.pass\", \"8q_gain\": true, \"8p_loss\": false, \"Age\": 60.0}, {\"Replicate_Measurement_IDs\": \"X06BR003\", \"Sample_Tumor_Normal\": \"Tumor\", \"Age.in.Month\": 900.0, \"Gender\": \"female\", \"Race\": \"hispanic.or.latino\", \"Human.Readable.Label\": \"[31]-7e67a8_D2\", \"Experiment\": \"1\", \"Channel\": \"129N\", \"Stage\": \"Stage IIA\", \"PAM50\": \"Her2\", \"NMF.v2.1\": \"C1\", \"ER\": \"positive\", \"PR\": \"negative\", \"ER.IHC.Score\": null, \"PR.IHC.Score\": null, \"Coring.or.Excision\": \"excision\", \"Ischemia.Time.in.Minutes\": 11.0, \"Ischemia.Decade\": 2.0, \"Necrosis\": 0.0, \"Tumor.Cellularity\": 70.0, \"Total.Cellularity\": 70.0, \"In.CR\": \"no\", \"QC.status\": \"QC.pass\", \"8q_gain\": true, \"8p_loss\": false, \"Age\": 75.0}, {\"Replicate_Measurement_IDs\": \"X06BR005\", \"Sample_Tumor_Normal\": \"Tumor\", \"Age.in.Month\": 696.0, \"Gender\": \"female\", \"Race\": \"hispanic.or.latino\", \"Human.Readable.Label\": \"[25]-c24e06_D2\", \"Experiment\": \"8\", \"Channel\": \"129C\", \"Stage\": \"Stage IIA\", \"PAM50\": \"LumA\", \"NMF.v2.1\": \"C2\", \"ER\": \"positive\", \"PR\": \"positive\", \"ER.IHC.Score\": null, \"PR.IHC.Score\": null, \"Coring.or.Excision\": \"excision\", \"Ischemia.Time.in.Minutes\": 15.0, \"Ischemia.Decade\": 2.0, \"Necrosis\": 5.0, \"Tumor.Cellularity\": 90.0, \"Total.Cellularity\": 25.0, \"In.CR\": \"no\", \"QC.status\": \"QC.pass\", \"8q_gain\": true, \"8p_loss\": true, \"Age\": 58.0}, {\"Replicate_Measurement_IDs\": \"X06BR006\", \"Sample_Tumor_Normal\": \"Tumor\", \"Age.in.Month\": 612.0, \"Gender\": \"female\", \"Race\": \"hispanic.or.latino\", \"Human.Readable.Label\": \"[37]-ace269_D2\", \"Experiment\": \"2\", \"Channel\": \"126\", \"Stage\": null, \"PAM50\": \"Normal\", \"NMF.v2.1\": \"C3\", \"ER\": \"negative\", \"PR\": \"negative\", \"ER.IHC.Score\": null, \"PR.IHC.Score\": null, \"Coring.or.Excision\": \"coring\", \"Ischemia.Time.in.Minutes\": 14.0, \"Ischemia.Decade\": 2.0, \"Necrosis\": 0.0, \"Tumor.Cellularity\": 80.0, \"Total.Cellularity\": 15.0, \"In.CR\": \"no\", \"QC.status\": \"QC.pass\", \"8q_gain\": true, \"8p_loss\": false, \"Age\": 51.0}, {\"Replicate_Measurement_IDs\": \"X06BR014\", \"Sample_Tumor_Normal\": \"Tumor\", \"Age.in.Month\": 612.0, \"Gender\": \"female\", \"Race\": \"hispanic.or.latino\", \"Human.Readable.Label\": \"[b2]-bdcfed_D2\", \"Experiment\": \"12\", \"Channel\": \"128N\", \"Stage\": \"Stage IIB\", \"PAM50\": \"LumA\", \"NMF.v2.1\": \"C2\", \"ER\": \"positive\", \"PR\": \"positive\", \"ER.IHC.Score\": null, \"PR.IHC.Score\": \"3+\", \"Coring.or.Excision\": \"excision\", \"Ischemia.Time.in.Minutes\": 16.0, \"Ischemia.Decade\": 2.0, \"Necrosis\": 0.0, \"Tumor.Cellularity\": 80.0, \"Total.Cellularity\": 65.0, \"In.CR\": \"no\", \"QC.status\": \"QC.pass\", \"8q_gain\": false, \"8p_loss\": true, \"Age\": 51.0}, {\"Replicate_Measurement_IDs\": \"X09BR001\", \"Sample_Tumor_Normal\": \"Tumor\", \"Age.in.Month\": null, \"Gender\": null, \"Race\": null, \"Human.Readable.Label\": \"[20]-628918\", \"Experiment\": \"17\", \"Channel\": \"129N\", \"Stage\": null, \"PAM50\": \"LumA\", \"NMF.v2.1\": \"C2\", \"ER\": \"positive\", \"PR\": \"positive\", \"ER.IHC.Score\": null, \"PR.IHC.Score\": null, \"Coring.or.Excision\": null, \"Ischemia.Time.in.Minutes\": null, \"Ischemia.Decade\": null, \"Necrosis\": 0.0, \"Tumor.Cellularity\": 98.0, \"Total.Cellularity\": 80.0, \"In.CR\": \"no\", \"QC.status\": \"QC.pass\", \"8q_gain\": false, \"8p_loss\": true, \"Age\": null}, {\"Replicate_Measurement_IDs\": \"X09BR004\", \"Sample_Tumor_Normal\": \"Tumor\", \"Age.in.Month\": 904.0, \"Gender\": \"female\", \"Race\": \"white\", \"Human.Readable.Label\": \"[cf]-3cd6d5_D2\", \"Experiment\": \"11\", \"Channel\": \"130N\", \"Stage\": \"Stage IIA\", \"PAM50\": \"Normal\", \"NMF.v2.1\": \"C4\", \"ER\": \"positive\", \"PR\": \"positive\", \"ER.IHC.Score\": \"3+\", \"PR.IHC.Score\": \"2+\", \"Coring.or.Excision\": \"excision\", \"Ischemia.Time.in.Minutes\": 12.0, \"Ischemia.Decade\": 2.0, \"Necrosis\": 20.0, \"Tumor.Cellularity\": 60.0, \"Total.Cellularity\": 60.0, \"In.CR\": \"yes\", \"QC.status\": \"QC.pass\", \"8q_gain\": true, \"8p_loss\": true, \"Age\": 75.33333333333333}, {\"Replicate_Measurement_IDs\": \"X09BR005\", \"Sample_Tumor_Normal\": \"Tumor\", \"Age.in.Month\": 459.0, \"Gender\": \"female\", \"Race\": \"white\", \"Human.Readable.Label\": \"[15]-8eeb48_D2\", \"Experiment\": \"2\", \"Channel\": \"127N\", \"Stage\": \"Stage IIB\", \"PAM50\": \"Her2\", \"NMF.v2.1\": \"C1\", \"ER\": \"positive\", \"PR\": \"positive\", \"ER.IHC.Score\": \"2+\", \"PR.IHC.Score\": \"2+\", \"Coring.or.Excision\": \"excision\", \"Ischemia.Time.in.Minutes\": 22.0, \"Ischemia.Decade\": 3.0, \"Necrosis\": 0.0, \"Tumor.Cellularity\": 70.0, \"Total.Cellularity\": 70.0, \"In.CR\": \"yes\", \"QC.status\": \"QC.pass\", \"8q_gain\": false, \"8p_loss\": false, \"Age\": 38.25}, {\"Replicate_Measurement_IDs\": \"X09BR007\", \"Sample_Tumor_Normal\": \"Tumor\", \"Age.in.Month\": 930.0, \"Gender\": \"female\", \"Race\": \"white\", \"Human.Readable.Label\": \"[6c]-57ee3d_D2\", \"Experiment\": \"4\", \"Channel\": \"130N\", \"Stage\": \"Stage IIIA\", \"PAM50\": \"LumA\", \"NMF.v2.1\": \"C3\", \"ER\": \"positive\", \"PR\": \"positive\", \"ER.IHC.Score\": \"3+\", \"PR.IHC.Score\": \"3+\", \"Coring.or.Excision\": \"excision\", \"Ischemia.Time.in.Minutes\": 7.0, \"Ischemia.Decade\": 1.0, \"Necrosis\": 2.0, \"Tumor.Cellularity\": 60.0, \"Total.Cellularity\": 55.0, \"In.CR\": \"no\", \"QC.status\": \"QC.pass\", \"8q_gain\": false, \"8p_loss\": true, \"Age\": 77.5}, {\"Replicate_Measurement_IDs\": \"X11BR003\", \"Sample_Tumor_Normal\": \"Tumor\", \"Age.in.Month\": 643.0, \"Gender\": \"female\", \"Race\": \"asian\", \"Human.Readable.Label\": \"[2d]-1e3637_D2\", \"Experiment\": \"3\", \"Channel\": \"130C\", \"Stage\": \"Stage IIA\", \"PAM50\": \"Basal\", \"NMF.v2.1\": \"C4\", \"ER\": \"negative\", \"PR\": \"negative\", \"ER.IHC.Score\": \"0\", \"PR.IHC.Score\": \"0\", \"Coring.or.Excision\": \"excision\", \"Ischemia.Time.in.Minutes\": 5.0, \"Ischemia.Decade\": 1.0, \"Necrosis\": 15.0, \"Tumor.Cellularity\": 90.0, \"Total.Cellularity\": 80.0, \"In.CR\": \"yes\", \"QC.status\": \"QC.pass\", \"8q_gain\": true, \"8p_loss\": false, \"Age\": 53.583333333333336}, {\"Replicate_Measurement_IDs\": \"X11BR004\", \"Sample_Tumor_Normal\": \"Tumor\", \"Age.in.Month\": 654.0, \"Gender\": \"female\", \"Race\": \"asian\", \"Human.Readable.Label\": \"[48]-89ac6b_D2\", \"Experiment\": \"9\", \"Channel\": \"128C\", \"Stage\": \"Stage IIA\", \"PAM50\": \"Her2\", \"NMF.v2.1\": \"C1\", \"ER\": \"positive\", \"PR\": \"positive\", \"ER.IHC.Score\": \"3+\", \"PR.IHC.Score\": \"3+\", \"Coring.or.Excision\": \"excision\", \"Ischemia.Time.in.Minutes\": 5.0, \"Ischemia.Decade\": 1.0, \"Necrosis\": 0.0, \"Tumor.Cellularity\": 60.0, \"Total.Cellularity\": 50.0, \"In.CR\": \"no\", \"QC.status\": \"QC.pass\", \"8q_gain\": true, \"8p_loss\": true, \"Age\": 54.5}, {\"Replicate_Measurement_IDs\": \"X11BR006\", \"Sample_Tumor_Normal\": \"Tumor\", \"Age.in.Month\": 654.0, \"Gender\": \"female\", \"Race\": \"asian\", \"Human.Readable.Label\": \"[47]-85897d_D2\", \"Experiment\": \"8\", \"Channel\": \"127N\", \"Stage\": \"Stage IIA\", \"PAM50\": \"LumA\", \"NMF.v2.1\": \"C3\", \"ER\": \"positive\", \"PR\": \"positive\", \"ER.IHC.Score\": \"2+\", \"PR.IHC.Score\": \"3+\", \"Coring.or.Excision\": \"excision\", \"Ischemia.Time.in.Minutes\": 6.0, \"Ischemia.Decade\": 1.0, \"Necrosis\": 0.0, \"Tumor.Cellularity\": 80.0, \"Total.Cellularity\": 30.0, \"In.CR\": \"no\", \"QC.status\": \"QC.pass\", \"8q_gain\": true, \"8p_loss\": true, \"Age\": 54.5}, {\"Replicate_Measurement_IDs\": \"X11BR009\", \"Sample_Tumor_Normal\": \"Tumor\", \"Age.in.Month\": 530.0, \"Gender\": \"female\", \"Race\": \"asian\", \"Human.Readable.Label\": \"[33]-4f8df2_D2\", \"Experiment\": \"4\", \"Channel\": \"128C\", \"Stage\": \"Stage IIIC\", \"PAM50\": \"LumB\", \"NMF.v2.1\": \"C2\", \"ER\": \"positive\", \"PR\": \"positive\", \"ER.IHC.Score\": \"3+\", \"PR.IHC.Score\": \"3+\", \"Coring.or.Excision\": \"excision\", \"Ischemia.Time.in.Minutes\": 1.0, \"Ischemia.Decade\": 1.0, \"Necrosis\": 0.0, \"Tumor.Cellularity\": 80.0, \"Total.Cellularity\": 80.0, \"In.CR\": \"no\", \"QC.status\": \"QC.pass\", \"8q_gain\": false, \"8p_loss\": false, \"Age\": 44.166666666666664}, {\"Replicate_Measurement_IDs\": \"X11BR010\", \"Sample_Tumor_Normal\": \"Tumor\", \"Age.in.Month\": 427.0, \"Gender\": \"female\", \"Race\": \"asian\", \"Human.Readable.Label\": \"[43]-62617d_D2\", \"Experiment\": \"6\", \"Channel\": \"129C\", \"Stage\": \"Stage IIB\", \"PAM50\": \"LumA\", \"NMF.v2.1\": \"C1\", \"ER\": \"positive\", \"PR\": \"positive\", \"ER.IHC.Score\": \"3+\", \"PR.IHC.Score\": \"2+\", \"Coring.or.Excision\": \"excision\", \"Ischemia.Time.in.Minutes\": 10.0, \"Ischemia.Decade\": 1.0, \"Necrosis\": 1.0, \"Tumor.Cellularity\": 60.0, \"Total.Cellularity\": 80.0, \"In.CR\": \"no\", \"QC.status\": \"QC.pass\", \"8q_gain\": false, \"8p_loss\": false, \"Age\": 35.583333333333336}, {\"Replicate_Measurement_IDs\": \"X11BR011|X11BR011.REP1\", \"Sample_Tumor_Normal\": \"Tumor\", \"Age.in.Month\": 858.0, \"Gender\": \"female\", \"Race\": \"asian\", \"Human.Readable.Label\": \"[bc]-438bda_D2\", \"Experiment\": \"6|17\", \"Channel\": \"130C|127N\", \"Stage\": \"Stage IIIA\", \"PAM50\": \"LumB\", \"NMF.v2.1\": \"C1\", \"ER\": \"positive\", \"PR\": \"positive\", \"ER.IHC.Score\": \"3+\", \"PR.IHC.Score\": \"3+\", \"Coring.or.Excision\": \"excision\", \"Ischemia.Time.in.Minutes\": 10.0, \"Ischemia.Decade\": 1.0, \"Necrosis\": 0.0, \"Tumor.Cellularity\": 90.0, \"Total.Cellularity\": 80.0, \"In.CR\": \"yes\", \"QC.status\": \"QC.pass\", \"8q_gain\": true, \"8p_loss\": true, \"Age\": 71.5}, {\"Replicate_Measurement_IDs\": \"X11BR012\", \"Sample_Tumor_Normal\": \"Tumor\", \"Age.in.Month\": 924.0, \"Gender\": \"female\", \"Race\": \"white\", \"Human.Readable.Label\": \"[98]-d9b7e7_D2\", \"Experiment\": \"13\", \"Channel\": \"130N\", \"Stage\": \"Stage IIA\", \"PAM50\": \"LumA\", \"NMF.v2.1\": \"C2\", \"ER\": \"positive\", \"PR\": \"negative\", \"ER.IHC.Score\": \"3+\", \"PR.IHC.Score\": \"0\", \"Coring.or.Excision\": \"excision\", \"Ischemia.Time.in.Minutes\": 9.0, \"Ischemia.Decade\": 1.0, \"Necrosis\": 0.0, \"Tumor.Cellularity\": 80.0, \"Total.Cellularity\": 70.0, \"In.CR\": \"yes\", \"QC.status\": \"QC.pass\", \"8q_gain\": false, \"8p_loss\": true, \"Age\": 77.0}, {\"Replicate_Measurement_IDs\": \"X11BR013\", \"Sample_Tumor_Normal\": \"Tumor\", \"Age.in.Month\": 840.0, \"Gender\": \"female\", \"Race\": \"white\", \"Human.Readable.Label\": \"[fa]-498d67_D2\", \"Experiment\": \"5\", \"Channel\": \"129N\", \"Stage\": \"Stage IIA\", \"PAM50\": \"LumB\", \"NMF.v2.1\": \"C2\", \"ER\": \"positive\", \"PR\": \"negative\", \"ER.IHC.Score\": \"3+\", \"PR.IHC.Score\": \"0\", \"Coring.or.Excision\": \"excision\", \"Ischemia.Time.in.Minutes\": 9.0, \"Ischemia.Decade\": 1.0, \"Necrosis\": 0.0, \"Tumor.Cellularity\": 60.0, \"Total.Cellularity\": 60.0, \"In.CR\": \"no\", \"QC.status\": \"QC.pass\", \"8q_gain\": true, \"8p_loss\": false, \"Age\": 70.0}, {\"Replicate_Measurement_IDs\": \"X11BR014\", \"Sample_Tumor_Normal\": \"Tumor\", \"Age.in.Month\": 476.0, \"Gender\": \"female\", \"Race\": \"white\", \"Human.Readable.Label\": \"[dd]-9ccc88_D2\", \"Experiment\": \"6\", \"Channel\": \"128C\", \"Stage\": \"Stage IIIA\", \"PAM50\": \"LumA\", \"NMF.v2.1\": \"C3\", \"ER\": \"positive\", \"PR\": \"positive\", \"ER.IHC.Score\": \"2+\", \"PR.IHC.Score\": \"3+\", \"Coring.or.Excision\": \"excision\", \"Ischemia.Time.in.Minutes\": 11.0, \"Ischemia.Decade\": 2.0, \"Necrosis\": 0.0, \"Tumor.Cellularity\": 80.0, \"Total.Cellularity\": 70.0, \"In.CR\": \"no\", \"QC.status\": \"QC.pass\", \"8q_gain\": false, \"8p_loss\": false, \"Age\": 39.666666666666664}, {\"Replicate_Measurement_IDs\": \"X11BR015\", \"Sample_Tumor_Normal\": \"Tumor\", \"Age.in.Month\": 720.0, \"Gender\": \"female\", \"Race\": \"white\", \"Human.Readable.Label\": \"[ca]-7da395_D2\", \"Experiment\": \"9\", \"Channel\": \"127C\", \"Stage\": \"Stage IIIA\", \"PAM50\": \"LumB\", \"NMF.v2.1\": \"C2\", \"ER\": \"positive\", \"PR\": \"negative\", \"ER.IHC.Score\": \"3+\", \"PR.IHC.Score\": \"0\", \"Coring.or.Excision\": \"excision\", \"Ischemia.Time.in.Minutes\": 12.0, \"Ischemia.Decade\": 2.0, \"Necrosis\": 0.0, \"Tumor.Cellularity\": 70.0, \"Total.Cellularity\": 60.0, \"In.CR\": \"yes\", \"QC.status\": \"QC.pass\", \"8q_gain\": true, \"8p_loss\": true, \"Age\": 60.0}, {\"Replicate_Measurement_IDs\": \"X11BR016\", \"Sample_Tumor_Normal\": \"Tumor\", \"Age.in.Month\": 371.0, \"Gender\": \"female\", \"Race\": \"white\", \"Human.Readable.Label\": \"[a7]-0a4411_D2\", \"Experiment\": \"8\", \"Channel\": \"128C\", \"Stage\": \"Stage IIA\", \"PAM50\": \"Basal\", \"NMF.v2.1\": \"C4\", \"ER\": \"positive\", \"PR\": \"negative\", \"ER.IHC.Score\": \"2+\", \"PR.IHC.Score\": \"0\", \"Coring.or.Excision\": \"excision\", \"Ischemia.Time.in.Minutes\": 12.0, \"Ischemia.Decade\": 2.0, \"Necrosis\": 0.0, \"Tumor.Cellularity\": 80.0, \"Total.Cellularity\": 80.0, \"In.CR\": \"yes\", \"QC.status\": \"QC.pass\", \"8q_gain\": false, \"8p_loss\": true, \"Age\": 30.916666666666668}, {\"Replicate_Measurement_IDs\": \"X11BR017\", \"Sample_Tumor_Normal\": \"Tumor\", \"Age.in.Month\": 897.0, \"Gender\": \"female\", \"Race\": \"white\", \"Human.Readable.Label\": \"[24]-07c14c_D2\", \"Experiment\": \"2\", \"Channel\": \"127C\", \"Stage\": \"Stage IIIA\", \"PAM50\": \"Her2\", \"NMF.v2.1\": \"C1\", \"ER\": \"negative\", \"PR\": \"negative\", \"ER.IHC.Score\": \"0\", \"PR.IHC.Score\": \"0\", \"Coring.or.Excision\": \"excision\", \"Ischemia.Time.in.Minutes\": 11.0, \"Ischemia.Decade\": 2.0, \"Necrosis\": 0.0, \"Tumor.Cellularity\": 80.0, \"Total.Cellularity\": 70.0, \"In.CR\": \"yes\", \"QC.status\": \"QC.pass\", \"8q_gain\": false, \"8p_loss\": true, \"Age\": 74.75}, {\"Replicate_Measurement_IDs\": \"X11BR018\", \"Sample_Tumor_Normal\": \"Tumor\", \"Age.in.Month\": 653.0, \"Gender\": \"female\", \"Race\": \"white\", \"Human.Readable.Label\": \"[85]-ba61a9_D2\", \"Experiment\": \"8\", \"Channel\": \"130C\", \"Stage\": \"Stage IIIA\", \"PAM50\": \"LumA\", \"NMF.v2.1\": \"C3\", \"ER\": \"positive\", \"PR\": \"positive\", \"ER.IHC.Score\": \"3+\", \"PR.IHC.Score\": \"3+\", \"Coring.or.Excision\": \"excision\", \"Ischemia.Time.in.Minutes\": 11.0, \"Ischemia.Decade\": 2.0, \"Necrosis\": 0.0, \"Tumor.Cellularity\": 60.0, \"Total.Cellularity\": 25.0, \"In.CR\": \"no\", \"QC.status\": \"QC.pass\", \"8q_gain\": false, \"8p_loss\": true, \"Age\": 54.416666666666664}, {\"Replicate_Measurement_IDs\": \"X11BR019\", \"Sample_Tumor_Normal\": \"Tumor\", \"Age.in.Month\": 735.0, \"Gender\": \"female\", \"Race\": \"white\", \"Human.Readable.Label\": \"[8d]-77ecf0_D2\", \"Experiment\": \"5\", \"Channel\": \"127N\", \"Stage\": \"Stage IIA\", \"PAM50\": \"LumB\", \"NMF.v2.1\": \"C2\", \"ER\": \"positive\", \"PR\": \"positive\", \"ER.IHC.Score\": \"3+\", \"PR.IHC.Score\": \"3+\", \"Coring.or.Excision\": \"excision\", \"Ischemia.Time.in.Minutes\": 12.0, \"Ischemia.Decade\": 2.0, \"Necrosis\": 0.0, \"Tumor.Cellularity\": 90.0, \"Total.Cellularity\": 80.0, \"In.CR\": \"no\", \"QC.status\": \"QC.pass\", \"8q_gain\": false, \"8p_loss\": true, \"Age\": 61.25}, {\"Replicate_Measurement_IDs\": \"X11BR020\", \"Sample_Tumor_Normal\": \"Tumor\", \"Age.in.Month\": 450.0, \"Gender\": \"female\", \"Race\": \"white\", \"Human.Readable.Label\": \"[94]-5139de_D2\", \"Experiment\": \"4\", \"Channel\": \"130C\", \"Stage\": \"Stage IIA\", \"PAM50\": \"LumA\", \"NMF.v2.1\": \"C1\", \"ER\": \"positive\", \"PR\": \"positive\", \"ER.IHC.Score\": \"3+\", \"PR.IHC.Score\": \"3+\", \"Coring.or.Excision\": \"excision\", \"Ischemia.Time.in.Minutes\": 10.0, \"Ischemia.Decade\": 1.0, \"Necrosis\": 0.0, \"Tumor.Cellularity\": 70.0, \"Total.Cellularity\": 60.0, \"In.CR\": \"no\", \"QC.status\": \"QC.pass\", \"8q_gain\": false, \"8p_loss\": true, \"Age\": 37.5}, {\"Replicate_Measurement_IDs\": \"X11BR022\", \"Sample_Tumor_Normal\": \"Tumor\", \"Age.in.Month\": 584.0, \"Gender\": \"female\", \"Race\": \"white\", \"Human.Readable.Label\": \"[da]-27e6b6_D2\", \"Experiment\": \"5\", \"Channel\": \"128C\", \"Stage\": \"Stage IIA\", \"PAM50\": \"LumA\", \"NMF.v2.1\": \"C3\", \"ER\": \"positive\", \"PR\": \"positive\", \"ER.IHC.Score\": \"3+\", \"PR.IHC.Score\": \"3+\", \"Coring.or.Excision\": \"excision\", \"Ischemia.Time.in.Minutes\": 7.0, \"Ischemia.Decade\": 1.0, \"Necrosis\": 0.0, \"Tumor.Cellularity\": 90.0, \"Total.Cellularity\": 60.0, \"In.CR\": \"no\", \"QC.status\": \"QC.pass\", \"8q_gain\": false, \"8p_loss\": false, \"Age\": 48.666666666666664}, {\"Replicate_Measurement_IDs\": \"X11BR023\", \"Sample_Tumor_Normal\": \"Tumor\", \"Age.in.Month\": 702.0, \"Gender\": \"female\", \"Race\": \"white\", \"Human.Readable.Label\": \"[07]-48cfab_D2\", \"Experiment\": \"1\", \"Channel\": \"128N\", \"Stage\": \"Stage IIA\", \"PAM50\": \"Basal\", \"NMF.v2.1\": \"C4\", \"ER\": \"negative\", \"PR\": \"negative\", \"ER.IHC.Score\": \"0\", \"PR.IHC.Score\": \"0\", \"Coring.or.Excision\": \"excision\", \"Ischemia.Time.in.Minutes\": 6.0, \"Ischemia.Decade\": 1.0, \"Necrosis\": 0.0, \"Tumor.Cellularity\": 90.0, \"Total.Cellularity\": 70.0, \"In.CR\": \"yes\", \"QC.status\": \"QC.pass\", \"8q_gain\": true, \"8p_loss\": false, \"Age\": 58.5}, {\"Replicate_Measurement_IDs\": \"X11BR024\", \"Sample_Tumor_Normal\": \"Tumor\", \"Age.in.Month\": 969.0, \"Gender\": \"female\", \"Race\": \"white\", \"Human.Readable.Label\": \"[9e]-040c2b_D2\", \"Experiment\": \"7\", \"Channel\": \"127C\", \"Stage\": \"Stage IIA\", \"PAM50\": \"Basal\", \"NMF.v2.1\": \"C4\", \"ER\": \"negative\", \"PR\": \"negative\", \"ER.IHC.Score\": \"0\", \"PR.IHC.Score\": \"0\", \"Coring.or.Excision\": \"excision\", \"Ischemia.Time.in.Minutes\": 7.0, \"Ischemia.Decade\": 1.0, \"Necrosis\": 0.0, \"Tumor.Cellularity\": 90.0, \"Total.Cellularity\": 60.0, \"In.CR\": \"yes\", \"QC.status\": \"QC.pass\", \"8q_gain\": true, \"8p_loss\": true, \"Age\": 80.75}, {\"Replicate_Measurement_IDs\": \"X11BR025\", \"Sample_Tumor_Normal\": \"Tumor\", \"Age.in.Month\": 929.0, \"Gender\": \"female\", \"Race\": \"white\", \"Human.Readable.Label\": \"[8d]-1444a0_D2\", \"Experiment\": \"2\", \"Channel\": \"128C\", \"Stage\": \"Stage IIA\", \"PAM50\": \"LumA\", \"NMF.v2.1\": \"C2\", \"ER\": \"positive\", \"PR\": \"positive\", \"ER.IHC.Score\": \"3+\", \"PR.IHC.Score\": \"3+\", \"Coring.or.Excision\": \"excision\", \"Ischemia.Time.in.Minutes\": 8.0, \"Ischemia.Decade\": 1.0, \"Necrosis\": 20.0, \"Tumor.Cellularity\": 90.0, \"Total.Cellularity\": 40.0, \"In.CR\": \"no\", \"QC.status\": \"QC.pass\", \"8q_gain\": true, \"8p_loss\": false, \"Age\": 77.41666666666667}, {\"Replicate_Measurement_IDs\": \"X11BR027\", \"Sample_Tumor_Normal\": \"Tumor\", \"Age.in.Month\": 914.0, \"Gender\": \"female\", \"Race\": \"white\", \"Human.Readable.Label\": \"[41]-8e8136_D2\", \"Experiment\": \"11\", \"Channel\": \"126\", \"Stage\": \"Stage IIA\", \"PAM50\": \"LumA\", \"NMF.v2.1\": \"C2\", \"ER\": \"positive\", \"PR\": \"positive\", \"ER.IHC.Score\": \"3+\", \"PR.IHC.Score\": \"2+\", \"Coring.or.Excision\": \"excision\", \"Ischemia.Time.in.Minutes\": 11.0, \"Ischemia.Decade\": 2.0, \"Necrosis\": 3.0, \"Tumor.Cellularity\": 70.0, \"Total.Cellularity\": 80.0, \"In.CR\": \"yes\", \"QC.status\": \"QC.pass\", \"8q_gain\": false, \"8p_loss\": true, \"Age\": 76.16666666666667}, {\"Replicate_Measurement_IDs\": \"X11BR028\", \"Sample_Tumor_Normal\": \"Tumor\", \"Age.in.Month\": 664.0, \"Gender\": \"female\", \"Race\": \"white\", \"Human.Readable.Label\": \"[3b]-4a253d_D2\", \"Experiment\": \"4\", \"Channel\": \"126\", \"Stage\": \"Stage IIA\", \"PAM50\": \"Her2\", \"NMF.v2.1\": \"C1\", \"ER\": \"negative\", \"PR\": \"negative\", \"ER.IHC.Score\": \"0\", \"PR.IHC.Score\": \"0\", \"Coring.or.Excision\": \"excision\", \"Ischemia.Time.in.Minutes\": 10.0, \"Ischemia.Decade\": 1.0, \"Necrosis\": 0.0, \"Tumor.Cellularity\": 60.0, \"Total.Cellularity\": 75.0, \"In.CR\": \"yes\", \"QC.status\": \"QC.pass\", \"8q_gain\": true, \"8p_loss\": true, \"Age\": 55.333333333333336}, {\"Replicate_Measurement_IDs\": \"X11BR030\", \"Sample_Tumor_Normal\": \"Tumor\", \"Age.in.Month\": 609.0, \"Gender\": \"female\", \"Race\": \"asian\", \"Human.Readable.Label\": \"[63]-df0f7e_D2\", \"Experiment\": \"6\", \"Channel\": \"126\", \"Stage\": \"Stage IIA\", \"PAM50\": \"Her2\", \"NMF.v2.1\": \"C1\", \"ER\": \"negative\", \"PR\": \"negative\", \"ER.IHC.Score\": \"0\", \"PR.IHC.Score\": \"0\", \"Coring.or.Excision\": \"excision\", \"Ischemia.Time.in.Minutes\": 15.0, \"Ischemia.Decade\": 2.0, \"Necrosis\": 2.0, \"Tumor.Cellularity\": 65.0, \"Total.Cellularity\": 80.0, \"In.CR\": \"yes\", \"QC.status\": \"QC.pass\", \"8q_gain\": true, \"8p_loss\": false, \"Age\": 50.75}, {\"Replicate_Measurement_IDs\": \"X11BR031|X11BR031.REP1\", \"Sample_Tumor_Normal\": \"Tumor\", \"Age.in.Month\": 600.0, \"Gender\": \"female\", \"Race\": \"asian\", \"Human.Readable.Label\": \"[3f]-4a92dd_D2\", \"Experiment\": \"2|5\", \"Channel\": \"129C|130C\", \"Stage\": \"Stage IIA\", \"PAM50\": \"LumA\", \"NMF.v2.1\": \"C1\", \"ER\": \"positive\", \"PR\": \"positive\", \"ER.IHC.Score\": \"3+\", \"PR.IHC.Score\": \"3+\", \"Coring.or.Excision\": \"excision\", \"Ischemia.Time.in.Minutes\": 10.0, \"Ischemia.Decade\": 1.0, \"Necrosis\": 5.0, \"Tumor.Cellularity\": 65.0, \"Total.Cellularity\": 70.0, \"In.CR\": \"no\", \"QC.status\": \"QC.pass\", \"8q_gain\": false, \"8p_loss\": true, \"Age\": 50.0}, {\"Replicate_Measurement_IDs\": \"X11BR032\", \"Sample_Tumor_Normal\": \"Tumor\", \"Age.in.Month\": 597.0, \"Gender\": \"female\", \"Race\": \"asian\", \"Human.Readable.Label\": \"[31]-278173_D2\", \"Experiment\": \"3\", \"Channel\": \"129N\", \"Stage\": \"Stage IIA\", \"PAM50\": \"LumA\", \"NMF.v2.1\": \"C3\", \"ER\": \"positive\", \"PR\": \"positive\", \"ER.IHC.Score\": \"3+\", \"PR.IHC.Score\": \"3+\", \"Coring.or.Excision\": \"excision\", \"Ischemia.Time.in.Minutes\": 15.0, \"Ischemia.Decade\": 2.0, \"Necrosis\": 0.0, \"Tumor.Cellularity\": 70.0, \"Total.Cellularity\": 65.0, \"In.CR\": \"no\", \"QC.status\": \"QC.pass\", \"8q_gain\": false, \"8p_loss\": false, \"Age\": 49.75}, {\"Replicate_Measurement_IDs\": \"X11BR036|X11BR036.REP1|X11BR036.REP2\", \"Sample_Tumor_Normal\": \"Tumor\", \"Age.in.Month\": 619.0, \"Gender\": \"female\", \"Race\": \"asian\", \"Human.Readable.Label\": \"[45]-ce5590_D2\", \"Experiment\": \"10|12|17\", \"Channel\": \"128C|129C|130N\", \"Stage\": \"Stage IIA\", \"PAM50\": \"Basal\", \"NMF.v2.1\": \"C4\", \"ER\": \"negative\", \"PR\": \"negative\", \"ER.IHC.Score\": \"0\", \"PR.IHC.Score\": \"0\", \"Coring.or.Excision\": \"excision\", \"Ischemia.Time.in.Minutes\": 15.0, \"Ischemia.Decade\": 2.0, \"Necrosis\": 10.0, \"Tumor.Cellularity\": 90.0, \"Total.Cellularity\": 80.0, \"In.CR\": \"no\", \"QC.status\": \"QC.pass\", \"8q_gain\": true, \"8p_loss\": false, \"Age\": 51.583333333333336}, {\"Replicate_Measurement_IDs\": \"X11BR038\", \"Sample_Tumor_Normal\": \"Tumor\", \"Age.in.Month\": 569.0, \"Gender\": \"female\", \"Race\": \"asian\", \"Human.Readable.Label\": \"[4e]-b1f9ba_D2\", \"Experiment\": \"10\", \"Channel\": \"128N\", \"Stage\": \"Stage IIA\", \"PAM50\": \"Her2\", \"NMF.v2.1\": \"C1\", \"ER\": null, \"PR\": null, \"ER.IHC.Score\": null, \"PR.IHC.Score\": null, \"Coring.or.Excision\": \"excision\", \"Ischemia.Time.in.Minutes\": 10.0, \"Ischemia.Decade\": 1.0, \"Necrosis\": 10.0, \"Tumor.Cellularity\": 60.0, \"Total.Cellularity\": 55.0, \"In.CR\": \"no\", \"QC.status\": \"QC.pass\", \"8q_gain\": false, \"8p_loss\": true, \"Age\": 47.416666666666664}, {\"Replicate_Measurement_IDs\": \"X11BR040\", \"Sample_Tumor_Normal\": \"Tumor\", \"Age.in.Month\": 814.0, \"Gender\": \"female\", \"Race\": \"asian\", \"Human.Readable.Label\": \"[d7]-07dd74_D2\", \"Experiment\": \"9\", \"Channel\": \"128N\", \"Stage\": \"Stage IIIA\", \"PAM50\": \"LumA\", \"NMF.v2.1\": \"C3\", \"ER\": \"positive\", \"PR\": \"positive\", \"ER.IHC.Score\": \"3+\", \"PR.IHC.Score\": \"3+\", \"Coring.or.Excision\": \"excision\", \"Ischemia.Time.in.Minutes\": 5.0, \"Ischemia.Decade\": 1.0, \"Necrosis\": 2.0, \"Tumor.Cellularity\": 80.0, \"Total.Cellularity\": 65.0, \"In.CR\": \"yes\", \"QC.status\": \"QC.pass\", \"8q_gain\": false, \"8p_loss\": false, \"Age\": 67.83333333333333}, {\"Replicate_Measurement_IDs\": \"X11BR042\", \"Sample_Tumor_Normal\": \"Tumor\", \"Age.in.Month\": 857.0, \"Gender\": \"female\", \"Race\": \"white\", \"Human.Readable.Label\": \"[a1]-3b2e41_D2\", \"Experiment\": \"8\", \"Channel\": \"130N\", \"Stage\": \"Stage IIA\", \"PAM50\": \"Her2\", \"NMF.v2.1\": \"C1\", \"ER\": \"negative\", \"PR\": \"negative\", \"ER.IHC.Score\": \"0\", \"PR.IHC.Score\": \"0\", \"Coring.or.Excision\": \"excision\", \"Ischemia.Time.in.Minutes\": 8.0, \"Ischemia.Decade\": 1.0, \"Necrosis\": 15.0, \"Tumor.Cellularity\": 60.0, \"Total.Cellularity\": 70.0, \"In.CR\": \"yes\", \"QC.status\": \"QC.pass\", \"8q_gain\": false, \"8p_loss\": false, \"Age\": 71.41666666666667}, {\"Replicate_Measurement_IDs\": \"X11BR043\", \"Sample_Tumor_Normal\": \"Tumor\", \"Age.in.Month\": 440.0, \"Gender\": \"female\", \"Race\": \"white\", \"Human.Readable.Label\": \"[6d]-316fca_D2\", \"Experiment\": \"1\", \"Channel\": \"127N\", \"Stage\": \"Stage IIB\", \"PAM50\": \"LumB\", \"NMF.v2.1\": \"C2\", \"ER\": \"positive\", \"PR\": \"positive\", \"ER.IHC.Score\": \"3+\", \"PR.IHC.Score\": \"2+\", \"Coring.or.Excision\": \"excision\", \"Ischemia.Time.in.Minutes\": 8.0, \"Ischemia.Decade\": 1.0, \"Necrosis\": 0.0, \"Tumor.Cellularity\": 80.0, \"Total.Cellularity\": 80.0, \"In.CR\": \"no\", \"QC.status\": \"QC.pass\", \"8q_gain\": true, \"8p_loss\": true, \"Age\": 36.666666666666664}, {\"Replicate_Measurement_IDs\": \"X11BR044\", \"Sample_Tumor_Normal\": \"Tumor\", \"Age.in.Month\": 576.0, \"Gender\": \"female\", \"Race\": \"white\", \"Human.Readable.Label\": \"[d9]-0566fb_D2\", \"Experiment\": \"8\", \"Channel\": \"128N\", \"Stage\": \"Stage IIIA\", \"PAM50\": \"LumB\", \"NMF.v2.1\": \"C2\", \"ER\": \"positive\", \"PR\": \"positive\", \"ER.IHC.Score\": \"3+\", \"PR.IHC.Score\": \"3+\", \"Coring.or.Excision\": \"excision\", \"Ischemia.Time.in.Minutes\": 10.0, \"Ischemia.Decade\": 1.0, \"Necrosis\": 0.0, \"Tumor.Cellularity\": 75.0, \"Total.Cellularity\": 75.0, \"In.CR\": \"yes\", \"QC.status\": \"QC.pass\", \"8q_gain\": true, \"8p_loss\": true, \"Age\": 48.0}, {\"Replicate_Measurement_IDs\": \"X11BR047\", \"Sample_Tumor_Normal\": \"Tumor\", \"Age.in.Month\": 710.0, \"Gender\": \"female\", \"Race\": \"asian\", \"Human.Readable.Label\": \"[ef]-0be77a_D2\", \"Experiment\": \"1\", \"Channel\": \"126\", \"Stage\": \"Stage IIA\", \"PAM50\": \"LumA\", \"NMF.v2.1\": \"C3\", \"ER\": \"positive\", \"PR\": \"positive\", \"ER.IHC.Score\": \"2+\", \"PR.IHC.Score\": \"3+\", \"Coring.or.Excision\": \"excision\", \"Ischemia.Time.in.Minutes\": 15.0, \"Ischemia.Decade\": 2.0, \"Necrosis\": 0.0, \"Tumor.Cellularity\": 60.0, \"Total.Cellularity\": 55.0, \"In.CR\": \"yes\", \"QC.status\": \"QC.pass\", \"8q_gain\": false, \"8p_loss\": true, \"Age\": 59.166666666666664}, {\"Replicate_Measurement_IDs\": \"X11BR049\", \"Sample_Tumor_Normal\": \"Tumor\", \"Age.in.Month\": 550.0, \"Gender\": \"female\", \"Race\": \"asian\", \"Human.Readable.Label\": \"[2e]-3eaf5a_D2\", \"Experiment\": \"1\", \"Channel\": \"127C\", \"Stage\": \"Stage IIIA\", \"PAM50\": \"LumB\", \"NMF.v2.1\": \"C2\", \"ER\": \"positive\", \"PR\": \"positive\", \"ER.IHC.Score\": \"3+\", \"PR.IHC.Score\": \"3+\", \"Coring.or.Excision\": \"excision\", \"Ischemia.Time.in.Minutes\": 10.0, \"Ischemia.Decade\": 1.0, \"Necrosis\": 0.0, \"Tumor.Cellularity\": 70.0, \"Total.Cellularity\": 60.0, \"In.CR\": \"yes\", \"QC.status\": \"QC.pass\", \"8q_gain\": true, \"8p_loss\": true, \"Age\": 45.833333333333336}, {\"Replicate_Measurement_IDs\": \"X11BR050\", \"Sample_Tumor_Normal\": \"Tumor\", \"Age.in.Month\": 648.0, \"Gender\": \"female\", \"Race\": \"asian\", \"Human.Readable.Label\": \"[d8]-c9c39d_D2\", \"Experiment\": \"6\", \"Channel\": \"127C\", \"Stage\": \"Stage IIA\", \"PAM50\": \"LumA\", \"NMF.v2.1\": \"C3\", \"ER\": \"positive\", \"PR\": \"positive\", \"ER.IHC.Score\": \"3+\", \"PR.IHC.Score\": \"3+\", \"Coring.or.Excision\": \"excision\", \"Ischemia.Time.in.Minutes\": 10.0, \"Ischemia.Decade\": 1.0, \"Necrosis\": 2.0, \"Tumor.Cellularity\": 90.0, \"Total.Cellularity\": 5.0, \"In.CR\": \"no\", \"QC.status\": \"QC.pass\", \"8q_gain\": false, \"8p_loss\": false, \"Age\": 54.0}, {\"Replicate_Measurement_IDs\": \"X11BR051\", \"Sample_Tumor_Normal\": \"Tumor\", \"Age.in.Month\": 785.0, \"Gender\": \"female\", \"Race\": \"white\", \"Human.Readable.Label\": \"[56]-d976eb_D2\", \"Experiment\": \"11\", \"Channel\": \"128N\", \"Stage\": \"Stage IIIA\", \"PAM50\": \"LumA\", \"NMF.v2.1\": \"C3\", \"ER\": \"positive\", \"PR\": \"positive\", \"ER.IHC.Score\": \"3+\", \"PR.IHC.Score\": \"3+\", \"Coring.or.Excision\": \"excision\", \"Ischemia.Time.in.Minutes\": 10.0, \"Ischemia.Decade\": 1.0, \"Necrosis\": 5.0, \"Tumor.Cellularity\": 70.0, \"Total.Cellularity\": 60.0, \"In.CR\": \"no\", \"QC.status\": \"QC.pass\", \"8q_gain\": true, \"8p_loss\": false, \"Age\": 65.41666666666667}, {\"Replicate_Measurement_IDs\": \"X11BR053|X11BR053.REP1\", \"Sample_Tumor_Normal\": \"Tumor\", \"Age.in.Month\": 743.0, \"Gender\": \"female\", \"Race\": \"white\", \"Human.Readable.Label\": \"[fb]-01074f_D2\", \"Experiment\": \"3|11\", \"Channel\": \"126|129N\", \"Stage\": \"Stage IIA\", \"PAM50\": \"LumB\", \"NMF.v2.1\": \"C2\", \"ER\": \"positive\", \"PR\": \"positive\", \"ER.IHC.Score\": \"3+\", \"PR.IHC.Score\": \"3+\", \"Coring.or.Excision\": \"excision\", \"Ischemia.Time.in.Minutes\": 10.0, \"Ischemia.Decade\": 1.0, \"Necrosis\": 0.0, \"Tumor.Cellularity\": 80.0, \"Total.Cellularity\": 50.0, \"In.CR\": \"no\", \"QC.status\": \"QC.pass\", \"8q_gain\": true, \"8p_loss\": false, \"Age\": 61.916666666666664}, {\"Replicate_Measurement_IDs\": \"X11BR054\", \"Sample_Tumor_Normal\": \"Tumor\", \"Age.in.Month\": 1013.0, \"Gender\": \"female\", \"Race\": \"white\", \"Human.Readable.Label\": \"[b1]-a536b2_D2\", \"Experiment\": \"7\", \"Channel\": \"130N\", \"Stage\": \"Stage IIA\", \"PAM50\": \"LumA\", \"NMF.v2.1\": \"C2\", \"ER\": \"positive\", \"PR\": \"positive\", \"ER.IHC.Score\": \"3+\", \"PR.IHC.Score\": \"3+\", \"Coring.or.Excision\": \"excision\", \"Ischemia.Time.in.Minutes\": 9.0, \"Ischemia.Decade\": 1.0, \"Necrosis\": 0.0, \"Tumor.Cellularity\": 75.0, \"Total.Cellularity\": 70.0, \"In.CR\": \"no\", \"QC.status\": \"QC.pass\", \"8q_gain\": false, \"8p_loss\": false, \"Age\": 84.41666666666667}, {\"Replicate_Measurement_IDs\": \"X11BR055\", \"Sample_Tumor_Normal\": \"Tumor\", \"Age.in.Month\": 675.0, \"Gender\": \"female\", \"Race\": \"white\", \"Human.Readable.Label\": \"[45]-621c07_D2\", \"Experiment\": \"8\", \"Channel\": \"129N\", \"Stage\": \"Stage IIA\", \"PAM50\": \"LumA\", \"NMF.v2.1\": \"C3\", \"ER\": \"positive\", \"PR\": \"positive\", \"ER.IHC.Score\": \"3+\", \"PR.IHC.Score\": \"3+\", \"Coring.or.Excision\": \"excision\", \"Ischemia.Time.in.Minutes\": 8.0, \"Ischemia.Decade\": 1.0, \"Necrosis\": 0.0, \"Tumor.Cellularity\": 65.0, \"Total.Cellularity\": 60.0, \"In.CR\": \"no\", \"QC.status\": \"QC.pass\", \"8q_gain\": false, \"8p_loss\": false, \"Age\": 56.25}, {\"Replicate_Measurement_IDs\": \"X11BR056\", \"Sample_Tumor_Normal\": \"Tumor\", \"Age.in.Month\": 634.0, \"Gender\": \"female\", \"Race\": \"asian\", \"Human.Readable.Label\": \"[e4]-d43942_D2\", \"Experiment\": \"10\", \"Channel\": \"127C\", \"Stage\": \"Stage IIB\", \"PAM50\": \"LumA\", \"NMF.v2.1\": \"C1\", \"ER\": \"positive\", \"PR\": \"negative\", \"ER.IHC.Score\": \"3+\", \"PR.IHC.Score\": \"0\", \"Coring.or.Excision\": \"excision\", \"Ischemia.Time.in.Minutes\": 15.0, \"Ischemia.Decade\": 2.0, \"Necrosis\": 0.0, \"Tumor.Cellularity\": 65.0, \"Total.Cellularity\": 65.0, \"In.CR\": \"yes\", \"QC.status\": \"QC.pass\", \"8q_gain\": true, \"8p_loss\": true, \"Age\": 52.833333333333336}, {\"Replicate_Measurement_IDs\": \"X11BR058\", \"Sample_Tumor_Normal\": \"Tumor\", \"Age.in.Month\": 787.0, \"Gender\": \"female\", \"Race\": \"asian\", \"Human.Readable.Label\": \"[80]-0b55dc_D2\", \"Experiment\": \"13\", \"Channel\": \"129C\", \"Stage\": \"Stage IIA\", \"PAM50\": \"Normal\", \"NMF.v2.1\": \"C1\", \"ER\": null, \"PR\": null, \"ER.IHC.Score\": null, \"PR.IHC.Score\": null, \"Coring.or.Excision\": \"excision\", \"Ischemia.Time.in.Minutes\": 5.0, \"Ischemia.Decade\": 1.0, \"Necrosis\": 0.0, \"Tumor.Cellularity\": 75.0, \"Total.Cellularity\": 65.0, \"In.CR\": \"no\", \"QC.status\": \"QC.pass\", \"8q_gain\": false, \"8p_loss\": true, \"Age\": 65.58333333333333}, {\"Replicate_Measurement_IDs\": \"X11BR059\", \"Sample_Tumor_Normal\": \"Tumor\", \"Age.in.Month\": 551.0, \"Gender\": \"female\", \"Race\": \"asian\", \"Human.Readable.Label\": \"[fc]-038f61_D2\", \"Experiment\": \"11\", \"Channel\": \"127C\", \"Stage\": \"Stage IIA\", \"PAM50\": \"Normal\", \"NMF.v2.1\": \"C1\", \"ER\": null, \"PR\": null, \"ER.IHC.Score\": null, \"PR.IHC.Score\": null, \"Coring.or.Excision\": \"excision\", \"Ischemia.Time.in.Minutes\": 5.0, \"Ischemia.Decade\": 1.0, \"Necrosis\": 5.0, \"Tumor.Cellularity\": 65.0, \"Total.Cellularity\": 65.0, \"In.CR\": \"no\", \"QC.status\": \"QC.pass\", \"8q_gain\": false, \"8p_loss\": true, \"Age\": 45.916666666666664}, {\"Replicate_Measurement_IDs\": \"X11BR060|X11BR060.REP1\", \"Sample_Tumor_Normal\": \"Tumor\", \"Age.in.Month\": 634.0, \"Gender\": \"female\", \"Race\": \"asian\", \"Human.Readable.Label\": \"[97]-bc4829_D2\", \"Experiment\": \"11|16\", \"Channel\": \"129C|126\", \"Stage\": \"Stage IIB\", \"PAM50\": \"Her2\", \"NMF.v2.1\": \"C1\", \"ER\": \"negative\", \"PR\": \"negative\", \"ER.IHC.Score\": \"0\", \"PR.IHC.Score\": \"0\", \"Coring.or.Excision\": \"excision\", \"Ischemia.Time.in.Minutes\": 5.0, \"Ischemia.Decade\": 1.0, \"Necrosis\": 0.0, \"Tumor.Cellularity\": 65.0, \"Total.Cellularity\": 60.0, \"In.CR\": \"yes\", \"QC.status\": \"QC.pass\", \"8q_gain\": false, \"8p_loss\": false, \"Age\": 52.833333333333336}, {\"Replicate_Measurement_IDs\": \"X11BR072\", \"Sample_Tumor_Normal\": \"Tumor\", \"Age.in.Month\": 848.0, \"Gender\": \"female\", \"Race\": \"white\", \"Human.Readable.Label\": \"[59]-90e9a7_D2\", \"Experiment\": \"10\", \"Channel\": \"130C\", \"Stage\": \"Stage IIIC\", \"PAM50\": \"LumA\", \"NMF.v2.1\": \"C3\", \"ER\": \"positive\", \"PR\": \"positive\", \"ER.IHC.Score\": \"3+\", \"PR.IHC.Score\": \"3+\", \"Coring.or.Excision\": \"excision\", \"Ischemia.Time.in.Minutes\": 5.0, \"Ischemia.Decade\": 1.0, \"Necrosis\": 0.0, \"Tumor.Cellularity\": 65.0, \"Total.Cellularity\": 65.0, \"In.CR\": \"no\", \"QC.status\": \"QC.pass\", \"8q_gain\": false, \"8p_loss\": false, \"Age\": 70.66666666666667}, {\"Replicate_Measurement_IDs\": \"X11BR073\", \"Sample_Tumor_Normal\": \"Tumor\", \"Age.in.Month\": 775.0, \"Gender\": \"female\", \"Race\": \"white\", \"Human.Readable.Label\": \"[5d]-4c7f39_D2\", \"Experiment\": \"4\", \"Channel\": \"128N\", \"Stage\": \"Stage IIIA\", \"PAM50\": \"LumB\", \"NMF.v2.1\": \"C2\", \"ER\": \"positive\", \"PR\": \"positive\", \"ER.IHC.Score\": \"3+\", \"PR.IHC.Score\": \"3+\", \"Coring.or.Excision\": \"excision\", \"Ischemia.Time.in.Minutes\": 5.0, \"Ischemia.Decade\": 1.0, \"Necrosis\": 0.0, \"Tumor.Cellularity\": 60.0, \"Total.Cellularity\": 65.0, \"In.CR\": \"yes\", \"QC.status\": \"QC.pass\", \"8q_gain\": true, \"8p_loss\": true, \"Age\": 64.58333333333333}, {\"Replicate_Measurement_IDs\": \"X11BR074\", \"Sample_Tumor_Normal\": \"Tumor\", \"Age.in.Month\": 794.0, \"Gender\": \"female\", \"Race\": \"white\", \"Human.Readable.Label\": \"[12]-1aa7f8_D2\", \"Experiment\": \"1\", \"Channel\": \"129C\", \"Stage\": \"Stage IIIA\", \"PAM50\": \"LumA\", \"NMF.v2.1\": \"C3\", \"ER\": \"positive\", \"PR\": \"positive\", \"ER.IHC.Score\": \"3+\", \"PR.IHC.Score\": \"3+\", \"Coring.or.Excision\": \"excision\", \"Ischemia.Time.in.Minutes\": 5.0, \"Ischemia.Decade\": 1.0, \"Necrosis\": 0.0, \"Tumor.Cellularity\": 60.0, \"Total.Cellularity\": 60.0, \"In.CR\": \"yes\", \"QC.status\": \"QC.pass\", \"8q_gain\": false, \"8p_loss\": false, \"Age\": 66.16666666666667}, {\"Replicate_Measurement_IDs\": \"X11BR075\", \"Sample_Tumor_Normal\": \"Tumor\", \"Age.in.Month\": 953.0, \"Gender\": \"female\", \"Race\": \"white\", \"Human.Readable.Label\": \"[55]-bebdaf_D2\", \"Experiment\": \"11\", \"Channel\": \"130C\", \"Stage\": \"Stage IIIA\", \"PAM50\": \"LumB\", \"NMF.v2.1\": \"C2\", \"ER\": null, \"PR\": null, \"ER.IHC.Score\": null, \"PR.IHC.Score\": null, \"Coring.or.Excision\": \"excision\", \"Ischemia.Time.in.Minutes\": 5.0, \"Ischemia.Decade\": 1.0, \"Necrosis\": 0.0, \"Tumor.Cellularity\": 70.0, \"Total.Cellularity\": 65.0, \"In.CR\": \"no\", \"QC.status\": \"QC.pass\", \"8q_gain\": true, \"8p_loss\": true, \"Age\": 79.41666666666667}, {\"Replicate_Measurement_IDs\": \"X11BR080\", \"Sample_Tumor_Normal\": \"Tumor\", \"Age.in.Month\": 820.0, \"Gender\": \"female\", \"Race\": \"white\", \"Human.Readable.Label\": \"[e2]-55d2f2_D2\", \"Experiment\": \"13\", \"Channel\": \"127N\", \"Stage\": \"Stage IIB\", \"PAM50\": \"Basal\", \"NMF.v2.1\": \"C4\", \"ER\": \"positive\", \"PR\": \"positive\", \"ER.IHC.Score\": \"1+\", \"PR.IHC.Score\": \"1+\", \"Coring.or.Excision\": \"excision\", \"Ischemia.Time.in.Minutes\": 5.0, \"Ischemia.Decade\": 1.0, \"Necrosis\": 0.0, \"Tumor.Cellularity\": 65.0, \"Total.Cellularity\": 50.0, \"In.CR\": \"no\", \"QC.status\": \"QC.pass\", \"8q_gain\": true, \"8p_loss\": false, \"Age\": 68.33333333333333}, {\"Replicate_Measurement_IDs\": \"X13BR009\", \"Sample_Tumor_Normal\": \"Tumor\", \"Age.in.Month\": 900.0, \"Gender\": \"female\", \"Race\": \"white\", \"Human.Readable.Label\": \"[87]-ceb820_D2\", \"Experiment\": \"13\", \"Channel\": \"126\", \"Stage\": \"Stage IIIB\", \"PAM50\": \"LumB\", \"NMF.v2.1\": \"C2\", \"ER\": \"positive\", \"PR\": \"positive\", \"ER.IHC.Score\": \"3+\", \"PR.IHC.Score\": \"3+\", \"Coring.or.Excision\": \"excision\", \"Ischemia.Time.in.Minutes\": 22.0, \"Ischemia.Decade\": 3.0, \"Necrosis\": 0.0, \"Tumor.Cellularity\": 65.0, \"Total.Cellularity\": 60.0, \"In.CR\": \"no\", \"QC.status\": \"QC.pass\", \"8q_gain\": true, \"8p_loss\": false, \"Age\": 75.0}, {\"Replicate_Measurement_IDs\": \"X14BR005|X14BR005.REP1\", \"Sample_Tumor_Normal\": \"Tumor\", \"Age.in.Month\": 940.0, \"Gender\": \"female\", \"Race\": \"white\", \"Human.Readable.Label\": \"[23]-39cc8d_D2\", \"Experiment\": \"8|16\", \"Channel\": \"127C|130C\", \"Stage\": \"Stage IIA\", \"PAM50\": \"LumA\", \"NMF.v2.1\": \"C2\", \"ER\": \"positive\", \"PR\": \"positive\", \"ER.IHC.Score\": null, \"PR.IHC.Score\": null, \"Coring.or.Excision\": \"excision\", \"Ischemia.Time.in.Minutes\": 12.0, \"Ischemia.Decade\": 2.0, \"Necrosis\": 0.0, \"Tumor.Cellularity\": 75.0, \"Total.Cellularity\": 80.0, \"In.CR\": \"no\", \"QC.status\": \"QC.pass\", \"8q_gain\": true, \"8p_loss\": true, \"Age\": 78.33333333333333}, {\"Replicate_Measurement_IDs\": \"X14BR008\", \"Sample_Tumor_Normal\": \"Tumor\", \"Age.in.Month\": 796.0, \"Gender\": \"female\", \"Race\": \"white\", \"Human.Readable.Label\": \"[ca]-6f2297_D2\", \"Experiment\": \"3\", \"Channel\": \"127C\", \"Stage\": \"Stage IIIA\", \"PAM50\": \"LumA\", \"NMF.v2.1\": \"C3\", \"ER\": \"positive\", \"PR\": \"positive\", \"ER.IHC.Score\": null, \"PR.IHC.Score\": null, \"Coring.or.Excision\": \"excision\", \"Ischemia.Time.in.Minutes\": 22.0, \"Ischemia.Decade\": 3.0, \"Necrosis\": 0.0, \"Tumor.Cellularity\": 75.0, \"Total.Cellularity\": 20.0, \"In.CR\": \"no\", \"QC.status\": \"QC.pass\", \"8q_gain\": false, \"8p_loss\": false, \"Age\": 66.33333333333333}, {\"Replicate_Measurement_IDs\": \"X14BR014\", \"Sample_Tumor_Normal\": \"Tumor\", \"Age.in.Month\": 710.0, \"Gender\": \"female\", \"Race\": \"white\", \"Human.Readable.Label\": \"[d1]-8b9b72_D2\", \"Experiment\": \"13\", \"Channel\": \"129N\", \"Stage\": \"Stage IIA\", \"PAM50\": \"LumA\", \"NMF.v2.1\": \"C3\", \"ER\": \"positive\", \"PR\": \"positive\", \"ER.IHC.Score\": \"3+\", \"PR.IHC.Score\": \"3+\", \"Coring.or.Excision\": \"excision\", \"Ischemia.Time.in.Minutes\": 18.0, \"Ischemia.Decade\": 2.0, \"Necrosis\": 0.0, \"Tumor.Cellularity\": 70.0, \"Total.Cellularity\": 60.0, \"In.CR\": \"no\", \"QC.status\": \"QC.pass\", \"8q_gain\": true, \"8p_loss\": true, \"Age\": 59.166666666666664}, {\"Replicate_Measurement_IDs\": \"X15BR003\", \"Sample_Tumor_Normal\": \"Tumor\", \"Age.in.Month\": 895.0, \"Gender\": \"female\", \"Race\": \"white\", \"Human.Readable.Label\": \"[43]-6c2e1a_D2\", \"Experiment\": \"13\", \"Channel\": \"128C\", \"Stage\": \"Stage IIA\", \"PAM50\": \"LumA\", \"NMF.v2.1\": \"C3\", \"ER\": \"positive\", \"PR\": \"negative\", \"ER.IHC.Score\": \"3+\", \"PR.IHC.Score\": \"0\", \"Coring.or.Excision\": \"excision\", \"Ischemia.Time.in.Minutes\": 1.0, \"Ischemia.Decade\": 1.0, \"Necrosis\": 0.0, \"Tumor.Cellularity\": 60.0, \"Total.Cellularity\": 60.0, \"In.CR\": \"no\", \"QC.status\": \"QC.pass\", \"8q_gain\": false, \"8p_loss\": false, \"Age\": 74.58333333333333}, {\"Replicate_Measurement_IDs\": \"X16BR012\", \"Sample_Tumor_Normal\": \"Tumor\", \"Age.in.Month\": 570.0, \"Gender\": \"female\", \"Race\": \"white\", \"Human.Readable.Label\": \"[75]-b249c8_D2\", \"Experiment\": \"12\", \"Channel\": \"127C\", \"Stage\": \"Stage IIIC\", \"PAM50\": \"LumB\", \"NMF.v2.1\": \"C2\", \"ER\": null, \"PR\": null, \"ER.IHC.Score\": null, \"PR.IHC.Score\": null, \"Coring.or.Excision\": \"excision\", \"Ischemia.Time.in.Minutes\": 20.0, \"Ischemia.Decade\": 2.0, \"Necrosis\": 0.0, \"Tumor.Cellularity\": 65.0, \"Total.Cellularity\": 65.0, \"In.CR\": \"no\", \"QC.status\": \"QC.pass\", \"8q_gain\": false, \"8p_loss\": true, \"Age\": 47.5}, {\"Replicate_Measurement_IDs\": \"X18BR002\", \"Sample_Tumor_Normal\": \"Tumor\", \"Age.in.Month\": 769.0, \"Gender\": \"female\", \"Race\": \"white\", \"Human.Readable.Label\": \"[fe]-c3b8ed_D2\", \"Experiment\": \"3\", \"Channel\": \"128N\", \"Stage\": \"Stage IIIA\", \"PAM50\": \"Her2\", \"NMF.v2.1\": \"C3\", \"ER\": \"negative\", \"PR\": \"negative\", \"ER.IHC.Score\": \"0\", \"PR.IHC.Score\": \"0\", \"Coring.or.Excision\": \"excision\", \"Ischemia.Time.in.Minutes\": 11.0, \"Ischemia.Decade\": 2.0, \"Necrosis\": 0.0, \"Tumor.Cellularity\": 65.0, \"Total.Cellularity\": 60.0, \"In.CR\": \"no\", \"QC.status\": \"QC.pass\", \"8q_gain\": false, \"8p_loss\": false, \"Age\": 64.08333333333333}, {\"Replicate_Measurement_IDs\": \"X18BR003\", \"Sample_Tumor_Normal\": \"Tumor\", \"Age.in.Month\": 790.0, \"Gender\": \"female\", \"Race\": \"white\", \"Human.Readable.Label\": \"[43]-c5bfb5_D2\", \"Experiment\": \"7\", \"Channel\": \"127N\", \"Stage\": \"Stage IIA\", \"PAM50\": \"LumB\", \"NMF.v2.1\": \"C2\", \"ER\": \"positive\", \"PR\": \"negative\", \"ER.IHC.Score\": \"3+\", \"PR.IHC.Score\": \"0\", \"Coring.or.Excision\": \"excision\", \"Ischemia.Time.in.Minutes\": 7.0, \"Ischemia.Decade\": 1.0, \"Necrosis\": 5.0, \"Tumor.Cellularity\": 75.0, \"Total.Cellularity\": 70.0, \"In.CR\": \"yes\", \"QC.status\": \"QC.pass\", \"8q_gain\": false, \"8p_loss\": false, \"Age\": 65.83333333333333}, {\"Replicate_Measurement_IDs\": \"X18BR004\", \"Sample_Tumor_Normal\": \"Tumor\", \"Age.in.Month\": 921.0, \"Gender\": \"female\", \"Race\": \"white\", \"Human.Readable.Label\": \"[b2]-af8275_D2\", \"Experiment\": \"4\", \"Channel\": \"127N\", \"Stage\": \"Stage IIA\", \"PAM50\": \"LumA\", \"NMF.v2.1\": \"C2\", \"ER\": \"positive\", \"PR\": \"positive\", \"ER.IHC.Score\": \"3+\", \"PR.IHC.Score\": \"3+\", \"Coring.or.Excision\": \"excision\", \"Ischemia.Time.in.Minutes\": 8.0, \"Ischemia.Decade\": 1.0, \"Necrosis\": 0.0, \"Tumor.Cellularity\": 80.0, \"Total.Cellularity\": 70.0, \"In.CR\": \"no\", \"QC.status\": \"QC.pass\", \"8q_gain\": false, \"8p_loss\": false, \"Age\": 76.75}, {\"Replicate_Measurement_IDs\": \"X18BR006\", \"Sample_Tumor_Normal\": \"Tumor\", \"Age.in.Month\": 748.0, \"Gender\": \"female\", \"Race\": \"white\", \"Human.Readable.Label\": \"[be]-2f78e3_D2\", \"Experiment\": \"10\", \"Channel\": \"129C\", \"Stage\": \"Stage IIA\", \"PAM50\": \"LumB\", \"NMF.v2.1\": \"C3\", \"ER\": \"positive\", \"PR\": \"positive\", \"ER.IHC.Score\": \"3+\", \"PR.IHC.Score\": \"3+\", \"Coring.or.Excision\": \"excision\", \"Ischemia.Time.in.Minutes\": 8.0, \"Ischemia.Decade\": 1.0, \"Necrosis\": 0.0, \"Tumor.Cellularity\": 65.0, \"Total.Cellularity\": 60.0, \"In.CR\": \"yes\", \"QC.status\": \"QC.pass\", \"8q_gain\": true, \"8p_loss\": true, \"Age\": 62.333333333333336}, {\"Replicate_Measurement_IDs\": \"X18BR007\", \"Sample_Tumor_Normal\": \"Tumor\", \"Age.in.Month\": 768.0, \"Gender\": \"female\", \"Race\": \"white\", \"Human.Readable.Label\": \"[1a]-7513d0_D2\", \"Experiment\": \"6\", \"Channel\": \"127N\", \"Stage\": \"Stage IIA\", \"PAM50\": \"LumA\", \"NMF.v2.1\": \"C3\", \"ER\": \"positive\", \"PR\": \"positive\", \"ER.IHC.Score\": \"3+\", \"PR.IHC.Score\": \"3+\", \"Coring.or.Excision\": \"excision\", \"Ischemia.Time.in.Minutes\": 11.0, \"Ischemia.Decade\": 2.0, \"Necrosis\": 0.0, \"Tumor.Cellularity\": 60.0, \"Total.Cellularity\": 60.0, \"In.CR\": \"no\", \"QC.status\": \"QC.pass\", \"8q_gain\": true, \"8p_loss\": true, \"Age\": 64.0}, {\"Replicate_Measurement_IDs\": \"X18BR009\", \"Sample_Tumor_Normal\": \"Tumor\", \"Age.in.Month\": 762.0, \"Gender\": \"female\", \"Race\": \"white\", \"Human.Readable.Label\": \"[5c]-2dc513_D2\", \"Experiment\": \"10\", \"Channel\": \"129N\", \"Stage\": \"Stage IIA\", \"PAM50\": \"Normal\", \"NMF.v2.1\": \"C1\", \"ER\": \"negative\", \"PR\": \"negative\", \"ER.IHC.Score\": \"0\", \"PR.IHC.Score\": \"0\", \"Coring.or.Excision\": \"excision\", \"Ischemia.Time.in.Minutes\": 7.0, \"Ischemia.Decade\": 1.0, \"Necrosis\": 10.0, \"Tumor.Cellularity\": 70.0, \"Total.Cellularity\": 40.0, \"In.CR\": \"no\", \"QC.status\": \"QC.pass\", \"8q_gain\": false, \"8p_loss\": false, \"Age\": 63.5}, {\"Replicate_Measurement_IDs\": \"X18BR010\", \"Sample_Tumor_Normal\": \"Tumor\", \"Age.in.Month\": 492.0, \"Gender\": \"female\", \"Race\": \"white\", \"Human.Readable.Label\": \"[0b]-a6643c_D2\", \"Experiment\": \"1\", \"Channel\": \"128C\", \"Stage\": \"Stage IIIA\", \"PAM50\": \"LumA\", \"NMF.v2.1\": \"C3\", \"ER\": \"positive\", \"PR\": \"positive\", \"ER.IHC.Score\": \"0\", \"PR.IHC.Score\": \"0\", \"Coring.or.Excision\": \"excision\", \"Ischemia.Time.in.Minutes\": 5.0, \"Ischemia.Decade\": 1.0, \"Necrosis\": 0.0, \"Tumor.Cellularity\": 60.0, \"Total.Cellularity\": 50.0, \"In.CR\": \"yes\", \"QC.status\": \"QC.pass\", \"8q_gain\": true, \"8p_loss\": true, \"Age\": 41.0}, {\"Replicate_Measurement_IDs\": \"X18BR016\", \"Sample_Tumor_Normal\": \"Tumor\", \"Age.in.Month\": 885.0, \"Gender\": \"female\", \"Race\": \"white\", \"Human.Readable.Label\": \"[3b]-a5dbb6_D2\", \"Experiment\": \"12\", \"Channel\": \"130N\", \"Stage\": \"Stage IA\", \"PAM50\": \"LumA\", \"NMF.v2.1\": \"C3\", \"ER\": null, \"PR\": null, \"ER.IHC.Score\": null, \"PR.IHC.Score\": null, \"Coring.or.Excision\": \"excision\", \"Ischemia.Time.in.Minutes\": 9.0, \"Ischemia.Decade\": 1.0, \"Necrosis\": 0.0, \"Tumor.Cellularity\": 70.0, \"Total.Cellularity\": 65.0, \"In.CR\": \"no\", \"QC.status\": \"QC.pass\", \"8q_gain\": false, \"8p_loss\": false, \"Age\": 73.75}, {\"Replicate_Measurement_IDs\": \"X18BR017\", \"Sample_Tumor_Normal\": \"Tumor\", \"Age.in.Month\": 872.0, \"Gender\": \"female\", \"Race\": \"white\", \"Human.Readable.Label\": \"[39]-326260_D2\", \"Experiment\": \"1\", \"Channel\": \"130N\", \"Stage\": \"Stage IA\", \"PAM50\": \"LumA\", \"NMF.v2.1\": \"C1\", \"ER\": \"positive\", \"PR\": \"negative\", \"ER.IHC.Score\": \"2+\", \"PR.IHC.Score\": \"0\", \"Coring.or.Excision\": \"excision\", \"Ischemia.Time.in.Minutes\": 14.0, \"Ischemia.Decade\": 2.0, \"Necrosis\": 10.0, \"Tumor.Cellularity\": 75.0, \"Total.Cellularity\": 55.0, \"In.CR\": \"yes\", \"QC.status\": \"QC.pass\", \"8q_gain\": false, \"8p_loss\": false, \"Age\": 72.66666666666667}, {\"Replicate_Measurement_IDs\": \"X18BR019\", \"Sample_Tumor_Normal\": \"Tumor\", \"Age.in.Month\": 817.0, \"Gender\": \"female\", \"Race\": \"white\", \"Human.Readable.Label\": \"[0e]-77834e_D2\", \"Experiment\": \"4\", \"Channel\": \"129N\", \"Stage\": \"Stage IIIA\", \"PAM50\": \"LumA\", \"NMF.v2.1\": \"C2\", \"ER\": \"positive\", \"PR\": \"positive\", \"ER.IHC.Score\": \"3+\", \"PR.IHC.Score\": \"3+\", \"Coring.or.Excision\": \"excision\", \"Ischemia.Time.in.Minutes\": 13.0, \"Ischemia.Decade\": 2.0, \"Necrosis\": 0.0, \"Tumor.Cellularity\": 65.0, \"Total.Cellularity\": 60.0, \"In.CR\": \"yes\", \"QC.status\": \"QC.pass\", \"8q_gain\": false, \"8p_loss\": false, \"Age\": 68.08333333333333}, {\"Replicate_Measurement_IDs\": \"X20BR001\", \"Sample_Tumor_Normal\": \"Tumor\", \"Age.in.Month\": 986.0, \"Gender\": \"female\", \"Race\": \"black.or.african.american\", \"Human.Readable.Label\": \"[35]-8590fd_D2\", \"Experiment\": \"4\", \"Channel\": \"129C\", \"Stage\": \"Stage IIA\", \"PAM50\": \"LumA\", \"NMF.v2.1\": \"C2\", \"ER\": \"positive\", \"PR\": \"positive\", \"ER.IHC.Score\": \"3+\", \"PR.IHC.Score\": \"3+\", \"Coring.or.Excision\": \"excision\", \"Ischemia.Time.in.Minutes\": 22.0, \"Ischemia.Decade\": 3.0, \"Necrosis\": 0.0, \"Tumor.Cellularity\": 98.0, \"Total.Cellularity\": 5.0, \"In.CR\": \"yes\", \"QC.status\": \"QC.pass\", \"8q_gain\": true, \"8p_loss\": false, \"Age\": 82.16666666666667}, {\"Replicate_Measurement_IDs\": \"X20BR002\", \"Sample_Tumor_Normal\": \"Tumor\", \"Age.in.Month\": 1144.0, \"Gender\": \"female\", \"Race\": \"white\", \"Human.Readable.Label\": \"[ab]-24780f_D2\", \"Experiment\": \"5\", \"Channel\": \"126\", \"Stage\": \"Stage IIA\", \"PAM50\": \"Basal\", \"NMF.v2.1\": \"C4\", \"ER\": \"negative\", \"PR\": \"positive\", \"ER.IHC.Score\": null, \"PR.IHC.Score\": null, \"Coring.or.Excision\": \"excision\", \"Ischemia.Time.in.Minutes\": 16.0, \"Ischemia.Decade\": 2.0, \"Necrosis\": 0.0, \"Tumor.Cellularity\": 70.0, \"Total.Cellularity\": 55.0, \"In.CR\": \"no\", \"QC.status\": \"QC.pass\", \"8q_gain\": true, \"8p_loss\": true, \"Age\": 95.33333333333333}, {\"Replicate_Measurement_IDs\": \"X20BR005\", \"Sample_Tumor_Normal\": \"Tumor\", \"Age.in.Month\": 568.0, \"Gender\": \"female\", \"Race\": \"black.or.african.american\", \"Human.Readable.Label\": \"[2f]-d60f3e_D2\", \"Experiment\": \"4\", \"Channel\": \"127C\", \"Stage\": \"Stage IIB\", \"PAM50\": \"Basal\", \"NMF.v2.1\": \"C1\", \"ER\": \"negative\", \"PR\": \"negative\", \"ER.IHC.Score\": null, \"PR.IHC.Score\": null, \"Coring.or.Excision\": \"excision\", \"Ischemia.Time.in.Minutes\": 26.0, \"Ischemia.Decade\": 3.0, \"Necrosis\": 2.0, \"Tumor.Cellularity\": 65.0, \"Total.Cellularity\": 70.0, \"In.CR\": \"yes\", \"QC.status\": \"QC.pass\", \"8q_gain\": false, \"8p_loss\": false, \"Age\": 47.333333333333336}, {\"Replicate_Measurement_IDs\": \"X20BR006\", \"Sample_Tumor_Normal\": \"Tumor\", \"Age.in.Month\": 786.0, \"Gender\": \"female\", \"Race\": \"white\", \"Human.Readable.Label\": \"[3f]-e3d043_D2\", \"Experiment\": \"17\", \"Channel\": \"128N\", \"Stage\": \"Stage IIB\", \"PAM50\": \"Basal\", \"NMF.v2.1\": \"C1\", \"ER\": \"positive\", \"PR\": \"negative\", \"ER.IHC.Score\": \"1+\", \"PR.IHC.Score\": null, \"Coring.or.Excision\": \"excision\", \"Ischemia.Time.in.Minutes\": 18.0, \"Ischemia.Decade\": 2.0, \"Necrosis\": 10.0, \"Tumor.Cellularity\": 80.0, \"Total.Cellularity\": 70.0, \"In.CR\": \"no\", \"QC.status\": \"QC.pass\", \"8q_gain\": true, \"8p_loss\": false, \"Age\": 65.5}, {\"Replicate_Measurement_IDs\": \"X20BR007\", \"Sample_Tumor_Normal\": \"Tumor\", \"Age.in.Month\": 660.0, \"Gender\": \"female\", \"Race\": \"black.or.african.american\", \"Human.Readable.Label\": \"[54]-d9d82c_D2\", \"Experiment\": \"5\", \"Channel\": \"130N\", \"Stage\": \"Stage IIA\", \"PAM50\": \"Basal\", \"NMF.v2.1\": \"C1\", \"ER\": \"negative\", \"PR\": \"negative\", \"ER.IHC.Score\": \"0\", \"PR.IHC.Score\": null, \"Coring.or.Excision\": \"excision\", \"Ischemia.Time.in.Minutes\": 16.0, \"Ischemia.Decade\": 2.0, \"Necrosis\": 0.0, \"Tumor.Cellularity\": 75.0, \"Total.Cellularity\": 70.0, \"In.CR\": \"yes\", \"QC.status\": \"QC.pass\", \"8q_gain\": false, \"8p_loss\": true, \"Age\": 55.0}, {\"Replicate_Measurement_IDs\": \"X20BR008\", \"Sample_Tumor_Normal\": \"Tumor\", \"Age.in.Month\": 863.0, \"Gender\": \"female\", \"Race\": \"black.or.african.american\", \"Human.Readable.Label\": \"[b8]-8ae4b9_D2\", \"Experiment\": \"5\", \"Channel\": \"127C\", \"Stage\": \"Stage IIIB\", \"PAM50\": \"Her2\", \"NMF.v2.1\": \"C1\", \"ER\": \"negative\", \"PR\": \"negative\", \"ER.IHC.Score\": \"0\", \"PR.IHC.Score\": \"0\", \"Coring.or.Excision\": \"excision\", \"Ischemia.Time.in.Minutes\": 11.0, \"Ischemia.Decade\": 2.0, \"Necrosis\": 5.0, \"Tumor.Cellularity\": 65.0, \"Total.Cellularity\": 40.0, \"In.CR\": \"yes\", \"QC.status\": \"QC.pass\", \"8q_gain\": false, \"8p_loss\": true, \"Age\": 71.91666666666667}, {\"Replicate_Measurement_IDs\": \"X21BR001\", \"Sample_Tumor_Normal\": \"Tumor\", \"Age.in.Month\": null, \"Gender\": null, \"Race\": \"white\", \"Human.Readable.Label\": \"[1f]-d9108c\", \"Experiment\": \"16\", \"Channel\": \"128N\", \"Stage\": null, \"PAM50\": \"LumB\", \"NMF.v2.1\": \"C2\", \"ER\": \"negative\", \"PR\": \"negative\", \"ER.IHC.Score\": null, \"PR.IHC.Score\": null, \"Coring.or.Excision\": null, \"Ischemia.Time.in.Minutes\": null, \"Ischemia.Decade\": null, \"Necrosis\": 0.0, \"Tumor.Cellularity\": 60.0, \"Total.Cellularity\": 80.0, \"In.CR\": \"no\", \"QC.status\": \"QC.pass\", \"8q_gain\": true, \"8p_loss\": true, \"Age\": null}, {\"Replicate_Measurement_IDs\": \"X21BR002\", \"Sample_Tumor_Normal\": \"Tumor\", \"Age.in.Month\": null, \"Gender\": null, \"Race\": \"white\", \"Human.Readable.Label\": \"[32]-22665e\", \"Experiment\": \"16\", \"Channel\": \"128C\", \"Stage\": null, \"PAM50\": \"LumA\", \"NMF.v2.1\": \"C2\", \"ER\": \"positive\", \"PR\": \"positive\", \"ER.IHC.Score\": null, \"PR.IHC.Score\": null, \"Coring.or.Excision\": null, \"Ischemia.Time.in.Minutes\": null, \"Ischemia.Decade\": null, \"Necrosis\": 0.0, \"Tumor.Cellularity\": 65.0, \"Total.Cellularity\": 60.0, \"In.CR\": \"no\", \"QC.status\": \"QC.pass\", \"8q_gain\": false, \"8p_loss\": false, \"Age\": null}, {\"Replicate_Measurement_IDs\": \"X21BR010|X21BR010.REP1\", \"Sample_Tumor_Normal\": \"Tumor\", \"Age.in.Month\": 852.0, \"Gender\": \"female\", \"Race\": \"white\", \"Human.Readable.Label\": \"[68]-4d3e43_D2\", \"Experiment\": \"3|17\", \"Channel\": \"129C|128C\", \"Stage\": \"Stage IIA\", \"PAM50\": \"LumA\", \"NMF.v2.1\": \"C1\", \"ER\": \"positive\", \"PR\": \"positive\", \"ER.IHC.Score\": \"3+\", \"PR.IHC.Score\": \"3+\", \"Coring.or.Excision\": \"excision\", \"Ischemia.Time.in.Minutes\": 18.0, \"Ischemia.Decade\": 2.0, \"Necrosis\": 0.0, \"Tumor.Cellularity\": 60.0, \"Total.Cellularity\": 55.0, \"In.CR\": \"yes\", \"QC.status\": \"QC.pass\", \"8q_gain\": false, \"8p_loss\": false, \"Age\": 71.0}, {\"Replicate_Measurement_IDs\": \"X22BR005\", \"Sample_Tumor_Normal\": \"Tumor\", \"Age.in.Month\": 552.0, \"Gender\": \"female\", \"Race\": \"white\", \"Human.Readable.Label\": \"[12]-1af490_D2\", \"Experiment\": \"6\", \"Channel\": \"129N\", \"Stage\": \"Stage IIB\", \"PAM50\": \"LumA\", \"NMF.v2.1\": \"C1\", \"ER\": \"positive\", \"PR\": \"positive\", \"ER.IHC.Score\": \"3+\", \"PR.IHC.Score\": \"3+\", \"Coring.or.Excision\": \"excision\", \"Ischemia.Time.in.Minutes\": 20.0, \"Ischemia.Decade\": 2.0, \"Necrosis\": 15.0, \"Tumor.Cellularity\": 65.0, \"Total.Cellularity\": 75.0, \"In.CR\": \"no\", \"QC.status\": \"QC.pass\", \"8q_gain\": false, \"8p_loss\": false, \"Age\": 46.0}, {\"Replicate_Measurement_IDs\": \"X22BR006\", \"Sample_Tumor_Normal\": \"Tumor\", \"Age.in.Month\": 660.0, \"Gender\": \"female\", \"Race\": \"black.or.african.american\", \"Human.Readable.Label\": \"[a2]-5d5f11_D2\", \"Experiment\": \"10\", \"Channel\": \"130N\", \"Stage\": \"Stage IIIA\", \"PAM50\": \"LumA\", \"NMF.v2.1\": \"C2\", \"ER\": \"positive\", \"PR\": \"positive\", \"ER.IHC.Score\": \"2+\", \"PR.IHC.Score\": \"3+\", \"Coring.or.Excision\": \"excision\", \"Ischemia.Time.in.Minutes\": 25.0, \"Ischemia.Decade\": 3.0, \"Necrosis\": null, \"Tumor.Cellularity\": null, \"Total.Cellularity\": null, \"In.CR\": \"no\", \"QC.status\": \"QC.pass\", \"8q_gain\": true, \"8p_loss\": false, \"Age\": 55.0}]}}, {\"mode\": \"vega-lite\"});\n",
       "</script>"
      ],
      "text/plain": [
       "alt.Chart(...)"
      ]
     },
     "execution_count": 7,
     "metadata": {},
     "output_type": "execute_result"
    }
   ],
   "source": [
    "brca = brca.assign(Age=brca[\"Age.in.Month\"] / 12)\n",
    "\n",
    "alt.Chart(brca).mark_bar().encode(\n",
    "    alt.X(\"Age:Q\", bin=alt.Bin()),\n",
    "    y='count()',\n",
    ")"
   ]
  },
  {
   "cell_type": "code",
   "execution_count": 8,
   "metadata": {
    "scrolled": false
   },
   "outputs": [
    {
     "name": "stdout",
     "output_type": "stream",
     "text": [
      "white                        78\n",
      "asian                        19\n",
      "black.or.african.american    14\n",
      "hispanic.or.latino            4\n",
      "Name: Race, dtype: int64\n",
      "\n",
      "Stage IIA     50\n",
      "Stage IIIA    22\n",
      "Stage IIB     20\n",
      "Stage III      4\n",
      "Stage IA       4\n",
      "Stage IIIC     4\n",
      "Stage IIIB     3\n",
      "Name: Stage, dtype: int64\n",
      "\n",
      "LumA      57\n",
      "Basal     29\n",
      "LumB      17\n",
      "Her2      14\n",
      "Normal     5\n",
      "Name: PAM50, dtype: int64\n",
      "\n",
      "C3    33\n",
      "C2    32\n",
      "C1    26\n",
      "C4    25\n",
      "Name: NMF.v2.1, dtype: int64\n",
      "\n"
     ]
    }
   ],
   "source": [
    "for col in brca_cols:\n",
    "    if col != \"Age.in.Month\":\n",
    "        print(brca[col].value_counts())\n",
    "        print()"
   ]
  },
  {
   "cell_type": "code",
   "execution_count": 17,
   "metadata": {},
   "outputs": [],
   "source": [
    "ct = pd.crosstab(brca[\"8p_loss\"], brca[\"NMF.v2.1\"])"
   ]
  },
  {
   "cell_type": "code",
   "execution_count": 18,
   "metadata": {},
   "outputs": [
    {
     "data": {
      "text/html": [
       "<div>\n",
       "<style scoped>\n",
       "    .dataframe tbody tr th:only-of-type {\n",
       "        vertical-align: middle;\n",
       "    }\n",
       "\n",
       "    .dataframe tbody tr th {\n",
       "        vertical-align: top;\n",
       "    }\n",
       "\n",
       "    .dataframe thead th {\n",
       "        text-align: right;\n",
       "    }\n",
       "</style>\n",
       "<table border=\"1\" class=\"dataframe\">\n",
       "  <thead>\n",
       "    <tr style=\"text-align: right;\">\n",
       "      <th>NMF.v2.1</th>\n",
       "      <th>C1</th>\n",
       "      <th>C2</th>\n",
       "      <th>C3</th>\n",
       "      <th>C4</th>\n",
       "    </tr>\n",
       "    <tr>\n",
       "      <th>8p_loss</th>\n",
       "      <th></th>\n",
       "      <th></th>\n",
       "      <th></th>\n",
       "      <th></th>\n",
       "    </tr>\n",
       "  </thead>\n",
       "  <tbody>\n",
       "    <tr>\n",
       "      <th>False</th>\n",
       "      <td>14</td>\n",
       "      <td>15</td>\n",
       "      <td>19</td>\n",
       "      <td>14</td>\n",
       "    </tr>\n",
       "    <tr>\n",
       "      <th>True</th>\n",
       "      <td>12</td>\n",
       "      <td>17</td>\n",
       "      <td>14</td>\n",
       "      <td>11</td>\n",
       "    </tr>\n",
       "  </tbody>\n",
       "</table>\n",
       "</div>"
      ],
      "text/plain": [
       "NMF.v2.1  C1  C2  C3  C4\n",
       "8p_loss                 \n",
       "False     14  15  19  14\n",
       "True      12  17  14  11"
      ]
     },
     "execution_count": 18,
     "metadata": {},
     "output_type": "execute_result"
    }
   ],
   "source": [
    "ct"
   ]
  },
  {
   "cell_type": "code",
   "execution_count": 21,
   "metadata": {},
   "outputs": [],
   "source": [
    "chi2, p, dof, exp_freq = scipy.stats.chi2_contingency(ct)"
   ]
  },
  {
   "cell_type": "code",
   "execution_count": 22,
   "metadata": {},
   "outputs": [
    {
     "data": {
      "text/plain": [
       "0.8377783047508794"
      ]
     },
     "execution_count": 22,
     "metadata": {},
     "output_type": "execute_result"
    }
   ],
   "source": [
    "p"
   ]
  },
  {
   "cell_type": "markdown",
   "metadata": {},
   "source": [
    "## Colon"
   ]
  },
  {
   "cell_type": "code",
   "execution_count": 11,
   "metadata": {
    "scrolled": true
   },
   "outputs": [
    {
     "name": "stdout",
     "output_type": "stream",
     "text": [
      "                                          \r"
     ]
    }
   ],
   "source": [
    "colon = load_tables(\"colon\")"
   ]
  },
  {
   "cell_type": "markdown",
   "metadata": {},
   "source": [
    "## HNSCC"
   ]
  },
  {
   "cell_type": "code",
   "execution_count": 12,
   "metadata": {},
   "outputs": [
    {
     "name": "stdout",
     "output_type": "stream",
     "text": [
      "                                          \r"
     ]
    },
    {
     "name": "stderr",
     "output_type": "stream",
     "text": [
      "cptac warning: The HNSCC data is currently strictly reserved for CPTAC investigators. Otherwise, you are not authorized to access these data. Additionally, even after these data become publicly available, they will be subject to a publication embargo (see https://proteomics.cancer.gov/data-portal/about/data-use-agreement or enter cptac.embargo() to open the webpage for more details). (/home/caleb/anaconda3/envs/dev/lib/python3.7/site-packages/ipykernel_launcher.py, line 4)\n"
     ]
    }
   ],
   "source": [
    "hnscc = load_tables(\"hnscc\")"
   ]
  },
  {
   "cell_type": "markdown",
   "metadata": {},
   "source": [
    "## LSCC"
   ]
  },
  {
   "cell_type": "code",
   "execution_count": 13,
   "metadata": {},
   "outputs": [
    {
     "name": "stdout",
     "output_type": "stream",
     "text": [
      "                                         \r"
     ]
    },
    {
     "name": "stderr",
     "output_type": "stream",
     "text": [
      "cptac warning: The LSCC data is currently strictly reserved for CPTAC investigators. Otherwise, you are not authorized to access these data. Additionally, even after these data become publicly available, they will be subject to a publication embargo (see https://proteomics.cancer.gov/data-portal/about/data-use-agreement or enter cptac.embargo() to open the webpage for more details). (/home/caleb/anaconda3/envs/dev/lib/python3.7/site-packages/ipykernel_launcher.py, line 4)\n"
     ]
    }
   ],
   "source": [
    "lscc = load_tables(\"lscc\")"
   ]
  },
  {
   "cell_type": "markdown",
   "metadata": {},
   "source": [
    "## LUAD"
   ]
  },
  {
   "cell_type": "code",
   "execution_count": 14,
   "metadata": {},
   "outputs": [
    {
     "name": "stdout",
     "output_type": "stream",
     "text": [
      "                                         \r"
     ]
    }
   ],
   "source": [
    "luad = load_tables(\"luad\")"
   ]
  },
  {
   "cell_type": "markdown",
   "metadata": {},
   "source": [
    "## Ovarian"
   ]
  },
  {
   "cell_type": "code",
   "execution_count": 15,
   "metadata": {},
   "outputs": [
    {
     "name": "stdout",
     "output_type": "stream",
     "text": [
      "                                            \r"
     ]
    }
   ],
   "source": [
    "ovarian = load_tables(\"ovarian\")"
   ]
  },
  {
   "cell_type": "markdown",
   "metadata": {},
   "source": [
    "Clinical vars to use\n",
    "- Age\n",
    "- Gender\n",
    "- Race\n",
    "- Tumor stage/grade\n",
    "- Histology/subtype\n",
    "- TP53 and other mutation status for any that have like a 10% (maybe 5%) or greater frequency\n",
    "\n",
    "brca\n",
    "\n",
    "- Replicate_Measurement_IDs\n",
    "- Sample_Tumor_Normal\n",
    "- Age.in.Month\n",
    "- Gender\n",
    "- Race\n",
    "- Human.Readable.Label\n",
    "- Experiment\n",
    "- Channel\n",
    "- Stage\n",
    "- PAM50\n",
    "- NMF.v2.1\n",
    "- ER\n",
    "- PR\n",
    "- ER.IHC.Score\n",
    "- PR.IHC.Score\n",
    "- Coring.or.Excision\n",
    "- Ischemia.Time.in.Minutes\n",
    "- Ischemia.Decade\n",
    "- Necrosis\n",
    "- Tumor.Cellularity\n",
    "- Total.Cellularity\n",
    "- In.CR\n",
    "- QC.status\n",
    "\n",
    "colon\n",
    "\n",
    "- Sample_Tumor_Normal\n",
    "- Age\n",
    "- CEA\n",
    "- Gender\n",
    "- Lymphatic_Invasion\n",
    "- Mucinous\n",
    "- Perineural_Invasion\n",
    "- Polyps_History\n",
    "- Polyps_Present\n",
    "- Stage\n",
    "- Subsite\n",
    "- Synchronous_Tumors\n",
    "- Tumor.Status\n",
    "- Vascular_Invasion\n",
    "- Vital.Status\n",
    "- pathalogy_N_stage\n",
    "- pathalogy_T_stage\n",
    "\n",
    "hnscc\n",
    "\n",
    "- Sample_Tumor_Normal\n",
    "- Cored_Sample\n",
    "- P16\n",
    "- age\n",
    "- alcohol_consum\n",
    "- clinic_staging_dist_metas\n",
    "- country\n",
    "- follow_up_days\n",
    "- follow_up_is_contact\n",
    "- follow_up_vital_status\n",
    "- gender\n",
    "- histologic_grade\n",
    "- histologic_type\n",
    "- num_pack_years_sm\n",
    "- num_smoke_per_day\n",
    "- num_yrs_alc_con\n",
    "- patho_staging_curated\n",
    "- patho_staging_orignial\n",
    "- patho_staging_pn\n",
    "- patho_staging_pt\n",
    "- smoke_age_start\n",
    "- smoke_age_stop\n",
    "- smoking_history\n",
    "- smoking_inferred_binary\n",
    "- smoking_second_hand\n",
    "- tumor_focality\n",
    "- tumor_necrosis\n",
    "- tumor_site_curated\n",
    "- tumor_site_original\n",
    "- tumor_size_cm\n",
    "\n",
    "lscc\n",
    "\n",
    "- Sample_Tumor_Normal\n",
    "- Smoking.History\n",
    "- Stage\n",
    "- Country.of.Origin\n",
    "- Age\n",
    "- Gender\n",
    "- Ethnicity\n",
    "- Cigarettes.per.Day\n",
    "- Pack.Years.Smoked\n",
    "- Secondhand.Smoke\n",
    "\n",
    "luad\n",
    "\n",
    "- Sample.IDs\n",
    "- Sample_Tumor_Normal\n",
    "- Smoking.Status\n",
    "- Stage\n",
    "- Region.of.Origin\n",
    "- Country.of.Origin\n",
    "- Age\n",
    "- Gender\n",
    "- Ethnicity\n",
    "- Height.cm\n",
    "- Weight.kg\n",
    "- BMI\n",
    "- Cigarettes.per.Day\n",
    "- Pack.Years.Smoked\n",
    "- Smoking.History\n",
    "- Secondhand.Smoke\n",
    "\n",
    "ovarian\n",
    "\n",
    "- Sample_Tumor_Normal\n",
    "- Participant_Procurement_Age\n",
    "- Participant_Gender\n",
    "- Participant_Race\n",
    "- Participant_Ethnicity\n",
    "- Participant_Jewish_Heritage\n",
    "- Participant_History_Malignancy\n",
    "- Participant_History_Chemotherapy\n",
    "- Participant_History_Neo-adjuvant_Treatment\n",
    "- Participant_History_Radiation_Therapy\n",
    "- Participant_History_Hormonal_Therapy\n",
    "- Aliquots_Plasma\n",
    "- Blood_Collection_Time\n",
    "- Blood_Collection_Method\n",
    "- Anesthesia_Time\n",
    "- Tumor_Surgical_Devascularized_Time\n",
    "- Tumor_Sample_Number\n",
    "- Tumor_Sample_1_Weight\n",
    "- Tumor_Sample_1_LN2_Time\n",
    "- Tumor_Sample_1_Ischemia_Time\n",
    "- Tumor_Sample_2_Weight\n",
    "- Tumor_Sample_2_LN2_Time\n",
    "- Tumor_Sample_2_Ischemia_Time\n",
    "- Tumor_Sample_3_Weight\n",
    "- Tumor_Sample_3_LN2_Time\n",
    "- Tumor_Sample_3_Ischemia_Time\n",
    "- Tumor_Sample_4_Weight\n",
    "- Tumor_Sample_4_LN2_Time\n",
    "- Tumor_Sample_4_Ischemia_Time\n",
    "- Tumor_Sample_5_Weight\n",
    "- Tumor_Sample_5_LN2_Time\n",
    "- Tumor_Sample_5_Ischemia_Time\n",
    "- Normal_Sample_Number\n",
    "- Normal_Sample_1_Surgical_Devascularized_Time\n",
    "- Normal_Sample_1_Weight\n",
    "- Normal_Sample_1_LN2_Time\n",
    "- Normal_Sample_1_Ischemia_Time\n",
    "- Normal_Sample_2_Surgical_Devascularized_Time\n",
    "- Normal_Sample_2_Weight\n",
    "- Normal_Sample_2_LN2_Time\n",
    "- Normal_Sample_2_Ischemia_Time\n",
    "- Normal_Sample_3_Surgical_Devascularized_Time\n",
    "- Normal_Sample_3_Weight\n",
    "- Normal_Sample_3_LN2_Time\n",
    "- Normal_Sample_3_Ischemia_Time\n",
    "- Normal_Sample_4_Surgical_Devascularized_Time\n",
    "- Normal_Sample_4_Weight\n",
    "- Normal_Sample_4_LN2_Time\n",
    "- Normal_Sample_4_Ischemia_Time\n",
    "- Normal_Sample_5_Surgical_Devascularized_Time\n",
    "- Normal_Sample_5_Weight\n",
    "- Normal_Sample_5_LN2_Time\n",
    "- Normal_Sample_5_Ischemia_Time\n",
    "- Origin_Site_Disease\n",
    "- Anatomic_Site_Tumor\n",
    "- Anatomic_Lateral_Position_Tumor\n",
    "- Histological_Subtype\n",
    "- Method_of_Pathologic_Diagnosis\n",
    "- Tumor_Stage_Ovary_FIGO\n",
    "- Tumor_Grade\n",
    "- Tumor_Residual_Disease_Max_Diameter\n",
    "- Days_Between_Collection_And_Last_Contact\n",
    "- Vital_Status\n",
    "- Days_Between_Collection_And_Death\n",
    "- Tumor_Status\n",
    "- Review_Of_Initial_Pathological_Findings\n",
    "- Pathology_Review_Consistent_With_Diagnosis\n",
    "- Adjuvant_Radiation_Therapy\n",
    "- Adjuvant_Pharmaceutical_Therapy\n",
    "- Adjuvant_Immunotherapy\n",
    "- Adjuvant_Hormone_Therapy\n",
    "- Adjuvant_Targeted_Molecular_Therapy\n",
    "- Response_After_Surgery_And_Adjuvant_Therapies\n",
    "- New_Tumor_Event_After_Initial_Treatment\n",
    "- New_Tumor_Event_Type\n",
    "- New_Tumor_Event_Site\n",
    "- Other_New_Tumor_Event_Site\n",
    "- Days_Between_Collection_And_New_Tumor_Event\n",
    "- New_Tumor_Event_Diagnosis\n",
    "- New_Tumor_Event_Surgery\n",
    "- Days_Between_Collection_And_New_Tumor_Event_Surgery\n",
    "- New_Tumor_Event_Chemotherapy\n",
    "- New_Tumor_Event_Immunotherapy\n",
    "- New_Tumor_Event_Hormone_Therapy\n",
    "- New_Tumor_Event_Targeted_Molecular_Therapy"
   ]
  }
 ],
 "metadata": {
  "kernelspec": {
   "display_name": "Python 3",
   "language": "python",
   "name": "python3"
  },
  "language_info": {
   "codemirror_mode": {
    "name": "ipython",
    "version": 3
   },
   "file_extension": ".py",
   "mimetype": "text/x-python",
   "name": "python",
   "nbconvert_exporter": "python",
   "pygments_lexer": "ipython3",
   "version": "3.7.7"
  }
 },
 "nbformat": 4,
 "nbformat_minor": 4
}
