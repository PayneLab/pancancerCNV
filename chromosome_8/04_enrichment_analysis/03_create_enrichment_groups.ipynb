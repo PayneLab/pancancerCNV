{
 "cells": [
  {
   "cell_type": "markdown",
   "metadata": {},
   "source": [
    "# Enrichment NB 03: Look for pathways enriched with proteins that are only shown differentially expressed in one group\n",
    "- Load saved table\n",
    "- For each cancer type:\n",
    "    - Separately select proteins that only have a significant difference in samples with the event, and proteins that only have a significant difference in samples without the event.\n",
    "    - Also select proteins that are significantly upregulated in samples with the event but downregulated in samples without the event, and vice versa\n",
    "    - For each group, run an enrichment analysis\n",
    "        - Which algorithm?\n",
    "        - Which gene set library? Probably either GO or Reactome.\n",
    "        - Rank by difference in expression (should we take absolute value? Check)"
   ]
  },
  {
   "cell_type": "markdown",
   "metadata": {},
   "source": [
    "## Setup"
   ]
  },
  {
   "cell_type": "code",
   "execution_count": 1,
   "metadata": {},
   "outputs": [],
   "source": [
    "import pandas as pd\n",
    "import numpy as np\n",
    "import os"
   ]
  },
  {
   "cell_type": "code",
   "execution_count": 2,
   "metadata": {},
   "outputs": [],
   "source": [
    "ALPHA = 0.05\n",
    "\n",
    "diff_expr_file = os.path.join(\"diff_expr\", \"all_results.tsv.gz\")\n",
    "\n",
    "groups_dir = \"protein_groups\"\n",
    "groups_file = os.path.join(groups_dir, \"groups_proteins.tsv.gz\")\n",
    "\n",
    "if not os.path.isdir(groups_dir):\n",
    "    os.mkdir(groups_dir)"
   ]
  },
  {
   "cell_type": "markdown",
   "metadata": {},
   "source": [
    "## Load expression data and filter values below the cutoff"
   ]
  },
  {
   "cell_type": "code",
   "execution_count": 3,
   "metadata": {},
   "outputs": [],
   "source": [
    "diff_expr = pd.read_csv(diff_expr_file, sep=\"\\t\", dtype={\"p_val\": float, \"adj_p\": float})\n",
    "diff_expr = diff_expr[diff_expr[\"adj_p\"] <= ALPHA]"
   ]
  },
  {
   "cell_type": "markdown",
   "metadata": {},
   "source": [
    "## Find groups of proteins to look for enrichment in"
   ]
  },
  {
   "cell_type": "code",
   "execution_count": 4,
   "metadata": {},
   "outputs": [],
   "source": [
    "groups = pd.DataFrame()\n",
    "\n",
    "for cancer_type in diff_expr[\"cancer_type\"].unique():\n",
    "    \n",
    "    # Get data for this cancer type\n",
    "    cancer_df = diff_expr[diff_expr[\"cancer_type\"] == cancer_type]\n",
    "    \n",
    "    # Separate groups\n",
    "    with_gain = cancer_df[cancer_df[\"group\"] == \"with_gain\"]\n",
    "    without_gain = cancer_df[cancer_df[\"group\"] == \"without_gain\"]\n",
    "    \n",
    "    with_loss = cancer_df[cancer_df[\"group\"] == \"with_loss\"]\n",
    "    without_loss = cancer_df[cancer_df[\"group\"] == \"without_loss\"]\n",
    "    \n",
    "    with_both = cancer_df[cancer_df[\"group\"] == \"with_both\"]\n",
    "    without_both = cancer_df[cancer_df[\"group\"] == \"without_both\"]\n",
    "    \n",
    "    \n",
    "    \n",
    "    # Identify proteins that are up in samples with the gain, but not in samples without the gain\n",
    "    only_with_gain = with_gain[~with_gain[\"protein\"].isin(without_gain[\"protein\"])]\n",
    "    groups = groups.append(only_with_gain)\n",
    "    \n",
    "    # Identify proteins that are up in samples without the gain, but not in samples with the gain\n",
    "    only_without_gain = without_gain[~without_gain[\"protein\"].isin(with_gain[\"protein\"])]\n",
    "    groups = groups.append(only_without_gain)\n",
    "    \n",
    "    \n",
    "    \n",
    "    # Identify proteins that are up in samples with the loss, but not in samples without the loss\n",
    "    only_with_loss = with_loss[~with_loss[\"protein\"].isin(without_loss[\"protein\"])]\n",
    "    groups = groups.append(only_with_loss)\n",
    "\n",
    "    # Identify proteins that are up in samples without the loss, but not in samples with the loss\n",
    "    only_without_loss = without_loss[~without_loss[\"protein\"].isin(with_loss[\"protein\"])]\n",
    "    groups = groups.append(only_without_loss)\n",
    "\n",
    "    \n",
    "    \n",
    "    # Identify proteins that are up in samples with the gain and the loss, but not in samples \n",
    "    # without the gain and the loss\n",
    "    only_with_both = with_both[~with_both[\"protein\"].isin(without_both[\"protein\"])]\n",
    "    groups = groups.append(only_with_both)\n",
    "\n",
    "    # Identify proteins that are up in samples without the gain and the loss, but not in samples \n",
    "    # with the gain and the loss\n",
    "    only_without_both = without_both[~without_both[\"protein\"].isin(with_both[\"protein\"])]\n",
    "    groups = groups.append(only_without_both)"
   ]
  },
  {
   "cell_type": "markdown",
   "metadata": {},
   "source": [
    "## Save results"
   ]
  },
  {
   "cell_type": "code",
   "execution_count": 5,
   "metadata": {},
   "outputs": [],
   "source": [
    "groups.insert(0, \"cancer_type_group\", groups[\"cancer_type\"] + \"_\" + groups[\"group\"])\n",
    "\n",
    "groups = groups.drop(columns=[\"cancer_type\", \"group\"])"
   ]
  },
  {
   "cell_type": "code",
   "execution_count": 6,
   "metadata": {},
   "outputs": [],
   "source": [
    "groups.to_csv(groups_file, sep=\"\\t\", index=False, compression=\"gzip\")"
   ]
  }
 ],
 "metadata": {
  "kernelspec": {
   "display_name": "Python 3",
   "language": "python",
   "name": "python3"
  },
  "language_info": {
   "codemirror_mode": {
    "name": "ipython",
    "version": 3
   },
   "file_extension": ".py",
   "mimetype": "text/x-python",
   "name": "python",
   "nbconvert_exporter": "python",
   "pygments_lexer": "ipython3",
   "version": "3.7.7"
  }
 },
 "nbformat": 4,
 "nbformat_minor": 4
}
