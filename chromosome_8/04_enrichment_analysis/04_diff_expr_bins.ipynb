{
 "cells": [
  {
   "cell_type": "markdown",
   "metadata": {},
   "source": [
    "# Looking at which proteins are in the same bins across cancer types\n",
    "\n",
    "1. Load in the groups' unique differential expression results.\n",
    "2. For each group, see which proteins are consistently included across cancer types."
   ]
  },
  {
   "cell_type": "markdown",
   "metadata": {},
   "source": [
    "## Setup"
   ]
  },
  {
   "cell_type": "code",
   "execution_count": 1,
   "metadata": {},
   "outputs": [],
   "source": [
    "import pandas as pd\n",
    "import numpy as np\n",
    "import os\n",
    "import cnvutils\n",
    "import altair as alt"
   ]
  },
  {
   "cell_type": "code",
   "execution_count": 2,
   "metadata": {},
   "outputs": [],
   "source": [
    "res_dir = \"results_01_grouped_expr\"\n",
    "unique_res_path = os.path.join(res_dir, \"unique_results.tsv.gz\")\n",
    "\n",
    "unique_res = pd.read_csv(unique_res_path, sep=\"\\t\")"
   ]
  },
  {
   "cell_type": "markdown",
   "metadata": {},
   "source": [
    "## Get gene location data"
   ]
  },
  {
   "cell_type": "code",
   "execution_count": 3,
   "metadata": {},
   "outputs": [],
   "source": [
    "gene_locs = cnvutils.\\\n",
    "get_gene_locations().\\\n",
    "reset_index(drop=False)[[\"Name\", \"chromosome\", \"arm\"]]\n",
    "\n",
    "# Clean up the gene locations table\n",
    "gene_locs = gene_locs[gene_locs[\"chromosome\"].notna()]\n",
    "gene_locs = gene_locs[~gene_locs.duplicated(keep=\"first\")]\n",
    "gene_locs = gene_locs[~gene_locs[\"chromosome\"].str.endswith((\"MT\", \".1\"))]\n",
    "\n",
    "# Join gene locations into the differential expression table\n",
    "unique_res = unique_res.merge(\n",
    "    right=gene_locs,\n",
    "    left_on=\"protein_str\",\n",
    "    right_on=\"Name\",\n",
    "    how=\"inner\",\n",
    "    validate=\"many_to_one\"\n",
    ")"
   ]
  },
  {
   "cell_type": "code",
   "execution_count": 4,
   "metadata": {},
   "outputs": [],
   "source": [
    "unique_res = unique_res[[\n",
    "    \"cancer_type\", \n",
    "    \"group\", \n",
    "    \"protein\", \n",
    "    \"change\", \n",
    "    \"p_val\", \n",
    "    \"t_stat\", \n",
    "    \"protein_str\",\n",
    "    \"adj_p\",\n",
    "    \"chromosome\",\n",
    "    \"arm\"\n",
    "]]"
   ]
  },
  {
   "cell_type": "markdown",
   "metadata": {},
   "source": [
    "## Filter out genes that are contained in the events"
   ]
  },
  {
   "cell_type": "code",
   "execution_count": 5,
   "metadata": {},
   "outputs": [],
   "source": [
    "# For the with_gain and without_gain groups, filter out genes located on\n",
    "# 8q, which is the gained arm.\n",
    "cis = unique_res[\n",
    "    (\n",
    "        unique_res[\"group\"].str.endswith(\"gain\") & \n",
    "        (unique_res[\"chromosome\"] == \"8\") & \n",
    "        (unique_res[\"arm\"] == \"q\")\n",
    "    ) |\n",
    "    (\n",
    "        unique_res[\"group\"].str.endswith(\"loss\") & \n",
    "        (unique_res[\"chromosome\"] == \"8\") & \n",
    "        (unique_res[\"arm\"] == \"p\")\n",
    "    ) |\n",
    "    (\n",
    "        unique_res[\"group\"].str.endswith(\"both\") & \n",
    "        (unique_res[\"chromosome\"] == \"8\")\n",
    "    )\n",
    "]"
   ]
  },
  {
   "cell_type": "code",
   "execution_count": 6,
   "metadata": {},
   "outputs": [],
   "source": [
    "# For the with_gain and without_gain groups, filter out genes located on\n",
    "# 8q, which is the gained arm.\n",
    "\n",
    "# For the with_loss and without_loss groups, filter out genes located on\n",
    "# 8p, which is the lost arm.\n",
    "\n",
    "# For the with_both and without_both groups, filter out all genes on\n",
    "# chromosome 8.\n",
    "\n",
    "trans = unique_res[\n",
    "    ~(\n",
    "        unique_res[\"group\"].str.endswith(\"gain\") & \n",
    "        (unique_res[\"chromosome\"] == \"8\") & \n",
    "        (unique_res[\"arm\"] == \"q\")\n",
    "    ) |\n",
    "    ~(\n",
    "        unique_res[\"group\"].str.endswith(\"loss\") & \n",
    "        (unique_res[\"chromosome\"] == \"8\") & \n",
    "        (unique_res[\"arm\"] == \"p\")\n",
    "    ) |\n",
    "    ~(\n",
    "        unique_res[\"group\"].str.endswith(\"both\") & \n",
    "        (unique_res[\"chromosome\"] == \"8\")\n",
    "    )\n",
    "]"
   ]
  },
  {
   "cell_type": "markdown",
   "metadata": {},
   "source": [
    "## Summarize which proteins are different in multiple groups"
   ]
  },
  {
   "cell_type": "code",
   "execution_count": 7,
   "metadata": {},
   "outputs": [],
   "source": [
    "def make_summaries(prots, chart_title):\n",
    "    prots = prots[[\"cancer_type\", \"group\", \"protein_str\"]]\n",
    "\n",
    "    prots_bin_summary = prots.\\\n",
    "    groupby([\"group\", \"protein_str\"]).\\\n",
    "    agg(**{\"cancers\": (\"cancer_type\", lambda x: x.drop_duplicates().sort_values().tolist())})\n",
    "\n",
    "    prots_bin_summary = prots_bin_summary.\\\n",
    "    assign(cancer_count=prots_bin_summary[\"cancers\"].apply(len)).\\\n",
    "    sort_values(by=[\"cancer_count\", \"group\", \"protein_str\"], ascending=[False, True, True]).\\\n",
    "    reset_index(drop=False)\n",
    "    \n",
    "    chart_df = prots_bin_summary[prots_bin_summary[\"cancer_count\"] > 1][\"cancers\"].\\\n",
    "    value_counts().\\\n",
    "    reset_index(drop=False).\\\n",
    "    rename(columns={\n",
    "        \"index\": \"included_cancers\",\n",
    "        \"cancers\": \"protein_count\"\n",
    "    })\n",
    "    \n",
    "    chart_df = chart_df.\\\n",
    "    assign(\n",
    "        group_size=chart_df[\"included_cancers\"].apply(len),\n",
    "        included_str=chart_df[\"included_cancers\"].apply(lambda x: \", \".join(x)),\n",
    "        tmp_sort=chart_df[\"included_cancers\"].apply(lambda x: \"\".join(x))\n",
    "    ).\\\n",
    "    sort_values(by=[\"group_size\", \"tmp_sort\"], ascending=[False, True]).\\\n",
    "    drop(columns=\"tmp_sort\")\n",
    "    \n",
    "    chart = alt.Chart(chart_df).mark_bar().encode(\n",
    "        x=alt.X(\n",
    "            \"included_str\",\n",
    "            sort=chart_df[\"included_str\"].values,\n",
    "            axis=alt.Axis(\n",
    "                title=\"Subset of cancers\"\n",
    "            )\n",
    "        ),\n",
    "        y=alt.Y(\n",
    "            \"protein_count\",\n",
    "            axis=alt.Axis(\n",
    "                title=\"Number of proteins diff. expressed in all subset members\"\n",
    "            )\n",
    "        ),\n",
    "        color=alt.Color(\n",
    "            \"group_size:O\"\n",
    "        )\n",
    "    ).properties(\n",
    "        title=chart_title\n",
    "    )\n",
    "    \n",
    "    return chart, chart_df"
   ]
  },
  {
   "cell_type": "markdown",
   "metadata": {},
   "source": [
    "### Trans"
   ]
  },
  {
   "cell_type": "code",
   "execution_count": 8,
   "metadata": {},
   "outputs": [],
   "source": [
    "trans_cht, trans_summary = make_summaries(trans, \"Trans proteins\")"
   ]
  },
  {
   "cell_type": "markdown",
   "metadata": {},
   "source": [
    "### Cis"
   ]
  },
  {
   "cell_type": "code",
   "execution_count": 9,
   "metadata": {},
   "outputs": [],
   "source": [
    "cis_cht, cis_summary = make_summaries(cis, \"Cis proteins\")"
   ]
  },
  {
   "cell_type": "code",
   "execution_count": 10,
   "metadata": {},
   "outputs": [
    {
     "data": {
      "text/html": [
       "\n",
       "<div id=\"altair-viz-4d2f2f62ab094d938c66785b34a367eb\"></div>\n",
       "<script type=\"text/javascript\">\n",
       "  (function(spec, embedOpt){\n",
       "    let outputDiv = document.currentScript.previousElementSibling;\n",
       "    if (outputDiv.id !== \"altair-viz-4d2f2f62ab094d938c66785b34a367eb\") {\n",
       "      outputDiv = document.getElementById(\"altair-viz-4d2f2f62ab094d938c66785b34a367eb\");\n",
       "    }\n",
       "    const paths = {\n",
       "      \"vega\": \"https://cdn.jsdelivr.net/npm//vega@5?noext\",\n",
       "      \"vega-lib\": \"https://cdn.jsdelivr.net/npm//vega-lib?noext\",\n",
       "      \"vega-lite\": \"https://cdn.jsdelivr.net/npm//vega-lite@4.8.1?noext\",\n",
       "      \"vega-embed\": \"https://cdn.jsdelivr.net/npm//vega-embed@6?noext\",\n",
       "    };\n",
       "\n",
       "    function loadScript(lib) {\n",
       "      return new Promise(function(resolve, reject) {\n",
       "        var s = document.createElement('script');\n",
       "        s.src = paths[lib];\n",
       "        s.async = true;\n",
       "        s.onload = () => resolve(paths[lib]);\n",
       "        s.onerror = () => reject(`Error loading script: ${paths[lib]}`);\n",
       "        document.getElementsByTagName(\"head\")[0].appendChild(s);\n",
       "      });\n",
       "    }\n",
       "\n",
       "    function showError(err) {\n",
       "      outputDiv.innerHTML = `<div class=\"error\" style=\"color:red;\">${err}</div>`;\n",
       "      throw err;\n",
       "    }\n",
       "\n",
       "    function displayChart(vegaEmbed) {\n",
       "      vegaEmbed(outputDiv, spec, embedOpt)\n",
       "        .catch(err => showError(`Javascript Error: ${err.message}<br>This usually means there's a typo in your chart specification. See the javascript console for the full traceback.`));\n",
       "    }\n",
       "\n",
       "    if(typeof define === \"function\" && define.amd) {\n",
       "      requirejs.config({paths});\n",
       "      require([\"vega-embed\"], displayChart, err => showError(`Error loading script: ${err.message}`));\n",
       "    } else if (typeof vegaEmbed === \"function\") {\n",
       "      displayChart(vegaEmbed);\n",
       "    } else {\n",
       "      loadScript(\"vega\")\n",
       "        .then(() => loadScript(\"vega-lite\"))\n",
       "        .then(() => loadScript(\"vega-embed\"))\n",
       "        .catch(showError)\n",
       "        .then(() => displayChart(vegaEmbed));\n",
       "    }\n",
       "  })({\"config\": {\"view\": {\"continuousWidth\": 400, \"continuousHeight\": 300}}, \"vconcat\": [{\"data\": {\"name\": \"data-eae70479b170901389289e88c478b9fd\"}, \"mark\": \"bar\", \"encoding\": {\"color\": {\"type\": \"ordinal\", \"field\": \"group_size\"}, \"x\": {\"type\": \"nominal\", \"axis\": {\"title\": \"Subset of cancers\"}, \"field\": \"included_str\", \"sort\": [\"colon, hnscc, lscc, luad\", \"colon, hnscc, lscc, ovarian\", \"colon, hnscc, luad, ovarian\", \"colon, lscc, luad, ovarian\", \"hnscc, lscc, luad, ovarian\", \"colon, hnscc, lscc\", \"colon, hnscc, luad\", \"colon, hnscc, ovarian\", \"colon, lscc, luad\", \"colon, lscc, ovarian\", \"colon, luad, ovarian\", \"hnscc, lscc, luad\", \"hnscc, lscc, ovarian\", \"hnscc, luad, ovarian\", \"lscc, luad, ovarian\", \"colon, hnscc\", \"colon, lscc\", \"colon, luad\", \"colon, ovarian\", \"hnscc, lscc\", \"hnscc, luad\", \"hnscc, ovarian\", \"lscc, luad\", \"lscc, ovarian\", \"luad, ovarian\"]}, \"y\": {\"type\": \"quantitative\", \"axis\": {\"title\": \"Number of proteins diff. expressed in all subset members\"}, \"field\": \"protein_count\"}}, \"title\": \"Trans proteins\"}, {\"data\": {\"name\": \"data-2b1fd3b92df4b903362134bab7390c65\"}, \"mark\": \"bar\", \"encoding\": {\"color\": {\"type\": \"ordinal\", \"field\": \"group_size\"}, \"x\": {\"type\": \"nominal\", \"axis\": {\"title\": \"Subset of cancers\"}, \"field\": \"included_str\", \"sort\": [\"colon, hnscc, lscc, luad\", \"colon, hnscc, lscc, ovarian\", \"colon, hnscc, luad, ovarian\", \"hnscc, lscc, luad, ovarian\", \"colon, hnscc, lscc\", \"colon, hnscc, luad\", \"colon, hnscc, ovarian\", \"colon, lscc, luad\", \"colon, lscc, ovarian\", \"colon, luad, ovarian\", \"hnscc, lscc, luad\", \"hnscc, luad, ovarian\", \"lscc, luad, ovarian\", \"colon, hnscc\", \"colon, lscc\", \"colon, luad\", \"colon, ovarian\", \"hnscc, lscc\", \"hnscc, luad\", \"hnscc, ovarian\", \"lscc, luad\", \"lscc, ovarian\", \"luad, ovarian\"]}, \"y\": {\"type\": \"quantitative\", \"axis\": {\"title\": \"Number of proteins diff. expressed in all subset members\"}, \"field\": \"protein_count\"}}, \"title\": \"Cis proteins\"}], \"resolve\": {\"scale\": {\"y\": \"shared\"}}, \"$schema\": \"https://vega.github.io/schema/vega-lite/v4.8.1.json\", \"datasets\": {\"data-eae70479b170901389289e88c478b9fd\": [{\"included_cancers\": [\"colon\", \"hnscc\", \"lscc\", \"luad\"], \"protein_count\": 8, \"group_size\": 4, \"included_str\": \"colon, hnscc, lscc, luad\"}, {\"included_cancers\": [\"colon\", \"hnscc\", \"lscc\", \"ovarian\"], \"protein_count\": 8, \"group_size\": 4, \"included_str\": \"colon, hnscc, lscc, ovarian\"}, {\"included_cancers\": [\"colon\", \"hnscc\", \"luad\", \"ovarian\"], \"protein_count\": 10, \"group_size\": 4, \"included_str\": \"colon, hnscc, luad, ovarian\"}, {\"included_cancers\": [\"colon\", \"lscc\", \"luad\", \"ovarian\"], \"protein_count\": 5, \"group_size\": 4, \"included_str\": \"colon, lscc, luad, ovarian\"}, {\"included_cancers\": [\"hnscc\", \"lscc\", \"luad\", \"ovarian\"], \"protein_count\": 10, \"group_size\": 4, \"included_str\": \"hnscc, lscc, luad, ovarian\"}, {\"included_cancers\": [\"colon\", \"hnscc\", \"lscc\"], \"protein_count\": 30, \"group_size\": 3, \"included_str\": \"colon, hnscc, lscc\"}, {\"included_cancers\": [\"colon\", \"hnscc\", \"luad\"], \"protein_count\": 40, \"group_size\": 3, \"included_str\": \"colon, hnscc, luad\"}, {\"included_cancers\": [\"colon\", \"hnscc\", \"ovarian\"], \"protein_count\": 35, \"group_size\": 3, \"included_str\": \"colon, hnscc, ovarian\"}, {\"included_cancers\": [\"colon\", \"lscc\", \"luad\"], \"protein_count\": 44, \"group_size\": 3, \"included_str\": \"colon, lscc, luad\"}, {\"included_cancers\": [\"colon\", \"lscc\", \"ovarian\"], \"protein_count\": 20, \"group_size\": 3, \"included_str\": \"colon, lscc, ovarian\"}, {\"included_cancers\": [\"colon\", \"luad\", \"ovarian\"], \"protein_count\": 37, \"group_size\": 3, \"included_str\": \"colon, luad, ovarian\"}, {\"included_cancers\": [\"hnscc\", \"lscc\", \"luad\"], \"protein_count\": 50, \"group_size\": 3, \"included_str\": \"hnscc, lscc, luad\"}, {\"included_cancers\": [\"hnscc\", \"lscc\", \"ovarian\"], \"protein_count\": 26, \"group_size\": 3, \"included_str\": \"hnscc, lscc, ovarian\"}, {\"included_cancers\": [\"hnscc\", \"luad\", \"ovarian\"], \"protein_count\": 57, \"group_size\": 3, \"included_str\": \"hnscc, luad, ovarian\"}, {\"included_cancers\": [\"lscc\", \"luad\", \"ovarian\"], \"protein_count\": 29, \"group_size\": 3, \"included_str\": \"lscc, luad, ovarian\"}, {\"included_cancers\": [\"colon\", \"hnscc\"], \"protein_count\": 353, \"group_size\": 2, \"included_str\": \"colon, hnscc\"}, {\"included_cancers\": [\"colon\", \"lscc\"], \"protein_count\": 225, \"group_size\": 2, \"included_str\": \"colon, lscc\"}, {\"included_cancers\": [\"colon\", \"luad\"], \"protein_count\": 291, \"group_size\": 2, \"included_str\": \"colon, luad\"}, {\"included_cancers\": [\"colon\", \"ovarian\"], \"protein_count\": 247, \"group_size\": 2, \"included_str\": \"colon, ovarian\"}, {\"included_cancers\": [\"hnscc\", \"lscc\"], \"protein_count\": 340, \"group_size\": 2, \"included_str\": \"hnscc, lscc\"}, {\"included_cancers\": [\"hnscc\", \"luad\"], \"protein_count\": 436, \"group_size\": 2, \"included_str\": \"hnscc, luad\"}, {\"included_cancers\": [\"hnscc\", \"ovarian\"], \"protein_count\": 343, \"group_size\": 2, \"included_str\": \"hnscc, ovarian\"}, {\"included_cancers\": [\"lscc\", \"luad\"], \"protein_count\": 343, \"group_size\": 2, \"included_str\": \"lscc, luad\"}, {\"included_cancers\": [\"lscc\", \"ovarian\"], \"protein_count\": 176, \"group_size\": 2, \"included_str\": \"lscc, ovarian\"}, {\"included_cancers\": [\"luad\", \"ovarian\"], \"protein_count\": 238, \"group_size\": 2, \"included_str\": \"luad, ovarian\"}], \"data-2b1fd3b92df4b903362134bab7390c65\": [{\"included_cancers\": [\"colon\", \"hnscc\", \"lscc\", \"luad\"], \"protein_count\": 2, \"group_size\": 4, \"included_str\": \"colon, hnscc, lscc, luad\"}, {\"included_cancers\": [\"colon\", \"hnscc\", \"lscc\", \"ovarian\"], \"protein_count\": 2, \"group_size\": 4, \"included_str\": \"colon, hnscc, lscc, ovarian\"}, {\"included_cancers\": [\"colon\", \"hnscc\", \"luad\", \"ovarian\"], \"protein_count\": 3, \"group_size\": 4, \"included_str\": \"colon, hnscc, luad, ovarian\"}, {\"included_cancers\": [\"hnscc\", \"lscc\", \"luad\", \"ovarian\"], \"protein_count\": 2, \"group_size\": 4, \"included_str\": \"hnscc, lscc, luad, ovarian\"}, {\"included_cancers\": [\"colon\", \"hnscc\", \"lscc\"], \"protein_count\": 3, \"group_size\": 3, \"included_str\": \"colon, hnscc, lscc\"}, {\"included_cancers\": [\"colon\", \"hnscc\", \"luad\"], \"protein_count\": 6, \"group_size\": 3, \"included_str\": \"colon, hnscc, luad\"}, {\"included_cancers\": [\"colon\", \"hnscc\", \"ovarian\"], \"protein_count\": 2, \"group_size\": 3, \"included_str\": \"colon, hnscc, ovarian\"}, {\"included_cancers\": [\"colon\", \"lscc\", \"luad\"], \"protein_count\": 9, \"group_size\": 3, \"included_str\": \"colon, lscc, luad\"}, {\"included_cancers\": [\"colon\", \"lscc\", \"ovarian\"], \"protein_count\": 1, \"group_size\": 3, \"included_str\": \"colon, lscc, ovarian\"}, {\"included_cancers\": [\"colon\", \"luad\", \"ovarian\"], \"protein_count\": 5, \"group_size\": 3, \"included_str\": \"colon, luad, ovarian\"}, {\"included_cancers\": [\"hnscc\", \"lscc\", \"luad\"], \"protein_count\": 3, \"group_size\": 3, \"included_str\": \"hnscc, lscc, luad\"}, {\"included_cancers\": [\"hnscc\", \"luad\", \"ovarian\"], \"protein_count\": 9, \"group_size\": 3, \"included_str\": \"hnscc, luad, ovarian\"}, {\"included_cancers\": [\"lscc\", \"luad\", \"ovarian\"], \"protein_count\": 3, \"group_size\": 3, \"included_str\": \"lscc, luad, ovarian\"}, {\"included_cancers\": [\"colon\", \"hnscc\"], \"protein_count\": 14, \"group_size\": 2, \"included_str\": \"colon, hnscc\"}, {\"included_cancers\": [\"colon\", \"lscc\"], \"protein_count\": 9, \"group_size\": 2, \"included_str\": \"colon, lscc\"}, {\"included_cancers\": [\"colon\", \"luad\"], \"protein_count\": 15, \"group_size\": 2, \"included_str\": \"colon, luad\"}, {\"included_cancers\": [\"colon\", \"ovarian\"], \"protein_count\": 17, \"group_size\": 2, \"included_str\": \"colon, ovarian\"}, {\"included_cancers\": [\"hnscc\", \"lscc\"], \"protein_count\": 16, \"group_size\": 2, \"included_str\": \"hnscc, lscc\"}, {\"included_cancers\": [\"hnscc\", \"luad\"], \"protein_count\": 19, \"group_size\": 2, \"included_str\": \"hnscc, luad\"}, {\"included_cancers\": [\"hnscc\", \"ovarian\"], \"protein_count\": 10, \"group_size\": 2, \"included_str\": \"hnscc, ovarian\"}, {\"included_cancers\": [\"lscc\", \"luad\"], \"protein_count\": 23, \"group_size\": 2, \"included_str\": \"lscc, luad\"}, {\"included_cancers\": [\"lscc\", \"ovarian\"], \"protein_count\": 4, \"group_size\": 2, \"included_str\": \"lscc, ovarian\"}, {\"included_cancers\": [\"luad\", \"ovarian\"], \"protein_count\": 16, \"group_size\": 2, \"included_str\": \"luad, ovarian\"}]}}, {\"mode\": \"vega-lite\"});\n",
       "</script>"
      ],
      "text/plain": [
       "alt.VConcatChart(...)"
      ]
     },
     "execution_count": 10,
     "metadata": {},
     "output_type": "execute_result"
    }
   ],
   "source": [
    "alt.vconcat(\n",
    "    trans_cht,\n",
    "    cis_cht\n",
    ").resolve_scale(\n",
    "    y=\"shared\"\n",
    ")"
   ]
  },
  {
   "cell_type": "markdown",
   "metadata": {},
   "source": [
    "## Save results"
   ]
  },
  {
   "cell_type": "code",
   "execution_count": 11,
   "metadata": {},
   "outputs": [],
   "source": [
    "output_dir = \"results_04_expr_across_cancers\"\n",
    "\n",
    "if not os.path.isdir(output_dir):\n",
    "    os.mkdir(output_dir)"
   ]
  },
  {
   "cell_type": "markdown",
   "metadata": {},
   "source": [
    "### Save the full tables"
   ]
  },
  {
   "cell_type": "code",
   "execution_count": 12,
   "metadata": {},
   "outputs": [],
   "source": [
    "trans.insert(0, \"protein_group\", \"trans\")\n",
    "cis.insert(0, \"protein_group\", \"cis\")\n",
    "\n",
    "combined_full = trans.append(cis)"
   ]
  },
  {
   "cell_type": "code",
   "execution_count": 13,
   "metadata": {},
   "outputs": [],
   "source": [
    "combined_full_path = os.path.join(output_dir, \"combined_full.tsv.gz\")\n",
    "combined_full.to_csv(combined_full_path, sep=\"\\t\", index=False, compression=\"gzip\")"
   ]
  },
  {
   "cell_type": "markdown",
   "metadata": {},
   "source": [
    "### Save the summaries"
   ]
  },
  {
   "cell_type": "code",
   "execution_count": 14,
   "metadata": {},
   "outputs": [],
   "source": [
    "# Combine the two summary tables into one, to make saving it easier\n",
    "trans_summary.insert(0, \"protein_group\", \"trans\")\n",
    "cis_summary.insert(0, \"protein_group\", \"cis\")\n",
    "\n",
    "combined_summaries = trans_summary.append(cis_summary)"
   ]
  },
  {
   "cell_type": "code",
   "execution_count": 15,
   "metadata": {},
   "outputs": [],
   "source": [
    "combined_summaries_path = os.path.join(output_dir, \"combined_summaries.tsv.gz\")\n",
    "combined_summaries.to_csv(combined_summaries_path, sep=\"\\t\", index=False, compression=\"gzip\")"
   ]
  },
  {
   "cell_type": "markdown",
   "metadata": {},
   "source": [
    "## Thoughts on with vs. without event categories\n",
    "\n",
    "Categories without events are more normal, so naturally they'll have more of the same proteins differentially expressed?\n",
    "\n",
    "## Plan for tonight\n",
    "\n",
    "- Make Venn diagrams showing how many proteins were shared between cancer types, in each group\n",
    "    - Bar plot alternative:\n",
    "        - We have 5 (or more later) cancer types, so 5C5 + 5C4 + 5C3 + 5C2 = 26 possible combos (excluding the combos of included in only one (5 possible combos), or included in none (1 possible combo))\n",
    "- SEA for proteins common between many cancers\n",
    "- Adapt trans effects code to do t-tests of cis effects\n",
    "- Rough draft of presentation for next week"
   ]
  }
 ],
 "metadata": {
  "kernelspec": {
   "display_name": "Python 3",
   "language": "python",
   "name": "python3"
  },
  "language_info": {
   "codemirror_mode": {
    "name": "ipython",
    "version": 3
   },
   "file_extension": ".py",
   "mimetype": "text/x-python",
   "name": "python",
   "nbconvert_exporter": "python",
   "pygments_lexer": "ipython3",
   "version": "3.7.7"
  }
 },
 "nbformat": 4,
 "nbformat_minor": 4
}
