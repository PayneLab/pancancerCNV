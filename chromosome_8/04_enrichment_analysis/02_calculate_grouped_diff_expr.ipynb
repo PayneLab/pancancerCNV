{
 "cells": [
  {
   "cell_type": "markdown",
   "metadata": {},
   "source": [
    "# Enrichment NB 2: Within each group, calculate an adjusted p value for whether each protein is differentially expressed\n",
    "1. Load saved tables\n",
    "2. Slice out the has and has_not groups\n",
    "3. Send each protein in each group through permutation test, or t-test (which?), compared to the normal samples (non-paired)\n",
    "4. Create a table with these columns:\n",
    "    - group\n",
    "    - cancer_type\n",
    "    - protein\n",
    "    - protein_str\n",
    "    - change\n",
    "    - p_val\n",
    "    - adj_p\n",
    "5. Save tables"
   ]
  },
  {
   "cell_type": "markdown",
   "metadata": {},
   "source": [
    "## Setup"
   ]
  },
  {
   "cell_type": "code",
   "execution_count": 1,
   "metadata": {},
   "outputs": [],
   "source": [
    "import cptac.utils as ut\n",
    "import statsmodels\n",
    "import numpy as np\n",
    "import pandas as pd\n",
    "import os\n",
    "import scipy"
   ]
  },
  {
   "cell_type": "code",
   "execution_count": 2,
   "metadata": {},
   "outputs": [],
   "source": [
    "proteomics_dir = \"proteomics_tables\"\n",
    "diff_expr_dir = \"diff_expr\"\n",
    "\n",
    "if not os.path.isdir(diff_expr_dir):\n",
    "    os.mkdir(diff_expr_dir)"
   ]
  },
  {
   "cell_type": "code",
   "execution_count": 3,
   "metadata": {},
   "outputs": [],
   "source": [
    "cancer_types = [\n",
    "#     \"brca\", # No normal samples\n",
    "#    \"ccrcc\", # No event table\n",
    "    \"colon\",\n",
    "#    \"endometrial\",  # No event table\n",
    "#    \"gbm\",  # No event table\n",
    "    \"hnscc\",\n",
    "    \"lscc\",\n",
    "    \"luad\",\n",
    "    \"ovarian\",\n",
    "]"
   ]
  },
  {
   "cell_type": "markdown",
   "metadata": {},
   "source": [
    "## Load the table for each cancer type and split out samples with and without each event"
   ]
  },
  {
   "cell_type": "code",
   "execution_count": 4,
   "metadata": {},
   "outputs": [],
   "source": [
    "with_gain = {}\n",
    "without_gain = {}\n",
    "\n",
    "with_loss = {}\n",
    "without_loss = {}\n",
    "\n",
    "with_both = {}\n",
    "without_both = {}\n",
    "\n",
    "all_normal = {}\n",
    "\n",
    "for cancer_type in cancer_types:\n",
    "    \n",
    "    df_path = os.path.join(proteomics_dir, f\"{cancer_type}_prot_event.tsv.gz\")\n",
    "    df = pd.read_csv(df_path, sep=\"\\t\", header=[0, 1], index_col=0, low_memory=False)\n",
    "    \n",
    "    # Handle dfs without multiindexed columns\n",
    "    if df.columns.names[1] != \"Database_ID\":\n",
    "        df = pd.read_csv(df_path, sep=\"\\t\", index_col=0, low_memory=False)\n",
    "        \n",
    "    # Otherwise, collapse the multiindex into tuples, taking out nan fillers for gain_event and loss_event columns\n",
    "    else:\n",
    "        tuples = df.columns.\\\n",
    "            to_flat_index().\\\n",
    "            tolist()\n",
    "            \n",
    "        tuples = [tuple([x[0], x[1]]) if x[1] != \"nan\" else x[0] for x in tuples]\n",
    "        df.columns = pd.Index(tuples)\n",
    "            \n",
    "    # Split out the tumor and normal samples\n",
    "    tumor = df[~df.index.str.endswith(\".N\")]\n",
    "    normal = df[df.index.str.endswith(\".N\")].\\\n",
    "        drop(columns=[\"gain_event\", \"loss_event\"])\n",
    "    \n",
    "    # Save the normal samples\n",
    "    all_normal[cancer_type] = normal\n",
    "    \n",
    "    # Within the tumor samples, drop any rows where the event status is NaN\n",
    "    gains = tumor[pd.notnull(tumor[\"gain_event\"])].\\\n",
    "        astype({\"gain_event\": bool})\n",
    "    losses = tumor[pd.notnull(tumor[\"loss_event\"])].\\\n",
    "        astype({\"loss_event\": bool})\n",
    "    \n",
    "    # Separate and save samples with and without each event\n",
    "    with_gain[cancer_type] = gains[gains[\"gain_event\"]].\\\n",
    "        drop(columns=[\"gain_event\", \"loss_event\"])\n",
    "    without_gain[cancer_type] = gains[~gains[\"gain_event\"]].\\\n",
    "        drop(columns=[\"gain_event\", \"loss_event\"])\n",
    "    \n",
    "    with_loss[cancer_type] = losses[losses[\"loss_event\"]].\\\n",
    "        drop(columns=[\"gain_event\", \"loss_event\"])\n",
    "    without_loss[cancer_type] = losses[~losses[\"loss_event\"]].\\\n",
    "        drop(columns=[\"gain_event\", \"loss_event\"])\n",
    "    \n",
    "    # Get the samples with both events\n",
    "    both = tumor[pd.notnull(tumor[\"gain_event\"]) & pd.notnull(tumor[\"loss_event\"])].\\\n",
    "        astype({\"gain_event\": bool, \"loss_event\": bool})\n",
    "    \n",
    "    with_both[cancer_type] = both[both[\"gain_event\"] & both[\"loss_event\"]].\\\n",
    "        drop(columns=[\"gain_event\", \"loss_event\"])\n",
    "    without_both[cancer_type] = both[~(both[\"gain_event\"] & both[\"loss_event\"])].\\\n",
    "        drop(columns=[\"gain_event\", \"loss_event\"])"
   ]
  },
  {
   "cell_type": "markdown",
   "metadata": {},
   "source": [
    "## For each group, see which proteins are differentially expressed compared to normal"
   ]
  },
  {
   "cell_type": "code",
   "execution_count": 5,
   "metadata": {},
   "outputs": [],
   "source": [
    "def compare_tumor_expr(tumor, normal, permutation, equal_var):\n",
    "    \"\"\"Test whether tumor and normal have significantly different expression.\n",
    "    \n",
    "    Parameters:\n",
    "    tumor (pandas.DataFrame): A dataframe where the rows are samples, and the columns are proteins.\n",
    "    normal (pandas.DataFrame): A dataframe where the rows are samples, and the columns are proteins. Needs to \n",
    "        have the same columns as the tumor dataframe.\n",
    "    permutation (bool): If True, test with permutation tests. If False, test with scipy.stats.ttest_ind.\n",
    "    equal_var (bool): If True, and permutation is False, then use Student's 2 sample independent t-test. If \n",
    "        False, and permutation is False, use Welch's approximate t-test. If permutation is True, this parameter \n",
    "        is irrelevant.\n",
    "        \n",
    "    Returns:\n",
    "    results (pandas.DataFrame): A dataframe with a row for each protein, and a column identifying the protein, \n",
    "        a column with the change for that protein (np.mean(tumor) - np.mean(normal)), and a column with the p\n",
    "        value for that change.\n",
    "    \"\"\"\n",
    "    \n",
    "    proteins = []\n",
    "    changes = []\n",
    "    p_vals = []\n",
    "    \n",
    "    for protein in tumor.columns:\n",
    "        \n",
    "        # Get the data for the protein\n",
    "        protein_tumor = tumor[protein]\n",
    "        protein_normal = normal[protein]\n",
    "        \n",
    "        # Skip it if either array is all null\n",
    "        if protein_tumor.isna().all() or protein_normal.isna().all():\n",
    "            continue\n",
    "        \n",
    "        if permutation:\n",
    "            change, p_val = ut.permutation_test_means(\n",
    "                protein_tumor,\n",
    "                protein_normal,\n",
    "                num_permutations=NUM_PERMUTATIONS)\n",
    "        else:\n",
    "            tstat, p_val = scipy.stats.ttest_ind(\n",
    "                protein_tumor,\n",
    "                protein_normal,\n",
    "                equal_var=equal_var,\n",
    "                nan_policy=\"omit\"\n",
    "            )\n",
    "            \n",
    "            change = np.mean(protein_tumor) - np.mean(protein_normal)\n",
    "        \n",
    "        proteins.append(protein)\n",
    "        changes.append(change)\n",
    "        p_vals.append(p_val)\n",
    "        \n",
    "    results = pd.DataFrame({\n",
    "        \"protein\": proteins,\n",
    "        \"change\": changes, \n",
    "        \"p_val\": p_vals})\n",
    "    \n",
    "    return results"
   ]
  },
  {
   "cell_type": "code",
   "execution_count": 6,
   "metadata": {},
   "outputs": [],
   "source": [
    "groups = {\n",
    "    \"with_gain\": with_gain,\n",
    "    \"without_gain\": without_gain,\n",
    "    \"with_loss\": with_loss,\n",
    "    \"without_loss\": without_loss,\n",
    "    \"with_both\": with_both,\n",
    "    \"without_both\": without_both,\n",
    "}\n"
   ]
  },
  {
   "cell_type": "code",
   "execution_count": 7,
   "metadata": {},
   "outputs": [
    {
     "name": "stdout",
     "output_type": "stream",
     "text": [
      "Finished with_gain - colon\n",
      "Finished with_gain - hnscc\n",
      "Finished with_gain - lscc\n",
      "Finished with_gain - luad\n",
      "Finished with_gain - ovarian\n",
      "Finished without_gain - colon\n",
      "Finished without_gain - hnscc\n",
      "Finished without_gain - lscc\n",
      "Finished without_gain - luad\n",
      "Finished without_gain - ovarian\n",
      "Finished with_loss - colon\n",
      "Finished with_loss - hnscc\n",
      "Finished with_loss - lscc\n",
      "Finished with_loss - luad\n",
      "Finished with_loss - ovarian\n",
      "Finished without_loss - colon\n",
      "Finished without_loss - hnscc\n",
      "Finished without_loss - lscc\n",
      "Finished without_loss - luad\n",
      "Finished without_loss - ovarian\n",
      "Finished with_both - colon\n",
      "Finished with_both - hnscc\n",
      "Finished with_both - lscc\n",
      "Finished with_both - luad\n",
      "Finished with_both - ovarian\n",
      "Finished without_both - colon\n",
      "Finished without_both - hnscc\n",
      "Finished without_both - lscc\n",
      "Finished without_both - luad\n",
      "Finished without_both - ovarian\n"
     ]
    }
   ],
   "source": [
    "all_results = pd.DataFrame()\n",
    "\n",
    "for group in groups.keys():\n",
    "    group_dict = groups[group]\n",
    "    \n",
    "    for cancer_type in group_dict.keys():\n",
    "        cancer_df = group_dict[cancer_type]\n",
    "        normal_df = all_normal[cancer_type]\n",
    "        \n",
    "        cancer_results = compare_tumor_expr(\n",
    "            tumor=cancer_df,\n",
    "            normal=normal_df,\n",
    "            permutation=False,\n",
    "            equal_var=False\n",
    "        )\n",
    "        \n",
    "        cancer_results.insert(0, \"cancer_type\", cancer_type)\n",
    "        cancer_results.insert(0, \"group\", group)\n",
    "        \n",
    "        all_results = all_results.append(cancer_results)\n",
    "        \n",
    "        print(f\"Finished {group} - {cancer_type}\")"
   ]
  },
  {
   "cell_type": "code",
   "execution_count": 8,
   "metadata": {},
   "outputs": [],
   "source": [
    "# For rows with tuples as the protein names, split out just the protein names\n",
    "protein_str = all_results[\"protein\"].apply(lambda x: x[0] if type(x) == tuple else x)\n",
    "all_results = all_results.assign(protein_str=protein_str)"
   ]
  },
  {
   "cell_type": "markdown",
   "metadata": {},
   "source": [
    "## Multiple testing correction"
   ]
  },
  {
   "cell_type": "code",
   "execution_count": 9,
   "metadata": {},
   "outputs": [],
   "source": [
    "reject_null, adj_p, alpha_sidak, alpha_bonf = statsmodels.stats.multitest.multipletests(\n",
    "    pvals=all_results[\"p_val\"],\n",
    "    alpha=0.05,\n",
    "    method=\"fdr_bh\")\n",
    "\n",
    "all_results = all_results.\\\n",
    "    assign(adj_p=adj_p).\\\n",
    "    reset_index()"
   ]
  },
  {
   "cell_type": "markdown",
   "metadata": {},
   "source": [
    "## Save results"
   ]
  },
  {
   "cell_type": "code",
   "execution_count": 10,
   "metadata": {},
   "outputs": [],
   "source": [
    "results_file_path = os.path.join(diff_expr_dir, \"all_results.tsv.gz\")\n",
    "all_results.to_csv(results_file_path, sep=\"\\t\", compression=\"gzip\")"
   ]
  }
 ],
 "metadata": {
  "kernelspec": {
   "display_name": "Python 3",
   "language": "python",
   "name": "python3"
  },
  "language_info": {
   "codemirror_mode": {
    "name": "ipython",
    "version": 3
   },
   "file_extension": ".py",
   "mimetype": "text/x-python",
   "name": "python",
   "nbconvert_exporter": "python",
   "pygments_lexer": "ipython3",
   "version": "3.7.7"
  }
 },
 "nbformat": 4,
 "nbformat_minor": 4
}
