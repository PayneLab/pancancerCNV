{
 "cells": [
  {
   "cell_type": "markdown",
   "metadata": {},
   "source": [
    "# Enrichment NB 1: Group samples into those with the arm level event and those without it\n",
    "\n",
    "1. Load proteomics tables\n",
    "2. Read in the has_event tables\n",
    "3. Join into the proteomics tables\n",
    "4. Save tables"
   ]
  },
  {
   "cell_type": "markdown",
   "metadata": {},
   "source": [
    "## Setup"
   ]
  },
  {
   "cell_type": "code",
   "execution_count": 1,
   "metadata": {},
   "outputs": [],
   "source": [
    "import cptac\n",
    "import numpy as np\n",
    "import pandas as pd\n",
    "import os"
   ]
  },
  {
   "cell_type": "code",
   "execution_count": 2,
   "metadata": {},
   "outputs": [],
   "source": [
    "events_dir = \"..\"\n",
    "\n",
    "proteomics_dir = \"proteomics_tables\"\n",
    "\n",
    "if not os.path.isdir(proteomics_dir):\n",
    "    os.mkdir(proteomics_dir)"
   ]
  },
  {
   "cell_type": "code",
   "execution_count": 3,
   "metadata": {},
   "outputs": [],
   "source": [
    "# Create a dictionary of the datasets\n",
    "# We don't load them yet--we'll do it one at a time to save RAM\n",
    "dss = {\n",
    "#     \"brca\": cptac.Brca, # No normal samples\n",
    "#    \"ccrcc\": cptac.Ccrcc, # No event table\n",
    "    \"colon\": cptac.Colon,\n",
    "#    \"endometrial\": cptac.Endometrial,  # No event table\n",
    "#    \"gbm\": cptac.Gbm,  # No event table\n",
    "    \"hnscc\": cptac.Hnscc,\n",
    "    \"lscc\": cptac.Lscc,\n",
    "    \"luad\": cptac.Luad,\n",
    "    \"ovarian\": cptac.Ovarian,\n",
    "}"
   ]
  },
  {
   "cell_type": "markdown",
   "metadata": {},
   "source": [
    "## Load and join tables for each cancer type"
   ]
  },
  {
   "cell_type": "code",
   "execution_count": 4,
   "metadata": {},
   "outputs": [],
   "source": [
    "# We don't load the dataset until we're inside the function, so that it\n",
    "# will pass out of scope when the function ends and be garbage collected,\n",
    "# which will save RAM.\n",
    "\n",
    "def load_and_join_prot(dataset, event_table_dir, output_dir):\n",
    "    \n",
    "    ds = dataset(no_internet=True)\n",
    "    prot = ds.get_proteomics()\n",
    "    \n",
    "    event_table_path = os.path.join(event_table_dir, f\"{ds.get_cancer_type()}_has_event.tsv\")\n",
    "    event_table = pd.read_csv(event_table_path, sep=\"\\t\", index_col=0)\n",
    "    \n",
    "    # Add a null index level to the event data if the protein table has two levels, for joining\n",
    "    if prot.columns.nlevels == 2:\n",
    "        event_table.columns.name = \"Name\"\n",
    "        event_table = event_table.transpose().reset_index(drop=False)\n",
    "        event_table.insert(1, \"Database_ID\", [np.nan, np.nan])\n",
    "        event_table = event_table.\\\n",
    "            set_index([\"Name\", \"Database_ID\"]).\\\n",
    "            transpose()\n",
    "    \n",
    "    joined = prot.join(other=event_table, how=\"left\")\n",
    "    \n",
    "    joined_file_path = os.path.join(output_dir, f\"{ds.get_cancer_type()}_prot_event.tsv.gz\")\n",
    "    joined.to_csv(joined_file_path, sep=\"\\t\", compression=\"gzip\")"
   ]
  },
  {
   "cell_type": "code",
   "execution_count": 5,
   "metadata": {},
   "outputs": [
    {
     "name": "stdout",
     "output_type": "stream",
     "text": [
      "                               \r"
     ]
    },
    {
     "name": "stderr",
     "output_type": "stream",
     "text": [
      "cptac warning: The HNSCC data is currently strictly reserved for CPTAC investigators. Otherwise, you are not authorized to access these data. Additionally, even after these data become publicly available, they will be subject to a publication embargo (see https://proteomics.cancer.gov/data-portal/about/data-use-agreement or enter cptac.embargo() to open the webpage for more details). (/home/caleb/anaconda3/envs/dev/lib/python3.7/site-packages/ipykernel_launcher.py, line 7)\n"
     ]
    },
    {
     "name": "stdout",
     "output_type": "stream",
     "text": [
      "                            \r"
     ]
    },
    {
     "name": "stderr",
     "output_type": "stream",
     "text": [
      "cptac warning: The LSCC data is currently strictly reserved for CPTAC investigators. Otherwise, you are not authorized to access these data. Additionally, even after these data become publicly available, they will be subject to a publication embargo (see https://proteomics.cancer.gov/data-portal/about/data-use-agreement or enter cptac.embargo() to open the webpage for more details). (/home/caleb/anaconda3/envs/dev/lib/python3.7/site-packages/ipykernel_launcher.py, line 7)\n"
     ]
    },
    {
     "name": "stdout",
     "output_type": "stream",
     "text": [
      "                               \r"
     ]
    }
   ],
   "source": [
    "for dataset_func in dss.values():\n",
    "    load_and_join_prot(\n",
    "        dataset=dataset_func, \n",
    "        event_table_dir=events_dir, \n",
    "        output_dir=proteomics_dir\n",
    "    )"
   ]
  }
 ],
 "metadata": {
  "kernelspec": {
   "display_name": "Python 3",
   "language": "python",
   "name": "python3"
  },
  "language_info": {
   "codemirror_mode": {
    "name": "ipython",
    "version": 3
   },
   "file_extension": ".py",
   "mimetype": "text/x-python",
   "name": "python",
   "nbconvert_exporter": "python",
   "pygments_lexer": "ipython3",
   "version": "3.7.7"
  }
 },
 "nbformat": 4,
 "nbformat_minor": 4
}
