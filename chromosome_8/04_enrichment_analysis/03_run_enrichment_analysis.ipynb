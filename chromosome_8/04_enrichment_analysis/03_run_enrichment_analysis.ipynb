{
 "cells": [
  {
   "cell_type": "markdown",
   "metadata": {},
   "source": [
    "# Enrichment NB 3: Look for pathways enriched with proteins that are only shown differentially expressed in one group\n",
    "- Load saved table\n",
    "- For each cancer type:\n",
    "    - Separately select proteins that only have a significant difference in samples with the event, and proteins that only have a significant difference in samples without the event.\n",
    "    - Also select proteins that are significantly upregulated in samples with the event but downregulated in samples without the event, and vice versa\n",
    "    - For each group, run an enrichment analysis\n",
    "        - Which algorithm?\n",
    "        - Which gene set library? Probably either GO or Reactome.\n",
    "        - Rank by difference in expression (should we take absolute value? Check)"
   ]
  },
  {
   "cell_type": "markdown",
   "metadata": {},
   "source": [
    "## Setup"
   ]
  },
  {
   "cell_type": "code",
   "execution_count": null,
   "metadata": {},
   "outputs": [],
   "source": [
    "import pandas as pd\n",
    "import numpy as np"
   ]
  },
  {
   "cell_type": "code",
   "execution_count": null,
   "metadata": {},
   "outputs": [],
   "source": [
    "diff_expr_file = os.path.join(\"diff_expr\", \"all_results.tsv.gz\")\n",
    "\n",
    "enrich_results_dir = \"enrichment_results\"\n",
    "if not os.path.isdir(enrich_results_dir):\n",
    "    os.mkdir(enrich_results_dir)"
   ]
  },
  {
   "cell_type": "markdown",
   "metadata": {},
   "source": [
    "## Find groups of proteins to look for enrichment in"
   ]
  }
 ],
 "metadata": {
  "kernelspec": {
   "display_name": "Python 3",
   "language": "python",
   "name": "python3"
  },
  "language_info": {
   "codemirror_mode": {
    "name": "ipython",
    "version": 3
   },
   "file_extension": ".py",
   "mimetype": "text/x-python",
   "name": "python",
   "nbconvert_exporter": "python",
   "pygments_lexer": "ipython3",
   "version": "3.7.7"
  }
 },
 "nbformat": 4,
 "nbformat_minor": 4
}
