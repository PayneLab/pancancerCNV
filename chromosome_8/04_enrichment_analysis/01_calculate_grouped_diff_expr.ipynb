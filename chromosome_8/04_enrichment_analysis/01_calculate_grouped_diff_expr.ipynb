{
 "cells": [
  {
   "cell_type": "markdown",
   "metadata": {},
   "source": [
    "# Enrichment NB 01: Calculate differentially expressed proteins in event groups\n",
    "\n",
    "1. Group samples into those with the arm level event and those without it\n",
    "    1. Load proteomics tables\n",
    "    2. Read in the has_event tables\n",
    "    3. Join into the proteomics tables\n",
    "2. Within each group, calculate an adjusted p value for whether each protein is differentially expressed\n",
    "    1. Load saved tables\n",
    "    2. Slice out the \"with\" and \"without\" groups\n",
    "    3. Send each protein in each group through permutation test, or t-test (which?), compared to the normal samples (non-paired)\n",
    "    4. Create a table with these columns:\n",
    "        - group\n",
    "        - cancer_type\n",
    "        - protein\n",
    "        - protein_str\n",
    "        - change\n",
    "        - p_val\n",
    "        - adj_p\n",
    "3. Look for pathways enriched with proteins that are only shown differentially expressed in one group\n",
    "    1. Load saved table\n",
    "    2. For each cancer type:\n",
    "        1. Separately select proteins that only have a significant difference in samples with the event, and proteins that only have a significant difference in samples without the event.\n",
    "        2. Also select proteins that are significantly upregulated in samples with the event but downregulated in samples without the event, and vice versa\n",
    "        3. For each group, run an enrichment analysis\n",
    "            1. Which algorithm?\n",
    "            2. Which gene set library? Probably either GO or Reactome.\n",
    "            3. Rank by difference in expression (should we take absolute value? Check)"
   ]
  },
  {
   "cell_type": "markdown",
   "metadata": {},
   "source": [
    "## Setup"
   ]
  },
  {
   "cell_type": "code",
   "execution_count": 1,
   "metadata": {},
   "outputs": [],
   "source": [
    "import cptac\n",
    "import cptac.utils as ut\n",
    "import statsmodels\n",
    "import numpy as np\n",
    "import pandas as pd\n",
    "import os\n",
    "import scipy"
   ]
  },
  {
   "cell_type": "code",
   "execution_count": 2,
   "metadata": {},
   "outputs": [],
   "source": [
    "alpha = 0.05\n",
    "\n",
    "events_dir = \"..\"\n",
    "output_dir = \"results_01_grouped_expr\"\n",
    "\n",
    "if not os.path.isdir(output_dir):\n",
    "    os.mkdir(output_dir)"
   ]
  },
  {
   "cell_type": "code",
   "execution_count": 3,
   "metadata": {},
   "outputs": [],
   "source": [
    "# Create a dictionary of the datasets\n",
    "# We don't load them yet--we'll do it one at a time to save RAM\n",
    "dss = {\n",
    "#     \"brca\": cptac.Brca, # No normal samples\n",
    "#    \"ccrcc\": cptac.Ccrcc, # No event table\n",
    "    \"colon\": cptac.Colon,\n",
    "#    \"endometrial\": cptac.Endometrial,  # No event table\n",
    "#    \"gbm\": cptac.Gbm,  # No event table\n",
    "    \"hnscc\": cptac.Hnscc,\n",
    "    \"lscc\": cptac.Lscc,\n",
    "    \"luad\": cptac.Luad,\n",
    "    \"ovarian\": cptac.Ovarian,\n",
    "}"
   ]
  },
  {
   "cell_type": "markdown",
   "metadata": {},
   "source": [
    "## Part 1\n",
    "\n",
    "### Load and join tables for each cancer type"
   ]
  },
  {
   "cell_type": "code",
   "execution_count": 4,
   "metadata": {},
   "outputs": [],
   "source": [
    "# We don't load the dataset until we're inside the function, so that it\n",
    "# will pass out of scope when the function ends and be garbage collected,\n",
    "# which will save RAM.\n",
    "\n",
    "def load_and_join_prot(dataset, event_table_dir):\n",
    "    \n",
    "    ds = dataset(no_internet=True)\n",
    "    prot = ds.get_proteomics()\n",
    "    \n",
    "    event_table_path = os.path.join(event_table_dir, f\"{ds.get_cancer_type()}_has_event.tsv\")\n",
    "    event_table = pd.read_csv(event_table_path, sep=\"\\t\", index_col=0)\n",
    "    \n",
    "    # Add a null index level to the event data if the protein table has two levels, for joining\n",
    "    if prot.columns.nlevels == 2:\n",
    "        event_table.columns.name = \"Name\"\n",
    "        event_table = event_table.transpose().reset_index(drop=False)\n",
    "        event_table.insert(1, \"Database_ID\", [\"nan\", \"nan\"])\n",
    "        event_table = event_table.\\\n",
    "            set_index([\"Name\", \"Database_ID\"]).\\\n",
    "            transpose()\n",
    "    \n",
    "    joined = prot.join(other=event_table, how=\"left\")\n",
    "    \n",
    "    return joined"
   ]
  },
  {
   "cell_type": "code",
   "execution_count": 5,
   "metadata": {},
   "outputs": [
    {
     "name": "stdout",
     "output_type": "stream",
     "text": [
      "Loading lscc v3.2.             \r"
     ]
    },
    {
     "name": "stderr",
     "output_type": "stream",
     "text": [
      "cptac warning: The HNSCC data is currently strictly reserved for CPTAC investigators. Otherwise, you are not authorized to access these data. Additionally, even after these data become publicly available, they will be subject to a publication embargo (see https://proteomics.cancer.gov/data-portal/about/data-use-agreement or enter cptac.embargo() to open the webpage for more details). (/home/caleb/anaconda3/envs/dev/lib/python3.7/site-packages/ipykernel_launcher.py, line 7)\n"
     ]
    },
    {
     "name": "stdout",
     "output_type": "stream",
     "text": [
      "Loading luad v3.1.1..       \r"
     ]
    },
    {
     "name": "stderr",
     "output_type": "stream",
     "text": [
      "cptac warning: The LSCC data is currently strictly reserved for CPTAC investigators. Otherwise, you are not authorized to access these data. Additionally, even after these data become publicly available, they will be subject to a publication embargo (see https://proteomics.cancer.gov/data-portal/about/data-use-agreement or enter cptac.embargo() to open the webpage for more details). (/home/caleb/anaconda3/envs/dev/lib/python3.7/site-packages/ipykernel_launcher.py, line 7)\n"
     ]
    },
    {
     "name": "stdout",
     "output_type": "stream",
     "text": [
      "                               \r"
     ]
    }
   ],
   "source": [
    "prot_and_events = {}\n",
    "\n",
    "for cancer_type, dataset_func in dss.items():\n",
    "    prot_and_events[cancer_type] = load_and_join_prot(\n",
    "        dataset=dataset_func, \n",
    "        event_table_dir=events_dir\n",
    "    )"
   ]
  },
  {
   "cell_type": "markdown",
   "metadata": {},
   "source": [
    "## Part 2\n",
    "\n",
    "### Split out samples with and without each event"
   ]
  },
  {
   "cell_type": "code",
   "execution_count": 6,
   "metadata": {},
   "outputs": [],
   "source": [
    "with_gain = {}\n",
    "without_gain = {}\n",
    "\n",
    "with_loss = {}\n",
    "without_loss = {}\n",
    "\n",
    "with_both = {}\n",
    "without_both = {}\n",
    "\n",
    "all_normal = {}\n",
    "\n",
    "for cancer_type in dss.keys():\n",
    "    \n",
    "    df = prot_and_events[cancer_type]\n",
    "    \n",
    "    # If it has a multiindex columns, collapse the multiindex into tuples, taking \n",
    "    # out nan fillers for gain_event and loss_event columns\n",
    "    if df.columns.nlevels == 2:\n",
    "        tuples = df.columns.\\\n",
    "            to_flat_index().\\\n",
    "            tolist()\n",
    "            \n",
    "        tuples = [tuple([x[0], x[1]]) if x[1] != \"nan\" else x[0] for x in tuples]\n",
    "        df.columns = pd.Index(tuples)\n",
    "            \n",
    "    # Split out the tumor and normal samples\n",
    "    tumor = df[~df.index.str.endswith(\".N\")]\n",
    "    normal = df[df.index.str.endswith(\".N\")].\\\n",
    "        drop(columns=[\"gain_event\", \"loss_event\"])\n",
    "    \n",
    "    # Save the normal samples\n",
    "    all_normal[cancer_type] = normal\n",
    "    \n",
    "    # Within the tumor samples, drop any rows where the event status is NaN\n",
    "    gains = tumor[pd.notnull(tumor[\"gain_event\"])].\\\n",
    "        astype({\"gain_event\": bool})\n",
    "    losses = tumor[pd.notnull(tumor[\"loss_event\"])].\\\n",
    "        astype({\"loss_event\": bool})\n",
    "    \n",
    "    # Separate and save samples with and without each event\n",
    "    with_gain[cancer_type] = gains[gains[\"gain_event\"]].\\\n",
    "        drop(columns=[\"gain_event\", \"loss_event\"])\n",
    "    without_gain[cancer_type] = gains[~gains[\"gain_event\"]].\\\n",
    "        drop(columns=[\"gain_event\", \"loss_event\"])\n",
    "    \n",
    "    with_loss[cancer_type] = losses[losses[\"loss_event\"]].\\\n",
    "        drop(columns=[\"gain_event\", \"loss_event\"])\n",
    "    without_loss[cancer_type] = losses[~losses[\"loss_event\"]].\\\n",
    "        drop(columns=[\"gain_event\", \"loss_event\"])\n",
    "    \n",
    "    # Get the samples with both events\n",
    "    both = tumor[pd.notnull(tumor[\"gain_event\"]) & pd.notnull(tumor[\"loss_event\"])].\\\n",
    "        astype({\"gain_event\": bool, \"loss_event\": bool})\n",
    "    \n",
    "    with_both[cancer_type] = both[both[\"gain_event\"] & both[\"loss_event\"]].\\\n",
    "        drop(columns=[\"gain_event\", \"loss_event\"])\n",
    "    without_both[cancer_type] = both[~(both[\"gain_event\"] & both[\"loss_event\"])].\\\n",
    "        drop(columns=[\"gain_event\", \"loss_event\"])"
   ]
  },
  {
   "cell_type": "markdown",
   "metadata": {},
   "source": [
    "### For each group, see which proteins are differentially expressed compared to normal"
   ]
  },
  {
   "cell_type": "code",
   "execution_count": 7,
   "metadata": {},
   "outputs": [],
   "source": [
    "def compare_tumor_expr(tumor, normal, permutation, equal_var):\n",
    "    \"\"\"Test whether tumor and normal have significantly different expression.\n",
    "    \n",
    "    Parameters:\n",
    "    tumor (pandas.DataFrame): A dataframe where the rows are samples, and the columns are proteins.\n",
    "    normal (pandas.DataFrame): A dataframe where the rows are samples, and the columns are proteins. Needs to \n",
    "        have the same columns as the tumor dataframe.\n",
    "    permutation (bool): If True, test with permutation tests. If False, test with scipy.stats.ttest_ind.\n",
    "    equal_var (bool): If True, and permutation is False, then use Student's 2 sample independent t-test. If \n",
    "        False, and permutation is False, use Welch's approximate t-test. If permutation is True, this parameter \n",
    "        is irrelevant.\n",
    "        \n",
    "    Returns:\n",
    "    results (pandas.DataFrame): A dataframe with a row for each protein, and a column identifying the protein, \n",
    "        a column with the change for that protein (np.mean(tumor) - np.mean(normal)), and a column with the p\n",
    "        value for that change.\n",
    "    \"\"\"\n",
    "    \n",
    "    proteins = []\n",
    "    changes = []\n",
    "    p_vals = []\n",
    "    t_stats = []\n",
    "    \n",
    "    for protein in tumor.columns:\n",
    "        \n",
    "        # Get the data for the protein\n",
    "        protein_tumor = tumor[protein]\n",
    "        protein_normal = normal[protein]\n",
    "        \n",
    "        # Skip it if either array is all null\n",
    "        if protein_tumor.isna().all() or protein_normal.isna().all():\n",
    "            continue\n",
    "        \n",
    "        if permutation:\n",
    "            change, p_val = ut.permutation_test_means(\n",
    "                protein_tumor,\n",
    "                protein_normal,\n",
    "                num_permutations=NUM_PERMUTATIONS)\n",
    "            \n",
    "            t_stat = np.nan\n",
    "        else:\n",
    "            t_stat, p_val = scipy.stats.ttest_ind(\n",
    "                protein_tumor,\n",
    "                protein_normal,\n",
    "                equal_var=equal_var,\n",
    "                nan_policy=\"omit\"\n",
    "            )\n",
    "            \n",
    "            # Skip samples without enough values\n",
    "            # TODO: Should we set a cutoff of a minimum number of reads for each protein that we include?\n",
    "            if str(p_val) == \"--\":\n",
    "                continue\n",
    "            \n",
    "            change = np.mean(protein_tumor) - np.mean(protein_normal)\n",
    "        \n",
    "        proteins.append(protein)\n",
    "        changes.append(change)\n",
    "        p_vals.append(p_val)\n",
    "        t_stats.append(t_stat)\n",
    "        \n",
    "    results = pd.DataFrame({\n",
    "        \"protein\": proteins,\n",
    "        \"change\": changes, \n",
    "        \"p_val\": p_vals,\n",
    "        \"t_stat\": t_stats\n",
    "    })\n",
    "    \n",
    "    return results"
   ]
  },
  {
   "cell_type": "code",
   "execution_count": 8,
   "metadata": {},
   "outputs": [],
   "source": [
    "groups = {\n",
    "    \"with_gain\": with_gain,\n",
    "    \"without_gain\": without_gain,\n",
    "    \"with_loss\": with_loss,\n",
    "    \"without_loss\": without_loss,\n",
    "    \"with_both\": with_both,\n",
    "    \"without_both\": without_both,\n",
    "}\n"
   ]
  },
  {
   "cell_type": "code",
   "execution_count": 9,
   "metadata": {},
   "outputs": [
    {
     "name": "stdout",
     "output_type": "stream",
     "text": [
      "Finished with_gain - colon\n",
      "Finished with_gain - hnscc\n",
      "Finished with_gain - lscc\n",
      "Finished with_gain - luad\n",
      "Finished with_gain - ovarian\n",
      "Finished without_gain - colon\n",
      "Finished without_gain - hnscc\n",
      "Finished without_gain - lscc\n",
      "Finished without_gain - luad\n",
      "Finished without_gain - ovarian\n",
      "Finished with_loss - colon\n",
      "Finished with_loss - hnscc\n",
      "Finished with_loss - lscc\n",
      "Finished with_loss - luad\n",
      "Finished with_loss - ovarian\n",
      "Finished without_loss - colon\n",
      "Finished without_loss - hnscc\n",
      "Finished without_loss - lscc\n",
      "Finished without_loss - luad\n",
      "Finished without_loss - ovarian\n",
      "Finished with_both - colon\n",
      "Finished with_both - hnscc\n",
      "Finished with_both - lscc\n",
      "Finished with_both - luad\n",
      "Finished with_both - ovarian\n",
      "Finished without_both - colon\n",
      "Finished without_both - hnscc\n",
      "Finished without_both - lscc\n",
      "Finished without_both - luad\n",
      "Finished without_both - ovarian\n"
     ]
    }
   ],
   "source": [
    "all_results = pd.DataFrame()\n",
    "\n",
    "for group in groups.keys():\n",
    "    group_dict = groups[group]\n",
    "    \n",
    "    for cancer_type in group_dict.keys():\n",
    "        cancer_df = group_dict[cancer_type]\n",
    "        normal_df = all_normal[cancer_type]\n",
    "        \n",
    "        cancer_results = compare_tumor_expr(\n",
    "            tumor=cancer_df,\n",
    "            normal=normal_df,\n",
    "            permutation=False,\n",
    "            equal_var=False\n",
    "        )\n",
    "        \n",
    "        cancer_results.insert(0, \"cancer_type\", cancer_type)\n",
    "        cancer_results.insert(0, \"group\", group)\n",
    "        \n",
    "        all_results = all_results.append(cancer_results)\n",
    "        \n",
    "        print(f\"Finished {group} - {cancer_type}\")"
   ]
  },
  {
   "cell_type": "code",
   "execution_count": 10,
   "metadata": {},
   "outputs": [],
   "source": [
    "# For rows with tuples as the protein names, split out just the protein names\n",
    "protein_str = all_results[\"protein\"].apply(lambda x: x[0] if type(x) == tuple else x)\n",
    "all_results = all_results.assign(protein_str=protein_str)"
   ]
  },
  {
   "cell_type": "markdown",
   "metadata": {},
   "source": [
    "### Multiple testing correction"
   ]
  },
  {
   "cell_type": "code",
   "execution_count": 11,
   "metadata": {},
   "outputs": [],
   "source": [
    "reject_null, adj_p, alpha_sidak, alpha_bonf = statsmodels.stats.multitest.multipletests(\n",
    "    pvals=all_results[\"p_val\"],\n",
    "    alpha=0.05,\n",
    "    method=\"fdr_bh\")\n",
    "\n",
    "all_results = all_results.assign(adj_p=adj_p)"
   ]
  },
  {
   "cell_type": "markdown",
   "metadata": {},
   "source": [
    "### Save all group results"
   ]
  },
  {
   "cell_type": "code",
   "execution_count": 12,
   "metadata": {},
   "outputs": [],
   "source": [
    "all_results_path = os.path.join(output_dir, \"all_results.tsv.gz\")\n",
    "all_results.to_csv(all_results_path, sep=\"\\t\", compression=\"gzip\", index=False)"
   ]
  },
  {
   "cell_type": "markdown",
   "metadata": {},
   "source": [
    "## Part 3"
   ]
  },
  {
   "cell_type": "markdown",
   "metadata": {},
   "source": [
    "### Filter out proteins whose p value for differential expression was below the cutoff"
   ]
  },
  {
   "cell_type": "code",
   "execution_count": 13,
   "metadata": {},
   "outputs": [],
   "source": [
    "all_results = all_results[all_results[\"adj_p\"] <= alpha]"
   ]
  },
  {
   "cell_type": "markdown",
   "metadata": {},
   "source": [
    "### Find which proteins were uniquely differentially expressed in each group (compared to the group's complement)"
   ]
  },
  {
   "cell_type": "code",
   "execution_count": 14,
   "metadata": {},
   "outputs": [],
   "source": [
    "groups = pd.DataFrame()\n",
    "\n",
    "for cancer_type in all_results[\"cancer_type\"].unique():\n",
    "    \n",
    "    # Get data for this cancer type\n",
    "    cancer_df = all_results[all_results[\"cancer_type\"] == cancer_type]\n",
    "    \n",
    "    # Separate groups\n",
    "    with_gain = cancer_df[cancer_df[\"group\"] == \"with_gain\"]\n",
    "    without_gain = cancer_df[cancer_df[\"group\"] == \"without_gain\"]\n",
    "    \n",
    "    with_loss = cancer_df[cancer_df[\"group\"] == \"with_loss\"]\n",
    "    without_loss = cancer_df[cancer_df[\"group\"] == \"without_loss\"]\n",
    "    \n",
    "    with_both = cancer_df[cancer_df[\"group\"] == \"with_both\"]\n",
    "    without_both = cancer_df[cancer_df[\"group\"] == \"without_both\"]\n",
    "    \n",
    "    \n",
    "    \n",
    "    # Identify proteins that are up in samples with the gain, but not in samples without the gain\n",
    "    only_with_gain = with_gain[~with_gain[\"protein\"].isin(without_gain[\"protein\"])]\n",
    "    groups = groups.append(only_with_gain)\n",
    "    \n",
    "    # Identify proteins that are up in samples without the gain, but not in samples with the gain\n",
    "    only_without_gain = without_gain[~without_gain[\"protein\"].isin(with_gain[\"protein\"])]\n",
    "    groups = groups.append(only_without_gain)\n",
    "    \n",
    "    \n",
    "    \n",
    "    # Identify proteins that are up in samples with the loss, but not in samples without the loss\n",
    "    only_with_loss = with_loss[~with_loss[\"protein\"].isin(without_loss[\"protein\"])]\n",
    "    groups = groups.append(only_with_loss)\n",
    "\n",
    "    # Identify proteins that are up in samples without the loss, but not in samples with the loss\n",
    "    only_without_loss = without_loss[~without_loss[\"protein\"].isin(with_loss[\"protein\"])]\n",
    "    groups = groups.append(only_without_loss)\n",
    "\n",
    "    \n",
    "    \n",
    "    # Identify proteins that are up in samples with the gain and the loss, but not in samples \n",
    "    # without the gain and the loss\n",
    "    only_with_both = with_both[~with_both[\"protein\"].isin(without_both[\"protein\"])]\n",
    "    groups = groups.append(only_with_both)\n",
    "\n",
    "    # Identify proteins that are up in samples without the gain and the loss, but not in samples \n",
    "    # with the gain and the loss\n",
    "    only_without_both = without_both[~without_both[\"protein\"].isin(with_both[\"protein\"])]\n",
    "    groups = groups.append(only_without_both)"
   ]
  },
  {
   "cell_type": "markdown",
   "metadata": {},
   "source": [
    "### Save results of proteins unique to each group"
   ]
  },
  {
   "cell_type": "code",
   "execution_count": 15,
   "metadata": {},
   "outputs": [],
   "source": [
    "# Create a combined grouping column for easier use in the next step\n",
    "groups.insert(0, \"cancer_type_group\", groups[\"cancer_type\"] + \"_\" + groups[\"group\"])\n",
    "\n",
    "groups_file = os.path.join(output_dir, \"unique_results.tsv.gz\")\n",
    "groups.to_csv(groups_file, sep=\"\\t\", index=False, compression=\"gzip\")"
   ]
  }
 ],
 "metadata": {
  "kernelspec": {
   "display_name": "Python 3",
   "language": "python",
   "name": "python3"
  },
  "language_info": {
   "codemirror_mode": {
    "name": "ipython",
    "version": 3
   },
   "file_extension": ".py",
   "mimetype": "text/x-python",
   "name": "python",
   "nbconvert_exporter": "python",
   "pygments_lexer": "ipython3",
   "version": "3.7.7"
  }
 },
 "nbformat": 4,
 "nbformat_minor": 4
}
