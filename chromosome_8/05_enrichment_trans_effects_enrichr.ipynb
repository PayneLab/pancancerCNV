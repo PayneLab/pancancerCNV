{
 "cells": [
  {
   "cell_type": "markdown",
   "metadata": {},
   "source": [
    "# Trans effects enrichment - Enrichr\n",
    "\n",
    "This notebook will use Enrichr to look for pathways enriched for proteins that came up across multiple cancers in the trans effects analysis."
   ]
  },
  {
   "cell_type": "markdown",
   "metadata": {},
   "source": [
    "## Setup"
   ]
  },
  {
   "cell_type": "code",
   "execution_count": 1,
   "metadata": {},
   "outputs": [],
   "source": [
    "import pandas as pd\n",
    "import numpy as np\n",
    "import gprofiler\n",
    "import cptac.utils as ut\n",
    "import gseapy as gp\n",
    "import os\n",
    "import IPython.display"
   ]
  },
  {
   "cell_type": "code",
   "execution_count": 2,
   "metadata": {},
   "outputs": [],
   "source": [
    "def run_enrichr(input_file, cancer_type=None):\n",
    "\n",
    "    input_df = pd.read_csv(input_file, sep=\"\\t\")\n",
    "    \n",
    "    if cancer_type is not None:\n",
    "        cancer_df = input_df[input_df[\"cancers\"].str.contains(cancer_type)]\n",
    "        protein_list = cancer_df[\"protein\"].tolist()\n",
    "    else:\n",
    "        protein_list = input_df[\"protein\"].tolist()\n",
    "\n",
    "    return protein_list\n",
    "        \n",
    "    enr = gp.enrichr(\n",
    "        gene_list=protein_list,\n",
    "        gene_sets=os.path.join(\"..\" \"gene_set_libraries\", \"ReactomePathways.gmt\"),\n",
    "        background=\"hsapiens_gene_ensembl\",\n",
    "        organism='Human',\n",
    "        description='test_name',\n",
    "        outdir=None,\n",
    "        cutoff=0.05\n",
    "    )\n",
    "    \n",
    "    return enr.res2d.sort_values(by=\"Adjusted P-value\")"
   ]
  },
  {
   "cell_type": "markdown",
   "metadata": {},
   "source": [
    "### 8q trans effects in BRCA"
   ]
  },
  {
   "cell_type": "code",
   "execution_count": 3,
   "metadata": {
    "scrolled": true
   },
   "outputs": [
    {
     "name": "stdout",
     "output_type": "stream",
     "text": [
      "['CNOT8']\n"
     ]
    },
    {
     "name": "stderr",
     "output_type": "stream",
     "text": [
      "2020-08-04 20:10:07,433 Hint: Current organism = Human, is this correct?\n",
      "Hint: use get_library_name() to view full list of supported names.\n"
     ]
    },
    {
     "ename": "LookupError",
     "evalue": "Not validated Enrichr library! Please provide correct organism and library name!",
     "output_type": "error",
     "traceback": [
      "\u001b[0;31m---------------------------------------------------------------------------\u001b[0m",
      "\u001b[0;31mLookupError\u001b[0m                               Traceback (most recent call last)",
      "\u001b[0;32m<ipython-input-3-7dbd515cd361>\u001b[0m in \u001b[0;36m<module>\u001b[0;34m\u001b[0m\n\u001b[0;32m----> 1\u001b[0;31m \u001b[0mrun_enrichr\u001b[0m\u001b[0;34m(\u001b[0m\u001b[0;34m\"pancancer_summary_8p_trans.tsv\"\u001b[0m\u001b[0;34m,\u001b[0m \u001b[0mcancer_type\u001b[0m\u001b[0;34m=\u001b[0m\u001b[0;34m\"brca\"\u001b[0m\u001b[0;34m)\u001b[0m\u001b[0;34m\u001b[0m\u001b[0;34m\u001b[0m\u001b[0m\n\u001b[0m",
      "\u001b[0;32m<ipython-input-2-790f6bc43092>\u001b[0m in \u001b[0;36mrun_enrichr\u001b[0;34m(input_file, cancer_type)\u001b[0m\n\u001b[1;32m     18\u001b[0m         \u001b[0mdescription\u001b[0m\u001b[0;34m=\u001b[0m\u001b[0;34m'test_name'\u001b[0m\u001b[0;34m,\u001b[0m\u001b[0;34m\u001b[0m\u001b[0;34m\u001b[0m\u001b[0m\n\u001b[1;32m     19\u001b[0m         \u001b[0moutdir\u001b[0m\u001b[0;34m=\u001b[0m\u001b[0;32mNone\u001b[0m\u001b[0;34m,\u001b[0m\u001b[0;34m\u001b[0m\u001b[0;34m\u001b[0m\u001b[0m\n\u001b[0;32m---> 20\u001b[0;31m         \u001b[0mcutoff\u001b[0m\u001b[0;34m=\u001b[0m\u001b[0;36m0.05\u001b[0m\u001b[0;34m\u001b[0m\u001b[0;34m\u001b[0m\u001b[0m\n\u001b[0m\u001b[1;32m     21\u001b[0m     )\n\u001b[1;32m     22\u001b[0m \u001b[0;34m\u001b[0m\u001b[0m\n",
      "\u001b[0;32m~/anaconda3/envs/dev/lib/python3.7/site-packages/gseapy/enrichr.py\u001b[0m in \u001b[0;36menrichr\u001b[0;34m(gene_list, gene_sets, organism, description, outdir, background, cutoff, format, figsize, top_term, no_plot, verbose)\u001b[0m\n\u001b[1;32m    430\u001b[0m     enr = Enrichr(gene_list, gene_sets, organism, description, outdir,\n\u001b[1;32m    431\u001b[0m                   cutoff, background, format, figsize, top_term, no_plot, verbose)\n\u001b[0;32m--> 432\u001b[0;31m     \u001b[0menr\u001b[0m\u001b[0;34m.\u001b[0m\u001b[0mrun\u001b[0m\u001b[0;34m(\u001b[0m\u001b[0;34m)\u001b[0m\u001b[0;34m\u001b[0m\u001b[0;34m\u001b[0m\u001b[0m\n\u001b[0m\u001b[1;32m    433\u001b[0m \u001b[0;34m\u001b[0m\u001b[0m\n\u001b[1;32m    434\u001b[0m     \u001b[0;32mreturn\u001b[0m \u001b[0menr\u001b[0m\u001b[0;34m\u001b[0m\u001b[0;34m\u001b[0m\u001b[0m\n",
      "\u001b[0;32m~/anaconda3/envs/dev/lib/python3.7/site-packages/gseapy/enrichr.py\u001b[0m in \u001b[0;36mrun\u001b[0;34m(self)\u001b[0m\n\u001b[1;32m    353\u001b[0m             self._logger.error(\"Hint: Current organism = %s, is this correct?\\n\"%self.organism +\\\n\u001b[1;32m    354\u001b[0m                             \"Hint: use get_library_name() to view full list of supported names.\")\n\u001b[0;32m--> 355\u001b[0;31m             \u001b[0;32mraise\u001b[0m \u001b[0mLookupError\u001b[0m\u001b[0;34m(\u001b[0m\u001b[0;34m\"Not validated Enrichr library! Please provide correct organism and library name!\"\u001b[0m\u001b[0;34m)\u001b[0m\u001b[0;34m\u001b[0m\u001b[0;34m\u001b[0m\u001b[0m\n\u001b[0m\u001b[1;32m    356\u001b[0m         \u001b[0mself\u001b[0m\u001b[0;34m.\u001b[0m\u001b[0mresults\u001b[0m \u001b[0;34m=\u001b[0m \u001b[0mpd\u001b[0m\u001b[0;34m.\u001b[0m\u001b[0mDataFrame\u001b[0m\u001b[0;34m(\u001b[0m\u001b[0;34m)\u001b[0m\u001b[0;34m\u001b[0m\u001b[0;34m\u001b[0m\u001b[0m\n\u001b[1;32m    357\u001b[0m \u001b[0;34m\u001b[0m\u001b[0m\n",
      "\u001b[0;31mLookupError\u001b[0m: Not validated Enrichr library! Please provide correct organism and library name!"
     ]
    }
   ],
   "source": [
    "run_enrichr(\"pancancer_summary_8p_trans.tsv\", cancer_type=\"brca\")"
   ]
  }
 ],
 "metadata": {
  "kernelspec": {
   "display_name": "Python 3",
   "language": "python",
   "name": "python3"
  },
  "language_info": {
   "codemirror_mode": {
    "name": "ipython",
    "version": 3
   },
   "file_extension": ".py",
   "mimetype": "text/x-python",
   "name": "python",
   "nbconvert_exporter": "python",
   "pygments_lexer": "ipython3",
   "version": "3.7.7"
  }
 },
 "nbformat": 4,
 "nbformat_minor": 4
}
