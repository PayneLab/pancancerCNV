{
 "cells": [
  {
   "cell_type": "markdown",
   "metadata": {},
   "source": [
    "# Make Gradient Plots\n",
    "\n",
    "This is another visual of the chromosome event. This displays the events through gradients."
   ]
  },
  {
   "cell_type": "markdown",
   "metadata": {},
   "source": [
    "## Setup"
   ]
  },
  {
   "cell_type": "code",
   "execution_count": 1,
   "metadata": {},
   "outputs": [],
   "source": [
    "import seaborn as sns\n",
    "import pandas as pd\n",
    "import matplotlib.pyplot as plt\n",
    "import cptac\n",
    "import numpy as np\n",
    "import cnvutils\n",
    "import matplotlib as mpl"
   ]
  },
  {
   "cell_type": "code",
   "execution_count": 2,
   "metadata": {},
   "outputs": [],
   "source": [
    "# Indicate the chromosome you would like to look at.\n",
    "CHROMOSOME = '8'\n",
    "\n",
    "# Indicate whether you want to look at gain, loss or both\n",
    "GAIN_OR_LOSS = 'both'\n",
    "\n",
    "# Indicate the cancer types you want plotted\n",
    "CANCER_TYPES = ['brca', 'ccrcc', 'colon', 'endo', 'gbm', 'hnscc', 'lscc', 'luad', 'ovarian']"
   ]
  },
  {
   "cell_type": "code",
   "execution_count": 3,
   "metadata": {},
   "outputs": [],
   "source": [
    "chromosome_counts = pd.read_csv(\n",
    "    f\"chr{CHROMOSOME}_cnv_counts.tsv\", \n",
    "    sep='\\t', \n",
    "    usecols=['Name', 'Database_ID', 'start_bp', 'end_bp', 'variable', 'value', 'cancer'])"
   ]
  },
  {
   "cell_type": "code",
   "execution_count": 4,
   "metadata": {},
   "outputs": [],
   "source": [
    "reds = ['#FFFFFF', '#FDF0F0', '#FCE2E2', '#FAD3D3', '#F8C5C5', '#F6B6B6', '#F5A7A7', '#F39999', '#F18A8A', '#EF7B7B', '#EE6D6D', '#EC5E5E', '#EA5050', '#E84141', '#E73232', '#E52424', '#E31515']\n",
    "blues = ['#FFFFFF', '#F2F0FD', '#E5E0FA', '#D7D1F8', '#CAC2F5', '#BDB2F3', '#B0A3F0', '#A393EE', '#9684EB', '#8875E9', '#7B65E6', '#6E56E4', '#6147E1', '#5437DF', '#4628DC', '#3918DA', '#2C09D7']\n",
    "gradient = blues[::-1] + reds"
   ]
  },
  {
   "cell_type": "markdown",
   "metadata": {},
   "source": [
    "## Prepare Tables"
   ]
  },
  {
   "cell_type": "code",
   "execution_count": 5,
   "metadata": {},
   "outputs": [],
   "source": [
    "gain_loss_counts = chromosome_counts.pivot_table(index=['Name', 'cancer'], columns='variable')\n",
    "gain_loss_counts.columns = gain_loss_counts.columns.to_flat_index()\n",
    "gain_loss_counts = gain_loss_counts.drop(columns=('start_bp', 'gain'))\n",
    "gain_loss_counts = gain_loss_counts.drop(columns=('end_bp', 'gain'))\n",
    "gain_loss_counts = gain_loss_counts.rename(columns = {gain_loss_counts.columns[0]: 'end_bp', gain_loss_counts.columns[1]: 'start_bp', gain_loss_counts.columns[2]: 'gain', gain_loss_counts.columns[3]: 'loss'}, )"
   ]
  },
  {
   "cell_type": "code",
   "execution_count": 6,
   "metadata": {},
   "outputs": [],
   "source": [
    "gain_loss_counts['length'] = gain_loss_counts.end_bp - gain_loss_counts.start_bp\n",
    "gain_loss_counts['value'] = gain_loss_counts.gain - gain_loss_counts.loss\n",
    "gain_loss_counts['bars'] = list(zip(gain_loss_counts.start_bp, gain_loss_counts.length))"
   ]
  },
  {
   "cell_type": "markdown",
   "metadata": {},
   "source": [
    "## Map Colors"
   ]
  },
  {
   "cell_type": "code",
   "execution_count": 7,
   "metadata": {},
   "outputs": [],
   "source": [
    "def map_color(val):\n",
    "    i = (val + 85) // 5\n",
    "    if i < 0:\n",
    "        i = 0\n",
    "    if i > 33:\n",
    "        i=33\n",
    "    return gradient[int(i)]"
   ]
  },
  {
   "cell_type": "code",
   "execution_count": 8,
   "metadata": {},
   "outputs": [],
   "source": [
    "def map_reds(val):\n",
    "    i = val // 5\n",
    "    if i > 16:\n",
    "        i = 16\n",
    "    return reds[int(i)]"
   ]
  },
  {
   "cell_type": "code",
   "execution_count": 9,
   "metadata": {},
   "outputs": [],
   "source": [
    "def map_blues(val):\n",
    "    i = val // 5\n",
    "    if i > 16:\n",
    "        i = 16\n",
    "    return blues[int(i)]"
   ]
  },
  {
   "cell_type": "code",
   "execution_count": 10,
   "metadata": {},
   "outputs": [],
   "source": [
    "if GAIN_OR_LOSS == 'both':\n",
    "    gain_loss_counts['color'] = gain_loss_counts.value.apply(map_color)\n",
    "elif GAIN_OR_LOSS == 'gain':\n",
    "    gain_loss_counts['color'] = gain_loss_counts.gain.apply(map_reds)\n",
    "elif GAIN_OR_LOSS == 'loss':\n",
    "    gain_loss_counts['color'] = gain_loss_counts.loss.apply(map_blues)\n",
    "else:\n",
    "    print(\"Error! GAIN_OR_LOSS has the following options: 'gain', 'loss', 'both'\")"
   ]
  },
  {
   "cell_type": "code",
   "execution_count": 11,
   "metadata": {},
   "outputs": [],
   "source": [
    "gain_loss_counts.reset_index(inplace=True)"
   ]
  },
  {
   "cell_type": "markdown",
   "metadata": {},
   "source": [
    "## Load in cancer driver genes\n",
    "This data comes from the article \"Comprehensive Characterization of Cancer Driver Genes and Mutations\" (PubMed ID: [29625053](https://pubmed.ncbi.nlm.nih.gov/29625053/))\n"
   ]
  },
  {
   "cell_type": "code",
   "execution_count": 12,
   "metadata": {
    "scrolled": true
   },
   "outputs": [
    {
     "data": {
      "text/plain": [
       "299"
      ]
     },
     "execution_count": 12,
     "metadata": {},
     "output_type": "execute_result"
    }
   ],
   "source": [
    "# You may need to change the path to this file\n",
    "driver_genes = cnvutils.get_driver_genes()\n",
    "\n",
    "driver_genes = driver_genes.dropna(how=\"all\")\n",
    "driver_genes = driver_genes.dropna(how='all', axis=1)\n",
    "\n",
    "len(driver_genes.Gene.unique())"
   ]
  },
  {
   "cell_type": "markdown",
   "metadata": {},
   "source": [
    "## Create the plot"
   ]
  },
  {
   "cell_type": "code",
   "execution_count": 13,
   "metadata": {},
   "outputs": [
    {
     "name": "stderr",
     "output_type": "stream",
     "text": [
      "/home/caleb/anaconda3/envs/dev/lib/python3.7/site-packages/cnvutils/functions.py:126: UserWarning: The following genes were not found within the event: ['ABL1', 'ACVR1', 'ACVR1B', 'ACVR2A', 'AJUBA', 'AKT1', 'ALB', 'ALK', 'AMER1', 'APC', 'APOB', 'AR', 'ARAF', 'ARHGAP35', 'ARID1A', 'ARID2', 'ARID5B', 'ASXL1', 'ASXL2', 'ATF7IP', 'ATM', 'ATR', 'ATRX', 'ATXN3', 'AXIN1', 'AXIN2', 'B2M', 'BAP1', 'BCL2', 'BCL2L11', 'BCOR', 'BRAF', 'BRCA1', 'BRCA2', 'BRD7', 'BTG2', 'CACNA1A', 'CARD11', 'CASP8', 'CBFB', 'CBWD3', 'CCND1', 'CD70', 'CD79B', 'CDH1', 'CDK12', 'CDK4', 'CDKN1A', 'CDKN1B', 'CDKN2A', 'CDKN2C', 'CEBPA', 'CHD3', 'CHD4', 'CHD8', 'CHEK2', 'CIC', 'COL5A1', 'CREB3L3', 'CREBBP', 'CSDE1', 'CTCF', 'CTNNB1', 'CTNND1', 'CUL1', 'CUL3', 'CYLD', 'CYSLTR2', 'DACH1', 'DAZAP1', 'DDX3X', 'DHX9', 'DIAPH2', 'DICER1', 'DMD', 'DNMT3A', 'EEF1A1', 'EEF2', 'EGFR', 'EIF1AX', 'ELF3', 'EP300', 'EPAS1', 'EPHA2', 'EPHA3', 'ERBB2', 'ERBB3', 'ERBB4', 'ERCC2', 'ESR1', 'EZH2', 'FAM46D', 'FAT1', 'FBXW7', 'FGFR2', 'FGFR3', 'FLNA', 'FLT3', 'FOXA1', 'FOXA2', 'FOXQ1', 'FUBP1', 'GABRA6', 'GATA3', 'GNA11', 'GNA13', 'GNAQ', 'GNAS', 'GPS2', 'GRIN2D', 'GTF2I', 'H3F3A', 'H3F3C', 'HGF', 'HIST1H1C', 'HIST1H1E', 'HLA-A', 'HLA-B', 'HRAS', 'HUWE1', 'IDH1', 'IDH2', 'IL6ST', 'IL7R', 'INPPL1', 'IRF2', 'IRF6', 'JAK1', 'JAK2', 'JAK3', 'KANSL1', 'KDM5C', 'KDM6A', 'KEAP1', 'KEL', 'KIF1A', 'KIT', 'KLF5', 'KMT2A', 'KMT2B', 'KMT2C', 'KMT2D', 'KRAS', 'KRT222', 'LATS1', 'LATS2', 'LEMD2', 'LZTR1', 'MACF1', 'MAP2K1', 'MAP2K4', 'MAP3K1', 'MAP3K4', 'MAPK1', 'MAX', 'MECOM', 'MED12', 'MEN1', 'MET', 'MGA', 'MGMT', 'MLH1', 'MSH2', 'MSH3', 'MSH6', 'MTOR', 'MUC6', 'MYCN', 'MYD88', 'MYH9', 'NCOR1', 'NF1', 'NF2', 'NFE2L2', 'NIPBL', 'NOTCH1', 'NOTCH2', 'NPM1', 'NRAS', 'NSD1', 'NUP133', 'NUP93', 'PAX5', 'PBRM1', 'PCBP1', 'PDGFRA', 'PDS5B', 'PGR', 'PHF6', 'PIK3CA', 'PIK3CB', 'PIK3CG', 'PIK3R1', 'PIK3R2', 'PIM1', 'PLCB4', 'PLCG1', 'PLXNB2', 'PMS1', 'PMS2', 'POLE', 'POLQ', 'POLRMT', 'PPM1D', 'PPP2R1A', 'PPP6C', 'PRKAR1A', 'PSIP1', 'PTCH1', 'PTEN', 'PTMA', 'PTPDC1', 'PTPN11', 'PTPRC', 'PTPRD', 'RAC1', 'RAF1', 'RARA', 'RASA1', 'RB1', 'RBM10', 'RET', 'RFC1', 'RHEB', 'RHOA', 'RHOB', 'RIT1', 'RNF111', 'RNF43', 'RPL22', 'RPL5', 'RPS6KA3', 'RQCD1', 'RRAS2', 'RUNX1', 'RXRA', 'SCAF4', 'SETBP1', 'SETD2', 'SF1', 'SF3B1', 'SIN3A', 'SMAD2', 'SMAD4', 'SMARCA1', 'SMARCA4', 'SMARCB1', 'SMC1A', 'SMC3', 'SOS1', 'SOX9', 'SPOP', 'SPTA1', 'SPTAN1', 'SRSF2', 'STAG2', 'STK11', 'TAF1', 'TBL1XR1', 'TBX3', 'TCEB1', 'TCF12', 'TCF7L2', 'TET2', 'TGFBR2', 'TGIF1', 'THRAP3', 'TLR4', 'TMSB4X', 'TNFAIP3', 'TP53', 'TRAF3', 'TSC1', 'TSC2', 'TXNIP', 'U2AF1', 'UNCX', 'USP9X', 'VHL', 'WHSC1', 'WT1', 'XPO1', 'ZBTB20', 'ZBTB7B', 'ZC3H12A', 'ZCCHC12', 'ZFHX3', 'ZFP36L1', 'ZFP36L2', 'ZMYM2', 'ZMYM3', 'ZNF133', 'ZNF750']\n",
      "  warnings.warn(f'The following genes were not found within the event: {not_found}')\n"
     ]
    },
    {
     "data": {
      "image/png": "[encoded data removed]",
      "text/plain": [
       "<Figure size 432x288 with 11 Axes>"
      ]
     },
     "metadata": {
      "needs_background": "light"
     },
     "output_type": "display_data"
    }
   ],
   "source": [
    "fig, ax = plt.subplots(nrows=len(CANCER_TYPES) + 1, sharex=True, sharey=False)\n",
    "\n",
    "#If you would like to add a caption to your figure, you can add it here\n",
    "txt = r\"$\\bf{Distribution\\ of\\ gain\\ and\\ loss\\ events\\ on\\ Chromosome\\ 8.}$\" + \"Color was \\n determined by taking the count of patients with gain \\\n",
    "minus the \\n number of patients with a loss event, for each gene. E.g., a gene \\n where 20 patients had a gain and 80 had a \\\n",
    "loss would be displayed \\n at -60.\"\n",
    "count = 0\n",
    "for cancer in CANCER_TYPES:\n",
    "    df = gain_loss_counts[gain_loss_counts.cancer == cancer]\n",
    "    df = df.sort_values('start_bp')\n",
    "    start_values = df.start_bp\n",
    "    continuous_values = list()\n",
    "    prev = 0\n",
    "    for val in start_values:\n",
    "        continuous_values.append((prev, val-prev))\n",
    "        prev = val\n",
    "    ax[count].broken_barh(continuous_values, (0,1), facecolors=df.color)\n",
    "    ax[count].text(np.max(start_values)+5000000, 0.35, cancer)\n",
    "    ax[count].set_frame_on(False)\n",
    "    ax[count].get_xaxis().set_visible(False)\n",
    "    ax[count].get_yaxis().set_visible(False)\n",
    "    count += 1\n",
    "cnvutils.make_chromosome_plot(CHROMOSOME, ax=ax[count], genes=list(driver_genes.Gene.unique()), above=False)\n",
    "# cnvutils.make_chromosome_plot(CHROMOSOME, ax=ax[count])\n",
    "\n",
    "fig.subplots_adjust(right=0.8)\n",
    "fig.suptitle(f\"Chromosome {CHROMOSOME} Copy Number Events\")\n",
    "cbar_ax = fig.add_axes([0.9, 0.15, 0.03, 0.7])\n",
    "colors = mpl.colors.ListedColormap(gradient)\n",
    "cbar = fig.colorbar(mpl.cm.ScalarMappable(norm=mpl.colors.Normalize(vmin=-85, vmax=85), cmap=colors), cax=cbar_ax)\n",
    "clab = cbar.ax.set_ylabel('Net gain or loss per gene (# of patients)')\n",
    "text = fig.text(0.12, -.22, txt, ha='left')\n",
    "\n",
    "# fig.savefig('chr8gradient.png', dpi=600, bbox_inches=mpl.transforms.Bbox([[0.5, -1], [6.4, 4]]))"
   ]
  },
  {
   "cell_type": "code",
   "execution_count": 14,
   "metadata": {},
   "outputs": [
    {
     "data": {
      "text/plain": [
       "<module 'matplotlib.pyplot' from '/home/caleb/anaconda3/envs/dev/lib/python3.7/site-packages/matplotlib/pyplot.py'>"
      ]
     },
     "execution_count": 14,
     "metadata": {},
     "output_type": "execute_result"
    },
    {
     "data": {
      "image/png": "[encoded data removed]",
      "text/plain": [
       "<Figure size 576x28.8 with 1 Axes>"
      ]
     },
     "metadata": {
      "needs_background": "light"
     },
     "output_type": "display_data"
    }
   ],
   "source": [
    "fig, ax = plt.subplots(figsize=(8,.4))\n",
    "cnvutils.make_chromosome_plot(CHROMOSOME, ax=ax, genes=list(driver_genes.Gene.unique()), above=True)\n"
   ]
  }
 ],
 "metadata": {
  "kernelspec": {
   "display_name": "Python 3",
   "language": "python",
   "name": "python3"
  },
  "language_info": {
   "codemirror_mode": {
    "name": "ipython",
    "version": 3
   },
   "file_extension": ".py",
   "mimetype": "text/x-python",
   "name": "python",
   "nbconvert_exporter": "python",
   "pygments_lexer": "ipython3",
   "version": "3.7.7"
  }
 },
 "nbformat": 4,
 "nbformat_minor": 4
}
