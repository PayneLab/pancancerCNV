{
 "cells": [
  {
   "cell_type": "markdown",
   "metadata": {},
   "source": [
    "# Get Bascic Event Info\n",
    "\n",
    "The first thing we want to do is get basic information of the event we have found. This information includes:\n",
    " * Visual of the event\n",
    " * A list of genes within the event\n",
    " * A comparision of genes on event to known oncogenes\n",
    " * A description of the fraction of the population effected\n",
    " * The types of cancer affected by this event\n",
    " * Crossover of events (where applicable)"
   ]
  },
  {
   "cell_type": "code",
   "execution_count": null,
   "metadata": {},
   "outputs": [],
   "source": []
  }
 ],
 "metadata": {
  "kernelspec": {
   "display_name": "Python 3",
   "language": "python",
   "name": "python3"
  },
  "language_info": {
   "codemirror_mode": {
    "name": "ipython",
    "version": 3
   },
   "file_extension": ".py",
   "mimetype": "text/x-python",
   "name": "python",
   "nbconvert_exporter": "python",
   "pygments_lexer": "ipython3",
   "version": "3.7.6"
  }
 },
 "nbformat": 4,
 "nbformat_minor": 4
}
