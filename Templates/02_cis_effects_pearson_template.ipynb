{
 "cells": [
  {
   "attachments": {},
   "cell_type": "markdown",
   "metadata": {},
   "source": [
    "# Cis Effects Template"
   ]
  },
  {
   "cell_type": "markdown",
   "metadata": {},
   "source": [
    "## Setup"
   ]
  },
  {
   "cell_type": "code",
   "execution_count": null,
   "metadata": {},
   "outputs": [],
   "source": [
    "import pandas as pd\n",
    "import matplotlib.pyplot as plt\n",
    "import seaborn as sns\n",
    "import numpy as np\n",
    "import cptac\n",
    "from scipy import stats\n",
    "from utils import *\n",
    "import statsmodels.stats.multitest\n",
    "import cptac.utils"
   ]
  },
  {
   "cell_type": "markdown",
   "metadata": {},
   "source": [
    "## Stuff to fill out"
   ]
  },
  {
   "cell_type": "code",
   "execution_count": null,
   "metadata": {},
   "outputs": [],
   "source": [
    "cancer_types = {\n",
    "    # Put here all the types of cancer that you want to look at. \n",
    "    'luad': cptac.Luad(),\n",
    "    'hnscc': cptac.Hnscc(),\n",
    "    'ovarian': cptac.Ovarian(),\n",
    "    'colon': cptac.Colon(),\n",
    "    'brca': cptac.Brca(),\n",
    "    'lscc': cptac.Lscc()\n",
    "}"
   ]
  },
  {
   "cell_type": "code",
   "execution_count": null,
   "metadata": {},
   "outputs": [],
   "source": [
    "# Enter the Chromosome and arm you are looking at. \n",
    "CHROMOSOME = '8'\n",
    "ARM = 'p'"
   ]
  },
  {
   "cell_type": "markdown",
   "metadata": {},
   "source": [
    "## Load all the data"
   ]
  },
  {
   "cell_type": "code",
   "execution_count": null,
   "metadata": {},
   "outputs": [],
   "source": [
    "proteomics = dict()\n",
    "cnv = dict()\n",
    "transcriptomics = dict()\n",
    "for cancer_type in cancer_types:\n",
    "    proteomics[cancer_type] = cancer_types[cancer_type].get_proteomics()\n",
    "    cnv[cancer_type] = cancer_types[cancer_type].get_CNV()\n",
    "    transcriptomics[cancer_type] = cancer_types[cancer_type].get_transcriptomics()"
   ]
  },
  {
   "cell_type": "code",
   "execution_count": null,
   "metadata": {},
   "outputs": [],
   "source": [
    "locations = get_gene_locations()"
   ]
  },
  {
   "cell_type": "code",
   "execution_count": null,
   "metadata": {},
   "outputs": [],
   "source": [
    "# Get just the genes that are in our event\n",
    "subset_event = locations[(locations.chromosome == CHROMOSOME) & (locations.arm == ARM)]\n",
    "genes = set(subset_event.index.get_level_values('Name'))"
   ]
  },
  {
   "cell_type": "markdown",
   "metadata": {},
   "source": [
    "## Run Pearson Tests"
   ]
  },
  {
   "cell_type": "code",
   "execution_count": null,
   "metadata": {},
   "outputs": [],
   "source": [
    "def run_pearsons(protein, cnv_df, omics):\n",
    "    try:\n",
    "        if protein in cnv_df.columns.get_level_values('Name'):\n",
    "            cnv_data = cnv_df.loc[:,cnv_df.columns.get_level_values('Name')==protein]\n",
    "            cnv_column_name = cnv_data.columns.tolist()[0]\n",
    "        else:\n",
    "            return (np.nan, np.nan)\n",
    "        omics_data = omics[protein]\n",
    "        if isinstance(omics_data, pd.DataFrame):\n",
    "            omics_data = omics.iloc[:,0]\n",
    "        omics_data.name = 'omics'\n",
    "        df = pd.concat([cnv_data, omics_data], axis=1)\n",
    "        df.dropna(inplace=True)\n",
    "        if len(df) < 3:\n",
    "            return (np.nan,np.nan)\n",
    "        return stats.pearsonr(df[cnv_column_name], df['omics'])\n",
    "    except Exception as e:\n",
    "        print(e)"
   ]
  },
  {
   "cell_type": "markdown",
   "metadata": {},
   "source": [
    "### Proteomics"
   ]
  },
  {
   "cell_type": "code",
   "execution_count": null,
   "metadata": {},
   "outputs": [],
   "source": [
    "proteomics_results = None\n",
    "for cancer_type in proteomics.keys():\n",
    "    try:\n",
    "        # We will use the index from the proteomics table. \n",
    "        proteomics_table = proteomics[cancer_type].copy()\n",
    "        proteomics_table = proteomics_table.loc[:, proteomics_table.columns.get_level_values('Name').isin(genes)]\n",
    "        if isinstance(proteomics_table.columns, pd.MultiIndex):\n",
    "            proteomics_table = proteomics_table.droplevel('Database_ID', axis=1)\n",
    "        pvalues = list()\n",
    "        rvalues = list()\n",
    "        index = proteomics_table.columns.get_level_values('Name').tolist()\n",
    "        for protein in index:\n",
    "            r, p = run_pearsons(protein, cnv[cancer_type], proteomics_table)\n",
    "            pvalues.append(p)\n",
    "            rvalues.append(r)\n",
    "        # Correct for multiple tests\n",
    "        pvalues = np.array(pvalues)\n",
    "        mask = np.isfinite(pvalues)\n",
    "        pval_corrected = np.empty(len(pvalues))\n",
    "        pval_corrected.fill(np.nan)\n",
    "        pval_corrected[mask] = statsmodels.stats.multitest.multipletests(pvals=list(pvalues[mask]), alpha=0.05, method='fdr_bh')[1]\n",
    "        temp = pd.DataFrame(data={f'{cancer_type}_pvalue_proteomics': pval_corrected, f'{cancer_type}_rvalue_proteomics': rvalues}, index=index)\n",
    "        temp.index.name = 'Name'\n",
    "        if proteomics_results is not None:\n",
    "            proteomics_results = proteomics_results.join(temp, how='outer')\n",
    "        else:\n",
    "            proteomics_results = temp\n",
    "    except Exception as e:\n",
    "        print(e)"
   ]
  },
  {
   "cell_type": "code",
   "execution_count": null,
   "metadata": {},
   "outputs": [],
   "source": [
    "proteomics_results"
   ]
  },
  {
   "cell_type": "markdown",
   "metadata": {},
   "source": [
    "### Transcriptomics"
   ]
  },
  {
   "cell_type": "code",
   "execution_count": null,
   "metadata": {},
   "outputs": [],
   "source": [
    "transcriptomics_results = None\n",
    "for cancer_type in transcriptomics.keys():\n",
    "    try:\n",
    "        # We will use the index from the proteomics table. \n",
    "        transcriptomics_table = transcriptomics[cancer_type].copy()\n",
    "        transcriptomics_table = transcriptomics_table.loc[:, transcriptomics_table.columns.get_level_values('Name').isin(genes)]\n",
    "        if isinstance(transcriptomics_table.columns, pd.MultiIndex):\n",
    "            transcriptomics_table = transcriptomics_table.droplevel('Database_ID', axis=1)\n",
    "        pvalues = list()\n",
    "        rvalues = list()\n",
    "        index = transcriptomics_table.columns.get_level_values('Name').tolist()\n",
    "        for protein in index:\n",
    "            r, p = run_pearsons(protein, cnv[cancer_type], transcriptomics_table)\n",
    "            pvalues.append(p)\n",
    "            rvalues.append(r)\n",
    "        pvalues = np.array(pvalues)\n",
    "        mask = np.isfinite(pvalues)\n",
    "        pval_corrected = np.empty(len(pvalues))\n",
    "        pval_corrected.fill(np.nan)\n",
    "        pval_corrected[mask] = statsmodels.stats.multitest.multipletests(pvals=list(pvalues[mask]), alpha=0.05, method='fdr_bh')[1]\n",
    "        temp = pd.DataFrame(data={f'{cancer_type}_pvalue_transcriptomics': pval_corrected, f'{cancer_type}_rvalue_transcriptomics': rvalues}, index=index)\n",
    "        temp.index.name = 'Name'\n",
    "        if transcriptomics_results is not None:\n",
    "            transcriptomics_results = transcriptomics_results.join(temp, how='outer')\n",
    "        else:\n",
    "            transcriptomics_results = temp\n",
    "    except Exception as e:\n",
    "        print(e)"
   ]
  },
  {
   "cell_type": "code",
   "execution_count": null,
   "metadata": {},
   "outputs": [],
   "source": [
    "transcriptomics_results"
   ]
  },
  {
   "cell_type": "markdown",
   "metadata": {},
   "source": [
    "## Create Graphs"
   ]
  },
  {
   "cell_type": "code",
   "execution_count": null,
   "metadata": {},
   "outputs": [],
   "source": [
    "# Join the graphs\n",
    "all_results = transcriptomics_results.join(proteomics_results)"
   ]
  },
  {
   "cell_type": "code",
   "execution_count": null,
   "metadata": {},
   "outputs": [],
   "source": [
    "for cancer_type in proteomics.keys():\n",
    "    plt.figure()\n",
    "    sns.jointplot(x=f'{cancer_type}_rvalue_transcriptomics', y=f'{cancer_type}_rvalue_proteomics', data=all_results, kind='reg')"
   ]
  }
 ],
 "metadata": {
  "kernelspec": {
   "display_name": "Python 3",
   "language": "python",
   "name": "python3"
  },
  "language_info": {
   "codemirror_mode": {
    "name": "ipython",
    "version": 3
   },
   "file_extension": ".py",
   "mimetype": "text/x-python",
   "name": "python",
   "nbconvert_exporter": "python",
   "pygments_lexer": "ipython3",
   "version": "3.7.6"
  }
 },
 "nbformat": 4,
 "nbformat_minor": 4
}
