{
 "cells": [
  {
   "cell_type": "markdown",
   "metadata": {},
   "source": [
    "# Trans-Effects"
   ]
  },
  {
   "cell_type": "markdown",
   "metadata": {},
   "source": [
    "## Install necessary Packages"
   ]
  },
  {
   "cell_type": "code",
   "execution_count": 1,
   "metadata": {},
   "outputs": [
    {
     "name": "stdout",
     "output_type": "stream",
     "text": [
      "Requirement already satisfied: cptac in c:\\users\\chels\\anaconda3\\lib\\site-packages (0.8.0)\n",
      "Requirement already satisfied: urllib3>=1.24.2 in c:\\users\\chels\\anaconda3\\lib\\site-packages (from cptac) (1.25.8)\n",
      "Requirement already satisfied: packaging>=19.2 in c:\\users\\chels\\anaconda3\\lib\\site-packages (from cptac) (20.1)\n",
      "Requirement already satisfied: beautifulsoup4>=4.7.1 in c:\\users\\chels\\anaconda3\\lib\\site-packages (from cptac) (4.8.2)\n",
      "Requirement already satisfied: pandas>=0.25.1 in c:\\users\\chels\\anaconda3\\lib\\site-packages (from cptac) (1.0.1)\n",
      "Requirement already satisfied: xlrd>=1.2.0 in c:\\users\\chels\\anaconda3\\lib\\site-packages (from cptac) (1.2.0)\n",
      "Requirement already satisfied: scipy>=1.2.1 in c:\\users\\chels\\anaconda3\\lib\\site-packages (from cptac) (1.4.1)\n",
      "Requirement already satisfied: numpy>=1.16.3 in c:\\users\\chels\\anaconda3\\lib\\site-packages (from cptac) (1.18.1)\n",
      "Requirement already satisfied: requests>=2.21.0 in c:\\users\\chels\\anaconda3\\lib\\site-packages (from cptac) (2.22.0)\n",
      "Requirement already satisfied: six in c:\\users\\chels\\anaconda3\\lib\\site-packages (from packaging>=19.2->cptac) (1.14.0)\n",
      "Requirement already satisfied: pyparsing>=2.0.2 in c:\\users\\chels\\anaconda3\\lib\\site-packages (from packaging>=19.2->cptac) (2.4.6)\n",
      "Requirement already satisfied: soupsieve>=1.2 in c:\\users\\chels\\anaconda3\\lib\\site-packages (from beautifulsoup4>=4.7.1->cptac) (1.9.5)\n",
      "Requirement already satisfied: pytz>=2017.2 in c:\\users\\chels\\anaconda3\\lib\\site-packages (from pandas>=0.25.1->cptac) (2019.3)\n",
      "Requirement already satisfied: python-dateutil>=2.6.1 in c:\\users\\chels\\anaconda3\\lib\\site-packages (from pandas>=0.25.1->cptac) (2.8.1)\n",
      "Requirement already satisfied: chardet<3.1.0,>=3.0.2 in c:\\users\\chels\\anaconda3\\lib\\site-packages (from requests>=2.21.0->cptac) (3.0.4)\n",
      "Requirement already satisfied: certifi>=2017.4.17 in c:\\users\\chels\\anaconda3\\lib\\site-packages (from requests>=2.21.0->cptac) (2019.11.28)\n",
      "Requirement already satisfied: idna<2.9,>=2.5 in c:\\users\\chels\\anaconda3\\lib\\site-packages (from requests>=2.21.0->cptac) (2.8)\n",
      "Requirement already up-to-date: cptac in c:\\users\\chels\\anaconda3\\lib\\site-packages (0.8.0)\n",
      "Requirement already satisfied, skipping upgrade: scipy>=1.2.1 in c:\\users\\chels\\anaconda3\\lib\\site-packages (from cptac) (1.4.1)\n",
      "Requirement already satisfied, skipping upgrade: requests>=2.21.0 in c:\\users\\chels\\anaconda3\\lib\\site-packages (from cptac) (2.22.0)\n",
      "Requirement already satisfied, skipping upgrade: packaging>=19.2 in c:\\users\\chels\\anaconda3\\lib\\site-packages (from cptac) (20.1)\n",
      "Requirement already satisfied, skipping upgrade: xlrd>=1.2.0 in c:\\users\\chels\\anaconda3\\lib\\site-packages (from cptac) (1.2.0)\n",
      "Requirement already satisfied, skipping upgrade: pandas>=0.25.1 in c:\\users\\chels\\anaconda3\\lib\\site-packages (from cptac) (1.0.1)\n",
      "Requirement already satisfied, skipping upgrade: beautifulsoup4>=4.7.1 in c:\\users\\chels\\anaconda3\\lib\\site-packages (from cptac) (4.8.2)\n",
      "Requirement already satisfied, skipping upgrade: urllib3>=1.24.2 in c:\\users\\chels\\anaconda3\\lib\\site-packages (from cptac) (1.25.8)\n",
      "Requirement already satisfied, skipping upgrade: numpy>=1.16.3 in c:\\users\\chels\\anaconda3\\lib\\site-packages (from cptac) (1.18.1)\n",
      "Requirement already satisfied, skipping upgrade: idna<2.9,>=2.5 in c:\\users\\chels\\anaconda3\\lib\\site-packages (from requests>=2.21.0->cptac) (2.8)\n",
      "Requirement already satisfied, skipping upgrade: chardet<3.1.0,>=3.0.2 in c:\\users\\chels\\anaconda3\\lib\\site-packages (from requests>=2.21.0->cptac) (3.0.4)\n",
      "Requirement already satisfied, skipping upgrade: certifi>=2017.4.17 in c:\\users\\chels\\anaconda3\\lib\\site-packages (from requests>=2.21.0->cptac) (2019.11.28)\n",
      "Requirement already satisfied, skipping upgrade: pyparsing>=2.0.2 in c:\\users\\chels\\anaconda3\\lib\\site-packages (from packaging>=19.2->cptac) (2.4.6)\n",
      "Requirement already satisfied, skipping upgrade: six in c:\\users\\chels\\anaconda3\\lib\\site-packages (from packaging>=19.2->cptac) (1.14.0)\n",
      "Requirement already satisfied, skipping upgrade: pytz>=2017.2 in c:\\users\\chels\\anaconda3\\lib\\site-packages (from pandas>=0.25.1->cptac) (2019.3)\n",
      "Requirement already satisfied, skipping upgrade: python-dateutil>=2.6.1 in c:\\users\\chels\\anaconda3\\lib\\site-packages (from pandas>=0.25.1->cptac) (2.8.1)\n",
      "Requirement already satisfied, skipping upgrade: soupsieve>=1.2 in c:\\users\\chels\\anaconda3\\lib\\site-packages (from beautifulsoup4>=4.7.1->cptac) (1.9.5)\n"
     ]
    }
   ],
   "source": [
    "!pip install cptac\n",
    "!pip install --upgrade cptac"
   ]
  },
  {
   "cell_type": "code",
   "execution_count": 2,
   "metadata": {},
   "outputs": [],
   "source": [
    "import pandas as pd\n",
    "import matplotlib.pyplot as plt\n",
    "import seaborn as sns\n",
    "import numpy as np\n",
    "import cptac\n",
    "import pyensembl\n",
    "from scipy import stats"
   ]
  },
  {
   "cell_type": "markdown",
   "metadata": {},
   "source": [
    "## Download all the data"
   ]
  },
  {
   "cell_type": "code",
   "execution_count": 3,
   "metadata": {},
   "outputs": [
    {
     "name": "stdout",
     "output_type": "stream",
     "text": [
      "                                            \r"
     ]
    },
    {
     "data": {
      "text/plain": [
       "True"
      ]
     },
     "execution_count": 3,
     "metadata": {},
     "output_type": "execute_result"
    }
   ],
   "source": [
    "cptac.download(dataset=\"luad\")\n",
    "cptac.download(dataset=\"hnscc\")\n",
    "cptac.download(dataset=\"ovarian\")\n",
    "cptac.download(dataset=\"colon\")\n",
    "cptac.download(dataset=\"brca\")\n",
    "cptac.download(dataset=\"lscc\")"
   ]
  },
  {
   "cell_type": "code",
   "execution_count": 4,
   "metadata": {},
   "outputs": [
    {
     "name": "stdout",
     "output_type": "stream",
     "text": [
      "Checking that hnscc index is up-to-date...\r"
     ]
    },
    {
     "name": "stderr",
     "output_type": "stream",
     "text": [
      "cptac warning: The LUAD dataset is under publication embargo until July 01, 2020. CPTAC is a community resource project and data are made available rapidly after generation for community research use. The embargo allows exploring and utilizing the data, but analysis may not be published until after the embargo date. Please see https://proteomics.cancer.gov/data-portal/about/data-use-agreement or enter cptac.embargo() to open the webpage for more details. (C:\\Users\\chels\\anaconda3\\lib\\site-packages\\ipykernel_launcher.py, line 1)\n"
     ]
    },
    {
     "name": "stdout",
     "output_type": "stream",
     "text": [
      "Checking that ovarian index is up-to-date...\r"
     ]
    },
    {
     "name": "stderr",
     "output_type": "stream",
     "text": [
      "cptac warning: The HNSCC data is currently strictly reserved for CPTAC investigators. Otherwise, you are not authorized to access these data. Additionally, even after these data become publicly available, they will be subject to a publication embargo (see https://proteomics.cancer.gov/data-portal/about/data-use-agreement or enter cptac.embargo() to open the webpage for more details). (C:\\Users\\chels\\anaconda3\\lib\\site-packages\\ipykernel_launcher.py, line 2)\n"
     ]
    },
    {
     "name": "stdout",
     "output_type": "stream",
     "text": [
      "Loading ovarian v0.0.1........              \r"
     ]
    },
    {
     "name": "stderr",
     "output_type": "stream",
     "text": [
      "INFO:numexpr.utils:NumExpr defaulting to 8 threads.\n"
     ]
    },
    {
     "name": "stdout",
     "output_type": "stream",
     "text": [
      "                                          \r"
     ]
    },
    {
     "name": "stderr",
     "output_type": "stream",
     "text": [
      "cptac warning: The LSCC data is currently strictly reserved for CPTAC investigators. Otherwise, you are not authorized to access these data. Additionally, even after these data become publicly available, they will be subject to a publication embargo (see https://proteomics.cancer.gov/data-portal/about/data-use-agreement or enter cptac.embargo() to open the webpage for more details). (C:\\Users\\chels\\anaconda3\\lib\\site-packages\\ipykernel_launcher.py, line 6)\n"
     ]
    }
   ],
   "source": [
    "luad = cptac.Luad()\n",
    "hnscc = cptac.Hnscc()\n",
    "ovarian = cptac.Ovarian()\n",
    "colon = cptac.Colon()\n",
    "brca = cptac.Brca()\n",
    "lscc = cptac.Lscc()"
   ]
  },
  {
   "cell_type": "code",
   "execution_count": 5,
   "metadata": {},
   "outputs": [],
   "source": [
    "luad_cnv = luad.get_CNV()\n",
    "hnscc_cnv = hnscc.get_CNV()\n",
    "ovarian_cnv =  ovarian.get_CNV()\n",
    "colon_cnv = colon.get_CNV()\n",
    "brca_cnv = brca.get_CNV()\n",
    "lscc_cnv = lscc.get_CNV()"
   ]
  },
  {
   "cell_type": "code",
   "execution_count": 6,
   "metadata": {},
   "outputs": [],
   "source": [
    "luad_prot = luad.get_proteomics()\n",
    "hnscc_prot = hnscc.get_proteomics()\n",
    "ovarian_prot = ovarian.get_proteomics()\n",
    "colon_prot = colon.get_proteomics()\n",
    "brca_prot = brca.get_proteomics()\n",
    "lscc_prot = lscc.get_proteomics()"
   ]
  },
  {
   "cell_type": "code",
   "execution_count": 7,
   "metadata": {},
   "outputs": [],
   "source": [
    "# Used to find the gene locations\n",
    "ensembl = pyensembl.EnsemblRelease()"
   ]
  },
  {
   "cell_type": "markdown",
   "metadata": {},
   "source": [
    "## Create Counts Table"
   ]
  },
  {
   "cell_type": "code",
   "execution_count": 8,
   "metadata": {},
   "outputs": [],
   "source": [
    "def separate(hiCut, lowCut, data):\n",
    "  \"\"\"\n",
    "  Counts the Number of patients with high and low value for each gene.\n",
    "  \"\"\"\n",
    "  sepDict = dict()\n",
    "  for column in data:\n",
    "    numHi = 0\n",
    "    numLow = 0\n",
    "    numNeu = 0\n",
    "    for i in data[column]:\n",
    "        if i > hiCut:\n",
    "            numHi += 1\n",
    "        elif i < lowCut:\n",
    "            numLow += 1\n",
    "        else:\n",
    "            numNeu += 1 \n",
    "    sepDict[column] = [numHi, numNeu, numLow]\n",
    "  return sepDict"
   ]
  },
  {
   "cell_type": "code",
   "execution_count": 9,
   "metadata": {},
   "outputs": [],
   "source": [
    "def get_counts_and_average(data):\n",
    "  \"\"\"\n",
    "  Takes a CNV dataframe and generates a dataframe with the counts of high, low and neutral values\n",
    "  \"\"\"\n",
    "  df = pd.DataFrame(data = separate(.3,-.2,data), index = [\"amplifications\", \"neutral\", \"deletions\"])\n",
    "  df = df.append(pd.DataFrame(data.mean(0), columns=['average']).transpose(), sort=True)\n",
    "  return df.transpose()"
   ]
  },
  {
   "cell_type": "code",
   "execution_count": 10,
   "metadata": {},
   "outputs": [],
   "source": [
    "def add_chromo_and_loc(my_dict, cancer):\n",
    "    chromo = list()\n",
    "    locations = list()\n",
    "    not_found = list()\n",
    "    count = 0\n",
    "    for gene in list(my_dict.index.get_level_values(0)):\n",
    "        count += 1\n",
    "        try:\n",
    "            e_gene = ensembl.genes_by_name(gene)\n",
    "            chromo.append(e_gene[0].contig)\n",
    "            locations.append((e_gene[0].start + e_gene[0].end)/2)\n",
    "        except:\n",
    "            not_found.append(gene)\n",
    "            chromo.append(None)\n",
    "            locations.append(None)\n",
    "    my_dict['chromo'] = chromo\n",
    "    my_dict['location'] = locations\n",
    "    my_dict['cancer'] = cancer\n",
    "    print(cancer, len(not_found)/count)\n",
    "    return my_dict"
   ]
  },
  {
   "cell_type": "code",
   "execution_count": 11,
   "metadata": {},
   "outputs": [],
   "source": [
    "luad_counts = get_counts_and_average(luad_cnv)\n",
    "hnscc_counts = get_counts_and_average(hnscc_cnv)\n",
    "ovarian_counts = get_counts_and_average(ovarian_cnv)\n",
    "colon_counts = get_counts_and_average(colon_cnv)\n",
    "brca_counts = get_counts_and_average(brca_cnv)\n",
    "lscc_counts = get_counts_and_average(lscc_cnv)"
   ]
  },
  {
   "cell_type": "code",
   "execution_count": 12,
   "metadata": {},
   "outputs": [
    {
     "name": "stdout",
     "output_type": "stream",
     "text": [
      "LUAD 0.037577204546634144\n",
      "HNSCC 0.019470286208123633\n",
      "OVARIAN 0.05881324318022849\n",
      "COLON 0.1250645174097749\n",
      "BRCA 0.09678372446395407\n",
      "LSCC 0.016476616265635204\n"
     ]
    }
   ],
   "source": [
    "luad_counts = add_chromo_and_loc(luad_counts, \"LUAD\")\n",
    "hnscc_counts = add_chromo_and_loc(hnscc_counts, \"HNSCC\")\n",
    "ovarian_counts = add_chromo_and_loc(ovarian_counts, \"OVARIAN\")\n",
    "colon_counts = add_chromo_and_loc(colon_counts, \"COLON\")\n",
    "brca_counts = add_chromo_and_loc(brca_counts, \"BRCA\")\n",
    "lscc_counts = add_chromo_and_loc(lscc_counts, \"LSCC\")"
   ]
  },
  {
   "cell_type": "markdown",
   "metadata": {},
   "source": [
    "## Specify a Chromosome"
   ]
  },
  {
   "cell_type": "code",
   "execution_count": 13,
   "metadata": {},
   "outputs": [],
   "source": [
    "chromosome_num = '8'"
   ]
  },
  {
   "cell_type": "code",
   "execution_count": 14,
   "metadata": {},
   "outputs": [],
   "source": [
    "# Drop any genes that we don't have a location for\n",
    "luad_counts_cleaned = luad_counts.dropna(subset=['location'])\n",
    "hnscc_counts_cleaned = hnscc_counts.dropna(subset=['location'])\n",
    "ovarian_counts_cleaned = ovarian_counts.dropna(subset=['location'])\n",
    "colon_counts_cleaned = colon_counts.dropna(subset=['location'])\n",
    "brca_counts_cleaned = brca_counts.dropna(subset=['location'])\n",
    "lscc_counts_cleaned = lscc_counts.dropna(subset=['location'])"
   ]
  },
  {
   "cell_type": "code",
   "execution_count": 15,
   "metadata": {},
   "outputs": [],
   "source": [
    "luad_counts_cleaned_8 = luad_counts_cleaned[luad_counts_cleaned.chromo==chromosome_num]\n",
    "hnscc_counts_cleaned_8 = hnscc_counts_cleaned[hnscc_counts_cleaned.chromo==chromosome_num]\n",
    "ovarian_counts_cleaned_8 = ovarian_counts_cleaned[ovarian_counts_cleaned.chromo==chromosome_num]\n",
    "colon_counts_cleaned_8 = colon_counts_cleaned[colon_counts_cleaned.chromo==chromosome_num]\n",
    "brca_counts_cleaned_8 = brca_counts_cleaned[brca_counts_cleaned.chromo==chromosome_num]\n",
    "lscc_counts_cleaned_8 = lscc_counts_cleaned[lscc_counts_cleaned.chromo==chromosome_num]"
   ]
  },
  {
   "cell_type": "markdown",
   "metadata": {},
   "source": [
    "## Create Graphs"
   ]
  },
  {
   "cell_type": "code",
   "execution_count": 16,
   "metadata": {},
   "outputs": [],
   "source": [
    "# This is the cutoff value (determined by experimentation) that we are using for the event\n",
    "deletion_event = 30794385.5"
   ]
  },
  {
   "cell_type": "code",
   "execution_count": 17,
   "metadata": {},
   "outputs": [],
   "source": [
    "luad_counts_8 = pd.melt(luad_counts_cleaned_8, id_vars=['chromo', 'location', 'cancer'], value_vars=['amplifications', 'deletions'])\n",
    "hnscc_counts_8 = pd.melt(hnscc_counts_cleaned_8, id_vars=['chromo', 'location', 'cancer'], value_vars=['amplifications', 'deletions'])\n",
    "ovarian_counts_8 = pd.melt(ovarian_counts_cleaned_8, id_vars=['chromo', 'location', 'cancer'], value_vars=['amplifications', 'deletions'])\n",
    "colon_counts_8 = pd.melt(colon_counts_cleaned_8, id_vars=['chromo', 'location', 'cancer'], value_vars=['amplifications', 'deletions'])\n",
    "brca_counts_8 = pd.melt(brca_counts_cleaned_8, id_vars=['chromo', 'location', 'cancer'], value_vars=['amplifications', 'deletions'])\n",
    "lscc_counts_8 = pd.melt(lscc_counts_cleaned_8, id_vars=['chromo', 'location', 'cancer'], value_vars=['amplifications', 'deletions'])"
   ]
  },
  {
   "cell_type": "code",
   "execution_count": 18,
   "metadata": {},
   "outputs": [
    {
     "data": {
      "text/plain": [
       "<matplotlib.lines.Line2D at 0x25a2f65bc08>"
      ]
     },
     "execution_count": 18,
     "metadata": {},
     "output_type": "execute_result"
    },
    {
     "data": {
      "image/png": "[encoded data removed]",
      "text/plain": [
       "<Figure size 432x288 with 1 Axes>"
      ]
     },
     "metadata": {
      "needs_background": "light"
     },
     "output_type": "display_data"
    }
   ],
   "source": [
    "sns.lineplot(x=\"location\", y=\"value\", hue=\"variable\", palette=['darkred', 'darkblue'], data=luad_counts_8)\n",
    "plt.axvline(deletion_event)"
   ]
  },
  {
   "cell_type": "code",
   "execution_count": 19,
   "metadata": {},
   "outputs": [
    {
     "data": {
      "text/plain": [
       "<matplotlib.lines.Line2D at 0x25a3035e308>"
      ]
     },
     "execution_count": 19,
     "metadata": {},
     "output_type": "execute_result"
    },
    {
     "data": {
      "image/png": "[encoded data removed]",
      "text/plain": [
       "<Figure size 432x288 with 1 Axes>"
      ]
     },
     "metadata": {
      "needs_background": "light"
     },
     "output_type": "display_data"
    }
   ],
   "source": [
    "sns.lineplot(x=\"location\", y=\"value\", hue=\"variable\", palette=['darkred', 'darkblue'], data=hnscc_counts_8)\n",
    "plt.axvline(deletion_event)"
   ]
  },
  {
   "cell_type": "code",
   "execution_count": 20,
   "metadata": {},
   "outputs": [
    {
     "data": {
      "text/plain": [
       "<matplotlib.lines.Line2D at 0x25a303ab408>"
      ]
     },
     "execution_count": 20,
     "metadata": {},
     "output_type": "execute_result"
    },
    {
     "data": {
      "image/png": "[encoded data removed]",
      "text/plain": [
       "<Figure size 432x288 with 1 Axes>"
      ]
     },
     "metadata": {
      "needs_background": "light"
     },
     "output_type": "display_data"
    }
   ],
   "source": [
    "sns.lineplot(x=\"location\", y=\"value\", hue=\"variable\", palette=['darkred', 'darkblue'], data=ovarian_counts_8)\n",
    "plt.axvline(deletion_event)"
   ]
  },
  {
   "cell_type": "code",
   "execution_count": 21,
   "metadata": {},
   "outputs": [
    {
     "data": {
      "text/plain": [
       "<matplotlib.lines.Line2D at 0x25a3048ed88>"
      ]
     },
     "execution_count": 21,
     "metadata": {},
     "output_type": "execute_result"
    },
    {
     "data": {
      "image/png": "[encoded data removed]",
      "text/plain": [
       "<Figure size 432x288 with 1 Axes>"
      ]
     },
     "metadata": {
      "needs_background": "light"
     },
     "output_type": "display_data"
    }
   ],
   "source": [
    "sns.lineplot(x=\"location\", y=\"value\", hue=\"variable\", palette=['darkred', 'darkblue'], data=colon_counts_8)\n",
    "plt.axvline(deletion_event)"
   ]
  },
  {
   "cell_type": "code",
   "execution_count": 22,
   "metadata": {},
   "outputs": [
    {
     "data": {
      "text/plain": [
       "<matplotlib.lines.Line2D at 0x25a30523a08>"
      ]
     },
     "execution_count": 22,
     "metadata": {},
     "output_type": "execute_result"
    },
    {
     "data": {
      "image/png": "[encoded data removed]",
      "text/plain": [
       "<Figure size 432x288 with 1 Axes>"
      ]
     },
     "metadata": {
      "needs_background": "light"
     },
     "output_type": "display_data"
    }
   ],
   "source": [
    "sns.lineplot(x=\"location\", y=\"value\", hue=\"variable\", palette=['darkred', 'darkblue'], data=brca_counts_8)\n",
    "plt.axvline(deletion_event)"
   ]
  },
  {
   "cell_type": "code",
   "execution_count": 23,
   "metadata": {},
   "outputs": [
    {
     "data": {
      "text/plain": [
       "<matplotlib.lines.Line2D at 0x25a305b27c8>"
      ]
     },
     "execution_count": 23,
     "metadata": {},
     "output_type": "execute_result"
    },
    {
     "data": {
      "image/png": "[encoded data removed]",
      "text/plain": [
       "<Figure size 432x288 with 1 Axes>"
      ]
     },
     "metadata": {
      "needs_background": "light"
     },
     "output_type": "display_data"
    }
   ],
   "source": [
    "sns.lineplot(x=\"location\", y=\"value\", hue=\"variable\", palette=['darkred', 'darkblue'], data=lscc_counts_8)\n",
    "plt.axvline(deletion_event)"
   ]
  },
  {
   "cell_type": "markdown",
   "metadata": {},
   "source": [
    "## Get Genes of Event"
   ]
  },
  {
   "cell_type": "code",
   "execution_count": 24,
   "metadata": {},
   "outputs": [],
   "source": [
    "def calc_percent(row):\n",
    "    values = list(row)\n",
    "    return(len([x for x in values if x <= -0.2]) / len(values))"
   ]
  },
  {
   "cell_type": "code",
   "execution_count": 25,
   "metadata": {},
   "outputs": [],
   "source": [
    "luad_gene_list = list(luad_counts_cleaned_8[luad_counts_cleaned_8.location < deletion_event].index)\n",
    "hnscc_gene_list = list(hnscc_counts_cleaned_8[hnscc_counts_cleaned_8.location < deletion_event].index)\n",
    "ovarian_gene_list = list(ovarian_counts_cleaned_8[ovarian_counts_cleaned_8.location < deletion_event].index)\n",
    "colon_gene_list = list(colon_counts_cleaned_8[colon_counts_cleaned_8.location < deletion_event].index)\n",
    "brca_gene_list = list(brca_counts_cleaned_8[brca_counts_cleaned_8.location < deletion_event].index)\n",
    "lscc_gene_list = list(lscc_counts_cleaned_8[lscc_counts_cleaned_8.location < deletion_event].index)"
   ]
  },
  {
   "cell_type": "code",
   "execution_count": 53,
   "metadata": {},
   "outputs": [
    {
     "data": {
      "text/plain": [
       "186"
      ]
     },
     "execution_count": 53,
     "metadata": {},
     "output_type": "execute_result"
    }
   ],
   "source": [
    "len(list(luad_gene_list))"
   ]
  },
  {
   "cell_type": "code",
   "execution_count": 27,
   "metadata": {},
   "outputs": [],
   "source": [
    "luad_df_before_event = luad_cnv[luad_gene_list]\n",
    "hnscc_df_before_event = hnscc_cnv[hnscc_gene_list]\n",
    "ovarian_df_before_event = ovarian_cnv[ovarian_gene_list]\n",
    "colon_df_before_event = colon_cnv[colon_gene_list]\n",
    "brca_df_before_event = brca_cnv[brca_gene_list]\n",
    "lscc_df_before_event = lscc_cnv[lscc_gene_list]"
   ]
  },
  {
   "cell_type": "code",
   "execution_count": 28,
   "metadata": {},
   "outputs": [
    {
     "name": "stderr",
     "output_type": "stream",
     "text": [
      "C:\\Users\\chels\\anaconda3\\lib\\site-packages\\ipykernel_launcher.py:1: SettingWithCopyWarning: \n",
      "A value is trying to be set on a copy of a slice from a DataFrame.\n",
      "Try using .loc[row_indexer,col_indexer] = value instead\n",
      "\n",
      "See the caveats in the documentation: https://pandas.pydata.org/pandas-docs/stable/user_guide/indexing.html#returning-a-view-versus-a-copy\n",
      "  \"\"\"Entry point for launching an IPython kernel.\n",
      "C:\\Users\\chels\\anaconda3\\lib\\site-packages\\ipykernel_launcher.py:2: SettingWithCopyWarning: \n",
      "A value is trying to be set on a copy of a slice from a DataFrame.\n",
      "Try using .loc[row_indexer,col_indexer] = value instead\n",
      "\n",
      "See the caveats in the documentation: https://pandas.pydata.org/pandas-docs/stable/user_guide/indexing.html#returning-a-view-versus-a-copy\n",
      "  \n",
      "C:\\Users\\chels\\anaconda3\\lib\\site-packages\\ipykernel_launcher.py:3: SettingWithCopyWarning: \n",
      "A value is trying to be set on a copy of a slice from a DataFrame.\n",
      "Try using .loc[row_indexer,col_indexer] = value instead\n",
      "\n",
      "See the caveats in the documentation: https://pandas.pydata.org/pandas-docs/stable/user_guide/indexing.html#returning-a-view-versus-a-copy\n",
      "  This is separate from the ipykernel package so we can avoid doing imports until\n",
      "C:\\Users\\chels\\anaconda3\\lib\\site-packages\\ipykernel_launcher.py:4: SettingWithCopyWarning: \n",
      "A value is trying to be set on a copy of a slice from a DataFrame.\n",
      "Try using .loc[row_indexer,col_indexer] = value instead\n",
      "\n",
      "See the caveats in the documentation: https://pandas.pydata.org/pandas-docs/stable/user_guide/indexing.html#returning-a-view-versus-a-copy\n",
      "  after removing the cwd from sys.path.\n",
      "C:\\Users\\chels\\anaconda3\\lib\\site-packages\\ipykernel_launcher.py:5: SettingWithCopyWarning: \n",
      "A value is trying to be set on a copy of a slice from a DataFrame.\n",
      "Try using .loc[row_indexer,col_indexer] = value instead\n",
      "\n",
      "See the caveats in the documentation: https://pandas.pydata.org/pandas-docs/stable/user_guide/indexing.html#returning-a-view-versus-a-copy\n",
      "  \"\"\"\n",
      "C:\\Users\\chels\\anaconda3\\lib\\site-packages\\ipykernel_launcher.py:6: SettingWithCopyWarning: \n",
      "A value is trying to be set on a copy of a slice from a DataFrame.\n",
      "Try using .loc[row_indexer,col_indexer] = value instead\n",
      "\n",
      "See the caveats in the documentation: https://pandas.pydata.org/pandas-docs/stable/user_guide/indexing.html#returning-a-view-versus-a-copy\n",
      "  \n"
     ]
    }
   ],
   "source": [
    "luad_df_before_event['percent'] = luad_df_before_event.apply(calc_percent, axis=1)\n",
    "hnscc_df_before_event['percent'] = hnscc_df_before_event.apply(calc_percent, axis=1)\n",
    "ovarian_df_before_event['percent'] = ovarian_df_before_event.apply(calc_percent, axis=1)\n",
    "colon_df_before_event['percent'] = colon_df_before_event.apply(calc_percent, axis=1)\n",
    "brca_df_before_event['percent'] = brca_df_before_event.apply(calc_percent, axis=1)\n",
    "lscc_df_before_event['percent'] = lscc_df_before_event.apply(calc_percent, axis=1)"
   ]
  },
  {
   "cell_type": "markdown",
   "metadata": {},
   "source": [
    "## Group Samples"
   ]
  },
  {
   "cell_type": "code",
   "execution_count": 29,
   "metadata": {},
   "outputs": [],
   "source": [
    "luad_has_event = list(luad_df_before_event[luad_df_before_event.percent > .8].index)\n",
    "hnscc_has_event = list(hnscc_df_before_event[hnscc_df_before_event.percent > .8].index)\n",
    "ovarian_has_event = list(ovarian_df_before_event[ovarian_df_before_event.percent > .8].index)\n",
    "colon_has_event = list(colon_df_before_event[colon_df_before_event.percent > .8].index)\n",
    "brca_has_event = list(brca_df_before_event[brca_df_before_event.percent > .8].index)\n",
    "lscc_has_event = list(lscc_df_before_event[lscc_df_before_event.percent > .8].index)"
   ]
  },
  {
   "cell_type": "code",
   "execution_count": 30,
   "metadata": {},
   "outputs": [],
   "source": [
    "luad_no_event = [x for x in luad_df_before_event.index if x not in luad_has_event]\n",
    "hnscc_no_event = [x for x in hnscc_df_before_event.index if x not in hnscc_has_event]\n",
    "ovarian_no_event = [x for x in ovarian_df_before_event.index if x not in ovarian_has_event]\n",
    "colon_no_event = [x for x in colon_df_before_event.index if x not in colon_has_event]\n",
    "brca_no_event = [x for x in brca_df_before_event.index if x not in brca_has_event]\n",
    "lscc_no_event = [x for x in lscc_df_before_event.index if x not in lscc_has_event]"
   ]
  },
  {
   "cell_type": "code",
   "execution_count": 31,
   "metadata": {},
   "outputs": [],
   "source": [
    "gene_lists = {'LUAD': {'has_event': luad_has_event, 'no_event': luad_no_event},\n",
    "             'HNSCC': {'has_event': hnscc_has_event, 'no_event': hnscc_no_event},\n",
    "             'OVARIAN': {'has_event': ovarian_has_event, 'no_event': ovarian_no_event},\n",
    "             'COLON': {'has_event': colon_has_event, 'no_event': colon_no_event},\n",
    "             'BRCA': {'has_event': brca_has_event, 'no_event': brca_no_event},\n",
    "             'LSCC': {'has_event': lscc_has_event, 'no_event': lscc_no_event}}"
   ]
  },
  {
   "cell_type": "code",
   "execution_count": 32,
   "metadata": {},
   "outputs": [
    {
     "name": "stdout",
     "output_type": "stream",
     "text": [
      "LUAD\n",
      "Yes 34 No 75\n",
      "HNSCC\n",
      "Yes 30 No 79\n",
      "OVARIAN\n",
      "Yes 51 No 49\n",
      "COLON\n",
      "Yes 41 No 64\n",
      "BRCA\n",
      "Yes 57 No 65\n",
      "LSCC\n",
      "Yes 44 No 66\n"
     ]
    }
   ],
   "source": [
    "print(\"LUAD\")\n",
    "print(\"Yes\", len(luad_has_event), \"No\", len(luad_no_event))\n",
    "print(\"HNSCC\")\n",
    "print(\"Yes\", len(hnscc_has_event), \"No\", len(hnscc_no_event))\n",
    "print(\"OVARIAN\")\n",
    "print(\"Yes\", len(ovarian_has_event), \"No\", len(ovarian_no_event))\n",
    "print(\"COLON\")\n",
    "print(\"Yes\", len(colon_has_event), \"No\", len(colon_no_event))\n",
    "print(\"BRCA\")\n",
    "print(\"Yes\", len(brca_has_event), \"No\", len(brca_no_event))\n",
    "print(\"LSCC\")\n",
    "print(\"Yes\", len(lscc_has_event), \"No\", len(lscc_no_event))"
   ]
  },
  {
   "cell_type": "markdown",
   "metadata": {},
   "source": [
    "## Run T Tests"
   ]
  },
  {
   "cell_type": "code",
   "execution_count": 33,
   "metadata": {},
   "outputs": [],
   "source": [
    "def t_test(col, cancer):\n",
    "    has_ev = col[col.index.isin(gene_lists[cancer]['has_event'])]\n",
    "    no_ev = col[col.index.isin(gene_lists[cancer]['no_event'])]\n",
    "    return stats.ttest_ind(has_ev, no_ev)"
   ]
  },
  {
   "cell_type": "code",
   "execution_count": 34,
   "metadata": {},
   "outputs": [
    {
     "name": "stderr",
     "output_type": "stream",
     "text": [
      "C:\\Users\\chels\\anaconda3\\lib\\site-packages\\scipy\\stats\\_distn_infrastructure.py:903: RuntimeWarning: invalid value encountered in greater\n",
      "  return (a < x) & (x < b)\n",
      "C:\\Users\\chels\\anaconda3\\lib\\site-packages\\scipy\\stats\\_distn_infrastructure.py:903: RuntimeWarning: invalid value encountered in less\n",
      "  return (a < x) & (x < b)\n",
      "C:\\Users\\chels\\anaconda3\\lib\\site-packages\\scipy\\stats\\_distn_infrastructure.py:1912: RuntimeWarning: invalid value encountered in less_equal\n",
      "  cond2 = cond0 & (x <= _a)\n"
     ]
    }
   ],
   "source": [
    "luad_t_test = luad_prot.apply(lambda x: t_test(x, \"LUAD\")).transpose()\n",
    "hnscc_t_test = hnscc_prot.apply(lambda x: t_test(x, \"HNSCC\")).transpose()\n",
    "ovarian_t_test = ovarian_prot.apply(lambda x: t_test(x, \"OVARIAN\")).transpose()\n",
    "colon_t_test = colon_prot.apply(lambda x: t_test(x, \"COLON\")).transpose()\n",
    "brca_t_test = brca_prot.apply(lambda x: t_test(x, \"BRCA\")).transpose()\n",
    "lscc_t_test = lscc_prot.apply(lambda x: t_test(x, \"LSCC\")).transpose()"
   ]
  },
  {
   "cell_type": "code",
   "execution_count": 35,
   "metadata": {},
   "outputs": [],
   "source": [
    "hnscc_t_test = hnscc_t_test.to_frame()\n",
    "hnscc_t_test['hnscc_stat'] = [x[0] for x in hnscc_t_test[0]]\n",
    "hnscc_t_test['hnscc_pvalue'] = [x[1] for x in hnscc_t_test[0]]"
   ]
  },
  {
   "cell_type": "code",
   "execution_count": 36,
   "metadata": {},
   "outputs": [],
   "source": [
    "colon_t_test = colon_t_test.to_frame()\n",
    "colon_t_test['colon_stat'] = [x[0] for x in colon_t_test[0]]\n",
    "colon_t_test['colon_pvalue'] = [x[1] for x in colon_t_test[0]]"
   ]
  },
  {
   "cell_type": "code",
   "execution_count": 37,
   "metadata": {},
   "outputs": [],
   "source": [
    "luad_t_test = luad_t_test.rename(columns={0:\"luad_stat\", 1:\"luad_pvalue\"})\n",
    "ovarian_t_test = ovarian_t_test.rename(columns={0:\"ovarian_stat\", 1:\"ovarian_pvalue\"})\n",
    "brca_t_test = brca_t_test.rename(columns={0:\"brca_stat\", 1:\"brca_pvalue\"})\n",
    "lscc_t_test = lscc_t_test.rename(columns={0:\"lscc_stat\", 1:\"lscc_pvalue\"})"
   ]
  },
  {
   "cell_type": "code",
   "execution_count": 38,
   "metadata": {},
   "outputs": [],
   "source": [
    "colon_t_test = colon_t_test.drop([0], axis=1)\n",
    "hnscc_t_test = hnscc_t_test.drop([0], axis=1)"
   ]
  },
  {
   "cell_type": "code",
   "execution_count": 39,
   "metadata": {},
   "outputs": [],
   "source": [
    "# Rename the database_id in the tables with multiindex\n",
    "luad_t_test.index = luad_t_test.index.rename(\"Database_ID_Luad\", level=1)\n",
    "ovarian_t_test.index = ovarian_t_test.index.rename(\"Database_ID_Ovarian\", level=1)\n",
    "brca_t_test.index = brca_t_test.index.rename(\"Database_ID_Brca\", level=1)\n",
    "lscc_t_test.index = lscc_t_test.index.rename(\"Database_ID_Lscc\", level=1)"
   ]
  },
  {
   "cell_type": "code",
   "execution_count": 40,
   "metadata": {},
   "outputs": [
    {
     "data": {
      "text/html": [
       "<div>\n",
       "<style scoped>\n",
       "    .dataframe tbody tr th:only-of-type {\n",
       "        vertical-align: middle;\n",
       "    }\n",
       "\n",
       "    .dataframe tbody tr th {\n",
       "        vertical-align: top;\n",
       "    }\n",
       "\n",
       "    .dataframe thead th {\n",
       "        text-align: right;\n",
       "    }\n",
       "</style>\n",
       "<table border=\"1\" class=\"dataframe\">\n",
       "  <thead>\n",
       "    <tr style=\"text-align: right;\">\n",
       "      <th></th>\n",
       "      <th></th>\n",
       "      <th>luad_stat</th>\n",
       "      <th>luad_pvalue</th>\n",
       "    </tr>\n",
       "    <tr>\n",
       "      <th>Name</th>\n",
       "      <th>Database_ID_Luad</th>\n",
       "      <th></th>\n",
       "      <th></th>\n",
       "    </tr>\n",
       "  </thead>\n",
       "  <tbody>\n",
       "    <tr>\n",
       "      <th>A1BG</th>\n",
       "      <th>NP_570602.2</th>\n",
       "      <td>-2.106105</td>\n",
       "      <td>0.037534</td>\n",
       "    </tr>\n",
       "    <tr>\n",
       "      <th>A2M</th>\n",
       "      <th>NP_000005.2|NP_001334353.1|NP_001334354.1|K4JDR8|K4JBA2|K4JB97</th>\n",
       "      <td>-1.659181</td>\n",
       "      <td>0.100008</td>\n",
       "    </tr>\n",
       "    <tr>\n",
       "      <th>AAAS</th>\n",
       "      <th>NP_056480.1|NP_001166937.1</th>\n",
       "      <td>2.025836</td>\n",
       "      <td>0.045270</td>\n",
       "    </tr>\n",
       "    <tr>\n",
       "      <th>AACS</th>\n",
       "      <th>NP_076417.2|NP_001306769.1|NP_001306768.1</th>\n",
       "      <td>-0.324608</td>\n",
       "      <td>0.746112</td>\n",
       "    </tr>\n",
       "    <tr>\n",
       "      <th>AADAC</th>\n",
       "      <th>NP_001077.2</th>\n",
       "      <td>NaN</td>\n",
       "      <td>NaN</td>\n",
       "    </tr>\n",
       "    <tr>\n",
       "      <th>...</th>\n",
       "      <th>...</th>\n",
       "      <td>...</td>\n",
       "      <td>...</td>\n",
       "    </tr>\n",
       "    <tr>\n",
       "      <th>ZXDC</th>\n",
       "      <th>NP_079388.3|NP_001035743.1</th>\n",
       "      <td>NaN</td>\n",
       "      <td>NaN</td>\n",
       "    </tr>\n",
       "    <tr>\n",
       "      <th>ZYG11B</th>\n",
       "      <th>NP_078922.1</th>\n",
       "      <td>3.776772</td>\n",
       "      <td>0.000261</td>\n",
       "    </tr>\n",
       "    <tr>\n",
       "      <th>ZYX</th>\n",
       "      <th>NP_001010972.1|NP_001349712.1</th>\n",
       "      <td>-0.732300</td>\n",
       "      <td>0.465586</td>\n",
       "    </tr>\n",
       "    <tr>\n",
       "      <th>ZZEF1</th>\n",
       "      <th>NP_055928.3</th>\n",
       "      <td>-2.337474</td>\n",
       "      <td>0.021275</td>\n",
       "    </tr>\n",
       "    <tr>\n",
       "      <th>ZZZ3</th>\n",
       "      <th>NP_056349.1|NP_001295166.1</th>\n",
       "      <td>NaN</td>\n",
       "      <td>NaN</td>\n",
       "    </tr>\n",
       "  </tbody>\n",
       "</table>\n",
       "<p>10699 rows × 2 columns</p>\n",
       "</div>"
      ],
      "text/plain": [
       "                                                           luad_stat  \\\n",
       "Name   Database_ID_Luad                                                \n",
       "A1BG   NP_570602.2                                         -2.106105   \n",
       "A2M    NP_000005.2|NP_001334353.1|NP_001334354.1|K4JDR...  -1.659181   \n",
       "AAAS   NP_056480.1|NP_001166937.1                           2.025836   \n",
       "AACS   NP_076417.2|NP_001306769.1|NP_001306768.1           -0.324608   \n",
       "AADAC  NP_001077.2                                               NaN   \n",
       "...                                                              ...   \n",
       "ZXDC   NP_079388.3|NP_001035743.1                                NaN   \n",
       "ZYG11B NP_078922.1                                          3.776772   \n",
       "ZYX    NP_001010972.1|NP_001349712.1                       -0.732300   \n",
       "ZZEF1  NP_055928.3                                         -2.337474   \n",
       "ZZZ3   NP_056349.1|NP_001295166.1                                NaN   \n",
       "\n",
       "                                                           luad_pvalue  \n",
       "Name   Database_ID_Luad                                                 \n",
       "A1BG   NP_570602.2                                            0.037534  \n",
       "A2M    NP_000005.2|NP_001334353.1|NP_001334354.1|K4JDR...     0.100008  \n",
       "AAAS   NP_056480.1|NP_001166937.1                             0.045270  \n",
       "AACS   NP_076417.2|NP_001306769.1|NP_001306768.1              0.746112  \n",
       "AADAC  NP_001077.2                                                 NaN  \n",
       "...                                                                ...  \n",
       "ZXDC   NP_079388.3|NP_001035743.1                                  NaN  \n",
       "ZYG11B NP_078922.1                                            0.000261  \n",
       "ZYX    NP_001010972.1|NP_001349712.1                          0.465586  \n",
       "ZZEF1  NP_055928.3                                            0.021275  \n",
       "ZZZ3   NP_056349.1|NP_001295166.1                                  NaN  \n",
       "\n",
       "[10699 rows x 2 columns]"
      ]
     },
     "execution_count": 40,
     "metadata": {},
     "output_type": "execute_result"
    }
   ],
   "source": [
    "luad_t_test"
   ]
  },
  {
   "cell_type": "code",
   "execution_count": 41,
   "metadata": {},
   "outputs": [],
   "source": [
    "results = colon_t_test.join(brca_t_test).join(luad_t_test).join(hnscc_t_test).join(ovarian_t_test).join(lscc_t_test)"
   ]
  },
  {
   "cell_type": "code",
   "execution_count": 42,
   "metadata": {
    "scrolled": true
   },
   "outputs": [
    {
     "data": {
      "text/html": [
       "<div>\n",
       "<style scoped>\n",
       "    .dataframe tbody tr th:only-of-type {\n",
       "        vertical-align: middle;\n",
       "    }\n",
       "\n",
       "    .dataframe tbody tr th {\n",
       "        vertical-align: top;\n",
       "    }\n",
       "\n",
       "    .dataframe thead th {\n",
       "        text-align: right;\n",
       "    }\n",
       "</style>\n",
       "<table border=\"1\" class=\"dataframe\">\n",
       "  <thead>\n",
       "    <tr style=\"text-align: right;\">\n",
       "      <th></th>\n",
       "      <th></th>\n",
       "      <th></th>\n",
       "      <th></th>\n",
       "      <th></th>\n",
       "      <th>colon_stat</th>\n",
       "      <th>colon_pvalue</th>\n",
       "      <th>brca_stat</th>\n",
       "      <th>brca_pvalue</th>\n",
       "      <th>luad_stat</th>\n",
       "      <th>luad_pvalue</th>\n",
       "      <th>hnscc_stat</th>\n",
       "      <th>hnscc_pvalue</th>\n",
       "      <th>ovarian_stat</th>\n",
       "      <th>ovarian_pvalue</th>\n",
       "      <th>lscc_stat</th>\n",
       "      <th>lscc_pvalue</th>\n",
       "    </tr>\n",
       "    <tr>\n",
       "      <th>Name</th>\n",
       "      <th>Database_ID_Brca</th>\n",
       "      <th>Database_ID_Luad</th>\n",
       "      <th>Database_ID_Ovarian</th>\n",
       "      <th>Database_ID_Lscc</th>\n",
       "      <th></th>\n",
       "      <th></th>\n",
       "      <th></th>\n",
       "      <th></th>\n",
       "      <th></th>\n",
       "      <th></th>\n",
       "      <th></th>\n",
       "      <th></th>\n",
       "      <th></th>\n",
       "      <th></th>\n",
       "      <th></th>\n",
       "      <th></th>\n",
       "    </tr>\n",
       "  </thead>\n",
       "  <tbody>\n",
       "    <tr>\n",
       "      <th>A1BG</th>\n",
       "      <th>NP_570602.2</th>\n",
       "      <th>NP_570602.2</th>\n",
       "      <th>NP_570602</th>\n",
       "      <th>NP_570602.2</th>\n",
       "      <td>-0.776148</td>\n",
       "      <td>0.439631</td>\n",
       "      <td>-0.406598</td>\n",
       "      <td>0.685027</td>\n",
       "      <td>-2.106105</td>\n",
       "      <td>0.037534</td>\n",
       "      <td>-0.524098</td>\n",
       "      <td>0.601315</td>\n",
       "      <td>-2.071575</td>\n",
       "      <td>0.041569</td>\n",
       "      <td>0.332903</td>\n",
       "      <td>0.739853</td>\n",
       "    </tr>\n",
       "    <tr>\n",
       "      <th>A2M</th>\n",
       "      <th>NP_000005.2</th>\n",
       "      <th>NP_000005.2|NP_001334353.1|NP_001334354.1|K4JDR8|K4JBA2|K4JB97</th>\n",
       "      <th>NP_000005</th>\n",
       "      <th>NP_000005.2|NP_001334353.1|NP_001334354.1</th>\n",
       "      <td>-0.642746</td>\n",
       "      <td>0.521970</td>\n",
       "      <td>1.138378</td>\n",
       "      <td>0.257230</td>\n",
       "      <td>-1.659181</td>\n",
       "      <td>0.100008</td>\n",
       "      <td>-0.827940</td>\n",
       "      <td>0.409582</td>\n",
       "      <td>-1.354312</td>\n",
       "      <td>0.179498</td>\n",
       "      <td>-0.087939</td>\n",
       "      <td>0.930088</td>\n",
       "    </tr>\n",
       "    <tr>\n",
       "      <th>AAAS</th>\n",
       "      <th>NP_056480.1|NP_001166937.1</th>\n",
       "      <th>NP_056480.1|NP_001166937.1</th>\n",
       "      <th>NP_056480</th>\n",
       "      <th>NP_056480.1|NP_001166937.1</th>\n",
       "      <td>-1.255958</td>\n",
       "      <td>0.212277</td>\n",
       "      <td>0.465778</td>\n",
       "      <td>0.642219</td>\n",
       "      <td>2.025836</td>\n",
       "      <td>0.045270</td>\n",
       "      <td>0.457096</td>\n",
       "      <td>0.648547</td>\n",
       "      <td>0.603158</td>\n",
       "      <td>0.548131</td>\n",
       "      <td>2.530184</td>\n",
       "      <td>0.012842</td>\n",
       "    </tr>\n",
       "    <tr>\n",
       "      <th>AACS</th>\n",
       "      <th>NP_076417.2|NP_001306769.1|NP_001306768.1</th>\n",
       "      <th>NP_076417.2|NP_001306769.1|NP_001306768.1</th>\n",
       "      <th>NP_076417</th>\n",
       "      <th>NP_076417.2|NP_001306769.1|NP_001306768.1</th>\n",
       "      <td>1.174412</td>\n",
       "      <td>0.243228</td>\n",
       "      <td>0.361501</td>\n",
       "      <td>0.718361</td>\n",
       "      <td>-0.324608</td>\n",
       "      <td>0.746112</td>\n",
       "      <td>0.403818</td>\n",
       "      <td>0.687168</td>\n",
       "      <td>1.120121</td>\n",
       "      <td>0.266056</td>\n",
       "      <td>-0.385140</td>\n",
       "      <td>0.700891</td>\n",
       "    </tr>\n",
       "    <tr>\n",
       "      <th>AAGAB</th>\n",
       "      <th>NP_078942.3|NP_001258815.1</th>\n",
       "      <th>NP_078942.3|NP_001258814.1</th>\n",
       "      <th>NP_078942</th>\n",
       "      <th>NP_078942.3|NP_001258814.1</th>\n",
       "      <td>-1.005779</td>\n",
       "      <td>0.317132</td>\n",
       "      <td>2.132458</td>\n",
       "      <td>0.035007</td>\n",
       "      <td>-0.782760</td>\n",
       "      <td>0.435497</td>\n",
       "      <td>-0.356246</td>\n",
       "      <td>0.722371</td>\n",
       "      <td>0.623615</td>\n",
       "      <td>0.534677</td>\n",
       "      <td>1.189803</td>\n",
       "      <td>0.236733</td>\n",
       "    </tr>\n",
       "    <tr>\n",
       "      <th>...</th>\n",
       "      <th>...</th>\n",
       "      <th>...</th>\n",
       "      <th>...</th>\n",
       "      <th>...</th>\n",
       "      <td>...</td>\n",
       "      <td>...</td>\n",
       "      <td>...</td>\n",
       "      <td>...</td>\n",
       "      <td>...</td>\n",
       "      <td>...</td>\n",
       "      <td>...</td>\n",
       "      <td>...</td>\n",
       "      <td>...</td>\n",
       "      <td>...</td>\n",
       "      <td>...</td>\n",
       "      <td>...</td>\n",
       "    </tr>\n",
       "    <tr>\n",
       "      <th>ZW10</th>\n",
       "      <th>NP_004715.1</th>\n",
       "      <th>NP_004715.1</th>\n",
       "      <th>NP_004715</th>\n",
       "      <th>NP_004715.1</th>\n",
       "      <td>0.400157</td>\n",
       "      <td>0.689958</td>\n",
       "      <td>-1.636848</td>\n",
       "      <td>0.104282</td>\n",
       "      <td>0.520096</td>\n",
       "      <td>0.604071</td>\n",
       "      <td>-1.173344</td>\n",
       "      <td>0.243313</td>\n",
       "      <td>0.418257</td>\n",
       "      <td>0.676894</td>\n",
       "      <td>-0.857635</td>\n",
       "      <td>0.392993</td>\n",
       "    </tr>\n",
       "    <tr>\n",
       "      <th>ZWILCH</th>\n",
       "      <th>NP_060445.3|NP_001274750.1</th>\n",
       "      <th>NP_060445.3|NP_001274750.1</th>\n",
       "      <th>NP_060445</th>\n",
       "      <th>NP_060445.3|NP_001274750.1</th>\n",
       "      <td>NaN</td>\n",
       "      <td>NaN</td>\n",
       "      <td>1.140154</td>\n",
       "      <td>0.256493</td>\n",
       "      <td>NaN</td>\n",
       "      <td>NaN</td>\n",
       "      <td>0.363134</td>\n",
       "      <td>0.717235</td>\n",
       "      <td>1.055499</td>\n",
       "      <td>0.294415</td>\n",
       "      <td>2.615700</td>\n",
       "      <td>0.010178</td>\n",
       "    </tr>\n",
       "    <tr>\n",
       "      <th>ZWINT</th>\n",
       "      <th>NP_008988.2|NP_001005413.1</th>\n",
       "      <th>NP_008988.2|NP_001005413.1</th>\n",
       "      <th>NP_008988</th>\n",
       "      <th>NP_008988.2|NP_001005413.1</th>\n",
       "      <td>NaN</td>\n",
       "      <td>NaN</td>\n",
       "      <td>0.283090</td>\n",
       "      <td>0.777596</td>\n",
       "      <td>NaN</td>\n",
       "      <td>NaN</td>\n",
       "      <td>NaN</td>\n",
       "      <td>NaN</td>\n",
       "      <td>NaN</td>\n",
       "      <td>NaN</td>\n",
       "      <td>NaN</td>\n",
       "      <td>NaN</td>\n",
       "    </tr>\n",
       "    <tr>\n",
       "      <th>ZYX</th>\n",
       "      <th>NP_001010972.1</th>\n",
       "      <th>NP_001010972.1|NP_001349712.1</th>\n",
       "      <th>NP_001010972</th>\n",
       "      <th>NP_001010972.1|NP_001349712.1</th>\n",
       "      <td>0.130057</td>\n",
       "      <td>0.896802</td>\n",
       "      <td>-0.638963</td>\n",
       "      <td>0.524065</td>\n",
       "      <td>-0.732300</td>\n",
       "      <td>0.465586</td>\n",
       "      <td>0.764457</td>\n",
       "      <td>0.446310</td>\n",
       "      <td>0.402358</td>\n",
       "      <td>0.688507</td>\n",
       "      <td>-1.427830</td>\n",
       "      <td>0.156226</td>\n",
       "    </tr>\n",
       "    <tr>\n",
       "      <th>ZZEF1</th>\n",
       "      <th>NP_055928.3</th>\n",
       "      <th>NP_055928.3</th>\n",
       "      <th>NP_055928</th>\n",
       "      <th>NP_055928.3</th>\n",
       "      <td>-1.177370</td>\n",
       "      <td>0.242052</td>\n",
       "      <td>-0.978962</td>\n",
       "      <td>0.329568</td>\n",
       "      <td>-2.337474</td>\n",
       "      <td>0.021275</td>\n",
       "      <td>-3.668494</td>\n",
       "      <td>0.000385</td>\n",
       "      <td>0.596546</td>\n",
       "      <td>0.552516</td>\n",
       "      <td>-4.650392</td>\n",
       "      <td>0.000009</td>\n",
       "    </tr>\n",
       "  </tbody>\n",
       "</table>\n",
       "<p>12476 rows × 12 columns</p>\n",
       "</div>"
      ],
      "text/plain": [
       "                                                                                                                                                                   colon_stat  \\\n",
       "Name   Database_ID_Brca                          Database_ID_Luad                                   Database_ID_Ovarian Database_ID_Lscc                                        \n",
       "A1BG   NP_570602.2                               NP_570602.2                                        NP_570602           NP_570602.2                                 -0.776148   \n",
       "A2M    NP_000005.2                               NP_000005.2|NP_001334353.1|NP_001334354.1|K4JDR... NP_000005           NP_000005.2|NP_001334353.1|NP_001334354.1   -0.642746   \n",
       "AAAS   NP_056480.1|NP_001166937.1                NP_056480.1|NP_001166937.1                         NP_056480           NP_056480.1|NP_001166937.1                  -1.255958   \n",
       "AACS   NP_076417.2|NP_001306769.1|NP_001306768.1 NP_076417.2|NP_001306769.1|NP_001306768.1          NP_076417           NP_076417.2|NP_001306769.1|NP_001306768.1    1.174412   \n",
       "AAGAB  NP_078942.3|NP_001258815.1                NP_078942.3|NP_001258814.1                         NP_078942           NP_078942.3|NP_001258814.1                  -1.005779   \n",
       "...                                                                                                                                                                       ...   \n",
       "ZW10   NP_004715.1                               NP_004715.1                                        NP_004715           NP_004715.1                                  0.400157   \n",
       "ZWILCH NP_060445.3|NP_001274750.1                NP_060445.3|NP_001274750.1                         NP_060445           NP_060445.3|NP_001274750.1                        NaN   \n",
       "ZWINT  NP_008988.2|NP_001005413.1                NP_008988.2|NP_001005413.1                         NP_008988           NP_008988.2|NP_001005413.1                        NaN   \n",
       "ZYX    NP_001010972.1                            NP_001010972.1|NP_001349712.1                      NP_001010972        NP_001010972.1|NP_001349712.1                0.130057   \n",
       "ZZEF1  NP_055928.3                               NP_055928.3                                        NP_055928           NP_055928.3                                 -1.177370   \n",
       "\n",
       "                                                                                                                                                                   colon_pvalue  \\\n",
       "Name   Database_ID_Brca                          Database_ID_Luad                                   Database_ID_Ovarian Database_ID_Lscc                                          \n",
       "A1BG   NP_570602.2                               NP_570602.2                                        NP_570602           NP_570602.2                                    0.439631   \n",
       "A2M    NP_000005.2                               NP_000005.2|NP_001334353.1|NP_001334354.1|K4JDR... NP_000005           NP_000005.2|NP_001334353.1|NP_001334354.1      0.521970   \n",
       "AAAS   NP_056480.1|NP_001166937.1                NP_056480.1|NP_001166937.1                         NP_056480           NP_056480.1|NP_001166937.1                     0.212277   \n",
       "AACS   NP_076417.2|NP_001306769.1|NP_001306768.1 NP_076417.2|NP_001306769.1|NP_001306768.1          NP_076417           NP_076417.2|NP_001306769.1|NP_001306768.1      0.243228   \n",
       "AAGAB  NP_078942.3|NP_001258815.1                NP_078942.3|NP_001258814.1                         NP_078942           NP_078942.3|NP_001258814.1                     0.317132   \n",
       "...                                                                                                                                                                         ...   \n",
       "ZW10   NP_004715.1                               NP_004715.1                                        NP_004715           NP_004715.1                                    0.689958   \n",
       "ZWILCH NP_060445.3|NP_001274750.1                NP_060445.3|NP_001274750.1                         NP_060445           NP_060445.3|NP_001274750.1                          NaN   \n",
       "ZWINT  NP_008988.2|NP_001005413.1                NP_008988.2|NP_001005413.1                         NP_008988           NP_008988.2|NP_001005413.1                          NaN   \n",
       "ZYX    NP_001010972.1                            NP_001010972.1|NP_001349712.1                      NP_001010972        NP_001010972.1|NP_001349712.1                  0.896802   \n",
       "ZZEF1  NP_055928.3                               NP_055928.3                                        NP_055928           NP_055928.3                                    0.242052   \n",
       "\n",
       "                                                                                                                                                                   brca_stat  \\\n",
       "Name   Database_ID_Brca                          Database_ID_Luad                                   Database_ID_Ovarian Database_ID_Lscc                                       \n",
       "A1BG   NP_570602.2                               NP_570602.2                                        NP_570602           NP_570602.2                                -0.406598   \n",
       "A2M    NP_000005.2                               NP_000005.2|NP_001334353.1|NP_001334354.1|K4JDR... NP_000005           NP_000005.2|NP_001334353.1|NP_001334354.1   1.138378   \n",
       "AAAS   NP_056480.1|NP_001166937.1                NP_056480.1|NP_001166937.1                         NP_056480           NP_056480.1|NP_001166937.1                  0.465778   \n",
       "AACS   NP_076417.2|NP_001306769.1|NP_001306768.1 NP_076417.2|NP_001306769.1|NP_001306768.1          NP_076417           NP_076417.2|NP_001306769.1|NP_001306768.1   0.361501   \n",
       "AAGAB  NP_078942.3|NP_001258815.1                NP_078942.3|NP_001258814.1                         NP_078942           NP_078942.3|NP_001258814.1                  2.132458   \n",
       "...                                                                                                                                                                      ...   \n",
       "ZW10   NP_004715.1                               NP_004715.1                                        NP_004715           NP_004715.1                                -1.636848   \n",
       "ZWILCH NP_060445.3|NP_001274750.1                NP_060445.3|NP_001274750.1                         NP_060445           NP_060445.3|NP_001274750.1                  1.140154   \n",
       "ZWINT  NP_008988.2|NP_001005413.1                NP_008988.2|NP_001005413.1                         NP_008988           NP_008988.2|NP_001005413.1                  0.283090   \n",
       "ZYX    NP_001010972.1                            NP_001010972.1|NP_001349712.1                      NP_001010972        NP_001010972.1|NP_001349712.1              -0.638963   \n",
       "ZZEF1  NP_055928.3                               NP_055928.3                                        NP_055928           NP_055928.3                                -0.978962   \n",
       "\n",
       "                                                                                                                                                                   brca_pvalue  \\\n",
       "Name   Database_ID_Brca                          Database_ID_Luad                                   Database_ID_Ovarian Database_ID_Lscc                                         \n",
       "A1BG   NP_570602.2                               NP_570602.2                                        NP_570602           NP_570602.2                                   0.685027   \n",
       "A2M    NP_000005.2                               NP_000005.2|NP_001334353.1|NP_001334354.1|K4JDR... NP_000005           NP_000005.2|NP_001334353.1|NP_001334354.1     0.257230   \n",
       "AAAS   NP_056480.1|NP_001166937.1                NP_056480.1|NP_001166937.1                         NP_056480           NP_056480.1|NP_001166937.1                    0.642219   \n",
       "AACS   NP_076417.2|NP_001306769.1|NP_001306768.1 NP_076417.2|NP_001306769.1|NP_001306768.1          NP_076417           NP_076417.2|NP_001306769.1|NP_001306768.1     0.718361   \n",
       "AAGAB  NP_078942.3|NP_001258815.1                NP_078942.3|NP_001258814.1                         NP_078942           NP_078942.3|NP_001258814.1                    0.035007   \n",
       "...                                                                                                                                                                        ...   \n",
       "ZW10   NP_004715.1                               NP_004715.1                                        NP_004715           NP_004715.1                                   0.104282   \n",
       "ZWILCH NP_060445.3|NP_001274750.1                NP_060445.3|NP_001274750.1                         NP_060445           NP_060445.3|NP_001274750.1                    0.256493   \n",
       "ZWINT  NP_008988.2|NP_001005413.1                NP_008988.2|NP_001005413.1                         NP_008988           NP_008988.2|NP_001005413.1                    0.777596   \n",
       "ZYX    NP_001010972.1                            NP_001010972.1|NP_001349712.1                      NP_001010972        NP_001010972.1|NP_001349712.1                 0.524065   \n",
       "ZZEF1  NP_055928.3                               NP_055928.3                                        NP_055928           NP_055928.3                                   0.329568   \n",
       "\n",
       "                                                                                                                                                                   luad_stat  \\\n",
       "Name   Database_ID_Brca                          Database_ID_Luad                                   Database_ID_Ovarian Database_ID_Lscc                                       \n",
       "A1BG   NP_570602.2                               NP_570602.2                                        NP_570602           NP_570602.2                                -2.106105   \n",
       "A2M    NP_000005.2                               NP_000005.2|NP_001334353.1|NP_001334354.1|K4JDR... NP_000005           NP_000005.2|NP_001334353.1|NP_001334354.1  -1.659181   \n",
       "AAAS   NP_056480.1|NP_001166937.1                NP_056480.1|NP_001166937.1                         NP_056480           NP_056480.1|NP_001166937.1                  2.025836   \n",
       "AACS   NP_076417.2|NP_001306769.1|NP_001306768.1 NP_076417.2|NP_001306769.1|NP_001306768.1          NP_076417           NP_076417.2|NP_001306769.1|NP_001306768.1  -0.324608   \n",
       "AAGAB  NP_078942.3|NP_001258815.1                NP_078942.3|NP_001258814.1                         NP_078942           NP_078942.3|NP_001258814.1                 -0.782760   \n",
       "...                                                                                                                                                                      ...   \n",
       "ZW10   NP_004715.1                               NP_004715.1                                        NP_004715           NP_004715.1                                 0.520096   \n",
       "ZWILCH NP_060445.3|NP_001274750.1                NP_060445.3|NP_001274750.1                         NP_060445           NP_060445.3|NP_001274750.1                       NaN   \n",
       "ZWINT  NP_008988.2|NP_001005413.1                NP_008988.2|NP_001005413.1                         NP_008988           NP_008988.2|NP_001005413.1                       NaN   \n",
       "ZYX    NP_001010972.1                            NP_001010972.1|NP_001349712.1                      NP_001010972        NP_001010972.1|NP_001349712.1              -0.732300   \n",
       "ZZEF1  NP_055928.3                               NP_055928.3                                        NP_055928           NP_055928.3                                -2.337474   \n",
       "\n",
       "                                                                                                                                                                   luad_pvalue  \\\n",
       "Name   Database_ID_Brca                          Database_ID_Luad                                   Database_ID_Ovarian Database_ID_Lscc                                         \n",
       "A1BG   NP_570602.2                               NP_570602.2                                        NP_570602           NP_570602.2                                   0.037534   \n",
       "A2M    NP_000005.2                               NP_000005.2|NP_001334353.1|NP_001334354.1|K4JDR... NP_000005           NP_000005.2|NP_001334353.1|NP_001334354.1     0.100008   \n",
       "AAAS   NP_056480.1|NP_001166937.1                NP_056480.1|NP_001166937.1                         NP_056480           NP_056480.1|NP_001166937.1                    0.045270   \n",
       "AACS   NP_076417.2|NP_001306769.1|NP_001306768.1 NP_076417.2|NP_001306769.1|NP_001306768.1          NP_076417           NP_076417.2|NP_001306769.1|NP_001306768.1     0.746112   \n",
       "AAGAB  NP_078942.3|NP_001258815.1                NP_078942.3|NP_001258814.1                         NP_078942           NP_078942.3|NP_001258814.1                    0.435497   \n",
       "...                                                                                                                                                                        ...   \n",
       "ZW10   NP_004715.1                               NP_004715.1                                        NP_004715           NP_004715.1                                   0.604071   \n",
       "ZWILCH NP_060445.3|NP_001274750.1                NP_060445.3|NP_001274750.1                         NP_060445           NP_060445.3|NP_001274750.1                         NaN   \n",
       "ZWINT  NP_008988.2|NP_001005413.1                NP_008988.2|NP_001005413.1                         NP_008988           NP_008988.2|NP_001005413.1                         NaN   \n",
       "ZYX    NP_001010972.1                            NP_001010972.1|NP_001349712.1                      NP_001010972        NP_001010972.1|NP_001349712.1                 0.465586   \n",
       "ZZEF1  NP_055928.3                               NP_055928.3                                        NP_055928           NP_055928.3                                   0.021275   \n",
       "\n",
       "                                                                                                                                                                   hnscc_stat  \\\n",
       "Name   Database_ID_Brca                          Database_ID_Luad                                   Database_ID_Ovarian Database_ID_Lscc                                        \n",
       "A1BG   NP_570602.2                               NP_570602.2                                        NP_570602           NP_570602.2                                 -0.524098   \n",
       "A2M    NP_000005.2                               NP_000005.2|NP_001334353.1|NP_001334354.1|K4JDR... NP_000005           NP_000005.2|NP_001334353.1|NP_001334354.1   -0.827940   \n",
       "AAAS   NP_056480.1|NP_001166937.1                NP_056480.1|NP_001166937.1                         NP_056480           NP_056480.1|NP_001166937.1                   0.457096   \n",
       "AACS   NP_076417.2|NP_001306769.1|NP_001306768.1 NP_076417.2|NP_001306769.1|NP_001306768.1          NP_076417           NP_076417.2|NP_001306769.1|NP_001306768.1    0.403818   \n",
       "AAGAB  NP_078942.3|NP_001258815.1                NP_078942.3|NP_001258814.1                         NP_078942           NP_078942.3|NP_001258814.1                  -0.356246   \n",
       "...                                                                                                                                                                       ...   \n",
       "ZW10   NP_004715.1                               NP_004715.1                                        NP_004715           NP_004715.1                                 -1.173344   \n",
       "ZWILCH NP_060445.3|NP_001274750.1                NP_060445.3|NP_001274750.1                         NP_060445           NP_060445.3|NP_001274750.1                   0.363134   \n",
       "ZWINT  NP_008988.2|NP_001005413.1                NP_008988.2|NP_001005413.1                         NP_008988           NP_008988.2|NP_001005413.1                        NaN   \n",
       "ZYX    NP_001010972.1                            NP_001010972.1|NP_001349712.1                      NP_001010972        NP_001010972.1|NP_001349712.1                0.764457   \n",
       "ZZEF1  NP_055928.3                               NP_055928.3                                        NP_055928           NP_055928.3                                 -3.668494   \n",
       "\n",
       "                                                                                                                                                                   hnscc_pvalue  \\\n",
       "Name   Database_ID_Brca                          Database_ID_Luad                                   Database_ID_Ovarian Database_ID_Lscc                                          \n",
       "A1BG   NP_570602.2                               NP_570602.2                                        NP_570602           NP_570602.2                                    0.601315   \n",
       "A2M    NP_000005.2                               NP_000005.2|NP_001334353.1|NP_001334354.1|K4JDR... NP_000005           NP_000005.2|NP_001334353.1|NP_001334354.1      0.409582   \n",
       "AAAS   NP_056480.1|NP_001166937.1                NP_056480.1|NP_001166937.1                         NP_056480           NP_056480.1|NP_001166937.1                     0.648547   \n",
       "AACS   NP_076417.2|NP_001306769.1|NP_001306768.1 NP_076417.2|NP_001306769.1|NP_001306768.1          NP_076417           NP_076417.2|NP_001306769.1|NP_001306768.1      0.687168   \n",
       "AAGAB  NP_078942.3|NP_001258815.1                NP_078942.3|NP_001258814.1                         NP_078942           NP_078942.3|NP_001258814.1                     0.722371   \n",
       "...                                                                                                                                                                         ...   \n",
       "ZW10   NP_004715.1                               NP_004715.1                                        NP_004715           NP_004715.1                                    0.243313   \n",
       "ZWILCH NP_060445.3|NP_001274750.1                NP_060445.3|NP_001274750.1                         NP_060445           NP_060445.3|NP_001274750.1                     0.717235   \n",
       "ZWINT  NP_008988.2|NP_001005413.1                NP_008988.2|NP_001005413.1                         NP_008988           NP_008988.2|NP_001005413.1                          NaN   \n",
       "ZYX    NP_001010972.1                            NP_001010972.1|NP_001349712.1                      NP_001010972        NP_001010972.1|NP_001349712.1                  0.446310   \n",
       "ZZEF1  NP_055928.3                               NP_055928.3                                        NP_055928           NP_055928.3                                    0.000385   \n",
       "\n",
       "                                                                                                                                                                   ovarian_stat  \\\n",
       "Name   Database_ID_Brca                          Database_ID_Luad                                   Database_ID_Ovarian Database_ID_Lscc                                          \n",
       "A1BG   NP_570602.2                               NP_570602.2                                        NP_570602           NP_570602.2                                   -2.071575   \n",
       "A2M    NP_000005.2                               NP_000005.2|NP_001334353.1|NP_001334354.1|K4JDR... NP_000005           NP_000005.2|NP_001334353.1|NP_001334354.1     -1.354312   \n",
       "AAAS   NP_056480.1|NP_001166937.1                NP_056480.1|NP_001166937.1                         NP_056480           NP_056480.1|NP_001166937.1                     0.603158   \n",
       "AACS   NP_076417.2|NP_001306769.1|NP_001306768.1 NP_076417.2|NP_001306769.1|NP_001306768.1          NP_076417           NP_076417.2|NP_001306769.1|NP_001306768.1      1.120121   \n",
       "AAGAB  NP_078942.3|NP_001258815.1                NP_078942.3|NP_001258814.1                         NP_078942           NP_078942.3|NP_001258814.1                     0.623615   \n",
       "...                                                                                                                                                                         ...   \n",
       "ZW10   NP_004715.1                               NP_004715.1                                        NP_004715           NP_004715.1                                    0.418257   \n",
       "ZWILCH NP_060445.3|NP_001274750.1                NP_060445.3|NP_001274750.1                         NP_060445           NP_060445.3|NP_001274750.1                     1.055499   \n",
       "ZWINT  NP_008988.2|NP_001005413.1                NP_008988.2|NP_001005413.1                         NP_008988           NP_008988.2|NP_001005413.1                          NaN   \n",
       "ZYX    NP_001010972.1                            NP_001010972.1|NP_001349712.1                      NP_001010972        NP_001010972.1|NP_001349712.1                  0.402358   \n",
       "ZZEF1  NP_055928.3                               NP_055928.3                                        NP_055928           NP_055928.3                                    0.596546   \n",
       "\n",
       "                                                                                                                                                                   ovarian_pvalue  \\\n",
       "Name   Database_ID_Brca                          Database_ID_Luad                                   Database_ID_Ovarian Database_ID_Lscc                                            \n",
       "A1BG   NP_570602.2                               NP_570602.2                                        NP_570602           NP_570602.2                                      0.041569   \n",
       "A2M    NP_000005.2                               NP_000005.2|NP_001334353.1|NP_001334354.1|K4JDR... NP_000005           NP_000005.2|NP_001334353.1|NP_001334354.1        0.179498   \n",
       "AAAS   NP_056480.1|NP_001166937.1                NP_056480.1|NP_001166937.1                         NP_056480           NP_056480.1|NP_001166937.1                       0.548131   \n",
       "AACS   NP_076417.2|NP_001306769.1|NP_001306768.1 NP_076417.2|NP_001306769.1|NP_001306768.1          NP_076417           NP_076417.2|NP_001306769.1|NP_001306768.1        0.266056   \n",
       "AAGAB  NP_078942.3|NP_001258815.1                NP_078942.3|NP_001258814.1                         NP_078942           NP_078942.3|NP_001258814.1                       0.534677   \n",
       "...                                                                                                                                                                           ...   \n",
       "ZW10   NP_004715.1                               NP_004715.1                                        NP_004715           NP_004715.1                                      0.676894   \n",
       "ZWILCH NP_060445.3|NP_001274750.1                NP_060445.3|NP_001274750.1                         NP_060445           NP_060445.3|NP_001274750.1                       0.294415   \n",
       "ZWINT  NP_008988.2|NP_001005413.1                NP_008988.2|NP_001005413.1                         NP_008988           NP_008988.2|NP_001005413.1                            NaN   \n",
       "ZYX    NP_001010972.1                            NP_001010972.1|NP_001349712.1                      NP_001010972        NP_001010972.1|NP_001349712.1                    0.688507   \n",
       "ZZEF1  NP_055928.3                               NP_055928.3                                        NP_055928           NP_055928.3                                      0.552516   \n",
       "\n",
       "                                                                                                                                                                   lscc_stat  \\\n",
       "Name   Database_ID_Brca                          Database_ID_Luad                                   Database_ID_Ovarian Database_ID_Lscc                                       \n",
       "A1BG   NP_570602.2                               NP_570602.2                                        NP_570602           NP_570602.2                                 0.332903   \n",
       "A2M    NP_000005.2                               NP_000005.2|NP_001334353.1|NP_001334354.1|K4JDR... NP_000005           NP_000005.2|NP_001334353.1|NP_001334354.1  -0.087939   \n",
       "AAAS   NP_056480.1|NP_001166937.1                NP_056480.1|NP_001166937.1                         NP_056480           NP_056480.1|NP_001166937.1                  2.530184   \n",
       "AACS   NP_076417.2|NP_001306769.1|NP_001306768.1 NP_076417.2|NP_001306769.1|NP_001306768.1          NP_076417           NP_076417.2|NP_001306769.1|NP_001306768.1  -0.385140   \n",
       "AAGAB  NP_078942.3|NP_001258815.1                NP_078942.3|NP_001258814.1                         NP_078942           NP_078942.3|NP_001258814.1                  1.189803   \n",
       "...                                                                                                                                                                      ...   \n",
       "ZW10   NP_004715.1                               NP_004715.1                                        NP_004715           NP_004715.1                                -0.857635   \n",
       "ZWILCH NP_060445.3|NP_001274750.1                NP_060445.3|NP_001274750.1                         NP_060445           NP_060445.3|NP_001274750.1                  2.615700   \n",
       "ZWINT  NP_008988.2|NP_001005413.1                NP_008988.2|NP_001005413.1                         NP_008988           NP_008988.2|NP_001005413.1                       NaN   \n",
       "ZYX    NP_001010972.1                            NP_001010972.1|NP_001349712.1                      NP_001010972        NP_001010972.1|NP_001349712.1              -1.427830   \n",
       "ZZEF1  NP_055928.3                               NP_055928.3                                        NP_055928           NP_055928.3                                -4.650392   \n",
       "\n",
       "                                                                                                                                                                   lscc_pvalue  \n",
       "Name   Database_ID_Brca                          Database_ID_Luad                                   Database_ID_Ovarian Database_ID_Lscc                                        \n",
       "A1BG   NP_570602.2                               NP_570602.2                                        NP_570602           NP_570602.2                                   0.739853  \n",
       "A2M    NP_000005.2                               NP_000005.2|NP_001334353.1|NP_001334354.1|K4JDR... NP_000005           NP_000005.2|NP_001334353.1|NP_001334354.1     0.930088  \n",
       "AAAS   NP_056480.1|NP_001166937.1                NP_056480.1|NP_001166937.1                         NP_056480           NP_056480.1|NP_001166937.1                    0.012842  \n",
       "AACS   NP_076417.2|NP_001306769.1|NP_001306768.1 NP_076417.2|NP_001306769.1|NP_001306768.1          NP_076417           NP_076417.2|NP_001306769.1|NP_001306768.1     0.700891  \n",
       "AAGAB  NP_078942.3|NP_001258815.1                NP_078942.3|NP_001258814.1                         NP_078942           NP_078942.3|NP_001258814.1                    0.236733  \n",
       "...                                                                                                                                                                        ...  \n",
       "ZW10   NP_004715.1                               NP_004715.1                                        NP_004715           NP_004715.1                                   0.392993  \n",
       "ZWILCH NP_060445.3|NP_001274750.1                NP_060445.3|NP_001274750.1                         NP_060445           NP_060445.3|NP_001274750.1                    0.010178  \n",
       "ZWINT  NP_008988.2|NP_001005413.1                NP_008988.2|NP_001005413.1                         NP_008988           NP_008988.2|NP_001005413.1                         NaN  \n",
       "ZYX    NP_001010972.1                            NP_001010972.1|NP_001349712.1                      NP_001010972        NP_001010972.1|NP_001349712.1                 0.156226  \n",
       "ZZEF1  NP_055928.3                               NP_055928.3                                        NP_055928           NP_055928.3                                   0.000009  \n",
       "\n",
       "[12476 rows x 12 columns]"
      ]
     },
     "execution_count": 42,
     "metadata": {},
     "output_type": "execute_result"
    }
   ],
   "source": [
    "results.drop("
   ]
  },
  {
   "cell_type": "code",
   "execution_count": 43,
   "metadata": {},
   "outputs": [],
   "source": [
    "luad_proteins = list(set(luad_t_test[luad_t_test.luad_pvalue < 0.05].index.get_level_values(0)))\n",
    "hnscc_proteins = list(set(hnscc_t_test[hnscc_t_test.hnscc_pvalue < 0.05].index.get_level_values(0)))\n",
    "ovarian_proteins = list(set(ovarian_t_test[ovarian_t_test.ovarian_pvalue < 0.05].index.get_level_values(0)))\n",
    "colon_proteins = list(set(colon_t_test[colon_t_test.colon_pvalue < 0.05].index.get_level_values(0)))\n",
    "brca_proteins = list(set(brca_t_test[brca_t_test.brca_pvalue < 0.05].index.get_level_values(0)))\n",
    "lscc_proteins = list(set(lscc_t_test[lscc_t_test.lscc_pvalue < 0.05].index.get_level_values(0)))"
   ]
  },
  {
   "cell_type": "code",
   "execution_count": 44,
   "metadata": {},
   "outputs": [],
   "source": [
    "aliases = ['MYC', 'CMYC', 'MYCC', \"MRTL\", 'BHLHE39']"
   ]
  },
  {
   "cell_type": "code",
   "execution_count": 45,
   "metadata": {},
   "outputs": [
    {
     "data": {
      "text/plain": [
       "Index(['MYCBP', 'MYCBP2'], dtype='object', name='Name')"
      ]
     },
     "execution_count": 45,
     "metadata": {},
     "output_type": "execute_result"
    }
   ],
   "source": [
    "luad_prot[luad_prot.columns[luad_prot.columns.get_level_values(0).str.startswith('MYC')]].columns.get_level_values(0)"
   ]
  },
  {
   "cell_type": "code",
   "execution_count": 46,
   "metadata": {},
   "outputs": [],
   "source": [
    "def CountFrequency(my_list): \n",
    "  \"\"\"\n",
    "  Counts the frequency of the gene in the given list.\n",
    "  Returns a list of genes that appeared 3 or more times.\n",
    "  \"\"\"\n",
    "  freq = {} \n",
    "  for items in my_list: \n",
    "      freq[items] = my_list.count(items) \n",
    "  sig = []\n",
    "  for key, value in freq.items(): \n",
    "    if value >= 6:\n",
    "        print(key, value)\n",
    "        sig.append(key)\n",
    "  return sig"
   ]
  },
  {
   "cell_type": "code",
   "execution_count": 47,
   "metadata": {},
   "outputs": [
    {
     "name": "stdout",
     "output_type": "stream",
     "text": [
      "CCAR2 6\n",
      "KIF13B 6\n",
      "NAT1 6\n",
      "ATP6V1B2 6\n",
      "CHMP7 6\n",
      "CCDC25 6\n",
      "PCM1 6\n",
      "ATP6V1H 6\n",
      "XPO7 6\n",
      "PPP2R2A 6\n",
      "AGPAT5 6\n"
     ]
    }
   ],
   "source": [
    "common_proteins = CountFrequency(luad_proteins +\n",
    "                                hnscc_proteins +\n",
    "                                ovarian_proteins +\n",
    "                                colon_proteins +\n",
    "                                brca_proteins +\n",
    "                                lscc_proteins)"
   ]
  },
  {
   "cell_type": "code",
   "execution_count": 48,
   "metadata": {},
   "outputs": [
    {
     "data": {
      "text/html": [
       "<div>\n",
       "<style scoped>\n",
       "    .dataframe tbody tr th:only-of-type {\n",
       "        vertical-align: middle;\n",
       "    }\n",
       "\n",
       "    .dataframe tbody tr th {\n",
       "        vertical-align: top;\n",
       "    }\n",
       "\n",
       "    .dataframe thead th {\n",
       "        text-align: right;\n",
       "    }\n",
       "</style>\n",
       "<table border=\"1\" class=\"dataframe\">\n",
       "  <thead>\n",
       "    <tr style=\"text-align: right;\">\n",
       "      <th></th>\n",
       "      <th></th>\n",
       "      <th>lscc_stat</th>\n",
       "      <th>lscc_pvalue</th>\n",
       "    </tr>\n",
       "    <tr>\n",
       "      <th>Name</th>\n",
       "      <th>Database_ID_Lscc</th>\n",
       "      <th></th>\n",
       "      <th></th>\n",
       "    </tr>\n",
       "  </thead>\n",
       "  <tbody>\n",
       "    <tr>\n",
       "      <th>CHMP7</th>\n",
       "      <th>NP_689485.1|NP_001304828.1|NP_001350112.1</th>\n",
       "      <td>-8.227622</td>\n",
       "      <td>4.712775e-13</td>\n",
       "    </tr>\n",
       "    <tr>\n",
       "      <th>PPP3CC</th>\n",
       "      <th>NP_001230904.1|NP_001230903.1|NP_005596.2</th>\n",
       "      <td>-7.532316</td>\n",
       "      <td>1.609906e-11</td>\n",
       "    </tr>\n",
       "  </tbody>\n",
       "</table>\n",
       "</div>"
      ],
      "text/plain": [
       "                                                  lscc_stat   lscc_pvalue\n",
       "Name   Database_ID_Lscc                                                  \n",
       "CHMP7  NP_689485.1|NP_001304828.1|NP_001350112.1  -8.227622  4.712775e-13\n",
       "PPP3CC NP_001230904.1|NP_001230903.1|NP_005596.2  -7.532316  1.609906e-11"
      ]
     },
     "execution_count": 48,
     "metadata": {},
     "output_type": "execute_result"
    }
   ],
   "source": [
    "lscc_t_test[lscc_t_test.lscc_pvalue < 0.0000000005]"
   ]
  }
 ],
 "metadata": {
  "kernelspec": {
   "display_name": "Python 3",
   "language": "python",
   "name": "python3"
  },
  "language_info": {
   "codemirror_mode": {
    "name": "ipython",
    "version": 3
   },
   "file_extension": ".py",
   "mimetype": "text/x-python",
   "name": "python",
   "nbconvert_exporter": "python",
   "pygments_lexer": "ipython3",
   "version": "3.7.6"
  }
 },
 "nbformat": 4,
 "nbformat_minor": 4
}
