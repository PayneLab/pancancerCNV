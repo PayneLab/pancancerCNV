{
 "cells": [
  {
   "cell_type": "code",
   "execution_count": 2,
   "metadata": {},
   "outputs": [],
   "source": [
    "import pandas as pd"
   ]
  },
  {
   "cell_type": "code",
   "execution_count": 26,
   "metadata": {},
   "outputs": [],
   "source": [
    "def all_low_pvalues(row):\n",
    "    return ((row['Luad_pvalue'] < 0.1) & (row['Ovarian_pvalue'] < 0.1) & (row['Hnscc_pvalue'] < 0.1) & (row['Colon_pvalue'] < 0.1) & (row['Brca_pvalue'] < 0.1) & (row['Lscc_pvalue'] < 0.1))"
   ]
  },
  {
   "cell_type": "code",
   "execution_count": 62,
   "metadata": {},
   "outputs": [],
   "source": [
    "def CountFrequency(my_list): \n",
    "  \"\"\"\n",
    "  Counts the frequency of the gene in the given list.\n",
    "  Returns a list of genes that appeared 3 or more times.\n",
    "  \"\"\"\n",
    "  freq = {} \n",
    "  for items in my_list: \n",
    "      freq[items] = my_list.count(items) \n",
    "  sig = []\n",
    "  for key, value in freq.items(): \n",
    "    if value >= 3:\n",
    "        print(key, value)\n",
    "        sig.append(key)\n",
    "  return sig"
   ]
  },
  {
   "cell_type": "markdown",
   "metadata": {},
   "source": [
    "## Gain Event"
   ]
  },
  {
   "cell_type": "code",
   "execution_count": 22,
   "metadata": {},
   "outputs": [],
   "source": [
    "brca_fishers_gain = pd.read_csv(\"fisher_results/brca_fishers_gain.csv\", index_col=\"Mutation\",usecols=[1,2,3])\n",
    "colon_fishers_gain = pd.read_csv(\"fisher_results/colon_fishers_gain.csv\", index_col=\"Mutation\",usecols=[1,2,3])\n",
    "hnscc_fishers_gain = pd.read_csv(\"fisher_results/hnscc_fishers_gain.csv\", index_col=\"Mutation\",usecols=[1,2,3])\n",
    "lscc_fishers_gain = pd.read_csv(\"fisher_results/lscc_fishers_gain.csv\", index_col=\"Mutation\",usecols=[1,2,3])\n",
    "luad_fishers_gain = pd.read_csv(\"fisher_results/luad_fishers_gain.csv\", index_col=\"Mutation\",usecols=[1,2,3])\n",
    "ovarian_fishers_gain = pd.read_csv(\"fisher_results/ovarian_fishers_gain.csv\", index_col=\"Mutation\",usecols=[1,2,3])"
   ]
  },
  {
   "cell_type": "code",
   "execution_count": 24,
   "metadata": {},
   "outputs": [],
   "source": [
    "results = brca_fishers_gain.join(colon_fishers_gain)\n",
    "results = results.join(hnscc_fishers_gain)\n",
    "results = results.join(lscc_fishers_gain)\n",
    "results = results.join(luad_fishers_gain)\n",
    "results = results.join(ovarian_fishers_gain)"
   ]
  },
  {
   "cell_type": "code",
   "execution_count": 70,
   "metadata": {},
   "outputs": [],
   "source": [
    "brca_sig_gain = brca_fishers_gain[brca_fishers_gain.Brca_pvalue < 0.05]\n",
    "colon_sig_gain = colon_fishers_gain[colon_fishers_gain.Colon_pvalue < 0.05]\n",
    "hnscc_sig_gain = hnscc_fishers_gain[hnscc_fishers_gain.Hnscc_pvalue < 0.05]\n",
    "lscc_sig_gain = lscc_fishers_gain[lscc_fishers_gain.Lscc_pvalue < 0.05]\n",
    "luad_sig_gain = luad_fishers_gain[luad_fishers_gain.Luad_pvalue < 0.05]\n",
    "ovarian_sig_gain = ovarian_fishers_gain[ovarian_fishers_gain.Ovarian_pvalue < 0.05]"
   ]
  },
  {
   "cell_type": "code",
   "execution_count": 27,
   "metadata": {},
   "outputs": [],
   "source": [
    "common_low_pvalues = results[results.apply(lambda x: all_low_pvalues(x), axis=1)]"
   ]
  },
  {
   "cell_type": "code",
   "execution_count": 77,
   "metadata": {},
   "outputs": [
    {
     "data": {
      "text/html": [
       "<div>\n",
       "<style scoped>\n",
       "    .dataframe tbody tr th:only-of-type {\n",
       "        vertical-align: middle;\n",
       "    }\n",
       "\n",
       "    .dataframe tbody tr th {\n",
       "        vertical-align: top;\n",
       "    }\n",
       "\n",
       "    .dataframe thead th {\n",
       "        text-align: right;\n",
       "    }\n",
       "</style>\n",
       "<table border=\"1\" class=\"dataframe\">\n",
       "  <thead>\n",
       "    <tr style=\"text-align: right;\">\n",
       "      <th></th>\n",
       "      <th>Colon_odds</th>\n",
       "      <th>Colon_pvalue</th>\n",
       "    </tr>\n",
       "    <tr>\n",
       "      <th>Mutation</th>\n",
       "      <th></th>\n",
       "      <th></th>\n",
       "    </tr>\n",
       "  </thead>\n",
       "  <tbody>\n",
       "    <tr>\n",
       "      <th>HEATR5A</th>\n",
       "      <td>0.000000</td>\n",
       "      <td>0.016579</td>\n",
       "    </tr>\n",
       "    <tr>\n",
       "      <th>KIAA1614</th>\n",
       "      <td>0.000000</td>\n",
       "      <td>0.032707</td>\n",
       "    </tr>\n",
       "    <tr>\n",
       "      <th>KIAA1683</th>\n",
       "      <td>0.000000</td>\n",
       "      <td>0.032707</td>\n",
       "    </tr>\n",
       "    <tr>\n",
       "      <th>KIRREL3</th>\n",
       "      <td>0.000000</td>\n",
       "      <td>0.016579</td>\n",
       "    </tr>\n",
       "    <tr>\n",
       "      <th>KLHL32</th>\n",
       "      <td>0.000000</td>\n",
       "      <td>0.016579</td>\n",
       "    </tr>\n",
       "    <tr>\n",
       "      <th>...</th>\n",
       "      <td>...</td>\n",
       "      <td>...</td>\n",
       "    </tr>\n",
       "    <tr>\n",
       "      <th>PREX2</th>\n",
       "      <td>4.421053</td>\n",
       "      <td>0.031130</td>\n",
       "    </tr>\n",
       "    <tr>\n",
       "      <th>PCDHA5</th>\n",
       "      <td>8.487805</td>\n",
       "      <td>0.042575</td>\n",
       "    </tr>\n",
       "    <tr>\n",
       "      <th>PAK4</th>\n",
       "      <td>inf</td>\n",
       "      <td>0.035905</td>\n",
       "    </tr>\n",
       "    <tr>\n",
       "      <th>ESRRA</th>\n",
       "      <td>inf</td>\n",
       "      <td>0.035905</td>\n",
       "    </tr>\n",
       "    <tr>\n",
       "      <th>DCDC5</th>\n",
       "      <td>inf</td>\n",
       "      <td>0.035905</td>\n",
       "    </tr>\n",
       "  </tbody>\n",
       "</table>\n",
       "<p>432 rows × 2 columns</p>\n",
       "</div>"
      ],
      "text/plain": [
       "          Colon_odds  Colon_pvalue\n",
       "Mutation                          \n",
       "HEATR5A     0.000000      0.016579\n",
       "KIAA1614    0.000000      0.032707\n",
       "KIAA1683    0.000000      0.032707\n",
       "KIRREL3     0.000000      0.016579\n",
       "KLHL32      0.000000      0.016579\n",
       "...              ...           ...\n",
       "PREX2       4.421053      0.031130\n",
       "PCDHA5      8.487805      0.042575\n",
       "PAK4             inf      0.035905\n",
       "ESRRA            inf      0.035905\n",
       "DCDC5            inf      0.035905\n",
       "\n",
       "[432 rows x 2 columns]"
      ]
     },
     "execution_count": 77,
     "metadata": {},
     "output_type": "execute_result"
    }
   ],
   "source": [
    "colon_sig_gain.sort_values('Colon_odds')"
   ]
  },
  {
   "cell_type": "code",
   "execution_count": 65,
   "metadata": {},
   "outputs": [
    {
     "name": "stdout",
     "output_type": "stream",
     "text": [
      "GIMAP8 3\n",
      "ITGA8 3\n",
      "KIF1A 3\n",
      "LRFN2 3\n",
      "PRTG 3\n",
      "TP53 3\n",
      "WDR7 3\n"
     ]
    }
   ],
   "source": [
    "common_proteins = CountFrequency(list(luad_sig_gain.index) +\n",
    "                                list(hnscc_sig_gain.index) +\n",
    "                                list(ovarian_sig_gain.index) +\n",
    "                                list(colon_sig_gain.index) +\n",
    "                                list(brca_sig_gain.index) +\n",
    "                                list(lscc_sig_gain.index))"
   ]
  },
  {
   "cell_type": "markdown",
   "metadata": {},
   "source": [
    "## Loss Event"
   ]
  },
  {
   "cell_type": "code",
   "execution_count": 56,
   "metadata": {},
   "outputs": [],
   "source": [
    "brca_fishers_loss = pd.read_csv(\"fisher_results/brca_fishers_loss.csv\", index_col=\"Mutation\",usecols=[1,2,3])\n",
    "colon_fishers_loss = pd.read_csv(\"fisher_results/colon_fishers_loss.csv\", index_col=\"Mutation\",usecols=[1,2,3])\n",
    "hnscc_fishers_loss = pd.read_csv(\"fisher_results/hnscc_fishers_loss.csv\", index_col=\"Mutation\",usecols=[1,2,3])\n",
    "lscc_fishers_loss = pd.read_csv(\"fisher_results/lscc_fishers_loss.csv\", index_col=\"Mutation\",usecols=[1,2,3])\n",
    "luad_fishers_loss = pd.read_csv(\"fisher_results/luad_fishers_loss.csv\", index_col=\"Mutation\",usecols=[1,2,3])\n",
    "ovarian_fishers_loss = pd.read_csv(\"fisher_results/ovarian_fishers_loss.csv\", index_col=\"Mutation\",usecols=[1,2,3])"
   ]
  },
  {
   "cell_type": "code",
   "execution_count": 57,
   "metadata": {},
   "outputs": [],
   "source": [
    "results_loss = brca_fishers_loss.join(colon_fishers_loss)\n",
    "results_loss = results_loss.join(hnscc_fishers_loss)\n",
    "results_loss = results_loss.join(lscc_fishers_loss)\n",
    "results_loss = results_loss.join(luad_fishers_loss)\n",
    "results_loss = results_loss.join(ovarian_fishers_loss)"
   ]
  },
  {
   "cell_type": "code",
   "execution_count": 66,
   "metadata": {},
   "outputs": [],
   "source": [
    "brca_sig_loss = brca_fishers_loss[brca_fishers_loss.Brca_pvalue < 0.1]\n",
    "colon_sig_loss = colon_fishers_loss[colon_fishers_loss.Colon_pvalue < 0.1]\n",
    "hnscc_sig_loss = hnscc_fishers_loss[hnscc_fishers_loss.Hnscc_pvalue < 0.1]\n",
    "lscc_sig_loss = lscc_fishers_loss[lscc_fishers_loss.Lscc_pvalue < 0.1]\n",
    "luad_sig_loss = luad_fishers_loss[luad_fishers_loss.Luad_pvalue < 0.1]\n",
    "ovarian_sig_loss = ovarian_fishers_loss[ovarian_fishers_loss.Ovarian_pvalue < 0.1]"
   ]
  },
  {
   "cell_type": "code",
   "execution_count": 59,
   "metadata": {},
   "outputs": [],
   "source": [
    "common_low_pvalues_loss = results_loss[results_loss.apply(lambda x: all_low_pvalues(x), axis=1)]"
   ]
  },
  {
   "cell_type": "code",
   "execution_count": 67,
   "metadata": {},
   "outputs": [
    {
     "data": {
      "text/html": [
       "<div>\n",
       "<style scoped>\n",
       "    .dataframe tbody tr th:only-of-type {\n",
       "        vertical-align: middle;\n",
       "    }\n",
       "\n",
       "    .dataframe tbody tr th {\n",
       "        vertical-align: top;\n",
       "    }\n",
       "\n",
       "    .dataframe thead th {\n",
       "        text-align: right;\n",
       "    }\n",
       "</style>\n",
       "<table border=\"1\" class=\"dataframe\">\n",
       "  <thead>\n",
       "    <tr style=\"text-align: right;\">\n",
       "      <th></th>\n",
       "      <th>Brca_odds</th>\n",
       "      <th>Brca_pvalue</th>\n",
       "      <th>Colon_odds</th>\n",
       "      <th>Colon_pvalue</th>\n",
       "      <th>Hnscc_odds</th>\n",
       "      <th>Hnscc_pvalue</th>\n",
       "      <th>Lscc_odds</th>\n",
       "      <th>Lscc_pvalue</th>\n",
       "      <th>Luad_odds</th>\n",
       "      <th>Luad_pvalue</th>\n",
       "      <th>Ovarian_odds</th>\n",
       "      <th>Ovarian_pvalue</th>\n",
       "    </tr>\n",
       "    <tr>\n",
       "      <th>Mutation</th>\n",
       "      <th></th>\n",
       "      <th></th>\n",
       "      <th></th>\n",
       "      <th></th>\n",
       "      <th></th>\n",
       "      <th></th>\n",
       "      <th></th>\n",
       "      <th></th>\n",
       "      <th></th>\n",
       "      <th></th>\n",
       "      <th></th>\n",
       "      <th></th>\n",
       "    </tr>\n",
       "  </thead>\n",
       "  <tbody>\n",
       "  </tbody>\n",
       "</table>\n",
       "</div>"
      ],
      "text/plain": [
       "Empty DataFrame\n",
       "Columns: [Brca_odds, Brca_pvalue, Colon_odds, Colon_pvalue, Hnscc_odds, Hnscc_pvalue, Lscc_odds, Lscc_pvalue, Luad_odds, Luad_pvalue, Ovarian_odds, Ovarian_pvalue]\n",
       "Index: []"
      ]
     },
     "execution_count": 67,
     "metadata": {},
     "output_type": "execute_result"
    }
   ],
   "source": [
    "common_low_pvalues_loss"
   ]
  },
  {
   "cell_type": "code",
   "execution_count": 68,
   "metadata": {},
   "outputs": [
    {
     "name": "stdout",
     "output_type": "stream",
     "text": [
      "COL20A1 3\n",
      "DDX42 3\n",
      "LAMA1 3\n",
      "MICAL3 3\n",
      "TP53 3\n",
      "FMN1 3\n",
      "KDM6A 3\n",
      "PPP1R13L 3\n",
      "WDR7 3\n",
      "ABCA2 3\n",
      "AMER3 3\n",
      "PTPRU 3\n",
      "SZT2 3\n"
     ]
    }
   ],
   "source": [
    "common_proteins = CountFrequency(list(luad_sig_loss.index) +\n",
    "                                list(hnscc_sig_loss.index) +\n",
    "                                list(ovarian_sig_loss.index) +\n",
    "                                list(colon_sig_loss.index) +\n",
    "                                list(brca_sig_loss.index) +\n",
    "                                list(lscc_sig_loss.index))"
   ]
  }
 ],
 "metadata": {
  "kernelspec": {
   "display_name": "Python 3",
   "language": "python",
   "name": "python3"
  },
  "language_info": {
   "codemirror_mode": {
    "name": "ipython",
    "version": 3
   },
   "file_extension": ".py",
   "mimetype": "text/x-python",
   "name": "python",
   "nbconvert_exporter": "python",
   "pygments_lexer": "ipython3",
   "version": "3.7.6"
  }
 },
 "nbformat": 4,
 "nbformat_minor": 4
}
