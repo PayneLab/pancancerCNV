{
 "cells": [
  {
   "cell_type": "markdown",
   "id": "8f333f71",
   "metadata": {},
   "source": [
    "# Set parameters for this chromosome\n",
    "\n",
    "This notebook sets parameters that will be used throughout the rest of the analysis for the current chromosome, such as the chromosome and arm we're interested, cutoff constants, and so on.\n",
    "\n",
    "**This notebook should be run before any other notebooks in the analysis for the current chromosome are run, and if parameters in this notebook are changed, all other notebooks should be re-run.**"
   ]
  },
  {
   "cell_type": "code",
   "execution_count": 1,
   "id": "ded13168",
   "metadata": {},
   "outputs": [],
   "source": [
    "import json\n",
    "import os"
   ]
  },
  {
   "cell_type": "code",
   "execution_count": 2,
   "id": "c0a763fb",
   "metadata": {},
   "outputs": [],
   "source": [
    "params = {\n",
    "    \"CHROMOSOME\": \"8\",\n",
    "    \n",
    "    # Which cancer types we want to look at\n",
    "    \"CHR_CANCER_TYPES\": [\n",
    "        \"brca\",\n",
    "        \"ccrcc\",\n",
    "        \"colon\",\n",
    "        \"endometrial\",\n",
    "        \"gbm\",\n",
    "        \"hnscc\",\n",
    "        \"lscc\",\n",
    "        \"luad\",\n",
    "        \"ovarian\",\n",
    "    ],\n",
    "    \n",
    "    # The cutoff below is the proportion of all patients in a cancer type that have \n",
    "    # have a CNV event at a particular gene, for us to say that the gene is significantly\n",
    "    # gained or lost in that cancer type. This is used in the 04_define_event_boundaries\n",
    "    # notebook, to decide which regions are gained or lost in each cancer type.\n",
    "    \"GENE_CNV_PROPORTION_CUTOFF\": 0.2,\n",
    "}"
   ]
  },
  {
   "cell_type": "code",
   "execution_count": 3,
   "id": "09b9b795",
   "metadata": {},
   "outputs": [],
   "source": [
    "os.makedirs(\"data\", exist_ok=True)\n",
    "os.makedirs(os.path.join(\"data\", \"charts_raw\"), exist_ok=True)\n",
    "os.makedirs(os.path.join(\"data\", \"charts_img\"), exist_ok=True)\n",
    "\n",
    "param_path = os.path.join(\"data\", \"chr_params.json\")\n",
    "with open(param_path, \"w\") as param_file:\n",
    "    json.dump(params, param_file)"
   ]
  }
 ],
 "metadata": {
  "kernelspec": {
   "display_name": "Python 3 (ipykernel)",
   "language": "python",
   "name": "python3"
  },
  "language_info": {
   "codemirror_mode": {
    "name": "ipython",
    "version": 3
   },
   "file_extension": ".py",
   "mimetype": "text/x-python",
   "name": "python",
   "nbconvert_exporter": "python",
   "pygments_lexer": "ipython3",
   "version": "3.9.7"
  }
 },
 "nbformat": 4,
 "nbformat_minor": 5
}
