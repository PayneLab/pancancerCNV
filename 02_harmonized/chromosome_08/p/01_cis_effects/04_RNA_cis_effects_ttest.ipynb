{
 "cells": [
  {
   "cell_type": "markdown",
   "metadata": {},
   "source": [
    "# RNA cis-effects with t tests\n",
    "\n",
    "Here we look for genes IN the event discussed that are affected by the arm-level event. We will find these effects by performing a series of t-tests comparing the transcriptomics values of the patients with the event against those without the event."
   ]
  },
  {
   "cell_type": "markdown",
   "metadata": {},
   "source": [
    "## Setup (Install necessary packages)\n",
    "\n",
    "We will start by importing necessary packages and collecting all of the transcriptomics data we will need to run the tests. The cancer types analyzed should have been determined in 01_event_basic_info where we determine which types of cancer seem to have the event we are looking at."
   ]
  },
  {
   "cell_type": "code",
   "execution_count": 1,
   "metadata": {},
   "outputs": [],
   "source": [
    "import cnvutils\n",
    "import cptac\n",
    "import matplotlib.pyplot as plt\n",
    "import numpy as np\n",
    "import os\n",
    "import pandas as pd\n",
    "from scipy import stats\n",
    "import seaborn as sns"
   ]
  },
  {
   "cell_type": "code",
   "execution_count": 2,
   "metadata": {},
   "outputs": [
    {
     "name": "stdout",
     "output_type": "stream",
     "text": [
      "                                            \r"
     ]
    }
   ],
   "source": [
    "# These variables specify which chromosome and arm we're working on, and whether to do cis or trans effects\n",
    "params = cnvutils.load_params(os.path.join(\"..\", \"data\", \"params.json\"))\n",
    "CHROMOSOME = params[\"CHROMOSOME\"]\n",
    "ARM = params[\"ARM\"]\n",
    "CIS_OR_TRANS = \"cis\"\n",
    "\n",
    "# Get data tables\n",
    "CANCER_TYPES = params[\"CANCER_TYPES\"]\n",
    "data_types = [\"transcriptomics\"]\n",
    "tables = cnvutils.load_tables(CANCER_TYPES, data_types, pancan=False)\n",
    "transcriptomics = tables[\"transcriptomics\"]\n",
    "\n",
    "# Get event location data\n",
    "event_metadata = cnvutils.load_params(os.path.join(\"..\", \"data\", \"event_metadata.json\"))\n",
    "EVENT_START = event_metadata[\"START\"]\n",
    "EVENT_END = event_metadata[\"END\"]\n",
    "\n",
    "EVENT_COLUMN = \"event\""
   ]
  },
  {
   "cell_type": "markdown",
   "metadata": {},
   "source": [
    "## Select the RNAs we're interested in"
   ]
  },
  {
   "cell_type": "code",
   "execution_count": 3,
   "metadata": {},
   "outputs": [],
   "source": [
    "selected_genes = cnvutils.\\\n",
    "get_event_genes(\n",
    "    chrm=CHROMOSOME,\n",
    "    event_start=EVENT_START,\n",
    "    event_end=EVENT_END,\n",
    "    cis_or_trans=CIS_OR_TRANS\n",
    ")[\"Name\"].\\\n",
    "drop_duplicates(keep=\"first\")"
   ]
  },
  {
   "cell_type": "markdown",
   "metadata": {},
   "source": [
    "## Append Event Data\n",
    "\n",
    "We now append the data from the event table that should have been created in a previous notebook."
   ]
  },
  {
   "cell_type": "code",
   "execution_count": 4,
   "metadata": {},
   "outputs": [],
   "source": [
    "has_event = dict()\n",
    "for cancer_type in transcriptomics.keys():\n",
    "    df = transcriptomics[cancer_type]\n",
    "    event = pd.read_csv(os.path.join(\n",
    "        \"..\", \n",
    "        \"data\", \n",
    "        f\"chr{CHROMOSOME}_{cancer_type}_has_event_{'harmonized' if PANCAN else 'AWG'}.tsv\"\n",
    "    ), sep='\\t', index_col=0)\n",
    "    event.index.rename('Name')\n",
    "    df = df.join(event)\n",
    "    df = df.dropna(subset=[EVENT_COLUMN])\n",
    "    has_event[cancer_type] = df[EVENT_COLUMN]\n",
    "    transcriptomics[cancer_type] = df"
   ]
  },
  {
   "cell_type": "markdown",
   "metadata": {},
   "source": [
    "## Run T-Tests"
   ]
  },
  {
   "cell_type": "code",
   "execution_count": 5,
   "metadata": {
    "scrolled": false
   },
   "outputs": [],
   "source": [
    "results_df = None\n",
    "for cancer_type in transcriptomics.keys():\n",
    "    prot_df = transcriptomics[cancer_type]\n",
    "    results = cptac.utils.wrap_ttest(\n",
    "        df=prot_df, \n",
    "        label_column=EVENT_COLUMN,\n",
    "        correction_method=\"fdr_bh\",\n",
    "        return_all=True,\n",
    "        quiet=True\n",
    "    )   \n",
    "    results.set_index('Comparison', inplace=True)\n",
    "    if isinstance(results.index[0], tuple):\n",
    "        results[['Name', f'{cancer_type}_Database_ID']] = pd.DataFrame(\n",
    "            results.index.values.tolist(),\n",
    "            index=results.index\n",
    "        )\n",
    "        results.set_index(['Name', f'{cancer_type}_Database_ID'], inplace=True)\n",
    "    else:\n",
    "        results.index.name='Name'\n",
    "    results.rename(columns={'P_Value': f'{cancer_type}_pvalue'}, inplace=True)\n",
    "    if results_df is None:\n",
    "        results_df = results\n",
    "    else:\n",
    "        results_df = results_df.join(results)"
   ]
  },
  {
   "cell_type": "markdown",
   "metadata": {},
   "source": [
    "## Append Difference Data\n",
    "\n",
    "We want to collect one more piece of information about the data. We want to find the difference between the averages of the two groups. This will tell us if there is a positive or negative coorelation between the event and the proteomic data and can give us some indication of the strength of the coorelation. "
   ]
  },
  {
   "cell_type": "code",
   "execution_count": 6,
   "metadata": {},
   "outputs": [],
   "source": [
    "def get_diff(col, event):\n",
    "    has_event = col[event]\n",
    "    invert_list = [not x for x in event]\n",
    "    no_event = col[invert_list]\n",
    "    event_avg = has_event.mean()\n",
    "    no_event_avg = no_event.mean()\n",
    "    return event_avg - no_event_avg"
   ]
  },
  {
   "cell_type": "code",
   "execution_count": 7,
   "metadata": {},
   "outputs": [],
   "source": [
    "diff_df = None\n",
    "for cancer_type in transcriptomics.keys():\n",
    "    df = transcriptomics[cancer_type]\n",
    "    df = df.drop(EVENT_COLUMN, axis=1)\n",
    "    results = df.apply(lambda x: get_diff(x, has_event[cancer_type]))\n",
    "    df = pd.DataFrame(results)\n",
    "    if isinstance(df.index[0], tuple):\n",
    "        df[['Name', f'{cancer_type}_Database_ID']] = pd.DataFrame(df.index.values.tolist(), index=df.index)\n",
    "        df.set_index(['Name', f'{cancer_type}_Database_ID'], inplace=True)\n",
    "    else:\n",
    "        df.index.name='Name'\n",
    "    df.rename(columns={0: f'{cancer_type}_diff'}, inplace=True)\n",
    "    if diff_df is None:\n",
    "        diff_df = df\n",
    "    else:\n",
    "        diff_df = diff_df.join(df)"
   ]
  },
  {
   "cell_type": "markdown",
   "metadata": {},
   "source": [
    "## Join the tables, reformat, and save\n",
    "\n",
    "We now join the difference table and the results table together, then reformat them nicely. We also save the table to a tsv for use in future analyses. "
   ]
  },
  {
   "cell_type": "code",
   "execution_count": 8,
   "metadata": {},
   "outputs": [],
   "source": [
    "results_df = results_df.join(diff_df)"
   ]
  },
  {
   "cell_type": "code",
   "execution_count": 9,
   "metadata": {},
   "outputs": [],
   "source": [
    "results_df = results_df.\\\n",
    "reset_index(drop=False).\\\n",
    "rename(columns={\"Name\": \"protein\"}).\\\n",
    "set_index(\"protein\")\n",
    "\n",
    "long_results = pd.DataFrame()\n",
    "\n",
    "for cancer_type in CANCER_TYPES:\n",
    "    cancer_df = results_df.\\\n",
    "    loc[:, results_df.columns.str.startswith(cancer_type)].\\\n",
    "    dropna(axis=\"index\", how=\"all\").\\\n",
    "    reset_index(drop=False)\n",
    "\n",
    "    # If the cancer type has database IDs, make a separate column that has them.\n",
    "    # If not, create a column of NaNs (so that the tables all match)\n",
    "    if f\"{cancer_type}_Database_ID\" in cancer_df.columns:\n",
    "        cancer_df = cancer_df.rename(columns={f\"{cancer_type}_Database_ID\": \"Database_ID\"})\n",
    "    else:\n",
    "        cancer_df = cancer_df.assign(Database_ID=np.nan)\n",
    "\n",
    "    # Rename the pvalue and diff columns to not have the cancer type\n",
    "    cancer_df = cancer_df.rename(columns={\n",
    "        f\"{cancer_type}_pvalue\": \"adj_p\",\n",
    "        f\"{cancer_type}_diff\": \"change\"\n",
    "    }).\\\n",
    "    assign(cancer_type=cancer_type)\n",
    "\n",
    "    # Reorder the columns\n",
    "    cancer_df = cancer_df[[\"cancer_type\", \"protein\", \"Database_ID\", \"adj_p\", \"change\"]]\n",
    "\n",
    "    # Append to the overall dataframe\n",
    "    long_results = long_results.append(cancer_df)\n",
    "\n",
    "# Drop duplicate rows and reset the index\n",
    "long_results = long_results[~long_results.duplicated(keep=False)].\\\n",
    "reset_index(drop=True)"
   ]
  },
  {
   "cell_type": "code",
   "execution_count": 10,
   "metadata": {},
   "outputs": [],
   "source": [
    "save_path = os.path.join(\"..\", \"data\", f\"{CHROMOSOME}{ARM}_{CIS_OR_TRANS}_ttest_RNA.tsv\")\n",
    "long_results.to_csv(save_path, sep='\\t')"
   ]
  }
 ],
 "metadata": {
  "kernelspec": {
   "display_name": "Python 3 (ipykernel)",
   "language": "python",
   "name": "python3"
  },
  "language_info": {
   "codemirror_mode": {
    "name": "ipython",
    "version": 3
   },
   "file_extension": ".py",
   "mimetype": "text/x-python",
   "name": "python",
   "nbconvert_exporter": "python",
   "pygments_lexer": "ipython3",
   "version": "3.9.7"
  }
 },
 "nbformat": 4,
 "nbformat_minor": 4
}
