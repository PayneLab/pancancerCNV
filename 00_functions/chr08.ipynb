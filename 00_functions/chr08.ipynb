{
 "cells": [
  {
   "cell_type": "code",
   "execution_count": 1,
   "id": "1096ef3c",
   "metadata": {},
   "outputs": [],
   "source": [
    "import cnvutils\n",
    "import os"
   ]
  },
  {
   "cell_type": "code",
   "execution_count": 2,
   "id": "703203f2",
   "metadata": {},
   "outputs": [],
   "source": [
    "CHROMOSOME = 8"
   ]
  },
  {
   "cell_type": "code",
   "execution_count": 3,
   "id": "9352ced3",
   "metadata": {},
   "outputs": [
    {
     "name": "stdout",
     "output_type": "stream",
     "text": [
      "                                                            \r"
     ]
    }
   ],
   "source": [
    "cnvutils.make_counts_table(\n",
    "    chromosome=CHROMOSOME,\n",
    "    base_dir=os.getcwd(),\n",
    ")"
   ]
  },
  {
   "cell_type": "code",
   "execution_count": 4,
   "id": "56717b1a",
   "metadata": {},
   "outputs": [],
   "source": [
    "ARM_EVENT_CANCER_TYPES = [\n",
    "    \"brca\",\n",
    "#     \"ccrcc\", # Event not seen\n",
    "    \"coad\",\n",
    "#     \"gbm\", # Event not seen\n",
    "    \"hnscc\",\n",
    "    \"lscc\",\n",
    "    \"luad\",\n",
    "    \"ov\",\n",
    "#     \"pdac\", # Event not seen\n",
    "#     \"ucec\", # Event not seen\n",
    "],\n",
    "\n",
    "P_EVENT_START = 406428, # 406,428 bp\n",
    "P_EVENT_END = 36784324, # 36,784,324 bp\n",
    "P_EVENT_TYPE = \"loss\"\n",
    "\n",
    "Q_EVENT_START = 48710789, # 48,710,789 bp\n",
    "Q_EVENT_END = 145052465, # 145,052,465 bp \n",
    "Q_EVENT_TYPE = \"gain\""
   ]
  },
  {
   "cell_type": "code",
   "execution_count": 5,
   "id": "dbba603e",
   "metadata": {},
   "outputs": [
    {
     "name": "stdout",
     "output_type": "stream",
     "text": [
      "                                                            \r"
     ]
    }
   ],
   "source": [
    "cnvutils.make_has_event_table(\n",
    "    chromosome=CHROMOSOME,\n",
    "    arm=\"p\",\n",
    "    event_start=P_EVENT_START,\n",
    "    event_end=P_EVENT_END,\n",
    "    loss_or_gain=P_EVENT_TYPE,\n",
    "    cancer_types=ARM_EVENT_CANCER_TYPES\n",
    ")"
   ]
  }
 ],
 "metadata": {
  "kernelspec": {
   "display_name": "Python 3 (ipykernel)",
   "language": "python",
   "name": "python3"
  },
  "language_info": {
   "codemirror_mode": {
    "name": "ipython",
    "version": 3
   },
   "file_extension": ".py",
   "mimetype": "text/x-python",
   "name": "python",
   "nbconvert_exporter": "python",
   "pygments_lexer": "ipython3",
   "version": "3.9.7"
  }
 },
 "nbformat": 4,
 "nbformat_minor": 5
}
