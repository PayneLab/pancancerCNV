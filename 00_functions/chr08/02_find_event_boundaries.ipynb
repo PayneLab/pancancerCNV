{
 "cells": [
  {
   "cell_type": "markdown",
   "id": "f45676b4",
   "metadata": {},
   "source": [
    "# Define Event Boundaries\n",
    "\n",
    "This notebook gives you an idea of where gain and loss regions are in a chromosome, so you can decide what specific boundaries to define for a graphically observed particular event.\n",
    "\n",
    "Use the chart at the end of the notebook to determine what boundaries make the most sense. If you mouse over the chart, and don't have any weird JavaScript blockers installed, the chart will be interactive and a box will pop up telling you the start and end of each region, as well as the number of cancer types who have at least 20% of patients showing that event:\n",
    "\n",
    "![tooltip_example](../data/tooltip_example.png)\n",
    "\n",
    "You can also refer to the gain/loss region tables in this notebook, and the plots from the previous notebooks. Also keep in mind where the centromere is.\n",
    "\n",
    "For each arm, record the start and end boundaries for the event on that arm in the `00_setup/00_set_arm_parameters.ipynb` notebook in the folder for that arm.\n",
    "\n",
    "For example if I was looking at 6 cancer types, I would ideally choose a boundary that included each of the regions where all 6 cancer types had the event while not including any regions with only a few. However, the regions in the table won't always coincide nicely with the plot, so sometimes you need to include a region with just 5 cancer types as a boundary to more closely resemble what you see."
   ]
  },
  {
   "cell_type": "code",
   "execution_count": 1,
   "id": "61768ce5",
   "metadata": {},
   "outputs": [],
   "source": [
    "import cnvutils\n",
    "\n",
    "CHROMOSOME = 8"
   ]
  },
  {
   "cell_type": "markdown",
   "id": "9bfd996c",
   "metadata": {},
   "source": [
    "### CPTAC"
   ]
  },
  {
   "cell_type": "code",
   "execution_count": 2,
   "id": "850f0ed0",
   "metadata": {},
   "outputs": [
    {
     "ename": "AttributeError",
     "evalue": "'DataFrame' object has no attribute 'variable'",
     "output_type": "error",
     "traceback": [
      "\u001b[0;31m---------------------------------------------------------------------------\u001b[0m",
      "\u001b[0;31mAttributeError\u001b[0m                            Traceback (most recent call last)",
      "Input \u001b[0;32mIn [2]\u001b[0m, in \u001b[0;36m<cell line: 1>\u001b[0;34m()\u001b[0m\n\u001b[0;32m----> 1\u001b[0m cptac_plot, cptac_gains, cptac_losses \u001b[38;5;241m=\u001b[39m \u001b[43mcnvutils\u001b[49m\u001b[38;5;241;43m.\u001b[39;49m\u001b[43mfind_gain_and_loss_regions\u001b[49m\u001b[43m(\u001b[49m\n\u001b[1;32m      2\u001b[0m \u001b[43m    \u001b[49m\u001b[43msource\u001b[49m\u001b[38;5;241;43m=\u001b[39;49m\u001b[38;5;124;43m\"\u001b[39;49m\u001b[38;5;124;43mcptac\u001b[39;49m\u001b[38;5;124;43m\"\u001b[39;49m\u001b[43m,\u001b[49m\n\u001b[1;32m      3\u001b[0m \u001b[43m    \u001b[49m\u001b[43mchromosome\u001b[49m\u001b[38;5;241;43m=\u001b[39;49m\u001b[43mCHROMOSOME\u001b[49m\u001b[43m,\u001b[49m\n\u001b[1;32m      4\u001b[0m \u001b[43m)\u001b[49m\n",
      "File \u001b[0;32m~/anaconda3/envs/dev/lib/python3.10/site-packages/cnvutils/make_plots.py:281\u001b[0m, in \u001b[0;36mfind_gain_and_loss_regions\u001b[0;34m(source, chromosome, level, data_dir, cancer_types)\u001b[0m\n\u001b[1;32m    278\u001b[0m     cutoffs[cancer_type] \u001b[38;5;241m=\u001b[39m counts[counts[\u001b[38;5;124m\"\u001b[39m\u001b[38;5;124mcancer\u001b[39m\u001b[38;5;124m\"\u001b[39m] \u001b[38;5;241m==\u001b[39m cancer_type][\u001b[38;5;124m\"\u001b[39m\u001b[38;5;124mcancer_type_total_patients\u001b[39m\u001b[38;5;124m\"\u001b[39m]\u001b[38;5;241m.\u001b[39miloc[\u001b[38;5;241m0\u001b[39m] \u001b[38;5;241m*\u001b[39m GENE_CNV_PROPORTION_CUTOFF\n\u001b[1;32m    280\u001b[0m \u001b[38;5;66;03m# Find gain and loss regions\u001b[39;00m\n\u001b[0;32m--> 281\u001b[0m gains \u001b[38;5;241m=\u001b[39m \u001b[43m_find_gain_or_loss_regions\u001b[49m\u001b[43m(\u001b[49m\n\u001b[1;32m    282\u001b[0m \u001b[43m    \u001b[49m\u001b[43mcounts\u001b[49m\u001b[38;5;241;43m=\u001b[39;49m\u001b[43mcounts\u001b[49m\u001b[43m,\u001b[49m\n\u001b[1;32m    283\u001b[0m \u001b[43m    \u001b[49m\u001b[43mcancer_types\u001b[49m\u001b[38;5;241;43m=\u001b[39;49m\u001b[43mcancer_types\u001b[49m\u001b[43m,\u001b[49m\n\u001b[1;32m    284\u001b[0m \u001b[43m    \u001b[49m\u001b[43mgain_or_loss\u001b[49m\u001b[38;5;241;43m=\u001b[39;49m\u001b[38;5;124;43m\"\u001b[39;49m\u001b[38;5;124;43mgain\u001b[39;49m\u001b[38;5;124;43m\"\u001b[39;49m\u001b[43m,\u001b[49m\n\u001b[1;32m    285\u001b[0m \u001b[43m\u001b[49m\u001b[43m)\u001b[49m\n\u001b[1;32m    287\u001b[0m losses \u001b[38;5;241m=\u001b[39m _find_gain_or_loss_regions(\n\u001b[1;32m    288\u001b[0m     counts\u001b[38;5;241m=\u001b[39mcounts,\n\u001b[1;32m    289\u001b[0m     cancer_types\u001b[38;5;241m=\u001b[39mcancer_types,\n\u001b[1;32m    290\u001b[0m     gain_or_loss\u001b[38;5;241m=\u001b[39m\u001b[38;5;124m\"\u001b[39m\u001b[38;5;124mloss\u001b[39m\u001b[38;5;124m\"\u001b[39m,\n\u001b[1;32m    291\u001b[0m )\n\u001b[1;32m    293\u001b[0m \u001b[38;5;66;03m# Join the gain and loss data\u001b[39;00m\n",
      "File \u001b[0;32m~/anaconda3/envs/dev/lib/python3.10/site-packages/cnvutils/make_plots.py:648\u001b[0m, in \u001b[0;36m_find_gain_or_loss_regions\u001b[0;34m(counts, cancer_types, gain_or_loss)\u001b[0m\n\u001b[1;32m    645\u001b[0m event_locations \u001b[38;5;241m=\u001b[39m \u001b[38;5;28mdict\u001b[39m()\n\u001b[1;32m    646\u001b[0m \u001b[38;5;28;01mfor\u001b[39;00m cancer \u001b[38;5;129;01min\u001b[39;00m cancer_types:\n\u001b[0;32m--> 648\u001b[0m     df \u001b[38;5;241m=\u001b[39m counts[(\u001b[43mcounts\u001b[49m\u001b[38;5;241;43m.\u001b[39;49m\u001b[43mvariable\u001b[49m \u001b[38;5;241m==\u001b[39m gain_or_loss) \u001b[38;5;241m&\u001b[39m (counts\u001b[38;5;241m.\u001b[39mcancer \u001b[38;5;241m==\u001b[39m cancer)]\u001b[38;5;241m.\u001b[39msort_values(\u001b[38;5;124m'\u001b[39m\u001b[38;5;124mstart_bp\u001b[39m\u001b[38;5;124m'\u001b[39m)\n\u001b[1;32m    649\u001b[0m     values \u001b[38;5;241m=\u001b[39m \u001b[38;5;28mlist\u001b[39m(df\u001b[38;5;241m.\u001b[39mvalue)\n\u001b[1;32m    650\u001b[0m     events \u001b[38;5;241m=\u001b[39m \u001b[38;5;28mlist\u001b[39m()\n",
      "File \u001b[0;32m~/anaconda3/envs/dev/lib/python3.10/site-packages/pandas/core/generic.py:5575\u001b[0m, in \u001b[0;36mNDFrame.__getattr__\u001b[0;34m(self, name)\u001b[0m\n\u001b[1;32m   5568\u001b[0m \u001b[38;5;28;01mif\u001b[39;00m (\n\u001b[1;32m   5569\u001b[0m     name \u001b[38;5;129;01mnot\u001b[39;00m \u001b[38;5;129;01min\u001b[39;00m \u001b[38;5;28mself\u001b[39m\u001b[38;5;241m.\u001b[39m_internal_names_set\n\u001b[1;32m   5570\u001b[0m     \u001b[38;5;129;01mand\u001b[39;00m name \u001b[38;5;129;01mnot\u001b[39;00m \u001b[38;5;129;01min\u001b[39;00m \u001b[38;5;28mself\u001b[39m\u001b[38;5;241m.\u001b[39m_metadata\n\u001b[1;32m   5571\u001b[0m     \u001b[38;5;129;01mand\u001b[39;00m name \u001b[38;5;129;01mnot\u001b[39;00m \u001b[38;5;129;01min\u001b[39;00m \u001b[38;5;28mself\u001b[39m\u001b[38;5;241m.\u001b[39m_accessors\n\u001b[1;32m   5572\u001b[0m     \u001b[38;5;129;01mand\u001b[39;00m \u001b[38;5;28mself\u001b[39m\u001b[38;5;241m.\u001b[39m_info_axis\u001b[38;5;241m.\u001b[39m_can_hold_identifiers_and_holds_name(name)\n\u001b[1;32m   5573\u001b[0m ):\n\u001b[1;32m   5574\u001b[0m     \u001b[38;5;28;01mreturn\u001b[39;00m \u001b[38;5;28mself\u001b[39m[name]\n\u001b[0;32m-> 5575\u001b[0m \u001b[38;5;28;01mreturn\u001b[39;00m \u001b[38;5;28;43mobject\u001b[39;49m\u001b[38;5;241;43m.\u001b[39;49m\u001b[38;5;21;43m__getattribute__\u001b[39;49m\u001b[43m(\u001b[49m\u001b[38;5;28;43mself\u001b[39;49m\u001b[43m,\u001b[49m\u001b[43m \u001b[49m\u001b[43mname\u001b[49m\u001b[43m)\u001b[49m\n",
      "\u001b[0;31mAttributeError\u001b[0m: 'DataFrame' object has no attribute 'variable'"
     ]
    }
   ],
   "source": [
    "cptac_plot, cptac_gains, cptac_losses = cnvutils.find_gain_and_loss_regions(\n",
    "    source=\"cptac\",\n",
    "    chromosome=CHROMOSOME,\n",
    ")"
   ]
  },
  {
   "cell_type": "code",
   "execution_count": null,
   "id": "9d9f26a3",
   "metadata": {},
   "outputs": [],
   "source": [
    "cptac_plot"
   ]
  },
  {
   "cell_type": "code",
   "execution_count": null,
   "id": "946d3505",
   "metadata": {},
   "outputs": [],
   "source": [
    "cptac_gains"
   ]
  },
  {
   "cell_type": "code",
   "execution_count": null,
   "id": "7188d234",
   "metadata": {},
   "outputs": [],
   "source": [
    "cptac_losses"
   ]
  },
  {
   "cell_type": "markdown",
   "id": "608ae1a6",
   "metadata": {},
   "source": [
    "### GISTIC"
   ]
  },
  {
   "cell_type": "code",
   "execution_count": null,
   "id": "548dbf67",
   "metadata": {},
   "outputs": [],
   "source": [
    "gistic_plot, gistic_gains, gistic_losses = cnvutils.find_gain_and_loss_regions(\n",
    "    source=\"gistic\",\n",
    "    chromosome=CHROMOSOME,\n",
    "    level=\"gene\",\n",
    ")"
   ]
  },
  {
   "cell_type": "code",
   "execution_count": null,
   "id": "b5d01c01",
   "metadata": {},
   "outputs": [],
   "source": [
    "gistic_plot"
   ]
  },
  {
   "cell_type": "code",
   "execution_count": null,
   "id": "4913ea97",
   "metadata": {},
   "outputs": [],
   "source": [
    "gistic_gains"
   ]
  },
  {
   "cell_type": "code",
   "execution_count": null,
   "id": "9ed02051",
   "metadata": {},
   "outputs": [],
   "source": [
    "gistic_losses"
   ]
  }
 ],
 "metadata": {
  "kernelspec": {
   "display_name": "Python 3 (ipykernel)",
   "language": "python",
   "name": "python3"
  },
  "language_info": {
   "codemirror_mode": {
    "name": "ipython",
    "version": 3
   },
   "file_extension": ".py",
   "mimetype": "text/x-python",
   "name": "python",
   "nbconvert_exporter": "python",
   "pygments_lexer": "ipython3",
   "version": "3.10.4"
  }
 },
 "nbformat": 4,
 "nbformat_minor": 5
}
