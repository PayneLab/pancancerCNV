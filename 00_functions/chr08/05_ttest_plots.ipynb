{
 "cells": [
  {
   "cell_type": "markdown",
   "id": "da79a502",
   "metadata": {},
   "source": [
    "# t-test plots"
   ]
  },
  {
   "cell_type": "code",
   "execution_count": 1,
   "id": "0b92e8e2",
   "metadata": {},
   "outputs": [],
   "source": [
    "import cnvutils"
   ]
  },
  {
   "cell_type": "code",
   "execution_count": 2,
   "id": "62301717",
   "metadata": {},
   "outputs": [
    {
     "data": {
      "text/html": [
       "\n",
       "<div id=\"altair-viz-04d94c2ccdf44317bbbee53449be8aed\"></div>\n",
       "<script type=\"text/javascript\">\n",
       "  var VEGA_DEBUG = (typeof VEGA_DEBUG == \"undefined\") ? {} : VEGA_DEBUG;\n",
       "  (function(spec, embedOpt){\n",
       "    let outputDiv = document.currentScript.previousElementSibling;\n",
       "    if (outputDiv.id !== \"altair-viz-04d94c2ccdf44317bbbee53449be8aed\") {\n",
       "      outputDiv = document.getElementById(\"altair-viz-04d94c2ccdf44317bbbee53449be8aed\");\n",
       "    }\n",
       "    const paths = {\n",
       "      \"vega\": \"https://cdn.jsdelivr.net/npm//vega@5?noext\",\n",
       "      \"vega-lib\": \"https://cdn.jsdelivr.net/npm//vega-lib?noext\",\n",
       "      \"vega-lite\": \"https://cdn.jsdelivr.net/npm//vega-lite@4.17.0?noext\",\n",
       "      \"vega-embed\": \"https://cdn.jsdelivr.net/npm//vega-embed@6?noext\",\n",
       "    };\n",
       "\n",
       "    function maybeLoadScript(lib, version) {\n",
       "      var key = `${lib.replace(\"-\", \"\")}_version`;\n",
       "      return (VEGA_DEBUG[key] == version) ?\n",
       "        Promise.resolve(paths[lib]) :\n",
       "        new Promise(function(resolve, reject) {\n",
       "          var s = document.createElement('script');\n",
       "          document.getElementsByTagName(\"head\")[0].appendChild(s);\n",
       "          s.async = true;\n",
       "          s.onload = () => {\n",
       "            VEGA_DEBUG[key] = version;\n",
       "            return resolve(paths[lib]);\n",
       "          };\n",
       "          s.onerror = () => reject(`Error loading script: ${paths[lib]}`);\n",
       "          s.src = paths[lib];\n",
       "        });\n",
       "    }\n",
       "\n",
       "    function showError(err) {\n",
       "      outputDiv.innerHTML = `<div class=\"error\" style=\"color:red;\">${err}</div>`;\n",
       "      throw err;\n",
       "    }\n",
       "\n",
       "    function displayChart(vegaEmbed) {\n",
       "      vegaEmbed(outputDiv, spec, embedOpt)\n",
       "        .catch(err => showError(`Javascript Error: ${err.message}<br>This usually means there's a typo in your chart specification. See the javascript console for the full traceback.`));\n",
       "    }\n",
       "\n",
       "    if(typeof define === \"function\" && define.amd) {\n",
       "      requirejs.config({paths});\n",
       "      require([\"vega-embed\"], displayChart, err => showError(`Error loading script: ${err.message}`));\n",
       "    } else {\n",
       "      maybeLoadScript(\"vega\", \"5\")\n",
       "        .then(() => maybeLoadScript(\"vega-lite\", \"4.17.0\"))\n",
       "        .then(() => maybeLoadScript(\"vega-embed\", \"6\"))\n",
       "        .catch(showError)\n",
       "        .then(() => displayChart(vegaEmbed));\n",
       "    }\n",
       "  })({\"config\": {\"view\": {\"continuousWidth\": 400, \"continuousHeight\": 300}, \"header\": {\"labelOrient\": \"bottom\", \"titleOrient\": \"bottom\", \"titlePadding\": 2}, \"title\": {\"anchor\": \"middle\"}}, \"data\": {\"name\": \"data-ac2b7a5fc38f96d13191551db17c66e8\"}, \"facet\": {\"column\": {\"field\": \"cancer_type\", \"title\": \"Cancer type\", \"type\": \"nominal\"}}, \"spec\": {\"mark\": \"bar\", \"encoding\": {\"color\": {\"field\": \"count_type\", \"scale\": {\"domain\": [\"Significant difference\", \"No significant difference\"], \"range\": [\"#2d3da4\", \"#d1d1d1\"]}, \"sort\": [\"Significant difference\"], \"title\": null, \"type\": \"nominal\"}, \"x\": {\"axis\": {\"labels\": false, \"ticks\": false, \"title\": null}, \"field\": \"count_type\", \"sort\": [\"Significant difference\"], \"type\": \"nominal\"}, \"y\": {\"axis\": {\"title\": \"Number of proteins\"}, \"field\": \"protein\", \"type\": \"quantitative\"}}}, \"title\": \"Chr 8p cis protein effects\", \"$schema\": \"https://vega.github.io/schema/vega-lite/v4.17.0.json\", \"datasets\": {\"data-ac2b7a5fc38f96d13191551db17c66e8\": [{\"cancer_type\": \"brca\", \"count_type\": \"Significant difference\", \"protein\": 36}, {\"cancer_type\": \"brca\", \"count_type\": \"No significant difference\", \"protein\": 61}, {\"cancer_type\": \"coad\", \"count_type\": \"Significant difference\", \"protein\": 33}, {\"cancer_type\": \"coad\", \"count_type\": \"No significant difference\", \"protein\": 32}, {\"cancer_type\": \"hnscc\", \"count_type\": \"Significant difference\", \"protein\": 29}, {\"cancer_type\": \"hnscc\", \"count_type\": \"No significant difference\", \"protein\": 61}, {\"cancer_type\": \"lscc\", \"count_type\": \"Significant difference\", \"protein\": 36}, {\"cancer_type\": \"lscc\", \"count_type\": \"No significant difference\", \"protein\": 56}, {\"cancer_type\": \"luad\", \"count_type\": \"Significant difference\", \"protein\": 45}, {\"cancer_type\": \"luad\", \"count_type\": \"No significant difference\", \"protein\": 48}, {\"cancer_type\": \"ov\", \"count_type\": \"Significant difference\", \"protein\": 28}, {\"cancer_type\": \"ov\", \"count_type\": \"No significant difference\", \"protein\": 48}]}}, {\"mode\": \"vega-lite\"});\n",
       "</script>"
      ],
      "text/plain": [
       "alt.FacetChart(...)"
      ]
     },
     "execution_count": 2,
     "metadata": {},
     "output_type": "execute_result"
    }
   ],
   "source": [
    "cnvutils.make_ttest_plot(\n",
    "    chromosome=8,\n",
    "    arm=\"p\",\n",
    "    gain_or_loss=\"loss\",\n",
    "    cis_or_trans=\"cis\",\n",
    "    proteomics_or_transcriptomics=\"proteomics\",\n",
    ")"
   ]
  },
  {
   "cell_type": "code",
   "execution_count": 3,
   "id": "f9b4e0c1",
   "metadata": {},
   "outputs": [
    {
     "data": {
      "text/html": [
       "\n",
       "<div id=\"altair-viz-9a5db2614414477d90b38dbc79d27a92\"></div>\n",
       "<script type=\"text/javascript\">\n",
       "  var VEGA_DEBUG = (typeof VEGA_DEBUG == \"undefined\") ? {} : VEGA_DEBUG;\n",
       "  (function(spec, embedOpt){\n",
       "    let outputDiv = document.currentScript.previousElementSibling;\n",
       "    if (outputDiv.id !== \"altair-viz-9a5db2614414477d90b38dbc79d27a92\") {\n",
       "      outputDiv = document.getElementById(\"altair-viz-9a5db2614414477d90b38dbc79d27a92\");\n",
       "    }\n",
       "    const paths = {\n",
       "      \"vega\": \"https://cdn.jsdelivr.net/npm//vega@5?noext\",\n",
       "      \"vega-lib\": \"https://cdn.jsdelivr.net/npm//vega-lib?noext\",\n",
       "      \"vega-lite\": \"https://cdn.jsdelivr.net/npm//vega-lite@4.17.0?noext\",\n",
       "      \"vega-embed\": \"https://cdn.jsdelivr.net/npm//vega-embed@6?noext\",\n",
       "    };\n",
       "\n",
       "    function maybeLoadScript(lib, version) {\n",
       "      var key = `${lib.replace(\"-\", \"\")}_version`;\n",
       "      return (VEGA_DEBUG[key] == version) ?\n",
       "        Promise.resolve(paths[lib]) :\n",
       "        new Promise(function(resolve, reject) {\n",
       "          var s = document.createElement('script');\n",
       "          document.getElementsByTagName(\"head\")[0].appendChild(s);\n",
       "          s.async = true;\n",
       "          s.onload = () => {\n",
       "            VEGA_DEBUG[key] = version;\n",
       "            return resolve(paths[lib]);\n",
       "          };\n",
       "          s.onerror = () => reject(`Error loading script: ${paths[lib]}`);\n",
       "          s.src = paths[lib];\n",
       "        });\n",
       "    }\n",
       "\n",
       "    function showError(err) {\n",
       "      outputDiv.innerHTML = `<div class=\"error\" style=\"color:red;\">${err}</div>`;\n",
       "      throw err;\n",
       "    }\n",
       "\n",
       "    function displayChart(vegaEmbed) {\n",
       "      vegaEmbed(outputDiv, spec, embedOpt)\n",
       "        .catch(err => showError(`Javascript Error: ${err.message}<br>This usually means there's a typo in your chart specification. See the javascript console for the full traceback.`));\n",
       "    }\n",
       "\n",
       "    if(typeof define === \"function\" && define.amd) {\n",
       "      requirejs.config({paths});\n",
       "      require([\"vega-embed\"], displayChart, err => showError(`Error loading script: ${err.message}`));\n",
       "    } else {\n",
       "      maybeLoadScript(\"vega\", \"5\")\n",
       "        .then(() => maybeLoadScript(\"vega-lite\", \"4.17.0\"))\n",
       "        .then(() => maybeLoadScript(\"vega-embed\", \"6\"))\n",
       "        .catch(showError)\n",
       "        .then(() => displayChart(vegaEmbed));\n",
       "    }\n",
       "  })({\"config\": {\"view\": {\"continuousWidth\": 400, \"continuousHeight\": 300}, \"header\": {\"labelOrient\": \"bottom\", \"titleOrient\": \"bottom\", \"titlePadding\": 2}, \"title\": {\"anchor\": \"middle\"}}, \"data\": {\"name\": \"data-d0e26cd103b71a24cd55fc6becc576e7\"}, \"facet\": {\"column\": {\"field\": \"cancer_type\", \"title\": \"Cancer type\", \"type\": \"nominal\"}}, \"spec\": {\"mark\": \"bar\", \"encoding\": {\"color\": {\"field\": \"count_type\", \"scale\": {\"domain\": [\"Significant difference\", \"No significant difference\"], \"range\": [\"#2d3da4\", \"#d1d1d1\"]}, \"sort\": [\"Significant difference\"], \"title\": null, \"type\": \"nominal\"}, \"x\": {\"axis\": {\"labels\": false, \"ticks\": false, \"title\": null}, \"field\": \"count_type\", \"sort\": [\"Significant difference\"], \"type\": \"nominal\"}, \"y\": {\"axis\": {\"title\": \"Number of proteins\"}, \"field\": \"protein\", \"type\": \"quantitative\"}}}, \"title\": \"Chr 8p trans protein effects\", \"$schema\": \"https://vega.github.io/schema/vega-lite/v4.17.0.json\", \"datasets\": {\"data-d0e26cd103b71a24cd55fc6becc576e7\": [{\"cancer_type\": \"brca\", \"count_type\": \"Significant difference\", \"protein\": 1}, {\"cancer_type\": \"brca\", \"count_type\": \"No significant difference\", \"protein\": 9806}, {\"cancer_type\": \"coad\", \"count_type\": \"Significant difference\", \"protein\": 26}, {\"cancer_type\": \"coad\", \"count_type\": \"No significant difference\", \"protein\": 6550}, {\"cancer_type\": \"hnscc\", \"count_type\": \"Significant difference\", \"protein\": 12}, {\"cancer_type\": \"hnscc\", \"count_type\": \"No significant difference\", \"protein\": 8521}, {\"cancer_type\": \"lscc\", \"count_type\": \"Significant difference\", \"protein\": 2874}, {\"cancer_type\": \"lscc\", \"count_type\": \"No significant difference\", \"protein\": 6407}, {\"cancer_type\": \"luad\", \"count_type\": \"Significant difference\", \"protein\": 18}, {\"cancer_type\": \"luad\", \"count_type\": \"No significant difference\", \"protein\": 9033}, {\"cancer_type\": \"ov\", \"count_type\": \"No significant difference\", \"protein\": 7906}]}}, {\"mode\": \"vega-lite\"});\n",
       "</script>"
      ],
      "text/plain": [
       "alt.FacetChart(...)"
      ]
     },
     "execution_count": 3,
     "metadata": {},
     "output_type": "execute_result"
    }
   ],
   "source": [
    "cnvutils.make_ttest_plot(\n",
    "    chromosome=8,\n",
    "    arm=\"p\",\n",
    "    gain_or_loss=\"loss\",\n",
    "    cis_or_trans=\"trans\",\n",
    "    proteomics_or_transcriptomics=\"proteomics\",\n",
    ")"
   ]
  },
  {
   "cell_type": "code",
   "execution_count": 4,
   "id": "1660eab5",
   "metadata": {},
   "outputs": [
    {
     "data": {
      "text/html": [
       "\n",
       "<div id=\"altair-viz-f7f3a623d5c8464e9bc5290bae51d5b3\"></div>\n",
       "<script type=\"text/javascript\">\n",
       "  var VEGA_DEBUG = (typeof VEGA_DEBUG == \"undefined\") ? {} : VEGA_DEBUG;\n",
       "  (function(spec, embedOpt){\n",
       "    let outputDiv = document.currentScript.previousElementSibling;\n",
       "    if (outputDiv.id !== \"altair-viz-f7f3a623d5c8464e9bc5290bae51d5b3\") {\n",
       "      outputDiv = document.getElementById(\"altair-viz-f7f3a623d5c8464e9bc5290bae51d5b3\");\n",
       "    }\n",
       "    const paths = {\n",
       "      \"vega\": \"https://cdn.jsdelivr.net/npm//vega@5?noext\",\n",
       "      \"vega-lib\": \"https://cdn.jsdelivr.net/npm//vega-lib?noext\",\n",
       "      \"vega-lite\": \"https://cdn.jsdelivr.net/npm//vega-lite@4.17.0?noext\",\n",
       "      \"vega-embed\": \"https://cdn.jsdelivr.net/npm//vega-embed@6?noext\",\n",
       "    };\n",
       "\n",
       "    function maybeLoadScript(lib, version) {\n",
       "      var key = `${lib.replace(\"-\", \"\")}_version`;\n",
       "      return (VEGA_DEBUG[key] == version) ?\n",
       "        Promise.resolve(paths[lib]) :\n",
       "        new Promise(function(resolve, reject) {\n",
       "          var s = document.createElement('script');\n",
       "          document.getElementsByTagName(\"head\")[0].appendChild(s);\n",
       "          s.async = true;\n",
       "          s.onload = () => {\n",
       "            VEGA_DEBUG[key] = version;\n",
       "            return resolve(paths[lib]);\n",
       "          };\n",
       "          s.onerror = () => reject(`Error loading script: ${paths[lib]}`);\n",
       "          s.src = paths[lib];\n",
       "        });\n",
       "    }\n",
       "\n",
       "    function showError(err) {\n",
       "      outputDiv.innerHTML = `<div class=\"error\" style=\"color:red;\">${err}</div>`;\n",
       "      throw err;\n",
       "    }\n",
       "\n",
       "    function displayChart(vegaEmbed) {\n",
       "      vegaEmbed(outputDiv, spec, embedOpt)\n",
       "        .catch(err => showError(`Javascript Error: ${err.message}<br>This usually means there's a typo in your chart specification. See the javascript console for the full traceback.`));\n",
       "    }\n",
       "\n",
       "    if(typeof define === \"function\" && define.amd) {\n",
       "      requirejs.config({paths});\n",
       "      require([\"vega-embed\"], displayChart, err => showError(`Error loading script: ${err.message}`));\n",
       "    } else {\n",
       "      maybeLoadScript(\"vega\", \"5\")\n",
       "        .then(() => maybeLoadScript(\"vega-lite\", \"4.17.0\"))\n",
       "        .then(() => maybeLoadScript(\"vega-embed\", \"6\"))\n",
       "        .catch(showError)\n",
       "        .then(() => displayChart(vegaEmbed));\n",
       "    }\n",
       "  })({\"config\": {\"view\": {\"continuousWidth\": 400, \"continuousHeight\": 300}, \"header\": {\"labelOrient\": \"bottom\", \"titleOrient\": \"bottom\", \"titlePadding\": 2}, \"title\": {\"anchor\": \"middle\"}}, \"data\": {\"name\": \"data-c303bdbc4ca0d8cec49a3c82dda0c58a\"}, \"facet\": {\"column\": {\"field\": \"cancer_type\", \"title\": \"Cancer type\", \"type\": \"nominal\"}}, \"spec\": {\"mark\": \"bar\", \"encoding\": {\"color\": {\"field\": \"count_type\", \"scale\": {\"domain\": [\"Significant difference\", \"No significant difference\"], \"range\": [\"#2d3da4\", \"#d1d1d1\"]}, \"sort\": [\"Significant difference\"], \"title\": null, \"type\": \"nominal\"}, \"x\": {\"axis\": {\"labels\": false, \"ticks\": false, \"title\": null}, \"field\": \"count_type\", \"sort\": [\"Significant difference\"], \"type\": \"nominal\"}, \"y\": {\"axis\": {\"title\": \"Number of proteins\"}, \"field\": \"protein\", \"type\": \"quantitative\"}}}, \"title\": \"Chr 8q cis protein effects\", \"$schema\": \"https://vega.github.io/schema/vega-lite/v4.17.0.json\", \"datasets\": {\"data-c303bdbc4ca0d8cec49a3c82dda0c58a\": [{\"cancer_type\": \"brca\", \"count_type\": \"Significant difference\", \"protein\": 94}, {\"cancer_type\": \"brca\", \"count_type\": \"No significant difference\", \"protein\": 143}, {\"cancer_type\": \"coad\", \"count_type\": \"Significant difference\", \"protein\": 61}, {\"cancer_type\": \"coad\", \"count_type\": \"No significant difference\", \"protein\": 92}, {\"cancer_type\": \"hnscc\", \"count_type\": \"Significant difference\", \"protein\": 47}, {\"cancer_type\": \"hnscc\", \"count_type\": \"No significant difference\", \"protein\": 157}, {\"cancer_type\": \"lscc\", \"count_type\": \"Significant difference\", \"protein\": 69}, {\"cancer_type\": \"lscc\", \"count_type\": \"No significant difference\", \"protein\": 147}, {\"cancer_type\": \"luad\", \"count_type\": \"Significant difference\", \"protein\": 80}, {\"cancer_type\": \"luad\", \"count_type\": \"No significant difference\", \"protein\": 129}, {\"cancer_type\": \"ov\", \"count_type\": \"Significant difference\", \"protein\": 44}, {\"cancer_type\": \"ov\", \"count_type\": \"No significant difference\", \"protein\": 135}]}}, {\"mode\": \"vega-lite\"});\n",
       "</script>"
      ],
      "text/plain": [
       "alt.FacetChart(...)"
      ]
     },
     "execution_count": 4,
     "metadata": {},
     "output_type": "execute_result"
    }
   ],
   "source": [
    "cnvutils.make_ttest_plot(\n",
    "    chromosome=8,\n",
    "    arm=\"q\",\n",
    "    gain_or_loss=\"gain\",\n",
    "    cis_or_trans=\"cis\",\n",
    "    proteomics_or_transcriptomics=\"proteomics\",\n",
    ")"
   ]
  },
  {
   "cell_type": "code",
   "execution_count": 5,
   "id": "0b5663e9",
   "metadata": {},
   "outputs": [
    {
     "data": {
      "text/html": [
       "\n",
       "<div id=\"altair-viz-33e1dd4f426a48628f92235d0177289b\"></div>\n",
       "<script type=\"text/javascript\">\n",
       "  var VEGA_DEBUG = (typeof VEGA_DEBUG == \"undefined\") ? {} : VEGA_DEBUG;\n",
       "  (function(spec, embedOpt){\n",
       "    let outputDiv = document.currentScript.previousElementSibling;\n",
       "    if (outputDiv.id !== \"altair-viz-33e1dd4f426a48628f92235d0177289b\") {\n",
       "      outputDiv = document.getElementById(\"altair-viz-33e1dd4f426a48628f92235d0177289b\");\n",
       "    }\n",
       "    const paths = {\n",
       "      \"vega\": \"https://cdn.jsdelivr.net/npm//vega@5?noext\",\n",
       "      \"vega-lib\": \"https://cdn.jsdelivr.net/npm//vega-lib?noext\",\n",
       "      \"vega-lite\": \"https://cdn.jsdelivr.net/npm//vega-lite@4.17.0?noext\",\n",
       "      \"vega-embed\": \"https://cdn.jsdelivr.net/npm//vega-embed@6?noext\",\n",
       "    };\n",
       "\n",
       "    function maybeLoadScript(lib, version) {\n",
       "      var key = `${lib.replace(\"-\", \"\")}_version`;\n",
       "      return (VEGA_DEBUG[key] == version) ?\n",
       "        Promise.resolve(paths[lib]) :\n",
       "        new Promise(function(resolve, reject) {\n",
       "          var s = document.createElement('script');\n",
       "          document.getElementsByTagName(\"head\")[0].appendChild(s);\n",
       "          s.async = true;\n",
       "          s.onload = () => {\n",
       "            VEGA_DEBUG[key] = version;\n",
       "            return resolve(paths[lib]);\n",
       "          };\n",
       "          s.onerror = () => reject(`Error loading script: ${paths[lib]}`);\n",
       "          s.src = paths[lib];\n",
       "        });\n",
       "    }\n",
       "\n",
       "    function showError(err) {\n",
       "      outputDiv.innerHTML = `<div class=\"error\" style=\"color:red;\">${err}</div>`;\n",
       "      throw err;\n",
       "    }\n",
       "\n",
       "    function displayChart(vegaEmbed) {\n",
       "      vegaEmbed(outputDiv, spec, embedOpt)\n",
       "        .catch(err => showError(`Javascript Error: ${err.message}<br>This usually means there's a typo in your chart specification. See the javascript console for the full traceback.`));\n",
       "    }\n",
       "\n",
       "    if(typeof define === \"function\" && define.amd) {\n",
       "      requirejs.config({paths});\n",
       "      require([\"vega-embed\"], displayChart, err => showError(`Error loading script: ${err.message}`));\n",
       "    } else {\n",
       "      maybeLoadScript(\"vega\", \"5\")\n",
       "        .then(() => maybeLoadScript(\"vega-lite\", \"4.17.0\"))\n",
       "        .then(() => maybeLoadScript(\"vega-embed\", \"6\"))\n",
       "        .catch(showError)\n",
       "        .then(() => displayChart(vegaEmbed));\n",
       "    }\n",
       "  })({\"config\": {\"view\": {\"continuousWidth\": 400, \"continuousHeight\": 300}, \"header\": {\"labelOrient\": \"bottom\", \"titleOrient\": \"bottom\", \"titlePadding\": 2}, \"title\": {\"anchor\": \"middle\"}}, \"data\": {\"name\": \"data-45d8c6a0918209e06bf713d076c7252b\"}, \"facet\": {\"column\": {\"field\": \"cancer_type\", \"title\": \"Cancer type\", \"type\": \"nominal\"}}, \"spec\": {\"mark\": \"bar\", \"encoding\": {\"color\": {\"field\": \"count_type\", \"scale\": {\"domain\": [\"Significant difference\", \"No significant difference\"], \"range\": [\"#2d3da4\", \"#d1d1d1\"]}, \"sort\": [\"Significant difference\"], \"title\": null, \"type\": \"nominal\"}, \"x\": {\"axis\": {\"labels\": false, \"ticks\": false, \"title\": null}, \"field\": \"count_type\", \"sort\": [\"Significant difference\"], \"type\": \"nominal\"}, \"y\": {\"axis\": {\"title\": \"Number of proteins\"}, \"field\": \"protein\", \"type\": \"quantitative\"}}}, \"title\": \"Chr 8q trans protein effects\", \"$schema\": \"https://vega.github.io/schema/vega-lite/v4.17.0.json\", \"datasets\": {\"data-45d8c6a0918209e06bf713d076c7252b\": [{\"cancer_type\": \"brca\", \"count_type\": \"Significant difference\", \"protein\": 909}, {\"cancer_type\": \"brca\", \"count_type\": \"No significant difference\", \"protein\": 8823}, {\"cancer_type\": \"coad\", \"count_type\": \"No significant difference\", \"protein\": 6569}, {\"cancer_type\": \"hnscc\", \"count_type\": \"Significant difference\", \"protein\": 1}, {\"cancer_type\": \"hnscc\", \"count_type\": \"No significant difference\", \"protein\": 8548}, {\"cancer_type\": \"lscc\", \"count_type\": \"Significant difference\", \"protein\": 13}, {\"cancer_type\": \"lscc\", \"count_type\": \"No significant difference\", \"protein\": 9063}, {\"cancer_type\": \"luad\", \"count_type\": \"Significant difference\", \"protein\": 63}, {\"cancer_type\": \"luad\", \"count_type\": \"No significant difference\", \"protein\": 8838}, {\"cancer_type\": \"ov\", \"count_type\": \"No significant difference\", \"protein\": 7691}]}}, {\"mode\": \"vega-lite\"});\n",
       "</script>"
      ],
      "text/plain": [
       "alt.FacetChart(...)"
      ]
     },
     "execution_count": 5,
     "metadata": {},
     "output_type": "execute_result"
    }
   ],
   "source": [
    "cnvutils.make_ttest_plot(\n",
    "    chromosome=8,\n",
    "    arm=\"q\",\n",
    "    gain_or_loss=\"gain\",\n",
    "    cis_or_trans=\"trans\",\n",
    "    proteomics_or_transcriptomics=\"proteomics\",\n",
    ")"
   ]
  }
 ],
 "metadata": {
  "kernelspec": {
   "display_name": "Python 3 (ipykernel)",
   "language": "python",
   "name": "python3"
  },
  "language_info": {
   "codemirror_mode": {
    "name": "ipython",
    "version": 3
   },
   "file_extension": ".py",
   "mimetype": "text/x-python",
   "name": "python",
   "nbconvert_exporter": "python",
   "pygments_lexer": "ipython3",
   "version": "3.10.4"
  }
 },
 "nbformat": 4,
 "nbformat_minor": 5
}
