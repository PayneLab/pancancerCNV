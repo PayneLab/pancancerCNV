{
 "cells": [
  {
   "cell_type": "code",
   "execution_count": null,
   "id": "40bba6dc",
   "metadata": {},
   "outputs": [],
   "source": [
    "import altair as alt\n",
    "import cnvutils\n",
    "import os\n",
    "\n",
    "from cnvutils.filenames import get_proportions_perm_test_results_path"
   ]
  },
  {
   "cell_type": "code",
   "execution_count": null,
   "id": "0120e1ba",
   "metadata": {},
   "outputs": [],
   "source": [
    "alt.data_transformers.disable_max_rows()"
   ]
  },
  {
   "cell_type": "code",
   "execution_count": null,
   "id": "f1c4aa88",
   "metadata": {},
   "outputs": [],
   "source": [
    "def permutation_test_results(\n",
    "    chromosome,\n",
    "    data_dir=os.path.join(os.getcwd(), \"..\", \"data\"),\n",
    "):\n",
    "    perms_path = get_proportions_perm_test_results_path(\n",
    "        data_dir=data_dir,\n",
    "        chromosome=chromosome,\n",
    "    )\n",
    "    \n",
    "    perms = pd.read_csv(\"run5/all_results.tsv\", sep=\"\\t\", header=None, na_values=\"--\")\n",
    "    perms.columns = [\"name\", \"group\", \"adj_p\"]\n",
    "    \n",
    "    chart = alt.Chart(perms).mark_bar().encode(\n",
    "        alt.X(\n",
    "            \"adj_p\",\n",
    "            bin=True,\n",
    "            scale=alt.Scale(type=\"log\"),\n",
    "        ),\n",
    "        y=\"count()\",\n",
    "        row=\"name\",\n",
    "        column=\"group\",\n",
    "    )\n",
    "    \n",
    "    return chart"
   ]
  },
  {
   "cell_type": "code",
   "execution_count": null,
   "id": "aab3b19b",
   "metadata": {},
   "outputs": [],
   "source": []
  },
  {
   "cell_type": "code",
   "execution_count": null,
   "id": "8b41958f",
   "metadata": {
    "scrolled": true
   },
   "outputs": [],
   "source": [
    "permutation_test_results(chromosome=8)"
   ]
  }
 ],
 "metadata": {
  "kernelspec": {
   "display_name": "Python 3 (ipykernel)",
   "language": "python",
   "name": "python3"
  },
  "language_info": {
   "codemirror_mode": {
    "name": "ipython",
    "version": 3
   },
   "file_extension": ".py",
   "mimetype": "text/x-python",
   "name": "python",
   "nbconvert_exporter": "python",
   "pygments_lexer": "ipython3",
   "version": "3.10.4"
  }
 },
 "nbformat": 4,
 "nbformat_minor": 5
}
