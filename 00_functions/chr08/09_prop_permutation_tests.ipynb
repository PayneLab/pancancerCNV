{
 "cells": [
  {
   "cell_type": "code",
   "execution_count": 1,
   "id": "2d6b42ba",
   "metadata": {},
   "outputs": [],
   "source": [
    "import cnvutils\n",
    "import pandas as pd"
   ]
  },
  {
   "cell_type": "code",
   "execution_count": 2,
   "id": "f3dc076e",
   "metadata": {},
   "outputs": [],
   "source": [
    "unif = pd.read_csv(\"run5/all_results.tsv\", sep=\"\\t\")"
   ]
  }
 ],
 "metadata": {
  "kernelspec": {
   "display_name": "Python 3 (ipykernel)",
   "language": "python",
   "name": "python3"
  },
  "language_info": {
   "codemirror_mode": {
    "name": "ipython",
    "version": 3
   },
   "file_extension": ".py",
   "mimetype": "text/x-python",
   "name": "python",
   "nbconvert_exporter": "python",
   "pygments_lexer": "ipython3",
   "version": "3.10.4"
  }
 },
 "nbformat": 4,
 "nbformat_minor": 5
}
