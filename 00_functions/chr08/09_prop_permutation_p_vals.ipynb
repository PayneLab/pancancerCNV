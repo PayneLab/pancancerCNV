{
 "cells": [
  {
   "cell_type": "markdown",
   "id": "010dab90",
   "metadata": {},
   "source": [
    "# Calculate and save permutation test p values for difference in proportion of affected tumor proteins in has event versus no event"
   ]
  },
  {
   "cell_type": "code",
   "execution_count": 1,
   "id": "94a19ec4",
   "metadata": {},
   "outputs": [],
   "source": [
    "import cnvutils"
   ]
  },
  {
   "cell_type": "code",
   "execution_count": 2,
   "id": "7d21b0ae",
   "metadata": {},
   "outputs": [],
   "source": [
    "cnvutils.calculate_permutation_p_values(chromosome=8)"
   ]
  }
 ],
 "metadata": {
  "kernelspec": {
   "display_name": "Python 3 (ipykernel)",
   "language": "python",
   "name": "python3"
  },
  "language_info": {
   "codemirror_mode": {
    "name": "ipython",
    "version": 3
   },
   "file_extension": ".py",
   "mimetype": "text/x-python",
   "name": "python",
   "nbconvert_exporter": "python",
   "pygments_lexer": "ipython3",
   "version": "3.10.4"
  }
 },
 "nbformat": 4,
 "nbformat_minor": 5
}
