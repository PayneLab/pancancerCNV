{
 "cells": [
  {
   "cell_type": "markdown",
   "id": "ea222ecf",
   "metadata": {},
   "source": [
    "# cis effects t-tests"
   ]
  },
  {
   "cell_type": "code",
   "execution_count": 1,
   "id": "1ff6a578",
   "metadata": {},
   "outputs": [],
   "source": [
    "import cnvutils\n",
    "import inspect"
   ]
  },
  {
   "cell_type": "code",
   "execution_count": 2,
   "id": "b5ff8a01",
   "metadata": {},
   "outputs": [],
   "source": [
    "CHROMOSOME = 8\n",
    "\n",
    "cptac_8p_loss = cnvutils.load_event_metadata(\n",
    "    source=\"cptac\",\n",
    "    chromosome=CHROMOSOME,\n",
    "    arm=\"p\",\n",
    "    gain_or_loss=\"loss\",\n",
    ")\n",
    "\n",
    "cptac_8q_gain = cnvutils.load_event_metadata(\n",
    "    source=\"cptac\",\n",
    "    chromosome=CHROMOSOME,\n",
    "    arm=\"q\",\n",
    "    gain_or_loss=\"gain\",\n",
    ")\n",
    "\n",
    "gistic_8p_loss = cnvutils.load_event_metadata(\n",
    "    source=\"gistic\",\n",
    "    level=\"gene\",\n",
    "    chromosome=CHROMOSOME,\n",
    "    arm=\"p\",\n",
    "    gain_or_loss=\"loss\",\n",
    ")\n",
    "\n",
    "gistic_8q_gain = cnvutils.load_event_metadata(\n",
    "    source=\"gistic\",\n",
    "    level=\"gene\",\n",
    "    chromosome=CHROMOSOME,\n",
    "    arm=\"q\",\n",
    "    gain_or_loss=\"gain\",\n",
    ")"
   ]
  },
  {
   "cell_type": "markdown",
   "id": "c156cb1b",
   "metadata": {},
   "source": [
    "## 8p loss _cis_ effects t-tests"
   ]
  },
  {
   "cell_type": "code",
   "execution_count": 3,
   "id": "8da8ba33",
   "metadata": {},
   "outputs": [
    {
     "name": "stdout",
     "output_type": "stream",
     "text": [
      "                                                                                \r"
     ]
    }
   ],
   "source": [
    "CIS_OR_TRANS = \"cis\"\n",
    "\n",
    "cnvutils.event_effects_ttest(\n",
    "    chromosome=CHROMOSOME,\n",
    "    arm=\"p\",\n",
    "    event_start=cptac_8p_loss[\"start\"],\n",
    "    event_end=cptac_8p_loss[\"end\"],\n",
    "    gain_or_loss=cptac_8p_loss[\"type\"],\n",
    "    cis_or_trans=CIS_OR_TRANS,\n",
    "    proteomics_or_transcriptomics=\"proteomics\",\n",
    "    cancer_types=cptac_8p_loss[\"cancer_types\"],\n",
    "    source=\"cptac\",\n",
    ")"
   ]
  },
  {
   "cell_type": "code",
   "execution_count": 4,
   "id": "dd38d00c",
   "metadata": {},
   "outputs": [
    {
     "name": "stdout",
     "output_type": "stream",
     "text": [
      "                                                                                \r"
     ]
    }
   ],
   "source": [
    "cnvutils.event_effects_ttest(\n",
    "    chromosome=CHROMOSOME,\n",
    "    arm=\"p\",\n",
    "    event_start=gistic_8p_loss[\"start\"],\n",
    "    event_end=gistic_8p_loss[\"end\"],\n",
    "    gain_or_loss=gistic_8p_loss[\"type\"],\n",
    "    cis_or_trans=CIS_OR_TRANS,\n",
    "    proteomics_or_transcriptomics=\"proteomics\",\n",
    "    cancer_types=gistic_8p_loss[\"cancer_types\"],\n",
    "    source=\"gistic\",\n",
    "    level=\"gene\",\n",
    ")"
   ]
  },
  {
   "cell_type": "markdown",
   "id": "380a4f65",
   "metadata": {},
   "source": [
    "## 8q gain _cis_ effects t-tests"
   ]
  },
  {
   "cell_type": "code",
   "execution_count": 5,
   "id": "b02002cf",
   "metadata": {},
   "outputs": [
    {
     "name": "stdout",
     "output_type": "stream",
     "text": [
      "                                                                                \r"
     ]
    }
   ],
   "source": [
    "cnvutils.event_effects_ttest(\n",
    "    chromosome=CHROMOSOME,\n",
    "    arm=\"q\",\n",
    "    event_start=cptac_8q_gain[\"start\"],\n",
    "    event_end=cptac_8q_gain[\"end\"],\n",
    "    gain_or_loss=cptac_8q_gain[\"type\"],\n",
    "    cis_or_trans=CIS_OR_TRANS,\n",
    "    proteomics_or_transcriptomics=\"proteomics\",\n",
    "    cancer_types=cptac_8q_gain[\"cancer_types\"],\n",
    "    source=\"cptac\",\n",
    ")"
   ]
  },
  {
   "cell_type": "code",
   "execution_count": 6,
   "id": "9fe26f18",
   "metadata": {},
   "outputs": [
    {
     "name": "stdout",
     "output_type": "stream",
     "text": [
      "                                                                                \r"
     ]
    }
   ],
   "source": [
    "cnvutils.event_effects_ttest(\n",
    "    chromosome=CHROMOSOME,\n",
    "    arm=\"q\",\n",
    "    event_start=gistic_8q_gain[\"start\"],\n",
    "    event_end=gistic_8q_gain[\"end\"],\n",
    "    gain_or_loss=gistic_8q_gain[\"type\"],\n",
    "    cis_or_trans=CIS_OR_TRANS,\n",
    "    proteomics_or_transcriptomics=\"proteomics\",\n",
    "    cancer_types=gistic_8q_gain[\"cancer_types\"],\n",
    "    source=\"gistic\",\n",
    "    level=\"gene\",\n",
    ")"
   ]
  },
  {
   "cell_type": "markdown",
   "id": "5b62a123",
   "metadata": {},
   "source": [
    "## 8p loss _trans_ effects t-tests"
   ]
  },
  {
   "cell_type": "code",
   "execution_count": 7,
   "id": "32cc8632",
   "metadata": {},
   "outputs": [
    {
     "name": "stdout",
     "output_type": "stream",
     "text": [
      "                                                                                \r"
     ]
    }
   ],
   "source": [
    "CIS_OR_TRANS = \"trans\"\n",
    "\n",
    "cnvutils.event_effects_ttest(\n",
    "    chromosome=CHROMOSOME,\n",
    "    arm=\"p\",\n",
    "    event_start=cptac_8p_loss[\"start\"],\n",
    "    event_end=cptac_8p_loss[\"end\"],\n",
    "    gain_or_loss=cptac_8p_loss[\"type\"],\n",
    "    cis_or_trans=CIS_OR_TRANS,\n",
    "    proteomics_or_transcriptomics=\"proteomics\",\n",
    "    cancer_types=cptac_8p_loss[\"cancer_types\"],\n",
    "    source=\"cptac\",\n",
    ")"
   ]
  },
  {
   "cell_type": "code",
   "execution_count": 8,
   "id": "881170df",
   "metadata": {},
   "outputs": [
    {
     "name": "stdout",
     "output_type": "stream",
     "text": [
      "                                                                                \r"
     ]
    }
   ],
   "source": [
    "cnvutils.event_effects_ttest(\n",
    "    chromosome=CHROMOSOME,\n",
    "    arm=\"p\",\n",
    "    event_start=gistic_8p_loss[\"start\"],\n",
    "    event_end=gistic_8p_loss[\"end\"],\n",
    "    gain_or_loss=gistic_8p_loss[\"type\"],\n",
    "    cis_or_trans=CIS_OR_TRANS,\n",
    "    proteomics_or_transcriptomics=\"proteomics\",\n",
    "    cancer_types=gistic_8p_loss[\"cancer_types\"],\n",
    "    source=\"gistic\",\n",
    "    level=\"gene\",\n",
    ")"
   ]
  },
  {
   "cell_type": "markdown",
   "id": "fba8dd5b",
   "metadata": {},
   "source": [
    "## 8q gain _trans_ effects t-tests"
   ]
  },
  {
   "cell_type": "code",
   "execution_count": 9,
   "id": "cdd07d8b",
   "metadata": {},
   "outputs": [
    {
     "name": "stdout",
     "output_type": "stream",
     "text": [
      "                                                                                \r"
     ]
    }
   ],
   "source": [
    "cnvutils.event_effects_ttest(\n",
    "    chromosome=CHROMOSOME,\n",
    "    arm=\"q\",\n",
    "    event_start=cptac_8q_gain[\"start\"],\n",
    "    event_end=cptac_8q_gain[\"end\"],\n",
    "    gain_or_loss=cptac_8q_gain[\"type\"],\n",
    "    cis_or_trans=CIS_OR_TRANS,\n",
    "    proteomics_or_transcriptomics=\"proteomics\",\n",
    "    cancer_types=cptac_8q_gain[\"cancer_types\"],\n",
    "    source=\"cptac\",\n",
    ")"
   ]
  },
  {
   "cell_type": "code",
   "execution_count": 10,
   "id": "bb64662f",
   "metadata": {},
   "outputs": [
    {
     "name": "stdout",
     "output_type": "stream",
     "text": [
      "                                                                                \r"
     ]
    }
   ],
   "source": [
    "cnvutils.event_effects_ttest(\n",
    "    chromosome=CHROMOSOME,\n",
    "    arm=\"q\",\n",
    "    event_start=gistic_8q_gain[\"start\"],\n",
    "    event_end=gistic_8q_gain[\"end\"],\n",
    "    gain_or_loss=gistic_8q_gain[\"type\"],\n",
    "    cis_or_trans=CIS_OR_TRANS,\n",
    "    proteomics_or_transcriptomics=\"proteomics\",\n",
    "    cancer_types=gistic_8q_gain[\"cancer_types\"],\n",
    "    source=\"gistic\",\n",
    "    level=\"gene\",\n",
    ")"
   ]
  }
 ],
 "metadata": {
  "kernelspec": {
   "display_name": "Python 3 (ipykernel)",
   "language": "python",
   "name": "python3"
  },
  "language_info": {
   "codemirror_mode": {
    "name": "ipython",
    "version": 3
   },
   "file_extension": ".py",
   "mimetype": "text/x-python",
   "name": "python",
   "nbconvert_exporter": "python",
   "pygments_lexer": "ipython3",
   "version": "3.10.4"
  }
 },
 "nbformat": 4,
 "nbformat_minor": 5
}
