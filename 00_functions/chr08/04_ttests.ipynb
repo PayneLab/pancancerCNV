{
 "cells": [
  {
   "cell_type": "markdown",
   "id": "ea222ecf",
   "metadata": {},
   "source": [
    "# t-tests"
   ]
  },
  {
   "cell_type": "code",
   "execution_count": 1,
   "id": "1ff6a578",
   "metadata": {},
   "outputs": [],
   "source": [
    "import cnvutils"
   ]
  },
  {
   "cell_type": "markdown",
   "id": "8991592b",
   "metadata": {},
   "source": [
    "## RNA and protein expressions for each gene, comparing samples with the event to samples without the event, looking at tumor and normal separately"
   ]
  },
  {
   "cell_type": "code",
   "execution_count": 5,
   "id": "cff5a4a5",
   "metadata": {
    "scrolled": true
   },
   "outputs": [
    {
     "name": "stdout",
     "output_type": "stream",
     "text": [
      "Running event_effects_ttest with {'chromosome': 8, 'arm': 'p', 'event_start': 406428, 'event_end': 38176533, 'gain_or_loss': 'loss', 'cis_or_trans': 'trans', 'proteomics_or_transcriptomics': 'proteomics', 'tissue_type': 'tumor', 'cancer_types': ['brca', 'coad', 'hnscc', 'lscc', 'luad', 'ov'], 'source': 'cptac', 'level': None, 'data_dir': '/home/caleb/github/PayneLab/pancancerCNV/00_functions/chr08/../data'}...\n",
      "Running event_effects_ttest with {'chromosome': 8, 'arm': 'p', 'event_start': 406428, 'event_end': 38176533, 'gain_or_loss': 'loss', 'cis_or_trans': 'trans', 'proteomics_or_transcriptomics': 'transcriptomics', 'tissue_type': 'tumor', 'cancer_types': ['brca', 'coad', 'hnscc', 'lscc', 'luad', 'ov'], 'source': 'cptac', 'level': None, 'data_dir': '/home/caleb/github/PayneLab/pancancerCNV/00_functions/chr08/../data'}...\n",
      "Running event_effects_ttest with {'chromosome': 8, 'arm': 'p', 'event_start': 406428, 'event_end': 38176533, 'gain_or_loss': 'loss', 'cis_or_trans': 'cis', 'proteomics_or_transcriptomics': 'proteomics', 'tissue_type': 'tumor', 'cancer_types': ['brca', 'coad', 'hnscc', 'lscc', 'luad', 'ov'], 'source': 'cptac', 'level': None, 'data_dir': '/home/caleb/github/PayneLab/pancancerCNV/00_functions/chr08/../data'}...\n",
      "Running event_effects_ttest with {'chromosome': 8, 'arm': 'p', 'event_start': 406428, 'event_end': 38176533, 'gain_or_loss': 'loss', 'cis_or_trans': 'cis', 'proteomics_or_transcriptomics': 'transcriptomics', 'tissue_type': 'tumor', 'cancer_types': ['brca', 'coad', 'hnscc', 'lscc', 'luad', 'ov'], 'source': 'cptac', 'level': None, 'data_dir': '/home/caleb/github/PayneLab/pancancerCNV/00_functions/chr08/../data'}...\n",
      "Running event_effects_ttest with {'chromosome': 8, 'arm': 'p', 'event_start': 406428, 'event_end': 38176533, 'gain_or_loss': 'loss', 'cis_or_trans': 'cis', 'proteomics_or_transcriptomics': 'proteomics', 'tissue_type': 'normal', 'cancer_types': ['brca', 'coad', 'hnscc', 'lscc', 'luad', 'ov'], 'source': 'cptac', 'level': None, 'data_dir': '/home/caleb/github/PayneLab/pancancerCNV/00_functions/chr08/../data'}...\n",
      "Running event_effects_ttest with {'chromosome': 8, 'arm': 'p', 'event_start': 406428, 'event_end': 38176533, 'gain_or_loss': 'loss', 'cis_or_trans': 'trans', 'proteomics_or_transcriptomics': 'proteomics', 'tissue_type': 'normal', 'cancer_types': ['brca', 'coad', 'hnscc', 'lscc', 'luad', 'ov'], 'source': 'cptac', 'level': None, 'data_dir': '/home/caleb/github/PayneLab/pancancerCNV/00_functions/chr08/../data'}...\n",
      "Running event_effects_ttest with {'chromosome': 8, 'arm': 'p', 'event_start': 406428, 'event_end': 38176533, 'gain_or_loss': 'loss', 'cis_or_trans': 'cis', 'proteomics_or_transcriptomics': 'transcriptomics', 'tissue_type': 'normal', 'cancer_types': ['brca', 'coad', 'hnscc', 'lscc', 'luad', 'ov'], 'source': 'cptac', 'level': None, 'data_dir': '/home/caleb/github/PayneLab/pancancerCNV/00_functions/chr08/../data'}...\n",
      "Running event_effects_ttest with {'chromosome': 8, 'arm': 'p', 'event_start': 406428, 'event_end': 38176533, 'gain_or_loss': 'loss', 'cis_or_trans': 'trans', 'proteomics_or_transcriptomics': 'transcriptomics', 'tissue_type': 'normal', 'cancer_types': ['brca', 'coad', 'hnscc', 'lscc', 'luad', 'ov'], 'source': 'cptac', 'level': None, 'data_dir': '/home/caleb/github/PayneLab/pancancerCNV/00_functions/chr08/../data'}...\n",
      "\n",
      "\n",
      "\n",
      "\n",
      "\n",
      "\n",
      "\n",
      "Loading brca proteomics (1/6)...                              Loading brca proteomics (1/6)...                              Loading brca transcriptomics (1/6)...                              Loading brca transcriptomics (1/6)...                              Loading brca proteomics (1/6)...                              \n",
      "                                                                                proteomics (1/6)...                              \r"
     ]
    },
    {
     "name": "stderr",
     "output_type": "stream",
     "text": [
      "/home/caleb/anaconda3/envs/dev/lib/python3.10/site-packages/cnvutils/chromosome_funcs.py:315: UserWarning: Empty dataframe for cancer_type=brca, tissue_type=normal, source=cptac, level=None, chromosome=8, arm=p, gain_or_loss=loss, cis_or_trans=cis, proteomics_or_transcriptomics=proteomics.\n",
      "  warnings.warn(f\"Empty dataframe for cancer_type={cancer_type}, tissue_type={tissue_type}, source={source}, level={level}, chromosome={chromosome}, arm={arm}, gain_or_loss={gain_or_loss}, cis_or_trans={cis_or_trans}, proteomics_or_transcriptomics={proteomics_or_transcriptomics}.\")\n",
      "/home/caleb/anaconda3/envs/dev/lib/python3.10/site-packages/cnvutils/chromosome_funcs.py:315: UserWarning: Empty dataframe for cancer_type=brca, tissue_type=normal, source=cptac, level=None, chromosome=8, arm=p, gain_or_loss=loss, cis_or_trans=trans, proteomics_or_transcriptomics=proteomics.\n",
      "  warnings.warn(f\"Empty dataframe for cancer_type={cancer_type}, tissue_type={tissue_type}, source={source}, level={level}, chromosome={chromosome}, arm={arm}, gain_or_loss={gain_or_loss}, cis_or_trans={cis_or_trans}, proteomics_or_transcriptomics={proteomics_or_transcriptomics}.\")\n",
      "/home/caleb/anaconda3/envs/dev/lib/python3.10/site-packages/cnvutils/chromosome_funcs.py:370: UserWarning: Too small sample size for cancer_type=ov, tissue_type=normal, source=cptac, level=None, chromosome=8, arm=p, gain_or_loss=loss, cis_or_trans=cis, proteomics_or_transcriptomics=proteomics.\n",
      "  warnings.warn(f\"Too small sample size for cancer_type={cancer_type}, tissue_type={tissue_type}, source={source}, level={level}, chromosome={chromosome}, arm={arm}, gain_or_loss={gain_or_loss}, cis_or_trans={cis_or_trans}, proteomics_or_transcriptomics={proteomics_or_transcriptomics}.\")\n"
     ]
    },
    {
     "name": "stdout",
     "output_type": "stream",
     "text": [
      "Running event_effects_ttest with {'chromosome': 8, 'arm': 'q', 'event_start': 47260878, 'event_end': 145052465, 'gain_or_loss': 'gain', 'cis_or_trans': 'cis', 'proteomics_or_transcriptomics': 'proteomics', 'tissue_type': 'tumor', 'cancer_types': ['brca', 'coad', 'hnscc', 'lscc', 'luad', 'ov'], 'source': 'cptac', 'level': None, 'data_dir': '/home/caleb/github/PayneLab/pancancerCNV/00_functions/chr08/../data'}...\n",
      "\n",
      "Running event_effects_ttest with {'chromosome': 8, 'arm': 'q', 'event_start': 47260878, 'event_end': 145052465, 'gain_or_loss': 'gain', 'cis_or_trans': 'trans', 'proteomics_or_transcriptomics': 'proteomics', 'tissue_type': 'tumor', 'cancer_types': ['brca', 'coad', 'hnscc', 'lscc', 'luad', 'ov'], 'source': 'cptac', 'level': None, 'data_dir': '/home/caleb/github/PayneLab/pancancerCNV/00_functions/chr08/../data'}...\n",
      "\n",
      "Running event_effects_ttest with {'chromosome': 8, 'arm': 'q', 'event_start': 47260878, 'event_end': 145052465, 'gain_or_loss': 'gain', 'cis_or_trans': 'cis', 'proteomics_or_transcriptomics': 'transcriptomics', 'tissue_type': 'tumor', 'cancer_types': ['brca', 'coad', 'hnscc', 'lscc', 'luad', 'ov'], 'source': 'cptac', 'level': None, 'data_dir': '/home/caleb/github/PayneLab/pancancerCNV/00_functions/chr08/../data'}...\n",
      "\n",
      "Loading lscc transcriptomics (4/6)...                               \r"
     ]
    },
    {
     "name": "stderr",
     "output_type": "stream",
     "text": [
      "/home/caleb/anaconda3/envs/dev/lib/python3.10/site-packages/cnvutils/chromosome_funcs.py:370: UserWarning: Too small sample size for cancer_type=ov, tissue_type=normal, source=cptac, level=None, chromosome=8, arm=p, gain_or_loss=loss, cis_or_trans=trans, proteomics_or_transcriptomics=proteomics.\n",
      "  warnings.warn(f\"Too small sample size for cancer_type={cancer_type}, tissue_type={tissue_type}, source={source}, level={level}, chromosome={chromosome}, arm={arm}, gain_or_loss={gain_or_loss}, cis_or_trans={cis_or_trans}, proteomics_or_transcriptomics={proteomics_or_transcriptomics}.\")\n"
     ]
    },
    {
     "name": "stdout",
     "output_type": "stream",
     "text": [
      "                                                                                \r"
     ]
    },
    {
     "name": "stderr",
     "output_type": "stream",
     "text": [
      "/home/caleb/anaconda3/envs/dev/lib/python3.10/site-packages/cnvutils/chromosome_funcs.py:315: UserWarning: Empty dataframe for cancer_type=brca, tissue_type=normal, source=cptac, level=None, chromosome=8, arm=p, gain_or_loss=loss, cis_or_trans=cis, proteomics_or_transcriptomics=transcriptomics.\n",
      "  warnings.warn(f\"Empty dataframe for cancer_type={cancer_type}, tissue_type={tissue_type}, source={source}, level={level}, chromosome={chromosome}, arm={arm}, gain_or_loss={gain_or_loss}, cis_or_trans={cis_or_trans}, proteomics_or_transcriptomics={proteomics_or_transcriptomics}.\")\n",
      "/home/caleb/anaconda3/envs/dev/lib/python3.10/site-packages/cnvutils/chromosome_funcs.py:315: UserWarning: Empty dataframe for cancer_type=coad, tissue_type=normal, source=cptac, level=None, chromosome=8, arm=p, gain_or_loss=loss, cis_or_trans=cis, proteomics_or_transcriptomics=transcriptomics.\n",
      "  warnings.warn(f\"Empty dataframe for cancer_type={cancer_type}, tissue_type={tissue_type}, source={source}, level={level}, chromosome={chromosome}, arm={arm}, gain_or_loss={gain_or_loss}, cis_or_trans={cis_or_trans}, proteomics_or_transcriptomics={proteomics_or_transcriptomics}.\")\n",
      "/home/caleb/anaconda3/envs/dev/lib/python3.10/site-packages/cnvutils/chromosome_funcs.py:315: UserWarning: Empty dataframe for cancer_type=ov, tissue_type=normal, source=cptac, level=None, chromosome=8, arm=p, gain_or_loss=loss, cis_or_trans=cis, proteomics_or_transcriptomics=transcriptomics.\n",
      "  warnings.warn(f\"Empty dataframe for cancer_type={cancer_type}, tissue_type={tissue_type}, source={source}, level={level}, chromosome={chromosome}, arm={arm}, gain_or_loss={gain_or_loss}, cis_or_trans={cis_or_trans}, proteomics_or_transcriptomics={proteomics_or_transcriptomics}.\")\n"
     ]
    },
    {
     "name": "stdout",
     "output_type": "stream",
     "text": [
      "                                                                                \r"
     ]
    },
    {
     "name": "stderr",
     "output_type": "stream",
     "text": [
      "/home/caleb/anaconda3/envs/dev/lib/python3.10/site-packages/cnvutils/chromosome_funcs.py:315: UserWarning: Empty dataframe for cancer_type=brca, tissue_type=normal, source=cptac, level=None, chromosome=8, arm=p, gain_or_loss=loss, cis_or_trans=trans, proteomics_or_transcriptomics=transcriptomics.\n",
      "  warnings.warn(f\"Empty dataframe for cancer_type={cancer_type}, tissue_type={tissue_type}, source={source}, level={level}, chromosome={chromosome}, arm={arm}, gain_or_loss={gain_or_loss}, cis_or_trans={cis_or_trans}, proteomics_or_transcriptomics={proteomics_or_transcriptomics}.\")\n",
      "/home/caleb/anaconda3/envs/dev/lib/python3.10/site-packages/cnvutils/chromosome_funcs.py:315: UserWarning: Empty dataframe for cancer_type=coad, tissue_type=normal, source=cptac, level=None, chromosome=8, arm=p, gain_or_loss=loss, cis_or_trans=trans, proteomics_or_transcriptomics=transcriptomics.\n",
      "  warnings.warn(f\"Empty dataframe for cancer_type={cancer_type}, tissue_type={tissue_type}, source={source}, level={level}, chromosome={chromosome}, arm={arm}, gain_or_loss={gain_or_loss}, cis_or_trans={cis_or_trans}, proteomics_or_transcriptomics={proteomics_or_transcriptomics}.\")\n",
      "/home/caleb/anaconda3/envs/dev/lib/python3.10/site-packages/cnvutils/chromosome_funcs.py:315: UserWarning: Empty dataframe for cancer_type=ov, tissue_type=normal, source=cptac, level=None, chromosome=8, arm=p, gain_or_loss=loss, cis_or_trans=trans, proteomics_or_transcriptomics=transcriptomics.\n",
      "  warnings.warn(f\"Empty dataframe for cancer_type={cancer_type}, tissue_type={tissue_type}, source={source}, level={level}, chromosome={chromosome}, arm={arm}, gain_or_loss={gain_or_loss}, cis_or_trans={cis_or_trans}, proteomics_or_transcriptomics={proteomics_or_transcriptomics}.\")\n"
     ]
    },
    {
     "name": "stdout",
     "output_type": "stream",
     "text": [
      "Running event_effects_ttest with {'chromosome': 8, 'arm': 'q', 'event_start': 47260878, 'event_end': 145052465, 'gain_or_loss': 'gain', 'cis_or_trans': 'trans', 'proteomics_or_transcriptomics': 'transcriptomics', 'tissue_type': 'tumor', 'cancer_types': ['brca', 'coad', 'hnscc', 'lscc', 'luad', 'ov'], 'source': 'cptac', 'level': None, 'data_dir': '/home/caleb/github/PayneLab/pancancerCNV/00_functions/chr08/../data'}...\n",
      "\n",
      "Running event_effects_ttest with {'chromosome': 8, 'arm': 'q', 'event_start': 47260878, 'event_end': 145052465, 'gain_or_loss': 'gain', 'cis_or_trans': 'cis', 'proteomics_or_transcriptomics': 'proteomics', 'tissue_type': 'normal', 'cancer_types': ['brca', 'coad', 'hnscc', 'lscc', 'luad', 'ov'], 'source': 'cptac', 'level': None, 'data_dir': '/home/caleb/github/PayneLab/pancancerCNV/00_functions/chr08/../data'}...\n",
      "\n",
      "                                                                                \r"
     ]
    },
    {
     "name": "stderr",
     "output_type": "stream",
     "text": [
      "/home/caleb/anaconda3/envs/dev/lib/python3.10/site-packages/cnvutils/chromosome_funcs.py:315: UserWarning: Empty dataframe for cancer_type=brca, tissue_type=normal, source=cptac, level=None, chromosome=8, arm=q, gain_or_loss=gain, cis_or_trans=cis, proteomics_or_transcriptomics=proteomics.\n",
      "  warnings.warn(f\"Empty dataframe for cancer_type={cancer_type}, tissue_type={tissue_type}, source={source}, level={level}, chromosome={chromosome}, arm={arm}, gain_or_loss={gain_or_loss}, cis_or_trans={cis_or_trans}, proteomics_or_transcriptomics={proteomics_or_transcriptomics}.\")\n",
      "/home/caleb/anaconda3/envs/dev/lib/python3.10/site-packages/cnvutils/chromosome_funcs.py:370: UserWarning: Too small sample size for cancer_type=ov, tissue_type=normal, source=cptac, level=None, chromosome=8, arm=q, gain_or_loss=gain, cis_or_trans=cis, proteomics_or_transcriptomics=proteomics.\n",
      "  warnings.warn(f\"Too small sample size for cancer_type={cancer_type}, tissue_type={tissue_type}, source={source}, level={level}, chromosome={chromosome}, arm={arm}, gain_or_loss={gain_or_loss}, cis_or_trans={cis_or_trans}, proteomics_or_transcriptomics={proteomics_or_transcriptomics}.\")\n"
     ]
    },
    {
     "name": "stdout",
     "output_type": "stream",
     "text": [
      "Running event_effects_ttest with {'chromosome': 8, 'arm': 'q', 'event_start': 47260878, 'event_end': 145052465, 'gain_or_loss': 'gain', 'cis_or_trans': 'trans', 'proteomics_or_transcriptomics': 'proteomics', 'tissue_type': 'normal', 'cancer_types': ['brca', 'coad', 'hnscc', 'lscc', 'luad', 'ov'], 'source': 'cptac', 'level': None, 'data_dir': '/home/caleb/github/PayneLab/pancancerCNV/00_functions/chr08/../data'}...\n",
      "\n",
      "                                                                                \r"
     ]
    },
    {
     "name": "stderr",
     "output_type": "stream",
     "text": [
      "/home/caleb/anaconda3/envs/dev/lib/python3.10/site-packages/cnvutils/chromosome_funcs.py:315: UserWarning: Empty dataframe for cancer_type=brca, tissue_type=normal, source=cptac, level=None, chromosome=8, arm=q, gain_or_loss=gain, cis_or_trans=trans, proteomics_or_transcriptomics=proteomics.\n",
      "  warnings.warn(f\"Empty dataframe for cancer_type={cancer_type}, tissue_type={tissue_type}, source={source}, level={level}, chromosome={chromosome}, arm={arm}, gain_or_loss={gain_or_loss}, cis_or_trans={cis_or_trans}, proteomics_or_transcriptomics={proteomics_or_transcriptomics}.\")\n"
     ]
    },
    {
     "name": "stdout",
     "output_type": "stream",
     "text": [
      "Running event_effects_ttest with {'chromosome': 8, 'arm': 'q', 'event_start': 47260878, 'event_end': 145052465, 'gain_or_loss': 'gain', 'cis_or_trans': 'cis', 'proteomics_or_transcriptomics': 'transcriptomics', 'tissue_type': 'normal', 'cancer_types': ['brca', 'coad', 'hnscc', 'lscc', 'luad', 'ov'], 'source': 'cptac', 'level': None, 'data_dir': '/home/caleb/github/PayneLab/pancancerCNV/00_functions/chr08/../data'}...\n",
      "\n",
      "Running event_effects_ttest with {'chromosome': 8, 'arm': 'q', 'event_start': 47260878, 'event_end': 145052465, 'gain_or_loss': 'gain', 'cis_or_trans': 'trans', 'proteomics_or_transcriptomics': 'transcriptomics', 'tissue_type': 'normal', 'cancer_types': ['brca', 'coad', 'hnscc', 'lscc', 'luad', 'ov'], 'source': 'cptac', 'level': None, 'data_dir': '/home/caleb/github/PayneLab/pancancerCNV/00_functions/chr08/../data'}...\n",
      "\n",
      "Loading lscc transcriptomics (4/6)...                                           \r"
     ]
    },
    {
     "name": "stderr",
     "output_type": "stream",
     "text": [
      "/home/caleb/anaconda3/envs/dev/lib/python3.10/site-packages/cnvutils/chromosome_funcs.py:370: UserWarning: Too small sample size for cancer_type=ov, tissue_type=normal, source=cptac, level=None, chromosome=8, arm=q, gain_or_loss=gain, cis_or_trans=trans, proteomics_or_transcriptomics=proteomics.\n",
      "  warnings.warn(f\"Too small sample size for cancer_type={cancer_type}, tissue_type={tissue_type}, source={source}, level={level}, chromosome={chromosome}, arm={arm}, gain_or_loss={gain_or_loss}, cis_or_trans={cis_or_trans}, proteomics_or_transcriptomics={proteomics_or_transcriptomics}.\")\n"
     ]
    },
    {
     "name": "stdout",
     "output_type": "stream",
     "text": [
      "Running event_effects_ttest with {'chromosome': 8, 'arm': 'p', 'event_start': 166085, 'event_end': 40153481, 'gain_or_loss': 'loss', 'cis_or_trans': 'cis', 'proteomics_or_transcriptomics': 'proteomics', 'tissue_type': 'tumor', 'cancer_types': ['brca', 'coad', 'hnscc', 'lscc', 'luad', 'ov', 'pdac'], 'source': 'gistic', 'level': 'gene', 'data_dir': '/home/caleb/github/PayneLab/pancancerCNV/00_functions/chr08/../data'}...\n",
      "\n",
      "Running event_effects_ttest with {'chromosome': 8, 'arm': 'p', 'event_start': 166085, 'event_end': 40153481, 'gain_or_loss': 'loss', 'cis_or_trans': 'trans', 'proteomics_or_transcriptomics': 'proteomics', 'tissue_type': 'tumor', 'cancer_types': ['brca', 'coad', 'hnscc', 'lscc', 'luad', 'ov', 'pdac'], 'source': 'gistic', 'level': 'gene', 'data_dir': '/home/caleb/github/PayneLab/pancancerCNV/00_functions/chr08/../data'}...\n",
      "\n",
      "Running event_effects_ttest with {'chromosome': 8, 'arm': 'p', 'event_start': 166085, 'event_end': 40153481, 'gain_or_loss': 'loss', 'cis_or_trans': 'cis', 'proteomics_or_transcriptomics': 'transcriptomics', 'tissue_type': 'tumor', 'cancer_types': ['brca', 'coad', 'hnscc', 'lscc', 'luad', 'ov', 'pdac'], 'source': 'gistic', 'level': 'gene', 'data_dir': '/home/caleb/github/PayneLab/pancancerCNV/00_functions/chr08/../data'}...\n",
      "\n",
      "                                                                                \r"
     ]
    },
    {
     "name": "stderr",
     "output_type": "stream",
     "text": [
      "/home/caleb/anaconda3/envs/dev/lib/python3.10/site-packages/cnvutils/chromosome_funcs.py:315: UserWarning: Empty dataframe for cancer_type=brca, tissue_type=normal, source=cptac, level=None, chromosome=8, arm=q, gain_or_loss=gain, cis_or_trans=cis, proteomics_or_transcriptomics=transcriptomics.\n",
      "  warnings.warn(f\"Empty dataframe for cancer_type={cancer_type}, tissue_type={tissue_type}, source={source}, level={level}, chromosome={chromosome}, arm={arm}, gain_or_loss={gain_or_loss}, cis_or_trans={cis_or_trans}, proteomics_or_transcriptomics={proteomics_or_transcriptomics}.\")\n",
      "/home/caleb/anaconda3/envs/dev/lib/python3.10/site-packages/cnvutils/chromosome_funcs.py:315: UserWarning: Empty dataframe for cancer_type=coad, tissue_type=normal, source=cptac, level=None, chromosome=8, arm=q, gain_or_loss=gain, cis_or_trans=cis, proteomics_or_transcriptomics=transcriptomics.\n",
      "  warnings.warn(f\"Empty dataframe for cancer_type={cancer_type}, tissue_type={tissue_type}, source={source}, level={level}, chromosome={chromosome}, arm={arm}, gain_or_loss={gain_or_loss}, cis_or_trans={cis_or_trans}, proteomics_or_transcriptomics={proteomics_or_transcriptomics}.\")\n",
      "/home/caleb/anaconda3/envs/dev/lib/python3.10/site-packages/cnvutils/chromosome_funcs.py:315: UserWarning: Empty dataframe for cancer_type=ov, tissue_type=normal, source=cptac, level=None, chromosome=8, arm=q, gain_or_loss=gain, cis_or_trans=cis, proteomics_or_transcriptomics=transcriptomics.\n",
      "  warnings.warn(f\"Empty dataframe for cancer_type={cancer_type}, tissue_type={tissue_type}, source={source}, level={level}, chromosome={chromosome}, arm={arm}, gain_or_loss={gain_or_loss}, cis_or_trans={cis_or_trans}, proteomics_or_transcriptomics={proteomics_or_transcriptomics}.\")\n"
     ]
    },
    {
     "name": "stdout",
     "output_type": "stream",
     "text": [
      "Running event_effects_ttest with {'chromosome': 8, 'arm': 'p', 'event_start': 166085, 'event_end': 40153481, 'gain_or_loss': 'loss', 'cis_or_trans': 'trans', 'proteomics_or_transcriptomics': 'transcriptomics', 'tissue_type': 'tumor', 'cancer_types': ['brca', 'coad', 'hnscc', 'lscc', 'luad', 'ov', 'pdac'], 'source': 'gistic', 'level': 'gene', 'data_dir': '/home/caleb/github/PayneLab/pancancerCNV/00_functions/chr08/../data'}...\n",
      "\n",
      "Running event_effects_ttest with {'chromosome': 8, 'arm': 'p', 'event_start': 166085, 'event_end': 40153481, 'gain_or_loss': 'loss', 'cis_or_trans': 'cis', 'proteomics_or_transcriptomics': 'proteomics', 'tissue_type': 'normal', 'cancer_types': ['brca', 'coad', 'hnscc', 'lscc', 'luad', 'ov', 'pdac'], 'source': 'gistic', 'level': 'gene', 'data_dir': '/home/caleb/github/PayneLab/pancancerCNV/00_functions/chr08/../data'}...\n",
      "\n",
      "Loading lscc proteomics (4/7)...                                                \r"
     ]
    },
    {
     "name": "stderr",
     "output_type": "stream",
     "text": [
      "/home/caleb/anaconda3/envs/dev/lib/python3.10/site-packages/cnvutils/chromosome_funcs.py:315: UserWarning: Empty dataframe for cancer_type=brca, tissue_type=normal, source=cptac, level=None, chromosome=8, arm=q, gain_or_loss=gain, cis_or_trans=trans, proteomics_or_transcriptomics=transcriptomics.\n",
      "  warnings.warn(f\"Empty dataframe for cancer_type={cancer_type}, tissue_type={tissue_type}, source={source}, level={level}, chromosome={chromosome}, arm={arm}, gain_or_loss={gain_or_loss}, cis_or_trans={cis_or_trans}, proteomics_or_transcriptomics={proteomics_or_transcriptomics}.\")\n",
      "/home/caleb/anaconda3/envs/dev/lib/python3.10/site-packages/cnvutils/chromosome_funcs.py:315: UserWarning: Empty dataframe for cancer_type=coad, tissue_type=normal, source=cptac, level=None, chromosome=8, arm=q, gain_or_loss=gain, cis_or_trans=trans, proteomics_or_transcriptomics=transcriptomics.\n",
      "  warnings.warn(f\"Empty dataframe for cancer_type={cancer_type}, tissue_type={tissue_type}, source={source}, level={level}, chromosome={chromosome}, arm={arm}, gain_or_loss={gain_or_loss}, cis_or_trans={cis_or_trans}, proteomics_or_transcriptomics={proteomics_or_transcriptomics}.\")\n",
      "/home/caleb/anaconda3/envs/dev/lib/python3.10/site-packages/cnvutils/chromosome_funcs.py:315: UserWarning: Empty dataframe for cancer_type=ov, tissue_type=normal, source=cptac, level=None, chromosome=8, arm=q, gain_or_loss=gain, cis_or_trans=trans, proteomics_or_transcriptomics=transcriptomics.\n",
      "  warnings.warn(f\"Empty dataframe for cancer_type={cancer_type}, tissue_type={tissue_type}, source={source}, level={level}, chromosome={chromosome}, arm={arm}, gain_or_loss={gain_or_loss}, cis_or_trans={cis_or_trans}, proteomics_or_transcriptomics={proteomics_or_transcriptomics}.\")\n"
     ]
    },
    {
     "name": "stdout",
     "output_type": "stream",
     "text": [
      "                                                                                \r"
     ]
    },
    {
     "name": "stderr",
     "output_type": "stream",
     "text": [
      "/home/caleb/anaconda3/envs/dev/lib/python3.10/site-packages/cnvutils/chromosome_funcs.py:315: UserWarning: Empty dataframe for cancer_type=brca, tissue_type=normal, source=gistic, level=gene, chromosome=8, arm=p, gain_or_loss=loss, cis_or_trans=cis, proteomics_or_transcriptomics=proteomics.\n",
      "  warnings.warn(f\"Empty dataframe for cancer_type={cancer_type}, tissue_type={tissue_type}, source={source}, level={level}, chromosome={chromosome}, arm={arm}, gain_or_loss={gain_or_loss}, cis_or_trans={cis_or_trans}, proteomics_or_transcriptomics={proteomics_or_transcriptomics}.\")\n",
      "/home/caleb/anaconda3/envs/dev/lib/python3.10/site-packages/cnvutils/chromosome_funcs.py:370: UserWarning: Too small sample size for cancer_type=ov, tissue_type=normal, source=gistic, level=gene, chromosome=8, arm=p, gain_or_loss=loss, cis_or_trans=cis, proteomics_or_transcriptomics=proteomics.\n",
      "  warnings.warn(f\"Too small sample size for cancer_type={cancer_type}, tissue_type={tissue_type}, source={source}, level={level}, chromosome={chromosome}, arm={arm}, gain_or_loss={gain_or_loss}, cis_or_trans={cis_or_trans}, proteomics_or_transcriptomics={proteomics_or_transcriptomics}.\")\n"
     ]
    },
    {
     "name": "stdout",
     "output_type": "stream",
     "text": [
      "Running event_effects_ttest with {'chromosome': 8, 'arm': 'p', 'event_start': 166085, 'event_end': 40153481, 'gain_or_loss': 'loss', 'cis_or_trans': 'trans', 'proteomics_or_transcriptomics': 'proteomics', 'tissue_type': 'normal', 'cancer_types': ['brca', 'coad', 'hnscc', 'lscc', 'luad', 'ov', 'pdac'], 'source': 'gistic', 'level': 'gene', 'data_dir': '/home/caleb/github/PayneLab/pancancerCNV/00_functions/chr08/../data'}...\n",
      "\n",
      "Running event_effects_ttest with {'chromosome': 8, 'arm': 'p', 'event_start': 166085, 'event_end': 40153481, 'gain_or_loss': 'loss', 'cis_or_trans': 'cis', 'proteomics_or_transcriptomics': 'transcriptomics', 'tissue_type': 'normal', 'cancer_types': ['brca', 'coad', 'hnscc', 'lscc', 'luad', 'ov', 'pdac'], 'source': 'gistic', 'level': 'gene', 'data_dir': '/home/caleb/github/PayneLab/pancancerCNV/00_functions/chr08/../data'}...\n",
      "\n",
      "                                                                                \r"
     ]
    },
    {
     "name": "stderr",
     "output_type": "stream",
     "text": [
      "/home/caleb/anaconda3/envs/dev/lib/python3.10/site-packages/cnvutils/chromosome_funcs.py:315: UserWarning: Empty dataframe for cancer_type=brca, tissue_type=normal, source=gistic, level=gene, chromosome=8, arm=p, gain_or_loss=loss, cis_or_trans=trans, proteomics_or_transcriptomics=proteomics.\n",
      "  warnings.warn(f\"Empty dataframe for cancer_type={cancer_type}, tissue_type={tissue_type}, source={source}, level={level}, chromosome={chromosome}, arm={arm}, gain_or_loss={gain_or_loss}, cis_or_trans={cis_or_trans}, proteomics_or_transcriptomics={proteomics_or_transcriptomics}.\")\n"
     ]
    },
    {
     "name": "stdout",
     "output_type": "stream",
     "text": [
      "Running event_effects_ttest with {'chromosome': 8, 'arm': 'p', 'event_start': 166085, 'event_end': 40153481, 'gain_or_loss': 'loss', 'cis_or_trans': 'trans', 'proteomics_or_transcriptomics': 'transcriptomics', 'tissue_type': 'normal', 'cancer_types': ['brca', 'coad', 'hnscc', 'lscc', 'luad', 'ov', 'pdac'], 'source': 'gistic', 'level': 'gene', 'data_dir': '/home/caleb/github/PayneLab/pancancerCNV/00_functions/chr08/../data'}...\n",
      "\n",
      "                                                                                \r"
     ]
    },
    {
     "name": "stderr",
     "output_type": "stream",
     "text": [
      "/home/caleb/anaconda3/envs/dev/lib/python3.10/site-packages/cnvutils/chromosome_funcs.py:370: UserWarning: Too small sample size for cancer_type=ov, tissue_type=normal, source=gistic, level=gene, chromosome=8, arm=p, gain_or_loss=loss, cis_or_trans=trans, proteomics_or_transcriptomics=proteomics.\n",
      "  warnings.warn(f\"Too small sample size for cancer_type={cancer_type}, tissue_type={tissue_type}, source={source}, level={level}, chromosome={chromosome}, arm={arm}, gain_or_loss={gain_or_loss}, cis_or_trans={cis_or_trans}, proteomics_or_transcriptomics={proteomics_or_transcriptomics}.\")\n"
     ]
    },
    {
     "name": "stdout",
     "output_type": "stream",
     "text": [
      "                                                                                \r"
     ]
    },
    {
     "name": "stderr",
     "output_type": "stream",
     "text": [
      "/home/caleb/anaconda3/envs/dev/lib/python3.10/site-packages/cnvutils/chromosome_funcs.py:315: UserWarning: Empty dataframe for cancer_type=brca, tissue_type=normal, source=gistic, level=gene, chromosome=8, arm=p, gain_or_loss=loss, cis_or_trans=cis, proteomics_or_transcriptomics=transcriptomics.\n",
      "  warnings.warn(f\"Empty dataframe for cancer_type={cancer_type}, tissue_type={tissue_type}, source={source}, level={level}, chromosome={chromosome}, arm={arm}, gain_or_loss={gain_or_loss}, cis_or_trans={cis_or_trans}, proteomics_or_transcriptomics={proteomics_or_transcriptomics}.\")\n",
      "/home/caleb/anaconda3/envs/dev/lib/python3.10/site-packages/cnvutils/chromosome_funcs.py:315: UserWarning: Empty dataframe for cancer_type=coad, tissue_type=normal, source=gistic, level=gene, chromosome=8, arm=p, gain_or_loss=loss, cis_or_trans=cis, proteomics_or_transcriptomics=transcriptomics.\n",
      "  warnings.warn(f\"Empty dataframe for cancer_type={cancer_type}, tissue_type={tissue_type}, source={source}, level={level}, chromosome={chromosome}, arm={arm}, gain_or_loss={gain_or_loss}, cis_or_trans={cis_or_trans}, proteomics_or_transcriptomics={proteomics_or_transcriptomics}.\")\n",
      "/home/caleb/anaconda3/envs/dev/lib/python3.10/site-packages/cnvutils/chromosome_funcs.py:315: UserWarning: Empty dataframe for cancer_type=ov, tissue_type=normal, source=gistic, level=gene, chromosome=8, arm=p, gain_or_loss=loss, cis_or_trans=cis, proteomics_or_transcriptomics=transcriptomics.\n",
      "  warnings.warn(f\"Empty dataframe for cancer_type={cancer_type}, tissue_type={tissue_type}, source={source}, level={level}, chromosome={chromosome}, arm={arm}, gain_or_loss={gain_or_loss}, cis_or_trans={cis_or_trans}, proteomics_or_transcriptomics={proteomics_or_transcriptomics}.\")\n"
     ]
    },
    {
     "name": "stdout",
     "output_type": "stream",
     "text": [
      "Running event_effects_ttest with {'chromosome': 8, 'arm': 'q', 'event_start': 36784373, 'event_end': 145052466, 'gain_or_loss': 'gain', 'cis_or_trans': 'cis', 'proteomics_or_transcriptomics': 'proteomics', 'tissue_type': 'tumor', 'cancer_types': ['brca', 'coad', 'hnscc', 'lscc', 'luad', 'ov', 'pdac'], 'source': 'gistic', 'level': 'gene', 'data_dir': '/home/caleb/github/PayneLab/pancancerCNV/00_functions/chr08/../data'}...\n",
      "\n",
      "Running event_effects_ttest with {'chromosome': 8, 'arm': 'q', 'event_start': 36784373, 'event_end': 145052466, 'gain_or_loss': 'gain', 'cis_or_trans': 'trans', 'proteomics_or_transcriptomics': 'proteomics', 'tissue_type': 'tumor', 'cancer_types': ['brca', 'coad', 'hnscc', 'lscc', 'luad', 'ov', 'pdac'], 'source': 'gistic', 'level': 'gene', 'data_dir': '/home/caleb/github/PayneLab/pancancerCNV/00_functions/chr08/../data'}...\n",
      "\n",
      "Running event_effects_ttest with {'chromosome': 8, 'arm': 'q', 'event_start': 36784373, 'event_end': 145052466, 'gain_or_loss': 'gain', 'cis_or_trans': 'cis', 'proteomics_or_transcriptomics': 'transcriptomics', 'tissue_type': 'tumor', 'cancer_types': ['brca', 'coad', 'hnscc', 'lscc', 'luad', 'ov', 'pdac'], 'source': 'gistic', 'level': 'gene', 'data_dir': '/home/caleb/github/PayneLab/pancancerCNV/00_functions/chr08/../data'}...\n",
      "\n",
      "Running event_effects_ttest with {'chromosome': 8, 'arm': 'q', 'event_start': 36784373, 'event_end': 145052466, 'gain_or_loss': 'gain', 'cis_or_trans': 'trans', 'proteomics_or_transcriptomics': 'transcriptomics', 'tissue_type': 'tumor', 'cancer_types': ['brca', 'coad', 'hnscc', 'lscc', 'luad', 'ov', 'pdac'], 'source': 'gistic', 'level': 'gene', 'data_dir': '/home/caleb/github/PayneLab/pancancerCNV/00_functions/chr08/../data'}...\n",
      "\n",
      "Running event_effects_ttest with {'chromosome': 8, 'arm': 'q', 'event_start': 36784373, 'event_end': 145052466, 'gain_or_loss': 'gain', 'cis_or_trans': 'cis', 'proteomics_or_transcriptomics': 'proteomics', 'tissue_type': 'normal', 'cancer_types': ['brca', 'coad', 'hnscc', 'lscc', 'luad', 'ov', 'pdac'], 'source': 'gistic', 'level': 'gene', 'data_dir': '/home/caleb/github/PayneLab/pancancerCNV/00_functions/chr08/../data'}...\n",
      "\n",
      "Running event_effects_ttest with {'chromosome': 8, 'arm': 'q', 'event_start': 36784373, 'event_end': 145052466, 'gain_or_loss': 'gain', 'cis_or_trans': 'trans', 'proteomics_or_transcriptomics': 'proteomics', 'tissue_type': 'normal', 'cancer_types': ['brca', 'coad', 'hnscc', 'lscc', 'luad', 'ov', 'pdac'], 'source': 'gistic', 'level': 'gene', 'data_dir': '/home/caleb/github/PayneLab/pancancerCNV/00_functions/chr08/../data'}...\n",
      "\n",
      "                                                                                \r"
     ]
    },
    {
     "name": "stderr",
     "output_type": "stream",
     "text": [
      "/home/caleb/anaconda3/envs/dev/lib/python3.10/site-packages/cnvutils/chromosome_funcs.py:315: UserWarning: Empty dataframe for cancer_type=brca, tissue_type=normal, source=gistic, level=gene, chromosome=8, arm=q, gain_or_loss=gain, cis_or_trans=cis, proteomics_or_transcriptomics=proteomics.\n",
      "  warnings.warn(f\"Empty dataframe for cancer_type={cancer_type}, tissue_type={tissue_type}, source={source}, level={level}, chromosome={chromosome}, arm={arm}, gain_or_loss={gain_or_loss}, cis_or_trans={cis_or_trans}, proteomics_or_transcriptomics={proteomics_or_transcriptomics}.\")\n"
     ]
    },
    {
     "name": "stdout",
     "output_type": "stream",
     "text": [
      "                                                                                \r"
     ]
    },
    {
     "name": "stderr",
     "output_type": "stream",
     "text": [
      "/home/caleb/anaconda3/envs/dev/lib/python3.10/site-packages/cnvutils/chromosome_funcs.py:370: UserWarning: Too small sample size for cancer_type=ov, tissue_type=normal, source=gistic, level=gene, chromosome=8, arm=q, gain_or_loss=gain, cis_or_trans=cis, proteomics_or_transcriptomics=proteomics.\n",
      "  warnings.warn(f\"Too small sample size for cancer_type={cancer_type}, tissue_type={tissue_type}, source={source}, level={level}, chromosome={chromosome}, arm={arm}, gain_or_loss={gain_or_loss}, cis_or_trans={cis_or_trans}, proteomics_or_transcriptomics={proteomics_or_transcriptomics}.\")\n",
      "/home/caleb/anaconda3/envs/dev/lib/python3.10/site-packages/cnvutils/chromosome_funcs.py:315: UserWarning: Empty dataframe for cancer_type=brca, tissue_type=normal, source=gistic, level=gene, chromosome=8, arm=p, gain_or_loss=loss, cis_or_trans=trans, proteomics_or_transcriptomics=transcriptomics.\n",
      "  warnings.warn(f\"Empty dataframe for cancer_type={cancer_type}, tissue_type={tissue_type}, source={source}, level={level}, chromosome={chromosome}, arm={arm}, gain_or_loss={gain_or_loss}, cis_or_trans={cis_or_trans}, proteomics_or_transcriptomics={proteomics_or_transcriptomics}.\")\n",
      "/home/caleb/anaconda3/envs/dev/lib/python3.10/site-packages/cnvutils/chromosome_funcs.py:315: UserWarning: Empty dataframe for cancer_type=coad, tissue_type=normal, source=gistic, level=gene, chromosome=8, arm=p, gain_or_loss=loss, cis_or_trans=trans, proteomics_or_transcriptomics=transcriptomics.\n",
      "  warnings.warn(f\"Empty dataframe for cancer_type={cancer_type}, tissue_type={tissue_type}, source={source}, level={level}, chromosome={chromosome}, arm={arm}, gain_or_loss={gain_or_loss}, cis_or_trans={cis_or_trans}, proteomics_or_transcriptomics={proteomics_or_transcriptomics}.\")\n",
      "/home/caleb/anaconda3/envs/dev/lib/python3.10/site-packages/cnvutils/chromosome_funcs.py:315: UserWarning: Empty dataframe for cancer_type=ov, tissue_type=normal, source=gistic, level=gene, chromosome=8, arm=p, gain_or_loss=loss, cis_or_trans=trans, proteomics_or_transcriptomics=transcriptomics.\n",
      "  warnings.warn(f\"Empty dataframe for cancer_type={cancer_type}, tissue_type={tissue_type}, source={source}, level={level}, chromosome={chromosome}, arm={arm}, gain_or_loss={gain_or_loss}, cis_or_trans={cis_or_trans}, proteomics_or_transcriptomics={proteomics_or_transcriptomics}.\")\n"
     ]
    },
    {
     "name": "stdout",
     "output_type": "stream",
     "text": [
      "Running event_effects_ttest with {'chromosome': 8, 'arm': 'q', 'event_start': 36784373, 'event_end': 145052466, 'gain_or_loss': 'gain', 'cis_or_trans': 'cis', 'proteomics_or_transcriptomics': 'transcriptomics', 'tissue_type': 'normal', 'cancer_types': ['brca', 'coad', 'hnscc', 'lscc', 'luad', 'ov', 'pdac'], 'source': 'gistic', 'level': 'gene', 'data_dir': '/home/caleb/github/PayneLab/pancancerCNV/00_functions/chr08/../data'}...\n",
      "\n",
      "                                                                                \r"
     ]
    },
    {
     "name": "stderr",
     "output_type": "stream",
     "text": [
      "/home/caleb/anaconda3/envs/dev/lib/python3.10/site-packages/cnvutils/chromosome_funcs.py:315: UserWarning: Empty dataframe for cancer_type=brca, tissue_type=normal, source=gistic, level=gene, chromosome=8, arm=q, gain_or_loss=gain, cis_or_trans=trans, proteomics_or_transcriptomics=proteomics.\n",
      "  warnings.warn(f\"Empty dataframe for cancer_type={cancer_type}, tissue_type={tissue_type}, source={source}, level={level}, chromosome={chromosome}, arm={arm}, gain_or_loss={gain_or_loss}, cis_or_trans={cis_or_trans}, proteomics_or_transcriptomics={proteomics_or_transcriptomics}.\")\n"
     ]
    },
    {
     "name": "stdout",
     "output_type": "stream",
     "text": [
      "Running event_effects_ttest with {'chromosome': 8, 'arm': 'q', 'event_start': 36784373, 'event_end': 145052466, 'gain_or_loss': 'gain', 'cis_or_trans': 'trans', 'proteomics_or_transcriptomics': 'transcriptomics', 'tissue_type': 'normal', 'cancer_types': ['brca', 'coad', 'hnscc', 'lscc', 'luad', 'ov', 'pdac'], 'source': 'gistic', 'level': 'gene', 'data_dir': '/home/caleb/github/PayneLab/pancancerCNV/00_functions/chr08/../data'}...\n",
      "\n",
      "Loading lscc transcriptomics (4/7)...                                           \r"
     ]
    },
    {
     "name": "stderr",
     "output_type": "stream",
     "text": [
      "/home/caleb/anaconda3/envs/dev/lib/python3.10/site-packages/cnvutils/chromosome_funcs.py:370: UserWarning: Too small sample size for cancer_type=ov, tissue_type=normal, source=gistic, level=gene, chromosome=8, arm=q, gain_or_loss=gain, cis_or_trans=trans, proteomics_or_transcriptomics=proteomics.\n",
      "  warnings.warn(f\"Too small sample size for cancer_type={cancer_type}, tissue_type={tissue_type}, source={source}, level={level}, chromosome={chromosome}, arm={arm}, gain_or_loss={gain_or_loss}, cis_or_trans={cis_or_trans}, proteomics_or_transcriptomics={proteomics_or_transcriptomics}.\")\n"
     ]
    },
    {
     "name": "stdout",
     "output_type": "stream",
     "text": [
      "                                                                                \r"
     ]
    },
    {
     "name": "stderr",
     "output_type": "stream",
     "text": [
      "/home/caleb/anaconda3/envs/dev/lib/python3.10/site-packages/cnvutils/chromosome_funcs.py:315: UserWarning: Empty dataframe for cancer_type=brca, tissue_type=normal, source=gistic, level=gene, chromosome=8, arm=q, gain_or_loss=gain, cis_or_trans=cis, proteomics_or_transcriptomics=transcriptomics.\n",
      "  warnings.warn(f\"Empty dataframe for cancer_type={cancer_type}, tissue_type={tissue_type}, source={source}, level={level}, chromosome={chromosome}, arm={arm}, gain_or_loss={gain_or_loss}, cis_or_trans={cis_or_trans}, proteomics_or_transcriptomics={proteomics_or_transcriptomics}.\")\n",
      "/home/caleb/anaconda3/envs/dev/lib/python3.10/site-packages/cnvutils/chromosome_funcs.py:315: UserWarning: Empty dataframe for cancer_type=coad, tissue_type=normal, source=gistic, level=gene, chromosome=8, arm=q, gain_or_loss=gain, cis_or_trans=cis, proteomics_or_transcriptomics=transcriptomics.\n",
      "  warnings.warn(f\"Empty dataframe for cancer_type={cancer_type}, tissue_type={tissue_type}, source={source}, level={level}, chromosome={chromosome}, arm={arm}, gain_or_loss={gain_or_loss}, cis_or_trans={cis_or_trans}, proteomics_or_transcriptomics={proteomics_or_transcriptomics}.\")\n",
      "/home/caleb/anaconda3/envs/dev/lib/python3.10/site-packages/cnvutils/chromosome_funcs.py:315: UserWarning: Empty dataframe for cancer_type=ov, tissue_type=normal, source=gistic, level=gene, chromosome=8, arm=q, gain_or_loss=gain, cis_or_trans=cis, proteomics_or_transcriptomics=transcriptomics.\n",
      "  warnings.warn(f\"Empty dataframe for cancer_type={cancer_type}, tissue_type={tissue_type}, source={source}, level={level}, chromosome={chromosome}, arm={arm}, gain_or_loss={gain_or_loss}, cis_or_trans={cis_or_trans}, proteomics_or_transcriptomics={proteomics_or_transcriptomics}.\")\n"
     ]
    },
    {
     "name": "stdout",
     "output_type": "stream",
     "text": [
      "                                                                                \r"
     ]
    },
    {
     "name": "stderr",
     "output_type": "stream",
     "text": [
      "/home/caleb/anaconda3/envs/dev/lib/python3.10/site-packages/cnvutils/chromosome_funcs.py:315: UserWarning: Empty dataframe for cancer_type=brca, tissue_type=normal, source=gistic, level=gene, chromosome=8, arm=q, gain_or_loss=gain, cis_or_trans=trans, proteomics_or_transcriptomics=transcriptomics.\n",
      "  warnings.warn(f\"Empty dataframe for cancer_type={cancer_type}, tissue_type={tissue_type}, source={source}, level={level}, chromosome={chromosome}, arm={arm}, gain_or_loss={gain_or_loss}, cis_or_trans={cis_or_trans}, proteomics_or_transcriptomics={proteomics_or_transcriptomics}.\")\n",
      "/home/caleb/anaconda3/envs/dev/lib/python3.10/site-packages/cnvutils/chromosome_funcs.py:315: UserWarning: Empty dataframe for cancer_type=coad, tissue_type=normal, source=gistic, level=gene, chromosome=8, arm=q, gain_or_loss=gain, cis_or_trans=trans, proteomics_or_transcriptomics=transcriptomics.\n",
      "  warnings.warn(f\"Empty dataframe for cancer_type={cancer_type}, tissue_type={tissue_type}, source={source}, level={level}, chromosome={chromosome}, arm={arm}, gain_or_loss={gain_or_loss}, cis_or_trans={cis_or_trans}, proteomics_or_transcriptomics={proteomics_or_transcriptomics}.\")\n",
      "/home/caleb/anaconda3/envs/dev/lib/python3.10/site-packages/cnvutils/chromosome_funcs.py:315: UserWarning: Empty dataframe for cancer_type=ov, tissue_type=normal, source=gistic, level=gene, chromosome=8, arm=q, gain_or_loss=gain, cis_or_trans=trans, proteomics_or_transcriptomics=transcriptomics.\n",
      "  warnings.warn(f\"Empty dataframe for cancer_type={cancer_type}, tissue_type={tissue_type}, source={source}, level={level}, chromosome={chromosome}, arm={arm}, gain_or_loss={gain_or_loss}, cis_or_trans={cis_or_trans}, proteomics_or_transcriptomics={proteomics_or_transcriptomics}.\")\n"
     ]
    },
    {
     "data": {
      "text/plain": [
       "[None,\n",
       " None,\n",
       " None,\n",
       " None,\n",
       " None,\n",
       " None,\n",
       " None,\n",
       " None,\n",
       " None,\n",
       " None,\n",
       " None,\n",
       " None,\n",
       " None,\n",
       " None,\n",
       " None,\n",
       " None,\n",
       " None,\n",
       " None,\n",
       " None,\n",
       " None,\n",
       " None,\n",
       " None,\n",
       " None,\n",
       " None,\n",
       " None,\n",
       " None,\n",
       " None,\n",
       " None,\n",
       " None,\n",
       " None,\n",
       " None,\n",
       " None]"
      ]
     },
     "execution_count": 5,
     "metadata": {},
     "output_type": "execute_result"
    }
   ],
   "source": [
    "cnvutils.multi_runner(\n",
    "    func=cnvutils.event_effects_ttest,\n",
    "    sources=[\"cptac\", \"gistic\"],\n",
    "    levels=[\"gene\"],\n",
    "    chromosomes_events={\n",
    "        8: {\n",
    "            \"p\": [\"loss\"],\n",
    "            \"q\": [\"gain\"],\n",
    "        },\n",
    "    },\n",
    "    more_dicts=[\n",
    "        {\n",
    "            \"name\": \"comparison\",\n",
    "            \"vals\": [\"has_event\"]\n",
    "        },\n",
    "        {\n",
    "            \"name\": \"tissue_type\",\n",
    "            \"vals\": [\"tumor\", \"normal\"],\n",
    "        },\n",
    "        {\n",
    "            \"name\": \"proteomics_or_transcriptomics\",\n",
    "            \"vals\": [\"proteomics\", \"transcriptomics\"],\n",
    "        },\n",
    "        {\n",
    "            \"name\": \"cis_or_trans\",\n",
    "            \"vals\": [\"cis\", \"trans\"],\n",
    "        },\n",
    "    ]\n",
    ")"
   ]
  },
  {
   "cell_type": "markdown",
   "id": "e8db555d",
   "metadata": {},
   "source": [
    "## RNA and protein expressions for each gene, comparing tumor to normal, looking at  samples with the event and samples without the event separately"
   ]
  },
  {
   "cell_type": "code",
   "execution_count": 1,
   "id": "3622067c",
   "metadata": {},
   "outputs": [
    {
     "name": "stdout",
     "output_type": "stream",
     "text": [
      "                                                                                \r"
     ]
    }
   ],
   "source": [
    "import cnvutils\n",
    "import cptac\n",
    "import numpy as np\n",
    "\n",
    "df = cnvutils.event_effects_ttest(\n",
    "    chromosome=8,\n",
    "    arm=\"p\",\n",
    "    event_start=406428,\n",
    "    event_end=38176533,\n",
    "    gain_or_loss=\"loss\",\n",
    "    cis_or_trans=\"cis\",\n",
    "    proteomics_or_transcriptomics=\"proteomics\",\n",
    "    cancer_types=[\"coad\"],#[\"brca\", \"coad\", \"hnscc\", \"lscc\", \"luad\", \"ov\"],\n",
    "    source=\"cptac\",\n",
    "    comparison=\"tissue_type\",\n",
    "    tissue_type=None,\n",
    "    has_event=True,\n",
    ")"
   ]
  },
  {
   "cell_type": "code",
   "execution_count": 2,
   "id": "8c3a10bf",
   "metadata": {},
   "outputs": [
    {
     "data": {
      "text/html": [
       "<div>\n",
       "<style scoped>\n",
       "    .dataframe tbody tr th:only-of-type {\n",
       "        vertical-align: middle;\n",
       "    }\n",
       "\n",
       "    .dataframe tbody tr th {\n",
       "        vertical-align: top;\n",
       "    }\n",
       "\n",
       "    .dataframe thead th {\n",
       "        text-align: right;\n",
       "    }\n",
       "</style>\n",
       "<table border=\"1\" class=\"dataframe\">\n",
       "  <thead>\n",
       "    <tr style=\"text-align: right;\">\n",
       "      <th></th>\n",
       "      <th>Name</th>\n",
       "      <th>Database_ID</th>\n",
       "      <th>adj_p</th>\n",
       "      <th>cancer_type</th>\n",
       "    </tr>\n",
       "  </thead>\n",
       "  <tbody>\n",
       "    <tr>\n",
       "      <th>0</th>\n",
       "      <td>EPHX2</td>\n",
       "      <td>ENSP00000430269</td>\n",
       "      <td>1.746631e-17</td>\n",
       "      <td>coad</td>\n",
       "    </tr>\n",
       "    <tr>\n",
       "      <th>1</th>\n",
       "      <td>DPYSL2</td>\n",
       "      <td>ENSP00000427985</td>\n",
       "      <td>2.136289e-14</td>\n",
       "      <td>coad</td>\n",
       "    </tr>\n",
       "    <tr>\n",
       "      <th>2</th>\n",
       "      <td>GSR</td>\n",
       "      <td>ENSP00000221130</td>\n",
       "      <td>5.788921e-12</td>\n",
       "      <td>coad</td>\n",
       "    </tr>\n",
       "    <tr>\n",
       "      <th>3</th>\n",
       "      <td>DMTN</td>\n",
       "      <td>ENSP00000370879</td>\n",
       "      <td>1.907147e-11</td>\n",
       "      <td>coad</td>\n",
       "    </tr>\n",
       "    <tr>\n",
       "      <th>4</th>\n",
       "      <td>DCTN6</td>\n",
       "      <td>ENSP00000221114</td>\n",
       "      <td>4.733615e-11</td>\n",
       "      <td>coad</td>\n",
       "    </tr>\n",
       "    <tr>\n",
       "      <th>5</th>\n",
       "      <td>KBTBD11</td>\n",
       "      <td>ENSP00000321544</td>\n",
       "      <td>9.007027e-10</td>\n",
       "      <td>coad</td>\n",
       "    </tr>\n",
       "    <tr>\n",
       "      <th>6</th>\n",
       "      <td>XPO7</td>\n",
       "      <td>ENSP00000252512</td>\n",
       "      <td>9.658454e-10</td>\n",
       "      <td>coad</td>\n",
       "    </tr>\n",
       "    <tr>\n",
       "      <th>7</th>\n",
       "      <td>BIN3</td>\n",
       "      <td>ENSP00000276416</td>\n",
       "      <td>9.658454e-10</td>\n",
       "      <td>coad</td>\n",
       "    </tr>\n",
       "    <tr>\n",
       "      <th>8</th>\n",
       "      <td>SORBS3</td>\n",
       "      <td>ENSP00000240123</td>\n",
       "      <td>2.328667e-09</td>\n",
       "      <td>coad</td>\n",
       "    </tr>\n",
       "    <tr>\n",
       "      <th>9</th>\n",
       "      <td>PPP2R2A</td>\n",
       "      <td>ENSP00000370113</td>\n",
       "      <td>3.995426e-08</td>\n",
       "      <td>coad</td>\n",
       "    </tr>\n",
       "    <tr>\n",
       "      <th>10</th>\n",
       "      <td>PPP2CB</td>\n",
       "      <td>ENSP00000221138</td>\n",
       "      <td>1.258315e-07</td>\n",
       "      <td>coad</td>\n",
       "    </tr>\n",
       "    <tr>\n",
       "      <th>11</th>\n",
       "      <td>KIF13B</td>\n",
       "      <td>ENSP00000427900</td>\n",
       "      <td>1.363323e-07</td>\n",
       "      <td>coad</td>\n",
       "    </tr>\n",
       "    <tr>\n",
       "      <th>12</th>\n",
       "      <td>SCARA5</td>\n",
       "      <td>ENSP00000346990</td>\n",
       "      <td>1.363323e-07</td>\n",
       "      <td>coad</td>\n",
       "    </tr>\n",
       "    <tr>\n",
       "      <th>13</th>\n",
       "      <td>RBPMS</td>\n",
       "      <td>ENSP00000287771</td>\n",
       "      <td>2.227801e-07</td>\n",
       "      <td>coad</td>\n",
       "    </tr>\n",
       "    <tr>\n",
       "      <th>14</th>\n",
       "      <td>CHMP7</td>\n",
       "      <td>ENSP00000324491</td>\n",
       "      <td>2.227801e-07</td>\n",
       "      <td>coad</td>\n",
       "    </tr>\n",
       "    <tr>\n",
       "      <th>15</th>\n",
       "      <td>PCM1</td>\n",
       "      <td>ENSP00000327077</td>\n",
       "      <td>3.160263e-07</td>\n",
       "      <td>coad</td>\n",
       "    </tr>\n",
       "    <tr>\n",
       "      <th>16</th>\n",
       "      <td>NEFL</td>\n",
       "      <td>ENSP00000482169</td>\n",
       "      <td>3.886263e-07</td>\n",
       "      <td>coad</td>\n",
       "    </tr>\n",
       "    <tr>\n",
       "      <th>17</th>\n",
       "      <td>ADAMDEC1</td>\n",
       "      <td>ENSP00000256412</td>\n",
       "      <td>7.186566e-07</td>\n",
       "      <td>coad</td>\n",
       "    </tr>\n",
       "    <tr>\n",
       "      <th>18</th>\n",
       "      <td>ASH2L</td>\n",
       "      <td>ENSP00000340896</td>\n",
       "      <td>1.095019e-06</td>\n",
       "      <td>coad</td>\n",
       "    </tr>\n",
       "    <tr>\n",
       "      <th>19</th>\n",
       "      <td>MTMR9</td>\n",
       "      <td>ENSP00000221086</td>\n",
       "      <td>4.188551e-06</td>\n",
       "      <td>coad</td>\n",
       "    </tr>\n",
       "    <tr>\n",
       "      <th>20</th>\n",
       "      <td>NAT1</td>\n",
       "      <td>ENSP00000307218</td>\n",
       "      <td>4.227197e-06</td>\n",
       "      <td>coad</td>\n",
       "    </tr>\n",
       "    <tr>\n",
       "      <th>21</th>\n",
       "      <td>MSRA</td>\n",
       "      <td>ENSP00000313921</td>\n",
       "      <td>5.063206e-06</td>\n",
       "      <td>coad</td>\n",
       "    </tr>\n",
       "    <tr>\n",
       "      <th>22</th>\n",
       "      <td>CLU</td>\n",
       "      <td>ENSP00000315130</td>\n",
       "      <td>6.243924e-06</td>\n",
       "      <td>coad</td>\n",
       "    </tr>\n",
       "    <tr>\n",
       "      <th>23</th>\n",
       "      <td>VPS37A</td>\n",
       "      <td>ENSP00000318629</td>\n",
       "      <td>7.975622e-06</td>\n",
       "      <td>coad</td>\n",
       "    </tr>\n",
       "    <tr>\n",
       "      <th>24</th>\n",
       "      <td>CCDC25</td>\n",
       "      <td>ENSP00000348933</td>\n",
       "      <td>6.989158e-05</td>\n",
       "      <td>coad</td>\n",
       "    </tr>\n",
       "    <tr>\n",
       "      <th>25</th>\n",
       "      <td>DOCK5</td>\n",
       "      <td>ENSP00000276440</td>\n",
       "      <td>7.103426e-05</td>\n",
       "      <td>coad</td>\n",
       "    </tr>\n",
       "    <tr>\n",
       "      <th>26</th>\n",
       "      <td>PTK2B</td>\n",
       "      <td>ENSP00000332816</td>\n",
       "      <td>2.142061e-04</td>\n",
       "      <td>coad</td>\n",
       "    </tr>\n",
       "    <tr>\n",
       "      <th>27</th>\n",
       "      <td>PDLIM2</td>\n",
       "      <td>ENSP00000380867</td>\n",
       "      <td>3.380088e-04</td>\n",
       "      <td>coad</td>\n",
       "    </tr>\n",
       "    <tr>\n",
       "      <th>28</th>\n",
       "      <td>DEFA3</td>\n",
       "      <td>ENSP00000328359</td>\n",
       "      <td>6.088556e-04</td>\n",
       "      <td>coad</td>\n",
       "    </tr>\n",
       "    <tr>\n",
       "      <th>29</th>\n",
       "      <td>ANGPT2</td>\n",
       "      <td>ENSP00000314897</td>\n",
       "      <td>1.373550e-03</td>\n",
       "      <td>coad</td>\n",
       "    </tr>\n",
       "    <tr>\n",
       "      <th>...</th>\n",
       "      <td>...</td>\n",
       "      <td>...</td>\n",
       "      <td>...</td>\n",
       "      <td>...</td>\n",
       "    </tr>\n",
       "    <tr>\n",
       "      <th>48</th>\n",
       "      <td>INTS10</td>\n",
       "      <td>ENSP00000381064</td>\n",
       "      <td>6.349215e-02</td>\n",
       "      <td>coad</td>\n",
       "    </tr>\n",
       "    <tr>\n",
       "      <th>49</th>\n",
       "      <td>REEP4</td>\n",
       "      <td>ENSP00000303482</td>\n",
       "      <td>6.391001e-02</td>\n",
       "      <td>coad</td>\n",
       "    </tr>\n",
       "    <tr>\n",
       "      <th>50</th>\n",
       "      <td>PINX1</td>\n",
       "      <td>ENSP00000318966</td>\n",
       "      <td>6.391001e-02</td>\n",
       "      <td>coad</td>\n",
       "    </tr>\n",
       "    <tr>\n",
       "      <th>51</th>\n",
       "      <td>DEFA6</td>\n",
       "      <td>ENSP00000297436</td>\n",
       "      <td>6.391001e-02</td>\n",
       "      <td>coad</td>\n",
       "    </tr>\n",
       "    <tr>\n",
       "      <th>52</th>\n",
       "      <td>ASAH1</td>\n",
       "      <td>ENSP00000262097</td>\n",
       "      <td>7.648199e-02</td>\n",
       "      <td>coad</td>\n",
       "    </tr>\n",
       "    <tr>\n",
       "      <th>53</th>\n",
       "      <td>PRAG1</td>\n",
       "      <td>ENSP00000479068</td>\n",
       "      <td>1.435768e-01</td>\n",
       "      <td>coad</td>\n",
       "    </tr>\n",
       "    <tr>\n",
       "      <th>54</th>\n",
       "      <td>LOXL2</td>\n",
       "      <td>ENSP00000373783</td>\n",
       "      <td>1.546519e-01</td>\n",
       "      <td>coad</td>\n",
       "    </tr>\n",
       "    <tr>\n",
       "      <th>55</th>\n",
       "      <td>PPP3CC</td>\n",
       "      <td>ENSP00000240139</td>\n",
       "      <td>1.583264e-01</td>\n",
       "      <td>coad</td>\n",
       "    </tr>\n",
       "    <tr>\n",
       "      <th>56</th>\n",
       "      <td>HMBOX1</td>\n",
       "      <td>ENSP00000287701</td>\n",
       "      <td>1.818706e-01</td>\n",
       "      <td>coad</td>\n",
       "    </tr>\n",
       "    <tr>\n",
       "      <th>57</th>\n",
       "      <td>DEFA4</td>\n",
       "      <td>ENSP00000297435</td>\n",
       "      <td>2.833770e-01</td>\n",
       "      <td>coad</td>\n",
       "    </tr>\n",
       "    <tr>\n",
       "      <th>58</th>\n",
       "      <td>BRF2</td>\n",
       "      <td>ENSP00000220659</td>\n",
       "      <td>2.867131e-01</td>\n",
       "      <td>coad</td>\n",
       "    </tr>\n",
       "    <tr>\n",
       "      <th>59</th>\n",
       "      <td>ERI1</td>\n",
       "      <td>ENSP00000250263</td>\n",
       "      <td>2.992676e-01</td>\n",
       "      <td>coad</td>\n",
       "    </tr>\n",
       "    <tr>\n",
       "      <th>60</th>\n",
       "      <td>INTS9</td>\n",
       "      <td>ENSP00000398208</td>\n",
       "      <td>3.628332e-01</td>\n",
       "      <td>coad</td>\n",
       "    </tr>\n",
       "    <tr>\n",
       "      <th>61</th>\n",
       "      <td>SLC39A14</td>\n",
       "      <td>ENSP00000240095</td>\n",
       "      <td>3.628332e-01</td>\n",
       "      <td>coad</td>\n",
       "    </tr>\n",
       "    <tr>\n",
       "      <th>62</th>\n",
       "      <td>SARAF</td>\n",
       "      <td>ENSP00000256255</td>\n",
       "      <td>3.628332e-01</td>\n",
       "      <td>coad</td>\n",
       "    </tr>\n",
       "    <tr>\n",
       "      <th>63</th>\n",
       "      <td>BMP1</td>\n",
       "      <td>ENSP00000305714</td>\n",
       "      <td>3.628332e-01</td>\n",
       "      <td>coad</td>\n",
       "    </tr>\n",
       "    <tr>\n",
       "      <th>64</th>\n",
       "      <td>DOK2</td>\n",
       "      <td>ENSP00000276420</td>\n",
       "      <td>3.628332e-01</td>\n",
       "      <td>coad</td>\n",
       "    </tr>\n",
       "    <tr>\n",
       "      <th>65</th>\n",
       "      <td>NEFM</td>\n",
       "      <td>ENSP00000221166</td>\n",
       "      <td>3.628332e-01</td>\n",
       "      <td>coad</td>\n",
       "    </tr>\n",
       "    <tr>\n",
       "      <th>66</th>\n",
       "      <td>FDFT1</td>\n",
       "      <td>ENSP00000220584</td>\n",
       "      <td>4.022705e-01</td>\n",
       "      <td>coad</td>\n",
       "    </tr>\n",
       "    <tr>\n",
       "      <th>67</th>\n",
       "      <td>ADGRA2</td>\n",
       "      <td>ENSP00000323508</td>\n",
       "      <td>4.022705e-01</td>\n",
       "      <td>coad</td>\n",
       "    </tr>\n",
       "    <tr>\n",
       "      <th>68</th>\n",
       "      <td>CTSB</td>\n",
       "      <td>ENSP00000342070</td>\n",
       "      <td>4.082976e-01</td>\n",
       "      <td>coad</td>\n",
       "    </tr>\n",
       "    <tr>\n",
       "      <th>69</th>\n",
       "      <td>CCAR2</td>\n",
       "      <td>ENSP00000310670</td>\n",
       "      <td>4.146707e-01</td>\n",
       "      <td>coad</td>\n",
       "    </tr>\n",
       "    <tr>\n",
       "      <th>70</th>\n",
       "      <td>PBK</td>\n",
       "      <td>ENSP00000301905</td>\n",
       "      <td>5.725049e-01</td>\n",
       "      <td>coad</td>\n",
       "    </tr>\n",
       "    <tr>\n",
       "      <th>71</th>\n",
       "      <td>POLR3D</td>\n",
       "      <td>ENSP00000303088</td>\n",
       "      <td>6.491154e-01</td>\n",
       "      <td>coad</td>\n",
       "    </tr>\n",
       "    <tr>\n",
       "      <th>72</th>\n",
       "      <td>TNFRSF10B</td>\n",
       "      <td>ENSP00000276431</td>\n",
       "      <td>6.491154e-01</td>\n",
       "      <td>coad</td>\n",
       "    </tr>\n",
       "    <tr>\n",
       "      <th>73</th>\n",
       "      <td>ELP3</td>\n",
       "      <td>ENSP00000256398</td>\n",
       "      <td>7.184936e-01</td>\n",
       "      <td>coad</td>\n",
       "    </tr>\n",
       "    <tr>\n",
       "      <th>74</th>\n",
       "      <td>AGPAT5</td>\n",
       "      <td>ENSP00000285518</td>\n",
       "      <td>7.184936e-01</td>\n",
       "      <td>coad</td>\n",
       "    </tr>\n",
       "    <tr>\n",
       "      <th>75</th>\n",
       "      <td>CNOT7</td>\n",
       "      <td>ENSP00000355279</td>\n",
       "      <td>7.293882e-01</td>\n",
       "      <td>coad</td>\n",
       "    </tr>\n",
       "    <tr>\n",
       "      <th>76</th>\n",
       "      <td>EIF4EBP1</td>\n",
       "      <td>ENSP00000340691</td>\n",
       "      <td>7.400545e-01</td>\n",
       "      <td>coad</td>\n",
       "    </tr>\n",
       "    <tr>\n",
       "      <th>77</th>\n",
       "      <td>SH2D4A</td>\n",
       "      <td>ENSP00000265807</td>\n",
       "      <td>8.015278e-01</td>\n",
       "      <td>coad</td>\n",
       "    </tr>\n",
       "  </tbody>\n",
       "</table>\n",
       "<p>78 rows × 4 columns</p>\n",
       "</div>"
      ],
      "text/plain": [
       "         Name      Database_ID         adj_p cancer_type\n",
       "0       EPHX2  ENSP00000430269  1.746631e-17        coad\n",
       "1      DPYSL2  ENSP00000427985  2.136289e-14        coad\n",
       "2         GSR  ENSP00000221130  5.788921e-12        coad\n",
       "3        DMTN  ENSP00000370879  1.907147e-11        coad\n",
       "4       DCTN6  ENSP00000221114  4.733615e-11        coad\n",
       "5     KBTBD11  ENSP00000321544  9.007027e-10        coad\n",
       "6        XPO7  ENSP00000252512  9.658454e-10        coad\n",
       "7        BIN3  ENSP00000276416  9.658454e-10        coad\n",
       "8      SORBS3  ENSP00000240123  2.328667e-09        coad\n",
       "9     PPP2R2A  ENSP00000370113  3.995426e-08        coad\n",
       "10     PPP2CB  ENSP00000221138  1.258315e-07        coad\n",
       "11     KIF13B  ENSP00000427900  1.363323e-07        coad\n",
       "12     SCARA5  ENSP00000346990  1.363323e-07        coad\n",
       "13      RBPMS  ENSP00000287771  2.227801e-07        coad\n",
       "14      CHMP7  ENSP00000324491  2.227801e-07        coad\n",
       "15       PCM1  ENSP00000327077  3.160263e-07        coad\n",
       "16       NEFL  ENSP00000482169  3.886263e-07        coad\n",
       "17   ADAMDEC1  ENSP00000256412  7.186566e-07        coad\n",
       "18      ASH2L  ENSP00000340896  1.095019e-06        coad\n",
       "19      MTMR9  ENSP00000221086  4.188551e-06        coad\n",
       "20       NAT1  ENSP00000307218  4.227197e-06        coad\n",
       "21       MSRA  ENSP00000313921  5.063206e-06        coad\n",
       "22        CLU  ENSP00000315130  6.243924e-06        coad\n",
       "23     VPS37A  ENSP00000318629  7.975622e-06        coad\n",
       "24     CCDC25  ENSP00000348933  6.989158e-05        coad\n",
       "25      DOCK5  ENSP00000276440  7.103426e-05        coad\n",
       "26      PTK2B  ENSP00000332816  2.142061e-04        coad\n",
       "27     PDLIM2  ENSP00000380867  3.380088e-04        coad\n",
       "28      DEFA3  ENSP00000328359  6.088556e-04        coad\n",
       "29     ANGPT2  ENSP00000314897  1.373550e-03        coad\n",
       "..        ...              ...           ...         ...\n",
       "48     INTS10  ENSP00000381064  6.349215e-02        coad\n",
       "49      REEP4  ENSP00000303482  6.391001e-02        coad\n",
       "50      PINX1  ENSP00000318966  6.391001e-02        coad\n",
       "51      DEFA6  ENSP00000297436  6.391001e-02        coad\n",
       "52      ASAH1  ENSP00000262097  7.648199e-02        coad\n",
       "53      PRAG1  ENSP00000479068  1.435768e-01        coad\n",
       "54      LOXL2  ENSP00000373783  1.546519e-01        coad\n",
       "55     PPP3CC  ENSP00000240139  1.583264e-01        coad\n",
       "56     HMBOX1  ENSP00000287701  1.818706e-01        coad\n",
       "57      DEFA4  ENSP00000297435  2.833770e-01        coad\n",
       "58       BRF2  ENSP00000220659  2.867131e-01        coad\n",
       "59       ERI1  ENSP00000250263  2.992676e-01        coad\n",
       "60      INTS9  ENSP00000398208  3.628332e-01        coad\n",
       "61   SLC39A14  ENSP00000240095  3.628332e-01        coad\n",
       "62      SARAF  ENSP00000256255  3.628332e-01        coad\n",
       "63       BMP1  ENSP00000305714  3.628332e-01        coad\n",
       "64       DOK2  ENSP00000276420  3.628332e-01        coad\n",
       "65       NEFM  ENSP00000221166  3.628332e-01        coad\n",
       "66      FDFT1  ENSP00000220584  4.022705e-01        coad\n",
       "67     ADGRA2  ENSP00000323508  4.022705e-01        coad\n",
       "68       CTSB  ENSP00000342070  4.082976e-01        coad\n",
       "69      CCAR2  ENSP00000310670  4.146707e-01        coad\n",
       "70        PBK  ENSP00000301905  5.725049e-01        coad\n",
       "71     POLR3D  ENSP00000303088  6.491154e-01        coad\n",
       "72  TNFRSF10B  ENSP00000276431  6.491154e-01        coad\n",
       "73       ELP3  ENSP00000256398  7.184936e-01        coad\n",
       "74     AGPAT5  ENSP00000285518  7.184936e-01        coad\n",
       "75      CNOT7  ENSP00000355279  7.293882e-01        coad\n",
       "76   EIF4EBP1  ENSP00000340691  7.400545e-01        coad\n",
       "77     SH2D4A  ENSP00000265807  8.015278e-01        coad\n",
       "\n",
       "[78 rows x 4 columns]"
      ]
     },
     "execution_count": 2,
     "metadata": {},
     "output_type": "execute_result"
    }
   ],
   "source": [
    "df"
   ]
  },
  {
   "cell_type": "code",
   "execution_count": 5,
   "id": "872df3d3",
   "metadata": {
    "scrolled": true
   },
   "outputs": [
    {
     "name": "stdout",
     "output_type": "stream",
     "text": [
      "Running event_effects_ttest with {'chromosome': 8, 'arm': 'p', 'event_start': 406428, 'event_end': 38176533, 'gain_or_loss': 'loss', 'cis_or_trans': 'trans', 'proteomics_or_transcriptomics': 'proteomics', 'tissue_type': 'tumor', 'cancer_types': ['brca', 'coad', 'hnscc', 'lscc', 'luad', 'ov'], 'source': 'cptac', 'level': None, 'data_dir': '/home/caleb/github/PayneLab/pancancerCNV/00_functions/chr08/../data'}...\n",
      "Running event_effects_ttest with {'chromosome': 8, 'arm': 'p', 'event_start': 406428, 'event_end': 38176533, 'gain_or_loss': 'loss', 'cis_or_trans': 'trans', 'proteomics_or_transcriptomics': 'transcriptomics', 'tissue_type': 'tumor', 'cancer_types': ['brca', 'coad', 'hnscc', 'lscc', 'luad', 'ov'], 'source': 'cptac', 'level': None, 'data_dir': '/home/caleb/github/PayneLab/pancancerCNV/00_functions/chr08/../data'}...\n",
      "Running event_effects_ttest with {'chromosome': 8, 'arm': 'p', 'event_start': 406428, 'event_end': 38176533, 'gain_or_loss': 'loss', 'cis_or_trans': 'cis', 'proteomics_or_transcriptomics': 'proteomics', 'tissue_type': 'tumor', 'cancer_types': ['brca', 'coad', 'hnscc', 'lscc', 'luad', 'ov'], 'source': 'cptac', 'level': None, 'data_dir': '/home/caleb/github/PayneLab/pancancerCNV/00_functions/chr08/../data'}...\n",
      "Running event_effects_ttest with {'chromosome': 8, 'arm': 'p', 'event_start': 406428, 'event_end': 38176533, 'gain_or_loss': 'loss', 'cis_or_trans': 'cis', 'proteomics_or_transcriptomics': 'transcriptomics', 'tissue_type': 'tumor', 'cancer_types': ['brca', 'coad', 'hnscc', 'lscc', 'luad', 'ov'], 'source': 'cptac', 'level': None, 'data_dir': '/home/caleb/github/PayneLab/pancancerCNV/00_functions/chr08/../data'}...\n",
      "Running event_effects_ttest with {'chromosome': 8, 'arm': 'p', 'event_start': 406428, 'event_end': 38176533, 'gain_or_loss': 'loss', 'cis_or_trans': 'cis', 'proteomics_or_transcriptomics': 'proteomics', 'tissue_type': 'normal', 'cancer_types': ['brca', 'coad', 'hnscc', 'lscc', 'luad', 'ov'], 'source': 'cptac', 'level': None, 'data_dir': '/home/caleb/github/PayneLab/pancancerCNV/00_functions/chr08/../data'}...\n",
      "Running event_effects_ttest with {'chromosome': 8, 'arm': 'p', 'event_start': 406428, 'event_end': 38176533, 'gain_or_loss': 'loss', 'cis_or_trans': 'trans', 'proteomics_or_transcriptomics': 'proteomics', 'tissue_type': 'normal', 'cancer_types': ['brca', 'coad', 'hnscc', 'lscc', 'luad', 'ov'], 'source': 'cptac', 'level': None, 'data_dir': '/home/caleb/github/PayneLab/pancancerCNV/00_functions/chr08/../data'}...\n",
      "Running event_effects_ttest with {'chromosome': 8, 'arm': 'p', 'event_start': 406428, 'event_end': 38176533, 'gain_or_loss': 'loss', 'cis_or_trans': 'cis', 'proteomics_or_transcriptomics': 'transcriptomics', 'tissue_type': 'normal', 'cancer_types': ['brca', 'coad', 'hnscc', 'lscc', 'luad', 'ov'], 'source': 'cptac', 'level': None, 'data_dir': '/home/caleb/github/PayneLab/pancancerCNV/00_functions/chr08/../data'}...\n",
      "Running event_effects_ttest with {'chromosome': 8, 'arm': 'p', 'event_start': 406428, 'event_end': 38176533, 'gain_or_loss': 'loss', 'cis_or_trans': 'trans', 'proteomics_or_transcriptomics': 'transcriptomics', 'tissue_type': 'normal', 'cancer_types': ['brca', 'coad', 'hnscc', 'lscc', 'luad', 'ov'], 'source': 'cptac', 'level': None, 'data_dir': '/home/caleb/github/PayneLab/pancancerCNV/00_functions/chr08/../data'}...\n",
      "\n",
      "\n",
      "\n",
      "\n",
      "\n",
      "\n",
      "\n",
      "Loading brca proteomics (1/6)...                              Loading brca proteomics (1/6)...                              Loading brca transcriptomics (1/6)...                              Loading brca transcriptomics (1/6)...                              Loading brca proteomics (1/6)...                              \n",
      "                                                                                proteomics (1/6)...                              \r"
     ]
    },
    {
     "name": "stderr",
     "output_type": "stream",
     "text": [
      "/home/caleb/anaconda3/envs/dev/lib/python3.10/site-packages/cnvutils/chromosome_funcs.py:315: UserWarning: Empty dataframe for cancer_type=brca, tissue_type=normal, source=cptac, level=None, chromosome=8, arm=p, gain_or_loss=loss, cis_or_trans=cis, proteomics_or_transcriptomics=proteomics.\n",
      "  warnings.warn(f\"Empty dataframe for cancer_type={cancer_type}, tissue_type={tissue_type}, source={source}, level={level}, chromosome={chromosome}, arm={arm}, gain_or_loss={gain_or_loss}, cis_or_trans={cis_or_trans}, proteomics_or_transcriptomics={proteomics_or_transcriptomics}.\")\n",
      "/home/caleb/anaconda3/envs/dev/lib/python3.10/site-packages/cnvutils/chromosome_funcs.py:315: UserWarning: Empty dataframe for cancer_type=brca, tissue_type=normal, source=cptac, level=None, chromosome=8, arm=p, gain_or_loss=loss, cis_or_trans=trans, proteomics_or_transcriptomics=proteomics.\n",
      "  warnings.warn(f\"Empty dataframe for cancer_type={cancer_type}, tissue_type={tissue_type}, source={source}, level={level}, chromosome={chromosome}, arm={arm}, gain_or_loss={gain_or_loss}, cis_or_trans={cis_or_trans}, proteomics_or_transcriptomics={proteomics_or_transcriptomics}.\")\n",
      "/home/caleb/anaconda3/envs/dev/lib/python3.10/site-packages/cnvutils/chromosome_funcs.py:370: UserWarning: Too small sample size for cancer_type=ov, tissue_type=normal, source=cptac, level=None, chromosome=8, arm=p, gain_or_loss=loss, cis_or_trans=cis, proteomics_or_transcriptomics=proteomics.\n",
      "  warnings.warn(f\"Too small sample size for cancer_type={cancer_type}, tissue_type={tissue_type}, source={source}, level={level}, chromosome={chromosome}, arm={arm}, gain_or_loss={gain_or_loss}, cis_or_trans={cis_or_trans}, proteomics_or_transcriptomics={proteomics_or_transcriptomics}.\")\n"
     ]
    },
    {
     "name": "stdout",
     "output_type": "stream",
     "text": [
      "Running event_effects_ttest with {'chromosome': 8, 'arm': 'q', 'event_start': 47260878, 'event_end': 145052465, 'gain_or_loss': 'gain', 'cis_or_trans': 'cis', 'proteomics_or_transcriptomics': 'proteomics', 'tissue_type': 'tumor', 'cancer_types': ['brca', 'coad', 'hnscc', 'lscc', 'luad', 'ov'], 'source': 'cptac', 'level': None, 'data_dir': '/home/caleb/github/PayneLab/pancancerCNV/00_functions/chr08/../data'}...\n",
      "\n",
      "Running event_effects_ttest with {'chromosome': 8, 'arm': 'q', 'event_start': 47260878, 'event_end': 145052465, 'gain_or_loss': 'gain', 'cis_or_trans': 'trans', 'proteomics_or_transcriptomics': 'proteomics', 'tissue_type': 'tumor', 'cancer_types': ['brca', 'coad', 'hnscc', 'lscc', 'luad', 'ov'], 'source': 'cptac', 'level': None, 'data_dir': '/home/caleb/github/PayneLab/pancancerCNV/00_functions/chr08/../data'}...\n",
      "\n",
      "Running event_effects_ttest with {'chromosome': 8, 'arm': 'q', 'event_start': 47260878, 'event_end': 145052465, 'gain_or_loss': 'gain', 'cis_or_trans': 'cis', 'proteomics_or_transcriptomics': 'transcriptomics', 'tissue_type': 'tumor', 'cancer_types': ['brca', 'coad', 'hnscc', 'lscc', 'luad', 'ov'], 'source': 'cptac', 'level': None, 'data_dir': '/home/caleb/github/PayneLab/pancancerCNV/00_functions/chr08/../data'}...\n",
      "\n",
      "Loading lscc transcriptomics (4/6)...                               \r"
     ]
    },
    {
     "name": "stderr",
     "output_type": "stream",
     "text": [
      "/home/caleb/anaconda3/envs/dev/lib/python3.10/site-packages/cnvutils/chromosome_funcs.py:370: UserWarning: Too small sample size for cancer_type=ov, tissue_type=normal, source=cptac, level=None, chromosome=8, arm=p, gain_or_loss=loss, cis_or_trans=trans, proteomics_or_transcriptomics=proteomics.\n",
      "  warnings.warn(f\"Too small sample size for cancer_type={cancer_type}, tissue_type={tissue_type}, source={source}, level={level}, chromosome={chromosome}, arm={arm}, gain_or_loss={gain_or_loss}, cis_or_trans={cis_or_trans}, proteomics_or_transcriptomics={proteomics_or_transcriptomics}.\")\n"
     ]
    },
    {
     "name": "stdout",
     "output_type": "stream",
     "text": [
      "                                                                                \r"
     ]
    },
    {
     "name": "stderr",
     "output_type": "stream",
     "text": [
      "/home/caleb/anaconda3/envs/dev/lib/python3.10/site-packages/cnvutils/chromosome_funcs.py:315: UserWarning: Empty dataframe for cancer_type=brca, tissue_type=normal, source=cptac, level=None, chromosome=8, arm=p, gain_or_loss=loss, cis_or_trans=cis, proteomics_or_transcriptomics=transcriptomics.\n",
      "  warnings.warn(f\"Empty dataframe for cancer_type={cancer_type}, tissue_type={tissue_type}, source={source}, level={level}, chromosome={chromosome}, arm={arm}, gain_or_loss={gain_or_loss}, cis_or_trans={cis_or_trans}, proteomics_or_transcriptomics={proteomics_or_transcriptomics}.\")\n",
      "/home/caleb/anaconda3/envs/dev/lib/python3.10/site-packages/cnvutils/chromosome_funcs.py:315: UserWarning: Empty dataframe for cancer_type=coad, tissue_type=normal, source=cptac, level=None, chromosome=8, arm=p, gain_or_loss=loss, cis_or_trans=cis, proteomics_or_transcriptomics=transcriptomics.\n",
      "  warnings.warn(f\"Empty dataframe for cancer_type={cancer_type}, tissue_type={tissue_type}, source={source}, level={level}, chromosome={chromosome}, arm={arm}, gain_or_loss={gain_or_loss}, cis_or_trans={cis_or_trans}, proteomics_or_transcriptomics={proteomics_or_transcriptomics}.\")\n",
      "/home/caleb/anaconda3/envs/dev/lib/python3.10/site-packages/cnvutils/chromosome_funcs.py:315: UserWarning: Empty dataframe for cancer_type=ov, tissue_type=normal, source=cptac, level=None, chromosome=8, arm=p, gain_or_loss=loss, cis_or_trans=cis, proteomics_or_transcriptomics=transcriptomics.\n",
      "  warnings.warn(f\"Empty dataframe for cancer_type={cancer_type}, tissue_type={tissue_type}, source={source}, level={level}, chromosome={chromosome}, arm={arm}, gain_or_loss={gain_or_loss}, cis_or_trans={cis_or_trans}, proteomics_or_transcriptomics={proteomics_or_transcriptomics}.\")\n"
     ]
    },
    {
     "name": "stdout",
     "output_type": "stream",
     "text": [
      "                                                                                \r"
     ]
    },
    {
     "name": "stderr",
     "output_type": "stream",
     "text": [
      "/home/caleb/anaconda3/envs/dev/lib/python3.10/site-packages/cnvutils/chromosome_funcs.py:315: UserWarning: Empty dataframe for cancer_type=brca, tissue_type=normal, source=cptac, level=None, chromosome=8, arm=p, gain_or_loss=loss, cis_or_trans=trans, proteomics_or_transcriptomics=transcriptomics.\n",
      "  warnings.warn(f\"Empty dataframe for cancer_type={cancer_type}, tissue_type={tissue_type}, source={source}, level={level}, chromosome={chromosome}, arm={arm}, gain_or_loss={gain_or_loss}, cis_or_trans={cis_or_trans}, proteomics_or_transcriptomics={proteomics_or_transcriptomics}.\")\n",
      "/home/caleb/anaconda3/envs/dev/lib/python3.10/site-packages/cnvutils/chromosome_funcs.py:315: UserWarning: Empty dataframe for cancer_type=coad, tissue_type=normal, source=cptac, level=None, chromosome=8, arm=p, gain_or_loss=loss, cis_or_trans=trans, proteomics_or_transcriptomics=transcriptomics.\n",
      "  warnings.warn(f\"Empty dataframe for cancer_type={cancer_type}, tissue_type={tissue_type}, source={source}, level={level}, chromosome={chromosome}, arm={arm}, gain_or_loss={gain_or_loss}, cis_or_trans={cis_or_trans}, proteomics_or_transcriptomics={proteomics_or_transcriptomics}.\")\n",
      "/home/caleb/anaconda3/envs/dev/lib/python3.10/site-packages/cnvutils/chromosome_funcs.py:315: UserWarning: Empty dataframe for cancer_type=ov, tissue_type=normal, source=cptac, level=None, chromosome=8, arm=p, gain_or_loss=loss, cis_or_trans=trans, proteomics_or_transcriptomics=transcriptomics.\n",
      "  warnings.warn(f\"Empty dataframe for cancer_type={cancer_type}, tissue_type={tissue_type}, source={source}, level={level}, chromosome={chromosome}, arm={arm}, gain_or_loss={gain_or_loss}, cis_or_trans={cis_or_trans}, proteomics_or_transcriptomics={proteomics_or_transcriptomics}.\")\n"
     ]
    },
    {
     "name": "stdout",
     "output_type": "stream",
     "text": [
      "Running event_effects_ttest with {'chromosome': 8, 'arm': 'q', 'event_start': 47260878, 'event_end': 145052465, 'gain_or_loss': 'gain', 'cis_or_trans': 'trans', 'proteomics_or_transcriptomics': 'transcriptomics', 'tissue_type': 'tumor', 'cancer_types': ['brca', 'coad', 'hnscc', 'lscc', 'luad', 'ov'], 'source': 'cptac', 'level': None, 'data_dir': '/home/caleb/github/PayneLab/pancancerCNV/00_functions/chr08/../data'}...\n",
      "\n",
      "Running event_effects_ttest with {'chromosome': 8, 'arm': 'q', 'event_start': 47260878, 'event_end': 145052465, 'gain_or_loss': 'gain', 'cis_or_trans': 'cis', 'proteomics_or_transcriptomics': 'proteomics', 'tissue_type': 'normal', 'cancer_types': ['brca', 'coad', 'hnscc', 'lscc', 'luad', 'ov'], 'source': 'cptac', 'level': None, 'data_dir': '/home/caleb/github/PayneLab/pancancerCNV/00_functions/chr08/../data'}...\n",
      "\n",
      "                                                                                \r"
     ]
    },
    {
     "name": "stderr",
     "output_type": "stream",
     "text": [
      "/home/caleb/anaconda3/envs/dev/lib/python3.10/site-packages/cnvutils/chromosome_funcs.py:315: UserWarning: Empty dataframe for cancer_type=brca, tissue_type=normal, source=cptac, level=None, chromosome=8, arm=q, gain_or_loss=gain, cis_or_trans=cis, proteomics_or_transcriptomics=proteomics.\n",
      "  warnings.warn(f\"Empty dataframe for cancer_type={cancer_type}, tissue_type={tissue_type}, source={source}, level={level}, chromosome={chromosome}, arm={arm}, gain_or_loss={gain_or_loss}, cis_or_trans={cis_or_trans}, proteomics_or_transcriptomics={proteomics_or_transcriptomics}.\")\n",
      "/home/caleb/anaconda3/envs/dev/lib/python3.10/site-packages/cnvutils/chromosome_funcs.py:370: UserWarning: Too small sample size for cancer_type=ov, tissue_type=normal, source=cptac, level=None, chromosome=8, arm=q, gain_or_loss=gain, cis_or_trans=cis, proteomics_or_transcriptomics=proteomics.\n",
      "  warnings.warn(f\"Too small sample size for cancer_type={cancer_type}, tissue_type={tissue_type}, source={source}, level={level}, chromosome={chromosome}, arm={arm}, gain_or_loss={gain_or_loss}, cis_or_trans={cis_or_trans}, proteomics_or_transcriptomics={proteomics_or_transcriptomics}.\")\n"
     ]
    },
    {
     "name": "stdout",
     "output_type": "stream",
     "text": [
      "Running event_effects_ttest with {'chromosome': 8, 'arm': 'q', 'event_start': 47260878, 'event_end': 145052465, 'gain_or_loss': 'gain', 'cis_or_trans': 'trans', 'proteomics_or_transcriptomics': 'proteomics', 'tissue_type': 'normal', 'cancer_types': ['brca', 'coad', 'hnscc', 'lscc', 'luad', 'ov'], 'source': 'cptac', 'level': None, 'data_dir': '/home/caleb/github/PayneLab/pancancerCNV/00_functions/chr08/../data'}...\n",
      "\n",
      "                                                                                \r"
     ]
    },
    {
     "name": "stderr",
     "output_type": "stream",
     "text": [
      "/home/caleb/anaconda3/envs/dev/lib/python3.10/site-packages/cnvutils/chromosome_funcs.py:315: UserWarning: Empty dataframe for cancer_type=brca, tissue_type=normal, source=cptac, level=None, chromosome=8, arm=q, gain_or_loss=gain, cis_or_trans=trans, proteomics_or_transcriptomics=proteomics.\n",
      "  warnings.warn(f\"Empty dataframe for cancer_type={cancer_type}, tissue_type={tissue_type}, source={source}, level={level}, chromosome={chromosome}, arm={arm}, gain_or_loss={gain_or_loss}, cis_or_trans={cis_or_trans}, proteomics_or_transcriptomics={proteomics_or_transcriptomics}.\")\n"
     ]
    },
    {
     "name": "stdout",
     "output_type": "stream",
     "text": [
      "Running event_effects_ttest with {'chromosome': 8, 'arm': 'q', 'event_start': 47260878, 'event_end': 145052465, 'gain_or_loss': 'gain', 'cis_or_trans': 'cis', 'proteomics_or_transcriptomics': 'transcriptomics', 'tissue_type': 'normal', 'cancer_types': ['brca', 'coad', 'hnscc', 'lscc', 'luad', 'ov'], 'source': 'cptac', 'level': None, 'data_dir': '/home/caleb/github/PayneLab/pancancerCNV/00_functions/chr08/../data'}...\n",
      "\n",
      "Running event_effects_ttest with {'chromosome': 8, 'arm': 'q', 'event_start': 47260878, 'event_end': 145052465, 'gain_or_loss': 'gain', 'cis_or_trans': 'trans', 'proteomics_or_transcriptomics': 'transcriptomics', 'tissue_type': 'normal', 'cancer_types': ['brca', 'coad', 'hnscc', 'lscc', 'luad', 'ov'], 'source': 'cptac', 'level': None, 'data_dir': '/home/caleb/github/PayneLab/pancancerCNV/00_functions/chr08/../data'}...\n",
      "\n",
      "Loading lscc transcriptomics (4/6)...                                           \r"
     ]
    },
    {
     "name": "stderr",
     "output_type": "stream",
     "text": [
      "/home/caleb/anaconda3/envs/dev/lib/python3.10/site-packages/cnvutils/chromosome_funcs.py:370: UserWarning: Too small sample size for cancer_type=ov, tissue_type=normal, source=cptac, level=None, chromosome=8, arm=q, gain_or_loss=gain, cis_or_trans=trans, proteomics_or_transcriptomics=proteomics.\n",
      "  warnings.warn(f\"Too small sample size for cancer_type={cancer_type}, tissue_type={tissue_type}, source={source}, level={level}, chromosome={chromosome}, arm={arm}, gain_or_loss={gain_or_loss}, cis_or_trans={cis_or_trans}, proteomics_or_transcriptomics={proteomics_or_transcriptomics}.\")\n"
     ]
    },
    {
     "name": "stdout",
     "output_type": "stream",
     "text": [
      "Running event_effects_ttest with {'chromosome': 8, 'arm': 'p', 'event_start': 166085, 'event_end': 40153481, 'gain_or_loss': 'loss', 'cis_or_trans': 'cis', 'proteomics_or_transcriptomics': 'proteomics', 'tissue_type': 'tumor', 'cancer_types': ['brca', 'coad', 'hnscc', 'lscc', 'luad', 'ov', 'pdac'], 'source': 'gistic', 'level': 'gene', 'data_dir': '/home/caleb/github/PayneLab/pancancerCNV/00_functions/chr08/../data'}...\n",
      "\n",
      "Running event_effects_ttest with {'chromosome': 8, 'arm': 'p', 'event_start': 166085, 'event_end': 40153481, 'gain_or_loss': 'loss', 'cis_or_trans': 'trans', 'proteomics_or_transcriptomics': 'proteomics', 'tissue_type': 'tumor', 'cancer_types': ['brca', 'coad', 'hnscc', 'lscc', 'luad', 'ov', 'pdac'], 'source': 'gistic', 'level': 'gene', 'data_dir': '/home/caleb/github/PayneLab/pancancerCNV/00_functions/chr08/../data'}...\n",
      "\n",
      "Running event_effects_ttest with {'chromosome': 8, 'arm': 'p', 'event_start': 166085, 'event_end': 40153481, 'gain_or_loss': 'loss', 'cis_or_trans': 'cis', 'proteomics_or_transcriptomics': 'transcriptomics', 'tissue_type': 'tumor', 'cancer_types': ['brca', 'coad', 'hnscc', 'lscc', 'luad', 'ov', 'pdac'], 'source': 'gistic', 'level': 'gene', 'data_dir': '/home/caleb/github/PayneLab/pancancerCNV/00_functions/chr08/../data'}...\n",
      "\n",
      "                                                                                \r"
     ]
    },
    {
     "name": "stderr",
     "output_type": "stream",
     "text": [
      "/home/caleb/anaconda3/envs/dev/lib/python3.10/site-packages/cnvutils/chromosome_funcs.py:315: UserWarning: Empty dataframe for cancer_type=brca, tissue_type=normal, source=cptac, level=None, chromosome=8, arm=q, gain_or_loss=gain, cis_or_trans=cis, proteomics_or_transcriptomics=transcriptomics.\n",
      "  warnings.warn(f\"Empty dataframe for cancer_type={cancer_type}, tissue_type={tissue_type}, source={source}, level={level}, chromosome={chromosome}, arm={arm}, gain_or_loss={gain_or_loss}, cis_or_trans={cis_or_trans}, proteomics_or_transcriptomics={proteomics_or_transcriptomics}.\")\n",
      "/home/caleb/anaconda3/envs/dev/lib/python3.10/site-packages/cnvutils/chromosome_funcs.py:315: UserWarning: Empty dataframe for cancer_type=coad, tissue_type=normal, source=cptac, level=None, chromosome=8, arm=q, gain_or_loss=gain, cis_or_trans=cis, proteomics_or_transcriptomics=transcriptomics.\n",
      "  warnings.warn(f\"Empty dataframe for cancer_type={cancer_type}, tissue_type={tissue_type}, source={source}, level={level}, chromosome={chromosome}, arm={arm}, gain_or_loss={gain_or_loss}, cis_or_trans={cis_or_trans}, proteomics_or_transcriptomics={proteomics_or_transcriptomics}.\")\n",
      "/home/caleb/anaconda3/envs/dev/lib/python3.10/site-packages/cnvutils/chromosome_funcs.py:315: UserWarning: Empty dataframe for cancer_type=ov, tissue_type=normal, source=cptac, level=None, chromosome=8, arm=q, gain_or_loss=gain, cis_or_trans=cis, proteomics_or_transcriptomics=transcriptomics.\n",
      "  warnings.warn(f\"Empty dataframe for cancer_type={cancer_type}, tissue_type={tissue_type}, source={source}, level={level}, chromosome={chromosome}, arm={arm}, gain_or_loss={gain_or_loss}, cis_or_trans={cis_or_trans}, proteomics_or_transcriptomics={proteomics_or_transcriptomics}.\")\n"
     ]
    },
    {
     "name": "stdout",
     "output_type": "stream",
     "text": [
      "Running event_effects_ttest with {'chromosome': 8, 'arm': 'p', 'event_start': 166085, 'event_end': 40153481, 'gain_or_loss': 'loss', 'cis_or_trans': 'trans', 'proteomics_or_transcriptomics': 'transcriptomics', 'tissue_type': 'tumor', 'cancer_types': ['brca', 'coad', 'hnscc', 'lscc', 'luad', 'ov', 'pdac'], 'source': 'gistic', 'level': 'gene', 'data_dir': '/home/caleb/github/PayneLab/pancancerCNV/00_functions/chr08/../data'}...\n",
      "\n",
      "Running event_effects_ttest with {'chromosome': 8, 'arm': 'p', 'event_start': 166085, 'event_end': 40153481, 'gain_or_loss': 'loss', 'cis_or_trans': 'cis', 'proteomics_or_transcriptomics': 'proteomics', 'tissue_type': 'normal', 'cancer_types': ['brca', 'coad', 'hnscc', 'lscc', 'luad', 'ov', 'pdac'], 'source': 'gistic', 'level': 'gene', 'data_dir': '/home/caleb/github/PayneLab/pancancerCNV/00_functions/chr08/../data'}...\n",
      "\n",
      "Loading lscc proteomics (4/7)...                                                \r"
     ]
    },
    {
     "name": "stderr",
     "output_type": "stream",
     "text": [
      "/home/caleb/anaconda3/envs/dev/lib/python3.10/site-packages/cnvutils/chromosome_funcs.py:315: UserWarning: Empty dataframe for cancer_type=brca, tissue_type=normal, source=cptac, level=None, chromosome=8, arm=q, gain_or_loss=gain, cis_or_trans=trans, proteomics_or_transcriptomics=transcriptomics.\n",
      "  warnings.warn(f\"Empty dataframe for cancer_type={cancer_type}, tissue_type={tissue_type}, source={source}, level={level}, chromosome={chromosome}, arm={arm}, gain_or_loss={gain_or_loss}, cis_or_trans={cis_or_trans}, proteomics_or_transcriptomics={proteomics_or_transcriptomics}.\")\n",
      "/home/caleb/anaconda3/envs/dev/lib/python3.10/site-packages/cnvutils/chromosome_funcs.py:315: UserWarning: Empty dataframe for cancer_type=coad, tissue_type=normal, source=cptac, level=None, chromosome=8, arm=q, gain_or_loss=gain, cis_or_trans=trans, proteomics_or_transcriptomics=transcriptomics.\n",
      "  warnings.warn(f\"Empty dataframe for cancer_type={cancer_type}, tissue_type={tissue_type}, source={source}, level={level}, chromosome={chromosome}, arm={arm}, gain_or_loss={gain_or_loss}, cis_or_trans={cis_or_trans}, proteomics_or_transcriptomics={proteomics_or_transcriptomics}.\")\n",
      "/home/caleb/anaconda3/envs/dev/lib/python3.10/site-packages/cnvutils/chromosome_funcs.py:315: UserWarning: Empty dataframe for cancer_type=ov, tissue_type=normal, source=cptac, level=None, chromosome=8, arm=q, gain_or_loss=gain, cis_or_trans=trans, proteomics_or_transcriptomics=transcriptomics.\n",
      "  warnings.warn(f\"Empty dataframe for cancer_type={cancer_type}, tissue_type={tissue_type}, source={source}, level={level}, chromosome={chromosome}, arm={arm}, gain_or_loss={gain_or_loss}, cis_or_trans={cis_or_trans}, proteomics_or_transcriptomics={proteomics_or_transcriptomics}.\")\n"
     ]
    },
    {
     "name": "stdout",
     "output_type": "stream",
     "text": [
      "                                                                                \r"
     ]
    },
    {
     "name": "stderr",
     "output_type": "stream",
     "text": [
      "/home/caleb/anaconda3/envs/dev/lib/python3.10/site-packages/cnvutils/chromosome_funcs.py:315: UserWarning: Empty dataframe for cancer_type=brca, tissue_type=normal, source=gistic, level=gene, chromosome=8, arm=p, gain_or_loss=loss, cis_or_trans=cis, proteomics_or_transcriptomics=proteomics.\n",
      "  warnings.warn(f\"Empty dataframe for cancer_type={cancer_type}, tissue_type={tissue_type}, source={source}, level={level}, chromosome={chromosome}, arm={arm}, gain_or_loss={gain_or_loss}, cis_or_trans={cis_or_trans}, proteomics_or_transcriptomics={proteomics_or_transcriptomics}.\")\n",
      "/home/caleb/anaconda3/envs/dev/lib/python3.10/site-packages/cnvutils/chromosome_funcs.py:370: UserWarning: Too small sample size for cancer_type=ov, tissue_type=normal, source=gistic, level=gene, chromosome=8, arm=p, gain_or_loss=loss, cis_or_trans=cis, proteomics_or_transcriptomics=proteomics.\n",
      "  warnings.warn(f\"Too small sample size for cancer_type={cancer_type}, tissue_type={tissue_type}, source={source}, level={level}, chromosome={chromosome}, arm={arm}, gain_or_loss={gain_or_loss}, cis_or_trans={cis_or_trans}, proteomics_or_transcriptomics={proteomics_or_transcriptomics}.\")\n"
     ]
    },
    {
     "name": "stdout",
     "output_type": "stream",
     "text": [
      "Running event_effects_ttest with {'chromosome': 8, 'arm': 'p', 'event_start': 166085, 'event_end': 40153481, 'gain_or_loss': 'loss', 'cis_or_trans': 'trans', 'proteomics_or_transcriptomics': 'proteomics', 'tissue_type': 'normal', 'cancer_types': ['brca', 'coad', 'hnscc', 'lscc', 'luad', 'ov', 'pdac'], 'source': 'gistic', 'level': 'gene', 'data_dir': '/home/caleb/github/PayneLab/pancancerCNV/00_functions/chr08/../data'}...\n",
      "\n",
      "Running event_effects_ttest with {'chromosome': 8, 'arm': 'p', 'event_start': 166085, 'event_end': 40153481, 'gain_or_loss': 'loss', 'cis_or_trans': 'cis', 'proteomics_or_transcriptomics': 'transcriptomics', 'tissue_type': 'normal', 'cancer_types': ['brca', 'coad', 'hnscc', 'lscc', 'luad', 'ov', 'pdac'], 'source': 'gistic', 'level': 'gene', 'data_dir': '/home/caleb/github/PayneLab/pancancerCNV/00_functions/chr08/../data'}...\n",
      "\n",
      "                                                                                \r"
     ]
    },
    {
     "name": "stderr",
     "output_type": "stream",
     "text": [
      "/home/caleb/anaconda3/envs/dev/lib/python3.10/site-packages/cnvutils/chromosome_funcs.py:315: UserWarning: Empty dataframe for cancer_type=brca, tissue_type=normal, source=gistic, level=gene, chromosome=8, arm=p, gain_or_loss=loss, cis_or_trans=trans, proteomics_or_transcriptomics=proteomics.\n",
      "  warnings.warn(f\"Empty dataframe for cancer_type={cancer_type}, tissue_type={tissue_type}, source={source}, level={level}, chromosome={chromosome}, arm={arm}, gain_or_loss={gain_or_loss}, cis_or_trans={cis_or_trans}, proteomics_or_transcriptomics={proteomics_or_transcriptomics}.\")\n"
     ]
    },
    {
     "name": "stdout",
     "output_type": "stream",
     "text": [
      "Running event_effects_ttest with {'chromosome': 8, 'arm': 'p', 'event_start': 166085, 'event_end': 40153481, 'gain_or_loss': 'loss', 'cis_or_trans': 'trans', 'proteomics_or_transcriptomics': 'transcriptomics', 'tissue_type': 'normal', 'cancer_types': ['brca', 'coad', 'hnscc', 'lscc', 'luad', 'ov', 'pdac'], 'source': 'gistic', 'level': 'gene', 'data_dir': '/home/caleb/github/PayneLab/pancancerCNV/00_functions/chr08/../data'}...\n",
      "\n",
      "                                                                                \r"
     ]
    },
    {
     "name": "stderr",
     "output_type": "stream",
     "text": [
      "/home/caleb/anaconda3/envs/dev/lib/python3.10/site-packages/cnvutils/chromosome_funcs.py:370: UserWarning: Too small sample size for cancer_type=ov, tissue_type=normal, source=gistic, level=gene, chromosome=8, arm=p, gain_or_loss=loss, cis_or_trans=trans, proteomics_or_transcriptomics=proteomics.\n",
      "  warnings.warn(f\"Too small sample size for cancer_type={cancer_type}, tissue_type={tissue_type}, source={source}, level={level}, chromosome={chromosome}, arm={arm}, gain_or_loss={gain_or_loss}, cis_or_trans={cis_or_trans}, proteomics_or_transcriptomics={proteomics_or_transcriptomics}.\")\n"
     ]
    },
    {
     "name": "stdout",
     "output_type": "stream",
     "text": [
      "                                                                                \r"
     ]
    },
    {
     "name": "stderr",
     "output_type": "stream",
     "text": [
      "/home/caleb/anaconda3/envs/dev/lib/python3.10/site-packages/cnvutils/chromosome_funcs.py:315: UserWarning: Empty dataframe for cancer_type=brca, tissue_type=normal, source=gistic, level=gene, chromosome=8, arm=p, gain_or_loss=loss, cis_or_trans=cis, proteomics_or_transcriptomics=transcriptomics.\n",
      "  warnings.warn(f\"Empty dataframe for cancer_type={cancer_type}, tissue_type={tissue_type}, source={source}, level={level}, chromosome={chromosome}, arm={arm}, gain_or_loss={gain_or_loss}, cis_or_trans={cis_or_trans}, proteomics_or_transcriptomics={proteomics_or_transcriptomics}.\")\n",
      "/home/caleb/anaconda3/envs/dev/lib/python3.10/site-packages/cnvutils/chromosome_funcs.py:315: UserWarning: Empty dataframe for cancer_type=coad, tissue_type=normal, source=gistic, level=gene, chromosome=8, arm=p, gain_or_loss=loss, cis_or_trans=cis, proteomics_or_transcriptomics=transcriptomics.\n",
      "  warnings.warn(f\"Empty dataframe for cancer_type={cancer_type}, tissue_type={tissue_type}, source={source}, level={level}, chromosome={chromosome}, arm={arm}, gain_or_loss={gain_or_loss}, cis_or_trans={cis_or_trans}, proteomics_or_transcriptomics={proteomics_or_transcriptomics}.\")\n",
      "/home/caleb/anaconda3/envs/dev/lib/python3.10/site-packages/cnvutils/chromosome_funcs.py:315: UserWarning: Empty dataframe for cancer_type=ov, tissue_type=normal, source=gistic, level=gene, chromosome=8, arm=p, gain_or_loss=loss, cis_or_trans=cis, proteomics_or_transcriptomics=transcriptomics.\n",
      "  warnings.warn(f\"Empty dataframe for cancer_type={cancer_type}, tissue_type={tissue_type}, source={source}, level={level}, chromosome={chromosome}, arm={arm}, gain_or_loss={gain_or_loss}, cis_or_trans={cis_or_trans}, proteomics_or_transcriptomics={proteomics_or_transcriptomics}.\")\n"
     ]
    },
    {
     "name": "stdout",
     "output_type": "stream",
     "text": [
      "Running event_effects_ttest with {'chromosome': 8, 'arm': 'q', 'event_start': 36784373, 'event_end': 145052466, 'gain_or_loss': 'gain', 'cis_or_trans': 'cis', 'proteomics_or_transcriptomics': 'proteomics', 'tissue_type': 'tumor', 'cancer_types': ['brca', 'coad', 'hnscc', 'lscc', 'luad', 'ov', 'pdac'], 'source': 'gistic', 'level': 'gene', 'data_dir': '/home/caleb/github/PayneLab/pancancerCNV/00_functions/chr08/../data'}...\n",
      "\n",
      "Running event_effects_ttest with {'chromosome': 8, 'arm': 'q', 'event_start': 36784373, 'event_end': 145052466, 'gain_or_loss': 'gain', 'cis_or_trans': 'trans', 'proteomics_or_transcriptomics': 'proteomics', 'tissue_type': 'tumor', 'cancer_types': ['brca', 'coad', 'hnscc', 'lscc', 'luad', 'ov', 'pdac'], 'source': 'gistic', 'level': 'gene', 'data_dir': '/home/caleb/github/PayneLab/pancancerCNV/00_functions/chr08/../data'}...\n",
      "\n",
      "Running event_effects_ttest with {'chromosome': 8, 'arm': 'q', 'event_start': 36784373, 'event_end': 145052466, 'gain_or_loss': 'gain', 'cis_or_trans': 'cis', 'proteomics_or_transcriptomics': 'transcriptomics', 'tissue_type': 'tumor', 'cancer_types': ['brca', 'coad', 'hnscc', 'lscc', 'luad', 'ov', 'pdac'], 'source': 'gistic', 'level': 'gene', 'data_dir': '/home/caleb/github/PayneLab/pancancerCNV/00_functions/chr08/../data'}...\n",
      "\n",
      "Running event_effects_ttest with {'chromosome': 8, 'arm': 'q', 'event_start': 36784373, 'event_end': 145052466, 'gain_or_loss': 'gain', 'cis_or_trans': 'trans', 'proteomics_or_transcriptomics': 'transcriptomics', 'tissue_type': 'tumor', 'cancer_types': ['brca', 'coad', 'hnscc', 'lscc', 'luad', 'ov', 'pdac'], 'source': 'gistic', 'level': 'gene', 'data_dir': '/home/caleb/github/PayneLab/pancancerCNV/00_functions/chr08/../data'}...\n",
      "\n",
      "Running event_effects_ttest with {'chromosome': 8, 'arm': 'q', 'event_start': 36784373, 'event_end': 145052466, 'gain_or_loss': 'gain', 'cis_or_trans': 'cis', 'proteomics_or_transcriptomics': 'proteomics', 'tissue_type': 'normal', 'cancer_types': ['brca', 'coad', 'hnscc', 'lscc', 'luad', 'ov', 'pdac'], 'source': 'gistic', 'level': 'gene', 'data_dir': '/home/caleb/github/PayneLab/pancancerCNV/00_functions/chr08/../data'}...\n",
      "\n",
      "Running event_effects_ttest with {'chromosome': 8, 'arm': 'q', 'event_start': 36784373, 'event_end': 145052466, 'gain_or_loss': 'gain', 'cis_or_trans': 'trans', 'proteomics_or_transcriptomics': 'proteomics', 'tissue_type': 'normal', 'cancer_types': ['brca', 'coad', 'hnscc', 'lscc', 'luad', 'ov', 'pdac'], 'source': 'gistic', 'level': 'gene', 'data_dir': '/home/caleb/github/PayneLab/pancancerCNV/00_functions/chr08/../data'}...\n",
      "\n",
      "                                                                                \r"
     ]
    },
    {
     "name": "stderr",
     "output_type": "stream",
     "text": [
      "/home/caleb/anaconda3/envs/dev/lib/python3.10/site-packages/cnvutils/chromosome_funcs.py:315: UserWarning: Empty dataframe for cancer_type=brca, tissue_type=normal, source=gistic, level=gene, chromosome=8, arm=q, gain_or_loss=gain, cis_or_trans=cis, proteomics_or_transcriptomics=proteomics.\n",
      "  warnings.warn(f\"Empty dataframe for cancer_type={cancer_type}, tissue_type={tissue_type}, source={source}, level={level}, chromosome={chromosome}, arm={arm}, gain_or_loss={gain_or_loss}, cis_or_trans={cis_or_trans}, proteomics_or_transcriptomics={proteomics_or_transcriptomics}.\")\n"
     ]
    },
    {
     "name": "stdout",
     "output_type": "stream",
     "text": [
      "                                                                                \r"
     ]
    },
    {
     "name": "stderr",
     "output_type": "stream",
     "text": [
      "/home/caleb/anaconda3/envs/dev/lib/python3.10/site-packages/cnvutils/chromosome_funcs.py:370: UserWarning: Too small sample size for cancer_type=ov, tissue_type=normal, source=gistic, level=gene, chromosome=8, arm=q, gain_or_loss=gain, cis_or_trans=cis, proteomics_or_transcriptomics=proteomics.\n",
      "  warnings.warn(f\"Too small sample size for cancer_type={cancer_type}, tissue_type={tissue_type}, source={source}, level={level}, chromosome={chromosome}, arm={arm}, gain_or_loss={gain_or_loss}, cis_or_trans={cis_or_trans}, proteomics_or_transcriptomics={proteomics_or_transcriptomics}.\")\n",
      "/home/caleb/anaconda3/envs/dev/lib/python3.10/site-packages/cnvutils/chromosome_funcs.py:315: UserWarning: Empty dataframe for cancer_type=brca, tissue_type=normal, source=gistic, level=gene, chromosome=8, arm=p, gain_or_loss=loss, cis_or_trans=trans, proteomics_or_transcriptomics=transcriptomics.\n",
      "  warnings.warn(f\"Empty dataframe for cancer_type={cancer_type}, tissue_type={tissue_type}, source={source}, level={level}, chromosome={chromosome}, arm={arm}, gain_or_loss={gain_or_loss}, cis_or_trans={cis_or_trans}, proteomics_or_transcriptomics={proteomics_or_transcriptomics}.\")\n",
      "/home/caleb/anaconda3/envs/dev/lib/python3.10/site-packages/cnvutils/chromosome_funcs.py:315: UserWarning: Empty dataframe for cancer_type=coad, tissue_type=normal, source=gistic, level=gene, chromosome=8, arm=p, gain_or_loss=loss, cis_or_trans=trans, proteomics_or_transcriptomics=transcriptomics.\n",
      "  warnings.warn(f\"Empty dataframe for cancer_type={cancer_type}, tissue_type={tissue_type}, source={source}, level={level}, chromosome={chromosome}, arm={arm}, gain_or_loss={gain_or_loss}, cis_or_trans={cis_or_trans}, proteomics_or_transcriptomics={proteomics_or_transcriptomics}.\")\n",
      "/home/caleb/anaconda3/envs/dev/lib/python3.10/site-packages/cnvutils/chromosome_funcs.py:315: UserWarning: Empty dataframe for cancer_type=ov, tissue_type=normal, source=gistic, level=gene, chromosome=8, arm=p, gain_or_loss=loss, cis_or_trans=trans, proteomics_or_transcriptomics=transcriptomics.\n",
      "  warnings.warn(f\"Empty dataframe for cancer_type={cancer_type}, tissue_type={tissue_type}, source={source}, level={level}, chromosome={chromosome}, arm={arm}, gain_or_loss={gain_or_loss}, cis_or_trans={cis_or_trans}, proteomics_or_transcriptomics={proteomics_or_transcriptomics}.\")\n"
     ]
    },
    {
     "name": "stdout",
     "output_type": "stream",
     "text": [
      "Running event_effects_ttest with {'chromosome': 8, 'arm': 'q', 'event_start': 36784373, 'event_end': 145052466, 'gain_or_loss': 'gain', 'cis_or_trans': 'cis', 'proteomics_or_transcriptomics': 'transcriptomics', 'tissue_type': 'normal', 'cancer_types': ['brca', 'coad', 'hnscc', 'lscc', 'luad', 'ov', 'pdac'], 'source': 'gistic', 'level': 'gene', 'data_dir': '/home/caleb/github/PayneLab/pancancerCNV/00_functions/chr08/../data'}...\n",
      "\n",
      "                                                                                \r"
     ]
    },
    {
     "name": "stderr",
     "output_type": "stream",
     "text": [
      "/home/caleb/anaconda3/envs/dev/lib/python3.10/site-packages/cnvutils/chromosome_funcs.py:315: UserWarning: Empty dataframe for cancer_type=brca, tissue_type=normal, source=gistic, level=gene, chromosome=8, arm=q, gain_or_loss=gain, cis_or_trans=trans, proteomics_or_transcriptomics=proteomics.\n",
      "  warnings.warn(f\"Empty dataframe for cancer_type={cancer_type}, tissue_type={tissue_type}, source={source}, level={level}, chromosome={chromosome}, arm={arm}, gain_or_loss={gain_or_loss}, cis_or_trans={cis_or_trans}, proteomics_or_transcriptomics={proteomics_or_transcriptomics}.\")\n"
     ]
    },
    {
     "name": "stdout",
     "output_type": "stream",
     "text": [
      "Running event_effects_ttest with {'chromosome': 8, 'arm': 'q', 'event_start': 36784373, 'event_end': 145052466, 'gain_or_loss': 'gain', 'cis_or_trans': 'trans', 'proteomics_or_transcriptomics': 'transcriptomics', 'tissue_type': 'normal', 'cancer_types': ['brca', 'coad', 'hnscc', 'lscc', 'luad', 'ov', 'pdac'], 'source': 'gistic', 'level': 'gene', 'data_dir': '/home/caleb/github/PayneLab/pancancerCNV/00_functions/chr08/../data'}...\n",
      "\n",
      "Loading lscc transcriptomics (4/7)...                                           \r"
     ]
    },
    {
     "name": "stderr",
     "output_type": "stream",
     "text": [
      "/home/caleb/anaconda3/envs/dev/lib/python3.10/site-packages/cnvutils/chromosome_funcs.py:370: UserWarning: Too small sample size for cancer_type=ov, tissue_type=normal, source=gistic, level=gene, chromosome=8, arm=q, gain_or_loss=gain, cis_or_trans=trans, proteomics_or_transcriptomics=proteomics.\n",
      "  warnings.warn(f\"Too small sample size for cancer_type={cancer_type}, tissue_type={tissue_type}, source={source}, level={level}, chromosome={chromosome}, arm={arm}, gain_or_loss={gain_or_loss}, cis_or_trans={cis_or_trans}, proteomics_or_transcriptomics={proteomics_or_transcriptomics}.\")\n"
     ]
    },
    {
     "name": "stdout",
     "output_type": "stream",
     "text": [
      "                                                                                \r"
     ]
    },
    {
     "name": "stderr",
     "output_type": "stream",
     "text": [
      "/home/caleb/anaconda3/envs/dev/lib/python3.10/site-packages/cnvutils/chromosome_funcs.py:315: UserWarning: Empty dataframe for cancer_type=brca, tissue_type=normal, source=gistic, level=gene, chromosome=8, arm=q, gain_or_loss=gain, cis_or_trans=cis, proteomics_or_transcriptomics=transcriptomics.\n",
      "  warnings.warn(f\"Empty dataframe for cancer_type={cancer_type}, tissue_type={tissue_type}, source={source}, level={level}, chromosome={chromosome}, arm={arm}, gain_or_loss={gain_or_loss}, cis_or_trans={cis_or_trans}, proteomics_or_transcriptomics={proteomics_or_transcriptomics}.\")\n",
      "/home/caleb/anaconda3/envs/dev/lib/python3.10/site-packages/cnvutils/chromosome_funcs.py:315: UserWarning: Empty dataframe for cancer_type=coad, tissue_type=normal, source=gistic, level=gene, chromosome=8, arm=q, gain_or_loss=gain, cis_or_trans=cis, proteomics_or_transcriptomics=transcriptomics.\n",
      "  warnings.warn(f\"Empty dataframe for cancer_type={cancer_type}, tissue_type={tissue_type}, source={source}, level={level}, chromosome={chromosome}, arm={arm}, gain_or_loss={gain_or_loss}, cis_or_trans={cis_or_trans}, proteomics_or_transcriptomics={proteomics_or_transcriptomics}.\")\n",
      "/home/caleb/anaconda3/envs/dev/lib/python3.10/site-packages/cnvutils/chromosome_funcs.py:315: UserWarning: Empty dataframe for cancer_type=ov, tissue_type=normal, source=gistic, level=gene, chromosome=8, arm=q, gain_or_loss=gain, cis_or_trans=cis, proteomics_or_transcriptomics=transcriptomics.\n",
      "  warnings.warn(f\"Empty dataframe for cancer_type={cancer_type}, tissue_type={tissue_type}, source={source}, level={level}, chromosome={chromosome}, arm={arm}, gain_or_loss={gain_or_loss}, cis_or_trans={cis_or_trans}, proteomics_or_transcriptomics={proteomics_or_transcriptomics}.\")\n"
     ]
    },
    {
     "name": "stdout",
     "output_type": "stream",
     "text": [
      "                                                                                \r"
     ]
    },
    {
     "name": "stderr",
     "output_type": "stream",
     "text": [
      "/home/caleb/anaconda3/envs/dev/lib/python3.10/site-packages/cnvutils/chromosome_funcs.py:315: UserWarning: Empty dataframe for cancer_type=brca, tissue_type=normal, source=gistic, level=gene, chromosome=8, arm=q, gain_or_loss=gain, cis_or_trans=trans, proteomics_or_transcriptomics=transcriptomics.\n",
      "  warnings.warn(f\"Empty dataframe for cancer_type={cancer_type}, tissue_type={tissue_type}, source={source}, level={level}, chromosome={chromosome}, arm={arm}, gain_or_loss={gain_or_loss}, cis_or_trans={cis_or_trans}, proteomics_or_transcriptomics={proteomics_or_transcriptomics}.\")\n",
      "/home/caleb/anaconda3/envs/dev/lib/python3.10/site-packages/cnvutils/chromosome_funcs.py:315: UserWarning: Empty dataframe for cancer_type=coad, tissue_type=normal, source=gistic, level=gene, chromosome=8, arm=q, gain_or_loss=gain, cis_or_trans=trans, proteomics_or_transcriptomics=transcriptomics.\n",
      "  warnings.warn(f\"Empty dataframe for cancer_type={cancer_type}, tissue_type={tissue_type}, source={source}, level={level}, chromosome={chromosome}, arm={arm}, gain_or_loss={gain_or_loss}, cis_or_trans={cis_or_trans}, proteomics_or_transcriptomics={proteomics_or_transcriptomics}.\")\n",
      "/home/caleb/anaconda3/envs/dev/lib/python3.10/site-packages/cnvutils/chromosome_funcs.py:315: UserWarning: Empty dataframe for cancer_type=ov, tissue_type=normal, source=gistic, level=gene, chromosome=8, arm=q, gain_or_loss=gain, cis_or_trans=trans, proteomics_or_transcriptomics=transcriptomics.\n",
      "  warnings.warn(f\"Empty dataframe for cancer_type={cancer_type}, tissue_type={tissue_type}, source={source}, level={level}, chromosome={chromosome}, arm={arm}, gain_or_loss={gain_or_loss}, cis_or_trans={cis_or_trans}, proteomics_or_transcriptomics={proteomics_or_transcriptomics}.\")\n"
     ]
    },
    {
     "data": {
      "text/plain": [
       "[None,\n",
       " None,\n",
       " None,\n",
       " None,\n",
       " None,\n",
       " None,\n",
       " None,\n",
       " None,\n",
       " None,\n",
       " None,\n",
       " None,\n",
       " None,\n",
       " None,\n",
       " None,\n",
       " None,\n",
       " None,\n",
       " None,\n",
       " None,\n",
       " None,\n",
       " None,\n",
       " None,\n",
       " None,\n",
       " None,\n",
       " None,\n",
       " None,\n",
       " None,\n",
       " None,\n",
       " None,\n",
       " None,\n",
       " None,\n",
       " None,\n",
       " None]"
      ]
     },
     "execution_count": 5,
     "metadata": {},
     "output_type": "execute_result"
    }
   ],
   "source": [
    "cnvutils.multi_runner(\n",
    "    func=cnvutils.event_effects_ttest,\n",
    "    sources=[\"cptac\", \"gistic\"],\n",
    "    levels=[\"gene\"],\n",
    "    chromosomes_events={\n",
    "        8: {\n",
    "            \"p\": [\"loss\"],\n",
    "            \"q\": [\"gain\"],\n",
    "        },\n",
    "    },\n",
    "    more_dicts=[\n",
    "        {\n",
    "            \"name\": \"comparison\",\n",
    "            \"vals\": [\"tissue_type\"]\n",
    "        },\n",
    "        {\n",
    "            \"name\": \"has_event\",\n",
    "            \"vals\": [True, False],\n",
    "        },\n",
    "        {\n",
    "            \"name\": \"proteomics_or_transcriptomics\",\n",
    "            \"vals\": [\"proteomics\", \"transcriptomics\"],\n",
    "        },\n",
    "        {\n",
    "            \"name\": \"cis_or_trans\",\n",
    "            \"vals\": [\"cis\", \"trans\"],\n",
    "        },\n",
    "    ]\n",
    ")"
   ]
  }
 ],
 "metadata": {
  "kernelspec": {
   "display_name": "Python 3 (ipykernel)",
   "language": "python",
   "name": "python3"
  },
  "language_info": {
   "codemirror_mode": {
    "name": "ipython",
    "version": 3
   },
   "file_extension": ".py",
   "mimetype": "text/x-python",
   "name": "python",
   "nbconvert_exporter": "python",
   "pygments_lexer": "ipython3",
   "version": "3.10.4"
  }
 },
 "nbformat": 4,
 "nbformat_minor": 5
}
