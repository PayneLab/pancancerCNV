{
 "cells": [
  {
   "cell_type": "markdown",
   "id": "ea222ecf",
   "metadata": {},
   "source": [
    "# t-tests"
   ]
  },
  {
   "cell_type": "code",
   "execution_count": 1,
   "id": "1ff6a578",
   "metadata": {},
   "outputs": [],
   "source": [
    "import cnvutils"
   ]
  },
  {
   "cell_type": "markdown",
   "id": "8991592b",
   "metadata": {},
   "source": [
    "## RNA and protein expressions for each gene, comparing samples with the event to samples without the event, looking at tumor and normal separately"
   ]
  },
  {
   "cell_type": "code",
   "execution_count": 2,
   "id": "cff5a4a5",
   "metadata": {
    "scrolled": true
   },
   "outputs": [
    {
     "name": "stdout",
     "output_type": "stream",
     "text": [
      "Running event_effects_ttest with {'chromosome': 8, 'arm': 'p', 'event_start': 406428, 'event_end': 38176533, 'gain_or_loss': 'loss', 'cis_or_trans': 'trans', 'proteomics_or_transcriptomics': 'proteomics', 'cancer_types': ['brca', 'coad', 'hnscc', 'lscc', 'luad', 'ov'], 'source': 'cptac', 'comparison': 'has_event', 'tissue_type': 'tumor', 'has_event': None, 'level': None, 'data_dir': '/home/caleb/github/PayneLab/pancancerCNV/00_functions/chr08/../data'}...\n",
      "Running event_effects_ttest with {'chromosome': 8, 'arm': 'p', 'event_start': 406428, 'event_end': 38176533, 'gain_or_loss': 'loss', 'cis_or_trans': 'cis', 'proteomics_or_transcriptomics': 'transcriptomics', 'cancer_types': ['brca', 'coad', 'hnscc', 'lscc', 'luad', 'ov'], 'source': 'cptac', 'comparison': 'has_event', 'tissue_type': 'tumor', 'has_event': None, 'level': None, 'data_dir': '/home/caleb/github/PayneLab/pancancerCNV/00_functions/chr08/../data'}...\n",
      "Running event_effects_ttest with {'chromosome': 8, 'arm': 'p', 'event_start': 406428, 'event_end': 38176533, 'gain_or_loss': 'loss', 'cis_or_trans': 'trans', 'proteomics_or_transcriptomics': 'transcriptomics', 'cancer_types': ['brca', 'coad', 'hnscc', 'lscc', 'luad', 'ov'], 'source': 'cptac', 'comparison': 'has_event', 'tissue_type': 'tumor', 'has_event': None, 'level': None, 'data_dir': '/home/caleb/github/PayneLab/pancancerCNV/00_functions/chr08/../data'}...\n",
      "Running event_effects_ttest with {'chromosome': 8, 'arm': 'p', 'event_start': 406428, 'event_end': 38176533, 'gain_or_loss': 'loss', 'cis_or_trans': 'cis', 'proteomics_or_transcriptomics': 'proteomics', 'cancer_types': ['brca', 'coad', 'hnscc', 'lscc', 'luad', 'ov'], 'source': 'cptac', 'comparison': 'has_event', 'tissue_type': 'normal', 'has_event': None, 'level': None, 'data_dir': '/home/caleb/github/PayneLab/pancancerCNV/00_functions/chr08/../data'}...\n",
      "Running event_effects_ttest with {'chromosome': 8, 'arm': 'p', 'event_start': 406428, 'event_end': 38176533, 'gain_or_loss': 'loss', 'cis_or_trans': 'cis', 'proteomics_or_transcriptomics': 'proteomics', 'cancer_types': ['brca', 'coad', 'hnscc', 'lscc', 'luad', 'ov'], 'source': 'cptac', 'comparison': 'has_event', 'tissue_type': 'tumor', 'has_event': None, 'level': None, 'data_dir': '/home/caleb/github/PayneLab/pancancerCNV/00_functions/chr08/../data'}...\n",
      "Running event_effects_ttest with {'chromosome': 8, 'arm': 'p', 'event_start': 406428, 'event_end': 38176533, 'gain_or_loss': 'loss', 'cis_or_trans': 'trans', 'proteomics_or_transcriptomics': 'proteomics', 'cancer_types': ['brca', 'coad', 'hnscc', 'lscc', 'luad', 'ov'], 'source': 'cptac', 'comparison': 'has_event', 'tissue_type': 'normal', 'has_event': None, 'level': None, 'data_dir': '/home/caleb/github/PayneLab/pancancerCNV/00_functions/chr08/../data'}...\n",
      "Running event_effects_ttest with {'chromosome': 8, 'arm': 'p', 'event_start': 406428, 'event_end': 38176533, 'gain_or_loss': 'loss', 'cis_or_trans': 'cis', 'proteomics_or_transcriptomics': 'transcriptomics', 'cancer_types': ['brca', 'coad', 'hnscc', 'lscc', 'luad', 'ov'], 'source': 'cptac', 'comparison': 'has_event', 'tissue_type': 'normal', 'has_event': None, 'level': None, 'data_dir': '/home/caleb/github/PayneLab/pancancerCNV/00_functions/chr08/../data'}...\n",
      "Running event_effects_ttest with {'chromosome': 8, 'arm': 'p', 'event_start': 406428, 'event_end': 38176533, 'gain_or_loss': 'loss', 'cis_or_trans': 'trans', 'proteomics_or_transcriptomics': 'transcriptomics', 'cancer_types': ['brca', 'coad', 'hnscc', 'lscc', 'luad', 'ov'], 'source': 'cptac', 'comparison': 'has_event', 'tissue_type': 'normal', 'has_event': None, 'level': None, 'data_dir': '/home/caleb/github/PayneLab/pancancerCNV/00_functions/chr08/../data'}...\n",
      "\n",
      "\n",
      "\n",
      "\n",
      "\n",
      "\n",
      "\n",
      "\n",
      "                                                                                proteomics (1/6)...                              Loading brca proteomics (1/6)...                              Loading brca proteomics (1/6)...                              Loading brca transcriptomics (1/6)...                              Loading brca proteomics (1/6)...                              Loading brca transcriptomics (1/6)...                              Loading brca transcriptomics (1/6)...                              Loading coad proteomics (2/6)...                              Loading coad proteomics (2/6)...                              Loading hnscc proteomics (3/6)...                                                                                                              "
     ]
    },
    {
     "name": "stderr",
     "output_type": "stream",
     "text": [
      "/home/caleb/anaconda3/envs/dev/lib/python3.10/site-packages/cnvutils/chromosome_funcs.py:325: UserWarning: Empty dataframe for cancer_type=brca, tissue_type=normal, source=cptac, level=None, chromosome=8, arm=p, gain_or_loss=loss, cis_or_trans=cis, proteomics_or_transcriptomics=proteomics.\n",
      "  warnings.warn(f\"Empty dataframe for cancer_type={cancer_type}, tissue_type={tissue_type}, source={source}, level={level}, chromosome={chromosome}, arm={arm}, gain_or_loss={gain_or_loss}, cis_or_trans={cis_or_trans}, proteomics_or_transcriptomics={proteomics_or_transcriptomics}.\")\n",
      "/home/caleb/anaconda3/envs/dev/lib/python3.10/site-packages/cnvutils/chromosome_funcs.py:325: UserWarning: Empty dataframe for cancer_type=brca, tissue_type=normal, source=cptac, level=None, chromosome=8, arm=p, gain_or_loss=loss, cis_or_trans=trans, proteomics_or_transcriptomics=proteomics.\n",
      "  warnings.warn(f\"Empty dataframe for cancer_type={cancer_type}, tissue_type={tissue_type}, source={source}, level={level}, chromosome={chromosome}, arm={arm}, gain_or_loss={gain_or_loss}, cis_or_trans={cis_or_trans}, proteomics_or_transcriptomics={proteomics_or_transcriptomics}.\")\n",
      "/home/caleb/anaconda3/envs/dev/lib/python3.10/site-packages/cnvutils/chromosome_funcs.py:411: UserWarning: Too small sample size for cancer_type=ov, tissue_type=normal, source=cptac, level=None, chromosome=8, arm=p, gain_or_loss=loss, cis_or_trans=cis, proteomics_or_transcriptomics=proteomics.\n",
      "  warnings.warn(f\"Too small sample size for cancer_type={cancer_type}, tissue_type={tissue_type}, source={source}, level={level}, chromosome={chromosome}, arm={arm}, gain_or_loss={gain_or_loss}, cis_or_trans={cis_or_trans}, proteomics_or_transcriptomics={proteomics_or_transcriptomics}.\")\n"
     ]
    },
    {
     "name": "stdout",
     "output_type": "stream",
     "text": [
      "Running event_effects_ttest with {'chromosome': 8, 'arm': 'q', 'event_start': 47260878, 'event_end': 145052465, 'gain_or_loss': 'gain', 'cis_or_trans': 'cis', 'proteomics_or_transcriptomics': 'proteomics', 'cancer_types': ['brca', 'coad', 'hnscc', 'lscc', 'luad', 'ov'], 'source': 'cptac', 'comparison': 'has_event', 'tissue_type': 'tumor', 'has_event': None, 'level': None, 'data_dir': '/home/caleb/github/PayneLab/pancancerCNV/00_functions/chr08/../data'}...\n",
      "\n",
      "Running event_effects_ttest with {'chromosome': 8, 'arm': 'q', 'event_start': 47260878, 'event_end': 145052465, 'gain_or_loss': 'gain', 'cis_or_trans': 'trans', 'proteomics_or_transcriptomics': 'proteomics', 'cancer_types': ['brca', 'coad', 'hnscc', 'lscc', 'luad', 'ov'], 'source': 'cptac', 'comparison': 'has_event', 'tissue_type': 'tumor', 'has_event': None, 'level': None, 'data_dir': '/home/caleb/github/PayneLab/pancancerCNV/00_functions/chr08/../data'}...\n",
      "\n",
      "Running event_effects_ttest with {'chromosome': 8, 'arm': 'q', 'event_start': 47260878, 'event_end': 145052465, 'gain_or_loss': 'gain', 'cis_or_trans': 'cis', 'proteomics_or_transcriptomics': 'transcriptomics', 'cancer_types': ['brca', 'coad', 'hnscc', 'lscc', 'luad', 'ov'], 'source': 'cptac', 'comparison': 'has_event', 'tissue_type': 'tumor', 'has_event': None, 'level': None, 'data_dir': '/home/caleb/github/PayneLab/pancancerCNV/00_functions/chr08/../data'}...\n",
      "\n",
      "Loading lscc transcriptomics (4/6)...                               \r"
     ]
    },
    {
     "name": "stderr",
     "output_type": "stream",
     "text": [
      "/home/caleb/anaconda3/envs/dev/lib/python3.10/site-packages/cnvutils/chromosome_funcs.py:411: UserWarning: Too small sample size for cancer_type=ov, tissue_type=normal, source=cptac, level=None, chromosome=8, arm=p, gain_or_loss=loss, cis_or_trans=trans, proteomics_or_transcriptomics=proteomics.\n",
      "  warnings.warn(f\"Too small sample size for cancer_type={cancer_type}, tissue_type={tissue_type}, source={source}, level={level}, chromosome={chromosome}, arm={arm}, gain_or_loss={gain_or_loss}, cis_or_trans={cis_or_trans}, proteomics_or_transcriptomics={proteomics_or_transcriptomics}.\")\n"
     ]
    },
    {
     "name": "stdout",
     "output_type": "stream",
     "text": [
      "                                                                                \r"
     ]
    },
    {
     "name": "stderr",
     "output_type": "stream",
     "text": [
      "/home/caleb/anaconda3/envs/dev/lib/python3.10/site-packages/cnvutils/chromosome_funcs.py:325: UserWarning: Empty dataframe for cancer_type=brca, tissue_type=normal, source=cptac, level=None, chromosome=8, arm=p, gain_or_loss=loss, cis_or_trans=cis, proteomics_or_transcriptomics=transcriptomics.\n",
      "  warnings.warn(f\"Empty dataframe for cancer_type={cancer_type}, tissue_type={tissue_type}, source={source}, level={level}, chromosome={chromosome}, arm={arm}, gain_or_loss={gain_or_loss}, cis_or_trans={cis_or_trans}, proteomics_or_transcriptomics={proteomics_or_transcriptomics}.\")\n",
      "/home/caleb/anaconda3/envs/dev/lib/python3.10/site-packages/cnvutils/chromosome_funcs.py:325: UserWarning: Empty dataframe for cancer_type=coad, tissue_type=normal, source=cptac, level=None, chromosome=8, arm=p, gain_or_loss=loss, cis_or_trans=cis, proteomics_or_transcriptomics=transcriptomics.\n",
      "  warnings.warn(f\"Empty dataframe for cancer_type={cancer_type}, tissue_type={tissue_type}, source={source}, level={level}, chromosome={chromosome}, arm={arm}, gain_or_loss={gain_or_loss}, cis_or_trans={cis_or_trans}, proteomics_or_transcriptomics={proteomics_or_transcriptomics}.\")\n",
      "/home/caleb/anaconda3/envs/dev/lib/python3.10/site-packages/cnvutils/chromosome_funcs.py:325: UserWarning: Empty dataframe for cancer_type=ov, tissue_type=normal, source=cptac, level=None, chromosome=8, arm=p, gain_or_loss=loss, cis_or_trans=cis, proteomics_or_transcriptomics=transcriptomics.\n",
      "  warnings.warn(f\"Empty dataframe for cancer_type={cancer_type}, tissue_type={tissue_type}, source={source}, level={level}, chromosome={chromosome}, arm={arm}, gain_or_loss={gain_or_loss}, cis_or_trans={cis_or_trans}, proteomics_or_transcriptomics={proteomics_or_transcriptomics}.\")\n"
     ]
    },
    {
     "name": "stdout",
     "output_type": "stream",
     "text": [
      "Running event_effects_ttest with {'chromosome': 8, 'arm': 'q', 'event_start': 47260878, 'event_end': 145052465, 'gain_or_loss': 'gain', 'cis_or_trans': 'trans', 'proteomics_or_transcriptomics': 'transcriptomics', 'cancer_types': ['brca', 'coad', 'hnscc', 'lscc', 'luad', 'ov'], 'source': 'cptac', 'comparison': 'has_event', 'tissue_type': 'tumor', 'has_event': None, 'level': None, 'data_dir': '/home/caleb/github/PayneLab/pancancerCNV/00_functions/chr08/../data'}...\n",
      "\n",
      "Loading brca transcriptomics (1/6)...                              \r"
     ]
    },
    {
     "name": "stderr",
     "output_type": "stream",
     "text": [
      "/home/caleb/anaconda3/envs/dev/lib/python3.10/site-packages/cnvutils/chromosome_funcs.py:325: UserWarning: Empty dataframe for cancer_type=brca, tissue_type=normal, source=cptac, level=None, chromosome=8, arm=p, gain_or_loss=loss, cis_or_trans=trans, proteomics_or_transcriptomics=transcriptomics.\n",
      "  warnings.warn(f\"Empty dataframe for cancer_type={cancer_type}, tissue_type={tissue_type}, source={source}, level={level}, chromosome={chromosome}, arm={arm}, gain_or_loss={gain_or_loss}, cis_or_trans={cis_or_trans}, proteomics_or_transcriptomics={proteomics_or_transcriptomics}.\")\n",
      "/home/caleb/anaconda3/envs/dev/lib/python3.10/site-packages/cnvutils/chromosome_funcs.py:325: UserWarning: Empty dataframe for cancer_type=coad, tissue_type=normal, source=cptac, level=None, chromosome=8, arm=p, gain_or_loss=loss, cis_or_trans=trans, proteomics_or_transcriptomics=transcriptomics.\n",
      "  warnings.warn(f\"Empty dataframe for cancer_type={cancer_type}, tissue_type={tissue_type}, source={source}, level={level}, chromosome={chromosome}, arm={arm}, gain_or_loss={gain_or_loss}, cis_or_trans={cis_or_trans}, proteomics_or_transcriptomics={proteomics_or_transcriptomics}.\")\n",
      "/home/caleb/anaconda3/envs/dev/lib/python3.10/site-packages/cnvutils/chromosome_funcs.py:325: UserWarning: Empty dataframe for cancer_type=ov, tissue_type=normal, source=cptac, level=None, chromosome=8, arm=p, gain_or_loss=loss, cis_or_trans=trans, proteomics_or_transcriptomics=transcriptomics.\n",
      "  warnings.warn(f\"Empty dataframe for cancer_type={cancer_type}, tissue_type={tissue_type}, source={source}, level={level}, chromosome={chromosome}, arm={arm}, gain_or_loss={gain_or_loss}, cis_or_trans={cis_or_trans}, proteomics_or_transcriptomics={proteomics_or_transcriptomics}.\")\n"
     ]
    },
    {
     "name": "stdout",
     "output_type": "stream",
     "text": [
      "Running event_effects_ttest with {'chromosome': 8, 'arm': 'q', 'event_start': 47260878, 'event_end': 145052465, 'gain_or_loss': 'gain', 'cis_or_trans': 'cis', 'proteomics_or_transcriptomics': 'proteomics', 'cancer_types': ['brca', 'coad', 'hnscc', 'lscc', 'luad', 'ov'], 'source': 'cptac', 'comparison': 'has_event', 'tissue_type': 'normal', 'has_event': None, 'level': None, 'data_dir': '/home/caleb/github/PayneLab/pancancerCNV/00_functions/chr08/../data'}...\n",
      "\n",
      "                                                                                \r"
     ]
    },
    {
     "name": "stderr",
     "output_type": "stream",
     "text": [
      "/home/caleb/anaconda3/envs/dev/lib/python3.10/site-packages/cnvutils/chromosome_funcs.py:325: UserWarning: Empty dataframe for cancer_type=brca, tissue_type=normal, source=cptac, level=None, chromosome=8, arm=q, gain_or_loss=gain, cis_or_trans=cis, proteomics_or_transcriptomics=proteomics.\n",
      "  warnings.warn(f\"Empty dataframe for cancer_type={cancer_type}, tissue_type={tissue_type}, source={source}, level={level}, chromosome={chromosome}, arm={arm}, gain_or_loss={gain_or_loss}, cis_or_trans={cis_or_trans}, proteomics_or_transcriptomics={proteomics_or_transcriptomics}.\")\n"
     ]
    },
    {
     "name": "stdout",
     "output_type": "stream",
     "text": [
      "Loading ov transcriptomics (6/6)...                              \r"
     ]
    },
    {
     "name": "stderr",
     "output_type": "stream",
     "text": [
      "/home/caleb/anaconda3/envs/dev/lib/python3.10/site-packages/cnvutils/chromosome_funcs.py:411: UserWarning: Too small sample size for cancer_type=ov, tissue_type=normal, source=cptac, level=None, chromosome=8, arm=q, gain_or_loss=gain, cis_or_trans=cis, proteomics_or_transcriptomics=proteomics.\n",
      "  warnings.warn(f\"Too small sample size for cancer_type={cancer_type}, tissue_type={tissue_type}, source={source}, level={level}, chromosome={chromosome}, arm={arm}, gain_or_loss={gain_or_loss}, cis_or_trans={cis_or_trans}, proteomics_or_transcriptomics={proteomics_or_transcriptomics}.\")\n"
     ]
    },
    {
     "name": "stdout",
     "output_type": "stream",
     "text": [
      "Running event_effects_ttest with {'chromosome': 8, 'arm': 'q', 'event_start': 47260878, 'event_end': 145052465, 'gain_or_loss': 'gain', 'cis_or_trans': 'trans', 'proteomics_or_transcriptomics': 'proteomics', 'cancer_types': ['brca', 'coad', 'hnscc', 'lscc', 'luad', 'ov'], 'source': 'cptac', 'comparison': 'has_event', 'tissue_type': 'normal', 'has_event': None, 'level': None, 'data_dir': '/home/caleb/github/PayneLab/pancancerCNV/00_functions/chr08/../data'}...\n",
      "\n",
      "                                                                                \r"
     ]
    },
    {
     "name": "stderr",
     "output_type": "stream",
     "text": [
      "/home/caleb/anaconda3/envs/dev/lib/python3.10/site-packages/cnvutils/chromosome_funcs.py:325: UserWarning: Empty dataframe for cancer_type=brca, tissue_type=normal, source=cptac, level=None, chromosome=8, arm=q, gain_or_loss=gain, cis_or_trans=trans, proteomics_or_transcriptomics=proteomics.\n",
      "  warnings.warn(f\"Empty dataframe for cancer_type={cancer_type}, tissue_type={tissue_type}, source={source}, level={level}, chromosome={chromosome}, arm={arm}, gain_or_loss={gain_or_loss}, cis_or_trans={cis_or_trans}, proteomics_or_transcriptomics={proteomics_or_transcriptomics}.\")\n"
     ]
    },
    {
     "name": "stdout",
     "output_type": "stream",
     "text": [
      "Running event_effects_ttest with {'chromosome': 8, 'arm': 'q', 'event_start': 47260878, 'event_end': 145052465, 'gain_or_loss': 'gain', 'cis_or_trans': 'cis', 'proteomics_or_transcriptomics': 'transcriptomics', 'cancer_types': ['brca', 'coad', 'hnscc', 'lscc', 'luad', 'ov'], 'source': 'cptac', 'comparison': 'has_event', 'tissue_type': 'normal', 'has_event': None, 'level': None, 'data_dir': '/home/caleb/github/PayneLab/pancancerCNV/00_functions/chr08/../data'}...\n",
      "\n",
      "Running event_effects_ttest with {'chromosome': 8, 'arm': 'q', 'event_start': 47260878, 'event_end': 145052465, 'gain_or_loss': 'gain', 'cis_or_trans': 'trans', 'proteomics_or_transcriptomics': 'transcriptomics', 'cancer_types': ['brca', 'coad', 'hnscc', 'lscc', 'luad', 'ov'], 'source': 'cptac', 'comparison': 'has_event', 'tissue_type': 'normal', 'has_event': None, 'level': None, 'data_dir': '/home/caleb/github/PayneLab/pancancerCNV/00_functions/chr08/../data'}...\n",
      "\n",
      "Loading luad transcriptomics (5/6)...                                           \r"
     ]
    },
    {
     "name": "stderr",
     "output_type": "stream",
     "text": [
      "/home/caleb/anaconda3/envs/dev/lib/python3.10/site-packages/cnvutils/chromosome_funcs.py:411: UserWarning: Too small sample size for cancer_type=ov, tissue_type=normal, source=cptac, level=None, chromosome=8, arm=q, gain_or_loss=gain, cis_or_trans=trans, proteomics_or_transcriptomics=proteomics.\n",
      "  warnings.warn(f\"Too small sample size for cancer_type={cancer_type}, tissue_type={tissue_type}, source={source}, level={level}, chromosome={chromosome}, arm={arm}, gain_or_loss={gain_or_loss}, cis_or_trans={cis_or_trans}, proteomics_or_transcriptomics={proteomics_or_transcriptomics}.\")\n"
     ]
    },
    {
     "name": "stdout",
     "output_type": "stream",
     "text": [
      "Running event_effects_ttest with {'chromosome': 8, 'arm': 'p', 'event_start': 166085, 'event_end': 40153481, 'gain_or_loss': 'loss', 'cis_or_trans': 'cis', 'proteomics_or_transcriptomics': 'proteomics', 'cancer_types': ['brca', 'coad', 'hnscc', 'lscc', 'luad', 'ov', 'pdac'], 'source': 'gistic', 'comparison': 'has_event', 'tissue_type': 'tumor', 'has_event': None, 'level': 'gene', 'data_dir': '/home/caleb/github/PayneLab/pancancerCNV/00_functions/chr08/../data'}...\n",
      "\n",
      "Running event_effects_ttest with {'chromosome': 8, 'arm': 'p', 'event_start': 166085, 'event_end': 40153481, 'gain_or_loss': 'loss', 'cis_or_trans': 'trans', 'proteomics_or_transcriptomics': 'proteomics', 'cancer_types': ['brca', 'coad', 'hnscc', 'lscc', 'luad', 'ov', 'pdac'], 'source': 'gistic', 'comparison': 'has_event', 'tissue_type': 'tumor', 'has_event': None, 'level': 'gene', 'data_dir': '/home/caleb/github/PayneLab/pancancerCNV/00_functions/chr08/../data'}...\n",
      "\n",
      "Running event_effects_ttest with {'chromosome': 8, 'arm': 'p', 'event_start': 166085, 'event_end': 40153481, 'gain_or_loss': 'loss', 'cis_or_trans': 'cis', 'proteomics_or_transcriptomics': 'transcriptomics', 'cancer_types': ['brca', 'coad', 'hnscc', 'lscc', 'luad', 'ov', 'pdac'], 'source': 'gistic', 'comparison': 'has_event', 'tissue_type': 'tumor', 'has_event': None, 'level': 'gene', 'data_dir': '/home/caleb/github/PayneLab/pancancerCNV/00_functions/chr08/../data'}...\n",
      "\n",
      "                                                                                \r"
     ]
    },
    {
     "name": "stderr",
     "output_type": "stream",
     "text": [
      "/home/caleb/anaconda3/envs/dev/lib/python3.10/site-packages/cnvutils/chromosome_funcs.py:325: UserWarning: Empty dataframe for cancer_type=brca, tissue_type=normal, source=cptac, level=None, chromosome=8, arm=q, gain_or_loss=gain, cis_or_trans=cis, proteomics_or_transcriptomics=transcriptomics.\n",
      "  warnings.warn(f\"Empty dataframe for cancer_type={cancer_type}, tissue_type={tissue_type}, source={source}, level={level}, chromosome={chromosome}, arm={arm}, gain_or_loss={gain_or_loss}, cis_or_trans={cis_or_trans}, proteomics_or_transcriptomics={proteomics_or_transcriptomics}.\")\n",
      "/home/caleb/anaconda3/envs/dev/lib/python3.10/site-packages/cnvutils/chromosome_funcs.py:325: UserWarning: Empty dataframe for cancer_type=coad, tissue_type=normal, source=cptac, level=None, chromosome=8, arm=q, gain_or_loss=gain, cis_or_trans=cis, proteomics_or_transcriptomics=transcriptomics.\n",
      "  warnings.warn(f\"Empty dataframe for cancer_type={cancer_type}, tissue_type={tissue_type}, source={source}, level={level}, chromosome={chromosome}, arm={arm}, gain_or_loss={gain_or_loss}, cis_or_trans={cis_or_trans}, proteomics_or_transcriptomics={proteomics_or_transcriptomics}.\")\n",
      "/home/caleb/anaconda3/envs/dev/lib/python3.10/site-packages/cnvutils/chromosome_funcs.py:325: UserWarning: Empty dataframe for cancer_type=ov, tissue_type=normal, source=cptac, level=None, chromosome=8, arm=q, gain_or_loss=gain, cis_or_trans=cis, proteomics_or_transcriptomics=transcriptomics.\n",
      "  warnings.warn(f\"Empty dataframe for cancer_type={cancer_type}, tissue_type={tissue_type}, source={source}, level={level}, chromosome={chromosome}, arm={arm}, gain_or_loss={gain_or_loss}, cis_or_trans={cis_or_trans}, proteomics_or_transcriptomics={proteomics_or_transcriptomics}.\")\n"
     ]
    },
    {
     "name": "stdout",
     "output_type": "stream",
     "text": [
      "Running event_effects_ttest with {'chromosome': 8, 'arm': 'p', 'event_start': 166085, 'event_end': 40153481, 'gain_or_loss': 'loss', 'cis_or_trans': 'trans', 'proteomics_or_transcriptomics': 'transcriptomics', 'cancer_types': ['brca', 'coad', 'hnscc', 'lscc', 'luad', 'ov', 'pdac'], 'source': 'gistic', 'comparison': 'has_event', 'tissue_type': 'tumor', 'has_event': None, 'level': 'gene', 'data_dir': '/home/caleb/github/PayneLab/pancancerCNV/00_functions/chr08/../data'}...\n",
      "\n",
      "Running event_effects_ttest with {'chromosome': 8, 'arm': 'p', 'event_start': 166085, 'event_end': 40153481, 'gain_or_loss': 'loss', 'cis_or_trans': 'cis', 'proteomics_or_transcriptomics': 'proteomics', 'cancer_types': ['brca', 'coad', 'hnscc', 'lscc', 'luad', 'ov', 'pdac'], 'source': 'gistic', 'comparison': 'has_event', 'tissue_type': 'normal', 'has_event': None, 'level': 'gene', 'data_dir': '/home/caleb/github/PayneLab/pancancerCNV/00_functions/chr08/../data'}...\n",
      "\n",
      "                                                                                \r"
     ]
    },
    {
     "name": "stderr",
     "output_type": "stream",
     "text": [
      "/home/caleb/anaconda3/envs/dev/lib/python3.10/site-packages/cnvutils/chromosome_funcs.py:325: UserWarning: Empty dataframe for cancer_type=brca, tissue_type=normal, source=cptac, level=None, chromosome=8, arm=q, gain_or_loss=gain, cis_or_trans=trans, proteomics_or_transcriptomics=transcriptomics.\n",
      "  warnings.warn(f\"Empty dataframe for cancer_type={cancer_type}, tissue_type={tissue_type}, source={source}, level={level}, chromosome={chromosome}, arm={arm}, gain_or_loss={gain_or_loss}, cis_or_trans={cis_or_trans}, proteomics_or_transcriptomics={proteomics_or_transcriptomics}.\")\n",
      "/home/caleb/anaconda3/envs/dev/lib/python3.10/site-packages/cnvutils/chromosome_funcs.py:325: UserWarning: Empty dataframe for cancer_type=coad, tissue_type=normal, source=cptac, level=None, chromosome=8, arm=q, gain_or_loss=gain, cis_or_trans=trans, proteomics_or_transcriptomics=transcriptomics.\n",
      "  warnings.warn(f\"Empty dataframe for cancer_type={cancer_type}, tissue_type={tissue_type}, source={source}, level={level}, chromosome={chromosome}, arm={arm}, gain_or_loss={gain_or_loss}, cis_or_trans={cis_or_trans}, proteomics_or_transcriptomics={proteomics_or_transcriptomics}.\")\n",
      "/home/caleb/anaconda3/envs/dev/lib/python3.10/site-packages/cnvutils/chromosome_funcs.py:325: UserWarning: Empty dataframe for cancer_type=ov, tissue_type=normal, source=cptac, level=None, chromosome=8, arm=q, gain_or_loss=gain, cis_or_trans=trans, proteomics_or_transcriptomics=transcriptomics.\n",
      "  warnings.warn(f\"Empty dataframe for cancer_type={cancer_type}, tissue_type={tissue_type}, source={source}, level={level}, chromosome={chromosome}, arm={arm}, gain_or_loss={gain_or_loss}, cis_or_trans={cis_or_trans}, proteomics_or_transcriptomics={proteomics_or_transcriptomics}.\")\n"
     ]
    },
    {
     "name": "stdout",
     "output_type": "stream",
     "text": [
      "                                                                                \r"
     ]
    },
    {
     "name": "stderr",
     "output_type": "stream",
     "text": [
      "/home/caleb/anaconda3/envs/dev/lib/python3.10/site-packages/cnvutils/chromosome_funcs.py:325: UserWarning: Empty dataframe for cancer_type=brca, tissue_type=normal, source=gistic, level=gene, chromosome=8, arm=p, gain_or_loss=loss, cis_or_trans=cis, proteomics_or_transcriptomics=proteomics.\n",
      "  warnings.warn(f\"Empty dataframe for cancer_type={cancer_type}, tissue_type={tissue_type}, source={source}, level={level}, chromosome={chromosome}, arm={arm}, gain_or_loss={gain_or_loss}, cis_or_trans={cis_or_trans}, proteomics_or_transcriptomics={proteomics_or_transcriptomics}.\")\n",
      "/home/caleb/anaconda3/envs/dev/lib/python3.10/site-packages/cnvutils/chromosome_funcs.py:411: UserWarning: Too small sample size for cancer_type=ov, tissue_type=normal, source=gistic, level=gene, chromosome=8, arm=p, gain_or_loss=loss, cis_or_trans=cis, proteomics_or_transcriptomics=proteomics.\n",
      "  warnings.warn(f\"Too small sample size for cancer_type={cancer_type}, tissue_type={tissue_type}, source={source}, level={level}, chromosome={chromosome}, arm={arm}, gain_or_loss={gain_or_loss}, cis_or_trans={cis_or_trans}, proteomics_or_transcriptomics={proteomics_or_transcriptomics}.\")\n"
     ]
    },
    {
     "name": "stdout",
     "output_type": "stream",
     "text": [
      "Running event_effects_ttest with {'chromosome': 8, 'arm': 'p', 'event_start': 166085, 'event_end': 40153481, 'gain_or_loss': 'loss', 'cis_or_trans': 'trans', 'proteomics_or_transcriptomics': 'proteomics', 'cancer_types': ['brca', 'coad', 'hnscc', 'lscc', 'luad', 'ov', 'pdac'], 'source': 'gistic', 'comparison': 'has_event', 'tissue_type': 'normal', 'has_event': None, 'level': 'gene', 'data_dir': '/home/caleb/github/PayneLab/pancancerCNV/00_functions/chr08/../data'}...\n",
      "\n",
      "Running event_effects_ttest with {'chromosome': 8, 'arm': 'p', 'event_start': 166085, 'event_end': 40153481, 'gain_or_loss': 'loss', 'cis_or_trans': 'cis', 'proteomics_or_transcriptomics': 'transcriptomics', 'cancer_types': ['brca', 'coad', 'hnscc', 'lscc', 'luad', 'ov', 'pdac'], 'source': 'gistic', 'comparison': 'has_event', 'tissue_type': 'normal', 'has_event': None, 'level': 'gene', 'data_dir': '/home/caleb/github/PayneLab/pancancerCNV/00_functions/chr08/../data'}...\n",
      "\n",
      "                                                                                \r"
     ]
    },
    {
     "name": "stderr",
     "output_type": "stream",
     "text": [
      "/home/caleb/anaconda3/envs/dev/lib/python3.10/site-packages/cnvutils/chromosome_funcs.py:325: UserWarning: Empty dataframe for cancer_type=brca, tissue_type=normal, source=gistic, level=gene, chromosome=8, arm=p, gain_or_loss=loss, cis_or_trans=trans, proteomics_or_transcriptomics=proteomics.\n",
      "  warnings.warn(f\"Empty dataframe for cancer_type={cancer_type}, tissue_type={tissue_type}, source={source}, level={level}, chromosome={chromosome}, arm={arm}, gain_or_loss={gain_or_loss}, cis_or_trans={cis_or_trans}, proteomics_or_transcriptomics={proteomics_or_transcriptomics}.\")\n"
     ]
    },
    {
     "name": "stdout",
     "output_type": "stream",
     "text": [
      "Running event_effects_ttest with {'chromosome': 8, 'arm': 'p', 'event_start': 166085, 'event_end': 40153481, 'gain_or_loss': 'loss', 'cis_or_trans': 'trans', 'proteomics_or_transcriptomics': 'transcriptomics', 'cancer_types': ['brca', 'coad', 'hnscc', 'lscc', 'luad', 'ov', 'pdac'], 'source': 'gistic', 'comparison': 'has_event', 'tissue_type': 'normal', 'has_event': None, 'level': 'gene', 'data_dir': '/home/caleb/github/PayneLab/pancancerCNV/00_functions/chr08/../data'}...\n",
      "\n",
      "Loading brca transcriptomics (1/7)...                              \r"
     ]
    },
    {
     "name": "stderr",
     "output_type": "stream",
     "text": [
      "/home/caleb/anaconda3/envs/dev/lib/python3.10/site-packages/cnvutils/chromosome_funcs.py:411: UserWarning: Too small sample size for cancer_type=ov, tissue_type=normal, source=gistic, level=gene, chromosome=8, arm=p, gain_or_loss=loss, cis_or_trans=trans, proteomics_or_transcriptomics=proteomics.\n",
      "  warnings.warn(f\"Too small sample size for cancer_type={cancer_type}, tissue_type={tissue_type}, source={source}, level={level}, chromosome={chromosome}, arm={arm}, gain_or_loss={gain_or_loss}, cis_or_trans={cis_or_trans}, proteomics_or_transcriptomics={proteomics_or_transcriptomics}.\")\n"
     ]
    },
    {
     "name": "stdout",
     "output_type": "stream",
     "text": [
      "                                                                                \r"
     ]
    },
    {
     "name": "stderr",
     "output_type": "stream",
     "text": [
      "/home/caleb/anaconda3/envs/dev/lib/python3.10/site-packages/cnvutils/chromosome_funcs.py:325: UserWarning: Empty dataframe for cancer_type=brca, tissue_type=normal, source=gistic, level=gene, chromosome=8, arm=p, gain_or_loss=loss, cis_or_trans=cis, proteomics_or_transcriptomics=transcriptomics.\n",
      "  warnings.warn(f\"Empty dataframe for cancer_type={cancer_type}, tissue_type={tissue_type}, source={source}, level={level}, chromosome={chromosome}, arm={arm}, gain_or_loss={gain_or_loss}, cis_or_trans={cis_or_trans}, proteomics_or_transcriptomics={proteomics_or_transcriptomics}.\")\n",
      "/home/caleb/anaconda3/envs/dev/lib/python3.10/site-packages/cnvutils/chromosome_funcs.py:325: UserWarning: Empty dataframe for cancer_type=coad, tissue_type=normal, source=gistic, level=gene, chromosome=8, arm=p, gain_or_loss=loss, cis_or_trans=cis, proteomics_or_transcriptomics=transcriptomics.\n",
      "  warnings.warn(f\"Empty dataframe for cancer_type={cancer_type}, tissue_type={tissue_type}, source={source}, level={level}, chromosome={chromosome}, arm={arm}, gain_or_loss={gain_or_loss}, cis_or_trans={cis_or_trans}, proteomics_or_transcriptomics={proteomics_or_transcriptomics}.\")\n",
      "/home/caleb/anaconda3/envs/dev/lib/python3.10/site-packages/cnvutils/chromosome_funcs.py:325: UserWarning: Empty dataframe for cancer_type=ov, tissue_type=normal, source=gistic, level=gene, chromosome=8, arm=p, gain_or_loss=loss, cis_or_trans=cis, proteomics_or_transcriptomics=transcriptomics.\n",
      "  warnings.warn(f\"Empty dataframe for cancer_type={cancer_type}, tissue_type={tissue_type}, source={source}, level={level}, chromosome={chromosome}, arm={arm}, gain_or_loss={gain_or_loss}, cis_or_trans={cis_or_trans}, proteomics_or_transcriptomics={proteomics_or_transcriptomics}.\")\n"
     ]
    },
    {
     "name": "stdout",
     "output_type": "stream",
     "text": [
      "Running event_effects_ttest with {'chromosome': 8, 'arm': 'q', 'event_start': 36784373, 'event_end': 145052466, 'gain_or_loss': 'gain', 'cis_or_trans': 'cis', 'proteomics_or_transcriptomics': 'proteomics', 'cancer_types': ['brca', 'coad', 'hnscc', 'lscc', 'luad', 'ov', 'pdac'], 'source': 'gistic', 'comparison': 'has_event', 'tissue_type': 'tumor', 'has_event': None, 'level': 'gene', 'data_dir': '/home/caleb/github/PayneLab/pancancerCNV/00_functions/chr08/../data'}...\n",
      "\n",
      "Running event_effects_ttest with {'chromosome': 8, 'arm': 'q', 'event_start': 36784373, 'event_end': 145052466, 'gain_or_loss': 'gain', 'cis_or_trans': 'trans', 'proteomics_or_transcriptomics': 'proteomics', 'cancer_types': ['brca', 'coad', 'hnscc', 'lscc', 'luad', 'ov', 'pdac'], 'source': 'gistic', 'comparison': 'has_event', 'tissue_type': 'tumor', 'has_event': None, 'level': 'gene', 'data_dir': '/home/caleb/github/PayneLab/pancancerCNV/00_functions/chr08/../data'}...\n",
      "\n",
      "Running event_effects_ttest with {'chromosome': 8, 'arm': 'q', 'event_start': 36784373, 'event_end': 145052466, 'gain_or_loss': 'gain', 'cis_or_trans': 'cis', 'proteomics_or_transcriptomics': 'transcriptomics', 'cancer_types': ['brca', 'coad', 'hnscc', 'lscc', 'luad', 'ov', 'pdac'], 'source': 'gistic', 'comparison': 'has_event', 'tissue_type': 'tumor', 'has_event': None, 'level': 'gene', 'data_dir': '/home/caleb/github/PayneLab/pancancerCNV/00_functions/chr08/../data'}...\n",
      "\n",
      "Running event_effects_ttest with {'chromosome': 8, 'arm': 'q', 'event_start': 36784373, 'event_end': 145052466, 'gain_or_loss': 'gain', 'cis_or_trans': 'trans', 'proteomics_or_transcriptomics': 'transcriptomics', 'cancer_types': ['brca', 'coad', 'hnscc', 'lscc', 'luad', 'ov', 'pdac'], 'source': 'gistic', 'comparison': 'has_event', 'tissue_type': 'tumor', 'has_event': None, 'level': 'gene', 'data_dir': '/home/caleb/github/PayneLab/pancancerCNV/00_functions/chr08/../data'}...\n",
      "\n",
      "Running event_effects_ttest with {'chromosome': 8, 'arm': 'q', 'event_start': 36784373, 'event_end': 145052466, 'gain_or_loss': 'gain', 'cis_or_trans': 'cis', 'proteomics_or_transcriptomics': 'proteomics', 'cancer_types': ['brca', 'coad', 'hnscc', 'lscc', 'luad', 'ov', 'pdac'], 'source': 'gistic', 'comparison': 'has_event', 'tissue_type': 'normal', 'has_event': None, 'level': 'gene', 'data_dir': '/home/caleb/github/PayneLab/pancancerCNV/00_functions/chr08/../data'}...\n",
      "\n",
      "Running event_effects_ttest with {'chromosome': 8, 'arm': 'q', 'event_start': 36784373, 'event_end': 145052466, 'gain_or_loss': 'gain', 'cis_or_trans': 'trans', 'proteomics_or_transcriptomics': 'proteomics', 'cancer_types': ['brca', 'coad', 'hnscc', 'lscc', 'luad', 'ov', 'pdac'], 'source': 'gistic', 'comparison': 'has_event', 'tissue_type': 'normal', 'has_event': None, 'level': 'gene', 'data_dir': '/home/caleb/github/PayneLab/pancancerCNV/00_functions/chr08/../data'}...\n",
      "\n",
      "                                                                                \r"
     ]
    },
    {
     "name": "stderr",
     "output_type": "stream",
     "text": [
      "/home/caleb/anaconda3/envs/dev/lib/python3.10/site-packages/cnvutils/chromosome_funcs.py:325: UserWarning: Empty dataframe for cancer_type=brca, tissue_type=normal, source=gistic, level=gene, chromosome=8, arm=p, gain_or_loss=loss, cis_or_trans=trans, proteomics_or_transcriptomics=transcriptomics.\n",
      "  warnings.warn(f\"Empty dataframe for cancer_type={cancer_type}, tissue_type={tissue_type}, source={source}, level={level}, chromosome={chromosome}, arm={arm}, gain_or_loss={gain_or_loss}, cis_or_trans={cis_or_trans}, proteomics_or_transcriptomics={proteomics_or_transcriptomics}.\")\n",
      "/home/caleb/anaconda3/envs/dev/lib/python3.10/site-packages/cnvutils/chromosome_funcs.py:325: UserWarning: Empty dataframe for cancer_type=coad, tissue_type=normal, source=gistic, level=gene, chromosome=8, arm=p, gain_or_loss=loss, cis_or_trans=trans, proteomics_or_transcriptomics=transcriptomics.\n",
      "  warnings.warn(f\"Empty dataframe for cancer_type={cancer_type}, tissue_type={tissue_type}, source={source}, level={level}, chromosome={chromosome}, arm={arm}, gain_or_loss={gain_or_loss}, cis_or_trans={cis_or_trans}, proteomics_or_transcriptomics={proteomics_or_transcriptomics}.\")\n",
      "/home/caleb/anaconda3/envs/dev/lib/python3.10/site-packages/cnvutils/chromosome_funcs.py:325: UserWarning: Empty dataframe for cancer_type=ov, tissue_type=normal, source=gistic, level=gene, chromosome=8, arm=p, gain_or_loss=loss, cis_or_trans=trans, proteomics_or_transcriptomics=transcriptomics.\n",
      "  warnings.warn(f\"Empty dataframe for cancer_type={cancer_type}, tissue_type={tissue_type}, source={source}, level={level}, chromosome={chromosome}, arm={arm}, gain_or_loss={gain_or_loss}, cis_or_trans={cis_or_trans}, proteomics_or_transcriptomics={proteomics_or_transcriptomics}.\")\n"
     ]
    },
    {
     "name": "stdout",
     "output_type": "stream",
     "text": [
      "                                                                                \r"
     ]
    },
    {
     "name": "stderr",
     "output_type": "stream",
     "text": [
      "/home/caleb/anaconda3/envs/dev/lib/python3.10/site-packages/cnvutils/chromosome_funcs.py:325: UserWarning: Empty dataframe for cancer_type=brca, tissue_type=normal, source=gistic, level=gene, chromosome=8, arm=q, gain_or_loss=gain, cis_or_trans=cis, proteomics_or_transcriptomics=proteomics.\n",
      "  warnings.warn(f\"Empty dataframe for cancer_type={cancer_type}, tissue_type={tissue_type}, source={source}, level={level}, chromosome={chromosome}, arm={arm}, gain_or_loss={gain_or_loss}, cis_or_trans={cis_or_trans}, proteomics_or_transcriptomics={proteomics_or_transcriptomics}.\")\n"
     ]
    },
    {
     "name": "stdout",
     "output_type": "stream",
     "text": [
      "                                                                                \r"
     ]
    },
    {
     "name": "stderr",
     "output_type": "stream",
     "text": [
      "/home/caleb/anaconda3/envs/dev/lib/python3.10/site-packages/cnvutils/chromosome_funcs.py:411: UserWarning: Too small sample size for cancer_type=ov, tissue_type=normal, source=gistic, level=gene, chromosome=8, arm=q, gain_or_loss=gain, cis_or_trans=cis, proteomics_or_transcriptomics=proteomics.\n",
      "  warnings.warn(f\"Too small sample size for cancer_type={cancer_type}, tissue_type={tissue_type}, source={source}, level={level}, chromosome={chromosome}, arm={arm}, gain_or_loss={gain_or_loss}, cis_or_trans={cis_or_trans}, proteomics_or_transcriptomics={proteomics_or_transcriptomics}.\")\n",
      "/home/caleb/anaconda3/envs/dev/lib/python3.10/site-packages/cnvutils/chromosome_funcs.py:325: UserWarning: Empty dataframe for cancer_type=brca, tissue_type=normal, source=gistic, level=gene, chromosome=8, arm=q, gain_or_loss=gain, cis_or_trans=trans, proteomics_or_transcriptomics=proteomics.\n",
      "  warnings.warn(f\"Empty dataframe for cancer_type={cancer_type}, tissue_type={tissue_type}, source={source}, level={level}, chromosome={chromosome}, arm={arm}, gain_or_loss={gain_or_loss}, cis_or_trans={cis_or_trans}, proteomics_or_transcriptomics={proteomics_or_transcriptomics}.\")\n"
     ]
    },
    {
     "name": "stdout",
     "output_type": "stream",
     "text": [
      "Running event_effects_ttest with {'chromosome': 8, 'arm': 'q', 'event_start': 36784373, 'event_end': 145052466, 'gain_or_loss': 'gain', 'cis_or_trans': 'cis', 'proteomics_or_transcriptomics': 'transcriptomics', 'cancer_types': ['brca', 'coad', 'hnscc', 'lscc', 'luad', 'ov', 'pdac'], 'source': 'gistic', 'comparison': 'has_event', 'tissue_type': 'normal', 'has_event': None, 'level': 'gene', 'data_dir': '/home/caleb/github/PayneLab/pancancerCNV/00_functions/chr08/../data'}...\n",
      "\n",
      "Running event_effects_ttest with {'chromosome': 8, 'arm': 'q', 'event_start': 36784373, 'event_end': 145052466, 'gain_or_loss': 'gain', 'cis_or_trans': 'trans', 'proteomics_or_transcriptomics': 'transcriptomics', 'cancer_types': ['brca', 'coad', 'hnscc', 'lscc', 'luad', 'ov', 'pdac'], 'source': 'gistic', 'comparison': 'has_event', 'tissue_type': 'normal', 'has_event': None, 'level': 'gene', 'data_dir': '/home/caleb/github/PayneLab/pancancerCNV/00_functions/chr08/../data'}...\n",
      "\n",
      "                                                                                \r"
     ]
    },
    {
     "name": "stderr",
     "output_type": "stream",
     "text": [
      "/home/caleb/anaconda3/envs/dev/lib/python3.10/site-packages/cnvutils/chromosome_funcs.py:411: UserWarning: Too small sample size for cancer_type=ov, tissue_type=normal, source=gistic, level=gene, chromosome=8, arm=q, gain_or_loss=gain, cis_or_trans=trans, proteomics_or_transcriptomics=proteomics.\n",
      "  warnings.warn(f\"Too small sample size for cancer_type={cancer_type}, tissue_type={tissue_type}, source={source}, level={level}, chromosome={chromosome}, arm={arm}, gain_or_loss={gain_or_loss}, cis_or_trans={cis_or_trans}, proteomics_or_transcriptomics={proteomics_or_transcriptomics}.\")\n"
     ]
    },
    {
     "name": "stdout",
     "output_type": "stream",
     "text": [
      "                                                                                \r"
     ]
    },
    {
     "name": "stderr",
     "output_type": "stream",
     "text": [
      "/home/caleb/anaconda3/envs/dev/lib/python3.10/site-packages/cnvutils/chromosome_funcs.py:325: UserWarning: Empty dataframe for cancer_type=brca, tissue_type=normal, source=gistic, level=gene, chromosome=8, arm=q, gain_or_loss=gain, cis_or_trans=cis, proteomics_or_transcriptomics=transcriptomics.\n",
      "  warnings.warn(f\"Empty dataframe for cancer_type={cancer_type}, tissue_type={tissue_type}, source={source}, level={level}, chromosome={chromosome}, arm={arm}, gain_or_loss={gain_or_loss}, cis_or_trans={cis_or_trans}, proteomics_or_transcriptomics={proteomics_or_transcriptomics}.\")\n",
      "/home/caleb/anaconda3/envs/dev/lib/python3.10/site-packages/cnvutils/chromosome_funcs.py:325: UserWarning: Empty dataframe for cancer_type=coad, tissue_type=normal, source=gistic, level=gene, chromosome=8, arm=q, gain_or_loss=gain, cis_or_trans=cis, proteomics_or_transcriptomics=transcriptomics.\n",
      "  warnings.warn(f\"Empty dataframe for cancer_type={cancer_type}, tissue_type={tissue_type}, source={source}, level={level}, chromosome={chromosome}, arm={arm}, gain_or_loss={gain_or_loss}, cis_or_trans={cis_or_trans}, proteomics_or_transcriptomics={proteomics_or_transcriptomics}.\")\n",
      "/home/caleb/anaconda3/envs/dev/lib/python3.10/site-packages/cnvutils/chromosome_funcs.py:325: UserWarning: Empty dataframe for cancer_type=ov, tissue_type=normal, source=gistic, level=gene, chromosome=8, arm=q, gain_or_loss=gain, cis_or_trans=cis, proteomics_or_transcriptomics=transcriptomics.\n",
      "  warnings.warn(f\"Empty dataframe for cancer_type={cancer_type}, tissue_type={tissue_type}, source={source}, level={level}, chromosome={chromosome}, arm={arm}, gain_or_loss={gain_or_loss}, cis_or_trans={cis_or_trans}, proteomics_or_transcriptomics={proteomics_or_transcriptomics}.\")\n"
     ]
    },
    {
     "name": "stdout",
     "output_type": "stream",
     "text": [
      "                                                                                \r"
     ]
    },
    {
     "name": "stderr",
     "output_type": "stream",
     "text": [
      "/home/caleb/anaconda3/envs/dev/lib/python3.10/site-packages/cnvutils/chromosome_funcs.py:325: UserWarning: Empty dataframe for cancer_type=brca, tissue_type=normal, source=gistic, level=gene, chromosome=8, arm=q, gain_or_loss=gain, cis_or_trans=trans, proteomics_or_transcriptomics=transcriptomics.\n",
      "  warnings.warn(f\"Empty dataframe for cancer_type={cancer_type}, tissue_type={tissue_type}, source={source}, level={level}, chromosome={chromosome}, arm={arm}, gain_or_loss={gain_or_loss}, cis_or_trans={cis_or_trans}, proteomics_or_transcriptomics={proteomics_or_transcriptomics}.\")\n",
      "/home/caleb/anaconda3/envs/dev/lib/python3.10/site-packages/cnvutils/chromosome_funcs.py:325: UserWarning: Empty dataframe for cancer_type=coad, tissue_type=normal, source=gistic, level=gene, chromosome=8, arm=q, gain_or_loss=gain, cis_or_trans=trans, proteomics_or_transcriptomics=transcriptomics.\n",
      "  warnings.warn(f\"Empty dataframe for cancer_type={cancer_type}, tissue_type={tissue_type}, source={source}, level={level}, chromosome={chromosome}, arm={arm}, gain_or_loss={gain_or_loss}, cis_or_trans={cis_or_trans}, proteomics_or_transcriptomics={proteomics_or_transcriptomics}.\")\n",
      "/home/caleb/anaconda3/envs/dev/lib/python3.10/site-packages/cnvutils/chromosome_funcs.py:325: UserWarning: Empty dataframe for cancer_type=ov, tissue_type=normal, source=gistic, level=gene, chromosome=8, arm=q, gain_or_loss=gain, cis_or_trans=trans, proteomics_or_transcriptomics=transcriptomics.\n",
      "  warnings.warn(f\"Empty dataframe for cancer_type={cancer_type}, tissue_type={tissue_type}, source={source}, level={level}, chromosome={chromosome}, arm={arm}, gain_or_loss={gain_or_loss}, cis_or_trans={cis_or_trans}, proteomics_or_transcriptomics={proteomics_or_transcriptomics}.\")\n"
     ]
    },
    {
     "data": {
      "text/plain": [
       "[None,\n",
       " None,\n",
       " None,\n",
       " None,\n",
       " None,\n",
       " None,\n",
       " None,\n",
       " None,\n",
       " None,\n",
       " None,\n",
       " None,\n",
       " None,\n",
       " None,\n",
       " None,\n",
       " None,\n",
       " None,\n",
       " None,\n",
       " None,\n",
       " None,\n",
       " None,\n",
       " None,\n",
       " None,\n",
       " None,\n",
       " None,\n",
       " None,\n",
       " None,\n",
       " None,\n",
       " None,\n",
       " None,\n",
       " None,\n",
       " None,\n",
       " None]"
      ]
     },
     "execution_count": 2,
     "metadata": {},
     "output_type": "execute_result"
    }
   ],
   "source": [
    "cnvutils.multi_runner(\n",
    "    func=cnvutils.event_effects_ttest,\n",
    "    sources=[\"cptac\", \"gistic\"],\n",
    "    levels=[\"gene\"],\n",
    "    chromosomes_events={\n",
    "        8: {\n",
    "            \"p\": [\"loss\"],\n",
    "            \"q\": [\"gain\"],\n",
    "        },\n",
    "    },\n",
    "    more_dicts=[\n",
    "        {\n",
    "            \"name\": \"comparison\",\n",
    "            \"vals\": [\"has_event\"]\n",
    "        },\n",
    "        {\n",
    "            \"name\": \"tissue_type\",\n",
    "            \"vals\": [\"tumor\", \"normal\"],\n",
    "        },\n",
    "        {\n",
    "            \"name\": \"proteomics_or_transcriptomics\",\n",
    "            \"vals\": [\"proteomics\", \"transcriptomics\"],\n",
    "        },\n",
    "        {\n",
    "            \"name\": \"cis_or_trans\",\n",
    "            \"vals\": [\"cis\", \"trans\"],\n",
    "        },\n",
    "    ]\n",
    ")"
   ]
  },
  {
   "cell_type": "markdown",
   "id": "a2164700",
   "metadata": {},
   "source": [
    "## RNA and protein expressions for each gene, comparing tumor to normal, looking at  samples with the event and samples without the event separately"
   ]
  },
  {
   "cell_type": "code",
   "execution_count": 4,
   "id": "0a848175",
   "metadata": {
    "scrolled": false
   },
   "outputs": [
    {
     "name": "stdout",
     "output_type": "stream",
     "text": [
      "Running event_effects_ttest with {'chromosome': 8, 'arm': 'p', 'event_start': 406428, 'event_end': 38176533, 'gain_or_loss': 'loss', 'cis_or_trans': 'cis', 'proteomics_or_transcriptomics': 'proteomics', 'cancer_types': ['brca', 'coad', 'hnscc', 'lscc', 'luad', 'ov'], 'source': 'cptac', 'comparison': 'tumor', 'tissue_type': None, 'has_event': True, 'level': None, 'data_dir': '/home/caleb/github/PayneLab/pancancerCNV/00_functions/chr08/../data'}...\n",
      "Running event_effects_ttest with {'chromosome': 8, 'arm': 'p', 'event_start': 406428, 'event_end': 38176533, 'gain_or_loss': 'loss', 'cis_or_trans': 'cis', 'proteomics_or_transcriptomics': 'transcriptomics', 'cancer_types': ['brca', 'coad', 'hnscc', 'lscc', 'luad', 'ov'], 'source': 'cptac', 'comparison': 'tumor', 'tissue_type': None, 'has_event': True, 'level': None, 'data_dir': '/home/caleb/github/PayneLab/pancancerCNV/00_functions/chr08/../data'}...\n",
      "Running event_effects_ttest with {'chromosome': 8, 'arm': 'p', 'event_start': 406428, 'event_end': 38176533, 'gain_or_loss': 'loss', 'cis_or_trans': 'trans', 'proteomics_or_transcriptomics': 'transcriptomics', 'cancer_types': ['brca', 'coad', 'hnscc', 'lscc', 'luad', 'ov'], 'source': 'cptac', 'comparison': 'tumor', 'tissue_type': None, 'has_event': True, 'level': None, 'data_dir': '/home/caleb/github/PayneLab/pancancerCNV/00_functions/chr08/../data'}...\n",
      "Running event_effects_ttest with {'chromosome': 8, 'arm': 'p', 'event_start': 406428, 'event_end': 38176533, 'gain_or_loss': 'loss', 'cis_or_trans': 'trans', 'proteomics_or_transcriptomics': 'proteomics', 'cancer_types': ['brca', 'coad', 'hnscc', 'lscc', 'luad', 'ov'], 'source': 'cptac', 'comparison': 'tumor', 'tissue_type': None, 'has_event': False, 'level': None, 'data_dir': '/home/caleb/github/PayneLab/pancancerCNV/00_functions/chr08/../data'}...\n",
      "Running event_effects_ttest with {'chromosome': 8, 'arm': 'p', 'event_start': 406428, 'event_end': 38176533, 'gain_or_loss': 'loss', 'cis_or_trans': 'cis', 'proteomics_or_transcriptomics': 'proteomics', 'cancer_types': ['brca', 'coad', 'hnscc', 'lscc', 'luad', 'ov'], 'source': 'cptac', 'comparison': 'tumor', 'tissue_type': None, 'has_event': False, 'level': None, 'data_dir': '/home/caleb/github/PayneLab/pancancerCNV/00_functions/chr08/../data'}...\n",
      "Running event_effects_ttest with {'chromosome': 8, 'arm': 'p', 'event_start': 406428, 'event_end': 38176533, 'gain_or_loss': 'loss', 'cis_or_trans': 'trans', 'proteomics_or_transcriptomics': 'proteomics', 'cancer_types': ['brca', 'coad', 'hnscc', 'lscc', 'luad', 'ov'], 'source': 'cptac', 'comparison': 'tumor', 'tissue_type': None, 'has_event': True, 'level': None, 'data_dir': '/home/caleb/github/PayneLab/pancancerCNV/00_functions/chr08/../data'}...\n",
      "Running event_effects_ttest with {'chromosome': 8, 'arm': 'p', 'event_start': 406428, 'event_end': 38176533, 'gain_or_loss': 'loss', 'cis_or_trans': 'cis', 'proteomics_or_transcriptomics': 'transcriptomics', 'cancer_types': ['brca', 'coad', 'hnscc', 'lscc', 'luad', 'ov'], 'source': 'cptac', 'comparison': 'tumor', 'tissue_type': None, 'has_event': False, 'level': None, 'data_dir': '/home/caleb/github/PayneLab/pancancerCNV/00_functions/chr08/../data'}...\n",
      "Running event_effects_ttest with {'chromosome': 8, 'arm': 'p', 'event_start': 406428, 'event_end': 38176533, 'gain_or_loss': 'loss', 'cis_or_trans': 'trans', 'proteomics_or_transcriptomics': 'transcriptomics', 'cancer_types': ['brca', 'coad', 'hnscc', 'lscc', 'luad', 'ov'], 'source': 'cptac', 'comparison': 'tumor', 'tissue_type': None, 'has_event': False, 'level': None, 'data_dir': '/home/caleb/github/PayneLab/pancancerCNV/00_functions/chr08/../data'}...\n",
      "\n",
      "\n",
      "\n",
      "\n",
      "\n",
      "\n",
      "\n",
      "Loading brca transcriptomics (1/6)...                              Loading brca proteomics (1/6)...                              \n",
      "Running event_effects_ttest with {'chromosome': 8, 'arm': 'q', 'event_start': 47260878, 'event_end': 145052465, 'gain_or_loss': 'gain', 'cis_or_trans': 'cis', 'proteomics_or_transcriptomics': 'proteomics', 'cancer_types': ['brca', 'coad', 'hnscc', 'lscc', 'luad', 'ov'], 'source': 'cptac', 'comparison': 'tumor', 'tissue_type': None, 'has_event': True, 'level': None, 'data_dir': '/home/caleb/github/PayneLab/pancancerCNV/00_functions/chr08/../data'}...lscc proteomics (4/6)...                              Loading luad proteomics (5/6)...                              \n",
      "\n",
      "Running event_effects_ttest with {'chromosome': 8, 'arm': 'q', 'event_start': 47260878, 'event_end': 145052465, 'gain_or_loss': 'gain', 'cis_or_trans': 'trans', 'proteomics_or_transcriptomics': 'proteomics', 'cancer_types': ['brca', 'coad', 'hnscc', 'lscc', 'luad', 'ov'], 'source': 'cptac', 'comparison': 'tumor', 'tissue_type': None, 'has_event': True, 'level': None, 'data_dir': '/home/caleb/github/PayneLab/pancancerCNV/00_functions/chr08/../data'}...\n",
      "\n",
      "Running event_effects_ttest with {'chromosome': 8, 'arm': 'q', 'event_start': 47260878, 'event_end': 145052465, 'gain_or_loss': 'gain', 'cis_or_trans': 'cis', 'proteomics_or_transcriptomics': 'transcriptomics', 'cancer_types': ['brca', 'coad', 'hnscc', 'lscc', 'luad', 'ov'], 'source': 'cptac', 'comparison': 'tumor', 'tissue_type': None, 'has_event': True, 'level': None, 'data_dir': '/home/caleb/github/PayneLab/pancancerCNV/00_functions/chr08/../data'}...\n",
      "\n",
      "Running event_effects_ttest with {'chromosome': 8, 'arm': 'q', 'event_start': 47260878, 'event_end': 145052465, 'gain_or_loss': 'gain', 'cis_or_trans': 'trans', 'proteomics_or_transcriptomics': 'transcriptomics', 'cancer_types': ['brca', 'coad', 'hnscc', 'lscc', 'luad', 'ov'], 'source': 'cptac', 'comparison': 'tumor', 'tissue_type': None, 'has_event': True, 'level': None, 'data_dir': '/home/caleb/github/PayneLab/pancancerCNV/00_functions/chr08/../data'}...\n",
      "\n",
      "Running event_effects_ttest with {'chromosome': 8, 'arm': 'q', 'event_start': 47260878, 'event_end': 145052465, 'gain_or_loss': 'gain', 'cis_or_trans': 'cis', 'proteomics_or_transcriptomics': 'proteomics', 'cancer_types': ['brca', 'coad', 'hnscc', 'lscc', 'luad', 'ov'], 'source': 'cptac', 'comparison': 'tumor', 'tissue_type': None, 'has_event': False, 'level': None, 'data_dir': '/home/caleb/github/PayneLab/pancancerCNV/00_functions/chr08/../data'}...\n",
      "\n",
      "Running event_effects_ttest with {'chromosome': 8, 'arm': 'q', 'event_start': 47260878, 'event_end': 145052465, 'gain_or_loss': 'gain', 'cis_or_trans': 'trans', 'proteomics_or_transcriptomics': 'proteomics', 'cancer_types': ['brca', 'coad', 'hnscc', 'lscc', 'luad', 'ov'], 'source': 'cptac', 'comparison': 'tumor', 'tissue_type': None, 'has_event': False, 'level': None, 'data_dir': '/home/caleb/github/PayneLab/pancancerCNV/00_functions/chr08/../data'}...\n",
      "\n",
      "Running event_effects_ttest with {'chromosome': 8, 'arm': 'q', 'event_start': 47260878, 'event_end': 145052465, 'gain_or_loss': 'gain', 'cis_or_trans': 'cis', 'proteomics_or_transcriptomics': 'transcriptomics', 'cancer_types': ['brca', 'coad', 'hnscc', 'lscc', 'luad', 'ov'], 'source': 'cptac', 'comparison': 'tumor', 'tissue_type': None, 'has_event': False, 'level': None, 'data_dir': '/home/caleb/github/PayneLab/pancancerCNV/00_functions/chr08/../data'}...\n",
      "\n",
      "Running event_effects_ttest with {'chromosome': 8, 'arm': 'q', 'event_start': 47260878, 'event_end': 145052465, 'gain_or_loss': 'gain', 'cis_or_trans': 'trans', 'proteomics_or_transcriptomics': 'transcriptomics', 'cancer_types': ['brca', 'coad', 'hnscc', 'lscc', 'luad', 'ov'], 'source': 'cptac', 'comparison': 'tumor', 'tissue_type': None, 'has_event': False, 'level': None, 'data_dir': '/home/caleb/github/PayneLab/pancancerCNV/00_functions/chr08/../data'}...\n",
      "\n",
      "Running event_effects_ttest with {'chromosome': 8, 'arm': 'p', 'event_start': 166085, 'event_end': 40153481, 'gain_or_loss': 'loss', 'cis_or_trans': 'cis', 'proteomics_or_transcriptomics': 'proteomics', 'cancer_types': ['brca', 'coad', 'hnscc', 'lscc', 'luad', 'ov', 'pdac'], 'source': 'gistic', 'comparison': 'tumor', 'tissue_type': None, 'has_event': True, 'level': 'gene', 'data_dir': '/home/caleb/github/PayneLab/pancancerCNV/00_functions/chr08/../data'}...\n",
      "\n",
      "Running event_effects_ttest with {'chromosome': 8, 'arm': 'p', 'event_start': 166085, 'event_end': 40153481, 'gain_or_loss': 'loss', 'cis_or_trans': 'trans', 'proteomics_or_transcriptomics': 'proteomics', 'cancer_types': ['brca', 'coad', 'hnscc', 'lscc', 'luad', 'ov', 'pdac'], 'source': 'gistic', 'comparison': 'tumor', 'tissue_type': None, 'has_event': True, 'level': 'gene', 'data_dir': '/home/caleb/github/PayneLab/pancancerCNV/00_functions/chr08/../data'}...\n"
     ]
    },
    {
     "name": "stdout",
     "output_type": "stream",
     "text": [
      "\n",
      "Running event_effects_ttest with {'chromosome': 8, 'arm': 'p', 'event_start': 166085, 'event_end': 40153481, 'gain_or_loss': 'loss', 'cis_or_trans': 'cis', 'proteomics_or_transcriptomics': 'transcriptomics', 'cancer_types': ['brca', 'coad', 'hnscc', 'lscc', 'luad', 'ov', 'pdac'], 'source': 'gistic', 'comparison': 'tumor', 'tissue_type': None, 'has_event': True, 'level': 'gene', 'data_dir': '/home/caleb/github/PayneLab/pancancerCNV/00_functions/chr08/../data'}...\n",
      "\n",
      "Running event_effects_ttest with {'chromosome': 8, 'arm': 'p', 'event_start': 166085, 'event_end': 40153481, 'gain_or_loss': 'loss', 'cis_or_trans': 'trans', 'proteomics_or_transcriptomics': 'transcriptomics', 'cancer_types': ['brca', 'coad', 'hnscc', 'lscc', 'luad', 'ov', 'pdac'], 'source': 'gistic', 'comparison': 'tumor', 'tissue_type': None, 'has_event': True, 'level': 'gene', 'data_dir': '/home/caleb/github/PayneLab/pancancerCNV/00_functions/chr08/../data'}...\n",
      "\n",
      "Running event_effects_ttest with {'chromosome': 8, 'arm': 'p', 'event_start': 166085, 'event_end': 40153481, 'gain_or_loss': 'loss', 'cis_or_trans': 'cis', 'proteomics_or_transcriptomics': 'proteomics', 'cancer_types': ['brca', 'coad', 'hnscc', 'lscc', 'luad', 'ov', 'pdac'], 'source': 'gistic', 'comparison': 'tumor', 'tissue_type': None, 'has_event': False, 'level': 'gene', 'data_dir': '/home/caleb/github/PayneLab/pancancerCNV/00_functions/chr08/../data'}...\n",
      "\n",
      "Running event_effects_ttest with {'chromosome': 8, 'arm': 'p', 'event_start': 166085, 'event_end': 40153481, 'gain_or_loss': 'loss', 'cis_or_trans': 'trans', 'proteomics_or_transcriptomics': 'proteomics', 'cancer_types': ['brca', 'coad', 'hnscc', 'lscc', 'luad', 'ov', 'pdac'], 'source': 'gistic', 'comparison': 'tumor', 'tissue_type': None, 'has_event': False, 'level': 'gene', 'data_dir': '/home/caleb/github/PayneLab/pancancerCNV/00_functions/chr08/../data'}...\n",
      "\n",
      "Running event_effects_ttest with {'chromosome': 8, 'arm': 'p', 'event_start': 166085, 'event_end': 40153481, 'gain_or_loss': 'loss', 'cis_or_trans': 'cis', 'proteomics_or_transcriptomics': 'transcriptomics', 'cancer_types': ['brca', 'coad', 'hnscc', 'lscc', 'luad', 'ov', 'pdac'], 'source': 'gistic', 'comparison': 'tumor', 'tissue_type': None, 'has_event': False, 'level': 'gene', 'data_dir': '/home/caleb/github/PayneLab/pancancerCNV/00_functions/chr08/../data'}...\n",
      "\n",
      "Running event_effects_ttest with {'chromosome': 8, 'arm': 'p', 'event_start': 166085, 'event_end': 40153481, 'gain_or_loss': 'loss', 'cis_or_trans': 'trans', 'proteomics_or_transcriptomics': 'transcriptomics', 'cancer_types': ['brca', 'coad', 'hnscc', 'lscc', 'luad', 'ov', 'pdac'], 'source': 'gistic', 'comparison': 'tumor', 'tissue_type': None, 'has_event': False, 'level': 'gene', 'data_dir': '/home/caleb/github/PayneLab/pancancerCNV/00_functions/chr08/../data'}...\n",
      "\n",
      "Running event_effects_ttest with {'chromosome': 8, 'arm': 'q', 'event_start': 36784373, 'event_end': 145052466, 'gain_or_loss': 'gain', 'cis_or_trans': 'cis', 'proteomics_or_transcriptomics': 'proteomics', 'cancer_types': ['brca', 'coad', 'hnscc', 'lscc', 'luad', 'ov', 'pdac'], 'source': 'gistic', 'comparison': 'tumor', 'tissue_type': None, 'has_event': True, 'level': 'gene', 'data_dir': '/home/caleb/github/PayneLab/pancancerCNV/00_functions/chr08/../data'}...\n",
      "\n",
      "Running event_effects_ttest with {'chromosome': 8, 'arm': 'q', 'event_start': 36784373, 'event_end': 145052466, 'gain_or_loss': 'gain', 'cis_or_trans': 'trans', 'proteomics_or_transcriptomics': 'proteomics', 'cancer_types': ['brca', 'coad', 'hnscc', 'lscc', 'luad', 'ov', 'pdac'], 'source': 'gistic', 'comparison': 'tumor', 'tissue_type': None, 'has_event': True, 'level': 'gene', 'data_dir': '/home/caleb/github/PayneLab/pancancerCNV/00_functions/chr08/../data'}...\n",
      "Loading hnscc proteomics (3/7)...                              \n",
      "Running event_effects_ttest with {'chromosome': 8, 'arm': 'q', 'event_start': 36784373, 'event_end': 145052466, 'gain_or_loss': 'gain', 'cis_or_trans': 'cis', 'proteomics_or_transcriptomics': 'transcriptomics', 'cancer_types': ['brca', 'coad', 'hnscc', 'lscc', 'luad', 'ov', 'pdac'], 'source': 'gistic', 'comparison': 'tumor', 'tissue_type': None, 'has_event': True, 'level': 'gene', 'data_dir': '/home/caleb/github/PayneLab/pancancerCNV/00_functions/chr08/../data'}...\n",
      "\n",
      "Running event_effects_ttest with {'chromosome': 8, 'arm': 'q', 'event_start': 36784373, 'event_end': 145052466, 'gain_or_loss': 'gain', 'cis_or_trans': 'trans', 'proteomics_or_transcriptomics': 'transcriptomics', 'cancer_types': ['brca', 'coad', 'hnscc', 'lscc', 'luad', 'ov', 'pdac'], 'source': 'gistic', 'comparison': 'tumor', 'tissue_type': None, 'has_event': True, 'level': 'gene', 'data_dir': '/home/caleb/github/PayneLab/pancancerCNV/00_functions/chr08/../data'}...\n",
      "\n",
      "Running event_effects_ttest with {'chromosome': 8, 'arm': 'q', 'event_start': 36784373, 'event_end': 145052466, 'gain_or_loss': 'gain', 'cis_or_trans': 'cis', 'proteomics_or_transcriptomics': 'proteomics', 'cancer_types': ['brca', 'coad', 'hnscc', 'lscc', 'luad', 'ov', 'pdac'], 'source': 'gistic', 'comparison': 'tumor', 'tissue_type': None, 'has_event': False, 'level': 'gene', 'data_dir': '/home/caleb/github/PayneLab/pancancerCNV/00_functions/chr08/../data'}...\n",
      "\n",
      "Running event_effects_ttest with {'chromosome': 8, 'arm': 'q', 'event_start': 36784373, 'event_end': 145052466, 'gain_or_loss': 'gain', 'cis_or_trans': 'trans', 'proteomics_or_transcriptomics': 'proteomics', 'cancer_types': ['brca', 'coad', 'hnscc', 'lscc', 'luad', 'ov', 'pdac'], 'source': 'gistic', 'comparison': 'tumor', 'tissue_type': None, 'has_event': False, 'level': 'gene', 'data_dir': '/home/caleb/github/PayneLab/pancancerCNV/00_functions/chr08/../data'}...\n",
      "\n",
      "Running event_effects_ttest with {'chromosome': 8, 'arm': 'q', 'event_start': 36784373, 'event_end': 145052466, 'gain_or_loss': 'gain', 'cis_or_trans': 'cis', 'proteomics_or_transcriptomics': 'transcriptomics', 'cancer_types': ['brca', 'coad', 'hnscc', 'lscc', 'luad', 'ov', 'pdac'], 'source': 'gistic', 'comparison': 'tumor', 'tissue_type': None, 'has_event': False, 'level': 'gene', 'data_dir': '/home/caleb/github/PayneLab/pancancerCNV/00_functions/chr08/../data'}...\n",
      "\n",
      "Running event_effects_ttest with {'chromosome': 8, 'arm': 'q', 'event_start': 36784373, 'event_end': 145052466, 'gain_or_loss': 'gain', 'cis_or_trans': 'trans', 'proteomics_or_transcriptomics': 'transcriptomics', 'cancer_types': ['brca', 'coad', 'hnscc', 'lscc', 'luad', 'ov', 'pdac'], 'source': 'gistic', 'comparison': 'tumor', 'tissue_type': None, 'has_event': False, 'level': 'gene', 'data_dir': '/home/caleb/github/PayneLab/pancancerCNV/00_functions/chr08/../data'}...\n",
      "\n",
      "Loading brca transcriptomics (1/7)...                              \r"
     ]
    },
    {
     "ename": "KeyboardInterrupt",
     "evalue": "",
     "output_type": "error",
     "traceback": [
      "\u001b[0;31m---------------------------------------------------------------------------\u001b[0m",
      "\u001b[0;31mKeyboardInterrupt\u001b[0m                         Traceback (most recent call last)",
      "Input \u001b[0;32mIn [4]\u001b[0m, in \u001b[0;36m<cell line: 1>\u001b[0;34m()\u001b[0m\n\u001b[0;32m----> 1\u001b[0m \u001b[43mcnvutils\u001b[49m\u001b[38;5;241;43m.\u001b[39;49m\u001b[43mmulti_runner\u001b[49m\u001b[43m(\u001b[49m\n\u001b[1;32m      2\u001b[0m \u001b[43m    \u001b[49m\u001b[43mfunc\u001b[49m\u001b[38;5;241;43m=\u001b[39;49m\u001b[43mcnvutils\u001b[49m\u001b[38;5;241;43m.\u001b[39;49m\u001b[43mevent_effects_ttest\u001b[49m\u001b[43m,\u001b[49m\n\u001b[1;32m      3\u001b[0m \u001b[43m    \u001b[49m\u001b[43msources\u001b[49m\u001b[38;5;241;43m=\u001b[39;49m\u001b[43m[\u001b[49m\u001b[38;5;124;43m\"\u001b[39;49m\u001b[38;5;124;43mcptac\u001b[39;49m\u001b[38;5;124;43m\"\u001b[39;49m\u001b[43m,\u001b[49m\u001b[43m \u001b[49m\u001b[38;5;124;43m\"\u001b[39;49m\u001b[38;5;124;43mgistic\u001b[39;49m\u001b[38;5;124;43m\"\u001b[39;49m\u001b[43m]\u001b[49m\u001b[43m,\u001b[49m\n\u001b[1;32m      4\u001b[0m \u001b[43m    \u001b[49m\u001b[43mlevels\u001b[49m\u001b[38;5;241;43m=\u001b[39;49m\u001b[43m[\u001b[49m\u001b[38;5;124;43m\"\u001b[39;49m\u001b[38;5;124;43mgene\u001b[39;49m\u001b[38;5;124;43m\"\u001b[39;49m\u001b[43m]\u001b[49m\u001b[43m,\u001b[49m\n\u001b[1;32m      5\u001b[0m \u001b[43m    \u001b[49m\u001b[43mchromosomes_events\u001b[49m\u001b[38;5;241;43m=\u001b[39;49m\u001b[43m{\u001b[49m\n\u001b[1;32m      6\u001b[0m \u001b[43m        \u001b[49m\u001b[38;5;241;43m8\u001b[39;49m\u001b[43m:\u001b[49m\u001b[43m \u001b[49m\u001b[43m{\u001b[49m\n\u001b[1;32m      7\u001b[0m \u001b[43m            \u001b[49m\u001b[38;5;124;43m\"\u001b[39;49m\u001b[38;5;124;43mp\u001b[39;49m\u001b[38;5;124;43m\"\u001b[39;49m\u001b[43m:\u001b[49m\u001b[43m \u001b[49m\u001b[43m[\u001b[49m\u001b[38;5;124;43m\"\u001b[39;49m\u001b[38;5;124;43mloss\u001b[39;49m\u001b[38;5;124;43m\"\u001b[39;49m\u001b[43m]\u001b[49m\u001b[43m,\u001b[49m\n\u001b[1;32m      8\u001b[0m \u001b[43m            \u001b[49m\u001b[38;5;124;43m\"\u001b[39;49m\u001b[38;5;124;43mq\u001b[39;49m\u001b[38;5;124;43m\"\u001b[39;49m\u001b[43m:\u001b[49m\u001b[43m \u001b[49m\u001b[43m[\u001b[49m\u001b[38;5;124;43m\"\u001b[39;49m\u001b[38;5;124;43mgain\u001b[39;49m\u001b[38;5;124;43m\"\u001b[39;49m\u001b[43m]\u001b[49m\u001b[43m,\u001b[49m\n\u001b[1;32m      9\u001b[0m \u001b[43m        \u001b[49m\u001b[43m}\u001b[49m\u001b[43m,\u001b[49m\n\u001b[1;32m     10\u001b[0m \u001b[43m    \u001b[49m\u001b[43m}\u001b[49m\u001b[43m,\u001b[49m\n\u001b[1;32m     11\u001b[0m \u001b[43m    \u001b[49m\u001b[43mmore_dicts\u001b[49m\u001b[38;5;241;43m=\u001b[39;49m\u001b[43m[\u001b[49m\n\u001b[1;32m     12\u001b[0m \u001b[43m        \u001b[49m\u001b[43m{\u001b[49m\n\u001b[1;32m     13\u001b[0m \u001b[43m            \u001b[49m\u001b[38;5;124;43m\"\u001b[39;49m\u001b[38;5;124;43mname\u001b[39;49m\u001b[38;5;124;43m\"\u001b[39;49m\u001b[43m:\u001b[49m\u001b[43m \u001b[49m\u001b[38;5;124;43m\"\u001b[39;49m\u001b[38;5;124;43mcomparison\u001b[39;49m\u001b[38;5;124;43m\"\u001b[39;49m\u001b[43m,\u001b[49m\n\u001b[1;32m     14\u001b[0m \u001b[43m            \u001b[49m\u001b[38;5;124;43m\"\u001b[39;49m\u001b[38;5;124;43mvals\u001b[39;49m\u001b[38;5;124;43m\"\u001b[39;49m\u001b[43m:\u001b[49m\u001b[43m \u001b[49m\u001b[43m[\u001b[49m\u001b[38;5;124;43m\"\u001b[39;49m\u001b[38;5;124;43mtumor\u001b[39;49m\u001b[38;5;124;43m\"\u001b[39;49m\u001b[43m]\u001b[49m\n\u001b[1;32m     15\u001b[0m \u001b[43m        \u001b[49m\u001b[43m}\u001b[49m\u001b[43m,\u001b[49m\n\u001b[1;32m     16\u001b[0m \u001b[43m        \u001b[49m\u001b[43m{\u001b[49m\n\u001b[1;32m     17\u001b[0m \u001b[43m            \u001b[49m\u001b[38;5;124;43m\"\u001b[39;49m\u001b[38;5;124;43mname\u001b[39;49m\u001b[38;5;124;43m\"\u001b[39;49m\u001b[43m:\u001b[49m\u001b[43m \u001b[49m\u001b[38;5;124;43m\"\u001b[39;49m\u001b[38;5;124;43mhas_event\u001b[39;49m\u001b[38;5;124;43m\"\u001b[39;49m\u001b[43m,\u001b[49m\n\u001b[1;32m     18\u001b[0m \u001b[43m            \u001b[49m\u001b[38;5;124;43m\"\u001b[39;49m\u001b[38;5;124;43mvals\u001b[39;49m\u001b[38;5;124;43m\"\u001b[39;49m\u001b[43m:\u001b[49m\u001b[43m \u001b[49m\u001b[43m[\u001b[49m\u001b[38;5;28;43;01mTrue\u001b[39;49;00m\u001b[43m,\u001b[49m\u001b[43m \u001b[49m\u001b[38;5;28;43;01mFalse\u001b[39;49;00m\u001b[43m]\u001b[49m\u001b[43m,\u001b[49m\n\u001b[1;32m     19\u001b[0m \u001b[43m        \u001b[49m\u001b[43m}\u001b[49m\u001b[43m,\u001b[49m\n\u001b[1;32m     20\u001b[0m \u001b[43m        \u001b[49m\u001b[43m{\u001b[49m\n\u001b[1;32m     21\u001b[0m \u001b[43m            \u001b[49m\u001b[38;5;124;43m\"\u001b[39;49m\u001b[38;5;124;43mname\u001b[39;49m\u001b[38;5;124;43m\"\u001b[39;49m\u001b[43m:\u001b[49m\u001b[43m \u001b[49m\u001b[38;5;124;43m\"\u001b[39;49m\u001b[38;5;124;43mproteomics_or_transcriptomics\u001b[39;49m\u001b[38;5;124;43m\"\u001b[39;49m\u001b[43m,\u001b[49m\n\u001b[1;32m     22\u001b[0m \u001b[43m            \u001b[49m\u001b[38;5;124;43m\"\u001b[39;49m\u001b[38;5;124;43mvals\u001b[39;49m\u001b[38;5;124;43m\"\u001b[39;49m\u001b[43m:\u001b[49m\u001b[43m \u001b[49m\u001b[43m[\u001b[49m\u001b[38;5;124;43m\"\u001b[39;49m\u001b[38;5;124;43mproteomics\u001b[39;49m\u001b[38;5;124;43m\"\u001b[39;49m\u001b[43m,\u001b[49m\u001b[43m \u001b[49m\u001b[38;5;124;43m\"\u001b[39;49m\u001b[38;5;124;43mtranscriptomics\u001b[39;49m\u001b[38;5;124;43m\"\u001b[39;49m\u001b[43m]\u001b[49m\u001b[43m,\u001b[49m\n\u001b[1;32m     23\u001b[0m \u001b[43m        \u001b[49m\u001b[43m}\u001b[49m\u001b[43m,\u001b[49m\n\u001b[1;32m     24\u001b[0m \u001b[43m        \u001b[49m\u001b[43m{\u001b[49m\n\u001b[1;32m     25\u001b[0m \u001b[43m            \u001b[49m\u001b[38;5;124;43m\"\u001b[39;49m\u001b[38;5;124;43mname\u001b[39;49m\u001b[38;5;124;43m\"\u001b[39;49m\u001b[43m:\u001b[49m\u001b[43m \u001b[49m\u001b[38;5;124;43m\"\u001b[39;49m\u001b[38;5;124;43mcis_or_trans\u001b[39;49m\u001b[38;5;124;43m\"\u001b[39;49m\u001b[43m,\u001b[49m\n\u001b[1;32m     26\u001b[0m \u001b[43m            \u001b[49m\u001b[38;5;124;43m\"\u001b[39;49m\u001b[38;5;124;43mvals\u001b[39;49m\u001b[38;5;124;43m\"\u001b[39;49m\u001b[43m:\u001b[49m\u001b[43m \u001b[49m\u001b[43m[\u001b[49m\u001b[38;5;124;43m\"\u001b[39;49m\u001b[38;5;124;43mcis\u001b[39;49m\u001b[38;5;124;43m\"\u001b[39;49m\u001b[43m,\u001b[49m\u001b[43m \u001b[49m\u001b[38;5;124;43m\"\u001b[39;49m\u001b[38;5;124;43mtrans\u001b[39;49m\u001b[38;5;124;43m\"\u001b[39;49m\u001b[43m]\u001b[49m\u001b[43m,\u001b[49m\n\u001b[1;32m     27\u001b[0m \u001b[43m        \u001b[49m\u001b[43m}\u001b[49m\u001b[43m,\u001b[49m\n\u001b[1;32m     28\u001b[0m \u001b[43m    \u001b[49m\u001b[43m]\u001b[49m\n\u001b[1;32m     29\u001b[0m \u001b[43m)\u001b[49m\n",
      "File \u001b[0;32m~/anaconda3/envs/dev/lib/python3.10/site-packages/cnvutils/function_runners.py:51\u001b[0m, in \u001b[0;36mmulti_runner\u001b[0;34m(func, sources, levels, chromosomes_events, more_dicts, threads)\u001b[0m\n\u001b[1;32m     49\u001b[0m \u001b[38;5;28;01mif\u001b[39;00m threads \u001b[38;5;129;01mis\u001b[39;00m \u001b[38;5;28;01mNone\u001b[39;00m:\n\u001b[1;32m     50\u001b[0m     \u001b[38;5;28;01mwith\u001b[39;00m multiprocessing\u001b[38;5;241m.\u001b[39mPool() \u001b[38;5;28;01mas\u001b[39;00m pool:\n\u001b[0;32m---> 51\u001b[0m         results \u001b[38;5;241m=\u001b[39m \u001b[43mpool\u001b[49m\u001b[38;5;241;43m.\u001b[39;49m\u001b[43mstarmap\u001b[49m\u001b[43m(\u001b[49m\u001b[43m_runner\u001b[49m\u001b[43m,\u001b[49m\u001b[43m \u001b[49m\u001b[43margs\u001b[49m\u001b[43m)\u001b[49m\n\u001b[1;32m     52\u001b[0m \u001b[38;5;28;01melse\u001b[39;00m:\n\u001b[1;32m     53\u001b[0m     \u001b[38;5;28;01mwith\u001b[39;00m multiprocessing\u001b[38;5;241m.\u001b[39mPool(threads) \u001b[38;5;28;01mas\u001b[39;00m pool:\n",
      "File \u001b[0;32m~/anaconda3/envs/dev/lib/python3.10/multiprocessing/pool.py:372\u001b[0m, in \u001b[0;36mPool.starmap\u001b[0;34m(self, func, iterable, chunksize)\u001b[0m\n\u001b[1;32m    366\u001b[0m \u001b[38;5;28;01mdef\u001b[39;00m \u001b[38;5;21mstarmap\u001b[39m(\u001b[38;5;28mself\u001b[39m, func, iterable, chunksize\u001b[38;5;241m=\u001b[39m\u001b[38;5;28;01mNone\u001b[39;00m):\n\u001b[1;32m    367\u001b[0m     \u001b[38;5;124;03m'''\u001b[39;00m\n\u001b[1;32m    368\u001b[0m \u001b[38;5;124;03m    Like `map()` method but the elements of the `iterable` are expected to\u001b[39;00m\n\u001b[1;32m    369\u001b[0m \u001b[38;5;124;03m    be iterables as well and will be unpacked as arguments. Hence\u001b[39;00m\n\u001b[1;32m    370\u001b[0m \u001b[38;5;124;03m    `func` and (a, b) becomes func(a, b).\u001b[39;00m\n\u001b[1;32m    371\u001b[0m \u001b[38;5;124;03m    '''\u001b[39;00m\n\u001b[0;32m--> 372\u001b[0m     \u001b[38;5;28;01mreturn\u001b[39;00m \u001b[38;5;28;43mself\u001b[39;49m\u001b[38;5;241;43m.\u001b[39;49m\u001b[43m_map_async\u001b[49m\u001b[43m(\u001b[49m\u001b[43mfunc\u001b[49m\u001b[43m,\u001b[49m\u001b[43m \u001b[49m\u001b[43miterable\u001b[49m\u001b[43m,\u001b[49m\u001b[43m \u001b[49m\u001b[43mstarmapstar\u001b[49m\u001b[43m,\u001b[49m\u001b[43m \u001b[49m\u001b[43mchunksize\u001b[49m\u001b[43m)\u001b[49m\u001b[38;5;241;43m.\u001b[39;49m\u001b[43mget\u001b[49m\u001b[43m(\u001b[49m\u001b[43m)\u001b[49m\n",
      "File \u001b[0;32m~/anaconda3/envs/dev/lib/python3.10/multiprocessing/pool.py:765\u001b[0m, in \u001b[0;36mApplyResult.get\u001b[0;34m(self, timeout)\u001b[0m\n\u001b[1;32m    764\u001b[0m \u001b[38;5;28;01mdef\u001b[39;00m \u001b[38;5;21mget\u001b[39m(\u001b[38;5;28mself\u001b[39m, timeout\u001b[38;5;241m=\u001b[39m\u001b[38;5;28;01mNone\u001b[39;00m):\n\u001b[0;32m--> 765\u001b[0m     \u001b[38;5;28;43mself\u001b[39;49m\u001b[38;5;241;43m.\u001b[39;49m\u001b[43mwait\u001b[49m\u001b[43m(\u001b[49m\u001b[43mtimeout\u001b[49m\u001b[43m)\u001b[49m\n\u001b[1;32m    766\u001b[0m     \u001b[38;5;28;01mif\u001b[39;00m \u001b[38;5;129;01mnot\u001b[39;00m \u001b[38;5;28mself\u001b[39m\u001b[38;5;241m.\u001b[39mready():\n\u001b[1;32m    767\u001b[0m         \u001b[38;5;28;01mraise\u001b[39;00m \u001b[38;5;167;01mTimeoutError\u001b[39;00m\n",
      "File \u001b[0;32m~/anaconda3/envs/dev/lib/python3.10/multiprocessing/pool.py:762\u001b[0m, in \u001b[0;36mApplyResult.wait\u001b[0;34m(self, timeout)\u001b[0m\n\u001b[1;32m    761\u001b[0m \u001b[38;5;28;01mdef\u001b[39;00m \u001b[38;5;21mwait\u001b[39m(\u001b[38;5;28mself\u001b[39m, timeout\u001b[38;5;241m=\u001b[39m\u001b[38;5;28;01mNone\u001b[39;00m):\n\u001b[0;32m--> 762\u001b[0m     \u001b[38;5;28;43mself\u001b[39;49m\u001b[38;5;241;43m.\u001b[39;49m\u001b[43m_event\u001b[49m\u001b[38;5;241;43m.\u001b[39;49m\u001b[43mwait\u001b[49m\u001b[43m(\u001b[49m\u001b[43mtimeout\u001b[49m\u001b[43m)\u001b[49m\n",
      "File \u001b[0;32m~/anaconda3/envs/dev/lib/python3.10/threading.py:600\u001b[0m, in \u001b[0;36mEvent.wait\u001b[0;34m(self, timeout)\u001b[0m\n\u001b[1;32m    598\u001b[0m signaled \u001b[38;5;241m=\u001b[39m \u001b[38;5;28mself\u001b[39m\u001b[38;5;241m.\u001b[39m_flag\n\u001b[1;32m    599\u001b[0m \u001b[38;5;28;01mif\u001b[39;00m \u001b[38;5;129;01mnot\u001b[39;00m signaled:\n\u001b[0;32m--> 600\u001b[0m     signaled \u001b[38;5;241m=\u001b[39m \u001b[38;5;28;43mself\u001b[39;49m\u001b[38;5;241;43m.\u001b[39;49m\u001b[43m_cond\u001b[49m\u001b[38;5;241;43m.\u001b[39;49m\u001b[43mwait\u001b[49m\u001b[43m(\u001b[49m\u001b[43mtimeout\u001b[49m\u001b[43m)\u001b[49m\n\u001b[1;32m    601\u001b[0m \u001b[38;5;28;01mreturn\u001b[39;00m signaled\n",
      "File \u001b[0;32m~/anaconda3/envs/dev/lib/python3.10/threading.py:320\u001b[0m, in \u001b[0;36mCondition.wait\u001b[0;34m(self, timeout)\u001b[0m\n\u001b[1;32m    318\u001b[0m \u001b[38;5;28;01mtry\u001b[39;00m:    \u001b[38;5;66;03m# restore state no matter what (e.g., KeyboardInterrupt)\u001b[39;00m\n\u001b[1;32m    319\u001b[0m     \u001b[38;5;28;01mif\u001b[39;00m timeout \u001b[38;5;129;01mis\u001b[39;00m \u001b[38;5;28;01mNone\u001b[39;00m:\n\u001b[0;32m--> 320\u001b[0m         \u001b[43mwaiter\u001b[49m\u001b[38;5;241;43m.\u001b[39;49m\u001b[43macquire\u001b[49m\u001b[43m(\u001b[49m\u001b[43m)\u001b[49m\n\u001b[1;32m    321\u001b[0m         gotit \u001b[38;5;241m=\u001b[39m \u001b[38;5;28;01mTrue\u001b[39;00m\n\u001b[1;32m    322\u001b[0m     \u001b[38;5;28;01melse\u001b[39;00m:\n",
      "\u001b[0;31mKeyboardInterrupt\u001b[0m: "
     ]
    }
   ],
   "source": [
    "cnvutils.multi_runner(\n",
    "    func=cnvutils.event_effects_ttest,\n",
    "    sources=[\"cptac\", \"gistic\"],\n",
    "    levels=[\"gene\"],\n",
    "    chromosomes_events={\n",
    "        8: {\n",
    "            \"p\": [\"loss\"],\n",
    "            \"q\": [\"gain\"],\n",
    "        },\n",
    "    },\n",
    "    more_dicts=[\n",
    "        {\n",
    "            \"name\": \"comparison\",\n",
    "            \"vals\": [\"tumor\"]\n",
    "        },\n",
    "        {\n",
    "            \"name\": \"has_event\",\n",
    "            \"vals\": [True, False],\n",
    "        },\n",
    "        {\n",
    "            \"name\": \"proteomics_or_transcriptomics\",\n",
    "            \"vals\": [\"proteomics\", \"transcriptomics\"],\n",
    "        },\n",
    "        {\n",
    "            \"name\": \"cis_or_trans\",\n",
    "            \"vals\": [\"cis\", \"trans\"],\n",
    "        },\n",
    "    ]\n",
    ")"
   ]
  }
 ],
 "metadata": {
  "kernelspec": {
   "display_name": "Python 3 (ipykernel)",
   "language": "python",
   "name": "python3"
  },
  "language_info": {
   "codemirror_mode": {
    "name": "ipython",
    "version": 3
   },
   "file_extension": ".py",
   "mimetype": "text/x-python",
   "name": "python",
   "nbconvert_exporter": "python",
   "pygments_lexer": "ipython3",
   "version": "3.10.4"
  }
 },
 "nbformat": 4,
 "nbformat_minor": 5
}
