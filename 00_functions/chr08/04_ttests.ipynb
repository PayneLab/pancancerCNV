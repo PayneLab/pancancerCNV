{
 "cells": [
  {
   "cell_type": "markdown",
   "id": "ea222ecf",
   "metadata": {},
   "source": [
    "# cis effects t-tests"
   ]
  },
  {
   "cell_type": "code",
   "execution_count": 1,
   "id": "1ff6a578",
   "metadata": {},
   "outputs": [],
   "source": [
    "import cnvutils"
   ]
  },
  {
   "cell_type": "code",
   "execution_count": 5,
   "id": "cff5a4a5",
   "metadata": {
    "scrolled": false
   },
   "outputs": [
    {
     "name": "stdout",
     "output_type": "stream",
     "text": [
      "Running event_effects_ttest with {'chromosome': 8, 'arm': 'p', 'event_start': 406428, 'event_end': 38176533, 'gain_or_loss': 'loss', 'cis_or_trans': 'trans', 'proteomics_or_transcriptomics': 'proteomics', 'tissue_type': 'tumor', 'cancer_types': ['brca', 'coad', 'hnscc', 'lscc', 'luad', 'ov'], 'source': 'cptac', 'level': None, 'data_dir': '/home/caleb/github/PayneLab/pancancerCNV/00_functions/chr08/../data'}...\n",
      "Running event_effects_ttest with {'chromosome': 8, 'arm': 'p', 'event_start': 406428, 'event_end': 38176533, 'gain_or_loss': 'loss', 'cis_or_trans': 'trans', 'proteomics_or_transcriptomics': 'transcriptomics', 'tissue_type': 'tumor', 'cancer_types': ['brca', 'coad', 'hnscc', 'lscc', 'luad', 'ov'], 'source': 'cptac', 'level': None, 'data_dir': '/home/caleb/github/PayneLab/pancancerCNV/00_functions/chr08/../data'}...\n",
      "Running event_effects_ttest with {'chromosome': 8, 'arm': 'p', 'event_start': 406428, 'event_end': 38176533, 'gain_or_loss': 'loss', 'cis_or_trans': 'cis', 'proteomics_or_transcriptomics': 'proteomics', 'tissue_type': 'tumor', 'cancer_types': ['brca', 'coad', 'hnscc', 'lscc', 'luad', 'ov'], 'source': 'cptac', 'level': None, 'data_dir': '/home/caleb/github/PayneLab/pancancerCNV/00_functions/chr08/../data'}...\n",
      "Running event_effects_ttest with {'chromosome': 8, 'arm': 'p', 'event_start': 406428, 'event_end': 38176533, 'gain_or_loss': 'loss', 'cis_or_trans': 'cis', 'proteomics_or_transcriptomics': 'transcriptomics', 'tissue_type': 'tumor', 'cancer_types': ['brca', 'coad', 'hnscc', 'lscc', 'luad', 'ov'], 'source': 'cptac', 'level': None, 'data_dir': '/home/caleb/github/PayneLab/pancancerCNV/00_functions/chr08/../data'}...\n",
      "Running event_effects_ttest with {'chromosome': 8, 'arm': 'p', 'event_start': 406428, 'event_end': 38176533, 'gain_or_loss': 'loss', 'cis_or_trans': 'cis', 'proteomics_or_transcriptomics': 'proteomics', 'tissue_type': 'normal', 'cancer_types': ['brca', 'coad', 'hnscc', 'lscc', 'luad', 'ov'], 'source': 'cptac', 'level': None, 'data_dir': '/home/caleb/github/PayneLab/pancancerCNV/00_functions/chr08/../data'}...\n",
      "Running event_effects_ttest with {'chromosome': 8, 'arm': 'p', 'event_start': 406428, 'event_end': 38176533, 'gain_or_loss': 'loss', 'cis_or_trans': 'trans', 'proteomics_or_transcriptomics': 'proteomics', 'tissue_type': 'normal', 'cancer_types': ['brca', 'coad', 'hnscc', 'lscc', 'luad', 'ov'], 'source': 'cptac', 'level': None, 'data_dir': '/home/caleb/github/PayneLab/pancancerCNV/00_functions/chr08/../data'}...\n",
      "Running event_effects_ttest with {'chromosome': 8, 'arm': 'p', 'event_start': 406428, 'event_end': 38176533, 'gain_or_loss': 'loss', 'cis_or_trans': 'cis', 'proteomics_or_transcriptomics': 'transcriptomics', 'tissue_type': 'normal', 'cancer_types': ['brca', 'coad', 'hnscc', 'lscc', 'luad', 'ov'], 'source': 'cptac', 'level': None, 'data_dir': '/home/caleb/github/PayneLab/pancancerCNV/00_functions/chr08/../data'}...\n",
      "Running event_effects_ttest with {'chromosome': 8, 'arm': 'p', 'event_start': 406428, 'event_end': 38176533, 'gain_or_loss': 'loss', 'cis_or_trans': 'trans', 'proteomics_or_transcriptomics': 'transcriptomics', 'tissue_type': 'normal', 'cancer_types': ['brca', 'coad', 'hnscc', 'lscc', 'luad', 'ov'], 'source': 'cptac', 'level': None, 'data_dir': '/home/caleb/github/PayneLab/pancancerCNV/00_functions/chr08/../data'}...\n",
      "\n",
      "\n",
      "\n",
      "\n",
      "\n",
      "\n",
      "\n",
      "Loading brca proteomics (1/6)...                              Loading brca proteomics (1/6)...                              Loading brca transcriptomics (1/6)...                              Loading brca transcriptomics (1/6)...                              Loading brca proteomics (1/6)...                              \n",
      "                                                                                proteomics (1/6)...                              \r"
     ]
    },
    {
     "name": "stderr",
     "output_type": "stream",
     "text": [
      "/home/caleb/anaconda3/envs/dev/lib/python3.10/site-packages/cnvutils/chromosome_funcs.py:315: UserWarning: Empty dataframe for cancer_type=brca, tissue_type=normal, source=cptac, level=None, chromosome=8, arm=p, gain_or_loss=loss, cis_or_trans=cis, proteomics_or_transcriptomics=proteomics.\n",
      "  warnings.warn(f\"Empty dataframe for cancer_type={cancer_type}, tissue_type={tissue_type}, source={source}, level={level}, chromosome={chromosome}, arm={arm}, gain_or_loss={gain_or_loss}, cis_or_trans={cis_or_trans}, proteomics_or_transcriptomics={proteomics_or_transcriptomics}.\")\n",
      "/home/caleb/anaconda3/envs/dev/lib/python3.10/site-packages/cnvutils/chromosome_funcs.py:315: UserWarning: Empty dataframe for cancer_type=brca, tissue_type=normal, source=cptac, level=None, chromosome=8, arm=p, gain_or_loss=loss, cis_or_trans=trans, proteomics_or_transcriptomics=proteomics.\n",
      "  warnings.warn(f\"Empty dataframe for cancer_type={cancer_type}, tissue_type={tissue_type}, source={source}, level={level}, chromosome={chromosome}, arm={arm}, gain_or_loss={gain_or_loss}, cis_or_trans={cis_or_trans}, proteomics_or_transcriptomics={proteomics_or_transcriptomics}.\")\n",
      "/home/caleb/anaconda3/envs/dev/lib/python3.10/site-packages/cnvutils/chromosome_funcs.py:370: UserWarning: Too small sample size for cancer_type=ov, tissue_type=normal, source=cptac, level=None, chromosome=8, arm=p, gain_or_loss=loss, cis_or_trans=cis, proteomics_or_transcriptomics=proteomics.\n",
      "  warnings.warn(f\"Too small sample size for cancer_type={cancer_type}, tissue_type={tissue_type}, source={source}, level={level}, chromosome={chromosome}, arm={arm}, gain_or_loss={gain_or_loss}, cis_or_trans={cis_or_trans}, proteomics_or_transcriptomics={proteomics_or_transcriptomics}.\")\n"
     ]
    },
    {
     "name": "stdout",
     "output_type": "stream",
     "text": [
      "Running event_effects_ttest with {'chromosome': 8, 'arm': 'q', 'event_start': 47260878, 'event_end': 145052465, 'gain_or_loss': 'gain', 'cis_or_trans': 'cis', 'proteomics_or_transcriptomics': 'proteomics', 'tissue_type': 'tumor', 'cancer_types': ['brca', 'coad', 'hnscc', 'lscc', 'luad', 'ov'], 'source': 'cptac', 'level': None, 'data_dir': '/home/caleb/github/PayneLab/pancancerCNV/00_functions/chr08/../data'}...\n",
      "\n",
      "Running event_effects_ttest with {'chromosome': 8, 'arm': 'q', 'event_start': 47260878, 'event_end': 145052465, 'gain_or_loss': 'gain', 'cis_or_trans': 'trans', 'proteomics_or_transcriptomics': 'proteomics', 'tissue_type': 'tumor', 'cancer_types': ['brca', 'coad', 'hnscc', 'lscc', 'luad', 'ov'], 'source': 'cptac', 'level': None, 'data_dir': '/home/caleb/github/PayneLab/pancancerCNV/00_functions/chr08/../data'}...\n",
      "\n",
      "Running event_effects_ttest with {'chromosome': 8, 'arm': 'q', 'event_start': 47260878, 'event_end': 145052465, 'gain_or_loss': 'gain', 'cis_or_trans': 'cis', 'proteomics_or_transcriptomics': 'transcriptomics', 'tissue_type': 'tumor', 'cancer_types': ['brca', 'coad', 'hnscc', 'lscc', 'luad', 'ov'], 'source': 'cptac', 'level': None, 'data_dir': '/home/caleb/github/PayneLab/pancancerCNV/00_functions/chr08/../data'}...\n",
      "\n",
      "Loading lscc transcriptomics (4/6)...                               \r"
     ]
    },
    {
     "name": "stderr",
     "output_type": "stream",
     "text": [
      "/home/caleb/anaconda3/envs/dev/lib/python3.10/site-packages/cnvutils/chromosome_funcs.py:370: UserWarning: Too small sample size for cancer_type=ov, tissue_type=normal, source=cptac, level=None, chromosome=8, arm=p, gain_or_loss=loss, cis_or_trans=trans, proteomics_or_transcriptomics=proteomics.\n",
      "  warnings.warn(f\"Too small sample size for cancer_type={cancer_type}, tissue_type={tissue_type}, source={source}, level={level}, chromosome={chromosome}, arm={arm}, gain_or_loss={gain_or_loss}, cis_or_trans={cis_or_trans}, proteomics_or_transcriptomics={proteomics_or_transcriptomics}.\")\n"
     ]
    },
    {
     "name": "stdout",
     "output_type": "stream",
     "text": [
      "                                                                                \r"
     ]
    },
    {
     "name": "stderr",
     "output_type": "stream",
     "text": [
      "/home/caleb/anaconda3/envs/dev/lib/python3.10/site-packages/cnvutils/chromosome_funcs.py:315: UserWarning: Empty dataframe for cancer_type=brca, tissue_type=normal, source=cptac, level=None, chromosome=8, arm=p, gain_or_loss=loss, cis_or_trans=cis, proteomics_or_transcriptomics=transcriptomics.\n",
      "  warnings.warn(f\"Empty dataframe for cancer_type={cancer_type}, tissue_type={tissue_type}, source={source}, level={level}, chromosome={chromosome}, arm={arm}, gain_or_loss={gain_or_loss}, cis_or_trans={cis_or_trans}, proteomics_or_transcriptomics={proteomics_or_transcriptomics}.\")\n",
      "/home/caleb/anaconda3/envs/dev/lib/python3.10/site-packages/cnvutils/chromosome_funcs.py:315: UserWarning: Empty dataframe for cancer_type=coad, tissue_type=normal, source=cptac, level=None, chromosome=8, arm=p, gain_or_loss=loss, cis_or_trans=cis, proteomics_or_transcriptomics=transcriptomics.\n",
      "  warnings.warn(f\"Empty dataframe for cancer_type={cancer_type}, tissue_type={tissue_type}, source={source}, level={level}, chromosome={chromosome}, arm={arm}, gain_or_loss={gain_or_loss}, cis_or_trans={cis_or_trans}, proteomics_or_transcriptomics={proteomics_or_transcriptomics}.\")\n",
      "/home/caleb/anaconda3/envs/dev/lib/python3.10/site-packages/cnvutils/chromosome_funcs.py:315: UserWarning: Empty dataframe for cancer_type=ov, tissue_type=normal, source=cptac, level=None, chromosome=8, arm=p, gain_or_loss=loss, cis_or_trans=cis, proteomics_or_transcriptomics=transcriptomics.\n",
      "  warnings.warn(f\"Empty dataframe for cancer_type={cancer_type}, tissue_type={tissue_type}, source={source}, level={level}, chromosome={chromosome}, arm={arm}, gain_or_loss={gain_or_loss}, cis_or_trans={cis_or_trans}, proteomics_or_transcriptomics={proteomics_or_transcriptomics}.\")\n"
     ]
    },
    {
     "name": "stdout",
     "output_type": "stream",
     "text": [
      "                                                                                \r"
     ]
    },
    {
     "name": "stderr",
     "output_type": "stream",
     "text": [
      "/home/caleb/anaconda3/envs/dev/lib/python3.10/site-packages/cnvutils/chromosome_funcs.py:315: UserWarning: Empty dataframe for cancer_type=brca, tissue_type=normal, source=cptac, level=None, chromosome=8, arm=p, gain_or_loss=loss, cis_or_trans=trans, proteomics_or_transcriptomics=transcriptomics.\n",
      "  warnings.warn(f\"Empty dataframe for cancer_type={cancer_type}, tissue_type={tissue_type}, source={source}, level={level}, chromosome={chromosome}, arm={arm}, gain_or_loss={gain_or_loss}, cis_or_trans={cis_or_trans}, proteomics_or_transcriptomics={proteomics_or_transcriptomics}.\")\n",
      "/home/caleb/anaconda3/envs/dev/lib/python3.10/site-packages/cnvutils/chromosome_funcs.py:315: UserWarning: Empty dataframe for cancer_type=coad, tissue_type=normal, source=cptac, level=None, chromosome=8, arm=p, gain_or_loss=loss, cis_or_trans=trans, proteomics_or_transcriptomics=transcriptomics.\n",
      "  warnings.warn(f\"Empty dataframe for cancer_type={cancer_type}, tissue_type={tissue_type}, source={source}, level={level}, chromosome={chromosome}, arm={arm}, gain_or_loss={gain_or_loss}, cis_or_trans={cis_or_trans}, proteomics_or_transcriptomics={proteomics_or_transcriptomics}.\")\n",
      "/home/caleb/anaconda3/envs/dev/lib/python3.10/site-packages/cnvutils/chromosome_funcs.py:315: UserWarning: Empty dataframe for cancer_type=ov, tissue_type=normal, source=cptac, level=None, chromosome=8, arm=p, gain_or_loss=loss, cis_or_trans=trans, proteomics_or_transcriptomics=transcriptomics.\n",
      "  warnings.warn(f\"Empty dataframe for cancer_type={cancer_type}, tissue_type={tissue_type}, source={source}, level={level}, chromosome={chromosome}, arm={arm}, gain_or_loss={gain_or_loss}, cis_or_trans={cis_or_trans}, proteomics_or_transcriptomics={proteomics_or_transcriptomics}.\")\n"
     ]
    },
    {
     "name": "stdout",
     "output_type": "stream",
     "text": [
      "Running event_effects_ttest with {'chromosome': 8, 'arm': 'q', 'event_start': 47260878, 'event_end': 145052465, 'gain_or_loss': 'gain', 'cis_or_trans': 'trans', 'proteomics_or_transcriptomics': 'transcriptomics', 'tissue_type': 'tumor', 'cancer_types': ['brca', 'coad', 'hnscc', 'lscc', 'luad', 'ov'], 'source': 'cptac', 'level': None, 'data_dir': '/home/caleb/github/PayneLab/pancancerCNV/00_functions/chr08/../data'}...\n",
      "\n",
      "Running event_effects_ttest with {'chromosome': 8, 'arm': 'q', 'event_start': 47260878, 'event_end': 145052465, 'gain_or_loss': 'gain', 'cis_or_trans': 'cis', 'proteomics_or_transcriptomics': 'proteomics', 'tissue_type': 'normal', 'cancer_types': ['brca', 'coad', 'hnscc', 'lscc', 'luad', 'ov'], 'source': 'cptac', 'level': None, 'data_dir': '/home/caleb/github/PayneLab/pancancerCNV/00_functions/chr08/../data'}...\n",
      "\n",
      "                                                                                \r"
     ]
    },
    {
     "name": "stderr",
     "output_type": "stream",
     "text": [
      "/home/caleb/anaconda3/envs/dev/lib/python3.10/site-packages/cnvutils/chromosome_funcs.py:315: UserWarning: Empty dataframe for cancer_type=brca, tissue_type=normal, source=cptac, level=None, chromosome=8, arm=q, gain_or_loss=gain, cis_or_trans=cis, proteomics_or_transcriptomics=proteomics.\n",
      "  warnings.warn(f\"Empty dataframe for cancer_type={cancer_type}, tissue_type={tissue_type}, source={source}, level={level}, chromosome={chromosome}, arm={arm}, gain_or_loss={gain_or_loss}, cis_or_trans={cis_or_trans}, proteomics_or_transcriptomics={proteomics_or_transcriptomics}.\")\n",
      "/home/caleb/anaconda3/envs/dev/lib/python3.10/site-packages/cnvutils/chromosome_funcs.py:370: UserWarning: Too small sample size for cancer_type=ov, tissue_type=normal, source=cptac, level=None, chromosome=8, arm=q, gain_or_loss=gain, cis_or_trans=cis, proteomics_or_transcriptomics=proteomics.\n",
      "  warnings.warn(f\"Too small sample size for cancer_type={cancer_type}, tissue_type={tissue_type}, source={source}, level={level}, chromosome={chromosome}, arm={arm}, gain_or_loss={gain_or_loss}, cis_or_trans={cis_or_trans}, proteomics_or_transcriptomics={proteomics_or_transcriptomics}.\")\n"
     ]
    },
    {
     "name": "stdout",
     "output_type": "stream",
     "text": [
      "Running event_effects_ttest with {'chromosome': 8, 'arm': 'q', 'event_start': 47260878, 'event_end': 145052465, 'gain_or_loss': 'gain', 'cis_or_trans': 'trans', 'proteomics_or_transcriptomics': 'proteomics', 'tissue_type': 'normal', 'cancer_types': ['brca', 'coad', 'hnscc', 'lscc', 'luad', 'ov'], 'source': 'cptac', 'level': None, 'data_dir': '/home/caleb/github/PayneLab/pancancerCNV/00_functions/chr08/../data'}...\n",
      "\n",
      "                                                                                \r"
     ]
    },
    {
     "name": "stderr",
     "output_type": "stream",
     "text": [
      "/home/caleb/anaconda3/envs/dev/lib/python3.10/site-packages/cnvutils/chromosome_funcs.py:315: UserWarning: Empty dataframe for cancer_type=brca, tissue_type=normal, source=cptac, level=None, chromosome=8, arm=q, gain_or_loss=gain, cis_or_trans=trans, proteomics_or_transcriptomics=proteomics.\n",
      "  warnings.warn(f\"Empty dataframe for cancer_type={cancer_type}, tissue_type={tissue_type}, source={source}, level={level}, chromosome={chromosome}, arm={arm}, gain_or_loss={gain_or_loss}, cis_or_trans={cis_or_trans}, proteomics_or_transcriptomics={proteomics_or_transcriptomics}.\")\n"
     ]
    },
    {
     "name": "stdout",
     "output_type": "stream",
     "text": [
      "Running event_effects_ttest with {'chromosome': 8, 'arm': 'q', 'event_start': 47260878, 'event_end': 145052465, 'gain_or_loss': 'gain', 'cis_or_trans': 'cis', 'proteomics_or_transcriptomics': 'transcriptomics', 'tissue_type': 'normal', 'cancer_types': ['brca', 'coad', 'hnscc', 'lscc', 'luad', 'ov'], 'source': 'cptac', 'level': None, 'data_dir': '/home/caleb/github/PayneLab/pancancerCNV/00_functions/chr08/../data'}...\n",
      "\n",
      "Running event_effects_ttest with {'chromosome': 8, 'arm': 'q', 'event_start': 47260878, 'event_end': 145052465, 'gain_or_loss': 'gain', 'cis_or_trans': 'trans', 'proteomics_or_transcriptomics': 'transcriptomics', 'tissue_type': 'normal', 'cancer_types': ['brca', 'coad', 'hnscc', 'lscc', 'luad', 'ov'], 'source': 'cptac', 'level': None, 'data_dir': '/home/caleb/github/PayneLab/pancancerCNV/00_functions/chr08/../data'}...\n",
      "\n",
      "Loading lscc transcriptomics (4/6)...                                           \r"
     ]
    },
    {
     "name": "stderr",
     "output_type": "stream",
     "text": [
      "/home/caleb/anaconda3/envs/dev/lib/python3.10/site-packages/cnvutils/chromosome_funcs.py:370: UserWarning: Too small sample size for cancer_type=ov, tissue_type=normal, source=cptac, level=None, chromosome=8, arm=q, gain_or_loss=gain, cis_or_trans=trans, proteomics_or_transcriptomics=proteomics.\n",
      "  warnings.warn(f\"Too small sample size for cancer_type={cancer_type}, tissue_type={tissue_type}, source={source}, level={level}, chromosome={chromosome}, arm={arm}, gain_or_loss={gain_or_loss}, cis_or_trans={cis_or_trans}, proteomics_or_transcriptomics={proteomics_or_transcriptomics}.\")\n"
     ]
    },
    {
     "name": "stdout",
     "output_type": "stream",
     "text": [
      "Running event_effects_ttest with {'chromosome': 8, 'arm': 'p', 'event_start': 166085, 'event_end': 40153481, 'gain_or_loss': 'loss', 'cis_or_trans': 'cis', 'proteomics_or_transcriptomics': 'proteomics', 'tissue_type': 'tumor', 'cancer_types': ['brca', 'coad', 'hnscc', 'lscc', 'luad', 'ov', 'pdac'], 'source': 'gistic', 'level': 'gene', 'data_dir': '/home/caleb/github/PayneLab/pancancerCNV/00_functions/chr08/../data'}...\n",
      "\n",
      "Running event_effects_ttest with {'chromosome': 8, 'arm': 'p', 'event_start': 166085, 'event_end': 40153481, 'gain_or_loss': 'loss', 'cis_or_trans': 'trans', 'proteomics_or_transcriptomics': 'proteomics', 'tissue_type': 'tumor', 'cancer_types': ['brca', 'coad', 'hnscc', 'lscc', 'luad', 'ov', 'pdac'], 'source': 'gistic', 'level': 'gene', 'data_dir': '/home/caleb/github/PayneLab/pancancerCNV/00_functions/chr08/../data'}...\n",
      "\n",
      "Running event_effects_ttest with {'chromosome': 8, 'arm': 'p', 'event_start': 166085, 'event_end': 40153481, 'gain_or_loss': 'loss', 'cis_or_trans': 'cis', 'proteomics_or_transcriptomics': 'transcriptomics', 'tissue_type': 'tumor', 'cancer_types': ['brca', 'coad', 'hnscc', 'lscc', 'luad', 'ov', 'pdac'], 'source': 'gistic', 'level': 'gene', 'data_dir': '/home/caleb/github/PayneLab/pancancerCNV/00_functions/chr08/../data'}...\n",
      "\n",
      "                                                                                \r"
     ]
    },
    {
     "name": "stderr",
     "output_type": "stream",
     "text": [
      "/home/caleb/anaconda3/envs/dev/lib/python3.10/site-packages/cnvutils/chromosome_funcs.py:315: UserWarning: Empty dataframe for cancer_type=brca, tissue_type=normal, source=cptac, level=None, chromosome=8, arm=q, gain_or_loss=gain, cis_or_trans=cis, proteomics_or_transcriptomics=transcriptomics.\n",
      "  warnings.warn(f\"Empty dataframe for cancer_type={cancer_type}, tissue_type={tissue_type}, source={source}, level={level}, chromosome={chromosome}, arm={arm}, gain_or_loss={gain_or_loss}, cis_or_trans={cis_or_trans}, proteomics_or_transcriptomics={proteomics_or_transcriptomics}.\")\n",
      "/home/caleb/anaconda3/envs/dev/lib/python3.10/site-packages/cnvutils/chromosome_funcs.py:315: UserWarning: Empty dataframe for cancer_type=coad, tissue_type=normal, source=cptac, level=None, chromosome=8, arm=q, gain_or_loss=gain, cis_or_trans=cis, proteomics_or_transcriptomics=transcriptomics.\n",
      "  warnings.warn(f\"Empty dataframe for cancer_type={cancer_type}, tissue_type={tissue_type}, source={source}, level={level}, chromosome={chromosome}, arm={arm}, gain_or_loss={gain_or_loss}, cis_or_trans={cis_or_trans}, proteomics_or_transcriptomics={proteomics_or_transcriptomics}.\")\n",
      "/home/caleb/anaconda3/envs/dev/lib/python3.10/site-packages/cnvutils/chromosome_funcs.py:315: UserWarning: Empty dataframe for cancer_type=ov, tissue_type=normal, source=cptac, level=None, chromosome=8, arm=q, gain_or_loss=gain, cis_or_trans=cis, proteomics_or_transcriptomics=transcriptomics.\n",
      "  warnings.warn(f\"Empty dataframe for cancer_type={cancer_type}, tissue_type={tissue_type}, source={source}, level={level}, chromosome={chromosome}, arm={arm}, gain_or_loss={gain_or_loss}, cis_or_trans={cis_or_trans}, proteomics_or_transcriptomics={proteomics_or_transcriptomics}.\")\n"
     ]
    },
    {
     "name": "stdout",
     "output_type": "stream",
     "text": [
      "Running event_effects_ttest with {'chromosome': 8, 'arm': 'p', 'event_start': 166085, 'event_end': 40153481, 'gain_or_loss': 'loss', 'cis_or_trans': 'trans', 'proteomics_or_transcriptomics': 'transcriptomics', 'tissue_type': 'tumor', 'cancer_types': ['brca', 'coad', 'hnscc', 'lscc', 'luad', 'ov', 'pdac'], 'source': 'gistic', 'level': 'gene', 'data_dir': '/home/caleb/github/PayneLab/pancancerCNV/00_functions/chr08/../data'}...\n",
      "\n",
      "Running event_effects_ttest with {'chromosome': 8, 'arm': 'p', 'event_start': 166085, 'event_end': 40153481, 'gain_or_loss': 'loss', 'cis_or_trans': 'cis', 'proteomics_or_transcriptomics': 'proteomics', 'tissue_type': 'normal', 'cancer_types': ['brca', 'coad', 'hnscc', 'lscc', 'luad', 'ov', 'pdac'], 'source': 'gistic', 'level': 'gene', 'data_dir': '/home/caleb/github/PayneLab/pancancerCNV/00_functions/chr08/../data'}...\n",
      "\n",
      "Loading lscc proteomics (4/7)...                                                \r"
     ]
    },
    {
     "name": "stderr",
     "output_type": "stream",
     "text": [
      "/home/caleb/anaconda3/envs/dev/lib/python3.10/site-packages/cnvutils/chromosome_funcs.py:315: UserWarning: Empty dataframe for cancer_type=brca, tissue_type=normal, source=cptac, level=None, chromosome=8, arm=q, gain_or_loss=gain, cis_or_trans=trans, proteomics_or_transcriptomics=transcriptomics.\n",
      "  warnings.warn(f\"Empty dataframe for cancer_type={cancer_type}, tissue_type={tissue_type}, source={source}, level={level}, chromosome={chromosome}, arm={arm}, gain_or_loss={gain_or_loss}, cis_or_trans={cis_or_trans}, proteomics_or_transcriptomics={proteomics_or_transcriptomics}.\")\n",
      "/home/caleb/anaconda3/envs/dev/lib/python3.10/site-packages/cnvutils/chromosome_funcs.py:315: UserWarning: Empty dataframe for cancer_type=coad, tissue_type=normal, source=cptac, level=None, chromosome=8, arm=q, gain_or_loss=gain, cis_or_trans=trans, proteomics_or_transcriptomics=transcriptomics.\n",
      "  warnings.warn(f\"Empty dataframe for cancer_type={cancer_type}, tissue_type={tissue_type}, source={source}, level={level}, chromosome={chromosome}, arm={arm}, gain_or_loss={gain_or_loss}, cis_or_trans={cis_or_trans}, proteomics_or_transcriptomics={proteomics_or_transcriptomics}.\")\n",
      "/home/caleb/anaconda3/envs/dev/lib/python3.10/site-packages/cnvutils/chromosome_funcs.py:315: UserWarning: Empty dataframe for cancer_type=ov, tissue_type=normal, source=cptac, level=None, chromosome=8, arm=q, gain_or_loss=gain, cis_or_trans=trans, proteomics_or_transcriptomics=transcriptomics.\n",
      "  warnings.warn(f\"Empty dataframe for cancer_type={cancer_type}, tissue_type={tissue_type}, source={source}, level={level}, chromosome={chromosome}, arm={arm}, gain_or_loss={gain_or_loss}, cis_or_trans={cis_or_trans}, proteomics_or_transcriptomics={proteomics_or_transcriptomics}.\")\n"
     ]
    },
    {
     "name": "stdout",
     "output_type": "stream",
     "text": [
      "                                                                                \r"
     ]
    },
    {
     "name": "stderr",
     "output_type": "stream",
     "text": [
      "/home/caleb/anaconda3/envs/dev/lib/python3.10/site-packages/cnvutils/chromosome_funcs.py:315: UserWarning: Empty dataframe for cancer_type=brca, tissue_type=normal, source=gistic, level=gene, chromosome=8, arm=p, gain_or_loss=loss, cis_or_trans=cis, proteomics_or_transcriptomics=proteomics.\n",
      "  warnings.warn(f\"Empty dataframe for cancer_type={cancer_type}, tissue_type={tissue_type}, source={source}, level={level}, chromosome={chromosome}, arm={arm}, gain_or_loss={gain_or_loss}, cis_or_trans={cis_or_trans}, proteomics_or_transcriptomics={proteomics_or_transcriptomics}.\")\n",
      "/home/caleb/anaconda3/envs/dev/lib/python3.10/site-packages/cnvutils/chromosome_funcs.py:370: UserWarning: Too small sample size for cancer_type=ov, tissue_type=normal, source=gistic, level=gene, chromosome=8, arm=p, gain_or_loss=loss, cis_or_trans=cis, proteomics_or_transcriptomics=proteomics.\n",
      "  warnings.warn(f\"Too small sample size for cancer_type={cancer_type}, tissue_type={tissue_type}, source={source}, level={level}, chromosome={chromosome}, arm={arm}, gain_or_loss={gain_or_loss}, cis_or_trans={cis_or_trans}, proteomics_or_transcriptomics={proteomics_or_transcriptomics}.\")\n"
     ]
    },
    {
     "name": "stdout",
     "output_type": "stream",
     "text": [
      "Running event_effects_ttest with {'chromosome': 8, 'arm': 'p', 'event_start': 166085, 'event_end': 40153481, 'gain_or_loss': 'loss', 'cis_or_trans': 'trans', 'proteomics_or_transcriptomics': 'proteomics', 'tissue_type': 'normal', 'cancer_types': ['brca', 'coad', 'hnscc', 'lscc', 'luad', 'ov', 'pdac'], 'source': 'gistic', 'level': 'gene', 'data_dir': '/home/caleb/github/PayneLab/pancancerCNV/00_functions/chr08/../data'}...\n",
      "\n",
      "Running event_effects_ttest with {'chromosome': 8, 'arm': 'p', 'event_start': 166085, 'event_end': 40153481, 'gain_or_loss': 'loss', 'cis_or_trans': 'cis', 'proteomics_or_transcriptomics': 'transcriptomics', 'tissue_type': 'normal', 'cancer_types': ['brca', 'coad', 'hnscc', 'lscc', 'luad', 'ov', 'pdac'], 'source': 'gistic', 'level': 'gene', 'data_dir': '/home/caleb/github/PayneLab/pancancerCNV/00_functions/chr08/../data'}...\n",
      "\n",
      "                                                                                \r"
     ]
    },
    {
     "name": "stderr",
     "output_type": "stream",
     "text": [
      "/home/caleb/anaconda3/envs/dev/lib/python3.10/site-packages/cnvutils/chromosome_funcs.py:315: UserWarning: Empty dataframe for cancer_type=brca, tissue_type=normal, source=gistic, level=gene, chromosome=8, arm=p, gain_or_loss=loss, cis_or_trans=trans, proteomics_or_transcriptomics=proteomics.\n",
      "  warnings.warn(f\"Empty dataframe for cancer_type={cancer_type}, tissue_type={tissue_type}, source={source}, level={level}, chromosome={chromosome}, arm={arm}, gain_or_loss={gain_or_loss}, cis_or_trans={cis_or_trans}, proteomics_or_transcriptomics={proteomics_or_transcriptomics}.\")\n"
     ]
    },
    {
     "name": "stdout",
     "output_type": "stream",
     "text": [
      "Running event_effects_ttest with {'chromosome': 8, 'arm': 'p', 'event_start': 166085, 'event_end': 40153481, 'gain_or_loss': 'loss', 'cis_or_trans': 'trans', 'proteomics_or_transcriptomics': 'transcriptomics', 'tissue_type': 'normal', 'cancer_types': ['brca', 'coad', 'hnscc', 'lscc', 'luad', 'ov', 'pdac'], 'source': 'gistic', 'level': 'gene', 'data_dir': '/home/caleb/github/PayneLab/pancancerCNV/00_functions/chr08/../data'}...\n",
      "\n",
      "                                                                                \r"
     ]
    },
    {
     "name": "stderr",
     "output_type": "stream",
     "text": [
      "/home/caleb/anaconda3/envs/dev/lib/python3.10/site-packages/cnvutils/chromosome_funcs.py:370: UserWarning: Too small sample size for cancer_type=ov, tissue_type=normal, source=gistic, level=gene, chromosome=8, arm=p, gain_or_loss=loss, cis_or_trans=trans, proteomics_or_transcriptomics=proteomics.\n",
      "  warnings.warn(f\"Too small sample size for cancer_type={cancer_type}, tissue_type={tissue_type}, source={source}, level={level}, chromosome={chromosome}, arm={arm}, gain_or_loss={gain_or_loss}, cis_or_trans={cis_or_trans}, proteomics_or_transcriptomics={proteomics_or_transcriptomics}.\")\n"
     ]
    },
    {
     "name": "stdout",
     "output_type": "stream",
     "text": [
      "                                                                                \r"
     ]
    },
    {
     "name": "stderr",
     "output_type": "stream",
     "text": [
      "/home/caleb/anaconda3/envs/dev/lib/python3.10/site-packages/cnvutils/chromosome_funcs.py:315: UserWarning: Empty dataframe for cancer_type=brca, tissue_type=normal, source=gistic, level=gene, chromosome=8, arm=p, gain_or_loss=loss, cis_or_trans=cis, proteomics_or_transcriptomics=transcriptomics.\n",
      "  warnings.warn(f\"Empty dataframe for cancer_type={cancer_type}, tissue_type={tissue_type}, source={source}, level={level}, chromosome={chromosome}, arm={arm}, gain_or_loss={gain_or_loss}, cis_or_trans={cis_or_trans}, proteomics_or_transcriptomics={proteomics_or_transcriptomics}.\")\n",
      "/home/caleb/anaconda3/envs/dev/lib/python3.10/site-packages/cnvutils/chromosome_funcs.py:315: UserWarning: Empty dataframe for cancer_type=coad, tissue_type=normal, source=gistic, level=gene, chromosome=8, arm=p, gain_or_loss=loss, cis_or_trans=cis, proteomics_or_transcriptomics=transcriptomics.\n",
      "  warnings.warn(f\"Empty dataframe for cancer_type={cancer_type}, tissue_type={tissue_type}, source={source}, level={level}, chromosome={chromosome}, arm={arm}, gain_or_loss={gain_or_loss}, cis_or_trans={cis_or_trans}, proteomics_or_transcriptomics={proteomics_or_transcriptomics}.\")\n",
      "/home/caleb/anaconda3/envs/dev/lib/python3.10/site-packages/cnvutils/chromosome_funcs.py:315: UserWarning: Empty dataframe for cancer_type=ov, tissue_type=normal, source=gistic, level=gene, chromosome=8, arm=p, gain_or_loss=loss, cis_or_trans=cis, proteomics_or_transcriptomics=transcriptomics.\n",
      "  warnings.warn(f\"Empty dataframe for cancer_type={cancer_type}, tissue_type={tissue_type}, source={source}, level={level}, chromosome={chromosome}, arm={arm}, gain_or_loss={gain_or_loss}, cis_or_trans={cis_or_trans}, proteomics_or_transcriptomics={proteomics_or_transcriptomics}.\")\n"
     ]
    },
    {
     "name": "stdout",
     "output_type": "stream",
     "text": [
      "Running event_effects_ttest with {'chromosome': 8, 'arm': 'q', 'event_start': 36784373, 'event_end': 145052466, 'gain_or_loss': 'gain', 'cis_or_trans': 'cis', 'proteomics_or_transcriptomics': 'proteomics', 'tissue_type': 'tumor', 'cancer_types': ['brca', 'coad', 'hnscc', 'lscc', 'luad', 'ov', 'pdac'], 'source': 'gistic', 'level': 'gene', 'data_dir': '/home/caleb/github/PayneLab/pancancerCNV/00_functions/chr08/../data'}...\n",
      "\n",
      "Running event_effects_ttest with {'chromosome': 8, 'arm': 'q', 'event_start': 36784373, 'event_end': 145052466, 'gain_or_loss': 'gain', 'cis_or_trans': 'trans', 'proteomics_or_transcriptomics': 'proteomics', 'tissue_type': 'tumor', 'cancer_types': ['brca', 'coad', 'hnscc', 'lscc', 'luad', 'ov', 'pdac'], 'source': 'gistic', 'level': 'gene', 'data_dir': '/home/caleb/github/PayneLab/pancancerCNV/00_functions/chr08/../data'}...\n",
      "\n",
      "Running event_effects_ttest with {'chromosome': 8, 'arm': 'q', 'event_start': 36784373, 'event_end': 145052466, 'gain_or_loss': 'gain', 'cis_or_trans': 'cis', 'proteomics_or_transcriptomics': 'transcriptomics', 'tissue_type': 'tumor', 'cancer_types': ['brca', 'coad', 'hnscc', 'lscc', 'luad', 'ov', 'pdac'], 'source': 'gistic', 'level': 'gene', 'data_dir': '/home/caleb/github/PayneLab/pancancerCNV/00_functions/chr08/../data'}...\n",
      "\n",
      "Running event_effects_ttest with {'chromosome': 8, 'arm': 'q', 'event_start': 36784373, 'event_end': 145052466, 'gain_or_loss': 'gain', 'cis_or_trans': 'trans', 'proteomics_or_transcriptomics': 'transcriptomics', 'tissue_type': 'tumor', 'cancer_types': ['brca', 'coad', 'hnscc', 'lscc', 'luad', 'ov', 'pdac'], 'source': 'gistic', 'level': 'gene', 'data_dir': '/home/caleb/github/PayneLab/pancancerCNV/00_functions/chr08/../data'}...\n",
      "\n",
      "Running event_effects_ttest with {'chromosome': 8, 'arm': 'q', 'event_start': 36784373, 'event_end': 145052466, 'gain_or_loss': 'gain', 'cis_or_trans': 'cis', 'proteomics_or_transcriptomics': 'proteomics', 'tissue_type': 'normal', 'cancer_types': ['brca', 'coad', 'hnscc', 'lscc', 'luad', 'ov', 'pdac'], 'source': 'gistic', 'level': 'gene', 'data_dir': '/home/caleb/github/PayneLab/pancancerCNV/00_functions/chr08/../data'}...\n",
      "\n",
      "Running event_effects_ttest with {'chromosome': 8, 'arm': 'q', 'event_start': 36784373, 'event_end': 145052466, 'gain_or_loss': 'gain', 'cis_or_trans': 'trans', 'proteomics_or_transcriptomics': 'proteomics', 'tissue_type': 'normal', 'cancer_types': ['brca', 'coad', 'hnscc', 'lscc', 'luad', 'ov', 'pdac'], 'source': 'gistic', 'level': 'gene', 'data_dir': '/home/caleb/github/PayneLab/pancancerCNV/00_functions/chr08/../data'}...\n",
      "\n",
      "                                                                                \r"
     ]
    },
    {
     "name": "stderr",
     "output_type": "stream",
     "text": [
      "/home/caleb/anaconda3/envs/dev/lib/python3.10/site-packages/cnvutils/chromosome_funcs.py:315: UserWarning: Empty dataframe for cancer_type=brca, tissue_type=normal, source=gistic, level=gene, chromosome=8, arm=q, gain_or_loss=gain, cis_or_trans=cis, proteomics_or_transcriptomics=proteomics.\n",
      "  warnings.warn(f\"Empty dataframe for cancer_type={cancer_type}, tissue_type={tissue_type}, source={source}, level={level}, chromosome={chromosome}, arm={arm}, gain_or_loss={gain_or_loss}, cis_or_trans={cis_or_trans}, proteomics_or_transcriptomics={proteomics_or_transcriptomics}.\")\n"
     ]
    },
    {
     "name": "stdout",
     "output_type": "stream",
     "text": [
      "                                                                                \r"
     ]
    },
    {
     "name": "stderr",
     "output_type": "stream",
     "text": [
      "/home/caleb/anaconda3/envs/dev/lib/python3.10/site-packages/cnvutils/chromosome_funcs.py:370: UserWarning: Too small sample size for cancer_type=ov, tissue_type=normal, source=gistic, level=gene, chromosome=8, arm=q, gain_or_loss=gain, cis_or_trans=cis, proteomics_or_transcriptomics=proteomics.\n",
      "  warnings.warn(f\"Too small sample size for cancer_type={cancer_type}, tissue_type={tissue_type}, source={source}, level={level}, chromosome={chromosome}, arm={arm}, gain_or_loss={gain_or_loss}, cis_or_trans={cis_or_trans}, proteomics_or_transcriptomics={proteomics_or_transcriptomics}.\")\n",
      "/home/caleb/anaconda3/envs/dev/lib/python3.10/site-packages/cnvutils/chromosome_funcs.py:315: UserWarning: Empty dataframe for cancer_type=brca, tissue_type=normal, source=gistic, level=gene, chromosome=8, arm=p, gain_or_loss=loss, cis_or_trans=trans, proteomics_or_transcriptomics=transcriptomics.\n",
      "  warnings.warn(f\"Empty dataframe for cancer_type={cancer_type}, tissue_type={tissue_type}, source={source}, level={level}, chromosome={chromosome}, arm={arm}, gain_or_loss={gain_or_loss}, cis_or_trans={cis_or_trans}, proteomics_or_transcriptomics={proteomics_or_transcriptomics}.\")\n",
      "/home/caleb/anaconda3/envs/dev/lib/python3.10/site-packages/cnvutils/chromosome_funcs.py:315: UserWarning: Empty dataframe for cancer_type=coad, tissue_type=normal, source=gistic, level=gene, chromosome=8, arm=p, gain_or_loss=loss, cis_or_trans=trans, proteomics_or_transcriptomics=transcriptomics.\n",
      "  warnings.warn(f\"Empty dataframe for cancer_type={cancer_type}, tissue_type={tissue_type}, source={source}, level={level}, chromosome={chromosome}, arm={arm}, gain_or_loss={gain_or_loss}, cis_or_trans={cis_or_trans}, proteomics_or_transcriptomics={proteomics_or_transcriptomics}.\")\n",
      "/home/caleb/anaconda3/envs/dev/lib/python3.10/site-packages/cnvutils/chromosome_funcs.py:315: UserWarning: Empty dataframe for cancer_type=ov, tissue_type=normal, source=gistic, level=gene, chromosome=8, arm=p, gain_or_loss=loss, cis_or_trans=trans, proteomics_or_transcriptomics=transcriptomics.\n",
      "  warnings.warn(f\"Empty dataframe for cancer_type={cancer_type}, tissue_type={tissue_type}, source={source}, level={level}, chromosome={chromosome}, arm={arm}, gain_or_loss={gain_or_loss}, cis_or_trans={cis_or_trans}, proteomics_or_transcriptomics={proteomics_or_transcriptomics}.\")\n"
     ]
    },
    {
     "name": "stdout",
     "output_type": "stream",
     "text": [
      "Running event_effects_ttest with {'chromosome': 8, 'arm': 'q', 'event_start': 36784373, 'event_end': 145052466, 'gain_or_loss': 'gain', 'cis_or_trans': 'cis', 'proteomics_or_transcriptomics': 'transcriptomics', 'tissue_type': 'normal', 'cancer_types': ['brca', 'coad', 'hnscc', 'lscc', 'luad', 'ov', 'pdac'], 'source': 'gistic', 'level': 'gene', 'data_dir': '/home/caleb/github/PayneLab/pancancerCNV/00_functions/chr08/../data'}...\n",
      "\n",
      "                                                                                \r"
     ]
    },
    {
     "name": "stderr",
     "output_type": "stream",
     "text": [
      "/home/caleb/anaconda3/envs/dev/lib/python3.10/site-packages/cnvutils/chromosome_funcs.py:315: UserWarning: Empty dataframe for cancer_type=brca, tissue_type=normal, source=gistic, level=gene, chromosome=8, arm=q, gain_or_loss=gain, cis_or_trans=trans, proteomics_or_transcriptomics=proteomics.\n",
      "  warnings.warn(f\"Empty dataframe for cancer_type={cancer_type}, tissue_type={tissue_type}, source={source}, level={level}, chromosome={chromosome}, arm={arm}, gain_or_loss={gain_or_loss}, cis_or_trans={cis_or_trans}, proteomics_or_transcriptomics={proteomics_or_transcriptomics}.\")\n"
     ]
    },
    {
     "name": "stdout",
     "output_type": "stream",
     "text": [
      "Running event_effects_ttest with {'chromosome': 8, 'arm': 'q', 'event_start': 36784373, 'event_end': 145052466, 'gain_or_loss': 'gain', 'cis_or_trans': 'trans', 'proteomics_or_transcriptomics': 'transcriptomics', 'tissue_type': 'normal', 'cancer_types': ['brca', 'coad', 'hnscc', 'lscc', 'luad', 'ov', 'pdac'], 'source': 'gistic', 'level': 'gene', 'data_dir': '/home/caleb/github/PayneLab/pancancerCNV/00_functions/chr08/../data'}...\n",
      "\n",
      "Loading lscc transcriptomics (4/7)...                                           \r"
     ]
    },
    {
     "name": "stderr",
     "output_type": "stream",
     "text": [
      "/home/caleb/anaconda3/envs/dev/lib/python3.10/site-packages/cnvutils/chromosome_funcs.py:370: UserWarning: Too small sample size for cancer_type=ov, tissue_type=normal, source=gistic, level=gene, chromosome=8, arm=q, gain_or_loss=gain, cis_or_trans=trans, proteomics_or_transcriptomics=proteomics.\n",
      "  warnings.warn(f\"Too small sample size for cancer_type={cancer_type}, tissue_type={tissue_type}, source={source}, level={level}, chromosome={chromosome}, arm={arm}, gain_or_loss={gain_or_loss}, cis_or_trans={cis_or_trans}, proteomics_or_transcriptomics={proteomics_or_transcriptomics}.\")\n"
     ]
    },
    {
     "name": "stdout",
     "output_type": "stream",
     "text": [
      "                                                                                \r"
     ]
    },
    {
     "name": "stderr",
     "output_type": "stream",
     "text": [
      "/home/caleb/anaconda3/envs/dev/lib/python3.10/site-packages/cnvutils/chromosome_funcs.py:315: UserWarning: Empty dataframe for cancer_type=brca, tissue_type=normal, source=gistic, level=gene, chromosome=8, arm=q, gain_or_loss=gain, cis_or_trans=cis, proteomics_or_transcriptomics=transcriptomics.\n",
      "  warnings.warn(f\"Empty dataframe for cancer_type={cancer_type}, tissue_type={tissue_type}, source={source}, level={level}, chromosome={chromosome}, arm={arm}, gain_or_loss={gain_or_loss}, cis_or_trans={cis_or_trans}, proteomics_or_transcriptomics={proteomics_or_transcriptomics}.\")\n",
      "/home/caleb/anaconda3/envs/dev/lib/python3.10/site-packages/cnvutils/chromosome_funcs.py:315: UserWarning: Empty dataframe for cancer_type=coad, tissue_type=normal, source=gistic, level=gene, chromosome=8, arm=q, gain_or_loss=gain, cis_or_trans=cis, proteomics_or_transcriptomics=transcriptomics.\n",
      "  warnings.warn(f\"Empty dataframe for cancer_type={cancer_type}, tissue_type={tissue_type}, source={source}, level={level}, chromosome={chromosome}, arm={arm}, gain_or_loss={gain_or_loss}, cis_or_trans={cis_or_trans}, proteomics_or_transcriptomics={proteomics_or_transcriptomics}.\")\n",
      "/home/caleb/anaconda3/envs/dev/lib/python3.10/site-packages/cnvutils/chromosome_funcs.py:315: UserWarning: Empty dataframe for cancer_type=ov, tissue_type=normal, source=gistic, level=gene, chromosome=8, arm=q, gain_or_loss=gain, cis_or_trans=cis, proteomics_or_transcriptomics=transcriptomics.\n",
      "  warnings.warn(f\"Empty dataframe for cancer_type={cancer_type}, tissue_type={tissue_type}, source={source}, level={level}, chromosome={chromosome}, arm={arm}, gain_or_loss={gain_or_loss}, cis_or_trans={cis_or_trans}, proteomics_or_transcriptomics={proteomics_or_transcriptomics}.\")\n"
     ]
    },
    {
     "name": "stdout",
     "output_type": "stream",
     "text": [
      "                                                                                \r"
     ]
    },
    {
     "name": "stderr",
     "output_type": "stream",
     "text": [
      "/home/caleb/anaconda3/envs/dev/lib/python3.10/site-packages/cnvutils/chromosome_funcs.py:315: UserWarning: Empty dataframe for cancer_type=brca, tissue_type=normal, source=gistic, level=gene, chromosome=8, arm=q, gain_or_loss=gain, cis_or_trans=trans, proteomics_or_transcriptomics=transcriptomics.\n",
      "  warnings.warn(f\"Empty dataframe for cancer_type={cancer_type}, tissue_type={tissue_type}, source={source}, level={level}, chromosome={chromosome}, arm={arm}, gain_or_loss={gain_or_loss}, cis_or_trans={cis_or_trans}, proteomics_or_transcriptomics={proteomics_or_transcriptomics}.\")\n",
      "/home/caleb/anaconda3/envs/dev/lib/python3.10/site-packages/cnvutils/chromosome_funcs.py:315: UserWarning: Empty dataframe for cancer_type=coad, tissue_type=normal, source=gistic, level=gene, chromosome=8, arm=q, gain_or_loss=gain, cis_or_trans=trans, proteomics_or_transcriptomics=transcriptomics.\n",
      "  warnings.warn(f\"Empty dataframe for cancer_type={cancer_type}, tissue_type={tissue_type}, source={source}, level={level}, chromosome={chromosome}, arm={arm}, gain_or_loss={gain_or_loss}, cis_or_trans={cis_or_trans}, proteomics_or_transcriptomics={proteomics_or_transcriptomics}.\")\n",
      "/home/caleb/anaconda3/envs/dev/lib/python3.10/site-packages/cnvutils/chromosome_funcs.py:315: UserWarning: Empty dataframe for cancer_type=ov, tissue_type=normal, source=gistic, level=gene, chromosome=8, arm=q, gain_or_loss=gain, cis_or_trans=trans, proteomics_or_transcriptomics=transcriptomics.\n",
      "  warnings.warn(f\"Empty dataframe for cancer_type={cancer_type}, tissue_type={tissue_type}, source={source}, level={level}, chromosome={chromosome}, arm={arm}, gain_or_loss={gain_or_loss}, cis_or_trans={cis_or_trans}, proteomics_or_transcriptomics={proteomics_or_transcriptomics}.\")\n"
     ]
    },
    {
     "data": {
      "text/plain": [
       "[None,\n",
       " None,\n",
       " None,\n",
       " None,\n",
       " None,\n",
       " None,\n",
       " None,\n",
       " None,\n",
       " None,\n",
       " None,\n",
       " None,\n",
       " None,\n",
       " None,\n",
       " None,\n",
       " None,\n",
       " None,\n",
       " None,\n",
       " None,\n",
       " None,\n",
       " None,\n",
       " None,\n",
       " None,\n",
       " None,\n",
       " None,\n",
       " None,\n",
       " None,\n",
       " None,\n",
       " None,\n",
       " None,\n",
       " None,\n",
       " None,\n",
       " None]"
      ]
     },
     "execution_count": 5,
     "metadata": {},
     "output_type": "execute_result"
    }
   ],
   "source": [
    "cnvutils.multi_runner(\n",
    "    func=cnvutils.event_effects_ttest,\n",
    "    sources=[\"cptac\", \"gistic\"],\n",
    "    levels=[\"gene\"],\n",
    "    chromosomes_events={\n",
    "        8: {\n",
    "            \"p\": [\"loss\"],\n",
    "            \"q\": [\"gain\"],\n",
    "        },\n",
    "    },\n",
    "    more_dicts=[\n",
    "        {\n",
    "            \"name\": \"tissue_type\",\n",
    "            \"vals\": [\"tumor\", \"normal\"],\n",
    "        },\n",
    "        {\n",
    "            \"name\": \"proteomics_or_transcriptomics\",\n",
    "            \"vals\": [\"proteomics\", \"transcriptomics\"],\n",
    "        },\n",
    "        {\n",
    "            \"name\": \"cis_or_trans\",\n",
    "            \"vals\": [\"cis\", \"trans\"],\n",
    "        },\n",
    "    ]\n",
    ")"
   ]
  }
 ],
 "metadata": {
  "kernelspec": {
   "display_name": "Python 3 (ipykernel)",
   "language": "python",
   "name": "python3"
  },
  "language_info": {
   "codemirror_mode": {
    "name": "ipython",
    "version": 3
   },
   "file_extension": ".py",
   "mimetype": "text/x-python",
   "name": "python",
   "nbconvert_exporter": "python",
   "pygments_lexer": "ipython3",
   "version": "3.10.4"
  }
 },
 "nbformat": 4,
 "nbformat_minor": 5
}
