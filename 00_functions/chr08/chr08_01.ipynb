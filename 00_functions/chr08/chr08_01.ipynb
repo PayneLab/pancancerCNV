{
 "cells": [
  {
   "cell_type": "code",
   "execution_count": 1,
   "id": "1096ef3c",
   "metadata": {},
   "outputs": [],
   "source": [
    "import cnvutils\n",
    "import os"
   ]
  },
  {
   "cell_type": "markdown",
   "id": "9c4f4fec",
   "metadata": {},
   "source": [
    "# Set parameters for this chromosome and the events on it"
   ]
  },
  {
   "cell_type": "code",
   "execution_count": 2,
   "id": "d95ec8a8",
   "metadata": {},
   "outputs": [],
   "source": [
    "CHROMOSOME = 8\n",
    "\n",
    "ARM_EVENT_CANCER_TYPES = [\n",
    "    \"brca\",\n",
    "#     \"ccrcc\", # Event not seen\n",
    "    \"coad\",\n",
    "#     \"gbm\", # Event not seen\n",
    "    \"hnscc\",\n",
    "    \"lscc\",\n",
    "    \"luad\",\n",
    "    \"ov\",\n",
    "#     \"pdac\", # Event not seen\n",
    "#     \"ucec\", # Event not seen\n",
    "]\n",
    "\n",
    "P_EVENT_START = 406428, # 406,428 bp\n",
    "P_EVENT_END = 36784324, # 36,784,324 bp\n",
    "P_EVENT_TYPE = \"loss\"\n",
    "\n",
    "Q_EVENT_START = 48710789, # 48,710,789 bp\n",
    "Q_EVENT_END = 145052465, # 145,052,465 bp \n",
    "Q_EVENT_TYPE = \"gain\""
   ]
  },
  {
   "cell_type": "markdown",
   "id": "9599fc30",
   "metadata": {},
   "source": [
    "# Made tables of which samples have or don't have each event"
   ]
  },
  {
   "cell_type": "code",
   "execution_count": 3,
   "id": "6a0b544e",
   "metadata": {},
   "outputs": [
    {
     "name": "stdout",
     "output_type": "stream",
     "text": [
      "                                                                                \r"
     ]
    },
    {
     "ename": "FileNotFoundError",
     "evalue": "[Errno 2] No such file or directory: '/home/caleb/github/PayneLab/pancancerCNV/00_functions/chr08/../data/data/chr08p_loss_brca_has_event.tsv'",
     "output_type": "error",
     "traceback": [
      "\u001b[0;31m---------------------------------------------------------------------------\u001b[0m",
      "\u001b[0;31mFileNotFoundError\u001b[0m                         Traceback (most recent call last)",
      "\u001b[0;32m/var/tmp/ipykernel_4709/3127542935.py\u001b[0m in \u001b[0;36m<module>\u001b[0;34m\u001b[0m\n\u001b[0;32m----> 1\u001b[0;31m cnvutils.make_has_event_table(\n\u001b[0m\u001b[1;32m      2\u001b[0m     \u001b[0mchromosome\u001b[0m\u001b[0;34m=\u001b[0m\u001b[0mCHROMOSOME\u001b[0m\u001b[0;34m,\u001b[0m\u001b[0;34m\u001b[0m\u001b[0;34m\u001b[0m\u001b[0m\n\u001b[1;32m      3\u001b[0m     \u001b[0marm\u001b[0m\u001b[0;34m=\u001b[0m\u001b[0;34m\"p\"\u001b[0m\u001b[0;34m,\u001b[0m\u001b[0;34m\u001b[0m\u001b[0;34m\u001b[0m\u001b[0m\n\u001b[1;32m      4\u001b[0m     \u001b[0mevent_start\u001b[0m\u001b[0;34m=\u001b[0m\u001b[0mP_EVENT_START\u001b[0m\u001b[0;34m,\u001b[0m\u001b[0;34m\u001b[0m\u001b[0;34m\u001b[0m\u001b[0m\n\u001b[1;32m      5\u001b[0m     \u001b[0mevent_end\u001b[0m\u001b[0;34m=\u001b[0m\u001b[0mP_EVENT_END\u001b[0m\u001b[0;34m,\u001b[0m\u001b[0;34m\u001b[0m\u001b[0;34m\u001b[0m\u001b[0m\n",
      "\u001b[0;32m~/anaconda3/envs/dev/lib/python3.9/site-packages/cnvutils/chromosome_funcs.py\u001b[0m in \u001b[0;36mmake_has_event_table\u001b[0;34m(chromosome, arm, event_start, event_end, gain_or_loss, cancer_types, data_dir)\u001b[0m\n\u001b[1;32m    150\u001b[0m \u001b[0;34m\u001b[0m\u001b[0m\n\u001b[1;32m    151\u001b[0m         \u001b[0;31m# Write to tsv\u001b[0m\u001b[0;34m\u001b[0m\u001b[0;34m\u001b[0m\u001b[0m\n\u001b[0;32m--> 152\u001b[0;31m         has_event.to_csv(os.path.join(\n\u001b[0m\u001b[1;32m    153\u001b[0m             \u001b[0mdata_dir\u001b[0m\u001b[0;34m,\u001b[0m\u001b[0;34m\u001b[0m\u001b[0;34m\u001b[0m\u001b[0m\n\u001b[1;32m    154\u001b[0m             \u001b[0;34m\"data\"\u001b[0m\u001b[0;34m,\u001b[0m\u001b[0;34m\u001b[0m\u001b[0;34m\u001b[0m\u001b[0m\n",
      "\u001b[0;32m~/anaconda3/envs/dev/lib/python3.9/site-packages/pandas/core/generic.py\u001b[0m in \u001b[0;36mto_csv\u001b[0;34m(self, path_or_buf, sep, na_rep, float_format, columns, header, index, index_label, mode, encoding, compression, quoting, quotechar, line_terminator, chunksize, date_format, doublequote, escapechar, decimal, errors, storage_options)\u001b[0m\n\u001b[1;32m   3464\u001b[0m         )\n\u001b[1;32m   3465\u001b[0m \u001b[0;34m\u001b[0m\u001b[0m\n\u001b[0;32m-> 3466\u001b[0;31m         return DataFrameRenderer(formatter).to_csv(\n\u001b[0m\u001b[1;32m   3467\u001b[0m             \u001b[0mpath_or_buf\u001b[0m\u001b[0;34m,\u001b[0m\u001b[0;34m\u001b[0m\u001b[0;34m\u001b[0m\u001b[0m\n\u001b[1;32m   3468\u001b[0m             \u001b[0mline_terminator\u001b[0m\u001b[0;34m=\u001b[0m\u001b[0mline_terminator\u001b[0m\u001b[0;34m,\u001b[0m\u001b[0;34m\u001b[0m\u001b[0;34m\u001b[0m\u001b[0m\n",
      "\u001b[0;32m~/anaconda3/envs/dev/lib/python3.9/site-packages/pandas/io/formats/format.py\u001b[0m in \u001b[0;36mto_csv\u001b[0;34m(self, path_or_buf, encoding, sep, columns, index_label, mode, compression, quoting, quotechar, line_terminator, chunksize, date_format, doublequote, escapechar, errors, storage_options)\u001b[0m\n\u001b[1;32m   1103\u001b[0m             \u001b[0mformatter\u001b[0m\u001b[0;34m=\u001b[0m\u001b[0mself\u001b[0m\u001b[0;34m.\u001b[0m\u001b[0mfmt\u001b[0m\u001b[0;34m,\u001b[0m\u001b[0;34m\u001b[0m\u001b[0;34m\u001b[0m\u001b[0m\n\u001b[1;32m   1104\u001b[0m         )\n\u001b[0;32m-> 1105\u001b[0;31m         \u001b[0mcsv_formatter\u001b[0m\u001b[0;34m.\u001b[0m\u001b[0msave\u001b[0m\u001b[0;34m(\u001b[0m\u001b[0;34m)\u001b[0m\u001b[0;34m\u001b[0m\u001b[0;34m\u001b[0m\u001b[0m\n\u001b[0m\u001b[1;32m   1106\u001b[0m \u001b[0;34m\u001b[0m\u001b[0m\n\u001b[1;32m   1107\u001b[0m         \u001b[0;32mif\u001b[0m \u001b[0mcreated_buffer\u001b[0m\u001b[0;34m:\u001b[0m\u001b[0;34m\u001b[0m\u001b[0;34m\u001b[0m\u001b[0m\n",
      "\u001b[0;32m~/anaconda3/envs/dev/lib/python3.9/site-packages/pandas/io/formats/csvs.py\u001b[0m in \u001b[0;36msave\u001b[0;34m(self)\u001b[0m\n\u001b[1;32m    235\u001b[0m         \"\"\"\n\u001b[1;32m    236\u001b[0m         \u001b[0;31m# apply compression and byte/text conversion\u001b[0m\u001b[0;34m\u001b[0m\u001b[0;34m\u001b[0m\u001b[0m\n\u001b[0;32m--> 237\u001b[0;31m         with get_handle(\n\u001b[0m\u001b[1;32m    238\u001b[0m             \u001b[0mself\u001b[0m\u001b[0;34m.\u001b[0m\u001b[0mfilepath_or_buffer\u001b[0m\u001b[0;34m,\u001b[0m\u001b[0;34m\u001b[0m\u001b[0;34m\u001b[0m\u001b[0m\n\u001b[1;32m    239\u001b[0m             \u001b[0mself\u001b[0m\u001b[0;34m.\u001b[0m\u001b[0mmode\u001b[0m\u001b[0;34m,\u001b[0m\u001b[0;34m\u001b[0m\u001b[0;34m\u001b[0m\u001b[0m\n",
      "\u001b[0;32m~/anaconda3/envs/dev/lib/python3.9/site-packages/pandas/io/common.py\u001b[0m in \u001b[0;36mget_handle\u001b[0;34m(path_or_buf, mode, encoding, compression, memory_map, is_text, errors, storage_options)\u001b[0m\n\u001b[1;32m    700\u001b[0m         \u001b[0;32mif\u001b[0m \u001b[0mioargs\u001b[0m\u001b[0;34m.\u001b[0m\u001b[0mencoding\u001b[0m \u001b[0;32mand\u001b[0m \u001b[0;34m\"b\"\u001b[0m \u001b[0;32mnot\u001b[0m \u001b[0;32min\u001b[0m \u001b[0mioargs\u001b[0m\u001b[0;34m.\u001b[0m\u001b[0mmode\u001b[0m\u001b[0;34m:\u001b[0m\u001b[0;34m\u001b[0m\u001b[0;34m\u001b[0m\u001b[0m\n\u001b[1;32m    701\u001b[0m             \u001b[0;31m# Encoding\u001b[0m\u001b[0;34m\u001b[0m\u001b[0;34m\u001b[0m\u001b[0m\n\u001b[0;32m--> 702\u001b[0;31m             handle = open(\n\u001b[0m\u001b[1;32m    703\u001b[0m                 \u001b[0mhandle\u001b[0m\u001b[0;34m,\u001b[0m\u001b[0;34m\u001b[0m\u001b[0;34m\u001b[0m\u001b[0m\n\u001b[1;32m    704\u001b[0m                 \u001b[0mioargs\u001b[0m\u001b[0;34m.\u001b[0m\u001b[0mmode\u001b[0m\u001b[0;34m,\u001b[0m\u001b[0;34m\u001b[0m\u001b[0;34m\u001b[0m\u001b[0m\n",
      "\u001b[0;31mFileNotFoundError\u001b[0m: [Errno 2] No such file or directory: '/home/caleb/github/PayneLab/pancancerCNV/00_functions/chr08/../data/data/chr08p_loss_brca_has_event.tsv'"
     ]
    }
   ],
   "source": [
    "cnvutils.make_has_event_table(\n",
    "    chromosome=CHROMOSOME,\n",
    "    arm=\"p\",\n",
    "    event_start=P_EVENT_START,\n",
    "    event_end=P_EVENT_END,\n",
    "    gain_or_loss=P_EVENT_TYPE,\n",
    "    cancer_types=ARM_EVENT_CANCER_TYPES,\n",
    ")\n",
    "\n",
    "cnvutils.make_has_event_table(\n",
    "    chromosome=CHROMOSOME,\n",
    "    arm=\"q\",\n",
    "    event_start=Q_EVENT_START,\n",
    "    event_end=Q_EVENT_END,\n",
    "    gain_or_loss=Q_EVENT_TYPE,\n",
    "    cancer_types=ARM_EVENT_CANCER_TYPES\n",
    ")"
   ]
  },
  {
   "cell_type": "markdown",
   "id": "75d414fa",
   "metadata": {},
   "source": [
    "# cis effects"
   ]
  },
  {
   "cell_type": "code",
   "execution_count": null,
   "id": "e0030c4a",
   "metadata": {},
   "outputs": [],
   "source": [
    "CIS_OR_TRANS = \"cis\"\n",
    "\n",
    "cnvutils.event_effects_ttest(\n",
    "    chromosome=CHROMOSOME,\n",
    "    arm=\"p\",\n",
    "    event_start=P_EVENT_START,\n",
    "    event_end=P_EVENT_END,\n",
    "    gain_or_loss=P_EVENT_TYPE,\n",
    "    cis_or_trans=CIS_OR_TRANS,\n",
    "    proteomics_or_transcriptomics=\"proteomics\",\n",
    "    cancer_types=ARM_EVENT_CANCER_TYPES,\n",
    ")\n",
    "\n",
    "cnvutils.event_effects_ttest(\n",
    "    chromosome=CHROMOSOME,\n",
    "    arm=\"q\",\n",
    "    event_start=Q_EVENT_START,\n",
    "    event_end=Q_EVENT_END,\n",
    "    gain_or_loss=Q_EVENT_TYPE,\n",
    "    cis_or_trans=CIS_OR_TRANS,\n",
    "    proteomics_or_transcriptomics=\"proteomics\",\n",
    "    cancer_types=ARM_EVENT_CANCER_TYPES,\n",
    ")"
   ]
  },
  {
   "cell_type": "markdown",
   "id": "6a920f86",
   "metadata": {},
   "source": [
    "# trans effects"
   ]
  },
  {
   "cell_type": "code",
   "execution_count": null,
   "id": "30e9413e",
   "metadata": {},
   "outputs": [],
   "source": [
    "CIS_OR_TRANS = \"trans\"\n",
    "\n",
    "cnvutils.event_effects_ttest(\n",
    "    chromosome=CHROMOSOME,\n",
    "    arm=\"p\",\n",
    "    event_start=P_EVENT_START,\n",
    "    event_end=P_EVENT_END,\n",
    "    gain_or_loss=P_EVENT_TYPE,\n",
    "    cis_or_trans=CIS_OR_TRANS,\n",
    "    proteomics_or_transcriptomics=\"proteomics\",\n",
    "    cancer_types=ARM_EVENT_CANCER_TYPES,\n",
    ")\n",
    "\n",
    "cnvutils.event_effects_ttest(\n",
    "    chromosome=CHROMOSOME,\n",
    "    arm=\"q\",\n",
    "    event_start=Q_EVENT_START,\n",
    "    event_end=Q_EVENT_END,\n",
    "    gain_or_loss=Q_EVENT_TYPE,\n",
    "    cis_or_trans=CIS_OR_TRANS,\n",
    "    proteomics_or_transcriptomics=\"proteomics\",\n",
    "    cancer_types=ARM_EVENT_CANCER_TYPES,\n",
    ")"
   ]
  }
 ],
 "metadata": {
  "kernelspec": {
   "display_name": "Python 3 (ipykernel)",
   "language": "python",
   "name": "python3"
  },
  "language_info": {
   "codemirror_mode": {
    "name": "ipython",
    "version": 3
   },
   "file_extension": ".py",
   "mimetype": "text/x-python",
   "name": "python",
   "nbconvert_exporter": "python",
   "pygments_lexer": "ipython3",
   "version": "3.9.7"
  }
 },
 "nbformat": 4,
 "nbformat_minor": 5
}
