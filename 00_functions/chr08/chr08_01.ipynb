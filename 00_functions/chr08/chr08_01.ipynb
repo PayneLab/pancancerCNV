{
 "cells": [
  {
   "cell_type": "code",
   "execution_count": 1,
   "id": "1096ef3c",
   "metadata": {},
   "outputs": [],
   "source": [
    "import cnvutils\n",
    "import os"
   ]
  },
  {
   "cell_type": "code",
   "execution_count": 2,
   "id": "d95ec8a8",
   "metadata": {},
   "outputs": [],
   "source": [
    "CHROMOSOME = 8\n",
    "\n",
    "ARM_EVENT_CANCER_TYPES = [\n",
    "    \"brca\",\n",
    "#     \"ccrcc\", # Event not seen\n",
    "    \"coad\",\n",
    "#     \"gbm\", # Event not seen\n",
    "    \"hnscc\",\n",
    "    \"lscc\",\n",
    "    \"luad\",\n",
    "    \"ov\",\n",
    "#     \"pdac\", # Event not seen\n",
    "#     \"ucec\", # Event not seen\n",
    "]\n",
    "\n",
    "P_EVENT_START = 406428, # 406,428 bp\n",
    "P_EVENT_END = 36784324, # 36,784,324 bp\n",
    "P_EVENT_TYPE = \"loss\"\n",
    "\n",
    "Q_EVENT_START = 48710789, # 48,710,789 bp\n",
    "Q_EVENT_END = 145052465, # 145,052,465 bp \n",
    "Q_EVENT_TYPE = \"gain\""
   ]
  },
  {
   "cell_type": "code",
   "execution_count": 3,
   "id": "6a0b544e",
   "metadata": {},
   "outputs": [
    {
     "name": "stdout",
     "output_type": "stream",
     "text": [
      "                                                            \r"
     ]
    }
   ],
   "source": [
    "cnvutils.make_has_event_table(\n",
    "    chromosome=CHROMOSOME,\n",
    "    arm=\"p\",\n",
    "    event_start=P_EVENT_START,\n",
    "    event_end=P_EVENT_END,\n",
    "    gain_or_loss=P_EVENT_TYPE,\n",
    "    cancer_types=ARM_EVENT_CANCER_TYPES,\n",
    ")\n",
    "\n",
    "cnvutils.make_has_event_table(\n",
    "    chromosome=CHROMOSOME,\n",
    "    arm=\"q\",\n",
    "    event_start=Q_EVENT_START,\n",
    "    event_end=Q_EVENT_END,\n",
    "    gain_or_loss=Q_EVENT_TYPE,\n",
    "    cancer_types=ARM_EVENT_CANCER_TYPES\n",
    ")"
   ]
  },
  {
   "cell_type": "markdown",
   "id": "75d414fa",
   "metadata": {},
   "source": [
    "# cis effects"
   ]
  },
  {
   "cell_type": "code",
   "execution_count": 4,
   "id": "e0030c4a",
   "metadata": {},
   "outputs": [
    {
     "name": "stdout",
     "output_type": "stream",
     "text": [
      "                                                               \r"
     ]
    },
    {
     "name": "stderr",
     "output_type": "stream",
     "text": [
      "/home/caleb/anaconda3/envs/dev/lib/python3.9/site-packages/pandas/core/frame.py:9130: FutureWarning: merging between different levels is deprecated and will be removed in a future version. (2 levels on the left,1 on the right)\n",
      "  return merge(\n"
     ]
    },
    {
     "name": "stdout",
     "output_type": "stream",
     "text": [
      "                                                               \r"
     ]
    }
   ],
   "source": [
    "CIS_OR_TRANS = \"cis\"\n",
    "\n",
    "cnvutils.event_effects_ttest(\n",
    "    chromosome=CHROMOSOME,\n",
    "    arm=\"p\",\n",
    "    event_start=P_EVENT_START,\n",
    "    event_end=P_EVENT_END,\n",
    "    gain_or_loss=P_EVENT_TYPE,\n",
    "    cis_or_trans=CIS_OR_TRANS,\n",
    "    proteomics_or_transcriptomics=\"proteomics\",\n",
    "    cancer_types=ARM_EVENT_CANCER_TYPES,\n",
    ")\n",
    "\n",
    "cnvutils.event_effects_ttest(\n",
    "    chromosome=CHROMOSOME,\n",
    "    arm=\"q\",\n",
    "    event_start=Q_EVENT_START,\n",
    "    event_end=Q_EVENT_END,\n",
    "    gain_or_loss=Q_EVENT_TYPE,\n",
    "    cis_or_trans=CIS_OR_TRANS,\n",
    "    proteomics_or_transcriptomics=\"proteomics\",\n",
    "    cancer_types=ARM_EVENT_CANCER_TYPES,\n",
    ")"
   ]
  },
  {
   "cell_type": "markdown",
   "id": "6a920f86",
   "metadata": {},
   "source": [
    "# trans effects"
   ]
  },
  {
   "cell_type": "code",
   "execution_count": 5,
   "id": "30e9413e",
   "metadata": {},
   "outputs": [
    {
     "name": "stdout",
     "output_type": "stream",
     "text": [
      "                                                               \r"
     ]
    }
   ],
   "source": [
    "CIS_OR_TRANS = \"trans\"\n",
    "\n",
    "cnvutils.event_effects_ttest(\n",
    "    chromosome=CHROMOSOME,\n",
    "    arm=\"p\",\n",
    "    event_start=P_EVENT_START,\n",
    "    event_end=P_EVENT_END,\n",
    "    gain_or_loss=P_EVENT_TYPE,\n",
    "    cis_or_trans=CIS_OR_TRANS,\n",
    "    proteomics_or_transcriptomics=\"proteomics\",\n",
    "    cancer_types=ARM_EVENT_CANCER_TYPES,\n",
    ")\n",
    "\n",
    "cnvutils.event_effects_ttest(\n",
    "    chromosome=CHROMOSOME,\n",
    "    arm=\"q\",\n",
    "    event_start=Q_EVENT_START,\n",
    "    event_end=Q_EVENT_END,\n",
    "    gain_or_loss=Q_EVENT_TYPE,\n",
    "    cis_or_trans=CIS_OR_TRANS,\n",
    "    proteomics_or_transcriptomics=\"proteomics\",\n",
    "    cancer_types=ARM_EVENT_CANCER_TYPES,\n",
    ")"
   ]
  }
 ],
 "metadata": {
  "kernelspec": {
   "display_name": "Python 3 (ipykernel)",
   "language": "python",
   "name": "python3"
  },
  "language_info": {
   "codemirror_mode": {
    "name": "ipython",
    "version": 3
   },
   "file_extension": ".py",
   "mimetype": "text/x-python",
   "name": "python",
   "nbconvert_exporter": "python",
   "pygments_lexer": "ipython3",
   "version": "3.9.7"
  }
 },
 "nbformat": 4,
 "nbformat_minor": 5
}
