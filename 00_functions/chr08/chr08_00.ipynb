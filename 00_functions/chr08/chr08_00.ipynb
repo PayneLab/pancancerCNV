{
 "cells": [
  {
   "cell_type": "code",
   "execution_count": 1,
   "id": "1096ef3c",
   "metadata": {},
   "outputs": [],
   "source": [
    "import cnvutils\n",
    "import os"
   ]
  },
  {
   "cell_type": "code",
   "execution_count": 2,
   "id": "d95ec8a8",
   "metadata": {},
   "outputs": [],
   "source": [
    "CHROMOSOME = 8"
   ]
  },
  {
   "cell_type": "code",
   "execution_count": 3,
   "id": "9352ced3",
   "metadata": {},
   "outputs": [
    {
     "name": "stdout",
     "output_type": "stream",
     "text": [
      "                                                                                \r"
     ]
    }
   ],
   "source": [
    "cnvutils.make_counts_table(\n",
    "    chromosome=CHROMOSOME,\n",
    ")"
   ]
  }
 ],
 "metadata": {
  "kernelspec": {
   "display_name": "Python 3 (ipykernel)",
   "language": "python",
   "name": "python3"
  },
  "language_info": {
   "codemirror_mode": {
    "name": "ipython",
    "version": 3
   },
   "file_extension": ".py",
   "mimetype": "text/x-python",
   "name": "python",
   "nbconvert_exporter": "python",
   "pygments_lexer": "ipython3",
   "version": "3.9.7"
  }
 },
 "nbformat": 4,
 "nbformat_minor": 5
}
