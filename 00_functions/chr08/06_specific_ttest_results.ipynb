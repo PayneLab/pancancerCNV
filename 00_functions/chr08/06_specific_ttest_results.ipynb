{
 "cells": [
  {
   "cell_type": "code",
   "execution_count": 1,
   "id": "55730894",
   "metadata": {},
   "outputs": [],
   "source": [
    "import cnvutils"
   ]
  },
  {
   "cell_type": "code",
   "execution_count": 2,
   "id": "19bf68c2",
   "metadata": {
    "scrolled": false
   },
   "outputs": [
    {
     "name": "stderr",
     "output_type": "stream",
     "text": [
      "/home/caleb/anaconda3/envs/dev/lib/python3.10/site-packages/openpyxl/worksheet/_reader.py:312: UserWarning: Unknown extension is not supported and will be removed\n",
      "  warn(msg)\n"
     ]
    }
   ],
   "source": [
    "df = cnvutils.get_driver_genes(source=\"cptac\", cancer_types=cnvutils.constants.ALL_CANCERS[0])"
   ]
  },
  {
   "cell_type": "code",
   "execution_count": 3,
   "id": "cf151f1e",
   "metadata": {},
   "outputs": [],
   "source": [
    "locs = cnvutils.get_ensembl_gene_locations().reset_index()\n",
    "# locs = cnvutils.get_ncbi_gene_locations().reset_index()"
   ]
  },
  {
   "cell_type": "code",
   "execution_count": 4,
   "id": "8cadd2ac",
   "metadata": {},
   "outputs": [
    {
     "data": {
      "text/plain": [
       "Index(['Name', 'Database_ID', 'chromosome', 'start_bp', 'end_bp', 'arm'], dtype='object')"
      ]
     },
     "execution_count": 4,
     "metadata": {},
     "output_type": "execute_result"
    }
   ],
   "source": [
    "locs.columns"
   ]
  },
  {
   "cell_type": "code",
   "execution_count": 5,
   "id": "e877fec5",
   "metadata": {},
   "outputs": [],
   "source": [
    "df = df.merge(right=locs, how=\"left\", on=\"Name\")"
   ]
  },
  {
   "cell_type": "code",
   "execution_count": 6,
   "id": "5bf7e689",
   "metadata": {},
   "outputs": [
    {
     "data": {
      "text/plain": [
       "7        AMER1\n",
       "9           AR\n",
       "10        ARAF\n",
       "20        ATRX\n",
       "27        BCOR\n",
       "58       DDX3X\n",
       "65      EIF1AX\n",
       "80        FLNA\n",
       "99       HUWE1\n",
       "110      KDM5C\n",
       "111      KDM6A\n",
       "180      RBM10\n",
       "198    SMARCA1\n",
       "200      SMC1A\n",
       "206      STAG2\n",
       "208       TAF1\n",
       "220      U2AF1\n",
       "222      USP9X\n",
       "Name: Name, dtype: object"
      ]
     },
     "execution_count": 6,
     "metadata": {},
     "output_type": "execute_result"
    }
   ],
   "source": [
    "df[df[\"start_bp\"].isna()][\"Name\"]"
   ]
  }
 ],
 "metadata": {
  "kernelspec": {
   "display_name": "Python 3 (ipykernel)",
   "language": "python",
   "name": "python3"
  },
  "language_info": {
   "codemirror_mode": {
    "name": "ipython",
    "version": 3
   },
   "file_extension": ".py",
   "mimetype": "text/x-python",
   "name": "python",
   "nbconvert_exporter": "python",
   "pygments_lexer": "ipython3",
   "version": "3.10.4"
  }
 },
 "nbformat": 4,
 "nbformat_minor": 5
}
