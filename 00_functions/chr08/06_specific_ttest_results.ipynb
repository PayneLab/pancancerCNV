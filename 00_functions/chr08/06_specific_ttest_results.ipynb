{
 "cells": [
  {
   "cell_type": "code",
   "execution_count": 1,
   "id": "55730894",
   "metadata": {},
   "outputs": [],
   "source": [
    "import cnvutils\n",
    "import altair as alt\n",
    "import numpy as np\n",
    "from altair import expr, datum"
   ]
  },
  {
   "cell_type": "code",
   "execution_count": 2,
   "id": "ba3bda73",
   "metadata": {},
   "outputs": [],
   "source": [
    "df = cnvutils.get_genes_ttest_results(\n",
    "    genes=[\"FGFR1\", \"MYC\"],\n",
    "    source=\"cptac\",\n",
    "    chromosome=8,\n",
    "    arm=\"p\",\n",
    "    gain_or_loss=\"loss\",\n",
    "    proteomics_or_transcriptomics=\"proteomics\",\n",
    ")"
   ]
  },
  {
   "cell_type": "code",
   "execution_count": 3,
   "id": "df6eb862",
   "metadata": {},
   "outputs": [
    {
     "data": {
      "text/html": [
       "\n",
       "<div id=\"altair-viz-0c16dfbf9a7a47e1b17d5d6da5d0aca1\"></div>\n",
       "<script type=\"text/javascript\">\n",
       "  var VEGA_DEBUG = (typeof VEGA_DEBUG == \"undefined\") ? {} : VEGA_DEBUG;\n",
       "  (function(spec, embedOpt){\n",
       "    let outputDiv = document.currentScript.previousElementSibling;\n",
       "    if (outputDiv.id !== \"altair-viz-0c16dfbf9a7a47e1b17d5d6da5d0aca1\") {\n",
       "      outputDiv = document.getElementById(\"altair-viz-0c16dfbf9a7a47e1b17d5d6da5d0aca1\");\n",
       "    }\n",
       "    const paths = {\n",
       "      \"vega\": \"https://cdn.jsdelivr.net/npm//vega@5?noext\",\n",
       "      \"vega-lib\": \"https://cdn.jsdelivr.net/npm//vega-lib?noext\",\n",
       "      \"vega-lite\": \"https://cdn.jsdelivr.net/npm//vega-lite@4.17.0?noext\",\n",
       "      \"vega-embed\": \"https://cdn.jsdelivr.net/npm//vega-embed@6?noext\",\n",
       "    };\n",
       "\n",
       "    function maybeLoadScript(lib, version) {\n",
       "      var key = `${lib.replace(\"-\", \"\")}_version`;\n",
       "      return (VEGA_DEBUG[key] == version) ?\n",
       "        Promise.resolve(paths[lib]) :\n",
       "        new Promise(function(resolve, reject) {\n",
       "          var s = document.createElement('script');\n",
       "          document.getElementsByTagName(\"head\")[0].appendChild(s);\n",
       "          s.async = true;\n",
       "          s.onload = () => {\n",
       "            VEGA_DEBUG[key] = version;\n",
       "            return resolve(paths[lib]);\n",
       "          };\n",
       "          s.onerror = () => reject(`Error loading script: ${paths[lib]}`);\n",
       "          s.src = paths[lib];\n",
       "        });\n",
       "    }\n",
       "\n",
       "    function showError(err) {\n",
       "      outputDiv.innerHTML = `<div class=\"error\" style=\"color:red;\">${err}</div>`;\n",
       "      throw err;\n",
       "    }\n",
       "\n",
       "    function displayChart(vegaEmbed) {\n",
       "      vegaEmbed(outputDiv, spec, embedOpt)\n",
       "        .catch(err => showError(`Javascript Error: ${err.message}<br>This usually means there's a typo in your chart specification. See the javascript console for the full traceback.`));\n",
       "    }\n",
       "\n",
       "    if(typeof define === \"function\" && define.amd) {\n",
       "      requirejs.config({paths});\n",
       "      require([\"vega-embed\"], displayChart, err => showError(`Error loading script: ${err.message}`));\n",
       "    } else {\n",
       "      maybeLoadScript(\"vega\", \"5\")\n",
       "        .then(() => maybeLoadScript(\"vega-lite\", \"4.17.0\"))\n",
       "        .then(() => maybeLoadScript(\"vega-embed\", \"6\"))\n",
       "        .catch(showError)\n",
       "        .then(() => displayChart(vegaEmbed));\n",
       "    }\n",
       "  })({\"config\": {\"view\": {\"continuousWidth\": 400, \"continuousHeight\": 300}}, \"data\": {\"name\": \"data-a89a34de7b7747592b1fc0e458b9cb85\"}, \"facet\": {\"column\": {\"field\": \"protein\", \"type\": \"nominal\"}}, \"spec\": {\"layer\": [{\"mark\": \"point\", \"encoding\": {\"color\": {\"field\": \"cancer_type\", \"type\": \"nominal\"}, \"x\": {\"field\": \"cancer_type\", \"type\": \"nominal\"}, \"y\": {\"field\": \"neg_log_adj_p\", \"type\": \"quantitative\"}}}, {\"mark\": {\"type\": \"rule\", \"color\": \"crimson\"}, \"encoding\": {\"y\": {\"field\": \"line\", \"type\": \"quantitative\"}}}]}, \"$schema\": \"https://vega.github.io/schema/vega-lite/v4.17.0.json\", \"datasets\": {\"data-a89a34de7b7747592b1fc0e458b9cb85\": [{\"cancer_type\": \"brca\", \"protein\": \"FGFR1\", \"Database_ID\": \"ENSP00000327229\", \"adj_p\": 0.9834927811336136, \"change\": -0.0980915700458245, \"cis_or_trans\": \"trans\", \"line\": 1.3010299956639813, \"neg_log_adj_p\": 0.007228823467413252}, {\"cancer_type\": \"hnscc\", \"protein\": \"FGFR1\", \"Database_ID\": \"ENSP00000327229\", \"adj_p\": 0.7946610762634, \"change\": -0.160945593404284, \"cis_or_trans\": \"trans\", \"line\": 1.3010299956639813, \"neg_log_adj_p\": 0.0998180588819548}, {\"cancer_type\": \"lscc\", \"protein\": \"FGFR1\", \"Database_ID\": \"ENSP00000327229\", \"adj_p\": 0.3422065197551968, \"change\": -0.1290328503835849, \"cis_or_trans\": \"trans\", \"line\": 1.3010299956639813, \"neg_log_adj_p\": 0.46571172049120085}, {\"cancer_type\": \"luad\", \"protein\": \"FGFR1\", \"Database_ID\": \"ENSP00000393312\", \"adj_p\": 0.8161686196885379, \"change\": 0.0915995668689284, \"cis_or_trans\": \"trans\", \"line\": 1.3010299956639813, \"neg_log_adj_p\": 0.08822010713454102}, {\"cancer_type\": \"ov\", \"protein\": \"FGFR1\", \"Database_ID\": \"ENSP00000327229\", \"adj_p\": 0.8784298956433568, \"change\": -0.28563038468018, \"cis_or_trans\": \"trans\", \"line\": 1.3010299956639813, \"neg_log_adj_p\": 0.05629289227922229}, {\"cancer_type\": \"brca\", \"protein\": \"MYC\", \"Database_ID\": \"ENSP00000367207\", \"adj_p\": 0.9908552353398518, \"change\": -0.0666704148662289, \"cis_or_trans\": \"trans\", \"line\": 1.3010299956639813, \"neg_log_adj_p\": 0.003989791615194281}, {\"cancer_type\": \"hnscc\", \"protein\": \"MYC\", \"Database_ID\": \"ENSP00000499182\", \"adj_p\": 0.5707179704498544, \"change\": 0.1812317785957269, \"cis_or_trans\": \"trans\", \"line\": 1.3010299956639813, \"neg_log_adj_p\": 0.24357845241277934}, {\"cancer_type\": \"lscc\", \"protein\": \"MYC\", \"Database_ID\": \"ENSP00000367207\", \"adj_p\": 0.084399252916586, \"change\": 0.2954780258757624, \"cis_or_trans\": \"trans\", \"line\": 1.3010299956639813, \"neg_log_adj_p\": 1.073661397635485}, {\"cancer_type\": \"luad\", \"protein\": \"MYC\", \"Database_ID\": \"ENSP00000499182\", \"adj_p\": 0.9693462036255264, \"change\": 0.0720988965405241, \"cis_or_trans\": \"trans\", \"line\": 1.3010299956639813, \"neg_log_adj_p\": 0.013521086239911455}]}}, {\"mode\": \"vega-lite\"});\n",
       "</script>"
      ],
      "text/plain": [
       "alt.FacetChart(...)"
      ]
     },
     "execution_count": 3,
     "metadata": {},
     "output_type": "execute_result"
    }
   ],
   "source": [
    "sig = 0.05\n",
    "\n",
    "df = df.assign(\n",
    "    line=-np.log10(sig),\n",
    "    neg_log_adj_p=-np.log10(df[\"adj_p\"]),\n",
    ")\n",
    "\n",
    "base = alt.Chart(df)\n",
    "\n",
    "dots = base.mark_point().encode(\n",
    "    x=\"cancer_type\",\n",
    "    y=\"neg_log_adj_p\",\n",
    "    color=\"cancer_type\",\n",
    ")\n",
    "\n",
    "line = base.mark_rule(color=\"crimson\").encode(\n",
    "    y=\"line\",\n",
    ")\n",
    "\n",
    "(dots + line).facet(column=\"protein\")"
   ]
  }
 ],
 "metadata": {
  "kernelspec": {
   "display_name": "Python 3 (ipykernel)",
   "language": "python",
   "name": "python3"
  },
  "language_info": {
   "codemirror_mode": {
    "name": "ipython",
    "version": 3
   },
   "file_extension": ".py",
   "mimetype": "text/x-python",
   "name": "python",
   "nbconvert_exporter": "python",
   "pygments_lexer": "ipython3",
   "version": "3.10.4"
  }
 },
 "nbformat": 4,
 "nbformat_minor": 5
}
