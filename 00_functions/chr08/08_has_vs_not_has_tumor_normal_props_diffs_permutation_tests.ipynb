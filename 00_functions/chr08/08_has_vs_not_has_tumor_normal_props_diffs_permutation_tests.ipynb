{
 "cells": [
  {
   "cell_type": "code",
   "execution_count": 1,
   "id": "0b0f2fa2",
   "metadata": {},
   "outputs": [],
   "source": [
    "import cnvutils"
   ]
  },
  {
   "cell_type": "code",
   "execution_count": null,
   "id": "8f5ea533",
   "metadata": {},
   "outputs": [],
   "source": [
    "# https://numpy.org/doc/stable/reference/random/parallel.html"
   ]
  },
  {
   "cell_type": "code",
   "execution_count": 2,
   "id": "5fb417df",
   "metadata": {
    "scrolled": true
   },
   "outputs": [],
   "source": [
    "import pandas as pd\n",
    "\n",
    "def props_permutation_test(\n",
    "    n,\n",
    "    sources,\n",
    "    levels,\n",
    "    chromosomes_events,\n",
    "):\n",
    "    all_pvals = pd.DataFrame()\n",
    "    for i in range(n):\n",
    "        \n",
    "        pvals = cnvutils.permute_props(\n",
    "            sources=sources,\n",
    "            levels=levels,\n",
    "            chromosomes_events=chromosomes_events,\n",
    "            rng=None,\n",
    "        )\n",
    "        \n",
    "        all_pvals = pd.concat([all_pvals, pvals])\n",
    "        \n",
    "    return all_pvals"
   ]
  },
  {
   "cell_type": "code",
   "execution_count": 3,
   "id": "4f4e3941",
   "metadata": {
    "scrolled": true
   },
   "outputs": [
    {
     "name": "stdout",
     "output_type": "stream",
     "text": [
      "Running _permute_has_event...\n",
      "Running _permute_has_event...\n",
      "Running _permute_has_event...\n",
      "Running _permute_has_event...\n",
      "\n",
      "\n",
      "\n",
      "\n",
      "Running event_effects_ttest...\n",
      "Loading brca proteomics (1/6)...                              \n",
      "Running event_effects_ttest...\n",
      "Running event_effects_ttest...\n",
      "\n",
      "\n",
      "Loading brca proteomics (1/6)...                              Loading brca proteomics (1/6)...                              \n",
      "Running event_effects_ttest...\n",
      "Running event_effects_ttest.....                              \n",
      "Running event_effects_ttest...\n",
      "\n",
      "Running event_effects_ttest...\n",
      "\n",
      "Running event_effects_ttest...\n",
      "Loading brca proteomics (1/7)...                              Loading brca proteomics (1/7)...                              \n",
      "Loading brca proteomics (1/7)...                              \n",
      "                                                                                omics (2/6)...                              Loading coad proteomics (2/6)...                              Loading coad proteomics (2/7)...                              Loading coad proteomics (2/7)...                              Loading lscc proteomics (4/6)...                              Loading lscc proteomics (4/6)...                              \r"
     ]
    },
    {
     "name": "stderr",
     "output_type": "stream",
     "text": [
      "/home/caleb/anaconda3/envs/dev/lib/python3.10/site-packages/cnvutils/chromosome_funcs.py:410: UserWarning: Only one tissue type for cancer_type=brca, source=cptac, level=None, chromosome=8, arm=p, gain_or_loss=loss, cis_or_trans=cis, proteomics_or_transcriptomics=proteomics, comparison=tumor, tissue_type=None, has_event=True.\n",
      "  warnings.warn(f\"Only one tissue type for cancer_type={cancer_type}, source={source}, level={level}, chromosome={chromosome}, arm={arm}, gain_or_loss={gain_or_loss}, cis_or_trans={cis_or_trans}, proteomics_or_transcriptomics={proteomics_or_transcriptomics}, comparison={comparison}, tissue_type={tissue_type}, has_event={has_event}.\")\n"
     ]
    },
    {
     "name": "stdout",
     "output_type": "stream",
     "text": [
      "Loading pdac proteomics (7/7)...                                                Loading pdac proteomics (7/7)...                              Loading pdac proteomics (7/7)...                              \r"
     ]
    },
    {
     "name": "stderr",
     "output_type": "stream",
     "text": [
      "/home/caleb/anaconda3/envs/dev/lib/python3.10/site-packages/cnvutils/chromosome_funcs.py:410: UserWarning: Only one tissue type for cancer_type=brca, source=cptac, level=None, chromosome=8, arm=p, gain_or_loss=loss, cis_or_trans=cis, proteomics_or_transcriptomics=proteomics, comparison=tumor, tissue_type=None, has_event=False.\n",
      "  warnings.warn(f\"Only one tissue type for cancer_type={cancer_type}, source={source}, level={level}, chromosome={chromosome}, arm={arm}, gain_or_loss={gain_or_loss}, cis_or_trans={cis_or_trans}, proteomics_or_transcriptomics={proteomics_or_transcriptomics}, comparison={comparison}, tissue_type={tissue_type}, has_event={has_event}.\")\n",
      "/home/caleb/anaconda3/envs/dev/lib/python3.10/site-packages/cnvutils/chromosome_funcs.py:410: UserWarning: Only one tissue type for cancer_type=brca, source=cptac, level=None, chromosome=8, arm=q, gain_or_loss=gain, cis_or_trans=cis, proteomics_or_transcriptomics=proteomics, comparison=tumor, tissue_type=None, has_event=False.\n",
      "  warnings.warn(f\"Only one tissue type for cancer_type={cancer_type}, source={source}, level={level}, chromosome={chromosome}, arm={arm}, gain_or_loss={gain_or_loss}, cis_or_trans={cis_or_trans}, proteomics_or_transcriptomics={proteomics_or_transcriptomics}, comparison={comparison}, tissue_type={tissue_type}, has_event={has_event}.\")\n",
      "/home/caleb/anaconda3/envs/dev/lib/python3.10/site-packages/cnvutils/chromosome_funcs.py:410: UserWarning: Only one tissue type for cancer_type=brca, source=cptac, level=None, chromosome=8, arm=q, gain_or_loss=gain, cis_or_trans=cis, proteomics_or_transcriptomics=proteomics, comparison=tumor, tissue_type=None, has_event=True.\n",
      "  warnings.warn(f\"Only one tissue type for cancer_type={cancer_type}, source={source}, level={level}, chromosome={chromosome}, arm={arm}, gain_or_loss={gain_or_loss}, cis_or_trans={cis_or_trans}, proteomics_or_transcriptomics={proteomics_or_transcriptomics}, comparison={comparison}, tissue_type={tissue_type}, has_event={has_event}.\")\n",
      "/home/caleb/anaconda3/envs/dev/lib/python3.10/site-packages/cnvutils/chromosome_funcs.py:437: UserWarning: Too small sample size for cancer_type=ov, source=cptac, level=None, chromosome=8, arm=p, gain_or_loss=loss, cis_or_trans=cis, proteomics_or_transcriptomics=proteomics, comparison=tumor, tissue_type=None, has_event=True.\n",
      "  warnings.warn(f\"Too small sample size for cancer_type={cancer_type}, source={source}, level={level}, chromosome={chromosome}, arm={arm}, gain_or_loss={gain_or_loss}, cis_or_trans={cis_or_trans}, proteomics_or_transcriptomics={proteomics_or_transcriptomics}, comparison={comparison}, tissue_type={tissue_type}, has_event={has_event}.\")\n",
      "/home/caleb/anaconda3/envs/dev/lib/python3.10/site-packages/cnvutils/chromosome_funcs.py:437: UserWarning: Too small sample size for cancer_type=ov, source=cptac, level=None, chromosome=8, arm=q, gain_or_loss=gain, cis_or_trans=cis, proteomics_or_transcriptomics=proteomics, comparison=tumor, tissue_type=None, has_event=True.\n",
      "  warnings.warn(f\"Too small sample size for cancer_type={cancer_type}, source={source}, level={level}, chromosome={chromosome}, arm={arm}, gain_or_loss={gain_or_loss}, cis_or_trans={cis_or_trans}, proteomics_or_transcriptomics={proteomics_or_transcriptomics}, comparison={comparison}, tissue_type={tissue_type}, has_event={has_event}.\")\n"
     ]
    },
    {
     "name": "stdout",
     "output_type": "stream",
     "text": [
      "                                                                                \r"
     ]
    },
    {
     "name": "stderr",
     "output_type": "stream",
     "text": [
      "/home/caleb/anaconda3/envs/dev/lib/python3.10/site-packages/cnvutils/chromosome_funcs.py:410: UserWarning: Only one tissue type for cancer_type=brca, source=gistic, level=gene, chromosome=8, arm=p, gain_or_loss=loss, cis_or_trans=cis, proteomics_or_transcriptomics=proteomics, comparison=tumor, tissue_type=None, has_event=True.\n",
      "  warnings.warn(f\"Only one tissue type for cancer_type={cancer_type}, source={source}, level={level}, chromosome={chromosome}, arm={arm}, gain_or_loss={gain_or_loss}, cis_or_trans={cis_or_trans}, proteomics_or_transcriptomics={proteomics_or_transcriptomics}, comparison={comparison}, tissue_type={tissue_type}, has_event={has_event}.\")\n"
     ]
    },
    {
     "name": "stdout",
     "output_type": "stream",
     "text": [
      "                                                                                \r"
     ]
    },
    {
     "name": "stderr",
     "output_type": "stream",
     "text": [
      "/home/caleb/anaconda3/envs/dev/lib/python3.10/site-packages/cnvutils/chromosome_funcs.py:410: UserWarning: Only one tissue type for cancer_type=brca, source=gistic, level=gene, chromosome=8, arm=p, gain_or_loss=loss, cis_or_trans=cis, proteomics_or_transcriptomics=proteomics, comparison=tumor, tissue_type=None, has_event=False.\n",
      "  warnings.warn(f\"Only one tissue type for cancer_type={cancer_type}, source={source}, level={level}, chromosome={chromosome}, arm={arm}, gain_or_loss={gain_or_loss}, cis_or_trans={cis_or_trans}, proteomics_or_transcriptomics={proteomics_or_transcriptomics}, comparison={comparison}, tissue_type={tissue_type}, has_event={has_event}.\")\n",
      "/home/caleb/anaconda3/envs/dev/lib/python3.10/site-packages/cnvutils/chromosome_funcs.py:410: UserWarning: Only one tissue type for cancer_type=brca, source=gistic, level=gene, chromosome=8, arm=q, gain_or_loss=gain, cis_or_trans=cis, proteomics_or_transcriptomics=proteomics, comparison=tumor, tissue_type=None, has_event=True.\n",
      "  warnings.warn(f\"Only one tissue type for cancer_type={cancer_type}, source={source}, level={level}, chromosome={chromosome}, arm={arm}, gain_or_loss={gain_or_loss}, cis_or_trans={cis_or_trans}, proteomics_or_transcriptomics={proteomics_or_transcriptomics}, comparison={comparison}, tissue_type={tissue_type}, has_event={has_event}.\")\n",
      "/home/caleb/anaconda3/envs/dev/lib/python3.10/site-packages/cnvutils/chromosome_funcs.py:410: UserWarning: Only one tissue type for cancer_type=brca, source=gistic, level=gene, chromosome=8, arm=q, gain_or_loss=gain, cis_or_trans=cis, proteomics_or_transcriptomics=proteomics, comparison=tumor, tissue_type=None, has_event=False.\n",
      "  warnings.warn(f\"Only one tissue type for cancer_type={cancer_type}, source={source}, level={level}, chromosome={chromosome}, arm={arm}, gain_or_loss={gain_or_loss}, cis_or_trans={cis_or_trans}, proteomics_or_transcriptomics={proteomics_or_transcriptomics}, comparison={comparison}, tissue_type={tissue_type}, has_event={has_event}.\")\n",
      "/home/caleb/anaconda3/envs/dev/lib/python3.10/site-packages/cnvutils/chromosome_funcs.py:437: UserWarning: Too small sample size for cancer_type=ov, source=gistic, level=gene, chromosome=8, arm=q, gain_or_loss=gain, cis_or_trans=cis, proteomics_or_transcriptomics=proteomics, comparison=tumor, tissue_type=None, has_event=True.\n",
      "  warnings.warn(f\"Too small sample size for cancer_type={cancer_type}, source={source}, level={level}, chromosome={chromosome}, arm={arm}, gain_or_loss={gain_or_loss}, cis_or_trans={cis_or_trans}, proteomics_or_transcriptomics={proteomics_or_transcriptomics}, comparison={comparison}, tissue_type={tissue_type}, has_event={has_event}.\")\n"
     ]
    },
    {
     "name": "stdout",
     "output_type": "stream",
     "text": [
      "Running _get_ttest_sig_counts...\n",
      "\n",
      "Running _get_ttest_sig_counts...\n",
      "\n",
      "Running _get_ttest_sig_counts...\n",
      "\n",
      "Running _get_ttest_sig_counts...\n",
      "\n",
      "Running _get_ttest_sig_counts...\n",
      "\n",
      "Running _get_ttest_sig_counts...\n",
      "\n",
      "Running _get_ttest_sig_counts...\n",
      "Running _get_ttest_sig_counts...\n",
      "\n",
      "\n",
      "Running _permute_has_event...\n",
      "Running _permute_has_event...\n",
      "Running _permute_has_event...\n",
      "Running _permute_has_event...\n",
      "\n",
      "\n",
      "\n",
      "\n",
      "Running event_effects_ttest...\n",
      "\n",
      "Running event_effects_ttest...\n",
      "Loading brca proteomics (1/6)...                              \n",
      "Loading brca proteomics (1/6)...                              Running event_effects_ttest...\n",
      "\n",
      "Running event_effects_ttest...\n",
      "Running event_effects_ttest.....                              \n",
      "Running event_effects_ttest...\n",
      "\n",
      "\n",
      "Loading brca proteomics (1/6)...                              Loading brca proteomics (1/7)...                              \n",
      "Running event_effects_ttest...\n",
      "Loading brca proteomics (1/7)...                              \n",
      "Running event_effects_ttest...\n",
      "Loading brca proteomics (1/7)...                              \n",
      "Loading pdac proteomics (7/7)...                                                omics (2/6)...                              Loading lscc proteomics (4/6)...                              Loading lscc proteomics (4/6)...                              Loading lscc proteomics (4/7)...                              Loading lscc proteomics (4/7)...                              \r"
     ]
    },
    {
     "name": "stderr",
     "output_type": "stream",
     "text": [
      "/home/caleb/anaconda3/envs/dev/lib/python3.10/site-packages/cnvutils/chromosome_funcs.py:410: UserWarning: Only one tissue type for cancer_type=brca, source=cptac, level=None, chromosome=8, arm=p, gain_or_loss=loss, cis_or_trans=cis, proteomics_or_transcriptomics=proteomics, comparison=tumor, tissue_type=None, has_event=True.\n",
      "  warnings.warn(f\"Only one tissue type for cancer_type={cancer_type}, source={source}, level={level}, chromosome={chromosome}, arm={arm}, gain_or_loss={gain_or_loss}, cis_or_trans={cis_or_trans}, proteomics_or_transcriptomics={proteomics_or_transcriptomics}, comparison={comparison}, tissue_type={tissue_type}, has_event={has_event}.\")\n",
      "/home/caleb/anaconda3/envs/dev/lib/python3.10/site-packages/cnvutils/chromosome_funcs.py:410: UserWarning: Only one tissue type for cancer_type=brca, source=cptac, level=None, chromosome=8, arm=p, gain_or_loss=loss, cis_or_trans=cis, proteomics_or_transcriptomics=proteomics, comparison=tumor, tissue_type=None, has_event=False.\n",
      "  warnings.warn(f\"Only one tissue type for cancer_type={cancer_type}, source={source}, level={level}, chromosome={chromosome}, arm={arm}, gain_or_loss={gain_or_loss}, cis_or_trans={cis_or_trans}, proteomics_or_transcriptomics={proteomics_or_transcriptomics}, comparison={comparison}, tissue_type={tissue_type}, has_event={has_event}.\")\n",
      "/home/caleb/anaconda3/envs/dev/lib/python3.10/site-packages/cnvutils/chromosome_funcs.py:410: UserWarning: Only one tissue type for cancer_type=brca, source=cptac, level=None, chromosome=8, arm=q, gain_or_loss=gain, cis_or_trans=cis, proteomics_or_transcriptomics=proteomics, comparison=tumor, tissue_type=None, has_event=True.\n",
      "  warnings.warn(f\"Only one tissue type for cancer_type={cancer_type}, source={source}, level={level}, chromosome={chromosome}, arm={arm}, gain_or_loss={gain_or_loss}, cis_or_trans={cis_or_trans}, proteomics_or_transcriptomics={proteomics_or_transcriptomics}, comparison={comparison}, tissue_type={tissue_type}, has_event={has_event}.\")\n",
      "/home/caleb/anaconda3/envs/dev/lib/python3.10/site-packages/cnvutils/chromosome_funcs.py:410: UserWarning: Only one tissue type for cancer_type=brca, source=cptac, level=None, chromosome=8, arm=q, gain_or_loss=gain, cis_or_trans=cis, proteomics_or_transcriptomics=proteomics, comparison=tumor, tissue_type=None, has_event=False.\n",
      "  warnings.warn(f\"Only one tissue type for cancer_type={cancer_type}, source={source}, level={level}, chromosome={chromosome}, arm={arm}, gain_or_loss={gain_or_loss}, cis_or_trans={cis_or_trans}, proteomics_or_transcriptomics={proteomics_or_transcriptomics}, comparison={comparison}, tissue_type={tissue_type}, has_event={has_event}.\")\n"
     ]
    },
    {
     "name": "stdout",
     "output_type": "stream",
     "text": [
      "                                                                                \r"
     ]
    },
    {
     "name": "stderr",
     "output_type": "stream",
     "text": [
      "/home/caleb/anaconda3/envs/dev/lib/python3.10/site-packages/cnvutils/chromosome_funcs.py:410: UserWarning: Only one tissue type for cancer_type=brca, source=gistic, level=gene, chromosome=8, arm=q, gain_or_loss=gain, cis_or_trans=cis, proteomics_or_transcriptomics=proteomics, comparison=tumor, tissue_type=None, has_event=False.\n",
      "  warnings.warn(f\"Only one tissue type for cancer_type={cancer_type}, source={source}, level={level}, chromosome={chromosome}, arm={arm}, gain_or_loss={gain_or_loss}, cis_or_trans={cis_or_trans}, proteomics_or_transcriptomics={proteomics_or_transcriptomics}, comparison={comparison}, tissue_type={tissue_type}, has_event={has_event}.\")\n"
     ]
    },
    {
     "name": "stdout",
     "output_type": "stream",
     "text": [
      "                                                                                \r"
     ]
    },
    {
     "name": "stderr",
     "output_type": "stream",
     "text": [
      "/home/caleb/anaconda3/envs/dev/lib/python3.10/site-packages/cnvutils/chromosome_funcs.py:410: UserWarning: Only one tissue type for cancer_type=brca, source=gistic, level=gene, chromosome=8, arm=q, gain_or_loss=gain, cis_or_trans=cis, proteomics_or_transcriptomics=proteomics, comparison=tumor, tissue_type=None, has_event=True.\n",
      "  warnings.warn(f\"Only one tissue type for cancer_type={cancer_type}, source={source}, level={level}, chromosome={chromosome}, arm={arm}, gain_or_loss={gain_or_loss}, cis_or_trans={cis_or_trans}, proteomics_or_transcriptomics={proteomics_or_transcriptomics}, comparison={comparison}, tissue_type={tissue_type}, has_event={has_event}.\")\n",
      "/home/caleb/anaconda3/envs/dev/lib/python3.10/site-packages/cnvutils/chromosome_funcs.py:410: UserWarning: Only one tissue type for cancer_type=brca, source=gistic, level=gene, chromosome=8, arm=p, gain_or_loss=loss, cis_or_trans=cis, proteomics_or_transcriptomics=proteomics, comparison=tumor, tissue_type=None, has_event=True.\n",
      "  warnings.warn(f\"Only one tissue type for cancer_type={cancer_type}, source={source}, level={level}, chromosome={chromosome}, arm={arm}, gain_or_loss={gain_or_loss}, cis_or_trans={cis_or_trans}, proteomics_or_transcriptomics={proteomics_or_transcriptomics}, comparison={comparison}, tissue_type={tissue_type}, has_event={has_event}.\")\n",
      "/home/caleb/anaconda3/envs/dev/lib/python3.10/site-packages/cnvutils/chromosome_funcs.py:410: UserWarning: Only one tissue type for cancer_type=brca, source=gistic, level=gene, chromosome=8, arm=p, gain_or_loss=loss, cis_or_trans=cis, proteomics_or_transcriptomics=proteomics, comparison=tumor, tissue_type=None, has_event=False.\n",
      "  warnings.warn(f\"Only one tissue type for cancer_type={cancer_type}, source={source}, level={level}, chromosome={chromosome}, arm={arm}, gain_or_loss={gain_or_loss}, cis_or_trans={cis_or_trans}, proteomics_or_transcriptomics={proteomics_or_transcriptomics}, comparison={comparison}, tissue_type={tissue_type}, has_event={has_event}.\")\n",
      "/home/caleb/anaconda3/envs/dev/lib/python3.10/site-packages/cnvutils/chromosome_funcs.py:437: UserWarning: Too small sample size for cancer_type=ov, source=gistic, level=gene, chromosome=8, arm=q, gain_or_loss=gain, cis_or_trans=cis, proteomics_or_transcriptomics=proteomics, comparison=tumor, tissue_type=None, has_event=False.\n",
      "  warnings.warn(f\"Too small sample size for cancer_type={cancer_type}, source={source}, level={level}, chromosome={chromosome}, arm={arm}, gain_or_loss={gain_or_loss}, cis_or_trans={cis_or_trans}, proteomics_or_transcriptomics={proteomics_or_transcriptomics}, comparison={comparison}, tissue_type={tissue_type}, has_event={has_event}.\")\n"
     ]
    },
    {
     "name": "stdout",
     "output_type": "stream",
     "text": [
      "Running _get_ttest_sig_counts...\n",
      "\n",
      "Running _get_ttest_sig_counts...\n",
      "\n",
      "Running _get_ttest_sig_counts...\n",
      "\n",
      "Running _get_ttest_sig_counts...\n",
      "\n",
      "Running _get_ttest_sig_counts...\n",
      "\n",
      "Running _get_ttest_sig_counts...\n",
      "\n",
      "Running _get_ttest_sig_counts...\n",
      "\n",
      "Running _get_ttest_sig_counts...\n",
      "\n",
      "Running _permute_has_event...\n",
      "Running _permute_has_event...\n",
      "Running _permute_has_event...\n",
      "Running _permute_has_event...\n",
      "\n",
      "\n",
      "\n",
      "\n",
      "Running event_effects_ttest...\n",
      "Loading brca proteomics (1/6)...                              \n",
      "Running event_effects_ttest...\n",
      "\n",
      "Running event_effects_ttest.....                              \n",
      "\n",
      "Running event_effects_ttest.....                              \n",
      "\n",
      "Loading brca proteomics (1/6)...                              Running event_effects_ttest...\n",
      "Running event_effects_ttest...\n",
      "\n",
      "Running event_effects_ttest...\n",
      "\n",
      "\n",
      "Running event_effects_ttest...\n",
      "\n",
      "                                                                                omics (1/7)...                              Loading brca proteomics (1/7)...                              Loading coad proteomics (2/6)...                              Loading coad proteomics (2/6)...                              Loading coad proteomics (2/6)...                              Loading coad proteomics (2/7)...                              Loading hnscc proteomics (3/7)...                              Loading hnscc proteomics (3/7)...                              Loading lscc proteomics (4/6)...                              Loading lscc proteomics (4/6)...                              Loading luad proteomics (5/7)...                              Loading luad proteomics (5/7)...                              \r"
     ]
    },
    {
     "name": "stderr",
     "output_type": "stream",
     "text": [
      "/home/caleb/anaconda3/envs/dev/lib/python3.10/site-packages/cnvutils/chromosome_funcs.py:410: UserWarning: Only one tissue type for cancer_type=brca, source=cptac, level=None, chromosome=8, arm=q, gain_or_loss=gain, cis_or_trans=cis, proteomics_or_transcriptomics=proteomics, comparison=tumor, tissue_type=None, has_event=True.\n",
      "  warnings.warn(f\"Only one tissue type for cancer_type={cancer_type}, source={source}, level={level}, chromosome={chromosome}, arm={arm}, gain_or_loss={gain_or_loss}, cis_or_trans={cis_or_trans}, proteomics_or_transcriptomics={proteomics_or_transcriptomics}, comparison={comparison}, tissue_type={tissue_type}, has_event={has_event}.\")\n"
     ]
    },
    {
     "name": "stdout",
     "output_type": "stream",
     "text": [
      "Loading pdac proteomics (7/7)...                              \r"
     ]
    },
    {
     "name": "stderr",
     "output_type": "stream",
     "text": [
      "/home/caleb/anaconda3/envs/dev/lib/python3.10/site-packages/cnvutils/chromosome_funcs.py:410: UserWarning: Only one tissue type for cancer_type=brca, source=cptac, level=None, chromosome=8, arm=p, gain_or_loss=loss, cis_or_trans=cis, proteomics_or_transcriptomics=proteomics, comparison=tumor, tissue_type=None, has_event=True.\n",
      "  warnings.warn(f\"Only one tissue type for cancer_type={cancer_type}, source={source}, level={level}, chromosome={chromosome}, arm={arm}, gain_or_loss={gain_or_loss}, cis_or_trans={cis_or_trans}, proteomics_or_transcriptomics={proteomics_or_transcriptomics}, comparison={comparison}, tissue_type={tissue_type}, has_event={has_event}.\")\n"
     ]
    },
    {
     "name": "stdout",
     "output_type": "stream",
     "text": [
      "Loading pdac proteomics (7/7)...                              Loading pdac proteomics (7/7)...                              "
     ]
    },
    {
     "name": "stderr",
     "output_type": "stream",
     "text": [
      "/home/caleb/anaconda3/envs/dev/lib/python3.10/site-packages/cnvutils/chromosome_funcs.py:410: UserWarning: Only one tissue type for cancer_type=brca, source=cptac, level=None, chromosome=8, arm=q, gain_or_loss=gain, cis_or_trans=cis, proteomics_or_transcriptomics=proteomics, comparison=tumor, tissue_type=None, has_event=False.\n",
      "  warnings.warn(f\"Only one tissue type for cancer_type={cancer_type}, source={source}, level={level}, chromosome={chromosome}, arm={arm}, gain_or_loss={gain_or_loss}, cis_or_trans={cis_or_trans}, proteomics_or_transcriptomics={proteomics_or_transcriptomics}, comparison={comparison}, tissue_type={tissue_type}, has_event={has_event}.\")\n",
      "/home/caleb/anaconda3/envs/dev/lib/python3.10/site-packages/cnvutils/chromosome_funcs.py:410: UserWarning: Only one tissue type for cancer_type=brca, source=cptac, level=None, chromosome=8, arm=p, gain_or_loss=loss, cis_or_trans=cis, proteomics_or_transcriptomics=proteomics, comparison=tumor, tissue_type=None, has_event=False.\n",
      "  warnings.warn(f\"Only one tissue type for cancer_type={cancer_type}, source={source}, level={level}, chromosome={chromosome}, arm={arm}, gain_or_loss={gain_or_loss}, cis_or_trans={cis_or_trans}, proteomics_or_transcriptomics={proteomics_or_transcriptomics}, comparison={comparison}, tissue_type={tissue_type}, has_event={has_event}.\")\n"
     ]
    },
    {
     "name": "stdout",
     "output_type": "stream",
     "text": [
      "                                                                                \r"
     ]
    },
    {
     "name": "stderr",
     "output_type": "stream",
     "text": [
      "/home/caleb/anaconda3/envs/dev/lib/python3.10/site-packages/cnvutils/chromosome_funcs.py:410: UserWarning: Only one tissue type for cancer_type=brca, source=gistic, level=gene, chromosome=8, arm=q, gain_or_loss=gain, cis_or_trans=cis, proteomics_or_transcriptomics=proteomics, comparison=tumor, tissue_type=None, has_event=False.\n",
      "  warnings.warn(f\"Only one tissue type for cancer_type={cancer_type}, source={source}, level={level}, chromosome={chromosome}, arm={arm}, gain_or_loss={gain_or_loss}, cis_or_trans={cis_or_trans}, proteomics_or_transcriptomics={proteomics_or_transcriptomics}, comparison={comparison}, tissue_type={tissue_type}, has_event={has_event}.\")\n",
      "/home/caleb/anaconda3/envs/dev/lib/python3.10/site-packages/cnvutils/chromosome_funcs.py:410: UserWarning: Only one tissue type for cancer_type=brca, source=gistic, level=gene, chromosome=8, arm=q, gain_or_loss=gain, cis_or_trans=cis, proteomics_or_transcriptomics=proteomics, comparison=tumor, tissue_type=None, has_event=True.\n",
      "  warnings.warn(f\"Only one tissue type for cancer_type={cancer_type}, source={source}, level={level}, chromosome={chromosome}, arm={arm}, gain_or_loss={gain_or_loss}, cis_or_trans={cis_or_trans}, proteomics_or_transcriptomics={proteomics_or_transcriptomics}, comparison={comparison}, tissue_type={tissue_type}, has_event={has_event}.\")\n",
      "/home/caleb/anaconda3/envs/dev/lib/python3.10/site-packages/cnvutils/chromosome_funcs.py:410: UserWarning: Only one tissue type for cancer_type=brca, source=gistic, level=gene, chromosome=8, arm=p, gain_or_loss=loss, cis_or_trans=cis, proteomics_or_transcriptomics=proteomics, comparison=tumor, tissue_type=None, has_event=False.\n",
      "  warnings.warn(f\"Only one tissue type for cancer_type={cancer_type}, source={source}, level={level}, chromosome={chromosome}, arm={arm}, gain_or_loss={gain_or_loss}, cis_or_trans={cis_or_trans}, proteomics_or_transcriptomics={proteomics_or_transcriptomics}, comparison={comparison}, tissue_type={tissue_type}, has_event={has_event}.\")\n",
      "/home/caleb/anaconda3/envs/dev/lib/python3.10/site-packages/cnvutils/chromosome_funcs.py:410: UserWarning: Only one tissue type for cancer_type=brca, source=gistic, level=gene, chromosome=8, arm=p, gain_or_loss=loss, cis_or_trans=cis, proteomics_or_transcriptomics=proteomics, comparison=tumor, tissue_type=None, has_event=True.\n",
      "  warnings.warn(f\"Only one tissue type for cancer_type={cancer_type}, source={source}, level={level}, chromosome={chromosome}, arm={arm}, gain_or_loss={gain_or_loss}, cis_or_trans={cis_or_trans}, proteomics_or_transcriptomics={proteomics_or_transcriptomics}, comparison={comparison}, tissue_type={tissue_type}, has_event={has_event}.\")\n",
      "/home/caleb/anaconda3/envs/dev/lib/python3.10/site-packages/cnvutils/chromosome_funcs.py:437: UserWarning: Too small sample size for cancer_type=ov, source=gistic, level=gene, chromosome=8, arm=p, gain_or_loss=loss, cis_or_trans=cis, proteomics_or_transcriptomics=proteomics, comparison=tumor, tissue_type=None, has_event=False.\n",
      "  warnings.warn(f\"Too small sample size for cancer_type={cancer_type}, source={source}, level={level}, chromosome={chromosome}, arm={arm}, gain_or_loss={gain_or_loss}, cis_or_trans={cis_or_trans}, proteomics_or_transcriptomics={proteomics_or_transcriptomics}, comparison={comparison}, tissue_type={tissue_type}, has_event={has_event}.\")\n"
     ]
    },
    {
     "name": "stdout",
     "output_type": "stream",
     "text": [
      "Running _get_ttest_sig_counts...\n",
      "\n",
      "Running _get_ttest_sig_counts...\n",
      "\n",
      "Running _get_ttest_sig_counts...\n",
      "\n",
      "Running _get_ttest_sig_counts...\n",
      "\n",
      "Running _get_ttest_sig_counts...\n",
      "Running _get_ttest_sig_counts...\n",
      "\n",
      "\n",
      "Running _get_ttest_sig_counts...\n",
      "\n",
      "Running _get_ttest_sig_counts...\n",
      "\n",
      "Running _permute_has_event...\n",
      "Running _permute_has_event...\n",
      "Running _permute_has_event...\n",
      "Running _permute_has_event...\n",
      "\n",
      "\n",
      "\n",
      "\n",
      "Running event_effects_ttest...\n",
      "Running event_effects_ttest...\n",
      "\n",
      "Running event_effects_ttest...\n",
      "\n",
      "Loading brca proteomics (1/6)...                              Running event_effects_ttest...\n",
      "Loading brca proteomics (1/6)...                              \n",
      "Running event_effects_ttest...\n",
      "Running event_effects_ttest...\n",
      "Running event_effects_ttest...\n",
      "\n",
      "Loading brca proteomics (1/6)...                              \n",
      "\n",
      "Running event_effects_ttest.....                              \n",
      "Loading brca proteomics (1/7)...                              Loading brca proteomics (1/7)...                              \n",
      "Loading brca proteomics (1/7)...                              \n",
      "Loading pdac proteomics (7/7)...                                                omics (2/6)...                              Loading coad proteomics (2/6)...                              Loading coad proteomics (2/6)...                              Loading hnscc proteomics (3/7)...                              Loading hnscc proteomics (3/6)...                              Loading hnscc proteomics (3/7)...                              Loading hnscc proteomics (3/7)...                              Loading luad proteomics (5/7)...                              Loading luad proteomics (5/7)...                              \r"
     ]
    },
    {
     "name": "stderr",
     "output_type": "stream",
     "text": [
      "/home/caleb/anaconda3/envs/dev/lib/python3.10/site-packages/cnvutils/chromosome_funcs.py:410: UserWarning: Only one tissue type for cancer_type=brca, source=cptac, level=None, chromosome=8, arm=p, gain_or_loss=loss, cis_or_trans=cis, proteomics_or_transcriptomics=proteomics, comparison=tumor, tissue_type=None, has_event=False.\n",
      "  warnings.warn(f\"Only one tissue type for cancer_type={cancer_type}, source={source}, level={level}, chromosome={chromosome}, arm={arm}, gain_or_loss={gain_or_loss}, cis_or_trans={cis_or_trans}, proteomics_or_transcriptomics={proteomics_or_transcriptomics}, comparison={comparison}, tissue_type={tissue_type}, has_event={has_event}.\")\n"
     ]
    },
    {
     "name": "stdout",
     "output_type": "stream",
     "text": [
      "                                                                                Loading pdac proteomics (7/7)...                              Loading pdac proteomics (7/7)...                              \r"
     ]
    },
    {
     "name": "stderr",
     "output_type": "stream",
     "text": [
      "/home/caleb/anaconda3/envs/dev/lib/python3.10/site-packages/cnvutils/chromosome_funcs.py:410: UserWarning: Only one tissue type for cancer_type=brca, source=cptac, level=None, chromosome=8, arm=q, gain_or_loss=gain, cis_or_trans=cis, proteomics_or_transcriptomics=proteomics, comparison=tumor, tissue_type=None, has_event=False.\n",
      "  warnings.warn(f\"Only one tissue type for cancer_type={cancer_type}, source={source}, level={level}, chromosome={chromosome}, arm={arm}, gain_or_loss={gain_or_loss}, cis_or_trans={cis_or_trans}, proteomics_or_transcriptomics={proteomics_or_transcriptomics}, comparison={comparison}, tissue_type={tissue_type}, has_event={has_event}.\")\n",
      "/home/caleb/anaconda3/envs/dev/lib/python3.10/site-packages/cnvutils/chromosome_funcs.py:410: UserWarning: Only one tissue type for cancer_type=brca, source=cptac, level=None, chromosome=8, arm=p, gain_or_loss=loss, cis_or_trans=cis, proteomics_or_transcriptomics=proteomics, comparison=tumor, tissue_type=None, has_event=True.\n",
      "  warnings.warn(f\"Only one tissue type for cancer_type={cancer_type}, source={source}, level={level}, chromosome={chromosome}, arm={arm}, gain_or_loss={gain_or_loss}, cis_or_trans={cis_or_trans}, proteomics_or_transcriptomics={proteomics_or_transcriptomics}, comparison={comparison}, tissue_type={tissue_type}, has_event={has_event}.\")\n",
      "/home/caleb/anaconda3/envs/dev/lib/python3.10/site-packages/cnvutils/chromosome_funcs.py:410: UserWarning: Only one tissue type for cancer_type=brca, source=cptac, level=None, chromosome=8, arm=q, gain_or_loss=gain, cis_or_trans=cis, proteomics_or_transcriptomics=proteomics, comparison=tumor, tissue_type=None, has_event=True.\n",
      "  warnings.warn(f\"Only one tissue type for cancer_type={cancer_type}, source={source}, level={level}, chromosome={chromosome}, arm={arm}, gain_or_loss={gain_or_loss}, cis_or_trans={cis_or_trans}, proteomics_or_transcriptomics={proteomics_or_transcriptomics}, comparison={comparison}, tissue_type={tissue_type}, has_event={has_event}.\")\n",
      "/home/caleb/anaconda3/envs/dev/lib/python3.10/site-packages/cnvutils/chromosome_funcs.py:410: UserWarning: Only one tissue type for cancer_type=ov, source=cptac, level=None, chromosome=8, arm=q, gain_or_loss=gain, cis_or_trans=cis, proteomics_or_transcriptomics=proteomics, comparison=tumor, tissue_type=None, has_event=True.\n",
      "  warnings.warn(f\"Only one tissue type for cancer_type={cancer_type}, source={source}, level={level}, chromosome={chromosome}, arm={arm}, gain_or_loss={gain_or_loss}, cis_or_trans={cis_or_trans}, proteomics_or_transcriptomics={proteomics_or_transcriptomics}, comparison={comparison}, tissue_type={tissue_type}, has_event={has_event}.\")\n",
      "/home/caleb/anaconda3/envs/dev/lib/python3.10/site-packages/cnvutils/chromosome_funcs.py:437: UserWarning: Too small sample size for cancer_type=ov, source=cptac, level=None, chromosome=8, arm=p, gain_or_loss=loss, cis_or_trans=cis, proteomics_or_transcriptomics=proteomics, comparison=tumor, tissue_type=None, has_event=False.\n",
      "  warnings.warn(f\"Too small sample size for cancer_type={cancer_type}, source={source}, level={level}, chromosome={chromosome}, arm={arm}, gain_or_loss={gain_or_loss}, cis_or_trans={cis_or_trans}, proteomics_or_transcriptomics={proteomics_or_transcriptomics}, comparison={comparison}, tissue_type={tissue_type}, has_event={has_event}.\")\n"
     ]
    },
    {
     "name": "stdout",
     "output_type": "stream",
     "text": [
      "                                                                                \r"
     ]
    },
    {
     "name": "stderr",
     "output_type": "stream",
     "text": [
      "/home/caleb/anaconda3/envs/dev/lib/python3.10/site-packages/cnvutils/chromosome_funcs.py:410: UserWarning: Only one tissue type for cancer_type=brca, source=gistic, level=gene, chromosome=8, arm=p, gain_or_loss=loss, cis_or_trans=cis, proteomics_or_transcriptomics=proteomics, comparison=tumor, tissue_type=None, has_event=True.\n",
      "  warnings.warn(f\"Only one tissue type for cancer_type={cancer_type}, source={source}, level={level}, chromosome={chromosome}, arm={arm}, gain_or_loss={gain_or_loss}, cis_or_trans={cis_or_trans}, proteomics_or_transcriptomics={proteomics_or_transcriptomics}, comparison={comparison}, tissue_type={tissue_type}, has_event={has_event}.\")\n"
     ]
    },
    {
     "name": "stdout",
     "output_type": "stream",
     "text": [
      "                                                                                \r"
     ]
    },
    {
     "name": "stderr",
     "output_type": "stream",
     "text": [
      "/home/caleb/anaconda3/envs/dev/lib/python3.10/site-packages/cnvutils/chromosome_funcs.py:410: UserWarning: Only one tissue type for cancer_type=brca, source=gistic, level=gene, chromosome=8, arm=q, gain_or_loss=gain, cis_or_trans=cis, proteomics_or_transcriptomics=proteomics, comparison=tumor, tissue_type=None, has_event=True.\n",
      "  warnings.warn(f\"Only one tissue type for cancer_type={cancer_type}, source={source}, level={level}, chromosome={chromosome}, arm={arm}, gain_or_loss={gain_or_loss}, cis_or_trans={cis_or_trans}, proteomics_or_transcriptomics={proteomics_or_transcriptomics}, comparison={comparison}, tissue_type={tissue_type}, has_event={has_event}.\")\n",
      "/home/caleb/anaconda3/envs/dev/lib/python3.10/site-packages/cnvutils/chromosome_funcs.py:410: UserWarning: Only one tissue type for cancer_type=brca, source=gistic, level=gene, chromosome=8, arm=q, gain_or_loss=gain, cis_or_trans=cis, proteomics_or_transcriptomics=proteomics, comparison=tumor, tissue_type=None, has_event=False.\n",
      "  warnings.warn(f\"Only one tissue type for cancer_type={cancer_type}, source={source}, level={level}, chromosome={chromosome}, arm={arm}, gain_or_loss={gain_or_loss}, cis_or_trans={cis_or_trans}, proteomics_or_transcriptomics={proteomics_or_transcriptomics}, comparison={comparison}, tissue_type={tissue_type}, has_event={has_event}.\")\n",
      "/home/caleb/anaconda3/envs/dev/lib/python3.10/site-packages/cnvutils/chromosome_funcs.py:410: UserWarning: Only one tissue type for cancer_type=brca, source=gistic, level=gene, chromosome=8, arm=p, gain_or_loss=loss, cis_or_trans=cis, proteomics_or_transcriptomics=proteomics, comparison=tumor, tissue_type=None, has_event=False.\n",
      "  warnings.warn(f\"Only one tissue type for cancer_type={cancer_type}, source={source}, level={level}, chromosome={chromosome}, arm={arm}, gain_or_loss={gain_or_loss}, cis_or_trans={cis_or_trans}, proteomics_or_transcriptomics={proteomics_or_transcriptomics}, comparison={comparison}, tissue_type={tissue_type}, has_event={has_event}.\")\n",
      "/home/caleb/anaconda3/envs/dev/lib/python3.10/site-packages/cnvutils/chromosome_funcs.py:437: UserWarning: Too small sample size for cancer_type=ov, source=gistic, level=gene, chromosome=8, arm=p, gain_or_loss=loss, cis_or_trans=cis, proteomics_or_transcriptomics=proteomics, comparison=tumor, tissue_type=None, has_event=False.\n",
      "  warnings.warn(f\"Too small sample size for cancer_type={cancer_type}, source={source}, level={level}, chromosome={chromosome}, arm={arm}, gain_or_loss={gain_or_loss}, cis_or_trans={cis_or_trans}, proteomics_or_transcriptomics={proteomics_or_transcriptomics}, comparison={comparison}, tissue_type={tissue_type}, has_event={has_event}.\")\n",
      "/home/caleb/anaconda3/envs/dev/lib/python3.10/site-packages/cnvutils/chromosome_funcs.py:437: UserWarning: Too small sample size for cancer_type=ov, source=gistic, level=gene, chromosome=8, arm=q, gain_or_loss=gain, cis_or_trans=cis, proteomics_or_transcriptomics=proteomics, comparison=tumor, tissue_type=None, has_event=True.\n",
      "  warnings.warn(f\"Too small sample size for cancer_type={cancer_type}, source={source}, level={level}, chromosome={chromosome}, arm={arm}, gain_or_loss={gain_or_loss}, cis_or_trans={cis_or_trans}, proteomics_or_transcriptomics={proteomics_or_transcriptomics}, comparison={comparison}, tissue_type={tissue_type}, has_event={has_event}.\")\n"
     ]
    },
    {
     "name": "stdout",
     "output_type": "stream",
     "text": [
      "Running _get_ttest_sig_counts...\n",
      "\n",
      "Running _get_ttest_sig_counts...\n",
      "\n",
      "Running _get_ttest_sig_counts...\n",
      "\n",
      "Running _get_ttest_sig_counts...\n",
      "Running _get_ttest_sig_counts...\n",
      "\n",
      "\n",
      "Running _get_ttest_sig_counts...\n",
      "\n",
      "Running _get_ttest_sig_counts...\n",
      "\n",
      "Running _get_ttest_sig_counts...\n",
      "\n",
      "Running _permute_has_event...\n",
      "Running _permute_has_event...\n",
      "Running _permute_has_event...\n",
      "Running _permute_has_event...\n",
      "\n",
      "\n",
      "\n",
      "\n",
      "Running event_effects_ttest...\n",
      "\n",
      "Running event_effects_ttest.....                              \n",
      "Running event_effects_ttest...\n",
      "\n",
      "\n",
      "Running event_effects_ttest.....                              \n",
      "Running event_effects_ttest...\n",
      "\n",
      "\n",
      "Loading brca proteomics (1/6)...                              Running event_effects_ttest...\n",
      "Loading brca proteomics (1/7)...                              \n",
      "Running event_effects_ttest...\n",
      "Loading brca proteomics (1/7)...                              \n",
      "Running event_effects_ttest...\n",
      "Loading brca proteomics (1/7)...                              \n",
      "Loading pdac proteomics (7/7)...                                                omics (2/6)...                              Loading coad proteomics (2/6)...                              Loading coad proteomics (2/7)...                              Loading coad proteomics (2/7)...                              Loading hnscc proteomics (3/6)...                              Loading hnscc proteomics (3/7)...                              \r"
     ]
    },
    {
     "name": "stderr",
     "output_type": "stream",
     "text": [
      "/home/caleb/anaconda3/envs/dev/lib/python3.10/site-packages/cnvutils/chromosome_funcs.py:410: UserWarning: Only one tissue type for cancer_type=brca, source=cptac, level=None, chromosome=8, arm=q, gain_or_loss=gain, cis_or_trans=cis, proteomics_or_transcriptomics=proteomics, comparison=tumor, tissue_type=None, has_event=True.\n",
      "  warnings.warn(f\"Only one tissue type for cancer_type={cancer_type}, source={source}, level={level}, chromosome={chromosome}, arm={arm}, gain_or_loss={gain_or_loss}, cis_or_trans={cis_or_trans}, proteomics_or_transcriptomics={proteomics_or_transcriptomics}, comparison={comparison}, tissue_type={tissue_type}, has_event={has_event}.\")\n"
     ]
    },
    {
     "name": "stdout",
     "output_type": "stream",
     "text": [
      "Loading pdac proteomics (7/7)...                                                                                                              "
     ]
    },
    {
     "name": "stderr",
     "output_type": "stream",
     "text": [
      "/home/caleb/anaconda3/envs/dev/lib/python3.10/site-packages/cnvutils/chromosome_funcs.py:410: UserWarning: Only one tissue type for cancer_type=brca, source=cptac, level=None, chromosome=8, arm=p, gain_or_loss=loss, cis_or_trans=cis, proteomics_or_transcriptomics=proteomics, comparison=tumor, tissue_type=None, has_event=True.\n",
      "  warnings.warn(f\"Only one tissue type for cancer_type={cancer_type}, source={source}, level={level}, chromosome={chromosome}, arm={arm}, gain_or_loss={gain_or_loss}, cis_or_trans={cis_or_trans}, proteomics_or_transcriptomics={proteomics_or_transcriptomics}, comparison={comparison}, tissue_type={tissue_type}, has_event={has_event}.\")\n"
     ]
    },
    {
     "name": "stdout",
     "output_type": "stream",
     "text": [
      "Loading pdac proteomics (7/7)...                              \r"
     ]
    },
    {
     "name": "stderr",
     "output_type": "stream",
     "text": [
      "/home/caleb/anaconda3/envs/dev/lib/python3.10/site-packages/cnvutils/chromosome_funcs.py:410: UserWarning: Only one tissue type for cancer_type=brca, source=cptac, level=None, chromosome=8, arm=q, gain_or_loss=gain, cis_or_trans=cis, proteomics_or_transcriptomics=proteomics, comparison=tumor, tissue_type=None, has_event=False.\n",
      "  warnings.warn(f\"Only one tissue type for cancer_type={cancer_type}, source={source}, level={level}, chromosome={chromosome}, arm={arm}, gain_or_loss={gain_or_loss}, cis_or_trans={cis_or_trans}, proteomics_or_transcriptomics={proteomics_or_transcriptomics}, comparison={comparison}, tissue_type={tissue_type}, has_event={has_event}.\")\n",
      "/home/caleb/anaconda3/envs/dev/lib/python3.10/site-packages/cnvutils/chromosome_funcs.py:410: UserWarning: Only one tissue type for cancer_type=brca, source=cptac, level=None, chromosome=8, arm=p, gain_or_loss=loss, cis_or_trans=cis, proteomics_or_transcriptomics=proteomics, comparison=tumor, tissue_type=None, has_event=False.\n",
      "  warnings.warn(f\"Only one tissue type for cancer_type={cancer_type}, source={source}, level={level}, chromosome={chromosome}, arm={arm}, gain_or_loss={gain_or_loss}, cis_or_trans={cis_or_trans}, proteomics_or_transcriptomics={proteomics_or_transcriptomics}, comparison={comparison}, tissue_type={tissue_type}, has_event={has_event}.\")\n",
      "/home/caleb/anaconda3/envs/dev/lib/python3.10/site-packages/cnvutils/chromosome_funcs.py:437: UserWarning: Too small sample size for cancer_type=ov, source=cptac, level=None, chromosome=8, arm=p, gain_or_loss=loss, cis_or_trans=cis, proteomics_or_transcriptomics=proteomics, comparison=tumor, tissue_type=None, has_event=False.\n",
      "  warnings.warn(f\"Too small sample size for cancer_type={cancer_type}, source={source}, level={level}, chromosome={chromosome}, arm={arm}, gain_or_loss={gain_or_loss}, cis_or_trans={cis_or_trans}, proteomics_or_transcriptomics={proteomics_or_transcriptomics}, comparison={comparison}, tissue_type={tissue_type}, has_event={has_event}.\")\n",
      "/home/caleb/anaconda3/envs/dev/lib/python3.10/site-packages/cnvutils/chromosome_funcs.py:437: UserWarning: Too small sample size for cancer_type=ov, source=cptac, level=None, chromosome=8, arm=q, gain_or_loss=gain, cis_or_trans=cis, proteomics_or_transcriptomics=proteomics, comparison=tumor, tissue_type=None, has_event=True.\n",
      "  warnings.warn(f\"Too small sample size for cancer_type={cancer_type}, source={source}, level={level}, chromosome={chromosome}, arm={arm}, gain_or_loss={gain_or_loss}, cis_or_trans={cis_or_trans}, proteomics_or_transcriptomics={proteomics_or_transcriptomics}, comparison={comparison}, tissue_type={tissue_type}, has_event={has_event}.\")\n"
     ]
    },
    {
     "name": "stdout",
     "output_type": "stream",
     "text": [
      "                                                                                \r"
     ]
    },
    {
     "name": "stderr",
     "output_type": "stream",
     "text": [
      "/home/caleb/anaconda3/envs/dev/lib/python3.10/site-packages/cnvutils/chromosome_funcs.py:410: UserWarning: Only one tissue type for cancer_type=brca, source=gistic, level=gene, chromosome=8, arm=p, gain_or_loss=loss, cis_or_trans=cis, proteomics_or_transcriptomics=proteomics, comparison=tumor, tissue_type=None, has_event=True.\n",
      "  warnings.warn(f\"Only one tissue type for cancer_type={cancer_type}, source={source}, level={level}, chromosome={chromosome}, arm={arm}, gain_or_loss={gain_or_loss}, cis_or_trans={cis_or_trans}, proteomics_or_transcriptomics={proteomics_or_transcriptomics}, comparison={comparison}, tissue_type={tissue_type}, has_event={has_event}.\")\n"
     ]
    },
    {
     "name": "stdout",
     "output_type": "stream",
     "text": [
      "                                                                                \r"
     ]
    },
    {
     "name": "stderr",
     "output_type": "stream",
     "text": [
      "/home/caleb/anaconda3/envs/dev/lib/python3.10/site-packages/cnvutils/chromosome_funcs.py:410: UserWarning: Only one tissue type for cancer_type=brca, source=gistic, level=gene, chromosome=8, arm=p, gain_or_loss=loss, cis_or_trans=cis, proteomics_or_transcriptomics=proteomics, comparison=tumor, tissue_type=None, has_event=False.\n",
      "  warnings.warn(f\"Only one tissue type for cancer_type={cancer_type}, source={source}, level={level}, chromosome={chromosome}, arm={arm}, gain_or_loss={gain_or_loss}, cis_or_trans={cis_or_trans}, proteomics_or_transcriptomics={proteomics_or_transcriptomics}, comparison={comparison}, tissue_type={tissue_type}, has_event={has_event}.\")\n",
      "/home/caleb/anaconda3/envs/dev/lib/python3.10/site-packages/cnvutils/chromosome_funcs.py:410: UserWarning: Only one tissue type for cancer_type=brca, source=gistic, level=gene, chromosome=8, arm=q, gain_or_loss=gain, cis_or_trans=cis, proteomics_or_transcriptomics=proteomics, comparison=tumor, tissue_type=None, has_event=True.\n",
      "  warnings.warn(f\"Only one tissue type for cancer_type={cancer_type}, source={source}, level={level}, chromosome={chromosome}, arm={arm}, gain_or_loss={gain_or_loss}, cis_or_trans={cis_or_trans}, proteomics_or_transcriptomics={proteomics_or_transcriptomics}, comparison={comparison}, tissue_type={tissue_type}, has_event={has_event}.\")\n",
      "/home/caleb/anaconda3/envs/dev/lib/python3.10/site-packages/cnvutils/chromosome_funcs.py:410: UserWarning: Only one tissue type for cancer_type=brca, source=gistic, level=gene, chromosome=8, arm=q, gain_or_loss=gain, cis_or_trans=cis, proteomics_or_transcriptomics=proteomics, comparison=tumor, tissue_type=None, has_event=False.\n",
      "  warnings.warn(f\"Only one tissue type for cancer_type={cancer_type}, source={source}, level={level}, chromosome={chromosome}, arm={arm}, gain_or_loss={gain_or_loss}, cis_or_trans={cis_or_trans}, proteomics_or_transcriptomics={proteomics_or_transcriptomics}, comparison={comparison}, tissue_type={tissue_type}, has_event={has_event}.\")\n",
      "/home/caleb/anaconda3/envs/dev/lib/python3.10/site-packages/cnvutils/chromosome_funcs.py:437: UserWarning: Too small sample size for cancer_type=ov, source=gistic, level=gene, chromosome=8, arm=p, gain_or_loss=loss, cis_or_trans=cis, proteomics_or_transcriptomics=proteomics, comparison=tumor, tissue_type=None, has_event=False.\n",
      "  warnings.warn(f\"Too small sample size for cancer_type={cancer_type}, source={source}, level={level}, chromosome={chromosome}, arm={arm}, gain_or_loss={gain_or_loss}, cis_or_trans={cis_or_trans}, proteomics_or_transcriptomics={proteomics_or_transcriptomics}, comparison={comparison}, tissue_type={tissue_type}, has_event={has_event}.\")\n"
     ]
    },
    {
     "name": "stdout",
     "output_type": "stream",
     "text": [
      "Running _get_ttest_sig_counts...\n",
      "\n",
      "Running _get_ttest_sig_counts...\n",
      "\n",
      "Running _get_ttest_sig_counts...\n",
      "\n",
      "Running _get_ttest_sig_counts...\n",
      "\n",
      "Running _get_ttest_sig_counts...\n",
      "Running _get_ttest_sig_counts...\n",
      "\n",
      "\n",
      "Running _get_ttest_sig_counts...\n",
      "\n",
      "Running _get_ttest_sig_counts...\n",
      "\n",
      "Running _permute_has_event...\n",
      "Running _permute_has_event...\n",
      "Running _permute_has_event...\n",
      "Running _permute_has_event...\n",
      "\n",
      "\n",
      "\n",
      "\n",
      "Running event_effects_ttest...\n",
      "Running event_effects_ttest...\n",
      "\n",
      "Loading brca proteomics (1/6)...                              Running event_effects_ttest...\n",
      "\n",
      "Loading brca proteomics (1/6)...                              \n",
      "Running event_effects_ttest.....                              \n",
      "\n",
      "Running event_effects_ttest...\n",
      "Loading brca proteomics (1/7)...                              \n",
      "Running event_effects_ttest...\n",
      "Running event_effects_ttest...\n",
      "Loading brca proteomics (1/7)...                              Running event_effects_ttest...\n",
      "\n",
      "\n",
      "Loading brca proteomics (1/7)...                              Loading brca proteomics (1/6)...                              \n",
      "                                                                                omics (2/7)...                              Loading coad proteomics (2/7)...                              Loading coad proteomics (2/7)...                              Loading coad proteomics (2/7)...                              Loading hnscc proteomics (3/7)...                              Loading hnscc proteomics (3/7)...                              Loading lscc proteomics (4/7)...                              Loading lscc proteomics (4/6)...                              Loading luad proteomics (5/7)...                              Loading luad proteomics (5/6)...                              Loading ov proteomics (6/7)...                              Loading ov proteomics (6/6)...                              Loading pdac proteomics (7/7)...                                                                                                              \r"
     ]
    },
    {
     "name": "stderr",
     "output_type": "stream",
     "text": [
      "/home/caleb/anaconda3/envs/dev/lib/python3.10/site-packages/cnvutils/chromosome_funcs.py:410: UserWarning: Only one tissue type for cancer_type=brca, source=cptac, level=None, chromosome=8, arm=p, gain_or_loss=loss, cis_or_trans=cis, proteomics_or_transcriptomics=proteomics, comparison=tumor, tissue_type=None, has_event=False.\n",
      "  warnings.warn(f\"Only one tissue type for cancer_type={cancer_type}, source={source}, level={level}, chromosome={chromosome}, arm={arm}, gain_or_loss={gain_or_loss}, cis_or_trans={cis_or_trans}, proteomics_or_transcriptomics={proteomics_or_transcriptomics}, comparison={comparison}, tissue_type={tissue_type}, has_event={has_event}.\")\n",
      "/home/caleb/anaconda3/envs/dev/lib/python3.10/site-packages/cnvutils/chromosome_funcs.py:410: UserWarning: Only one tissue type for cancer_type=brca, source=cptac, level=None, chromosome=8, arm=q, gain_or_loss=gain, cis_or_trans=cis, proteomics_or_transcriptomics=proteomics, comparison=tumor, tissue_type=None, has_event=True.\n",
      "  warnings.warn(f\"Only one tissue type for cancer_type={cancer_type}, source={source}, level={level}, chromosome={chromosome}, arm={arm}, gain_or_loss={gain_or_loss}, cis_or_trans={cis_or_trans}, proteomics_or_transcriptomics={proteomics_or_transcriptomics}, comparison={comparison}, tissue_type={tissue_type}, has_event={has_event}.\")\n",
      "/home/caleb/anaconda3/envs/dev/lib/python3.10/site-packages/cnvutils/chromosome_funcs.py:410: UserWarning: Only one tissue type for cancer_type=brca, source=cptac, level=None, chromosome=8, arm=p, gain_or_loss=loss, cis_or_trans=cis, proteomics_or_transcriptomics=proteomics, comparison=tumor, tissue_type=None, has_event=True.\n",
      "  warnings.warn(f\"Only one tissue type for cancer_type={cancer_type}, source={source}, level={level}, chromosome={chromosome}, arm={arm}, gain_or_loss={gain_or_loss}, cis_or_trans={cis_or_trans}, proteomics_or_transcriptomics={proteomics_or_transcriptomics}, comparison={comparison}, tissue_type={tissue_type}, has_event={has_event}.\")\n",
      "/home/caleb/anaconda3/envs/dev/lib/python3.10/site-packages/cnvutils/chromosome_funcs.py:410: UserWarning: Only one tissue type for cancer_type=brca, source=cptac, level=None, chromosome=8, arm=q, gain_or_loss=gain, cis_or_trans=cis, proteomics_or_transcriptomics=proteomics, comparison=tumor, tissue_type=None, has_event=False.\n",
      "  warnings.warn(f\"Only one tissue type for cancer_type={cancer_type}, source={source}, level={level}, chromosome={chromosome}, arm={arm}, gain_or_loss={gain_or_loss}, cis_or_trans={cis_or_trans}, proteomics_or_transcriptomics={proteomics_or_transcriptomics}, comparison={comparison}, tissue_type={tissue_type}, has_event={has_event}.\")\n",
      "/home/caleb/anaconda3/envs/dev/lib/python3.10/site-packages/cnvutils/chromosome_funcs.py:437: UserWarning: Too small sample size for cancer_type=ov, source=cptac, level=None, chromosome=8, arm=p, gain_or_loss=loss, cis_or_trans=cis, proteomics_or_transcriptomics=proteomics, comparison=tumor, tissue_type=None, has_event=False.\n",
      "  warnings.warn(f\"Too small sample size for cancer_type={cancer_type}, source={source}, level={level}, chromosome={chromosome}, arm={arm}, gain_or_loss={gain_or_loss}, cis_or_trans={cis_or_trans}, proteomics_or_transcriptomics={proteomics_or_transcriptomics}, comparison={comparison}, tissue_type={tissue_type}, has_event={has_event}.\")\n",
      "/home/caleb/anaconda3/envs/dev/lib/python3.10/site-packages/cnvutils/chromosome_funcs.py:437: UserWarning: Too small sample size for cancer_type=ov, source=cptac, level=None, chromosome=8, arm=q, gain_or_loss=gain, cis_or_trans=cis, proteomics_or_transcriptomics=proteomics, comparison=tumor, tissue_type=None, has_event=True.\n",
      "  warnings.warn(f\"Too small sample size for cancer_type={cancer_type}, source={source}, level={level}, chromosome={chromosome}, arm={arm}, gain_or_loss={gain_or_loss}, cis_or_trans={cis_or_trans}, proteomics_or_transcriptomics={proteomics_or_transcriptomics}, comparison={comparison}, tissue_type={tissue_type}, has_event={has_event}.\")\n"
     ]
    },
    {
     "name": "stdout",
     "output_type": "stream",
     "text": [
      "                                                                                \r"
     ]
    },
    {
     "name": "stderr",
     "output_type": "stream",
     "text": [
      "/home/caleb/anaconda3/envs/dev/lib/python3.10/site-packages/cnvutils/chromosome_funcs.py:410: UserWarning: Only one tissue type for cancer_type=brca, source=gistic, level=gene, chromosome=8, arm=q, gain_or_loss=gain, cis_or_trans=cis, proteomics_or_transcriptomics=proteomics, comparison=tumor, tissue_type=None, has_event=True.\n",
      "  warnings.warn(f\"Only one tissue type for cancer_type={cancer_type}, source={source}, level={level}, chromosome={chromosome}, arm={arm}, gain_or_loss={gain_or_loss}, cis_or_trans={cis_or_trans}, proteomics_or_transcriptomics={proteomics_or_transcriptomics}, comparison={comparison}, tissue_type={tissue_type}, has_event={has_event}.\")\n"
     ]
    },
    {
     "name": "stdout",
     "output_type": "stream",
     "text": [
      "                                                                                \r"
     ]
    },
    {
     "name": "stderr",
     "output_type": "stream",
     "text": [
      "/home/caleb/anaconda3/envs/dev/lib/python3.10/site-packages/cnvutils/chromosome_funcs.py:410: UserWarning: Only one tissue type for cancer_type=brca, source=gistic, level=gene, chromosome=8, arm=p, gain_or_loss=loss, cis_or_trans=cis, proteomics_or_transcriptomics=proteomics, comparison=tumor, tissue_type=None, has_event=True.\n",
      "  warnings.warn(f\"Only one tissue type for cancer_type={cancer_type}, source={source}, level={level}, chromosome={chromosome}, arm={arm}, gain_or_loss={gain_or_loss}, cis_or_trans={cis_or_trans}, proteomics_or_transcriptomics={proteomics_or_transcriptomics}, comparison={comparison}, tissue_type={tissue_type}, has_event={has_event}.\")\n",
      "/home/caleb/anaconda3/envs/dev/lib/python3.10/site-packages/cnvutils/chromosome_funcs.py:410: UserWarning: Only one tissue type for cancer_type=brca, source=gistic, level=gene, chromosome=8, arm=p, gain_or_loss=loss, cis_or_trans=cis, proteomics_or_transcriptomics=proteomics, comparison=tumor, tissue_type=None, has_event=False.\n",
      "  warnings.warn(f\"Only one tissue type for cancer_type={cancer_type}, source={source}, level={level}, chromosome={chromosome}, arm={arm}, gain_or_loss={gain_or_loss}, cis_or_trans={cis_or_trans}, proteomics_or_transcriptomics={proteomics_or_transcriptomics}, comparison={comparison}, tissue_type={tissue_type}, has_event={has_event}.\")\n",
      "/home/caleb/anaconda3/envs/dev/lib/python3.10/site-packages/cnvutils/chromosome_funcs.py:410: UserWarning: Only one tissue type for cancer_type=brca, source=gistic, level=gene, chromosome=8, arm=q, gain_or_loss=gain, cis_or_trans=cis, proteomics_or_transcriptomics=proteomics, comparison=tumor, tissue_type=None, has_event=False.\n",
      "  warnings.warn(f\"Only one tissue type for cancer_type={cancer_type}, source={source}, level={level}, chromosome={chromosome}, arm={arm}, gain_or_loss={gain_or_loss}, cis_or_trans={cis_or_trans}, proteomics_or_transcriptomics={proteomics_or_transcriptomics}, comparison={comparison}, tissue_type={tissue_type}, has_event={has_event}.\")\n",
      "/home/caleb/anaconda3/envs/dev/lib/python3.10/site-packages/cnvutils/chromosome_funcs.py:437: UserWarning: Too small sample size for cancer_type=ov, source=gistic, level=gene, chromosome=8, arm=p, gain_or_loss=loss, cis_or_trans=cis, proteomics_or_transcriptomics=proteomics, comparison=tumor, tissue_type=None, has_event=False.\n",
      "  warnings.warn(f\"Too small sample size for cancer_type={cancer_type}, source={source}, level={level}, chromosome={chromosome}, arm={arm}, gain_or_loss={gain_or_loss}, cis_or_trans={cis_or_trans}, proteomics_or_transcriptomics={proteomics_or_transcriptomics}, comparison={comparison}, tissue_type={tissue_type}, has_event={has_event}.\")\n",
      "/home/caleb/anaconda3/envs/dev/lib/python3.10/site-packages/cnvutils/chromosome_funcs.py:437: UserWarning: Too small sample size for cancer_type=ov, source=gistic, level=gene, chromosome=8, arm=q, gain_or_loss=gain, cis_or_trans=cis, proteomics_or_transcriptomics=proteomics, comparison=tumor, tissue_type=None, has_event=True.\n",
      "  warnings.warn(f\"Too small sample size for cancer_type={cancer_type}, source={source}, level={level}, chromosome={chromosome}, arm={arm}, gain_or_loss={gain_or_loss}, cis_or_trans={cis_or_trans}, proteomics_or_transcriptomics={proteomics_or_transcriptomics}, comparison={comparison}, tissue_type={tissue_type}, has_event={has_event}.\")\n"
     ]
    },
    {
     "name": "stdout",
     "output_type": "stream",
     "text": [
      "Running _get_ttest_sig_counts...\n",
      "\n",
      "Running _get_ttest_sig_counts...\n",
      "\n",
      "Running _get_ttest_sig_counts...\n",
      "\n",
      "Running _get_ttest_sig_counts...\n",
      "Running _get_ttest_sig_counts...\n",
      "\n",
      "\n",
      "Running _get_ttest_sig_counts...\n",
      "\n",
      "Running _get_ttest_sig_counts...\n",
      "\n",
      "Running _get_ttest_sig_counts...\n",
      "\n",
      "Running _permute_has_event...\n",
      "Running _permute_has_event...\n",
      "Running _permute_has_event...\n",
      "\n",
      "Running _permute_has_event...\n",
      "\n",
      "\n",
      "\n",
      "Running event_effects_ttest...\n",
      "\n",
      "Running event_effects_ttest.....                              \n",
      "Running event_effects_ttest...\n",
      "\n",
      "Running event_effects_ttest.....                              \n",
      "Running event_effects_ttest...\n",
      "\n",
      "\n",
      "Running event_effects_ttest...\n",
      "Loading brca proteomics (1/6)...                              \n",
      "\n",
      "Loading brca proteomics (1/6)...                              Running event_effects_ttest...\n",
      "\n",
      "Running event_effects_ttest...\n",
      "Loading brca proteomics (1/7)...                              Loading brca proteomics (1/7)...                              Loading brca proteomics (1/7)...                              \n",
      "                                                                                omics (2/7)...                              Loading coad proteomics (2/6)...                              Loading hnscc proteomics (3/7)...                              Loading hnscc proteomics (3/7)...                              Loading lscc proteomics (4/7)...                              Loading lscc proteomics (4/6)...                              Loading luad proteomics (5/7)...                              Loading luad proteomics (5/6)...                              Loading ov proteomics (6/7)...                              Loading ov proteomics (6/7)...                              \r"
     ]
    },
    {
     "name": "stderr",
     "output_type": "stream",
     "text": [
      "/home/caleb/anaconda3/envs/dev/lib/python3.10/site-packages/cnvutils/chromosome_funcs.py:410: UserWarning: Only one tissue type for cancer_type=brca, source=cptac, level=None, chromosome=8, arm=q, gain_or_loss=gain, cis_or_trans=cis, proteomics_or_transcriptomics=proteomics, comparison=tumor, tissue_type=None, has_event=False.\n",
      "  warnings.warn(f\"Only one tissue type for cancer_type={cancer_type}, source={source}, level={level}, chromosome={chromosome}, arm={arm}, gain_or_loss={gain_or_loss}, cis_or_trans={cis_or_trans}, proteomics_or_transcriptomics={proteomics_or_transcriptomics}, comparison={comparison}, tissue_type={tissue_type}, has_event={has_event}.\")\n",
      "/home/caleb/anaconda3/envs/dev/lib/python3.10/site-packages/cnvutils/chromosome_funcs.py:410: UserWarning: Only one tissue type for cancer_type=brca, source=cptac, level=None, chromosome=8, arm=q, gain_or_loss=gain, cis_or_trans=cis, proteomics_or_transcriptomics=proteomics, comparison=tumor, tissue_type=None, has_event=True.\n",
      "  warnings.warn(f\"Only one tissue type for cancer_type={cancer_type}, source={source}, level={level}, chromosome={chromosome}, arm={arm}, gain_or_loss={gain_or_loss}, cis_or_trans={cis_or_trans}, proteomics_or_transcriptomics={proteomics_or_transcriptomics}, comparison={comparison}, tissue_type={tissue_type}, has_event={has_event}.\")\n",
      "/home/caleb/anaconda3/envs/dev/lib/python3.10/site-packages/cnvutils/chromosome_funcs.py:410: UserWarning: Only one tissue type for cancer_type=brca, source=cptac, level=None, chromosome=8, arm=p, gain_or_loss=loss, cis_or_trans=cis, proteomics_or_transcriptomics=proteomics, comparison=tumor, tissue_type=None, has_event=False.\n",
      "  warnings.warn(f\"Only one tissue type for cancer_type={cancer_type}, source={source}, level={level}, chromosome={chromosome}, arm={arm}, gain_or_loss={gain_or_loss}, cis_or_trans={cis_or_trans}, proteomics_or_transcriptomics={proteomics_or_transcriptomics}, comparison={comparison}, tissue_type={tissue_type}, has_event={has_event}.\")\n",
      "/home/caleb/anaconda3/envs/dev/lib/python3.10/site-packages/cnvutils/chromosome_funcs.py:410: UserWarning: Only one tissue type for cancer_type=brca, source=cptac, level=None, chromosome=8, arm=p, gain_or_loss=loss, cis_or_trans=cis, proteomics_or_transcriptomics=proteomics, comparison=tumor, tissue_type=None, has_event=True.\n",
      "  warnings.warn(f\"Only one tissue type for cancer_type={cancer_type}, source={source}, level={level}, chromosome={chromosome}, arm={arm}, gain_or_loss={gain_or_loss}, cis_or_trans={cis_or_trans}, proteomics_or_transcriptomics={proteomics_or_transcriptomics}, comparison={comparison}, tissue_type={tissue_type}, has_event={has_event}.\")\n",
      "/home/caleb/anaconda3/envs/dev/lib/python3.10/site-packages/cnvutils/chromosome_funcs.py:437: UserWarning: Too small sample size for cancer_type=ov, source=cptac, level=None, chromosome=8, arm=p, gain_or_loss=loss, cis_or_trans=cis, proteomics_or_transcriptomics=proteomics, comparison=tumor, tissue_type=None, has_event=True.\n",
      "  warnings.warn(f\"Too small sample size for cancer_type={cancer_type}, source={source}, level={level}, chromosome={chromosome}, arm={arm}, gain_or_loss={gain_or_loss}, cis_or_trans={cis_or_trans}, proteomics_or_transcriptomics={proteomics_or_transcriptomics}, comparison={comparison}, tissue_type={tissue_type}, has_event={has_event}.\")\n"
     ]
    },
    {
     "name": "stdout",
     "output_type": "stream",
     "text": [
      "                                                                                \r"
     ]
    },
    {
     "name": "stderr",
     "output_type": "stream",
     "text": [
      "/home/caleb/anaconda3/envs/dev/lib/python3.10/site-packages/cnvutils/chromosome_funcs.py:437: UserWarning: Too small sample size for cancer_type=ov, source=cptac, level=None, chromosome=8, arm=q, gain_or_loss=gain, cis_or_trans=cis, proteomics_or_transcriptomics=proteomics, comparison=tumor, tissue_type=None, has_event=True.\n",
      "  warnings.warn(f\"Too small sample size for cancer_type={cancer_type}, source={source}, level={level}, chromosome={chromosome}, arm={arm}, gain_or_loss={gain_or_loss}, cis_or_trans={cis_or_trans}, proteomics_or_transcriptomics={proteomics_or_transcriptomics}, comparison={comparison}, tissue_type={tissue_type}, has_event={has_event}.\")\n"
     ]
    },
    {
     "name": "stdout",
     "output_type": "stream",
     "text": [
      "                                                                                \r"
     ]
    },
    {
     "name": "stderr",
     "output_type": "stream",
     "text": [
      "/home/caleb/anaconda3/envs/dev/lib/python3.10/site-packages/cnvutils/chromosome_funcs.py:410: UserWarning: Only one tissue type for cancer_type=brca, source=gistic, level=gene, chromosome=8, arm=q, gain_or_loss=gain, cis_or_trans=cis, proteomics_or_transcriptomics=proteomics, comparison=tumor, tissue_type=None, has_event=True.\n",
      "  warnings.warn(f\"Only one tissue type for cancer_type={cancer_type}, source={source}, level={level}, chromosome={chromosome}, arm={arm}, gain_or_loss={gain_or_loss}, cis_or_trans={cis_or_trans}, proteomics_or_transcriptomics={proteomics_or_transcriptomics}, comparison={comparison}, tissue_type={tissue_type}, has_event={has_event}.\")\n",
      "/home/caleb/anaconda3/envs/dev/lib/python3.10/site-packages/cnvutils/chromosome_funcs.py:410: UserWarning: Only one tissue type for cancer_type=brca, source=gistic, level=gene, chromosome=8, arm=p, gain_or_loss=loss, cis_or_trans=cis, proteomics_or_transcriptomics=proteomics, comparison=tumor, tissue_type=None, has_event=False.\n",
      "  warnings.warn(f\"Only one tissue type for cancer_type={cancer_type}, source={source}, level={level}, chromosome={chromosome}, arm={arm}, gain_or_loss={gain_or_loss}, cis_or_trans={cis_or_trans}, proteomics_or_transcriptomics={proteomics_or_transcriptomics}, comparison={comparison}, tissue_type={tissue_type}, has_event={has_event}.\")\n",
      "/home/caleb/anaconda3/envs/dev/lib/python3.10/site-packages/cnvutils/chromosome_funcs.py:410: UserWarning: Only one tissue type for cancer_type=brca, source=gistic, level=gene, chromosome=8, arm=q, gain_or_loss=gain, cis_or_trans=cis, proteomics_or_transcriptomics=proteomics, comparison=tumor, tissue_type=None, has_event=False.\n",
      "  warnings.warn(f\"Only one tissue type for cancer_type={cancer_type}, source={source}, level={level}, chromosome={chromosome}, arm={arm}, gain_or_loss={gain_or_loss}, cis_or_trans={cis_or_trans}, proteomics_or_transcriptomics={proteomics_or_transcriptomics}, comparison={comparison}, tissue_type={tissue_type}, has_event={has_event}.\")\n",
      "/home/caleb/anaconda3/envs/dev/lib/python3.10/site-packages/cnvutils/chromosome_funcs.py:410: UserWarning: Only one tissue type for cancer_type=brca, source=gistic, level=gene, chromosome=8, arm=p, gain_or_loss=loss, cis_or_trans=cis, proteomics_or_transcriptomics=proteomics, comparison=tumor, tissue_type=None, has_event=True.\n",
      "  warnings.warn(f\"Only one tissue type for cancer_type={cancer_type}, source={source}, level={level}, chromosome={chromosome}, arm={arm}, gain_or_loss={gain_or_loss}, cis_or_trans={cis_or_trans}, proteomics_or_transcriptomics={proteomics_or_transcriptomics}, comparison={comparison}, tissue_type={tissue_type}, has_event={has_event}.\")\n",
      "/home/caleb/anaconda3/envs/dev/lib/python3.10/site-packages/cnvutils/chromosome_funcs.py:437: UserWarning: Too small sample size for cancer_type=ov, source=gistic, level=gene, chromosome=8, arm=q, gain_or_loss=gain, cis_or_trans=cis, proteomics_or_transcriptomics=proteomics, comparison=tumor, tissue_type=None, has_event=True.\n",
      "  warnings.warn(f\"Too small sample size for cancer_type={cancer_type}, source={source}, level={level}, chromosome={chromosome}, arm={arm}, gain_or_loss={gain_or_loss}, cis_or_trans={cis_or_trans}, proteomics_or_transcriptomics={proteomics_or_transcriptomics}, comparison={comparison}, tissue_type={tissue_type}, has_event={has_event}.\")\n"
     ]
    },
    {
     "name": "stdout",
     "output_type": "stream",
     "text": [
      "Running _get_ttest_sig_counts...\n",
      "\n",
      "Running _get_ttest_sig_counts...\n",
      "\n",
      "Running _get_ttest_sig_counts...\n",
      "\n",
      "Running _get_ttest_sig_counts...\n",
      "\n",
      "Running _get_ttest_sig_counts...\n",
      "\n",
      "Running _get_ttest_sig_counts...\n",
      "\n",
      "Running _get_ttest_sig_counts...\n",
      "\n",
      "Running _get_ttest_sig_counts...\n",
      "\n",
      "Running _permute_has_event...\n",
      "Running _permute_has_event...\n",
      "Running _permute_has_event...\n",
      "Running _permute_has_event...\n",
      "\n",
      "\n",
      "\n",
      "\n",
      "Running event_effects_ttest...\n",
      "Running event_effects_ttest...\n",
      "\n",
      "Running event_effects_ttest...\n",
      "\n",
      "Running event_effects_ttest...\n",
      "Loading brca proteomics (1/6)...                              Loading brca proteomics (1/6)...                              \n",
      "\n",
      "Running event_effects_ttest...\n",
      "Loading brca proteomics (1/6)...                              Running event_effects_ttest...\n",
      "\n",
      "Running event_effects_ttest...\n",
      "\n",
      "Loading brca proteomics (1/6)...                              Loading brca proteomics (1/7)...                              \n",
      "Loading brca proteomics (1/7)...                              Running event_effects_ttest...\n",
      "Loading brca proteomics (1/7)...                              \n",
      "                                                                                omics (2/6)...                              Loading coad proteomics (2/6)...                              Loading coad proteomics (2/7)...                              Loading hnscc proteomics (3/7)...                              Loading hnscc proteomics (3/7)...                              Loading lscc proteomics (4/6)...                              Loading lscc proteomics (4/7)...                              Loading luad proteomics (5/6)...                              Loading luad proteomics (5/6)...                              \r"
     ]
    },
    {
     "name": "stderr",
     "output_type": "stream",
     "text": [
      "/home/caleb/anaconda3/envs/dev/lib/python3.10/site-packages/cnvutils/chromosome_funcs.py:410: UserWarning: Only one tissue type for cancer_type=brca, source=cptac, level=None, chromosome=8, arm=p, gain_or_loss=loss, cis_or_trans=cis, proteomics_or_transcriptomics=proteomics, comparison=tumor, tissue_type=None, has_event=True.\n",
      "  warnings.warn(f\"Only one tissue type for cancer_type={cancer_type}, source={source}, level={level}, chromosome={chromosome}, arm={arm}, gain_or_loss={gain_or_loss}, cis_or_trans={cis_or_trans}, proteomics_or_transcriptomics={proteomics_or_transcriptomics}, comparison={comparison}, tissue_type={tissue_type}, has_event={has_event}.\")\n"
     ]
    },
    {
     "name": "stdout",
     "output_type": "stream",
     "text": [
      "Loading pdac proteomics (7/7)...                              \r"
     ]
    },
    {
     "name": "stderr",
     "output_type": "stream",
     "text": [
      "/home/caleb/anaconda3/envs/dev/lib/python3.10/site-packages/cnvutils/chromosome_funcs.py:410: UserWarning: Only one tissue type for cancer_type=brca, source=cptac, level=None, chromosome=8, arm=p, gain_or_loss=loss, cis_or_trans=cis, proteomics_or_transcriptomics=proteomics, comparison=tumor, tissue_type=None, has_event=False.\n",
      "  warnings.warn(f\"Only one tissue type for cancer_type={cancer_type}, source={source}, level={level}, chromosome={chromosome}, arm={arm}, gain_or_loss={gain_or_loss}, cis_or_trans={cis_or_trans}, proteomics_or_transcriptomics={proteomics_or_transcriptomics}, comparison={comparison}, tissue_type={tissue_type}, has_event={has_event}.\")\n",
      "/home/caleb/anaconda3/envs/dev/lib/python3.10/site-packages/cnvutils/chromosome_funcs.py:410: UserWarning: Only one tissue type for cancer_type=brca, source=cptac, level=None, chromosome=8, arm=q, gain_or_loss=gain, cis_or_trans=cis, proteomics_or_transcriptomics=proteomics, comparison=tumor, tissue_type=None, has_event=True.\n",
      "  warnings.warn(f\"Only one tissue type for cancer_type={cancer_type}, source={source}, level={level}, chromosome={chromosome}, arm={arm}, gain_or_loss={gain_or_loss}, cis_or_trans={cis_or_trans}, proteomics_or_transcriptomics={proteomics_or_transcriptomics}, comparison={comparison}, tissue_type={tissue_type}, has_event={has_event}.\")\n",
      "/home/caleb/anaconda3/envs/dev/lib/python3.10/site-packages/cnvutils/chromosome_funcs.py:410: UserWarning: Only one tissue type for cancer_type=brca, source=cptac, level=None, chromosome=8, arm=q, gain_or_loss=gain, cis_or_trans=cis, proteomics_or_transcriptomics=proteomics, comparison=tumor, tissue_type=None, has_event=False.\n",
      "  warnings.warn(f\"Only one tissue type for cancer_type={cancer_type}, source={source}, level={level}, chromosome={chromosome}, arm={arm}, gain_or_loss={gain_or_loss}, cis_or_trans={cis_or_trans}, proteomics_or_transcriptomics={proteomics_or_transcriptomics}, comparison={comparison}, tissue_type={tissue_type}, has_event={has_event}.\")\n",
      "/home/caleb/anaconda3/envs/dev/lib/python3.10/site-packages/cnvutils/chromosome_funcs.py:437: UserWarning: Too small sample size for cancer_type=ov, source=cptac, level=None, chromosome=8, arm=p, gain_or_loss=loss, cis_or_trans=cis, proteomics_or_transcriptomics=proteomics, comparison=tumor, tissue_type=None, has_event=True.\n",
      "  warnings.warn(f\"Too small sample size for cancer_type={cancer_type}, source={source}, level={level}, chromosome={chromosome}, arm={arm}, gain_or_loss={gain_or_loss}, cis_or_trans={cis_or_trans}, proteomics_or_transcriptomics={proteomics_or_transcriptomics}, comparison={comparison}, tissue_type={tissue_type}, has_event={has_event}.\")\n"
     ]
    },
    {
     "name": "stdout",
     "output_type": "stream",
     "text": [
      "                                                                                \r"
     ]
    },
    {
     "name": "stderr",
     "output_type": "stream",
     "text": [
      "/home/caleb/anaconda3/envs/dev/lib/python3.10/site-packages/cnvutils/chromosome_funcs.py:410: UserWarning: Only one tissue type for cancer_type=brca, source=gistic, level=gene, chromosome=8, arm=p, gain_or_loss=loss, cis_or_trans=cis, proteomics_or_transcriptomics=proteomics, comparison=tumor, tissue_type=None, has_event=True.\n",
      "  warnings.warn(f\"Only one tissue type for cancer_type={cancer_type}, source={source}, level={level}, chromosome={chromosome}, arm={arm}, gain_or_loss={gain_or_loss}, cis_or_trans={cis_or_trans}, proteomics_or_transcriptomics={proteomics_or_transcriptomics}, comparison={comparison}, tissue_type={tissue_type}, has_event={has_event}.\")\n",
      "/home/caleb/anaconda3/envs/dev/lib/python3.10/site-packages/cnvutils/chromosome_funcs.py:410: UserWarning: Only one tissue type for cancer_type=brca, source=gistic, level=gene, chromosome=8, arm=q, gain_or_loss=gain, cis_or_trans=cis, proteomics_or_transcriptomics=proteomics, comparison=tumor, tissue_type=None, has_event=True.\n",
      "  warnings.warn(f\"Only one tissue type for cancer_type={cancer_type}, source={source}, level={level}, chromosome={chromosome}, arm={arm}, gain_or_loss={gain_or_loss}, cis_or_trans={cis_or_trans}, proteomics_or_transcriptomics={proteomics_or_transcriptomics}, comparison={comparison}, tissue_type={tissue_type}, has_event={has_event}.\")\n"
     ]
    },
    {
     "name": "stdout",
     "output_type": "stream",
     "text": [
      "                                                                                \r"
     ]
    },
    {
     "name": "stderr",
     "output_type": "stream",
     "text": [
      "/home/caleb/anaconda3/envs/dev/lib/python3.10/site-packages/cnvutils/chromosome_funcs.py:410: UserWarning: Only one tissue type for cancer_type=brca, source=gistic, level=gene, chromosome=8, arm=q, gain_or_loss=gain, cis_or_trans=cis, proteomics_or_transcriptomics=proteomics, comparison=tumor, tissue_type=None, has_event=False.\n",
      "  warnings.warn(f\"Only one tissue type for cancer_type={cancer_type}, source={source}, level={level}, chromosome={chromosome}, arm={arm}, gain_or_loss={gain_or_loss}, cis_or_trans={cis_or_trans}, proteomics_or_transcriptomics={proteomics_or_transcriptomics}, comparison={comparison}, tissue_type={tissue_type}, has_event={has_event}.\")\n",
      "/home/caleb/anaconda3/envs/dev/lib/python3.10/site-packages/cnvutils/chromosome_funcs.py:410: UserWarning: Only one tissue type for cancer_type=brca, source=gistic, level=gene, chromosome=8, arm=p, gain_or_loss=loss, cis_or_trans=cis, proteomics_or_transcriptomics=proteomics, comparison=tumor, tissue_type=None, has_event=False.\n",
      "  warnings.warn(f\"Only one tissue type for cancer_type={cancer_type}, source={source}, level={level}, chromosome={chromosome}, arm={arm}, gain_or_loss={gain_or_loss}, cis_or_trans={cis_or_trans}, proteomics_or_transcriptomics={proteomics_or_transcriptomics}, comparison={comparison}, tissue_type={tissue_type}, has_event={has_event}.\")\n"
     ]
    },
    {
     "name": "stdout",
     "output_type": "stream",
     "text": [
      "Running _get_ttest_sig_counts...\n",
      "\n",
      "Running _get_ttest_sig_counts...\n",
      "\n",
      "\n",
      "Running _get_ttest_sig_counts...\n",
      "Running _get_ttest_sig_counts...\n",
      "\n",
      "Running _get_ttest_sig_counts...\n",
      "\n",
      "Running _get_ttest_sig_counts...\n",
      "\n",
      "Running _get_ttest_sig_counts...\n",
      "\n",
      "Running _get_ttest_sig_counts...\n",
      "\n",
      "Running _permute_has_event...\n",
      "Running _permute_has_event...\n",
      "Running _permute_has_event...\n",
      "Running _permute_has_event...\n",
      "\n",
      "\n",
      "\n",
      "\n",
      "Running event_effects_ttest...\n",
      "Running event_effects_ttest...\n",
      "\n",
      "\n",
      "Running event_effects_ttest.....                              Loading brca proteomics (1/6)...                              \n",
      "Running event_effects_ttest...\n",
      "Running event_effects_ttest...\n",
      "Running event_effects_ttest...\n",
      "\n",
      "\n",
      "Loading brca proteomics (1/7)...                              \n",
      "Running event_effects_ttest...\n",
      "Loading brca proteomics (1/6)...                              Loading brca proteomics (1/7)...                              \n",
      "\n",
      "Running event_effects_ttest.....                              \n",
      "\n",
      "                                                                                omics (2/6)...                              Loading coad proteomics (2/7)...                              Loading hnscc proteomics (3/6)...                              Loading hnscc proteomics (3/7)...                              Loading hnscc proteomics (3/6)...                              Loading lscc proteomics (4/6)...                              Loading lscc proteomics (4/6)...                              Loading luad proteomics (5/6)...                              Loading luad proteomics (5/7)...                              Loading luad proteomics (5/6)...                              Loading luad proteomics (5/7)...                              Loading pdac proteomics (7/7)...                                                                                                              "
     ]
    },
    {
     "name": "stderr",
     "output_type": "stream",
     "text": [
      "/home/caleb/anaconda3/envs/dev/lib/python3.10/site-packages/cnvutils/chromosome_funcs.py:410: UserWarning: Only one tissue type for cancer_type=brca, source=cptac, level=None, chromosome=8, arm=q, gain_or_loss=gain, cis_or_trans=cis, proteomics_or_transcriptomics=proteomics, comparison=tumor, tissue_type=None, has_event=False.\n",
      "  warnings.warn(f\"Only one tissue type for cancer_type={cancer_type}, source={source}, level={level}, chromosome={chromosome}, arm={arm}, gain_or_loss={gain_or_loss}, cis_or_trans={cis_or_trans}, proteomics_or_transcriptomics={proteomics_or_transcriptomics}, comparison={comparison}, tissue_type={tissue_type}, has_event={has_event}.\")\n"
     ]
    },
    {
     "name": "stdout",
     "output_type": "stream",
     "text": [
      "Loading pdac proteomics (7/7)...                              \r"
     ]
    },
    {
     "name": "stderr",
     "output_type": "stream",
     "text": [
      "/home/caleb/anaconda3/envs/dev/lib/python3.10/site-packages/cnvutils/chromosome_funcs.py:410: UserWarning: Only one tissue type for cancer_type=brca, source=cptac, level=None, chromosome=8, arm=q, gain_or_loss=gain, cis_or_trans=cis, proteomics_or_transcriptomics=proteomics, comparison=tumor, tissue_type=None, has_event=True.\n",
      "  warnings.warn(f\"Only one tissue type for cancer_type={cancer_type}, source={source}, level={level}, chromosome={chromosome}, arm={arm}, gain_or_loss={gain_or_loss}, cis_or_trans={cis_or_trans}, proteomics_or_transcriptomics={proteomics_or_transcriptomics}, comparison={comparison}, tissue_type={tissue_type}, has_event={has_event}.\")\n",
      "/home/caleb/anaconda3/envs/dev/lib/python3.10/site-packages/cnvutils/chromosome_funcs.py:410: UserWarning: Only one tissue type for cancer_type=brca, source=cptac, level=None, chromosome=8, arm=p, gain_or_loss=loss, cis_or_trans=cis, proteomics_or_transcriptomics=proteomics, comparison=tumor, tissue_type=None, has_event=True.\n",
      "  warnings.warn(f\"Only one tissue type for cancer_type={cancer_type}, source={source}, level={level}, chromosome={chromosome}, arm={arm}, gain_or_loss={gain_or_loss}, cis_or_trans={cis_or_trans}, proteomics_or_transcriptomics={proteomics_or_transcriptomics}, comparison={comparison}, tissue_type={tissue_type}, has_event={has_event}.\")\n",
      "/home/caleb/anaconda3/envs/dev/lib/python3.10/site-packages/cnvutils/chromosome_funcs.py:410: UserWarning: Only one tissue type for cancer_type=brca, source=cptac, level=None, chromosome=8, arm=p, gain_or_loss=loss, cis_or_trans=cis, proteomics_or_transcriptomics=proteomics, comparison=tumor, tissue_type=None, has_event=False.\n",
      "  warnings.warn(f\"Only one tissue type for cancer_type={cancer_type}, source={source}, level={level}, chromosome={chromosome}, arm={arm}, gain_or_loss={gain_or_loss}, cis_or_trans={cis_or_trans}, proteomics_or_transcriptomics={proteomics_or_transcriptomics}, comparison={comparison}, tissue_type={tissue_type}, has_event={has_event}.\")\n",
      "/home/caleb/anaconda3/envs/dev/lib/python3.10/site-packages/cnvutils/chromosome_funcs.py:437: UserWarning: Too small sample size for cancer_type=ov, source=cptac, level=None, chromosome=8, arm=p, gain_or_loss=loss, cis_or_trans=cis, proteomics_or_transcriptomics=proteomics, comparison=tumor, tissue_type=None, has_event=True.\n",
      "  warnings.warn(f\"Too small sample size for cancer_type={cancer_type}, source={source}, level={level}, chromosome={chromosome}, arm={arm}, gain_or_loss={gain_or_loss}, cis_or_trans={cis_or_trans}, proteomics_or_transcriptomics={proteomics_or_transcriptomics}, comparison={comparison}, tissue_type={tissue_type}, has_event={has_event}.\")\n"
     ]
    },
    {
     "name": "stdout",
     "output_type": "stream",
     "text": [
      "                                                                                \r"
     ]
    },
    {
     "name": "stderr",
     "output_type": "stream",
     "text": [
      "/home/caleb/anaconda3/envs/dev/lib/python3.10/site-packages/cnvutils/chromosome_funcs.py:410: UserWarning: Only one tissue type for cancer_type=brca, source=gistic, level=gene, chromosome=8, arm=p, gain_or_loss=loss, cis_or_trans=cis, proteomics_or_transcriptomics=proteomics, comparison=tumor, tissue_type=None, has_event=False.\n",
      "  warnings.warn(f\"Only one tissue type for cancer_type={cancer_type}, source={source}, level={level}, chromosome={chromosome}, arm={arm}, gain_or_loss={gain_or_loss}, cis_or_trans={cis_or_trans}, proteomics_or_transcriptomics={proteomics_or_transcriptomics}, comparison={comparison}, tissue_type={tissue_type}, has_event={has_event}.\")\n"
     ]
    },
    {
     "name": "stdout",
     "output_type": "stream",
     "text": [
      "                                                                                \r"
     ]
    },
    {
     "name": "stderr",
     "output_type": "stream",
     "text": [
      "/home/caleb/anaconda3/envs/dev/lib/python3.10/site-packages/cnvutils/chromosome_funcs.py:410: UserWarning: Only one tissue type for cancer_type=brca, source=gistic, level=gene, chromosome=8, arm=q, gain_or_loss=gain, cis_or_trans=cis, proteomics_or_transcriptomics=proteomics, comparison=tumor, tissue_type=None, has_event=True.\n",
      "  warnings.warn(f\"Only one tissue type for cancer_type={cancer_type}, source={source}, level={level}, chromosome={chromosome}, arm={arm}, gain_or_loss={gain_or_loss}, cis_or_trans={cis_or_trans}, proteomics_or_transcriptomics={proteomics_or_transcriptomics}, comparison={comparison}, tissue_type={tissue_type}, has_event={has_event}.\")\n",
      "/home/caleb/anaconda3/envs/dev/lib/python3.10/site-packages/cnvutils/chromosome_funcs.py:410: UserWarning: Only one tissue type for cancer_type=brca, source=gistic, level=gene, chromosome=8, arm=p, gain_or_loss=loss, cis_or_trans=cis, proteomics_or_transcriptomics=proteomics, comparison=tumor, tissue_type=None, has_event=True.\n",
      "  warnings.warn(f\"Only one tissue type for cancer_type={cancer_type}, source={source}, level={level}, chromosome={chromosome}, arm={arm}, gain_or_loss={gain_or_loss}, cis_or_trans={cis_or_trans}, proteomics_or_transcriptomics={proteomics_or_transcriptomics}, comparison={comparison}, tissue_type={tissue_type}, has_event={has_event}.\")\n",
      "/home/caleb/anaconda3/envs/dev/lib/python3.10/site-packages/cnvutils/chromosome_funcs.py:410: UserWarning: Only one tissue type for cancer_type=brca, source=gistic, level=gene, chromosome=8, arm=q, gain_or_loss=gain, cis_or_trans=cis, proteomics_or_transcriptomics=proteomics, comparison=tumor, tissue_type=None, has_event=False.\n",
      "  warnings.warn(f\"Only one tissue type for cancer_type={cancer_type}, source={source}, level={level}, chromosome={chromosome}, arm={arm}, gain_or_loss={gain_or_loss}, cis_or_trans={cis_or_trans}, proteomics_or_transcriptomics={proteomics_or_transcriptomics}, comparison={comparison}, tissue_type={tissue_type}, has_event={has_event}.\")\n"
     ]
    },
    {
     "name": "stdout",
     "output_type": "stream",
     "text": [
      "Running _get_ttest_sig_counts...\n",
      "\n",
      "Running _get_ttest_sig_counts...\n",
      "\n",
      "Running _get_ttest_sig_counts...\n",
      "\n",
      "Running _get_ttest_sig_counts...\n",
      "\n",
      "Running _get_ttest_sig_counts...\n",
      "\n",
      "Running _get_ttest_sig_counts...\n",
      "\n",
      "Running _get_ttest_sig_counts...\n",
      "\n",
      "Running _get_ttest_sig_counts...\n",
      "\n",
      "Running _permute_has_event...\n",
      "Running _permute_has_event...\n",
      "Running _permute_has_event...\n",
      "Running _permute_has_event...\n",
      "\n",
      "\n",
      "\n",
      "\n",
      "Running event_effects_ttest...\n",
      "\n",
      "Running event_effects_ttest...\n",
      "Loading brca proteomics (1/6)...                              \n",
      "Running event_effects_ttest...\n",
      "Running event_effects_ttest...\n",
      "\n",
      "Running event_effects_ttest...\n",
      "Loading brca proteomics (1/6)...                              \n",
      "Loading brca proteomics (1/7)...                              \n",
      "Running event_effects_ttest...\n",
      "Loading brca proteomics (1/6)...                              \n",
      "Running event_effects_ttest...\n",
      "\n",
      "Running event_effects_ttest.....                              \n",
      "\n",
      "                                                                                omics (2/7)...                              Loading coad proteomics (2/6)...                              Loading hnscc proteomics (3/7)...                              Loading hnscc proteomics (3/6)...                              Loading ov proteomics (6/6)...                              Loading ov proteomics (6/7)...                                                                                                              Loading pdac proteomics (7/7)...                              \r"
     ]
    },
    {
     "name": "stderr",
     "output_type": "stream",
     "text": [
      "/home/caleb/anaconda3/envs/dev/lib/python3.10/site-packages/cnvutils/chromosome_funcs.py:410: UserWarning: Only one tissue type for cancer_type=brca, source=cptac, level=None, chromosome=8, arm=q, gain_or_loss=gain, cis_or_trans=cis, proteomics_or_transcriptomics=proteomics, comparison=tumor, tissue_type=None, has_event=True.\n",
      "  warnings.warn(f\"Only one tissue type for cancer_type={cancer_type}, source={source}, level={level}, chromosome={chromosome}, arm={arm}, gain_or_loss={gain_or_loss}, cis_or_trans={cis_or_trans}, proteomics_or_transcriptomics={proteomics_or_transcriptomics}, comparison={comparison}, tissue_type={tissue_type}, has_event={has_event}.\")\n",
      "/home/caleb/anaconda3/envs/dev/lib/python3.10/site-packages/cnvutils/chromosome_funcs.py:410: UserWarning: Only one tissue type for cancer_type=brca, source=cptac, level=None, chromosome=8, arm=p, gain_or_loss=loss, cis_or_trans=cis, proteomics_or_transcriptomics=proteomics, comparison=tumor, tissue_type=None, has_event=True.\n",
      "  warnings.warn(f\"Only one tissue type for cancer_type={cancer_type}, source={source}, level={level}, chromosome={chromosome}, arm={arm}, gain_or_loss={gain_or_loss}, cis_or_trans={cis_or_trans}, proteomics_or_transcriptomics={proteomics_or_transcriptomics}, comparison={comparison}, tissue_type={tissue_type}, has_event={has_event}.\")\n",
      "/home/caleb/anaconda3/envs/dev/lib/python3.10/site-packages/cnvutils/chromosome_funcs.py:410: UserWarning: Only one tissue type for cancer_type=brca, source=cptac, level=None, chromosome=8, arm=p, gain_or_loss=loss, cis_or_trans=cis, proteomics_or_transcriptomics=proteomics, comparison=tumor, tissue_type=None, has_event=False.\n",
      "  warnings.warn(f\"Only one tissue type for cancer_type={cancer_type}, source={source}, level={level}, chromosome={chromosome}, arm={arm}, gain_or_loss={gain_or_loss}, cis_or_trans={cis_or_trans}, proteomics_or_transcriptomics={proteomics_or_transcriptomics}, comparison={comparison}, tissue_type={tissue_type}, has_event={has_event}.\")\n",
      "/home/caleb/anaconda3/envs/dev/lib/python3.10/site-packages/cnvutils/chromosome_funcs.py:410: UserWarning: Only one tissue type for cancer_type=brca, source=cptac, level=None, chromosome=8, arm=q, gain_or_loss=gain, cis_or_trans=cis, proteomics_or_transcriptomics=proteomics, comparison=tumor, tissue_type=None, has_event=False.\n",
      "  warnings.warn(f\"Only one tissue type for cancer_type={cancer_type}, source={source}, level={level}, chromosome={chromosome}, arm={arm}, gain_or_loss={gain_or_loss}, cis_or_trans={cis_or_trans}, proteomics_or_transcriptomics={proteomics_or_transcriptomics}, comparison={comparison}, tissue_type={tissue_type}, has_event={has_event}.\")\n"
     ]
    },
    {
     "name": "stdout",
     "output_type": "stream",
     "text": [
      "                                                                                \r"
     ]
    },
    {
     "name": "stderr",
     "output_type": "stream",
     "text": [
      "/home/caleb/anaconda3/envs/dev/lib/python3.10/site-packages/cnvutils/chromosome_funcs.py:410: UserWarning: Only one tissue type for cancer_type=brca, source=gistic, level=gene, chromosome=8, arm=p, gain_or_loss=loss, cis_or_trans=cis, proteomics_or_transcriptomics=proteomics, comparison=tumor, tissue_type=None, has_event=False.\n",
      "  warnings.warn(f\"Only one tissue type for cancer_type={cancer_type}, source={source}, level={level}, chromosome={chromosome}, arm={arm}, gain_or_loss={gain_or_loss}, cis_or_trans={cis_or_trans}, proteomics_or_transcriptomics={proteomics_or_transcriptomics}, comparison={comparison}, tissue_type={tissue_type}, has_event={has_event}.\")\n",
      "/home/caleb/anaconda3/envs/dev/lib/python3.10/site-packages/cnvutils/chromosome_funcs.py:410: UserWarning: Only one tissue type for cancer_type=brca, source=gistic, level=gene, chromosome=8, arm=q, gain_or_loss=gain, cis_or_trans=cis, proteomics_or_transcriptomics=proteomics, comparison=tumor, tissue_type=None, has_event=True.\n",
      "  warnings.warn(f\"Only one tissue type for cancer_type={cancer_type}, source={source}, level={level}, chromosome={chromosome}, arm={arm}, gain_or_loss={gain_or_loss}, cis_or_trans={cis_or_trans}, proteomics_or_transcriptomics={proteomics_or_transcriptomics}, comparison={comparison}, tissue_type={tissue_type}, has_event={has_event}.\")\n",
      "/home/caleb/anaconda3/envs/dev/lib/python3.10/site-packages/cnvutils/chromosome_funcs.py:410: UserWarning: Only one tissue type for cancer_type=brca, source=gistic, level=gene, chromosome=8, arm=p, gain_or_loss=loss, cis_or_trans=cis, proteomics_or_transcriptomics=proteomics, comparison=tumor, tissue_type=None, has_event=True.\n",
      "  warnings.warn(f\"Only one tissue type for cancer_type={cancer_type}, source={source}, level={level}, chromosome={chromosome}, arm={arm}, gain_or_loss={gain_or_loss}, cis_or_trans={cis_or_trans}, proteomics_or_transcriptomics={proteomics_or_transcriptomics}, comparison={comparison}, tissue_type={tissue_type}, has_event={has_event}.\")\n",
      "/home/caleb/anaconda3/envs/dev/lib/python3.10/site-packages/cnvutils/chromosome_funcs.py:410: UserWarning: Only one tissue type for cancer_type=brca, source=gistic, level=gene, chromosome=8, arm=q, gain_or_loss=gain, cis_or_trans=cis, proteomics_or_transcriptomics=proteomics, comparison=tumor, tissue_type=None, has_event=False.\n",
      "  warnings.warn(f\"Only one tissue type for cancer_type={cancer_type}, source={source}, level={level}, chromosome={chromosome}, arm={arm}, gain_or_loss={gain_or_loss}, cis_or_trans={cis_or_trans}, proteomics_or_transcriptomics={proteomics_or_transcriptomics}, comparison={comparison}, tissue_type={tissue_type}, has_event={has_event}.\")\n"
     ]
    },
    {
     "name": "stdout",
     "output_type": "stream",
     "text": [
      "Running _get_ttest_sig_counts...\n",
      "\n",
      "Running _get_ttest_sig_counts...\n",
      "\n",
      "Running _get_ttest_sig_counts...\n",
      "\n",
      "Running _get_ttest_sig_counts...\n",
      "\n",
      "Running _get_ttest_sig_counts...\n",
      "Running _get_ttest_sig_counts...\n",
      "\n",
      "Running _get_ttest_sig_counts...\n",
      "\n",
      "\n",
      "Running _get_ttest_sig_counts...\n",
      "\n"
     ]
    }
   ],
   "source": [
    "pv = props_permutation_test(\n",
    "    n=10,\n",
    "    sources=[\"cptac\", \"gistic\"],\n",
    "    levels=[\"gene\"],\n",
    "    chromosomes_events={\n",
    "        8: {\n",
    "            \"p\": [\"loss\"],\n",
    "            \"q\": [\"gain\"],\n",
    "        },\n",
    "    },\n",
    ")"
   ]
  }
 ],
 "metadata": {
  "kernelspec": {
   "display_name": "Python 3 (ipykernel)",
   "language": "python",
   "name": "python3"
  },
  "language_info": {
   "codemirror_mode": {
    "name": "ipython",
    "version": 3
   },
   "file_extension": ".py",
   "mimetype": "text/x-python",
   "name": "python",
   "nbconvert_exporter": "python",
   "pygments_lexer": "ipython3",
   "version": "3.10.4"
  }
 },
 "nbformat": 4,
 "nbformat_minor": 5
}
