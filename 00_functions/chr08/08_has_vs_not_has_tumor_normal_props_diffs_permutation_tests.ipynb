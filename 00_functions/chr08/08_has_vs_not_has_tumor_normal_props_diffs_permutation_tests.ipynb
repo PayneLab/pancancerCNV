{
 "cells": [
  {
   "cell_type": "code",
   "execution_count": 1,
   "id": "0b0f2fa2",
   "metadata": {},
   "outputs": [],
   "source": [
    "import cnvutils"
   ]
  },
  {
   "cell_type": "code",
   "execution_count": 2,
   "id": "5fb417df",
   "metadata": {
    "scrolled": true
   },
   "outputs": [],
   "source": [
    "from cnvutils import permute_props\n",
    "import multiprocessing\n",
    "import numpy as np\n",
    "import pandas as pd\n",
    "\n",
    "def props_permutation_test(\n",
    "    n,\n",
    "    sources,\n",
    "    levels,\n",
    "    chromosomes_events,\n",
    "):\n",
    "    sq = np.random.SeedSequence()\n",
    "    print(f\"Entropy: '{sq.entropy}'\")\n",
    "\n",
    "    child_seeds = sq.spawn(n)\n",
    "    args = [(\n",
    "        sources,\n",
    "        levels,\n",
    "        chromosomes_events,\n",
    "        np.random.default_rng(s),\n",
    "    ) for s in child_seeds]\n",
    "    \n",
    "    with multiprocessing.Pool() as pool:\n",
    "        results = pool.starmap(permute_props, args)\n",
    "    \n",
    "    all_pvals = pd.concat(results)\n",
    "        \n",
    "    return all_pvals"
   ]
  },
  {
   "cell_type": "code",
   "execution_count": 3,
   "id": "d48dadde",
   "metadata": {
    "scrolled": true
   },
   "outputs": [
    {
     "name": "stdout",
     "output_type": "stream",
     "text": [
      "Entropy: '174990662908920939673702323618288061704'\n",
      "[0.02216458 0.05227702 0.07927839 0.0269292  0.50167026 0.66528904\n",
      " 0.23439693 0.6329628  0.47495461 0.50769079][0.21253949 0.41098702 0.4544996  0.05080952 0.44480887 0.43162175\n",
      " 0.17770218 0.95955546 0.91772346 0.58291755][0.54930651 0.47719721 0.53059848 0.57957985 0.04313495 0.65893881\n",
      " 0.2706391  0.55849976 0.92933756 0.83156661][0.59663456 0.28931    0.50793754 0.38617987 0.5914372  0.46237504\n",
      " 0.04081366 0.90923405 0.03573106 0.74870547][0.00949825 0.68773976 0.25879121 0.47857872 0.39218846 0.1292145\n",
      " 0.58604188 0.30323789 0.93142207 0.41620601][0.96810467 0.60152184 0.89120491 0.42724618 0.08366336 0.07791904\n",
      " 0.09208674 0.2174547  0.04986476 0.56691673][0.11300478 0.43293682 0.78801811 0.55271146 0.0636203  0.56234427\n",
      " 0.8557947  0.57833273 0.05498494 0.27616964]\n",
      "\n",
      "\n",
      "\n",
      "\n",
      "[0.24982531 0.52707239 0.36455195 0.4702865  0.56738258 0.49056081\n",
      " 0.82209626 0.72412363 0.85524871 0.88935266][0.24179759 0.44144923 0.12938863 0.19597328 0.25824884 0.57798787\n",
      " 0.23122419 0.92838976 0.74677776 0.08244398]\n",
      "\n",
      "\n",
      "[0.44056144 0.15044288 0.51264748 0.17260682 0.28875698 0.28791961\n",
      " 0.56244333 0.66451181 0.80766782 0.63484481]\n",
      "\n"
     ]
    }
   ],
   "source": [
    "pv = props_permutation_test(\n",
    "    n=10,\n",
    "    sources=[\"cptac\", \"gistic\"],\n",
    "    levels=[\"gene\"],\n",
    "    chromosomes_events={\n",
    "        8: {\n",
    "            \"p\": [\"loss\"],\n",
    "            \"q\": [\"gain\"],\n",
    "        },\n",
    "    },\n",
    ")"
   ]
  },
  {
   "cell_type": "code",
   "execution_count": 4,
   "id": "60036788",
   "metadata": {
    "scrolled": true
   },
   "outputs": [],
   "source": [
    "pv"
   ]
  }
 ],
 "metadata": {
  "kernelspec": {
   "display_name": "Python 3 (ipykernel)",
   "language": "python",
   "name": "python3"
  },
  "language_info": {
   "codemirror_mode": {
    "name": "ipython",
    "version": 3
   },
   "file_extension": ".py",
   "mimetype": "text/x-python",
   "name": "python",
   "nbconvert_exporter": "python",
   "pygments_lexer": "ipython3",
   "version": "3.10.4"
  }
 },
 "nbformat": 4,
 "nbformat_minor": 5
}
