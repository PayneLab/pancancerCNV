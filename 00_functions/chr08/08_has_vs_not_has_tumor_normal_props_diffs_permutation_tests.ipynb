{
 "cells": [
  {
   "cell_type": "code",
   "execution_count": null,
   "id": "0b0f2fa2",
   "metadata": {},
   "outputs": [],
   "source": [
    "import cnvutils"
   ]
  },
  {
   "cell_type": "code",
   "execution_count": null,
   "id": "5fb417df",
   "metadata": {
    "scrolled": true
   },
   "outputs": [],
   "source": [
    "from cnvutils import permute_props\n",
    "import multiprocessing\n",
    "import numpy as np\n",
    "import pandas as pd\n",
    "\n",
    "def props_permutation_test(\n",
    "    n,\n",
    "    sources,\n",
    "    levels,\n",
    "    chromosomes_events,\n",
    "):\n",
    "    sq = np.random.SeedSequence()\n",
    "    print(f\"Entropy: '{sq.entropy}'\")\n",
    "\n",
    "    child_seeds = sq.spawn(n)\n",
    "    args = [(\n",
    "        sources,\n",
    "        levels,\n",
    "        chromosomes_events,\n",
    "        np.random.default_rng(s),\n",
    "    ) for s in child_seeds]\n",
    "    \n",
    "    with multiprocessing.Pool() as pool:\n",
    "        results = pool.starmap(permute_props, args)\n",
    "    \n",
    "    all_pvals = pd.concat(results)\n",
    "        \n",
    "    return all_pvals"
   ]
  },
  {
   "cell_type": "code",
   "execution_count": null,
   "id": "d48dadde",
   "metadata": {
    "scrolled": true
   },
   "outputs": [],
   "source": [
    "pv = props_permutation_test(\n",
    "    n=10,\n",
    "    sources=[\"cptac\", \"gistic\"],\n",
    "    levels=[\"gene\"],\n",
    "    chromosomes_events={\n",
    "        8: {\n",
    "            \"p\": [\"loss\"],\n",
    "            \"q\": [\"gain\"],\n",
    "        },\n",
    "    },\n",
    ")"
   ]
  },
  {
   "cell_type": "code",
   "execution_count": null,
   "id": "60036788",
   "metadata": {
    "scrolled": true
   },
   "outputs": [],
   "source": [
    "pv"
   ]
  }
 ],
 "metadata": {
  "kernelspec": {
   "display_name": "Python 3 (ipykernel)",
   "language": "python",
   "name": "python3"
  },
  "language_info": {
   "codemirror_mode": {
    "name": "ipython",
    "version": 3
   },
   "file_extension": ".py",
   "mimetype": "text/x-python",
   "name": "python",
   "nbconvert_exporter": "python",
   "pygments_lexer": "ipython3",
   "version": "3.10.4"
  }
 },
 "nbformat": 4,
 "nbformat_minor": 5
}
