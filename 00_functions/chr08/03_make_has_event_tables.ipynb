{
 "cells": [
  {
   "cell_type": "code",
   "execution_count": 1,
   "id": "1096ef3c",
   "metadata": {},
   "outputs": [],
   "source": [
    "import cnvutils\n",
    "import os"
   ]
  },
  {
   "cell_type": "markdown",
   "id": "8ab643c4",
   "metadata": {},
   "source": [
    "# Load event metadata"
   ]
  },
  {
   "cell_type": "code",
   "execution_count": 2,
   "id": "48485324",
   "metadata": {},
   "outputs": [],
   "source": [
    "CHROMOSOME = 8\n",
    "\n",
    "cptac_8p_loss = cnvutils.load_event_metadata(\n",
    "    source=\"cptac\",\n",
    "    chromosome=CHROMOSOME,\n",
    "    arm=\"p\",\n",
    "    gain_or_loss=\"loss\",\n",
    ")\n",
    "\n",
    "cptac_8q_gain = cnvutils.load_event_metadata(\n",
    "    source=\"cptac\",\n",
    "    chromosome=CHROMOSOME,\n",
    "    arm=\"q\",\n",
    "    gain_or_loss=\"gain\",\n",
    ")\n",
    "\n",
    "gistic_8p_loss = cnvutils.load_event_metadata(\n",
    "    source=\"gistic\",\n",
    "    level=\"gene\",\n",
    "    chromosome=CHROMOSOME,\n",
    "    arm=\"p\",\n",
    "    gain_or_loss=\"loss\",\n",
    ")\n",
    "\n",
    "gistic_8q_gain = cnvutils.load_event_metadata(\n",
    "    source=\"gistic\",\n",
    "    level=\"gene\",\n",
    "    chromosome=CHROMOSOME,\n",
    "    arm=\"q\",\n",
    "    gain_or_loss=\"gain\",\n",
    ")"
   ]
  },
  {
   "cell_type": "markdown",
   "id": "7da7d208",
   "metadata": {},
   "source": [
    "# Make tables of which samples do or don't have each event"
   ]
  },
  {
   "cell_type": "code",
   "execution_count": 3,
   "id": "50a8c745",
   "metadata": {},
   "outputs": [
    {
     "name": "stdout",
     "output_type": "stream",
     "text": [
      "                                                                                \r"
     ]
    }
   ],
   "source": [
    "cnvutils.make_has_event_table(\n",
    "    chromosome=CHROMOSOME,\n",
    "    arm=\"p\",\n",
    "    event_start=cptac_8p_loss[\"start\"],\n",
    "    event_end=cptac_8p_loss[\"end\"],\n",
    "    gain_or_loss=cptac_8p_loss[\"type\"],\n",
    "    cancer_types=cptac_8p_loss[\"cancer_types\"],\n",
    "    source=\"cptac\",\n",
    ")\n",
    "\n",
    "cnvutils.make_has_event_table(\n",
    "    chromosome=CHROMOSOME,\n",
    "    arm=\"q\",\n",
    "    event_start=cptac_8q_gain[\"start\"],\n",
    "    event_end=cptac_8q_gain[\"end\"],\n",
    "    gain_or_loss=cptac_8q_gain[\"type\"],\n",
    "    cancer_types=cptac_8q_gain[\"cancer_types\"],\n",
    "    source=\"cptac\",\n",
    ")"
   ]
  },
  {
   "cell_type": "code",
   "execution_count": 4,
   "id": "4bad212c",
   "metadata": {},
   "outputs": [
    {
     "name": "stdout",
     "output_type": "stream",
     "text": [
      "                                                                                \r"
     ]
    }
   ],
   "source": [
    "cnvutils.make_has_event_table(\n",
    "    chromosome=CHROMOSOME,\n",
    "    arm=\"p\",\n",
    "    event_start=gistic_8p_loss[\"start\"],\n",
    "    event_end=gistic_8p_loss[\"end\"],\n",
    "    gain_or_loss=gistic_8p_loss[\"type\"],\n",
    "    cancer_types=gistic_8p_loss[\"cancer_types\"],\n",
    "    source=\"gistic\",\n",
    "    level=\"gene\",\n",
    ")\n",
    "\n",
    "cnvutils.make_has_event_table(\n",
    "    chromosome=CHROMOSOME,\n",
    "    arm=\"q\",\n",
    "    event_start=gistic_8q_gain[\"start\"],\n",
    "    event_end=gistic_8q_gain[\"end\"],\n",
    "    gain_or_loss=gistic_8q_gain[\"type\"],\n",
    "    cancer_types=gistic_8q_gain[\"cancer_types\"],\n",
    "    source=\"gistic\",\n",
    "    level=\"gene\",\n",
    ")"
   ]
  }
 ],
 "metadata": {
  "kernelspec": {
   "display_name": "Python 3 (ipykernel)",
   "language": "python",
   "name": "python3"
  },
  "language_info": {
   "codemirror_mode": {
    "name": "ipython",
    "version": 3
   },
   "file_extension": ".py",
   "mimetype": "text/x-python",
   "name": "python",
   "nbconvert_exporter": "python",
   "pygments_lexer": "ipython3",
   "version": "3.10.4"
  }
 },
 "nbformat": 4,
 "nbformat_minor": 5
}
