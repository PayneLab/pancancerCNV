{
 "cells": [
  {
   "cell_type": "code",
   "execution_count": 1,
   "id": "1096ef3c",
   "metadata": {},
   "outputs": [],
   "source": [
    "import cnvutils"
   ]
  },
  {
   "cell_type": "code",
   "execution_count": 2,
   "id": "82488d1c",
   "metadata": {},
   "outputs": [
    {
     "name": "stdout",
     "output_type": "stream",
     "text": [
      "Running make_has_event_table with {'chromosome': 8, 'arm': 'p', 'event_start': 406428, 'event_end': 38176533, 'gain_or_loss': 'loss', 'cancer_types': ['brca', 'coad', 'hnscc', 'lscc', 'luad', 'ov'], 'source': 'cptac', 'level': None, 'data_dir': '/home/caleb/github/PayneLab/pancancerCNV/00_functions/chr08/../data'}...\n",
      "Running make_has_event_table with {'chromosome': 8, 'arm': 'q', 'event_start': 47260878, 'event_end': 145052465, 'gain_or_loss': 'gain', 'cancer_types': ['brca', 'coad', 'hnscc', 'lscc', 'luad', 'ov'], 'source': 'cptac', 'level': None, 'data_dir': '/home/caleb/github/PayneLab/pancancerCNV/00_functions/chr08/../data'}...\n",
      "Running make_has_event_table with {'chromosome': 8, 'arm': 'p', 'event_start': 166085, 'event_end': 40153481, 'gain_or_loss': 'loss', 'cancer_types': ['brca', 'coad', 'hnscc', 'lscc', 'luad', 'ov', 'pdac'], 'source': 'gistic', 'level': 'gene', 'data_dir': '/home/caleb/github/PayneLab/pancancerCNV/00_functions/chr08/../data'}...\n",
      "Running make_has_event_table with {'chromosome': 8, 'arm': 'q', 'event_start': 36784373, 'event_end': 145052466, 'gain_or_loss': 'gain', 'cancer_types': ['brca', 'coad', 'hnscc', 'lscc', 'luad', 'ov', 'pdac'], 'source': 'gistic', 'level': 'gene', 'data_dir': '/home/caleb/github/PayneLab/pancancerCNV/00_functions/chr08/../data'}...\n",
      "\n",
      "\n",
      "\n",
      "\n",
      "                                                                                ...                              Loading brca gene (1/10)...                              Loading brca CNV (1/10)...                              Loading ccrcc CNV (2/10)...                              \r"
     ]
    },
    {
     "data": {
      "text/plain": [
       "[None, None, None, None]"
      ]
     },
     "execution_count": 2,
     "metadata": {},
     "output_type": "execute_result"
    }
   ],
   "source": [
    "cnvutils.multi_runner(\n",
    "    func=cnvutils.make_has_event_table,\n",
    "    sources=[\"cptac\", \"gistic\"],\n",
    "    levels=[\"gene\"],\n",
    "    chromosomes_events={\n",
    "        8: {\n",
    "            \"p\": [\"loss\"],\n",
    "            \"q\": [\"gain\"],\n",
    "        },\n",
    "    },\n",
    ")"
   ]
  }
 ],
 "metadata": {
  "kernelspec": {
   "display_name": "Python 3 (ipykernel)",
   "language": "python",
   "name": "python3"
  },
  "language_info": {
   "codemirror_mode": {
    "name": "ipython",
    "version": 3
   },
   "file_extension": ".py",
   "mimetype": "text/x-python",
   "name": "python",
   "nbconvert_exporter": "python",
   "pygments_lexer": "ipython3",
   "version": "3.10.4"
  }
 },
 "nbformat": 4,
 "nbformat_minor": 5
}
