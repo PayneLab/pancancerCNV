{
 "cells": [
  {
   "cell_type": "markdown",
   "metadata": {},
   "source": [
    "# Make CNA event tables: Chromosome 7\n",
    "\n",
    "- For each cancer type, convert CNA table to long format (i.e., columns are [Patient_ID, gene, cna_val], so one row for each gene for each sample)\n",
    "- Then, get the location and chromosome arm for each gene and record it.\n",
    "- Then, we will create a table for each cancer type that has, for each chromosome arm in each patient, the proportion of the arm that was amplified and the proportion that was deleted."
   ]
  },
  {
   "cell_type": "markdown",
   "metadata": {},
   "source": [
    "## Setup"
   ]
  },
  {
   "cell_type": "code",
   "execution_count": 1,
   "metadata": {},
   "outputs": [],
   "source": [
    "import cptac\n",
    "import pandas as pd\n",
    "import numpy as np\n",
    "import pyensembl\n",
    "import os"
   ]
  },
  {
   "cell_type": "code",
   "execution_count": 2,
   "metadata": {},
   "outputs": [],
   "source": [
    "dss = {\n",
    "    \"brca\": cptac.Brca,\n",
    "    \"ccrcc\": cptac.Ccrcc,\n",
    "    \"colon\": cptac.Colon,\n",
    "    \"endometrial\": cptac.Endometrial,\n",
    "    \"gbm\": cptac.Gbm,\n",
    "    \"hnscc\": cptac.Hnscc,\n",
    "    \"lscc\": cptac.Lscc,\n",
    "    \"luad\": cptac.Luad,\n",
    "    \"ovarian\": cptac.Ovarian\n",
    "}"
   ]
  },
  {
   "cell_type": "markdown",
   "metadata": {},
   "source": [
    "### Prepare Ensembl API"
   ]
  },
  {
   "cell_type": "code",
   "execution_count": 3,
   "metadata": {},
   "outputs": [],
   "source": [
    "# Make sure we have the Ensembl data downloaded\n",
    "# The most recent release is 100, but 99 is still\n",
    "# recent (Jan 2020), and PyEnsembl only supports\n",
    "# up to 99 right now.\n",
    "ensembl = pyensembl.EnsemblRelease(99)\n",
    "\n",
    "try:\n",
    "    ensembl.genes() # If this fails, we need to download the data again.\n",
    "except ValueError as e:\n",
    "    if str(e).startswith(\"Missing genome data file from \"):\n",
    "        ensembl.download()\n",
    "        ensembl.index()\n",
    "    else:\n",
    "        raise e from None"
   ]
  },
  {
   "cell_type": "markdown",
   "metadata": {},
   "source": [
    "### Get centromere locations from cytoband table\n",
    "Table downloaded from https://genome.ucsc.edu/cgi-bin/hgTables?hgsid=856734045_VsAQvZHdBDGH2PuUBBiicYCEoYFm&clade=mammal&org=Human&db=hg38&hgta_group=allTables&hgta_track=hg38&hgta_table=cytoBand&hgta_regionType=genome&position=chrX%3A15%2C560%2C138-15%2C602%2C945&hgta_outputType=primaryTable&hgta_outFileName=ucsc_cytoband.tsv\n",
    "\n",
    "Note that the p arm is always before the q arm. So if a gene's location is before the centromere location, it's on the the p arm; if it's after, it's on the q arm."
   ]
  },
  {
   "cell_type": "code",
   "execution_count": 4,
   "metadata": {},
   "outputs": [
    {
     "data": {
      "text/html": [
       "<div>\n",
       "<style scoped>\n",
       "    .dataframe tbody tr th:only-of-type {\n",
       "        vertical-align: middle;\n",
       "    }\n",
       "\n",
       "    .dataframe tbody tr th {\n",
       "        vertical-align: top;\n",
       "    }\n",
       "\n",
       "    .dataframe thead th {\n",
       "        text-align: right;\n",
       "    }\n",
       "</style>\n",
       "<table border=\"1\" class=\"dataframe\">\n",
       "  <thead>\n",
       "    <tr style=\"text-align: right;\">\n",
       "      <th></th>\n",
       "      <th>chromosome</th>\n",
       "      <th>centromere_location</th>\n",
       "    </tr>\n",
       "  </thead>\n",
       "  <tbody>\n",
       "    <tr>\n",
       "      <th>0</th>\n",
       "      <td>1</td>\n",
       "      <td>123400000</td>\n",
       "    </tr>\n",
       "    <tr>\n",
       "      <th>1</th>\n",
       "      <td>10</td>\n",
       "      <td>39800000</td>\n",
       "    </tr>\n",
       "    <tr>\n",
       "      <th>2</th>\n",
       "      <td>11</td>\n",
       "      <td>53400000</td>\n",
       "    </tr>\n",
       "    <tr>\n",
       "      <th>3</th>\n",
       "      <td>12</td>\n",
       "      <td>35500000</td>\n",
       "    </tr>\n",
       "    <tr>\n",
       "      <th>4</th>\n",
       "      <td>13</td>\n",
       "      <td>17700000</td>\n",
       "    </tr>\n",
       "  </tbody>\n",
       "</table>\n",
       "</div>"
      ],
      "text/plain": [
       "  chromosome  centromere_location\n",
       "0          1            123400000\n",
       "1         10             39800000\n",
       "2         11             53400000\n",
       "3         12             35500000\n",
       "4         13             17700000"
      ]
     },
     "execution_count": 4,
     "metadata": {},
     "output_type": "execute_result"
    }
   ],
   "source": [
    "# Read in the cytoband table\n",
    "cytobands = pd.read_csv(\"ucsc_cytoband.tsv\", sep=\"\\t\").\\\n",
    "    rename(columns={\"#chrom\": \"chromosome\"})\n",
    "\n",
    "# Select just the \"acen\" stained bands, which are the centromeres\n",
    "centromeres = cytobands.\\\n",
    "    loc[cytobands.gieStain == \"acen\", [\"chromosome\", \"chromStart\", \"chromEnd\"]].\\\n",
    "    melt(id_vars=\"chromosome\", value_name=\"centromere_location\").\\\n",
    "    drop(columns=\"variable\").\\\n",
    "    sort_values(by=[\"chromosome\", \"centromere_location\"])\n",
    "\n",
    "# Get the central location for each centromere\n",
    "# Also trim the chromosome names to not start with \"chr\"\n",
    "centromeres = centromeres[centromeres.duplicated(keep=False)].\\\n",
    "    drop_duplicates(keep=\"first\").\\\n",
    "    assign(chromosome=centromeres[\"chromosome\"].str[3:]).\\\n",
    "    sort_values(by=[\"chromosome\", \"centromere_location\"]).\\\n",
    "    reset_index(drop=True)\n",
    "\n",
    "centromeres.head()"
   ]
  },
  {
   "cell_type": "markdown",
   "metadata": {},
   "source": [
    "## Format tables and get location data"
   ]
  },
  {
   "cell_type": "code",
   "execution_count": 5,
   "metadata": {},
   "outputs": [],
   "source": [
    "def make_long_table_with_locs(\n",
    "    cancer_type,\n",
    "    datasets_dict,\n",
    "    pyensembl_obj,\n",
    "    centromere_locs\n",
    "):\n",
    "    \"\"\"Pass None for output_dir if you don't want to re-save the output.\"\"\"\n",
    "    \n",
    "    # Reformat the tables\n",
    "    cna = dss[cancer_type]().\\\n",
    "        get_CNV().\\\n",
    "        reset_index().\\\n",
    "        melt(id_vars=\"Patient_ID\", value_name=\"cna_val\").\\\n",
    "        rename(columns={\"Name\": \"gene\"})\n",
    "    \n",
    "    # If there's a Database_ID column, format it; if there isn't one,\n",
    "    # add an empty one for consistency\n",
    "    if \"Database_ID\" in cna.columns:\n",
    "        # Parse the database IDs to remove version numbers from Ensembl IDs, as they interfere with lookup.\n",
    "        cna = cna.assign(\n",
    "            Database_ID=cna[\"Database_ID\"].str.rsplit(\".\", n=1, expand=True)[0]\n",
    "        )\n",
    "    else:\n",
    "        cna.insert(2, \"Database_ID\", np.nan)\n",
    "        \n",
    "    # Now we'll get the location data for the genes\n",
    "    chrs = []\n",
    "    starts = []\n",
    "    ends = []\n",
    "\n",
    "    for row in cna.itertuples(index=False):\n",
    "        db_id = row.Database_ID\n",
    "\n",
    "        if pd.notnull(db_id):\n",
    "            try:\n",
    "                info = pyensembl_obj.gene_by_id(db_id)\n",
    "            except ValueError as e:\n",
    "                if str(e).startswith(\"Gene not found: \"):\n",
    "                    pass # This will go down to the next try/catch and attempt lookup by name instead of ID\n",
    "                else:\n",
    "                    raise e from None\n",
    "            else:\n",
    "                chrs.append(info.contig)\n",
    "                starts.append(info.start)\n",
    "                ends.append(info.end)\n",
    "                continue\n",
    "\n",
    "        # We get to the following try/catch either if Database_ID is null, or \n",
    "        # if nothing was found by querying by Database_ID. That way we if don't\n",
    "        # find anything with the Database_ID, we try again with the gene name.\n",
    "        \n",
    "        # It appears that some genes have old names that are out of date,\n",
    "        # such as LSMD1. If we want to get even better coverage, we could\n",
    "        # try querying HGNC with old gene names, if the below returns nothing.\n",
    "        # But we're getting fairly good coverage right now, and we don't\n",
    "        # want to waste time going down an unnecessary rabbit hole.\n",
    "        try:\n",
    "            info = pyensembl_obj.genes_by_name(row.gene)\n",
    "        except ValueError as e:\n",
    "            if str(e).startswith(\"No results found for query\"):\n",
    "                chrs.append(np.nan)\n",
    "                starts.append(np.nan)\n",
    "                ends.append(np.nan)\n",
    "            else:\n",
    "                raise e from None\n",
    "        else:\n",
    "            chrs.append(info[0].contig)\n",
    "            starts.append(info[0].start)\n",
    "            ends.append(info[0].end)\n",
    "\n",
    "    # Add the columns we created\n",
    "    cna = cna.assign(\n",
    "        chromosome=chrs,\n",
    "        start=starts,\n",
    "        end=ends\n",
    "    )\n",
    "\n",
    "    # Check what proportion of genes we didn't find info for\n",
    "    not_found_prop = pd.isnull(cna[\"chromosome\"]).sum() / cna.shape[0]\n",
    "\n",
    "    # Select only the genes we found info for\n",
    "    cna = cna[pd.notnull(cna[\"start\"])]\n",
    "    \n",
    "    # Join in the centromere locations\n",
    "    cna = cna.merge(\n",
    "        right=centromere_locs,\n",
    "        how=\"outer\",\n",
    "        on=\"chromosome\",\n",
    "        validate=\"many_to_one\"\n",
    "    )\n",
    "    \n",
    "    # Drop any rows where the centromere location is NaN--their chromosomes are listed\n",
    "    # as things like KI270733.1, GL000194.1, and GL000220.1\n",
    "    cna = cna[pd.notnull(cna[\"centromere_location\"])]\n",
    "    \n",
    "    # Add a column identifying p or q arm. Then drop the \n",
    "    # (now unneeded) centromere location column\n",
    "    cna = cna.\\\n",
    "        assign(arm=np.where(cna[\"start\"] < cna[\"centromere_location\"], \"p\", \"q\")).\\\n",
    "        drop(columns=\"centromere_location\")\n",
    "    \n",
    "    return not_found_prop, cna"
   ]
  },
  {
   "cell_type": "code",
   "execution_count": 6,
   "metadata": {},
   "outputs": [
    {
     "name": "stdout",
     "output_type": "stream",
     "text": [
      "Checking that brca index is up-to-date...\r"
     ]
    },
    {
     "name": "stderr",
     "output_type": "stream",
     "text": [
      "INFO:numexpr.utils:NumExpr defaulting to 8 threads.\n"
     ]
    },
    {
     "name": "stdout",
     "output_type": "stream",
     "text": [
      "                                                \r"
     ]
    },
    {
     "name": "stderr",
     "output_type": "stream",
     "text": [
      "cptac warning: The GBM dataset is under publication embargo until March 01, 2021. CPTAC is a community resource project and data are made available rapidly after generation for community research use. The embargo allows exploring and utilizing the data, but analysis may not be published until after the embargo date. Please see https://proteomics.cancer.gov/data-portal/about/data-use-agreement or enter cptac.embargo() to open the webpage for more details. (/home/caleb/anaconda3/envs/dev/lib/python3.7/site-packages/ipykernel_launcher.py, line 10)\n"
     ]
    },
    {
     "name": "stdout",
     "output_type": "stream",
     "text": [
      "                                          \r"
     ]
    },
    {
     "name": "stderr",
     "output_type": "stream",
     "text": [
      "cptac warning: The HNSCC data is currently strictly reserved for CPTAC investigators. Otherwise, you are not authorized to access these data. Additionally, even after these data become publicly available, they will be subject to a publication embargo (see https://proteomics.cancer.gov/data-portal/about/data-use-agreement or enter cptac.embargo() to open the webpage for more details). (/home/caleb/anaconda3/envs/dev/lib/python3.7/site-packages/ipykernel_launcher.py, line 10)\n"
     ]
    },
    {
     "name": "stdout",
     "output_type": "stream",
     "text": [
      "                                         \r"
     ]
    },
    {
     "name": "stderr",
     "output_type": "stream",
     "text": [
      "cptac warning: The LSCC data is currently strictly reserved for CPTAC investigators. Otherwise, you are not authorized to access these data. Additionally, even after these data become publicly available, they will be subject to a publication embargo (see https://proteomics.cancer.gov/data-portal/about/data-use-agreement or enter cptac.embargo() to open the webpage for more details). (/home/caleb/anaconda3/envs/dev/lib/python3.7/site-packages/ipykernel_launcher.py, line 10)\n"
     ]
    },
    {
     "name": "stdout",
     "output_type": "stream",
     "text": [
      "brca: 3.72 % not found                      \n",
      "ccrcc: 0.14 % not found\n",
      "colon: 12.51 % not found\n",
      "endometrial: 9.35 % not found\n",
      "gbm: 1.65 % not found\n",
      "hnscc: 1.95 % not found\n",
      "lscc: 13.23 % not found\n",
      "luad: 3.76 % not found\n",
      "ovarian: 5.88 % not found\n"
     ]
    }
   ],
   "source": [
    "not_found = []\n",
    "cnas_dfs = {}\n",
    "\n",
    "for cancer_type in dss.keys():\n",
    "    prop_not_found, cna = make_long_table_with_locs(\n",
    "        cancer_type=cancer_type, \n",
    "        datasets_dict=dss, \n",
    "        pyensembl_obj=ensembl,\n",
    "        centromere_locs=centromeres,\n",
    "    )\n",
    "    \n",
    "    not_found.append(f\"{cancer_type}: {prop_not_found * 100:.2f} % not found\")\n",
    "    cnas_dfs[cancer_type] = cna\n",
    "    \n",
    "print(\"\\n\".join(not_found))"
   ]
  },
  {
   "cell_type": "markdown",
   "metadata": {},
   "source": [
    "## Summarize amplifications and deletions on each arm"
   ]
  },
  {
   "cell_type": "code",
   "execution_count": 7,
   "metadata": {},
   "outputs": [],
   "source": [
    "def summarize_arms(\n",
    "    cna, \n",
    "    cutoff, \n",
    "    input_dir, \n",
    "    output_dir\n",
    "):  \n",
    "    # For each arm, calculate the length of genes on that arm that we \n",
    "    # have coverage for. We'll use this as the arm length when calculating\n",
    "    # the proportion of the arm covered, instead of the actual arm length,\n",
    "    # so that the proportions covered aren't biased against arms with \n",
    "    # fewer genes.\n",
    "    cna = cna.assign(gene_length=(cna[\"end\"] - cna[\"start\"]).abs())\n",
    "    \n",
    "    arm_data_lens = cna.\\\n",
    "        groupby([\"Patient_ID\", \"chromosome\", \"arm\"])[[\"gene_length\"]].\\\n",
    "        sum().\\\n",
    "        rename(columns={\"gene_length\": \"arm_data_length\"}).\\\n",
    "        reset_index(drop=False)\n",
    "    \n",
    "    cna = cna.merge(\n",
    "        right=arm_data_lens,\n",
    "        how=\"outer\", \n",
    "        on=[\"Patient_ID\", \"chromosome\", \"arm\"],\n",
    "        validate=\"many_to_one\"\n",
    "    )\n",
    "    \n",
    "    # Slice out only the genes that pass the cutoff\n",
    "    cna = cna[cna[\"cna_val\"].abs() >= cutoff]\n",
    "    \n",
    "    # For each gene, calculate the proportion of its chromosome arm that it covers.\n",
    "    cna = cna.assign(prop_arm=(cna[\"end\"] - cna[\"start\"]).abs() / cna[\"arm_data_length\"])\n",
    "    \n",
    "    # Slice out just the columns we need now\n",
    "    cna = cna[[\"Patient_ID\", \"cna_val\", \"chromosome\", \"arm\", \"prop_arm\"]]\n",
    "    \n",
    "    # Separate the amplifications and the deletions\n",
    "    amps = cna[cna[\"cna_val\"] > 0]\n",
    "    dels = cna[cna[\"cna_val\"] < 0]\n",
    "    \n",
    "    # Calculate the proportion of each arm of each chromosome that is\n",
    "    # amplified and deleted in each sample\n",
    "    amp_summary = amps.\\\n",
    "        groupby([\"Patient_ID\", \"chromosome\", \"arm\"])[[\"prop_arm\"]].\\\n",
    "        sum().\\\n",
    "        rename(columns={\"prop_arm\": \"prop_arm_amplified\"}).\\\n",
    "        reset_index(drop=False)\n",
    "    \n",
    "    del_summary = dels.\\\n",
    "        groupby([\"Patient_ID\", \"chromosome\", \"arm\"])[[\"prop_arm\"]].\\\n",
    "        sum().\\\n",
    "        rename(columns={\"prop_arm\": \"prop_arm_deleted\"}).\\\n",
    "        reset_index(drop=False)\n",
    "    \n",
    "    # Merge them into one summary table\n",
    "    summary = amp_summary.\\\n",
    "        merge(\n",
    "            right=del_summary,\n",
    "            how=\"outer\",\n",
    "            on=[\"Patient_ID\", \"chromosome\", \"arm\"],\n",
    "            validate=\"one_to_one\"\n",
    "        ).\\\n",
    "        fillna({\"prop_arm_amplified\": 0, \"prop_arm_deleted\": 0}).\\\n",
    "        sort_values(by=[\"Patient_ID\", \"chromosome\", \"arm\"]).\\\n",
    "        reset_index(drop=True)\n",
    "    \n",
    "    # Save the output\n",
    "    if not os.path.isdir(output_dir):\n",
    "        os.mkdir(output_dir)\n",
    "\n",
    "    output_file = os.path.join(output_dir, f\"{cancer_type}_cna_summary.tsv.gz\")\n",
    "    summary.to_csv(output_file, index=False, compression=\"gzip\", sep=\"\\t\")\n",
    "\n",
    "    return summary"
   ]
  },
  {
   "cell_type": "code",
   "execution_count": 8,
   "metadata": {},
   "outputs": [],
   "source": [
    "for cancer_type in dss.keys():\n",
    "    summarize_arms(\n",
    "        cna=cnas_dfs[cancer_type],\n",
    "        cutoff=0.2,\n",
    "        input_dir=\"long_cna_tables\",\n",
    "        output_dir=\"01_event_tables\"\n",
    "    )"
   ]
  }
 ],
 "metadata": {
  "kernelspec": {
   "display_name": "Python 3",
   "language": "python",
   "name": "python3"
  },
  "language_info": {
   "codemirror_mode": {
    "name": "ipython",
    "version": 3
   },
   "file_extension": ".py",
   "mimetype": "text/x-python",
   "name": "python",
   "nbconvert_exporter": "python",
   "pygments_lexer": "ipython3",
   "version": "3.7.7"
  }
 },
 "nbformat": 4,
 "nbformat_minor": 4
}
