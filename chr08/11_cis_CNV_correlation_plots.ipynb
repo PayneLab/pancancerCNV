{
 "cells": [
  {
   "cell_type": "markdown",
   "id": "549d302d",
   "metadata": {},
   "source": [
    "# CNV correlations\n",
    "\n",
    "This notebook will plot how _cis_ protein abundance correlates to CNV versus how _cis_ RNA abundance correlates to CNV."
   ]
  },
  {
   "cell_type": "code",
   "execution_count": null,
   "id": "2b8bf7e4",
   "metadata": {},
   "outputs": [],
   "source": [
    "import cnvutils"
   ]
  },
  {
   "cell_type": "code",
   "execution_count": null,
   "id": "dfb2bf68",
   "metadata": {},
   "outputs": [],
   "source": [
    "cnvutils.multi_runner(\n",
    "    func=cnvutils.cnv_cis_correlations,\n",
    "    sources=[\"cptac\", \"gistic\"],\n",
    "    levels=[\"gene\"],\n",
    "    chromosomes_events={\n",
    "        8: {\n",
    "            \"p\": [\"loss\"],\n",
    "            \"q\": [\"gain\"],\n",
    "        },\n",
    "    },\n",
    "    more_dicts=[\n",
    "        {\n",
    "            \"name\": \"tissue_type\",\n",
    "            \"vals\": [\"tumor\", \"normal\"],\n",
    "        },\n",
    "        {\n",
    "            \"name\": \"proteomics_or_transcriptomics\",\n",
    "            \"vals\": [\"proteomics\", \"transcriptomics\"],\n",
    "        },\n",
    "    ]\n",
    ")"
   ]
  }
 ],
 "metadata": {
  "kernelspec": {
   "display_name": "Python 3 (ipykernel)",
   "language": "python",
   "name": "python3"
  },
  "language_info": {
   "codemirror_mode": {
    "name": "ipython",
    "version": 3
   },
   "file_extension": ".py",
   "mimetype": "text/x-python",
   "name": "python",
   "nbconvert_exporter": "python",
   "pygments_lexer": "ipython3",
   "version": "3.10.4"
  }
 },
 "nbformat": 4,
 "nbformat_minor": 5
}
