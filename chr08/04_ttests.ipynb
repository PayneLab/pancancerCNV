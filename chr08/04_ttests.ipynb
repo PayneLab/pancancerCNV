{
 "cells": [
  {
   "cell_type": "markdown",
   "id": "ea222ecf",
   "metadata": {},
   "source": [
    "# t-tests\n",
    "\n",
    "Run t-tests, of two types:\n",
    "- Comparing abundance for each protein and RNA in tumor samples with the CNV event to abundances the tumor samples without the CNV event\n",
    "- Comparing tumor to normal abundance for each protein and RNA, separately in samples with and without the CNV event\n",
    "\n",
    "_p_ values are corrected using the Benjamini-Hochberg FDR."
   ]
  },
  {
   "cell_type": "code",
   "execution_count": 1,
   "id": "1ff6a578",
   "metadata": {},
   "outputs": [],
   "source": [
    "import cnvutils"
   ]
  },
  {
   "cell_type": "markdown",
   "id": "8991592b",
   "metadata": {},
   "source": [
    "## RNA and protein expressions for each gene, comparing samples with the event to samples without the event, looking at tumor and normal separately"
   ]
  },
  {
   "cell_type": "code",
   "execution_count": 2,
   "id": "cff5a4a5",
   "metadata": {
    "scrolled": true
   },
   "outputs": [
    {
     "name": "stdout",
     "output_type": "stream",
     "text": [
      "Running event_effects_ttest with {'chromosome': 8, 'arm': 'p', 'event_start': 406428, 'event_end': 38176533, 'gain_or_loss': 'loss', 'cis_or_trans': 'trans', 'proteomics_or_transcriptomics': 'proteomics', 'cancer_types': ['brca', 'coad', 'hnscc', 'lscc', 'luad', 'ov'], 'source': 'cptac', 'comparison': 'has_event', 'tissue_type': 'tumor', 'has_event': None, 'level': None, 'data_dir': '/home/caleb/github/PayneLab/pancancerCNV/00_functions/chr08/../data'}...\n",
      "Running event_effects_ttest with {'chromosome': 8, 'arm': 'p', 'event_start': 406428, 'event_end': 38176533, 'gain_or_loss': 'loss', 'cis_or_trans': 'cis', 'proteomics_or_transcriptomics': 'transcriptomics', 'cancer_types': ['brca', 'coad', 'hnscc', 'lscc', 'luad', 'ov'], 'source': 'cptac', 'comparison': 'has_event', 'tissue_type': 'tumor', 'has_event': None, 'level': None, 'data_dir': '/home/caleb/github/PayneLab/pancancerCNV/00_functions/chr08/../data'}...\n",
      "Running event_effects_ttest with {'chromosome': 8, 'arm': 'p', 'event_start': 406428, 'event_end': 38176533, 'gain_or_loss': 'loss', 'cis_or_trans': 'trans', 'proteomics_or_transcriptomics': 'transcriptomics', 'cancer_types': ['brca', 'coad', 'hnscc', 'lscc', 'luad', 'ov'], 'source': 'cptac', 'comparison': 'has_event', 'tissue_type': 'tumor', 'has_event': None, 'level': None, 'data_dir': '/home/caleb/github/PayneLab/pancancerCNV/00_functions/chr08/../data'}...\n",
      "Running event_effects_ttest with {'chromosome': 8, 'arm': 'p', 'event_start': 406428, 'event_end': 38176533, 'gain_or_loss': 'loss', 'cis_or_trans': 'cis', 'proteomics_or_transcriptomics': 'proteomics', 'cancer_types': ['brca', 'coad', 'hnscc', 'lscc', 'luad', 'ov'], 'source': 'cptac', 'comparison': 'has_event', 'tissue_type': 'tumor', 'has_event': None, 'level': None, 'data_dir': '/home/caleb/github/PayneLab/pancancerCNV/00_functions/chr08/../data'}...\n",
      "Running event_effects_ttest with {'chromosome': 8, 'arm': 'p', 'event_start': 406428, 'event_end': 38176533, 'gain_or_loss': 'loss', 'cis_or_trans': 'trans', 'proteomics_or_transcriptomics': 'proteomics', 'cancer_types': ['brca', 'coad', 'hnscc', 'lscc', 'luad', 'ov'], 'source': 'cptac', 'comparison': 'has_event', 'tissue_type': 'normal', 'has_event': None, 'level': None, 'data_dir': '/home/caleb/github/PayneLab/pancancerCNV/00_functions/chr08/../data'}...\n",
      "Running event_effects_ttest with {'chromosome': 8, 'arm': 'p', 'event_start': 406428, 'event_end': 38176533, 'gain_or_loss': 'loss', 'cis_or_trans': 'cis', 'proteomics_or_transcriptomics': 'proteomics', 'cancer_types': ['brca', 'coad', 'hnscc', 'lscc', 'luad', 'ov'], 'source': 'cptac', 'comparison': 'has_event', 'tissue_type': 'normal', 'has_event': None, 'level': None, 'data_dir': '/home/caleb/github/PayneLab/pancancerCNV/00_functions/chr08/../data'}...\n",
      "Running event_effects_ttest with {'chromosome': 8, 'arm': 'p', 'event_start': 406428, 'event_end': 38176533, 'gain_or_loss': 'loss', 'cis_or_trans': 'trans', 'proteomics_or_transcriptomics': 'transcriptomics', 'cancer_types': ['brca', 'coad', 'hnscc', 'lscc', 'luad', 'ov'], 'source': 'cptac', 'comparison': 'has_event', 'tissue_type': 'normal', 'has_event': None, 'level': None, 'data_dir': '/home/caleb/github/PayneLab/pancancerCNV/00_functions/chr08/../data'}...\n",
      "\n",
      "\n",
      "\n",
      "Running event_effects_ttest with {'chromosome': 8, 'arm': 'p', 'event_start': 406428, 'event_end': 38176533, 'gain_or_loss': 'loss', 'cis_or_trans': 'cis', 'proteomics_or_transcriptomics': 'transcriptomics', 'cancer_types': ['brca', 'coad', 'hnscc', 'lscc', 'luad', 'ov'], 'source': 'cptac', 'comparison': 'has_event', 'tissue_type': 'normal', 'has_event': None, 'level': None, 'data_dir': '/home/caleb/github/PayneLab/pancancerCNV/00_functions/chr08/../data'}...\n",
      "\n",
      "\n",
      "\n",
      "Loading brca transcriptomics (1/6)...                              \n",
      "\n",
      "                                                                                omics (1/6)...                              Loading brca proteomics (1/6)...                              Loading brca transcriptomics (1/6)...                              Loading brca transcriptomics (1/6)...                              Loading brca proteomics (1/6)...                              Loading luad proteomics (5/6)...                              Loading luad proteomics (5/6)...                              \r"
     ]
    },
    {
     "name": "stderr",
     "output_type": "stream",
     "text": [
      "/home/caleb/anaconda3/envs/dev/lib/python3.10/site-packages/cnvutils/chromosome_funcs.py:326: UserWarning: Empty dataframe for cancer_type=brca, source=cptac, level=None, chromosome=8, arm=p, gain_or_loss=loss, cis_or_trans=cis, proteomics_or_transcriptomics=proteomics, comparison=has_event, tissue_type=normal, has_event=None.\n",
      "  warnings.warn(f\"Empty dataframe for cancer_type={cancer_type}, source={source}, level={level}, chromosome={chromosome}, arm={arm}, gain_or_loss={gain_or_loss}, cis_or_trans={cis_or_trans}, proteomics_or_transcriptomics={proteomics_or_transcriptomics}, comparison={comparison}, tissue_type={tissue_type}, has_event={has_event}.\")\n",
      "/home/caleb/anaconda3/envs/dev/lib/python3.10/site-packages/cnvutils/chromosome_funcs.py:326: UserWarning: Empty dataframe for cancer_type=brca, source=cptac, level=None, chromosome=8, arm=p, gain_or_loss=loss, cis_or_trans=trans, proteomics_or_transcriptomics=proteomics, comparison=has_event, tissue_type=normal, has_event=None.\n",
      "  warnings.warn(f\"Empty dataframe for cancer_type={cancer_type}, source={source}, level={level}, chromosome={chromosome}, arm={arm}, gain_or_loss={gain_or_loss}, cis_or_trans={cis_or_trans}, proteomics_or_transcriptomics={proteomics_or_transcriptomics}, comparison={comparison}, tissue_type={tissue_type}, has_event={has_event}.\")\n",
      "/home/caleb/anaconda3/envs/dev/lib/python3.10/site-packages/cnvutils/chromosome_funcs.py:426: UserWarning: Too small sample size for cancer_type=ov, source=cptac, level=None, chromosome=8, arm=p, gain_or_loss=loss, cis_or_trans=cis, proteomics_or_transcriptomics=proteomics, comparison=has_event, tissue_type=normal, has_event=None.\n",
      "  warnings.warn(f\"Too small sample size for cancer_type={cancer_type}, source={source}, level={level}, chromosome={chromosome}, arm={arm}, gain_or_loss={gain_or_loss}, cis_or_trans={cis_or_trans}, proteomics_or_transcriptomics={proteomics_or_transcriptomics}, comparison={comparison}, tissue_type={tissue_type}, has_event={has_event}.\")\n"
     ]
    },
    {
     "name": "stdout",
     "output_type": "stream",
     "text": [
      "Running event_effects_ttest with {'chromosome': 8, 'arm': 'q', 'event_start': 47260878, 'event_end': 145052465, 'gain_or_loss': 'gain', 'cis_or_trans': 'cis', 'proteomics_or_transcriptomics': 'proteomics', 'cancer_types': ['brca', 'coad', 'hnscc', 'lscc', 'luad', 'ov'], 'source': 'cptac', 'comparison': 'has_event', 'tissue_type': 'tumor', 'has_event': None, 'level': None, 'data_dir': '/home/caleb/github/PayneLab/pancancerCNV/00_functions/chr08/../data'}...\n",
      "\n",
      "Loading coad transcriptomics (2/6)...                              Loading coad transcriptomics (2/6)...                              Running event_effects_ttest with {'chromosome': 8, 'arm': 'q', 'event_start': 47260878, 'event_end': 145052465, 'gain_or_loss': 'gain', 'cis_or_trans': 'trans', 'proteomics_or_transcriptomics': 'proteomics', 'cancer_types': ['brca', 'coad', 'hnscc', 'lscc', 'luad', 'ov'], 'source': 'cptac', 'comparison': 'has_event', 'tissue_type': 'tumor', 'has_event': None, 'level': None, 'data_dir': '/home/caleb/github/PayneLab/pancancerCNV/00_functions/chr08/../data'}...\n",
      "\n",
      "Running event_effects_ttest with {'chromosome': 8, 'arm': 'q', 'event_start': 47260878, 'event_end': 145052465, 'gain_or_loss': 'gain', 'cis_or_trans': 'cis', 'proteomics_or_transcriptomics': 'transcriptomics', 'cancer_types': ['brca', 'coad', 'hnscc', 'lscc', 'luad', 'ov'], 'source': 'cptac', 'comparison': 'has_event', 'tissue_type': 'tumor', 'has_event': None, 'level': None, 'data_dir': '/home/caleb/github/PayneLab/pancancerCNV/00_functions/chr08/../data'}...\n",
      "\n",
      "Loading luad transcriptomics (5/6)...                               Loading luad transcriptomics (5/6)...                              Loading lscc transcriptomics (4/6)...                              \r"
     ]
    },
    {
     "name": "stderr",
     "output_type": "stream",
     "text": [
      "/home/caleb/anaconda3/envs/dev/lib/python3.10/site-packages/cnvutils/chromosome_funcs.py:426: UserWarning: Too small sample size for cancer_type=ov, source=cptac, level=None, chromosome=8, arm=p, gain_or_loss=loss, cis_or_trans=trans, proteomics_or_transcriptomics=proteomics, comparison=has_event, tissue_type=normal, has_event=None.\n",
      "  warnings.warn(f\"Too small sample size for cancer_type={cancer_type}, source={source}, level={level}, chromosome={chromosome}, arm={arm}, gain_or_loss={gain_or_loss}, cis_or_trans={cis_or_trans}, proteomics_or_transcriptomics={proteomics_or_transcriptomics}, comparison={comparison}, tissue_type={tissue_type}, has_event={has_event}.\")\n"
     ]
    },
    {
     "name": "stdout",
     "output_type": "stream",
     "text": [
      "                                                                                \r"
     ]
    },
    {
     "name": "stderr",
     "output_type": "stream",
     "text": [
      "/home/caleb/anaconda3/envs/dev/lib/python3.10/site-packages/cnvutils/chromosome_funcs.py:326: UserWarning: Empty dataframe for cancer_type=brca, source=cptac, level=None, chromosome=8, arm=p, gain_or_loss=loss, cis_or_trans=trans, proteomics_or_transcriptomics=transcriptomics, comparison=has_event, tissue_type=normal, has_event=None.\n",
      "  warnings.warn(f\"Empty dataframe for cancer_type={cancer_type}, source={source}, level={level}, chromosome={chromosome}, arm={arm}, gain_or_loss={gain_or_loss}, cis_or_trans={cis_or_trans}, proteomics_or_transcriptomics={proteomics_or_transcriptomics}, comparison={comparison}, tissue_type={tissue_type}, has_event={has_event}.\")\n",
      "/home/caleb/anaconda3/envs/dev/lib/python3.10/site-packages/cnvutils/chromosome_funcs.py:326: UserWarning: Empty dataframe for cancer_type=coad, source=cptac, level=None, chromosome=8, arm=p, gain_or_loss=loss, cis_or_trans=trans, proteomics_or_transcriptomics=transcriptomics, comparison=has_event, tissue_type=normal, has_event=None.\n",
      "  warnings.warn(f\"Empty dataframe for cancer_type={cancer_type}, source={source}, level={level}, chromosome={chromosome}, arm={arm}, gain_or_loss={gain_or_loss}, cis_or_trans={cis_or_trans}, proteomics_or_transcriptomics={proteomics_or_transcriptomics}, comparison={comparison}, tissue_type={tissue_type}, has_event={has_event}.\")\n",
      "/home/caleb/anaconda3/envs/dev/lib/python3.10/site-packages/cnvutils/chromosome_funcs.py:326: UserWarning: Empty dataframe for cancer_type=ov, source=cptac, level=None, chromosome=8, arm=p, gain_or_loss=loss, cis_or_trans=trans, proteomics_or_transcriptomics=transcriptomics, comparison=has_event, tissue_type=normal, has_event=None.\n",
      "  warnings.warn(f\"Empty dataframe for cancer_type={cancer_type}, source={source}, level={level}, chromosome={chromosome}, arm={arm}, gain_or_loss={gain_or_loss}, cis_or_trans={cis_or_trans}, proteomics_or_transcriptomics={proteomics_or_transcriptomics}, comparison={comparison}, tissue_type={tissue_type}, has_event={has_event}.\")\n"
     ]
    },
    {
     "name": "stdout",
     "output_type": "stream",
     "text": [
      "                                                                                \r"
     ]
    },
    {
     "name": "stderr",
     "output_type": "stream",
     "text": [
      "/home/caleb/anaconda3/envs/dev/lib/python3.10/site-packages/cnvutils/chromosome_funcs.py:326: UserWarning: Empty dataframe for cancer_type=brca, source=cptac, level=None, chromosome=8, arm=p, gain_or_loss=loss, cis_or_trans=cis, proteomics_or_transcriptomics=transcriptomics, comparison=has_event, tissue_type=normal, has_event=None.\n",
      "  warnings.warn(f\"Empty dataframe for cancer_type={cancer_type}, source={source}, level={level}, chromosome={chromosome}, arm={arm}, gain_or_loss={gain_or_loss}, cis_or_trans={cis_or_trans}, proteomics_or_transcriptomics={proteomics_or_transcriptomics}, comparison={comparison}, tissue_type={tissue_type}, has_event={has_event}.\")\n",
      "/home/caleb/anaconda3/envs/dev/lib/python3.10/site-packages/cnvutils/chromosome_funcs.py:326: UserWarning: Empty dataframe for cancer_type=coad, source=cptac, level=None, chromosome=8, arm=p, gain_or_loss=loss, cis_or_trans=cis, proteomics_or_transcriptomics=transcriptomics, comparison=has_event, tissue_type=normal, has_event=None.\n",
      "  warnings.warn(f\"Empty dataframe for cancer_type={cancer_type}, source={source}, level={level}, chromosome={chromosome}, arm={arm}, gain_or_loss={gain_or_loss}, cis_or_trans={cis_or_trans}, proteomics_or_transcriptomics={proteomics_or_transcriptomics}, comparison={comparison}, tissue_type={tissue_type}, has_event={has_event}.\")\n",
      "/home/caleb/anaconda3/envs/dev/lib/python3.10/site-packages/cnvutils/chromosome_funcs.py:326: UserWarning: Empty dataframe for cancer_type=ov, source=cptac, level=None, chromosome=8, arm=p, gain_or_loss=loss, cis_or_trans=cis, proteomics_or_transcriptomics=transcriptomics, comparison=has_event, tissue_type=normal, has_event=None.\n",
      "  warnings.warn(f\"Empty dataframe for cancer_type={cancer_type}, source={source}, level={level}, chromosome={chromosome}, arm={arm}, gain_or_loss={gain_or_loss}, cis_or_trans={cis_or_trans}, proteomics_or_transcriptomics={proteomics_or_transcriptomics}, comparison={comparison}, tissue_type={tissue_type}, has_event={has_event}.\")\n"
     ]
    },
    {
     "name": "stdout",
     "output_type": "stream",
     "text": [
      "Running event_effects_ttest with {'chromosome': 8, 'arm': 'q', 'event_start': 47260878, 'event_end': 145052465, 'gain_or_loss': 'gain', 'cis_or_trans': 'trans', 'proteomics_or_transcriptomics': 'transcriptomics', 'cancer_types': ['brca', 'coad', 'hnscc', 'lscc', 'luad', 'ov'], 'source': 'cptac', 'comparison': 'has_event', 'tissue_type': 'tumor', 'has_event': None, 'level': None, 'data_dir': '/home/caleb/github/PayneLab/pancancerCNV/00_functions/chr08/../data'}...\n",
      "\n",
      "Running event_effects_ttest with {'chromosome': 8, 'arm': 'q', 'event_start': 47260878, 'event_end': 145052465, 'gain_or_loss': 'gain', 'cis_or_trans': 'cis', 'proteomics_or_transcriptomics': 'proteomics', 'cancer_types': ['brca', 'coad', 'hnscc', 'lscc', 'luad', 'ov'], 'source': 'cptac', 'comparison': 'has_event', 'tissue_type': 'normal', 'has_event': None, 'level': None, 'data_dir': '/home/caleb/github/PayneLab/pancancerCNV/00_functions/chr08/../data'}...\n",
      "\n",
      "                                                                                \r"
     ]
    },
    {
     "name": "stderr",
     "output_type": "stream",
     "text": [
      "/home/caleb/anaconda3/envs/dev/lib/python3.10/site-packages/cnvutils/chromosome_funcs.py:326: UserWarning: Empty dataframe for cancer_type=brca, source=cptac, level=None, chromosome=8, arm=q, gain_or_loss=gain, cis_or_trans=cis, proteomics_or_transcriptomics=proteomics, comparison=has_event, tissue_type=normal, has_event=None.\n",
      "  warnings.warn(f\"Empty dataframe for cancer_type={cancer_type}, source={source}, level={level}, chromosome={chromosome}, arm={arm}, gain_or_loss={gain_or_loss}, cis_or_trans={cis_or_trans}, proteomics_or_transcriptomics={proteomics_or_transcriptomics}, comparison={comparison}, tissue_type={tissue_type}, has_event={has_event}.\")\n"
     ]
    },
    {
     "name": "stdout",
     "output_type": "stream",
     "text": [
      "Loading coad transcriptomics (2/6)...                              \r"
     ]
    },
    {
     "name": "stderr",
     "output_type": "stream",
     "text": [
      "/home/caleb/anaconda3/envs/dev/lib/python3.10/site-packages/cnvutils/chromosome_funcs.py:426: UserWarning: Too small sample size for cancer_type=ov, source=cptac, level=None, chromosome=8, arm=q, gain_or_loss=gain, cis_or_trans=cis, proteomics_or_transcriptomics=proteomics, comparison=has_event, tissue_type=normal, has_event=None.\n",
      "  warnings.warn(f\"Too small sample size for cancer_type={cancer_type}, source={source}, level={level}, chromosome={chromosome}, arm={arm}, gain_or_loss={gain_or_loss}, cis_or_trans={cis_or_trans}, proteomics_or_transcriptomics={proteomics_or_transcriptomics}, comparison={comparison}, tissue_type={tissue_type}, has_event={has_event}.\")\n"
     ]
    },
    {
     "name": "stdout",
     "output_type": "stream",
     "text": [
      "Running event_effects_ttest with {'chromosome': 8, 'arm': 'q', 'event_start': 47260878, 'event_end': 145052465, 'gain_or_loss': 'gain', 'cis_or_trans': 'trans', 'proteomics_or_transcriptomics': 'proteomics', 'cancer_types': ['brca', 'coad', 'hnscc', 'lscc', 'luad', 'ov'], 'source': 'cptac', 'comparison': 'has_event', 'tissue_type': 'normal', 'has_event': None, 'level': None, 'data_dir': '/home/caleb/github/PayneLab/pancancerCNV/00_functions/chr08/../data'}...\n",
      "\n",
      "                                                                                \r"
     ]
    },
    {
     "name": "stderr",
     "output_type": "stream",
     "text": [
      "/home/caleb/anaconda3/envs/dev/lib/python3.10/site-packages/cnvutils/chromosome_funcs.py:326: UserWarning: Empty dataframe for cancer_type=brca, source=cptac, level=None, chromosome=8, arm=q, gain_or_loss=gain, cis_or_trans=trans, proteomics_or_transcriptomics=proteomics, comparison=has_event, tissue_type=normal, has_event=None.\n",
      "  warnings.warn(f\"Empty dataframe for cancer_type={cancer_type}, source={source}, level={level}, chromosome={chromosome}, arm={arm}, gain_or_loss={gain_or_loss}, cis_or_trans={cis_or_trans}, proteomics_or_transcriptomics={proteomics_or_transcriptomics}, comparison={comparison}, tissue_type={tissue_type}, has_event={has_event}.\")\n"
     ]
    },
    {
     "name": "stdout",
     "output_type": "stream",
     "text": [
      "Running event_effects_ttest with {'chromosome': 8, 'arm': 'q', 'event_start': 47260878, 'event_end': 145052465, 'gain_or_loss': 'gain', 'cis_or_trans': 'cis', 'proteomics_or_transcriptomics': 'transcriptomics', 'cancer_types': ['brca', 'coad', 'hnscc', 'lscc', 'luad', 'ov'], 'source': 'cptac', 'comparison': 'has_event', 'tissue_type': 'normal', 'has_event': None, 'level': None, 'data_dir': '/home/caleb/github/PayneLab/pancancerCNV/00_functions/chr08/../data'}...\n",
      "\n",
      "Running event_effects_ttest with {'chromosome': 8, 'arm': 'q', 'event_start': 47260878, 'event_end': 145052465, 'gain_or_loss': 'gain', 'cis_or_trans': 'trans', 'proteomics_or_transcriptomics': 'transcriptomics', 'cancer_types': ['brca', 'coad', 'hnscc', 'lscc', 'luad', 'ov'], 'source': 'cptac', 'comparison': 'has_event', 'tissue_type': 'normal', 'has_event': None, 'level': None, 'data_dir': '/home/caleb/github/PayneLab/pancancerCNV/00_functions/chr08/../data'}...\n",
      "\n",
      "Running event_effects_ttest with {'chromosome': 8, 'arm': 'p', 'event_start': 166085, 'event_end': 40153481, 'gain_or_loss': 'loss', 'cis_or_trans': 'cis', 'proteomics_or_transcriptomics': 'proteomics', 'cancer_types': ['brca', 'coad', 'hnscc', 'lscc', 'luad', 'ov', 'pdac'], 'source': 'gistic', 'comparison': 'has_event', 'tissue_type': 'tumor', 'has_event': None, 'level': 'gene', 'data_dir': '/home/caleb/github/PayneLab/pancancerCNV/00_functions/chr08/../data'}...\n",
      "\n",
      "Loading brca proteomics (1/7)...                              \r"
     ]
    },
    {
     "name": "stderr",
     "output_type": "stream",
     "text": [
      "/home/caleb/anaconda3/envs/dev/lib/python3.10/site-packages/cnvutils/chromosome_funcs.py:426: UserWarning: Too small sample size for cancer_type=ov, source=cptac, level=None, chromosome=8, arm=q, gain_or_loss=gain, cis_or_trans=trans, proteomics_or_transcriptomics=proteomics, comparison=has_event, tissue_type=normal, has_event=None.\n",
      "  warnings.warn(f\"Too small sample size for cancer_type={cancer_type}, source={source}, level={level}, chromosome={chromosome}, arm={arm}, gain_or_loss={gain_or_loss}, cis_or_trans={cis_or_trans}, proteomics_or_transcriptomics={proteomics_or_transcriptomics}, comparison={comparison}, tissue_type={tissue_type}, has_event={has_event}.\")\n"
     ]
    },
    {
     "name": "stdout",
     "output_type": "stream",
     "text": [
      "Running event_effects_ttest with {'chromosome': 8, 'arm': 'p', 'event_start': 166085, 'event_end': 40153481, 'gain_or_loss': 'loss', 'cis_or_trans': 'trans', 'proteomics_or_transcriptomics': 'proteomics', 'cancer_types': ['brca', 'coad', 'hnscc', 'lscc', 'luad', 'ov', 'pdac'], 'source': 'gistic', 'comparison': 'has_event', 'tissue_type': 'tumor', 'has_event': None, 'level': 'gene', 'data_dir': '/home/caleb/github/PayneLab/pancancerCNV/00_functions/chr08/../data'}...\n",
      "\n",
      "Running event_effects_ttest with {'chromosome': 8, 'arm': 'p', 'event_start': 166085, 'event_end': 40153481, 'gain_or_loss': 'loss', 'cis_or_trans': 'cis', 'proteomics_or_transcriptomics': 'transcriptomics', 'cancer_types': ['brca', 'coad', 'hnscc', 'lscc', 'luad', 'ov', 'pdac'], 'source': 'gistic', 'comparison': 'has_event', 'tissue_type': 'tumor', 'has_event': None, 'level': 'gene', 'data_dir': '/home/caleb/github/PayneLab/pancancerCNV/00_functions/chr08/../data'}...\n",
      "\n",
      "                                                                                \r"
     ]
    },
    {
     "name": "stderr",
     "output_type": "stream",
     "text": [
      "/home/caleb/anaconda3/envs/dev/lib/python3.10/site-packages/cnvutils/chromosome_funcs.py:326: UserWarning: Empty dataframe for cancer_type=brca, source=cptac, level=None, chromosome=8, arm=q, gain_or_loss=gain, cis_or_trans=cis, proteomics_or_transcriptomics=transcriptomics, comparison=has_event, tissue_type=normal, has_event=None.\n",
      "  warnings.warn(f\"Empty dataframe for cancer_type={cancer_type}, source={source}, level={level}, chromosome={chromosome}, arm={arm}, gain_or_loss={gain_or_loss}, cis_or_trans={cis_or_trans}, proteomics_or_transcriptomics={proteomics_or_transcriptomics}, comparison={comparison}, tissue_type={tissue_type}, has_event={has_event}.\")\n",
      "/home/caleb/anaconda3/envs/dev/lib/python3.10/site-packages/cnvutils/chromosome_funcs.py:326: UserWarning: Empty dataframe for cancer_type=coad, source=cptac, level=None, chromosome=8, arm=q, gain_or_loss=gain, cis_or_trans=cis, proteomics_or_transcriptomics=transcriptomics, comparison=has_event, tissue_type=normal, has_event=None.\n",
      "  warnings.warn(f\"Empty dataframe for cancer_type={cancer_type}, source={source}, level={level}, chromosome={chromosome}, arm={arm}, gain_or_loss={gain_or_loss}, cis_or_trans={cis_or_trans}, proteomics_or_transcriptomics={proteomics_or_transcriptomics}, comparison={comparison}, tissue_type={tissue_type}, has_event={has_event}.\")\n",
      "/home/caleb/anaconda3/envs/dev/lib/python3.10/site-packages/cnvutils/chromosome_funcs.py:326: UserWarning: Empty dataframe for cancer_type=ov, source=cptac, level=None, chromosome=8, arm=q, gain_or_loss=gain, cis_or_trans=cis, proteomics_or_transcriptomics=transcriptomics, comparison=has_event, tissue_type=normal, has_event=None.\n",
      "  warnings.warn(f\"Empty dataframe for cancer_type={cancer_type}, source={source}, level={level}, chromosome={chromosome}, arm={arm}, gain_or_loss={gain_or_loss}, cis_or_trans={cis_or_trans}, proteomics_or_transcriptomics={proteomics_or_transcriptomics}, comparison={comparison}, tissue_type={tissue_type}, has_event={has_event}.\")\n"
     ]
    },
    {
     "name": "stdout",
     "output_type": "stream",
     "text": [
      "Running event_effects_ttest with {'chromosome': 8, 'arm': 'p', 'event_start': 166085, 'event_end': 40153481, 'gain_or_loss': 'loss', 'cis_or_trans': 'trans', 'proteomics_or_transcriptomics': 'transcriptomics', 'cancer_types': ['brca', 'coad', 'hnscc', 'lscc', 'luad', 'ov', 'pdac'], 'source': 'gistic', 'comparison': 'has_event', 'tissue_type': 'tumor', 'has_event': None, 'level': 'gene', 'data_dir': '/home/caleb/github/PayneLab/pancancerCNV/00_functions/chr08/../data'}...\n",
      "\n",
      "Running event_effects_ttest with {'chromosome': 8, 'arm': 'p', 'event_start': 166085, 'event_end': 40153481, 'gain_or_loss': 'loss', 'cis_or_trans': 'cis', 'proteomics_or_transcriptomics': 'proteomics', 'cancer_types': ['brca', 'coad', 'hnscc', 'lscc', 'luad', 'ov', 'pdac'], 'source': 'gistic', 'comparison': 'has_event', 'tissue_type': 'normal', 'has_event': None, 'level': 'gene', 'data_dir': '/home/caleb/github/PayneLab/pancancerCNV/00_functions/chr08/../data'}...\n",
      "\n",
      "                                                                                \r"
     ]
    },
    {
     "name": "stderr",
     "output_type": "stream",
     "text": [
      "/home/caleb/anaconda3/envs/dev/lib/python3.10/site-packages/cnvutils/chromosome_funcs.py:326: UserWarning: Empty dataframe for cancer_type=brca, source=cptac, level=None, chromosome=8, arm=q, gain_or_loss=gain, cis_or_trans=trans, proteomics_or_transcriptomics=transcriptomics, comparison=has_event, tissue_type=normal, has_event=None.\n",
      "  warnings.warn(f\"Empty dataframe for cancer_type={cancer_type}, source={source}, level={level}, chromosome={chromosome}, arm={arm}, gain_or_loss={gain_or_loss}, cis_or_trans={cis_or_trans}, proteomics_or_transcriptomics={proteomics_or_transcriptomics}, comparison={comparison}, tissue_type={tissue_type}, has_event={has_event}.\")\n",
      "/home/caleb/anaconda3/envs/dev/lib/python3.10/site-packages/cnvutils/chromosome_funcs.py:326: UserWarning: Empty dataframe for cancer_type=coad, source=cptac, level=None, chromosome=8, arm=q, gain_or_loss=gain, cis_or_trans=trans, proteomics_or_transcriptomics=transcriptomics, comparison=has_event, tissue_type=normal, has_event=None.\n",
      "  warnings.warn(f\"Empty dataframe for cancer_type={cancer_type}, source={source}, level={level}, chromosome={chromosome}, arm={arm}, gain_or_loss={gain_or_loss}, cis_or_trans={cis_or_trans}, proteomics_or_transcriptomics={proteomics_or_transcriptomics}, comparison={comparison}, tissue_type={tissue_type}, has_event={has_event}.\")\n",
      "/home/caleb/anaconda3/envs/dev/lib/python3.10/site-packages/cnvutils/chromosome_funcs.py:326: UserWarning: Empty dataframe for cancer_type=ov, source=cptac, level=None, chromosome=8, arm=q, gain_or_loss=gain, cis_or_trans=trans, proteomics_or_transcriptomics=transcriptomics, comparison=has_event, tissue_type=normal, has_event=None.\n",
      "  warnings.warn(f\"Empty dataframe for cancer_type={cancer_type}, source={source}, level={level}, chromosome={chromosome}, arm={arm}, gain_or_loss={gain_or_loss}, cis_or_trans={cis_or_trans}, proteomics_or_transcriptomics={proteomics_or_transcriptomics}, comparison={comparison}, tissue_type={tissue_type}, has_event={has_event}.\")\n"
     ]
    },
    {
     "name": "stdout",
     "output_type": "stream",
     "text": [
      "                                                                                \r"
     ]
    },
    {
     "name": "stderr",
     "output_type": "stream",
     "text": [
      "/home/caleb/anaconda3/envs/dev/lib/python3.10/site-packages/cnvutils/chromosome_funcs.py:326: UserWarning: Empty dataframe for cancer_type=brca, source=gistic, level=gene, chromosome=8, arm=p, gain_or_loss=loss, cis_or_trans=cis, proteomics_or_transcriptomics=proteomics, comparison=has_event, tissue_type=normal, has_event=None.\n",
      "  warnings.warn(f\"Empty dataframe for cancer_type={cancer_type}, source={source}, level={level}, chromosome={chromosome}, arm={arm}, gain_or_loss={gain_or_loss}, cis_or_trans={cis_or_trans}, proteomics_or_transcriptomics={proteomics_or_transcriptomics}, comparison={comparison}, tissue_type={tissue_type}, has_event={has_event}.\")\n",
      "/home/caleb/anaconda3/envs/dev/lib/python3.10/site-packages/cnvutils/chromosome_funcs.py:426: UserWarning: Too small sample size for cancer_type=ov, source=gistic, level=gene, chromosome=8, arm=p, gain_or_loss=loss, cis_or_trans=cis, proteomics_or_transcriptomics=proteomics, comparison=has_event, tissue_type=normal, has_event=None.\n",
      "  warnings.warn(f\"Too small sample size for cancer_type={cancer_type}, source={source}, level={level}, chromosome={chromosome}, arm={arm}, gain_or_loss={gain_or_loss}, cis_or_trans={cis_or_trans}, proteomics_or_transcriptomics={proteomics_or_transcriptomics}, comparison={comparison}, tissue_type={tissue_type}, has_event={has_event}.\")\n"
     ]
    },
    {
     "name": "stdout",
     "output_type": "stream",
     "text": [
      "Running event_effects_ttest with {'chromosome': 8, 'arm': 'p', 'event_start': 166085, 'event_end': 40153481, 'gain_or_loss': 'loss', 'cis_or_trans': 'trans', 'proteomics_or_transcriptomics': 'proteomics', 'cancer_types': ['brca', 'coad', 'hnscc', 'lscc', 'luad', 'ov', 'pdac'], 'source': 'gistic', 'comparison': 'has_event', 'tissue_type': 'normal', 'has_event': None, 'level': 'gene', 'data_dir': '/home/caleb/github/PayneLab/pancancerCNV/00_functions/chr08/../data'}...\n",
      "\n",
      "Running event_effects_ttest with {'chromosome': 8, 'arm': 'p', 'event_start': 166085, 'event_end': 40153481, 'gain_or_loss': 'loss', 'cis_or_trans': 'cis', 'proteomics_or_transcriptomics': 'transcriptomics', 'cancer_types': ['brca', 'coad', 'hnscc', 'lscc', 'luad', 'ov', 'pdac'], 'source': 'gistic', 'comparison': 'has_event', 'tissue_type': 'normal', 'has_event': None, 'level': 'gene', 'data_dir': '/home/caleb/github/PayneLab/pancancerCNV/00_functions/chr08/../data'}...\n",
      "\n",
      "                                                                                \r"
     ]
    },
    {
     "name": "stderr",
     "output_type": "stream",
     "text": [
      "/home/caleb/anaconda3/envs/dev/lib/python3.10/site-packages/cnvutils/chromosome_funcs.py:326: UserWarning: Empty dataframe for cancer_type=brca, source=gistic, level=gene, chromosome=8, arm=p, gain_or_loss=loss, cis_or_trans=trans, proteomics_or_transcriptomics=proteomics, comparison=has_event, tissue_type=normal, has_event=None.\n",
      "  warnings.warn(f\"Empty dataframe for cancer_type={cancer_type}, source={source}, level={level}, chromosome={chromosome}, arm={arm}, gain_or_loss={gain_or_loss}, cis_or_trans={cis_or_trans}, proteomics_or_transcriptomics={proteomics_or_transcriptomics}, comparison={comparison}, tissue_type={tissue_type}, has_event={has_event}.\")\n"
     ]
    },
    {
     "name": "stdout",
     "output_type": "stream",
     "text": [
      "Running event_effects_ttest with {'chromosome': 8, 'arm': 'p', 'event_start': 166085, 'event_end': 40153481, 'gain_or_loss': 'loss', 'cis_or_trans': 'trans', 'proteomics_or_transcriptomics': 'transcriptomics', 'cancer_types': ['brca', 'coad', 'hnscc', 'lscc', 'luad', 'ov', 'pdac'], 'source': 'gistic', 'comparison': 'has_event', 'tissue_type': 'normal', 'has_event': None, 'level': 'gene', 'data_dir': '/home/caleb/github/PayneLab/pancancerCNV/00_functions/chr08/../data'}...\n",
      "\n",
      "Loading brca transcriptomics (1/7)...                              \r"
     ]
    },
    {
     "name": "stderr",
     "output_type": "stream",
     "text": [
      "/home/caleb/anaconda3/envs/dev/lib/python3.10/site-packages/cnvutils/chromosome_funcs.py:426: UserWarning: Too small sample size for cancer_type=ov, source=gistic, level=gene, chromosome=8, arm=p, gain_or_loss=loss, cis_or_trans=trans, proteomics_or_transcriptomics=proteomics, comparison=has_event, tissue_type=normal, has_event=None.\n",
      "  warnings.warn(f\"Too small sample size for cancer_type={cancer_type}, source={source}, level={level}, chromosome={chromosome}, arm={arm}, gain_or_loss={gain_or_loss}, cis_or_trans={cis_or_trans}, proteomics_or_transcriptomics={proteomics_or_transcriptomics}, comparison={comparison}, tissue_type={tissue_type}, has_event={has_event}.\")\n"
     ]
    },
    {
     "name": "stdout",
     "output_type": "stream",
     "text": [
      "                                                                                \r"
     ]
    },
    {
     "name": "stderr",
     "output_type": "stream",
     "text": [
      "/home/caleb/anaconda3/envs/dev/lib/python3.10/site-packages/cnvutils/chromosome_funcs.py:326: UserWarning: Empty dataframe for cancer_type=brca, source=gistic, level=gene, chromosome=8, arm=p, gain_or_loss=loss, cis_or_trans=cis, proteomics_or_transcriptomics=transcriptomics, comparison=has_event, tissue_type=normal, has_event=None.\n",
      "  warnings.warn(f\"Empty dataframe for cancer_type={cancer_type}, source={source}, level={level}, chromosome={chromosome}, arm={arm}, gain_or_loss={gain_or_loss}, cis_or_trans={cis_or_trans}, proteomics_or_transcriptomics={proteomics_or_transcriptomics}, comparison={comparison}, tissue_type={tissue_type}, has_event={has_event}.\")\n",
      "/home/caleb/anaconda3/envs/dev/lib/python3.10/site-packages/cnvutils/chromosome_funcs.py:326: UserWarning: Empty dataframe for cancer_type=coad, source=gistic, level=gene, chromosome=8, arm=p, gain_or_loss=loss, cis_or_trans=cis, proteomics_or_transcriptomics=transcriptomics, comparison=has_event, tissue_type=normal, has_event=None.\n",
      "  warnings.warn(f\"Empty dataframe for cancer_type={cancer_type}, source={source}, level={level}, chromosome={chromosome}, arm={arm}, gain_or_loss={gain_or_loss}, cis_or_trans={cis_or_trans}, proteomics_or_transcriptomics={proteomics_or_transcriptomics}, comparison={comparison}, tissue_type={tissue_type}, has_event={has_event}.\")\n",
      "/home/caleb/anaconda3/envs/dev/lib/python3.10/site-packages/cnvutils/chromosome_funcs.py:326: UserWarning: Empty dataframe for cancer_type=ov, source=gistic, level=gene, chromosome=8, arm=p, gain_or_loss=loss, cis_or_trans=cis, proteomics_or_transcriptomics=transcriptomics, comparison=has_event, tissue_type=normal, has_event=None.\n",
      "  warnings.warn(f\"Empty dataframe for cancer_type={cancer_type}, source={source}, level={level}, chromosome={chromosome}, arm={arm}, gain_or_loss={gain_or_loss}, cis_or_trans={cis_or_trans}, proteomics_or_transcriptomics={proteomics_or_transcriptomics}, comparison={comparison}, tissue_type={tissue_type}, has_event={has_event}.\")\n"
     ]
    },
    {
     "name": "stdout",
     "output_type": "stream",
     "text": [
      "Running event_effects_ttest with {'chromosome': 8, 'arm': 'q', 'event_start': 36784373, 'event_end': 145052466, 'gain_or_loss': 'gain', 'cis_or_trans': 'cis', 'proteomics_or_transcriptomics': 'proteomics', 'cancer_types': ['brca', 'coad', 'hnscc', 'lscc', 'luad', 'ov', 'pdac'], 'source': 'gistic', 'comparison': 'has_event', 'tissue_type': 'tumor', 'has_event': None, 'level': 'gene', 'data_dir': '/home/caleb/github/PayneLab/pancancerCNV/00_functions/chr08/../data'}...\n",
      "\n",
      "Running event_effects_ttest with {'chromosome': 8, 'arm': 'q', 'event_start': 36784373, 'event_end': 145052466, 'gain_or_loss': 'gain', 'cis_or_trans': 'trans', 'proteomics_or_transcriptomics': 'proteomics', 'cancer_types': ['brca', 'coad', 'hnscc', 'lscc', 'luad', 'ov', 'pdac'], 'source': 'gistic', 'comparison': 'has_event', 'tissue_type': 'tumor', 'has_event': None, 'level': 'gene', 'data_dir': '/home/caleb/github/PayneLab/pancancerCNV/00_functions/chr08/../data'}...\n",
      "\n",
      "Running event_effects_ttest with {'chromosome': 8, 'arm': 'q', 'event_start': 36784373, 'event_end': 145052466, 'gain_or_loss': 'gain', 'cis_or_trans': 'cis', 'proteomics_or_transcriptomics': 'transcriptomics', 'cancer_types': ['brca', 'coad', 'hnscc', 'lscc', 'luad', 'ov', 'pdac'], 'source': 'gistic', 'comparison': 'has_event', 'tissue_type': 'tumor', 'has_event': None, 'level': 'gene', 'data_dir': '/home/caleb/github/PayneLab/pancancerCNV/00_functions/chr08/../data'}...\n",
      "\n",
      "Running event_effects_ttest with {'chromosome': 8, 'arm': 'q', 'event_start': 36784373, 'event_end': 145052466, 'gain_or_loss': 'gain', 'cis_or_trans': 'trans', 'proteomics_or_transcriptomics': 'transcriptomics', 'cancer_types': ['brca', 'coad', 'hnscc', 'lscc', 'luad', 'ov', 'pdac'], 'source': 'gistic', 'comparison': 'has_event', 'tissue_type': 'tumor', 'has_event': None, 'level': 'gene', 'data_dir': '/home/caleb/github/PayneLab/pancancerCNV/00_functions/chr08/../data'}...\n",
      "\n",
      "Running event_effects_ttest with {'chromosome': 8, 'arm': 'q', 'event_start': 36784373, 'event_end': 145052466, 'gain_or_loss': 'gain', 'cis_or_trans': 'cis', 'proteomics_or_transcriptomics': 'proteomics', 'cancer_types': ['brca', 'coad', 'hnscc', 'lscc', 'luad', 'ov', 'pdac'], 'source': 'gistic', 'comparison': 'has_event', 'tissue_type': 'normal', 'has_event': None, 'level': 'gene', 'data_dir': '/home/caleb/github/PayneLab/pancancerCNV/00_functions/chr08/../data'}...\n",
      "\n",
      "Running event_effects_ttest with {'chromosome': 8, 'arm': 'q', 'event_start': 36784373, 'event_end': 145052466, 'gain_or_loss': 'gain', 'cis_or_trans': 'trans', 'proteomics_or_transcriptomics': 'proteomics', 'cancer_types': ['brca', 'coad', 'hnscc', 'lscc', 'luad', 'ov', 'pdac'], 'source': 'gistic', 'comparison': 'has_event', 'tissue_type': 'normal', 'has_event': None, 'level': 'gene', 'data_dir': '/home/caleb/github/PayneLab/pancancerCNV/00_functions/chr08/../data'}...\n",
      "\n",
      "                                                                                \r"
     ]
    },
    {
     "name": "stderr",
     "output_type": "stream",
     "text": [
      "/home/caleb/anaconda3/envs/dev/lib/python3.10/site-packages/cnvutils/chromosome_funcs.py:326: UserWarning: Empty dataframe for cancer_type=brca, source=gistic, level=gene, chromosome=8, arm=q, gain_or_loss=gain, cis_or_trans=cis, proteomics_or_transcriptomics=proteomics, comparison=has_event, tissue_type=normal, has_event=None.\n",
      "  warnings.warn(f\"Empty dataframe for cancer_type={cancer_type}, source={source}, level={level}, chromosome={chromosome}, arm={arm}, gain_or_loss={gain_or_loss}, cis_or_trans={cis_or_trans}, proteomics_or_transcriptomics={proteomics_or_transcriptomics}, comparison={comparison}, tissue_type={tissue_type}, has_event={has_event}.\")\n"
     ]
    },
    {
     "name": "stdout",
     "output_type": "stream",
     "text": [
      "                                                                                \r"
     ]
    },
    {
     "name": "stderr",
     "output_type": "stream",
     "text": [
      "/home/caleb/anaconda3/envs/dev/lib/python3.10/site-packages/cnvutils/chromosome_funcs.py:326: UserWarning: Empty dataframe for cancer_type=brca, source=gistic, level=gene, chromosome=8, arm=p, gain_or_loss=loss, cis_or_trans=trans, proteomics_or_transcriptomics=transcriptomics, comparison=has_event, tissue_type=normal, has_event=None.\n",
      "  warnings.warn(f\"Empty dataframe for cancer_type={cancer_type}, source={source}, level={level}, chromosome={chromosome}, arm={arm}, gain_or_loss={gain_or_loss}, cis_or_trans={cis_or_trans}, proteomics_or_transcriptomics={proteomics_or_transcriptomics}, comparison={comparison}, tissue_type={tissue_type}, has_event={has_event}.\")\n",
      "/home/caleb/anaconda3/envs/dev/lib/python3.10/site-packages/cnvutils/chromosome_funcs.py:326: UserWarning: Empty dataframe for cancer_type=coad, source=gistic, level=gene, chromosome=8, arm=p, gain_or_loss=loss, cis_or_trans=trans, proteomics_or_transcriptomics=transcriptomics, comparison=has_event, tissue_type=normal, has_event=None.\n",
      "  warnings.warn(f\"Empty dataframe for cancer_type={cancer_type}, source={source}, level={level}, chromosome={chromosome}, arm={arm}, gain_or_loss={gain_or_loss}, cis_or_trans={cis_or_trans}, proteomics_or_transcriptomics={proteomics_or_transcriptomics}, comparison={comparison}, tissue_type={tissue_type}, has_event={has_event}.\")\n",
      "/home/caleb/anaconda3/envs/dev/lib/python3.10/site-packages/cnvutils/chromosome_funcs.py:326: UserWarning: Empty dataframe for cancer_type=ov, source=gistic, level=gene, chromosome=8, arm=p, gain_or_loss=loss, cis_or_trans=trans, proteomics_or_transcriptomics=transcriptomics, comparison=has_event, tissue_type=normal, has_event=None.\n",
      "  warnings.warn(f\"Empty dataframe for cancer_type={cancer_type}, source={source}, level={level}, chromosome={chromosome}, arm={arm}, gain_or_loss={gain_or_loss}, cis_or_trans={cis_or_trans}, proteomics_or_transcriptomics={proteomics_or_transcriptomics}, comparison={comparison}, tissue_type={tissue_type}, has_event={has_event}.\")\n",
      "/home/caleb/anaconda3/envs/dev/lib/python3.10/site-packages/cnvutils/chromosome_funcs.py:426: UserWarning: Too small sample size for cancer_type=ov, source=gistic, level=gene, chromosome=8, arm=q, gain_or_loss=gain, cis_or_trans=cis, proteomics_or_transcriptomics=proteomics, comparison=has_event, tissue_type=normal, has_event=None.\n",
      "  warnings.warn(f\"Too small sample size for cancer_type={cancer_type}, source={source}, level={level}, chromosome={chromosome}, arm={arm}, gain_or_loss={gain_or_loss}, cis_or_trans={cis_or_trans}, proteomics_or_transcriptomics={proteomics_or_transcriptomics}, comparison={comparison}, tissue_type={tissue_type}, has_event={has_event}.\")\n"
     ]
    },
    {
     "name": "stdout",
     "output_type": "stream",
     "text": [
      "Running event_effects_ttest with {'chromosome': 8, 'arm': 'q', 'event_start': 36784373, 'event_end': 145052466, 'gain_or_loss': 'gain', 'cis_or_trans': 'cis', 'proteomics_or_transcriptomics': 'transcriptomics', 'cancer_types': ['brca', 'coad', 'hnscc', 'lscc', 'luad', 'ov', 'pdac'], 'source': 'gistic', 'comparison': 'has_event', 'tissue_type': 'normal', 'has_event': None, 'level': 'gene', 'data_dir': '/home/caleb/github/PayneLab/pancancerCNV/00_functions/chr08/../data'}...\n",
      "\n",
      "                                                                                \r"
     ]
    },
    {
     "name": "stderr",
     "output_type": "stream",
     "text": [
      "/home/caleb/anaconda3/envs/dev/lib/python3.10/site-packages/cnvutils/chromosome_funcs.py:326: UserWarning: Empty dataframe for cancer_type=brca, source=gistic, level=gene, chromosome=8, arm=q, gain_or_loss=gain, cis_or_trans=trans, proteomics_or_transcriptomics=proteomics, comparison=has_event, tissue_type=normal, has_event=None.\n",
      "  warnings.warn(f\"Empty dataframe for cancer_type={cancer_type}, source={source}, level={level}, chromosome={chromosome}, arm={arm}, gain_or_loss={gain_or_loss}, cis_or_trans={cis_or_trans}, proteomics_or_transcriptomics={proteomics_or_transcriptomics}, comparison={comparison}, tissue_type={tissue_type}, has_event={has_event}.\")\n"
     ]
    },
    {
     "name": "stdout",
     "output_type": "stream",
     "text": [
      "Running event_effects_ttest with {'chromosome': 8, 'arm': 'q', 'event_start': 36784373, 'event_end': 145052466, 'gain_or_loss': 'gain', 'cis_or_trans': 'trans', 'proteomics_or_transcriptomics': 'transcriptomics', 'cancer_types': ['brca', 'coad', 'hnscc', 'lscc', 'luad', 'ov', 'pdac'], 'source': 'gistic', 'comparison': 'has_event', 'tissue_type': 'normal', 'has_event': None, 'level': 'gene', 'data_dir': '/home/caleb/github/PayneLab/pancancerCNV/00_functions/chr08/../data'}...\n",
      "\n",
      "                                                                                \r"
     ]
    },
    {
     "name": "stderr",
     "output_type": "stream",
     "text": [
      "/home/caleb/anaconda3/envs/dev/lib/python3.10/site-packages/cnvutils/chromosome_funcs.py:426: UserWarning: Too small sample size for cancer_type=ov, source=gistic, level=gene, chromosome=8, arm=q, gain_or_loss=gain, cis_or_trans=trans, proteomics_or_transcriptomics=proteomics, comparison=has_event, tissue_type=normal, has_event=None.\n",
      "  warnings.warn(f\"Too small sample size for cancer_type={cancer_type}, source={source}, level={level}, chromosome={chromosome}, arm={arm}, gain_or_loss={gain_or_loss}, cis_or_trans={cis_or_trans}, proteomics_or_transcriptomics={proteomics_or_transcriptomics}, comparison={comparison}, tissue_type={tissue_type}, has_event={has_event}.\")\n"
     ]
    },
    {
     "name": "stdout",
     "output_type": "stream",
     "text": [
      "                                                                                \r"
     ]
    },
    {
     "name": "stderr",
     "output_type": "stream",
     "text": [
      "/home/caleb/anaconda3/envs/dev/lib/python3.10/site-packages/cnvutils/chromosome_funcs.py:326: UserWarning: Empty dataframe for cancer_type=brca, source=gistic, level=gene, chromosome=8, arm=q, gain_or_loss=gain, cis_or_trans=cis, proteomics_or_transcriptomics=transcriptomics, comparison=has_event, tissue_type=normal, has_event=None.\n",
      "  warnings.warn(f\"Empty dataframe for cancer_type={cancer_type}, source={source}, level={level}, chromosome={chromosome}, arm={arm}, gain_or_loss={gain_or_loss}, cis_or_trans={cis_or_trans}, proteomics_or_transcriptomics={proteomics_or_transcriptomics}, comparison={comparison}, tissue_type={tissue_type}, has_event={has_event}.\")\n",
      "/home/caleb/anaconda3/envs/dev/lib/python3.10/site-packages/cnvutils/chromosome_funcs.py:326: UserWarning: Empty dataframe for cancer_type=coad, source=gistic, level=gene, chromosome=8, arm=q, gain_or_loss=gain, cis_or_trans=cis, proteomics_or_transcriptomics=transcriptomics, comparison=has_event, tissue_type=normal, has_event=None.\n",
      "  warnings.warn(f\"Empty dataframe for cancer_type={cancer_type}, source={source}, level={level}, chromosome={chromosome}, arm={arm}, gain_or_loss={gain_or_loss}, cis_or_trans={cis_or_trans}, proteomics_or_transcriptomics={proteomics_or_transcriptomics}, comparison={comparison}, tissue_type={tissue_type}, has_event={has_event}.\")\n",
      "/home/caleb/anaconda3/envs/dev/lib/python3.10/site-packages/cnvutils/chromosome_funcs.py:326: UserWarning: Empty dataframe for cancer_type=ov, source=gistic, level=gene, chromosome=8, arm=q, gain_or_loss=gain, cis_or_trans=cis, proteomics_or_transcriptomics=transcriptomics, comparison=has_event, tissue_type=normal, has_event=None.\n",
      "  warnings.warn(f\"Empty dataframe for cancer_type={cancer_type}, source={source}, level={level}, chromosome={chromosome}, arm={arm}, gain_or_loss={gain_or_loss}, cis_or_trans={cis_or_trans}, proteomics_or_transcriptomics={proteomics_or_transcriptomics}, comparison={comparison}, tissue_type={tissue_type}, has_event={has_event}.\")\n"
     ]
    },
    {
     "name": "stdout",
     "output_type": "stream",
     "text": [
      "                                                                                \r"
     ]
    },
    {
     "name": "stderr",
     "output_type": "stream",
     "text": [
      "/home/caleb/anaconda3/envs/dev/lib/python3.10/site-packages/cnvutils/chromosome_funcs.py:326: UserWarning: Empty dataframe for cancer_type=brca, source=gistic, level=gene, chromosome=8, arm=q, gain_or_loss=gain, cis_or_trans=trans, proteomics_or_transcriptomics=transcriptomics, comparison=has_event, tissue_type=normal, has_event=None.\n",
      "  warnings.warn(f\"Empty dataframe for cancer_type={cancer_type}, source={source}, level={level}, chromosome={chromosome}, arm={arm}, gain_or_loss={gain_or_loss}, cis_or_trans={cis_or_trans}, proteomics_or_transcriptomics={proteomics_or_transcriptomics}, comparison={comparison}, tissue_type={tissue_type}, has_event={has_event}.\")\n",
      "/home/caleb/anaconda3/envs/dev/lib/python3.10/site-packages/cnvutils/chromosome_funcs.py:326: UserWarning: Empty dataframe for cancer_type=coad, source=gistic, level=gene, chromosome=8, arm=q, gain_or_loss=gain, cis_or_trans=trans, proteomics_or_transcriptomics=transcriptomics, comparison=has_event, tissue_type=normal, has_event=None.\n",
      "  warnings.warn(f\"Empty dataframe for cancer_type={cancer_type}, source={source}, level={level}, chromosome={chromosome}, arm={arm}, gain_or_loss={gain_or_loss}, cis_or_trans={cis_or_trans}, proteomics_or_transcriptomics={proteomics_or_transcriptomics}, comparison={comparison}, tissue_type={tissue_type}, has_event={has_event}.\")\n",
      "/home/caleb/anaconda3/envs/dev/lib/python3.10/site-packages/cnvutils/chromosome_funcs.py:326: UserWarning: Empty dataframe for cancer_type=ov, source=gistic, level=gene, chromosome=8, arm=q, gain_or_loss=gain, cis_or_trans=trans, proteomics_or_transcriptomics=transcriptomics, comparison=has_event, tissue_type=normal, has_event=None.\n",
      "  warnings.warn(f\"Empty dataframe for cancer_type={cancer_type}, source={source}, level={level}, chromosome={chromosome}, arm={arm}, gain_or_loss={gain_or_loss}, cis_or_trans={cis_or_trans}, proteomics_or_transcriptomics={proteomics_or_transcriptomics}, comparison={comparison}, tissue_type={tissue_type}, has_event={has_event}.\")\n"
     ]
    },
    {
     "data": {
      "text/plain": [
       "[None,\n",
       " None,\n",
       " None,\n",
       " None,\n",
       " None,\n",
       " None,\n",
       " None,\n",
       " None,\n",
       " None,\n",
       " None,\n",
       " None,\n",
       " None,\n",
       " None,\n",
       " None,\n",
       " None,\n",
       " None,\n",
       " None,\n",
       " None,\n",
       " None,\n",
       " None,\n",
       " None,\n",
       " None,\n",
       " None,\n",
       " None,\n",
       " None,\n",
       " None,\n",
       " None,\n",
       " None,\n",
       " None,\n",
       " None,\n",
       " None,\n",
       " None]"
      ]
     },
     "execution_count": 2,
     "metadata": {},
     "output_type": "execute_result"
    }
   ],
   "source": [
    "cnvutils.multi_runner(\n",
    "    func=cnvutils.event_effects_ttest,\n",
    "    sources=[\"cptac\", \"gistic\"],\n",
    "    levels=[\"gene\"],\n",
    "    chromosomes_events={\n",
    "        8: {\n",
    "            \"p\": [\"loss\"],\n",
    "            \"q\": [\"gain\"],\n",
    "        },\n",
    "    },\n",
    "    more_dicts=[\n",
    "        {\n",
    "            \"name\": \"comparison\",\n",
    "            \"vals\": [\"has_event\"]\n",
    "        },\n",
    "        {\n",
    "            \"name\": \"tissue_type\",\n",
    "            \"vals\": [\"tumor\", \"normal\"],\n",
    "        },\n",
    "        {\n",
    "            \"name\": \"proteomics_or_transcriptomics\",\n",
    "            \"vals\": [\"proteomics\", \"transcriptomics\"],\n",
    "        },\n",
    "        {\n",
    "            \"name\": \"cis_or_trans\",\n",
    "            \"vals\": [\"cis\", \"trans\"],\n",
    "        },\n",
    "    ]\n",
    ")"
   ]
  },
  {
   "cell_type": "markdown",
   "id": "2482aa02",
   "metadata": {},
   "source": [
    "## RNA and protein abundances for each gene, comparing tumor to normal, looking at  samples with the event and samples without the event separately"
   ]
  },
  {
   "cell_type": "code",
   "execution_count": 3,
   "id": "c816e97e",
   "metadata": {
    "scrolled": true
   },
   "outputs": [
    {
     "name": "stdout",
     "output_type": "stream",
     "text": [
      "Running event_effects_ttest with {'chromosome': 8, 'arm': 'p', 'event_start': 406428, 'event_end': 38176533, 'gain_or_loss': 'loss', 'cis_or_trans': 'trans', 'proteomics_or_transcriptomics': 'transcriptomics', 'cancer_types': ['brca', 'coad', 'hnscc', 'lscc', 'luad', 'ov'], 'source': 'cptac', 'comparison': 'tumor', 'tissue_type': None, 'has_event': True, 'level': None, 'data_dir': '/home/caleb/github/PayneLab/pancancerCNV/00_functions/chr08/../data'}...\n",
      "Running event_effects_ttest with {'chromosome': 8, 'arm': 'p', 'event_start': 406428, 'event_end': 38176533, 'gain_or_loss': 'loss', 'cis_or_trans': 'trans', 'proteomics_or_transcriptomics': 'proteomics', 'cancer_types': ['brca', 'coad', 'hnscc', 'lscc', 'luad', 'ov'], 'source': 'cptac', 'comparison': 'tumor', 'tissue_type': None, 'has_event': True, 'level': None, 'data_dir': '/home/caleb/github/PayneLab/pancancerCNV/00_functions/chr08/../data'}...\n",
      "Running event_effects_ttest with {'chromosome': 8, 'arm': 'p', 'event_start': 406428, 'event_end': 38176533, 'gain_or_loss': 'loss', 'cis_or_trans': 'cis', 'proteomics_or_transcriptomics': 'transcriptomics', 'cancer_types': ['brca', 'coad', 'hnscc', 'lscc', 'luad', 'ov'], 'source': 'cptac', 'comparison': 'tumor', 'tissue_type': None, 'has_event': True, 'level': None, 'data_dir': '/home/caleb/github/PayneLab/pancancerCNV/00_functions/chr08/../data'}...\n",
      "Running event_effects_ttest with {'chromosome': 8, 'arm': 'p', 'event_start': 406428, 'event_end': 38176533, 'gain_or_loss': 'loss', 'cis_or_trans': 'cis', 'proteomics_or_transcriptomics': 'proteomics', 'cancer_types': ['brca', 'coad', 'hnscc', 'lscc', 'luad', 'ov'], 'source': 'cptac', 'comparison': 'tumor', 'tissue_type': None, 'has_event': True, 'level': None, 'data_dir': '/home/caleb/github/PayneLab/pancancerCNV/00_functions/chr08/../data'}...\n",
      "Running event_effects_ttest with {'chromosome': 8, 'arm': 'p', 'event_start': 406428, 'event_end': 38176533, 'gain_or_loss': 'loss', 'cis_or_trans': 'trans', 'proteomics_or_transcriptomics': 'proteomics', 'cancer_types': ['brca', 'coad', 'hnscc', 'lscc', 'luad', 'ov'], 'source': 'cptac', 'comparison': 'tumor', 'tissue_type': None, 'has_event': False, 'level': None, 'data_dir': '/home/caleb/github/PayneLab/pancancerCNV/00_functions/chr08/../data'}...\n",
      "Running event_effects_ttest with {'chromosome': 8, 'arm': 'p', 'event_start': 406428, 'event_end': 38176533, 'gain_or_loss': 'loss', 'cis_or_trans': 'cis', 'proteomics_or_transcriptomics': 'proteomics', 'cancer_types': ['brca', 'coad', 'hnscc', 'lscc', 'luad', 'ov'], 'source': 'cptac', 'comparison': 'tumor', 'tissue_type': None, 'has_event': False, 'level': None, 'data_dir': '/home/caleb/github/PayneLab/pancancerCNV/00_functions/chr08/../data'}...\n",
      "Running event_effects_ttest with {'chromosome': 8, 'arm': 'p', 'event_start': 406428, 'event_end': 38176533, 'gain_or_loss': 'loss', 'cis_or_trans': 'cis', 'proteomics_or_transcriptomics': 'transcriptomics', 'cancer_types': ['brca', 'coad', 'hnscc', 'lscc', 'luad', 'ov'], 'source': 'cptac', 'comparison': 'tumor', 'tissue_type': None, 'has_event': False, 'level': None, 'data_dir': '/home/caleb/github/PayneLab/pancancerCNV/00_functions/chr08/../data'}...\n",
      "Running event_effects_ttest with {'chromosome': 8, 'arm': 'p', 'event_start': 406428, 'event_end': 38176533, 'gain_or_loss': 'loss', 'cis_or_trans': 'trans', 'proteomics_or_transcriptomics': 'transcriptomics', 'cancer_types': ['brca', 'coad', 'hnscc', 'lscc', 'luad', 'ov'], 'source': 'cptac', 'comparison': 'tumor', 'tissue_type': None, 'has_event': False, 'level': None, 'data_dir': '/home/caleb/github/PayneLab/pancancerCNV/00_functions/chr08/../data'}...\n",
      "\n",
      "\n",
      "\n",
      "\n",
      "\n",
      "\n",
      "\n",
      "Loading brca transcriptomics (1/6)...                              \n",
      "                                                                                proteomics (1/6)...                              Loading brca proteomics (1/6)...                              Loading brca proteomics (1/6)...                              Loading brca transcriptomics (1/6)...                              Loading brca transcriptomics (1/6)...                              \r"
     ]
    },
    {
     "name": "stderr",
     "output_type": "stream",
     "text": [
      "/home/caleb/anaconda3/envs/dev/lib/python3.10/site-packages/cnvutils/chromosome_funcs.py:399: UserWarning: Only one tissue type for cancer_type=brca, source=cptac, level=None, chromosome=8, arm=p, gain_or_loss=loss, cis_or_trans=cis, proteomics_or_transcriptomics=proteomics, comparison=tumor, tissue_type=None, has_event=True.\n",
      "  warnings.warn(f\"Only one tissue type for cancer_type={cancer_type}, source={source}, level={level}, chromosome={chromosome}, arm={arm}, gain_or_loss={gain_or_loss}, cis_or_trans={cis_or_trans}, proteomics_or_transcriptomics={proteomics_or_transcriptomics}, comparison={comparison}, tissue_type={tissue_type}, has_event={has_event}.\")\n",
      "/home/caleb/anaconda3/envs/dev/lib/python3.10/site-packages/cnvutils/chromosome_funcs.py:399: UserWarning: Only one tissue type for cancer_type=brca, source=cptac, level=None, chromosome=8, arm=p, gain_or_loss=loss, cis_or_trans=cis, proteomics_or_transcriptomics=proteomics, comparison=tumor, tissue_type=None, has_event=False.\n",
      "  warnings.warn(f\"Only one tissue type for cancer_type={cancer_type}, source={source}, level={level}, chromosome={chromosome}, arm={arm}, gain_or_loss={gain_or_loss}, cis_or_trans={cis_or_trans}, proteomics_or_transcriptomics={proteomics_or_transcriptomics}, comparison={comparison}, tissue_type={tissue_type}, has_event={has_event}.\")\n",
      "/home/caleb/anaconda3/envs/dev/lib/python3.10/site-packages/cnvutils/chromosome_funcs.py:426: UserWarning: Too small sample size for cancer_type=ov, source=cptac, level=None, chromosome=8, arm=p, gain_or_loss=loss, cis_or_trans=cis, proteomics_or_transcriptomics=proteomics, comparison=tumor, tissue_type=None, has_event=True.\n",
      "  warnings.warn(f\"Too small sample size for cancer_type={cancer_type}, source={source}, level={level}, chromosome={chromosome}, arm={arm}, gain_or_loss={gain_or_loss}, cis_or_trans={cis_or_trans}, proteomics_or_transcriptomics={proteomics_or_transcriptomics}, comparison={comparison}, tissue_type={tissue_type}, has_event={has_event}.\")\n",
      "/home/caleb/anaconda3/envs/dev/lib/python3.10/site-packages/cnvutils/chromosome_funcs.py:399: UserWarning: Only one tissue type for cancer_type=brca, source=cptac, level=None, chromosome=8, arm=p, gain_or_loss=loss, cis_or_trans=trans, proteomics_or_transcriptomics=proteomics, comparison=tumor, tissue_type=None, has_event=True.\n",
      "  warnings.warn(f\"Only one tissue type for cancer_type={cancer_type}, source={source}, level={level}, chromosome={chromosome}, arm={arm}, gain_or_loss={gain_or_loss}, cis_or_trans={cis_or_trans}, proteomics_or_transcriptomics={proteomics_or_transcriptomics}, comparison={comparison}, tissue_type={tissue_type}, has_event={has_event}.\")\n",
      "/home/caleb/anaconda3/envs/dev/lib/python3.10/site-packages/cnvutils/chromosome_funcs.py:399: UserWarning: Only one tissue type for cancer_type=brca, source=cptac, level=None, chromosome=8, arm=p, gain_or_loss=loss, cis_or_trans=trans, proteomics_or_transcriptomics=proteomics, comparison=tumor, tissue_type=None, has_event=False.\n",
      "  warnings.warn(f\"Only one tissue type for cancer_type={cancer_type}, source={source}, level={level}, chromosome={chromosome}, arm={arm}, gain_or_loss={gain_or_loss}, cis_or_trans={cis_or_trans}, proteomics_or_transcriptomics={proteomics_or_transcriptomics}, comparison={comparison}, tissue_type={tissue_type}, has_event={has_event}.\")\n"
     ]
    },
    {
     "name": "stdout",
     "output_type": "stream",
     "text": [
      "Running event_effects_ttest with {'chromosome': 8, 'arm': 'q', 'event_start': 47260878, 'event_end': 145052465, 'gain_or_loss': 'gain', 'cis_or_trans': 'cis', 'proteomics_or_transcriptomics': 'proteomics', 'cancer_types': ['brca', 'coad', 'hnscc', 'lscc', 'luad', 'ov'], 'source': 'cptac', 'comparison': 'tumor', 'tissue_type': None, 'has_event': True, 'level': None, 'data_dir': '/home/caleb/github/PayneLab/pancancerCNV/00_functions/chr08/../data'}...\n",
      "\n",
      "Running event_effects_ttest with {'chromosome': 8, 'arm': 'q', 'event_start': 47260878, 'event_end': 145052465, 'gain_or_loss': 'gain', 'cis_or_trans': 'trans', 'proteomics_or_transcriptomics': 'proteomics', 'cancer_types': ['brca', 'coad', 'hnscc', 'lscc', 'luad', 'ov'], 'source': 'cptac', 'comparison': 'tumor', 'tissue_type': None, 'has_event': True, 'level': None, 'data_dir': '/home/caleb/github/PayneLab/pancancerCNV/00_functions/chr08/../data'}...\n",
      "\n",
      "Loading hnscc transcriptomics (3/6)...                                          \r"
     ]
    },
    {
     "name": "stderr",
     "output_type": "stream",
     "text": [
      "/home/caleb/anaconda3/envs/dev/lib/python3.10/site-packages/cnvutils/chromosome_funcs.py:399: UserWarning: Only one tissue type for cancer_type=brca, source=cptac, level=None, chromosome=8, arm=q, gain_or_loss=gain, cis_or_trans=cis, proteomics_or_transcriptomics=proteomics, comparison=tumor, tissue_type=None, has_event=True.\n",
      "  warnings.warn(f\"Only one tissue type for cancer_type={cancer_type}, source={source}, level={level}, chromosome={chromosome}, arm={arm}, gain_or_loss={gain_or_loss}, cis_or_trans={cis_or_trans}, proteomics_or_transcriptomics={proteomics_or_transcriptomics}, comparison={comparison}, tissue_type={tissue_type}, has_event={has_event}.\")\n"
     ]
    },
    {
     "name": "stdout",
     "output_type": "stream",
     "text": [
      "Loading hnscc transcriptomics (3/6)...                                          \r"
     ]
    },
    {
     "name": "stderr",
     "output_type": "stream",
     "text": [
      "/home/caleb/anaconda3/envs/dev/lib/python3.10/site-packages/cnvutils/chromosome_funcs.py:399: UserWarning: Only one tissue type for cancer_type=brca, source=cptac, level=None, chromosome=8, arm=q, gain_or_loss=gain, cis_or_trans=trans, proteomics_or_transcriptomics=proteomics, comparison=tumor, tissue_type=None, has_event=True.\n",
      "  warnings.warn(f\"Only one tissue type for cancer_type={cancer_type}, source={source}, level={level}, chromosome={chromosome}, arm={arm}, gain_or_loss={gain_or_loss}, cis_or_trans={cis_or_trans}, proteomics_or_transcriptomics={proteomics_or_transcriptomics}, comparison={comparison}, tissue_type={tissue_type}, has_event={has_event}.\")\n",
      "/home/caleb/anaconda3/envs/dev/lib/python3.10/site-packages/cnvutils/chromosome_funcs.py:426: UserWarning: Too small sample size for cancer_type=ov, source=cptac, level=None, chromosome=8, arm=q, gain_or_loss=gain, cis_or_trans=cis, proteomics_or_transcriptomics=proteomics, comparison=tumor, tissue_type=None, has_event=True.\n",
      "  warnings.warn(f\"Too small sample size for cancer_type={cancer_type}, source={source}, level={level}, chromosome={chromosome}, arm={arm}, gain_or_loss={gain_or_loss}, cis_or_trans={cis_or_trans}, proteomics_or_transcriptomics={proteomics_or_transcriptomics}, comparison={comparison}, tissue_type={tissue_type}, has_event={has_event}.\")\n"
     ]
    },
    {
     "name": "stdout",
     "output_type": "stream",
     "text": [
      "Running event_effects_ttest with {'chromosome': 8, 'arm': 'q', 'event_start': 47260878, 'event_end': 145052465, 'gain_or_loss': 'gain', 'cis_or_trans': 'cis', 'proteomics_or_transcriptomics': 'transcriptomics', 'cancer_types': ['brca', 'coad', 'hnscc', 'lscc', 'luad', 'ov'], 'source': 'cptac', 'comparison': 'tumor', 'tissue_type': None, 'has_event': True, 'level': None, 'data_dir': '/home/caleb/github/PayneLab/pancancerCNV/00_functions/chr08/../data'}...\n",
      "\n",
      "Loading lscc transcriptomics (4/6)...                               \r"
     ]
    },
    {
     "name": "stderr",
     "output_type": "stream",
     "text": [
      "/home/caleb/anaconda3/envs/dev/lib/python3.10/site-packages/cnvutils/chromosome_funcs.py:426: UserWarning: Too small sample size for cancer_type=ov, source=cptac, level=None, chromosome=8, arm=p, gain_or_loss=loss, cis_or_trans=trans, proteomics_or_transcriptomics=proteomics, comparison=tumor, tissue_type=None, has_event=True.\n",
      "  warnings.warn(f\"Too small sample size for cancer_type={cancer_type}, source={source}, level={level}, chromosome={chromosome}, arm={arm}, gain_or_loss={gain_or_loss}, cis_or_trans={cis_or_trans}, proteomics_or_transcriptomics={proteomics_or_transcriptomics}, comparison={comparison}, tissue_type={tissue_type}, has_event={has_event}.\")\n"
     ]
    },
    {
     "name": "stdout",
     "output_type": "stream",
     "text": [
      "                                                                                \r"
     ]
    },
    {
     "name": "stderr",
     "output_type": "stream",
     "text": [
      "/home/caleb/anaconda3/envs/dev/lib/python3.10/site-packages/cnvutils/chromosome_funcs.py:426: UserWarning: Too small sample size for cancer_type=ov, source=cptac, level=None, chromosome=8, arm=q, gain_or_loss=gain, cis_or_trans=trans, proteomics_or_transcriptomics=proteomics, comparison=tumor, tissue_type=None, has_event=True.\n",
      "  warnings.warn(f\"Too small sample size for cancer_type={cancer_type}, source={source}, level={level}, chromosome={chromosome}, arm={arm}, gain_or_loss={gain_or_loss}, cis_or_trans={cis_or_trans}, proteomics_or_transcriptomics={proteomics_or_transcriptomics}, comparison={comparison}, tissue_type={tissue_type}, has_event={has_event}.\")\n",
      "/home/caleb/anaconda3/envs/dev/lib/python3.10/site-packages/cnvutils/chromosome_funcs.py:399: UserWarning: Only one tissue type for cancer_type=brca, source=cptac, level=None, chromosome=8, arm=p, gain_or_loss=loss, cis_or_trans=trans, proteomics_or_transcriptomics=transcriptomics, comparison=tumor, tissue_type=None, has_event=True.\n",
      "  warnings.warn(f\"Only one tissue type for cancer_type={cancer_type}, source={source}, level={level}, chromosome={chromosome}, arm={arm}, gain_or_loss={gain_or_loss}, cis_or_trans={cis_or_trans}, proteomics_or_transcriptomics={proteomics_or_transcriptomics}, comparison={comparison}, tissue_type={tissue_type}, has_event={has_event}.\")\n",
      "/home/caleb/anaconda3/envs/dev/lib/python3.10/site-packages/cnvutils/chromosome_funcs.py:399: UserWarning: Only one tissue type for cancer_type=coad, source=cptac, level=None, chromosome=8, arm=p, gain_or_loss=loss, cis_or_trans=trans, proteomics_or_transcriptomics=transcriptomics, comparison=tumor, tissue_type=None, has_event=True.\n",
      "  warnings.warn(f\"Only one tissue type for cancer_type={cancer_type}, source={source}, level={level}, chromosome={chromosome}, arm={arm}, gain_or_loss={gain_or_loss}, cis_or_trans={cis_or_trans}, proteomics_or_transcriptomics={proteomics_or_transcriptomics}, comparison={comparison}, tissue_type={tissue_type}, has_event={has_event}.\")\n",
      "/home/caleb/anaconda3/envs/dev/lib/python3.10/site-packages/cnvutils/chromosome_funcs.py:399: UserWarning: Only one tissue type for cancer_type=ov, source=cptac, level=None, chromosome=8, arm=p, gain_or_loss=loss, cis_or_trans=trans, proteomics_or_transcriptomics=transcriptomics, comparison=tumor, tissue_type=None, has_event=True.\n",
      "  warnings.warn(f\"Only one tissue type for cancer_type={cancer_type}, source={source}, level={level}, chromosome={chromosome}, arm={arm}, gain_or_loss={gain_or_loss}, cis_or_trans={cis_or_trans}, proteomics_or_transcriptomics={proteomics_or_transcriptomics}, comparison={comparison}, tissue_type={tissue_type}, has_event={has_event}.\")\n",
      "/home/caleb/anaconda3/envs/dev/lib/python3.10/site-packages/cnvutils/chromosome_funcs.py:399: UserWarning: Only one tissue type for cancer_type=brca, source=cptac, level=None, chromosome=8, arm=p, gain_or_loss=loss, cis_or_trans=cis, proteomics_or_transcriptomics=transcriptomics, comparison=tumor, tissue_type=None, has_event=True.\n",
      "  warnings.warn(f\"Only one tissue type for cancer_type={cancer_type}, source={source}, level={level}, chromosome={chromosome}, arm={arm}, gain_or_loss={gain_or_loss}, cis_or_trans={cis_or_trans}, proteomics_or_transcriptomics={proteomics_or_transcriptomics}, comparison={comparison}, tissue_type={tissue_type}, has_event={has_event}.\")\n",
      "/home/caleb/anaconda3/envs/dev/lib/python3.10/site-packages/cnvutils/chromosome_funcs.py:399: UserWarning: Only one tissue type for cancer_type=coad, source=cptac, level=None, chromosome=8, arm=p, gain_or_loss=loss, cis_or_trans=cis, proteomics_or_transcriptomics=transcriptomics, comparison=tumor, tissue_type=None, has_event=True.\n",
      "  warnings.warn(f\"Only one tissue type for cancer_type={cancer_type}, source={source}, level={level}, chromosome={chromosome}, arm={arm}, gain_or_loss={gain_or_loss}, cis_or_trans={cis_or_trans}, proteomics_or_transcriptomics={proteomics_or_transcriptomics}, comparison={comparison}, tissue_type={tissue_type}, has_event={has_event}.\")\n",
      "/home/caleb/anaconda3/envs/dev/lib/python3.10/site-packages/cnvutils/chromosome_funcs.py:399: UserWarning: Only one tissue type for cancer_type=ov, source=cptac, level=None, chromosome=8, arm=p, gain_or_loss=loss, cis_or_trans=cis, proteomics_or_transcriptomics=transcriptomics, comparison=tumor, tissue_type=None, has_event=True.\n",
      "  warnings.warn(f\"Only one tissue type for cancer_type={cancer_type}, source={source}, level={level}, chromosome={chromosome}, arm={arm}, gain_or_loss={gain_or_loss}, cis_or_trans={cis_or_trans}, proteomics_or_transcriptomics={proteomics_or_transcriptomics}, comparison={comparison}, tissue_type={tissue_type}, has_event={has_event}.\")\n",
      "/home/caleb/anaconda3/envs/dev/lib/python3.10/site-packages/cnvutils/chromosome_funcs.py:399: UserWarning: Only one tissue type for cancer_type=brca, source=cptac, level=None, chromosome=8, arm=p, gain_or_loss=loss, cis_or_trans=cis, proteomics_or_transcriptomics=transcriptomics, comparison=tumor, tissue_type=None, has_event=False.\n",
      "  warnings.warn(f\"Only one tissue type for cancer_type={cancer_type}, source={source}, level={level}, chromosome={chromosome}, arm={arm}, gain_or_loss={gain_or_loss}, cis_or_trans={cis_or_trans}, proteomics_or_transcriptomics={proteomics_or_transcriptomics}, comparison={comparison}, tissue_type={tissue_type}, has_event={has_event}.\")\n",
      "/home/caleb/anaconda3/envs/dev/lib/python3.10/site-packages/cnvutils/chromosome_funcs.py:399: UserWarning: Only one tissue type for cancer_type=coad, source=cptac, level=None, chromosome=8, arm=p, gain_or_loss=loss, cis_or_trans=cis, proteomics_or_transcriptomics=transcriptomics, comparison=tumor, tissue_type=None, has_event=False.\n",
      "  warnings.warn(f\"Only one tissue type for cancer_type={cancer_type}, source={source}, level={level}, chromosome={chromosome}, arm={arm}, gain_or_loss={gain_or_loss}, cis_or_trans={cis_or_trans}, proteomics_or_transcriptomics={proteomics_or_transcriptomics}, comparison={comparison}, tissue_type={tissue_type}, has_event={has_event}.\")\n",
      "/home/caleb/anaconda3/envs/dev/lib/python3.10/site-packages/cnvutils/chromosome_funcs.py:399: UserWarning: Only one tissue type for cancer_type=ov, source=cptac, level=None, chromosome=8, arm=p, gain_or_loss=loss, cis_or_trans=cis, proteomics_or_transcriptomics=transcriptomics, comparison=tumor, tissue_type=None, has_event=False.\n",
      "  warnings.warn(f\"Only one tissue type for cancer_type={cancer_type}, source={source}, level={level}, chromosome={chromosome}, arm={arm}, gain_or_loss={gain_or_loss}, cis_or_trans={cis_or_trans}, proteomics_or_transcriptomics={proteomics_or_transcriptomics}, comparison={comparison}, tissue_type={tissue_type}, has_event={has_event}.\")\n"
     ]
    },
    {
     "name": "stdout",
     "output_type": "stream",
     "text": [
      "Running event_effects_ttest with {'chromosome': 8, 'arm': 'q', 'event_start': 47260878, 'event_end': 145052465, 'gain_or_loss': 'gain', 'cis_or_trans': 'trans', 'proteomics_or_transcriptomics': 'transcriptomics', 'cancer_types': ['brca', 'coad', 'hnscc', 'lscc', 'luad', 'ov'], 'source': 'cptac', 'comparison': 'tumor', 'tissue_type': None, 'has_event': True, 'level': None, 'data_dir': '/home/caleb/github/PayneLab/pancancerCNV/00_functions/chr08/../data'}...\n",
      "\n",
      "Running event_effects_ttest with {'chromosome': 8, 'arm': 'q', 'event_start': 47260878, 'event_end': 145052465, 'gain_or_loss': 'gain', 'cis_or_trans': 'cis', 'proteomics_or_transcriptomics': 'proteomics', 'cancer_types': ['brca', 'coad', 'hnscc', 'lscc', 'luad', 'ov'], 'source': 'cptac', 'comparison': 'tumor', 'tissue_type': None, 'has_event': False, 'level': None, 'data_dir': '/home/caleb/github/PayneLab/pancancerCNV/00_functions/chr08/../data'}...\n",
      "\n",
      "Loading brca proteomics (1/6)...                              \r"
     ]
    },
    {
     "name": "stderr",
     "output_type": "stream",
     "text": [
      "/home/caleb/anaconda3/envs/dev/lib/python3.10/site-packages/cnvutils/chromosome_funcs.py:399: UserWarning: Only one tissue type for cancer_type=brca, source=cptac, level=None, chromosome=8, arm=p, gain_or_loss=loss, cis_or_trans=trans, proteomics_or_transcriptomics=transcriptomics, comparison=tumor, tissue_type=None, has_event=False.\n",
      "  warnings.warn(f\"Only one tissue type for cancer_type={cancer_type}, source={source}, level={level}, chromosome={chromosome}, arm={arm}, gain_or_loss={gain_or_loss}, cis_or_trans={cis_or_trans}, proteomics_or_transcriptomics={proteomics_or_transcriptomics}, comparison={comparison}, tissue_type={tissue_type}, has_event={has_event}.\")\n",
      "/home/caleb/anaconda3/envs/dev/lib/python3.10/site-packages/cnvutils/chromosome_funcs.py:399: UserWarning: Only one tissue type for cancer_type=coad, source=cptac, level=None, chromosome=8, arm=p, gain_or_loss=loss, cis_or_trans=trans, proteomics_or_transcriptomics=transcriptomics, comparison=tumor, tissue_type=None, has_event=False.\n",
      "  warnings.warn(f\"Only one tissue type for cancer_type={cancer_type}, source={source}, level={level}, chromosome={chromosome}, arm={arm}, gain_or_loss={gain_or_loss}, cis_or_trans={cis_or_trans}, proteomics_or_transcriptomics={proteomics_or_transcriptomics}, comparison={comparison}, tissue_type={tissue_type}, has_event={has_event}.\")\n",
      "/home/caleb/anaconda3/envs/dev/lib/python3.10/site-packages/cnvutils/chromosome_funcs.py:399: UserWarning: Only one tissue type for cancer_type=ov, source=cptac, level=None, chromosome=8, arm=p, gain_or_loss=loss, cis_or_trans=trans, proteomics_or_transcriptomics=transcriptomics, comparison=tumor, tissue_type=None, has_event=False.\n",
      "  warnings.warn(f\"Only one tissue type for cancer_type={cancer_type}, source={source}, level={level}, chromosome={chromosome}, arm={arm}, gain_or_loss={gain_or_loss}, cis_or_trans={cis_or_trans}, proteomics_or_transcriptomics={proteomics_or_transcriptomics}, comparison={comparison}, tissue_type={tissue_type}, has_event={has_event}.\")\n"
     ]
    },
    {
     "name": "stdout",
     "output_type": "stream",
     "text": [
      "                                                                                \r"
     ]
    },
    {
     "name": "stderr",
     "output_type": "stream",
     "text": [
      "/home/caleb/anaconda3/envs/dev/lib/python3.10/site-packages/cnvutils/chromosome_funcs.py:399: UserWarning: Only one tissue type for cancer_type=brca, source=cptac, level=None, chromosome=8, arm=q, gain_or_loss=gain, cis_or_trans=cis, proteomics_or_transcriptomics=proteomics, comparison=tumor, tissue_type=None, has_event=False.\n",
      "  warnings.warn(f\"Only one tissue type for cancer_type={cancer_type}, source={source}, level={level}, chromosome={chromosome}, arm={arm}, gain_or_loss={gain_or_loss}, cis_or_trans={cis_or_trans}, proteomics_or_transcriptomics={proteomics_or_transcriptomics}, comparison={comparison}, tissue_type={tissue_type}, has_event={has_event}.\")\n"
     ]
    },
    {
     "name": "stdout",
     "output_type": "stream",
     "text": [
      "Running event_effects_ttest with {'chromosome': 8, 'arm': 'q', 'event_start': 47260878, 'event_end': 145052465, 'gain_or_loss': 'gain', 'cis_or_trans': 'trans', 'proteomics_or_transcriptomics': 'proteomics', 'cancer_types': ['brca', 'coad', 'hnscc', 'lscc', 'luad', 'ov'], 'source': 'cptac', 'comparison': 'tumor', 'tissue_type': None, 'has_event': False, 'level': None, 'data_dir': '/home/caleb/github/PayneLab/pancancerCNV/00_functions/chr08/../data'}...\n",
      "\n",
      "                                                                                \r"
     ]
    },
    {
     "name": "stderr",
     "output_type": "stream",
     "text": [
      "/home/caleb/anaconda3/envs/dev/lib/python3.10/site-packages/cnvutils/chromosome_funcs.py:399: UserWarning: Only one tissue type for cancer_type=brca, source=cptac, level=None, chromosome=8, arm=q, gain_or_loss=gain, cis_or_trans=cis, proteomics_or_transcriptomics=transcriptomics, comparison=tumor, tissue_type=None, has_event=True.\n",
      "  warnings.warn(f\"Only one tissue type for cancer_type={cancer_type}, source={source}, level={level}, chromosome={chromosome}, arm={arm}, gain_or_loss={gain_or_loss}, cis_or_trans={cis_or_trans}, proteomics_or_transcriptomics={proteomics_or_transcriptomics}, comparison={comparison}, tissue_type={tissue_type}, has_event={has_event}.\")\n",
      "/home/caleb/anaconda3/envs/dev/lib/python3.10/site-packages/cnvutils/chromosome_funcs.py:399: UserWarning: Only one tissue type for cancer_type=coad, source=cptac, level=None, chromosome=8, arm=q, gain_or_loss=gain, cis_or_trans=cis, proteomics_or_transcriptomics=transcriptomics, comparison=tumor, tissue_type=None, has_event=True.\n",
      "  warnings.warn(f\"Only one tissue type for cancer_type={cancer_type}, source={source}, level={level}, chromosome={chromosome}, arm={arm}, gain_or_loss={gain_or_loss}, cis_or_trans={cis_or_trans}, proteomics_or_transcriptomics={proteomics_or_transcriptomics}, comparison={comparison}, tissue_type={tissue_type}, has_event={has_event}.\")\n",
      "/home/caleb/anaconda3/envs/dev/lib/python3.10/site-packages/cnvutils/chromosome_funcs.py:399: UserWarning: Only one tissue type for cancer_type=ov, source=cptac, level=None, chromosome=8, arm=q, gain_or_loss=gain, cis_or_trans=cis, proteomics_or_transcriptomics=transcriptomics, comparison=tumor, tissue_type=None, has_event=True.\n",
      "  warnings.warn(f\"Only one tissue type for cancer_type={cancer_type}, source={source}, level={level}, chromosome={chromosome}, arm={arm}, gain_or_loss={gain_or_loss}, cis_or_trans={cis_or_trans}, proteomics_or_transcriptomics={proteomics_or_transcriptomics}, comparison={comparison}, tissue_type={tissue_type}, has_event={has_event}.\")\n"
     ]
    },
    {
     "name": "stdout",
     "output_type": "stream",
     "text": [
      "                                                                                \r"
     ]
    },
    {
     "name": "stderr",
     "output_type": "stream",
     "text": [
      "/home/caleb/anaconda3/envs/dev/lib/python3.10/site-packages/cnvutils/chromosome_funcs.py:399: UserWarning: Only one tissue type for cancer_type=brca, source=cptac, level=None, chromosome=8, arm=q, gain_or_loss=gain, cis_or_trans=trans, proteomics_or_transcriptomics=proteomics, comparison=tumor, tissue_type=None, has_event=False.\n",
      "  warnings.warn(f\"Only one tissue type for cancer_type={cancer_type}, source={source}, level={level}, chromosome={chromosome}, arm={arm}, gain_or_loss={gain_or_loss}, cis_or_trans={cis_or_trans}, proteomics_or_transcriptomics={proteomics_or_transcriptomics}, comparison={comparison}, tissue_type={tissue_type}, has_event={has_event}.\")\n"
     ]
    },
    {
     "name": "stdout",
     "output_type": "stream",
     "text": [
      "Running event_effects_ttest with {'chromosome': 8, 'arm': 'q', 'event_start': 47260878, 'event_end': 145052465, 'gain_or_loss': 'gain', 'cis_or_trans': 'cis', 'proteomics_or_transcriptomics': 'transcriptomics', 'cancer_types': ['brca', 'coad', 'hnscc', 'lscc', 'luad', 'ov'], 'source': 'cptac', 'comparison': 'tumor', 'tissue_type': None, 'has_event': False, 'level': None, 'data_dir': '/home/caleb/github/PayneLab/pancancerCNV/00_functions/chr08/../data'}...\n",
      "\n",
      "Running event_effects_ttest with {'chromosome': 8, 'arm': 'q', 'event_start': 47260878, 'event_end': 145052465, 'gain_or_loss': 'gain', 'cis_or_trans': 'trans', 'proteomics_or_transcriptomics': 'transcriptomics', 'cancer_types': ['brca', 'coad', 'hnscc', 'lscc', 'luad', 'ov'], 'source': 'cptac', 'comparison': 'tumor', 'tissue_type': None, 'has_event': False, 'level': None, 'data_dir': '/home/caleb/github/PayneLab/pancancerCNV/00_functions/chr08/../data'}...\n",
      "\n",
      "Running event_effects_ttest with {'chromosome': 8, 'arm': 'p', 'event_start': 166085, 'event_end': 40153481, 'gain_or_loss': 'loss', 'cis_or_trans': 'cis', 'proteomics_or_transcriptomics': 'proteomics', 'cancer_types': ['brca', 'coad', 'hnscc', 'lscc', 'luad', 'ov', 'pdac'], 'source': 'gistic', 'comparison': 'tumor', 'tissue_type': None, 'has_event': True, 'level': 'gene', 'data_dir': '/home/caleb/github/PayneLab/pancancerCNV/00_functions/chr08/../data'}...\n",
      "\n",
      "Running event_effects_ttest with {'chromosome': 8, 'arm': 'p', 'event_start': 166085, 'event_end': 40153481, 'gain_or_loss': 'loss', 'cis_or_trans': 'trans', 'proteomics_or_transcriptomics': 'proteomics', 'cancer_types': ['brca', 'coad', 'hnscc', 'lscc', 'luad', 'ov', 'pdac'], 'source': 'gistic', 'comparison': 'tumor', 'tissue_type': None, 'has_event': True, 'level': 'gene', 'data_dir': '/home/caleb/github/PayneLab/pancancerCNV/00_functions/chr08/../data'}...\n",
      "\n",
      "Loading hnscc transcriptomics (3/6)...                                          \r"
     ]
    },
    {
     "name": "stderr",
     "output_type": "stream",
     "text": [
      "/home/caleb/anaconda3/envs/dev/lib/python3.10/site-packages/cnvutils/chromosome_funcs.py:399: UserWarning: Only one tissue type for cancer_type=brca, source=gistic, level=gene, chromosome=8, arm=p, gain_or_loss=loss, cis_or_trans=cis, proteomics_or_transcriptomics=proteomics, comparison=tumor, tissue_type=None, has_event=True.\n",
      "  warnings.warn(f\"Only one tissue type for cancer_type={cancer_type}, source={source}, level={level}, chromosome={chromosome}, arm={arm}, gain_or_loss={gain_or_loss}, cis_or_trans={cis_or_trans}, proteomics_or_transcriptomics={proteomics_or_transcriptomics}, comparison={comparison}, tissue_type={tissue_type}, has_event={has_event}.\")\n"
     ]
    },
    {
     "name": "stdout",
     "output_type": "stream",
     "text": [
      "                                                                                \r"
     ]
    },
    {
     "name": "stderr",
     "output_type": "stream",
     "text": [
      "/home/caleb/anaconda3/envs/dev/lib/python3.10/site-packages/cnvutils/chromosome_funcs.py:399: UserWarning: Only one tissue type for cancer_type=brca, source=gistic, level=gene, chromosome=8, arm=p, gain_or_loss=loss, cis_or_trans=trans, proteomics_or_transcriptomics=proteomics, comparison=tumor, tissue_type=None, has_event=True.\n",
      "  warnings.warn(f\"Only one tissue type for cancer_type={cancer_type}, source={source}, level={level}, chromosome={chromosome}, arm={arm}, gain_or_loss={gain_or_loss}, cis_or_trans={cis_or_trans}, proteomics_or_transcriptomics={proteomics_or_transcriptomics}, comparison={comparison}, tissue_type={tissue_type}, has_event={has_event}.\")\n"
     ]
    },
    {
     "name": "stdout",
     "output_type": "stream",
     "text": [
      "Running event_effects_ttest with {'chromosome': 8, 'arm': 'p', 'event_start': 166085, 'event_end': 40153481, 'gain_or_loss': 'loss', 'cis_or_trans': 'cis', 'proteomics_or_transcriptomics': 'transcriptomics', 'cancer_types': ['brca', 'coad', 'hnscc', 'lscc', 'luad', 'ov', 'pdac'], 'source': 'gistic', 'comparison': 'tumor', 'tissue_type': None, 'has_event': True, 'level': 'gene', 'data_dir': '/home/caleb/github/PayneLab/pancancerCNV/00_functions/chr08/../data'}...\n",
      "\n",
      "Loading lscc transcriptomics (4/6)...                                           \r"
     ]
    },
    {
     "name": "stderr",
     "output_type": "stream",
     "text": [
      "/home/caleb/anaconda3/envs/dev/lib/python3.10/site-packages/cnvutils/chromosome_funcs.py:399: UserWarning: Only one tissue type for cancer_type=brca, source=cptac, level=None, chromosome=8, arm=q, gain_or_loss=gain, cis_or_trans=trans, proteomics_or_transcriptomics=transcriptomics, comparison=tumor, tissue_type=None, has_event=True.\n",
      "  warnings.warn(f\"Only one tissue type for cancer_type={cancer_type}, source={source}, level={level}, chromosome={chromosome}, arm={arm}, gain_or_loss={gain_or_loss}, cis_or_trans={cis_or_trans}, proteomics_or_transcriptomics={proteomics_or_transcriptomics}, comparison={comparison}, tissue_type={tissue_type}, has_event={has_event}.\")\n",
      "/home/caleb/anaconda3/envs/dev/lib/python3.10/site-packages/cnvutils/chromosome_funcs.py:399: UserWarning: Only one tissue type for cancer_type=coad, source=cptac, level=None, chromosome=8, arm=q, gain_or_loss=gain, cis_or_trans=trans, proteomics_or_transcriptomics=transcriptomics, comparison=tumor, tissue_type=None, has_event=True.\n",
      "  warnings.warn(f\"Only one tissue type for cancer_type={cancer_type}, source={source}, level={level}, chromosome={chromosome}, arm={arm}, gain_or_loss={gain_or_loss}, cis_or_trans={cis_or_trans}, proteomics_or_transcriptomics={proteomics_or_transcriptomics}, comparison={comparison}, tissue_type={tissue_type}, has_event={has_event}.\")\n",
      "/home/caleb/anaconda3/envs/dev/lib/python3.10/site-packages/cnvutils/chromosome_funcs.py:399: UserWarning: Only one tissue type for cancer_type=ov, source=cptac, level=None, chromosome=8, arm=q, gain_or_loss=gain, cis_or_trans=trans, proteomics_or_transcriptomics=transcriptomics, comparison=tumor, tissue_type=None, has_event=True.\n",
      "  warnings.warn(f\"Only one tissue type for cancer_type={cancer_type}, source={source}, level={level}, chromosome={chromosome}, arm={arm}, gain_or_loss={gain_or_loss}, cis_or_trans={cis_or_trans}, proteomics_or_transcriptomics={proteomics_or_transcriptomics}, comparison={comparison}, tissue_type={tissue_type}, has_event={has_event}.\")\n"
     ]
    },
    {
     "name": "stdout",
     "output_type": "stream",
     "text": [
      "                                                                                \r"
     ]
    },
    {
     "name": "stderr",
     "output_type": "stream",
     "text": [
      "/home/caleb/anaconda3/envs/dev/lib/python3.10/site-packages/cnvutils/chromosome_funcs.py:399: UserWarning: Only one tissue type for cancer_type=brca, source=cptac, level=None, chromosome=8, arm=q, gain_or_loss=gain, cis_or_trans=cis, proteomics_or_transcriptomics=transcriptomics, comparison=tumor, tissue_type=None, has_event=False.\n",
      "  warnings.warn(f\"Only one tissue type for cancer_type={cancer_type}, source={source}, level={level}, chromosome={chromosome}, arm={arm}, gain_or_loss={gain_or_loss}, cis_or_trans={cis_or_trans}, proteomics_or_transcriptomics={proteomics_or_transcriptomics}, comparison={comparison}, tissue_type={tissue_type}, has_event={has_event}.\")\n",
      "/home/caleb/anaconda3/envs/dev/lib/python3.10/site-packages/cnvutils/chromosome_funcs.py:399: UserWarning: Only one tissue type for cancer_type=coad, source=cptac, level=None, chromosome=8, arm=q, gain_or_loss=gain, cis_or_trans=cis, proteomics_or_transcriptomics=transcriptomics, comparison=tumor, tissue_type=None, has_event=False.\n",
      "  warnings.warn(f\"Only one tissue type for cancer_type={cancer_type}, source={source}, level={level}, chromosome={chromosome}, arm={arm}, gain_or_loss={gain_or_loss}, cis_or_trans={cis_or_trans}, proteomics_or_transcriptomics={proteomics_or_transcriptomics}, comparison={comparison}, tissue_type={tissue_type}, has_event={has_event}.\")\n",
      "/home/caleb/anaconda3/envs/dev/lib/python3.10/site-packages/cnvutils/chromosome_funcs.py:399: UserWarning: Only one tissue type for cancer_type=ov, source=cptac, level=None, chromosome=8, arm=q, gain_or_loss=gain, cis_or_trans=cis, proteomics_or_transcriptomics=transcriptomics, comparison=tumor, tissue_type=None, has_event=False.\n",
      "  warnings.warn(f\"Only one tissue type for cancer_type={cancer_type}, source={source}, level={level}, chromosome={chromosome}, arm={arm}, gain_or_loss={gain_or_loss}, cis_or_trans={cis_or_trans}, proteomics_or_transcriptomics={proteomics_or_transcriptomics}, comparison={comparison}, tissue_type={tissue_type}, has_event={has_event}.\")\n"
     ]
    },
    {
     "name": "stdout",
     "output_type": "stream",
     "text": [
      "Running event_effects_ttest with {'chromosome': 8, 'arm': 'p', 'event_start': 166085, 'event_end': 40153481, 'gain_or_loss': 'loss', 'cis_or_trans': 'trans', 'proteomics_or_transcriptomics': 'transcriptomics', 'cancer_types': ['brca', 'coad', 'hnscc', 'lscc', 'luad', 'ov', 'pdac'], 'source': 'gistic', 'comparison': 'tumor', 'tissue_type': None, 'has_event': True, 'level': 'gene', 'data_dir': '/home/caleb/github/PayneLab/pancancerCNV/00_functions/chr08/../data'}...\n",
      "\n",
      "Running event_effects_ttest with {'chromosome': 8, 'arm': 'p', 'event_start': 166085, 'event_end': 40153481, 'gain_or_loss': 'loss', 'cis_or_trans': 'cis', 'proteomics_or_transcriptomics': 'proteomics', 'cancer_types': ['brca', 'coad', 'hnscc', 'lscc', 'luad', 'ov', 'pdac'], 'source': 'gistic', 'comparison': 'tumor', 'tissue_type': None, 'has_event': False, 'level': 'gene', 'data_dir': '/home/caleb/github/PayneLab/pancancerCNV/00_functions/chr08/../data'}...\n",
      "\n",
      "Running event_effects_ttest with {'chromosome': 8, 'arm': 'p', 'event_start': 166085, 'event_end': 40153481, 'gain_or_loss': 'loss', 'cis_or_trans': 'trans', 'proteomics_or_transcriptomics': 'proteomics', 'cancer_types': ['brca', 'coad', 'hnscc', 'lscc', 'luad', 'ov', 'pdac'], 'source': 'gistic', 'comparison': 'tumor', 'tissue_type': None, 'has_event': False, 'level': 'gene', 'data_dir': '/home/caleb/github/PayneLab/pancancerCNV/00_functions/chr08/../data'}...\n",
      "\n",
      "Loading coad proteomics (2/7)...                                                \r"
     ]
    },
    {
     "name": "stderr",
     "output_type": "stream",
     "text": [
      "/home/caleb/anaconda3/envs/dev/lib/python3.10/site-packages/cnvutils/chromosome_funcs.py:399: UserWarning: Only one tissue type for cancer_type=brca, source=cptac, level=None, chromosome=8, arm=q, gain_or_loss=gain, cis_or_trans=trans, proteomics_or_transcriptomics=transcriptomics, comparison=tumor, tissue_type=None, has_event=False.\n",
      "  warnings.warn(f\"Only one tissue type for cancer_type={cancer_type}, source={source}, level={level}, chromosome={chromosome}, arm={arm}, gain_or_loss={gain_or_loss}, cis_or_trans={cis_or_trans}, proteomics_or_transcriptomics={proteomics_or_transcriptomics}, comparison={comparison}, tissue_type={tissue_type}, has_event={has_event}.\")\n",
      "/home/caleb/anaconda3/envs/dev/lib/python3.10/site-packages/cnvutils/chromosome_funcs.py:399: UserWarning: Only one tissue type for cancer_type=coad, source=cptac, level=None, chromosome=8, arm=q, gain_or_loss=gain, cis_or_trans=trans, proteomics_or_transcriptomics=transcriptomics, comparison=tumor, tissue_type=None, has_event=False.\n",
      "  warnings.warn(f\"Only one tissue type for cancer_type={cancer_type}, source={source}, level={level}, chromosome={chromosome}, arm={arm}, gain_or_loss={gain_or_loss}, cis_or_trans={cis_or_trans}, proteomics_or_transcriptomics={proteomics_or_transcriptomics}, comparison={comparison}, tissue_type={tissue_type}, has_event={has_event}.\")\n",
      "/home/caleb/anaconda3/envs/dev/lib/python3.10/site-packages/cnvutils/chromosome_funcs.py:399: UserWarning: Only one tissue type for cancer_type=ov, source=cptac, level=None, chromosome=8, arm=q, gain_or_loss=gain, cis_or_trans=trans, proteomics_or_transcriptomics=transcriptomics, comparison=tumor, tissue_type=None, has_event=False.\n",
      "  warnings.warn(f\"Only one tissue type for cancer_type={cancer_type}, source={source}, level={level}, chromosome={chromosome}, arm={arm}, gain_or_loss={gain_or_loss}, cis_or_trans={cis_or_trans}, proteomics_or_transcriptomics={proteomics_or_transcriptomics}, comparison={comparison}, tissue_type={tissue_type}, has_event={has_event}.\")\n"
     ]
    },
    {
     "name": "stdout",
     "output_type": "stream",
     "text": [
      "Loading luad proteomics (5/7)...                                                \r"
     ]
    },
    {
     "name": "stderr",
     "output_type": "stream",
     "text": [
      "/home/caleb/anaconda3/envs/dev/lib/python3.10/site-packages/cnvutils/chromosome_funcs.py:399: UserWarning: Only one tissue type for cancer_type=brca, source=gistic, level=gene, chromosome=8, arm=p, gain_or_loss=loss, cis_or_trans=cis, proteomics_or_transcriptomics=proteomics, comparison=tumor, tissue_type=None, has_event=False.\n",
      "  warnings.warn(f\"Only one tissue type for cancer_type={cancer_type}, source={source}, level={level}, chromosome={chromosome}, arm={arm}, gain_or_loss={gain_or_loss}, cis_or_trans={cis_or_trans}, proteomics_or_transcriptomics={proteomics_or_transcriptomics}, comparison={comparison}, tissue_type={tissue_type}, has_event={has_event}.\")\n",
      "/home/caleb/anaconda3/envs/dev/lib/python3.10/site-packages/cnvutils/chromosome_funcs.py:426: UserWarning: Too small sample size for cancer_type=ov, source=gistic, level=gene, chromosome=8, arm=p, gain_or_loss=loss, cis_or_trans=cis, proteomics_or_transcriptomics=proteomics, comparison=tumor, tissue_type=None, has_event=False.\n",
      "  warnings.warn(f\"Too small sample size for cancer_type={cancer_type}, source={source}, level={level}, chromosome={chromosome}, arm={arm}, gain_or_loss={gain_or_loss}, cis_or_trans={cis_or_trans}, proteomics_or_transcriptomics={proteomics_or_transcriptomics}, comparison={comparison}, tissue_type={tissue_type}, has_event={has_event}.\")\n"
     ]
    },
    {
     "name": "stdout",
     "output_type": "stream",
     "text": [
      "Running event_effects_ttest with {'chromosome': 8, 'arm': 'p', 'event_start': 166085, 'event_end': 40153481, 'gain_or_loss': 'loss', 'cis_or_trans': 'cis', 'proteomics_or_transcriptomics': 'transcriptomics', 'cancer_types': ['brca', 'coad', 'hnscc', 'lscc', 'luad', 'ov', 'pdac'], 'source': 'gistic', 'comparison': 'tumor', 'tissue_type': None, 'has_event': False, 'level': 'gene', 'data_dir': '/home/caleb/github/PayneLab/pancancerCNV/00_functions/chr08/../data'}...\n",
      "\n",
      "                                                                                \r"
     ]
    },
    {
     "name": "stderr",
     "output_type": "stream",
     "text": [
      "/home/caleb/anaconda3/envs/dev/lib/python3.10/site-packages/cnvutils/chromosome_funcs.py:399: UserWarning: Only one tissue type for cancer_type=brca, source=gistic, level=gene, chromosome=8, arm=p, gain_or_loss=loss, cis_or_trans=trans, proteomics_or_transcriptomics=proteomics, comparison=tumor, tissue_type=None, has_event=False.\n",
      "  warnings.warn(f\"Only one tissue type for cancer_type={cancer_type}, source={source}, level={level}, chromosome={chromosome}, arm={arm}, gain_or_loss={gain_or_loss}, cis_or_trans={cis_or_trans}, proteomics_or_transcriptomics={proteomics_or_transcriptomics}, comparison={comparison}, tissue_type={tissue_type}, has_event={has_event}.\")\n"
     ]
    },
    {
     "name": "stdout",
     "output_type": "stream",
     "text": [
      "Running event_effects_ttest with {'chromosome': 8, 'arm': 'p', 'event_start': 166085, 'event_end': 40153481, 'gain_or_loss': 'loss', 'cis_or_trans': 'trans', 'proteomics_or_transcriptomics': 'transcriptomics', 'cancer_types': ['brca', 'coad', 'hnscc', 'lscc', 'luad', 'ov', 'pdac'], 'source': 'gistic', 'comparison': 'tumor', 'tissue_type': None, 'has_event': False, 'level': 'gene', 'data_dir': '/home/caleb/github/PayneLab/pancancerCNV/00_functions/chr08/../data'}...\n",
      "\n",
      "                                                                                \r"
     ]
    },
    {
     "name": "stderr",
     "output_type": "stream",
     "text": [
      "/home/caleb/anaconda3/envs/dev/lib/python3.10/site-packages/cnvutils/chromosome_funcs.py:399: UserWarning: Only one tissue type for cancer_type=brca, source=gistic, level=gene, chromosome=8, arm=p, gain_or_loss=loss, cis_or_trans=cis, proteomics_or_transcriptomics=transcriptomics, comparison=tumor, tissue_type=None, has_event=True.\n",
      "  warnings.warn(f\"Only one tissue type for cancer_type={cancer_type}, source={source}, level={level}, chromosome={chromosome}, arm={arm}, gain_or_loss={gain_or_loss}, cis_or_trans={cis_or_trans}, proteomics_or_transcriptomics={proteomics_or_transcriptomics}, comparison={comparison}, tissue_type={tissue_type}, has_event={has_event}.\")\n",
      "/home/caleb/anaconda3/envs/dev/lib/python3.10/site-packages/cnvutils/chromosome_funcs.py:399: UserWarning: Only one tissue type for cancer_type=coad, source=gistic, level=gene, chromosome=8, arm=p, gain_or_loss=loss, cis_or_trans=cis, proteomics_or_transcriptomics=transcriptomics, comparison=tumor, tissue_type=None, has_event=True.\n",
      "  warnings.warn(f\"Only one tissue type for cancer_type={cancer_type}, source={source}, level={level}, chromosome={chromosome}, arm={arm}, gain_or_loss={gain_or_loss}, cis_or_trans={cis_or_trans}, proteomics_or_transcriptomics={proteomics_or_transcriptomics}, comparison={comparison}, tissue_type={tissue_type}, has_event={has_event}.\")\n",
      "/home/caleb/anaconda3/envs/dev/lib/python3.10/site-packages/cnvutils/chromosome_funcs.py:399: UserWarning: Only one tissue type for cancer_type=ov, source=gistic, level=gene, chromosome=8, arm=p, gain_or_loss=loss, cis_or_trans=cis, proteomics_or_transcriptomics=transcriptomics, comparison=tumor, tissue_type=None, has_event=True.\n",
      "  warnings.warn(f\"Only one tissue type for cancer_type={cancer_type}, source={source}, level={level}, chromosome={chromosome}, arm={arm}, gain_or_loss={gain_or_loss}, cis_or_trans={cis_or_trans}, proteomics_or_transcriptomics={proteomics_or_transcriptomics}, comparison={comparison}, tissue_type={tissue_type}, has_event={has_event}.\")\n"
     ]
    },
    {
     "name": "stdout",
     "output_type": "stream",
     "text": [
      "Running event_effects_ttest with {'chromosome': 8, 'arm': 'q', 'event_start': 36784373, 'event_end': 145052466, 'gain_or_loss': 'gain', 'cis_or_trans': 'cis', 'proteomics_or_transcriptomics': 'proteomics', 'cancer_types': ['brca', 'coad', 'hnscc', 'lscc', 'luad', 'ov', 'pdac'], 'source': 'gistic', 'comparison': 'tumor', 'tissue_type': None, 'has_event': True, 'level': 'gene', 'data_dir': '/home/caleb/github/PayneLab/pancancerCNV/00_functions/chr08/../data'}...\n",
      "\n",
      "                                                                                \r"
     ]
    },
    {
     "name": "stderr",
     "output_type": "stream",
     "text": [
      "/home/caleb/anaconda3/envs/dev/lib/python3.10/site-packages/cnvutils/chromosome_funcs.py:399: UserWarning: Only one tissue type for cancer_type=brca, source=gistic, level=gene, chromosome=8, arm=q, gain_or_loss=gain, cis_or_trans=cis, proteomics_or_transcriptomics=proteomics, comparison=tumor, tissue_type=None, has_event=True.\n",
      "  warnings.warn(f\"Only one tissue type for cancer_type={cancer_type}, source={source}, level={level}, chromosome={chromosome}, arm={arm}, gain_or_loss={gain_or_loss}, cis_or_trans={cis_or_trans}, proteomics_or_transcriptomics={proteomics_or_transcriptomics}, comparison={comparison}, tissue_type={tissue_type}, has_event={has_event}.\")\n"
     ]
    },
    {
     "name": "stdout",
     "output_type": "stream",
     "text": [
      "Loading ov transcriptomics (6/7)...                              \r"
     ]
    },
    {
     "name": "stderr",
     "output_type": "stream",
     "text": [
      "/home/caleb/anaconda3/envs/dev/lib/python3.10/site-packages/cnvutils/chromosome_funcs.py:426: UserWarning: Too small sample size for cancer_type=ov, source=gistic, level=gene, chromosome=8, arm=q, gain_or_loss=gain, cis_or_trans=cis, proteomics_or_transcriptomics=proteomics, comparison=tumor, tissue_type=None, has_event=True.\n",
      "  warnings.warn(f\"Too small sample size for cancer_type={cancer_type}, source={source}, level={level}, chromosome={chromosome}, arm={arm}, gain_or_loss={gain_or_loss}, cis_or_trans={cis_or_trans}, proteomics_or_transcriptomics={proteomics_or_transcriptomics}, comparison={comparison}, tissue_type={tissue_type}, has_event={has_event}.\")\n"
     ]
    },
    {
     "name": "stdout",
     "output_type": "stream",
     "text": [
      "Running event_effects_ttest with {'chromosome': 8, 'arm': 'q', 'event_start': 36784373, 'event_end': 145052466, 'gain_or_loss': 'gain', 'cis_or_trans': 'trans', 'proteomics_or_transcriptomics': 'proteomics', 'cancer_types': ['brca', 'coad', 'hnscc', 'lscc', 'luad', 'ov', 'pdac'], 'source': 'gistic', 'comparison': 'tumor', 'tissue_type': None, 'has_event': True, 'level': 'gene', 'data_dir': '/home/caleb/github/PayneLab/pancancerCNV/00_functions/chr08/../data'}...\n",
      "\n",
      "                                                                                \r"
     ]
    },
    {
     "name": "stderr",
     "output_type": "stream",
     "text": [
      "/home/caleb/anaconda3/envs/dev/lib/python3.10/site-packages/cnvutils/chromosome_funcs.py:399: UserWarning: Only one tissue type for cancer_type=brca, source=gistic, level=gene, chromosome=8, arm=q, gain_or_loss=gain, cis_or_trans=trans, proteomics_or_transcriptomics=proteomics, comparison=tumor, tissue_type=None, has_event=True.\n",
      "  warnings.warn(f\"Only one tissue type for cancer_type={cancer_type}, source={source}, level={level}, chromosome={chromosome}, arm={arm}, gain_or_loss={gain_or_loss}, cis_or_trans={cis_or_trans}, proteomics_or_transcriptomics={proteomics_or_transcriptomics}, comparison={comparison}, tissue_type={tissue_type}, has_event={has_event}.\")\n",
      "/home/caleb/anaconda3/envs/dev/lib/python3.10/site-packages/cnvutils/chromosome_funcs.py:426: UserWarning: Too small sample size for cancer_type=ov, source=gistic, level=gene, chromosome=8, arm=p, gain_or_loss=loss, cis_or_trans=trans, proteomics_or_transcriptomics=proteomics, comparison=tumor, tissue_type=None, has_event=False.\n",
      "  warnings.warn(f\"Too small sample size for cancer_type={cancer_type}, source={source}, level={level}, chromosome={chromosome}, arm={arm}, gain_or_loss={gain_or_loss}, cis_or_trans={cis_or_trans}, proteomics_or_transcriptomics={proteomics_or_transcriptomics}, comparison={comparison}, tissue_type={tissue_type}, has_event={has_event}.\")\n"
     ]
    },
    {
     "name": "stdout",
     "output_type": "stream",
     "text": [
      "Running event_effects_ttest with {'chromosome': 8, 'arm': 'q', 'event_start': 36784373, 'event_end': 145052466, 'gain_or_loss': 'gain', 'cis_or_trans': 'cis', 'proteomics_or_transcriptomics': 'transcriptomics', 'cancer_types': ['brca', 'coad', 'hnscc', 'lscc', 'luad', 'ov', 'pdac'], 'source': 'gistic', 'comparison': 'tumor', 'tissue_type': None, 'has_event': True, 'level': 'gene', 'data_dir': '/home/caleb/github/PayneLab/pancancerCNV/00_functions/chr08/../data'}...\n",
      "\n",
      "Loading luad transcriptomics (5/7)...                              \r"
     ]
    },
    {
     "name": "stderr",
     "output_type": "stream",
     "text": [
      "/home/caleb/anaconda3/envs/dev/lib/python3.10/site-packages/cnvutils/chromosome_funcs.py:399: UserWarning: Only one tissue type for cancer_type=brca, source=gistic, level=gene, chromosome=8, arm=p, gain_or_loss=loss, cis_or_trans=trans, proteomics_or_transcriptomics=transcriptomics, comparison=tumor, tissue_type=None, has_event=True.\n",
      "  warnings.warn(f\"Only one tissue type for cancer_type={cancer_type}, source={source}, level={level}, chromosome={chromosome}, arm={arm}, gain_or_loss={gain_or_loss}, cis_or_trans={cis_or_trans}, proteomics_or_transcriptomics={proteomics_or_transcriptomics}, comparison={comparison}, tissue_type={tissue_type}, has_event={has_event}.\")\n",
      "/home/caleb/anaconda3/envs/dev/lib/python3.10/site-packages/cnvutils/chromosome_funcs.py:399: UserWarning: Only one tissue type for cancer_type=coad, source=gistic, level=gene, chromosome=8, arm=p, gain_or_loss=loss, cis_or_trans=trans, proteomics_or_transcriptomics=transcriptomics, comparison=tumor, tissue_type=None, has_event=True.\n",
      "  warnings.warn(f\"Only one tissue type for cancer_type={cancer_type}, source={source}, level={level}, chromosome={chromosome}, arm={arm}, gain_or_loss={gain_or_loss}, cis_or_trans={cis_or_trans}, proteomics_or_transcriptomics={proteomics_or_transcriptomics}, comparison={comparison}, tissue_type={tissue_type}, has_event={has_event}.\")\n",
      "/home/caleb/anaconda3/envs/dev/lib/python3.10/site-packages/cnvutils/chromosome_funcs.py:399: UserWarning: Only one tissue type for cancer_type=ov, source=gistic, level=gene, chromosome=8, arm=p, gain_or_loss=loss, cis_or_trans=trans, proteomics_or_transcriptomics=transcriptomics, comparison=tumor, tissue_type=None, has_event=True.\n",
      "  warnings.warn(f\"Only one tissue type for cancer_type={cancer_type}, source={source}, level={level}, chromosome={chromosome}, arm={arm}, gain_or_loss={gain_or_loss}, cis_or_trans={cis_or_trans}, proteomics_or_transcriptomics={proteomics_or_transcriptomics}, comparison={comparison}, tissue_type={tissue_type}, has_event={has_event}.\")\n"
     ]
    },
    {
     "name": "stdout",
     "output_type": "stream",
     "text": [
      "Running event_effects_ttest with {'chromosome': 8, 'arm': 'q', 'event_start': 36784373, 'event_end': 145052466, 'gain_or_loss': 'gain', 'cis_or_trans': 'trans', 'proteomics_or_transcriptomics': 'transcriptomics', 'cancer_types': ['brca', 'coad', 'hnscc', 'lscc', 'luad', 'ov', 'pdac'], 'source': 'gistic', 'comparison': 'tumor', 'tissue_type': None, 'has_event': True, 'level': 'gene', 'data_dir': '/home/caleb/github/PayneLab/pancancerCNV/00_functions/chr08/../data'}...\n",
      "\n",
      "Loading pdac transcriptomics (7/7)...                                           \r"
     ]
    },
    {
     "name": "stderr",
     "output_type": "stream",
     "text": [
      "/home/caleb/anaconda3/envs/dev/lib/python3.10/site-packages/cnvutils/chromosome_funcs.py:399: UserWarning: Only one tissue type for cancer_type=brca, source=gistic, level=gene, chromosome=8, arm=p, gain_or_loss=loss, cis_or_trans=cis, proteomics_or_transcriptomics=transcriptomics, comparison=tumor, tissue_type=None, has_event=False.\n",
      "  warnings.warn(f\"Only one tissue type for cancer_type={cancer_type}, source={source}, level={level}, chromosome={chromosome}, arm={arm}, gain_or_loss={gain_or_loss}, cis_or_trans={cis_or_trans}, proteomics_or_transcriptomics={proteomics_or_transcriptomics}, comparison={comparison}, tissue_type={tissue_type}, has_event={has_event}.\")\n",
      "/home/caleb/anaconda3/envs/dev/lib/python3.10/site-packages/cnvutils/chromosome_funcs.py:399: UserWarning: Only one tissue type for cancer_type=coad, source=gistic, level=gene, chromosome=8, arm=p, gain_or_loss=loss, cis_or_trans=cis, proteomics_or_transcriptomics=transcriptomics, comparison=tumor, tissue_type=None, has_event=False.\n",
      "  warnings.warn(f\"Only one tissue type for cancer_type={cancer_type}, source={source}, level={level}, chromosome={chromosome}, arm={arm}, gain_or_loss={gain_or_loss}, cis_or_trans={cis_or_trans}, proteomics_or_transcriptomics={proteomics_or_transcriptomics}, comparison={comparison}, tissue_type={tissue_type}, has_event={has_event}.\")\n",
      "/home/caleb/anaconda3/envs/dev/lib/python3.10/site-packages/cnvutils/chromosome_funcs.py:399: UserWarning: Only one tissue type for cancer_type=ov, source=gistic, level=gene, chromosome=8, arm=p, gain_or_loss=loss, cis_or_trans=cis, proteomics_or_transcriptomics=transcriptomics, comparison=tumor, tissue_type=None, has_event=False.\n",
      "  warnings.warn(f\"Only one tissue type for cancer_type={cancer_type}, source={source}, level={level}, chromosome={chromosome}, arm={arm}, gain_or_loss={gain_or_loss}, cis_or_trans={cis_or_trans}, proteomics_or_transcriptomics={proteomics_or_transcriptomics}, comparison={comparison}, tissue_type={tissue_type}, has_event={has_event}.\")\n"
     ]
    },
    {
     "name": "stdout",
     "output_type": "stream",
     "text": [
      "Running event_effects_ttest with {'chromosome': 8, 'arm': 'q', 'event_start': 36784373, 'event_end': 145052466, 'gain_or_loss': 'gain', 'cis_or_trans': 'cis', 'proteomics_or_transcriptomics': 'proteomics', 'cancer_types': ['brca', 'coad', 'hnscc', 'lscc', 'luad', 'ov', 'pdac'], 'source': 'gistic', 'comparison': 'tumor', 'tissue_type': None, 'has_event': False, 'level': 'gene', 'data_dir': '/home/caleb/github/PayneLab/pancancerCNV/00_functions/chr08/../data'}...\n",
      "\n",
      "                                                                                \r"
     ]
    },
    {
     "name": "stderr",
     "output_type": "stream",
     "text": [
      "/home/caleb/anaconda3/envs/dev/lib/python3.10/site-packages/cnvutils/chromosome_funcs.py:399: UserWarning: Only one tissue type for cancer_type=brca, source=gistic, level=gene, chromosome=8, arm=q, gain_or_loss=gain, cis_or_trans=cis, proteomics_or_transcriptomics=proteomics, comparison=tumor, tissue_type=None, has_event=False.\n",
      "  warnings.warn(f\"Only one tissue type for cancer_type={cancer_type}, source={source}, level={level}, chromosome={chromosome}, arm={arm}, gain_or_loss={gain_or_loss}, cis_or_trans={cis_or_trans}, proteomics_or_transcriptomics={proteomics_or_transcriptomics}, comparison={comparison}, tissue_type={tissue_type}, has_event={has_event}.\")\n"
     ]
    },
    {
     "name": "stdout",
     "output_type": "stream",
     "text": [
      "                                                                                \r"
     ]
    },
    {
     "name": "stderr",
     "output_type": "stream",
     "text": [
      "/home/caleb/anaconda3/envs/dev/lib/python3.10/site-packages/cnvutils/chromosome_funcs.py:399: UserWarning: Only one tissue type for cancer_type=brca, source=gistic, level=gene, chromosome=8, arm=p, gain_or_loss=loss, cis_or_trans=trans, proteomics_or_transcriptomics=transcriptomics, comparison=tumor, tissue_type=None, has_event=False.\n",
      "  warnings.warn(f\"Only one tissue type for cancer_type={cancer_type}, source={source}, level={level}, chromosome={chromosome}, arm={arm}, gain_or_loss={gain_or_loss}, cis_or_trans={cis_or_trans}, proteomics_or_transcriptomics={proteomics_or_transcriptomics}, comparison={comparison}, tissue_type={tissue_type}, has_event={has_event}.\")\n",
      "/home/caleb/anaconda3/envs/dev/lib/python3.10/site-packages/cnvutils/chromosome_funcs.py:399: UserWarning: Only one tissue type for cancer_type=coad, source=gistic, level=gene, chromosome=8, arm=p, gain_or_loss=loss, cis_or_trans=trans, proteomics_or_transcriptomics=transcriptomics, comparison=tumor, tissue_type=None, has_event=False.\n",
      "  warnings.warn(f\"Only one tissue type for cancer_type={cancer_type}, source={source}, level={level}, chromosome={chromosome}, arm={arm}, gain_or_loss={gain_or_loss}, cis_or_trans={cis_or_trans}, proteomics_or_transcriptomics={proteomics_or_transcriptomics}, comparison={comparison}, tissue_type={tissue_type}, has_event={has_event}.\")\n",
      "/home/caleb/anaconda3/envs/dev/lib/python3.10/site-packages/cnvutils/chromosome_funcs.py:399: UserWarning: Only one tissue type for cancer_type=ov, source=gistic, level=gene, chromosome=8, arm=p, gain_or_loss=loss, cis_or_trans=trans, proteomics_or_transcriptomics=transcriptomics, comparison=tumor, tissue_type=None, has_event=False.\n",
      "  warnings.warn(f\"Only one tissue type for cancer_type={cancer_type}, source={source}, level={level}, chromosome={chromosome}, arm={arm}, gain_or_loss={gain_or_loss}, cis_or_trans={cis_or_trans}, proteomics_or_transcriptomics={proteomics_or_transcriptomics}, comparison={comparison}, tissue_type={tissue_type}, has_event={has_event}.\")\n"
     ]
    },
    {
     "name": "stdout",
     "output_type": "stream",
     "text": [
      "Running event_effects_ttest with {'chromosome': 8, 'arm': 'q', 'event_start': 36784373, 'event_end': 145052466, 'gain_or_loss': 'gain', 'cis_or_trans': 'trans', 'proteomics_or_transcriptomics': 'proteomics', 'cancer_types': ['brca', 'coad', 'hnscc', 'lscc', 'luad', 'ov', 'pdac'], 'source': 'gistic', 'comparison': 'tumor', 'tissue_type': None, 'has_event': False, 'level': 'gene', 'data_dir': '/home/caleb/github/PayneLab/pancancerCNV/00_functions/chr08/../data'}...\n",
      "\n",
      "Running event_effects_ttest with {'chromosome': 8, 'arm': 'q', 'event_start': 36784373, 'event_end': 145052466, 'gain_or_loss': 'gain', 'cis_or_trans': 'cis', 'proteomics_or_transcriptomics': 'transcriptomics', 'cancer_types': ['brca', 'coad', 'hnscc', 'lscc', 'luad', 'ov', 'pdac'], 'source': 'gistic', 'comparison': 'tumor', 'tissue_type': None, 'has_event': False, 'level': 'gene', 'data_dir': '/home/caleb/github/PayneLab/pancancerCNV/00_functions/chr08/../data'}...\n",
      "\n",
      "Loading lscc transcriptomics (4/7)...                              \r"
     ]
    },
    {
     "name": "stderr",
     "output_type": "stream",
     "text": [
      "/home/caleb/anaconda3/envs/dev/lib/python3.10/site-packages/cnvutils/chromosome_funcs.py:426: UserWarning: Too small sample size for cancer_type=ov, source=gistic, level=gene, chromosome=8, arm=q, gain_or_loss=gain, cis_or_trans=trans, proteomics_or_transcriptomics=proteomics, comparison=tumor, tissue_type=None, has_event=True.\n",
      "  warnings.warn(f\"Too small sample size for cancer_type={cancer_type}, source={source}, level={level}, chromosome={chromosome}, arm={arm}, gain_or_loss={gain_or_loss}, cis_or_trans={cis_or_trans}, proteomics_or_transcriptomics={proteomics_or_transcriptomics}, comparison={comparison}, tissue_type={tissue_type}, has_event={has_event}.\")\n"
     ]
    },
    {
     "name": "stdout",
     "output_type": "stream",
     "text": [
      "                                                                                \r"
     ]
    },
    {
     "name": "stderr",
     "output_type": "stream",
     "text": [
      "/home/caleb/anaconda3/envs/dev/lib/python3.10/site-packages/cnvutils/chromosome_funcs.py:399: UserWarning: Only one tissue type for cancer_type=brca, source=gistic, level=gene, chromosome=8, arm=q, gain_or_loss=gain, cis_or_trans=trans, proteomics_or_transcriptomics=proteomics, comparison=tumor, tissue_type=None, has_event=False.\n",
      "  warnings.warn(f\"Only one tissue type for cancer_type={cancer_type}, source={source}, level={level}, chromosome={chromosome}, arm={arm}, gain_or_loss={gain_or_loss}, cis_or_trans={cis_or_trans}, proteomics_or_transcriptomics={proteomics_or_transcriptomics}, comparison={comparison}, tissue_type={tissue_type}, has_event={has_event}.\")\n"
     ]
    },
    {
     "name": "stdout",
     "output_type": "stream",
     "text": [
      "Running event_effects_ttest with {'chromosome': 8, 'arm': 'q', 'event_start': 36784373, 'event_end': 145052466, 'gain_or_loss': 'gain', 'cis_or_trans': 'trans', 'proteomics_or_transcriptomics': 'transcriptomics', 'cancer_types': ['brca', 'coad', 'hnscc', 'lscc', 'luad', 'ov', 'pdac'], 'source': 'gistic', 'comparison': 'tumor', 'tissue_type': None, 'has_event': False, 'level': 'gene', 'data_dir': '/home/caleb/github/PayneLab/pancancerCNV/00_functions/chr08/../data'}...\n",
      "\n",
      "                                                                                \r"
     ]
    },
    {
     "name": "stderr",
     "output_type": "stream",
     "text": [
      "/home/caleb/anaconda3/envs/dev/lib/python3.10/site-packages/cnvutils/chromosome_funcs.py:399: UserWarning: Only one tissue type for cancer_type=brca, source=gistic, level=gene, chromosome=8, arm=q, gain_or_loss=gain, cis_or_trans=cis, proteomics_or_transcriptomics=transcriptomics, comparison=tumor, tissue_type=None, has_event=True.\n",
      "  warnings.warn(f\"Only one tissue type for cancer_type={cancer_type}, source={source}, level={level}, chromosome={chromosome}, arm={arm}, gain_or_loss={gain_or_loss}, cis_or_trans={cis_or_trans}, proteomics_or_transcriptomics={proteomics_or_transcriptomics}, comparison={comparison}, tissue_type={tissue_type}, has_event={has_event}.\")\n",
      "/home/caleb/anaconda3/envs/dev/lib/python3.10/site-packages/cnvutils/chromosome_funcs.py:399: UserWarning: Only one tissue type for cancer_type=coad, source=gistic, level=gene, chromosome=8, arm=q, gain_or_loss=gain, cis_or_trans=cis, proteomics_or_transcriptomics=transcriptomics, comparison=tumor, tissue_type=None, has_event=True.\n",
      "  warnings.warn(f\"Only one tissue type for cancer_type={cancer_type}, source={source}, level={level}, chromosome={chromosome}, arm={arm}, gain_or_loss={gain_or_loss}, cis_or_trans={cis_or_trans}, proteomics_or_transcriptomics={proteomics_or_transcriptomics}, comparison={comparison}, tissue_type={tissue_type}, has_event={has_event}.\")\n",
      "/home/caleb/anaconda3/envs/dev/lib/python3.10/site-packages/cnvutils/chromosome_funcs.py:399: UserWarning: Only one tissue type for cancer_type=ov, source=gistic, level=gene, chromosome=8, arm=q, gain_or_loss=gain, cis_or_trans=cis, proteomics_or_transcriptomics=transcriptomics, comparison=tumor, tissue_type=None, has_event=True.\n",
      "  warnings.warn(f\"Only one tissue type for cancer_type={cancer_type}, source={source}, level={level}, chromosome={chromosome}, arm={arm}, gain_or_loss={gain_or_loss}, cis_or_trans={cis_or_trans}, proteomics_or_transcriptomics={proteomics_or_transcriptomics}, comparison={comparison}, tissue_type={tissue_type}, has_event={has_event}.\")\n"
     ]
    },
    {
     "name": "stdout",
     "output_type": "stream",
     "text": [
      "                                                                                \r"
     ]
    },
    {
     "name": "stderr",
     "output_type": "stream",
     "text": [
      "/home/caleb/anaconda3/envs/dev/lib/python3.10/site-packages/cnvutils/chromosome_funcs.py:399: UserWarning: Only one tissue type for cancer_type=brca, source=gistic, level=gene, chromosome=8, arm=q, gain_or_loss=gain, cis_or_trans=trans, proteomics_or_transcriptomics=transcriptomics, comparison=tumor, tissue_type=None, has_event=True.\n",
      "  warnings.warn(f\"Only one tissue type for cancer_type={cancer_type}, source={source}, level={level}, chromosome={chromosome}, arm={arm}, gain_or_loss={gain_or_loss}, cis_or_trans={cis_or_trans}, proteomics_or_transcriptomics={proteomics_or_transcriptomics}, comparison={comparison}, tissue_type={tissue_type}, has_event={has_event}.\")\n",
      "/home/caleb/anaconda3/envs/dev/lib/python3.10/site-packages/cnvutils/chromosome_funcs.py:399: UserWarning: Only one tissue type for cancer_type=coad, source=gistic, level=gene, chromosome=8, arm=q, gain_or_loss=gain, cis_or_trans=trans, proteomics_or_transcriptomics=transcriptomics, comparison=tumor, tissue_type=None, has_event=True.\n",
      "  warnings.warn(f\"Only one tissue type for cancer_type={cancer_type}, source={source}, level={level}, chromosome={chromosome}, arm={arm}, gain_or_loss={gain_or_loss}, cis_or_trans={cis_or_trans}, proteomics_or_transcriptomics={proteomics_or_transcriptomics}, comparison={comparison}, tissue_type={tissue_type}, has_event={has_event}.\")\n",
      "/home/caleb/anaconda3/envs/dev/lib/python3.10/site-packages/cnvutils/chromosome_funcs.py:399: UserWarning: Only one tissue type for cancer_type=ov, source=gistic, level=gene, chromosome=8, arm=q, gain_or_loss=gain, cis_or_trans=trans, proteomics_or_transcriptomics=transcriptomics, comparison=tumor, tissue_type=None, has_event=True.\n",
      "  warnings.warn(f\"Only one tissue type for cancer_type={cancer_type}, source={source}, level={level}, chromosome={chromosome}, arm={arm}, gain_or_loss={gain_or_loss}, cis_or_trans={cis_or_trans}, proteomics_or_transcriptomics={proteomics_or_transcriptomics}, comparison={comparison}, tissue_type={tissue_type}, has_event={has_event}.\")\n"
     ]
    },
    {
     "name": "stdout",
     "output_type": "stream",
     "text": [
      "                                                                                \r"
     ]
    },
    {
     "name": "stderr",
     "output_type": "stream",
     "text": [
      "/home/caleb/anaconda3/envs/dev/lib/python3.10/site-packages/cnvutils/chromosome_funcs.py:399: UserWarning: Only one tissue type for cancer_type=brca, source=gistic, level=gene, chromosome=8, arm=q, gain_or_loss=gain, cis_or_trans=cis, proteomics_or_transcriptomics=transcriptomics, comparison=tumor, tissue_type=None, has_event=False.\n",
      "  warnings.warn(f\"Only one tissue type for cancer_type={cancer_type}, source={source}, level={level}, chromosome={chromosome}, arm={arm}, gain_or_loss={gain_or_loss}, cis_or_trans={cis_or_trans}, proteomics_or_transcriptomics={proteomics_or_transcriptomics}, comparison={comparison}, tissue_type={tissue_type}, has_event={has_event}.\")\n",
      "/home/caleb/anaconda3/envs/dev/lib/python3.10/site-packages/cnvutils/chromosome_funcs.py:399: UserWarning: Only one tissue type for cancer_type=coad, source=gistic, level=gene, chromosome=8, arm=q, gain_or_loss=gain, cis_or_trans=cis, proteomics_or_transcriptomics=transcriptomics, comparison=tumor, tissue_type=None, has_event=False.\n",
      "  warnings.warn(f\"Only one tissue type for cancer_type={cancer_type}, source={source}, level={level}, chromosome={chromosome}, arm={arm}, gain_or_loss={gain_or_loss}, cis_or_trans={cis_or_trans}, proteomics_or_transcriptomics={proteomics_or_transcriptomics}, comparison={comparison}, tissue_type={tissue_type}, has_event={has_event}.\")\n",
      "/home/caleb/anaconda3/envs/dev/lib/python3.10/site-packages/cnvutils/chromosome_funcs.py:399: UserWarning: Only one tissue type for cancer_type=ov, source=gistic, level=gene, chromosome=8, arm=q, gain_or_loss=gain, cis_or_trans=cis, proteomics_or_transcriptomics=transcriptomics, comparison=tumor, tissue_type=None, has_event=False.\n",
      "  warnings.warn(f\"Only one tissue type for cancer_type={cancer_type}, source={source}, level={level}, chromosome={chromosome}, arm={arm}, gain_or_loss={gain_or_loss}, cis_or_trans={cis_or_trans}, proteomics_or_transcriptomics={proteomics_or_transcriptomics}, comparison={comparison}, tissue_type={tissue_type}, has_event={has_event}.\")\n"
     ]
    },
    {
     "name": "stdout",
     "output_type": "stream",
     "text": [
      "                                                                                \r"
     ]
    },
    {
     "name": "stderr",
     "output_type": "stream",
     "text": [
      "/home/caleb/anaconda3/envs/dev/lib/python3.10/site-packages/cnvutils/chromosome_funcs.py:399: UserWarning: Only one tissue type for cancer_type=brca, source=gistic, level=gene, chromosome=8, arm=q, gain_or_loss=gain, cis_or_trans=trans, proteomics_or_transcriptomics=transcriptomics, comparison=tumor, tissue_type=None, has_event=False.\n",
      "  warnings.warn(f\"Only one tissue type for cancer_type={cancer_type}, source={source}, level={level}, chromosome={chromosome}, arm={arm}, gain_or_loss={gain_or_loss}, cis_or_trans={cis_or_trans}, proteomics_or_transcriptomics={proteomics_or_transcriptomics}, comparison={comparison}, tissue_type={tissue_type}, has_event={has_event}.\")\n",
      "/home/caleb/anaconda3/envs/dev/lib/python3.10/site-packages/cnvutils/chromosome_funcs.py:399: UserWarning: Only one tissue type for cancer_type=coad, source=gistic, level=gene, chromosome=8, arm=q, gain_or_loss=gain, cis_or_trans=trans, proteomics_or_transcriptomics=transcriptomics, comparison=tumor, tissue_type=None, has_event=False.\n",
      "  warnings.warn(f\"Only one tissue type for cancer_type={cancer_type}, source={source}, level={level}, chromosome={chromosome}, arm={arm}, gain_or_loss={gain_or_loss}, cis_or_trans={cis_or_trans}, proteomics_or_transcriptomics={proteomics_or_transcriptomics}, comparison={comparison}, tissue_type={tissue_type}, has_event={has_event}.\")\n",
      "/home/caleb/anaconda3/envs/dev/lib/python3.10/site-packages/cnvutils/chromosome_funcs.py:399: UserWarning: Only one tissue type for cancer_type=ov, source=gistic, level=gene, chromosome=8, arm=q, gain_or_loss=gain, cis_or_trans=trans, proteomics_or_transcriptomics=transcriptomics, comparison=tumor, tissue_type=None, has_event=False.\n",
      "  warnings.warn(f\"Only one tissue type for cancer_type={cancer_type}, source={source}, level={level}, chromosome={chromosome}, arm={arm}, gain_or_loss={gain_or_loss}, cis_or_trans={cis_or_trans}, proteomics_or_transcriptomics={proteomics_or_transcriptomics}, comparison={comparison}, tissue_type={tissue_type}, has_event={has_event}.\")\n"
     ]
    },
    {
     "data": {
      "text/plain": [
       "[None,\n",
       " None,\n",
       " None,\n",
       " None,\n",
       " None,\n",
       " None,\n",
       " None,\n",
       " None,\n",
       " None,\n",
       " None,\n",
       " None,\n",
       " None,\n",
       " None,\n",
       " None,\n",
       " None,\n",
       " None,\n",
       " None,\n",
       " None,\n",
       " None,\n",
       " None,\n",
       " None,\n",
       " None,\n",
       " None,\n",
       " None,\n",
       " None,\n",
       " None,\n",
       " None,\n",
       " None,\n",
       " None,\n",
       " None,\n",
       " None,\n",
       " None]"
      ]
     },
     "execution_count": 3,
     "metadata": {},
     "output_type": "execute_result"
    }
   ],
   "source": [
    "cnvutils.multi_runner(\n",
    "    func=cnvutils.event_effects_ttest,\n",
    "    sources=[\"cptac\", \"gistic\"],\n",
    "    levels=[\"gene\"],\n",
    "    chromosomes_events={\n",
    "        8: {\n",
    "            \"p\": [\"loss\"],\n",
    "            \"q\": [\"gain\"],\n",
    "        },\n",
    "    },\n",
    "    more_dicts=[\n",
    "        {\n",
    "            \"name\": \"comparison\",\n",
    "            \"vals\": [\"tumor\"]\n",
    "        },\n",
    "        {\n",
    "            \"name\": \"has_event\",\n",
    "            \"vals\": [True, False],\n",
    "        },\n",
    "        {\n",
    "            \"name\": \"proteomics_or_transcriptomics\",\n",
    "            \"vals\": [\"proteomics\", \"transcriptomics\"],\n",
    "        },\n",
    "        {\n",
    "            \"name\": \"cis_or_trans\",\n",
    "            \"vals\": [\"cis\", \"trans\"],\n",
    "        },\n",
    "    ]\n",
    ")"
   ]
  }
 ],
 "metadata": {
  "kernelspec": {
   "display_name": "Python 3 (ipykernel)",
   "language": "python",
   "name": "python3"
  },
  "language_info": {
   "codemirror_mode": {
    "name": "ipython",
    "version": 3
   },
   "file_extension": ".py",
   "mimetype": "text/x-python",
   "name": "python",
   "nbconvert_exporter": "python",
   "pygments_lexer": "ipython3",
   "version": "3.10.4"
  }
 },
 "nbformat": 4,
 "nbformat_minor": 5
}
