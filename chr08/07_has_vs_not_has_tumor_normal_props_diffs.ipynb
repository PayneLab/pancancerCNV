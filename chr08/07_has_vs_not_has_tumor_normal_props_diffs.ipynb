{
 "cells": [
  {
   "cell_type": "markdown",
   "id": "e5adc167",
   "metadata": {},
   "source": [
    "# Number of proteins different between tumor and normal in samples with an event versus samples without it\n",
    "\n",
    "Using the t-test results comparing tumor to normal abundances for each protein and RNA, separately between samples with and without the event, save tables of the proportion of proteins and RNAs affected in samples with the event versus samples without the event."
   ]
  },
  {
   "cell_type": "code",
   "execution_count": 1,
   "id": "2ff8d605",
   "metadata": {},
   "outputs": [],
   "source": [
    "import altair as alt\n",
    "import cnvutils\n",
    "import numpy as np"
   ]
  },
  {
   "cell_type": "code",
   "execution_count": 2,
   "id": "3f82134d",
   "metadata": {},
   "outputs": [
    {
     "name": "stdout",
     "output_type": "stream",
     "text": [
      "Running _get_ttest_sig_counts...\n",
      "Running _get_ttest_sig_counts...\n",
      "Running _get_ttest_sig_counts...\n",
      "Running _get_ttest_sig_counts...\n",
      "Running _get_ttest_sig_counts...\n",
      "Running _get_ttest_sig_counts...\n",
      "Running _get_ttest_sig_counts...\n",
      "Running _get_ttest_sig_counts...\n",
      "\n",
      "\n",
      "\n",
      "\n",
      "\n",
      "\n",
      "\n",
      "\n",
      "Running _get_ttest_sig_counts...\n",
      "Running _get_ttest_sig_counts...\n",
      "Running _get_ttest_sig_counts...\n",
      "\n",
      "\n",
      "\n",
      "Running _get_ttest_sig_counts...\n",
      "\n",
      "Running _get_ttest_sig_counts...\n",
      "Running _get_ttest_sig_counts...\n",
      "\n",
      "\n",
      "Running _get_ttest_sig_counts...\n",
      "\n",
      "Running _get_ttest_sig_counts...\n",
      "Running _get_ttest_sig_counts...\n",
      "\n",
      "\n",
      "Running _get_ttest_sig_counts...\n",
      "Running _get_ttest_sig_counts...\n",
      "\n",
      "\n",
      "Running _get_ttest_sig_counts...\n",
      "Running _get_ttest_sig_counts...\n",
      "\n",
      "\n",
      "Running _get_ttest_sig_counts...\n",
      "\n",
      "Running _get_ttest_sig_counts...\n",
      "\n",
      "Running _get_ttest_sig_counts...\n",
      "Running _get_ttest_sig_counts...\n",
      "\n",
      "\n",
      "Running _get_ttest_sig_counts...\n",
      "\n",
      "Running _get_ttest_sig_counts...\n",
      "\n",
      "Running _get_ttest_sig_counts...\n",
      "\n",
      "Running _get_ttest_sig_counts...\n",
      "\n",
      "Running _get_ttest_sig_counts...\n",
      "\n",
      "Running _get_ttest_sig_counts...\n",
      "\n",
      "Running _get_ttest_sig_counts...\n",
      "\n"
     ]
    }
   ],
   "source": [
    "cnvutils.get_has_vs_not_has_tumor_normal_diff_props(\n",
    "    chromosomes_events={\n",
    "            8: {\n",
    "                \"p\": [\"loss\"],\n",
    "                \"q\": [\"gain\"],\n",
    "            },\n",
    "        },\n",
    "    sources=[\"cptac\", \"gistic\"],\n",
    "    levels=[\"gene\"],    \n",
    ")"
   ]
  }
 ],
 "metadata": {
  "kernelspec": {
   "display_name": "Python 3 (ipykernel)",
   "language": "python",
   "name": "python3"
  },
  "language_info": {
   "codemirror_mode": {
    "name": "ipython",
    "version": 3
   },
   "file_extension": ".py",
   "mimetype": "text/x-python",
   "name": "python",
   "nbconvert_exporter": "python",
   "pygments_lexer": "ipython3",
   "version": "3.10.4"
  }
 },
 "nbformat": 4,
 "nbformat_minor": 5
}
