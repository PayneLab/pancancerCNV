{
 "cells": [
  {
   "cell_type": "markdown",
   "id": "dec9d67f",
   "metadata": {},
   "source": [
    "# Make counts tables\n",
    "\n",
    "Generate tables containing the count of patients in each cancer type with a CNV event at each gene. These data will be used in subsequent steps to identify common CNV events. A gene is counted as gained or lost if its log2 ratio normalized CNV values is over +/- 0.2, based on previous work with CPTAC data (see PubMed ID [32059776](https://pubmed.ncbi.nlm.nih.gov/32059776/))."
   ]
  },
  {
   "cell_type": "code",
   "execution_count": 1,
   "id": "1096ef3c",
   "metadata": {},
   "outputs": [],
   "source": [
    "import cnvutils"
   ]
  },
  {
   "cell_type": "code",
   "execution_count": 2,
   "id": "d95ec8a8",
   "metadata": {},
   "outputs": [],
   "source": [
    "CHROMOSOME = 8"
   ]
  },
  {
   "cell_type": "code",
   "execution_count": 3,
   "id": "9352ced3",
   "metadata": {
    "scrolled": false
   },
   "outputs": [
    {
     "name": "stdout",
     "output_type": "stream",
     "text": [
      "                                                                                \r"
     ]
    }
   ],
   "source": [
    "cnvutils.make_counts_table(\n",
    "    source=\"cptac\",\n",
    "    chromosome=CHROMOSOME,\n",
    ")"
   ]
  },
  {
   "cell_type": "code",
   "execution_count": 4,
   "id": "1883f4b5",
   "metadata": {},
   "outputs": [
    {
     "name": "stdout",
     "output_type": "stream",
     "text": [
      "                                                                                \r"
     ]
    }
   ],
   "source": [
    "cnvutils.make_counts_table(\n",
    "    source=\"gistic\",\n",
    "    chromosome=CHROMOSOME,\n",
    "    level=\"gene\",\n",
    ")"
   ]
  }
 ],
 "metadata": {
  "kernelspec": {
   "display_name": "Python 3 (ipykernel)",
   "language": "python",
   "name": "python3"
  },
  "language_info": {
   "codemirror_mode": {
    "name": "ipython",
    "version": 3
   },
   "file_extension": ".py",
   "mimetype": "text/x-python",
   "name": "python",
   "nbconvert_exporter": "python",
   "pygments_lexer": "ipython3",
   "version": "3.10.4"
  }
 },
 "nbformat": 4,
 "nbformat_minor": 5
}
