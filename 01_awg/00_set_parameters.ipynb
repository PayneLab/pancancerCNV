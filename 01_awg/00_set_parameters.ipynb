{
 "cells": [
  {
   "cell_type": "markdown",
   "id": "8f333f71",
   "metadata": {},
   "source": [
    "# Set parameters\n",
    "\n",
    "This notebook sets parameters that will be used throughout the rest of the analysis in all notebooks in this file's directory and any child directories.\n",
    "\n",
    "**This notebook should be run before any other notebooks are run, and if parameters in this notebook are changed, all other notebooks should be re-run.**"
   ]
  },
  {
   "cell_type": "code",
   "execution_count": 1,
   "id": "ded13168",
   "metadata": {},
   "outputs": [],
   "source": [
    "import json\n",
    "import os"
   ]
  },
  {
   "cell_type": "code",
   "execution_count": 2,
   "id": "c0a763fb",
   "metadata": {},
   "outputs": [],
   "source": [
    "params = {\n",
    "    # Whether to use the harmonized pancan data, or the AWG data\n",
    "    \"PANCAN\": False,\n",
    "    \n",
    "    # The CNV value magnitude required for a gene to count as amplified or deleted\n",
    "    \"GENE_CNV_MAGNITUDE_CUTOFF\": 0.2,\n",
    "    \n",
    "    # File format for saving charts. This is so we can easily switch from png to svg if we want\n",
    "    \"CHART_FORMAT\": \"png\",\n",
    "    \"CHART_DPI\": 600,\n",
    "}"
   ]
  },
  {
   "cell_type": "code",
   "execution_count": 3,
   "id": "09b9b795",
   "metadata": {},
   "outputs": [],
   "source": [
    "os.makedirs(\"data\", exist_ok=True)\n",
    "\n",
    "param_path = os.path.join(\"data\", \"params.json\")\n",
    "with open(param_path, \"w\") as param_file:\n",
    "    json.dump(params, param_file)"
   ]
  }
 ],
 "metadata": {
  "kernelspec": {
   "display_name": "Python 3 (ipykernel)",
   "language": "python",
   "name": "python3"
  },
  "language_info": {
   "codemirror_mode": {
    "name": "ipython",
    "version": 3
   },
   "file_extension": ".py",
   "mimetype": "text/x-python",
   "name": "python",
   "nbconvert_exporter": "python",
   "pygments_lexer": "ipython3",
   "version": "3.9.7"
  }
 },
 "nbformat": 4,
 "nbformat_minor": 5
}
