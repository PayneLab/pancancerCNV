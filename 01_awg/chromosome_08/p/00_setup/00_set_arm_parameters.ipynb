{
 "cells": [
  {
   "cell_type": "markdown",
   "id": "8f333f71",
   "metadata": {},
   "source": [
    "# Set parameters for this arm\n",
    "\n",
    "This notebook sets parameters that will be used throughout the rest of the analysis, such as the chromosome and arm we're interested, cutoff constants, and so on.\n",
    "\n",
    "**This notebook should be run before any other notebooks in the analysis are run, and if parameters in this notebook are changed, all other notebooks should be re-run.**"
   ]
  },
  {
   "cell_type": "code",
   "execution_count": 1,
   "id": "ded13168",
   "metadata": {},
   "outputs": [],
   "source": [
    "import json\n",
    "import os"
   ]
  },
  {
   "cell_type": "code",
   "execution_count": 2,
   "id": "d18afc9b",
   "metadata": {},
   "outputs": [],
   "source": [
    "params = {\n",
    "    \"ARM\": \"p\",\n",
    "    \n",
    "    # Which cancer types we want to look at for this arm\n",
    "    \"ARM_CANCER_TYPES\": [\n",
    "        \"brca\",\n",
    "#         \"ccrcc\",\n",
    "        \"colon\",\n",
    "#         \"endometrial\",\n",
    "#         \"gbm\",\n",
    "        \"hnscc\",\n",
    "        \"lscc\",\n",
    "        \"luad\",\n",
    "        \"ovarian\",\n",
    "    ],\n",
    "    \n",
    "    # These are the event ranges, set based off of ../../04_define_events_boundaries.ipynb (30 Sep 2020)\n",
    "    # Also the event type (either 'gain' or 'loss')\n",
    "    # For the 8p loss event\n",
    "    \"START\": 406428, # 406,428 bp\n",
    "    \"END\": 36784324, # 36,784,324 bp \n",
    "    \"TYPE\": \"loss\",\n",
    "}"
   ]
  },
  {
   "cell_type": "code",
   "execution_count": 3,
   "id": "09b9b795",
   "metadata": {},
   "outputs": [],
   "source": [
    "os.makedirs(os.path.join(\"..\", \"data\"), exist_ok=True)\n",
    "os.makedirs(os.path.join(\"..\", \"data\", \"charts_img\"), exist_ok=True)\n",
    "\n",
    "param_path = os.path.join(\"..\", \"data\", \"arm_params.json\")\n",
    "with open(param_path, \"w\") as param_file:\n",
    "    json.dump(params, param_file)"
   ]
  }
 ],
 "metadata": {
  "kernelspec": {
   "display_name": "Python 3 (ipykernel)",
   "language": "python",
   "name": "python3"
  },
  "language_info": {
   "codemirror_mode": {
    "name": "ipython",
    "version": 3
   },
   "file_extension": ".py",
   "mimetype": "text/x-python",
   "name": "python",
   "nbconvert_exporter": "python",
   "pygments_lexer": "ipython3",
   "version": "3.9.7"
  }
 },
 "nbformat": 4,
 "nbformat_minor": 5
}
