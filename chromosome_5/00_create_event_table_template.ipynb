{
 "cells": [
  {
   "cell_type": "markdown",
   "metadata": {},
   "source": [
    "# Create Event Tables\n",
    "\n",
    "The first thing we need to do is create tables that indicate whether a patient has the given event or not. A table should be created for each event "
   ]
  },
  {
   "cell_type": "markdown",
   "metadata": {},
   "source": [
    "## Setup"
   ]
  },
  {
   "cell_type": "code",
   "execution_count": 1,
   "metadata": {},
   "outputs": [
    {
     "name": "stderr",
     "output_type": "stream",
     "text": [
      "cptac warning: Your version of cptac (0.8.5) is out-of-date. Latest is 0.8.6. Please run 'pip install --upgrade cptac' to update it. (C:\\Users\\chels\\anaconda3\\envs\\notebooks\\lib\\site-packages\\ipykernel_launcher.py, line 1)\n"
     ]
    }
   ],
   "source": [
    "import cptac\n",
    "import pandas as pd\n",
    "import cnvutils"
   ]
  },
  {
   "cell_type": "code",
   "execution_count": 2,
   "metadata": {},
   "outputs": [],
   "source": [
    "# For \n",
    "CUTOFF = 0.8\n",
    "\n",
    "CHROMOSOME = '5'\n",
    "\n",
    "# Event (start, end)\n",
    "GAIN_EVENT = (92151,50396192)\n",
    "LOSS_EVENT = (51383448, 148169733)\n"
   ]
  },
  {
   "cell_type": "code",
   "execution_count": 3,
   "metadata": {},
   "outputs": [
    {
     "name": "stdout",
     "output_type": "stream",
     "text": [
      "Checking that hnscc index is up-to-date...      \r"
     ]
    },
    {
     "name": "stderr",
     "output_type": "stream",
     "text": [
      "cptac warning: The GBM dataset is under publication embargo until March 01, 2021. CPTAC is a community resource project and data are made available rapidly after generation for community research use. The embargo allows exploring and utilizing the data, but analysis may not be published until after the embargo date. Please see https://proteomics.cancer.gov/data-portal/about/data-use-agreement or enter cptac.embargo() to open the webpage for more details. (C:\\Users\\chels\\anaconda3\\envs\\notebooks\\lib\\site-packages\\ipykernel_launcher.py, line 7)\n"
     ]
    },
    {
     "name": "stdout",
     "output_type": "stream",
     "text": [
      "Checking that lscc index is up-to-date... \r"
     ]
    },
    {
     "name": "stderr",
     "output_type": "stream",
     "text": [
      "cptac warning: The HNSCC data is currently strictly reserved for CPTAC investigators. Otherwise, you are not authorized to access these data. Additionally, even after these data become publicly available, they will be subject to a publication embargo (see https://proteomics.cancer.gov/data-portal/about/data-use-agreement or enter cptac.embargo() to open the webpage for more details). (C:\\Users\\chels\\anaconda3\\envs\\notebooks\\lib\\site-packages\\ipykernel_launcher.py, line 8)\n"
     ]
    },
    {
     "name": "stdout",
     "output_type": "stream",
     "text": [
      "Checking that luad index is up-to-date...\r"
     ]
    },
    {
     "name": "stderr",
     "output_type": "stream",
     "text": [
      "cptac warning: The LSCC data is currently strictly reserved for CPTAC investigators. Otherwise, you are not authorized to access these data. Additionally, even after these data become publicly available, they will be subject to a publication embargo (see https://proteomics.cancer.gov/data-portal/about/data-use-agreement or enter cptac.embargo() to open the webpage for more details). (C:\\Users\\chels\\anaconda3\\envs\\notebooks\\lib\\site-packages\\ipykernel_launcher.py, line 9)\n"
     ]
    },
    {
     "name": "stdout",
     "output_type": "stream",
     "text": [
      "                                            \r"
     ]
    }
   ],
   "source": [
    "# List here the types of cancer we want to look at for this event\n",
    "cnv_tables = {\n",
    "    \"brca\": cptac.Brca().get_CNV(),\n",
    "    \"colon\": cptac.Colon().get_CNV(),\n",
    "    \"ccrcc\": cptac.Ccrcc().get_CNV(),\n",
    "    \"endo\": cptac.Endometrial().get_CNV(),\n",
    "    \"gbm\": cptac.Gbm().get_CNV(),\n",
    "    \"hnscc\": cptac.Hnscc().get_CNV(),\n",
    "    \"lscc\": cptac.Lscc().get_CNV(),\n",
    "    \"luad\": cptac.Luad().get_CNV(),\n",
    "    \"ovarian\": cptac.Ovarian().get_CNV()\n",
    "}"
   ]
  },
  {
   "cell_type": "markdown",
   "metadata": {},
   "source": [
    "## Append Gene location data"
   ]
  },
  {
   "cell_type": "code",
   "execution_count": 4,
   "metadata": {},
   "outputs": [],
   "source": [
    "locations = cnvutils.get_gene_locations()"
   ]
  },
  {
   "cell_type": "code",
   "execution_count": 5,
   "metadata": {},
   "outputs": [],
   "source": [
    "for cancer_type in cnv_tables.keys():\n",
    "    df = cnv_tables[cancer_type]\n",
    "    df = df.transpose()\n",
    "    if not isinstance(df.index, pd.MultiIndex):\n",
    "        new_df = df.join(locations.droplevel(1))\n",
    "        cnv_tables[cancer_type] = new_df.dropna()\n",
    "    else:\n",
    "        new_df = df.join(locations)\n",
    "        cnv_tables[cancer_type] = new_df.dropna()"
   ]
  },
  {
   "cell_type": "markdown",
   "metadata": {},
   "source": [
    "## Get percentage with event"
   ]
  },
  {
   "cell_type": "code",
   "execution_count": 6,
   "metadata": {},
   "outputs": [],
   "source": [
    "def has_gain_event(row, cutoff):\n",
    "    values = list(row)\n",
    "    percent = len([x for x in values if x >= 0.2]) / len(values)\n",
    "    return percent >= CUTOFF"
   ]
  },
  {
   "cell_type": "code",
   "execution_count": 7,
   "metadata": {},
   "outputs": [],
   "source": [
    "def has_loss_event(row, cutoff):\n",
    "    values = list(row)\n",
    "    percent = len([x for x in values if x <= -0.2]) / len(values)\n",
    "    return percent >= CUTOFF"
   ]
  },
  {
   "cell_type": "code",
   "execution_count": 8,
   "metadata": {},
   "outputs": [],
   "source": [
    "for cancer_type in cnv_tables.keys():\n",
    "    df = cnv_tables[cancer_type]\n",
    "    # Subset Chromosome\n",
    "    df_chromosome = df[df.chromosome == CHROMOSOME]\n",
    "    # Find Gain Events\n",
    "    event_dict = dict()\n",
    "    if GAIN_EVENT:\n",
    "        event_gain = df_chromosome[df_chromosome.start_bp > GAIN_EVENT[0]]\n",
    "        event_gain = event_gain[event_gain.end_bp < GAIN_EVENT[1]]\n",
    "        event_gain = event_gain.drop(columns=['chromosome', 'start_bp', 'end_bp', 'arm'])\n",
    "        gain_event = event_gain.apply(lambda x: has_gain_event(x, CUTOFF))\n",
    "        event_dict['gain_event'] = gain_event\n",
    "    if LOSS_EVENT:\n",
    "        event_loss = df_chromosome[df_chromosome.start_bp > LOSS_EVENT[0]]\n",
    "        event_loss = event_loss[event_loss.end_bp < LOSS_EVENT[1]]\n",
    "        event_loss = event_loss.drop(columns=['chromosome', 'start_bp', 'end_bp', 'arm'])\n",
    "        loss_event = event_loss.apply(lambda x: has_loss_event(x, CUTOFF))\n",
    "        event_dict['loss_event'] = loss_event\n",
    "    # Create event table\n",
    "    event_table = pd.DataFrame(event_dict)\n",
    "    # Write to csv\n",
    "    event_table.to_csv(f'{cancer_type}_has_event.tsv', sep='\\t')"
   ]
  }
 ],
 "metadata": {
  "kernelspec": {
   "display_name": "Python 3",
   "language": "python",
   "name": "python3"
  },
  "language_info": {
   "codemirror_mode": {
    "name": "ipython",
    "version": 3
   },
   "file_extension": ".py",
   "mimetype": "text/x-python",
   "name": "python",
   "nbconvert_exporter": "python",
   "pygments_lexer": "ipython3",
   "version": "3.7.9"
  }
 },
 "nbformat": 4,
 "nbformat_minor": 4
}
