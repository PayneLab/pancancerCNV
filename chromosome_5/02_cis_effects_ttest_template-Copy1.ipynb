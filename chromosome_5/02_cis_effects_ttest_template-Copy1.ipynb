{
 "cells": [
  {
   "cell_type": "markdown",
   "metadata": {},
   "source": [
    "# Cis-Effects with t tests for (your chromosome arm here!)\n",
    "\n",
    "Here we look for genes IN the event discussed that are affected by the arm-level event. We will find these effects by performing a series of t-tests comparing the proteomic values of the patients with the event against those without the event."
   ]
  },
  {
   "cell_type": "markdown",
   "metadata": {},
   "source": [
    "## Setup (Install necessary packages)\n",
    "\n",
    "We will start by importing necessary packages and collecting all of the proteomics data we will need to run the tests. The cancer types analyzed should have been determined in 01_event_basic_info where we determine which types of cancer seem to have the event we are looking at."
   ]
  },
  {
   "cell_type": "code",
   "execution_count": 1,
   "metadata": {},
   "outputs": [
    {
     "name": "stderr",
     "output_type": "stream",
     "text": [
      "cptac warning: Your version of cptac (0.8.5) is out-of-date. Latest is 0.8.6. Please run 'pip install --upgrade cptac' to update it. (C:\\Users\\chels\\anaconda3\\envs\\notebooks\\lib\\site-packages\\ipykernel_launcher.py, line 5)\n"
     ]
    }
   ],
   "source": [
    "import pandas as pd\n",
    "import matplotlib.pyplot as plt\n",
    "import seaborn as sns\n",
    "import numpy as np\n",
    "import cptac\n",
    "from scipy import stats\n",
    "import cnvutils\n",
    "import cptac.utils"
   ]
  },
  {
   "cell_type": "code",
   "execution_count": 2,
   "metadata": {},
   "outputs": [
    {
     "name": "stdout",
     "output_type": "stream",
     "text": [
      "Checking that lscc index is up-to-date... \r"
     ]
    },
    {
     "name": "stderr",
     "output_type": "stream",
     "text": [
      "cptac warning: The HNSCC data is currently strictly reserved for CPTAC investigators. Otherwise, you are not authorized to access these data. Additionally, even after these data become publicly available, they will be subject to a publication embargo (see https://proteomics.cancer.gov/data-portal/about/data-use-agreement or enter cptac.embargo() to open the webpage for more details). (C:\\Users\\chels\\anaconda3\\envs\\notebooks\\lib\\site-packages\\ipykernel_launcher.py, line 8)\n"
     ]
    },
    {
     "name": "stdout",
     "output_type": "stream",
     "text": [
      "Checking that ovarian index is up-to-date...\r"
     ]
    },
    {
     "name": "stderr",
     "output_type": "stream",
     "text": [
      "cptac warning: The LSCC data is currently strictly reserved for CPTAC investigators. Otherwise, you are not authorized to access these data. Additionally, even after these data become publicly available, they will be subject to a publication embargo (see https://proteomics.cancer.gov/data-portal/about/data-use-agreement or enter cptac.embargo() to open the webpage for more details). (C:\\Users\\chels\\anaconda3\\envs\\notebooks\\lib\\site-packages\\ipykernel_launcher.py, line 9)\n"
     ]
    },
    {
     "name": "stdout",
     "output_type": "stream",
     "text": [
      "                                            \r"
     ]
    }
   ],
   "source": [
    "# Load in the cptac data for each cancer type that you want to analyze.\n",
    "# Just uncomment the lines for the cancer types you want\n",
    "# br = cptac.Brca()\n",
    "# cc = cptac.Ccrcc()\n",
    "# co = cptac.Colon()\n",
    "# en = cptac.Endometrial()\n",
    "# gb = cptac.Gbm()\n",
    "hn = cptac.Hnscc()\n",
    "ls = cptac.Lscc()\n",
    "# lu = cptac.Luad()\n",
    "ov = cptac.Ovarian()"
   ]
  },
  {
   "cell_type": "code",
   "execution_count": 3,
   "metadata": {},
   "outputs": [],
   "source": [
    "# Now we need to get the proteomics tables for each type of cancer to analyze.\n",
    "proteomics = {\n",
    "    # For example, if we were doing colon, hnscc, lscc, luad, and ovarian:\n",
    "\n",
    "#     \"brca\": br.get_proteomics(tissue_type=\"tumor\"),\n",
    "#     \"colon\": co.get_proteomics(tissue_type=\"tumor\"),\n",
    "    \"hnscc\": hn.get_proteomics(tissue_type=\"tumor\"),\n",
    "    \"lscc\": ls.get_proteomics(tissue_type=\"tumor\"),\n",
    "#     \"luad\": lu.get_proteomics(tissue_type=\"tumor\"),\n",
    "    \"ovarian\": ov.get_proteomics(tissue_type=\"tumor\")\n",
    "}"
   ]
  },
  {
   "cell_type": "markdown",
   "metadata": {},
   "source": [
    "## Append gene locations\n",
    "\n",
    "We now append the location information to the proteomics tables. This will allow us to determine which proteins are in the event. "
   ]
  },
  {
   "cell_type": "code",
   "execution_count": 4,
   "metadata": {},
   "outputs": [],
   "source": [
    "locations = cnvutils.get_gene_locations()"
   ]
  },
  {
   "cell_type": "code",
   "execution_count": 5,
   "metadata": {},
   "outputs": [],
   "source": [
    "# This will append the location data to each table in the proteomics dictionary\n",
    "for cancer_type in proteomics.keys():\n",
    "    df = proteomics[cancer_type]\n",
    "    df = df.transpose()\n",
    "    if not isinstance(df.index, pd.MultiIndex):\n",
    "        new_df = df.join(locations.droplevel(1))\n",
    "        new_df = new_df.drop_duplicates()\n",
    "        new_df = new_df[new_df[\"chromosome\"].notna()]\n",
    "        proteomics[cancer_type] = new_df\n",
    "    else:\n",
    "        new_df = df.join(locations)\n",
    "        new_df.drop_duplicates(inplace=True)\n",
    "        proteomics[cancer_type] = new_df.dropna()"
   ]
  },
  {
   "cell_type": "markdown",
   "metadata": {},
   "source": [
    "## Remove proteins not in event\n",
    "\n",
    "Before running our t-tests, we need to remove all the proteins that are not in the event we are looking at (we only want to look at CIS effects)"
   ]
  },
  {
   "cell_type": "code",
   "execution_count": 6,
   "metadata": {},
   "outputs": [],
   "source": [
    "# Place here which chromosome and arm you want to look at\n",
    "# the chromosome number should be a string, \n",
    "# the arm should be either p or q (lower case)\n",
    "CHROMOSOME = '5' # Example: '8'\n",
    "ARM = 'q' # Example: 'p'"
   ]
  },
  {
   "cell_type": "code",
   "execution_count": 7,
   "metadata": {},
   "outputs": [],
   "source": [
    "for cancer_type in proteomics.keys():\n",
    "    df = proteomics[cancer_type]\n",
    "    df = df[(df.arm == ARM) & (df.chromosome == CHROMOSOME)]\n",
    "    # Now that we've selected the proteins we want, we can drop the\n",
    "    # location information columns.\n",
    "    df = df.drop(columns=['chromosome', 'start_bp', 'end_bp', 'arm'])\n",
    "    proteomics[cancer_type] = df"
   ]
  },
  {
   "cell_type": "markdown",
   "metadata": {},
   "source": [
    "## Append Event Data\n",
    "\n",
    "We now append the data from the event table that should have been created in a previous notebook."
   ]
  },
  {
   "cell_type": "code",
   "execution_count": 8,
   "metadata": {},
   "outputs": [],
   "source": [
    "# set this variable to the column that represents the event we are looking at\n",
    "EVENT_COLUMN = \"loss_event\" # Example: \"loss_event\"\n",
    "# If there are more than 2 columns in the dataframes you will need to drop the columns you\n",
    "# will not be using. If you don't need to drop any columns, leave this as None.\n",
    "EXCLUDE_COLUMNS = \"gain_event\" # Example: \"gain_event\""
   ]
  },
  {
   "cell_type": "code",
   "execution_count": 9,
   "metadata": {},
   "outputs": [
    {
     "name": "stderr",
     "output_type": "stream",
     "text": [
      "C:\\Users\\chels\\anaconda3\\envs\\notebooks\\lib\\site-packages\\pandas\\core\\reshape\\merge.py:643: UserWarning: merging between different levels can give an unintended result (2 levels on the left,1 on the right)\n",
      "  warnings.warn(msg, UserWarning)\n",
      "C:\\Users\\chels\\anaconda3\\envs\\notebooks\\lib\\site-packages\\pandas\\core\\reshape\\merge.py:643: UserWarning: merging between different levels can give an unintended result (2 levels on the left,1 on the right)\n",
      "  warnings.warn(msg, UserWarning)\n"
     ]
    }
   ],
   "source": [
    "has_event = dict()\n",
    "for cancer_type in proteomics.keys():\n",
    "    df = proteomics[cancer_type]\n",
    "    df = df.transpose()\n",
    "    event = pd.read_csv(f'{cancer_type}_has_event.tsv', sep='\\t', index_col=0)\n",
    "    if EXCLUDE_COLUMNS:\n",
    "        event.drop(EXCLUDE_COLUMNS, axis=1, inplace=True)\n",
    "    event.index.rename('Name')\n",
    "    df = df.join(event)\n",
    "    df = df.dropna(subset=[EVENT_COLUMN])\n",
    "    has_event[cancer_type] = df[EVENT_COLUMN]\n",
    "    proteomics[cancer_type] = df"
   ]
  },
  {
   "cell_type": "markdown",
   "metadata": {},
   "source": [
    "## Run T-Tests"
   ]
  },
  {
   "cell_type": "code",
   "execution_count": 10,
   "metadata": {},
   "outputs": [],
   "source": [
    "results_df = None\n",
    "for cancer_type in proteomics.keys():\n",
    "    prot_df = proteomics[cancer_type]\n",
    "    results = cptac.utils.wrap_ttest(\n",
    "        df=prot_df, \n",
    "        label_column=EVENT_COLUMN,\n",
    "        correction_method=\"fdr_bh\",\n",
    "        return_all=True\n",
    "    )\n",
    "    results.set_index('Comparison', inplace=True)\n",
    "    if isinstance(results.index[0], tuple):\n",
    "        results[['Name', f'{cancer_type}_Database_ID']] = pd.DataFrame(\n",
    "            results.index.values.tolist(),\n",
    "            index=results.index\n",
    "        )\n",
    "        results.set_index(['Name', f'{cancer_type}_Database_ID'], inplace=True)\n",
    "    else:\n",
    "        results.index.name='Name'\n",
    "    results.rename(columns={'P_Value': f'{cancer_type}_pvalue'}, inplace=True)\n",
    "    if results_df is None:\n",
    "        results_df = results\n",
    "    else:\n",
    "        results_df = results_df.join(results)"
   ]
  },
  {
   "cell_type": "markdown",
   "metadata": {},
   "source": [
    "## Append Difference Data\n",
    "\n",
    "We want to collect one more piece of information about the data. We want to find the difference between the averages of the two groups. This will tell us if there is a positive or negative coorelation between the event and the proteomic data and can give us some indication of the strength of the coorelation. "
   ]
  },
  {
   "cell_type": "code",
   "execution_count": 11,
   "metadata": {},
   "outputs": [],
   "source": [
    "def get_diff(col, event):\n",
    "    has_event = col[event]\n",
    "    invert_list = [not x for x in event]\n",
    "    no_event = col[invert_list]\n",
    "    event_avg = has_event.mean()\n",
    "    no_event_avg = no_event.mean()\n",
    "    return event_avg - no_event_avg"
   ]
  },
  {
   "cell_type": "code",
   "execution_count": 12,
   "metadata": {},
   "outputs": [],
   "source": [
    "diff_df = None\n",
    "for cancer_type in proteomics.keys():\n",
    "    df = proteomics[cancer_type]\n",
    "    df = df.drop(EVENT_COLUMN, axis=1)\n",
    "    results = df.apply(lambda x: get_diff(x, has_event[cancer_type]))\n",
    "    df = pd.DataFrame(results)\n",
    "    if isinstance(df.index[0], tuple):\n",
    "        df[['Name', f'{cancer_type}_Database_ID']] = pd.DataFrame(df.index.values.tolist(), index=df.index)\n",
    "        df.set_index(['Name', f'{cancer_type}_Database_ID'], inplace=True)\n",
    "    else:\n",
    "        df.index.name='Name'\n",
    "    df.rename(columns={0: f'{cancer_type}_diff'}, inplace=True)\n",
    "    if diff_df is None:\n",
    "        diff_df = df\n",
    "    else:\n",
    "        diff_df = diff_df.join(df)"
   ]
  },
  {
   "cell_type": "markdown",
   "metadata": {},
   "source": [
    "## Join the tables and save\n",
    "\n",
    "We now join the difference table and the results table together. We also save the table to a tsv for use in future analyses. "
   ]
  },
  {
   "cell_type": "code",
   "execution_count": 13,
   "metadata": {},
   "outputs": [],
   "source": [
    "results_df = results_df.join(diff_df)"
   ]
  },
  {
   "cell_type": "code",
   "execution_count": null,
   "metadata": {},
   "outputs": [],
   "source": []
  },
  {
   "cell_type": "code",
   "execution_count": 14,
   "metadata": {},
   "outputs": [],
   "source": [
    "# This will save the resulting table in the same directory as this notebook.\n",
    "# Modify if you would like to save to a different location.\n",
    "results_df.to_csv(f\"{CHROMOSOME}{ARM}_ciseffects_ttest.tsv\", sep='\\t')"
   ]
  },
  {
   "cell_type": "code",
   "execution_count": 15,
   "metadata": {},
   "outputs": [
    {
     "data": {
      "text/html": [
       "<div>\n",
       "<style scoped>\n",
       "    .dataframe tbody tr th:only-of-type {\n",
       "        vertical-align: middle;\n",
       "    }\n",
       "\n",
       "    .dataframe tbody tr th {\n",
       "        vertical-align: top;\n",
       "    }\n",
       "\n",
       "    .dataframe thead th {\n",
       "        text-align: right;\n",
       "    }\n",
       "</style>\n",
       "<table border=\"1\" class=\"dataframe\">\n",
       "  <thead>\n",
       "    <tr style=\"text-align: right;\">\n",
       "      <th></th>\n",
       "      <th></th>\n",
       "      <th></th>\n",
       "      <th>hnscc_pvalue</th>\n",
       "      <th>lscc_pvalue</th>\n",
       "      <th>ovarian_pvalue</th>\n",
       "      <th>hnscc_diff</th>\n",
       "      <th>lscc_diff</th>\n",
       "      <th>ovarian_diff</th>\n",
       "    </tr>\n",
       "    <tr>\n",
       "      <th>Name</th>\n",
       "      <th>lscc_Database_ID</th>\n",
       "      <th>ovarian_Database_ID</th>\n",
       "      <th></th>\n",
       "      <th></th>\n",
       "      <th></th>\n",
       "      <th></th>\n",
       "      <th></th>\n",
       "      <th></th>\n",
       "    </tr>\n",
       "  </thead>\n",
       "  <tbody>\n",
       "    <tr>\n",
       "      <th>ABLIM3</th>\n",
       "      <th>NP_001287947.1|NP_001287944.1</th>\n",
       "      <th>NaN</th>\n",
       "      <td>0.031005</td>\n",
       "      <td>0.862478</td>\n",
       "      <td>NaN</td>\n",
       "      <td>-0.279494</td>\n",
       "      <td>-0.044613</td>\n",
       "      <td>NaN</td>\n",
       "    </tr>\n",
       "    <tr>\n",
       "      <th>ACTBL2</th>\n",
       "      <th>NP_001017992.1</th>\n",
       "      <th>NP_001017992</th>\n",
       "      <td>0.607895</td>\n",
       "      <td>0.265713</td>\n",
       "      <td>0.901363</td>\n",
       "      <td>-0.045491</td>\n",
       "      <td>-0.216464</td>\n",
       "      <td>0.030015</td>\n",
       "    </tr>\n",
       "    <tr>\n",
       "      <th>AFAP1L1</th>\n",
       "      <th>NP_689619.1|NP_001309991.1|NP_001139809.1|NP_001309992.1</th>\n",
       "      <th>NaN</th>\n",
       "      <td>0.069555</td>\n",
       "      <td>0.317960</td>\n",
       "      <td>NaN</td>\n",
       "      <td>-0.239139</td>\n",
       "      <td>-0.244924</td>\n",
       "      <td>NaN</td>\n",
       "    </tr>\n",
       "    <tr>\n",
       "      <th>AFF4</th>\n",
       "      <th>NP_055238.1</th>\n",
       "      <th>NP_055238</th>\n",
       "      <td>0.608087</td>\n",
       "      <td>0.667100</td>\n",
       "      <td>0.766233</td>\n",
       "      <td>-0.052258</td>\n",
       "      <td>-0.094496</td>\n",
       "      <td>-0.089095</td>\n",
       "    </tr>\n",
       "    <tr>\n",
       "      <th>AGGF1</th>\n",
       "      <th>NP_060516.2</th>\n",
       "      <th>NaN</th>\n",
       "      <td>0.722615</td>\n",
       "      <td>0.668629</td>\n",
       "      <td>NaN</td>\n",
       "      <td>-0.104129</td>\n",
       "      <td>-0.081199</td>\n",
       "      <td>NaN</td>\n",
       "    </tr>\n",
       "    <tr>\n",
       "      <th>...</th>\n",
       "      <th>...</th>\n",
       "      <th>...</th>\n",
       "      <td>...</td>\n",
       "      <td>...</td>\n",
       "      <td>...</td>\n",
       "      <td>...</td>\n",
       "      <td>...</td>\n",
       "      <td>...</td>\n",
       "    </tr>\n",
       "    <tr>\n",
       "      <th>YIPF5</th>\n",
       "      <th>NP_001020118.1|NP_001258661.1</th>\n",
       "      <th>NP_110426</th>\n",
       "      <td>0.028127</td>\n",
       "      <td>0.001155</td>\n",
       "      <td>0.154862</td>\n",
       "      <td>-0.180555</td>\n",
       "      <td>-0.632568</td>\n",
       "      <td>-0.193072</td>\n",
       "    </tr>\n",
       "    <tr>\n",
       "      <th>YTHDC2</th>\n",
       "      <th>NP_073739.3|NP_001332904.1|NP_001332905.1</th>\n",
       "      <th>NP_073739</th>\n",
       "      <td>0.093131</td>\n",
       "      <td>0.003844</td>\n",
       "      <td>0.109846</td>\n",
       "      <td>-0.127605</td>\n",
       "      <td>-0.439153</td>\n",
       "      <td>-0.255130</td>\n",
       "    </tr>\n",
       "    <tr>\n",
       "      <th>ZCCHC9</th>\n",
       "      <th>NP_001124507.1</th>\n",
       "      <th>NaN</th>\n",
       "      <td>0.990265</td>\n",
       "      <td>0.590027</td>\n",
       "      <td>NaN</td>\n",
       "      <td>0.004245</td>\n",
       "      <td>-0.150852</td>\n",
       "      <td>NaN</td>\n",
       "    </tr>\n",
       "    <tr>\n",
       "      <th>ZFYVE16</th>\n",
       "      <th>NP_001098721.1|NP_001271166.1</th>\n",
       "      <th>NP_001098721</th>\n",
       "      <td>0.000550</td>\n",
       "      <td>0.000008</td>\n",
       "      <td>0.528641</td>\n",
       "      <td>-0.183690</td>\n",
       "      <td>-0.559883</td>\n",
       "      <td>-0.084204</td>\n",
       "    </tr>\n",
       "    <tr>\n",
       "      <th>ZMAT2</th>\n",
       "      <th>NP_653324.1</th>\n",
       "      <th>NP_653324</th>\n",
       "      <td>0.502390</td>\n",
       "      <td>0.156247</td>\n",
       "      <td>0.062924</td>\n",
       "      <td>-0.053982</td>\n",
       "      <td>-0.211818</td>\n",
       "      <td>-0.318417</td>\n",
       "    </tr>\n",
       "  </tbody>\n",
       "</table>\n",
       "<p>297 rows × 6 columns</p>\n",
       "</div>"
      ],
      "text/plain": [
       "                                                                                hnscc_pvalue  \\\n",
       "Name    lscc_Database_ID                                   ovarian_Database_ID                 \n",
       "ABLIM3  NP_001287947.1|NP_001287944.1                      NaN                      0.031005   \n",
       "ACTBL2  NP_001017992.1                                     NP_001017992             0.607895   \n",
       "AFAP1L1 NP_689619.1|NP_001309991.1|NP_001139809.1|NP_00... NaN                      0.069555   \n",
       "AFF4    NP_055238.1                                        NP_055238                0.608087   \n",
       "AGGF1   NP_060516.2                                        NaN                      0.722615   \n",
       "...                                                                                      ...   \n",
       "YIPF5   NP_001020118.1|NP_001258661.1                      NP_110426                0.028127   \n",
       "YTHDC2  NP_073739.3|NP_001332904.1|NP_001332905.1          NP_073739                0.093131   \n",
       "ZCCHC9  NP_001124507.1                                     NaN                      0.990265   \n",
       "ZFYVE16 NP_001098721.1|NP_001271166.1                      NP_001098721             0.000550   \n",
       "ZMAT2   NP_653324.1                                        NP_653324                0.502390   \n",
       "\n",
       "                                                                                lscc_pvalue  \\\n",
       "Name    lscc_Database_ID                                   ovarian_Database_ID                \n",
       "ABLIM3  NP_001287947.1|NP_001287944.1                      NaN                     0.862478   \n",
       "ACTBL2  NP_001017992.1                                     NP_001017992            0.265713   \n",
       "AFAP1L1 NP_689619.1|NP_001309991.1|NP_001139809.1|NP_00... NaN                     0.317960   \n",
       "AFF4    NP_055238.1                                        NP_055238               0.667100   \n",
       "AGGF1   NP_060516.2                                        NaN                     0.668629   \n",
       "...                                                                                     ...   \n",
       "YIPF5   NP_001020118.1|NP_001258661.1                      NP_110426               0.001155   \n",
       "YTHDC2  NP_073739.3|NP_001332904.1|NP_001332905.1          NP_073739               0.003844   \n",
       "ZCCHC9  NP_001124507.1                                     NaN                     0.590027   \n",
       "ZFYVE16 NP_001098721.1|NP_001271166.1                      NP_001098721            0.000008   \n",
       "ZMAT2   NP_653324.1                                        NP_653324               0.156247   \n",
       "\n",
       "                                                                                ovarian_pvalue  \\\n",
       "Name    lscc_Database_ID                                   ovarian_Database_ID                   \n",
       "ABLIM3  NP_001287947.1|NP_001287944.1                      NaN                             NaN   \n",
       "ACTBL2  NP_001017992.1                                     NP_001017992               0.901363   \n",
       "AFAP1L1 NP_689619.1|NP_001309991.1|NP_001139809.1|NP_00... NaN                             NaN   \n",
       "AFF4    NP_055238.1                                        NP_055238                  0.766233   \n",
       "AGGF1   NP_060516.2                                        NaN                             NaN   \n",
       "...                                                                                        ...   \n",
       "YIPF5   NP_001020118.1|NP_001258661.1                      NP_110426                  0.154862   \n",
       "YTHDC2  NP_073739.3|NP_001332904.1|NP_001332905.1          NP_073739                  0.109846   \n",
       "ZCCHC9  NP_001124507.1                                     NaN                             NaN   \n",
       "ZFYVE16 NP_001098721.1|NP_001271166.1                      NP_001098721               0.528641   \n",
       "ZMAT2   NP_653324.1                                        NP_653324                  0.062924   \n",
       "\n",
       "                                                                                hnscc_diff  \\\n",
       "Name    lscc_Database_ID                                   ovarian_Database_ID               \n",
       "ABLIM3  NP_001287947.1|NP_001287944.1                      NaN                   -0.279494   \n",
       "ACTBL2  NP_001017992.1                                     NP_001017992          -0.045491   \n",
       "AFAP1L1 NP_689619.1|NP_001309991.1|NP_001139809.1|NP_00... NaN                   -0.239139   \n",
       "AFF4    NP_055238.1                                        NP_055238             -0.052258   \n",
       "AGGF1   NP_060516.2                                        NaN                   -0.104129   \n",
       "...                                                                                    ...   \n",
       "YIPF5   NP_001020118.1|NP_001258661.1                      NP_110426             -0.180555   \n",
       "YTHDC2  NP_073739.3|NP_001332904.1|NP_001332905.1          NP_073739             -0.127605   \n",
       "ZCCHC9  NP_001124507.1                                     NaN                    0.004245   \n",
       "ZFYVE16 NP_001098721.1|NP_001271166.1                      NP_001098721          -0.183690   \n",
       "ZMAT2   NP_653324.1                                        NP_653324             -0.053982   \n",
       "\n",
       "                                                                                lscc_diff  \\\n",
       "Name    lscc_Database_ID                                   ovarian_Database_ID              \n",
       "ABLIM3  NP_001287947.1|NP_001287944.1                      NaN                  -0.044613   \n",
       "ACTBL2  NP_001017992.1                                     NP_001017992         -0.216464   \n",
       "AFAP1L1 NP_689619.1|NP_001309991.1|NP_001139809.1|NP_00... NaN                  -0.244924   \n",
       "AFF4    NP_055238.1                                        NP_055238            -0.094496   \n",
       "AGGF1   NP_060516.2                                        NaN                  -0.081199   \n",
       "...                                                                                   ...   \n",
       "YIPF5   NP_001020118.1|NP_001258661.1                      NP_110426            -0.632568   \n",
       "YTHDC2  NP_073739.3|NP_001332904.1|NP_001332905.1          NP_073739            -0.439153   \n",
       "ZCCHC9  NP_001124507.1                                     NaN                  -0.150852   \n",
       "ZFYVE16 NP_001098721.1|NP_001271166.1                      NP_001098721         -0.559883   \n",
       "ZMAT2   NP_653324.1                                        NP_653324            -0.211818   \n",
       "\n",
       "                                                                                ovarian_diff  \n",
       "Name    lscc_Database_ID                                   ovarian_Database_ID                \n",
       "ABLIM3  NP_001287947.1|NP_001287944.1                      NaN                           NaN  \n",
       "ACTBL2  NP_001017992.1                                     NP_001017992             0.030015  \n",
       "AFAP1L1 NP_689619.1|NP_001309991.1|NP_001139809.1|NP_00... NaN                           NaN  \n",
       "AFF4    NP_055238.1                                        NP_055238               -0.089095  \n",
       "AGGF1   NP_060516.2                                        NaN                           NaN  \n",
       "...                                                                                      ...  \n",
       "YIPF5   NP_001020118.1|NP_001258661.1                      NP_110426               -0.193072  \n",
       "YTHDC2  NP_073739.3|NP_001332904.1|NP_001332905.1          NP_073739               -0.255130  \n",
       "ZCCHC9  NP_001124507.1                                     NaN                           NaN  \n",
       "ZFYVE16 NP_001098721.1|NP_001271166.1                      NP_001098721            -0.084204  \n",
       "ZMAT2   NP_653324.1                                        NP_653324               -0.318417  \n",
       "\n",
       "[297 rows x 6 columns]"
      ]
     },
     "execution_count": 15,
     "metadata": {},
     "output_type": "execute_result"
    }
   ],
   "source": [
    "results_df"
   ]
  },
  {
   "cell_type": "markdown",
   "metadata": {},
   "source": [
    "## Explore\n",
    "\n",
    "Next we want to understand what our results mean. There are many ways you may find  significant proteins and patterns to look at. Some examples of what you might do include:\n",
    "\n",
    " * Print the rows where all cancer types have a significant pvalue\n",
    " * Print the rows where a given portion of the cancer types have a significant pvalue\n",
    " * Find the proteins that appear in the top left and right corners of the volcano plots. Where do these proteins fall on other graphs? Learn a litte about these "
   ]
  }
 ],
 "metadata": {
  "kernelspec": {
   "display_name": "Python 3",
   "language": "python",
   "name": "python3"
  },
  "language_info": {
   "codemirror_mode": {
    "name": "ipython",
    "version": 3
   },
   "file_extension": ".py",
   "mimetype": "text/x-python",
   "name": "python",
   "nbconvert_exporter": "python",
   "pygments_lexer": "ipython3",
   "version": "3.7.9"
  }
 },
 "nbformat": 4,
 "nbformat_minor": 4
}
