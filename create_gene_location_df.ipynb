{
 "cells": [
  {
   "cell_type": "markdown",
   "metadata": {},
   "source": [
    "# Create Gene Location DataFrame\n",
    "\n",
    "Creates a dataframe using a list of all of the genes referenced in cptac and maps them to their locations in the geneome. The result will be a dataframe with the gene names as the index and the following columns:\n",
    "\n",
    "* chromosome\n",
    "* start_bp\n",
    "* end_bp\n",
    "\n",
    "The goal will be to create this dataframe so that it can simply be joined with any other dataframe you may need to attach gene location data to."
   ]
  },
  {
   "cell_type": "markdown",
   "metadata": {},
   "source": [
    "## Setup"
   ]
  },
  {
   "cell_type": "code",
   "execution_count": 1,
   "metadata": {},
   "outputs": [],
   "source": [
    "import cptac\n",
    "import pandas as pd\n",
    "import numpy as np\n",
    "import pyensembl\n",
    "import time\n",
    "import os"
   ]
  },
  {
   "cell_type": "code",
   "execution_count": 2,
   "metadata": {},
   "outputs": [
    {
     "name": "stdout",
     "output_type": "stream",
     "text": [
      "Checking that brca index is up-to-date...\r"
     ]
    },
    {
     "name": "stderr",
     "output_type": "stream",
     "text": [
      "INFO:numexpr.utils:NumExpr defaulting to 8 threads.\n"
     ]
    },
    {
     "name": "stdout",
     "output_type": "stream",
     "text": [
      "Checking that hnscc index is up-to-date...      \r"
     ]
    },
    {
     "name": "stderr",
     "output_type": "stream",
     "text": [
      "cptac warning: The GBM dataset is under publication embargo until March 01, 2021. CPTAC is a community resource project and data are made available rapidly after generation for community research use. The embargo allows exploring and utilizing the data, but analysis may not be published until after the embargo date. Please see https://proteomics.cancer.gov/data-portal/about/data-use-agreement or enter cptac.embargo() to open the webpage for more details. (C:\\Users\\chels\\anaconda3\\lib\\site-packages\\ipykernel_launcher.py, line 6)\n"
     ]
    },
    {
     "name": "stdout",
     "output_type": "stream",
     "text": [
      "Checking that lscc index is up-to-date... \r"
     ]
    },
    {
     "name": "stderr",
     "output_type": "stream",
     "text": [
      "cptac warning: The HNSCC data is currently strictly reserved for CPTAC investigators. Otherwise, you are not authorized to access these data. Additionally, even after these data become publicly available, they will be subject to a publication embargo (see https://proteomics.cancer.gov/data-portal/about/data-use-agreement or enter cptac.embargo() to open the webpage for more details). (C:\\Users\\chels\\anaconda3\\lib\\site-packages\\ipykernel_launcher.py, line 7)\n"
     ]
    },
    {
     "name": "stdout",
     "output_type": "stream",
     "text": [
      "version 3scc v3.2.......                 \n",
      "Checking that luad index is up-to-date...\r"
     ]
    },
    {
     "name": "stderr",
     "output_type": "stream",
     "text": [
      "cptac warning: The LSCC data is currently strictly reserved for CPTAC investigators. Otherwise, you are not authorized to access these data. Additionally, even after these data become publicly available, they will be subject to a publication embargo (see https://proteomics.cancer.gov/data-portal/about/data-use-agreement or enter cptac.embargo() to open the webpage for more details). (C:\\Users\\chels\\anaconda3\\lib\\site-packages\\ipykernel_launcher.py, line 8)\n"
     ]
    },
    {
     "name": "stdout",
     "output_type": "stream",
     "text": [
      "                                            \r"
     ]
    }
   ],
   "source": [
    "dss = {\n",
    "    \"brca\": cptac.Brca(),\n",
    "    \"ccrcc\": cptac.Ccrcc(),\n",
    "    \"colon\": cptac.Colon(),\n",
    "    \"endometrial\": cptac.Endometrial(),\n",
    "    \"gbm\": cptac.Gbm(),\n",
    "    \"hnscc\": cptac.Hnscc(),\n",
    "    \"lscc\": cptac.Lscc(),\n",
    "    \"luad\": cptac.Luad(),\n",
    "    \"ovarian\": cptac.Ovarian()\n",
    "}"
   ]
  },
  {
   "cell_type": "markdown",
   "metadata": {},
   "source": [
    "## Prepare Ensembl API"
   ]
  },
  {
   "cell_type": "code",
   "execution_count": 3,
   "metadata": {},
   "outputs": [],
   "source": [
    "# Make sure we have the Ensembl data downloaded\n",
    "# The most recent release is 100, but 99 is still\n",
    "# recent (Jan 2020), and PyEnsembl only supports\n",
    "# up to 99 right now.\n",
    "ensembl = pyensembl.EnsemblRelease(99)\n",
    "\n",
    "try:\n",
    "    ensembl.genes() # If this fails, we need to download the data again.\n",
    "except ValueError as e:\n",
    "    if str(e).startswith(\"Missing genome data file from \"):\n",
    "        ensembl.download()\n",
    "        ensembl.index()\n",
    "    else:\n",
    "        raise e from None"
   ]
  },
  {
   "cell_type": "markdown",
   "metadata": {},
   "source": [
    "## Compile list of genes"
   ]
  },
  {
   "cell_type": "code",
   "execution_count": 4,
   "metadata": {},
   "outputs": [],
   "source": [
    "all_genes = set()\n",
    "\n",
    "for df in dss.values():\n",
    "    cnv = df.get_CNV()\n",
    "    if isinstance(cnv.columns, pd.MultiIndex):\n",
    "        all_genes = all_genes.union(set(cnv.columns))\n",
    "    else:\n",
    "        for gene in cnv.columns:\n",
    "            all_genes.add((gene, None))\n"
   ]
  },
  {
   "cell_type": "markdown",
   "metadata": {},
   "source": [
    "## Create Dataframe"
   ]
  },
  {
   "cell_type": "code",
   "execution_count": 5,
   "metadata": {},
   "outputs": [
    {
     "name": "stdout",
     "output_type": "stream",
     "text": [
      "14.504034042358398\n"
     ]
    }
   ],
   "source": [
    "genes = list()\n",
    "chromosome = list()\n",
    "start_bp = list()\n",
    "end_bp = list()\n",
    "not_found = list()\n",
    "db_id = list()\n",
    "s = time.time()\n",
    "for gene in list(all_genes):\n",
    "    genes.append(gene[0])\n",
    "    db_id.append(gene[1])\n",
    "    try:\n",
    "        if gene[1]:\n",
    "            try:\n",
    "                info = ensembl.gene_by_id(gene[1])\n",
    "            except:\n",
    "                info = ensembl.genes_by_name(gene[0])\n",
    "        else:\n",
    "            info = ensembl.genes_by_name(gene[0])\n",
    "        chromosome.append(info[0].contig)\n",
    "        start_bp.append(info[0].start)\n",
    "        end_bp.append(info[0].end)\n",
    "    except:\n",
    "        chromosome.append(None)\n",
    "        start_bp.append(None)\n",
    "        end_bp.append(None)\n",
    "        not_found.append(gene)\n",
    "gene_locations = pd.DataFrame({'Name': genes, 'Database_ID': db_id, 'chromosome': chromosome, 'start_bp': start_bp, 'end_bp': end_bp})\n",
    "print(time.time() - s)"
   ]
  },
  {
   "cell_type": "markdown",
   "metadata": {},
   "source": [
    "## Add Arm information"
   ]
  },
  {
   "cell_type": "code",
   "execution_count": 6,
   "metadata": {},
   "outputs": [],
   "source": [
    "def get_arm(row, df):\n",
    "    df = df[df['#chromosome'] == row.chromosome]\n",
    "    df = df[df.bp_start < row.start_bp]\n",
    "    df = df[df.bp_stop > row.end_bp]\n",
    "    if len(df) > 0:\n",
    "        return list(df.arm)[0]\n",
    "    else:\n",
    "        return None"
   ]
  },
  {
   "cell_type": "markdown",
   "metadata": {},
   "source": [
    "## Save to file"
   ]
  },
  {
   "cell_type": "code",
   "execution_count": 7,
   "metadata": {},
   "outputs": [],
   "source": [
    "cytoband = pd.read_csv('data/NCBI_ideogram.csv')"
   ]
  },
  {
   "cell_type": "code",
   "execution_count": 8,
   "metadata": {},
   "outputs": [],
   "source": [
    "gene_locations['arm'] = gene_locations.apply(lambda x: get_arm(x, cytoband), axis=1)"
   ]
  },
  {
   "cell_type": "code",
   "execution_count": 9,
   "metadata": {},
   "outputs": [],
   "source": [
    "gene_locations.to_csv('data/gene_locations.tsv', sep='\\t')"
   ]
  },
  {
   "cell_type": "code",
   "execution_count": 10,
   "metadata": {},
   "outputs": [
    {
     "data": {
      "text/plain": [
       "0.09137258252869634"
      ]
     },
     "execution_count": 10,
     "metadata": {},
     "output_type": "execute_result"
    }
   ],
   "source": [
    "len(not_found) / len(genes)"
   ]
  }
 ],
 "metadata": {
  "kernelspec": {
   "display_name": "Python 3",
   "language": "python",
   "name": "python3"
  },
  "language_info": {
   "codemirror_mode": {
    "name": "ipython",
    "version": 3
   },
   "file_extension": ".py",
   "mimetype": "text/x-python",
   "name": "python",
   "nbconvert_exporter": "python",
   "pygments_lexer": "ipython3",
   "version": "3.7.6"
  }
 },
 "nbformat": 4,
 "nbformat_minor": 4
}
