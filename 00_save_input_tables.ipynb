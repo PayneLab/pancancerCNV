{
 "cells": [
  {
   "cell_type": "markdown",
   "id": "0676751f",
   "metadata": {},
   "source": [
    "# Save input tables\n",
    "\n",
    "Download and save all the data tables needed to run the analysis in this repository, including CPTAC harmonized CNV, transcriptomic, and proteomic data, as well as gene location data from both Ensembl and NCBI Entrez. GISTIC output must be previously obtained and saved in `data/sources/gistic_output/`."
   ]
  },
  {
   "cell_type": "code",
   "execution_count": 1,
   "id": "3dc17b0c",
   "metadata": {},
   "outputs": [],
   "source": [
    "import cnvutils\n",
    "import os"
   ]
  },
  {
   "cell_type": "code",
   "execution_count": 2,
   "id": "c62ac2ac",
   "metadata": {
    "scrolled": false
   },
   "outputs": [],
   "source": [
    "cnvutils.save_input_tables(data_dir=\"data\")"
   ]
  }
 ],
 "metadata": {
  "kernelspec": {
   "display_name": "Python 3 (ipykernel)",
   "language": "python",
   "name": "python3"
  },
  "language_info": {
   "codemirror_mode": {
    "name": "ipython",
    "version": 3
   },
   "file_extension": ".py",
   "mimetype": "text/x-python",
   "name": "python",
   "nbconvert_exporter": "python",
   "pygments_lexer": "ipython3",
   "version": "3.10.4"
  }
 },
 "nbformat": 4,
 "nbformat_minor": 5
}
