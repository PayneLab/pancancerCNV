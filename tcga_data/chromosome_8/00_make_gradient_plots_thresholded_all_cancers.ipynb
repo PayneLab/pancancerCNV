{
 "cells": [
  {
   "cell_type": "markdown",
   "metadata": {},
   "source": [
    "# Make Gradient Plots"
   ]
  },
  {
   "cell_type": "markdown",
   "metadata": {},
   "source": [
    "## Setup"
   ]
  },
  {
   "cell_type": "code",
   "execution_count": 1,
   "metadata": {},
   "outputs": [],
   "source": [
    "import seaborn as sns\n",
    "import pandas as pd\n",
    "import matplotlib.pyplot as plt\n",
    "import numpy as np\n",
    "import cnvutils\n",
    "import matplotlib as mpl\n",
    "import os"
   ]
  },
  {
   "cell_type": "code",
   "execution_count": 2,
   "metadata": {},
   "outputs": [],
   "source": [
    "counts = pd.read_csv(\"cnv_counts.tsv\", sep='\\t', usecols=['Name', 'Database_ID', 'start_bp', 'end_bp', 'variable', 'value', 'cancer'])"
   ]
  },
  {
   "cell_type": "code",
   "execution_count": 3,
   "metadata": {},
   "outputs": [],
   "source": [
    "reds = ['#FFFFFF', '#FDF0F0', '#FCE2E2', '#FAD3D3', '#F8C5C5', '#F6B6B6', '#F5A7A7', '#F39999', '#F18A8A', '#EF7B7B', '#EE6D6D', '#EC5E5E', '#EA5050', '#E84141', '#E73232', '#E52424', '#E31515']\n",
    "blues = ['#FFFFFF', '#F2F0FD', '#E5E0FA', '#D7D1F8', '#CAC2F5', '#BDB2F3', '#B0A3F0', '#A393EE', '#9684EB', '#8875E9', '#7B65E6', '#6E56E4', '#6147E1', '#5437DF', '#4628DC', '#3918DA', '#2C09D7']\n",
    "gradient = blues[::-1] + reds"
   ]
  },
  {
   "cell_type": "markdown",
   "metadata": {},
   "source": [
    "## Prepare Table"
   ]
  },
  {
   "cell_type": "code",
   "execution_count": 4,
   "metadata": {},
   "outputs": [],
   "source": [
    "gain_loss_counts = counts.pivot_table(index=['Name', 'Database_ID', 'cancer'], columns='variable')\n",
    "gain_loss_counts.columns = gain_loss_counts.columns.to_flat_index()\n",
    "gain_loss_counts = gain_loss_counts.drop(columns=('start_bp', 'gain'))\n",
    "gain_loss_counts = gain_loss_counts.drop(columns=('end_bp', 'gain'))\n",
    "gain_loss_counts = gain_loss_counts.rename(columns = {gain_loss_counts.columns[0]: 'end_bp', gain_loss_counts.columns[1]: 'start_bp', gain_loss_counts.columns[2]: 'gain', gain_loss_counts.columns[3]: 'loss'}, )"
   ]
  },
  {
   "cell_type": "code",
   "execution_count": 5,
   "metadata": {},
   "outputs": [],
   "source": [
    "gain_loss_counts['length'] = gain_loss_counts.end_bp - gain_loss_counts.start_bp\n",
    "gain_loss_counts['value'] = gain_loss_counts.gain - gain_loss_counts.loss\n",
    "gain_loss_counts['bars'] = list(zip(gain_loss_counts.start_bp, gain_loss_counts.length))"
   ]
  },
  {
   "cell_type": "markdown",
   "metadata": {},
   "source": [
    "## Map Colors"
   ]
  },
  {
   "cell_type": "code",
   "execution_count": 23,
   "metadata": {},
   "outputs": [],
   "source": [
    "def read_cancer_type_tcga(cancer_type):\n",
    "    \n",
    "    df = pd.read_csv(\n",
    "        os.path.join(\"..\", \"data\", cancer_type, \"Gistic2_CopyNumber_Gistic2_all_thresholded.by_genes.gz\"), \n",
    "        sep=\"\\t\",\n",
    "        index_col=0\n",
    "    )\n",
    "    \n",
    "    return df\n",
    "\n",
    "CANCER_TYPES = [ \"acc\", \"blca\", \"brca\", \"cesc\", \"chol\", \"coad\", \"coadread\", \"dlbc\", \"esca\", \"gbm\", \"gbmlgg\", \n",
    "                \"hnsc\", \"kich\", \"kirc\", \"kirp\", \"laml\", \"lgg\", \"lihc\", \"luad\", \"lung\", \"lusc\", \"meso\", \"ov\", \n",
    "                \"paad\", \"pcpg\", \"prad\", \"read\", \"sarc\", \"skcm\", \"stad\", \"tgct\", \"thca\", \"thym\", \"ucec\",\"ucs\", \n",
    "                \"uvm\"]\n",
    "\n",
    "cnv_tables = {}\n",
    "for cancer_type in CANCER_TYPES:\n",
    "    cnv_tables[cancer_type] = read_cancer_type_tcga(cancer_type)"
   ]
  },
  {
   "cell_type": "code",
   "execution_count": 34,
   "metadata": {},
   "outputs": [],
   "source": [
    "cohort_sizes = {}\n",
    "\n",
    "for cancer in CANCER_TYPES:\n",
    "    cohort_sizes[str.upper(cancer)] = cnv_tables[cancer].columns.size\n",
    "    \n",
    "cohort_sizes = pd.Series(cohort_sizes, name=\"cohort_size\")"
   ]
  },
  {
   "cell_type": "code",
   "execution_count": null,
   "metadata": {},
   "outputs": [],
   "source": [
    "gain_loss_counts = gain_loss_counts.join(cohort_sizes, left on = cancer type)\n",
    "\n",
    "gain_loss_counts['color'] = gain_loss_counts[\"value\"].apply(map_color)"
   ]
  },
  {
   "cell_type": "code",
   "execution_count": 8,
   "metadata": {},
   "outputs": [],
   "source": [
    "def map_color(row):\n",
    "    i = (row[\"value\"] + row[\"cohort_size\"]) // 48\n",
    "    if i < 0:\n",
    "        i = 0\n",
    "    if i > 33:\n",
    "        i=33\n",
    "    return gradient[int(i)]"
   ]
  },
  {
   "cell_type": "code",
   "execution_count": 8,
   "metadata": {},
   "outputs": [],
   "source": [
    "# def map_color(val):\n",
    "#     i = (val + 819) // 48\n",
    "#     if i < 0:\n",
    "#         i = 0\n",
    "#     if i > 33:\n",
    "#         i=33\n",
    "#     return gradient[int(i)]"
   ]
  },
  {
   "cell_type": "code",
   "execution_count": 9,
   "metadata": {},
   "outputs": [],
   "source": [
    "# def map_reds(val):\n",
    "#     i = val // 48\n",
    "#     if i > 16:\n",
    "#         i = 16\n",
    "#     return reds[int(i)]"
   ]
  },
  {
   "cell_type": "code",
   "execution_count": 10,
   "metadata": {},
   "outputs": [],
   "source": [
    "# def map_blues(val):\n",
    "#     i = val // 48\n",
    "#     if i > 16:\n",
    "#         i = 16\n",
    "#     return blues[int(i)]"
   ]
  },
  {
   "cell_type": "code",
   "execution_count": 11,
   "metadata": {},
   "outputs": [],
   "source": [
    "# gain_loss_counts['color'] = gain_loss_counts.value.apply(map_color)\n",
    "# gain_loss_counts['red'] = gain_loss_counts.gain.apply(map_reds)\n",
    "# gain_loss_counts['blue'] = gain_loss_counts.loss.apply(map_blues)"
   ]
  },
  {
   "cell_type": "code",
   "execution_count": 12,
   "metadata": {},
   "outputs": [],
   "source": [
    "gain_loss_counts.reset_index(inplace=True)"
   ]
  },
  {
   "cell_type": "markdown",
   "metadata": {},
   "source": [
    "## Load in cancer driver genes"
   ]
  },
  {
   "cell_type": "code",
   "execution_count": 13,
   "metadata": {},
   "outputs": [],
   "source": [
    "# This table comes from the article \"Comprehensive Characterization of Cancer Driver Genes and Mutations\" ([29625053](https://pubmed.ncbi.nlm.nih.gov/29625053/))\n",
    "# driver_genes = pd.read_csv(\n",
    "#     os.path.join('bailey_driver_genes.csv'), skiprows=3\n",
    "# )"
   ]
  },
  {
   "cell_type": "code",
   "execution_count": 14,
   "metadata": {},
   "outputs": [],
   "source": [
    "# driver_genes = driver_genes.dropna(how=\"all\")\n",
    "# driver_genes = driver_genes.dropna(how='all', axis=1)"
   ]
  },
  {
   "cell_type": "code",
   "execution_count": 15,
   "metadata": {},
   "outputs": [],
   "source": [
    "# len(driver_genes.Gene.unique())\n"
   ]
  },
  {
   "cell_type": "markdown",
   "metadata": {},
   "source": [
    "## Make the plots"
   ]
  },
  {
   "cell_type": "code",
   "execution_count": 16,
   "metadata": {},
   "outputs": [
    {
     "data": {
      "text/plain": [
       "<module 'matplotlib.pyplot' from '/home/caleb/anaconda3/envs/dev/lib/python3.7/site-packages/matplotlib/pyplot.py'>"
      ]
     },
     "execution_count": 16,
     "metadata": {},
     "output_type": "execute_result"
    },
    {
     "data": {
      "image/png": "[encoded data removed]",
      "text/plain": [
       "<Figure size 432x288 with 40 Axes>"
      ]
     },
     "metadata": {
      "needs_background": "light"
     },
     "output_type": "display_data"
    }
   ],
   "source": [
    "fig, ax = plt.subplots(nrows=len(gain_loss_counts.cancer.unique()) + 4, sharex=True, sharey=False)\n",
    "count = 0\n",
    "for cancer in gain_loss_counts.cancer.unique():\n",
    "    df = gain_loss_counts[gain_loss_counts.cancer == cancer]\n",
    "    ax[count].broken_barh(df.bars, (0,1), facecolors=df.color)\n",
    "    ax[count].text(np.max(df.start_bp)+5000000, 0.35, cancer)\n",
    "    ax[count].set_frame_on(False)\n",
    "    ax[count].get_xaxis().set_visible(False)\n",
    "    ax[count].get_yaxis().set_visible(False)\n",
    "    count += 1\n",
    "cnvutils.make_chromosome_plot('8', ax=ax[count])"
   ]
  },
  {
   "cell_type": "code",
   "execution_count": 17,
   "metadata": {},
   "outputs": [
    {
     "data": {
      "text/plain": [
       "Text(0, 0.5, 'gain - loss')"
      ]
     },
     "execution_count": 17,
     "metadata": {},
     "output_type": "execute_result"
    },
    {
     "data": {
      "image/png": "[encoded data removed]",
      "text/plain": [
       "<Figure size 432x288 with 41 Axes>"
      ]
     },
     "metadata": {
      "needs_background": "light"
     },
     "output_type": "display_data"
    }
   ],
   "source": [
    "fig, ax = plt.subplots(nrows=len(gain_loss_counts.cancer.unique()) + 4, sharex=True, sharey=False)\n",
    "count = 0\n",
    "for cancer in gain_loss_counts.cancer.unique():\n",
    "    df = gain_loss_counts[gain_loss_counts.cancer == cancer]\n",
    "    df = df.sort_values('start_bp')\n",
    "    start_values = df.start_bp\n",
    "    continuous_values = list()\n",
    "    prev = 0\n",
    "    for val in start_values:\n",
    "        continuous_values.append((prev, val-prev))\n",
    "        prev = val\n",
    "    ax[count].broken_barh(continuous_values, (0,1), facecolors=df.color)\n",
    "    ax[count].text(np.max(start_values)+5000000, 0.35, cancer)\n",
    "    ax[count].set_frame_on(False)\n",
    "    ax[count].get_xaxis().set_visible(False)\n",
    "    ax[count].get_yaxis().set_visible(False)\n",
    "    count += 1\n",
    "cnvutils.make_chromosome_plot('8', ax=ax[count], above=False)#, genes=list(driver_genes.Gene.unique()))\n",
    "fig.subplots_adjust(right=0.8)\n",
    "cbar_ax = fig.add_axes([0.9, 0.15, 0.03, 0.7])\n",
    "colors = mpl.colors.ListedColormap(gradient)\n",
    "cbar = fig.colorbar(mpl.cm.ScalarMappable(norm=mpl.colors.Normalize(vmin=-85, vmax=85), cmap=colors), cax=cbar_ax)\n",
    "cbar.ax.set_ylabel('gain - loss')\n",
    "# cbar.yaxis.set_"
   ]
  },
  {
   "cell_type": "code",
   "execution_count": 18,
   "metadata": {},
   "outputs": [],
   "source": [
    "# fig, ax = plt.subplots(nrows=len(gain_loss_counts.cancer.unique()) + 4, sharex=True, sharey=False)\n",
    "# count = 0\n",
    "# for cancer in gain_loss_counts.cancer.unique():\n",
    "#     df = gain_loss_counts[gain_loss_counts.cancer == cancer]\n",
    "#     df = df.sort_values('start_bp')\n",
    "#     start_values = df.start_bp\n",
    "#     continuous_values = list()\n",
    "#     prev = 0\n",
    "#     for val in start_values:\n",
    "#         continuous_values.append((prev, val-prev))\n",
    "#         prev = val\n",
    "#     ax[count].broken_barh(continuous_values, (0,1), facecolors=df.red)\n",
    "#     ax[count].text(np.max(start_values)+5000000, 0.35, cancer)\n",
    "#     ax[count].set_frame_on(False)\n",
    "#     ax[count].get_xaxis().set_visible(False)\n",
    "#     ax[count].get_yaxis().set_visible(False)\n",
    "#     count += 1\n",
    "# cnvutils.make_chromosome_plot('8', ax=ax[count])"
   ]
  },
  {
   "cell_type": "code",
   "execution_count": 19,
   "metadata": {},
   "outputs": [],
   "source": [
    "# fig, ax = plt.subplots(nrows=len(gain_loss_counts.cancer.unique()) + 4, sharex=True, sharey=False)\n",
    "# count = 0\n",
    "# for cancer in gain_loss_counts.cancer.unique():\n",
    "#     df = gain_loss_counts[gain_loss_counts.cancer == cancer]\n",
    "#     df = df.sort_values('start_bp')\n",
    "#     start_values = df.start_bp\n",
    "#     continuous_values = list()\n",
    "#     prev = 0\n",
    "#     for val in start_values:\n",
    "#         continuous_values.append((prev, val-prev))\n",
    "#         prev = val\n",
    "#     ax[count].broken_barh(continuous_values, (0,1), facecolors=df.blue)\n",
    "#     ax[count].text(np.max(start_values)+5000000, 0.35, cancer)\n",
    "#     ax[count].set_frame_on(False)\n",
    "#     ax[count].get_xaxis().set_visible(False)\n",
    "#     ax[count].get_yaxis().set_visible(False)\n",
    "#     count += 1\n",
    "# cnvutils.make_chromosome_plot('8', ax=ax[count])"
   ]
  }
 ],
 "metadata": {
  "kernelspec": {
   "display_name": "Python 3",
   "language": "python",
   "name": "python3"
  },
  "language_info": {
   "codemirror_mode": {
    "name": "ipython",
    "version": 3
   },
   "file_extension": ".py",
   "mimetype": "text/x-python",
   "name": "python",
   "nbconvert_exporter": "python",
   "pygments_lexer": "ipython3",
   "version": "3.7.7"
  }
 },
 "nbformat": 4,
 "nbformat_minor": 4
}
