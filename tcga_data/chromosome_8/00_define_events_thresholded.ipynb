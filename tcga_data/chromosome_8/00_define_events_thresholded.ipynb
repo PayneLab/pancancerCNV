{
 "cells": [
  {
   "cell_type": "markdown",
   "metadata": {},
   "source": [
    "# Define Events"
   ]
  },
  {
   "cell_type": "markdown",
   "metadata": {},
   "source": [
    "## Setup"
   ]
  },
  {
   "cell_type": "code",
   "execution_count": 1,
   "metadata": {},
   "outputs": [],
   "source": [
    "import seaborn as sns\n",
    "import pandas as pd\n",
    "import matplotlib.pyplot as plt\n",
    "import numpy as np\n",
    "import cnvutils\n",
    "import os"
   ]
  },
  {
   "cell_type": "code",
   "execution_count": 2,
   "metadata": {},
   "outputs": [],
   "source": [
    "CUTOFF_PERCENT = .2\n",
    "CANCER_TYPES = ['BRCA']#, 'COLON', 'HNSCC', 'LSCC', 'LUAD', 'OVARIAN']"
   ]
  },
  {
   "cell_type": "code",
   "execution_count": 3,
   "metadata": {},
   "outputs": [],
   "source": [
    "def read_cancer_type_tcga(cancer_type):\n",
    "    \n",
    "    df = pd.read_csv(\n",
    "        os.path.join(\"..\", cancer_type, \"Gistic2_CopyNumber_Gistic2_all_thresholded.by_genes.gz\"), \n",
    "        sep=\"\\t\"\n",
    "    ).transpose()\n",
    "    \n",
    "    return df"
   ]
  },
  {
   "cell_type": "code",
   "execution_count": 4,
   "metadata": {},
   "outputs": [],
   "source": [
    "cnv = {\n",
    "    'BRCA': read_cancer_type_tcga(\"brca\"),\n",
    "#     'CCRCC': ,\n",
    "#     'COLON': ,\n",
    "#     'ENDO': ,\n",
    "#     'GBM': ,\n",
    "#     'HNSCC': ,\n",
    "#     'LSCC': ,\n",
    "#     'LUAD': ,\n",
    "#     'OVARIAN': \n",
    "}"
   ]
  },
  {
   "cell_type": "code",
   "execution_count": 5,
   "metadata": {},
   "outputs": [],
   "source": [
    "counts = pd.read_csv(\"cnv_counts.tsv\", sep='\\t', usecols=['Name', 'Database_ID', 'start_bp', 'end_bp', 'variable', 'value', 'cancer'])"
   ]
  },
  {
   "cell_type": "code",
   "execution_count": 6,
   "metadata": {},
   "outputs": [],
   "source": [
    "cutoffs = dict()\n",
    "for cancer_type in cnv.keys():\n",
    "    df = cnv[cancer_type]\n",
    "    cutoffs[cancer_type] = len(df) * CUTOFF_PERCENT"
   ]
  },
  {
   "cell_type": "markdown",
   "metadata": {},
   "source": [
    "## Find Loss Regions"
   ]
  },
  {
   "cell_type": "code",
   "execution_count": 7,
   "metadata": {},
   "outputs": [],
   "source": [
    "df = counts\n",
    "loss_event_locations = dict()\n",
    "for cancer in CANCER_TYPES:\n",
    "#     df = counts[cancer]\n",
    "    df_loss = df[(df.variable == 'loss') & (df.cancer == cancer)].sort_values('start_bp')\n",
    "    values = list(df_loss.value)\n",
    "    loss_events = list()\n",
    "    start = None\n",
    "    for i in range(0, len(values)):\n",
    "        val = values[i]\n",
    "        if val > cutoffs[cancer]:\n",
    "            if start is None:\n",
    "                start = i\n",
    "        else:\n",
    "            if start is not None:\n",
    "                loss_events.append((start, i))\n",
    "                start = None\n",
    "    if start is not None:\n",
    "        loss_events.append((start, len(values)-1))\n",
    "    event_locations = list()\n",
    "    for event in loss_events:\n",
    "        start_bp = df_loss.iloc[event[0]].start_bp\n",
    "        end_bp = df_loss.iloc[event[1]].start_bp\n",
    "        event_locations.append((start_bp, end_bp-start_bp))\n",
    "    loss_event_locations[cancer] = event_locations"
   ]
  },
  {
   "cell_type": "code",
   "execution_count": 8,
   "metadata": {},
   "outputs": [
    {
     "data": {
      "text/plain": [
       "[(166049.0, 41763430.0), (98042086.0, 0.0)]"
      ]
     },
     "execution_count": 8,
     "metadata": {},
     "output_type": "execute_result"
    }
   ],
   "source": [
    "loss_event_locations[\"BRCA\"]"
   ]
  },
  {
   "cell_type": "code",
   "execution_count": 9,
   "metadata": {},
   "outputs": [],
   "source": [
    "loss_event_patients = list()\n",
    "for cancer in loss_event_locations.keys():\n",
    "    events = loss_event_locations[cancer]\n",
    "    for event in events:\n",
    "        start = event[0]\n",
    "        end = event[0] + event[1]\n",
    "        loss_event_patients.append((start, 1))\n",
    "        loss_event_patients.append((end, 0))\n",
    "#     patients += list(gain_event_locations[cancer])\n",
    "loss_event_patients.sort()"
   ]
  },
  {
   "cell_type": "code",
   "execution_count": 10,
   "metadata": {},
   "outputs": [
    {
     "data": {
      "text/plain": [
       "[(166049.0, 1), (41929479.0, 0), (98042086.0, 0), (98042086.0, 1)]"
      ]
     },
     "execution_count": 10,
     "metadata": {},
     "output_type": "execute_result"
    }
   ],
   "source": [
    "loss_event_patients"
   ]
  },
  {
   "cell_type": "code",
   "execution_count": 11,
   "metadata": {},
   "outputs": [
    {
     "data": {
      "text/html": [
       "<div>\n",
       "<style scoped>\n",
       "    .dataframe tbody tr th:only-of-type {\n",
       "        vertical-align: middle;\n",
       "    }\n",
       "\n",
       "    .dataframe tbody tr th {\n",
       "        vertical-align: top;\n",
       "    }\n",
       "\n",
       "    .dataframe thead th {\n",
       "        text-align: right;\n",
       "    }\n",
       "</style>\n",
       "<table border=\"1\" class=\"dataframe\">\n",
       "  <thead>\n",
       "    <tr style=\"text-align: right;\">\n",
       "      <th></th>\n",
       "      <th>start</th>\n",
       "      <th>end</th>\n",
       "      <th>counts</th>\n",
       "      <th>length</th>\n",
       "    </tr>\n",
       "  </thead>\n",
       "  <tbody>\n",
       "    <tr>\n",
       "      <th>0</th>\n",
       "      <td>0.0</td>\n",
       "      <td>166049.0</td>\n",
       "      <td>0</td>\n",
       "      <td>166049.0</td>\n",
       "    </tr>\n",
       "    <tr>\n",
       "      <th>1</th>\n",
       "      <td>166049.0</td>\n",
       "      <td>41929479.0</td>\n",
       "      <td>1</td>\n",
       "      <td>41763430.0</td>\n",
       "    </tr>\n",
       "    <tr>\n",
       "      <th>2</th>\n",
       "      <td>41929479.0</td>\n",
       "      <td>98042086.0</td>\n",
       "      <td>0</td>\n",
       "      <td>56112607.0</td>\n",
       "    </tr>\n",
       "  </tbody>\n",
       "</table>\n",
       "</div>"
      ],
      "text/plain": [
       "        start         end  counts      length\n",
       "0         0.0    166049.0       0    166049.0\n",
       "1    166049.0  41929479.0       1  41763430.0\n",
       "2  41929479.0  98042086.0       0  56112607.0"
      ]
     },
     "execution_count": 11,
     "metadata": {},
     "output_type": "execute_result"
    }
   ],
   "source": [
    "count = 0\n",
    "current_bp = 0\n",
    "start = list()\n",
    "end = list()\n",
    "size = list()\n",
    "total = list()\n",
    "for patient in loss_event_patients:\n",
    "    if patient[0] != current_bp:\n",
    "        start.append(current_bp)\n",
    "        end.append(patient[0])\n",
    "        size.append(patient[0]-current_bp)\n",
    "        total.append(count)\n",
    "        current_bp = patient[0]\n",
    "    if patient[1] == 1:\n",
    "        count += 1\n",
    "    else:\n",
    "        count -= 1\n",
    "loss_event_data = pd.DataFrame({'start': start, 'end': end, 'counts': total, 'length': size})\n",
    "loss_event_data"
   ]
  },
  {
   "cell_type": "markdown",
   "metadata": {},
   "source": [
    "## Find Gain Regions"
   ]
  },
  {
   "cell_type": "code",
   "execution_count": 12,
   "metadata": {},
   "outputs": [],
   "source": [
    "df = counts\n",
    "gain_event_locations = dict()\n",
    "for cancer in CANCER_TYPES:\n",
    "    df_gain = df[(df.variable == 'gain') & (df.cancer == cancer)].sort_values('start_bp')\n",
    "    values = list(df_gain.value)\n",
    "    gain_events = list()\n",
    "    start = None\n",
    "    for i in range(0, len(values)):\n",
    "        val = values[i]\n",
    "        if val > cutoffs[cancer]:\n",
    "            if start is None:\n",
    "                start = i\n",
    "        else:\n",
    "            if start is not None:\n",
    "                gain_events.append((start, i))\n",
    "                start = None\n",
    "    if start is not None:\n",
    "        gain_events.append((start, len(values)-1))\n",
    "    event_locations = list()\n",
    "    for event in gain_events:\n",
    "        start_bp = df_gain.iloc[event[0]].start_bp\n",
    "        end_bp = df_gain.iloc[event[1]].start_bp\n",
    "        \n",
    "        event_locations.append((start_bp, end_bp-start_bp))\n",
    "    gain_event_locations[cancer] = event_locations\n",
    "#     print(cancer)\n",
    "#     print(event_locations)"
   ]
  },
  {
   "cell_type": "code",
   "execution_count": 13,
   "metadata": {},
   "outputs": [],
   "source": [
    "gain_event_patients = list()\n",
    "for cancer in gain_event_locations.keys():\n",
    "    events = gain_event_locations[cancer]\n",
    "    for event in events:\n",
    "        start = event[0]\n",
    "        end = event[0] + event[1]\n",
    "        gain_event_patients.append((start, 1))\n",
    "        gain_event_patients.append((end, 0))\n",
    "#     patients += list(gain_event_locations[cancer])\n",
    "gain_event_patients.sort()"
   ]
  },
  {
   "cell_type": "code",
   "execution_count": 14,
   "metadata": {},
   "outputs": [],
   "source": [
    "count = 0\n",
    "current_bp = 0\n",
    "# results = list()\n",
    "start = list()\n",
    "end = list()\n",
    "size = list()\n",
    "total = list()\n",
    "for patient in gain_event_patients:\n",
    "    if patient[0] != current_bp:\n",
    "        start.append(current_bp)\n",
    "        end.append(patient[0])\n",
    "        size.append(patient[0]-current_bp)\n",
    "        total.append(count)\n",
    "#         results.append((current_bp, patient[0], count))\n",
    "        current_bp = patient[0]\n",
    "    if patient[1] == 1:\n",
    "        count += 1\n",
    "    else:\n",
    "        count -= 1\n",
    "gain_event_data = pd.DataFrame({'start': start, 'end': end, 'counts': total, 'length': size})"
   ]
  },
  {
   "cell_type": "code",
   "execution_count": 15,
   "metadata": {},
   "outputs": [
    {
     "data": {
      "text/html": [
       "<div>\n",
       "<style scoped>\n",
       "    .dataframe tbody tr th:only-of-type {\n",
       "        vertical-align: middle;\n",
       "    }\n",
       "\n",
       "    .dataframe tbody tr th {\n",
       "        vertical-align: top;\n",
       "    }\n",
       "\n",
       "    .dataframe thead th {\n",
       "        text-align: right;\n",
       "    }\n",
       "</style>\n",
       "<table border=\"1\" class=\"dataframe\">\n",
       "  <thead>\n",
       "    <tr style=\"text-align: right;\">\n",
       "      <th></th>\n",
       "      <th>start</th>\n",
       "      <th>end</th>\n",
       "      <th>counts</th>\n",
       "      <th>length</th>\n",
       "    </tr>\n",
       "  </thead>\n",
       "  <tbody>\n",
       "    <tr>\n",
       "      <th>0</th>\n",
       "      <td>0.0</td>\n",
       "      <td>31639222.0</td>\n",
       "      <td>0</td>\n",
       "      <td>31639222.0</td>\n",
       "    </tr>\n",
       "    <tr>\n",
       "      <th>1</th>\n",
       "      <td>31639222.0</td>\n",
       "      <td>32192028.0</td>\n",
       "      <td>1</td>\n",
       "      <td>552806.0</td>\n",
       "    </tr>\n",
       "    <tr>\n",
       "      <th>2</th>\n",
       "      <td>32192028.0</td>\n",
       "      <td>33370824.0</td>\n",
       "      <td>0</td>\n",
       "      <td>1178796.0</td>\n",
       "    </tr>\n",
       "    <tr>\n",
       "      <th>3</th>\n",
       "      <td>33370824.0</td>\n",
       "      <td>98042086.0</td>\n",
       "      <td>1</td>\n",
       "      <td>64671262.0</td>\n",
       "    </tr>\n",
       "    <tr>\n",
       "      <th>4</th>\n",
       "      <td>98042086.0</td>\n",
       "      <td>145052465.0</td>\n",
       "      <td>1</td>\n",
       "      <td>47010379.0</td>\n",
       "    </tr>\n",
       "  </tbody>\n",
       "</table>\n",
       "</div>"
      ],
      "text/plain": [
       "        start          end  counts      length\n",
       "0         0.0   31639222.0       0  31639222.0\n",
       "1  31639222.0   32192028.0       1    552806.0\n",
       "2  32192028.0   33370824.0       0   1178796.0\n",
       "3  33370824.0   98042086.0       1  64671262.0\n",
       "4  98042086.0  145052465.0       1  47010379.0"
      ]
     },
     "execution_count": 15,
     "metadata": {},
     "output_type": "execute_result"
    }
   ],
   "source": [
    "gain_event_data.sort_values('start')"
   ]
  },
  {
   "cell_type": "code",
   "execution_count": 16,
   "metadata": {},
   "outputs": [],
   "source": [
    "## Next we need to find a way to determine which regions to include in the\n",
    "## event and make new has_event files"
   ]
  },
  {
   "cell_type": "markdown",
   "metadata": {},
   "source": [
    "## Make Plot"
   ]
  },
  {
   "cell_type": "code",
   "execution_count": 17,
   "metadata": {},
   "outputs": [],
   "source": [
    "# fig, ax = plt.subplots(nrows=8, sharex=True, sharey=False, gridspec_kw={'height_ratios': [1,1,1,1,1,1,10,1]})\n",
    "# count = 0\n",
    "# for cancer in gain_event_locations.keys():\n",
    "#     ax[count].broken_barh(gain_event_locations[cancer], (0,1), facecolors='#E72121')\n",
    "#     ax[count].broken_barh(loss_event_locations[cancer], (0,1), facecolors='#1B3DD2')\n",
    "#     count += 1\n",
    "# ax[count].bar(x= loss_event_data.start, height = loss_event_data.counts, width=loss_event_data.length, color='blue', align='edge')\n",
    "\n",
    "# ax[count].bar(x= gain_event_data.start, height = gain_event_data.counts, width=gain_event_data.length, color='red', align='edge')\n",
    "# cnvutils.make_chromosome_plot('8', ax=ax[count+1])\n",
    "# ax.broken_barh(gain_event_locations['OVARIAN'], (0, 5), facecolors='red')\n",
    "# ax.broken_barh(loss_event_locations['OVARIAN'], (0, 5), facecolors='blue')"
   ]
  },
  {
   "cell_type": "code",
   "execution_count": 18,
   "metadata": {},
   "outputs": [],
   "source": [
    "# plt.bar(x= loss_event_data.start, height = loss_event_data.counts, width=loss_event_data.length, color='blue', align='edge')"
   ]
  },
  {
   "cell_type": "code",
   "execution_count": 19,
   "metadata": {},
   "outputs": [],
   "source": [
    "# plt.bar(x= gain_event_data.start, height = gain_event_data.counts, width=gain_event_data.length, color='blue', align='edge')"
   ]
  },
  {
   "cell_type": "code",
   "execution_count": 20,
   "metadata": {},
   "outputs": [],
   "source": [
    "# patients = list()\n",
    "# for cancer in gain_event_locations.keys():\n",
    "#     events = gain_event_locations[cancer]\n",
    "#     for event in events:\n",
    "#         start = event[0]\n",
    "#         end = event[0] + event[1]\n",
    "#         patients.append((start, 1))\n",
    "#         patients.append((end, 0))\n",
    "# #     patients += list(gain_event_locations[cancer])\n",
    "# patients.sort()"
   ]
  },
  {
   "cell_type": "code",
   "execution_count": 21,
   "metadata": {},
   "outputs": [],
   "source": [
    "# count = 0\n",
    "# current_bp = 0\n",
    "# # results = list()\n",
    "# start = list()\n",
    "# end = list()\n",
    "# size = list()\n",
    "# total = list()\n",
    "# for patient in patients:\n",
    "#     if patient[0] != current_bp:\n",
    "#         start.append(current_bp)\n",
    "#         end.append(patient[0])\n",
    "#         size.append(patient[0]-current_bp)\n",
    "#         total.append(count)\n",
    "# #         results.append((current_bp, patient[0], count))\n",
    "#         current_bp = patient[0]\n",
    "#     if patient[1] == 1:\n",
    "#         count += 1\n",
    "#     else:\n",
    "#         count -= 1\n",
    "# data = pd.DataFrame({'start': start, 'end': end, 'counts': total, 'length': size})\n",
    "# data"
   ]
  },
  {
   "cell_type": "code",
   "execution_count": 22,
   "metadata": {},
   "outputs": [],
   "source": [
    "# fig, ax = plt.subplots(nrows=7)\n",
    "# count = 0\n",
    "# for cancer in gain_event_locations.keys():\n",
    "#     ax[count].broken_barh(gain_event_locations[cancer], (0,5), facecolors='red')\n",
    "#     ax[count].broken_barh(loss_event_locations[cancer], (0,5), facecolors='blue')\n",
    "#     count += 1\n",
    "# ax[count].bar(x= data.start, height = data.counts, width=data.length)"
   ]
  },
  {
   "cell_type": "code",
   "execution_count": 23,
   "metadata": {},
   "outputs": [],
   "source": [
    "# count = 0\n",
    "# current_bp = 0\n",
    "# results = list()\n",
    "# for patient in patients:\n",
    "#     if patient[0] != current_bp:\n",
    "#         results.append((current_bp, patient[0], count))\n",
    "#         current_bp = patient[0]\n",
    "#     if patient[1] == 1:\n",
    "#         count += 1\n",
    "#     else:\n",
    "#         count -= 1\n",
    "# results"
   ]
  }
 ],
 "metadata": {
  "kernelspec": {
   "display_name": "Python 3",
   "language": "python",
   "name": "python3"
  },
  "language_info": {
   "codemirror_mode": {
    "name": "ipython",
    "version": 3
   },
   "file_extension": ".py",
   "mimetype": "text/x-python",
   "name": "python",
   "nbconvert_exporter": "python",
   "pygments_lexer": "ipython3",
   "version": "3.7.7"
  }
 },
 "nbformat": 4,
 "nbformat_minor": 4
}
