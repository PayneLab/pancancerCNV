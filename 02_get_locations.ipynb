{
 "cells": [
  {
   "cell_type": "markdown",
   "metadata": {},
   "source": [
    "# SCNA analysis step 2: Get locations of genes\n",
    "\n",
    "- Input: SCNA table\n",
    "- Output: SCNA table with locations (in base pairs)\n",
    "- Steps:\n",
    "    1. From the SCNA table, get a list of all the unique values in the \"gene\" column\n",
    "    2. From Ensembl, get a column of the chromosome for each gene, a column for the base pair start location for each gene, and a column for the base pair end location for each gene.\n",
    "    3. Create a column \"first\", defined by:\n",
    "        - `np.where(scna[\"start\"] > scna[\"end\"], scna[\"end\"], scna[\"start\"])`\n",
    "        - Meaning, if for a gene, the end comes before the start, then choose the end location, otherwise choose the start location. This way, we can sort all the genes by location with one column.\n",
    "    4. Create a column \"last\", defined by:\n",
    "        - `np.where(scna[\"end\"] > scna[\"start\"], scna[\"end\"], scna[\"start\"])`\n",
    "        - Meaning, if for a gene, the end comes after the start, then choose the end location, otherwise choose the start location.\n",
    "    5. Join this into the SCNA table. So we now have these columns: cancer_type, Patient_ID, gene, cna_val, passes, chromosome, start, end, first, last\n"
   ]
  },
  {
   "cell_type": "markdown",
   "metadata": {},
   "source": [
    "# TODO: After Chelsie finishes the better way to get location data, start using that\n",
    "\n",
    "- Also, we should get the arm, not just the chromosome"
   ]
  },
  {
   "cell_type": "markdown",
   "metadata": {},
   "source": [
    "## Setup"
   ]
  },
  {
   "cell_type": "code",
   "execution_count": 1,
   "metadata": {},
   "outputs": [],
   "source": [
    "import cptac\n",
    "import pandas as pd\n",
    "import numpy as np\n",
    "import pyensembl\n",
    "import datetime\n",
    "import os\n",
    "\n",
    "TIME_START = datetime.datetime.now().strftime('%Y%m%d_%H%M%S')\n",
    "\n",
    "# Note: If you are running this yourself, you will need to first run\n",
    "# the step 1 notebook (01_mark_scnas) and sub in the appropriate output\n",
    "# file name for STEP1_FILE_NAME. We didn't include the output files in\n",
    "# the repository because they exceed GitHub's 100 MB per file limit.\n",
    "\n",
    "STEP1_DIR = \"01_outputs\"\n",
    "STEP1_FILE_NAME = \"scna_cutoff_0.2_20200706_092210.tsv.gz\"\n",
    "STEP1_FILE_PATH = os.path.join(STEP1_DIR, STEP1_FILE_NAME)\n",
    "\n",
    "STEP2_DIR = \"02_outputs\"\n",
    "if not os.path.isdir(STEP2_DIR):\n",
    "    os.mkdir(STEP2_DIR)\n",
    "    \n",
    "STEP2_FILE_PATH = os.path.join(STEP2_DIR, f\"locations_{TIME_START}_from_{STEP1_FILE_NAME}\")"
   ]
  },
  {
   "cell_type": "code",
   "execution_count": 2,
   "metadata": {},
   "outputs": [
    {
     "name": "stdout",
     "output_type": "stream",
     "text": [
      "02_outputs/locations_scna_cutoff_0.2_20200706_092210.tsv.gz\n"
     ]
    }
   ],
   "source": [
    "print(STEP2_FILE_PATH)"
   ]
  },
  {
   "cell_type": "code",
   "execution_count": 3,
   "metadata": {},
   "outputs": [],
   "source": [
    "cnas = pd.read_csv(STEP1_FILE_PATH, sep=\"\\t\", dtype={\"Database_ID\": 'O'})"
   ]
  },
  {
   "cell_type": "code",
   "execution_count": 4,
   "metadata": {},
   "outputs": [
    {
     "name": "stdout",
     "output_type": "stream",
     "text": [
      "25,460,266\n"
     ]
    }
   ],
   "source": [
    "print(f\"{cnas.shape[0]:,}\")"
   ]
  },
  {
   "cell_type": "code",
   "execution_count": 5,
   "metadata": {},
   "outputs": [],
   "source": [
    "# Make sure we have the Ensembl data downloaded\n",
    "# The most recent release is 100, but 99 is still\n",
    "# recent (Jan 2020), and PyEnsembl only supports\n",
    "# up to 99 right now.\n",
    "ensembl = pyensembl.EnsemblRelease(99)\n",
    "\n",
    "try:\n",
    "    ensembl.genes() # If this fails, we need to download the data again.\n",
    "except ValueError as e:\n",
    "    if str(e).startswith(\"Missing genome data file from \"):\n",
    "        ensembl.download()\n",
    "        ensembl.index()\n",
    "    else:\n",
    "        raise e from None"
   ]
  },
  {
   "cell_type": "markdown",
   "metadata": {},
   "source": [
    "## Get gene locations\n",
    "First we'll get a unique list of the genes in the data, so we only send a request once for each gene."
   ]
  },
  {
   "cell_type": "code",
   "execution_count": 6,
   "metadata": {},
   "outputs": [],
   "source": [
    "unique_genes = cnas[[\"gene\", \"Database_ID\"]].drop_duplicates()"
   ]
  },
  {
   "cell_type": "code",
   "execution_count": 7,
   "metadata": {},
   "outputs": [
    {
     "name": "stdout",
     "output_type": "stream",
     "text": [
      "90,383\n"
     ]
    }
   ],
   "source": [
    "print(f\"{unique_genes.shape[0]:,}\")"
   ]
  },
  {
   "cell_type": "markdown",
   "metadata": {},
   "source": [
    "Then, we'll get the location data for all those genes."
   ]
  },
  {
   "cell_type": "code",
   "execution_count": 8,
   "metadata": {},
   "outputs": [],
   "source": [
    "chrs = []\n",
    "starts = []\n",
    "ends = []\n",
    "\n",
    "for idx in unique_genes.index:\n",
    "    db_id = unique_genes.loc[idx, \"Database_ID\"]\n",
    "   \n",
    "    if pd.notnull(db_id):\n",
    "        try:\n",
    "            info = ensembl.gene_by_id(db_id)\n",
    "        except ValueError as e:\n",
    "            if str(e).startswith(\"Gene not found: \"):\n",
    "                pass # This will go down to the next try/catch and attempt lookup by name instead of ID\n",
    "            else:\n",
    "                raise e from None\n",
    "        else:\n",
    "            chrs.append(info.contig)\n",
    "            starts.append(info.start)\n",
    "            ends.append(info.end)\n",
    "            continue\n",
    "            \n",
    "    # We get to this try/catch either if Database_ID is null,\n",
    "    # or if nothing was found for it. That way we if don't find\n",
    "    # anything with the Database_ID, we try again with the gene name.\n",
    "    # It appears that some genes have old names that are out of date,\n",
    "    # such as LSMD1. If we want to get even better coverage, we could\n",
    "    # try querying HGNC with old gene names, if the below returns nothing.\n",
    "    try:\n",
    "        info = ensembl.genes_by_name(unique_genes.loc[idx, \"gene\"])\n",
    "    except ValueError as e:\n",
    "        if str(e).startswith(\"No results found for query\"):\n",
    "            chrs.append(np.nan)\n",
    "            starts.append(np.nan)\n",
    "            ends.append(np.nan)\n",
    "        else:\n",
    "            raise e from None\n",
    "    else:\n",
    "        chrs.append(info[0].contig)\n",
    "        starts.append(info[0].start)\n",
    "        ends.append(info[0].end)"
   ]
  },
  {
   "cell_type": "markdown",
   "metadata": {},
   "source": [
    "And now we'll add that location data to the unique_genes table."
   ]
  },
  {
   "cell_type": "code",
   "execution_count": 9,
   "metadata": {},
   "outputs": [],
   "source": [
    "unique_genes = unique_genes.assign(\n",
    "    chromosome=chrs,\n",
    "    start=starts,\n",
    "    end=ends\n",
    ")"
   ]
  },
  {
   "cell_type": "markdown",
   "metadata": {},
   "source": [
    "Quick check of how many genes are missing"
   ]
  },
  {
   "cell_type": "code",
   "execution_count": 10,
   "metadata": {},
   "outputs": [
    {
     "data": {
      "text/plain": [
       "0.08377681643671929"
      ]
     },
     "execution_count": 10,
     "metadata": {},
     "output_type": "execute_result"
    }
   ],
   "source": [
    "pd.isnull(unique_genes[\"start\"]).sum() / unique_genes.shape[0]"
   ]
  },
  {
   "cell_type": "markdown",
   "metadata": {},
   "source": [
    "Now we'll create the \"first\" and \"last\" columns, as noted above."
   ]
  },
  {
   "cell_type": "code",
   "execution_count": 11,
   "metadata": {},
   "outputs": [],
   "source": [
    "unique_genes = unique_genes.assign(\n",
    "    first=np.where(unique_genes[\"start\"] > unique_genes[\"end\"], unique_genes[\"end\"], unique_genes[\"start\"]),\n",
    "    last=np.where(unique_genes[\"start\"] > unique_genes[\"end\"], unique_genes[\"start\"], unique_genes[\"end\"])\n",
    ")"
   ]
  },
  {
   "cell_type": "markdown",
   "metadata": {},
   "source": [
    "Finally, we'll join this into the cnas table."
   ]
  },
  {
   "cell_type": "code",
   "execution_count": 12,
   "metadata": {},
   "outputs": [],
   "source": [
    "cnas = cnas.merge(\n",
    "    right=unique_genes,\n",
    "    how=\"outer\",\n",
    "    on=[\"gene\", \"Database_ID\"],\n",
    "    validate=\"many_to_one\"\n",
    ")"
   ]
  },
  {
   "cell_type": "markdown",
   "metadata": {},
   "source": [
    "Now we'll just select the rows where we were able to get location data."
   ]
  },
  {
   "cell_type": "code",
   "execution_count": 13,
   "metadata": {},
   "outputs": [],
   "source": [
    "cnas = cnas[pd.notnull(cnas[\"start\"])]"
   ]
  },
  {
   "cell_type": "code",
   "execution_count": 14,
   "metadata": {},
   "outputs": [],
   "source": [
    "cnas.to_csv(STEP2_FILE_PATH, index=False, compression=\"gzip\", sep=\"\\t\")"
   ]
  },
  {
   "cell_type": "code",
   "execution_count": 15,
   "metadata": {},
   "outputs": [
    {
     "data": {
      "text/html": [
       "<div>\n",
       "<style scoped>\n",
       "    .dataframe tbody tr th:only-of-type {\n",
       "        vertical-align: middle;\n",
       "    }\n",
       "\n",
       "    .dataframe tbody tr th {\n",
       "        vertical-align: top;\n",
       "    }\n",
       "\n",
       "    .dataframe thead th {\n",
       "        text-align: right;\n",
       "    }\n",
       "</style>\n",
       "<table border=\"1\" class=\"dataframe\">\n",
       "  <thead>\n",
       "    <tr style=\"text-align: right;\">\n",
       "      <th></th>\n",
       "      <th>Patient_ID</th>\n",
       "      <th>gene</th>\n",
       "      <th>Database_ID</th>\n",
       "      <th>cna_val</th>\n",
       "      <th>cancer_type</th>\n",
       "      <th>passes</th>\n",
       "      <th>chromosome</th>\n",
       "      <th>start</th>\n",
       "      <th>end</th>\n",
       "      <th>first</th>\n",
       "      <th>last</th>\n",
       "    </tr>\n",
       "  </thead>\n",
       "  <tbody>\n",
       "    <tr>\n",
       "      <th>0</th>\n",
       "      <td>CPT000814</td>\n",
       "      <td>7SK</td>\n",
       "      <td>ENSG00000232512</td>\n",
       "      <td>-0.058</td>\n",
       "      <td>br</td>\n",
       "      <td>False</td>\n",
       "      <td>21</td>\n",
       "      <td>25095022.0</td>\n",
       "      <td>25103670.0</td>\n",
       "      <td>25095022.0</td>\n",
       "      <td>25103670.0</td>\n",
       "    </tr>\n",
       "    <tr>\n",
       "      <th>1</th>\n",
       "      <td>CPT001846</td>\n",
       "      <td>7SK</td>\n",
       "      <td>ENSG00000232512</td>\n",
       "      <td>0.065</td>\n",
       "      <td>br</td>\n",
       "      <td>False</td>\n",
       "      <td>21</td>\n",
       "      <td>25095022.0</td>\n",
       "      <td>25103670.0</td>\n",
       "      <td>25095022.0</td>\n",
       "      <td>25103670.0</td>\n",
       "    </tr>\n",
       "    <tr>\n",
       "      <th>2</th>\n",
       "      <td>X01BR001</td>\n",
       "      <td>7SK</td>\n",
       "      <td>ENSG00000232512</td>\n",
       "      <td>1.036</td>\n",
       "      <td>br</td>\n",
       "      <td>True</td>\n",
       "      <td>21</td>\n",
       "      <td>25095022.0</td>\n",
       "      <td>25103670.0</td>\n",
       "      <td>25095022.0</td>\n",
       "      <td>25103670.0</td>\n",
       "    </tr>\n",
       "    <tr>\n",
       "      <th>3</th>\n",
       "      <td>X01BR008</td>\n",
       "      <td>7SK</td>\n",
       "      <td>ENSG00000232512</td>\n",
       "      <td>0.090</td>\n",
       "      <td>br</td>\n",
       "      <td>False</td>\n",
       "      <td>21</td>\n",
       "      <td>25095022.0</td>\n",
       "      <td>25103670.0</td>\n",
       "      <td>25095022.0</td>\n",
       "      <td>25103670.0</td>\n",
       "    </tr>\n",
       "    <tr>\n",
       "      <th>4</th>\n",
       "      <td>X01BR009</td>\n",
       "      <td>7SK</td>\n",
       "      <td>ENSG00000232512</td>\n",
       "      <td>0.375</td>\n",
       "      <td>br</td>\n",
       "      <td>True</td>\n",
       "      <td>21</td>\n",
       "      <td>25095022.0</td>\n",
       "      <td>25103670.0</td>\n",
       "      <td>25095022.0</td>\n",
       "      <td>25103670.0</td>\n",
       "    </tr>\n",
       "    <tr>\n",
       "      <th>5</th>\n",
       "      <td>X01BR010</td>\n",
       "      <td>7SK</td>\n",
       "      <td>ENSG00000232512</td>\n",
       "      <td>0.211</td>\n",
       "      <td>br</td>\n",
       "      <td>True</td>\n",
       "      <td>21</td>\n",
       "      <td>25095022.0</td>\n",
       "      <td>25103670.0</td>\n",
       "      <td>25095022.0</td>\n",
       "      <td>25103670.0</td>\n",
       "    </tr>\n",
       "    <tr>\n",
       "      <th>6</th>\n",
       "      <td>X01BR015</td>\n",
       "      <td>7SK</td>\n",
       "      <td>ENSG00000232512</td>\n",
       "      <td>-0.086</td>\n",
       "      <td>br</td>\n",
       "      <td>False</td>\n",
       "      <td>21</td>\n",
       "      <td>25095022.0</td>\n",
       "      <td>25103670.0</td>\n",
       "      <td>25095022.0</td>\n",
       "      <td>25103670.0</td>\n",
       "    </tr>\n",
       "    <tr>\n",
       "      <th>7</th>\n",
       "      <td>X01BR017</td>\n",
       "      <td>7SK</td>\n",
       "      <td>ENSG00000232512</td>\n",
       "      <td>0.192</td>\n",
       "      <td>br</td>\n",
       "      <td>False</td>\n",
       "      <td>21</td>\n",
       "      <td>25095022.0</td>\n",
       "      <td>25103670.0</td>\n",
       "      <td>25095022.0</td>\n",
       "      <td>25103670.0</td>\n",
       "    </tr>\n",
       "    <tr>\n",
       "      <th>8</th>\n",
       "      <td>X01BR018</td>\n",
       "      <td>7SK</td>\n",
       "      <td>ENSG00000232512</td>\n",
       "      <td>-0.038</td>\n",
       "      <td>br</td>\n",
       "      <td>False</td>\n",
       "      <td>21</td>\n",
       "      <td>25095022.0</td>\n",
       "      <td>25103670.0</td>\n",
       "      <td>25095022.0</td>\n",
       "      <td>25103670.0</td>\n",
       "    </tr>\n",
       "    <tr>\n",
       "      <th>9</th>\n",
       "      <td>X01BR020</td>\n",
       "      <td>7SK</td>\n",
       "      <td>ENSG00000232512</td>\n",
       "      <td>1.117</td>\n",
       "      <td>br</td>\n",
       "      <td>True</td>\n",
       "      <td>21</td>\n",
       "      <td>25095022.0</td>\n",
       "      <td>25103670.0</td>\n",
       "      <td>25095022.0</td>\n",
       "      <td>25103670.0</td>\n",
       "    </tr>\n",
       "  </tbody>\n",
       "</table>\n",
       "</div>"
      ],
      "text/plain": [
       "  Patient_ID gene      Database_ID  cna_val cancer_type  passes chromosome  \\\n",
       "0  CPT000814  7SK  ENSG00000232512   -0.058          br   False         21   \n",
       "1  CPT001846  7SK  ENSG00000232512    0.065          br   False         21   \n",
       "2   X01BR001  7SK  ENSG00000232512    1.036          br    True         21   \n",
       "3   X01BR008  7SK  ENSG00000232512    0.090          br   False         21   \n",
       "4   X01BR009  7SK  ENSG00000232512    0.375          br    True         21   \n",
       "5   X01BR010  7SK  ENSG00000232512    0.211          br    True         21   \n",
       "6   X01BR015  7SK  ENSG00000232512   -0.086          br   False         21   \n",
       "7   X01BR017  7SK  ENSG00000232512    0.192          br   False         21   \n",
       "8   X01BR018  7SK  ENSG00000232512   -0.038          br   False         21   \n",
       "9   X01BR020  7SK  ENSG00000232512    1.117          br    True         21   \n",
       "\n",
       "        start         end       first        last  \n",
       "0  25095022.0  25103670.0  25095022.0  25103670.0  \n",
       "1  25095022.0  25103670.0  25095022.0  25103670.0  \n",
       "2  25095022.0  25103670.0  25095022.0  25103670.0  \n",
       "3  25095022.0  25103670.0  25095022.0  25103670.0  \n",
       "4  25095022.0  25103670.0  25095022.0  25103670.0  \n",
       "5  25095022.0  25103670.0  25095022.0  25103670.0  \n",
       "6  25095022.0  25103670.0  25095022.0  25103670.0  \n",
       "7  25095022.0  25103670.0  25095022.0  25103670.0  \n",
       "8  25095022.0  25103670.0  25095022.0  25103670.0  \n",
       "9  25095022.0  25103670.0  25095022.0  25103670.0  "
      ]
     },
     "execution_count": 15,
     "metadata": {},
     "output_type": "execute_result"
    }
   ],
   "source": [
    "cnas.head(10)"
   ]
  }
 ],
 "metadata": {
  "kernelspec": {
   "display_name": "Python 3",
   "language": "python",
   "name": "python3"
  },
  "language_info": {
   "codemirror_mode": {
    "name": "ipython",
    "version": 3
   },
   "file_extension": ".py",
   "mimetype": "text/x-python",
   "name": "python",
   "nbconvert_exporter": "python",
   "pygments_lexer": "ipython3",
   "version": "3.7.7"
  }
 },
 "nbformat": 4,
 "nbformat_minor": 4
}
