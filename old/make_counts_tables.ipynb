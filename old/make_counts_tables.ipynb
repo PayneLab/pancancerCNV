{
 "cells": [
  {
   "cell_type": "code",
   "execution_count": 1,
   "metadata": {},
   "outputs": [],
   "source": [
    "import pandas as pd\n",
    "import numpy as np\n",
    "import cptac\n",
    "import pyensembl\n",
    "ensembl = pyensembl.EnsemblRelease()"
   ]
  },
  {
   "cell_type": "code",
   "execution_count": 2,
   "metadata": {},
   "outputs": [
    {
     "name": "stdout",
     "output_type": "stream",
     "text": [
      "                                                \r"
     ]
    },
    {
     "data": {
      "text/plain": [
       "True"
      ]
     },
     "execution_count": 2,
     "metadata": {},
     "output_type": "execute_result"
    }
   ],
   "source": [
    "cptac.download(dataset=\"endometrial\")\n",
    "cptac.download(dataset=\"brca\")\n",
    "cptac.download(dataset=\"ccrcc\")\n",
    "cptac.download(dataset=\"gbm\")\n",
    "cptac.download(dataset=\"hnscc\")\n",
    "cptac.download(dataset=\"luad\")\n",
    "cptac.download(dataset=\"ovarian\")\n",
    "cptac.download(dataset=\"colon\")\n",
    "cptac.download(dataset=\"lscc\")"
   ]
  },
  {
   "cell_type": "code",
   "execution_count": 3,
   "metadata": {},
   "outputs": [
    {
     "name": "stdout",
     "output_type": "stream",
     "text": [
      "Formatting dataframes...                        \r"
     ]
    },
    {
     "name": "stderr",
     "output_type": "stream",
     "text": [
      "INFO:numexpr.utils:NumExpr defaulting to 8 threads.\n"
     ]
    },
    {
     "name": "stdout",
     "output_type": "stream",
     "text": [
      "Checking that hnscc index is up-to-date...\r"
     ]
    },
    {
     "name": "stderr",
     "output_type": "stream",
     "text": [
      "cptac warning: The GBM dataset is under publication embargo until March 01, 2021. CPTAC is a community resource project and data are made available rapidly after generation for community research use. The embargo allows exploring and utilizing the data, but analysis may not be published until after the embargo date. Please see https://proteomics.cancer.gov/data-portal/about/data-use-agreement or enter cptac.embargo() to open the webpage for more details. (C:\\Users\\chels\\anaconda3\\lib\\site-packages\\ipykernel_launcher.py, line 4)\n"
     ]
    },
    {
     "name": "stdout",
     "output_type": "stream",
     "text": [
      "Checking that luad index is up-to-date... \r"
     ]
    },
    {
     "name": "stderr",
     "output_type": "stream",
     "text": [
      "cptac warning: The HNSCC data is currently strictly reserved for CPTAC investigators. Otherwise, you are not authorized to access these data. Additionally, even after these data become publicly available, they will be subject to a publication embargo (see https://proteomics.cancer.gov/data-portal/about/data-use-agreement or enter cptac.embargo() to open the webpage for more details). (C:\\Users\\chels\\anaconda3\\lib\\site-packages\\ipykernel_launcher.py, line 5)\n"
     ]
    },
    {
     "name": "stdout",
     "output_type": "stream",
     "text": [
      "version 3scc v3.2.......                    \n",
      "                            \r"
     ]
    },
    {
     "name": "stderr",
     "output_type": "stream",
     "text": [
      "cptac warning: The LSCC data is currently strictly reserved for CPTAC investigators. Otherwise, you are not authorized to access these data. Additionally, even after these data become publicly available, they will be subject to a publication embargo (see https://proteomics.cancer.gov/data-portal/about/data-use-agreement or enter cptac.embargo() to open the webpage for more details). (C:\\Users\\chels\\anaconda3\\lib\\site-packages\\ipykernel_launcher.py, line 9)\n"
     ]
    }
   ],
   "source": [
    "en = cptac.Endometrial()\n",
    "brca = cptac.Brca()\n",
    "ccrcc = cptac.Ccrcc()\n",
    "gbm = cptac.Gbm()\n",
    "hnscc = cptac.Hnscc()\n",
    "luad = cptac.Luad()\n",
    "ovarian = cptac.Ovarian()\n",
    "colon = cptac.Colon()\n",
    "lscc = cptac.Lscc()"
   ]
  },
  {
   "cell_type": "code",
   "execution_count": 4,
   "metadata": {},
   "outputs": [],
   "source": [
    "en_cnv = en.get_CNV()\n",
    "brca_cnv = brca.get_CNV()\n",
    "ccrcc_cnv = ccrcc.get_CNV()\n",
    "gbm_cnv = gbm.get_CNV()\n",
    "hnscc_cnv = hnscc.get_CNV()\n",
    "luad_cnv = luad.get_CNV()\n",
    "ovarian_cnv = ovarian.get_CNV()\n",
    "colon_cnv = colon.get_CNV()\n",
    "lscc_cnv = lscc.get_CNV()"
   ]
  },
  {
   "cell_type": "code",
   "execution_count": 6,
   "metadata": {},
   "outputs": [],
   "source": [
    "def separate(gain, loss, data):\n",
    "  \"\"\"\n",
    "  Counts the Number of patients with high and low values for each gene.\n",
    "  \"\"\"\n",
    "  sepDict = dict()\n",
    "  for column in data:\n",
    "    numGain = 0\n",
    "    numLoss = 0\n",
    "    numNeu = 0\n",
    "    for i in data[column]:\n",
    "        if i >= gain:\n",
    "            numGain += 1\n",
    "        elif i <= loss:\n",
    "            numLoss += 1\n",
    "        else:\n",
    "            numNeu += 1 \n",
    "    sepDict[column] = [numGain, numNeu, numLoss]\n",
    "  return sepDict"
   ]
  },
  {
   "cell_type": "code",
   "execution_count": 7,
   "metadata": {},
   "outputs": [],
   "source": [
    "def get_counts_and_average(data):\n",
    "  \"\"\"\n",
    "  Takes a CNV dataframe and generates a dataframe with the counts of gains, losses and neutral values\n",
    "  \"\"\"\n",
    "  df = pd.DataFrame(data = separate(.2,-.2,data), index = [\"gain\", \"neutral\", \"loss\"])\n",
    "  return df.transpose()"
   ]
  },
  {
   "cell_type": "code",
   "execution_count": 8,
   "metadata": {},
   "outputs": [],
   "source": [
    "def add_chromo_and_loc(my_dict):\n",
    "    chromo = list()\n",
    "    locations = list()\n",
    "    not_found = list()\n",
    "    count = 0\n",
    "    for gene in list(my_dict.index.get_level_values(0)):\n",
    "        count += 1\n",
    "        try:\n",
    "            e_gene = ensembl.genes_by_name(gene)\n",
    "            chromo.append(int(e_gene[0].contig))\n",
    "            locations.append((e_gene[0].start + e_gene[0].end)/2)\n",
    "        except:\n",
    "            not_found.append(gene)\n",
    "            chromo.append(None)\n",
    "            locations.append(None)\n",
    "    my_dict['chromo'] = chromo\n",
    "    my_dict['location'] = locations\n",
    "    print(len(not_found)/count)\n",
    "    return my_dict"
   ]
  },
  {
   "cell_type": "code",
   "execution_count": 9,
   "metadata": {},
   "outputs": [],
   "source": [
    "en_counts = get_counts_and_average(en_cnv)\n",
    "gbm_counts = get_counts_and_average(gbm_cnv)\n",
    "brca_counts = get_counts_and_average(brca_cnv)\n",
    "hnscc_counts = get_counts_and_average(hnscc_cnv)\n",
    "luad_counts = get_counts_and_average(luad_cnv)\n",
    "ovarian_counts = get_counts_and_average(ovarian_cnv)\n",
    "ccrcc_counts = get_counts_and_average(ccrcc_cnv)\n",
    "colon_counts = get_counts_and_average(colon_cnv)\n",
    "lscc_counts = get_counts_and_average(lscc_cnv)"
   ]
  },
  {
   "cell_type": "code",
   "execution_count": 11,
   "metadata": {},
   "outputs": [
    {
     "name": "stdout",
     "output_type": "stream",
     "text": [
      "0.13565242185550844\n",
      "0.06118450796202341\n",
      "0.098218808036468\n",
      "0.06720553098469828\n",
      "0.08112316395910105\n",
      "0.05881324318022849\n",
      "0.08198081410422609\n",
      "0.1656013022591019\n",
      "0.17110629386045487\n"
     ]
    }
   ],
   "source": [
    "en_counts = add_chromo_and_loc(en_counts)\n",
    "gbm_counts = add_chromo_and_loc(gbm_counts)\n",
    "brca_counts = add_chromo_and_loc(brca_counts)\n",
    "hnscc_counts = add_chromo_and_loc(hnscc_counts)\n",
    "luad_counts = add_chromo_and_loc(luad_counts)\n",
    "ovarian_counts = add_chromo_and_loc(ovarian_counts)\n",
    "ccrcc_counts = add_chromo_and_loc(ccrcc_counts)\n",
    "colon_counts = add_chromo_and_loc(colon_counts)\n",
    "lscc_counts = add_chromo_and_loc(lscc_counts)"
   ]
  },
  {
   "cell_type": "code",
   "execution_count": 12,
   "metadata": {},
   "outputs": [],
   "source": [
    "en_counts.reset_index(inplace=True)\n",
    "gbm_counts.reset_index(inplace=True)\n",
    "brca_counts.reset_index(inplace=True)\n",
    "hnscc_counts.reset_index(inplace=True)\n",
    "luad_counts.reset_index(inplace=True)\n",
    "ovarian_counts.reset_index(inplace=True)\n",
    "ccrcc_counts.reset_index(inplace=True)\n",
    "colon_counts.reset_index(inplace=True)\n",
    "lscc_counts.reset_index(inplace=True)"
   ]
  },
  {
   "cell_type": "code",
   "execution_count": 13,
   "metadata": {},
   "outputs": [],
   "source": [
    "en_counts.to_csv(\"data/endo_counts.csv\")\n",
    "gbm_counts.to_csv(\"data/gbm_counts.csv\")\n",
    "brca_counts.to_csv(\"data/brca_counts.csv\")\n",
    "hnscc_counts.to_csv(\"data/hnscc_counts.csv\")\n",
    "luad_counts.to_csv(\"data/luad_counts.csv\")\n",
    "ovarian_counts.to_csv(\"data/ovarian_counts.csv\")\n",
    "ccrcc_counts.to_csv(\"data/ccrcc_counts.csv\")\n",
    "colon_counts.to_csv(\"data/colon_counts.csv\")\n",
    "lscc_counts.to_csv(\"data/lscc_counts.csv\")"
   ]
  }
 ],
 "metadata": {
  "kernelspec": {
   "display_name": "Python 3",
   "language": "python",
   "name": "python3"
  },
  "language_info": {
   "codemirror_mode": {
    "name": "ipython",
    "version": 3
   },
   "file_extension": ".py",
   "mimetype": "text/x-python",
   "name": "python",
   "nbconvert_exporter": "python",
   "pygments_lexer": "ipython3",
   "version": "3.7.6"
  }
 },
 "nbformat": 4,
 "nbformat_minor": 4
}
