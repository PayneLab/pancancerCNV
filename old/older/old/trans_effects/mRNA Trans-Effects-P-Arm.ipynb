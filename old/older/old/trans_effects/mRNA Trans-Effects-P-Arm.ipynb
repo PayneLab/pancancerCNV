{
 "cells": [
  {
   "cell_type": "markdown",
   "metadata": {},
   "source": [
    "# Trans-Effects"
   ]
  },
  {
   "cell_type": "markdown",
   "metadata": {},
   "source": [
    "## Install necessary Packages"
   ]
  },
  {
   "cell_type": "code",
   "execution_count": 1,
   "metadata": {},
   "outputs": [
    {
     "name": "stdout",
     "output_type": "stream",
     "text": [
      "Requirement already satisfied: cptac in c:\\users\\chels\\anaconda3\\lib\\site-packages (0.8.1)\n",
      "Requirement already satisfied: packaging>=19.2 in c:\\users\\chels\\anaconda3\\lib\\site-packages (from cptac) (20.1)\n",
      "Requirement already satisfied: xlrd>=1.2.0 in c:\\users\\chels\\anaconda3\\lib\\site-packages (from cptac) (1.2.0)\n",
      "Requirement already satisfied: numpy>=1.16.3 in c:\\users\\chels\\anaconda3\\lib\\site-packages (from cptac) (1.18.1)\n",
      "Requirement already satisfied: beautifulsoup4>=4.7.1 in c:\\users\\chels\\anaconda3\\lib\\site-packages (from cptac) (4.8.2)\n",
      "Requirement already satisfied: requests>=2.21.0 in c:\\users\\chels\\anaconda3\\lib\\site-packages (from cptac) (2.22.0)\n",
      "Requirement already satisfied: urllib3>=1.24.2 in c:\\users\\chels\\anaconda3\\lib\\site-packages (from cptac) (1.25.8)\n",
      "Requirement already satisfied: pandas>=0.25.1 in c:\\users\\chels\\anaconda3\\lib\\site-packages (from cptac) (1.0.1)\n",
      "Requirement already satisfied: scipy>=1.2.1 in c:\\users\\chels\\anaconda3\\lib\\site-packages (from cptac) (1.4.1)\n",
      "Requirement already satisfied: statsmodels>=0.10.0 in c:\\users\\chels\\anaconda3\\lib\\site-packages (from cptac) (0.11.0)\n",
      "Requirement already satisfied: pyparsing>=2.0.2 in c:\\users\\chels\\anaconda3\\lib\\site-packages (from packaging>=19.2->cptac) (2.4.6)\n",
      "Requirement already satisfied: six in c:\\users\\chels\\anaconda3\\lib\\site-packages (from packaging>=19.2->cptac) (1.14.0)\n",
      "Requirement already satisfied: soupsieve>=1.2 in c:\\users\\chels\\anaconda3\\lib\\site-packages (from beautifulsoup4>=4.7.1->cptac) (1.9.5)\n",
      "Requirement already satisfied: idna<2.9,>=2.5 in c:\\users\\chels\\anaconda3\\lib\\site-packages (from requests>=2.21.0->cptac) (2.8)\n",
      "Requirement already satisfied: chardet<3.1.0,>=3.0.2 in c:\\users\\chels\\anaconda3\\lib\\site-packages (from requests>=2.21.0->cptac) (3.0.4)\n",
      "Requirement already satisfied: certifi>=2017.4.17 in c:\\users\\chels\\anaconda3\\lib\\site-packages (from requests>=2.21.0->cptac) (2019.11.28)\n",
      "Requirement already satisfied: pytz>=2017.2 in c:\\users\\chels\\anaconda3\\lib\\site-packages (from pandas>=0.25.1->cptac) (2019.3)\n",
      "Requirement already satisfied: python-dateutil>=2.6.1 in c:\\users\\chels\\anaconda3\\lib\\site-packages (from pandas>=0.25.1->cptac) (2.8.1)\n",
      "Requirement already satisfied: patsy>=0.5 in c:\\users\\chels\\anaconda3\\lib\\site-packages (from statsmodels>=0.10.0->cptac) (0.5.1)\n",
      "Requirement already up-to-date: cptac in c:\\users\\chels\\anaconda3\\lib\\site-packages (0.8.1)\n",
      "Requirement already satisfied, skipping upgrade: beautifulsoup4>=4.7.1 in c:\\users\\chels\\anaconda3\\lib\\site-packages (from cptac) (4.8.2)\n",
      "Requirement already satisfied, skipping upgrade: xlrd>=1.2.0 in c:\\users\\chels\\anaconda3\\lib\\site-packages (from cptac) (1.2.0)\n",
      "Requirement already satisfied, skipping upgrade: urllib3>=1.24.2 in c:\\users\\chels\\anaconda3\\lib\\site-packages (from cptac) (1.25.8)\n",
      "Requirement already satisfied, skipping upgrade: statsmodels>=0.10.0 in c:\\users\\chels\\anaconda3\\lib\\site-packages (from cptac) (0.11.0)\n",
      "Requirement already satisfied, skipping upgrade: numpy>=1.16.3 in c:\\users\\chels\\anaconda3\\lib\\site-packages (from cptac) (1.18.1)\n",
      "Requirement already satisfied, skipping upgrade: requests>=2.21.0 in c:\\users\\chels\\anaconda3\\lib\\site-packages (from cptac) (2.22.0)\n",
      "Requirement already satisfied, skipping upgrade: scipy>=1.2.1 in c:\\users\\chels\\anaconda3\\lib\\site-packages (from cptac) (1.4.1)\n",
      "Requirement already satisfied, skipping upgrade: packaging>=19.2 in c:\\users\\chels\\anaconda3\\lib\\site-packages (from cptac) (20.1)\n",
      "Requirement already satisfied, skipping upgrade: pandas>=0.25.1 in c:\\users\\chels\\anaconda3\\lib\\site-packages (from cptac) (1.0.1)\n",
      "Requirement already satisfied, skipping upgrade: soupsieve>=1.2 in c:\\users\\chels\\anaconda3\\lib\\site-packages (from beautifulsoup4>=4.7.1->cptac) (1.9.5)\n",
      "Requirement already satisfied, skipping upgrade: patsy>=0.5 in c:\\users\\chels\\anaconda3\\lib\\site-packages (from statsmodels>=0.10.0->cptac) (0.5.1)\n",
      "Requirement already satisfied, skipping upgrade: idna<2.9,>=2.5 in c:\\users\\chels\\anaconda3\\lib\\site-packages (from requests>=2.21.0->cptac) (2.8)\n",
      "Requirement already satisfied, skipping upgrade: certifi>=2017.4.17 in c:\\users\\chels\\anaconda3\\lib\\site-packages (from requests>=2.21.0->cptac) (2019.11.28)\n",
      "Requirement already satisfied, skipping upgrade: chardet<3.1.0,>=3.0.2 in c:\\users\\chels\\anaconda3\\lib\\site-packages (from requests>=2.21.0->cptac) (3.0.4)\n",
      "Requirement already satisfied, skipping upgrade: pyparsing>=2.0.2 in c:\\users\\chels\\anaconda3\\lib\\site-packages (from packaging>=19.2->cptac) (2.4.6)\n",
      "Requirement already satisfied, skipping upgrade: six in c:\\users\\chels\\anaconda3\\lib\\site-packages (from packaging>=19.2->cptac) (1.14.0)\n",
      "Requirement already satisfied, skipping upgrade: pytz>=2017.2 in c:\\users\\chels\\anaconda3\\lib\\site-packages (from pandas>=0.25.1->cptac) (2019.3)\n",
      "Requirement already satisfied, skipping upgrade: python-dateutil>=2.6.1 in c:\\users\\chels\\anaconda3\\lib\\site-packages (from pandas>=0.25.1->cptac) (2.8.1)\n"
     ]
    }
   ],
   "source": [
    "!pip install cptac\n",
    "!pip install --upgrade cptac"
   ]
  },
  {
   "cell_type": "code",
   "execution_count": 2,
   "metadata": {},
   "outputs": [],
   "source": [
    "import pandas as pd\n",
    "import matplotlib.pyplot as plt\n",
    "import seaborn as sns\n",
    "import numpy as np\n",
    "import cptac\n",
    "import pyensembl\n",
    "from scipy import stats"
   ]
  },
  {
   "cell_type": "markdown",
   "metadata": {},
   "source": [
    "## Download all the data"
   ]
  },
  {
   "cell_type": "code",
   "execution_count": 3,
   "metadata": {},
   "outputs": [
    {
     "name": "stdout",
     "output_type": "stream",
     "text": [
      "                                            \r"
     ]
    },
    {
     "data": {
      "text/plain": [
       "True"
      ]
     },
     "execution_count": 3,
     "metadata": {},
     "output_type": "execute_result"
    }
   ],
   "source": [
    "cptac.download(dataset=\"luad\")\n",
    "cptac.download(dataset=\"hnscc\")\n",
    "cptac.download(dataset=\"ovarian\")\n",
    "cptac.download(dataset=\"colon\")\n",
    "cptac.download(dataset=\"brca\")\n",
    "cptac.download(dataset=\"lscc\")"
   ]
  },
  {
   "cell_type": "code",
   "execution_count": 4,
   "metadata": {},
   "outputs": [
    {
     "name": "stdout",
     "output_type": "stream",
     "text": [
      "Checking that hnscc index is up-to-date...\r"
     ]
    },
    {
     "name": "stderr",
     "output_type": "stream",
     "text": [
      "cptac warning: The LUAD dataset is under publication embargo until July 01, 2020. CPTAC is a community resource project and data are made available rapidly after generation for community research use. The embargo allows exploring and utilizing the data, but analysis may not be published until after the embargo date. Please see https://proteomics.cancer.gov/data-portal/about/data-use-agreement or enter cptac.embargo() to open the webpage for more details. (C:\\Users\\chels\\anaconda3\\lib\\site-packages\\ipykernel_launcher.py, line 1)\n"
     ]
    },
    {
     "name": "stdout",
     "output_type": "stream",
     "text": [
      "Checking that ovarian index is up-to-date...\r"
     ]
    },
    {
     "name": "stderr",
     "output_type": "stream",
     "text": [
      "cptac warning: The HNSCC data is currently strictly reserved for CPTAC investigators. Otherwise, you are not authorized to access these data. Additionally, even after these data become publicly available, they will be subject to a publication embargo (see https://proteomics.cancer.gov/data-portal/about/data-use-agreement or enter cptac.embargo() to open the webpage for more details). (C:\\Users\\chels\\anaconda3\\lib\\site-packages\\ipykernel_launcher.py, line 2)\n"
     ]
    },
    {
     "name": "stdout",
     "output_type": "stream",
     "text": [
      "Loading ovarian v0.0.1........              \r"
     ]
    },
    {
     "name": "stderr",
     "output_type": "stream",
     "text": [
      "INFO:numexpr.utils:NumExpr defaulting to 8 threads.\n"
     ]
    },
    {
     "name": "stdout",
     "output_type": "stream",
     "text": [
      "version 3scc v3.2.......                  \n",
      "                            \r"
     ]
    },
    {
     "name": "stderr",
     "output_type": "stream",
     "text": [
      "cptac warning: The LSCC data is currently strictly reserved for CPTAC investigators. Otherwise, you are not authorized to access these data. Additionally, even after these data become publicly available, they will be subject to a publication embargo (see https://proteomics.cancer.gov/data-portal/about/data-use-agreement or enter cptac.embargo() to open the webpage for more details). (C:\\Users\\chels\\anaconda3\\lib\\site-packages\\ipykernel_launcher.py, line 6)\n"
     ]
    }
   ],
   "source": [
    "luad = cptac.Luad()\n",
    "hnscc = cptac.Hnscc()\n",
    "ovarian = cptac.Ovarian()\n",
    "colon = cptac.Colon()\n",
    "brca = cptac.Brca()\n",
    "lscc = cptac.Lscc()"
   ]
  },
  {
   "cell_type": "code",
   "execution_count": 5,
   "metadata": {},
   "outputs": [],
   "source": [
    "luad_cnv = luad.get_CNV()\n",
    "hnscc_cnv = hnscc.get_CNV()\n",
    "ovarian_cnv =  ovarian.get_CNV()\n",
    "colon_cnv = colon.get_CNV()\n",
    "brca_cnv = brca.get_CNV()\n",
    "lscc_cnv = lscc.get_CNV()"
   ]
  },
  {
   "cell_type": "code",
   "execution_count": 6,
   "metadata": {},
   "outputs": [],
   "source": [
    "luad_mrna = luad.get_transcriptomics()\n",
    "hnscc_mrna = hnscc.get_transcriptomics()\n",
    "ovarian_mrna = ovarian.get_transcriptomics()\n",
    "colon_mrna = colon.get_transcriptomics()\n",
    "brca_mrna = brca.get_transcriptomics()\n",
    "lscc_mrna = lscc.get_transcriptomics()"
   ]
  },
  {
   "cell_type": "code",
   "execution_count": 7,
   "metadata": {},
   "outputs": [],
   "source": [
    "# Used to find the gene locations\n",
    "ensembl = pyensembl.EnsemblRelease()"
   ]
  },
  {
   "cell_type": "markdown",
   "metadata": {},
   "source": [
    "## Create Counts Table"
   ]
  },
  {
   "cell_type": "code",
   "execution_count": 8,
   "metadata": {},
   "outputs": [],
   "source": [
    "def separate(hiCut, lowCut, data):\n",
    "  \"\"\"\n",
    "  Counts the Number of patients with high and low value for each gene.\n",
    "  \"\"\"\n",
    "  sepDict = dict()\n",
    "  for column in data:\n",
    "    numHi = 0\n",
    "    numLow = 0\n",
    "    numNeu = 0\n",
    "    for i in data[column]:\n",
    "        if i >= hiCut:\n",
    "            numHi += 1\n",
    "        elif i <= lowCut:\n",
    "            numLow += 1\n",
    "        else:\n",
    "            numNeu += 1 \n",
    "    sepDict[column] = [numHi, numNeu, numLow]\n",
    "  return sepDict"
   ]
  },
  {
   "cell_type": "code",
   "execution_count": 9,
   "metadata": {},
   "outputs": [],
   "source": [
    "def get_counts_and_average(data):\n",
    "  \"\"\"\n",
    "  Takes a CNV dataframe and generates a dataframe with the counts of high, low and neutral values\n",
    "  \"\"\"\n",
    "  df = pd.DataFrame(data = separate(.2,-.2,data), index = [\"amplifications\", \"neutral\", \"deletions\"])\n",
    "  df = df.append(pd.DataFrame(data.mean(0), columns=['average']).transpose(), sort=True)\n",
    "  return df.transpose()"
   ]
  },
  {
   "cell_type": "code",
   "execution_count": 10,
   "metadata": {},
   "outputs": [],
   "source": [
    "def add_chromo_and_loc(my_dict):\n",
    "    chromo = list()\n",
    "    locations = list()\n",
    "    not_found = list()\n",
    "    count = 0\n",
    "    for gene in list(my_dict.index.get_level_values(0)):\n",
    "        count += 1\n",
    "        try:\n",
    "            e_gene = ensembl.genes_by_name(gene)\n",
    "            chromo.append(e_gene[0].contig)\n",
    "            locations.append((e_gene[0].start + e_gene[0].end)/2)\n",
    "        except:\n",
    "            not_found.append(gene)\n",
    "            chromo.append(None)\n",
    "            locations.append(None)\n",
    "    my_dict['chromo'] = chromo\n",
    "    my_dict['location'] = locations\n",
    "#     my_dict['cancer'] = cancer\n",
    "#     print(cancer, len(not_found)/count)\n",
    "    return my_dict"
   ]
  },
  {
   "cell_type": "code",
   "execution_count": 11,
   "metadata": {},
   "outputs": [],
   "source": [
    "luad_counts = get_counts_and_average(luad_cnv)\n",
    "hnscc_counts = get_counts_and_average(hnscc_cnv)\n",
    "ovarian_counts = get_counts_and_average(ovarian_cnv)\n",
    "colon_counts = get_counts_and_average(colon_cnv)\n",
    "brca_counts = get_counts_and_average(brca_cnv)\n",
    "lscc_counts = get_counts_and_average(lscc_cnv)"
   ]
  },
  {
   "cell_type": "code",
   "execution_count": 12,
   "metadata": {},
   "outputs": [],
   "source": [
    "luad_counts = add_chromo_and_loc(luad_counts)\n",
    "hnscc_counts = add_chromo_and_loc(hnscc_counts,)\n",
    "ovarian_counts = add_chromo_and_loc(ovarian_counts)\n",
    "colon_counts = add_chromo_and_loc(colon_counts)\n",
    "brca_counts = add_chromo_and_loc(brca_counts)\n",
    "lscc_counts = add_chromo_and_loc(lscc_counts)"
   ]
  },
  {
   "cell_type": "code",
   "execution_count": 13,
   "metadata": {},
   "outputs": [],
   "source": [
    "luad_counts['cancer'] = 'LUAD'\n",
    "hnscc_counts['cancer'] = 'HNSCC'\n",
    "ovarian_counts['cancer'] = 'OVARIAN'\n",
    "colon_counts['cancer'] = 'COLON'\n",
    "brca_counts['cancer'] = 'BRCA'\n",
    "lscc_counts['cancer'] = 'LSCC'\n"
   ]
  },
  {
   "cell_type": "markdown",
   "metadata": {},
   "source": [
    "## Specify a Chromosome"
   ]
  },
  {
   "cell_type": "code",
   "execution_count": 14,
   "metadata": {},
   "outputs": [],
   "source": [
    "chromosome_num = '8'"
   ]
  },
  {
   "cell_type": "code",
   "execution_count": 15,
   "metadata": {},
   "outputs": [],
   "source": [
    "# Drop any genes that we don't have a location for\n",
    "luad_counts_cleaned = luad_counts.dropna(subset=['location'])\n",
    "hnscc_counts_cleaned = hnscc_counts.dropna(subset=['location'])\n",
    "ovarian_counts_cleaned = ovarian_counts.dropna(subset=['location'])\n",
    "colon_counts_cleaned = colon_counts.dropna(subset=['location'])\n",
    "brca_counts_cleaned = brca_counts.dropna(subset=['location'])\n",
    "lscc_counts_cleaned = lscc_counts.dropna(subset=['location'])"
   ]
  },
  {
   "cell_type": "code",
   "execution_count": 16,
   "metadata": {},
   "outputs": [],
   "source": [
    "luad_counts_cleaned_8 = luad_counts_cleaned[luad_counts_cleaned.chromo==chromosome_num]\n",
    "hnscc_counts_cleaned_8 = hnscc_counts_cleaned[hnscc_counts_cleaned.chromo==chromosome_num]\n",
    "ovarian_counts_cleaned_8 = ovarian_counts_cleaned[ovarian_counts_cleaned.chromo==chromosome_num]\n",
    "colon_counts_cleaned_8 = colon_counts_cleaned[colon_counts_cleaned.chromo==chromosome_num]\n",
    "brca_counts_cleaned_8 = brca_counts_cleaned[brca_counts_cleaned.chromo==chromosome_num]\n",
    "lscc_counts_cleaned_8 = lscc_counts_cleaned[lscc_counts_cleaned.chromo==chromosome_num]"
   ]
  },
  {
   "cell_type": "markdown",
   "metadata": {},
   "source": [
    "## Create Graphs"
   ]
  },
  {
   "cell_type": "code",
   "execution_count": 17,
   "metadata": {},
   "outputs": [],
   "source": [
    "# This is the cutoff value (determined by experimentation) that we are using for the event\n",
    "deletion_event = 30794385.5"
   ]
  },
  {
   "cell_type": "code",
   "execution_count": 18,
   "metadata": {},
   "outputs": [],
   "source": [
    "luad_counts_8 = pd.melt(luad_counts_cleaned_8, id_vars=['chromo', 'location', 'cancer'], value_vars=['amplifications', 'deletions'])\n",
    "hnscc_counts_8 = pd.melt(hnscc_counts_cleaned_8, id_vars=['chromo', 'location', 'cancer'], value_vars=['amplifications', 'deletions'])\n",
    "ovarian_counts_8 = pd.melt(ovarian_counts_cleaned_8, id_vars=['chromo', 'location', 'cancer'], value_vars=['amplifications', 'deletions'])\n",
    "colon_counts_8 = pd.melt(colon_counts_cleaned_8, id_vars=['chromo', 'location', 'cancer'], value_vars=['amplifications', 'deletions'])\n",
    "brca_counts_8 = pd.melt(brca_counts_cleaned_8, id_vars=['chromo', 'location', 'cancer'], value_vars=['amplifications', 'deletions'])\n",
    "lscc_counts_8 = pd.melt(lscc_counts_cleaned_8, id_vars=['chromo', 'location', 'cancer'], value_vars=['amplifications', 'deletions'])"
   ]
  },
  {
   "cell_type": "code",
   "execution_count": 19,
   "metadata": {},
   "outputs": [
    {
     "data": {
      "text/plain": [
       "<matplotlib.lines.Line2D at 0x1e6da3e5408>"
      ]
     },
     "execution_count": 19,
     "metadata": {},
     "output_type": "execute_result"
    },
    {
     "data": {
      "image/png": "[encoded data removed]",
      "text/plain": [
       "<Figure size 432x288 with 1 Axes>"
      ]
     },
     "metadata": {
      "needs_background": "light"
     },
     "output_type": "display_data"
    }
   ],
   "source": [
    "sns.lineplot(x=\"location\", y=\"value\", hue=\"variable\", palette=['darkred', 'darkblue'], data=luad_counts_8)\n",
    "plt.axvline(deletion_event)"
   ]
  },
  {
   "cell_type": "code",
   "execution_count": 20,
   "metadata": {},
   "outputs": [
    {
     "data": {
      "text/plain": [
       "<matplotlib.lines.Line2D at 0x1e6db14b508>"
      ]
     },
     "execution_count": 20,
     "metadata": {},
     "output_type": "execute_result"
    },
    {
     "data": {
      "image/png": "[encoded data removed]",
      "text/plain": [
       "<Figure size 432x288 with 1 Axes>"
      ]
     },
     "metadata": {
      "needs_background": "light"
     },
     "output_type": "display_data"
    }
   ],
   "source": [
    "sns.lineplot(x=\"location\", y=\"value\", hue=\"variable\", palette=['darkred', 'darkblue'], data=hnscc_counts_8)\n",
    "plt.axvline(deletion_event)"
   ]
  },
  {
   "cell_type": "code",
   "execution_count": 21,
   "metadata": {},
   "outputs": [
    {
     "data": {
      "text/plain": [
       "<matplotlib.lines.Line2D at 0x1e6db23d1c8>"
      ]
     },
     "execution_count": 21,
     "metadata": {},
     "output_type": "execute_result"
    },
    {
     "data": {
      "image/png": "[encoded data removed]",
      "text/plain": [
       "<Figure size 432x288 with 1 Axes>"
      ]
     },
     "metadata": {
      "needs_background": "light"
     },
     "output_type": "display_data"
    }
   ],
   "source": [
    "sns.lineplot(x=\"location\", y=\"value\", hue=\"variable\", palette=['darkred', 'darkblue'], data=ovarian_counts_8)\n",
    "plt.axvline(deletion_event)"
   ]
  },
  {
   "cell_type": "code",
   "execution_count": 22,
   "metadata": {},
   "outputs": [
    {
     "data": {
      "text/plain": [
       "<matplotlib.lines.Line2D at 0x1e6db2d0688>"
      ]
     },
     "execution_count": 22,
     "metadata": {},
     "output_type": "execute_result"
    },
    {
     "data": {
      "image/png": "[encoded data removed]",
      "text/plain": [
       "<Figure size 432x288 with 1 Axes>"
      ]
     },
     "metadata": {
      "needs_background": "light"
     },
     "output_type": "display_data"
    }
   ],
   "source": [
    "sns.lineplot(x=\"location\", y=\"value\", hue=\"variable\", palette=['darkred', 'darkblue'], data=colon_counts_8)\n",
    "plt.axvline(deletion_event)"
   ]
  },
  {
   "cell_type": "code",
   "execution_count": 23,
   "metadata": {},
   "outputs": [
    {
     "data": {
      "text/plain": [
       "<matplotlib.lines.Line2D at 0x1e6db3541c8>"
      ]
     },
     "execution_count": 23,
     "metadata": {},
     "output_type": "execute_result"
    },
    {
     "data": {
      "image/png": "[encoded data removed]",
      "text/plain": [
       "<Figure size 432x288 with 1 Axes>"
      ]
     },
     "metadata": {
      "needs_background": "light"
     },
     "output_type": "display_data"
    }
   ],
   "source": [
    "sns.lineplot(x=\"location\", y=\"value\", hue=\"variable\", palette=['darkred', 'darkblue'], data=brca_counts_8)\n",
    "plt.axvline(deletion_event)"
   ]
  },
  {
   "cell_type": "code",
   "execution_count": 24,
   "metadata": {},
   "outputs": [
    {
     "data": {
      "text/plain": [
       "<matplotlib.lines.Line2D at 0x1e6db3d4d08>"
      ]
     },
     "execution_count": 24,
     "metadata": {},
     "output_type": "execute_result"
    },
    {
     "data": {
      "image/png": "[encoded data removed]",
      "text/plain": [
       "<Figure size 432x288 with 1 Axes>"
      ]
     },
     "metadata": {
      "needs_background": "light"
     },
     "output_type": "display_data"
    }
   ],
   "source": [
    "sns.lineplot(x=\"location\", y=\"value\", hue=\"variable\", palette=['darkred', 'darkblue'], data=lscc_counts_8)\n",
    "plt.axvline(deletion_event)"
   ]
  },
  {
   "cell_type": "markdown",
   "metadata": {},
   "source": [
    "## Get Genes of Event"
   ]
  },
  {
   "cell_type": "code",
   "execution_count": 25,
   "metadata": {},
   "outputs": [],
   "source": [
    "def calc_percent(row):\n",
    "    values = list(row)\n",
    "    return(len([x for x in values if x <= -0.2]) / len(values))"
   ]
  },
  {
   "cell_type": "code",
   "execution_count": 26,
   "metadata": {},
   "outputs": [],
   "source": [
    "luad_gene_list = list(luad_counts_cleaned_8[luad_counts_cleaned_8.location < deletion_event].index)\n",
    "hnscc_gene_list = list(hnscc_counts_cleaned_8[hnscc_counts_cleaned_8.location < deletion_event].index)\n",
    "ovarian_gene_list = list(ovarian_counts_cleaned_8[ovarian_counts_cleaned_8.location < deletion_event].index)\n",
    "colon_gene_list = list(colon_counts_cleaned_8[colon_counts_cleaned_8.location < deletion_event].index)\n",
    "brca_gene_list = list(brca_counts_cleaned_8[brca_counts_cleaned_8.location < deletion_event].index)\n",
    "lscc_gene_list = list(lscc_counts_cleaned_8[lscc_counts_cleaned_8.location < deletion_event].index)"
   ]
  },
  {
   "cell_type": "code",
   "execution_count": 27,
   "metadata": {},
   "outputs": [
    {
     "data": {
      "text/plain": [
       "186"
      ]
     },
     "execution_count": 27,
     "metadata": {},
     "output_type": "execute_result"
    }
   ],
   "source": [
    "len(list(luad_gene_list))"
   ]
  },
  {
   "cell_type": "code",
   "execution_count": 28,
   "metadata": {},
   "outputs": [],
   "source": [
    "luad_df_before_event = luad_cnv[luad_gene_list]\n",
    "hnscc_df_before_event = hnscc_cnv[hnscc_gene_list]\n",
    "ovarian_df_before_event = ovarian_cnv[ovarian_gene_list]\n",
    "colon_df_before_event = colon_cnv[colon_gene_list]\n",
    "brca_df_before_event = brca_cnv[brca_gene_list]\n",
    "lscc_df_before_event = lscc_cnv[lscc_gene_list]"
   ]
  },
  {
   "cell_type": "code",
   "execution_count": 29,
   "metadata": {},
   "outputs": [
    {
     "name": "stderr",
     "output_type": "stream",
     "text": [
      "C:\\Users\\chels\\anaconda3\\lib\\site-packages\\ipykernel_launcher.py:1: SettingWithCopyWarning: \n",
      "A value is trying to be set on a copy of a slice from a DataFrame.\n",
      "Try using .loc[row_indexer,col_indexer] = value instead\n",
      "\n",
      "See the caveats in the documentation: https://pandas.pydata.org/pandas-docs/stable/user_guide/indexing.html#returning-a-view-versus-a-copy\n",
      "  \"\"\"Entry point for launching an IPython kernel.\n",
      "C:\\Users\\chels\\anaconda3\\lib\\site-packages\\ipykernel_launcher.py:2: SettingWithCopyWarning: \n",
      "A value is trying to be set on a copy of a slice from a DataFrame.\n",
      "Try using .loc[row_indexer,col_indexer] = value instead\n",
      "\n",
      "See the caveats in the documentation: https://pandas.pydata.org/pandas-docs/stable/user_guide/indexing.html#returning-a-view-versus-a-copy\n",
      "  \n",
      "C:\\Users\\chels\\anaconda3\\lib\\site-packages\\ipykernel_launcher.py:3: SettingWithCopyWarning: \n",
      "A value is trying to be set on a copy of a slice from a DataFrame.\n",
      "Try using .loc[row_indexer,col_indexer] = value instead\n",
      "\n",
      "See the caveats in the documentation: https://pandas.pydata.org/pandas-docs/stable/user_guide/indexing.html#returning-a-view-versus-a-copy\n",
      "  This is separate from the ipykernel package so we can avoid doing imports until\n",
      "C:\\Users\\chels\\anaconda3\\lib\\site-packages\\ipykernel_launcher.py:4: SettingWithCopyWarning: \n",
      "A value is trying to be set on a copy of a slice from a DataFrame.\n",
      "Try using .loc[row_indexer,col_indexer] = value instead\n",
      "\n",
      "See the caveats in the documentation: https://pandas.pydata.org/pandas-docs/stable/user_guide/indexing.html#returning-a-view-versus-a-copy\n",
      "  after removing the cwd from sys.path.\n",
      "C:\\Users\\chels\\anaconda3\\lib\\site-packages\\ipykernel_launcher.py:5: SettingWithCopyWarning: \n",
      "A value is trying to be set on a copy of a slice from a DataFrame.\n",
      "Try using .loc[row_indexer,col_indexer] = value instead\n",
      "\n",
      "See the caveats in the documentation: https://pandas.pydata.org/pandas-docs/stable/user_guide/indexing.html#returning-a-view-versus-a-copy\n",
      "  \"\"\"\n",
      "C:\\Users\\chels\\anaconda3\\lib\\site-packages\\ipykernel_launcher.py:6: SettingWithCopyWarning: \n",
      "A value is trying to be set on a copy of a slice from a DataFrame.\n",
      "Try using .loc[row_indexer,col_indexer] = value instead\n",
      "\n",
      "See the caveats in the documentation: https://pandas.pydata.org/pandas-docs/stable/user_guide/indexing.html#returning-a-view-versus-a-copy\n",
      "  \n"
     ]
    }
   ],
   "source": [
    "luad_df_before_event['percent'] = luad_df_before_event.apply(calc_percent, axis=1)\n",
    "hnscc_df_before_event['percent'] = hnscc_df_before_event.apply(calc_percent, axis=1)\n",
    "ovarian_df_before_event['percent'] = ovarian_df_before_event.apply(calc_percent, axis=1)\n",
    "colon_df_before_event['percent'] = colon_df_before_event.apply(calc_percent, axis=1)\n",
    "brca_df_before_event['percent'] = brca_df_before_event.apply(calc_percent, axis=1)\n",
    "lscc_df_before_event['percent'] = lscc_df_before_event.apply(calc_percent, axis=1)"
   ]
  },
  {
   "cell_type": "markdown",
   "metadata": {},
   "source": [
    "## Group Samples"
   ]
  },
  {
   "cell_type": "code",
   "execution_count": 30,
   "metadata": {},
   "outputs": [],
   "source": [
    "luad_has_event = list(luad_df_before_event[luad_df_before_event.percent > .8].index)\n",
    "hnscc_has_event = list(hnscc_df_before_event[hnscc_df_before_event.percent > .8].index)\n",
    "ovarian_has_event = list(ovarian_df_before_event[ovarian_df_before_event.percent > .8].index)\n",
    "colon_has_event = list(colon_df_before_event[colon_df_before_event.percent > .8].index)\n",
    "brca_has_event = list(brca_df_before_event[brca_df_before_event.percent > .8].index)\n",
    "lscc_has_event = list(lscc_df_before_event[lscc_df_before_event.percent > .8].index)"
   ]
  },
  {
   "cell_type": "code",
   "execution_count": 31,
   "metadata": {},
   "outputs": [],
   "source": [
    "luad_no_event = [x for x in luad_df_before_event.index if x not in luad_has_event]\n",
    "hnscc_no_event = [x for x in hnscc_df_before_event.index if x not in hnscc_has_event]\n",
    "ovarian_no_event = [x for x in ovarian_df_before_event.index if x not in ovarian_has_event]\n",
    "colon_no_event = [x for x in colon_df_before_event.index if x not in colon_has_event]\n",
    "brca_no_event = [x for x in brca_df_before_event.index if x not in brca_has_event]\n",
    "lscc_no_event = [x for x in lscc_df_before_event.index if x not in lscc_has_event]"
   ]
  },
  {
   "cell_type": "code",
   "execution_count": 32,
   "metadata": {},
   "outputs": [],
   "source": [
    "gene_lists = {'LUAD': {'has_event': luad_has_event, 'no_event': luad_no_event},\n",
    "             'HNSCC': {'has_event': hnscc_has_event, 'no_event': hnscc_no_event},\n",
    "             'OVARIAN': {'has_event': ovarian_has_event, 'no_event': ovarian_no_event},\n",
    "             'COLON': {'has_event': colon_has_event, 'no_event': colon_no_event},\n",
    "             'BRCA': {'has_event': brca_has_event, 'no_event': brca_no_event},\n",
    "             'LSCC': {'has_event': lscc_has_event, 'no_event': lscc_no_event}}"
   ]
  },
  {
   "cell_type": "code",
   "execution_count": 33,
   "metadata": {},
   "outputs": [
    {
     "name": "stdout",
     "output_type": "stream",
     "text": [
      "LUAD\n",
      "Yes 34 No 75\n",
      "HNSCC\n",
      "Yes 30 No 79\n",
      "OVARIAN\n",
      "Yes 51 No 49\n",
      "COLON\n",
      "Yes 41 No 64\n",
      "BRCA\n",
      "Yes 57 No 65\n",
      "LSCC\n",
      "Yes 70 No 38\n"
     ]
    }
   ],
   "source": [
    "print(\"LUAD\")\n",
    "print(\"Yes\", len(luad_has_event), \"No\", len(luad_no_event))\n",
    "print(\"HNSCC\")\n",
    "print(\"Yes\", len(hnscc_has_event), \"No\", len(hnscc_no_event))\n",
    "print(\"OVARIAN\")\n",
    "print(\"Yes\", len(ovarian_has_event), \"No\", len(ovarian_no_event))\n",
    "print(\"COLON\")\n",
    "print(\"Yes\", len(colon_has_event), \"No\", len(colon_no_event))\n",
    "print(\"BRCA\")\n",
    "print(\"Yes\", len(brca_has_event), \"No\", len(brca_no_event))\n",
    "print(\"LSCC\")\n",
    "print(\"Yes\", len(lscc_has_event), \"No\", len(lscc_no_event))"
   ]
  },
  {
   "cell_type": "markdown",
   "metadata": {},
   "source": [
    "## Run T Tests"
   ]
  },
  {
   "cell_type": "code",
   "execution_count": 34,
   "metadata": {},
   "outputs": [],
   "source": [
    "def t_test(col, cancer):\n",
    "    has_ev = col[col.index.isin(gene_lists[cancer]['has_event'])]\n",
    "    no_ev = col[col.index.isin(gene_lists[cancer]['no_event'])]\n",
    "    return stats.ttest_ind(has_ev, no_ev)"
   ]
  },
  {
   "cell_type": "code",
   "execution_count": 35,
   "metadata": {},
   "outputs": [
    {
     "name": "stderr",
     "output_type": "stream",
     "text": [
      "C:\\Users\\chels\\anaconda3\\lib\\site-packages\\scipy\\stats\\_distn_infrastructure.py:903: RuntimeWarning: invalid value encountered in greater\n",
      "  return (a < x) & (x < b)\n",
      "C:\\Users\\chels\\anaconda3\\lib\\site-packages\\scipy\\stats\\_distn_infrastructure.py:903: RuntimeWarning: invalid value encountered in less\n",
      "  return (a < x) & (x < b)\n",
      "C:\\Users\\chels\\anaconda3\\lib\\site-packages\\scipy\\stats\\_distn_infrastructure.py:1912: RuntimeWarning: invalid value encountered in less_equal\n",
      "  cond2 = cond0 & (x <= _a)\n"
     ]
    }
   ],
   "source": [
    "luad_t_test = luad_mrna.apply(lambda x: t_test(x, \"LUAD\")).transpose()\n",
    "hnscc_t_test = hnscc_mrna.apply(lambda x: t_test(x, \"HNSCC\")).transpose()\n",
    "ovarian_t_test = ovarian_mrna.apply(lambda x: t_test(x, \"OVARIAN\")).transpose()\n",
    "colon_t_test = colon_mrna.apply(lambda x: t_test(x, \"COLON\")).transpose()\n",
    "brca_t_test = brca_mrna.apply(lambda x: t_test(x, \"BRCA\")).transpose()\n",
    "lscc_t_test = lscc_mrna.apply(lambda x: t_test(x, \"LSCC\")).transpose()"
   ]
  },
  {
   "cell_type": "code",
   "execution_count": 36,
   "metadata": {},
   "outputs": [
    {
     "data": {
      "text/plain": [
       "Name\n",
       "A1BG                                        (nan, nan)\n",
       "A1BG-AS1      (-0.351355698847417, 0.7260189383642932)\n",
       "A1CF                                        (nan, nan)\n",
       "A2M           (1.677533016887042, 0.09638468879133257)\n",
       "A2M-AS1      (0.42922420917622317, 0.6686312058083163)\n",
       "                               ...                    \n",
       "ZYG11A       (1.2779340095810894, 0.20406418519231448)\n",
       "ZYG11B      (-0.26374231006919385, 0.7924905364978423)\n",
       "ZYX           (0.3349184407462194, 0.7383484643404112)\n",
       "ZZEF1       (-1.4563328121893235, 0.14825633418594125)\n",
       "ZZZ3        (-0.31250501372362965, 0.7552707046386884)\n",
       "Length: 21792, dtype: object"
      ]
     },
     "execution_count": 36,
     "metadata": {},
     "output_type": "execute_result"
    }
   ],
   "source": [
    "lscc_t_test"
   ]
  },
  {
   "cell_type": "code",
   "execution_count": 37,
   "metadata": {},
   "outputs": [],
   "source": [
    "hnscc_t_test = hnscc_t_test.to_frame()\n",
    "hnscc_t_test['hnscc_stat'] = [x[0] for x in hnscc_t_test[0]]\n",
    "hnscc_t_test['hnscc_pvalue'] = [x[1] for x in hnscc_t_test[0]]"
   ]
  },
  {
   "cell_type": "code",
   "execution_count": 38,
   "metadata": {},
   "outputs": [],
   "source": [
    "colon_t_test = colon_t_test.to_frame()\n",
    "colon_t_test['colon_stat'] = [x[0] for x in colon_t_test[0]]\n",
    "colon_t_test['colon_pvalue'] = [x[1] for x in colon_t_test[0]]"
   ]
  },
  {
   "cell_type": "code",
   "execution_count": 39,
   "metadata": {},
   "outputs": [],
   "source": [
    "luad_t_test = luad_t_test.to_frame()\n",
    "luad_t_test['luad_stat'] = [x[0] for x in luad_t_test[0]]\n",
    "luad_t_test['luad_pvalue'] = [x[1] for x in luad_t_test[0]]"
   ]
  },
  {
   "cell_type": "code",
   "execution_count": 40,
   "metadata": {},
   "outputs": [],
   "source": [
    "ovarian_t_test = ovarian_t_test.to_frame()\n",
    "ovarian_t_test['ovarian_stat'] = [x[0] for x in ovarian_t_test[0]]\n",
    "ovarian_t_test['ovarian_pvalue'] = [x[1] for x in ovarian_t_test[0]]"
   ]
  },
  {
   "cell_type": "code",
   "execution_count": 41,
   "metadata": {},
   "outputs": [],
   "source": [
    "brca_t_test = brca_t_test.to_frame()\n",
    "brca_t_test['brca_stat'] = [x[0] for x in brca_t_test[0]]\n",
    "brca_t_test['brca_pvalue'] = [x[1] for x in brca_t_test[0]]"
   ]
  },
  {
   "cell_type": "code",
   "execution_count": 42,
   "metadata": {},
   "outputs": [],
   "source": [
    "lscc_t_test = lscc_t_test.to_frame()\n",
    "lscc_t_test['lscc_stat'] = [x[0] for x in lscc_t_test[0]]\n",
    "lscc_t_test['lscc_pvalue'] = [x[1] for x in lscc_t_test[0]]"
   ]
  },
  {
   "cell_type": "code",
   "execution_count": 43,
   "metadata": {},
   "outputs": [],
   "source": [
    "# luad_t_test = luad_t_test.rename(columns={0:\"luad_stat\", 1:\"luad_pvalue\"})\n",
    "# ovarian_t_test = ovarian_t_test.rename(columns={0:\"ovarian_stat\", 1:\"ovarian_pvalue\"})\n",
    "# brca_t_test = brca_t_test.rename(columns={0:\"brca_stat\", 1:\"brca_pvalue\"})\n",
    "# lscc_t_test = lscc_t_test.rename(columns={0:\"lscc_stat\", 1:\"lscc_pvalue\"})"
   ]
  },
  {
   "cell_type": "code",
   "execution_count": 44,
   "metadata": {},
   "outputs": [],
   "source": [
    "colon_t_test = colon_t_test.drop([0], axis=1)\n",
    "hnscc_t_test = hnscc_t_test.drop([0], axis=1)\n",
    "brca_t_test = brca_t_test.drop([0], axis=1)\n",
    "lscc_t_test = lscc_t_test.drop([0], axis=1)\n",
    "ovarian_t_test = ovarian_t_test.drop([0], axis=1)\n",
    "luad_t_test = luad_t_test.drop([0], axis=1)"
   ]
  },
  {
   "cell_type": "code",
   "execution_count": 45,
   "metadata": {},
   "outputs": [],
   "source": [
    "# # Rename the database_id in the tables with multiindex\n",
    "# luad_t_test.index = luad_t_test.index.rename(\"Database_ID_Luad\", level=1)\n",
    "# ovarian_t_test.index = ovarian_t_test.index.rename(\"Database_ID_Ovarian\", level=1)\n",
    "# brca_t_test.index = brca_t_test.index.rename(\"Database_ID_Brca\", level=1)\n",
    "# lscc_t_test.index = lscc_t_test.index.rename(\"Database_ID_Lscc\", level=1)"
   ]
  },
  {
   "cell_type": "code",
   "execution_count": 46,
   "metadata": {},
   "outputs": [
    {
     "data": {
      "text/html": [
       "<div>\n",
       "<style scoped>\n",
       "    .dataframe tbody tr th:only-of-type {\n",
       "        vertical-align: middle;\n",
       "    }\n",
       "\n",
       "    .dataframe tbody tr th {\n",
       "        vertical-align: top;\n",
       "    }\n",
       "\n",
       "    .dataframe thead th {\n",
       "        text-align: right;\n",
       "    }\n",
       "</style>\n",
       "<table border=\"1\" class=\"dataframe\">\n",
       "  <thead>\n",
       "    <tr style=\"text-align: right;\">\n",
       "      <th></th>\n",
       "      <th>luad_stat</th>\n",
       "      <th>luad_pvalue</th>\n",
       "    </tr>\n",
       "    <tr>\n",
       "      <th>Name</th>\n",
       "      <th></th>\n",
       "      <th></th>\n",
       "    </tr>\n",
       "  </thead>\n",
       "  <tbody>\n",
       "    <tr>\n",
       "      <th>A1BG</th>\n",
       "      <td>2.418173</td>\n",
       "      <td>0.017288</td>\n",
       "    </tr>\n",
       "    <tr>\n",
       "      <th>A1CF</th>\n",
       "      <td>-1.189443</td>\n",
       "      <td>0.236898</td>\n",
       "    </tr>\n",
       "    <tr>\n",
       "      <th>A2M</th>\n",
       "      <td>-0.827077</td>\n",
       "      <td>0.410034</td>\n",
       "    </tr>\n",
       "    <tr>\n",
       "      <th>A2ML1</th>\n",
       "      <td>-0.323652</td>\n",
       "      <td>0.746833</td>\n",
       "    </tr>\n",
       "    <tr>\n",
       "      <th>A3GALT2</th>\n",
       "      <td>NaN</td>\n",
       "      <td>NaN</td>\n",
       "    </tr>\n",
       "    <tr>\n",
       "      <th>...</th>\n",
       "      <td>...</td>\n",
       "      <td>...</td>\n",
       "    </tr>\n",
       "    <tr>\n",
       "      <th>ZYG11A</th>\n",
       "      <td>2.262158</td>\n",
       "      <td>0.025708</td>\n",
       "    </tr>\n",
       "    <tr>\n",
       "      <th>ZYG11B</th>\n",
       "      <td>3.929396</td>\n",
       "      <td>0.000151</td>\n",
       "    </tr>\n",
       "    <tr>\n",
       "      <th>ZYX</th>\n",
       "      <td>-0.514129</td>\n",
       "      <td>0.608222</td>\n",
       "    </tr>\n",
       "    <tr>\n",
       "      <th>ZZEF1</th>\n",
       "      <td>-1.223370</td>\n",
       "      <td>0.223877</td>\n",
       "    </tr>\n",
       "    <tr>\n",
       "      <th>ZZZ3</th>\n",
       "      <td>-0.569672</td>\n",
       "      <td>0.570094</td>\n",
       "    </tr>\n",
       "  </tbody>\n",
       "</table>\n",
       "<p>18099 rows × 2 columns</p>\n",
       "</div>"
      ],
      "text/plain": [
       "         luad_stat  luad_pvalue\n",
       "Name                           \n",
       "A1BG      2.418173     0.017288\n",
       "A1CF     -1.189443     0.236898\n",
       "A2M      -0.827077     0.410034\n",
       "A2ML1    -0.323652     0.746833\n",
       "A3GALT2        NaN          NaN\n",
       "...            ...          ...\n",
       "ZYG11A    2.262158     0.025708\n",
       "ZYG11B    3.929396     0.000151\n",
       "ZYX      -0.514129     0.608222\n",
       "ZZEF1    -1.223370     0.223877\n",
       "ZZZ3     -0.569672     0.570094\n",
       "\n",
       "[18099 rows x 2 columns]"
      ]
     },
     "execution_count": 46,
     "metadata": {},
     "output_type": "execute_result"
    }
   ],
   "source": [
    "luad_t_test"
   ]
  },
  {
   "cell_type": "code",
   "execution_count": 47,
   "metadata": {},
   "outputs": [],
   "source": [
    "results = colon_t_test.join(brca_t_test).join(luad_t_test).join(hnscc_t_test).join(ovarian_t_test).join(lscc_t_test)"
   ]
  },
  {
   "cell_type": "code",
   "execution_count": 48,
   "metadata": {
    "scrolled": true
   },
   "outputs": [],
   "source": [
    "results_with_loc = add_chromo_and_loc(results)"
   ]
  },
  {
   "cell_type": "code",
   "execution_count": 49,
   "metadata": {},
   "outputs": [],
   "source": [
    "def outside_event(x):\n",
    "    a = x['chromo'] != '8'\n",
    "    b = x['location'] > deletion_event\n",
    "    return a|b"
   ]
  },
  {
   "cell_type": "code",
   "execution_count": 50,
   "metadata": {},
   "outputs": [],
   "source": [
    "results_trans = results_with_loc[results_with_loc.apply(lambda x: outside_event(x), axis=1)]"
   ]
  },
  {
   "cell_type": "code",
   "execution_count": 51,
   "metadata": {},
   "outputs": [],
   "source": [
    "luad_trans_proteins = list(set(results_trans[results_trans.luad_pvalue <= 0.05].index.get_level_values(0)))\n",
    "ovarian_trans_proteins = list(set(results_trans[results_trans.ovarian_pvalue <= 0.05].index.get_level_values(0)))\n",
    "hnscc_trans_proteins = list(set(results_trans[results_trans.hnscc_pvalue <= 0.05].index.get_level_values(0)))\n",
    "colon_trans_proteins = list(set(results_trans[results_trans.colon_pvalue <= 0.05].index.get_level_values(0)))\n",
    "brca_trans_proteins = list(set(results_trans[results_trans.brca_pvalue <= 0.05].index.get_level_values(0)))\n",
    "lscc_trans_proteins = list(set(results_trans[results_trans.lscc_pvalue <= 0.05].index.get_level_values(0)))"
   ]
  },
  {
   "cell_type": "code",
   "execution_count": 52,
   "metadata": {},
   "outputs": [],
   "source": [
    "luad_proteins = list(set(luad_t_test[luad_t_test.luad_pvalue < 0.05].index.get_level_values(0)))\n",
    "hnscc_proteins = list(set(hnscc_t_test[hnscc_t_test.hnscc_pvalue < 0.05].index.get_level_values(0)))\n",
    "ovarian_proteins = list(set(ovarian_t_test[ovarian_t_test.ovarian_pvalue < 0.05].index.get_level_values(0)))\n",
    "colon_proteins = list(set(colon_t_test[colon_t_test.colon_pvalue < 0.05].index.get_level_values(0)))\n",
    "brca_proteins = list(set(brca_t_test[brca_t_test.brca_pvalue < 0.05].index.get_level_values(0)))\n",
    "lscc_proteins = list(set(lscc_t_test[lscc_t_test.lscc_pvalue < 0.05].index.get_level_values(0)))"
   ]
  },
  {
   "cell_type": "code",
   "execution_count": 53,
   "metadata": {},
   "outputs": [],
   "source": [
    "aliases = ['MYC', 'CMYC', 'MYCC', \"MRTL\", 'BHLHE39']"
   ]
  },
  {
   "cell_type": "code",
   "execution_count": 54,
   "metadata": {},
   "outputs": [
    {
     "ename": "NameError",
     "evalue": "name 'luad_prot' is not defined",
     "output_type": "error",
     "traceback": [
      "\u001b[1;31m---------------------------------------------------------------------------\u001b[0m",
      "\u001b[1;31mNameError\u001b[0m                                 Traceback (most recent call last)",
      "\u001b[1;32m<ipython-input-54-22483351c0f1>\u001b[0m in \u001b[0;36m<module>\u001b[1;34m\u001b[0m\n\u001b[1;32m----> 1\u001b[1;33m \u001b[0mluad_prot\u001b[0m\u001b[1;33m[\u001b[0m\u001b[0mluad_prot\u001b[0m\u001b[1;33m.\u001b[0m\u001b[0mcolumns\u001b[0m\u001b[1;33m[\u001b[0m\u001b[0mluad_prot\u001b[0m\u001b[1;33m.\u001b[0m\u001b[0mcolumns\u001b[0m\u001b[1;33m.\u001b[0m\u001b[0mget_level_values\u001b[0m\u001b[1;33m(\u001b[0m\u001b[1;36m0\u001b[0m\u001b[1;33m)\u001b[0m\u001b[1;33m.\u001b[0m\u001b[0mstr\u001b[0m\u001b[1;33m.\u001b[0m\u001b[0mstartswith\u001b[0m\u001b[1;33m(\u001b[0m\u001b[1;34m'MYC'\u001b[0m\u001b[1;33m)\u001b[0m\u001b[1;33m]\u001b[0m\u001b[1;33m]\u001b[0m\u001b[1;33m.\u001b[0m\u001b[0mcolumns\u001b[0m\u001b[1;33m.\u001b[0m\u001b[0mget_level_values\u001b[0m\u001b[1;33m(\u001b[0m\u001b[1;36m0\u001b[0m\u001b[1;33m)\u001b[0m\u001b[1;33m\u001b[0m\u001b[1;33m\u001b[0m\u001b[0m\n\u001b[0m",
      "\u001b[1;31mNameError\u001b[0m: name 'luad_prot' is not defined"
     ]
    }
   ],
   "source": [
    "luad_prot[luad_prot.columns[luad_prot.columns.get_level_values(0).str.startswith('MYC')]].columns.get_level_values(0)"
   ]
  },
  {
   "cell_type": "code",
   "execution_count": 60,
   "metadata": {},
   "outputs": [],
   "source": [
    "def CountFrequency(my_list): \n",
    "  \"\"\"\n",
    "  Counts the frequency of the gene in the given list.\n",
    "  Returns a list of genes that appeared 3 or more times.\n",
    "  \"\"\"\n",
    "  freq = {} \n",
    "  for items in my_list: \n",
    "      freq[items] = my_list.count(items) \n",
    "  sig = []\n",
    "  for key, value in freq.items(): \n",
    "    if value > 5:\n",
    "        print(key, value)\n",
    "        sig.append(key)\n",
    "  return sig"
   ]
  },
  {
   "cell_type": "code",
   "execution_count": 61,
   "metadata": {},
   "outputs": [
    {
     "name": "stdout",
     "output_type": "stream",
     "text": [
      "DCTN6 6\n",
      "WRN 6\n",
      "MFHAS1 6\n",
      "EXTL3 6\n",
      "VPS37A 6\n",
      "TNKS 6\n",
      "MSRA 6\n",
      "HMBOX1 6\n",
      "BNIP3L 6\n",
      "TNFRSF10B 6\n",
      "ERICH1 6\n",
      "FUT10 6\n",
      "PCM1 6\n",
      "PINX1 6\n",
      "CCAR2 6\n",
      "GNRH1 6\n",
      "AGPAT5 6\n",
      "LEPROTL1 6\n",
      "INTS10 6\n",
      "BIN3 6\n",
      "FAM160B2 6\n",
      "TRIM35 6\n",
      "INTS9 6\n",
      "MTUS1 6\n",
      "XPO7 6\n",
      "KCTD9 6\n",
      "FBXO25 6\n",
      "MTMR9 6\n",
      "ESCO2 6\n",
      "PPP2CB 6\n",
      "DOCK5 6\n",
      "CLN8 6\n",
      "FZD3 6\n",
      "CCDC25 6\n",
      "ERI1 6\n",
      "CNOT7 6\n",
      "ELP3 6\n",
      "POLR3D 6\n",
      "GTF2E2 6\n",
      "PPP2R2A 6\n",
      "LONRF1 6\n"
     ]
    }
   ],
   "source": [
    "common_proteins = CountFrequency(luad_proteins +\n",
    "                                hnscc_proteins +\n",
    "                                ovarian_proteins +\n",
    "                                colon_proteins +\n",
    "                                brca_proteins +\n",
    "                                lscc_proteins)"
   ]
  },
  {
   "cell_type": "code",
   "execution_count": 57,
   "metadata": {},
   "outputs": [
    {
     "name": "stdout",
     "output_type": "stream",
     "text": [
      "WRN 6\n",
      "FUT10 6\n",
      "MAK16 5\n",
      "UBR5 5\n"
     ]
    }
   ],
   "source": [
    "common_trans_proteins = CountFrequency(luad_trans_proteins +\n",
    "                                hnscc_trans_proteins +\n",
    "                                ovarian_trans_proteins +\n",
    "                                colon_trans_proteins +\n",
    "                                brca_trans_proteins +\n",
    "                                lscc_trans_proteins)"
   ]
  },
  {
   "cell_type": "code",
   "execution_count": 62,
   "metadata": {},
   "outputs": [
    {
     "name": "stdout",
     "output_type": "stream",
     "text": [
      "['WRN', 'FUT10', 'MAK16', 'UBR5']\n"
     ]
    }
   ],
   "source": [
    "print(common_trans_proteins)"
   ]
  },
  {
   "cell_type": "code",
   "execution_count": 59,
   "metadata": {},
   "outputs": [
    {
     "data": {
      "text/html": [
       "<div>\n",
       "<style scoped>\n",
       "    .dataframe tbody tr th:only-of-type {\n",
       "        vertical-align: middle;\n",
       "    }\n",
       "\n",
       "    .dataframe tbody tr th {\n",
       "        vertical-align: top;\n",
       "    }\n",
       "\n",
       "    .dataframe thead th {\n",
       "        text-align: right;\n",
       "    }\n",
       "</style>\n",
       "<table border=\"1\" class=\"dataframe\">\n",
       "  <thead>\n",
       "    <tr style=\"text-align: right;\">\n",
       "      <th></th>\n",
       "      <th>lscc_stat</th>\n",
       "      <th>lscc_pvalue</th>\n",
       "    </tr>\n",
       "    <tr>\n",
       "      <th>Name</th>\n",
       "      <th></th>\n",
       "      <th></th>\n",
       "    </tr>\n",
       "  </thead>\n",
       "  <tbody>\n",
       "    <tr>\n",
       "      <th>CCAR2</th>\n",
       "      <td>-7.548883</td>\n",
       "      <td>1.609025e-11</td>\n",
       "    </tr>\n",
       "    <tr>\n",
       "      <th>CNOT7</th>\n",
       "      <td>-7.614278</td>\n",
       "      <td>1.160483e-11</td>\n",
       "    </tr>\n",
       "    <tr>\n",
       "      <th>KCTD9</th>\n",
       "      <td>-8.221667</td>\n",
       "      <td>5.402654e-13</td>\n",
       "    </tr>\n",
       "    <tr>\n",
       "      <th>MCPH1</th>\n",
       "      <td>-6.927254</td>\n",
       "      <td>3.447831e-10</td>\n",
       "    </tr>\n",
       "    <tr>\n",
       "      <th>PPP2R2A</th>\n",
       "      <td>-7.987196</td>\n",
       "      <td>1.776378e-12</td>\n",
       "    </tr>\n",
       "    <tr>\n",
       "      <th>TNKS</th>\n",
       "      <td>-8.632623</td>\n",
       "      <td>6.605872e-14</td>\n",
       "    </tr>\n",
       "    <tr>\n",
       "      <th>VPS37A</th>\n",
       "      <td>-8.294448</td>\n",
       "      <td>3.728596e-13</td>\n",
       "    </tr>\n",
       "    <tr>\n",
       "      <th>XPO7</th>\n",
       "      <td>-8.386921</td>\n",
       "      <td>2.325568e-13</td>\n",
       "    </tr>\n",
       "  </tbody>\n",
       "</table>\n",
       "</div>"
      ],
      "text/plain": [
       "         lscc_stat   lscc_pvalue\n",
       "Name                            \n",
       "CCAR2    -7.548883  1.609025e-11\n",
       "CNOT7    -7.614278  1.160483e-11\n",
       "KCTD9    -8.221667  5.402654e-13\n",
       "MCPH1    -6.927254  3.447831e-10\n",
       "PPP2R2A  -7.987196  1.776378e-12\n",
       "TNKS     -8.632623  6.605872e-14\n",
       "VPS37A   -8.294448  3.728596e-13\n",
       "XPO7     -8.386921  2.325568e-13"
      ]
     },
     "execution_count": 59,
     "metadata": {},
     "output_type": "execute_result"
    }
   ],
   "source": [
    "lscc_t_test[lscc_t_test.lscc_pvalue < 0.0000000005]"
   ]
  },
  {
   "cell_type": "code",
   "execution_count": 63,
   "metadata": {},
   "outputs": [],
   "source": [
    "def all_low_pvalues(row):\n",
    "    return ((row['luad_pvalue'] < 0.1) & (row['ovarian_pvalue'] < 0.1) & (row['hnscc_pvalue'] < 0.1) & (row['colon_pvalue'] < 0.1) & (row['brca_pvalue'] < 0.1) & (row['lscc_pvalue'] < 0.1))"
   ]
  },
  {
   "cell_type": "code",
   "execution_count": 64,
   "metadata": {},
   "outputs": [],
   "source": [
    "common_low_pvalues = results[results.apply(lambda x: all_low_pvalues(x), axis=1)]"
   ]
  },
  {
   "cell_type": "code",
   "execution_count": 70,
   "metadata": {},
   "outputs": [],
   "source": [
    "common_low_pvalues_trans = results_trans[results_trans.apply(lambda x: all_low_pvalues(x), axis=1)]"
   ]
  },
  {
   "cell_type": "code",
   "execution_count": 71,
   "metadata": {},
   "outputs": [
    {
     "data": {
      "text/html": [
       "<div>\n",
       "<style scoped>\n",
       "    .dataframe tbody tr th:only-of-type {\n",
       "        vertical-align: middle;\n",
       "    }\n",
       "\n",
       "    .dataframe tbody tr th {\n",
       "        vertical-align: top;\n",
       "    }\n",
       "\n",
       "    .dataframe thead th {\n",
       "        text-align: right;\n",
       "    }\n",
       "</style>\n",
       "<table border=\"1\" class=\"dataframe\">\n",
       "  <thead>\n",
       "    <tr style=\"text-align: right;\">\n",
       "      <th></th>\n",
       "      <th>colon_stat</th>\n",
       "      <th>colon_pvalue</th>\n",
       "      <th>brca_stat</th>\n",
       "      <th>brca_pvalue</th>\n",
       "      <th>luad_stat</th>\n",
       "      <th>luad_pvalue</th>\n",
       "      <th>hnscc_stat</th>\n",
       "      <th>hnscc_pvalue</th>\n",
       "      <th>ovarian_stat</th>\n",
       "      <th>ovarian_pvalue</th>\n",
       "      <th>lscc_stat</th>\n",
       "      <th>lscc_pvalue</th>\n",
       "      <th>chromo</th>\n",
       "      <th>location</th>\n",
       "    </tr>\n",
       "    <tr>\n",
       "      <th>Name</th>\n",
       "      <th></th>\n",
       "      <th></th>\n",
       "      <th></th>\n",
       "      <th></th>\n",
       "      <th></th>\n",
       "      <th></th>\n",
       "      <th></th>\n",
       "      <th></th>\n",
       "      <th></th>\n",
       "      <th></th>\n",
       "      <th></th>\n",
       "      <th></th>\n",
       "      <th></th>\n",
       "      <th></th>\n",
       "    </tr>\n",
       "  </thead>\n",
       "  <tbody>\n",
       "    <tr>\n",
       "      <th>FUT10</th>\n",
       "      <td>-6.153401</td>\n",
       "      <td>1.468927e-08</td>\n",
       "      <td>-2.414464</td>\n",
       "      <td>0.017268</td>\n",
       "      <td>-3.676453</td>\n",
       "      <td>0.000372</td>\n",
       "      <td>-2.546854</td>\n",
       "      <td>0.012320</td>\n",
       "      <td>-4.397838</td>\n",
       "      <td>2.779514e-05</td>\n",
       "      <td>-4.182389</td>\n",
       "      <td>5.960186e-05</td>\n",
       "      <td>8</td>\n",
       "      <td>33421985.0</td>\n",
       "    </tr>\n",
       "    <tr>\n",
       "      <th>MAK16</th>\n",
       "      <td>-4.933955</td>\n",
       "      <td>3.107880e-06</td>\n",
       "      <td>-3.475751</td>\n",
       "      <td>0.000710</td>\n",
       "      <td>-4.836590</td>\n",
       "      <td>0.000004</td>\n",
       "      <td>-1.947713</td>\n",
       "      <td>0.054119</td>\n",
       "      <td>-5.931521</td>\n",
       "      <td>4.518634e-08</td>\n",
       "      <td>-3.329330</td>\n",
       "      <td>1.198167e-03</td>\n",
       "      <td>8</td>\n",
       "      <td>33493222.0</td>\n",
       "    </tr>\n",
       "    <tr>\n",
       "      <th>WRN</th>\n",
       "      <td>-7.411621</td>\n",
       "      <td>3.599425e-11</td>\n",
       "      <td>-3.422805</td>\n",
       "      <td>0.000848</td>\n",
       "      <td>-5.171049</td>\n",
       "      <td>0.000001</td>\n",
       "      <td>-3.962207</td>\n",
       "      <td>0.000136</td>\n",
       "      <td>-4.806902</td>\n",
       "      <td>5.533885e-06</td>\n",
       "      <td>-5.822394</td>\n",
       "      <td>6.267739e-08</td>\n",
       "      <td>8</td>\n",
       "      <td>31104963.0</td>\n",
       "    </tr>\n",
       "  </tbody>\n",
       "</table>\n",
       "</div>"
      ],
      "text/plain": [
       "       colon_stat  colon_pvalue  brca_stat  brca_pvalue  luad_stat  \\\n",
       "Name                                                                 \n",
       "FUT10   -6.153401  1.468927e-08  -2.414464     0.017268  -3.676453   \n",
       "MAK16   -4.933955  3.107880e-06  -3.475751     0.000710  -4.836590   \n",
       "WRN     -7.411621  3.599425e-11  -3.422805     0.000848  -5.171049   \n",
       "\n",
       "       luad_pvalue  hnscc_stat  hnscc_pvalue  ovarian_stat  ovarian_pvalue  \\\n",
       "Name                                                                         \n",
       "FUT10     0.000372   -2.546854      0.012320     -4.397838    2.779514e-05   \n",
       "MAK16     0.000004   -1.947713      0.054119     -5.931521    4.518634e-08   \n",
       "WRN       0.000001   -3.962207      0.000136     -4.806902    5.533885e-06   \n",
       "\n",
       "       lscc_stat   lscc_pvalue chromo    location  \n",
       "Name                                               \n",
       "FUT10  -4.182389  5.960186e-05      8  33421985.0  \n",
       "MAK16  -3.329330  1.198167e-03      8  33493222.0  \n",
       "WRN    -5.822394  6.267739e-08      8  31104963.0  "
      ]
     },
     "execution_count": 71,
     "metadata": {},
     "output_type": "execute_result"
    }
   ],
   "source": [
    "common_low_pvalues_trans"
   ]
  },
  {
   "cell_type": "code",
   "execution_count": 65,
   "metadata": {},
   "outputs": [
    {
     "data": {
      "text/html": [
       "<div>\n",
       "<style scoped>\n",
       "    .dataframe tbody tr th:only-of-type {\n",
       "        vertical-align: middle;\n",
       "    }\n",
       "\n",
       "    .dataframe tbody tr th {\n",
       "        vertical-align: top;\n",
       "    }\n",
       "\n",
       "    .dataframe thead th {\n",
       "        text-align: right;\n",
       "    }\n",
       "</style>\n",
       "<table border=\"1\" class=\"dataframe\">\n",
       "  <thead>\n",
       "    <tr style=\"text-align: right;\">\n",
       "      <th></th>\n",
       "      <th>colon_stat</th>\n",
       "      <th>colon_pvalue</th>\n",
       "      <th>brca_stat</th>\n",
       "      <th>brca_pvalue</th>\n",
       "      <th>luad_stat</th>\n",
       "      <th>luad_pvalue</th>\n",
       "      <th>hnscc_stat</th>\n",
       "      <th>hnscc_pvalue</th>\n",
       "      <th>ovarian_stat</th>\n",
       "      <th>ovarian_pvalue</th>\n",
       "      <th>lscc_stat</th>\n",
       "      <th>lscc_pvalue</th>\n",
       "      <th>chromo</th>\n",
       "      <th>location</th>\n",
       "    </tr>\n",
       "    <tr>\n",
       "      <th>Name</th>\n",
       "      <th></th>\n",
       "      <th></th>\n",
       "      <th></th>\n",
       "      <th></th>\n",
       "      <th></th>\n",
       "      <th></th>\n",
       "      <th></th>\n",
       "      <th></th>\n",
       "      <th></th>\n",
       "      <th></th>\n",
       "      <th></th>\n",
       "      <th></th>\n",
       "      <th></th>\n",
       "      <th></th>\n",
       "    </tr>\n",
       "  </thead>\n",
       "  <tbody>\n",
       "    <tr>\n",
       "      <th>AGPAT5</th>\n",
       "      <td>-7.421649</td>\n",
       "      <td>3.426215e-11</td>\n",
       "      <td>-5.086747</td>\n",
       "      <td>1.360894e-06</td>\n",
       "      <td>-4.589340</td>\n",
       "      <td>1.215923e-05</td>\n",
       "      <td>-3.912646</td>\n",
       "      <td>1.623278e-04</td>\n",
       "      <td>-4.370361</td>\n",
       "      <td>3.088570e-05</td>\n",
       "      <td>-5.093940</td>\n",
       "      <td>1.534995e-06</td>\n",
       "      <td>8</td>\n",
       "      <td>6735072.5</td>\n",
       "    </tr>\n",
       "    <tr>\n",
       "      <th>ARHGEF10</th>\n",
       "      <td>-2.829757</td>\n",
       "      <td>5.600982e-03</td>\n",
       "      <td>-5.077841</td>\n",
       "      <td>1.414415e-06</td>\n",
       "      <td>-3.463167</td>\n",
       "      <td>7.687597e-04</td>\n",
       "      <td>-2.040768</td>\n",
       "      <td>4.378276e-02</td>\n",
       "      <td>-1.866983</td>\n",
       "      <td>6.489328e-02</td>\n",
       "      <td>-1.994024</td>\n",
       "      <td>4.871758e-02</td>\n",
       "      <td>8</td>\n",
       "      <td>1891283.5</td>\n",
       "    </tr>\n",
       "    <tr>\n",
       "      <th>ATP6V1B2</th>\n",
       "      <td>-8.413277</td>\n",
       "      <td>2.423213e-13</td>\n",
       "      <td>-5.593413</td>\n",
       "      <td>1.425083e-07</td>\n",
       "      <td>-4.456100</td>\n",
       "      <td>2.062246e-05</td>\n",
       "      <td>-7.425928</td>\n",
       "      <td>3.090071e-11</td>\n",
       "      <td>-3.858517</td>\n",
       "      <td>2.043732e-04</td>\n",
       "      <td>-1.937353</td>\n",
       "      <td>5.536339e-02</td>\n",
       "      <td>8</td>\n",
       "      <td>20212100.0</td>\n",
       "    </tr>\n",
       "    <tr>\n",
       "      <th>BIN3</th>\n",
       "      <td>-8.580938</td>\n",
       "      <td>1.037146e-13</td>\n",
       "      <td>-6.183477</td>\n",
       "      <td>8.953238e-09</td>\n",
       "      <td>-8.680708</td>\n",
       "      <td>4.848687e-14</td>\n",
       "      <td>-5.772889</td>\n",
       "      <td>7.986232e-08</td>\n",
       "      <td>-5.013945</td>\n",
       "      <td>2.372807e-06</td>\n",
       "      <td>-6.000469</td>\n",
       "      <td>2.780428e-08</td>\n",
       "      <td>8</td>\n",
       "      <td>22644783.0</td>\n",
       "    </tr>\n",
       "    <tr>\n",
       "      <th>BNIP3L</th>\n",
       "      <td>-6.301868</td>\n",
       "      <td>7.383227e-09</td>\n",
       "      <td>-5.659561</td>\n",
       "      <td>1.052401e-07</td>\n",
       "      <td>-5.448483</td>\n",
       "      <td>3.275459e-07</td>\n",
       "      <td>-3.908093</td>\n",
       "      <td>1.650189e-04</td>\n",
       "      <td>-5.761850</td>\n",
       "      <td>9.618658e-08</td>\n",
       "      <td>-5.086001</td>\n",
       "      <td>1.587483e-06</td>\n",
       "      <td>8</td>\n",
       "      <td>26444345.0</td>\n",
       "    </tr>\n",
       "    <tr>\n",
       "      <th>CCAR2</th>\n",
       "      <td>-5.748205</td>\n",
       "      <td>9.261553e-08</td>\n",
       "      <td>-7.308528</td>\n",
       "      <td>3.275152e-11</td>\n",
       "      <td>-9.446443</td>\n",
       "      <td>9.144400e-16</td>\n",
       "      <td>-5.884926</td>\n",
       "      <td>4.810419e-08</td>\n",
       "      <td>-2.798765</td>\n",
       "      <td>6.177863e-03</td>\n",
       "      <td>-7.548883</td>\n",
       "      <td>1.609025e-11</td>\n",
       "      <td>8</td>\n",
       "      <td>22613073.0</td>\n",
       "    </tr>\n",
       "    <tr>\n",
       "      <th>CCDC25</th>\n",
       "      <td>-6.276978</td>\n",
       "      <td>8.289581e-09</td>\n",
       "      <td>-6.829846</td>\n",
       "      <td>3.734771e-10</td>\n",
       "      <td>-6.488842</td>\n",
       "      <td>2.763099e-09</td>\n",
       "      <td>-7.140984</td>\n",
       "      <td>1.257291e-10</td>\n",
       "      <td>-4.797234</td>\n",
       "      <td>5.754367e-06</td>\n",
       "      <td>-5.046405</td>\n",
       "      <td>1.876547e-06</td>\n",
       "      <td>8</td>\n",
       "      <td>27752984.5</td>\n",
       "    </tr>\n",
       "    <tr>\n",
       "      <th>CDCA2</th>\n",
       "      <td>-6.855606</td>\n",
       "      <td>5.374526e-10</td>\n",
       "      <td>-1.962882</td>\n",
       "      <td>5.197365e-02</td>\n",
       "      <td>-2.515933</td>\n",
       "      <td>1.335681e-02</td>\n",
       "      <td>-3.484014</td>\n",
       "      <td>7.217259e-04</td>\n",
       "      <td>-3.800337</td>\n",
       "      <td>2.509835e-04</td>\n",
       "      <td>-5.875432</td>\n",
       "      <td>4.925836e-08</td>\n",
       "      <td>8</td>\n",
       "      <td>25483555.0</td>\n",
       "    </tr>\n",
       "    <tr>\n",
       "      <th>CLN8</th>\n",
       "      <td>-6.227527</td>\n",
       "      <td>1.042802e-08</td>\n",
       "      <td>-3.139008</td>\n",
       "      <td>2.133966e-03</td>\n",
       "      <td>-6.008595</td>\n",
       "      <td>2.624013e-08</td>\n",
       "      <td>-5.635715</td>\n",
       "      <td>1.476347e-07</td>\n",
       "      <td>-2.058347</td>\n",
       "      <td>4.221075e-02</td>\n",
       "      <td>-4.213248</td>\n",
       "      <td>5.303570e-05</td>\n",
       "      <td>8</td>\n",
       "      <td>1778744.5</td>\n",
       "    </tr>\n",
       "    <tr>\n",
       "      <th>CNOT7</th>\n",
       "      <td>-8.486225</td>\n",
       "      <td>1.675611e-13</td>\n",
       "      <td>-8.041140</td>\n",
       "      <td>7.103176e-13</td>\n",
       "      <td>-6.945286</td>\n",
       "      <td>3.057685e-10</td>\n",
       "      <td>-7.866937</td>\n",
       "      <td>3.420636e-12</td>\n",
       "      <td>-4.790985</td>\n",
       "      <td>5.901395e-06</td>\n",
       "      <td>-7.614278</td>\n",
       "      <td>1.160483e-11</td>\n",
       "      <td>8</td>\n",
       "      <td>17235922.0</td>\n",
       "    </tr>\n",
       "    <tr>\n",
       "      <th>DCTN6</th>\n",
       "      <td>-6.076201</td>\n",
       "      <td>2.094975e-08</td>\n",
       "      <td>-4.040560</td>\n",
       "      <td>9.447527e-05</td>\n",
       "      <td>-5.626406</td>\n",
       "      <td>1.488128e-07</td>\n",
       "      <td>-4.330349</td>\n",
       "      <td>3.413214e-05</td>\n",
       "      <td>-4.971414</td>\n",
       "      <td>2.828033e-06</td>\n",
       "      <td>-5.576551</td>\n",
       "      <td>1.888894e-07</td>\n",
       "      <td>8</td>\n",
       "      <td>30169979.0</td>\n",
       "    </tr>\n",
       "    <tr>\n",
       "      <th>DMTN</th>\n",
       "      <td>-5.077083</td>\n",
       "      <td>1.710181e-06</td>\n",
       "      <td>-1.815605</td>\n",
       "      <td>7.192798e-02</td>\n",
       "      <td>-5.203018</td>\n",
       "      <td>9.520278e-07</td>\n",
       "      <td>-2.279306</td>\n",
       "      <td>2.467136e-02</td>\n",
       "      <td>-3.400001</td>\n",
       "      <td>9.760850e-04</td>\n",
       "      <td>-5.350084</td>\n",
       "      <td>5.110643e-07</td>\n",
       "      <td>8</td>\n",
       "      <td>22065761.0</td>\n",
       "    </tr>\n",
       "    <tr>\n",
       "      <th>DOCK5</th>\n",
       "      <td>-6.004942</td>\n",
       "      <td>2.902385e-08</td>\n",
       "      <td>-3.727108</td>\n",
       "      <td>2.968350e-04</td>\n",
       "      <td>-6.969441</td>\n",
       "      <td>2.717429e-10</td>\n",
       "      <td>-3.547858</td>\n",
       "      <td>5.821435e-04</td>\n",
       "      <td>-2.964888</td>\n",
       "      <td>3.802359e-03</td>\n",
       "      <td>-2.850995</td>\n",
       "      <td>5.239173e-03</td>\n",
       "      <td>8</td>\n",
       "      <td>25301385.5</td>\n",
       "    </tr>\n",
       "    <tr>\n",
       "      <th>ELP3</th>\n",
       "      <td>-9.740766</td>\n",
       "      <td>2.791453e-16</td>\n",
       "      <td>-6.878872</td>\n",
       "      <td>2.919240e-10</td>\n",
       "      <td>-5.688332</td>\n",
       "      <td>1.127506e-07</td>\n",
       "      <td>-6.578297</td>\n",
       "      <td>1.905040e-09</td>\n",
       "      <td>-4.142109</td>\n",
       "      <td>7.302082e-05</td>\n",
       "      <td>-4.650922</td>\n",
       "      <td>9.579402e-06</td>\n",
       "      <td>8</td>\n",
       "      <td>28140414.5</td>\n",
       "    </tr>\n",
       "    <tr>\n",
       "      <th>ERI1</th>\n",
       "      <td>-9.376957</td>\n",
       "      <td>1.796932e-15</td>\n",
       "      <td>-5.439274</td>\n",
       "      <td>2.866847e-07</td>\n",
       "      <td>-5.413457</td>\n",
       "      <td>3.820039e-07</td>\n",
       "      <td>-6.553902</td>\n",
       "      <td>2.139427e-09</td>\n",
       "      <td>-5.622452</td>\n",
       "      <td>1.776293e-07</td>\n",
       "      <td>-5.681652</td>\n",
       "      <td>1.181949e-07</td>\n",
       "      <td>8</td>\n",
       "      <td>9059446.5</td>\n",
       "    </tr>\n",
       "    <tr>\n",
       "      <th>ERICH1</th>\n",
       "      <td>-4.105593</td>\n",
       "      <td>8.094211e-05</td>\n",
       "      <td>-4.247425</td>\n",
       "      <td>4.291998e-05</td>\n",
       "      <td>-5.623122</td>\n",
       "      <td>1.510125e-07</td>\n",
       "      <td>-4.360610</td>\n",
       "      <td>3.037051e-05</td>\n",
       "      <td>-4.834105</td>\n",
       "      <td>4.956653e-06</td>\n",
       "      <td>-5.127188</td>\n",
       "      <td>1.332956e-06</td>\n",
       "      <td>8</td>\n",
       "      <td>676426.0</td>\n",
       "    </tr>\n",
       "    <tr>\n",
       "      <th>ESCO2</th>\n",
       "      <td>-5.863413</td>\n",
       "      <td>5.517865e-08</td>\n",
       "      <td>-2.127876</td>\n",
       "      <td>3.539328e-02</td>\n",
       "      <td>-2.330666</td>\n",
       "      <td>2.164599e-02</td>\n",
       "      <td>-2.949682</td>\n",
       "      <td>3.922275e-03</td>\n",
       "      <td>-4.518975</td>\n",
       "      <td>1.738262e-05</td>\n",
       "      <td>-5.322556</td>\n",
       "      <td>5.759638e-07</td>\n",
       "      <td>8</td>\n",
       "      <td>27792294.5</td>\n",
       "    </tr>\n",
       "    <tr>\n",
       "      <th>EXTL3</th>\n",
       "      <td>-6.354793</td>\n",
       "      <td>5.768399e-09</td>\n",
       "      <td>-4.671644</td>\n",
       "      <td>7.869068e-06</td>\n",
       "      <td>-2.738712</td>\n",
       "      <td>7.226776e-03</td>\n",
       "      <td>-3.892994</td>\n",
       "      <td>1.742502e-04</td>\n",
       "      <td>-4.853507</td>\n",
       "      <td>4.581160e-06</td>\n",
       "      <td>-5.384084</td>\n",
       "      <td>4.407147e-07</td>\n",
       "      <td>8</td>\n",
       "      <td>28678034.0</td>\n",
       "    </tr>\n",
       "    <tr>\n",
       "      <th>FAM160B2</th>\n",
       "      <td>-4.071248</td>\n",
       "      <td>9.192675e-05</td>\n",
       "      <td>-5.215201</td>\n",
       "      <td>7.768190e-07</td>\n",
       "      <td>-5.979525</td>\n",
       "      <td>2.999805e-08</td>\n",
       "      <td>-3.057346</td>\n",
       "      <td>2.832686e-03</td>\n",
       "      <td>-3.988644</td>\n",
       "      <td>1.281678e-04</td>\n",
       "      <td>-5.111780</td>\n",
       "      <td>1.423134e-06</td>\n",
       "      <td>8</td>\n",
       "      <td>22097030.5</td>\n",
       "    </tr>\n",
       "    <tr>\n",
       "      <th>FBXO25</th>\n",
       "      <td>-6.570724</td>\n",
       "      <td>2.090074e-09</td>\n",
       "      <td>-4.524988</td>\n",
       "      <td>1.430960e-05</td>\n",
       "      <td>-4.589886</td>\n",
       "      <td>1.213271e-05</td>\n",
       "      <td>-4.922650</td>\n",
       "      <td>3.185018e-06</td>\n",
       "      <td>-3.714334</td>\n",
       "      <td>3.388003e-04</td>\n",
       "      <td>-5.326718</td>\n",
       "      <td>5.656576e-07</td>\n",
       "      <td>8</td>\n",
       "      <td>442197.5</td>\n",
       "    </tr>\n",
       "    <tr>\n",
       "      <th>FUT10</th>\n",
       "      <td>-6.153401</td>\n",
       "      <td>1.468927e-08</td>\n",
       "      <td>-2.414464</td>\n",
       "      <td>1.726842e-02</td>\n",
       "      <td>-3.676453</td>\n",
       "      <td>3.716554e-04</td>\n",
       "      <td>-2.546854</td>\n",
       "      <td>1.231984e-02</td>\n",
       "      <td>-4.397838</td>\n",
       "      <td>2.779514e-05</td>\n",
       "      <td>-4.182389</td>\n",
       "      <td>5.960186e-05</td>\n",
       "      <td>8</td>\n",
       "      <td>33421985.0</td>\n",
       "    </tr>\n",
       "    <tr>\n",
       "      <th>FZD3</th>\n",
       "      <td>-6.067026</td>\n",
       "      <td>2.184976e-08</td>\n",
       "      <td>-2.691252</td>\n",
       "      <td>8.134711e-03</td>\n",
       "      <td>-2.795694</td>\n",
       "      <td>6.140275e-03</td>\n",
       "      <td>-2.569082</td>\n",
       "      <td>1.160138e-02</td>\n",
       "      <td>-4.593256</td>\n",
       "      <td>1.298779e-05</td>\n",
       "      <td>-3.388976</td>\n",
       "      <td>9.860090e-04</td>\n",
       "      <td>8</td>\n",
       "      <td>28534236.0</td>\n",
       "    </tr>\n",
       "    <tr>\n",
       "      <th>GNRH1</th>\n",
       "      <td>-3.415075</td>\n",
       "      <td>9.133902e-04</td>\n",
       "      <td>-4.110653</td>\n",
       "      <td>7.252345e-05</td>\n",
       "      <td>-5.814080</td>\n",
       "      <td>6.389208e-08</td>\n",
       "      <td>-4.674789</td>\n",
       "      <td>8.780488e-06</td>\n",
       "      <td>-2.165200</td>\n",
       "      <td>3.279981e-02</td>\n",
       "      <td>-5.501813</td>\n",
       "      <td>2.629394e-07</td>\n",
       "      <td>8</td>\n",
       "      <td>25421956.0</td>\n",
       "    </tr>\n",
       "    <tr>\n",
       "      <th>GTF2E2</th>\n",
       "      <td>-5.770996</td>\n",
       "      <td>8.362801e-08</td>\n",
       "      <td>-2.774938</td>\n",
       "      <td>6.405858e-03</td>\n",
       "      <td>-6.659219</td>\n",
       "      <td>1.222823e-09</td>\n",
       "      <td>-2.343627</td>\n",
       "      <td>2.098037e-02</td>\n",
       "      <td>-5.066341</td>\n",
       "      <td>1.909389e-06</td>\n",
       "      <td>-5.443246</td>\n",
       "      <td>3.402098e-07</td>\n",
       "      <td>8</td>\n",
       "      <td>30618277.0</td>\n",
       "    </tr>\n",
       "    <tr>\n",
       "      <th>HMBOX1</th>\n",
       "      <td>-4.722996</td>\n",
       "      <td>7.367144e-06</td>\n",
       "      <td>-3.746345</td>\n",
       "      <td>2.771967e-04</td>\n",
       "      <td>-7.553725</td>\n",
       "      <td>1.506449e-11</td>\n",
       "      <td>-5.884545</td>\n",
       "      <td>4.818760e-08</td>\n",
       "      <td>-2.941041</td>\n",
       "      <td>4.081527e-03</td>\n",
       "      <td>-3.938977</td>\n",
       "      <td>1.468196e-04</td>\n",
       "      <td>8</td>\n",
       "      <td>28977579.5</td>\n",
       "    </tr>\n",
       "    <tr>\n",
       "      <th>INTS10</th>\n",
       "      <td>-10.436557</td>\n",
       "      <td>7.911334e-18</td>\n",
       "      <td>-8.338082</td>\n",
       "      <td>1.459957e-13</td>\n",
       "      <td>-8.979835</td>\n",
       "      <td>1.032588e-14</td>\n",
       "      <td>-7.240729</td>\n",
       "      <td>7.707198e-11</td>\n",
       "      <td>-6.452372</td>\n",
       "      <td>4.206762e-09</td>\n",
       "      <td>-5.995869</td>\n",
       "      <td>2.839815e-08</td>\n",
       "      <td>8</td>\n",
       "      <td>19834737.0</td>\n",
       "    </tr>\n",
       "    <tr>\n",
       "      <th>INTS9</th>\n",
       "      <td>-4.060011</td>\n",
       "      <td>9.582081e-05</td>\n",
       "      <td>-5.014146</td>\n",
       "      <td>1.861619e-06</td>\n",
       "      <td>-7.211526</td>\n",
       "      <td>8.269067e-11</td>\n",
       "      <td>-7.488461</td>\n",
       "      <td>2.266249e-11</td>\n",
       "      <td>-4.224251</td>\n",
       "      <td>5.374722e-05</td>\n",
       "      <td>-4.692812</td>\n",
       "      <td>8.089473e-06</td>\n",
       "      <td>8</td>\n",
       "      <td>28828951.5</td>\n",
       "    </tr>\n",
       "    <tr>\n",
       "      <th>KCTD9</th>\n",
       "      <td>-6.523599</td>\n",
       "      <td>2.611295e-09</td>\n",
       "      <td>-5.511953</td>\n",
       "      <td>2.064611e-07</td>\n",
       "      <td>-7.277829</td>\n",
       "      <td>5.956213e-11</td>\n",
       "      <td>-4.617815</td>\n",
       "      <td>1.103807e-05</td>\n",
       "      <td>-2.847687</td>\n",
       "      <td>5.365748e-03</td>\n",
       "      <td>-8.221667</td>\n",
       "      <td>5.402654e-13</td>\n",
       "      <td>8</td>\n",
       "      <td>25443161.5</td>\n",
       "    </tr>\n",
       "    <tr>\n",
       "      <th>KIF13B</th>\n",
       "      <td>-2.738550</td>\n",
       "      <td>7.272740e-03</td>\n",
       "      <td>-3.152324</td>\n",
       "      <td>2.046160e-03</td>\n",
       "      <td>-4.950062</td>\n",
       "      <td>2.780313e-06</td>\n",
       "      <td>-5.383537</td>\n",
       "      <td>4.482693e-07</td>\n",
       "      <td>-3.682370</td>\n",
       "      <td>3.783368e-04</td>\n",
       "      <td>-1.959923</td>\n",
       "      <td>5.263000e-02</td>\n",
       "      <td>8</td>\n",
       "      <td>29165201.0</td>\n",
       "    </tr>\n",
       "    <tr>\n",
       "      <th>LEPROTL1</th>\n",
       "      <td>-6.333194</td>\n",
       "      <td>6.380347e-09</td>\n",
       "      <td>-2.440602</td>\n",
       "      <td>1.612359e-02</td>\n",
       "      <td>-6.110705</td>\n",
       "      <td>1.636076e-08</td>\n",
       "      <td>-6.979390</td>\n",
       "      <td>2.765610e-10</td>\n",
       "      <td>-6.304178</td>\n",
       "      <td>8.331424e-09</td>\n",
       "      <td>-3.156527</td>\n",
       "      <td>2.079130e-03</td>\n",
       "      <td>8</td>\n",
       "      <td>30136308.0</td>\n",
       "    </tr>\n",
       "    <tr>\n",
       "      <th>LONRF1</th>\n",
       "      <td>-6.397604</td>\n",
       "      <td>4.721630e-09</td>\n",
       "      <td>-3.865424</td>\n",
       "      <td>1.804946e-04</td>\n",
       "      <td>-6.168698</td>\n",
       "      <td>1.249142e-08</td>\n",
       "      <td>-3.869631</td>\n",
       "      <td>1.895113e-04</td>\n",
       "      <td>-4.141318</td>\n",
       "      <td>7.323531e-05</td>\n",
       "      <td>-5.860405</td>\n",
       "      <td>5.274361e-08</td>\n",
       "      <td>8</td>\n",
       "      <td>12738989.5</td>\n",
       "    </tr>\n",
       "    <tr>\n",
       "      <th>MAK16</th>\n",
       "      <td>-4.933955</td>\n",
       "      <td>3.107880e-06</td>\n",
       "      <td>-3.475751</td>\n",
       "      <td>7.098728e-04</td>\n",
       "      <td>-4.836590</td>\n",
       "      <td>4.453201e-06</td>\n",
       "      <td>-1.947713</td>\n",
       "      <td>5.411946e-02</td>\n",
       "      <td>-5.931521</td>\n",
       "      <td>4.518634e-08</td>\n",
       "      <td>-3.329330</td>\n",
       "      <td>1.198167e-03</td>\n",
       "      <td>8</td>\n",
       "      <td>33493222.0</td>\n",
       "    </tr>\n",
       "    <tr>\n",
       "      <th>MFHAS1</th>\n",
       "      <td>-4.760608</td>\n",
       "      <td>6.326248e-06</td>\n",
       "      <td>-3.238983</td>\n",
       "      <td>1.551875e-03</td>\n",
       "      <td>-4.676443</td>\n",
       "      <td>8.565488e-06</td>\n",
       "      <td>-3.345417</td>\n",
       "      <td>1.140382e-03</td>\n",
       "      <td>-3.742016</td>\n",
       "      <td>3.077602e-04</td>\n",
       "      <td>-4.940358</td>\n",
       "      <td>2.926752e-06</td>\n",
       "      <td>8</td>\n",
       "      <td>8838492.0</td>\n",
       "    </tr>\n",
       "    <tr>\n",
       "      <th>MSRA</th>\n",
       "      <td>-6.239339</td>\n",
       "      <td>9.872419e-09</td>\n",
       "      <td>-3.953020</td>\n",
       "      <td>1.308853e-04</td>\n",
       "      <td>-4.968082</td>\n",
       "      <td>2.578462e-06</td>\n",
       "      <td>-4.422780</td>\n",
       "      <td>2.385570e-05</td>\n",
       "      <td>-3.873624</td>\n",
       "      <td>1.936939e-04</td>\n",
       "      <td>-2.538632</td>\n",
       "      <td>1.258140e-02</td>\n",
       "      <td>8</td>\n",
       "      <td>10241591.5</td>\n",
       "    </tr>\n",
       "    <tr>\n",
       "      <th>MTMR9</th>\n",
       "      <td>-4.887343</td>\n",
       "      <td>3.767650e-06</td>\n",
       "      <td>-5.824088</td>\n",
       "      <td>4.911707e-08</td>\n",
       "      <td>-7.028386</td>\n",
       "      <td>2.036480e-10</td>\n",
       "      <td>-6.518565</td>\n",
       "      <td>2.530279e-09</td>\n",
       "      <td>-4.388319</td>\n",
       "      <td>2.883046e-05</td>\n",
       "      <td>-6.490480</td>\n",
       "      <td>2.814523e-09</td>\n",
       "      <td>8</td>\n",
       "      <td>11306481.0</td>\n",
       "    </tr>\n",
       "    <tr>\n",
       "      <th>MTUS1</th>\n",
       "      <td>-7.613286</td>\n",
       "      <td>1.330562e-11</td>\n",
       "      <td>-4.760686</td>\n",
       "      <td>5.441929e-06</td>\n",
       "      <td>-4.470671</td>\n",
       "      <td>1.947363e-05</td>\n",
       "      <td>-3.548700</td>\n",
       "      <td>5.804856e-04</td>\n",
       "      <td>-2.375993</td>\n",
       "      <td>1.944634e-02</td>\n",
       "      <td>-3.761351</td>\n",
       "      <td>2.772465e-04</td>\n",
       "      <td>8</td>\n",
       "      <td>17722356.0</td>\n",
       "    </tr>\n",
       "    <tr>\n",
       "      <th>PBK</th>\n",
       "      <td>-6.344110</td>\n",
       "      <td>6.063469e-09</td>\n",
       "      <td>-1.885359</td>\n",
       "      <td>6.179954e-02</td>\n",
       "      <td>-2.070080</td>\n",
       "      <td>4.085246e-02</td>\n",
       "      <td>-2.572275</td>\n",
       "      <td>1.150134e-02</td>\n",
       "      <td>-3.913771</td>\n",
       "      <td>1.678399e-04</td>\n",
       "      <td>-4.926654</td>\n",
       "      <td>3.098597e-06</td>\n",
       "      <td>8</td>\n",
       "      <td>27823853.0</td>\n",
       "    </tr>\n",
       "    <tr>\n",
       "      <th>PCM1</th>\n",
       "      <td>-11.945526</td>\n",
       "      <td>3.674325e-21</td>\n",
       "      <td>-4.242575</td>\n",
       "      <td>4.373417e-05</td>\n",
       "      <td>-5.395060</td>\n",
       "      <td>4.140594e-07</td>\n",
       "      <td>-7.928825</td>\n",
       "      <td>2.505559e-12</td>\n",
       "      <td>-2.838935</td>\n",
       "      <td>5.503437e-03</td>\n",
       "      <td>-5.598534</td>\n",
       "      <td>1.713065e-07</td>\n",
       "      <td>8</td>\n",
       "      <td>17976392.0</td>\n",
       "    </tr>\n",
       "    <tr>\n",
       "      <th>PINX1</th>\n",
       "      <td>-7.144727</td>\n",
       "      <td>1.328251e-10</td>\n",
       "      <td>-5.422612</td>\n",
       "      <td>3.089875e-07</td>\n",
       "      <td>-6.467656</td>\n",
       "      <td>3.056132e-09</td>\n",
       "      <td>-3.363729</td>\n",
       "      <td>1.074273e-03</td>\n",
       "      <td>-2.262677</td>\n",
       "      <td>2.586276e-02</td>\n",
       "      <td>-6.222835</td>\n",
       "      <td>9.925732e-09</td>\n",
       "      <td>8</td>\n",
       "      <td>10782623.0</td>\n",
       "    </tr>\n",
       "    <tr>\n",
       "      <th>POLR3D</th>\n",
       "      <td>-9.975298</td>\n",
       "      <td>8.396152e-17</td>\n",
       "      <td>-5.975343</td>\n",
       "      <td>2.414095e-08</td>\n",
       "      <td>-8.080165</td>\n",
       "      <td>1.054101e-12</td>\n",
       "      <td>-3.792351</td>\n",
       "      <td>2.495879e-04</td>\n",
       "      <td>-7.092400</td>\n",
       "      <td>2.069015e-10</td>\n",
       "      <td>-5.568488</td>\n",
       "      <td>1.957719e-07</td>\n",
       "      <td>8</td>\n",
       "      <td>22249867.0</td>\n",
       "    </tr>\n",
       "    <tr>\n",
       "      <th>PPP2CB</th>\n",
       "      <td>-6.379756</td>\n",
       "      <td>5.133039e-09</td>\n",
       "      <td>-4.007981</td>\n",
       "      <td>1.067206e-04</td>\n",
       "      <td>-4.597693</td>\n",
       "      <td>1.175950e-05</td>\n",
       "      <td>-2.248751</td>\n",
       "      <td>2.661653e-02</td>\n",
       "      <td>-5.245099</td>\n",
       "      <td>9.018950e-07</td>\n",
       "      <td>-5.761788</td>\n",
       "      <td>8.243866e-08</td>\n",
       "      <td>8</td>\n",
       "      <td>30794385.5</td>\n",
       "    </tr>\n",
       "    <tr>\n",
       "      <th>PPP2R2A</th>\n",
       "      <td>-9.627549</td>\n",
       "      <td>4.984463e-16</td>\n",
       "      <td>-5.876220</td>\n",
       "      <td>3.849105e-08</td>\n",
       "      <td>-6.918364</td>\n",
       "      <td>3.486783e-10</td>\n",
       "      <td>-5.990518</td>\n",
       "      <td>2.971246e-08</td>\n",
       "      <td>-6.317356</td>\n",
       "      <td>7.842107e-09</td>\n",
       "      <td>-7.987196</td>\n",
       "      <td>1.776378e-12</td>\n",
       "      <td>8</td>\n",
       "      <td>26332094.0</td>\n",
       "    </tr>\n",
       "    <tr>\n",
       "      <th>PSD3</th>\n",
       "      <td>-5.680889</td>\n",
       "      <td>1.250676e-07</td>\n",
       "      <td>-2.968216</td>\n",
       "      <td>3.616972e-03</td>\n",
       "      <td>-3.108905</td>\n",
       "      <td>2.406235e-03</td>\n",
       "      <td>-1.963897</td>\n",
       "      <td>5.218571e-02</td>\n",
       "      <td>-2.748803</td>\n",
       "      <td>7.121856e-03</td>\n",
       "      <td>-4.117367</td>\n",
       "      <td>7.608576e-05</td>\n",
       "      <td>8</td>\n",
       "      <td>18806016.5</td>\n",
       "    </tr>\n",
       "    <tr>\n",
       "      <th>TNFRSF10B</th>\n",
       "      <td>-8.880145</td>\n",
       "      <td>2.268238e-14</td>\n",
       "      <td>-4.987737</td>\n",
       "      <td>2.084970e-06</td>\n",
       "      <td>-7.164837</td>\n",
       "      <td>1.041239e-10</td>\n",
       "      <td>-2.933659</td>\n",
       "      <td>4.114071e-03</td>\n",
       "      <td>-5.337616</td>\n",
       "      <td>6.086245e-07</td>\n",
       "      <td>-3.651077</td>\n",
       "      <td>4.074078e-04</td>\n",
       "      <td>8</td>\n",
       "      <td>23044582.0</td>\n",
       "    </tr>\n",
       "    <tr>\n",
       "      <th>TNKS</th>\n",
       "      <td>-6.847373</td>\n",
       "      <td>5.591217e-10</td>\n",
       "      <td>-5.872780</td>\n",
       "      <td>3.911650e-08</td>\n",
       "      <td>-7.245462</td>\n",
       "      <td>6.991627e-11</td>\n",
       "      <td>-6.533565</td>\n",
       "      <td>2.356430e-09</td>\n",
       "      <td>-5.477445</td>\n",
       "      <td>3.337647e-07</td>\n",
       "      <td>-8.632623</td>\n",
       "      <td>6.605872e-14</td>\n",
       "      <td>8</td>\n",
       "      <td>9669129.0</td>\n",
       "    </tr>\n",
       "    <tr>\n",
       "      <th>TRIM35</th>\n",
       "      <td>-6.875994</td>\n",
       "      <td>4.873028e-10</td>\n",
       "      <td>-6.821681</td>\n",
       "      <td>3.890925e-10</td>\n",
       "      <td>-6.919207</td>\n",
       "      <td>3.472478e-10</td>\n",
       "      <td>-3.845927</td>\n",
       "      <td>2.062926e-04</td>\n",
       "      <td>-6.788208</td>\n",
       "      <td>8.759870e-10</td>\n",
       "      <td>-5.031533</td>\n",
       "      <td>1.997862e-06</td>\n",
       "      <td>8</td>\n",
       "      <td>27298079.0</td>\n",
       "    </tr>\n",
       "    <tr>\n",
       "      <th>VPS37A</th>\n",
       "      <td>-9.506353</td>\n",
       "      <td>9.269262e-16</td>\n",
       "      <td>-4.326475</td>\n",
       "      <td>3.153391e-05</td>\n",
       "      <td>-6.627833</td>\n",
       "      <td>1.421815e-09</td>\n",
       "      <td>-6.732946</td>\n",
       "      <td>9.095723e-10</td>\n",
       "      <td>-4.311434</td>\n",
       "      <td>3.867046e-05</td>\n",
       "      <td>-8.294448</td>\n",
       "      <td>3.728596e-13</td>\n",
       "      <td>8</td>\n",
       "      <td>17274679.0</td>\n",
       "    </tr>\n",
       "    <tr>\n",
       "      <th>WRN</th>\n",
       "      <td>-7.411621</td>\n",
       "      <td>3.599425e-11</td>\n",
       "      <td>-3.422805</td>\n",
       "      <td>8.483850e-04</td>\n",
       "      <td>-5.171049</td>\n",
       "      <td>1.091862e-06</td>\n",
       "      <td>-3.962207</td>\n",
       "      <td>1.356205e-04</td>\n",
       "      <td>-4.806902</td>\n",
       "      <td>5.533885e-06</td>\n",
       "      <td>-5.822394</td>\n",
       "      <td>6.267739e-08</td>\n",
       "      <td>8</td>\n",
       "      <td>31104963.0</td>\n",
       "    </tr>\n",
       "    <tr>\n",
       "      <th>XPO7</th>\n",
       "      <td>-11.488946</td>\n",
       "      <td>3.698796e-20</td>\n",
       "      <td>-7.220942</td>\n",
       "      <td>5.135880e-11</td>\n",
       "      <td>-7.340524</td>\n",
       "      <td>4.363874e-11</td>\n",
       "      <td>-5.468669</td>\n",
       "      <td>3.089809e-07</td>\n",
       "      <td>-3.214167</td>\n",
       "      <td>1.771649e-03</td>\n",
       "      <td>-8.386921</td>\n",
       "      <td>2.325568e-13</td>\n",
       "      <td>8</td>\n",
       "      <td>21963123.5</td>\n",
       "    </tr>\n",
       "    <tr>\n",
       "      <th>ZDHHC2</th>\n",
       "      <td>-4.865145</td>\n",
       "      <td>4.127916e-06</td>\n",
       "      <td>-1.889753</td>\n",
       "      <td>6.120371e-02</td>\n",
       "      <td>-4.204263</td>\n",
       "      <td>5.452979e-05</td>\n",
       "      <td>-2.276894</td>\n",
       "      <td>2.482025e-02</td>\n",
       "      <td>-2.791886</td>\n",
       "      <td>6.300659e-03</td>\n",
       "      <td>-2.853970</td>\n",
       "      <td>5.193874e-03</td>\n",
       "      <td>8</td>\n",
       "      <td>17190640.5</td>\n",
       "    </tr>\n",
       "    <tr>\n",
       "      <th>ZNF395</th>\n",
       "      <td>-4.248032</td>\n",
       "      <td>4.741236e-05</td>\n",
       "      <td>-5.412640</td>\n",
       "      <td>3.231389e-07</td>\n",
       "      <td>-4.153878</td>\n",
       "      <td>6.595974e-05</td>\n",
       "      <td>-2.645801</td>\n",
       "      <td>9.402275e-03</td>\n",
       "      <td>-1.914723</td>\n",
       "      <td>5.844423e-02</td>\n",
       "      <td>-2.949120</td>\n",
       "      <td>3.921490e-03</td>\n",
       "      <td>8</td>\n",
       "      <td>28374145.5</td>\n",
       "    </tr>\n",
       "  </tbody>\n",
       "</table>\n",
       "</div>"
      ],
      "text/plain": [
       "           colon_stat  colon_pvalue  brca_stat   brca_pvalue  luad_stat  \\\n",
       "Name                                                                      \n",
       "AGPAT5      -7.421649  3.426215e-11  -5.086747  1.360894e-06  -4.589340   \n",
       "ARHGEF10    -2.829757  5.600982e-03  -5.077841  1.414415e-06  -3.463167   \n",
       "ATP6V1B2    -8.413277  2.423213e-13  -5.593413  1.425083e-07  -4.456100   \n",
       "BIN3        -8.580938  1.037146e-13  -6.183477  8.953238e-09  -8.680708   \n",
       "BNIP3L      -6.301868  7.383227e-09  -5.659561  1.052401e-07  -5.448483   \n",
       "CCAR2       -5.748205  9.261553e-08  -7.308528  3.275152e-11  -9.446443   \n",
       "CCDC25      -6.276978  8.289581e-09  -6.829846  3.734771e-10  -6.488842   \n",
       "CDCA2       -6.855606  5.374526e-10  -1.962882  5.197365e-02  -2.515933   \n",
       "CLN8        -6.227527  1.042802e-08  -3.139008  2.133966e-03  -6.008595   \n",
       "CNOT7       -8.486225  1.675611e-13  -8.041140  7.103176e-13  -6.945286   \n",
       "DCTN6       -6.076201  2.094975e-08  -4.040560  9.447527e-05  -5.626406   \n",
       "DMTN        -5.077083  1.710181e-06  -1.815605  7.192798e-02  -5.203018   \n",
       "DOCK5       -6.004942  2.902385e-08  -3.727108  2.968350e-04  -6.969441   \n",
       "ELP3        -9.740766  2.791453e-16  -6.878872  2.919240e-10  -5.688332   \n",
       "ERI1        -9.376957  1.796932e-15  -5.439274  2.866847e-07  -5.413457   \n",
       "ERICH1      -4.105593  8.094211e-05  -4.247425  4.291998e-05  -5.623122   \n",
       "ESCO2       -5.863413  5.517865e-08  -2.127876  3.539328e-02  -2.330666   \n",
       "EXTL3       -6.354793  5.768399e-09  -4.671644  7.869068e-06  -2.738712   \n",
       "FAM160B2    -4.071248  9.192675e-05  -5.215201  7.768190e-07  -5.979525   \n",
       "FBXO25      -6.570724  2.090074e-09  -4.524988  1.430960e-05  -4.589886   \n",
       "FUT10       -6.153401  1.468927e-08  -2.414464  1.726842e-02  -3.676453   \n",
       "FZD3        -6.067026  2.184976e-08  -2.691252  8.134711e-03  -2.795694   \n",
       "GNRH1       -3.415075  9.133902e-04  -4.110653  7.252345e-05  -5.814080   \n",
       "GTF2E2      -5.770996  8.362801e-08  -2.774938  6.405858e-03  -6.659219   \n",
       "HMBOX1      -4.722996  7.367144e-06  -3.746345  2.771967e-04  -7.553725   \n",
       "INTS10     -10.436557  7.911334e-18  -8.338082  1.459957e-13  -8.979835   \n",
       "INTS9       -4.060011  9.582081e-05  -5.014146  1.861619e-06  -7.211526   \n",
       "KCTD9       -6.523599  2.611295e-09  -5.511953  2.064611e-07  -7.277829   \n",
       "KIF13B      -2.738550  7.272740e-03  -3.152324  2.046160e-03  -4.950062   \n",
       "LEPROTL1    -6.333194  6.380347e-09  -2.440602  1.612359e-02  -6.110705   \n",
       "LONRF1      -6.397604  4.721630e-09  -3.865424  1.804946e-04  -6.168698   \n",
       "MAK16       -4.933955  3.107880e-06  -3.475751  7.098728e-04  -4.836590   \n",
       "MFHAS1      -4.760608  6.326248e-06  -3.238983  1.551875e-03  -4.676443   \n",
       "MSRA        -6.239339  9.872419e-09  -3.953020  1.308853e-04  -4.968082   \n",
       "MTMR9       -4.887343  3.767650e-06  -5.824088  4.911707e-08  -7.028386   \n",
       "MTUS1       -7.613286  1.330562e-11  -4.760686  5.441929e-06  -4.470671   \n",
       "PBK         -6.344110  6.063469e-09  -1.885359  6.179954e-02  -2.070080   \n",
       "PCM1       -11.945526  3.674325e-21  -4.242575  4.373417e-05  -5.395060   \n",
       "PINX1       -7.144727  1.328251e-10  -5.422612  3.089875e-07  -6.467656   \n",
       "POLR3D      -9.975298  8.396152e-17  -5.975343  2.414095e-08  -8.080165   \n",
       "PPP2CB      -6.379756  5.133039e-09  -4.007981  1.067206e-04  -4.597693   \n",
       "PPP2R2A     -9.627549  4.984463e-16  -5.876220  3.849105e-08  -6.918364   \n",
       "PSD3        -5.680889  1.250676e-07  -2.968216  3.616972e-03  -3.108905   \n",
       "TNFRSF10B   -8.880145  2.268238e-14  -4.987737  2.084970e-06  -7.164837   \n",
       "TNKS        -6.847373  5.591217e-10  -5.872780  3.911650e-08  -7.245462   \n",
       "TRIM35      -6.875994  4.873028e-10  -6.821681  3.890925e-10  -6.919207   \n",
       "VPS37A      -9.506353  9.269262e-16  -4.326475  3.153391e-05  -6.627833   \n",
       "WRN         -7.411621  3.599425e-11  -3.422805  8.483850e-04  -5.171049   \n",
       "XPO7       -11.488946  3.698796e-20  -7.220942  5.135880e-11  -7.340524   \n",
       "ZDHHC2      -4.865145  4.127916e-06  -1.889753  6.120371e-02  -4.204263   \n",
       "ZNF395      -4.248032  4.741236e-05  -5.412640  3.231389e-07  -4.153878   \n",
       "\n",
       "            luad_pvalue  hnscc_stat  hnscc_pvalue  ovarian_stat  \\\n",
       "Name                                                              \n",
       "AGPAT5     1.215923e-05   -3.912646  1.623278e-04     -4.370361   \n",
       "ARHGEF10   7.687597e-04   -2.040768  4.378276e-02     -1.866983   \n",
       "ATP6V1B2   2.062246e-05   -7.425928  3.090071e-11     -3.858517   \n",
       "BIN3       4.848687e-14   -5.772889  7.986232e-08     -5.013945   \n",
       "BNIP3L     3.275459e-07   -3.908093  1.650189e-04     -5.761850   \n",
       "CCAR2      9.144400e-16   -5.884926  4.810419e-08     -2.798765   \n",
       "CCDC25     2.763099e-09   -7.140984  1.257291e-10     -4.797234   \n",
       "CDCA2      1.335681e-02   -3.484014  7.217259e-04     -3.800337   \n",
       "CLN8       2.624013e-08   -5.635715  1.476347e-07     -2.058347   \n",
       "CNOT7      3.057685e-10   -7.866937  3.420636e-12     -4.790985   \n",
       "DCTN6      1.488128e-07   -4.330349  3.413214e-05     -4.971414   \n",
       "DMTN       9.520278e-07   -2.279306  2.467136e-02     -3.400001   \n",
       "DOCK5      2.717429e-10   -3.547858  5.821435e-04     -2.964888   \n",
       "ELP3       1.127506e-07   -6.578297  1.905040e-09     -4.142109   \n",
       "ERI1       3.820039e-07   -6.553902  2.139427e-09     -5.622452   \n",
       "ERICH1     1.510125e-07   -4.360610  3.037051e-05     -4.834105   \n",
       "ESCO2      2.164599e-02   -2.949682  3.922275e-03     -4.518975   \n",
       "EXTL3      7.226776e-03   -3.892994  1.742502e-04     -4.853507   \n",
       "FAM160B2   2.999805e-08   -3.057346  2.832686e-03     -3.988644   \n",
       "FBXO25     1.213271e-05   -4.922650  3.185018e-06     -3.714334   \n",
       "FUT10      3.716554e-04   -2.546854  1.231984e-02     -4.397838   \n",
       "FZD3       6.140275e-03   -2.569082  1.160138e-02     -4.593256   \n",
       "GNRH1      6.389208e-08   -4.674789  8.780488e-06     -2.165200   \n",
       "GTF2E2     1.222823e-09   -2.343627  2.098037e-02     -5.066341   \n",
       "HMBOX1     1.506449e-11   -5.884545  4.818760e-08     -2.941041   \n",
       "INTS10     1.032588e-14   -7.240729  7.707198e-11     -6.452372   \n",
       "INTS9      8.269067e-11   -7.488461  2.266249e-11     -4.224251   \n",
       "KCTD9      5.956213e-11   -4.617815  1.103807e-05     -2.847687   \n",
       "KIF13B     2.780313e-06   -5.383537  4.482693e-07     -3.682370   \n",
       "LEPROTL1   1.636076e-08   -6.979390  2.765610e-10     -6.304178   \n",
       "LONRF1     1.249142e-08   -3.869631  1.895113e-04     -4.141318   \n",
       "MAK16      4.453201e-06   -1.947713  5.411946e-02     -5.931521   \n",
       "MFHAS1     8.565488e-06   -3.345417  1.140382e-03     -3.742016   \n",
       "MSRA       2.578462e-06   -4.422780  2.385570e-05     -3.873624   \n",
       "MTMR9      2.036480e-10   -6.518565  2.530279e-09     -4.388319   \n",
       "MTUS1      1.947363e-05   -3.548700  5.804856e-04     -2.375993   \n",
       "PBK        4.085246e-02   -2.572275  1.150134e-02     -3.913771   \n",
       "PCM1       4.140594e-07   -7.928825  2.505559e-12     -2.838935   \n",
       "PINX1      3.056132e-09   -3.363729  1.074273e-03     -2.262677   \n",
       "POLR3D     1.054101e-12   -3.792351  2.495879e-04     -7.092400   \n",
       "PPP2CB     1.175950e-05   -2.248751  2.661653e-02     -5.245099   \n",
       "PPP2R2A    3.486783e-10   -5.990518  2.971246e-08     -6.317356   \n",
       "PSD3       2.406235e-03   -1.963897  5.218571e-02     -2.748803   \n",
       "TNFRSF10B  1.041239e-10   -2.933659  4.114071e-03     -5.337616   \n",
       "TNKS       6.991627e-11   -6.533565  2.356430e-09     -5.477445   \n",
       "TRIM35     3.472478e-10   -3.845927  2.062926e-04     -6.788208   \n",
       "VPS37A     1.421815e-09   -6.732946  9.095723e-10     -4.311434   \n",
       "WRN        1.091862e-06   -3.962207  1.356205e-04     -4.806902   \n",
       "XPO7       4.363874e-11   -5.468669  3.089809e-07     -3.214167   \n",
       "ZDHHC2     5.452979e-05   -2.276894  2.482025e-02     -2.791886   \n",
       "ZNF395     6.595974e-05   -2.645801  9.402275e-03     -1.914723   \n",
       "\n",
       "           ovarian_pvalue  lscc_stat   lscc_pvalue chromo    location  \n",
       "Name                                                                   \n",
       "AGPAT5       3.088570e-05  -5.093940  1.534995e-06      8   6735072.5  \n",
       "ARHGEF10     6.489328e-02  -1.994024  4.871758e-02      8   1891283.5  \n",
       "ATP6V1B2     2.043732e-04  -1.937353  5.536339e-02      8  20212100.0  \n",
       "BIN3         2.372807e-06  -6.000469  2.780428e-08      8  22644783.0  \n",
       "BNIP3L       9.618658e-08  -5.086001  1.587483e-06      8  26444345.0  \n",
       "CCAR2        6.177863e-03  -7.548883  1.609025e-11      8  22613073.0  \n",
       "CCDC25       5.754367e-06  -5.046405  1.876547e-06      8  27752984.5  \n",
       "CDCA2        2.509835e-04  -5.875432  4.925836e-08      8  25483555.0  \n",
       "CLN8         4.221075e-02  -4.213248  5.303570e-05      8   1778744.5  \n",
       "CNOT7        5.901395e-06  -7.614278  1.160483e-11      8  17235922.0  \n",
       "DCTN6        2.828033e-06  -5.576551  1.888894e-07      8  30169979.0  \n",
       "DMTN         9.760850e-04  -5.350084  5.110643e-07      8  22065761.0  \n",
       "DOCK5        3.802359e-03  -2.850995  5.239173e-03      8  25301385.5  \n",
       "ELP3         7.302082e-05  -4.650922  9.579402e-06      8  28140414.5  \n",
       "ERI1         1.776293e-07  -5.681652  1.181949e-07      8   9059446.5  \n",
       "ERICH1       4.956653e-06  -5.127188  1.332956e-06      8    676426.0  \n",
       "ESCO2        1.738262e-05  -5.322556  5.759638e-07      8  27792294.5  \n",
       "EXTL3        4.581160e-06  -5.384084  4.407147e-07      8  28678034.0  \n",
       "FAM160B2     1.281678e-04  -5.111780  1.423134e-06      8  22097030.5  \n",
       "FBXO25       3.388003e-04  -5.326718  5.656576e-07      8    442197.5  \n",
       "FUT10        2.779514e-05  -4.182389  5.960186e-05      8  33421985.0  \n",
       "FZD3         1.298779e-05  -3.388976  9.860090e-04      8  28534236.0  \n",
       "GNRH1        3.279981e-02  -5.501813  2.629394e-07      8  25421956.0  \n",
       "GTF2E2       1.909389e-06  -5.443246  3.402098e-07      8  30618277.0  \n",
       "HMBOX1       4.081527e-03  -3.938977  1.468196e-04      8  28977579.5  \n",
       "INTS10       4.206762e-09  -5.995869  2.839815e-08      8  19834737.0  \n",
       "INTS9        5.374722e-05  -4.692812  8.089473e-06      8  28828951.5  \n",
       "KCTD9        5.365748e-03  -8.221667  5.402654e-13      8  25443161.5  \n",
       "KIF13B       3.783368e-04  -1.959923  5.263000e-02      8  29165201.0  \n",
       "LEPROTL1     8.331424e-09  -3.156527  2.079130e-03      8  30136308.0  \n",
       "LONRF1       7.323531e-05  -5.860405  5.274361e-08      8  12738989.5  \n",
       "MAK16        4.518634e-08  -3.329330  1.198167e-03      8  33493222.0  \n",
       "MFHAS1       3.077602e-04  -4.940358  2.926752e-06      8   8838492.0  \n",
       "MSRA         1.936939e-04  -2.538632  1.258140e-02      8  10241591.5  \n",
       "MTMR9        2.883046e-05  -6.490480  2.814523e-09      8  11306481.0  \n",
       "MTUS1        1.944634e-02  -3.761351  2.772465e-04      8  17722356.0  \n",
       "PBK          1.678399e-04  -4.926654  3.098597e-06      8  27823853.0  \n",
       "PCM1         5.503437e-03  -5.598534  1.713065e-07      8  17976392.0  \n",
       "PINX1        2.586276e-02  -6.222835  9.925732e-09      8  10782623.0  \n",
       "POLR3D       2.069015e-10  -5.568488  1.957719e-07      8  22249867.0  \n",
       "PPP2CB       9.018950e-07  -5.761788  8.243866e-08      8  30794385.5  \n",
       "PPP2R2A      7.842107e-09  -7.987196  1.776378e-12      8  26332094.0  \n",
       "PSD3         7.121856e-03  -4.117367  7.608576e-05      8  18806016.5  \n",
       "TNFRSF10B    6.086245e-07  -3.651077  4.074078e-04      8  23044582.0  \n",
       "TNKS         3.337647e-07  -8.632623  6.605872e-14      8   9669129.0  \n",
       "TRIM35       8.759870e-10  -5.031533  1.997862e-06      8  27298079.0  \n",
       "VPS37A       3.867046e-05  -8.294448  3.728596e-13      8  17274679.0  \n",
       "WRN          5.533885e-06  -5.822394  6.267739e-08      8  31104963.0  \n",
       "XPO7         1.771649e-03  -8.386921  2.325568e-13      8  21963123.5  \n",
       "ZDHHC2       6.300659e-03  -2.853970  5.193874e-03      8  17190640.5  \n",
       "ZNF395       5.844423e-02  -2.949120  3.921490e-03      8  28374145.5  "
      ]
     },
     "execution_count": 65,
     "metadata": {},
     "output_type": "execute_result"
    }
   ],
   "source": [
    "common_low_pvalues"
   ]
  },
  {
   "cell_type": "code",
   "execution_count": 66,
   "metadata": {},
   "outputs": [],
   "source": [
    "common_low_pvalues_cleaned = common_low_pvalues.drop(columns=['chromo', 'location'])"
   ]
  },
  {
   "cell_type": "code",
   "execution_count": 67,
   "metadata": {},
   "outputs": [
    {
     "ename": "IndexError",
     "evalue": "Too many levels: Index has only 1 level, not 2",
     "output_type": "error",
     "traceback": [
      "\u001b[1;31m---------------------------------------------------------------------------\u001b[0m",
      "\u001b[1;31mIndexError\u001b[0m                                Traceback (most recent call last)",
      "\u001b[1;32m<ipython-input-67-d5588927ccd4>\u001b[0m in \u001b[0;36m<module>\u001b[1;34m\u001b[0m\n\u001b[1;32m----> 1\u001b[1;33m \u001b[0mcommon_low_pvalues_cleaned\u001b[0m\u001b[1;33m.\u001b[0m\u001b[0mindex\u001b[0m \u001b[1;33m=\u001b[0m \u001b[0mcommon_low_pvalues_cleaned\u001b[0m\u001b[1;33m.\u001b[0m\u001b[0mindex\u001b[0m\u001b[1;33m.\u001b[0m\u001b[0mdroplevel\u001b[0m\u001b[1;33m(\u001b[0m\u001b[1;33m[\u001b[0m\u001b[1;36m1\u001b[0m\u001b[1;33m,\u001b[0m\u001b[1;36m2\u001b[0m\u001b[1;33m,\u001b[0m\u001b[1;36m3\u001b[0m\u001b[1;33m,\u001b[0m\u001b[1;36m4\u001b[0m\u001b[1;33m]\u001b[0m\u001b[1;33m)\u001b[0m\u001b[1;33m\u001b[0m\u001b[1;33m\u001b[0m\u001b[0m\n\u001b[0m",
      "\u001b[1;32m~\\anaconda3\\lib\\site-packages\\pandas\\core\\indexes\\base.py\u001b[0m in \u001b[0;36mdroplevel\u001b[1;34m(self, level)\u001b[0m\n\u001b[0;32m   1504\u001b[0m             \u001b[0mlevel\u001b[0m \u001b[1;33m=\u001b[0m \u001b[1;33m[\u001b[0m\u001b[0mlevel\u001b[0m\u001b[1;33m]\u001b[0m\u001b[1;33m\u001b[0m\u001b[1;33m\u001b[0m\u001b[0m\n\u001b[0;32m   1505\u001b[0m \u001b[1;33m\u001b[0m\u001b[0m\n\u001b[1;32m-> 1506\u001b[1;33m         \u001b[0mlevnums\u001b[0m \u001b[1;33m=\u001b[0m \u001b[0msorted\u001b[0m\u001b[1;33m(\u001b[0m\u001b[0mself\u001b[0m\u001b[1;33m.\u001b[0m\u001b[0m_get_level_number\u001b[0m\u001b[1;33m(\u001b[0m\u001b[0mlev\u001b[0m\u001b[1;33m)\u001b[0m \u001b[1;32mfor\u001b[0m \u001b[0mlev\u001b[0m \u001b[1;32min\u001b[0m \u001b[0mlevel\u001b[0m\u001b[1;33m)\u001b[0m\u001b[1;33m[\u001b[0m\u001b[1;33m:\u001b[0m\u001b[1;33m:\u001b[0m\u001b[1;33m-\u001b[0m\u001b[1;36m1\u001b[0m\u001b[1;33m]\u001b[0m\u001b[1;33m\u001b[0m\u001b[1;33m\u001b[0m\u001b[0m\n\u001b[0m\u001b[0;32m   1507\u001b[0m \u001b[1;33m\u001b[0m\u001b[0m\n\u001b[0;32m   1508\u001b[0m         \u001b[1;32mif\u001b[0m \u001b[0mlen\u001b[0m\u001b[1;33m(\u001b[0m\u001b[0mlevel\u001b[0m\u001b[1;33m)\u001b[0m \u001b[1;33m==\u001b[0m \u001b[1;36m0\u001b[0m\u001b[1;33m:\u001b[0m\u001b[1;33m\u001b[0m\u001b[1;33m\u001b[0m\u001b[0m\n",
      "\u001b[1;32m~\\anaconda3\\lib\\site-packages\\pandas\\core\\indexes\\base.py\u001b[0m in \u001b[0;36m<genexpr>\u001b[1;34m(.0)\u001b[0m\n\u001b[0;32m   1504\u001b[0m             \u001b[0mlevel\u001b[0m \u001b[1;33m=\u001b[0m \u001b[1;33m[\u001b[0m\u001b[0mlevel\u001b[0m\u001b[1;33m]\u001b[0m\u001b[1;33m\u001b[0m\u001b[1;33m\u001b[0m\u001b[0m\n\u001b[0;32m   1505\u001b[0m \u001b[1;33m\u001b[0m\u001b[0m\n\u001b[1;32m-> 1506\u001b[1;33m         \u001b[0mlevnums\u001b[0m \u001b[1;33m=\u001b[0m \u001b[0msorted\u001b[0m\u001b[1;33m(\u001b[0m\u001b[0mself\u001b[0m\u001b[1;33m.\u001b[0m\u001b[0m_get_level_number\u001b[0m\u001b[1;33m(\u001b[0m\u001b[0mlev\u001b[0m\u001b[1;33m)\u001b[0m \u001b[1;32mfor\u001b[0m \u001b[0mlev\u001b[0m \u001b[1;32min\u001b[0m \u001b[0mlevel\u001b[0m\u001b[1;33m)\u001b[0m\u001b[1;33m[\u001b[0m\u001b[1;33m:\u001b[0m\u001b[1;33m:\u001b[0m\u001b[1;33m-\u001b[0m\u001b[1;36m1\u001b[0m\u001b[1;33m]\u001b[0m\u001b[1;33m\u001b[0m\u001b[1;33m\u001b[0m\u001b[0m\n\u001b[0m\u001b[0;32m   1507\u001b[0m \u001b[1;33m\u001b[0m\u001b[0m\n\u001b[0;32m   1508\u001b[0m         \u001b[1;32mif\u001b[0m \u001b[0mlen\u001b[0m\u001b[1;33m(\u001b[0m\u001b[0mlevel\u001b[0m\u001b[1;33m)\u001b[0m \u001b[1;33m==\u001b[0m \u001b[1;36m0\u001b[0m\u001b[1;33m:\u001b[0m\u001b[1;33m\u001b[0m\u001b[1;33m\u001b[0m\u001b[0m\n",
      "\u001b[1;32m~\\anaconda3\\lib\\site-packages\\pandas\\core\\indexes\\base.py\u001b[0m in \u001b[0;36m_get_level_number\u001b[1;34m(self, level)\u001b[0m\n\u001b[0;32m   1418\u001b[0m \u001b[1;33m\u001b[0m\u001b[0m\n\u001b[0;32m   1419\u001b[0m     \u001b[1;32mdef\u001b[0m \u001b[0m_get_level_number\u001b[0m\u001b[1;33m(\u001b[0m\u001b[0mself\u001b[0m\u001b[1;33m,\u001b[0m \u001b[0mlevel\u001b[0m\u001b[1;33m)\u001b[0m\u001b[1;33m:\u001b[0m\u001b[1;33m\u001b[0m\u001b[1;33m\u001b[0m\u001b[0m\n\u001b[1;32m-> 1420\u001b[1;33m         \u001b[0mself\u001b[0m\u001b[1;33m.\u001b[0m\u001b[0m_validate_index_level\u001b[0m\u001b[1;33m(\u001b[0m\u001b[0mlevel\u001b[0m\u001b[1;33m)\u001b[0m\u001b[1;33m\u001b[0m\u001b[1;33m\u001b[0m\u001b[0m\n\u001b[0m\u001b[0;32m   1421\u001b[0m         \u001b[1;32mreturn\u001b[0m \u001b[1;36m0\u001b[0m\u001b[1;33m\u001b[0m\u001b[1;33m\u001b[0m\u001b[0m\n\u001b[0;32m   1422\u001b[0m \u001b[1;33m\u001b[0m\u001b[0m\n",
      "\u001b[1;32m~\\anaconda3\\lib\\site-packages\\pandas\\core\\indexes\\base.py\u001b[0m in \u001b[0;36m_validate_index_level\u001b[1;34m(self, level)\u001b[0m\n\u001b[0;32m   1410\u001b[0m             \u001b[1;32melif\u001b[0m \u001b[0mlevel\u001b[0m \u001b[1;33m>\u001b[0m \u001b[1;36m0\u001b[0m\u001b[1;33m:\u001b[0m\u001b[1;33m\u001b[0m\u001b[1;33m\u001b[0m\u001b[0m\n\u001b[0;32m   1411\u001b[0m                 raise IndexError(\n\u001b[1;32m-> 1412\u001b[1;33m                     \u001b[1;34mf\"Too many levels: Index has only 1 level, not {level + 1}\"\u001b[0m\u001b[1;33m\u001b[0m\u001b[1;33m\u001b[0m\u001b[0m\n\u001b[0m\u001b[0;32m   1413\u001b[0m                 )\n\u001b[0;32m   1414\u001b[0m         \u001b[1;32melif\u001b[0m \u001b[0mlevel\u001b[0m \u001b[1;33m!=\u001b[0m \u001b[0mself\u001b[0m\u001b[1;33m.\u001b[0m\u001b[0mname\u001b[0m\u001b[1;33m:\u001b[0m\u001b[1;33m\u001b[0m\u001b[1;33m\u001b[0m\u001b[0m\n",
      "\u001b[1;31mIndexError\u001b[0m: Too many levels: Index has only 1 level, not 2"
     ]
    }
   ],
   "source": [
    "common_low_pvalues_cleaned.index = common_low_pvalues_cleaned.index.droplevel([1,2,3,4])"
   ]
  },
  {
   "cell_type": "code",
   "execution_count": 68,
   "metadata": {},
   "outputs": [],
   "source": [
    "common_low_pvalues_cleaned.to_csv(\"mrna_t_test_p_arm.csv\")"
   ]
  },
  {
   "cell_type": "code",
   "execution_count": 69,
   "metadata": {},
   "outputs": [
    {
     "data": {
      "text/plain": [
       "['AGPAT5',\n",
       " 'ARHGEF10',\n",
       " 'ATP6V1B2',\n",
       " 'BIN3',\n",
       " 'BNIP3L',\n",
       " 'CCAR2',\n",
       " 'CCDC25',\n",
       " 'CDCA2',\n",
       " 'CLN8',\n",
       " 'CNOT7',\n",
       " 'DCTN6',\n",
       " 'DMTN',\n",
       " 'DOCK5',\n",
       " 'ELP3',\n",
       " 'ERI1',\n",
       " 'ERICH1',\n",
       " 'ESCO2',\n",
       " 'EXTL3',\n",
       " 'FAM160B2',\n",
       " 'FBXO25',\n",
       " 'FUT10',\n",
       " 'FZD3',\n",
       " 'GNRH1',\n",
       " 'GTF2E2',\n",
       " 'HMBOX1',\n",
       " 'INTS10',\n",
       " 'INTS9',\n",
       " 'KCTD9',\n",
       " 'KIF13B',\n",
       " 'LEPROTL1',\n",
       " 'LONRF1',\n",
       " 'MAK16',\n",
       " 'MFHAS1',\n",
       " 'MSRA',\n",
       " 'MTMR9',\n",
       " 'MTUS1',\n",
       " 'PBK',\n",
       " 'PCM1',\n",
       " 'PINX1',\n",
       " 'POLR3D',\n",
       " 'PPP2CB',\n",
       " 'PPP2R2A',\n",
       " 'PSD3',\n",
       " 'TNFRSF10B',\n",
       " 'TNKS',\n",
       " 'TRIM35',\n",
       " 'VPS37A',\n",
       " 'WRN',\n",
       " 'XPO7',\n",
       " 'ZDHHC2',\n",
       " 'ZNF395']"
      ]
     },
     "execution_count": 69,
     "metadata": {},
     "output_type": "execute_result"
    }
   ],
   "source": [
    "list(common_low_pvalues_cleaned.index)"
   ]
  },
  {
   "cell_type": "code",
   "execution_count": null,
   "metadata": {},
   "outputs": [],
   "source": [
    "import pandas as pd\n",
    "import numpy as np\n",
    "import matplotlib.pyplot as plt\n",
    "import six"
   ]
  },
  {
   "cell_type": "code",
   "execution_count": null,
   "metadata": {},
   "outputs": [],
   "source": [
    "!pip install scinot"
   ]
  },
  {
   "cell_type": "code",
   "execution_count": null,
   "metadata": {},
   "outputs": [],
   "source": [
    "import scinot"
   ]
  },
  {
   "cell_type": "code",
   "execution_count": null,
   "metadata": {},
   "outputs": [],
   "source": [
    "scinot.start(sigfigs=1, thresh=2)"
   ]
  },
  {
   "cell_type": "code",
   "execution_count": null,
   "metadata": {},
   "outputs": [],
   "source": [
    "common_low_pvalues_cleaned = common_low_pvalues_cleaned.applymap(lambda x: scinot.format(x, 3) )"
   ]
  },
  {
   "cell_type": "code",
   "execution_count": null,
   "metadata": {},
   "outputs": [],
   "source": [
    "common_low_pvalues_cleaned.reset_index(inplace=True)"
   ]
  },
  {
   "cell_type": "code",
   "execution_count": null,
   "metadata": {},
   "outputs": [],
   "source": [
    "\n",
    "def render_mpl_table(data, col_width=2.2, row_height=0.625, font_size=14,\n",
    "                     header_color='#40466e', row_colors=['#f1f1f2', 'w'], edge_color='w',\n",
    "                     bbox=[0, 0, 1, 1], header_columns=0,\n",
    "                     ax=None, **kwargs):\n",
    "    if ax is None:\n",
    "        size = (np.array(data.shape[::-1]) + np.array([0, 1])) * np.array([col_width, row_height])\n",
    "        fig, ax = plt.subplots(figsize=size)\n",
    "        ax.axis('off')\n",
    "\n",
    "    mpl_table = ax.table(cellText=data.values, bbox=bbox, colLabels=data.columns, **kwargs)\n",
    "\n",
    "    mpl_table.auto_set_font_size(False)\n",
    "    mpl_table.set_fontsize(font_size)\n",
    "\n",
    "    for k, cell in  six.iteritems(mpl_table._cells):\n",
    "        cell.set_edgecolor(edge_color)\n",
    "        if k[0] == 0 or k[1] < header_columns:\n",
    "            cell.set_text_props(weight='bold', color='w')\n",
    "            cell.set_facecolor(header_color)\n",
    "        else:\n",
    "            cell.set_facecolor(row_colors[k[0]%len(row_colors) ])\n",
    "    return ax"
   ]
  },
  {
   "cell_type": "code",
   "execution_count": null,
   "metadata": {},
   "outputs": [],
   "source": [
    "render_mpl_table(common_low_pvalues_cleaned)"
   ]
  }
 ],
 "metadata": {
  "kernelspec": {
   "display_name": "Python 3",
   "language": "python",
   "name": "python3"
  },
  "language_info": {
   "codemirror_mode": {
    "name": "ipython",
    "version": 3
   },
   "file_extension": ".py",
   "mimetype": "text/x-python",
   "name": "python",
   "nbconvert_exporter": "python",
   "pygments_lexer": "ipython3",
   "version": "3.7.6"
  }
 },
 "nbformat": 4,
 "nbformat_minor": 4
}
