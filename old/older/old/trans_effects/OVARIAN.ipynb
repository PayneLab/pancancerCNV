{
 "cells": [
  {
   "cell_type": "code",
   "execution_count": 1,
   "metadata": {},
   "outputs": [
    {
     "name": "stdout",
     "output_type": "stream",
     "text": [
      "Requirement already satisfied: cptac in c:\\users\\chels\\anaconda3\\lib\\site-packages (0.8.0)\n",
      "Requirement already satisfied: beautifulsoup4>=4.7.1 in c:\\users\\chels\\anaconda3\\lib\\site-packages (from cptac) (4.8.2)\n",
      "Requirement already satisfied: scipy>=1.2.1 in c:\\users\\chels\\anaconda3\\lib\\site-packages (from cptac) (1.4.1)\n",
      "Requirement already satisfied: xlrd>=1.2.0 in c:\\users\\chels\\anaconda3\\lib\\site-packages (from cptac) (1.2.0)\n",
      "Requirement already satisfied: urllib3>=1.24.2 in c:\\users\\chels\\anaconda3\\lib\\site-packages (from cptac) (1.25.8)\n",
      "Requirement already satisfied: requests>=2.21.0 in c:\\users\\chels\\anaconda3\\lib\\site-packages (from cptac) (2.22.0)\n",
      "Requirement already satisfied: pandas>=0.25.1 in c:\\users\\chels\\anaconda3\\lib\\site-packages (from cptac) (1.0.1)\n",
      "Requirement already satisfied: numpy>=1.16.3 in c:\\users\\chels\\anaconda3\\lib\\site-packages (from cptac) (1.18.1)\n",
      "Requirement already satisfied: packaging>=19.2 in c:\\users\\chels\\anaconda3\\lib\\site-packages (from cptac) (20.1)\n",
      "Requirement already satisfied: soupsieve>=1.2 in c:\\users\\chels\\anaconda3\\lib\\site-packages (from beautifulsoup4>=4.7.1->cptac) (1.9.5)\n",
      "Requirement already satisfied: chardet<3.1.0,>=3.0.2 in c:\\users\\chels\\anaconda3\\lib\\site-packages (from requests>=2.21.0->cptac) (3.0.4)\n",
      "Requirement already satisfied: idna<2.9,>=2.5 in c:\\users\\chels\\anaconda3\\lib\\site-packages (from requests>=2.21.0->cptac) (2.8)\n",
      "Requirement already satisfied: certifi>=2017.4.17 in c:\\users\\chels\\anaconda3\\lib\\site-packages (from requests>=2.21.0->cptac) (2019.11.28)\n",
      "Requirement already satisfied: pytz>=2017.2 in c:\\users\\chels\\anaconda3\\lib\\site-packages (from pandas>=0.25.1->cptac) (2019.3)\n",
      "Requirement already satisfied: python-dateutil>=2.6.1 in c:\\users\\chels\\anaconda3\\lib\\site-packages (from pandas>=0.25.1->cptac) (2.8.1)\n",
      "Requirement already satisfied: pyparsing>=2.0.2 in c:\\users\\chels\\anaconda3\\lib\\site-packages (from packaging>=19.2->cptac) (2.4.6)\n",
      "Requirement already satisfied: six in c:\\users\\chels\\anaconda3\\lib\\site-packages (from packaging>=19.2->cptac) (1.14.0)\n",
      "Requirement already up-to-date: cptac in c:\\users\\chels\\anaconda3\\lib\\site-packages (0.8.0)\n",
      "Requirement already satisfied, skipping upgrade: requests>=2.21.0 in c:\\users\\chels\\anaconda3\\lib\\site-packages (from cptac) (2.22.0)\n",
      "Requirement already satisfied, skipping upgrade: pandas>=0.25.1 in c:\\users\\chels\\anaconda3\\lib\\site-packages (from cptac) (1.0.1)\n",
      "Requirement already satisfied, skipping upgrade: scipy>=1.2.1 in c:\\users\\chels\\anaconda3\\lib\\site-packages (from cptac) (1.4.1)\n",
      "Requirement already satisfied, skipping upgrade: beautifulsoup4>=4.7.1 in c:\\users\\chels\\anaconda3\\lib\\site-packages (from cptac) (4.8.2)\n",
      "Requirement already satisfied, skipping upgrade: packaging>=19.2 in c:\\users\\chels\\anaconda3\\lib\\site-packages (from cptac) (20.1)\n",
      "Requirement already satisfied, skipping upgrade: numpy>=1.16.3 in c:\\users\\chels\\anaconda3\\lib\\site-packages (from cptac) (1.18.1)\n",
      "Requirement already satisfied, skipping upgrade: xlrd>=1.2.0 in c:\\users\\chels\\anaconda3\\lib\\site-packages (from cptac) (1.2.0)\n",
      "Requirement already satisfied, skipping upgrade: urllib3>=1.24.2 in c:\\users\\chels\\anaconda3\\lib\\site-packages (from cptac) (1.25.8)\n",
      "Requirement already satisfied, skipping upgrade: certifi>=2017.4.17 in c:\\users\\chels\\anaconda3\\lib\\site-packages (from requests>=2.21.0->cptac) (2019.11.28)\n",
      "Requirement already satisfied, skipping upgrade: idna<2.9,>=2.5 in c:\\users\\chels\\anaconda3\\lib\\site-packages (from requests>=2.21.0->cptac) (2.8)\n",
      "Requirement already satisfied, skipping upgrade: chardet<3.1.0,>=3.0.2 in c:\\users\\chels\\anaconda3\\lib\\site-packages (from requests>=2.21.0->cptac) (3.0.4)\n",
      "Requirement already satisfied, skipping upgrade: python-dateutil>=2.6.1 in c:\\users\\chels\\anaconda3\\lib\\site-packages (from pandas>=0.25.1->cptac) (2.8.1)\n",
      "Requirement already satisfied, skipping upgrade: pytz>=2017.2 in c:\\users\\chels\\anaconda3\\lib\\site-packages (from pandas>=0.25.1->cptac) (2019.3)\n",
      "Requirement already satisfied, skipping upgrade: soupsieve>=1.2 in c:\\users\\chels\\anaconda3\\lib\\site-packages (from beautifulsoup4>=4.7.1->cptac) (1.9.5)\n",
      "Requirement already satisfied, skipping upgrade: pyparsing>=2.0.2 in c:\\users\\chels\\anaconda3\\lib\\site-packages (from packaging>=19.2->cptac) (2.4.6)\n",
      "Requirement already satisfied, skipping upgrade: six in c:\\users\\chels\\anaconda3\\lib\\site-packages (from packaging>=19.2->cptac) (1.14.0)\n"
     ]
    }
   ],
   "source": [
    "!pip install cptac\n",
    "!pip install --upgrade cptac"
   ]
  },
  {
   "cell_type": "code",
   "execution_count": 2,
   "metadata": {},
   "outputs": [],
   "source": [
    "import pandas as pd\n",
    "import matplotlib.pyplot as plt\n",
    "import seaborn as sns\n",
    "import numpy as np\n",
    "import cptac\n",
    "import pyensembl\n",
    "from scipy import stats"
   ]
  },
  {
   "cell_type": "code",
   "execution_count": 34,
   "metadata": {},
   "outputs": [
    {
     "name": "stdout",
     "output_type": "stream",
     "text": [
      "                                            \r"
     ]
    }
   ],
   "source": [
    "cptac.download(dataset=\"ovarian\")\n",
    "ovarian = cptac.Ovarian()"
   ]
  },
  {
   "cell_type": "code",
   "execution_count": 35,
   "metadata": {},
   "outputs": [],
   "source": [
    "ensembl = pyensembl.EnsemblRelease()"
   ]
  },
  {
   "cell_type": "code",
   "execution_count": 36,
   "metadata": {},
   "outputs": [],
   "source": [
    "ovarian_cnv = ovarian.get_CNV()"
   ]
  },
  {
   "cell_type": "code",
   "execution_count": 37,
   "metadata": {},
   "outputs": [],
   "source": [
    "def separate(hiCut, lowCut, data):\n",
    "  \"\"\"\n",
    "  Counts the Number of patients with high and low value for each gene.\n",
    "  \"\"\"\n",
    "  sepDict = dict()\n",
    "  for column in data:\n",
    "    numHi = 0\n",
    "    numLow = 0\n",
    "    numNeu = 0\n",
    "    for i in data[column]:\n",
    "        if i > hiCut:\n",
    "            numHi += 1\n",
    "        elif i < lowCut:\n",
    "            numLow += 1\n",
    "        else:\n",
    "            numNeu += 1 \n",
    "    sepDict[column] = [numHi, numNeu, numLow]\n",
    "  return sepDict"
   ]
  },
  {
   "cell_type": "code",
   "execution_count": 38,
   "metadata": {},
   "outputs": [],
   "source": [
    "def get_counts_and_average(data):\n",
    "  \"\"\"\n",
    "  Takes a CNV dataframe and generates a dataframe with the counts of high, low and neutral values\n",
    "  \"\"\"\n",
    "  df = pd.DataFrame(data = separate(.3,-.2,data), index = [\"amplifications\", \"neutral\", \"deletions\"])\n",
    "  df = df.append(pd.DataFrame(data.mean(0), columns=['average']).transpose(), sort=True)\n",
    "  return df.transpose()"
   ]
  },
  {
   "cell_type": "code",
   "execution_count": 39,
   "metadata": {},
   "outputs": [],
   "source": [
    "ovarian_counts = get_counts_and_average(ovarian_cnv)"
   ]
  },
  {
   "cell_type": "code",
   "execution_count": 40,
   "metadata": {},
   "outputs": [],
   "source": [
    "def add_chromo_and_loc(my_dict, cancer):\n",
    "    chromo = list()\n",
    "    locations = list()\n",
    "    not_found = list()\n",
    "    count = 0\n",
    "    for gene in list(my_dict.index.get_level_values(0)):\n",
    "        count += 1\n",
    "        try:\n",
    "            e_gene = ensembl.genes_by_name(gene)\n",
    "            chromo.append(e_gene[0].contig)\n",
    "            locations.append((e_gene[0].start + e_gene[0].end)/2)\n",
    "        except:\n",
    "            not_found.append(gene)\n",
    "            chromo.append(None)\n",
    "            locations.append(None)\n",
    "    my_dict['chromo'] = chromo\n",
    "    my_dict['location'] = locations\n",
    "    my_dict['cancer'] = cancer\n",
    "    print(len(not_found)/count)\n",
    "    return my_dict"
   ]
  },
  {
   "cell_type": "code",
   "execution_count": 41,
   "metadata": {},
   "outputs": [
    {
     "name": "stdout",
     "output_type": "stream",
     "text": [
      "0.05881324318022849\n"
     ]
    }
   ],
   "source": [
    "ovarian_counts = add_chromo_and_loc(ovarian_counts, \"OVARIAN\")"
   ]
  },
  {
   "cell_type": "code",
   "execution_count": 42,
   "metadata": {},
   "outputs": [],
   "source": [
    "chromosome_num = '8'"
   ]
  },
  {
   "cell_type": "code",
   "execution_count": 43,
   "metadata": {},
   "outputs": [],
   "source": [
    "ovarian_counts_cleaned = ovarian_counts.dropna(subset=['location'])\n",
    "ovarian_counts_cleaned_8 = ovarian_counts_cleaned[ovarian_counts_cleaned.chromo=='8']"
   ]
  },
  {
   "cell_type": "code",
   "execution_count": 44,
   "metadata": {},
   "outputs": [],
   "source": [
    "genes_before_intersect = ovarian_counts_cleaned_8[ovarian_counts_cleaned_8.deletions > 60]"
   ]
  },
  {
   "cell_type": "code",
   "execution_count": 45,
   "metadata": {},
   "outputs": [],
   "source": [
    "ovarian_counts_8 = ovarian_counts[ovarian_counts.chromo == chromosome_num]\n",
    "ovarian_counts_8 = pd.melt(ovarian_counts_8, id_vars=['chromo', 'location', 'cancer'], value_vars=['amplifications', 'deletions'])"
   ]
  },
  {
   "cell_type": "code",
   "execution_count": 46,
   "metadata": {},
   "outputs": [
    {
     "data": {
      "text/plain": [
       "<matplotlib.lines.Line2D at 0x2785d0a1e08>"
      ]
     },
     "execution_count": 46,
     "metadata": {},
     "output_type": "execute_result"
    },
    {
     "data": {
      "image/png": "[encoded data removed]",
      "text/plain": [
       "<Figure size 432x288 with 1 Axes>"
      ]
     },
     "metadata": {
      "needs_background": "light"
     },
     "output_type": "display_data"
    }
   ],
   "source": [
    "sns.lineplot(x=\"location\", y=\"value\", hue=\"variable\", palette=['darkred', 'darkblue'], data=ovarian_counts_8)\n",
    "plt.axvline(max(genes_before_intersect.location))"
   ]
  },
  {
   "cell_type": "code",
   "execution_count": 74,
   "metadata": {},
   "outputs": [
    {
     "data": {
      "text/plain": [
       "26807714.0"
      ]
     },
     "execution_count": 74,
     "metadata": {},
     "output_type": "execute_result"
    }
   ],
   "source": [
    "max(genes_before_intersect.location)"
   ]
  },
  {
   "cell_type": "code",
   "execution_count": 63,
   "metadata": {},
   "outputs": [],
   "source": [
    "gene_list = list(ovarian_counts_cleaned_8[ovarian_counts_cleaned_8.location < max(genes_before_intersect.location)].index)"
   ]
  },
  {
   "cell_type": "code",
   "execution_count": 64,
   "metadata": {},
   "outputs": [],
   "source": [
    "df_before_intersect = ovarian_cnv[gene_list]"
   ]
  },
  {
   "cell_type": "code",
   "execution_count": 65,
   "metadata": {},
   "outputs": [],
   "source": [
    "def calc_percent(row):\n",
    "    values = list(row)\n",
    "    return(len([x for x in values if x <= -0.2]) / len(values))"
   ]
  },
  {
   "cell_type": "code",
   "execution_count": 66,
   "metadata": {},
   "outputs": [
    {
     "name": "stderr",
     "output_type": "stream",
     "text": [
      "C:\\Users\\chels\\anaconda3\\lib\\site-packages\\ipykernel_launcher.py:1: SettingWithCopyWarning: \n",
      "A value is trying to be set on a copy of a slice from a DataFrame.\n",
      "Try using .loc[row_indexer,col_indexer] = value instead\n",
      "\n",
      "See the caveats in the documentation: https://pandas.pydata.org/pandas-docs/stable/user_guide/indexing.html#returning-a-view-versus-a-copy\n",
      "  \"\"\"Entry point for launching an IPython kernel.\n"
     ]
    }
   ],
   "source": [
    "df_before_intersect['percent'] = df_before_intersect.apply(calc_percent, axis=1)"
   ]
  },
  {
   "cell_type": "code",
   "execution_count": 67,
   "metadata": {},
   "outputs": [],
   "source": [
    "have_event = list(df_before_intersect[df_before_intersect.percent >.8].index)\n",
    "no_event = [x for x in df_before_intersect.index if x not in have_event]"
   ]
  },
  {
   "cell_type": "code",
   "execution_count": 68,
   "metadata": {},
   "outputs": [
    {
     "name": "stdout",
     "output_type": "stream",
     "text": [
      "53\n",
      "47\n"
     ]
    }
   ],
   "source": [
    "print(len(have_event))\n",
    "print(len(no_event))"
   ]
  },
  {
   "cell_type": "code",
   "execution_count": 69,
   "metadata": {},
   "outputs": [],
   "source": [
    "ovarian_prot = ovarian.get_proteomics()"
   ]
  },
  {
   "cell_type": "code",
   "execution_count": 70,
   "metadata": {},
   "outputs": [],
   "source": [
    "def t_test(col):\n",
    "    has_ev = col[col.index.isin(have_event)]\n",
    "    no_ev = col[col.index.isin(no_event)]\n",
    "    return stats.ttest_ind(has_ev, no_ev)"
   ]
  },
  {
   "cell_type": "code",
   "execution_count": 71,
   "metadata": {},
   "outputs": [
    {
     "name": "stderr",
     "output_type": "stream",
     "text": [
      "C:\\Users\\chels\\anaconda3\\lib\\site-packages\\scipy\\stats\\_distn_infrastructure.py:903: RuntimeWarning: invalid value encountered in greater\n",
      "  return (a < x) & (x < b)\n",
      "C:\\Users\\chels\\anaconda3\\lib\\site-packages\\scipy\\stats\\_distn_infrastructure.py:903: RuntimeWarning: invalid value encountered in less\n",
      "  return (a < x) & (x < b)\n",
      "C:\\Users\\chels\\anaconda3\\lib\\site-packages\\scipy\\stats\\_distn_infrastructure.py:1912: RuntimeWarning: invalid value encountered in less_equal\n",
      "  cond2 = cond0 & (x <= _a)\n"
     ]
    }
   ],
   "source": [
    "ovarian_t_test = ovarian_prot.apply(t_test).transpose()\n",
    "ovarian_t_test = ovarian_t_test.rename(columns={0:\"statistic\", 1:\"p-value\"})"
   ]
  },
  {
   "cell_type": "code",
   "execution_count": 75,
   "metadata": {},
   "outputs": [
    {
     "data": {
      "text/html": [
       "<div>\n",
       "<style scoped>\n",
       "    .dataframe tbody tr th:only-of-type {\n",
       "        vertical-align: middle;\n",
       "    }\n",
       "\n",
       "    .dataframe tbody tr th {\n",
       "        vertical-align: top;\n",
       "    }\n",
       "\n",
       "    .dataframe thead th {\n",
       "        text-align: right;\n",
       "    }\n",
       "</style>\n",
       "<table border=\"1\" class=\"dataframe\">\n",
       "  <thead>\n",
       "    <tr style=\"text-align: right;\">\n",
       "      <th></th>\n",
       "      <th></th>\n",
       "      <th>statistic</th>\n",
       "      <th>p-value</th>\n",
       "    </tr>\n",
       "    <tr>\n",
       "      <th>Name</th>\n",
       "      <th>Database_ID</th>\n",
       "      <th></th>\n",
       "      <th></th>\n",
       "    </tr>\n",
       "  </thead>\n",
       "  <tbody>\n",
       "    <tr>\n",
       "      <th>A1BG</th>\n",
       "      <th>NP_570602</th>\n",
       "      <td>-2.439077</td>\n",
       "      <td>0.016967</td>\n",
       "    </tr>\n",
       "    <tr>\n",
       "      <th>A2M</th>\n",
       "      <th>NP_000005</th>\n",
       "      <td>-2.184034</td>\n",
       "      <td>0.031926</td>\n",
       "    </tr>\n",
       "    <tr>\n",
       "      <th>A2ML1</th>\n",
       "      <th>NP_653271</th>\n",
       "      <td>NaN</td>\n",
       "      <td>NaN</td>\n",
       "    </tr>\n",
       "    <tr>\n",
       "      <th>AAAS</th>\n",
       "      <th>NP_056480</th>\n",
       "      <td>0.599025</td>\n",
       "      <td>0.550870</td>\n",
       "    </tr>\n",
       "    <tr>\n",
       "      <th>AACS</th>\n",
       "      <th>NP_076417</th>\n",
       "      <td>1.110835</td>\n",
       "      <td>0.270009</td>\n",
       "    </tr>\n",
       "    <tr>\n",
       "      <th>...</th>\n",
       "      <th>...</th>\n",
       "      <td>...</td>\n",
       "      <td>...</td>\n",
       "    </tr>\n",
       "    <tr>\n",
       "      <th>ZWINT</th>\n",
       "      <th>NP_008988</th>\n",
       "      <td>NaN</td>\n",
       "      <td>NaN</td>\n",
       "    </tr>\n",
       "    <tr>\n",
       "      <th>ZYG11B</th>\n",
       "      <th>NP_078922</th>\n",
       "      <td>2.365464</td>\n",
       "      <td>0.020460</td>\n",
       "    </tr>\n",
       "    <tr>\n",
       "      <th>ZYX</th>\n",
       "      <th>NP_001010972</th>\n",
       "      <td>0.205393</td>\n",
       "      <td>0.837793</td>\n",
       "    </tr>\n",
       "    <tr>\n",
       "      <th>ZZEF1</th>\n",
       "      <th>NP_055928</th>\n",
       "      <td>0.780750</td>\n",
       "      <td>0.437283</td>\n",
       "    </tr>\n",
       "    <tr>\n",
       "      <th>ZZZ3</th>\n",
       "      <th>NP_056349</th>\n",
       "      <td>NaN</td>\n",
       "      <td>NaN</td>\n",
       "    </tr>\n",
       "  </tbody>\n",
       "</table>\n",
       "<p>10686 rows × 2 columns</p>\n",
       "</div>"
      ],
      "text/plain": [
       "                     statistic   p-value\n",
       "Name   Database_ID                      \n",
       "A1BG   NP_570602     -2.439077  0.016967\n",
       "A2M    NP_000005     -2.184034  0.031926\n",
       "A2ML1  NP_653271           NaN       NaN\n",
       "AAAS   NP_056480      0.599025  0.550870\n",
       "AACS   NP_076417      1.110835  0.270009\n",
       "...                        ...       ...\n",
       "ZWINT  NP_008988           NaN       NaN\n",
       "ZYG11B NP_078922      2.365464  0.020460\n",
       "ZYX    NP_001010972   0.205393  0.837793\n",
       "ZZEF1  NP_055928      0.780750  0.437283\n",
       "ZZZ3   NP_056349           NaN       NaN\n",
       "\n",
       "[10686 rows x 2 columns]"
      ]
     },
     "execution_count": 75,
     "metadata": {},
     "output_type": "execute_result"
    }
   ],
   "source": [
    "ovarian_t_test"
   ]
  }
 ],
 "metadata": {
  "kernelspec": {
   "display_name": "Python 3",
   "language": "python",
   "name": "python3"
  },
  "language_info": {
   "codemirror_mode": {
    "name": "ipython",
    "version": 3
   },
   "file_extension": ".py",
   "mimetype": "text/x-python",
   "name": "python",
   "nbconvert_exporter": "python",
   "pygments_lexer": "ipython3",
   "version": "3.7.6"
  }
 },
 "nbformat": 4,
 "nbformat_minor": 4
}
