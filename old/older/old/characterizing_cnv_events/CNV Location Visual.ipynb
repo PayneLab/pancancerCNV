{
 "cells": [
  {
   "cell_type": "markdown",
   "metadata": {},
   "source": [
    "# CNV Location Visual"
   ]
  },
  {
   "cell_type": "markdown",
   "metadata": {},
   "source": [
    "Here we want to create a visual to see where the respective gain and loss event are occurring. We will be using the counts tables to do so (creation of the counts tables can be found in the notebook titled \"Finding Significant CNVs\")"
   ]
  },
  {
   "cell_type": "markdown",
   "metadata": {},
   "source": [
    "## Import necessary Librarys and data"
   ]
  },
  {
   "cell_type": "code",
   "execution_count": 2,
   "metadata": {},
   "outputs": [],
   "source": [
    "import pandas as pd\n",
    "import matplotlib.pyplot as plt\n",
    "import seaborn as sns\n",
    "import numpy as np\n",
    "import cptac\n",
    "import pyensembl"
   ]
  },
  {
   "cell_type": "code",
   "execution_count": 3,
   "metadata": {},
   "outputs": [],
   "source": [
    "en_counts = pd.read_csv(\"../count_tables/en_counts.csv\", index_col=0)\n",
    "gbm_counts = pd.read_csv(\"../count_tables/gbm_counts.csv\", index_col=0)\n",
    "brca_counts = pd.read_csv(\"../count_tables/brca_counts.csv\", index_col=0)\n",
    "hnscc_counts = pd.read_csv(\"../count_tables/hnscc_counts.csv\", index_col=0)\n",
    "luad_counts = pd.read_csv(\"../count_tables/luad_counts.csv\", index_col=0)\n",
    "ovarian_counts = pd.read_csv(\"../count_tables/ovarian_counts.csv\", index_col=0)\n",
    "ccrcc_counts = pd.read_csv(\"../count_tables/ccrcc_counts.csv\", index_col=0)\n",
    "colon_counts = pd.read_csv(\"../count_tables/colon_counts.csv\", index_col=0)\n",
    "lscc_counts = pd.read_csv(\"../count_tables/lscc_counts.csv\", index_col=0)"
   ]
  },
  {
   "cell_type": "code",
   "execution_count": 4,
   "metadata": {},
   "outputs": [],
   "source": [
    "ensembl = pyensembl.EnsemblRelease()"
   ]
  },
  {
   "cell_type": "markdown",
   "metadata": {},
   "source": [
    "## Add Gene Location to Dataframes"
   ]
  },
  {
   "cell_type": "code",
   "execution_count": 5,
   "metadata": {},
   "outputs": [],
   "source": [
    "def add_chromo_and_loc(my_dict):\n",
    "    chromo = list()\n",
    "    locations = list()\n",
    "    not_found = list()\n",
    "    count = 0\n",
    "    for gene in list(my_dict.index.get_level_values(0)):\n",
    "        count += 1\n",
    "        try:\n",
    "            e_gene = ensembl.genes_by_name(gene)\n",
    "            chromo.append(e_gene[0].contig)\n",
    "            locations.append((e_gene[0].start + e_gene[0].end)/2)\n",
    "        except:\n",
    "            not_found.append(gene)\n",
    "            chromo.append(None)\n",
    "            locations.append(None)\n",
    "    my_dict['chromo'] = chromo\n",
    "    my_dict['location'] = locations\n",
    "    print(len(not_found)/count)\n",
    "    return my_dict"
   ]
  },
  {
   "cell_type": "code",
   "execution_count": 6,
   "metadata": {},
   "outputs": [
    {
     "ename": "TypeError",
     "evalue": "add_chromo_and_loc() takes 1 positional argument but 2 were given",
     "output_type": "error",
     "traceback": [
      "\u001b[1;31m---------------------------------------------------------------------------\u001b[0m",
      "\u001b[1;31mTypeError\u001b[0m                                 Traceback (most recent call last)",
      "\u001b[1;32m<ipython-input-6-4f71fb526f02>\u001b[0m in \u001b[0;36m<module>\u001b[1;34m\u001b[0m\n\u001b[1;32m----> 1\u001b[1;33m \u001b[0mluad_counts\u001b[0m \u001b[1;33m=\u001b[0m \u001b[0madd_chromo_and_loc\u001b[0m\u001b[1;33m(\u001b[0m\u001b[0mluad_counts\u001b[0m\u001b[1;33m,\u001b[0m \u001b[1;34m'LUAD'\u001b[0m\u001b[1;33m)\u001b[0m\u001b[1;33m\u001b[0m\u001b[1;33m\u001b[0m\u001b[0m\n\u001b[0m\u001b[0;32m      2\u001b[0m \u001b[0mhnscc_counts\u001b[0m \u001b[1;33m=\u001b[0m \u001b[0madd_chromo_and_loc\u001b[0m\u001b[1;33m(\u001b[0m\u001b[0mhnscc_counts\u001b[0m\u001b[1;33m,\u001b[0m \u001b[1;34m'HNSCC'\u001b[0m\u001b[1;33m)\u001b[0m\u001b[1;33m\u001b[0m\u001b[1;33m\u001b[0m\u001b[0m\n\u001b[0;32m      3\u001b[0m \u001b[0movarian_counts\u001b[0m \u001b[1;33m=\u001b[0m \u001b[0madd_chromo_and_loc\u001b[0m\u001b[1;33m(\u001b[0m\u001b[0movarian_counts\u001b[0m\u001b[1;33m,\u001b[0m \u001b[1;34m'OVARIAN'\u001b[0m\u001b[1;33m)\u001b[0m\u001b[1;33m\u001b[0m\u001b[1;33m\u001b[0m\u001b[0m\n\u001b[0;32m      4\u001b[0m \u001b[0mgbm_counts\u001b[0m \u001b[1;33m=\u001b[0m \u001b[0madd_chromo_and_loc\u001b[0m\u001b[1;33m(\u001b[0m\u001b[0mgbm_counts\u001b[0m\u001b[1;33m,\u001b[0m \u001b[1;34m'GBM'\u001b[0m\u001b[1;33m)\u001b[0m\u001b[1;33m\u001b[0m\u001b[1;33m\u001b[0m\u001b[0m\n\u001b[0;32m      5\u001b[0m \u001b[0mlscc_counts\u001b[0m \u001b[1;33m=\u001b[0m \u001b[0madd_chromo_and_loc\u001b[0m\u001b[1;33m(\u001b[0m\u001b[0mlscc_counts\u001b[0m\u001b[1;33m,\u001b[0m \u001b[1;34m'LSCC'\u001b[0m\u001b[1;33m)\u001b[0m\u001b[1;33m\u001b[0m\u001b[1;33m\u001b[0m\u001b[0m\n",
      "\u001b[1;31mTypeError\u001b[0m: add_chromo_and_loc() takes 1 positional argument but 2 were given"
     ]
    }
   ],
   "source": [
    "luad_counts = add_chromo_and_loc(luad_counts, 'LUAD')\n",
    "hnscc_counts = add_chromo_and_loc(hnscc_counts, 'HNSCC')\n",
    "ovarian_counts = add_chromo_and_loc(ovarian_counts, 'OVARIAN')\n",
    "gbm_counts = add_chromo_and_loc(gbm_counts, 'GBM')\n",
    "lscc_counts = add_chromo_and_loc(lscc_counts, 'LSCC')\n",
    "colon_counts = add_chromo_and_loc(colon_counts, 'COLON')\n",
    "brca_counts = add_chromo_and_loc(brca_counts, 'BRCA')\n",
    "ccrcc_counts = add_chromo_and_loc(ccrcc_counts, 'CCRCC')\n",
    "en_counts = add_chromo_and_loc(en_counts, 'ENDO')"
   ]
  },
  {
   "cell_type": "markdown",
   "metadata": {},
   "source": [
    "## Subset Desired Chromsome"
   ]
  },
  {
   "cell_type": "code",
   "execution_count": null,
   "metadata": {},
   "outputs": [],
   "source": [
    "chromosome_num = '8'"
   ]
  },
  {
   "cell_type": "code",
   "execution_count": null,
   "metadata": {},
   "outputs": [],
   "source": [
    "luad_counts_8 = luad_counts[luad_counts.chromo == chromosome_num]\n",
    "hnscc_counts_8 = hnscc_counts[hnscc_counts.chromo == chromosome_num]\n",
    "ovarian_counts_8 = ovarian_counts[ovarian_counts.chromo == chromosome_num]\n",
    "colon_counts_8 = colon_counts[colon_counts.chromo == chromosome_num]\n",
    "brca_counts_8 = brca_counts[brca_counts.chromo == chromosome_num]\n",
    "gbm_counts_8 = gbm_counts[gbm_counts.chromo == chromosome_num]\n",
    "lscc_counts_8 = lscc_counts[lscc_counts.chromo == chromosome_num]\n",
    "ccrcc_counts_8 = ccrcc_counts[ccrcc_counts.chromo == chromosome_num]\n",
    "en_counts_8 = en_counts[en_counts.chromo == chromosome_num]"
   ]
  },
  {
   "cell_type": "code",
   "execution_count": null,
   "metadata": {},
   "outputs": [],
   "source": [
    "# Format for graphs\n",
    "luad_counts_8 = pd.melt(luad_counts_8, id_vars=['chromo', 'location', 'cancer'], value_vars=['amplifications', 'deletions'])\n",
    "hnscc_counts_8 = pd.melt(hnscc_counts_8, id_vars=['chromo', 'location', 'cancer'], value_vars=['amplifications', 'deletions'])\n",
    "ovarian_counts_8 = pd.melt(ovarian_counts_8, id_vars=['chromo', 'location', 'cancer'], value_vars=['amplifications', 'deletions'])\n",
    "colon_counts_8 = pd.melt(colon_counts_8, id_vars=['chromo', 'location', 'cancer'], value_vars=['amplifications', 'deletions'])\n",
    "brca_counts_8 = pd.melt(brca_counts_8, id_vars=['chromo', 'location', 'cancer'], value_vars=['amplifications', 'deletions'])\n",
    "gbm_counts_8 = pd.melt(gbm_counts_8, id_vars=['chromo', 'location', 'cancer'], value_vars=['amplifications', 'deletions'])\n",
    "lscc_counts_8 = pd.melt(lscc_counts_8, id_vars=['chromo', 'location', 'cancer'], value_vars=['amplifications', 'deletions'])\n",
    "ccrcc_counts_8 = pd.melt(ccrcc_counts_8, id_vars=['chromo', 'location', 'cancer'], value_vars=['amplifications', 'deletions'])\n",
    "en_counts_8 = pd.melt(en_counts_8, id_vars=['chromo', 'location', 'cancer'], value_vars=['amplifications', 'deletions'])"
   ]
  },
  {
   "cell_type": "code",
   "execution_count": null,
   "metadata": {},
   "outputs": [],
   "source": [
    "luad_has_event = pd.read_csv(\"../luad_has_event.csv\")"
   ]
  },
  {
   "cell_type": "code",
   "execution_count": null,
   "metadata": {},
   "outputs": [],
   "source": [
    "frames = [luad_counts_8, hnscc_counts_8, ovarian_counts_8, colon_counts_8, brca_counts_8, gbm_counts_8, lscc_counts_8, ccrcc_counts_8, en_counts_8]"
   ]
  },
  {
   "cell_type": "markdown",
   "metadata": {},
   "source": [
    "## Create Visual"
   ]
  },
  {
   "cell_type": "code",
   "execution_count": null,
   "metadata": {},
   "outputs": [],
   "source": [
    "# I was not able to find a good library for creating a visual of a chromosome\n",
    "# with their banding patterns, so I wrote this function to do it for me.\n",
    "\n",
    "ideogram_data = pd.read_csv('NCBI_ideogram.csv') #cytoband infromation from NCBI\n",
    "chromo8 = ideogram_data[ideogram_data['#chromosome'] == chromosome_num]\n",
    "colors = []\n",
    "sections = list()\n",
    "for index, row in chromo8.iterrows():\n",
    "  sections.append((row['bp_start'], row['bp_stop']-row['bp_start']))\n",
    "  if row['stain'] == 'gneg':\n",
    "    colors.append('white')\n",
    "  elif row['stain'] == 'gpos':\n",
    "    if row['density'] == 25.0:\n",
    "      colors.append('lightgray')\n",
    "    elif row['density'] == 50.0:\n",
    "      colors.append('gray')\n",
    "    elif row['density'] == 75.0:\n",
    "      colors.append('darkgray')\n",
    "    else:\n",
    "      colors.append('black')\n",
    "  elif row['stain'] == 'acen':\n",
    "    colors.append('red')\n",
    "  else:\n",
    "    colors.append('lightgray')"
   ]
  },
  {
   "cell_type": "code",
   "execution_count": null,
   "metadata": {},
   "outputs": [],
   "source": [
    "count = 0\n",
    "end_bp = sections[len(sections) - 1][0] + sections[len(sections) - 1][1]\n",
    "fig, axs = plt.subplots(nrows=len(frames) + 1, sharex=True, sharey=True, num=0, figsize=(10,11), )\n",
    "title = f'Chromosome {chromosome_num}'\n",
    "fig.suptitle(title, y=0.9, x=0.45)\n",
    "# plt.xlim(0,175138636)\n",
    "plt.xlim(0,end_bp + (end_bp/5))\n",
    "plt.ylim(0, 100)\n",
    "for frame in frames:\n",
    "    axs[count].get_xaxis().set_visible(False)\n",
    "    axs[count].set_yticks([25,50])\n",
    "    axs[count].set_frame_on(False)\n",
    "    axs[count].text(end_bp + 5000000, 25, frame.cancer[0])\n",
    "    sns.lineplot(x=\"location\", y=\"value\", hue=\"variable\", palette=['darkred', 'darkblue'], data=frame, ax=axs[count], legend=False)\n",
    "    if 'crossover' in frame.columns:\n",
    "        axs[count].axvline(frame.crossover[0], color='black', ls='dashed')\n",
    "    axs[count].set_ylabel(\"\")\n",
    "    count += 1\n",
    "plt.broken_barh(sections, (50,15), facecolors=colors, edgecolor=\"black\")\n",
    "plt.axis('off')\n",
    "fig.legend(labels=(\"Amplifications\", \"Deletions\"), loc='center right')\n",
    "fig.text(0.07, 0.5, \"Number of Samples\", rotation=\"vertical\")"
   ]
  }
 ],
 "metadata": {
  "kernelspec": {
   "display_name": "Python 3",
   "language": "python",
   "name": "python3"
  },
  "language_info": {
   "codemirror_mode": {
    "name": "ipython",
    "version": 3
   },
   "file_extension": ".py",
   "mimetype": "text/x-python",
   "name": "python",
   "nbconvert_exporter": "python",
   "pygments_lexer": "ipython3",
   "version": "3.7.6"
  }
 },
 "nbformat": 4,
 "nbformat_minor": 4
}
