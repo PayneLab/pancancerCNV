{
 "cells": [
  {
   "cell_type": "markdown",
   "metadata": {},
   "source": [
    "# SCNA analysis step 2: Summarize amplifications and deletions on each arm\n",
    "\n",
    "We will create a table for each cancer type that has, for each chromosome arm in each patient, the proportion of the arm that was amplified and the proportion that was deleted."
   ]
  },
  {
   "cell_type": "code",
   "execution_count": 1,
   "metadata": {},
   "outputs": [],
   "source": [
    "import pandas as pd\n",
    "import numpy as np\n",
    "import os"
   ]
  },
  {
   "cell_type": "code",
   "execution_count": 2,
   "metadata": {},
   "outputs": [],
   "source": [
    "def summarize_arms(\n",
    "    cancer_type, \n",
    "    cutoff, \n",
    "    input_dir, \n",
    "    output_dir\n",
    "):\n",
    "    \n",
    "    input_file = os.path.join(input_dir, f\"{cancer_type}_cna_long.tsv.gz\")\n",
    "    \n",
    "    # It's important that we specify to read the chromosome column as \n",
    "    # objects, so that the numbers will be strings, not ints, and thus\n",
    "    # merge correctly with the arm lengths table\n",
    "    cna = pd.read_csv(input_file, sep='\\t', dtype={\"chromosome\": \"O\"})\n",
    "    \n",
    "    # For each arm, calculate the length of genes on that arm that we \n",
    "    # have coverage for. We'll use this as the arm length when calculating\n",
    "    # the proportion of the arm covered, instead of the actual arm length,\n",
    "    # so that the proportions covered aren't biased against arms with \n",
    "    # fewer genes.\n",
    "    cna = cna.assign(gene_length=(cna[\"end\"] - cna[\"start\"]).abs())\n",
    "    \n",
    "    arm_data_lens = cna.\\\n",
    "        groupby([\"Patient_ID\", \"chromosome\", \"arm\"])[[\"gene_length\"]].\\\n",
    "        sum().\\\n",
    "        rename(columns={\"gene_length\": \"arm_data_length\"}).\\\n",
    "        reset_index(drop=False)\n",
    "    \n",
    "    cna = cna.merge(\n",
    "        right=arm_data_lens,\n",
    "        how=\"outer\", \n",
    "        on=[\"Patient_ID\", \"chromosome\", \"arm\"],\n",
    "        validate=\"many_to_one\"\n",
    "    )\n",
    "    \n",
    "    # Slice out only the genes that pass the cutoff\n",
    "    cna = cna[cna[\"cna_val\"].abs() >= cutoff]\n",
    "    \n",
    "    # For each gene, calculate the proportion of its chromosome arm that it covers.\n",
    "    cna = cna.assign(prop_arm=(cna[\"end\"] - cna[\"start\"]).abs() / cna[\"arm_data_length\"])\n",
    "    \n",
    "    # Slice out just the columns we need now\n",
    "    cna = cna[[\"Patient_ID\", \"cna_val\", \"chromosome\", \"arm\", \"prop_arm\"]]\n",
    "    \n",
    "    # Separate the amplifications and the deletions\n",
    "    amps = cna[cna[\"cna_val\"] > 0]\n",
    "    dels = cna[cna[\"cna_val\"] < 0]\n",
    "    \n",
    "    # Calculate the proportion of each arm of each chromosome that is\n",
    "    # amplified and deleted in each sample\n",
    "    amp_summary = amps.\\\n",
    "        groupby([\"Patient_ID\", \"chromosome\", \"arm\"])[[\"prop_arm\"]].\\\n",
    "        sum().\\\n",
    "        rename(columns={\"prop_arm\": \"prop_arm_amplified\"}).\\\n",
    "        reset_index(drop=False)\n",
    "    \n",
    "    del_summary = dels.\\\n",
    "        groupby([\"Patient_ID\", \"chromosome\", \"arm\"])[[\"prop_arm\"]].\\\n",
    "        sum().\\\n",
    "        rename(columns={\"prop_arm\": \"prop_arm_deleted\"}).\\\n",
    "        reset_index(drop=False)\n",
    "    \n",
    "    # Merge them into one summary table\n",
    "    summary = amp_summary.\\\n",
    "        merge(\n",
    "            right=del_summary,\n",
    "            how=\"outer\",\n",
    "            on=[\"Patient_ID\", \"chromosome\", \"arm\"],\n",
    "            validate=\"one_to_one\"\n",
    "        ).\\\n",
    "        fillna({\"prop_arm_amplified\": 0, \"prop_arm_deleted\": 0}).\\\n",
    "        sort_values(by=[\"Patient_ID\", \"chromosome\", \"arm\"]).\\\n",
    "        reset_index(drop=True)\n",
    "    \n",
    "    # Save the output\n",
    "    if not os.path.isdir(output_dir):\n",
    "        os.mkdir(output_dir)\n",
    "\n",
    "    output_file = os.path.join(output_dir, f\"{cancer_type}_cna_summary.tsv.gz\")\n",
    "    summary.to_csv(output_file, index=False, compression=\"gzip\", sep=\"\\t\")\n",
    "\n",
    "    return summary"
   ]
  },
  {
   "cell_type": "code",
   "execution_count": 3,
   "metadata": {},
   "outputs": [],
   "source": [
    "cancer_types = [\n",
    "    \"brca\",\n",
    "    \"ccrcc\",\n",
    "    \"colon\",\n",
    "    \"endometrial\",\n",
    "    \"gbm\",\n",
    "    \"hnscc\",\n",
    "    \"lscc\",\n",
    "    \"luad\",\n",
    "    \"ovarian\"\n",
    "]"
   ]
  },
  {
   "cell_type": "code",
   "execution_count": 4,
   "metadata": {},
   "outputs": [],
   "source": [
    "for cancer_type in cancer_types:\n",
    "    summarize_arms(\n",
    "        cancer_type=cancer_type,\n",
    "        cutoff=0.2,\n",
    "        input_dir=\"long_cna_tables\",\n",
    "        output_dir=\"summary_tables\"\n",
    "    )"
   ]
  }
 ],
 "metadata": {
  "kernelspec": {
   "display_name": "Python 3",
   "language": "python",
   "name": "python3"
  },
  "language_info": {
   "codemirror_mode": {
    "name": "ipython",
    "version": 3
   },
   "file_extension": ".py",
   "mimetype": "text/x-python",
   "name": "python",
   "nbconvert_exporter": "python",
   "pygments_lexer": "ipython3",
   "version": "3.7.7"
  }
 },
 "nbformat": 4,
 "nbformat_minor": 4
}
