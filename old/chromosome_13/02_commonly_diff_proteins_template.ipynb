{
 "cells": [
  {
   "cell_type": "markdown",
   "metadata": {},
   "source": [
    "# Commonly Different Proteins\n",
    "\n",
    "Finds proteins within the event that are commonly different between samples with and without the event."
   ]
  },
  {
   "cell_type": "markdown",
   "metadata": {},
   "source": [
    "## Setup"
   ]
  },
  {
   "cell_type": "code",
   "execution_count": 1,
   "metadata": {},
   "outputs": [],
   "source": [
    "import pandas as pd\n",
    "import numpy as np\n",
    "import os\n",
    "import altair as alt"
   ]
  },
  {
   "cell_type": "code",
   "execution_count": 2,
   "metadata": {},
   "outputs": [],
   "source": [
    "# These are all the variables you will need to change for the\n",
    "# various events.\n",
    "\n",
    "CHROMOSOME = '13' #Example: '8' (must be string)\n",
    "# The arm must either be 'p' or 'q'\n",
    "ARM = 'q' \n",
    "# Options: 'cis' or 'trans'\n",
    "TRANS_OR_CIS = 'cis'"
   ]
  },
  {
   "cell_type": "markdown",
   "metadata": {},
   "source": [
    "## Prepare the dataframe"
   ]
  },
  {
   "cell_type": "code",
   "execution_count": 3,
   "metadata": {},
   "outputs": [],
   "source": [
    "ttest_results_file = f\"{CHROMOSOME}{ARM}_{TRANS_OR_CIS}effects_ttest.tsv\"\n",
    "\n",
    "ttest_results = pd.\\\n",
    "read_csv(ttest_results_file, sep=\"\\t\").\\\n",
    "rename(columns={\"Name\": \"protein\"}).\\\n",
    "set_index(\"protein\")"
   ]
  },
  {
   "cell_type": "code",
   "execution_count": 4,
   "metadata": {},
   "outputs": [],
   "source": [
    "cancer_types = sorted(ttest_results.columns.to_series().str.split(\"_\", n=1, expand=True)[0].unique())\n",
    "\n",
    "long_results = pd.DataFrame()\n",
    "\n",
    "for cancer_type in cancer_types:\n",
    "    cancer_df = ttest_results.\\\n",
    "    loc[:, ttest_results.columns.str.startswith(cancer_type)].\\\n",
    "    dropna(axis=\"index\", how=\"all\").\\\n",
    "    reset_index(drop=False)\n",
    "    \n",
    "    # If the cancer type has database IDs, make a separate column that has them.\n",
    "    # If not, create a column of NaNs (so that the tables all match)\n",
    "    if f\"{cancer_type}_Database_ID\" in cancer_df.columns:\n",
    "        cancer_df = cancer_df.rename(columns={f\"{cancer_type}_Database_ID\": \"Database_ID\"})\n",
    "    else:\n",
    "        cancer_df = cancer_df.assign(Database_ID=np.nan)\n",
    "        \n",
    "    # Rename the pvalue and diff columns to not have the cancer type\n",
    "    cancer_df = cancer_df.rename(columns={\n",
    "        f\"{cancer_type}_pvalue\": \"adj_p\",\n",
    "        f\"{cancer_type}_diff\": \"change\"\n",
    "    }).\\\n",
    "    assign(cancer_type=cancer_type)\n",
    "    \n",
    "    # Reorder the columns\n",
    "    cancer_df = cancer_df[[\"cancer_type\", \"protein\", \"Database_ID\", \"adj_p\", \"change\"]]\n",
    "    \n",
    "    # Append to the overall dataframe\n",
    "    long_results = long_results.append(cancer_df)\n",
    "\n",
    "# Drop duplicate rows and reset the index\n",
    "long_results = long_results[~long_results.duplicated(keep=False)].\\\n",
    "reset_index(drop=True)"
   ]
  },
  {
   "cell_type": "markdown",
   "metadata": {},
   "source": [
    "## Select proteins with significant change"
   ]
  },
  {
   "cell_type": "code",
   "execution_count": 5,
   "metadata": {},
   "outputs": [],
   "source": [
    "prots = long_results[long_results[\"adj_p\"] <= 0.05].reset_index(drop=True)\n",
    "prots_cts = prots.groupby(\"cancer_type\").count()[[\"protein\"]]\n",
    "\n",
    "fail_prots = long_results[long_results[\"adj_p\"] > 0.05].reset_index(drop=True)\n",
    "fail_cts = fail_prots.groupby(\"cancer_type\").count()[[\"protein\"]]\n",
    "\n",
    "prots_cts.insert(0, \"count_type\", \"Significant difference\")\n",
    "fail_cts.insert(0, \"count_type\", \"No significant difference\")\n",
    "\n",
    "counts = prots_cts.append(fail_cts).sort_index().reset_index(drop=False)"
   ]
  },
  {
   "cell_type": "markdown",
   "metadata": {},
   "source": [
    "## Make Plots"
   ]
  },
  {
   "cell_type": "code",
   "execution_count": 6,
   "metadata": {},
   "outputs": [
    {
     "data": {
      "text/html": [
       "\n",
       "<div id=\"altair-viz-b05858bdf9b34aa5a9423660e3e00a54\"></div>\n",
       "<script type=\"text/javascript\">\n",
       "  (function(spec, embedOpt){\n",
       "    let outputDiv = document.currentScript.previousElementSibling;\n",
       "    if (outputDiv.id !== \"altair-viz-b05858bdf9b34aa5a9423660e3e00a54\") {\n",
       "      outputDiv = document.getElementById(\"altair-viz-b05858bdf9b34aa5a9423660e3e00a54\");\n",
       "    }\n",
       "    const paths = {\n",
       "      \"vega\": \"https://cdn.jsdelivr.net/npm//vega@5?noext\",\n",
       "      \"vega-lib\": \"https://cdn.jsdelivr.net/npm//vega-lib?noext\",\n",
       "      \"vega-lite\": \"https://cdn.jsdelivr.net/npm//vega-lite@4.8.1?noext\",\n",
       "      \"vega-embed\": \"https://cdn.jsdelivr.net/npm//vega-embed@6?noext\",\n",
       "    };\n",
       "\n",
       "    function loadScript(lib) {\n",
       "      return new Promise(function(resolve, reject) {\n",
       "        var s = document.createElement('script');\n",
       "        s.src = paths[lib];\n",
       "        s.async = true;\n",
       "        s.onload = () => resolve(paths[lib]);\n",
       "        s.onerror = () => reject(`Error loading script: ${paths[lib]}`);\n",
       "        document.getElementsByTagName(\"head\")[0].appendChild(s);\n",
       "      });\n",
       "    }\n",
       "\n",
       "    function showError(err) {\n",
       "      outputDiv.innerHTML = `<div class=\"error\" style=\"color:red;\">${err}</div>`;\n",
       "      throw err;\n",
       "    }\n",
       "\n",
       "    function displayChart(vegaEmbed) {\n",
       "      vegaEmbed(outputDiv, spec, embedOpt)\n",
       "        .catch(err => showError(`Javascript Error: ${err.message}<br>This usually means there's a typo in your chart specification. See the javascript console for the full traceback.`));\n",
       "    }\n",
       "\n",
       "    if(typeof define === \"function\" && define.amd) {\n",
       "      requirejs.config({paths});\n",
       "      require([\"vega-embed\"], displayChart, err => showError(`Error loading script: ${err.message}`));\n",
       "    } else if (typeof vegaEmbed === \"function\") {\n",
       "      displayChart(vegaEmbed);\n",
       "    } else {\n",
       "      loadScript(\"vega\")\n",
       "        .then(() => loadScript(\"vega-lite\"))\n",
       "        .then(() => loadScript(\"vega-embed\"))\n",
       "        .catch(showError)\n",
       "        .then(() => displayChart(vegaEmbed));\n",
       "    }\n",
       "  })({\"config\": {\"view\": {\"continuousWidth\": 400, \"continuousHeight\": 300}, \"title\": {\"anchor\": \"middle\"}}, \"data\": {\"name\": \"data-ef61ac8f0ccd21e007b870d548a79c46\"}, \"facet\": {\"column\": {\"type\": \"nominal\", \"field\": \"cancer_type\", \"title\": null}}, \"spec\": {\"mark\": \"bar\", \"encoding\": {\"color\": {\"type\": \"nominal\", \"field\": \"count_type\", \"scale\": {\"domain\": [\"Significant difference\", \"No significant difference\"], \"range\": [\"#2d3da4\", \"#d1d1d1\"]}, \"sort\": [\"Significant difference\"], \"title\": null}, \"x\": {\"type\": \"nominal\", \"axis\": {\"labels\": false, \"title\": null}, \"field\": \"count_type\", \"sort\": [\"Significant difference\"]}, \"y\": {\"type\": \"quantitative\", \"axis\": {\"title\": \"Number of proteins\"}, \"field\": \"protein\"}}}, \"title\": \"Chr 13q cis effects\", \"$schema\": \"https://vega.github.io/schema/vega-lite/v4.8.1.json\", \"datasets\": {\"data-ef61ac8f0ccd21e007b870d548a79c46\": [{\"cancer_type\": \"brca\", \"count_type\": \"Significant difference\", \"protein\": 44}, {\"cancer_type\": \"brca\", \"count_type\": \"No significant difference\", \"protein\": 67}, {\"cancer_type\": \"gbm\", \"count_type\": \"Significant difference\", \"protein\": 52}, {\"cancer_type\": \"gbm\", \"count_type\": \"No significant difference\", \"protein\": 55}, {\"cancer_type\": \"hnscc\", \"count_type\": \"Significant difference\", \"protein\": 16}, {\"cancer_type\": \"hnscc\", \"count_type\": \"No significant difference\", \"protein\": 91}, {\"cancer_type\": \"lscc\", \"count_type\": \"Significant difference\", \"protein\": 35}, {\"cancer_type\": \"lscc\", \"count_type\": \"No significant difference\", \"protein\": 97}, {\"cancer_type\": \"luad\", \"count_type\": \"Significant difference\", \"protein\": 47}, {\"cancer_type\": \"luad\", \"count_type\": \"No significant difference\", \"protein\": 71}, {\"cancer_type\": \"ovarian\", \"count_type\": \"Significant difference\", \"protein\": 26}, {\"cancer_type\": \"ovarian\", \"count_type\": \"No significant difference\", \"protein\": 88}]}}, {\"mode\": \"vega-lite\"});\n",
       "</script>"
      ],
      "text/plain": [
       "alt.FacetChart(...)"
      ]
     },
     "execution_count": 6,
     "metadata": {},
     "output_type": "execute_result"
    }
   ],
   "source": [
    "alt.Chart(counts).mark_bar().encode(\n",
    "    x=alt.X(\n",
    "        \"count_type\",\n",
    "        axis=alt.Axis(\n",
    "            title=None,\n",
    "            labels=False\n",
    "        ),\n",
    "        sort=[\"Significant difference\"]\n",
    "    ),\n",
    "    y=alt.Y(\n",
    "        \"protein\",\n",
    "        axis=alt.Axis(\n",
    "            title=\"Number of proteins\"\n",
    "        )\n",
    "    ),\n",
    "    color=alt.Color(\n",
    "        \"count_type\",\n",
    "        title=None,\n",
    "        sort=[\"Significant difference\"],\n",
    "        scale=alt.Scale(\n",
    "            domain=[\"Significant difference\", \"No significant difference\"],\n",
    "            range=[\"#2d3da4\", \"#d1d1d1\"]\n",
    "        )\n",
    "    )\n",
    ").facet(\n",
    "    column=alt.Column(\n",
    "        \"cancer_type\",\n",
    "        title=None\n",
    "    )\n",
    ").properties(\n",
    "    title=f\"Chr {CHROMOSOME}{ARM} {TRANS_OR_CIS} effects\"\n",
    ").configure_title(\n",
    "    anchor=\"middle\"\n",
    ")"
   ]
  },
  {
   "cell_type": "markdown",
   "metadata": {},
   "source": [
    "## Find how many cancers each protein was different in"
   ]
  },
  {
   "cell_type": "code",
   "execution_count": 7,
   "metadata": {},
   "outputs": [],
   "source": [
    "def make_simple_change(change_val):\n",
    "    if change_val == 0:\n",
    "        return 0\n",
    "    if change_val > 0:\n",
    "        return 1\n",
    "    if change_val < 0:\n",
    "        return -1\n",
    "\n",
    "prots = prots.assign(\n",
    "    simplified_change=prots[\"change\"].apply(make_simple_change)\n",
    ")"
   ]
  },
  {
   "cell_type": "code",
   "execution_count": 8,
   "metadata": {},
   "outputs": [
    {
     "data": {
      "text/html": [
       "<div>\n",
       "<style scoped>\n",
       "    .dataframe tbody tr th:only-of-type {\n",
       "        vertical-align: middle;\n",
       "    }\n",
       "\n",
       "    .dataframe tbody tr th {\n",
       "        vertical-align: top;\n",
       "    }\n",
       "\n",
       "    .dataframe thead th {\n",
       "        text-align: right;\n",
       "    }\n",
       "</style>\n",
       "<table border=\"1\" class=\"dataframe\">\n",
       "  <thead>\n",
       "    <tr style=\"text-align: right;\">\n",
       "      <th></th>\n",
       "      <th>cancers</th>\n",
       "      <th>mean_simp_change</th>\n",
       "      <th>num_cancers</th>\n",
       "    </tr>\n",
       "    <tr>\n",
       "      <th>protein</th>\n",
       "      <th></th>\n",
       "      <th></th>\n",
       "      <th></th>\n",
       "    </tr>\n",
       "  </thead>\n",
       "  <tbody>\n",
       "    <tr>\n",
       "      <th>ALG5</th>\n",
       "      <td>[brca, gbm, hnscc, lscc, luad, ovarian]</td>\n",
       "      <td>-1.0</td>\n",
       "      <td>6</td>\n",
       "    </tr>\n",
       "    <tr>\n",
       "      <th>ESD</th>\n",
       "      <td>[brca, gbm, hnscc, lscc, luad, ovarian]</td>\n",
       "      <td>-1.0</td>\n",
       "      <td>6</td>\n",
       "    </tr>\n",
       "    <tr>\n",
       "      <th>FNDC3A</th>\n",
       "      <td>[brca, gbm, hnscc, lscc, luad, ovarian]</td>\n",
       "      <td>-1.0</td>\n",
       "      <td>6</td>\n",
       "    </tr>\n",
       "    <tr>\n",
       "      <th>MTMR6</th>\n",
       "      <td>[brca, gbm, hnscc, lscc, luad, ovarian]</td>\n",
       "      <td>-1.0</td>\n",
       "      <td>6</td>\n",
       "    </tr>\n",
       "    <tr>\n",
       "      <th>XPO4</th>\n",
       "      <td>[brca, gbm, hnscc, lscc, luad, ovarian]</td>\n",
       "      <td>-1.0</td>\n",
       "      <td>6</td>\n",
       "    </tr>\n",
       "    <tr>\n",
       "      <th>...</th>\n",
       "      <td>...</td>\n",
       "      <td>...</td>\n",
       "      <td>...</td>\n",
       "    </tr>\n",
       "    <tr>\n",
       "      <th>ITM2B</th>\n",
       "      <td>[luad]</td>\n",
       "      <td>-1.0</td>\n",
       "      <td>1</td>\n",
       "    </tr>\n",
       "    <tr>\n",
       "      <th>N4BP2L2</th>\n",
       "      <td>[luad]</td>\n",
       "      <td>NaN</td>\n",
       "      <td>1</td>\n",
       "    </tr>\n",
       "    <tr>\n",
       "      <th>RPL21</th>\n",
       "      <td>[luad]</td>\n",
       "      <td>-1.0</td>\n",
       "      <td>1</td>\n",
       "    </tr>\n",
       "    <tr>\n",
       "      <th>RBM26</th>\n",
       "      <td>[ovarian]</td>\n",
       "      <td>NaN</td>\n",
       "      <td>1</td>\n",
       "    </tr>\n",
       "    <tr>\n",
       "      <th>UFM1</th>\n",
       "      <td>[ovarian]</td>\n",
       "      <td>-1.0</td>\n",
       "      <td>1</td>\n",
       "    </tr>\n",
       "  </tbody>\n",
       "</table>\n",
       "<p>91 rows × 3 columns</p>\n",
       "</div>"
      ],
      "text/plain": [
       "                                         cancers  mean_simp_change  \\\n",
       "protein                                                              \n",
       "ALG5     [brca, gbm, hnscc, lscc, luad, ovarian]              -1.0   \n",
       "ESD      [brca, gbm, hnscc, lscc, luad, ovarian]              -1.0   \n",
       "FNDC3A   [brca, gbm, hnscc, lscc, luad, ovarian]              -1.0   \n",
       "MTMR6    [brca, gbm, hnscc, lscc, luad, ovarian]              -1.0   \n",
       "XPO4     [brca, gbm, hnscc, lscc, luad, ovarian]              -1.0   \n",
       "...                                          ...               ...   \n",
       "ITM2B                                     [luad]              -1.0   \n",
       "N4BP2L2                                   [luad]               NaN   \n",
       "RPL21                                     [luad]              -1.0   \n",
       "RBM26                                  [ovarian]               NaN   \n",
       "UFM1                                   [ovarian]              -1.0   \n",
       "\n",
       "         num_cancers  \n",
       "protein               \n",
       "ALG5               6  \n",
       "ESD                6  \n",
       "FNDC3A             6  \n",
       "MTMR6              6  \n",
       "XPO4               6  \n",
       "...              ...  \n",
       "ITM2B              1  \n",
       "N4BP2L2            1  \n",
       "RPL21              1  \n",
       "RBM26              1  \n",
       "UFM1               1  \n",
       "\n",
       "[91 rows x 3 columns]"
      ]
     },
     "execution_count": 8,
     "metadata": {},
     "output_type": "execute_result"
    }
   ],
   "source": [
    "prots_summary = prots.groupby(\"protein\").agg(**{\n",
    "    \"cancers\": (\"cancer_type\", lambda x: x.sort_values().drop_duplicates(keep=\"first\").tolist()),\n",
    "    \"mean_simp_change\": (\"simplified_change\", np.mean)\n",
    "})\n",
    "\n",
    "prots_summary = prots_summary.\\\n",
    "assign(\n",
    "    num_cancers=prots_summary[\"cancers\"].apply(len),\n",
    "    tmp_sort=prots_summary[\"cancers\"].apply(lambda x: \"\".join(x))\n",
    ").\\\n",
    "sort_values(by=[\"num_cancers\", \"tmp_sort\"], ascending=[False, True]).\\\n",
    "drop(columns=\"tmp_sort\")\n",
    "\n",
    "prots_summary"
   ]
  },
  {
   "cell_type": "code",
   "execution_count": null,
   "metadata": {},
   "outputs": [],
   "source": []
  },
  {
   "cell_type": "code",
   "execution_count": 9,
   "metadata": {},
   "outputs": [
    {
     "data": {
      "text/plain": [
       "6     5\n",
       "5     6\n",
       "4    10\n",
       "3    16\n",
       "2    16\n",
       "1    38\n",
       "Name: num_cancers, dtype: int64"
      ]
     },
     "execution_count": 9,
     "metadata": {},
     "output_type": "execute_result"
    }
   ],
   "source": [
    "prots_summary[\"num_cancers\"].value_counts().sort_index(ascending=False)"
   ]
  },
  {
   "cell_type": "markdown",
   "metadata": {},
   "source": [
    "## Save Results"
   ]
  },
  {
   "cell_type": "code",
   "execution_count": 10,
   "metadata": {},
   "outputs": [],
   "source": [
    "prots_summary = prots_summary.assign(\n",
    "    cancers=prots_summary[\"cancers\"].apply(lambda x: \"_\".join(x))\n",
    ")\n",
    "\n",
    "output_file = f\"pancancer_summary_{CHROMOSOME}{ARM}_{TRANS_OR_CIS}.tsv\"\n",
    "prots_summary.to_csv(output_file, sep=\"\\t\")"
   ]
  },
  {
   "cell_type": "markdown",
   "metadata": {},
   "source": [
    "## Research common proteins\n",
    "\n",
    "Now you should have a list of interesting proteins. Now it's time to do some research. Place here your findings on each of the interesting genes you found. What are these genes invovled in?"
   ]
  }
 ],
 "metadata": {
  "kernelspec": {
   "display_name": "Python 3",
   "language": "python",
   "name": "python3"
  },
  "language_info": {
   "codemirror_mode": {
    "name": "ipython",
    "version": 3
   },
   "file_extension": ".py",
   "mimetype": "text/x-python",
   "name": "python",
   "nbconvert_exporter": "python",
   "pygments_lexer": "ipython3",
   "version": "3.7.9"
  }
 },
 "nbformat": 4,
 "nbformat_minor": 4
}
