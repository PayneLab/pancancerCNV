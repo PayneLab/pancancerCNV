{
 "cells": [
  {
   "cell_type": "markdown",
   "metadata": {},
   "source": [
    "# Trans-Effects with t tests for 7q\n",
    "\n",
    "Here we look for genes NOT in the event discussed that are affected by the arm-level event. We will find these effects by performing a series of t-tests comparing the proteomic values of the patients with the event against those without the event."
   ]
  },
  {
   "cell_type": "markdown",
   "metadata": {},
   "source": [
    "## Setup (Install necessary packages)\n",
    "\n",
    "We will start by importing necessary packages and collecting all of the proteomics data we will need to run the tests. The cancer types analyzed should have been determined in 01_event_basic_info where we determine which types of cancer seem to have the event we are looking at."
   ]
  },
  {
   "cell_type": "code",
   "execution_count": 1,
   "metadata": {},
   "outputs": [],
   "source": [
    "import pandas as pd\n",
    "import matplotlib.pyplot as plt\n",
    "import seaborn as sns\n",
    "import numpy as np\n",
    "import cptac\n",
    "from scipy import stats\n",
    "import cnvutils\n",
    "import cptac.utils\n",
    "import os\n",
    "import sys"
   ]
  },
  {
   "cell_type": "code",
   "execution_count": 2,
   "metadata": {},
   "outputs": [
    {
     "name": "stdout",
     "output_type": "stream",
     "text": [
      "Checking that lscc index is up-to-date...       \r"
     ]
    },
    {
     "name": "stderr",
     "output_type": "stream",
     "text": [
      "cptac warning: The GBM dataset is under publication embargo until March 01, 2021. CPTAC is a community resource project and data are made available rapidly after generation for community research use. The embargo allows exploring and utilizing the data, but analysis may not be published until after the embargo date. Please see https://proteomics.cancer.gov/data-portal/about/data-use-agreement or enter cptac.embargo() to open the webpage for more details. (/home/caleb/anaconda3/envs/dev/lib/python3.7/site-packages/ipykernel_launcher.py, line 7)\n"
     ]
    },
    {
     "name": "stdout",
     "output_type": "stream",
     "text": [
      "Checking that luad index is up-to-date...\r"
     ]
    },
    {
     "name": "stderr",
     "output_type": "stream",
     "text": [
      "cptac warning: The LSCC data is currently strictly reserved for CPTAC investigators. Otherwise, you are not authorized to access these data. Additionally, even after these data become publicly available, they will be subject to a publication embargo (see https://proteomics.cancer.gov/data-portal/about/data-use-agreement or enter cptac.embargo() to open the webpage for more details). (/home/caleb/anaconda3/envs/dev/lib/python3.7/site-packages/ipykernel_launcher.py, line 9)\n"
     ]
    },
    {
     "name": "stdout",
     "output_type": "stream",
     "text": [
      "                                            \r"
     ]
    }
   ],
   "source": [
    "# Load in the cptac data for each cancer type that you want to analyze.\n",
    "\n",
    "br = cptac.Brca()\n",
    "cc = cptac.Ccrcc()\n",
    "co = cptac.Colon()\n",
    "en = cptac.Endometrial()\n",
    "gb = cptac.Gbm()\n",
    "# hn = cptac.Hnscc()\n",
    "ls = cptac.Lscc()\n",
    "lu = cptac.Luad()\n",
    "ov = cptac.Ovarian()"
   ]
  },
  {
   "cell_type": "code",
   "execution_count": 3,
   "metadata": {},
   "outputs": [],
   "source": [
    "# Now we need to get the proteomics tables for each type of cancer to analyze.\n",
    "proteomics = {\n",
    "    \"brca\": br.get_proteomics(tissue_type=\"tumor\"),\n",
    "    \"ccrcc\": cc.get_proteomics(tissue_type=\"tumor\"),\n",
    "    \"colon\": co.get_proteomics(tissue_type=\"tumor\"),\n",
    "    \"endometrial\": en.get_proteomics(tissue_type=\"tumor\"),\n",
    "    \"gbm\": gb.get_proteomics(tissue_type=\"tumor\"),\n",
    "#     \"hnscc\": hn.get_proteomics(tissue_type=\"tumor\"),\n",
    "    \"lscc\": ls.get_proteomics(tissue_type=\"tumor\"),\n",
    "    \"luad\": lu.get_proteomics(tissue_type=\"tumor\"),\n",
    "    \"ovarian\": ov.get_proteomics(tissue_type=\"tumor\")\n",
    "}"
   ]
  },
  {
   "cell_type": "markdown",
   "metadata": {},
   "source": [
    "## Append gene locations\n",
    "\n",
    "We now append the location information to the proteomics tables. This will allow us to determine which proteins are in the event. "
   ]
  },
  {
   "cell_type": "code",
   "execution_count": 4,
   "metadata": {},
   "outputs": [],
   "source": [
    "locations = cnvutils.get_gene_locations()"
   ]
  },
  {
   "cell_type": "code",
   "execution_count": 5,
   "metadata": {},
   "outputs": [],
   "source": [
    "# This will append the location data to each table in the proteomics dictionary\n",
    "for cancer_type in proteomics.keys():\n",
    "    df = proteomics[cancer_type]\n",
    "    df = df.transpose()\n",
    "    if not isinstance(df.index, pd.MultiIndex):\n",
    "        new_df = df.join(locations.droplevel(1))\n",
    "        new_df = new_df.drop_duplicates()\n",
    "        new_df = new_df[new_df[\"chromosome\"].notna()]\n",
    "        proteomics[cancer_type] = new_df\n",
    "    else:\n",
    "        new_df = df.join(locations)\n",
    "        new_df.drop_duplicates(inplace=True)\n",
    "        proteomics[cancer_type] = new_df.dropna()"
   ]
  },
  {
   "cell_type": "markdown",
   "metadata": {},
   "source": [
    "## Remove proteins in event\n",
    "\n",
    "Before running our t-tests, we need to remove all the proteins that are in the event we are looking at (we only want to look at TRANS effects)"
   ]
  },
  {
   "cell_type": "code",
   "execution_count": 6,
   "metadata": {},
   "outputs": [],
   "source": [
    "# Place here which chromosome and arm you want to look at\n",
    "# the chromosome number should be a string, \n",
    "# the arm should be either p or q (lower case)\n",
    "CHROMOSOME = '7'\n",
    "ARM = 'q'"
   ]
  },
  {
   "cell_type": "code",
   "execution_count": 7,
   "metadata": {},
   "outputs": [],
   "source": [
    "for cancer_type in proteomics.keys():\n",
    "    df = proteomics[cancer_type]\n",
    "    df = df[(df.arm != ARM) | (df.chromosome != CHROMOSOME)]\n",
    "    \n",
    "    # Now that we've selected the proteins we want, we can drop the\n",
    "    # location information columns.\n",
    "    df = df.drop(columns=['chromosome', 'start_bp', 'end_bp', 'arm'])\n",
    "    proteomics[cancer_type] = df"
   ]
  },
  {
   "cell_type": "markdown",
   "metadata": {},
   "source": [
    "## Append Event Data\n",
    "\n",
    "We now append the data from the event table that should have been created in a previous notebook."
   ]
  },
  {
   "cell_type": "code",
   "execution_count": 8,
   "metadata": {},
   "outputs": [],
   "source": [
    "# Use this variable to indicate whether you want to look at amplification or deletion\n",
    "amp_or_del = \"amplification\" \n",
    "\n",
    "if amp_or_del == \"amplification\":\n",
    "    EVENT_COLUMN = \"prop_arm_amplified\"\n",
    "    COL_NAME = \"arm_amplified\"\n",
    "        \n",
    "elif amp_or_del == \"deletion\":\n",
    "    EVENT_COLUMN = \"prop_arm_deleted\"\n",
    "    COL_NAME = \"arm_deleted\""
   ]
  },
  {
   "cell_type": "code",
   "execution_count": 9,
   "metadata": {},
   "outputs": [],
   "source": [
    "has_event = dict()\n",
    "for cancer_type in proteomics.keys():\n",
    "    \n",
    "    # Get the proteomics table\n",
    "    df = proteomics[cancer_type]\n",
    "    df = df.transpose()\n",
    "    \n",
    "    # Get the event table\n",
    "    event_file_path = os.path.join(\"01_event_tables\", f\"{cancer_type}_cna_summary.tsv.gz\")\n",
    "    \n",
    "    event = pd.\\\n",
    "    read_csv(event_file_path, sep='\\t', dtype={\"chromosome\": str}).\\\n",
    "    rename(columns={\"Patient_ID\": \"Name\"}).\\\n",
    "    set_index(\"Name\")\n",
    "    \n",
    "    # Get just the info for the chromosome arm we want\n",
    "    event = event[(event[\"chromosome\"] == CHROMOSOME) & (event[\"arm\"] == ARM)]\n",
    "\n",
    "    # We say that >= 95% of the arm has to be affected for it to count as an arm level event\n",
    "    event = event[EVENT_COLUMN] >= 0.95\n",
    "    event.name = COL_NAME\n",
    "    \n",
    "    # If the df has a multilevel column index, handle that.\n",
    "    if df.columns.nlevels == 2:\n",
    "        df = cptac.utils.reduce_multiindex(df, tuples=True)\n",
    "    \n",
    "    df = df.join(event)\n",
    "    df = df.dropna(subset=[COL_NAME])\n",
    "    has_event[cancer_type] = df[COL_NAME]\n",
    "    proteomics[cancer_type] = df"
   ]
  },
  {
   "cell_type": "markdown",
   "metadata": {},
   "source": [
    "## Run T-Tests"
   ]
  },
  {
   "cell_type": "code",
   "execution_count": 10,
   "metadata": {},
   "outputs": [],
   "source": [
    "results_df = None\n",
    "for cancer_type in proteomics.keys():\n",
    "    \n",
    "    prot_df = proteomics[cancer_type]\n",
    "  \n",
    "    results = cptac.utils.wrap_ttest(\n",
    "        df=prot_df, \n",
    "        label_column=COL_NAME,\n",
    "        correction_method=\"fdr_bh\",\n",
    "        return_all=True\n",
    "    )\n",
    "   \n",
    "    results.set_index('Comparison', inplace=True)\n",
    "    \n",
    "    if isinstance(results.index[0], tuple):\n",
    "        results[['Name', f'{cancer_type}_Database_ID']] = pd.DataFrame(\n",
    "            results.index.values.tolist(),\n",
    "            index=results.index\n",
    "        )\n",
    "        results.set_index(['Name', f'{cancer_type}_Database_ID'], inplace=True)\n",
    "    else:\n",
    "        results.index.name='Name'\n",
    "    \n",
    "    results.rename(columns={'P_Value': f'{cancer_type}_pvalue'}, inplace=True)\n",
    "    \n",
    "    if results_df is None:\n",
    "        results_df = results\n",
    "    else:\n",
    "        results_df = results_df.join(results)"
   ]
  },
  {
   "cell_type": "markdown",
   "metadata": {},
   "source": [
    "## Append Difference Data\n",
    "\n",
    "We want to collect one more piece of information about the data. We want to find the difference between the averages of the two groups. This will tell us if there is a positive or negative coorelation between the event and the proteomic data and can give us some indication of the strength of the coorelation. "
   ]
  },
  {
   "cell_type": "code",
   "execution_count": 11,
   "metadata": {},
   "outputs": [],
   "source": [
    "def get_diff(col, event):\n",
    "    has_event = col[event]\n",
    "    invert_list = [not x for x in event]\n",
    "    no_event = col[invert_list]\n",
    "    event_avg = has_event.mean()\n",
    "    no_event_avg = no_event.mean()\n",
    "    return event_avg - no_event_avg"
   ]
  },
  {
   "cell_type": "code",
   "execution_count": 12,
   "metadata": {},
   "outputs": [],
   "source": [
    "diff_df = None\n",
    "for cancer_type in proteomics.keys():\n",
    "    df = proteomics[cancer_type]\n",
    "    df = df.drop(COL_NAME, axis=1)\n",
    "    results = df.apply(lambda x: get_diff(x, has_event[cancer_type]))\n",
    "    df = pd.DataFrame(results)\n",
    "    if isinstance(df.index[0], tuple):\n",
    "        df[['Name', f'{cancer_type}_Database_ID']] = pd.DataFrame(df.index.values.tolist(), index=df.index)\n",
    "        df.set_index(['Name', f'{cancer_type}_Database_ID'], inplace=True)\n",
    "    else:\n",
    "        df.index.name='Name'\n",
    "    df.rename(columns={0: f'{cancer_type}_diff'}, inplace=True)\n",
    "    if diff_df is None:\n",
    "        diff_df = df\n",
    "    else:\n",
    "        diff_df = diff_df.join(df)"
   ]
  },
  {
   "cell_type": "markdown",
   "metadata": {},
   "source": [
    "## Join the tables and save\n",
    "\n",
    "We now join the difference table and the results table together. We also save the table to a tsv for use in future analyses. "
   ]
  },
  {
   "cell_type": "code",
   "execution_count": 13,
   "metadata": {},
   "outputs": [],
   "source": [
    "results_df = results_df.join(diff_df)"
   ]
  },
  {
   "cell_type": "code",
   "execution_count": 14,
   "metadata": {},
   "outputs": [],
   "source": [
    "# This will save the resulting table in the same directory as this notebook.\n",
    "# Modify if you would like to save to a different location.\n",
    "results_df.to_csv(f\"{CHROMOSOME}{ARM}_transeffects_ttest.tsv\", sep='\\t')"
   ]
  },
  {
   "cell_type": "markdown",
   "metadata": {},
   "source": [
    "## Explore\n",
    "\n",
    "Next we want to understand what our results mean. There are many ways you may find  significant proteins and patterns to look at. Some examples of what you might do include:\n",
    "\n",
    " * Print the rows where all cancer types have a significant pvalue\n",
    " * Print the rows where a given portion of the cancer types have a significant pvalue\n",
    " * Find the proteins that appear in the top left and right corners of the volcano plots. Where do these proteins fall on other graphs? Learn a litte about these "
   ]
  }
 ],
 "metadata": {
  "kernelspec": {
   "display_name": "Python 3",
   "language": "python",
   "name": "python3"
  },
  "language_info": {
   "codemirror_mode": {
    "name": "ipython",
    "version": 3
   },
   "file_extension": ".py",
   "mimetype": "text/x-python",
   "name": "python",
   "nbconvert_exporter": "python",
   "pygments_lexer": "ipython3",
   "version": "3.7.7"
  }
 },
 "nbformat": 4,
 "nbformat_minor": 4
}
