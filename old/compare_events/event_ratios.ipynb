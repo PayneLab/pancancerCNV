{
 "cells": [
  {
   "cell_type": "code",
   "execution_count": 1,
   "metadata": {},
   "outputs": [],
   "source": [
    "import pandas as pd\n",
    "import numpy as np"
   ]
  },
  {
   "cell_type": "code",
   "execution_count": 2,
   "metadata": {},
   "outputs": [],
   "source": [
    "CANCER_TYPES = ['brca', 'ccrcc', 'colon', 'endo', 'gbm', 'hnscc', 'lscc', 'luad', 'ovarian']"
   ]
  },
  {
   "cell_type": "code",
   "execution_count": 8,
   "metadata": {},
   "outputs": [],
   "source": [
    "def get_ratio(col):\n",
    "    total = len(col)\n",
    "    count = sum(col)\n",
    "    return(count/total)"
   ]
  },
  {
   "cell_type": "code",
   "execution_count": 12,
   "metadata": {},
   "outputs": [],
   "source": [
    "ratio_df = pd.DataFrame()\n",
    "for cancer in CANCER_TYPES:\n",
    "    df = pd.read_csv(f\"{cancer}_all_events.tsv\", sep='\\t', index_col=0)\n",
    "    results = df.apply(get_ratio)\n",
    "    results.name = cancer\n",
    "    if ratio_df.empty:\n",
    "        ratio_df = pd.DataFrame(results)\n",
    "    else:\n",
    "        ratio_df = ratio_df.join(results)"
   ]
  },
  {
   "cell_type": "code",
   "execution_count": 13,
   "metadata": {},
   "outputs": [],
   "source": [
    "ratio_df.to_csv(\"event_ratios.tsv\", sep='\\t')"
   ]
  }
 ],
 "metadata": {
  "kernelspec": {
   "display_name": "Python 3",
   "language": "python",
   "name": "python3"
  },
  "language_info": {
   "codemirror_mode": {
    "name": "ipython",
    "version": 3
   },
   "file_extension": ".py",
   "mimetype": "text/x-python",
   "name": "python",
   "nbconvert_exporter": "python",
   "pygments_lexer": "ipython3",
   "version": "3.7.9"
  }
 },
 "nbformat": 4,
 "nbformat_minor": 4
}
