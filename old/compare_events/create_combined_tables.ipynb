{
 "cells": [
  {
   "cell_type": "markdown",
   "metadata": {},
   "source": [
    "# Combine all events table by cancer type"
   ]
  },
  {
   "cell_type": "code",
   "execution_count": 1,
   "metadata": {},
   "outputs": [],
   "source": [
    "import pandas as pd\n",
    "import numpy as np"
   ]
  },
  {
   "cell_type": "code",
   "execution_count": 4,
   "metadata": {},
   "outputs": [],
   "source": [
    "CHROMOSOMES = ['5', '8', '13', '20']\n",
    "CANCER_TYPES = ['brca', 'ccrcc', 'colon', 'endo', 'gbm', 'hnscc', 'lscc', 'luad', 'ovarian']"
   ]
  },
  {
   "cell_type": "code",
   "execution_count": 23,
   "metadata": {
    "scrolled": false
   },
   "outputs": [],
   "source": [
    "events = dict()\n",
    "for cancer in CANCER_TYPES:\n",
    "    events = pd.DataFrame()\n",
    "    for chromosome in CHROMOSOMES:\n",
    "        df = pd.read_csv(f'../chromosome_{chromosome}/{cancer}_has_event.tsv', sep='\\t', index_col=0)\n",
    "        df.columns = [f'{chromosome}_{x}' for x in df.columns]\n",
    "        if not events.empty:\n",
    "            events = events.join(df)\n",
    "        else:\n",
    "            events = df\n",
    "    events.to_csv(f\"{cancer}_all_events.tsv\", sep=\"\\t\")"
   ]
  }
 ],
 "metadata": {
  "kernelspec": {
   "display_name": "Python 3",
   "language": "python",
   "name": "python3"
  },
  "language_info": {
   "codemirror_mode": {
    "name": "ipython",
    "version": 3
   },
   "file_extension": ".py",
   "mimetype": "text/x-python",
   "name": "python",
   "nbconvert_exporter": "python",
   "pygments_lexer": "ipython3",
   "version": "3.7.9"
  }
 },
 "nbformat": 4,
 "nbformat_minor": 4
}
