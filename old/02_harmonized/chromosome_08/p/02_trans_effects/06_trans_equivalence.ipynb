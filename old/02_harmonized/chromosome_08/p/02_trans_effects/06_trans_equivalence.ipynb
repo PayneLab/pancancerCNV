{
 "cells": [
  {
   "cell_type": "markdown",
   "metadata": {},
   "source": [
    "# Equivalence tests for trans genes\n",
    "\n",
    "Here we look for genes OUTSIDE the event discussed that are NOT affected by the arm-level event."
   ]
  },
  {
   "cell_type": "markdown",
   "metadata": {},
   "source": [
    "## Setup (Install necessary packages)\n",
    "\n",
    "We will start by importing necessary packages and collecting all of the proteomics data we will need to run the tests."
   ]
  },
  {
   "cell_type": "code",
   "execution_count": 1,
   "metadata": {},
   "outputs": [],
   "source": [
    "import os\n",
    "import pandas as pd\n",
    "import matplotlib.pyplot as plt\n",
    "import seaborn as sns\n",
    "import numpy as np\n",
    "import cptac\n",
    "from scipy import stats\n",
    "import cnvutils\n",
    "import cptac.utils\n",
    "import statsmodels.stats.power\n",
    "import statsmodels.stats.weightstats\n",
    "import statsmodels.stats.multitest"
   ]
  },
  {
   "cell_type": "code",
   "execution_count": 2,
   "metadata": {},
   "outputs": [
    {
     "name": "stdout",
     "output_type": "stream",
     "text": [
      "                                            \r"
     ]
    }
   ],
   "source": [
    "# These variables specify which chromosome and arm we're working on, and whether to do cis or trans effects\n",
    "params = cnvutils.load_params(os.path.join(\"..\", \"data\", \"params.json\"))\n",
    "CHROMOSOME = params[\"CHROMOSOME\"]\n",
    "ARM = params[\"ARM\"]\n",
    "CIS_OR_TRANS = \"trans\"\n",
    "\n",
    "# Get data tables\n",
    "CANCER_TYPES = params[\"CANCER_TYPES\"]\n",
    "data_types = [\"proteomics\"]\n",
    "tables = cnvutils.load_tables(CANCER_TYPES, data_types, pancan=False)\n",
    "proteomics = tables[\"proteomics\"]\n",
    "\n",
    "# Get event location data\n",
    "event_metadata = cnvutils.load_params(os.path.join(\"..\", \"data\", \"event_metadata.json\"))\n",
    "EVENT_START = event_metadata[\"START\"]\n",
    "EVENT_END = event_metadata[\"END\"]\n",
    "\n",
    "EVENT_COLUMN = \"event\""
   ]
  },
  {
   "cell_type": "markdown",
   "metadata": {},
   "source": [
    "## Select the proteins we're interested in\n",
    "\n",
    "If we're looking at cis effects, we select proteins within the event. If we're looking at trans effects, we select proteins outside of the event.\n",
    "\n",
    "Note that the cnvutils.get_event_genes function uses Ensembl gene IDs for the Database_ID column, while the proteomics dataframes that have a Database_ID column use RefSeq protein IDs. So, when we're selecting the genes we want, we ignore the Database_ID column if it is present, and just use gene names."
   ]
  },
  {
   "cell_type": "code",
   "execution_count": 3,
   "metadata": {},
   "outputs": [],
   "source": [
    "selected_genes = cnvutils.\\\n",
    "get_event_genes(\n",
    "    chrm=CHROMOSOME,\n",
    "    event_start=EVENT_START,\n",
    "    event_end=EVENT_END,\n",
    "    cis_or_trans=CIS_OR_TRANS\n",
    ")[\"Name\"].\\\n",
    "drop_duplicates(keep=\"first\")\n",
    "\n",
    "for cancer_type in proteomics.keys():\n",
    "    df = proteomics[cancer_type].transpose()\n",
    "    \n",
    "    if df.index.nlevels == 1:\n",
    "        df = df[df.index.isin(selected_genes)]\n",
    "    else:\n",
    "        df = df[df.index.isin(selected_genes, level=\"Name\")]\n",
    "\n",
    "    proteomics[cancer_type] = df"
   ]
  },
  {
   "cell_type": "markdown",
   "metadata": {},
   "source": [
    "## Append Event Data\n",
    "\n",
    "We now append the data from the event table that should have been created in a previous notebook."
   ]
  },
  {
   "cell_type": "code",
   "execution_count": 4,
   "metadata": {},
   "outputs": [
    {
     "name": "stderr",
     "output_type": "stream",
     "text": [
      "/home/caleb/anaconda3/envs/dev/lib/python3.7/site-packages/pandas/core/frame.py:9134: FutureWarning: merging between different levels is deprecated and will be removed in a future version. (2 levels on the left,1 on the right)\n",
      "  sort=sort,\n"
     ]
    }
   ],
   "source": [
    "has_event = dict()\n",
    "for cancer_type in proteomics.keys():\n",
    "    \n",
    "    df = proteomics[cancer_type]\n",
    "    df = df.transpose()\n",
    "    \n",
    "    event = pd.read_csv(\n",
    "        os.path.join(\n",
    "            \"..\", \n",
    "            \"data\", \n",
    "            f\"chr{CHROMOSOME}_{cancer_type}_has_event_{'harmonized' if PANCAN else 'AWG'}.tsv\"\n",
    "        ), \n",
    "        sep='\\t', \n",
    "        index_col=0,\n",
    "        dtype={EVENT_COLUMN: bool}\n",
    "    )\n",
    "        \n",
    "    event.index.rename('Name')\n",
    "    df = df.join(other=event, how=\"inner\")\n",
    "    \n",
    "    has_event[cancer_type] = df[EVENT_COLUMN]\n",
    "    proteomics[cancer_type] = df"
   ]
  },
  {
   "cell_type": "markdown",
   "metadata": {},
   "source": [
    "## Run equivalence tests\n",
    "\n",
    "To determine the upper and lower bounds for our equivalence tests, we will use power calculations to determine the minimum effect size we could detect in the first place for each gene. Note that the power calculations are for Student's t test, while our TOST equivalence tests use Welch's t test, but this is okay because Student's is more powerful than Welch's, so the minimum effect size will be underestimated, thus not hurting our accuracy. If it ends up being too strict, we'll alter our approach."
   ]
  },
  {
   "cell_type": "code",
   "execution_count": 5,
   "metadata": {},
   "outputs": [
    {
     "name": "stderr",
     "output_type": "stream",
     "text": [
      "/home/caleb/anaconda3/envs/dev/lib/python3.7/site-packages/statsmodels/stats/weightstats.py:135: RuntimeWarning: invalid value encountered in double_scalars\n",
      "  return self.sum / self.sum_weights\n",
      "/home/caleb/anaconda3/envs/dev/lib/python3.7/site-packages/statsmodels/stats/weightstats.py:190: RuntimeWarning: invalid value encountered in double_scalars\n",
      "  return self.sumsquares / self.sum_weights\n",
      "/home/caleb/anaconda3/envs/dev/lib/python3.7/site-packages/statsmodels/stats/weightstats.py:979: RuntimeWarning: invalid value encountered in double_scalars\n",
      "  return np.sqrt(d1._var / (d1.nobs - 1) + d2._var / (d2.nobs - 1))\n",
      "/home/caleb/anaconda3/envs/dev/lib/python3.7/site-packages/statsmodels/stats/weightstats.py:1006: RuntimeWarning: invalid value encountered in double_scalars\n",
      "  sem1 = d1._var / (d1.nobs - 1)\n",
      "/home/caleb/anaconda3/envs/dev/lib/python3.7/site-packages/statsmodels/stats/weightstats.py:1007: RuntimeWarning: invalid value encountered in double_scalars\n",
      "  sem2 = d2._var / (d2.nobs - 1)\n"
     ]
    }
   ],
   "source": [
    "results_df = None\n",
    "for cancer_type in proteomics.keys():\n",
    "    prot_df = proteomics[cancer_type]\n",
    "    \n",
    "    comparisons = []\n",
    "    pvals = []\n",
    "    nulls = []\n",
    "    \n",
    "    # Iterate over all columns except the event column\n",
    "    for prot in prot_df.columns[~(prot_df.columns == EVENT_COLUMN)]:\n",
    "        \n",
    "        # Get the data\n",
    "        in_event = prot_df.loc[prot_df[EVENT_COLUMN], [prot]].iloc[:, 0].dropna()\n",
    "        out_event = prot_df.loc[~prot_df[EVENT_COLUMN], [prot]].iloc[:, 0].dropna()\n",
    "        \n",
    "        # Calculate the minimum effect size, to use for upper and lower bounds for the TOST\n",
    "        # Formula from the power calculation for a two sample Student's t-test from The\n",
    "        # Analysis of Biological Data by Whitlock and Schluter, 2nd edition (2015), Roberts and\n",
    "        # Company Publishers, pg. 444. Original formula was sample_size = 16 * (stdev / min_event) ^ 2\n",
    "        \n",
    "        # We separately calculate the minimum effect size for each group based on its standard\n",
    "        # deviation and sample size, since the locations of the groups may differ even if the\n",
    "        # standard deviations are similar, and because the size of each group is usually different.\n",
    "\n",
    "        in_min_effect = 4 * np.std(in_event) / np.sqrt(in_event.size)\n",
    "        out_min_effect = 4 * np.std(out_event) / np.sqrt(out_event.size)\n",
    "        \n",
    "        min_effect = np.mean([in_min_effect, out_min_effect])\n",
    "\n",
    "        # Run TOST test\n",
    "        # We pass usevar=\"unequal\" to use Welch's t test and free us from the \n",
    "        # assumption of equal variance between groups\n",
    "        pval, res_lower, res_upper = statsmodels.stats.weightstats.ttost_ind(\n",
    "            x1=in_event,\n",
    "            x2=out_event,\n",
    "            low=-1.25 * min_effect,\n",
    "            upp=1.25 * min_effect,\n",
    "            usevar=\"unequal\"\n",
    "        )\n",
    "        \n",
    "        if pd.notnull(pval):\n",
    "            comparisons.append(prot)\n",
    "            pvals.append(pval)\n",
    "        else:\n",
    "            nulls.append(prot)\n",
    "            continue\n",
    "\n",
    "    # Multiple testing correction\n",
    "    reject, pvals, alpha_sidak, alpha_bonf = statsmodels.stats.multitest.multipletests(\n",
    "        pvals=pvals, \n",
    "        alpha=0.05, \n",
    "        method=\"fdr_bh\"\n",
    "    )\n",
    "        \n",
    "    results = pd.DataFrame({\"Comparison\": comparisons, \"P_Value\": pvals})\n",
    "\n",
    "    results.set_index('Comparison', inplace=True)\n",
    "    if isinstance(results.index[0], tuple):\n",
    "        results[['Name', f'{cancer_type}_Database_ID']] = pd.DataFrame(\n",
    "            results.index.values.tolist(),\n",
    "            index=results.index\n",
    "        )\n",
    "        results.set_index(['Name', f'{cancer_type}_Database_ID'], inplace=True)\n",
    "    else:\n",
    "        results.index.name='Name'\n",
    "    results.rename(columns={'P_Value': f'{cancer_type}_pvalue'}, inplace=True)\n",
    "    if results_df is None:\n",
    "        results_df = results\n",
    "    else:\n",
    "        results_df = results_df.join(results)"
   ]
  },
  {
   "cell_type": "markdown",
   "metadata": {},
   "source": [
    "## Reformat and save results"
   ]
  },
  {
   "cell_type": "code",
   "execution_count": 6,
   "metadata": {},
   "outputs": [],
   "source": [
    "results_df = results_df.\\\n",
    "reset_index(drop=False).\\\n",
    "rename(columns={\"Name\": \"protein\"}).\\\n",
    "set_index(\"protein\")\n",
    "\n",
    "long_results = pd.DataFrame()\n",
    "\n",
    "for cancer_type in CANCER_TYPES:\n",
    "    cancer_df = results_df.\\\n",
    "    loc[:, results_df.columns.str.startswith(cancer_type)].\\\n",
    "    dropna(axis=\"index\", how=\"all\").\\\n",
    "    reset_index(drop=False)\n",
    "\n",
    "    # If the cancer type has database IDs, make a separate column that has them.\n",
    "    # If not, create a column of NaNs (so that the tables all match)\n",
    "    if f\"{cancer_type}_Database_ID\" in cancer_df.columns:\n",
    "        cancer_df = cancer_df.rename(columns={f\"{cancer_type}_Database_ID\": \"Database_ID\"})\n",
    "    else:\n",
    "        cancer_df = cancer_df.assign(Database_ID=np.nan)\n",
    "\n",
    "    # Rename the pvalue and diff columns to not have the cancer type\n",
    "    cancer_df = cancer_df.rename(columns={f\"{cancer_type}_pvalue\": \"adj_p\"}).\\\n",
    "    assign(cancer_type=cancer_type)\n",
    "\n",
    "    # Reorder the columns\n",
    "    cancer_df = cancer_df[[\"cancer_type\", \"protein\", \"Database_ID\", \"adj_p\"]]\n",
    "\n",
    "    # Append to the overall dataframe\n",
    "    long_results = long_results.append(cancer_df)\n",
    "\n",
    "# Drop duplicate rows and reset the index\n",
    "long_results = long_results[~long_results.duplicated(keep=False)].\\\n",
    "reset_index(drop=True)"
   ]
  },
  {
   "cell_type": "code",
   "execution_count": 7,
   "metadata": {},
   "outputs": [],
   "source": [
    "# This will save the resulting table in the same directory as this notebook.\n",
    "# Modify if you would like to save to a different location.\n",
    "save_path = os.path.join(\"..\", \"data\", f\"{CHROMOSOME}{ARM}_{CIS_OR_TRANS}_equiv.tsv\")\n",
    "long_results.to_csv(save_path, sep='\\t', index=False)"
   ]
  }
 ],
 "metadata": {
  "kernelspec": {
   "display_name": "Python 3 (ipykernel)",
   "language": "python",
   "name": "python3"
  },
  "language_info": {
   "codemirror_mode": {
    "name": "ipython",
    "version": 3
   },
   "file_extension": ".py",
   "mimetype": "text/x-python",
   "name": "python",
   "nbconvert_exporter": "python",
   "pygments_lexer": "ipython3",
   "version": "3.9.7"
  }
 },
 "nbformat": 4,
 "nbformat_minor": 4
}
