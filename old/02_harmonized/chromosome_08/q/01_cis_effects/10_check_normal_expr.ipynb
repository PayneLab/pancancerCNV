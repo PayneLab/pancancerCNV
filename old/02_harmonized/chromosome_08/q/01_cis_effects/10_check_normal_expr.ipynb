{
 "cells": [
  {
   "cell_type": "markdown",
   "metadata": {},
   "source": [
    "# Investigate normal expression of cis proteins that show equivalence between samples with and without the event\n",
    "\n",
    "We want to know why these proteins don't show a significant change even when the arm is deleted. It's possible that they have low expression to begin with, so the change from the deletion isn't noticeable.\n",
    "\n",
    "Unfortunately, we can only get relative expression levels from the CPTAC data, not absolute expression levels. So instead of using CPTAC data, we're going to be working with tissue-specific absolute expression data from this paper: Wang D, Eraslan B, Wieland T, et al. A deep proteome and transcriptome abundance atlas of 29 healthy human \n",
    "tissues. Mol Syst Biol. 2019;15(2):e8503. Published 2019 Feb 18. doi:10.15252/msb.20188503\n",
    "\n",
    "We downloaded the specific table, Table 5, from https://www.embopress.org/action/downloadSupplement?doi=10.15252%2Fmsb.20188503&file=msb188503-sup-0007-TableEV5.zip"
   ]
  },
  {
   "cell_type": "code",
   "execution_count": 1,
   "metadata": {},
   "outputs": [
    {
     "ename": "ModuleNotFoundError",
     "evalue": "No module named 'gprofiler'",
     "output_type": "error",
     "traceback": [
      "\u001b[0;31m---------------------------------------------------------------------------\u001b[0m",
      "\u001b[0;31mModuleNotFoundError\u001b[0m                       Traceback (most recent call last)",
      "\u001b[0;32m/var/tmp/ipykernel_15291/4184928809.py\u001b[0m in \u001b[0;36m<module>\u001b[0;34m\u001b[0m\n\u001b[1;32m      2\u001b[0m \u001b[0;32mimport\u001b[0m \u001b[0mnumpy\u001b[0m \u001b[0;32mas\u001b[0m \u001b[0mnp\u001b[0m\u001b[0;34m\u001b[0m\u001b[0;34m\u001b[0m\u001b[0m\n\u001b[1;32m      3\u001b[0m \u001b[0;32mimport\u001b[0m \u001b[0mos\u001b[0m\u001b[0;34m\u001b[0m\u001b[0;34m\u001b[0m\u001b[0m\n\u001b[0;32m----> 4\u001b[0;31m \u001b[0;32mimport\u001b[0m \u001b[0mcnvutils\u001b[0m\u001b[0;34m\u001b[0m\u001b[0;34m\u001b[0m\u001b[0m\n\u001b[0m\u001b[1;32m      5\u001b[0m \u001b[0;32mimport\u001b[0m \u001b[0mscipy\u001b[0m\u001b[0;34m.\u001b[0m\u001b[0mstats\u001b[0m\u001b[0;34m\u001b[0m\u001b[0;34m\u001b[0m\u001b[0m\n\u001b[1;32m      6\u001b[0m \u001b[0;32mimport\u001b[0m \u001b[0maltair\u001b[0m \u001b[0;32mas\u001b[0m \u001b[0malt\u001b[0m\u001b[0;34m\u001b[0m\u001b[0;34m\u001b[0m\u001b[0m\n",
      "\u001b[0;32m~/anaconda3/envs/dev/lib/python3.9/site-packages/cnvutils/__init__.py\u001b[0m in \u001b[0;36m<module>\u001b[0;34m\u001b[0m\n\u001b[0;32m----> 1\u001b[0;31m \u001b[0;32mfrom\u001b[0m \u001b[0;34m.\u001b[0m\u001b[0mfunctions\u001b[0m \u001b[0;32mimport\u001b[0m \u001b[0;34m*\u001b[0m\u001b[0;34m\u001b[0m\u001b[0;34m\u001b[0m\u001b[0m\n\u001b[0m",
      "\u001b[0;32m~/anaconda3/envs/dev/lib/python3.9/site-packages/cnvutils/functions.py\u001b[0m in \u001b[0;36m<module>\u001b[0;34m\u001b[0m\n\u001b[1;32m      2\u001b[0m \u001b[0;34m\u001b[0m\u001b[0m\n\u001b[1;32m      3\u001b[0m \u001b[0;32mimport\u001b[0m \u001b[0mgseapy\u001b[0m \u001b[0;32mas\u001b[0m \u001b[0mgp\u001b[0m\u001b[0;34m\u001b[0m\u001b[0;34m\u001b[0m\u001b[0m\n\u001b[0;32m----> 4\u001b[0;31m \u001b[0;32mimport\u001b[0m \u001b[0mgprofiler\u001b[0m\u001b[0;34m\u001b[0m\u001b[0;34m\u001b[0m\u001b[0m\n\u001b[0m\u001b[1;32m      5\u001b[0m \u001b[0;32mimport\u001b[0m \u001b[0mcptac\u001b[0m\u001b[0;34m\u001b[0m\u001b[0;34m\u001b[0m\u001b[0m\n\u001b[1;32m      6\u001b[0m \u001b[0;32mimport\u001b[0m \u001b[0mcptac\u001b[0m\u001b[0;34m.\u001b[0m\u001b[0mpancan\u001b[0m\u001b[0;34m\u001b[0m\u001b[0;34m\u001b[0m\u001b[0m\n",
      "\u001b[0;31mModuleNotFoundError\u001b[0m: No module named 'gprofiler'"
     ]
    }
   ],
   "source": [
    "import pandas as pd\n",
    "import numpy as np\n",
    "import os\n",
    "import cnvutils\n",
    "import scipy.stats\n",
    "import altair as alt\n",
    "from toolz import pipe"
   ]
  },
  {
   "cell_type": "code",
   "execution_count": null,
   "metadata": {},
   "outputs": [],
   "source": [
    "alt.data_transformers.disable_max_rows()\n",
    "\n",
    "def json_dir(data, data_dir):\n",
    "    os.makedirs(data_dir, exist_ok=True)\n",
    "    return pipe(data, alt.to_json(filename=os.path.join(data_dir, \"{prefix}-{hash}.{extension}\")) )\n",
    "\n",
    "alt.data_transformers.register(\"json_dir\", json_dir)\n",
    "alt.data_transformers.enable(\"json_dir\", data_dir=\"plot_data\")"
   ]
  },
  {
   "cell_type": "code",
   "execution_count": null,
   "metadata": {},
   "outputs": [],
   "source": [
    "# These variables specify which chromosome and arm we're working on, and whether to do cis or trans effects\n",
    "params = cnvutils.load_params(os.path.join(\"..\", \"data\", \"params.json\"))\n",
    "CHROMOSOME = params[\"CHROMOSOME\"]\n",
    "ARM = params[\"ARM\"]\n",
    "CIS_OR_TRANS = \"cis\""
   ]
  },
  {
   "cell_type": "markdown",
   "metadata": {},
   "source": [
    "## Transform to log(x + 1), and exclude zeros\n",
    "\n",
    "Based on the plots in the `00_setup/00_normal_dist_exploration` notebook, it looks like our best option is to use a log(x + 1) scale, and exclude zeros. From a biological perspective, I'm fine with excluding the zeros, because proteins that aren't expressed seem a different class from proteins that just have low expression. Although it is important to remember that it's also possible that proteins with zero copies may have just been too low in expression to be detected. Nevertheless, the fact that there's such a huge number of proteins with zero copies suggests that they aren't just the few escaping detection."
   ]
  },
  {
   "cell_type": "code",
   "execution_count": null,
   "metadata": {},
   "outputs": [],
   "source": [
    "expr = cnvutils.get_normal_expr_table()\n",
    "\n",
    "expr_long = expr.\\\n",
    "drop(\n",
    "    columns=[\"Gene_ID\", \"Protein_ID\"]\n",
    ").\\\n",
    "melt(\n",
    "    id_vars=\"Gene_name\",\n",
    "    var_name=\"tissue_type\",\n",
    "    value_name=\"prot_copy_count\"\n",
    ")\n",
    "\n",
    "expr_plus1_log10 = expr_long.assign(prot_copy_count=np.log10(expr_long[\"prot_copy_count\"] + 1))\n",
    "expr_transf = expr_plus1_log10[expr_plus1_log10[\"prot_copy_count\"] > 0]"
   ]
  },
  {
   "cell_type": "markdown",
   "metadata": {},
   "source": [
    "## Calculate \"low\" cutoff for each tissue type"
   ]
  },
  {
   "cell_type": "code",
   "execution_count": null,
   "metadata": {
    "scrolled": true
   },
   "outputs": [],
   "source": [
    "low_cutoffs = expr_transf.groupby(\"tissue_type\").quantile(0.25)\n",
    "low_cutoffs"
   ]
  },
  {
   "cell_type": "markdown",
   "metadata": {},
   "source": [
    "## Compare expression of equivalent genes"
   ]
  },
  {
   "cell_type": "code",
   "execution_count": null,
   "metadata": {
    "scrolled": true
   },
   "outputs": [],
   "source": [
    "equiv_prots = pd.read_csv(\n",
    "    os.path.join(\"..\", \"data\", f\"{CHROMOSOME}{ARM}_{CIS_OR_TRANS}_common_equiv.tsv\"), \n",
    "    sep=\"\\t\"\n",
    ")\n",
    "equiv_prots"
   ]
  },
  {
   "cell_type": "code",
   "execution_count": null,
   "metadata": {},
   "outputs": [],
   "source": [
    "commonly_equiv = equiv_prots[equiv_prots[\"num_cancers\"] >= 3]\n",
    "sel_expr = expr.loc[\n",
    "    expr[\"Gene_name\"].isin(commonly_equiv[\"protein\"]),\n",
    "    [\"Gene_name\", \"Protein_ID\", \"Colon\", \"Esophagus\", \"Lung\", \"Ovary\"]\n",
    "].\\\n",
    "set_index([\"Gene_name\", \"Protein_ID\"]).\\\n",
    "transpose()\n",
    "\n",
    "sel_expr.columns = sel_expr.columns.to_flat_index()\n",
    "\n",
    "# Transform the data to log10(x + 1), join in cutoffs column\n",
    "sel_expr = sel_expr.\\\n",
    "apply(lambda x: np.log10(x + 1), axis=\"columns\").\\\n",
    "join(low_cutoffs, how=\"left\")\n",
    "\n",
    "sel_expr = sel_expr.apply(lambda x: x <= sel_expr[\"prot_copy_count\"]).\\\n",
    "drop(columns=\"prot_copy_count\").\\\n",
    "transpose()\n",
    "\n",
    "sel_expr.index = pd.MultiIndex.from_tuples(sel_expr.index).droplevel(1)\n",
    "\n",
    "sel_expr"
   ]
  },
  {
   "cell_type": "code",
   "execution_count": null,
   "metadata": {},
   "outputs": [],
   "source": [
    "sel_expr.shape"
   ]
  },
  {
   "cell_type": "code",
   "execution_count": null,
   "metadata": {},
   "outputs": [],
   "source": [
    "sel_expr.sum(axis=\"index\")"
   ]
  },
  {
   "cell_type": "markdown",
   "metadata": {},
   "source": [
    "### Plot on the distribution"
   ]
  },
  {
   "cell_type": "code",
   "execution_count": null,
   "metadata": {},
   "outputs": [],
   "source": [
    "def plot_cancer_type_normal_dist(cancer_type, tissue_type, expr_data, sel_genes):\n",
    "    \n",
    "    # Select the expression data for our chosen tissue type\n",
    "    expr_data = expr_data[expr_data[\"tissue_type\"] == tissue_type]\n",
    "    \n",
    "    dist = alt.Chart().mark_bar().encode(\n",
    "        x=alt.X(\n",
    "            \"prot_copy_count\",\n",
    "            bin=alt.Bin(step=0.25),\n",
    "            title=\"Protein copy counts (log transformed)\"\n",
    "        ),\n",
    "        y=alt.Y(\n",
    "            \"count()\",\n",
    "            title=\"Number of proteins\"\n",
    "        )\n",
    "    ).properties(\n",
    "        width=800\n",
    "    )\n",
    "\n",
    "    # Add vertical lines at the expression levels of the proteins that didn't show a cis effect\n",
    "    lines_no_cis = [\n",
    "        alt.Chart().mark_rule(color=alt.Value(\"#d10000\")).encode(\n",
    "            x=f\"{gene}:Q\"\n",
    "        )\n",
    "\n",
    "        for gene in sel_genes\n",
    "    ]\n",
    "\n",
    "    # Get the expression levels for those proteins\n",
    "    expr_no_cis = expr_data.\\\n",
    "    loc[expr_data[\"Gene_name\"].isin(sel_genes)].\\\n",
    "    set_index(\"Gene_name\")[\"prot_copy_count\"].\\\n",
    "    astype(str).\\\n",
    "    to_dict()\n",
    "\n",
    "    # Layer all the charts together\n",
    "    chart = alt.layer(\n",
    "        dist,\n",
    "        *lines_no_cis,\n",
    "        data=expr_data\n",
    "    ).transform_calculate(\n",
    "        **expr_no_cis\n",
    "    ).properties(\n",
    "        title=cancer_type\n",
    "    )\n",
    "    \n",
    "    return chart"
   ]
  },
  {
   "cell_type": "code",
   "execution_count": null,
   "metadata": {},
   "outputs": [],
   "source": [
    "cancer_tissue = {\n",
    "    \"colon\": \"Colon\",\n",
    "    \"hnscc\": \"Esophagus\",\n",
    "    \"luad\": \"Lung\",\n",
    "    \"lscc\": \"Lung\",\n",
    "    \"ovarian\": \"Ovary\"\n",
    "}\n",
    "\n",
    "alt.vconcat(*[\n",
    "    plot_cancer_type_normal_dist(\n",
    "        cancer_type=cancer, \n",
    "        tissue_type=tissue,\n",
    "        expr_data=expr_transf,\n",
    "        sel_genes=sel_expr.index.tolist()\n",
    "    )\n",
    "    \n",
    "    for cancer, tissue in cancer_tissue.items()\n",
    "]).properties(\n",
    "    title=f\"Normal expression of proteins that showed no cis effect for {CHROMOSOME}{ARM}\"\n",
    ").configure_title(\n",
    "    anchor=\"middle\",\n",
    "    fontSize=14\n",
    ")"
   ]
  },
  {
   "cell_type": "markdown",
   "metadata": {},
   "source": [
    "## Look at cancers individually"
   ]
  },
  {
   "cell_type": "code",
   "execution_count": null,
   "metadata": {
    "scrolled": true
   },
   "outputs": [],
   "source": [
    "each_cancer_equiv = pd.\\\n",
    "read_csv(os.path.join(\"..\", \"data\", f\"{CHROMOSOME}{ARM}_{CIS_OR_TRANS}_equiv.tsv\"), sep=\"\\t\")"
   ]
  },
  {
   "cell_type": "code",
   "execution_count": null,
   "metadata": {},
   "outputs": [],
   "source": [
    "cancer_tissue = {\n",
    "    \"colon\": \"Colon\",\n",
    "    \"hnscc\": \"Esophagus\",\n",
    "    \"luad\": \"Lung\",\n",
    "    \"lscc\": \"Lung\",\n",
    "    \"ovarian\": \"Ovary\"\n",
    "}\n",
    "\n",
    "cancer_expr = {}\n",
    "\n",
    "for cancer_type, tissue_type in cancer_tissue.items():\n",
    "    \n",
    "    cancer_equiv = each_cancer_equiv[each_cancer_equiv[\"cancer_type\"] == cancer_type]\n",
    "    sel_expr = expr.loc[\n",
    "        expr[\"Gene_name\"].isin(cancer_equiv[\"protein\"]),\n",
    "        [\"Gene_name\", \"Protein_ID\", tissue_type]\n",
    "    ].\\\n",
    "    set_index([\"Gene_name\", \"Protein_ID\"]).\\\n",
    "    transpose()\n",
    "\n",
    "    sel_expr.columns = sel_expr.columns.to_flat_index()\n",
    "\n",
    "    # Transform the data to log10(x + 1), join in cutoffs column\n",
    "    sel_expr = sel_expr.\\\n",
    "    apply(lambda x: np.log10(x + 1), axis=\"columns\").\\\n",
    "    join(low_cutoffs, how=\"left\")\n",
    "\n",
    "    sel_expr = sel_expr.apply(lambda x: x <= sel_expr[\"prot_copy_count\"]).\\\n",
    "    drop(columns=\"prot_copy_count\").\\\n",
    "    transpose()\n",
    "\n",
    "    sel_expr.index = pd.MultiIndex.from_tuples(sel_expr.index).droplevel(1)\n",
    "    \n",
    "    print(f\"{cancer_type}: {sel_expr.sum()[0]}/{sel_expr[tissue_type].size} ({sel_expr.sum()[0] / sel_expr[tissue_type].size:.2f}) below cutoff\")\n",
    "\n",
    "    cancer_expr[cancer_type] = sel_expr"
   ]
  },
  {
   "cell_type": "code",
   "execution_count": null,
   "metadata": {
    "scrolled": true
   },
   "outputs": [],
   "source": [
    "cancer_expr[\"colon\"]"
   ]
  },
  {
   "cell_type": "code",
   "execution_count": null,
   "metadata": {
    "scrolled": true
   },
   "outputs": [],
   "source": [
    "cancer_expr[\"hnscc\"]"
   ]
  },
  {
   "cell_type": "code",
   "execution_count": null,
   "metadata": {
    "scrolled": true
   },
   "outputs": [],
   "source": [
    "cancer_expr[\"lscc\"]"
   ]
  },
  {
   "cell_type": "code",
   "execution_count": null,
   "metadata": {
    "scrolled": true
   },
   "outputs": [],
   "source": [
    "cancer_expr[\"luad\"]"
   ]
  },
  {
   "cell_type": "code",
   "execution_count": null,
   "metadata": {
    "scrolled": true
   },
   "outputs": [],
   "source": [
    "cancer_expr[\"ovarian\"]"
   ]
  }
 ],
 "metadata": {
  "kernelspec": {
   "display_name": "Python 3 (ipykernel)",
   "language": "python",
   "name": "python3"
  },
  "language_info": {
   "codemirror_mode": {
    "name": "ipython",
    "version": 3
   },
   "file_extension": ".py",
   "mimetype": "text/x-python",
   "name": "python",
   "nbconvert_exporter": "python",
   "pygments_lexer": "ipython3",
   "version": "3.9.7"
  }
 },
 "nbformat": 4,
 "nbformat_minor": 4
}
