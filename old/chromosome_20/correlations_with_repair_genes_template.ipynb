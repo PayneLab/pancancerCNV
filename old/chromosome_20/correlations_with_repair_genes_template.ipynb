{
 "cells": [
  {
   "cell_type": "markdown",
   "metadata": {},
   "source": [
    "# Correlations with Repair Genes\n",
    "\n",
    "Here we will see if our event correlates with any of the following known DNA repair genes:\n",
    "\n",
    "* **TP53** tumor suppressor, regulates cell division\n",
    "* **KMT2C** histone methyltransferase, regulates gene transcription by modifying chromatin structure\n",
    "* **ATM** responds to DNA damage by phosphorylating key substrates involved in DNA repair\n",
    "* **BAP1** Binds BRCA1, deubiquitinating enzyme\n",
    "* **BRCA2** deficiency known to impair completion of cell division by cytokinesis\n",
    "* **POLQ** contains RAD51 binding motifs, blocks RAD51-mediated recombination\n",
    "* **PRKDC** involved in DNA NHEJ during DNA double-strand break repair\n",
    "* **ATR** regulator of genomic integrity, controls and coordinates DNA-replication origin firing, replication-fork stability, cell-cycle checkpoints, and DNA repair\n",
    "* **BRCA1** critical roles in DNA repair, cell cycle checkpoint control, and maintenance of genomic stability\n",
    "* **MSH6** part of a large multisubunit protein complex of tumor suppressors\n",
    "* **POLE** catalytic subunit of DNA polymerase epsilon, involved in DNA repair\n",
    "* **FANCM** direct role in DNA processing\n",
    "* **TP53BP1** binds to WT p53, but not mutatant p53, also regulates ATM-dependent phosphorylation events\n",
    "* **CDK12** forms protein complexes with cyclin K, regulates expression of long complex genes, several of which have roles in DNA maintenance and repair\n",
    "* **FANCD2** links FA and ATM damage response pathways\n",
    "* **SLX4** critical scaffold element for the assembly of a multiprotein complex containing enzymes involved in DNA maintenance and repair"
   ]
  },
  {
   "cell_type": "markdown",
   "metadata": {},
   "source": [
    "## Setup"
   ]
  },
  {
   "cell_type": "code",
   "execution_count": 1,
   "metadata": {},
   "outputs": [
    {
     "name": "stderr",
     "output_type": "stream",
     "text": [
      "cptac warning: Your version of cptac (0.8.5) is out-of-date. Latest is 0.8.6. Please run 'pip install --upgrade cptac' to update it. (C:\\Users\\chels\\anaconda3\\envs\\notebooks\\lib\\site-packages\\ipykernel_launcher.py, line 1)\n"
     ]
    }
   ],
   "source": [
    "import cptac\n",
    "import pandas as pd\n",
    "import numpy as np\n",
    "import scipy.stats as stats\n",
    "import statsmodels.stats.multitest"
   ]
  },
  {
   "cell_type": "code",
   "execution_count": 2,
   "metadata": {},
   "outputs": [],
   "source": [
    "EVENT_COLUMN = 'gain_event'"
   ]
  },
  {
   "cell_type": "code",
   "execution_count": 3,
   "metadata": {},
   "outputs": [
    {
     "name": "stdout",
     "output_type": "stream",
     "text": [
      "Checking that hnscc index is up-to-date...      \r"
     ]
    },
    {
     "name": "stderr",
     "output_type": "stream",
     "text": [
      "cptac warning: The GBM dataset is under publication embargo until March 01, 2021. CPTAC is a community resource project and data are made available rapidly after generation for community research use. The embargo allows exploring and utilizing the data, but analysis may not be published until after the embargo date. Please see https://proteomics.cancer.gov/data-portal/about/data-use-agreement or enter cptac.embargo() to open the webpage for more details. (C:\\Users\\chels\\anaconda3\\envs\\notebooks\\lib\\site-packages\\ipykernel_launcher.py, line 6)\n"
     ]
    },
    {
     "name": "stdout",
     "output_type": "stream",
     "text": [
      "Checking that luad index is up-to-date... \r"
     ]
    },
    {
     "name": "stderr",
     "output_type": "stream",
     "text": [
      "cptac warning: The HNSCC data is currently strictly reserved for CPTAC investigators. Otherwise, you are not authorized to access these data. Additionally, even after these data become publicly available, they will be subject to a publication embargo (see https://proteomics.cancer.gov/data-portal/about/data-use-agreement or enter cptac.embargo() to open the webpage for more details). (C:\\Users\\chels\\anaconda3\\envs\\notebooks\\lib\\site-packages\\ipykernel_launcher.py, line 7)\n"
     ]
    },
    {
     "name": "stdout",
     "output_type": "stream",
     "text": [
      "Checking that ovarian index is up-to-date...\r"
     ]
    },
    {
     "name": "stderr",
     "output_type": "stream",
     "text": [
      "cptac warning: The LSCC data is currently strictly reserved for CPTAC investigators. Otherwise, you are not authorized to access these data. Additionally, even after these data become publicly available, they will be subject to a publication embargo (see https://proteomics.cancer.gov/data-portal/about/data-use-agreement or enter cptac.embargo() to open the webpage for more details). (C:\\Users\\chels\\anaconda3\\envs\\notebooks\\lib\\site-packages\\ipykernel_launcher.py, line 9)\n"
     ]
    },
    {
     "name": "stdout",
     "output_type": "stream",
     "text": [
      "                                            \r"
     ]
    }
   ],
   "source": [
    "cancer_types = {\n",
    "    'brca': cptac.Brca(),\n",
    "    'ccrcc': cptac.Ccrcc(),\n",
    "    'colon': cptac.Colon(),\n",
    "    'endo': cptac.Endometrial(),\n",
    "    'gbm': cptac.Gbm(),\n",
    "    'hnscc': cptac.Hnscc(),\n",
    "    'luad': cptac.Luad(),\n",
    "    'lscc': cptac.Lscc(),\n",
    "    'ovarian': cptac.Ovarian()\n",
    "}"
   ]
  },
  {
   "cell_type": "code",
   "execution_count": 18,
   "metadata": {},
   "outputs": [
    {
     "data": {
      "text/html": [
       "<div>\n",
       "<style scoped>\n",
       "    .dataframe tbody tr th:only-of-type {\n",
       "        vertical-align: middle;\n",
       "    }\n",
       "\n",
       "    .dataframe tbody tr th {\n",
       "        vertical-align: top;\n",
       "    }\n",
       "\n",
       "    .dataframe thead th {\n",
       "        text-align: right;\n",
       "    }\n",
       "</style>\n",
       "<table border=\"1\" class=\"dataframe\">\n",
       "  <thead>\n",
       "    <tr style=\"text-align: right;\">\n",
       "      <th></th>\n",
       "      <th>Patient_ID</th>\n",
       "      <th>C3L-00001</th>\n",
       "      <th>C3L-00009</th>\n",
       "      <th>C3L-00080</th>\n",
       "      <th>C3L-00083</th>\n",
       "      <th>C3L-00093</th>\n",
       "      <th>C3L-00094</th>\n",
       "      <th>C3L-00095</th>\n",
       "      <th>C3L-00140</th>\n",
       "      <th>C3L-00144</th>\n",
       "      <th>C3L-00263</th>\n",
       "      <th>...</th>\n",
       "      <th>C3N-02423.N</th>\n",
       "      <th>C3N-02424.N</th>\n",
       "      <th>C3N-02433.N</th>\n",
       "      <th>C3N-02529.N</th>\n",
       "      <th>C3N-02572.N</th>\n",
       "      <th>C3N-02582.N</th>\n",
       "      <th>C3N-02586.N</th>\n",
       "      <th>C3N-02587.N</th>\n",
       "      <th>C3N-02588.N</th>\n",
       "      <th>C3N-02729.N</th>\n",
       "    </tr>\n",
       "    <tr>\n",
       "      <th>Name</th>\n",
       "      <th>Database_ID</th>\n",
       "      <th></th>\n",
       "      <th></th>\n",
       "      <th></th>\n",
       "      <th></th>\n",
       "      <th></th>\n",
       "      <th></th>\n",
       "      <th></th>\n",
       "      <th></th>\n",
       "      <th></th>\n",
       "      <th></th>\n",
       "      <th></th>\n",
       "      <th></th>\n",
       "      <th></th>\n",
       "      <th></th>\n",
       "      <th></th>\n",
       "      <th></th>\n",
       "      <th></th>\n",
       "      <th></th>\n",
       "      <th></th>\n",
       "      <th></th>\n",
       "      <th></th>\n",
       "    </tr>\n",
       "  </thead>\n",
       "  <tbody>\n",
       "    <tr>\n",
       "      <th>TP53</th>\n",
       "      <th>NP_000537.3|NP_001119590.1|NP_001119585.1|NP_001119586.1|NP_001263624.1|NP_001263625.1|NP_001119587.1|NP_001263626.1|NP_001119589.1|NP_001119588.1|NP_001263628.1|NP_001263627.1</th>\n",
       "      <td>NaN</td>\n",
       "      <td>4.8596</td>\n",
       "      <td>3.2419</td>\n",
       "      <td>NaN</td>\n",
       "      <td>-0.6443</td>\n",
       "      <td>0.6554</td>\n",
       "      <td>2.5045</td>\n",
       "      <td>-1.3538</td>\n",
       "      <td>1.6045</td>\n",
       "      <td>NaN</td>\n",
       "      <td>...</td>\n",
       "      <td>-1.0071</td>\n",
       "      <td>NaN</td>\n",
       "      <td>0.6538</td>\n",
       "      <td>-2.928</td>\n",
       "      <td>-1.1333</td>\n",
       "      <td>-1.5409</td>\n",
       "      <td>-2.0448</td>\n",
       "      <td>-0.454</td>\n",
       "      <td>-1.1202</td>\n",
       "      <td>NaN</td>\n",
       "    </tr>\n",
       "  </tbody>\n",
       "</table>\n",
       "<p>1 rows × 211 columns</p>\n",
       "</div>"
      ],
      "text/plain": [
       "Patient_ID                                               C3L-00001  C3L-00009  \\\n",
       "Name Database_ID                                                                \n",
       "TP53 NP_000537.3|NP_001119590.1|NP_001119585.1|NP_00...        NaN     4.8596   \n",
       "\n",
       "Patient_ID                                               C3L-00080  C3L-00083  \\\n",
       "Name Database_ID                                                                \n",
       "TP53 NP_000537.3|NP_001119590.1|NP_001119585.1|NP_00...     3.2419        NaN   \n",
       "\n",
       "Patient_ID                                               C3L-00093  C3L-00094  \\\n",
       "Name Database_ID                                                                \n",
       "TP53 NP_000537.3|NP_001119590.1|NP_001119585.1|NP_00...    -0.6443     0.6554   \n",
       "\n",
       "Patient_ID                                               C3L-00095  C3L-00140  \\\n",
       "Name Database_ID                                                                \n",
       "TP53 NP_000537.3|NP_001119590.1|NP_001119585.1|NP_00...     2.5045    -1.3538   \n",
       "\n",
       "Patient_ID                                               C3L-00144  C3L-00263  \\\n",
       "Name Database_ID                                                                \n",
       "TP53 NP_000537.3|NP_001119590.1|NP_001119585.1|NP_00...     1.6045        NaN   \n",
       "\n",
       "Patient_ID                                               ...  C3N-02423.N  \\\n",
       "Name Database_ID                                         ...                \n",
       "TP53 NP_000537.3|NP_001119590.1|NP_001119585.1|NP_00...  ...      -1.0071   \n",
       "\n",
       "Patient_ID                                               C3N-02424.N  \\\n",
       "Name Database_ID                                                       \n",
       "TP53 NP_000537.3|NP_001119590.1|NP_001119585.1|NP_00...          NaN   \n",
       "\n",
       "Patient_ID                                               C3N-02433.N  \\\n",
       "Name Database_ID                                                       \n",
       "TP53 NP_000537.3|NP_001119590.1|NP_001119585.1|NP_00...       0.6538   \n",
       "\n",
       "Patient_ID                                               C3N-02529.N  \\\n",
       "Name Database_ID                                                       \n",
       "TP53 NP_000537.3|NP_001119590.1|NP_001119585.1|NP_00...       -2.928   \n",
       "\n",
       "Patient_ID                                               C3N-02572.N  \\\n",
       "Name Database_ID                                                       \n",
       "TP53 NP_000537.3|NP_001119590.1|NP_001119585.1|NP_00...      -1.1333   \n",
       "\n",
       "Patient_ID                                               C3N-02582.N  \\\n",
       "Name Database_ID                                                       \n",
       "TP53 NP_000537.3|NP_001119590.1|NP_001119585.1|NP_00...      -1.5409   \n",
       "\n",
       "Patient_ID                                               C3N-02586.N  \\\n",
       "Name Database_ID                                                       \n",
       "TP53 NP_000537.3|NP_001119590.1|NP_001119585.1|NP_00...      -2.0448   \n",
       "\n",
       "Patient_ID                                               C3N-02587.N  \\\n",
       "Name Database_ID                                                       \n",
       "TP53 NP_000537.3|NP_001119590.1|NP_001119585.1|NP_00...       -0.454   \n",
       "\n",
       "Patient_ID                                               C3N-02588.N  \\\n",
       "Name Database_ID                                                       \n",
       "TP53 NP_000537.3|NP_001119590.1|NP_001119585.1|NP_00...      -1.1202   \n",
       "\n",
       "Patient_ID                                               C3N-02729.N  \n",
       "Name Database_ID                                                      \n",
       "TP53 NP_000537.3|NP_001119590.1|NP_001119585.1|NP_00...          NaN  \n",
       "\n",
       "[1 rows x 211 columns]"
      ]
     },
     "execution_count": 18,
     "metadata": {},
     "output_type": "execute_result"
    }
   ],
   "source": [
    "prot = cancer_types['luad'].get_proteomics().transpose()\n",
    "prot[prot.index.get_level_values('Name') == 'TP53']"
   ]
  },
  {
   "cell_type": "code",
   "execution_count": 4,
   "metadata": {},
   "outputs": [],
   "source": [
    "dna_repair_genes = ['TP53', 'KMT2C', 'ATM', 'BAP1', 'BRCA2', 'POLQ', 'PRKDC', 'ATR', 'BRCA1', 'MSH6', 'POLE', 'FANCM', 'TP53BP1', 'CDK12', 'FANCD2', 'SLX4']"
   ]
  },
  {
   "cell_type": "markdown",
   "metadata": {},
   "source": [
    "## Run Fisher Tests"
   ]
  },
  {
   "cell_type": "code",
   "execution_count": 5,
   "metadata": {},
   "outputs": [
    {
     "name": "stderr",
     "output_type": "stream",
     "text": [
      "C:\\Users\\chels\\anaconda3\\envs\\notebooks\\lib\\site-packages\\ipykernel_launcher.py:10: SettingWithCopyWarning: \n",
      "A value is trying to be set on a copy of a slice from a DataFrame.\n",
      "Try using .loc[row_indexer,col_indexer] = value instead\n",
      "\n",
      "See the caveats in the documentation: https://pandas.pydata.org/pandas-docs/stable/user_guide/indexing.html#returning-a-view-versus-a-copy\n",
      "  # Remove the CWD from sys.path while we load stuff.\n",
      "C:\\Users\\chels\\anaconda3\\envs\\notebooks\\lib\\site-packages\\ipykernel_launcher.py:10: SettingWithCopyWarning: \n",
      "A value is trying to be set on a copy of a slice from a DataFrame.\n",
      "Try using .loc[row_indexer,col_indexer] = value instead\n",
      "\n",
      "See the caveats in the documentation: https://pandas.pydata.org/pandas-docs/stable/user_guide/indexing.html#returning-a-view-versus-a-copy\n",
      "  # Remove the CWD from sys.path while we load stuff.\n",
      "C:\\Users\\chels\\anaconda3\\envs\\notebooks\\lib\\site-packages\\ipykernel_launcher.py:10: SettingWithCopyWarning: \n",
      "A value is trying to be set on a copy of a slice from a DataFrame.\n",
      "Try using .loc[row_indexer,col_indexer] = value instead\n",
      "\n",
      "See the caveats in the documentation: https://pandas.pydata.org/pandas-docs/stable/user_guide/indexing.html#returning-a-view-versus-a-copy\n",
      "  # Remove the CWD from sys.path while we load stuff.\n",
      "C:\\Users\\chels\\anaconda3\\envs\\notebooks\\lib\\site-packages\\ipykernel_launcher.py:10: SettingWithCopyWarning: \n",
      "A value is trying to be set on a copy of a slice from a DataFrame.\n",
      "Try using .loc[row_indexer,col_indexer] = value instead\n",
      "\n",
      "See the caveats in the documentation: https://pandas.pydata.org/pandas-docs/stable/user_guide/indexing.html#returning-a-view-versus-a-copy\n",
      "  # Remove the CWD from sys.path while we load stuff.\n",
      "C:\\Users\\chels\\anaconda3\\envs\\notebooks\\lib\\site-packages\\ipykernel_launcher.py:10: SettingWithCopyWarning: \n",
      "A value is trying to be set on a copy of a slice from a DataFrame.\n",
      "Try using .loc[row_indexer,col_indexer] = value instead\n",
      "\n",
      "See the caveats in the documentation: https://pandas.pydata.org/pandas-docs/stable/user_guide/indexing.html#returning-a-view-versus-a-copy\n",
      "  # Remove the CWD from sys.path while we load stuff.\n",
      "C:\\Users\\chels\\anaconda3\\envs\\notebooks\\lib\\site-packages\\ipykernel_launcher.py:10: SettingWithCopyWarning: \n",
      "A value is trying to be set on a copy of a slice from a DataFrame.\n",
      "Try using .loc[row_indexer,col_indexer] = value instead\n",
      "\n",
      "See the caveats in the documentation: https://pandas.pydata.org/pandas-docs/stable/user_guide/indexing.html#returning-a-view-versus-a-copy\n",
      "  # Remove the CWD from sys.path while we load stuff.\n",
      "C:\\Users\\chels\\anaconda3\\envs\\notebooks\\lib\\site-packages\\ipykernel_launcher.py:10: SettingWithCopyWarning: \n",
      "A value is trying to be set on a copy of a slice from a DataFrame.\n",
      "Try using .loc[row_indexer,col_indexer] = value instead\n",
      "\n",
      "See the caveats in the documentation: https://pandas.pydata.org/pandas-docs/stable/user_guide/indexing.html#returning-a-view-versus-a-copy\n",
      "  # Remove the CWD from sys.path while we load stuff.\n",
      "C:\\Users\\chels\\anaconda3\\envs\\notebooks\\lib\\site-packages\\ipykernel_launcher.py:10: SettingWithCopyWarning: \n",
      "A value is trying to be set on a copy of a slice from a DataFrame.\n",
      "Try using .loc[row_indexer,col_indexer] = value instead\n",
      "\n",
      "See the caveats in the documentation: https://pandas.pydata.org/pandas-docs/stable/user_guide/indexing.html#returning-a-view-versus-a-copy\n",
      "  # Remove the CWD from sys.path while we load stuff.\n",
      "C:\\Users\\chels\\anaconda3\\envs\\notebooks\\lib\\site-packages\\ipykernel_launcher.py:10: SettingWithCopyWarning: \n",
      "A value is trying to be set on a copy of a slice from a DataFrame.\n",
      "Try using .loc[row_indexer,col_indexer] = value instead\n",
      "\n",
      "See the caveats in the documentation: https://pandas.pydata.org/pandas-docs/stable/user_guide/indexing.html#returning-a-view-versus-a-copy\n",
      "  # Remove the CWD from sys.path while we load stuff.\n"
     ]
    }
   ],
   "source": [
    "repair_gene_dict = dict()\n",
    "cancers = list()\n",
    "genes = list()\n",
    "pvalues = list()\n",
    "odds_list = list()\n",
    "for cancer in cancer_types.keys():\n",
    "    has_event = pd.read_csv(f'{cancer}_has_event.tsv', sep='\\t', index_col=0)\n",
    "    mutations = cancer_types[cancer].get_somatic_mutation()\n",
    "    drivers = mutations[mutations.Gene.isin(dna_repair_genes)]\n",
    "    drivers['has_mutation'] = True\n",
    "    driver_table = pd.pivot_table(drivers, index=drivers.index, values='has_mutation', columns=['Gene']).fillna(False)\n",
    "    joined = has_event.join(driver_table).fillna(False)\n",
    "    for gene in dna_repair_genes:\n",
    "        if gene in joined.columns:\n",
    "            event_table = pd.crosstab(joined[EVENT_COLUMN], joined[gene])\n",
    "            try:\n",
    "                odds, pvalue = stats.fisher_exact(event_table)\n",
    "                odds_list.append(odds)\n",
    "                pvalues.append(pvalue)\n",
    "                genes.append(gene)\n",
    "                cancers.append(cancer)\n",
    "            except:\n",
    "                genes.append(gene)\n",
    "                cancers.append(cancer)\n",
    "                odds_list.append(None)\n",
    "                pvalues.append(None)\n",
    "results = pd.DataFrame({\"gene\": genes,\n",
    "                        \"cancer\": cancers,\n",
    "                        \"pvalue\": pvalues,\n",
    "                        \"odds\": odds_list})"
   ]
  },
  {
   "cell_type": "code",
   "execution_count": 6,
   "metadata": {},
   "outputs": [
    {
     "data": {
      "text/html": [
       "<div>\n",
       "<style scoped>\n",
       "    .dataframe tbody tr th:only-of-type {\n",
       "        vertical-align: middle;\n",
       "    }\n",
       "\n",
       "    .dataframe tbody tr th {\n",
       "        vertical-align: top;\n",
       "    }\n",
       "\n",
       "    .dataframe thead th {\n",
       "        text-align: right;\n",
       "    }\n",
       "</style>\n",
       "<table border=\"1\" class=\"dataframe\">\n",
       "  <thead>\n",
       "    <tr style=\"text-align: right;\">\n",
       "      <th></th>\n",
       "      <th>gene</th>\n",
       "      <th>cancer</th>\n",
       "      <th>pvalue</th>\n",
       "      <th>odds</th>\n",
       "    </tr>\n",
       "  </thead>\n",
       "  <tbody>\n",
       "    <tr>\n",
       "      <th>0</th>\n",
       "      <td>TP53</td>\n",
       "      <td>brca</td>\n",
       "      <td>1.000000</td>\n",
       "      <td>1.073171</td>\n",
       "    </tr>\n",
       "    <tr>\n",
       "      <th>1</th>\n",
       "      <td>KMT2C</td>\n",
       "      <td>brca</td>\n",
       "      <td>1.000000</td>\n",
       "      <td>0.631944</td>\n",
       "    </tr>\n",
       "    <tr>\n",
       "      <th>2</th>\n",
       "      <td>ATM</td>\n",
       "      <td>brca</td>\n",
       "      <td>1.000000</td>\n",
       "      <td>0.000000</td>\n",
       "    </tr>\n",
       "    <tr>\n",
       "      <th>3</th>\n",
       "      <td>BRCA2</td>\n",
       "      <td>brca</td>\n",
       "      <td>1.000000</td>\n",
       "      <td>0.000000</td>\n",
       "    </tr>\n",
       "    <tr>\n",
       "      <th>4</th>\n",
       "      <td>POLQ</td>\n",
       "      <td>brca</td>\n",
       "      <td>0.580344</td>\n",
       "      <td>0.000000</td>\n",
       "    </tr>\n",
       "    <tr>\n",
       "      <th>...</th>\n",
       "      <td>...</td>\n",
       "      <td>...</td>\n",
       "      <td>...</td>\n",
       "      <td>...</td>\n",
       "    </tr>\n",
       "    <tr>\n",
       "      <th>120</th>\n",
       "      <td>FANCM</td>\n",
       "      <td>ovarian</td>\n",
       "      <td>1.000000</td>\n",
       "      <td>0.000000</td>\n",
       "    </tr>\n",
       "    <tr>\n",
       "      <th>121</th>\n",
       "      <td>TP53BP1</td>\n",
       "      <td>ovarian</td>\n",
       "      <td>1.000000</td>\n",
       "      <td>0.000000</td>\n",
       "    </tr>\n",
       "    <tr>\n",
       "      <th>122</th>\n",
       "      <td>CDK12</td>\n",
       "      <td>ovarian</td>\n",
       "      <td>1.000000</td>\n",
       "      <td>0.789474</td>\n",
       "    </tr>\n",
       "    <tr>\n",
       "      <th>123</th>\n",
       "      <td>FANCD2</td>\n",
       "      <td>ovarian</td>\n",
       "      <td>1.000000</td>\n",
       "      <td>0.000000</td>\n",
       "    </tr>\n",
       "    <tr>\n",
       "      <th>124</th>\n",
       "      <td>SLX4</td>\n",
       "      <td>ovarian</td>\n",
       "      <td>0.361616</td>\n",
       "      <td>4.157895</td>\n",
       "    </tr>\n",
       "  </tbody>\n",
       "</table>\n",
       "<p>125 rows × 4 columns</p>\n",
       "</div>"
      ],
      "text/plain": [
       "        gene   cancer    pvalue      odds\n",
       "0       TP53     brca  1.000000  1.073171\n",
       "1      KMT2C     brca  1.000000  0.631944\n",
       "2        ATM     brca  1.000000  0.000000\n",
       "3      BRCA2     brca  1.000000  0.000000\n",
       "4       POLQ     brca  0.580344  0.000000\n",
       "..       ...      ...       ...       ...\n",
       "120    FANCM  ovarian  1.000000  0.000000\n",
       "121  TP53BP1  ovarian  1.000000  0.000000\n",
       "122    CDK12  ovarian  1.000000  0.789474\n",
       "123   FANCD2  ovarian  1.000000  0.000000\n",
       "124     SLX4  ovarian  0.361616  4.157895\n",
       "\n",
       "[125 rows x 4 columns]"
      ]
     },
     "execution_count": 6,
     "metadata": {},
     "output_type": "execute_result"
    }
   ],
   "source": [
    "results"
   ]
  },
  {
   "cell_type": "markdown",
   "metadata": {},
   "source": [
    "## Correct Pvalues"
   ]
  },
  {
   "cell_type": "code",
   "execution_count": 7,
   "metadata": {},
   "outputs": [
    {
     "name": "stderr",
     "output_type": "stream",
     "text": [
      "C:\\Users\\chels\\anaconda3\\envs\\notebooks\\lib\\site-packages\\ipykernel_launcher.py:7: SettingWithCopyWarning: \n",
      "A value is trying to be set on a copy of a slice from a DataFrame.\n",
      "Try using .loc[row_indexer,col_indexer] = value instead\n",
      "\n",
      "See the caveats in the documentation: https://pandas.pydata.org/pandas-docs/stable/user_guide/indexing.html#returning-a-view-versus-a-copy\n",
      "  import sys\n"
     ]
    }
   ],
   "source": [
    "# Correct for Multiple Tests\n",
    "corrected_data = pd.DataFrame()\n",
    "for cancer in results.cancer.unique():\n",
    "    cancer_results = results[results.cancer == cancer]\n",
    "    pvalues = cancer_results.pvalue\n",
    "    corrected = statsmodels.stats.multitest.multipletests(pvalues, method='fdr_bh')\n",
    "    cancer_results['pvalues'] = corrected[1]\n",
    "    if corrected_data.empty:\n",
    "        corrected_data = cancer_results\n",
    "    else:\n",
    "        corrected_data = pd.concat([corrected_data, cancer_results])\n"
   ]
  },
  {
   "cell_type": "code",
   "execution_count": 10,
   "metadata": {},
   "outputs": [
    {
     "data": {
      "text/html": [
       "<div>\n",
       "<style scoped>\n",
       "    .dataframe tbody tr th:only-of-type {\n",
       "        vertical-align: middle;\n",
       "    }\n",
       "\n",
       "    .dataframe tbody tr th {\n",
       "        vertical-align: top;\n",
       "    }\n",
       "\n",
       "    .dataframe thead th {\n",
       "        text-align: right;\n",
       "    }\n",
       "</style>\n",
       "<table border=\"1\" class=\"dataframe\">\n",
       "  <thead>\n",
       "    <tr style=\"text-align: right;\">\n",
       "      <th></th>\n",
       "      <th>gene</th>\n",
       "      <th>cancer</th>\n",
       "      <th>pvalue</th>\n",
       "      <th>odds</th>\n",
       "      <th>pvalues</th>\n",
       "    </tr>\n",
       "  </thead>\n",
       "  <tbody>\n",
       "    <tr>\n",
       "      <th>32</th>\n",
       "      <td>MSH6</td>\n",
       "      <td>colon</td>\n",
       "      <td>0.024699</td>\n",
       "      <td>0.192308</td>\n",
       "      <td>0.244805</td>\n",
       "    </tr>\n",
       "    <tr>\n",
       "      <th>33</th>\n",
       "      <td>POLE</td>\n",
       "      <td>colon</td>\n",
       "      <td>0.041900</td>\n",
       "      <td>0.212500</td>\n",
       "      <td>0.244805</td>\n",
       "    </tr>\n",
       "    <tr>\n",
       "      <th>39</th>\n",
       "      <td>TP53</td>\n",
       "      <td>endo</td>\n",
       "      <td>0.020395</td>\n",
       "      <td>8.470588</td>\n",
       "      <td>0.326322</td>\n",
       "    </tr>\n",
       "    <tr>\n",
       "      <th>52</th>\n",
       "      <td>CDK12</td>\n",
       "      <td>endo</td>\n",
       "      <td>0.044822</td>\n",
       "      <td>10.625000</td>\n",
       "      <td>0.358574</td>\n",
       "    </tr>\n",
       "  </tbody>\n",
       "</table>\n",
       "</div>"
      ],
      "text/plain": [
       "     gene cancer    pvalue       odds   pvalues\n",
       "32   MSH6  colon  0.024699   0.192308  0.244805\n",
       "33   POLE  colon  0.041900   0.212500  0.244805\n",
       "39   TP53   endo  0.020395   8.470588  0.326322\n",
       "52  CDK12   endo  0.044822  10.625000  0.358574"
      ]
     },
     "execution_count": 10,
     "metadata": {},
     "output_type": "execute_result"
    }
   ],
   "source": [
    "corrected_data[corrected_data.pvalue < 0.05 ]"
   ]
  }
 ],
 "metadata": {
  "kernelspec": {
   "display_name": "Python 3",
   "language": "python",
   "name": "python3"
  },
  "language_info": {
   "codemirror_mode": {
    "name": "ipython",
    "version": 3
   },
   "file_extension": ".py",
   "mimetype": "text/x-python",
   "name": "python",
   "nbconvert_exporter": "python",
   "pygments_lexer": "ipython3",
   "version": "3.7.9"
  }
 },
 "nbformat": 4,
 "nbformat_minor": 4
}
