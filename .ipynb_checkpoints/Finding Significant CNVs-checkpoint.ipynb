{
 "cells": [
  {
   "cell_type": "markdown",
   "metadata": {},
   "source": [
    "# Finding Significant CNVs"
   ]
  },
  {
   "cell_type": "code",
   "execution_count": 1,
   "metadata": {},
   "outputs": [
    {
     "name": "stderr",
     "output_type": "stream",
     "text": [
      "C:\\Users\\chels\\Anaconda3\\lib\\site-packages\\statsmodels\\tools\\_testing.py:19: FutureWarning: pandas.util.testing is deprecated. Use the functions in the public API at pandas.testing instead.\n",
      "  import pandas.util.testing as tm\n"
     ]
    }
   ],
   "source": [
    "import pandas as pd\n",
    "import matplotlib.pyplot as plt\n",
    "import seaborn as sns\n",
    "import numpy as np\n",
    "import cptac"
   ]
  },
  {
   "cell_type": "code",
   "execution_count": 2,
   "metadata": {},
   "outputs": [
    {
     "name": "stdout",
     "output_type": "stream",
     "text": [
      "Requirement already up-to-date: cptac in c:\\users\\chels\\anaconda3\\lib\\site-packages (0.8.0)\n",
      "Requirement already satisfied, skipping upgrade: numpy>=1.16.3 in c:\\users\\chels\\anaconda3\\lib\\site-packages (from cptac) (1.16.4)\n",
      "Requirement already satisfied, skipping upgrade: requests>=2.21.0 in c:\\users\\chels\\anaconda3\\lib\\site-packages (from cptac) (2.22.0)\n",
      "Requirement already satisfied, skipping upgrade: packaging>=19.2 in c:\\users\\chels\\anaconda3\\lib\\site-packages (from cptac) (20.1)\n",
      "Requirement already satisfied, skipping upgrade: xlrd>=1.2.0 in c:\\users\\chels\\anaconda3\\lib\\site-packages (from cptac) (1.2.0)\n",
      "Requirement already satisfied, skipping upgrade: pandas>=0.25.1 in c:\\users\\chels\\anaconda3\\lib\\site-packages (from cptac) (1.0.1)\n",
      "Requirement already satisfied, skipping upgrade: beautifulsoup4>=4.7.1 in c:\\users\\chels\\anaconda3\\lib\\site-packages (from cptac) (4.7.1)\n",
      "Requirement already satisfied, skipping upgrade: scipy>=1.2.1 in c:\\users\\chels\\anaconda3\\lib\\site-packages (from cptac) (1.2.1)\n",
      "Requirement already satisfied, skipping upgrade: urllib3>=1.24.2 in c:\\users\\chels\\anaconda3\\lib\\site-packages (from cptac) (1.24.2)\n",
      "Requirement already satisfied, skipping upgrade: idna<2.9,>=2.5 in c:\\users\\chels\\anaconda3\\lib\\site-packages (from requests>=2.21.0->cptac) (2.8)\n",
      "Requirement already satisfied, skipping upgrade: chardet<3.1.0,>=3.0.2 in c:\\users\\chels\\anaconda3\\lib\\site-packages (from requests>=2.21.0->cptac) (3.0.4)\n",
      "Requirement already satisfied, skipping upgrade: certifi>=2017.4.17 in c:\\users\\chels\\anaconda3\\lib\\site-packages (from requests>=2.21.0->cptac) (2019.6.16)\n",
      "Requirement already satisfied, skipping upgrade: pyparsing>=2.0.2 in c:\\users\\chels\\anaconda3\\lib\\site-packages (from packaging>=19.2->cptac) (2.4.0)\n",
      "Requirement already satisfied, skipping upgrade: six in c:\\users\\chels\\anaconda3\\lib\\site-packages (from packaging>=19.2->cptac) (1.12.0)\n",
      "Requirement already satisfied, skipping upgrade: python-dateutil>=2.6.1 in c:\\users\\chels\\anaconda3\\lib\\site-packages (from pandas>=0.25.1->cptac) (2.8.0)\n",
      "Requirement already satisfied, skipping upgrade: pytz>=2017.2 in c:\\users\\chels\\anaconda3\\lib\\site-packages (from pandas>=0.25.1->cptac) (2019.1)\n",
      "Requirement already satisfied, skipping upgrade: soupsieve>=1.2 in c:\\users\\chels\\anaconda3\\lib\\site-packages (from beautifulsoup4>=4.7.1->cptac) (1.8)\n"
     ]
    }
   ],
   "source": [
    "!pip install --upgrade cptac"
   ]
  },
  {
   "cell_type": "markdown",
   "metadata": {},
   "source": [
    "## Download CNV Data"
   ]
  },
  {
   "cell_type": "code",
   "execution_count": 3,
   "metadata": {},
   "outputs": [
    {
     "name": "stdout",
     "output_type": "stream",
     "text": [
      "Available datasets:\n",
      "\n",
      "Dataset name                               Description     Data reuse status  \\\n",
      "                                                                               \n",
      "Brca                                     breast cancer       no restrictions   \n",
      "Ccrcc         clear cell renal cell carcinoma (kidney)       no restrictions   \n",
      "Colon                                colorectal cancer       no restrictions   \n",
      "Endometrial            endometrial carcinoma (uterine)       no restrictions   \n",
      "Gbm                                       glioblastoma   publication embargo   \n",
      "Hnscc                                    head and neck  password access only   \n",
      "Lscc                      lung squamous cell carcinoma  password access only   \n",
      "Luad                               lung adenocarcinoma   publication embargo   \n",
      "Ovarian               high grade serous ovarian cancer       no restrictions   \n",
      "\n",
      "Dataset name                              Publication link  \n",
      "                                                            \n",
      "Brca                                           unpublished  \n",
      "Ccrcc         https://www.ncbi.nlm.nih.gov/pubmed/31675502  \n",
      "Colon         https://www.ncbi.nlm.nih.gov/pubmed/31031003  \n",
      "Endometrial   https://www.ncbi.nlm.nih.gov/pubmed/32059776  \n",
      "Gbm                                            unpublished  \n",
      "Hnscc                                          unpublished  \n",
      "Lscc                                           unpublished  \n",
      "Luad                                           unpublished  \n",
      "Ovarian       https://www.ncbi.nlm.nih.gov/pubmed/27372738  \n"
     ]
    }
   ],
   "source": [
    "cptac.list_datasets()"
   ]
  },
  {
   "cell_type": "code",
   "execution_count": 4,
   "metadata": {},
   "outputs": [
    {
     "name": "stdout",
     "output_type": "stream",
     "text": [
      "                                                \r"
     ]
    },
    {
     "data": {
      "text/plain": [
       "True"
      ]
     },
     "execution_count": 4,
     "metadata": {},
     "output_type": "execute_result"
    }
   ],
   "source": [
    "cptac.download(dataset=\"endometrial\")"
   ]
  },
  {
   "cell_type": "code",
   "execution_count": 5,
   "metadata": {},
   "outputs": [
    {
     "name": "stdout",
     "output_type": "stream",
     "text": [
      "                                         \r"
     ]
    },
    {
     "data": {
      "text/plain": [
       "True"
      ]
     },
     "execution_count": 5,
     "metadata": {},
     "output_type": "execute_result"
    }
   ],
   "source": [
    "cptac.download(dataset=\"brca\")"
   ]
  },
  {
   "cell_type": "code",
   "execution_count": 6,
   "metadata": {},
   "outputs": [
    {
     "name": "stdout",
     "output_type": "stream",
     "text": [
      "                                          \r"
     ]
    },
    {
     "data": {
      "text/plain": [
       "True"
      ]
     },
     "execution_count": 6,
     "metadata": {},
     "output_type": "execute_result"
    }
   ],
   "source": [
    "cptac.download(dataset=\"ccrcc\")"
   ]
  },
  {
   "cell_type": "code",
   "execution_count": 7,
   "metadata": {},
   "outputs": [
    {
     "name": "stdout",
     "output_type": "stream",
     "text": [
      "                                        \r"
     ]
    },
    {
     "data": {
      "text/plain": [
       "True"
      ]
     },
     "execution_count": 7,
     "metadata": {},
     "output_type": "execute_result"
    }
   ],
   "source": [
    "cptac.download(dataset=\"gbm\")"
   ]
  },
  {
   "cell_type": "code",
   "execution_count": 9,
   "metadata": {},
   "outputs": [
    {
     "name": "stdout",
     "output_type": "stream",
     "text": [
      "                                          \r"
     ]
    },
    {
     "data": {
      "text/plain": [
       "True"
      ]
     },
     "execution_count": 9,
     "metadata": {},
     "output_type": "execute_result"
    }
   ],
   "source": [
    "cptac.download(dataset=\"hnscc\")"
   ]
  },
  {
   "cell_type": "code",
   "execution_count": 11,
   "metadata": {},
   "outputs": [
    {
     "name": "stdout",
     "output_type": "stream",
     "text": [
      "                                         \r"
     ]
    },
    {
     "data": {
      "text/plain": [
       "True"
      ]
     },
     "execution_count": 11,
     "metadata": {},
     "output_type": "execute_result"
    }
   ],
   "source": [
    "cptac.download(dataset=\"luad\")"
   ]
  },
  {
   "cell_type": "code",
   "execution_count": 12,
   "metadata": {},
   "outputs": [
    {
     "name": "stdout",
     "output_type": "stream",
     "text": [
      "                                            \r"
     ]
    },
    {
     "data": {
      "text/plain": [
       "True"
      ]
     },
     "execution_count": 12,
     "metadata": {},
     "output_type": "execute_result"
    }
   ],
   "source": [
    "cptac.download(dataset=\"ovarian\")"
   ]
  },
  {
   "cell_type": "code",
   "execution_count": 28,
   "metadata": {},
   "outputs": [
    {
     "name": "stdout",
     "output_type": "stream",
     "text": [
      "Downloading colon v0.0.1 data files (1/11)...\r"
     ]
    },
    {
     "name": "stderr",
     "output_type": "stream",
     "text": [
      "cptac warning: Downloading new version of colon dataset: 0.0.1. This will now be the default version when the dataset is loaded. If you wish to load an older version of the data, you must specify it with the 'version' parameter when you load the dataset. (C:\\Users\\chels\\Anaconda3\\lib\\site-packages\\ipykernel_launcher.py, line 1)\n"
     ]
    },
    {
     "name": "stdout",
     "output_type": "stream",
     "text": [
      "                                              \r"
     ]
    },
    {
     "data": {
      "text/plain": [
       "True"
      ]
     },
     "execution_count": 28,
     "metadata": {},
     "output_type": "execute_result"
    }
   ],
   "source": [
    "cptac.download(dataset=\"colon\")"
   ]
  },
  {
   "cell_type": "code",
   "execution_count": 71,
   "metadata": {},
   "outputs": [
    {
     "name": "stdout",
     "output_type": "stream",
     "text": [
      "Password for lscc dataset: ········      \n",
      "                                         \r"
     ]
    },
    {
     "data": {
      "text/plain": [
       "True"
      ]
     },
     "execution_count": 71,
     "metadata": {},
     "output_type": "execute_result"
    }
   ],
   "source": [
    "cptac.download(dataset=\"lscc\")"
   ]
  },
  {
   "cell_type": "code",
   "execution_count": 13,
   "metadata": {},
   "outputs": [
    {
     "name": "stdout",
     "output_type": "stream",
     "text": [
      "Checking that hnscc index is up-to-date...      \r"
     ]
    },
    {
     "name": "stderr",
     "output_type": "stream",
     "text": [
      "cptac warning: The GBM dataset is under publication embargo until March 01, 2021. CPTAC is a community resource project and data are made available rapidly after generation for community research use. The embargo allows exploring and utilizing the data, but analysis may not be published until after the embargo date. Please see https://proteomics.cancer.gov/data-portal/about/data-use-agreement or enter cptac.embargo() to open the webpage for more details. (C:\\Users\\chels\\Anaconda3\\lib\\site-packages\\ipykernel_launcher.py, line 4)\n"
     ]
    },
    {
     "name": "stdout",
     "output_type": "stream",
     "text": [
      "Checking that luad index is up-to-date... \r"
     ]
    },
    {
     "name": "stderr",
     "output_type": "stream",
     "text": [
      "cptac warning: The HNSCC data is currently strictly reserved for CPTAC investigators. Otherwise, you are not authorized to access these data. Additionally, even after these data become publicly available, they will be subject to a publication embargo (see https://proteomics.cancer.gov/data-portal/about/data-use-agreement or enter cptac.embargo() to open the webpage for more details). (C:\\Users\\chels\\Anaconda3\\lib\\site-packages\\ipykernel_launcher.py, line 5)\n"
     ]
    },
    {
     "name": "stdout",
     "output_type": "stream",
     "text": [
      "Checking that ovarian index is up-to-date...\r"
     ]
    },
    {
     "name": "stderr",
     "output_type": "stream",
     "text": [
      "cptac warning: The LUAD dataset is under publication embargo until July 01, 2020. CPTAC is a community resource project and data are made available rapidly after generation for community research use. The embargo allows exploring and utilizing the data, but analysis may not be published until after the embargo date. Please see https://proteomics.cancer.gov/data-portal/about/data-use-agreement or enter cptac.embargo() to open the webpage for more details. (C:\\Users\\chels\\Anaconda3\\lib\\site-packages\\ipykernel_launcher.py, line 6)\n"
     ]
    },
    {
     "name": "stdout",
     "output_type": "stream",
     "text": [
      "                                            \r"
     ]
    }
   ],
   "source": [
    "en = cptac.Endometrial()\n",
    "brca = cptac.Brca()\n",
    "ccrcc = cptac.Ccrcc()\n",
    "gbm = cptac.Gbm()\n",
    "hnscc = cptac.Hnscc()\n",
    "luad = cptac.Luad()\n",
    "ovarian = cptac.Ovarian()"
   ]
  },
  {
   "cell_type": "code",
   "execution_count": 29,
   "metadata": {},
   "outputs": [
    {
     "name": "stdout",
     "output_type": "stream",
     "text": [
      "                                          \r"
     ]
    }
   ],
   "source": [
    "colon = cptac.Colon()"
   ]
  },
  {
   "cell_type": "code",
   "execution_count": 72,
   "metadata": {},
   "outputs": [
    {
     "name": "stdout",
     "output_type": "stream",
     "text": [
      "                                         \r"
     ]
    },
    {
     "name": "stderr",
     "output_type": "stream",
     "text": [
      "cptac warning: The LSCC data is currently strictly reserved for CPTAC investigators. Otherwise, you are not authorized to access these data. Additionally, even after these data become publicly available, they will be subject to a publication embargo (see https://proteomics.cancer.gov/data-portal/about/data-use-agreement or enter cptac.embargo() to open the webpage for more details). (C:\\Users\\chels\\Anaconda3\\lib\\site-packages\\ipykernel_launcher.py, line 1)\n"
     ]
    }
   ],
   "source": [
    "lscc = cptac.Lscc()"
   ]
  },
  {
   "cell_type": "code",
   "execution_count": 14,
   "metadata": {},
   "outputs": [],
   "source": [
    "en_cnv = en.get_CNV()\n",
    "brca_cnv = brca.get_CNV()\n",
    "ccrcc_cnv = ccrcc.get_CNV()\n",
    "gbm_cnv = gbm.get_CNV()\n",
    "hnscc_cnv = hnscc.get_CNV()\n",
    "luad_cnv = luad.get_CNV()\n",
    "ovarian_cnv = ovarian.get_CNV()"
   ]
  },
  {
   "cell_type": "code",
   "execution_count": 30,
   "metadata": {},
   "outputs": [],
   "source": [
    "colon_cnv = colon.get_CNV()"
   ]
  },
  {
   "cell_type": "code",
   "execution_count": 73,
   "metadata": {},
   "outputs": [],
   "source": [
    "lscc_cnv = lscc.get_CNV()"
   ]
  },
  {
   "cell_type": "markdown",
   "metadata": {},
   "source": [
    "## Create Summary Tables"
   ]
  },
  {
   "cell_type": "code",
   "execution_count": 31,
   "metadata": {},
   "outputs": [],
   "source": [
    "def separate(hiCut, lowCut, data):\n",
    "  \"\"\"\n",
    "  Counts the Number of patients with high and low value for each gene.\n",
    "  \"\"\"\n",
    "  sepDict = dict()\n",
    "  for column in data:\n",
    "    numHi = 0\n",
    "    numLow = 0\n",
    "    numNeu = 0\n",
    "    for i in data[column]:\n",
    "      if i > hiCut:\n",
    "        numHi += 1\n",
    "      elif i < lowCut:\n",
    "        numLow += 1\n",
    "      else:\n",
    "        numNeu += 1 \n",
    "    sepDict[column] = [numHi, numNeu, numLow]\n",
    "  return sepDict"
   ]
  },
  {
   "cell_type": "code",
   "execution_count": 35,
   "metadata": {},
   "outputs": [],
   "source": [
    "def get_counts_and_average(data):\n",
    "  \"\"\"\n",
    "  Takes a CNV dataframe and generates a dataframe with the counts of high, low and neutral values\n",
    "  \"\"\"\n",
    "  df = pd.DataFrame(data = separate(.3,-.2,data), index = [\"high\", \"neutral\", \"low\"])\n",
    "  df = df.append(pd.DataFrame(data.mean(0), columns=['average']).transpose(), sort=True)\n",
    "  return df.transpose()"
   ]
  },
  {
   "cell_type": "code",
   "execution_count": 36,
   "metadata": {},
   "outputs": [],
   "source": [
    "en_counts = get_counts_and_average(en_cnv)\n",
    "gbm_counts = get_counts_and_average(gbm_cnv)\n",
    "brca_counts = get_counts_and_average(brca_cnv)\n",
    "hnscc_counts = get_counts_and_average(hnscc_cnv)\n",
    "luad_counts = get_counts_and_average(luad_cnv)\n",
    "ovarian_counts = get_counts_and_average(ovarian_cnv)\n",
    "ccrcc_counts = get_counts_and_average(ccrcc_cnv)\n",
    "colon_counts = get_counts_and_average(colon_cnv)"
   ]
  },
  {
   "cell_type": "code",
   "execution_count": 74,
   "metadata": {},
   "outputs": [],
   "source": [
    "lscc_counts = get_counts_and_average(lscc_cnv)"
   ]
  },
  {
   "cell_type": "code",
   "execution_count": 75,
   "metadata": {},
   "outputs": [
    {
     "data": {
      "text/html": [
       "<div>\n",
       "<style scoped>\n",
       "    .dataframe tbody tr th:only-of-type {\n",
       "        vertical-align: middle;\n",
       "    }\n",
       "\n",
       "    .dataframe tbody tr th {\n",
       "        vertical-align: top;\n",
       "    }\n",
       "\n",
       "    .dataframe thead th {\n",
       "        text-align: right;\n",
       "    }\n",
       "</style>\n",
       "<table border=\"1\" class=\"dataframe\">\n",
       "  <thead>\n",
       "    <tr style=\"text-align: right;\">\n",
       "      <th></th>\n",
       "      <th>high</th>\n",
       "      <th>neutral</th>\n",
       "      <th>low</th>\n",
       "      <th>average</th>\n",
       "    </tr>\n",
       "    <tr>\n",
       "      <th>Name</th>\n",
       "      <th></th>\n",
       "      <th></th>\n",
       "      <th></th>\n",
       "      <th></th>\n",
       "    </tr>\n",
       "  </thead>\n",
       "  <tbody>\n",
       "    <tr>\n",
       "      <th>A1BG</th>\n",
       "      <td>6.0</td>\n",
       "      <td>86.0</td>\n",
       "      <td>18.0</td>\n",
       "      <td>-0.013685</td>\n",
       "    </tr>\n",
       "    <tr>\n",
       "      <th>A1CF</th>\n",
       "      <td>3.0</td>\n",
       "      <td>85.0</td>\n",
       "      <td>22.0</td>\n",
       "      <td>-0.065994</td>\n",
       "    </tr>\n",
       "    <tr>\n",
       "      <th>A2M</th>\n",
       "      <td>19.0</td>\n",
       "      <td>86.0</td>\n",
       "      <td>5.0</td>\n",
       "      <td>0.147068</td>\n",
       "    </tr>\n",
       "    <tr>\n",
       "      <th>A2ML1</th>\n",
       "      <td>19.0</td>\n",
       "      <td>86.0</td>\n",
       "      <td>5.0</td>\n",
       "      <td>0.134705</td>\n",
       "    </tr>\n",
       "    <tr>\n",
       "      <th>A3GALT2</th>\n",
       "      <td>0.0</td>\n",
       "      <td>85.0</td>\n",
       "      <td>25.0</td>\n",
       "      <td>-0.090937</td>\n",
       "    </tr>\n",
       "    <tr>\n",
       "      <th>...</th>\n",
       "      <td>...</td>\n",
       "      <td>...</td>\n",
       "      <td>...</td>\n",
       "      <td>...</td>\n",
       "    </tr>\n",
       "    <tr>\n",
       "      <th>ZXDC</th>\n",
       "      <td>30.0</td>\n",
       "      <td>77.0</td>\n",
       "      <td>3.0</td>\n",
       "      <td>0.185132</td>\n",
       "    </tr>\n",
       "    <tr>\n",
       "      <th>ZYG11A</th>\n",
       "      <td>1.0</td>\n",
       "      <td>86.0</td>\n",
       "      <td>23.0</td>\n",
       "      <td>-0.078448</td>\n",
       "    </tr>\n",
       "    <tr>\n",
       "      <th>ZYG11B</th>\n",
       "      <td>1.0</td>\n",
       "      <td>86.0</td>\n",
       "      <td>23.0</td>\n",
       "      <td>-0.081067</td>\n",
       "    </tr>\n",
       "    <tr>\n",
       "      <th>ZYX</th>\n",
       "      <td>5.0</td>\n",
       "      <td>94.0</td>\n",
       "      <td>11.0</td>\n",
       "      <td>0.010824</td>\n",
       "    </tr>\n",
       "    <tr>\n",
       "      <th>ZZEF1</th>\n",
       "      <td>2.0</td>\n",
       "      <td>63.0</td>\n",
       "      <td>45.0</td>\n",
       "      <td>-0.132043</td>\n",
       "    </tr>\n",
       "  </tbody>\n",
       "</table>\n",
       "<p>19907 rows × 4 columns</p>\n",
       "</div>"
      ],
      "text/plain": [
       "         high  neutral   low   average\n",
       "Name                                  \n",
       "A1BG      6.0     86.0  18.0 -0.013685\n",
       "A1CF      3.0     85.0  22.0 -0.065994\n",
       "A2M      19.0     86.0   5.0  0.147068\n",
       "A2ML1    19.0     86.0   5.0  0.134705\n",
       "A3GALT2   0.0     85.0  25.0 -0.090937\n",
       "...       ...      ...   ...       ...\n",
       "ZXDC     30.0     77.0   3.0  0.185132\n",
       "ZYG11A    1.0     86.0  23.0 -0.078448\n",
       "ZYG11B    1.0     86.0  23.0 -0.081067\n",
       "ZYX       5.0     94.0  11.0  0.010824\n",
       "ZZEF1     2.0     63.0  45.0 -0.132043\n",
       "\n",
       "[19907 rows x 4 columns]"
      ]
     },
     "execution_count": 75,
     "metadata": {},
     "output_type": "execute_result"
    }
   ],
   "source": [
    "lscc_counts"
   ]
  },
  {
   "cell_type": "markdown",
   "metadata": {},
   "source": [
    "## Finding Significant Genes in each Cancer Type"
   ]
  },
  {
   "cell_type": "code",
   "execution_count": 44,
   "metadata": {},
   "outputs": [],
   "source": [
    "en_sig_genes_up = list(en_counts[en_counts.high >= 20].index)\n",
    "gbm_sig_genes_up = list(gbm_counts[gbm_counts.high >= 20].index)\n",
    "brca_sig_genes_up = list(brca_counts[brca_counts.high >= 20].index)\n",
    "hnscc_sig_genes_up = list(hnscc_counts[hnscc_counts.high >= 20].index)\n",
    "luad_sig_genes_up = list(luad_counts[luad_counts.high >= 20].index)\n",
    "ovarian_sig_genes_up = list(ovarian_counts[ovarian_counts.high >= 20].index)\n",
    "ccrcc_sig_genes_up = list(ccrcc_counts[ccrcc_counts.high >= 20].index)\n",
    "colon_sig_genes_up = list(colon_counts[colon_counts.high >= 20].index)"
   ]
  },
  {
   "cell_type": "code",
   "execution_count": 76,
   "metadata": {},
   "outputs": [],
   "source": [
    "lscc_sig_genes_up = list(lscc_counts[lscc_counts.high >= 20].index)"
   ]
  },
  {
   "cell_type": "code",
   "execution_count": 68,
   "metadata": {},
   "outputs": [
    {
     "name": "stdout",
     "output_type": "stream",
     "text": [
      "('7SK', 'ENSG00000254144.2')\n"
     ]
    }
   ],
   "source": [
    "print(brca_sig_genes_up[0])"
   ]
  },
  {
   "cell_type": "code",
   "execution_count": 55,
   "metadata": {},
   "outputs": [],
   "source": [
    "en_sig_genes_down = list(en_counts[en_counts.low >= 20].index)\n",
    "gbm_sig_genes_down = list(gbm_counts[gbm_counts.low >= 20].index)\n",
    "brca_sig_genes_down = list(brca_counts[brca_counts.low >= 20].index)\n",
    "hnscc_sig_genes_down = list(hnscc_counts[hnscc_counts.low >= 20].index)\n",
    "luad_sig_genes_down = list(luad_counts[luad_counts.low >= 20].index)\n",
    "ovarian_sig_genes_down = list(ovarian_counts[ovarian_counts.low >= 20].index)\n",
    "ccrcc_sig_genes_down = list(ccrcc_counts[ccrcc_counts.low >= 20].index)\n",
    "colon_sig_genes_down = list(colon_counts[colon_counts.low >= 20].index)"
   ]
  },
  {
   "cell_type": "code",
   "execution_count": 77,
   "metadata": {},
   "outputs": [],
   "source": [
    "lscc_sig_genes_down = list(lscc_counts[lscc_counts.low >= 20].index)"
   ]
  },
  {
   "cell_type": "code",
   "execution_count": 94,
   "metadata": {},
   "outputs": [
    {
     "name": "stdout",
     "output_type": "stream",
     "text": [
      "['A1CF', 'A4GALT', 'ABCC2', 'ABCC4', 'ABCD4', 'ABHD12B', 'ABHD13', 'ABHD4', 'ABI1', 'ABLIM1', 'ABRACL', 'ABRAXAS2', 'AC001226.2', 'AC004832.3', 'AC004997.1', 'AC005520.1', 'AC007375.1', 'AC022400.6', 'AC067752.1', 'AC068896.1', 'ACADSB', 'ACAT2', 'ACBD5', 'ACBD7', 'ACER2', 'ACIN1', 'ACO1', 'ACO2', 'ACOD1', 'ACOT1', 'ACOT2', 'ACOT4', 'ACOT6', 'ACR', 'ACSL5', 'ACSM6', 'ACTA2', 'ACTN1', 'ACTR10', 'ACTR1A', 'ACYP1', 'ADA2', 'ADAM12', 'ADAM20', 'ADAM21', 'ADAM8', 'ADAMTS14', 'ADAMTSL1', 'ADARB2', 'ADAT2', 'ADCK1', 'ADCY4', 'ADD3', 'ADGB', 'ADGRA1', 'ADGRG6', 'ADIRF', 'ADK', 'ADM2', 'ADO', 'ADORA2A', 'ADRA2A', 'ADRB1', 'ADSL', 'ADSSL1', 'AFAP1L2', 'AFDN', 'AFG1L', 'AGAP4', 'AGAP5', 'AGAP6', 'AGAP9', 'AGPAT4', 'AHI1', 'AHNAK2', 'AHSA1', 'AIFM2', 'AIG1', 'AJUBA', 'AK3', 'AK7', 'AK9', 'AKAP11', 'AKAP5', 'AKAP6', 'AKAP7', 'AKR1C1', 'AKR1C2', 'AKR1C3', 'AKR1C4', 'AKR1C8P', 'AKR1E2', 'AKT1', 'AL022238.4', 'AL022312.1', 'AL022318.4', 'AL049779.1', 'AL049839.2', 'AL049844.1', 'AL096711.2', 'AL096870.1', 'AL110118.2', 'AL117339.5', 'AL121594.1', 'AL132671.2', 'AL132780.3', 'AL133352.1', 'AL133353.2', 'AL136295.1', 'AL136295.3', 'AL136295.4', 'AL136295.5', 'AL139300.1', 'AL139353.1', 'AL157392.5', 'AL159163.1', 'AL162231.3', 'AL162377.3', 'AL163195.3', 'AL163636.2', 'AL355102.2', 'AL355315.1', 'AL355916.2', 'AL359736.1', 'AL359922.1', 'AL360181.3', 'AL365214.3', 'AL365273.2', 'AL445238.1', 'AL445989.1', 'AL512506.3', 'AL583836.1', 'AL592490.1', 'AL928654.3', 'ALDH18A1', 'ALDH6A1', 'ALDH8A1', 'ALG11', 'ALG12', 'ALG5', 'ALKBH1', 'ALOX5', 'ALOX5AP', 'AMD1', 'AMER2', 'AMN', 'ANAPC16', 'ANG', 'ANGEL1', 'ANK3', 'ANKRD1', 'ANKRD16', 'ANKRD2', 'ANKRD22', 'ANKRD26', 'ANKRD30A', 'ANKRD54', 'ANKRD9', 'ANTXRL', 'ANXA11', 'ANXA7', 'ANXA8', 'ANXA8L1', 'AP000350.4', 'AP1B1', 'AP1G2', 'AP3M1', 'AP4S1', 'AP5M1', 'APBB1IP', 'APEX1', 'APOBEC3A', 'APOBEC3B', 'APOBEC3C', 'APOBEC3D', 'APOBEC3F', 'APOBEC3G', 'APOBEC3H', 'APOL1', 'APOL2', 'APOL3', 'APOL4', 'APOL5', 'APOL6', 'APOPT1', 'APTX', 'AREL1', 'ARF6', 'ARFGAP3', 'ARFGEF3', 'ARG1', 'ARG2', 'ARGLU1', 'ARHGAP12', 'ARHGAP18', 'ARHGAP19', 'ARHGAP19-SLIT1', 'ARHGAP21', 'ARHGAP22', 'ARHGAP5', 'ARHGAP8', 'ARHGEF40', 'ARID1B', 'ARID3C', 'ARID4A', 'ARID5B', 'ARL11', 'ARL3', 'ARL5B', 'ARMC2', 'ARMC3', 'ARMC4', 'ARMH3', 'ARMH4', 'ARMS2', 'ARMT1', 'ARSA', 'AS3MT', 'ASAH2', 'ASAH2B', 'ASB13', 'ASB2', 'ASCC1', 'ASCC2', 'ASCC3', 'ASF1A', 'ASPG', 'ATAD1', 'ATE1', 'ATF4', 'ATG14', 'ATG2B', 'ATG5', 'ATL1', 'ATOH7', 'ATP12A', 'ATP5F1C', 'ATP5MD', 'ATP5MGL', 'ATP5MPL', 'ATP5S', 'ATP6V1D', 'ATP6V1E1', 'ATP7B', 'ATP8A2', 'ATRNL1', 'ATXN10', 'ATXN3', 'AVPI1', 'B3GLCT', 'B4GALT1', 'BAG1', 'BAG3', 'BAG5', 'BAIAP2L2', 'BAMBI', 'BATF', 'BAZ1A', 'BBIP1', 'BBOF1', 'BCCIP', 'BCL11B', 'BCL2L13', 'BCL2L2', 'BCL2L2-PABPN1', 'BCLAF1', 'BDKRB1', 'BDKRB2', 'BEGAIN', 'BEND3', 'BEND7', 'BICC1', 'BID', 'BIK', 'BIVM', 'BIVM-ERCC5', 'BLNK', 'BLOC1S2', 'BMI1', 'BMP4', 'BMPR1A', 'BMS1', 'BNC2', 'BNIP3', 'BORA', 'BORCS7', 'BORCS7-ASMT', 'BPIFC', 'BPY2', 'BPY2B', 'BPY2C', 'BRCA2', 'BRD1', 'BRF1', 'BRMS1L', 'BTAF1', 'BTBD16', 'BTBD6', 'BTBD7', 'BTRC', 'BUB3', 'BVES', 'C10orf105', 'C10orf113', 'C10orf120', 'C10orf142', 'C10orf143', 'C10orf53', 'C10orf55', 'C10orf62', 'C10orf67', 'C10orf71', 'C10orf82', 'C10orf88', 'C10orf90', 'C10orf95', 'C10orf99', 'C13orf42', 'C14orf119', 'C14orf132', 'C14orf177', 'C14orf178', 'C14orf180', 'C14orf28', 'C14orf39', 'C14orf93', 'C1QL3', 'C1QTNF6', 'C1QTNF9', 'C1QTNF9B', 'C22orf15', 'C22orf23', 'C22orf31', 'C22orf42', 'C22orf46', 'C6orf118', 'C6orf203', 'C6orf58', 'C9orf131', 'C9orf66', 'C9orf72', 'C9orf92', 'CAAP1', 'CAB39L', 'CABCOCO1', 'CABP7', 'CACNA1I', 'CACNB2', 'CACNG2', 'CACUL1', 'CALHM1', 'CALHM2', 'CALHM3', 'CALHM4', 'CALHM5', 'CALHM6', 'CALM1', 'CALML3', 'CALML5', 'CALY', 'CAMK1D', 'CAMK2G', 'CARD10', 'CARMIL3', 'CASC10', 'CASP7', 'CASTOR1', 'CATSPERB', 'CBLN3', 'CBWD1', 'CBX6', 'CBX7', 'CBY1', 'CC2D2B', 'CCAR1', 'CCDC117', 'CCDC122', 'CCDC134', 'CCDC157', 'CCDC168', 'CCDC169', 'CCDC169-SOHLH2', 'CCDC171', 'CCDC172', 'CCDC175', 'CCDC177', 'CCDC186', 'CCDC196', 'CCDC197', 'CCDC198', 'CCDC28A', 'CCDC3', 'CCDC6', 'CCDC7', 'CCDC70', 'CCDC85C', 'CCDC88C', 'CCNA1', 'CCNB1IP1', 'CCNC', 'CCNJ', 'CCNK', 'CCNY', 'CCR6', 'CCSER2', 'CCT8L2', 'CD164', 'CD24', 'CD274', 'CDADC1', 'CDC123', 'CDC37L1', 'CDC40', 'CDC42BPB', 'CDC42EP1', 'CDCA4', 'CDH23', 'CDH24', 'CDHR1', 'CDK1', 'CDK19', 'CDK8', 'CDKL1', 'CDKN2A', 'CDKN2B', 'CDKN3', 'CDNF', 'CDPF1', 'CDX2', 'CDY1', 'CDY1B', 'CEBPE', 'CECR2', 'CELF2', 'CELSR1', 'CENPJ', 'CENPM', 'CENPW', 'CEP128', 'CEP170B', 'CEP55', 'CEP57L1', 'CEP85L', 'CER1', 'CERK', 'CFAP43', 'CFAP46', 'CFAP58', 'CFAP70', 'CFL2', 'CGRRF1', 'CH25H', 'CHADL', 'CHAT', 'CHCHD1', 'CHCHD10', 'CHD8', 'CHEK2', 'CHGA', 'CHKB', 'CHKB-CPT1B', 'CHMP4A', 'CHMP5', 'CHST15', 'CHST3', 'CHUK', 'CHURC1', 'CHURC1-FNTB', 'CIDEB', 'CINP', 'CIPC', 'CISD1', 'CITED2', 'CKAP2', 'CKB', 'CLBA1', 'CLDN10', 'CLDN20', 'CLEC14A', 'CLMN', 'CLN5', 'CLRN3', 'CLVS2', 'CLYBL', 'CMA1', 'CMTM5', 'CNIH1', 'CNKSR3', 'CNMD', 'CNNM1', 'CNNM2', 'CNTLN', 'CNTNAP3', 'COCH', 'COG3', 'COG6', 'COL10A1', 'COL13A1', 'COL17A1', 'COMMD3', 'COMMD3-BMI1', 'COMMD6', 'COMTD1', 'COQ3', 'COQ6', 'COX15', 'COX16', 'COX8C', 'CPB2', 'CPEB3', 'CPN1', 'CPNE6', 'CPSF2', 'CPT1B', 'CPXM2', 'CRELD2', 'CREM', 'CRIP1', 'CRIP2', 'CRTAC1', 'CRYBG1', 'CRYL1', 'CSDC2', 'CSF2RB', 'CSGALNACT2', 'CSNK1A1L', 'CSNK1E', 'CSTF2T', 'CTAGE9', 'CTBP2', 'CTGF', 'CTNNA3', 'CTSG', 'CUBN', 'CUEDC2', 'CUL2', 'CUTC', 'CUZD1', 'CWF19L1', 'CXCL12', 'CYB5R3', 'CYP17A1', 'CYP26A1', 'CYP26C1', 'CYP2C18', 'CYP2C19', 'CYP2C8', 'CYP2C9', 'CYP2D6', 'CYP2E1', 'CYP46A1', 'CYSLTR2', 'CYTH4', 'DAAM1', 'DACH1', 'DACT1', 'DACT2', 'DAD1', 'DAOA', 'DAZ1', 'DAZ2', 'DAZ3', 'DAZ4', 'DCAF11', 'DCAF4', 'DCAF5', 'DCBLD1', 'DCLK1', 'DCLRE1A', 'DCLRE1C', 'DCT', 'DCTN3', 'DDHD1', 'DDIT4', 'DDO', 'DDX17', 'DDX21', 'DDX24', 'DDX3Y', 'DDX50', 'DDX58', 'DEGS2', 'DENND4C', 'DENND6B', 'DEPDC5', 'DEPP1', 'DERL3', 'DESI1', 'DGKH', 'DGLUCY', 'DHRS1', 'DHRS12', 'DHRS2', 'DHRS4', 'DHRS4L2', 'DHRS7', 'DHTKD1', 'DHX32', 'DIAPH3', 'DICER1', 'DIO2', 'DIO3', 'DIP2C', 'DIS3', 'DKK1', 'DLEU7', 'DLG5', 'DLGAP5', 'DLK1', 'DLST', 'DMAC1', 'DMBT1', 'DMC1', 'DMRT1', 'DMRT2', 'DMRT3', 'DMRTA1', 'DNA2', 'DNAAF2', 'DNAJA1', 'DNAJB12', 'DNAJB7', 'DNAJC1', 'DNAJC12', 'DNAJC15', 'DNAJC3', 'DNAJC9', 'DNAL1', 'DNAL4', 'DNMBP', 'DNTT', 'DOCK1', 'DOCK8', 'DOCK9', 'DPCD', 'DPF3', 'DPYSL4', 'DRG1', 'DRGX', 'DRICH1', 'DSE', 'DTD2', 'DUPD1', 'DUSP13', 'DUSP18', 'DUSP5', 'DYDC1', 'DYDC2', 'DYNC1H1', 'DYNLT1', 'DZIP1', 'EAPP', 'EBF3', 'EBLN1', 'EBPL', 'ECD', 'ECHDC1', 'ECHDC3', 'ECHS1', 'ECT2L', 'EDDM3A', 'EDDM3B', 'EDNRB', 'EDRF1', 'EEF1AKMT1', 'EEF1AKMT2', 'EFCAB11', 'EFCAB6', 'EFNB2', 'EFS', 'EGLN3', 'EGR2', 'EIF1AY', 'EIF2B2', 'EIF2S1', 'EIF3A', 'EIF3D', 'EIF3L', 'EIF4EBP2', 'EIF4ENIF1', 'EIF5', 'EIF5AL1', 'ELAVL2', 'ELF1', 'ELFN2', 'ELMSAN1', 'ELOVL3', 'EMC9', 'EMID1', 'EML1', 'EML5', 'EMX2', 'ENKUR', 'ENO4', 'ENOX1', 'ENPP1', 'ENPP3', 'ENTHD1', 'ENTPD1', 'ENTPD5', 'ENTPD7', 'EP300', 'EPB41L2', 'EPC1', 'EPSTI1', 'EQTN', 'ERCC5', 'ERCC6', 'ERG28', 'ERH', 'ERICH6B', 'ERLIN1', 'ERMP1', 'ERO1A', 'ESD', 'ESR1', 'ESR2', 'ESRRB', 'EVL', 'EWSR1', 'EXD2', 'EXOC3L4', 'EXOC5', 'EXOC6', 'EXOSC1', 'EXOSC8', 'EYA4', 'EZR', 'FABP7', 'FAM107B', 'FAM118A', 'FAM124A', 'FAM13C', 'FAM149B1', 'FAM155A', 'FAM160B1', 'FAM161B', 'FAM162B', 'FAM170B', 'FAM171A1', 'FAM177A1', 'FAM181A', 'FAM184A', 'FAM19A5', 'FAM204A', 'FAM205C', 'FAM208B', 'FAM216B', 'FAM227A', 'FAM229B', 'FAM241B', 'FAM24A', 'FAM24B', 'FAM25A', 'FAM25C', 'FAM25G', 'FAM45A', 'FAM53B', 'FAM71D', 'FAM83F', 'FANCM', 'FANK1', 'FARP1', 'FAS', 'FAXC', 'FBH1', 'FBLN1', 'FBLN5', 'FBXL15', 'FBXL3', 'FBXL4', 'FBXO30', 'FBXO33', 'FBXO34', 'FBXO7', 'FBXW4', 'FCF1', 'FERMT2', 'FFAR4', 'FGF14', 'FGF8', 'FGF9', 'FGFBP3', 'FGFR1OP', 'FGFR2', 'FHL5', 'FIG4', 'FITM1', 'FKBP3', 'FLRT2', 'FLT1', 'FLT3', 'FLVCR2', 'FNDC1', 'FNDC3A', 'FNTB', 'FO681492.1', 'FOCAD', 'FOS', 'FOXA1', 'FOXD4', 'FOXG1', 'FOXI2', 'FOXN3', 'FOXO1', 'FOXO3', 'FOXRED2', 'FRA10AC1', 'FRAT1', 'FRAT2', 'FREM1', 'FREM2', 'FRG2B', 'FRK', 'FRMD1', 'FRMD4A', 'FRMD6', 'FRMPD2', 'FRY', 'FSCB', 'FUCA2', 'FUOM', 'FUT11', 'FUT8', 'FUT9', 'FXYD4', 'FYN', 'FZD8', 'G2E3', 'GAB4', 'GAD2', 'GAL3ST1', 'GALC', 'GALNT16', 'GALR3', 'GALT', 'GAS2L1', 'GATA3', 'GBF1', 'GCAT', 'GCH1', 'GDF10', 'GDF2', 'GDI2', 'GEMIN2', 'GFRA1', 'GGA1', 'GGACT', 'GGT1', 'GHITM', 'GJA1', 'GJA3', 'GJB2', 'GJB6', 'GJD4', 'GJE1', 'GLDC', 'GLIS3', 'GLRX3', 'GLRX5', 'GLUD1', 'GMFB', 'GMPR2', 'GNAZ', 'GNG2', 'GNPNAT1', 'GOLGA5', 'GOLGA7B', 'GON7', 'GOPC', 'GOT1', 'GPALPP1', 'GPAM', 'GPATCH2L', 'GPC5', 'GPC6', 'GPHB5', 'GPHN', 'GPR12', 'GPR132', 'GPR135', 'GPR137C', 'GPR158', 'GPR18', 'GPR180', 'GPR183', 'GPR26', 'GPR31', 'GPR33', 'GPR6', 'GPR63', 'GPR65', 'GPR68', 'GPRC6A', 'GPRIN2', 'GPX2', 'GRAMD4', 'GRAP2', 'GRID1', 'GRIK2', 'GRK5', 'GRM1', 'GSC', 'GSKIP', 'GSTO1', 'GSTO2', 'GSTZ1', 'GSX1', 'GTF2A1', 'GTF2F2', 'GTF2H5', 'GTF3A', 'GTF3C6', 'GTPBP1', 'GTPBP4', 'GTSE1', 'GUCD1', 'GVQW2', 'GZMB', 'GZMH', 'H1F0', 'H2AFY2', 'HABP2', 'HACD1', 'HACD4', 'HACE1', 'HAUS4', 'HAUS6', 'HBS1L', 'HDAC10', 'HDAC2', 'HDHD5', 'HEATR4', 'HEATR5A', 'HEBP2', 'HECA', 'HECTD1', 'HECTD2', 'HELLS', 'HERC4', 'HHEX', 'HHIPL1', 'HIF1A', 'HIF1AN', 'HIVEP2', 'HK1', 'HKDC1', 'HMGB1', 'HMGXB4', 'HMOX1', 'HMX2', 'HMX3', 'HNRNPA1L2', 'HNRNPC', 'HNRNPF', 'HNRNPH3', 'HOGA1', 'HOMEZ', 'HORMAD2', 'HPS1', 'HPS6', 'HPSE2', 'HS3ST5', 'HS6ST3', 'HSCB', 'HSF2', 'HSP90AA1', 'HSPA12A', 'HSPA14', 'HSPA2', 'HSPH1', 'HTR2A', 'HTR7', 'HTRA1', 'IDE', 'IDI1', 'IDI2', 'IFI27', 'IFI27L1', 'IFI27L2', 'IFIT1', 'IFIT1B', 'IFIT2', 'IFIT3', 'IFIT5', 'IFNA1', 'IFNA10', 'IFNA13', 'IFNA14', 'IFNA16', 'IFNA17', 'IFNA2', 'IFNA21', 'IFNA4', 'IFNA5', 'IFNA6', 'IFNA7', 'IFNA8', 'IFNB1', 'IFNE', 'IFNGR1', 'IFNK', 'IFNW1', 'IFT27', 'IFT43', 'IFT74', 'IFT88', 'IGF2R', 'IGLL1', 'IKZF5', 'IL11RA', 'IL15RA', 'IL17D', 'IL17RA', 'IL17REL', 'IL20RA', 'IL22RA2', 'IL25', 'IL2RA', 'IL2RB', 'IL33', 'INA', 'INF2', 'INPP5A', 'INPP5F', 'INPP5J', 'INSL4', 'INSL6', 'INSM2', 'INSYN2', 'INTS6', 'IPCEF1', 'IPMK', 'IPO4', 'IPO5', 'IRF2BPL', 'IRF9', 'IRS2', 'ISCA2', 'ISM2', 'ISX', 'ITGA8', 'ITGB1', 'ITGBL1', 'ITIH2', 'ITIH5', 'ITM2B', 'ITPK1', 'ITPRIP', 'IZUMO3', 'JAG2', 'JAK2', 'JAKMIP3', 'JCAD', 'JDP2', 'JKAMP', 'JMJD1C', 'JOSD1', 'JPH4', 'KANK1', 'KAT6B', 'KATNAL1', 'KAZALD1', 'KBTBD6', 'KBTBD7', 'KCNH5', 'KCNIP2', 'KCNJ4', 'KCNK10', 'KCNK13', 'KCNK18', 'KCNMA1', 'KCNRG', 'KCNV2', 'KCTD12', 'KCTD17', 'KCTD4', 'KDELC1', 'KDELR3', 'KDM4C', 'KHNYN', 'KIAA0391', 'KIAA0408', 'KIAA0586', 'KIAA0930', 'KIAA1217', 'KIAA2026', 'KIF11', 'KIF1BP', 'KIF20B', 'KIF25', 'KIF26A', 'KIF5B', 'KIN', 'KL', 'KLC1', 'KLF12', 'KLF5', 'KLF6', 'KLHDC1', 'KLHDC2', 'KLHDC7B', 'KLHL1', 'KLHL28', 'KLHL32', 'KLHL33', 'KLHL9', 'KLLN', 'KNDC1', 'KPNA3', 'KPNA5', 'KREMEN1', 'KTN1', 'L2HGDH', 'L3HYPDH', 'L3MBTL2', 'L3MBTL3', 'LACC1', 'LAMA2', 'LAMA4', 'LARGE1', 'LARP4B', 'LATS2', 'LBHD2', 'LBX1', 'LCOR', 'LCP1', 'LDB1', 'LDB3', 'LGALS1', 'LGALS2', 'LGALS3', 'LGI1', 'LGMN', 'LHFPL6', 'LHPP', 'LIF', 'LIG4', 'LIMK2', 'LIN28B', 'LIN52', 'LINGO2', 'LIPA', 'LIPF', 'LIPJ', 'LIPK', 'LIPM', 'LIPN', 'LMF2', 'LMLN2', 'LMO7', 'LNX2', 'LOXL4', 'LPA', 'LPAR6', 'LRCH1', 'LRFN5', 'LRIT1', 'LRIT2', 'LRMDA', 'LRP10', 'LRR1', 'LRRC18', 'LRRC19', 'LRRC20', 'LRRC27', 'LRRC63', 'LRRC74A', 'LRRC75B', 'LRRC9', 'LRRTM3', 'LTB4R', 'LTB4R2', 'LTBP2', 'LURAP1L', 'LYZL1', 'LYZL2', 'LZTS2', 'MAB21L1', 'MAFF', 'MALRD1', 'MAN1A1', 'MANEA', 'MAP3K4', 'MAP3K5', 'MAP3K8', 'MAP3K9', 'MAP4K5', 'MAP7', 'MAPK11', 'MAPK12', 'MAPK1IP1L', 'MAPK8', 'MAPK8IP2', 'MARCH5', 'MARCH8', 'MARCKS', 'MARK3', 'MARVELD1', 'MAS1', 'MASTL', 'MAT1A', 'MAX', 'MB', 'MBIP', 'MBL2', 'MBNL2', 'MCAT', 'MCHR1', 'MCHR2', 'MCM10', 'MCM5', 'MCM9', 'MCMBP', 'MCU', 'MDGA2', 'MDP1', 'MED23', 'MED4', 'MED6', 'MEDAG', 'MEI1', 'MEIG1', 'METTL17', 'METTL21C', 'METTL24', 'METTL3', 'MFNG', 'MFSD13A', 'MFSD4B', 'MGAT2', 'MGAT3', 'MGMT', 'MIA2', 'MICAL1', 'MICALL1', 'MICU1', 'MICU2', 'MIEF1', 'MIF', 'MINDY3', 'MINPP1', 'MIOX', 'MIPEP', 'MIPOL1', 'MIS18BP1', 'MKI67', 'MKX', 'MLANA', 'MLC1', 'MLH3', 'MLLT10', 'MLLT3', 'MLNR', 'MMP11', 'MMP14', 'MMP21', 'MMRN2', 'MMS19', 'MMS22L', 'MNAT1', 'MOAP1', 'MOB3B', 'MOK', 'MORC2', 'MORN4', 'MOV10L1', 'MOXD1', 'MPC1', 'MPDZ', 'MPHOSPH8', 'MPP5', 'MPP7', 'MPPED1', 'MPST', 'MRC1', 'MRLN', 'MRPL18', 'MRPL43', 'MRPL52', 'MRPL57', 'MRPS16', 'MRPS31', 'MRTFA', 'MSMB', 'MSRB2', 'MSS51', 'MTA1', 'MTAP', 'MTFP1', 'MTFR2', 'MTG1', 'MTHFD1', 'MTIF3', 'MTMR3', 'MTMR6', 'MTPAP', 'MTRF1', 'MTRNR2L5', 'MTRNR2L7', 'MTUS2', 'MXI1', 'MYB', 'MYCBP2', 'MYCT1', 'MYH6', 'MYH7', 'MYH9', 'MYO16', 'MYO3A', 'MYOF', 'MYOZ1', 'MYPN', 'MZT1', 'N4BP2L1', 'N4BP2L2', 'NAA16', 'NAA30', 'NAGA', 'NALCN', 'NANOS1', 'NBEA', 'NCAPH2', 'NCF4', 'NCOA4', 'NDFIP2', 'NDRG2', 'NDST2', 'NDUFA6', 'NDUFAF4', 'NDUFB1', 'NDUFB6', 'NDUFB8', 'NEBL', 'NEDD8', 'NEDD8-MDP1', 'NEFH', 'NEK3', 'NEK5', 'NEK9', 'NEMF', 'NET1', 'NEURL1', 'NEUROG3', 'NF2', 'NFAM1', 'NFATC4', 'NFIB', 'NFKB2', 'NFKBIA', 'NGB', 'NGDN', 'NHLRC2', 'NHLRC3', 'NHSL1', 'NID2', 'NIN', 'NIPSNAP1', 'NKAIN2', 'NKX1-2', 'NKX2-1', 'NKX2-3', 'NKX2-8', 'NKX6-2', 'NMBR', 'NMT2', 'NOC3L', 'NODAL', 'NOL12', 'NOLC1', 'NOP9', 'NOVA1', 'NOX3', 'NOXRED1', 'NPAS3', 'NPC2', 'NPFFR1', 'NPM3', 'NPS', 'NPTXR', 'NPY4R', 'NPY4R2', 'NR2E1', 'NRAP', 'NRBF2', 'NRDE2', 'NRG3', 'NRL', 'NRP1', 'NRXN3', 'NSMCE4A', 'NSUN6', 'NT5C2', 'NT5DC1', 'NUBPL', 'NUDT13', 'NUDT14', 'NUDT15', 'NUDT5', 'NUFIP1', 'NUMB', 'NUP50', 'NUP58', 'NUS1', 'NUTM2A', 'NUTM2B', 'NUTM2D', 'NUTM2E', 'NYNRIN', 'OAT', 'ODF3B', 'OGA', 'OGDHL', 'OIT3', 'OLAH', 'OLFM4', 'OLIG3', 'OPALIN', 'OPN4', 'OPRM1', 'OPTN', 'OR10G2', 'OR10G3', 'OR11G2', 'OR11H1', 'OR11H12', 'OR11H2', 'OR11H4', 'OR11H6', 'OR13A1', 'OR2A4', 'OR4E1', 'OR4E2', 'OR4K1', 'OR4K13', 'OR4K14', 'OR4K15', 'OR4K17', 'OR4K2', 'OR4K5', 'OR4L1', 'OR4M1', 'OR4N2', 'OR4N5', 'OR4Q3', 'OR5AU1', 'OR6J1', 'OR6S1', 'OSBP2', 'OSGEP', 'OSM', 'OSTM1', 'OTUB2', 'OTUD1', 'OTX2', 'OXA1L', 'OXGR1', 'P4HA1', 'PABPC3', 'PABPN1', 'PACRG', 'PACS2', 'PACSIN2', 'PALD1', 'PAN3', 'PANK1', 'PANX2', 'PAOX', 'PAPLN', 'PAPOLA', 'PAPSS2', 'PARD3', 'PARG', 'PARP2', 'PARP4', 'PARVB', 'PARVG', 'PATZ1', 'PAX2', 'PAX9', 'PBLD', 'PBOV1', 'PCBD1', 'PCCA', 'PCDH15', 'PCDH17', 'PCDH20', 'PCDH8', 'PCDH9', 'PCGF5', 'PCGF6', 'PCK2', 'PCNX1', 'PCNX4', 'PDCD11', 'PDCD1LG2', 'PDCD4', 'PDE10A', 'PDE6C', 'PDE7B', 'PDGFB', 'PDLIM1', 'PDS5B', 'PDSS1', 'PDSS2', 'PDX1', 'PDXP', 'PDZD7', 'PDZD8', 'PELI2', 'PERP', 'PES1', 'PEX3', 'PEX7', 'PFKFB3', 'PFKP', 'PGAM1', 'PGF', 'PHACTR2', 'PHETA2', 'PHF11', 'PHF21B', 'PHF5A', 'PHYH', 'PHYHIPL', 'PI4K2A', 'PIBF1', 'PICK1', 'PIGH', 'PIK3AP1', 'PIK3IP1', 'PIM3', 'PIP4K2A', 'PIP4P1', 'PISD', 'PITRM1', 'PITX3', 'PIWIL3', 'PKD2L1', 'PKDREJ', 'PKIB', 'PLA2G12B', 'PLA2G3', 'PLA2G6', 'PLAA', 'PLAC9', 'PLAU', 'PLCE1', 'PLD4', 'PLEK2', 'PLEKHA1', 'PLEKHD1', 'PLEKHG1', 'PLEKHG3', 'PLEKHH1', 'PLEKHS1', 'PLG', 'PLGRKT', 'PLIN2', 'PLN', 'PLPP4', 'PLPP6', 'PLXDC2', 'PLXNB2', 'PMM1', 'PNISR', 'PNLDC1', 'PNLIP', 'PNLIPRP1', 'PNLIPRP3', 'PNMA1', 'PNN', 'PNP', 'PNPLA3', 'PNPLA5', 'POLDIP3', 'POLE2', 'POLL', 'POLR1D', 'POLR2F', 'POLR3A', 'POLR3H', 'POMP', 'POMT2', 'POPDC3', 'POSTN', 'POTEG', 'POTEH', 'POTEM', 'POU3F2', 'POU4F1', 'PPA1', 'PPARA', 'PPIF', 'PPIL6', 'PPM1A', 'PPP1R13B', 'PPP1R36', 'PPP1R3C', 'PPP1R3E', 'PPP2R2D', 'PPP2R3C', 'PPP2R5C', 'PPP2R5E', 'PPP3CB', 'PPP4R3A', 'PPP4R4', 'PPP6R2', 'PPRC1', 'PRAP1', 'PRDM1', 'PRDM13', 'PRDX3', 'PREP', 'PRF1', 'PRIMA1', 'PRKCH', 'PRKCQ', 'PRKD1', 'PRKG1', 'PRKN', 'PRLHR', 'PRMT5', 'PROSER1', 'PROSER2', 'PROX2', 'PRPF18', 'PRPF39', 'PRR14L', 'PRR18', 'PRR20A', 'PRR20B', 'PRR20C', 'PRR20D', 'PRR20E', 'PRR26', 'PRR34', 'PRR5', 'PRR5-ARHGAP8', 'PRTFDC1', 'PRXL2A', 'PSAP', 'PSD', 'PSEN1', 'PSIP1', 'PSMA3', 'PSMA6', 'PSMB11', 'PSMB5', 'PSMC1', 'PSMC6', 'PSME1', 'PSME2', 'PSPC1', 'PSTK', 'PTEN', 'PTER', 'PTF1A', 'PTGDR', 'PTGER2', 'PTGR2', 'PTPN20', 'PTPN21', 'PTPRD', 'PTPRE', 'PTPRK', 'PUM3', 'PVALB', 'PWWP2B', 'PYGL', 'PYROXD2', 'QKI', 'QRSL1', 'R3HCC1L', 'RAB11FIP2', 'RAB15', 'RAB18', 'RAB2B', 'RAB32', 'RABGGTA', 'RABL2B', 'RAC2', 'RAD51B', 'RALGAPA1', 'RAMACL', 'RANBP6', 'RANGAP1', 'RAP2A', 'RASD2', 'RASGEF1A', 'RASL10A', 'RASL11A', 'RASSF4', 'RB1', 'RBFOX2', 'RBM17', 'RBM20', 'RBM23', 'RBM25', 'RBM26', 'RBP3', 'RBP4', 'RBX1', 'RCBTB1', 'RCBTB2', 'RCL1', 'RCOR1', 'RD3L', 'RDH11', 'RDH12', 'REC8', 'REEP3', 'REM2', 'REPS1', 'RET', 'REV3L', 'RFC3', 'RFPL1', 'RFPL2', 'RFPL3', 'RFPL4B', 'RFX3', 'RFX6', 'RFXAP', 'RGCC', 'RGL4', 'RGR', 'RGS10', 'RGS17', 'RGS6', 'RHBDD3', 'RHOBTB1', 'RHOJ', 'RIBC2', 'RIC1', 'RIN3', 'RIOX1', 'RIPK3', 'RLN1', 'RLN2', 'RMND1', 'RNASE1', 'RNASE10', 'RNASE11', 'RNASE12', 'RNASE13', 'RNASE2', 'RNASE3', 'RNASE4', 'RNASE6', 'RNASE7', 'RNASE8', 'RNASE9', 'RNASEH2B', 'RNASET2', 'RNF113B', 'RNF146', 'RNF17', 'RNF185', 'RNF212B', 'RNF215', 'RNF217', 'RNF219', 'RNF31', 'RNF38', 'RNF6', 'RNLS', 'ROS1', 'RPEL1', 'RPF2', 'RPGRIP1', 'RPL10L', 'RPL21', 'RPL3', 'RPL36AL', 'RPP25L', 'RPP30', 'RPP38', 'RPS12', 'RPS19BP1', 'RPS24', 'RPS29', 'RPS6', 'RPS6KA2', 'RPS6KA5', 'RPS6KL1', 'RRAGA', 'RRP12', 'RRP7A', 'RSPH14', 'RSPH3', 'RSPH4A', 'RSPO3', 'RSU1', 'RTCB', 'RTKN2', 'RTL1', 'RTL6', 'RTN1', 'RTN4IP1', 'RTRAF', 'RUBCNL', 'RUFY2', 'RWDD1', 'RXFP2', 'SACS', 'SALL2', 'SAMD15', 'SAMD3', 'SAMD4A', 'SAMD8', 'SAMM50', 'SAP18', 'SAR1A', 'SAV1', 'SAXO1', 'SBF1', 'SCAF8', 'SCART1', 'SCD', 'SCEL', 'SCFD1', 'SCML4', 'SCO2', 'SCUBE1', 'SDR39U1', 'SEC14L2', 'SEC14L3', 'SEC14L4', 'SEC14L6', 'SEC23A', 'SEC23IP', 'SEC24C', 'SEC31B', 'SEC61A2', 'SEC63', 'SEL1L', 'SELENOM', 'SELENOO', 'SEMA4G', 'SEPHS1', 'SEPT3', 'SERAC1', 'SERHL2', 'SERINC1', 'SERP2', 'SERPINA1', 'SERPINA10', 'SERPINA11', 'SERPINA12', 'SERPINA3', 'SERPINA4', 'SERPINA5', 'SERPINA6', 'SERPINA9', 'SERPINE3', 'SERTM1', 'SESN1', 'SETD3', 'SETDB2', 'SF3A1', 'SFI1', 'SFMBT2', 'SFR1', 'SFRP5', 'SFT2D1', 'SFTA3', 'SFTPA1', 'SFTPA2', 'SFTPD', 'SFXN2', 'SFXN3', 'SFXN4', 'SGCG', 'SGK1', 'SGMS1', 'SGPL1', 'SGPP1', 'SGSM3', 'SH2D4B', 'SH3BP1', 'SH3GL2', 'SH3PXD2A', 'SHANK3', 'SHISA2', 'SHISA8', 'SHISAL1', 'SHLD2', 'SHOC2', 'SHPRH', 'SHTN1', 'SIAH3', 'SIGMAR1', 'SIM1', 'SIPA1L1', 'SIRT1', 'SIVA1', 'SIX1', 'SIX4', 'SIX6', 'SKA3', 'SKIDA1', 'SLAIN1', 'SLC10A1', 'SLC10A2', 'SLC15A1', 'SLC16A10', 'SLC16A12', 'SLC16A8', 'SLC16A9', 'SLC18A2', 'SLC18A3', 'SLC18B1', 'SLC1A1', 'SLC22A1', 'SLC22A16', 'SLC22A17', 'SLC22A2', 'SLC22A3', 'SLC24A2', 'SLC24A4', 'SLC25A15', 'SLC25A16', 'SLC25A17', 'SLC25A18', 'SLC25A21', 'SLC25A28', 'SLC25A30', 'SLC29A3', 'SLC2A11', 'SLC2A12', 'SLC35D3', 'SLC35E4', 'SLC35F1', 'SLC35F4', 'SLC35G1', 'SLC38A6', 'SLC39A12', 'SLC39A2', 'SLC39A9', 'SLC46A3', 'SLC5A1', 'SLC5A4', 'SLC7A1', 'SLC7A7', 'SLC7A8', 'SLC8A3', 'SLF2', 'SLIRP', 'SLIT1', 'SLITRK1', 'SLITRK5', 'SLITRK6', 'SLK', 'SMAD9', 'SMARCA2', 'SMARCB1', 'SMC1B', 'SMC3', 'SMDT1', 'SMIM2', 'SMIM27', 'SMIM28', 'SMLR1', 'SMNDC1', 'SMOC1', 'SMOC2', 'SMPD2', 'SMPDL3A', 'SMTN', 'SMU1', 'SNAPC1', 'SNAPC3', 'SNCG', 'SNRPD3', 'SNU13', 'SNW1', 'SNX3', 'SNX6', 'SNX9', 'SOBP', 'SOCS4', 'SOD2', 'SOGA3', 'SOHLH2', 'SORBS1', 'SORCS1', 'SORCS3', 'SOS2', 'SOX10', 'SOX21', 'SPAG6', 'SPART', 'SPATA13', 'SPATA31A1', 'SPATA6L', 'SPATA7', 'SPECC1L', 'SPECC1L-ADORA2A', 'SPERT', 'SPINK4', 'SPOCK2', 'SPRN', 'SPRY2', 'SPRYD7', 'SPTB', 'SPTLC2', 'SPTSSA', 'SREBF2', 'SRGN', 'SRP54', 'SRSF5', 'SSTR1', 'SSTR3', 'ST13', 'ST8SIA6', 'STAM', 'STAMBPL1', 'STARD13', 'STK24', 'STK32C', 'STN1', 'STOML3', 'STON2', 'STOX1', 'STRN3', 'STX7', 'STXBP6', 'STYX', 'SUCLA2', 'SUFU', 'SUGT1', 'SULT4A1', 'SUN2', 'SUPT16H', 'SUPT20H', 'SUPV3L1', 'SUSD6', 'SUV39H2', 'SVIL', 'SYCE1', 'SYCE3', 'SYN3', 'SYNDIG1L', 'SYNE1', 'SYNE2', 'SYNE3', 'SYNGR1', 'SYNJ2', 'SYNJ2BP', 'SYNJ2BP-COX16', 'SYNPO2L', 'SYT15', 'SYT16', 'SYTL3', 'TAAR1', 'TAAR2', 'TAAR5', 'TAAR6', 'TAAR8', 'TAAR9', 'TAB1', 'TACC2', 'TACR2', 'TAF1L', 'TAF3', 'TAF5', 'TAGAP', 'TBATA', 'TBC1D10A', 'TBC1D12', 'TBC1D22A', 'TBC1D32', 'TBC1D4', 'TBL1Y', 'TBPL1', 'TBPL2', 'TBXT', 'TC2N', 'TCERG1L', 'TCF20', 'TCF21', 'TCF7L2', 'TCL1A', 'TCL1B', 'TCN2', 'TCP1', 'TCP10', 'TCP10L2', 'TCTN3', 'TDP1', 'TDRD1', 'TDRD3', 'TDRD9', 'TECPR2', 'TECTB', 'TEDC1', 'TEF', 'TEK', 'TEP1', 'TET1', 'TEX22', 'TEX26', 'TEX29', 'TEX30', 'TEX33', 'TEX36', 'TFAM', 'TFB1M', 'TGDS', 'TGFB3', 'TGIF2LY', 'TGM1', 'THBS2', 'THEMIS', 'THNSL1', 'THOC5', 'THSD1', 'THTPA', 'TIAL1', 'TIAM2', 'TIMM23', 'TIMM23B', 'TIMM9', 'TIMP3', 'TINF2', 'TLL2', 'TLX1', 'TM9SF1', 'TM9SF2', 'TM9SF3', 'TMED10', 'TMED8', 'TMEM121', 'TMEM121B', 'TMEM179', 'TMEM181', 'TMEM184B', 'TMEM200A', 'TMEM215', 'TMEM229B', 'TMEM236', 'TMEM242', 'TMEM244', 'TMEM251', 'TMEM253', 'TMEM254', 'TMEM26', 'TMEM260', 'TMEM272', 'TMEM273', 'TMEM30B', 'TMEM63C', 'TMEM72', 'TMPRSS6', 'TMTC4', 'TMX1', 'TNFAIP2', 'TNFAIP3', 'TNFRSF13C', 'TNFRSF19', 'TNFSF11', 'TNFSF13B', 'TNKS2', 'TNRC6B', 'TOB2', 'TOGARAM1', 'TOM1', 'TOMM20L', 'TOMM22', 'TOPORS', 'TOX4', 'TPD52L3', 'TPP2', 'TPPP2', 'TPT1', 'TPTE2', 'TPTEP2-CSNK1E', 'TRABD', 'TRAF3', 'TRAF3IP2', 'TRAPPC3L', 'TRAPPC6B', 'TRDMT1', 'TRDN', 'TRIM13', 'TRIM8', 'TRIM9', 'TRIOBP', 'TRIP11', 'TRMT11', 'TRMT5', 'TRMT61A', 'TRMU', 'TRPC4', 'TRUB1', 'TSC22D1', 'TSHR', 'TSPAN14', 'TSPAN15', 'TSPO', 'TSPY1', 'TSPY10', 'TSPY3', 'TSPY4', 'TSPY8', 'TSPYL1', 'TSPYL4', 'TSSK4', 'TST', 'TSTD3', 'TTC38', 'TTC39B', 'TTC5', 'TTC6', 'TTC7B', 'TTC8', 'TTC9', 'TTLL1', 'TTLL12', 'TTLL2', 'TTLL5', 'TTLL8', 'TUBA3C', 'TUBAL3', 'TUBB8', 'TUBE1', 'TUBGCP2', 'TUBGCP6', 'TULP4', 'TUNAR', 'TUSC1', 'TWNK', 'TXLNB', 'TXN2', 'TXNDC16', 'TYMP', 'TYRP1', 'TYSND1', 'UBAC2', 'UBE2D1', 'UBE2L5', 'UBL3', 'UBR7', 'UBTD1', 'UCHL3', 'UCMA', 'UCN3', 'UFL1', 'UFM1', 'UGGT2', 'UHRF2', 'UNC5B', 'UNC79', 'UNC93A', 'UPB1', 'UPF2', 'UPK3A', 'UQCR10', 'URAD', 'UROS', 'USP12', 'USP45', 'USP54', 'USP6NL', 'USP9Y', 'USPL1', 'UTF1', 'UTP14C', 'VASH1', 'VAX1', 'VCL', 'VCP', 'VCPKMT', 'VDAC2', 'VENTX', 'VGLL2', 'VIM', 'VIP', 'VIPAS39', 'VLDLR', 'VNN1', 'VNN2', 'VNN3', 'VPREB3', 'VPS26A', 'VPS36', 'VRK1', 'VRTN', 'VSIR', 'VSTM4', 'VSX2', 'VTA1', 'VTI1A', 'VTI1B', 'VWA2', 'VWA8', 'WAC', 'WAPL', 'WARS', 'WASF1', 'WASF3', 'WASHC1', 'WASHC2A', 'WASHC2C', 'WBP1L', 'WBP2NL', 'WBP4', 'WDFY2', 'WDFY4', 'WDHD1', 'WDR11', 'WDR20', 'WDR25', 'WDR37', 'WDR89', 'WISP3', 'WNT7B', 'WNT8B', 'WTAP', 'XBP1', 'XKR3', 'XPNPEP1', 'XPNPEP3', 'XPO4', 'XRCC3', 'XRCC6', 'YLPM1', 'YME1L1', 'YWHAH', 'YY1', 'Z82190.2', 'Z82206.1', 'Z83844.1', 'Z83844.3', 'Z84488.2', 'ZAR1L', 'ZBED4', 'ZBTB1', 'ZBTB24', 'ZBTB25', 'ZBTB42', 'ZC2HC1C', 'ZC3H13', 'ZC3H14', 'ZC3H7B', 'ZCCHC24', 'ZDHHC14', 'ZDHHC16', 'ZDHHC20', 'ZDHHC21', 'ZDHHC22', 'ZDHHC6', 'ZEB1', 'ZFAND4', 'ZFHX2', 'ZFP36L1', 'ZFYVE1', 'ZFYVE21', 'ZFYVE26', 'ZFYVE27', 'ZIC2', 'ZIC5', 'ZMAT5', 'ZMIZ1', 'ZMYM2', 'ZMYM5', 'ZMYND11', 'ZNF219', 'ZNF22', 'ZNF239', 'ZNF248', 'ZNF25', 'ZNF280A', 'ZNF280B', 'ZNF32', 'ZNF33A', 'ZNF33B', 'ZNF365', 'ZNF37A', 'ZNF410', 'ZNF438', 'ZNF485', 'ZNF487', 'ZNF488', 'ZNF503', 'ZNF511', 'ZNF511-PRAP1', 'ZNF518A', 'ZNF70', 'ZNF839', 'ZNRF3', 'ZRANB1', 'ZSWIM8', 'ZUP1', 'ZWINT']\n"
     ]
    }
   ],
   "source": [
    "print(gbm_sig_genes_down)"
   ]
  },
  {
   "cell_type": "code",
   "execution_count": 102,
   "metadata": {},
   "outputs": [],
   "source": [
    "chromosomes = pd.read_csv('uniprot_chromosomes.csv')"
   ]
  },
  {
   "cell_type": "code",
   "execution_count": 103,
   "metadata": {},
   "outputs": [],
   "source": [
    "chromosomes = chromosomes.drop(columns=['Unnamed: 0'])"
   ]
  },
  {
   "cell_type": "markdown",
   "metadata": {},
   "source": [
    "## Common Sig Genes"
   ]
  },
  {
   "cell_type": "code",
   "execution_count": 143,
   "metadata": {},
   "outputs": [],
   "source": [
    "def CountFrequency(my_list): \n",
    "  \"\"\"\n",
    "  Counts the frequency of the gene in the given list.\n",
    "  Returns a list of genes that appeared 3 or more times.\n",
    "  \"\"\"\n",
    "  freq = {} \n",
    "  for items in my_list: \n",
    "      freq[items] = my_list.count(items) \n",
    "  sig = []\n",
    "  for key, value in freq.items(): \n",
    "    if value > 4:\n",
    "      sig.append(key)\n",
    "  return sig"
   ]
  },
  {
   "cell_type": "code",
   "execution_count": 144,
   "metadata": {},
   "outputs": [],
   "source": [
    "sig_genes_up = CountFrequency(en_sig_genes_up +\n",
    "                              gbm_sig_genes_up +\n",
    "                              brca_sig_genes_up +\n",
    "                              hnscc_sig_genes_up +\n",
    "                              luad_sig_genes_up +\n",
    "                              ovarian_sig_genes_up +\n",
    "                              ccrcc_sig_genes_up +\n",
    "                              colon_sig_genes_up +\n",
    "                              lscc_sig_genes_up)"
   ]
  },
  {
   "cell_type": "code",
   "execution_count": 95,
   "metadata": {},
   "outputs": [],
   "source": [
    "sig_genes_down = CountFrequency(en_sig_genes_down +\n",
    "                                gbm_sig_genes_down +\n",
    "                                brca_sig_genes_down +\n",
    "                                hnscc_sig_genes_down +\n",
    "                                luad_sig_genes_down +\n",
    "                                ovarian_sig_genes_down +\n",
    "                                ccrcc_sig_genes_down +\n",
    "                                colon_sig_genes_down +\n",
    "                                lscc_sig_genes_down)"
   ]
  },
  {
   "cell_type": "code",
   "execution_count": 145,
   "metadata": {},
   "outputs": [],
   "source": [
    "sig_genes_up_df = chromosomes[chromosomes.gene.isin(sig_genes_up)]"
   ]
  },
  {
   "cell_type": "code",
   "execution_count": 146,
   "metadata": {},
   "outputs": [
    {
     "name": "stderr",
     "output_type": "stream",
     "text": [
      "C:\\Users\\chels\\Anaconda3\\lib\\site-packages\\ipykernel_launcher.py:1: SettingWithCopyWarning: \n",
      "A value is trying to be set on a copy of a slice from a DataFrame.\n",
      "Try using .loc[row_indexer,col_indexer] = value instead\n",
      "\n",
      "See the caveats in the documentation: https://pandas.pydata.org/pandas-docs/stable/user_guide/indexing.html#returning-a-view-versus-a-copy\n",
      "  \"\"\"Entry point for launching an IPython kernel.\n"
     ]
    }
   ],
   "source": [
    "sig_genes_up_df['chromosome'] = sig_genes_up_df['chromosome'].str.extract(pat='([0-9,X,Y]+)')"
   ]
  },
  {
   "cell_type": "code",
   "execution_count": 142,
   "metadata": {},
   "outputs": [
    {
     "name": "stdout",
     "output_type": "stream",
     "text": [
      "Empty DataFrame\n",
      "Columns: [gene, chromosome]\n",
      "Index: []\n"
     ]
    }
   ],
   "source": [
    "print(sig_genes_up_df)"
   ]
  },
  {
   "cell_type": "code",
   "execution_count": 147,
   "metadata": {},
   "outputs": [
    {
     "data": {
      "text/plain": [
       "<matplotlib.axes._subplots.AxesSubplot at 0x17ece7ba198>"
      ]
     },
     "execution_count": 147,
     "metadata": {},
     "output_type": "execute_result"
    },
    {
     "data": {
      "image/png": "[encoded data removed]",
      "text/plain": [
       "<Figure size 432x288 with 1 Axes>"
      ]
     },
     "metadata": {
      "needs_background": "light"
     },
     "output_type": "display_data"
    }
   ],
   "source": [
    "sns.countplot(x='chromosome', data=sig_genes_up_df)"
   ]
  },
  {
   "cell_type": "code",
   "execution_count": 119,
   "metadata": {},
   "outputs": [],
   "source": [
    "sig_genes_down_df = chromosomes[chromosomes.gene.isin(sig_genes_down)]"
   ]
  },
  {
   "cell_type": "code",
   "execution_count": 120,
   "metadata": {},
   "outputs": [
    {
     "name": "stderr",
     "output_type": "stream",
     "text": [
      "C:\\Users\\chels\\Anaconda3\\lib\\site-packages\\ipykernel_launcher.py:1: SettingWithCopyWarning: \n",
      "A value is trying to be set on a copy of a slice from a DataFrame.\n",
      "Try using .loc[row_indexer,col_indexer] = value instead\n",
      "\n",
      "See the caveats in the documentation: https://pandas.pydata.org/pandas-docs/stable/user_guide/indexing.html#returning-a-view-versus-a-copy\n",
      "  \"\"\"Entry point for launching an IPython kernel.\n"
     ]
    }
   ],
   "source": [
    "sig_genes_down_df['chromosome'] = sig_genes_down_df['chromosome'].str.extract(pat='([0-9,X,Y]+)')"
   ]
  },
  {
   "cell_type": "code",
   "execution_count": 121,
   "metadata": {},
   "outputs": [
    {
     "data": {
      "text/plain": [
       "<matplotlib.axes._subplots.AxesSubplot at 0x17e8ed237f0>"
      ]
     },
     "execution_count": 121,
     "metadata": {},
     "output_type": "execute_result"
    },
    {
     "data": {
      "image/png": "[encoded data removed]",
      "text/plain": [
       "<Figure size 432x288 with 1 Axes>"
      ]
     },
     "metadata": {
      "needs_background": "light"
     },
     "output_type": "display_data"
    }
   ],
   "source": [
    "sns.countplot(x='chromosome', data=sig_genes_down_df)"
   ]
  }
 ],
 "metadata": {
  "kernelspec": {
   "display_name": "Python 3",
   "language": "python",
   "name": "python3"
  },
  "language_info": {
   "codemirror_mode": {
    "name": "ipython",
    "version": 3
   },
   "file_extension": ".py",
   "mimetype": "text/x-python",
   "name": "python",
   "nbconvert_exporter": "python",
   "pygments_lexer": "ipython3",
   "version": "3.7.3"
  }
 },
 "nbformat": 4,
 "nbformat_minor": 2
}
