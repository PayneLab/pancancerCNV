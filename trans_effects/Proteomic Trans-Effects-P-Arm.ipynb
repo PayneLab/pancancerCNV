{
 "cells": [
  {
   "cell_type": "markdown",
   "metadata": {},
   "source": [
    "# Trans-Effects"
   ]
  },
  {
   "cell_type": "markdown",
   "metadata": {},
   "source": [
    "## Install necessary Packages"
   ]
  },
  {
   "cell_type": "code",
   "execution_count": 1,
   "metadata": {},
   "outputs": [
    {
     "name": "stdout",
     "output_type": "stream",
     "text": [
      "Requirement already satisfied: cptac in c:\\users\\chels\\anaconda3\\lib\\site-packages (0.8.0)\n",
      "Requirement already satisfied: urllib3>=1.24.2 in c:\\users\\chels\\anaconda3\\lib\\site-packages (from cptac) (1.25.8)\n",
      "Requirement already satisfied: packaging>=19.2 in c:\\users\\chels\\anaconda3\\lib\\site-packages (from cptac) (20.1)\n",
      "Requirement already satisfied: beautifulsoup4>=4.7.1 in c:\\users\\chels\\anaconda3\\lib\\site-packages (from cptac) (4.8.2)\n",
      "Requirement already satisfied: xlrd>=1.2.0 in c:\\users\\chels\\anaconda3\\lib\\site-packages (from cptac) (1.2.0)\n",
      "Requirement already satisfied: numpy>=1.16.3 in c:\\users\\chels\\anaconda3\\lib\\site-packages (from cptac) (1.18.1)\n",
      "Requirement already satisfied: scipy>=1.2.1 in c:\\users\\chels\\anaconda3\\lib\\site-packages (from cptac) (1.4.1)\n",
      "Requirement already satisfied: requests>=2.21.0 in c:\\users\\chels\\anaconda3\\lib\\site-packages (from cptac) (2.22.0)\n",
      "Requirement already satisfied: pandas>=0.25.1 in c:\\users\\chels\\anaconda3\\lib\\site-packages (from cptac) (1.0.1)\n",
      "Requirement already satisfied: pyparsing>=2.0.2 in c:\\users\\chels\\anaconda3\\lib\\site-packages (from packaging>=19.2->cptac) (2.4.6)\n",
      "Requirement already satisfied: six in c:\\users\\chels\\anaconda3\\lib\\site-packages (from packaging>=19.2->cptac) (1.14.0)\n",
      "Requirement already satisfied: soupsieve>=1.2 in c:\\users\\chels\\anaconda3\\lib\\site-packages (from beautifulsoup4>=4.7.1->cptac) (1.9.5)\n",
      "Requirement already satisfied: certifi>=2017.4.17 in c:\\users\\chels\\anaconda3\\lib\\site-packages (from requests>=2.21.0->cptac) (2019.11.28)\n",
      "Requirement already satisfied: chardet<3.1.0,>=3.0.2 in c:\\users\\chels\\anaconda3\\lib\\site-packages (from requests>=2.21.0->cptac) (3.0.4)\n",
      "Requirement already satisfied: idna<2.9,>=2.5 in c:\\users\\chels\\anaconda3\\lib\\site-packages (from requests>=2.21.0->cptac) (2.8)\n",
      "Requirement already satisfied: python-dateutil>=2.6.1 in c:\\users\\chels\\anaconda3\\lib\\site-packages (from pandas>=0.25.1->cptac) (2.8.1)\n",
      "Requirement already satisfied: pytz>=2017.2 in c:\\users\\chels\\anaconda3\\lib\\site-packages (from pandas>=0.25.1->cptac) (2019.3)\n",
      "Requirement already up-to-date: cptac in c:\\users\\chels\\anaconda3\\lib\\site-packages (0.8.0)\n",
      "Requirement already satisfied, skipping upgrade: beautifulsoup4>=4.7.1 in c:\\users\\chels\\anaconda3\\lib\\site-packages (from cptac) (4.8.2)\n",
      "Requirement already satisfied, skipping upgrade: pandas>=0.25.1 in c:\\users\\chels\\anaconda3\\lib\\site-packages (from cptac) (1.0.1)\n",
      "Requirement already satisfied, skipping upgrade: xlrd>=1.2.0 in c:\\users\\chels\\anaconda3\\lib\\site-packages (from cptac) (1.2.0)\n",
      "Requirement already satisfied, skipping upgrade: urllib3>=1.24.2 in c:\\users\\chels\\anaconda3\\lib\\site-packages (from cptac) (1.25.8)\n",
      "Requirement already satisfied, skipping upgrade: requests>=2.21.0 in c:\\users\\chels\\anaconda3\\lib\\site-packages (from cptac) (2.22.0)\n",
      "Requirement already satisfied, skipping upgrade: numpy>=1.16.3 in c:\\users\\chels\\anaconda3\\lib\\site-packages (from cptac) (1.18.1)\n",
      "Requirement already satisfied, skipping upgrade: packaging>=19.2 in c:\\users\\chels\\anaconda3\\lib\\site-packages (from cptac) (20.1)\n",
      "Requirement already satisfied, skipping upgrade: scipy>=1.2.1 in c:\\users\\chels\\anaconda3\\lib\\site-packages (from cptac) (1.4.1)\n",
      "Requirement already satisfied, skipping upgrade: soupsieve>=1.2 in c:\\users\\chels\\anaconda3\\lib\\site-packages (from beautifulsoup4>=4.7.1->cptac) (1.9.5)\n",
      "Requirement already satisfied, skipping upgrade: python-dateutil>=2.6.1 in c:\\users\\chels\\anaconda3\\lib\\site-packages (from pandas>=0.25.1->cptac) (2.8.1)\n",
      "Requirement already satisfied, skipping upgrade: pytz>=2017.2 in c:\\users\\chels\\anaconda3\\lib\\site-packages (from pandas>=0.25.1->cptac) (2019.3)\n",
      "Requirement already satisfied, skipping upgrade: certifi>=2017.4.17 in c:\\users\\chels\\anaconda3\\lib\\site-packages (from requests>=2.21.0->cptac) (2019.11.28)\n",
      "Requirement already satisfied, skipping upgrade: idna<2.9,>=2.5 in c:\\users\\chels\\anaconda3\\lib\\site-packages (from requests>=2.21.0->cptac) (2.8)\n",
      "Requirement already satisfied, skipping upgrade: chardet<3.1.0,>=3.0.2 in c:\\users\\chels\\anaconda3\\lib\\site-packages (from requests>=2.21.0->cptac) (3.0.4)\n",
      "Requirement already satisfied, skipping upgrade: pyparsing>=2.0.2 in c:\\users\\chels\\anaconda3\\lib\\site-packages (from packaging>=19.2->cptac) (2.4.6)\n",
      "Requirement already satisfied, skipping upgrade: six in c:\\users\\chels\\anaconda3\\lib\\site-packages (from packaging>=19.2->cptac) (1.14.0)\n"
     ]
    }
   ],
   "source": [
    "!pip install cptac\n",
    "!pip install --upgrade cptac"
   ]
  },
  {
   "cell_type": "code",
   "execution_count": 2,
   "metadata": {},
   "outputs": [],
   "source": [
    "import pandas as pd\n",
    "import matplotlib.pyplot as plt\n",
    "import seaborn as sns\n",
    "import numpy as np\n",
    "import cptac\n",
    "import pyensembl\n",
    "from scipy import stats"
   ]
  },
  {
   "cell_type": "markdown",
   "metadata": {},
   "source": [
    "## Download all the data"
   ]
  },
  {
   "cell_type": "code",
   "execution_count": 3,
   "metadata": {},
   "outputs": [
    {
     "name": "stdout",
     "output_type": "stream",
     "text": [
      "                                            \r"
     ]
    },
    {
     "data": {
      "text/plain": [
       "True"
      ]
     },
     "execution_count": 3,
     "metadata": {},
     "output_type": "execute_result"
    }
   ],
   "source": [
    "cptac.download(dataset=\"luad\")\n",
    "cptac.download(dataset=\"hnscc\")\n",
    "cptac.download(dataset=\"ovarian\")\n",
    "cptac.download(dataset=\"colon\")\n",
    "cptac.download(dataset=\"brca\")\n",
    "cptac.download(dataset=\"lscc\")"
   ]
  },
  {
   "cell_type": "code",
   "execution_count": 4,
   "metadata": {},
   "outputs": [
    {
     "name": "stdout",
     "output_type": "stream",
     "text": [
      "Checking that hnscc index is up-to-date...\r"
     ]
    },
    {
     "name": "stderr",
     "output_type": "stream",
     "text": [
      "cptac warning: The LUAD dataset is under publication embargo until July 01, 2020. CPTAC is a community resource project and data are made available rapidly after generation for community research use. The embargo allows exploring and utilizing the data, but analysis may not be published until after the embargo date. Please see https://proteomics.cancer.gov/data-portal/about/data-use-agreement or enter cptac.embargo() to open the webpage for more details. (C:\\Users\\chels\\anaconda3\\lib\\site-packages\\ipykernel_launcher.py, line 1)\n"
     ]
    },
    {
     "name": "stdout",
     "output_type": "stream",
     "text": [
      "Checking that ovarian index is up-to-date...\r"
     ]
    },
    {
     "name": "stderr",
     "output_type": "stream",
     "text": [
      "cptac warning: The HNSCC data is currently strictly reserved for CPTAC investigators. Otherwise, you are not authorized to access these data. Additionally, even after these data become publicly available, they will be subject to a publication embargo (see https://proteomics.cancer.gov/data-portal/about/data-use-agreement or enter cptac.embargo() to open the webpage for more details). (C:\\Users\\chels\\anaconda3\\lib\\site-packages\\ipykernel_launcher.py, line 2)\n"
     ]
    },
    {
     "name": "stdout",
     "output_type": "stream",
     "text": [
      "Formatting dataframes...                    \r"
     ]
    },
    {
     "name": "stderr",
     "output_type": "stream",
     "text": [
      "INFO:numexpr.utils:NumExpr defaulting to 8 threads.\n"
     ]
    },
    {
     "name": "stdout",
     "output_type": "stream",
     "text": [
      "                                          \r"
     ]
    },
    {
     "name": "stderr",
     "output_type": "stream",
     "text": [
      "cptac warning: The LSCC data is currently strictly reserved for CPTAC investigators. Otherwise, you are not authorized to access these data. Additionally, even after these data become publicly available, they will be subject to a publication embargo (see https://proteomics.cancer.gov/data-portal/about/data-use-agreement or enter cptac.embargo() to open the webpage for more details). (C:\\Users\\chels\\anaconda3\\lib\\site-packages\\ipykernel_launcher.py, line 6)\n"
     ]
    }
   ],
   "source": [
    "luad = cptac.Luad()\n",
    "hnscc = cptac.Hnscc()\n",
    "ovarian = cptac.Ovarian()\n",
    "colon = cptac.Colon()\n",
    "brca = cptac.Brca()\n",
    "lscc = cptac.Lscc()"
   ]
  },
  {
   "cell_type": "code",
   "execution_count": 5,
   "metadata": {},
   "outputs": [],
   "source": [
    "luad_cnv = luad.get_CNV()\n",
    "hnscc_cnv = hnscc.get_CNV()\n",
    "ovarian_cnv =  ovarian.get_CNV()\n",
    "colon_cnv = colon.get_CNV()\n",
    "brca_cnv = brca.get_CNV()\n",
    "lscc_cnv = lscc.get_CNV()"
   ]
  },
  {
   "cell_type": "code",
   "execution_count": 6,
   "metadata": {},
   "outputs": [],
   "source": [
    "luad_prot = luad.get_proteomics()\n",
    "hnscc_prot = hnscc.get_proteomics()\n",
    "ovarian_prot = ovarian.get_proteomics()\n",
    "colon_prot = colon.get_proteomics()\n",
    "brca_prot = brca.get_proteomics()\n",
    "lscc_prot = lscc.get_proteomics()"
   ]
  },
  {
   "cell_type": "code",
   "execution_count": 7,
   "metadata": {},
   "outputs": [],
   "source": [
    "# Used to find the gene locations\n",
    "ensembl = pyensembl.EnsemblRelease()"
   ]
  },
  {
   "cell_type": "markdown",
   "metadata": {},
   "source": [
    "## Create Counts Table"
   ]
  },
  {
   "cell_type": "code",
   "execution_count": 8,
   "metadata": {},
   "outputs": [],
   "source": [
    "def separate(hiCut, lowCut, data):\n",
    "  \"\"\"\n",
    "  Counts the Number of patients with high and low value for each gene.\n",
    "  \"\"\"\n",
    "  sepDict = dict()\n",
    "  for column in data:\n",
    "    numHi = 0\n",
    "    numLow = 0\n",
    "    numNeu = 0\n",
    "    for i in data[column]:\n",
    "        if i > hiCut:\n",
    "            numHi += 1\n",
    "        elif i < lowCut:\n",
    "            numLow += 1\n",
    "        else:\n",
    "            numNeu += 1 \n",
    "    sepDict[column] = [numHi, numNeu, numLow]\n",
    "  return sepDict"
   ]
  },
  {
   "cell_type": "code",
   "execution_count": 9,
   "metadata": {},
   "outputs": [],
   "source": [
    "def get_counts_and_average(data):\n",
    "  \"\"\"\n",
    "  Takes a CNV dataframe and generates a dataframe with the counts of high, low and neutral values\n",
    "  \"\"\"\n",
    "  df = pd.DataFrame(data = separate(.3,-.2,data), index = [\"amplifications\", \"neutral\", \"deletions\"])\n",
    "  df = df.append(pd.DataFrame(data.mean(0), columns=['average']).transpose(), sort=True)\n",
    "  return df.transpose()"
   ]
  },
  {
   "cell_type": "code",
   "execution_count": 10,
   "metadata": {},
   "outputs": [],
   "source": [
    "def add_chromo_and_loc(my_dict):\n",
    "    chromo = list()\n",
    "    locations = list()\n",
    "    not_found = list()\n",
    "    count = 0\n",
    "    for gene in list(my_dict.index.get_level_values(0)):\n",
    "        count += 1\n",
    "        try:\n",
    "            e_gene = ensembl.genes_by_name(gene)\n",
    "            chromo.append(e_gene[0].contig)\n",
    "            locations.append((e_gene[0].start + e_gene[0].end)/2)\n",
    "        except:\n",
    "            not_found.append(gene)\n",
    "            chromo.append(None)\n",
    "            locations.append(None)\n",
    "    my_dict['chromo'] = chromo\n",
    "    my_dict['location'] = locations\n",
    "#     my_dict['cancer'] = cancer\n",
    "#     print(cancer, len(not_found)/count)\n",
    "    return my_dict"
   ]
  },
  {
   "cell_type": "code",
   "execution_count": 11,
   "metadata": {},
   "outputs": [],
   "source": [
    "luad_counts = get_counts_and_average(luad_cnv)\n",
    "hnscc_counts = get_counts_and_average(hnscc_cnv)\n",
    "ovarian_counts = get_counts_and_average(ovarian_cnv)\n",
    "colon_counts = get_counts_and_average(colon_cnv)\n",
    "brca_counts = get_counts_and_average(brca_cnv)\n",
    "lscc_counts = get_counts_and_average(lscc_cnv)"
   ]
  },
  {
   "cell_type": "code",
   "execution_count": 12,
   "metadata": {},
   "outputs": [],
   "source": [
    "luad_counts = add_chromo_and_loc(luad_counts)\n",
    "hnscc_counts = add_chromo_and_loc(hnscc_counts,)\n",
    "ovarian_counts = add_chromo_and_loc(ovarian_counts)\n",
    "colon_counts = add_chromo_and_loc(colon_counts)\n",
    "brca_counts = add_chromo_and_loc(brca_counts)\n",
    "lscc_counts = add_chromo_and_loc(lscc_counts)"
   ]
  },
  {
   "cell_type": "code",
   "execution_count": 13,
   "metadata": {},
   "outputs": [],
   "source": [
    "luad_counts['cancer'] = 'LUAD'\n",
    "hnscc_counts['cancer'] = 'HNSCC'\n",
    "ovarian_counts['cancer'] = 'OVARIAN'\n",
    "colon_counts['cancer'] = 'COLON'\n",
    "brca_counts['cancer'] = 'BRCA'\n",
    "lscc_counts['cancer'] = 'LSCC'\n"
   ]
  },
  {
   "cell_type": "markdown",
   "metadata": {},
   "source": [
    "## Specify a Chromosome"
   ]
  },
  {
   "cell_type": "code",
   "execution_count": 14,
   "metadata": {},
   "outputs": [],
   "source": [
    "chromosome_num = '8'"
   ]
  },
  {
   "cell_type": "code",
   "execution_count": 15,
   "metadata": {},
   "outputs": [],
   "source": [
    "# Drop any genes that we don't have a location for\n",
    "luad_counts_cleaned = luad_counts.dropna(subset=['location'])\n",
    "hnscc_counts_cleaned = hnscc_counts.dropna(subset=['location'])\n",
    "ovarian_counts_cleaned = ovarian_counts.dropna(subset=['location'])\n",
    "colon_counts_cleaned = colon_counts.dropna(subset=['location'])\n",
    "brca_counts_cleaned = brca_counts.dropna(subset=['location'])\n",
    "lscc_counts_cleaned = lscc_counts.dropna(subset=['location'])"
   ]
  },
  {
   "cell_type": "code",
   "execution_count": 16,
   "metadata": {},
   "outputs": [],
   "source": [
    "luad_counts_cleaned_8 = luad_counts_cleaned[luad_counts_cleaned.chromo==chromosome_num]\n",
    "hnscc_counts_cleaned_8 = hnscc_counts_cleaned[hnscc_counts_cleaned.chromo==chromosome_num]\n",
    "ovarian_counts_cleaned_8 = ovarian_counts_cleaned[ovarian_counts_cleaned.chromo==chromosome_num]\n",
    "colon_counts_cleaned_8 = colon_counts_cleaned[colon_counts_cleaned.chromo==chromosome_num]\n",
    "brca_counts_cleaned_8 = brca_counts_cleaned[brca_counts_cleaned.chromo==chromosome_num]\n",
    "lscc_counts_cleaned_8 = lscc_counts_cleaned[lscc_counts_cleaned.chromo==chromosome_num]"
   ]
  },
  {
   "cell_type": "markdown",
   "metadata": {},
   "source": [
    "## Create Graphs"
   ]
  },
  {
   "cell_type": "code",
   "execution_count": 17,
   "metadata": {},
   "outputs": [],
   "source": [
    "# This is the cutoff value (determined by experimentation) that we are using for the event\n",
    "deletion_event = 30794385.5"
   ]
  },
  {
   "cell_type": "code",
   "execution_count": 18,
   "metadata": {},
   "outputs": [],
   "source": [
    "luad_counts_8 = pd.melt(luad_counts_cleaned_8, id_vars=['chromo', 'location', 'cancer'], value_vars=['amplifications', 'deletions'])\n",
    "hnscc_counts_8 = pd.melt(hnscc_counts_cleaned_8, id_vars=['chromo', 'location', 'cancer'], value_vars=['amplifications', 'deletions'])\n",
    "ovarian_counts_8 = pd.melt(ovarian_counts_cleaned_8, id_vars=['chromo', 'location', 'cancer'], value_vars=['amplifications', 'deletions'])\n",
    "colon_counts_8 = pd.melt(colon_counts_cleaned_8, id_vars=['chromo', 'location', 'cancer'], value_vars=['amplifications', 'deletions'])\n",
    "brca_counts_8 = pd.melt(brca_counts_cleaned_8, id_vars=['chromo', 'location', 'cancer'], value_vars=['amplifications', 'deletions'])\n",
    "lscc_counts_8 = pd.melt(lscc_counts_cleaned_8, id_vars=['chromo', 'location', 'cancer'], value_vars=['amplifications', 'deletions'])"
   ]
  },
  {
   "cell_type": "code",
   "execution_count": 19,
   "metadata": {},
   "outputs": [
    {
     "data": {
      "text/plain": [
       "<matplotlib.lines.Line2D at 0x18dabbf1f88>"
      ]
     },
     "execution_count": 19,
     "metadata": {},
     "output_type": "execute_result"
    },
    {
     "data": {
      "image/png": "[encoded data removed]",
      "text/plain": [
       "<Figure size 432x288 with 1 Axes>"
      ]
     },
     "metadata": {
      "needs_background": "light"
     },
     "output_type": "display_data"
    }
   ],
   "source": [
    "sns.lineplot(x=\"location\", y=\"value\", hue=\"variable\", palette=['darkred', 'darkblue'], data=luad_counts_8)\n",
    "plt.axvline(deletion_event)"
   ]
  },
  {
   "cell_type": "code",
   "execution_count": 20,
   "metadata": {},
   "outputs": [
    {
     "data": {
      "text/plain": [
       "<matplotlib.lines.Line2D at 0x18dabfa7188>"
      ]
     },
     "execution_count": 20,
     "metadata": {},
     "output_type": "execute_result"
    },
    {
     "data": {
      "image/png": "[encoded data removed]",
      "text/plain": [
       "<Figure size 432x288 with 1 Axes>"
      ]
     },
     "metadata": {
      "needs_background": "light"
     },
     "output_type": "display_data"
    }
   ],
   "source": [
    "sns.lineplot(x=\"location\", y=\"value\", hue=\"variable\", palette=['darkred', 'darkblue'], data=hnscc_counts_8)\n",
    "plt.axvline(deletion_event)"
   ]
  },
  {
   "cell_type": "code",
   "execution_count": 21,
   "metadata": {},
   "outputs": [
    {
     "data": {
      "text/plain": [
       "<matplotlib.lines.Line2D at 0x18deab55648>"
      ]
     },
     "execution_count": 21,
     "metadata": {},
     "output_type": "execute_result"
    },
    {
     "data": {
      "image/png": "[encoded data removed]",
      "text/plain": [
       "<Figure size 432x288 with 1 Axes>"
      ]
     },
     "metadata": {
      "needs_background": "light"
     },
     "output_type": "display_data"
    }
   ],
   "source": [
    "sns.lineplot(x=\"location\", y=\"value\", hue=\"variable\", palette=['darkred', 'darkblue'], data=ovarian_counts_8)\n",
    "plt.axvline(deletion_event)"
   ]
  },
  {
   "cell_type": "code",
   "execution_count": 22,
   "metadata": {},
   "outputs": [
    {
     "data": {
      "text/plain": [
       "<matplotlib.lines.Line2D at 0x18deabdc1c8>"
      ]
     },
     "execution_count": 22,
     "metadata": {},
     "output_type": "execute_result"
    },
    {
     "data": {
      "image/png": "[encoded data removed]",
      "text/plain": [
       "<Figure size 432x288 with 1 Axes>"
      ]
     },
     "metadata": {
      "needs_background": "light"
     },
     "output_type": "display_data"
    }
   ],
   "source": [
    "sns.lineplot(x=\"location\", y=\"value\", hue=\"variable\", palette=['darkred', 'darkblue'], data=colon_counts_8)\n",
    "plt.axvline(deletion_event)"
   ]
  },
  {
   "cell_type": "code",
   "execution_count": 23,
   "metadata": {},
   "outputs": [
    {
     "data": {
      "text/plain": [
       "<matplotlib.lines.Line2D at 0x18deac77d08>"
      ]
     },
     "execution_count": 23,
     "metadata": {},
     "output_type": "execute_result"
    },
    {
     "data": {
      "image/png": "[encoded data removed]",
      "text/plain": [
       "<Figure size 432x288 with 1 Axes>"
      ]
     },
     "metadata": {
      "needs_background": "light"
     },
     "output_type": "display_data"
    }
   ],
   "source": [
    "sns.lineplot(x=\"location\", y=\"value\", hue=\"variable\", palette=['darkred', 'darkblue'], data=brca_counts_8)\n",
    "plt.axvline(deletion_event)"
   ]
  },
  {
   "cell_type": "code",
   "execution_count": 24,
   "metadata": {},
   "outputs": [
    {
     "data": {
      "text/plain": [
       "<matplotlib.lines.Line2D at 0x18deacf52c8>"
      ]
     },
     "execution_count": 24,
     "metadata": {},
     "output_type": "execute_result"
    },
    {
     "data": {
      "image/png": "[encoded data removed]",
      "text/plain": [
       "<Figure size 432x288 with 1 Axes>"
      ]
     },
     "metadata": {
      "needs_background": "light"
     },
     "output_type": "display_data"
    }
   ],
   "source": [
    "sns.lineplot(x=\"location\", y=\"value\", hue=\"variable\", palette=['darkred', 'darkblue'], data=lscc_counts_8)\n",
    "plt.axvline(deletion_event)"
   ]
  },
  {
   "cell_type": "markdown",
   "metadata": {},
   "source": [
    "## Get Genes of Event"
   ]
  },
  {
   "cell_type": "code",
   "execution_count": 25,
   "metadata": {},
   "outputs": [],
   "source": [
    "def calc_percent(row):\n",
    "    values = list(row)\n",
    "    return(len([x for x in values if x <= -0.2]) / len(values))"
   ]
  },
  {
   "cell_type": "code",
   "execution_count": 26,
   "metadata": {},
   "outputs": [],
   "source": [
    "luad_gene_list = list(luad_counts_cleaned_8[luad_counts_cleaned_8.location < deletion_event].index)\n",
    "hnscc_gene_list = list(hnscc_counts_cleaned_8[hnscc_counts_cleaned_8.location < deletion_event].index)\n",
    "ovarian_gene_list = list(ovarian_counts_cleaned_8[ovarian_counts_cleaned_8.location < deletion_event].index)\n",
    "colon_gene_list = list(colon_counts_cleaned_8[colon_counts_cleaned_8.location < deletion_event].index)\n",
    "brca_gene_list = list(brca_counts_cleaned_8[brca_counts_cleaned_8.location < deletion_event].index)\n",
    "lscc_gene_list = list(lscc_counts_cleaned_8[lscc_counts_cleaned_8.location < deletion_event].index)"
   ]
  },
  {
   "cell_type": "code",
   "execution_count": 27,
   "metadata": {},
   "outputs": [
    {
     "data": {
      "text/plain": [
       "186"
      ]
     },
     "execution_count": 27,
     "metadata": {},
     "output_type": "execute_result"
    }
   ],
   "source": [
    "len(list(luad_gene_list))"
   ]
  },
  {
   "cell_type": "code",
   "execution_count": 28,
   "metadata": {},
   "outputs": [],
   "source": [
    "luad_df_before_event = luad_cnv[luad_gene_list]\n",
    "hnscc_df_before_event = hnscc_cnv[hnscc_gene_list]\n",
    "ovarian_df_before_event = ovarian_cnv[ovarian_gene_list]\n",
    "colon_df_before_event = colon_cnv[colon_gene_list]\n",
    "brca_df_before_event = brca_cnv[brca_gene_list]\n",
    "lscc_df_before_event = lscc_cnv[lscc_gene_list]"
   ]
  },
  {
   "cell_type": "code",
   "execution_count": 29,
   "metadata": {},
   "outputs": [
    {
     "name": "stderr",
     "output_type": "stream",
     "text": [
      "C:\\Users\\chels\\anaconda3\\lib\\site-packages\\ipykernel_launcher.py:1: SettingWithCopyWarning: \n",
      "A value is trying to be set on a copy of a slice from a DataFrame.\n",
      "Try using .loc[row_indexer,col_indexer] = value instead\n",
      "\n",
      "See the caveats in the documentation: https://pandas.pydata.org/pandas-docs/stable/user_guide/indexing.html#returning-a-view-versus-a-copy\n",
      "  \"\"\"Entry point for launching an IPython kernel.\n",
      "C:\\Users\\chels\\anaconda3\\lib\\site-packages\\ipykernel_launcher.py:2: SettingWithCopyWarning: \n",
      "A value is trying to be set on a copy of a slice from a DataFrame.\n",
      "Try using .loc[row_indexer,col_indexer] = value instead\n",
      "\n",
      "See the caveats in the documentation: https://pandas.pydata.org/pandas-docs/stable/user_guide/indexing.html#returning-a-view-versus-a-copy\n",
      "  \n",
      "C:\\Users\\chels\\anaconda3\\lib\\site-packages\\ipykernel_launcher.py:3: SettingWithCopyWarning: \n",
      "A value is trying to be set on a copy of a slice from a DataFrame.\n",
      "Try using .loc[row_indexer,col_indexer] = value instead\n",
      "\n",
      "See the caveats in the documentation: https://pandas.pydata.org/pandas-docs/stable/user_guide/indexing.html#returning-a-view-versus-a-copy\n",
      "  This is separate from the ipykernel package so we can avoid doing imports until\n",
      "C:\\Users\\chels\\anaconda3\\lib\\site-packages\\ipykernel_launcher.py:4: SettingWithCopyWarning: \n",
      "A value is trying to be set on a copy of a slice from a DataFrame.\n",
      "Try using .loc[row_indexer,col_indexer] = value instead\n",
      "\n",
      "See the caveats in the documentation: https://pandas.pydata.org/pandas-docs/stable/user_guide/indexing.html#returning-a-view-versus-a-copy\n",
      "  after removing the cwd from sys.path.\n",
      "C:\\Users\\chels\\anaconda3\\lib\\site-packages\\ipykernel_launcher.py:5: SettingWithCopyWarning: \n",
      "A value is trying to be set on a copy of a slice from a DataFrame.\n",
      "Try using .loc[row_indexer,col_indexer] = value instead\n",
      "\n",
      "See the caveats in the documentation: https://pandas.pydata.org/pandas-docs/stable/user_guide/indexing.html#returning-a-view-versus-a-copy\n",
      "  \"\"\"\n",
      "C:\\Users\\chels\\anaconda3\\lib\\site-packages\\ipykernel_launcher.py:6: SettingWithCopyWarning: \n",
      "A value is trying to be set on a copy of a slice from a DataFrame.\n",
      "Try using .loc[row_indexer,col_indexer] = value instead\n",
      "\n",
      "See the caveats in the documentation: https://pandas.pydata.org/pandas-docs/stable/user_guide/indexing.html#returning-a-view-versus-a-copy\n",
      "  \n"
     ]
    }
   ],
   "source": [
    "luad_df_before_event['percent'] = luad_df_before_event.apply(calc_percent, axis=1)\n",
    "hnscc_df_before_event['percent'] = hnscc_df_before_event.apply(calc_percent, axis=1)\n",
    "ovarian_df_before_event['percent'] = ovarian_df_before_event.apply(calc_percent, axis=1)\n",
    "colon_df_before_event['percent'] = colon_df_before_event.apply(calc_percent, axis=1)\n",
    "brca_df_before_event['percent'] = brca_df_before_event.apply(calc_percent, axis=1)\n",
    "lscc_df_before_event['percent'] = lscc_df_before_event.apply(calc_percent, axis=1)"
   ]
  },
  {
   "cell_type": "markdown",
   "metadata": {},
   "source": [
    "## Group Samples"
   ]
  },
  {
   "cell_type": "code",
   "execution_count": 30,
   "metadata": {},
   "outputs": [],
   "source": [
    "luad_has_event = list(luad_df_before_event[luad_df_before_event.percent > .8].index)\n",
    "hnscc_has_event = list(hnscc_df_before_event[hnscc_df_before_event.percent > .8].index)\n",
    "ovarian_has_event = list(ovarian_df_before_event[ovarian_df_before_event.percent > .8].index)\n",
    "colon_has_event = list(colon_df_before_event[colon_df_before_event.percent > .8].index)\n",
    "brca_has_event = list(brca_df_before_event[brca_df_before_event.percent > .8].index)\n",
    "lscc_has_event = list(lscc_df_before_event[lscc_df_before_event.percent > .8].index)"
   ]
  },
  {
   "cell_type": "code",
   "execution_count": 31,
   "metadata": {},
   "outputs": [],
   "source": [
    "luad_no_event = [x for x in luad_df_before_event.index if x not in luad_has_event]\n",
    "hnscc_no_event = [x for x in hnscc_df_before_event.index if x not in hnscc_has_event]\n",
    "ovarian_no_event = [x for x in ovarian_df_before_event.index if x not in ovarian_has_event]\n",
    "colon_no_event = [x for x in colon_df_before_event.index if x not in colon_has_event]\n",
    "brca_no_event = [x for x in brca_df_before_event.index if x not in brca_has_event]\n",
    "lscc_no_event = [x for x in lscc_df_before_event.index if x not in lscc_has_event]"
   ]
  },
  {
   "cell_type": "code",
   "execution_count": 32,
   "metadata": {},
   "outputs": [],
   "source": [
    "gene_lists = {'LUAD': {'has_event': luad_has_event, 'no_event': luad_no_event},\n",
    "             'HNSCC': {'has_event': hnscc_has_event, 'no_event': hnscc_no_event},\n",
    "             'OVARIAN': {'has_event': ovarian_has_event, 'no_event': ovarian_no_event},\n",
    "             'COLON': {'has_event': colon_has_event, 'no_event': colon_no_event},\n",
    "             'BRCA': {'has_event': brca_has_event, 'no_event': brca_no_event},\n",
    "             'LSCC': {'has_event': lscc_has_event, 'no_event': lscc_no_event}}"
   ]
  },
  {
   "cell_type": "code",
   "execution_count": 33,
   "metadata": {},
   "outputs": [
    {
     "name": "stdout",
     "output_type": "stream",
     "text": [
      "LUAD\n",
      "Yes 34 No 75\n",
      "HNSCC\n",
      "Yes 30 No 79\n",
      "OVARIAN\n",
      "Yes 51 No 49\n",
      "COLON\n",
      "Yes 41 No 64\n",
      "BRCA\n",
      "Yes 57 No 65\n",
      "LSCC\n",
      "Yes 44 No 66\n"
     ]
    }
   ],
   "source": [
    "print(\"LUAD\")\n",
    "print(\"Yes\", len(luad_has_event), \"No\", len(luad_no_event))\n",
    "print(\"HNSCC\")\n",
    "print(\"Yes\", len(hnscc_has_event), \"No\", len(hnscc_no_event))\n",
    "print(\"OVARIAN\")\n",
    "print(\"Yes\", len(ovarian_has_event), \"No\", len(ovarian_no_event))\n",
    "print(\"COLON\")\n",
    "print(\"Yes\", len(colon_has_event), \"No\", len(colon_no_event))\n",
    "print(\"BRCA\")\n",
    "print(\"Yes\", len(brca_has_event), \"No\", len(brca_no_event))\n",
    "print(\"LSCC\")\n",
    "print(\"Yes\", len(lscc_has_event), \"No\", len(lscc_no_event))"
   ]
  },
  {
   "cell_type": "markdown",
   "metadata": {},
   "source": [
    "## Run T Tests"
   ]
  },
  {
   "cell_type": "code",
   "execution_count": 34,
   "metadata": {},
   "outputs": [],
   "source": [
    "def t_test(col, cancer):\n",
    "    has_ev = col[col.index.isin(gene_lists[cancer]['has_event'])]\n",
    "    no_ev = col[col.index.isin(gene_lists[cancer]['no_event'])]\n",
    "    return stats.ttest_ind(has_ev, no_ev)"
   ]
  },
  {
   "cell_type": "code",
   "execution_count": 35,
   "metadata": {},
   "outputs": [
    {
     "name": "stderr",
     "output_type": "stream",
     "text": [
      "C:\\Users\\chels\\anaconda3\\lib\\site-packages\\scipy\\stats\\_distn_infrastructure.py:903: RuntimeWarning: invalid value encountered in greater\n",
      "  return (a < x) & (x < b)\n",
      "C:\\Users\\chels\\anaconda3\\lib\\site-packages\\scipy\\stats\\_distn_infrastructure.py:903: RuntimeWarning: invalid value encountered in less\n",
      "  return (a < x) & (x < b)\n",
      "C:\\Users\\chels\\anaconda3\\lib\\site-packages\\scipy\\stats\\_distn_infrastructure.py:1912: RuntimeWarning: invalid value encountered in less_equal\n",
      "  cond2 = cond0 & (x <= _a)\n"
     ]
    }
   ],
   "source": [
    "luad_t_test = luad_prot.apply(lambda x: t_test(x, \"LUAD\")).transpose()\n",
    "hnscc_t_test = hnscc_prot.apply(lambda x: t_test(x, \"HNSCC\")).transpose()\n",
    "ovarian_t_test = ovarian_prot.apply(lambda x: t_test(x, \"OVARIAN\")).transpose()\n",
    "colon_t_test = colon_prot.apply(lambda x: t_test(x, \"COLON\")).transpose()\n",
    "brca_t_test = brca_prot.apply(lambda x: t_test(x, \"BRCA\")).transpose()\n",
    "lscc_t_test = lscc_prot.apply(lambda x: t_test(x, \"LSCC\")).transpose()"
   ]
  },
  {
   "cell_type": "code",
   "execution_count": 36,
   "metadata": {},
   "outputs": [],
   "source": [
    "hnscc_t_test = hnscc_t_test.to_frame()\n",
    "hnscc_t_test['hnscc_stat'] = [x[0] for x in hnscc_t_test[0]]\n",
    "hnscc_t_test['hnscc_pvalue'] = [x[1] for x in hnscc_t_test[0]]"
   ]
  },
  {
   "cell_type": "code",
   "execution_count": 37,
   "metadata": {},
   "outputs": [],
   "source": [
    "colon_t_test = colon_t_test.to_frame()\n",
    "colon_t_test['colon_stat'] = [x[0] for x in colon_t_test[0]]\n",
    "colon_t_test['colon_pvalue'] = [x[1] for x in colon_t_test[0]]"
   ]
  },
  {
   "cell_type": "code",
   "execution_count": 38,
   "metadata": {},
   "outputs": [],
   "source": [
    "luad_t_test = luad_t_test.rename(columns={0:\"luad_stat\", 1:\"luad_pvalue\"})\n",
    "ovarian_t_test = ovarian_t_test.rename(columns={0:\"ovarian_stat\", 1:\"ovarian_pvalue\"})\n",
    "brca_t_test = brca_t_test.rename(columns={0:\"brca_stat\", 1:\"brca_pvalue\"})\n",
    "lscc_t_test = lscc_t_test.rename(columns={0:\"lscc_stat\", 1:\"lscc_pvalue\"})"
   ]
  },
  {
   "cell_type": "code",
   "execution_count": 39,
   "metadata": {},
   "outputs": [],
   "source": [
    "colon_t_test = colon_t_test.drop([0], axis=1)\n",
    "hnscc_t_test = hnscc_t_test.drop([0], axis=1)"
   ]
  },
  {
   "cell_type": "code",
   "execution_count": 40,
   "metadata": {},
   "outputs": [],
   "source": [
    "# Rename the database_id in the tables with multiindex\n",
    "luad_t_test.index = luad_t_test.index.rename(\"Database_ID_Luad\", level=1)\n",
    "ovarian_t_test.index = ovarian_t_test.index.rename(\"Database_ID_Ovarian\", level=1)\n",
    "brca_t_test.index = brca_t_test.index.rename(\"Database_ID_Brca\", level=1)\n",
    "lscc_t_test.index = lscc_t_test.index.rename(\"Database_ID_Lscc\", level=1)"
   ]
  },
  {
   "cell_type": "code",
   "execution_count": 41,
   "metadata": {},
   "outputs": [
    {
     "data": {
      "text/html": [
       "<div>\n",
       "<style scoped>\n",
       "    .dataframe tbody tr th:only-of-type {\n",
       "        vertical-align: middle;\n",
       "    }\n",
       "\n",
       "    .dataframe tbody tr th {\n",
       "        vertical-align: top;\n",
       "    }\n",
       "\n",
       "    .dataframe thead th {\n",
       "        text-align: right;\n",
       "    }\n",
       "</style>\n",
       "<table border=\"1\" class=\"dataframe\">\n",
       "  <thead>\n",
       "    <tr style=\"text-align: right;\">\n",
       "      <th></th>\n",
       "      <th></th>\n",
       "      <th>luad_stat</th>\n",
       "      <th>luad_pvalue</th>\n",
       "    </tr>\n",
       "    <tr>\n",
       "      <th>Name</th>\n",
       "      <th>Database_ID_Luad</th>\n",
       "      <th></th>\n",
       "      <th></th>\n",
       "    </tr>\n",
       "  </thead>\n",
       "  <tbody>\n",
       "    <tr>\n",
       "      <th>A1BG</th>\n",
       "      <th>NP_570602.2</th>\n",
       "      <td>-2.106105</td>\n",
       "      <td>0.037534</td>\n",
       "    </tr>\n",
       "    <tr>\n",
       "      <th>A2M</th>\n",
       "      <th>NP_000005.2|NP_001334353.1|NP_001334354.1|K4JDR8|K4JBA2|K4JB97</th>\n",
       "      <td>-1.659181</td>\n",
       "      <td>0.100008</td>\n",
       "    </tr>\n",
       "    <tr>\n",
       "      <th>AAAS</th>\n",
       "      <th>NP_056480.1|NP_001166937.1</th>\n",
       "      <td>2.025836</td>\n",
       "      <td>0.045270</td>\n",
       "    </tr>\n",
       "    <tr>\n",
       "      <th>AACS</th>\n",
       "      <th>NP_076417.2|NP_001306769.1|NP_001306768.1</th>\n",
       "      <td>-0.324608</td>\n",
       "      <td>0.746112</td>\n",
       "    </tr>\n",
       "    <tr>\n",
       "      <th>AADAC</th>\n",
       "      <th>NP_001077.2</th>\n",
       "      <td>NaN</td>\n",
       "      <td>NaN</td>\n",
       "    </tr>\n",
       "    <tr>\n",
       "      <th>...</th>\n",
       "      <th>...</th>\n",
       "      <td>...</td>\n",
       "      <td>...</td>\n",
       "    </tr>\n",
       "    <tr>\n",
       "      <th>ZXDC</th>\n",
       "      <th>NP_079388.3|NP_001035743.1</th>\n",
       "      <td>NaN</td>\n",
       "      <td>NaN</td>\n",
       "    </tr>\n",
       "    <tr>\n",
       "      <th>ZYG11B</th>\n",
       "      <th>NP_078922.1</th>\n",
       "      <td>3.776772</td>\n",
       "      <td>0.000261</td>\n",
       "    </tr>\n",
       "    <tr>\n",
       "      <th>ZYX</th>\n",
       "      <th>NP_001010972.1|NP_001349712.1</th>\n",
       "      <td>-0.732300</td>\n",
       "      <td>0.465586</td>\n",
       "    </tr>\n",
       "    <tr>\n",
       "      <th>ZZEF1</th>\n",
       "      <th>NP_055928.3</th>\n",
       "      <td>-2.337474</td>\n",
       "      <td>0.021275</td>\n",
       "    </tr>\n",
       "    <tr>\n",
       "      <th>ZZZ3</th>\n",
       "      <th>NP_056349.1|NP_001295166.1</th>\n",
       "      <td>NaN</td>\n",
       "      <td>NaN</td>\n",
       "    </tr>\n",
       "  </tbody>\n",
       "</table>\n",
       "<p>10699 rows × 2 columns</p>\n",
       "</div>"
      ],
      "text/plain": [
       "                                                           luad_stat  \\\n",
       "Name   Database_ID_Luad                                                \n",
       "A1BG   NP_570602.2                                         -2.106105   \n",
       "A2M    NP_000005.2|NP_001334353.1|NP_001334354.1|K4JDR...  -1.659181   \n",
       "AAAS   NP_056480.1|NP_001166937.1                           2.025836   \n",
       "AACS   NP_076417.2|NP_001306769.1|NP_001306768.1           -0.324608   \n",
       "AADAC  NP_001077.2                                               NaN   \n",
       "...                                                              ...   \n",
       "ZXDC   NP_079388.3|NP_001035743.1                                NaN   \n",
       "ZYG11B NP_078922.1                                          3.776772   \n",
       "ZYX    NP_001010972.1|NP_001349712.1                       -0.732300   \n",
       "ZZEF1  NP_055928.3                                         -2.337474   \n",
       "ZZZ3   NP_056349.1|NP_001295166.1                                NaN   \n",
       "\n",
       "                                                           luad_pvalue  \n",
       "Name   Database_ID_Luad                                                 \n",
       "A1BG   NP_570602.2                                            0.037534  \n",
       "A2M    NP_000005.2|NP_001334353.1|NP_001334354.1|K4JDR...     0.100008  \n",
       "AAAS   NP_056480.1|NP_001166937.1                             0.045270  \n",
       "AACS   NP_076417.2|NP_001306769.1|NP_001306768.1              0.746112  \n",
       "AADAC  NP_001077.2                                                 NaN  \n",
       "...                                                                ...  \n",
       "ZXDC   NP_079388.3|NP_001035743.1                                  NaN  \n",
       "ZYG11B NP_078922.1                                            0.000261  \n",
       "ZYX    NP_001010972.1|NP_001349712.1                          0.465586  \n",
       "ZZEF1  NP_055928.3                                            0.021275  \n",
       "ZZZ3   NP_056349.1|NP_001295166.1                                  NaN  \n",
       "\n",
       "[10699 rows x 2 columns]"
      ]
     },
     "execution_count": 41,
     "metadata": {},
     "output_type": "execute_result"
    }
   ],
   "source": [
    "luad_t_test"
   ]
  },
  {
   "cell_type": "code",
   "execution_count": 42,
   "metadata": {},
   "outputs": [],
   "source": [
    "results = colon_t_test.join(brca_t_test).join(luad_t_test).join(hnscc_t_test).join(ovarian_t_test).join(lscc_t_test)"
   ]
  },
  {
   "cell_type": "code",
   "execution_count": 43,
   "metadata": {
    "scrolled": true
   },
   "outputs": [],
   "source": [
    "results_with_loc = add_chromo_and_loc(results)"
   ]
  },
  {
   "cell_type": "code",
   "execution_count": 44,
   "metadata": {},
   "outputs": [],
   "source": [
    "def outside_event(x):\n",
    "    a = x['chromo'] != '8'\n",
    "    b = x['location'] > deletion_event\n",
    "    return a|b"
   ]
  },
  {
   "cell_type": "code",
   "execution_count": 45,
   "metadata": {},
   "outputs": [],
   "source": [
    "results_trans = results_with_loc[results_with_loc.apply(lambda x: outside_event(x), axis=1)]"
   ]
  },
  {
   "cell_type": "code",
   "execution_count": 46,
   "metadata": {},
   "outputs": [],
   "source": [
    "luad_trans_proteins = list(set(results_trans[results_trans.luad_pvalue <= 0.05].index.get_level_values(0)))\n",
    "ovarian_trans_proteins = list(set(results_trans[results_trans.ovarian_pvalue <= 0.05].index.get_level_values(0)))\n",
    "hnscc_trans_proteins = list(set(results_trans[results_trans.hnscc_pvalue <= 0.05].index.get_level_values(0)))\n",
    "colon_trans_proteins = list(set(results_trans[results_trans.colon_pvalue <= 0.05].index.get_level_values(0)))\n",
    "brca_trans_proteins = list(set(results_trans[results_trans.brca_pvalue <= 0.05].index.get_level_values(0)))\n",
    "lscc_trans_proteins = list(set(results_trans[results_trans.lscc_pvalue <= 0.05].index.get_level_values(0)))"
   ]
  },
  {
   "cell_type": "code",
   "execution_count": 47,
   "metadata": {},
   "outputs": [],
   "source": [
    "luad_proteins = list(set(luad_t_test[luad_t_test.luad_pvalue < 0.05].index.get_level_values(0)))\n",
    "hnscc_proteins = list(set(hnscc_t_test[hnscc_t_test.hnscc_pvalue < 0.05].index.get_level_values(0)))\n",
    "ovarian_proteins = list(set(ovarian_t_test[ovarian_t_test.ovarian_pvalue < 0.05].index.get_level_values(0)))\n",
    "colon_proteins = list(set(colon_t_test[colon_t_test.colon_pvalue < 0.05].index.get_level_values(0)))\n",
    "brca_proteins = list(set(brca_t_test[brca_t_test.brca_pvalue < 0.05].index.get_level_values(0)))\n",
    "lscc_proteins = list(set(lscc_t_test[lscc_t_test.lscc_pvalue < 0.05].index.get_level_values(0)))"
   ]
  },
  {
   "cell_type": "code",
   "execution_count": 48,
   "metadata": {},
   "outputs": [],
   "source": [
    "aliases = ['MYC', 'CMYC', 'MYCC', \"MRTL\", 'BHLHE39']"
   ]
  },
  {
   "cell_type": "code",
   "execution_count": 49,
   "metadata": {},
   "outputs": [
    {
     "data": {
      "text/plain": [
       "Index(['MYCBP', 'MYCBP2'], dtype='object', name='Name')"
      ]
     },
     "execution_count": 49,
     "metadata": {},
     "output_type": "execute_result"
    }
   ],
   "source": [
    "luad_prot[luad_prot.columns[luad_prot.columns.get_level_values(0).str.startswith('MYC')]].columns.get_level_values(0)"
   ]
  },
  {
   "cell_type": "code",
   "execution_count": 50,
   "metadata": {},
   "outputs": [],
   "source": [
    "def CountFrequency(my_list): \n",
    "  \"\"\"\n",
    "  Counts the frequency of the gene in the given list.\n",
    "  Returns a list of genes that appeared 3 or more times.\n",
    "  \"\"\"\n",
    "  freq = {} \n",
    "  for items in my_list: \n",
    "      freq[items] = my_list.count(items) \n",
    "  sig = []\n",
    "  for key, value in freq.items(): \n",
    "    if value >= 5:\n",
    "        print(key, value)\n",
    "        sig.append(key)\n",
    "  return sig"
   ]
  },
  {
   "cell_type": "code",
   "execution_count": 51,
   "metadata": {},
   "outputs": [
    {
     "name": "stdout",
     "output_type": "stream",
     "text": [
      "MTMR9 5\n",
      "VPS37A 5\n",
      "PPP2R2A 6\n",
      "CCAR2 6\n",
      "ATP6V1E1 5\n",
      "ATP6V1B2 6\n",
      "ERI1 5\n",
      "SMG8 5\n",
      "MSRA 5\n",
      "CHMP7 6\n",
      "ATP6V1H 6\n",
      "PCM1 6\n",
      "NAT1 6\n",
      "FNDC3A 5\n",
      "XPO7 6\n",
      "AGPAT5 6\n",
      "SH2D4A 5\n",
      "MTMR6 5\n",
      "ATP6V1F 5\n",
      "CCDC25 6\n",
      "KIF13B 6\n"
     ]
    }
   ],
   "source": [
    "common_proteins = CountFrequency(luad_proteins +\n",
    "                                hnscc_proteins +\n",
    "                                ovarian_proteins +\n",
    "                                colon_proteins +\n",
    "                                brca_proteins +\n",
    "                                lscc_proteins)"
   ]
  },
  {
   "cell_type": "code",
   "execution_count": 52,
   "metadata": {},
   "outputs": [
    {
     "name": "stdout",
     "output_type": "stream",
     "text": [
      "ATP6V1H 6\n",
      "ATP6V1E1 5\n",
      "MTMR6 5\n",
      "ATP6V1F 5\n",
      "SMG8 5\n",
      "FNDC3A 5\n"
     ]
    }
   ],
   "source": [
    "common_trans_proteins = CountFrequency(luad_trans_proteins +\n",
    "                                hnscc_trans_proteins +\n",
    "                                ovarian_trans_proteins +\n",
    "                                colon_trans_proteins +\n",
    "                                brca_trans_proteins +\n",
    "                                lscc_trans_proteins)"
   ]
  },
  {
   "cell_type": "code",
   "execution_count": 53,
   "metadata": {},
   "outputs": [
    {
     "name": "stdout",
     "output_type": "stream",
     "text": [
      "['ATP6V1H', 'ATP6V1E1', 'MTMR6', 'ATP6V1F', 'SMG8', 'FNDC3A']\n"
     ]
    }
   ],
   "source": [
    "print(common_trans_proteins)"
   ]
  },
  {
   "cell_type": "code",
   "execution_count": 55,
   "metadata": {},
   "outputs": [
    {
     "data": {
      "text/html": [
       "<div>\n",
       "<style scoped>\n",
       "    .dataframe tbody tr th:only-of-type {\n",
       "        vertical-align: middle;\n",
       "    }\n",
       "\n",
       "    .dataframe tbody tr th {\n",
       "        vertical-align: top;\n",
       "    }\n",
       "\n",
       "    .dataframe thead th {\n",
       "        text-align: right;\n",
       "    }\n",
       "</style>\n",
       "<table border=\"1\" class=\"dataframe\">\n",
       "  <thead>\n",
       "    <tr style=\"text-align: right;\">\n",
       "      <th></th>\n",
       "      <th></th>\n",
       "      <th>lscc_stat</th>\n",
       "      <th>lscc_pvalue</th>\n",
       "    </tr>\n",
       "    <tr>\n",
       "      <th>Name</th>\n",
       "      <th>Database_ID_Lscc</th>\n",
       "      <th></th>\n",
       "      <th></th>\n",
       "    </tr>\n",
       "  </thead>\n",
       "  <tbody>\n",
       "    <tr>\n",
       "      <th>CHMP7</th>\n",
       "      <th>NP_689485.1|NP_001304828.1|NP_001350112.1</th>\n",
       "      <td>-8.227622</td>\n",
       "      <td>4.712775e-13</td>\n",
       "    </tr>\n",
       "    <tr>\n",
       "      <th>PPP3CC</th>\n",
       "      <th>NP_001230904.1|NP_001230903.1|NP_005596.2</th>\n",
       "      <td>-7.532316</td>\n",
       "      <td>1.609906e-11</td>\n",
       "    </tr>\n",
       "  </tbody>\n",
       "</table>\n",
       "</div>"
      ],
      "text/plain": [
       "                                                  lscc_stat   lscc_pvalue\n",
       "Name   Database_ID_Lscc                                                  \n",
       "CHMP7  NP_689485.1|NP_001304828.1|NP_001350112.1  -8.227622  4.712775e-13\n",
       "PPP3CC NP_001230904.1|NP_001230903.1|NP_005596.2  -7.532316  1.609906e-11"
      ]
     },
     "execution_count": 55,
     "metadata": {},
     "output_type": "execute_result"
    }
   ],
   "source": [
    "lscc_t_test[lscc_t_test.lscc_pvalue < 0.0000000005]"
   ]
  },
  {
   "cell_type": "code",
   "execution_count": 59,
   "metadata": {},
   "outputs": [],
   "source": [
    "def all_low_pvalues(row):\n",
    "    return ((row['luad_pvalue'] < 0.1) & (row['ovarian_pvalue'] < 0.1) & (row['hnscc_pvalue'] < 0.1) & (row['colon_pvalue'] < 0.1) & (row['brca_pvalue'] < 0.1) & (row['lscc_pvalue'] < 0.1))"
   ]
  },
  {
   "cell_type": "code",
   "execution_count": 60,
   "metadata": {},
   "outputs": [],
   "source": [
    "common_low_pvalues = results[results.apply(lambda x: all_low_pvalues(x), axis=1)]"
   ]
  },
  {
   "cell_type": "code",
   "execution_count": 61,
   "metadata": {},
   "outputs": [
    {
     "data": {
      "text/html": [
       "<div>\n",
       "<style scoped>\n",
       "    .dataframe tbody tr th:only-of-type {\n",
       "        vertical-align: middle;\n",
       "    }\n",
       "\n",
       "    .dataframe tbody tr th {\n",
       "        vertical-align: top;\n",
       "    }\n",
       "\n",
       "    .dataframe thead th {\n",
       "        text-align: right;\n",
       "    }\n",
       "</style>\n",
       "<table border=\"1\" class=\"dataframe\">\n",
       "  <thead>\n",
       "    <tr style=\"text-align: right;\">\n",
       "      <th></th>\n",
       "      <th></th>\n",
       "      <th></th>\n",
       "      <th></th>\n",
       "      <th></th>\n",
       "      <th>colon_stat</th>\n",
       "      <th>colon_pvalue</th>\n",
       "      <th>brca_stat</th>\n",
       "      <th>brca_pvalue</th>\n",
       "      <th>luad_stat</th>\n",
       "      <th>luad_pvalue</th>\n",
       "      <th>hnscc_stat</th>\n",
       "      <th>hnscc_pvalue</th>\n",
       "      <th>ovarian_stat</th>\n",
       "      <th>ovarian_pvalue</th>\n",
       "      <th>lscc_stat</th>\n",
       "      <th>lscc_pvalue</th>\n",
       "      <th>chromo</th>\n",
       "      <th>location</th>\n",
       "    </tr>\n",
       "    <tr>\n",
       "      <th>Name</th>\n",
       "      <th>Database_ID_Brca</th>\n",
       "      <th>Database_ID_Luad</th>\n",
       "      <th>Database_ID_Ovarian</th>\n",
       "      <th>Database_ID_Lscc</th>\n",
       "      <th></th>\n",
       "      <th></th>\n",
       "      <th></th>\n",
       "      <th></th>\n",
       "      <th></th>\n",
       "      <th></th>\n",
       "      <th></th>\n",
       "      <th></th>\n",
       "      <th></th>\n",
       "      <th></th>\n",
       "      <th></th>\n",
       "      <th></th>\n",
       "      <th></th>\n",
       "      <th></th>\n",
       "    </tr>\n",
       "  </thead>\n",
       "  <tbody>\n",
       "    <tr>\n",
       "      <th>AGPAT5</th>\n",
       "      <th>NP_060831.2</th>\n",
       "      <th>NP_060831.2</th>\n",
       "      <th>NP_060831</th>\n",
       "      <th>NP_060831.2</th>\n",
       "      <td>-3.740606</td>\n",
       "      <td>3.172975e-04</td>\n",
       "      <td>-3.607588</td>\n",
       "      <td>4.516959e-04</td>\n",
       "      <td>-4.072138</td>\n",
       "      <td>8.953867e-05</td>\n",
       "      <td>-4.338815</td>\n",
       "      <td>3.303682e-05</td>\n",
       "      <td>-3.458135</td>\n",
       "      <td>8.791440e-04</td>\n",
       "      <td>-3.086790</td>\n",
       "      <td>2.571128e-03</td>\n",
       "      <td>8</td>\n",
       "      <td>6735072.5</td>\n",
       "    </tr>\n",
       "    <tr>\n",
       "      <th>ATP6V1B2</th>\n",
       "      <th>NP_001684.2</th>\n",
       "      <th>NP_001684.2</th>\n",
       "      <th>NP_001684</th>\n",
       "      <th>NP_001684.2</th>\n",
       "      <td>-7.175850</td>\n",
       "      <td>1.715074e-10</td>\n",
       "      <td>-4.655991</td>\n",
       "      <td>8.392415e-06</td>\n",
       "      <td>-4.699479</td>\n",
       "      <td>7.802468e-06</td>\n",
       "      <td>-3.137785</td>\n",
       "      <td>2.209650e-03</td>\n",
       "      <td>-3.019894</td>\n",
       "      <td>3.404895e-03</td>\n",
       "      <td>-4.070472</td>\n",
       "      <td>8.959964e-05</td>\n",
       "      <td>8</td>\n",
       "      <td>20212100.0</td>\n",
       "    </tr>\n",
       "    <tr>\n",
       "      <th>ATP6V1E1</th>\n",
       "      <th>NP_001687.1|NP_001034456.1|NP_001034455.1</th>\n",
       "      <th>NP_001687.1|NP_001034456.1|NP_001034455.1|NP_001304992.1</th>\n",
       "      <th>NP_001687</th>\n",
       "      <th>NP_001687.1|NP_001034456.1|NP_001034455.1|NP_001304992.1</th>\n",
       "      <td>-5.238402</td>\n",
       "      <td>1.004298e-06</td>\n",
       "      <td>-3.336161</td>\n",
       "      <td>1.131037e-03</td>\n",
       "      <td>-4.668896</td>\n",
       "      <td>8.830839e-06</td>\n",
       "      <td>-3.747649</td>\n",
       "      <td>2.921984e-04</td>\n",
       "      <td>-1.773587</td>\n",
       "      <td>7.998516e-02</td>\n",
       "      <td>-2.837965</td>\n",
       "      <td>5.424434e-03</td>\n",
       "      <td>22</td>\n",
       "      <td>17610442.5</td>\n",
       "    </tr>\n",
       "    <tr>\n",
       "      <th>ATP6V1H</th>\n",
       "      <th>NP_998785.1|NP_998784.1</th>\n",
       "      <th>NP_057025.2|NP_998784.1</th>\n",
       "      <th>NP_998785</th>\n",
       "      <th>NP_057025.2|NP_998784.1</th>\n",
       "      <td>-5.256869</td>\n",
       "      <td>9.296203e-07</td>\n",
       "      <td>-3.813765</td>\n",
       "      <td>2.176615e-04</td>\n",
       "      <td>-4.125242</td>\n",
       "      <td>7.344621e-05</td>\n",
       "      <td>-2.680767</td>\n",
       "      <td>8.531253e-03</td>\n",
       "      <td>-2.174302</td>\n",
       "      <td>3.267538e-02</td>\n",
       "      <td>-2.919748</td>\n",
       "      <td>4.264680e-03</td>\n",
       "      <td>8</td>\n",
       "      <td>53779550.5</td>\n",
       "    </tr>\n",
       "    <tr>\n",
       "      <th rowspan=\"2\" valign=\"top\">CCAR2</th>\n",
       "      <th rowspan=\"2\" valign=\"top\">NP_066997.3</th>\n",
       "      <th rowspan=\"2\" valign=\"top\">NP_066997.3</th>\n",
       "      <th rowspan=\"2\" valign=\"top\">NP_066997</th>\n",
       "      <th>NP_001349997.1</th>\n",
       "      <td>-5.098770</td>\n",
       "      <td>1.793584e-06</td>\n",
       "      <td>-8.556431</td>\n",
       "      <td>4.521423e-14</td>\n",
       "      <td>-7.052955</td>\n",
       "      <td>1.805337e-10</td>\n",
       "      <td>-5.370802</td>\n",
       "      <td>4.738092e-07</td>\n",
       "      <td>-6.316145</td>\n",
       "      <td>1.466656e-08</td>\n",
       "      <td>-1.660573</td>\n",
       "      <td>9.969998e-02</td>\n",
       "      <td>8</td>\n",
       "      <td>22613073.0</td>\n",
       "    </tr>\n",
       "    <tr>\n",
       "      <th>NP_066997.3</th>\n",
       "      <td>-5.098770</td>\n",
       "      <td>1.793584e-06</td>\n",
       "      <td>-8.556431</td>\n",
       "      <td>4.521423e-14</td>\n",
       "      <td>-7.052955</td>\n",
       "      <td>1.805337e-10</td>\n",
       "      <td>-5.370802</td>\n",
       "      <td>4.738092e-07</td>\n",
       "      <td>-6.316145</td>\n",
       "      <td>1.466656e-08</td>\n",
       "      <td>-3.468850</td>\n",
       "      <td>7.519136e-04</td>\n",
       "      <td>8</td>\n",
       "      <td>22613073.0</td>\n",
       "    </tr>\n",
       "    <tr>\n",
       "      <th>CCDC25</th>\n",
       "      <th>NP_060716.2|NP_001291461.1|NP_001291459.1|NP_001291458.1</th>\n",
       "      <th>NP_060716.2|NP_001291461.1|NP_001291458.1</th>\n",
       "      <th>NP_060716</th>\n",
       "      <th>NP_060716.2|NP_001291461.1|NP_001291458.1</th>\n",
       "      <td>-3.286007</td>\n",
       "      <td>1.434135e-03</td>\n",
       "      <td>-7.601481</td>\n",
       "      <td>7.176568e-12</td>\n",
       "      <td>-6.668111</td>\n",
       "      <td>1.171630e-09</td>\n",
       "      <td>-6.542426</td>\n",
       "      <td>2.259325e-09</td>\n",
       "      <td>-3.277267</td>\n",
       "      <td>1.558959e-03</td>\n",
       "      <td>-3.468662</td>\n",
       "      <td>7.523849e-04</td>\n",
       "      <td>8</td>\n",
       "      <td>27752984.5</td>\n",
       "    </tr>\n",
       "    <tr>\n",
       "      <th>CHMP7</th>\n",
       "      <th>NP_689485.1|NP_001304828.1</th>\n",
       "      <th>NP_689485.1|NP_001350112.1|NP_001304828.1</th>\n",
       "      <th>NP_689485</th>\n",
       "      <th>NP_689485.1|NP_001304828.1|NP_001350112.1</th>\n",
       "      <td>-3.741828</td>\n",
       "      <td>3.159601e-04</td>\n",
       "      <td>-7.400334</td>\n",
       "      <td>2.039633e-11</td>\n",
       "      <td>-7.520673</td>\n",
       "      <td>1.777490e-11</td>\n",
       "      <td>-5.985496</td>\n",
       "      <td>3.040384e-08</td>\n",
       "      <td>-3.436989</td>\n",
       "      <td>9.409629e-04</td>\n",
       "      <td>-8.227622</td>\n",
       "      <td>4.712775e-13</td>\n",
       "      <td>8</td>\n",
       "      <td>23252818.5</td>\n",
       "    </tr>\n",
       "    <tr>\n",
       "      <th>IGLL5</th>\n",
       "      <th>NP_001171597.1|NP_001243225.1</th>\n",
       "      <th>NP_001171597.1|NP_001243225.1</th>\n",
       "      <th>NP_001171597</th>\n",
       "      <th>NP_001171597.1|NP_001243225.1</th>\n",
       "      <td>-2.252785</td>\n",
       "      <td>2.662403e-02</td>\n",
       "      <td>1.824430</td>\n",
       "      <td>7.057491e-02</td>\n",
       "      <td>-2.388433</td>\n",
       "      <td>1.867233e-02</td>\n",
       "      <td>-2.110587</td>\n",
       "      <td>3.718275e-02</td>\n",
       "      <td>-1.918477</td>\n",
       "      <td>5.866317e-02</td>\n",
       "      <td>-3.482865</td>\n",
       "      <td>7.174220e-04</td>\n",
       "      <td>22</td>\n",
       "      <td>22891945.5</td>\n",
       "    </tr>\n",
       "    <tr>\n",
       "      <th>KIF13B</th>\n",
       "      <th>NP_056069.2</th>\n",
       "      <th>NP_056069.2|NP_872312.2</th>\n",
       "      <th>NP_056069</th>\n",
       "      <th>NP_056069.2</th>\n",
       "      <td>-3.585699</td>\n",
       "      <td>5.380717e-04</td>\n",
       "      <td>-3.573083</td>\n",
       "      <td>5.090040e-04</td>\n",
       "      <td>-3.799545</td>\n",
       "      <td>2.411482e-04</td>\n",
       "      <td>-5.105828</td>\n",
       "      <td>1.477549e-06</td>\n",
       "      <td>-2.740777</td>\n",
       "      <td>7.576534e-03</td>\n",
       "      <td>-3.487326</td>\n",
       "      <td>7.067601e-04</td>\n",
       "      <td>8</td>\n",
       "      <td>29165201.0</td>\n",
       "    </tr>\n",
       "    <tr>\n",
       "      <th>NAT1</th>\n",
       "      <th>NP_001153651.1|NP_001278891.1</th>\n",
       "      <th>NP_000653.3|NP_001153647.1</th>\n",
       "      <th>NP_001153651</th>\n",
       "      <th>NP_000653.3|NP_001153647.1</th>\n",
       "      <td>-4.129058</td>\n",
       "      <td>7.943533e-05</td>\n",
       "      <td>-2.405710</td>\n",
       "      <td>1.766769e-02</td>\n",
       "      <td>-4.259882</td>\n",
       "      <td>4.412447e-05</td>\n",
       "      <td>-2.957274</td>\n",
       "      <td>3.834302e-03</td>\n",
       "      <td>-2.328398</td>\n",
       "      <td>2.244943e-02</td>\n",
       "      <td>-4.207056</td>\n",
       "      <td>5.362363e-05</td>\n",
       "      <td>8</td>\n",
       "      <td>18197083.0</td>\n",
       "    </tr>\n",
       "    <tr>\n",
       "      <th>PCM1</th>\n",
       "      <th>NP_006188.3|NP_001302437.1</th>\n",
       "      <th>NP_001339561.1|NP_001339563.1|NP_001339568.1|NP_001339572.1|NP_001339586.1|NP_001339583.1|NP_001339588.1</th>\n",
       "      <th>NP_006188</th>\n",
       "      <th>NP_001339564.1|NP_001302436.1|NP_001339562.1|NP_001339572.1|NP_001339586.1|NP_001339588.1</th>\n",
       "      <td>-6.853395</td>\n",
       "      <td>7.744284e-10</td>\n",
       "      <td>-4.583169</td>\n",
       "      <td>1.130359e-05</td>\n",
       "      <td>-3.536356</td>\n",
       "      <td>6.010443e-04</td>\n",
       "      <td>-4.601360</td>\n",
       "      <td>1.178856e-05</td>\n",
       "      <td>-2.523944</td>\n",
       "      <td>1.360972e-02</td>\n",
       "      <td>-4.186238</td>\n",
       "      <td>5.802830e-05</td>\n",
       "      <td>8</td>\n",
       "      <td>17976392.0</td>\n",
       "    </tr>\n",
       "    <tr>\n",
       "      <th>PPP2R2A</th>\n",
       "      <th>NP_002708.1|NP_001171062.1</th>\n",
       "      <th>NP_002708.1|NP_001171062.1</th>\n",
       "      <th>NP_001171062</th>\n",
       "      <th>NP_002708.1|NP_001171062.1</th>\n",
       "      <td>-8.186369</td>\n",
       "      <td>1.380922e-12</td>\n",
       "      <td>-7.084113</td>\n",
       "      <td>1.033079e-10</td>\n",
       "      <td>-6.994871</td>\n",
       "      <td>2.399685e-10</td>\n",
       "      <td>-3.773598</td>\n",
       "      <td>2.666895e-04</td>\n",
       "      <td>-3.775724</td>\n",
       "      <td>3.074127e-04</td>\n",
       "      <td>-6.504524</td>\n",
       "      <td>2.498384e-09</td>\n",
       "      <td>8</td>\n",
       "      <td>26332094.0</td>\n",
       "    </tr>\n",
       "    <tr>\n",
       "      <th>XPO7</th>\n",
       "      <th>NP_055839.3</th>\n",
       "      <th>NP_001349731.1|NP_001093631.1</th>\n",
       "      <th>NP_055839</th>\n",
       "      <th>NP_055839.3|NP_001093631.1|NP_001349731.1</th>\n",
       "      <td>-8.052469</td>\n",
       "      <td>2.633035e-12</td>\n",
       "      <td>-6.707938</td>\n",
       "      <td>6.870120e-10</td>\n",
       "      <td>-6.530208</td>\n",
       "      <td>2.268639e-09</td>\n",
       "      <td>-4.945098</td>\n",
       "      <td>2.901309e-06</td>\n",
       "      <td>-5.535437</td>\n",
       "      <td>3.917661e-07</td>\n",
       "      <td>-3.565932</td>\n",
       "      <td>5.417146e-04</td>\n",
       "      <td>8</td>\n",
       "      <td>21963123.5</td>\n",
       "    </tr>\n",
       "  </tbody>\n",
       "</table>\n",
       "</div>"
      ],
      "text/plain": [
       "                                                                                                                                                                                       colon_stat  \\\n",
       "Name     Database_ID_Brca                                   Database_ID_Luad                                   Database_ID_Ovarian Database_ID_Lscc                                                 \n",
       "AGPAT5   NP_060831.2                                        NP_060831.2                                        NP_060831           NP_060831.2                                          -3.740606   \n",
       "ATP6V1B2 NP_001684.2                                        NP_001684.2                                        NP_001684           NP_001684.2                                          -7.175850   \n",
       "ATP6V1E1 NP_001687.1|NP_001034456.1|NP_001034455.1          NP_001687.1|NP_001034456.1|NP_001034455.1|NP_00... NP_001687           NP_001687.1|NP_001034456.1|NP_001034455.1|NP_00...   -5.238402   \n",
       "ATP6V1H  NP_998785.1|NP_998784.1                            NP_057025.2|NP_998784.1                            NP_998785           NP_057025.2|NP_998784.1                              -5.256869   \n",
       "CCAR2    NP_066997.3                                        NP_066997.3                                        NP_066997           NP_001349997.1                                       -5.098770   \n",
       "                                                                                                                                   NP_066997.3                                          -5.098770   \n",
       "CCDC25   NP_060716.2|NP_001291461.1|NP_001291459.1|NP_00... NP_060716.2|NP_001291461.1|NP_001291458.1          NP_060716           NP_060716.2|NP_001291461.1|NP_001291458.1            -3.286007   \n",
       "CHMP7    NP_689485.1|NP_001304828.1                         NP_689485.1|NP_001350112.1|NP_001304828.1          NP_689485           NP_689485.1|NP_001304828.1|NP_001350112.1            -3.741828   \n",
       "IGLL5    NP_001171597.1|NP_001243225.1                      NP_001171597.1|NP_001243225.1                      NP_001171597        NP_001171597.1|NP_001243225.1                        -2.252785   \n",
       "KIF13B   NP_056069.2                                        NP_056069.2|NP_872312.2                            NP_056069           NP_056069.2                                          -3.585699   \n",
       "NAT1     NP_001153651.1|NP_001278891.1                      NP_000653.3|NP_001153647.1                         NP_001153651        NP_000653.3|NP_001153647.1                           -4.129058   \n",
       "PCM1     NP_006188.3|NP_001302437.1                         NP_001339561.1|NP_001339563.1|NP_001339568.1|NP... NP_006188           NP_001339564.1|NP_001302436.1|NP_001339562.1|NP...   -6.853395   \n",
       "PPP2R2A  NP_002708.1|NP_001171062.1                         NP_002708.1|NP_001171062.1                         NP_001171062        NP_002708.1|NP_001171062.1                           -8.186369   \n",
       "XPO7     NP_055839.3                                        NP_001349731.1|NP_001093631.1                      NP_055839           NP_055839.3|NP_001093631.1|NP_001349731.1            -8.052469   \n",
       "\n",
       "                                                                                                                                                                                       colon_pvalue  \\\n",
       "Name     Database_ID_Brca                                   Database_ID_Luad                                   Database_ID_Ovarian Database_ID_Lscc                                                   \n",
       "AGPAT5   NP_060831.2                                        NP_060831.2                                        NP_060831           NP_060831.2                                         3.172975e-04   \n",
       "ATP6V1B2 NP_001684.2                                        NP_001684.2                                        NP_001684           NP_001684.2                                         1.715074e-10   \n",
       "ATP6V1E1 NP_001687.1|NP_001034456.1|NP_001034455.1          NP_001687.1|NP_001034456.1|NP_001034455.1|NP_00... NP_001687           NP_001687.1|NP_001034456.1|NP_001034455.1|NP_00...  1.004298e-06   \n",
       "ATP6V1H  NP_998785.1|NP_998784.1                            NP_057025.2|NP_998784.1                            NP_998785           NP_057025.2|NP_998784.1                             9.296203e-07   \n",
       "CCAR2    NP_066997.3                                        NP_066997.3                                        NP_066997           NP_001349997.1                                      1.793584e-06   \n",
       "                                                                                                                                   NP_066997.3                                         1.793584e-06   \n",
       "CCDC25   NP_060716.2|NP_001291461.1|NP_001291459.1|NP_00... NP_060716.2|NP_001291461.1|NP_001291458.1          NP_060716           NP_060716.2|NP_001291461.1|NP_001291458.1           1.434135e-03   \n",
       "CHMP7    NP_689485.1|NP_001304828.1                         NP_689485.1|NP_001350112.1|NP_001304828.1          NP_689485           NP_689485.1|NP_001304828.1|NP_001350112.1           3.159601e-04   \n",
       "IGLL5    NP_001171597.1|NP_001243225.1                      NP_001171597.1|NP_001243225.1                      NP_001171597        NP_001171597.1|NP_001243225.1                       2.662403e-02   \n",
       "KIF13B   NP_056069.2                                        NP_056069.2|NP_872312.2                            NP_056069           NP_056069.2                                         5.380717e-04   \n",
       "NAT1     NP_001153651.1|NP_001278891.1                      NP_000653.3|NP_001153647.1                         NP_001153651        NP_000653.3|NP_001153647.1                          7.943533e-05   \n",
       "PCM1     NP_006188.3|NP_001302437.1                         NP_001339561.1|NP_001339563.1|NP_001339568.1|NP... NP_006188           NP_001339564.1|NP_001302436.1|NP_001339562.1|NP...  7.744284e-10   \n",
       "PPP2R2A  NP_002708.1|NP_001171062.1                         NP_002708.1|NP_001171062.1                         NP_001171062        NP_002708.1|NP_001171062.1                          1.380922e-12   \n",
       "XPO7     NP_055839.3                                        NP_001349731.1|NP_001093631.1                      NP_055839           NP_055839.3|NP_001093631.1|NP_001349731.1           2.633035e-12   \n",
       "\n",
       "                                                                                                                                                                                       brca_stat  \\\n",
       "Name     Database_ID_Brca                                   Database_ID_Luad                                   Database_ID_Ovarian Database_ID_Lscc                                                \n",
       "AGPAT5   NP_060831.2                                        NP_060831.2                                        NP_060831           NP_060831.2                                         -3.607588   \n",
       "ATP6V1B2 NP_001684.2                                        NP_001684.2                                        NP_001684           NP_001684.2                                         -4.655991   \n",
       "ATP6V1E1 NP_001687.1|NP_001034456.1|NP_001034455.1          NP_001687.1|NP_001034456.1|NP_001034455.1|NP_00... NP_001687           NP_001687.1|NP_001034456.1|NP_001034455.1|NP_00...  -3.336161   \n",
       "ATP6V1H  NP_998785.1|NP_998784.1                            NP_057025.2|NP_998784.1                            NP_998785           NP_057025.2|NP_998784.1                             -3.813765   \n",
       "CCAR2    NP_066997.3                                        NP_066997.3                                        NP_066997           NP_001349997.1                                      -8.556431   \n",
       "                                                                                                                                   NP_066997.3                                         -8.556431   \n",
       "CCDC25   NP_060716.2|NP_001291461.1|NP_001291459.1|NP_00... NP_060716.2|NP_001291461.1|NP_001291458.1          NP_060716           NP_060716.2|NP_001291461.1|NP_001291458.1           -7.601481   \n",
       "CHMP7    NP_689485.1|NP_001304828.1                         NP_689485.1|NP_001350112.1|NP_001304828.1          NP_689485           NP_689485.1|NP_001304828.1|NP_001350112.1           -7.400334   \n",
       "IGLL5    NP_001171597.1|NP_001243225.1                      NP_001171597.1|NP_001243225.1                      NP_001171597        NP_001171597.1|NP_001243225.1                        1.824430   \n",
       "KIF13B   NP_056069.2                                        NP_056069.2|NP_872312.2                            NP_056069           NP_056069.2                                         -3.573083   \n",
       "NAT1     NP_001153651.1|NP_001278891.1                      NP_000653.3|NP_001153647.1                         NP_001153651        NP_000653.3|NP_001153647.1                          -2.405710   \n",
       "PCM1     NP_006188.3|NP_001302437.1                         NP_001339561.1|NP_001339563.1|NP_001339568.1|NP... NP_006188           NP_001339564.1|NP_001302436.1|NP_001339562.1|NP...  -4.583169   \n",
       "PPP2R2A  NP_002708.1|NP_001171062.1                         NP_002708.1|NP_001171062.1                         NP_001171062        NP_002708.1|NP_001171062.1                          -7.084113   \n",
       "XPO7     NP_055839.3                                        NP_001349731.1|NP_001093631.1                      NP_055839           NP_055839.3|NP_001093631.1|NP_001349731.1           -6.707938   \n",
       "\n",
       "                                                                                                                                                                                        brca_pvalue  \\\n",
       "Name     Database_ID_Brca                                   Database_ID_Luad                                   Database_ID_Ovarian Database_ID_Lscc                                                   \n",
       "AGPAT5   NP_060831.2                                        NP_060831.2                                        NP_060831           NP_060831.2                                         4.516959e-04   \n",
       "ATP6V1B2 NP_001684.2                                        NP_001684.2                                        NP_001684           NP_001684.2                                         8.392415e-06   \n",
       "ATP6V1E1 NP_001687.1|NP_001034456.1|NP_001034455.1          NP_001687.1|NP_001034456.1|NP_001034455.1|NP_00... NP_001687           NP_001687.1|NP_001034456.1|NP_001034455.1|NP_00...  1.131037e-03   \n",
       "ATP6V1H  NP_998785.1|NP_998784.1                            NP_057025.2|NP_998784.1                            NP_998785           NP_057025.2|NP_998784.1                             2.176615e-04   \n",
       "CCAR2    NP_066997.3                                        NP_066997.3                                        NP_066997           NP_001349997.1                                      4.521423e-14   \n",
       "                                                                                                                                   NP_066997.3                                         4.521423e-14   \n",
       "CCDC25   NP_060716.2|NP_001291461.1|NP_001291459.1|NP_00... NP_060716.2|NP_001291461.1|NP_001291458.1          NP_060716           NP_060716.2|NP_001291461.1|NP_001291458.1           7.176568e-12   \n",
       "CHMP7    NP_689485.1|NP_001304828.1                         NP_689485.1|NP_001350112.1|NP_001304828.1          NP_689485           NP_689485.1|NP_001304828.1|NP_001350112.1           2.039633e-11   \n",
       "IGLL5    NP_001171597.1|NP_001243225.1                      NP_001171597.1|NP_001243225.1                      NP_001171597        NP_001171597.1|NP_001243225.1                       7.057491e-02   \n",
       "KIF13B   NP_056069.2                                        NP_056069.2|NP_872312.2                            NP_056069           NP_056069.2                                         5.090040e-04   \n",
       "NAT1     NP_001153651.1|NP_001278891.1                      NP_000653.3|NP_001153647.1                         NP_001153651        NP_000653.3|NP_001153647.1                          1.766769e-02   \n",
       "PCM1     NP_006188.3|NP_001302437.1                         NP_001339561.1|NP_001339563.1|NP_001339568.1|NP... NP_006188           NP_001339564.1|NP_001302436.1|NP_001339562.1|NP...  1.130359e-05   \n",
       "PPP2R2A  NP_002708.1|NP_001171062.1                         NP_002708.1|NP_001171062.1                         NP_001171062        NP_002708.1|NP_001171062.1                          1.033079e-10   \n",
       "XPO7     NP_055839.3                                        NP_001349731.1|NP_001093631.1                      NP_055839           NP_055839.3|NP_001093631.1|NP_001349731.1           6.870120e-10   \n",
       "\n",
       "                                                                                                                                                                                       luad_stat  \\\n",
       "Name     Database_ID_Brca                                   Database_ID_Luad                                   Database_ID_Ovarian Database_ID_Lscc                                                \n",
       "AGPAT5   NP_060831.2                                        NP_060831.2                                        NP_060831           NP_060831.2                                         -4.072138   \n",
       "ATP6V1B2 NP_001684.2                                        NP_001684.2                                        NP_001684           NP_001684.2                                         -4.699479   \n",
       "ATP6V1E1 NP_001687.1|NP_001034456.1|NP_001034455.1          NP_001687.1|NP_001034456.1|NP_001034455.1|NP_00... NP_001687           NP_001687.1|NP_001034456.1|NP_001034455.1|NP_00...  -4.668896   \n",
       "ATP6V1H  NP_998785.1|NP_998784.1                            NP_057025.2|NP_998784.1                            NP_998785           NP_057025.2|NP_998784.1                             -4.125242   \n",
       "CCAR2    NP_066997.3                                        NP_066997.3                                        NP_066997           NP_001349997.1                                      -7.052955   \n",
       "                                                                                                                                   NP_066997.3                                         -7.052955   \n",
       "CCDC25   NP_060716.2|NP_001291461.1|NP_001291459.1|NP_00... NP_060716.2|NP_001291461.1|NP_001291458.1          NP_060716           NP_060716.2|NP_001291461.1|NP_001291458.1           -6.668111   \n",
       "CHMP7    NP_689485.1|NP_001304828.1                         NP_689485.1|NP_001350112.1|NP_001304828.1          NP_689485           NP_689485.1|NP_001304828.1|NP_001350112.1           -7.520673   \n",
       "IGLL5    NP_001171597.1|NP_001243225.1                      NP_001171597.1|NP_001243225.1                      NP_001171597        NP_001171597.1|NP_001243225.1                       -2.388433   \n",
       "KIF13B   NP_056069.2                                        NP_056069.2|NP_872312.2                            NP_056069           NP_056069.2                                         -3.799545   \n",
       "NAT1     NP_001153651.1|NP_001278891.1                      NP_000653.3|NP_001153647.1                         NP_001153651        NP_000653.3|NP_001153647.1                          -4.259882   \n",
       "PCM1     NP_006188.3|NP_001302437.1                         NP_001339561.1|NP_001339563.1|NP_001339568.1|NP... NP_006188           NP_001339564.1|NP_001302436.1|NP_001339562.1|NP...  -3.536356   \n",
       "PPP2R2A  NP_002708.1|NP_001171062.1                         NP_002708.1|NP_001171062.1                         NP_001171062        NP_002708.1|NP_001171062.1                          -6.994871   \n",
       "XPO7     NP_055839.3                                        NP_001349731.1|NP_001093631.1                      NP_055839           NP_055839.3|NP_001093631.1|NP_001349731.1           -6.530208   \n",
       "\n",
       "                                                                                                                                                                                        luad_pvalue  \\\n",
       "Name     Database_ID_Brca                                   Database_ID_Luad                                   Database_ID_Ovarian Database_ID_Lscc                                                   \n",
       "AGPAT5   NP_060831.2                                        NP_060831.2                                        NP_060831           NP_060831.2                                         8.953867e-05   \n",
       "ATP6V1B2 NP_001684.2                                        NP_001684.2                                        NP_001684           NP_001684.2                                         7.802468e-06   \n",
       "ATP6V1E1 NP_001687.1|NP_001034456.1|NP_001034455.1          NP_001687.1|NP_001034456.1|NP_001034455.1|NP_00... NP_001687           NP_001687.1|NP_001034456.1|NP_001034455.1|NP_00...  8.830839e-06   \n",
       "ATP6V1H  NP_998785.1|NP_998784.1                            NP_057025.2|NP_998784.1                            NP_998785           NP_057025.2|NP_998784.1                             7.344621e-05   \n",
       "CCAR2    NP_066997.3                                        NP_066997.3                                        NP_066997           NP_001349997.1                                      1.805337e-10   \n",
       "                                                                                                                                   NP_066997.3                                         1.805337e-10   \n",
       "CCDC25   NP_060716.2|NP_001291461.1|NP_001291459.1|NP_00... NP_060716.2|NP_001291461.1|NP_001291458.1          NP_060716           NP_060716.2|NP_001291461.1|NP_001291458.1           1.171630e-09   \n",
       "CHMP7    NP_689485.1|NP_001304828.1                         NP_689485.1|NP_001350112.1|NP_001304828.1          NP_689485           NP_689485.1|NP_001304828.1|NP_001350112.1           1.777490e-11   \n",
       "IGLL5    NP_001171597.1|NP_001243225.1                      NP_001171597.1|NP_001243225.1                      NP_001171597        NP_001171597.1|NP_001243225.1                       1.867233e-02   \n",
       "KIF13B   NP_056069.2                                        NP_056069.2|NP_872312.2                            NP_056069           NP_056069.2                                         2.411482e-04   \n",
       "NAT1     NP_001153651.1|NP_001278891.1                      NP_000653.3|NP_001153647.1                         NP_001153651        NP_000653.3|NP_001153647.1                          4.412447e-05   \n",
       "PCM1     NP_006188.3|NP_001302437.1                         NP_001339561.1|NP_001339563.1|NP_001339568.1|NP... NP_006188           NP_001339564.1|NP_001302436.1|NP_001339562.1|NP...  6.010443e-04   \n",
       "PPP2R2A  NP_002708.1|NP_001171062.1                         NP_002708.1|NP_001171062.1                         NP_001171062        NP_002708.1|NP_001171062.1                          2.399685e-10   \n",
       "XPO7     NP_055839.3                                        NP_001349731.1|NP_001093631.1                      NP_055839           NP_055839.3|NP_001093631.1|NP_001349731.1           2.268639e-09   \n",
       "\n",
       "                                                                                                                                                                                       hnscc_stat  \\\n",
       "Name     Database_ID_Brca                                   Database_ID_Luad                                   Database_ID_Ovarian Database_ID_Lscc                                                 \n",
       "AGPAT5   NP_060831.2                                        NP_060831.2                                        NP_060831           NP_060831.2                                          -4.338815   \n",
       "ATP6V1B2 NP_001684.2                                        NP_001684.2                                        NP_001684           NP_001684.2                                          -3.137785   \n",
       "ATP6V1E1 NP_001687.1|NP_001034456.1|NP_001034455.1          NP_001687.1|NP_001034456.1|NP_001034455.1|NP_00... NP_001687           NP_001687.1|NP_001034456.1|NP_001034455.1|NP_00...   -3.747649   \n",
       "ATP6V1H  NP_998785.1|NP_998784.1                            NP_057025.2|NP_998784.1                            NP_998785           NP_057025.2|NP_998784.1                              -2.680767   \n",
       "CCAR2    NP_066997.3                                        NP_066997.3                                        NP_066997           NP_001349997.1                                       -5.370802   \n",
       "                                                                                                                                   NP_066997.3                                          -5.370802   \n",
       "CCDC25   NP_060716.2|NP_001291461.1|NP_001291459.1|NP_00... NP_060716.2|NP_001291461.1|NP_001291458.1          NP_060716           NP_060716.2|NP_001291461.1|NP_001291458.1            -6.542426   \n",
       "CHMP7    NP_689485.1|NP_001304828.1                         NP_689485.1|NP_001350112.1|NP_001304828.1          NP_689485           NP_689485.1|NP_001304828.1|NP_001350112.1            -5.985496   \n",
       "IGLL5    NP_001171597.1|NP_001243225.1                      NP_001171597.1|NP_001243225.1                      NP_001171597        NP_001171597.1|NP_001243225.1                        -2.110587   \n",
       "KIF13B   NP_056069.2                                        NP_056069.2|NP_872312.2                            NP_056069           NP_056069.2                                          -5.105828   \n",
       "NAT1     NP_001153651.1|NP_001278891.1                      NP_000653.3|NP_001153647.1                         NP_001153651        NP_000653.3|NP_001153647.1                           -2.957274   \n",
       "PCM1     NP_006188.3|NP_001302437.1                         NP_001339561.1|NP_001339563.1|NP_001339568.1|NP... NP_006188           NP_001339564.1|NP_001302436.1|NP_001339562.1|NP...   -4.601360   \n",
       "PPP2R2A  NP_002708.1|NP_001171062.1                         NP_002708.1|NP_001171062.1                         NP_001171062        NP_002708.1|NP_001171062.1                           -3.773598   \n",
       "XPO7     NP_055839.3                                        NP_001349731.1|NP_001093631.1                      NP_055839           NP_055839.3|NP_001093631.1|NP_001349731.1            -4.945098   \n",
       "\n",
       "                                                                                                                                                                                       hnscc_pvalue  \\\n",
       "Name     Database_ID_Brca                                   Database_ID_Luad                                   Database_ID_Ovarian Database_ID_Lscc                                                   \n",
       "AGPAT5   NP_060831.2                                        NP_060831.2                                        NP_060831           NP_060831.2                                         3.303682e-05   \n",
       "ATP6V1B2 NP_001684.2                                        NP_001684.2                                        NP_001684           NP_001684.2                                         2.209650e-03   \n",
       "ATP6V1E1 NP_001687.1|NP_001034456.1|NP_001034455.1          NP_001687.1|NP_001034456.1|NP_001034455.1|NP_00... NP_001687           NP_001687.1|NP_001034456.1|NP_001034455.1|NP_00...  2.921984e-04   \n",
       "ATP6V1H  NP_998785.1|NP_998784.1                            NP_057025.2|NP_998784.1                            NP_998785           NP_057025.2|NP_998784.1                             8.531253e-03   \n",
       "CCAR2    NP_066997.3                                        NP_066997.3                                        NP_066997           NP_001349997.1                                      4.738092e-07   \n",
       "                                                                                                                                   NP_066997.3                                         4.738092e-07   \n",
       "CCDC25   NP_060716.2|NP_001291461.1|NP_001291459.1|NP_00... NP_060716.2|NP_001291461.1|NP_001291458.1          NP_060716           NP_060716.2|NP_001291461.1|NP_001291458.1           2.259325e-09   \n",
       "CHMP7    NP_689485.1|NP_001304828.1                         NP_689485.1|NP_001350112.1|NP_001304828.1          NP_689485           NP_689485.1|NP_001304828.1|NP_001350112.1           3.040384e-08   \n",
       "IGLL5    NP_001171597.1|NP_001243225.1                      NP_001171597.1|NP_001243225.1                      NP_001171597        NP_001171597.1|NP_001243225.1                       3.718275e-02   \n",
       "KIF13B   NP_056069.2                                        NP_056069.2|NP_872312.2                            NP_056069           NP_056069.2                                         1.477549e-06   \n",
       "NAT1     NP_001153651.1|NP_001278891.1                      NP_000653.3|NP_001153647.1                         NP_001153651        NP_000653.3|NP_001153647.1                          3.834302e-03   \n",
       "PCM1     NP_006188.3|NP_001302437.1                         NP_001339561.1|NP_001339563.1|NP_001339568.1|NP... NP_006188           NP_001339564.1|NP_001302436.1|NP_001339562.1|NP...  1.178856e-05   \n",
       "PPP2R2A  NP_002708.1|NP_001171062.1                         NP_002708.1|NP_001171062.1                         NP_001171062        NP_002708.1|NP_001171062.1                          2.666895e-04   \n",
       "XPO7     NP_055839.3                                        NP_001349731.1|NP_001093631.1                      NP_055839           NP_055839.3|NP_001093631.1|NP_001349731.1           2.901309e-06   \n",
       "\n",
       "                                                                                                                                                                                       ovarian_stat  \\\n",
       "Name     Database_ID_Brca                                   Database_ID_Luad                                   Database_ID_Ovarian Database_ID_Lscc                                                   \n",
       "AGPAT5   NP_060831.2                                        NP_060831.2                                        NP_060831           NP_060831.2                                            -3.458135   \n",
       "ATP6V1B2 NP_001684.2                                        NP_001684.2                                        NP_001684           NP_001684.2                                            -3.019894   \n",
       "ATP6V1E1 NP_001687.1|NP_001034456.1|NP_001034455.1          NP_001687.1|NP_001034456.1|NP_001034455.1|NP_00... NP_001687           NP_001687.1|NP_001034456.1|NP_001034455.1|NP_00...     -1.773587   \n",
       "ATP6V1H  NP_998785.1|NP_998784.1                            NP_057025.2|NP_998784.1                            NP_998785           NP_057025.2|NP_998784.1                                -2.174302   \n",
       "CCAR2    NP_066997.3                                        NP_066997.3                                        NP_066997           NP_001349997.1                                         -6.316145   \n",
       "                                                                                                                                   NP_066997.3                                            -6.316145   \n",
       "CCDC25   NP_060716.2|NP_001291461.1|NP_001291459.1|NP_00... NP_060716.2|NP_001291461.1|NP_001291458.1          NP_060716           NP_060716.2|NP_001291461.1|NP_001291458.1              -3.277267   \n",
       "CHMP7    NP_689485.1|NP_001304828.1                         NP_689485.1|NP_001350112.1|NP_001304828.1          NP_689485           NP_689485.1|NP_001304828.1|NP_001350112.1              -3.436989   \n",
       "IGLL5    NP_001171597.1|NP_001243225.1                      NP_001171597.1|NP_001243225.1                      NP_001171597        NP_001171597.1|NP_001243225.1                          -1.918477   \n",
       "KIF13B   NP_056069.2                                        NP_056069.2|NP_872312.2                            NP_056069           NP_056069.2                                            -2.740777   \n",
       "NAT1     NP_001153651.1|NP_001278891.1                      NP_000653.3|NP_001153647.1                         NP_001153651        NP_000653.3|NP_001153647.1                             -2.328398   \n",
       "PCM1     NP_006188.3|NP_001302437.1                         NP_001339561.1|NP_001339563.1|NP_001339568.1|NP... NP_006188           NP_001339564.1|NP_001302436.1|NP_001339562.1|NP...     -2.523944   \n",
       "PPP2R2A  NP_002708.1|NP_001171062.1                         NP_002708.1|NP_001171062.1                         NP_001171062        NP_002708.1|NP_001171062.1                             -3.775724   \n",
       "XPO7     NP_055839.3                                        NP_001349731.1|NP_001093631.1                      NP_055839           NP_055839.3|NP_001093631.1|NP_001349731.1              -5.535437   \n",
       "\n",
       "                                                                                                                                                                                       ovarian_pvalue  \\\n",
       "Name     Database_ID_Brca                                   Database_ID_Luad                                   Database_ID_Ovarian Database_ID_Lscc                                                     \n",
       "AGPAT5   NP_060831.2                                        NP_060831.2                                        NP_060831           NP_060831.2                                           8.791440e-04   \n",
       "ATP6V1B2 NP_001684.2                                        NP_001684.2                                        NP_001684           NP_001684.2                                           3.404895e-03   \n",
       "ATP6V1E1 NP_001687.1|NP_001034456.1|NP_001034455.1          NP_001687.1|NP_001034456.1|NP_001034455.1|NP_00... NP_001687           NP_001687.1|NP_001034456.1|NP_001034455.1|NP_00...    7.998516e-02   \n",
       "ATP6V1H  NP_998785.1|NP_998784.1                            NP_057025.2|NP_998784.1                            NP_998785           NP_057025.2|NP_998784.1                               3.267538e-02   \n",
       "CCAR2    NP_066997.3                                        NP_066997.3                                        NP_066997           NP_001349997.1                                        1.466656e-08   \n",
       "                                                                                                                                   NP_066997.3                                           1.466656e-08   \n",
       "CCDC25   NP_060716.2|NP_001291461.1|NP_001291459.1|NP_00... NP_060716.2|NP_001291461.1|NP_001291458.1          NP_060716           NP_060716.2|NP_001291461.1|NP_001291458.1             1.558959e-03   \n",
       "CHMP7    NP_689485.1|NP_001304828.1                         NP_689485.1|NP_001350112.1|NP_001304828.1          NP_689485           NP_689485.1|NP_001304828.1|NP_001350112.1             9.409629e-04   \n",
       "IGLL5    NP_001171597.1|NP_001243225.1                      NP_001171597.1|NP_001243225.1                      NP_001171597        NP_001171597.1|NP_001243225.1                         5.866317e-02   \n",
       "KIF13B   NP_056069.2                                        NP_056069.2|NP_872312.2                            NP_056069           NP_056069.2                                           7.576534e-03   \n",
       "NAT1     NP_001153651.1|NP_001278891.1                      NP_000653.3|NP_001153647.1                         NP_001153651        NP_000653.3|NP_001153647.1                            2.244943e-02   \n",
       "PCM1     NP_006188.3|NP_001302437.1                         NP_001339561.1|NP_001339563.1|NP_001339568.1|NP... NP_006188           NP_001339564.1|NP_001302436.1|NP_001339562.1|NP...    1.360972e-02   \n",
       "PPP2R2A  NP_002708.1|NP_001171062.1                         NP_002708.1|NP_001171062.1                         NP_001171062        NP_002708.1|NP_001171062.1                            3.074127e-04   \n",
       "XPO7     NP_055839.3                                        NP_001349731.1|NP_001093631.1                      NP_055839           NP_055839.3|NP_001093631.1|NP_001349731.1             3.917661e-07   \n",
       "\n",
       "                                                                                                                                                                                       lscc_stat  \\\n",
       "Name     Database_ID_Brca                                   Database_ID_Luad                                   Database_ID_Ovarian Database_ID_Lscc                                                \n",
       "AGPAT5   NP_060831.2                                        NP_060831.2                                        NP_060831           NP_060831.2                                         -3.086790   \n",
       "ATP6V1B2 NP_001684.2                                        NP_001684.2                                        NP_001684           NP_001684.2                                         -4.070472   \n",
       "ATP6V1E1 NP_001687.1|NP_001034456.1|NP_001034455.1          NP_001687.1|NP_001034456.1|NP_001034455.1|NP_00... NP_001687           NP_001687.1|NP_001034456.1|NP_001034455.1|NP_00...  -2.837965   \n",
       "ATP6V1H  NP_998785.1|NP_998784.1                            NP_057025.2|NP_998784.1                            NP_998785           NP_057025.2|NP_998784.1                             -2.919748   \n",
       "CCAR2    NP_066997.3                                        NP_066997.3                                        NP_066997           NP_001349997.1                                      -1.660573   \n",
       "                                                                                                                                   NP_066997.3                                         -3.468850   \n",
       "CCDC25   NP_060716.2|NP_001291461.1|NP_001291459.1|NP_00... NP_060716.2|NP_001291461.1|NP_001291458.1          NP_060716           NP_060716.2|NP_001291461.1|NP_001291458.1           -3.468662   \n",
       "CHMP7    NP_689485.1|NP_001304828.1                         NP_689485.1|NP_001350112.1|NP_001304828.1          NP_689485           NP_689485.1|NP_001304828.1|NP_001350112.1           -8.227622   \n",
       "IGLL5    NP_001171597.1|NP_001243225.1                      NP_001171597.1|NP_001243225.1                      NP_001171597        NP_001171597.1|NP_001243225.1                       -3.482865   \n",
       "KIF13B   NP_056069.2                                        NP_056069.2|NP_872312.2                            NP_056069           NP_056069.2                                         -3.487326   \n",
       "NAT1     NP_001153651.1|NP_001278891.1                      NP_000653.3|NP_001153647.1                         NP_001153651        NP_000653.3|NP_001153647.1                          -4.207056   \n",
       "PCM1     NP_006188.3|NP_001302437.1                         NP_001339561.1|NP_001339563.1|NP_001339568.1|NP... NP_006188           NP_001339564.1|NP_001302436.1|NP_001339562.1|NP...  -4.186238   \n",
       "PPP2R2A  NP_002708.1|NP_001171062.1                         NP_002708.1|NP_001171062.1                         NP_001171062        NP_002708.1|NP_001171062.1                          -6.504524   \n",
       "XPO7     NP_055839.3                                        NP_001349731.1|NP_001093631.1                      NP_055839           NP_055839.3|NP_001093631.1|NP_001349731.1           -3.565932   \n",
       "\n",
       "                                                                                                                                                                                        lscc_pvalue  \\\n",
       "Name     Database_ID_Brca                                   Database_ID_Luad                                   Database_ID_Ovarian Database_ID_Lscc                                                   \n",
       "AGPAT5   NP_060831.2                                        NP_060831.2                                        NP_060831           NP_060831.2                                         2.571128e-03   \n",
       "ATP6V1B2 NP_001684.2                                        NP_001684.2                                        NP_001684           NP_001684.2                                         8.959964e-05   \n",
       "ATP6V1E1 NP_001687.1|NP_001034456.1|NP_001034455.1          NP_001687.1|NP_001034456.1|NP_001034455.1|NP_00... NP_001687           NP_001687.1|NP_001034456.1|NP_001034455.1|NP_00...  5.424434e-03   \n",
       "ATP6V1H  NP_998785.1|NP_998784.1                            NP_057025.2|NP_998784.1                            NP_998785           NP_057025.2|NP_998784.1                             4.264680e-03   \n",
       "CCAR2    NP_066997.3                                        NP_066997.3                                        NP_066997           NP_001349997.1                                      9.969998e-02   \n",
       "                                                                                                                                   NP_066997.3                                         7.519136e-04   \n",
       "CCDC25   NP_060716.2|NP_001291461.1|NP_001291459.1|NP_00... NP_060716.2|NP_001291461.1|NP_001291458.1          NP_060716           NP_060716.2|NP_001291461.1|NP_001291458.1           7.523849e-04   \n",
       "CHMP7    NP_689485.1|NP_001304828.1                         NP_689485.1|NP_001350112.1|NP_001304828.1          NP_689485           NP_689485.1|NP_001304828.1|NP_001350112.1           4.712775e-13   \n",
       "IGLL5    NP_001171597.1|NP_001243225.1                      NP_001171597.1|NP_001243225.1                      NP_001171597        NP_001171597.1|NP_001243225.1                       7.174220e-04   \n",
       "KIF13B   NP_056069.2                                        NP_056069.2|NP_872312.2                            NP_056069           NP_056069.2                                         7.067601e-04   \n",
       "NAT1     NP_001153651.1|NP_001278891.1                      NP_000653.3|NP_001153647.1                         NP_001153651        NP_000653.3|NP_001153647.1                          5.362363e-05   \n",
       "PCM1     NP_006188.3|NP_001302437.1                         NP_001339561.1|NP_001339563.1|NP_001339568.1|NP... NP_006188           NP_001339564.1|NP_001302436.1|NP_001339562.1|NP...  5.802830e-05   \n",
       "PPP2R2A  NP_002708.1|NP_001171062.1                         NP_002708.1|NP_001171062.1                         NP_001171062        NP_002708.1|NP_001171062.1                          2.498384e-09   \n",
       "XPO7     NP_055839.3                                        NP_001349731.1|NP_001093631.1                      NP_055839           NP_055839.3|NP_001093631.1|NP_001349731.1           5.417146e-04   \n",
       "\n",
       "                                                                                                                                                                                      chromo  \\\n",
       "Name     Database_ID_Brca                                   Database_ID_Luad                                   Database_ID_Ovarian Database_ID_Lscc                                            \n",
       "AGPAT5   NP_060831.2                                        NP_060831.2                                        NP_060831           NP_060831.2                                             8   \n",
       "ATP6V1B2 NP_001684.2                                        NP_001684.2                                        NP_001684           NP_001684.2                                             8   \n",
       "ATP6V1E1 NP_001687.1|NP_001034456.1|NP_001034455.1          NP_001687.1|NP_001034456.1|NP_001034455.1|NP_00... NP_001687           NP_001687.1|NP_001034456.1|NP_001034455.1|NP_00...     22   \n",
       "ATP6V1H  NP_998785.1|NP_998784.1                            NP_057025.2|NP_998784.1                            NP_998785           NP_057025.2|NP_998784.1                                 8   \n",
       "CCAR2    NP_066997.3                                        NP_066997.3                                        NP_066997           NP_001349997.1                                          8   \n",
       "                                                                                                                                   NP_066997.3                                             8   \n",
       "CCDC25   NP_060716.2|NP_001291461.1|NP_001291459.1|NP_00... NP_060716.2|NP_001291461.1|NP_001291458.1          NP_060716           NP_060716.2|NP_001291461.1|NP_001291458.1               8   \n",
       "CHMP7    NP_689485.1|NP_001304828.1                         NP_689485.1|NP_001350112.1|NP_001304828.1          NP_689485           NP_689485.1|NP_001304828.1|NP_001350112.1               8   \n",
       "IGLL5    NP_001171597.1|NP_001243225.1                      NP_001171597.1|NP_001243225.1                      NP_001171597        NP_001171597.1|NP_001243225.1                          22   \n",
       "KIF13B   NP_056069.2                                        NP_056069.2|NP_872312.2                            NP_056069           NP_056069.2                                             8   \n",
       "NAT1     NP_001153651.1|NP_001278891.1                      NP_000653.3|NP_001153647.1                         NP_001153651        NP_000653.3|NP_001153647.1                              8   \n",
       "PCM1     NP_006188.3|NP_001302437.1                         NP_001339561.1|NP_001339563.1|NP_001339568.1|NP... NP_006188           NP_001339564.1|NP_001302436.1|NP_001339562.1|NP...      8   \n",
       "PPP2R2A  NP_002708.1|NP_001171062.1                         NP_002708.1|NP_001171062.1                         NP_001171062        NP_002708.1|NP_001171062.1                              8   \n",
       "XPO7     NP_055839.3                                        NP_001349731.1|NP_001093631.1                      NP_055839           NP_055839.3|NP_001093631.1|NP_001349731.1               8   \n",
       "\n",
       "                                                                                                                                                                                         location  \n",
       "Name     Database_ID_Brca                                   Database_ID_Luad                                   Database_ID_Ovarian Database_ID_Lscc                                                \n",
       "AGPAT5   NP_060831.2                                        NP_060831.2                                        NP_060831           NP_060831.2                                          6735072.5  \n",
       "ATP6V1B2 NP_001684.2                                        NP_001684.2                                        NP_001684           NP_001684.2                                         20212100.0  \n",
       "ATP6V1E1 NP_001687.1|NP_001034456.1|NP_001034455.1          NP_001687.1|NP_001034456.1|NP_001034455.1|NP_00... NP_001687           NP_001687.1|NP_001034456.1|NP_001034455.1|NP_00...  17610442.5  \n",
       "ATP6V1H  NP_998785.1|NP_998784.1                            NP_057025.2|NP_998784.1                            NP_998785           NP_057025.2|NP_998784.1                             53779550.5  \n",
       "CCAR2    NP_066997.3                                        NP_066997.3                                        NP_066997           NP_001349997.1                                      22613073.0  \n",
       "                                                                                                                                   NP_066997.3                                         22613073.0  \n",
       "CCDC25   NP_060716.2|NP_001291461.1|NP_001291459.1|NP_00... NP_060716.2|NP_001291461.1|NP_001291458.1          NP_060716           NP_060716.2|NP_001291461.1|NP_001291458.1           27752984.5  \n",
       "CHMP7    NP_689485.1|NP_001304828.1                         NP_689485.1|NP_001350112.1|NP_001304828.1          NP_689485           NP_689485.1|NP_001304828.1|NP_001350112.1           23252818.5  \n",
       "IGLL5    NP_001171597.1|NP_001243225.1                      NP_001171597.1|NP_001243225.1                      NP_001171597        NP_001171597.1|NP_001243225.1                       22891945.5  \n",
       "KIF13B   NP_056069.2                                        NP_056069.2|NP_872312.2                            NP_056069           NP_056069.2                                         29165201.0  \n",
       "NAT1     NP_001153651.1|NP_001278891.1                      NP_000653.3|NP_001153647.1                         NP_001153651        NP_000653.3|NP_001153647.1                          18197083.0  \n",
       "PCM1     NP_006188.3|NP_001302437.1                         NP_001339561.1|NP_001339563.1|NP_001339568.1|NP... NP_006188           NP_001339564.1|NP_001302436.1|NP_001339562.1|NP...  17976392.0  \n",
       "PPP2R2A  NP_002708.1|NP_001171062.1                         NP_002708.1|NP_001171062.1                         NP_001171062        NP_002708.1|NP_001171062.1                          26332094.0  \n",
       "XPO7     NP_055839.3                                        NP_001349731.1|NP_001093631.1                      NP_055839           NP_055839.3|NP_001093631.1|NP_001349731.1           21963123.5  "
      ]
     },
     "execution_count": 61,
     "metadata": {},
     "output_type": "execute_result"
    }
   ],
   "source": [
    "common_low_pvalues"
   ]
  },
  {
   "cell_type": "code",
   "execution_count": 63,
   "metadata": {},
   "outputs": [],
   "source": [
    "common_low_pvalues_cleaned = common_low_pvalues.drop(columns=['chromo', 'location'])"
   ]
  },
  {
   "cell_type": "code",
   "execution_count": 65,
   "metadata": {},
   "outputs": [],
   "source": [
    "common_low_pvalues_cleaned.index = common_low_pvalues_cleaned.index.droplevel([1,2,3,4])"
   ]
  },
  {
   "cell_type": "code",
   "execution_count": 72,
   "metadata": {},
   "outputs": [
    {
     "data": {
      "text/html": [
       "<div>\n",
       "<style scoped>\n",
       "    .dataframe tbody tr th:only-of-type {\n",
       "        vertical-align: middle;\n",
       "    }\n",
       "\n",
       "    .dataframe tbody tr th {\n",
       "        vertical-align: top;\n",
       "    }\n",
       "\n",
       "    .dataframe thead th {\n",
       "        text-align: right;\n",
       "    }\n",
       "</style>\n",
       "<table border=\"1\" class=\"dataframe\">\n",
       "  <thead>\n",
       "    <tr style=\"text-align: right;\">\n",
       "      <th></th>\n",
       "      <th>colon_stat</th>\n",
       "      <th>colon_pvalue</th>\n",
       "      <th>brca_stat</th>\n",
       "      <th>brca_pvalue</th>\n",
       "      <th>luad_stat</th>\n",
       "      <th>luad_pvalue</th>\n",
       "      <th>hnscc_stat</th>\n",
       "      <th>hnscc_pvalue</th>\n",
       "      <th>ovarian_stat</th>\n",
       "      <th>ovarian_pvalue</th>\n",
       "      <th>lscc_stat</th>\n",
       "      <th>lscc_pvalue</th>\n",
       "    </tr>\n",
       "    <tr>\n",
       "      <th>Name</th>\n",
       "      <th></th>\n",
       "      <th></th>\n",
       "      <th></th>\n",
       "      <th></th>\n",
       "      <th></th>\n",
       "      <th></th>\n",
       "      <th></th>\n",
       "      <th></th>\n",
       "      <th></th>\n",
       "      <th></th>\n",
       "      <th></th>\n",
       "      <th></th>\n",
       "    </tr>\n",
       "  </thead>\n",
       "  <tbody>\n",
       "    <tr>\n",
       "      <th>AGPAT5</th>\n",
       "      <td>-3.74061</td>\n",
       "      <td>0.00032</td>\n",
       "      <td>-3.60759</td>\n",
       "      <td>0.00045</td>\n",
       "      <td>-4.07214</td>\n",
       "      <td>0.00009</td>\n",
       "      <td>-4.33881</td>\n",
       "      <td>0.00003</td>\n",
       "      <td>-3.45813</td>\n",
       "      <td>0.00088</td>\n",
       "      <td>-3.08679</td>\n",
       "      <td>0.00257</td>\n",
       "    </tr>\n",
       "    <tr>\n",
       "      <th>ATP6V1B2</th>\n",
       "      <td>-7.17585</td>\n",
       "      <td>0.00000</td>\n",
       "      <td>-4.65599</td>\n",
       "      <td>0.00001</td>\n",
       "      <td>-4.69948</td>\n",
       "      <td>0.00001</td>\n",
       "      <td>-3.13779</td>\n",
       "      <td>0.00221</td>\n",
       "      <td>-3.01989</td>\n",
       "      <td>0.00340</td>\n",
       "      <td>-4.07047</td>\n",
       "      <td>0.00009</td>\n",
       "    </tr>\n",
       "    <tr>\n",
       "      <th>ATP6V1E1</th>\n",
       "      <td>-5.23840</td>\n",
       "      <td>0.00000</td>\n",
       "      <td>-3.33616</td>\n",
       "      <td>0.00113</td>\n",
       "      <td>-4.66890</td>\n",
       "      <td>0.00001</td>\n",
       "      <td>-3.74765</td>\n",
       "      <td>0.00029</td>\n",
       "      <td>-1.77359</td>\n",
       "      <td>0.07999</td>\n",
       "      <td>-2.83796</td>\n",
       "      <td>0.00542</td>\n",
       "    </tr>\n",
       "    <tr>\n",
       "      <th>ATP6V1H</th>\n",
       "      <td>-5.25687</td>\n",
       "      <td>0.00000</td>\n",
       "      <td>-3.81377</td>\n",
       "      <td>0.00022</td>\n",
       "      <td>-4.12524</td>\n",
       "      <td>0.00007</td>\n",
       "      <td>-2.68077</td>\n",
       "      <td>0.00853</td>\n",
       "      <td>-2.17430</td>\n",
       "      <td>0.03268</td>\n",
       "      <td>-2.91975</td>\n",
       "      <td>0.00426</td>\n",
       "    </tr>\n",
       "    <tr>\n",
       "      <th>CCAR2</th>\n",
       "      <td>-5.09877</td>\n",
       "      <td>0.00000</td>\n",
       "      <td>-8.55643</td>\n",
       "      <td>0.00000</td>\n",
       "      <td>-7.05296</td>\n",
       "      <td>0.00000</td>\n",
       "      <td>-5.37080</td>\n",
       "      <td>0.00000</td>\n",
       "      <td>-6.31614</td>\n",
       "      <td>0.00000</td>\n",
       "      <td>-1.66057</td>\n",
       "      <td>0.09970</td>\n",
       "    </tr>\n",
       "    <tr>\n",
       "      <th>CCAR2</th>\n",
       "      <td>-5.09877</td>\n",
       "      <td>0.00000</td>\n",
       "      <td>-8.55643</td>\n",
       "      <td>0.00000</td>\n",
       "      <td>-7.05296</td>\n",
       "      <td>0.00000</td>\n",
       "      <td>-5.37080</td>\n",
       "      <td>0.00000</td>\n",
       "      <td>-6.31614</td>\n",
       "      <td>0.00000</td>\n",
       "      <td>-3.46885</td>\n",
       "      <td>0.00075</td>\n",
       "    </tr>\n",
       "    <tr>\n",
       "      <th>CCDC25</th>\n",
       "      <td>-3.28601</td>\n",
       "      <td>0.00143</td>\n",
       "      <td>-7.60148</td>\n",
       "      <td>0.00000</td>\n",
       "      <td>-6.66811</td>\n",
       "      <td>0.00000</td>\n",
       "      <td>-6.54243</td>\n",
       "      <td>0.00000</td>\n",
       "      <td>-3.27727</td>\n",
       "      <td>0.00156</td>\n",
       "      <td>-3.46866</td>\n",
       "      <td>0.00075</td>\n",
       "    </tr>\n",
       "    <tr>\n",
       "      <th>CHMP7</th>\n",
       "      <td>-3.74183</td>\n",
       "      <td>0.00032</td>\n",
       "      <td>-7.40033</td>\n",
       "      <td>0.00000</td>\n",
       "      <td>-7.52067</td>\n",
       "      <td>0.00000</td>\n",
       "      <td>-5.98550</td>\n",
       "      <td>0.00000</td>\n",
       "      <td>-3.43699</td>\n",
       "      <td>0.00094</td>\n",
       "      <td>-8.22762</td>\n",
       "      <td>0.00000</td>\n",
       "    </tr>\n",
       "    <tr>\n",
       "      <th>IGLL5</th>\n",
       "      <td>-2.25278</td>\n",
       "      <td>0.02662</td>\n",
       "      <td>1.82443</td>\n",
       "      <td>0.07057</td>\n",
       "      <td>-2.38843</td>\n",
       "      <td>0.01867</td>\n",
       "      <td>-2.11059</td>\n",
       "      <td>0.03718</td>\n",
       "      <td>-1.91848</td>\n",
       "      <td>0.05866</td>\n",
       "      <td>-3.48287</td>\n",
       "      <td>0.00072</td>\n",
       "    </tr>\n",
       "    <tr>\n",
       "      <th>KIF13B</th>\n",
       "      <td>-3.58570</td>\n",
       "      <td>0.00054</td>\n",
       "      <td>-3.57308</td>\n",
       "      <td>0.00051</td>\n",
       "      <td>-3.79955</td>\n",
       "      <td>0.00024</td>\n",
       "      <td>-5.10583</td>\n",
       "      <td>0.00000</td>\n",
       "      <td>-2.74078</td>\n",
       "      <td>0.00758</td>\n",
       "      <td>-3.48733</td>\n",
       "      <td>0.00071</td>\n",
       "    </tr>\n",
       "    <tr>\n",
       "      <th>NAT1</th>\n",
       "      <td>-4.12906</td>\n",
       "      <td>0.00008</td>\n",
       "      <td>-2.40571</td>\n",
       "      <td>0.01767</td>\n",
       "      <td>-4.25988</td>\n",
       "      <td>0.00004</td>\n",
       "      <td>-2.95727</td>\n",
       "      <td>0.00383</td>\n",
       "      <td>-2.32840</td>\n",
       "      <td>0.02245</td>\n",
       "      <td>-4.20706</td>\n",
       "      <td>0.00005</td>\n",
       "    </tr>\n",
       "    <tr>\n",
       "      <th>PCM1</th>\n",
       "      <td>-6.85340</td>\n",
       "      <td>0.00000</td>\n",
       "      <td>-4.58317</td>\n",
       "      <td>0.00001</td>\n",
       "      <td>-3.53636</td>\n",
       "      <td>0.00060</td>\n",
       "      <td>-4.60136</td>\n",
       "      <td>0.00001</td>\n",
       "      <td>-2.52394</td>\n",
       "      <td>0.01361</td>\n",
       "      <td>-4.18624</td>\n",
       "      <td>0.00006</td>\n",
       "    </tr>\n",
       "    <tr>\n",
       "      <th>PPP2R2A</th>\n",
       "      <td>-8.18637</td>\n",
       "      <td>0.00000</td>\n",
       "      <td>-7.08411</td>\n",
       "      <td>0.00000</td>\n",
       "      <td>-6.99487</td>\n",
       "      <td>0.00000</td>\n",
       "      <td>-3.77360</td>\n",
       "      <td>0.00027</td>\n",
       "      <td>-3.77572</td>\n",
       "      <td>0.00031</td>\n",
       "      <td>-6.50452</td>\n",
       "      <td>0.00000</td>\n",
       "    </tr>\n",
       "    <tr>\n",
       "      <th>XPO7</th>\n",
       "      <td>-8.05247</td>\n",
       "      <td>0.00000</td>\n",
       "      <td>-6.70794</td>\n",
       "      <td>0.00000</td>\n",
       "      <td>-6.53021</td>\n",
       "      <td>0.00000</td>\n",
       "      <td>-4.94510</td>\n",
       "      <td>0.00000</td>\n",
       "      <td>-5.53544</td>\n",
       "      <td>0.00000</td>\n",
       "      <td>-3.56593</td>\n",
       "      <td>0.00054</td>\n",
       "    </tr>\n",
       "  </tbody>\n",
       "</table>\n",
       "</div>"
      ],
      "text/plain": [
       "          colon_stat  colon_pvalue  brca_stat  brca_pvalue  luad_stat  \\\n",
       "Name                                                                    \n",
       "AGPAT5      -3.74061       0.00032   -3.60759      0.00045   -4.07214   \n",
       "ATP6V1B2    -7.17585       0.00000   -4.65599      0.00001   -4.69948   \n",
       "ATP6V1E1    -5.23840       0.00000   -3.33616      0.00113   -4.66890   \n",
       "ATP6V1H     -5.25687       0.00000   -3.81377      0.00022   -4.12524   \n",
       "CCAR2       -5.09877       0.00000   -8.55643      0.00000   -7.05296   \n",
       "CCAR2       -5.09877       0.00000   -8.55643      0.00000   -7.05296   \n",
       "CCDC25      -3.28601       0.00143   -7.60148      0.00000   -6.66811   \n",
       "CHMP7       -3.74183       0.00032   -7.40033      0.00000   -7.52067   \n",
       "IGLL5       -2.25278       0.02662    1.82443      0.07057   -2.38843   \n",
       "KIF13B      -3.58570       0.00054   -3.57308      0.00051   -3.79955   \n",
       "NAT1        -4.12906       0.00008   -2.40571      0.01767   -4.25988   \n",
       "PCM1        -6.85340       0.00000   -4.58317      0.00001   -3.53636   \n",
       "PPP2R2A     -8.18637       0.00000   -7.08411      0.00000   -6.99487   \n",
       "XPO7        -8.05247       0.00000   -6.70794      0.00000   -6.53021   \n",
       "\n",
       "          luad_pvalue  hnscc_stat  hnscc_pvalue  ovarian_stat  ovarian_pvalue  \\\n",
       "Name                                                                            \n",
       "AGPAT5        0.00009    -4.33881       0.00003      -3.45813         0.00088   \n",
       "ATP6V1B2      0.00001    -3.13779       0.00221      -3.01989         0.00340   \n",
       "ATP6V1E1      0.00001    -3.74765       0.00029      -1.77359         0.07999   \n",
       "ATP6V1H       0.00007    -2.68077       0.00853      -2.17430         0.03268   \n",
       "CCAR2         0.00000    -5.37080       0.00000      -6.31614         0.00000   \n",
       "CCAR2         0.00000    -5.37080       0.00000      -6.31614         0.00000   \n",
       "CCDC25        0.00000    -6.54243       0.00000      -3.27727         0.00156   \n",
       "CHMP7         0.00000    -5.98550       0.00000      -3.43699         0.00094   \n",
       "IGLL5         0.01867    -2.11059       0.03718      -1.91848         0.05866   \n",
       "KIF13B        0.00024    -5.10583       0.00000      -2.74078         0.00758   \n",
       "NAT1          0.00004    -2.95727       0.00383      -2.32840         0.02245   \n",
       "PCM1          0.00060    -4.60136       0.00001      -2.52394         0.01361   \n",
       "PPP2R2A       0.00000    -3.77360       0.00027      -3.77572         0.00031   \n",
       "XPO7          0.00000    -4.94510       0.00000      -5.53544         0.00000   \n",
       "\n",
       "          lscc_stat  lscc_pvalue  \n",
       "Name                              \n",
       "AGPAT5     -3.08679      0.00257  \n",
       "ATP6V1B2   -4.07047      0.00009  \n",
       "ATP6V1E1   -2.83796      0.00542  \n",
       "ATP6V1H    -2.91975      0.00426  \n",
       "CCAR2      -1.66057      0.09970  \n",
       "CCAR2      -3.46885      0.00075  \n",
       "CCDC25     -3.46866      0.00075  \n",
       "CHMP7      -8.22762      0.00000  \n",
       "IGLL5      -3.48287      0.00072  \n",
       "KIF13B     -3.48733      0.00071  \n",
       "NAT1       -4.20706      0.00005  \n",
       "PCM1       -4.18624      0.00006  \n",
       "PPP2R2A    -6.50452      0.00000  \n",
       "XPO7       -3.56593      0.00054  "
      ]
     },
     "execution_count": 72,
     "metadata": {},
     "output_type": "execute_result"
    }
   ],
   "source": []
  },
  {
   "cell_type": "code",
   "execution_count": 67,
   "metadata": {},
   "outputs": [],
   "source": [
    "import pandas as pd\n",
    "import numpy as np\n",
    "import matplotlib.pyplot as plt\n",
    "import six"
   ]
  },
  {
   "cell_type": "code",
   "execution_count": 82,
   "metadata": {},
   "outputs": [
    {
     "name": "stdout",
     "output_type": "stream",
     "text": [
      "Collecting scinot\n",
      "  Downloading scinot-0.0.11-py3-none-any.whl (4.9 kB)\n",
      "Requirement already satisfied: colorama in c:\\users\\chels\\anaconda3\\lib\\site-packages (from scinot) (0.4.3)\n",
      "Installing collected packages: scinot\n",
      "Successfully installed scinot-0.0.11\n"
     ]
    }
   ],
   "source": [
    "!pip install scinot"
   ]
  },
  {
   "cell_type": "code",
   "execution_count": 84,
   "metadata": {},
   "outputs": [],
   "source": [
    "import scinot"
   ]
  },
  {
   "cell_type": "code",
   "execution_count": 90,
   "metadata": {},
   "outputs": [],
   "source": [
    "scinot.start(sigfigs=1, thresh=2)"
   ]
  },
  {
   "cell_type": "code",
   "execution_count": 96,
   "metadata": {},
   "outputs": [],
   "source": [
    "common_low_pvalues_cleaned = common_low_pvalues_cleaned.applymap(lambda x: scinot.format(x, 3) )"
   ]
  },
  {
   "cell_type": "code",
   "execution_count": 104,
   "metadata": {},
   "outputs": [],
   "source": [
    "common_low_pvalues_cleaned.reset_index(inplace=True)"
   ]
  },
  {
   "cell_type": "code",
   "execution_count": 105,
   "metadata": {},
   "outputs": [],
   "source": [
    "\n",
    "def render_mpl_table(data, col_width=2.2, row_height=0.625, font_size=14,\n",
    "                     header_color='#40466e', row_colors=['#f1f1f2', 'w'], edge_color='w',\n",
    "                     bbox=[0, 0, 1, 1], header_columns=0,\n",
    "                     ax=None, **kwargs):\n",
    "    if ax is None:\n",
    "        size = (np.array(data.shape[::-1]) + np.array([0, 1])) * np.array([col_width, row_height])\n",
    "        fig, ax = plt.subplots(figsize=size)\n",
    "        ax.axis('off')\n",
    "\n",
    "    mpl_table = ax.table(cellText=data.values, bbox=bbox, colLabels=data.columns, **kwargs)\n",
    "\n",
    "    mpl_table.auto_set_font_size(False)\n",
    "    mpl_table.set_fontsize(font_size)\n",
    "\n",
    "    for k, cell in  six.iteritems(mpl_table._cells):\n",
    "        cell.set_edgecolor(edge_color)\n",
    "        if k[0] == 0 or k[1] < header_columns:\n",
    "            cell.set_text_props(weight='bold', color='w')\n",
    "            cell.set_facecolor(header_color)\n",
    "        else:\n",
    "            cell.set_facecolor(row_colors[k[0]%len(row_colors) ])\n",
    "    return ax"
   ]
  },
  {
   "cell_type": "code",
   "execution_count": 106,
   "metadata": {},
   "outputs": [
    {
     "data": {
      "text/plain": [
       "<matplotlib.axes._subplots.AxesSubplot at 0x18debf0d608>"
      ]
     },
     "execution_count": 106,
     "metadata": {},
     "output_type": "execute_result"
    },
    {
     "data": {
      "image/png": "[encoded data removed]",
      "text/plain": [
       "<Figure size 2059.2x675 with 1 Axes>"
      ]
     },
     "metadata": {
      "needs_background": "light"
     },
     "output_type": "display_data"
    }
   ],
   "source": [
    "render_mpl_table(common_low_pvalues_cleaned)"
   ]
  }
 ],
 "metadata": {
  "kernelspec": {
   "display_name": "Python 3",
   "language": "python",
   "name": "python3"
  },
  "language_info": {
   "codemirror_mode": {
    "name": "ipython",
    "version": 3
   },
   "file_extension": ".py",
   "mimetype": "text/x-python",
   "name": "python",
   "nbconvert_exporter": "python",
   "pygments_lexer": "ipython3",
   "version": "3.7.6"
  }
 },
 "nbformat": 4,
 "nbformat_minor": 4
}
