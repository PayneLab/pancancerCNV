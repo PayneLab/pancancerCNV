{
 "cells": [
  {
   "cell_type": "markdown",
   "metadata": {},
   "source": [
    "# Crossover Location"
   ]
  },
  {
   "cell_type": "markdown",
   "metadata": {},
   "source": [
    "## Install necessary packages"
   ]
  },
  {
   "cell_type": "code",
   "execution_count": 1,
   "metadata": {},
   "outputs": [
    {
     "name": "stdout",
     "output_type": "stream",
     "text": [
      "Requirement already satisfied: cptac in c:\\users\\chels\\anaconda3\\lib\\site-packages (0.8.1)\n",
      "Requirement already satisfied: beautifulsoup4>=4.7.1 in c:\\users\\chels\\anaconda3\\lib\\site-packages (from cptac) (4.8.2)\n",
      "Requirement already satisfied: urllib3>=1.24.2 in c:\\users\\chels\\anaconda3\\lib\\site-packages (from cptac) (1.25.8)\n",
      "Requirement already satisfied: scipy>=1.2.1 in c:\\users\\chels\\anaconda3\\lib\\site-packages (from cptac) (1.4.1)\n",
      "Requirement already satisfied: xlrd>=1.2.0 in c:\\users\\chels\\anaconda3\\lib\\site-packages (from cptac) (1.2.0)\n",
      "Requirement already satisfied: pandas>=0.25.1 in c:\\users\\chels\\anaconda3\\lib\\site-packages (from cptac) (1.0.1)\n",
      "Requirement already satisfied: packaging>=19.2 in c:\\users\\chels\\anaconda3\\lib\\site-packages (from cptac) (20.1)\n",
      "Requirement already satisfied: requests>=2.21.0 in c:\\users\\chels\\anaconda3\\lib\\site-packages (from cptac) (2.22.0)\n",
      "Requirement already satisfied: statsmodels>=0.10.0 in c:\\users\\chels\\anaconda3\\lib\\site-packages (from cptac) (0.11.0)\n",
      "Requirement already satisfied: numpy>=1.16.3 in c:\\users\\chels\\anaconda3\\lib\\site-packages (from cptac) (1.18.1)\n",
      "Requirement already satisfied: soupsieve>=1.2 in c:\\users\\chels\\anaconda3\\lib\\site-packages (from beautifulsoup4>=4.7.1->cptac) (1.9.5)\n",
      "Requirement already satisfied: python-dateutil>=2.6.1 in c:\\users\\chels\\anaconda3\\lib\\site-packages (from pandas>=0.25.1->cptac) (2.8.1)\n",
      "Requirement already satisfied: pytz>=2017.2 in c:\\users\\chels\\anaconda3\\lib\\site-packages (from pandas>=0.25.1->cptac) (2019.3)\n",
      "Requirement already satisfied: pyparsing>=2.0.2 in c:\\users\\chels\\anaconda3\\lib\\site-packages (from packaging>=19.2->cptac) (2.4.6)\n",
      "Requirement already satisfied: six in c:\\users\\chels\\anaconda3\\lib\\site-packages (from packaging>=19.2->cptac) (1.14.0)\n",
      "Requirement already satisfied: idna<2.9,>=2.5 in c:\\users\\chels\\anaconda3\\lib\\site-packages (from requests>=2.21.0->cptac) (2.8)\n",
      "Requirement already satisfied: chardet<3.1.0,>=3.0.2 in c:\\users\\chels\\anaconda3\\lib\\site-packages (from requests>=2.21.0->cptac) (3.0.4)\n",
      "Requirement already satisfied: certifi>=2017.4.17 in c:\\users\\chels\\anaconda3\\lib\\site-packages (from requests>=2.21.0->cptac) (2019.11.28)\n",
      "Requirement already satisfied: patsy>=0.5 in c:\\users\\chels\\anaconda3\\lib\\site-packages (from statsmodels>=0.10.0->cptac) (0.5.1)\n",
      "Requirement already up-to-date: cptac in c:\\users\\chels\\anaconda3\\lib\\site-packages (0.8.1)\n",
      "Requirement already satisfied, skipping upgrade: pandas>=0.25.1 in c:\\users\\chels\\anaconda3\\lib\\site-packages (from cptac) (1.0.1)\n",
      "Requirement already satisfied, skipping upgrade: requests>=2.21.0 in c:\\users\\chels\\anaconda3\\lib\\site-packages (from cptac) (2.22.0)\n",
      "Requirement already satisfied, skipping upgrade: packaging>=19.2 in c:\\users\\chels\\anaconda3\\lib\\site-packages (from cptac) (20.1)\n",
      "Requirement already satisfied, skipping upgrade: numpy>=1.16.3 in c:\\users\\chels\\anaconda3\\lib\\site-packages (from cptac) (1.18.1)\n",
      "Requirement already satisfied, skipping upgrade: beautifulsoup4>=4.7.1 in c:\\users\\chels\\anaconda3\\lib\\site-packages (from cptac) (4.8.2)\n",
      "Requirement already satisfied, skipping upgrade: urllib3>=1.24.2 in c:\\users\\chels\\anaconda3\\lib\\site-packages (from cptac) (1.25.8)\n",
      "Requirement already satisfied, skipping upgrade: scipy>=1.2.1 in c:\\users\\chels\\anaconda3\\lib\\site-packages (from cptac) (1.4.1)\n",
      "Requirement already satisfied, skipping upgrade: statsmodels>=0.10.0 in c:\\users\\chels\\anaconda3\\lib\\site-packages (from cptac) (0.11.0)\n",
      "Requirement already satisfied, skipping upgrade: xlrd>=1.2.0 in c:\\users\\chels\\anaconda3\\lib\\site-packages (from cptac) (1.2.0)\n",
      "Requirement already satisfied, skipping upgrade: python-dateutil>=2.6.1 in c:\\users\\chels\\anaconda3\\lib\\site-packages (from pandas>=0.25.1->cptac) (2.8.1)\n",
      "Requirement already satisfied, skipping upgrade: pytz>=2017.2 in c:\\users\\chels\\anaconda3\\lib\\site-packages (from pandas>=0.25.1->cptac) (2019.3)\n",
      "Requirement already satisfied, skipping upgrade: certifi>=2017.4.17 in c:\\users\\chels\\anaconda3\\lib\\site-packages (from requests>=2.21.0->cptac) (2019.11.28)\n",
      "Requirement already satisfied, skipping upgrade: chardet<3.1.0,>=3.0.2 in c:\\users\\chels\\anaconda3\\lib\\site-packages (from requests>=2.21.0->cptac) (3.0.4)\n",
      "Requirement already satisfied, skipping upgrade: idna<2.9,>=2.5 in c:\\users\\chels\\anaconda3\\lib\\site-packages (from requests>=2.21.0->cptac) (2.8)\n",
      "Requirement already satisfied, skipping upgrade: pyparsing>=2.0.2 in c:\\users\\chels\\anaconda3\\lib\\site-packages (from packaging>=19.2->cptac) (2.4.6)\n",
      "Requirement already satisfied, skipping upgrade: six in c:\\users\\chels\\anaconda3\\lib\\site-packages (from packaging>=19.2->cptac) (1.14.0)\n",
      "Requirement already satisfied, skipping upgrade: soupsieve>=1.2 in c:\\users\\chels\\anaconda3\\lib\\site-packages (from beautifulsoup4>=4.7.1->cptac) (1.9.5)\n",
      "Requirement already satisfied, skipping upgrade: patsy>=0.5 in c:\\users\\chels\\anaconda3\\lib\\site-packages (from statsmodels>=0.10.0->cptac) (0.5.1)\n"
     ]
    }
   ],
   "source": [
    "!pip install cptac\n",
    "!pip install --upgrade cptac"
   ]
  },
  {
   "cell_type": "code",
   "execution_count": 2,
   "metadata": {},
   "outputs": [],
   "source": [
    "import pandas as pd\n",
    "import matplotlib.pyplot as plt\n",
    "import seaborn as sns\n",
    "import numpy as np\n",
    "import cptac\n",
    "import pyensembl\n",
    "from scipy import stats"
   ]
  },
  {
   "cell_type": "markdown",
   "metadata": {},
   "source": [
    "## Get the Data"
   ]
  },
  {
   "cell_type": "code",
   "execution_count": 3,
   "metadata": {},
   "outputs": [
    {
     "name": "stdout",
     "output_type": "stream",
     "text": [
      "Checking that hnscc index is up-to-date...\r"
     ]
    },
    {
     "name": "stderr",
     "output_type": "stream",
     "text": [
      "cptac warning: The LUAD dataset is under publication embargo until July 01, 2020. CPTAC is a community resource project and data are made available rapidly after generation for community research use. The embargo allows exploring and utilizing the data, but analysis may not be published until after the embargo date. Please see https://proteomics.cancer.gov/data-portal/about/data-use-agreement or enter cptac.embargo() to open the webpage for more details. (C:\\Users\\chels\\anaconda3\\lib\\site-packages\\ipykernel_launcher.py, line 1)\n"
     ]
    },
    {
     "name": "stdout",
     "output_type": "stream",
     "text": [
      "Checking that ovarian index is up-to-date...\r"
     ]
    },
    {
     "name": "stderr",
     "output_type": "stream",
     "text": [
      "cptac warning: The HNSCC data is currently strictly reserved for CPTAC investigators. Otherwise, you are not authorized to access these data. Additionally, even after these data become publicly available, they will be subject to a publication embargo (see https://proteomics.cancer.gov/data-portal/about/data-use-agreement or enter cptac.embargo() to open the webpage for more details). (C:\\Users\\chels\\anaconda3\\lib\\site-packages\\ipykernel_launcher.py, line 2)\n"
     ]
    },
    {
     "name": "stdout",
     "output_type": "stream",
     "text": [
      "Loading ovarian v0.0.1........              \r"
     ]
    },
    {
     "name": "stderr",
     "output_type": "stream",
     "text": [
      "INFO:numexpr.utils:NumExpr defaulting to 8 threads.\n"
     ]
    },
    {
     "name": "stdout",
     "output_type": "stream",
     "text": [
      "version 3scc v3.2.......                  \n",
      "                            \r"
     ]
    },
    {
     "name": "stderr",
     "output_type": "stream",
     "text": [
      "cptac warning: The LSCC data is currently strictly reserved for CPTAC investigators. Otherwise, you are not authorized to access these data. Additionally, even after these data become publicly available, they will be subject to a publication embargo (see https://proteomics.cancer.gov/data-portal/about/data-use-agreement or enter cptac.embargo() to open the webpage for more details). (C:\\Users\\chels\\anaconda3\\lib\\site-packages\\ipykernel_launcher.py, line 6)\n"
     ]
    }
   ],
   "source": [
    "luad = cptac.Luad()\n",
    "hnscc = cptac.Hnscc()\n",
    "ovarian = cptac.Ovarian()\n",
    "colon = cptac.Colon()\n",
    "brca = cptac.Brca()\n",
    "lscc = cptac.Lscc()"
   ]
  },
  {
   "cell_type": "code",
   "execution_count": 4,
   "metadata": {},
   "outputs": [],
   "source": [
    "luad_cnv = luad.get_CNV()\n",
    "hnscc_cnv = hnscc.get_CNV()\n",
    "ovarian_cnv =  ovarian.get_CNV()\n",
    "colon_cnv = colon.get_CNV()\n",
    "brca_cnv = brca.get_CNV()\n",
    "lscc_cnv = lscc.get_CNV()"
   ]
  },
  {
   "cell_type": "code",
   "execution_count": 5,
   "metadata": {},
   "outputs": [],
   "source": [
    "ensembl = pyensembl.EnsemblRelease()"
   ]
  },
  {
   "cell_type": "markdown",
   "metadata": {},
   "source": [
    "## Create Counts Table"
   ]
  },
  {
   "cell_type": "code",
   "execution_count": 6,
   "metadata": {},
   "outputs": [],
   "source": [
    "def separate(hiCut, lowCut, data):\n",
    "  \"\"\"\n",
    "  Counts the Number of patients with high and low value for each gene.\n",
    "  \"\"\"\n",
    "  sepDict = dict()\n",
    "  for column in data:\n",
    "    numHi = 0\n",
    "    numLow = 0\n",
    "    numNeu = 0\n",
    "    for i in data[column]:\n",
    "        if i > hiCut:\n",
    "            numHi += 1\n",
    "        elif i < lowCut:\n",
    "            numLow += 1\n",
    "        else:\n",
    "            numNeu += 1 \n",
    "    sepDict[column] = [numHi, numNeu, numLow]\n",
    "  return sepDict"
   ]
  },
  {
   "cell_type": "code",
   "execution_count": 7,
   "metadata": {},
   "outputs": [],
   "source": [
    "def get_counts_and_average(data):\n",
    "  \"\"\"\n",
    "  Takes a CNV dataframe and generates a dataframe with the counts of high, low and neutral values\n",
    "  \"\"\"\n",
    "  df = pd.DataFrame(data = separate(.3,-.2,data), index = [\"amplifications\", \"neutral\", \"deletions\"])\n",
    "  df = df.append(pd.DataFrame(data.mean(0), columns=['average']).transpose(), sort=True)\n",
    "  return df.transpose()"
   ]
  },
  {
   "cell_type": "code",
   "execution_count": 40,
   "metadata": {},
   "outputs": [],
   "source": [
    "def add_chromo_and_loc(my_dict):\n",
    "    chromo = list()\n",
    "    locations = list()\n",
    "    start = list()\n",
    "    end = list()\n",
    "    not_found = list()\n",
    "    count = 0\n",
    "    for gene in list(my_dict.index.get_level_values(0)):\n",
    "        count += 1\n",
    "        try:\n",
    "            e_gene = ensembl.genes_by_name(gene)\n",
    "            chromo.append(e_gene[0].contig)\n",
    "            start.append(e_gene[0].start)\n",
    "            end.append(e_gene[0].end)\n",
    "            locations.append((e_gene[0].start + e_gene[0].end)/2)\n",
    "        except:\n",
    "            not_found.append(gene)\n",
    "            chromo.append(None)\n",
    "            locations.append(None)\n",
    "            start.append(None)\n",
    "            end.append(None)\n",
    "    my_dict['chromo'] = chromo\n",
    "    my_dict['location'] = locations\n",
    "    my_dict['start'] = start\n",
    "    my_dict['end'] = end\n",
    "#     my_dict['cancer'] = cancer\n",
    "#     print(cancer, len(not_found)/count)\n",
    "    return my_dict"
   ]
  },
  {
   "cell_type": "code",
   "execution_count": 38,
   "metadata": {},
   "outputs": [],
   "source": [
    "luad_counts = get_counts_and_average(luad_cnv)\n",
    "hnscc_counts = get_counts_and_average(hnscc_cnv)\n",
    "ovarian_counts = get_counts_and_average(ovarian_cnv)\n",
    "colon_counts = get_counts_and_average(colon_cnv)\n",
    "brca_counts = get_counts_and_average(brca_cnv)\n",
    "lscc_counts = get_counts_and_average(lscc_cnv)"
   ]
  },
  {
   "cell_type": "code",
   "execution_count": 41,
   "metadata": {},
   "outputs": [],
   "source": [
    "luad_counts = add_chromo_and_loc(luad_counts)\n",
    "hnscc_counts = add_chromo_and_loc(hnscc_counts,)\n",
    "ovarian_counts = add_chromo_and_loc(ovarian_counts)\n",
    "colon_counts = add_chromo_and_loc(colon_counts)\n",
    "brca_counts = add_chromo_and_loc(brca_counts)\n",
    "lscc_counts = add_chromo_and_loc(lscc_counts)"
   ]
  },
  {
   "cell_type": "code",
   "execution_count": 42,
   "metadata": {},
   "outputs": [],
   "source": [
    "luad_counts['cancer'] = 'LUAD'\n",
    "hnscc_counts['cancer'] = 'HNSCC'\n",
    "ovarian_counts['cancer'] = 'OVARIAN'\n",
    "colon_counts['cancer'] = 'COLON'\n",
    "brca_counts['cancer'] = 'BRCA'\n",
    "lscc_counts['cancer'] = 'LSCC'"
   ]
  },
  {
   "cell_type": "markdown",
   "metadata": {},
   "source": [
    "## Subset Chromosome 8"
   ]
  },
  {
   "cell_type": "code",
   "execution_count": 43,
   "metadata": {},
   "outputs": [],
   "source": [
    "chromosome_num = '8'"
   ]
  },
  {
   "cell_type": "code",
   "execution_count": 44,
   "metadata": {},
   "outputs": [],
   "source": [
    "# Drop any genes that we don't have a location for\n",
    "luad_counts_cleaned = luad_counts.dropna(subset=['location'])\n",
    "hnscc_counts_cleaned = hnscc_counts.dropna(subset=['location'])\n",
    "ovarian_counts_cleaned = ovarian_counts.dropna(subset=['location'])\n",
    "colon_counts_cleaned = colon_counts.dropna(subset=['location'])\n",
    "brca_counts_cleaned = brca_counts.dropna(subset=['location'])\n",
    "lscc_counts_cleaned = lscc_counts.dropna(subset=['location'])"
   ]
  },
  {
   "cell_type": "code",
   "execution_count": 45,
   "metadata": {},
   "outputs": [],
   "source": [
    "luad_counts_8 = luad_counts_cleaned[luad_counts_cleaned.chromo==chromosome_num]\n",
    "hnscc_counts_8 = hnscc_counts_cleaned[hnscc_counts_cleaned.chromo==chromosome_num]\n",
    "ovarian_counts_8 = ovarian_counts_cleaned[ovarian_counts_cleaned.chromo==chromosome_num]\n",
    "colon_counts_8 = colon_counts_cleaned[colon_counts_cleaned.chromo==chromosome_num]\n",
    "brca_counts_8 = brca_counts_cleaned[brca_counts_cleaned.chromo==chromosome_num]\n",
    "lscc_counts_8 = lscc_counts_cleaned[lscc_counts_cleaned.chromo==chromosome_num]"
   ]
  },
  {
   "cell_type": "code",
   "execution_count": 46,
   "metadata": {},
   "outputs": [
    {
     "data": {
      "text/html": [
       "<div>\n",
       "<style scoped>\n",
       "    .dataframe tbody tr th:only-of-type {\n",
       "        vertical-align: middle;\n",
       "    }\n",
       "\n",
       "    .dataframe tbody tr th {\n",
       "        vertical-align: top;\n",
       "    }\n",
       "\n",
       "    .dataframe thead th {\n",
       "        text-align: right;\n",
       "    }\n",
       "</style>\n",
       "<table border=\"1\" class=\"dataframe\">\n",
       "  <thead>\n",
       "    <tr style=\"text-align: right;\">\n",
       "      <th></th>\n",
       "      <th>amplifications</th>\n",
       "      <th>neutral</th>\n",
       "      <th>deletions</th>\n",
       "      <th>average</th>\n",
       "      <th>chromo</th>\n",
       "      <th>location</th>\n",
       "      <th>start</th>\n",
       "      <th>end</th>\n",
       "      <th>cancer</th>\n",
       "    </tr>\n",
       "    <tr>\n",
       "      <th>Name</th>\n",
       "      <th></th>\n",
       "      <th></th>\n",
       "      <th></th>\n",
       "      <th></th>\n",
       "      <th></th>\n",
       "      <th></th>\n",
       "      <th></th>\n",
       "      <th></th>\n",
       "      <th></th>\n",
       "    </tr>\n",
       "  </thead>\n",
       "  <tbody>\n",
       "    <tr>\n",
       "      <th>OR4F21</th>\n",
       "      <td>1.0</td>\n",
       "      <td>97.0</td>\n",
       "      <td>11.0</td>\n",
       "      <td>-0.016183</td>\n",
       "      <td>8</td>\n",
       "      <td>166546.0</td>\n",
       "      <td>166049.0</td>\n",
       "      <td>167043.0</td>\n",
       "      <td>LUAD</td>\n",
       "    </tr>\n",
       "    <tr>\n",
       "      <th>ZNF596</th>\n",
       "      <td>0.0</td>\n",
       "      <td>73.0</td>\n",
       "      <td>36.0</td>\n",
       "      <td>-0.127733</td>\n",
       "      <td>8</td>\n",
       "      <td>248420.0</td>\n",
       "      <td>232137.0</td>\n",
       "      <td>264703.0</td>\n",
       "      <td>LUAD</td>\n",
       "    </tr>\n",
       "    <tr>\n",
       "      <th>FBXO25</th>\n",
       "      <td>0.0</td>\n",
       "      <td>70.0</td>\n",
       "      <td>39.0</td>\n",
       "      <td>-0.137943</td>\n",
       "      <td>8</td>\n",
       "      <td>442197.5</td>\n",
       "      <td>406428.0</td>\n",
       "      <td>477967.0</td>\n",
       "      <td>LUAD</td>\n",
       "    </tr>\n",
       "    <tr>\n",
       "      <th>TDRP</th>\n",
       "      <td>0.0</td>\n",
       "      <td>70.0</td>\n",
       "      <td>39.0</td>\n",
       "      <td>-0.141256</td>\n",
       "      <td>8</td>\n",
       "      <td>517786.5</td>\n",
       "      <td>489792.0</td>\n",
       "      <td>545781.0</td>\n",
       "      <td>LUAD</td>\n",
       "    </tr>\n",
       "    <tr>\n",
       "      <th>ERICH1</th>\n",
       "      <td>0.0</td>\n",
       "      <td>70.0</td>\n",
       "      <td>39.0</td>\n",
       "      <td>-0.141256</td>\n",
       "      <td>8</td>\n",
       "      <td>676426.0</td>\n",
       "      <td>614746.0</td>\n",
       "      <td>738106.0</td>\n",
       "      <td>LUAD</td>\n",
       "    </tr>\n",
       "    <tr>\n",
       "      <th>...</th>\n",
       "      <td>...</td>\n",
       "      <td>...</td>\n",
       "      <td>...</td>\n",
       "      <td>...</td>\n",
       "      <td>...</td>\n",
       "      <td>...</td>\n",
       "      <td>...</td>\n",
       "      <td>...</td>\n",
       "      <td>...</td>\n",
       "    </tr>\n",
       "    <tr>\n",
       "      <th>ZNF7</th>\n",
       "      <td>25.0</td>\n",
       "      <td>83.0</td>\n",
       "      <td>1.0</td>\n",
       "      <td>0.183194</td>\n",
       "      <td>8</td>\n",
       "      <td>144837486.5</td>\n",
       "      <td>144827464.0</td>\n",
       "      <td>144847509.0</td>\n",
       "      <td>LUAD</td>\n",
       "    </tr>\n",
       "    <tr>\n",
       "      <th>COMMD5</th>\n",
       "      <td>25.0</td>\n",
       "      <td>83.0</td>\n",
       "      <td>1.0</td>\n",
       "      <td>0.186339</td>\n",
       "      <td>8</td>\n",
       "      <td>144847389.0</td>\n",
       "      <td>144841042.0</td>\n",
       "      <td>144853736.0</td>\n",
       "      <td>LUAD</td>\n",
       "    </tr>\n",
       "    <tr>\n",
       "      <th>ZNF250</th>\n",
       "      <td>26.0</td>\n",
       "      <td>82.0</td>\n",
       "      <td>1.0</td>\n",
       "      <td>0.188671</td>\n",
       "      <td>8</td>\n",
       "      <td>144889332.5</td>\n",
       "      <td>144876497.0</td>\n",
       "      <td>144902168.0</td>\n",
       "      <td>LUAD</td>\n",
       "    </tr>\n",
       "    <tr>\n",
       "      <th>ZNF16</th>\n",
       "      <td>25.0</td>\n",
       "      <td>83.0</td>\n",
       "      <td>1.0</td>\n",
       "      <td>0.189417</td>\n",
       "      <td>8</td>\n",
       "      <td>144940623.0</td>\n",
       "      <td>144930358.0</td>\n",
       "      <td>144950888.0</td>\n",
       "      <td>LUAD</td>\n",
       "    </tr>\n",
       "    <tr>\n",
       "      <th>C8orf33</th>\n",
       "      <td>31.0</td>\n",
       "      <td>77.0</td>\n",
       "      <td>1.0</td>\n",
       "      <td>0.218029</td>\n",
       "      <td>8</td>\n",
       "      <td>145059575.0</td>\n",
       "      <td>145052465.0</td>\n",
       "      <td>145066685.0</td>\n",
       "      <td>LUAD</td>\n",
       "    </tr>\n",
       "  </tbody>\n",
       "</table>\n",
       "<p>639 rows × 9 columns</p>\n",
       "</div>"
      ],
      "text/plain": [
       "         amplifications  neutral  deletions   average chromo     location  \\\n",
       "Name                                                                        \n",
       "OR4F21              1.0     97.0       11.0 -0.016183      8     166546.0   \n",
       "ZNF596              0.0     73.0       36.0 -0.127733      8     248420.0   \n",
       "FBXO25              0.0     70.0       39.0 -0.137943      8     442197.5   \n",
       "TDRP                0.0     70.0       39.0 -0.141256      8     517786.5   \n",
       "ERICH1              0.0     70.0       39.0 -0.141256      8     676426.0   \n",
       "...                 ...      ...        ...       ...    ...          ...   \n",
       "ZNF7               25.0     83.0        1.0  0.183194      8  144837486.5   \n",
       "COMMD5             25.0     83.0        1.0  0.186339      8  144847389.0   \n",
       "ZNF250             26.0     82.0        1.0  0.188671      8  144889332.5   \n",
       "ZNF16              25.0     83.0        1.0  0.189417      8  144940623.0   \n",
       "C8orf33            31.0     77.0        1.0  0.218029      8  145059575.0   \n",
       "\n",
       "               start          end cancer  \n",
       "Name                                      \n",
       "OR4F21      166049.0     167043.0   LUAD  \n",
       "ZNF596      232137.0     264703.0   LUAD  \n",
       "FBXO25      406428.0     477967.0   LUAD  \n",
       "TDRP        489792.0     545781.0   LUAD  \n",
       "ERICH1      614746.0     738106.0   LUAD  \n",
       "...              ...          ...    ...  \n",
       "ZNF7     144827464.0  144847509.0   LUAD  \n",
       "COMMD5   144841042.0  144853736.0   LUAD  \n",
       "ZNF250   144876497.0  144902168.0   LUAD  \n",
       "ZNF16    144930358.0  144950888.0   LUAD  \n",
       "C8orf33  145052465.0  145066685.0   LUAD  \n",
       "\n",
       "[639 rows x 9 columns]"
      ]
     },
     "execution_count": 46,
     "metadata": {},
     "output_type": "execute_result"
    }
   ],
   "source": [
    "luad_counts_8.sort_values(\"location\")"
   ]
  },
  {
   "cell_type": "code",
   "execution_count": 47,
   "metadata": {},
   "outputs": [],
   "source": [
    "def get_crossovers(df):\n",
    "    crossover_genes = list()\n",
    "    higher = 'del'\n",
    "    prev = None\n",
    "    for row in df.itertuples():\n",
    "        if row[1] > row[3] and higher == 'del':\n",
    "            higher = 'amp'\n",
    "            crossover_genes.append((prev, row[0]))\n",
    "        elif row[1] < row[3] and higher == 'amp':\n",
    "            higher = 'del'\n",
    "            crossover_genes.append((prev, row[0]))\n",
    "        prev = row[0]\n",
    "    return crossover_genes"
   ]
  },
  {
   "cell_type": "code",
   "execution_count": 87,
   "metadata": {},
   "outputs": [
    {
     "data": {
      "text/plain": [
       "[('ADGRA2', 'BRF2'),\n",
       " ('ADAM5', 'ADAM3A'),\n",
       " ('AC123767.1', 'ADAM18'),\n",
       " ('AC022616.2', 'AC022616.5'),\n",
       " ('AC022616.5', 'RNU6-104P'),\n",
       " ('POTEA', 'AC022616.7'),\n",
       " ('AC022616.7', 'AC022616.1')]"
      ]
     },
     "execution_count": 87,
     "metadata": {},
     "output_type": "execute_result"
    }
   ],
   "source": [
    "get_crossovers(hnscc_counts_8.sort_values('location'))"
   ]
  },
  {
   "cell_type": "code",
   "execution_count": 101,
   "metadata": {},
   "outputs": [
    {
     "data": {
      "text/plain": [
       "43378297.0"
      ]
     },
     "execution_count": 101,
     "metadata": {},
     "output_type": "execute_result"
    }
   ],
   "source": [
    "hnscc_counts_8.loc['AC022616.1'].start"
   ]
  }
 ],
 "metadata": {
  "kernelspec": {
   "display_name": "Python 3",
   "language": "python",
   "name": "python3"
  },
  "language_info": {
   "codemirror_mode": {
    "name": "ipython",
    "version": 3
   },
   "file_extension": ".py",
   "mimetype": "text/x-python",
   "name": "python",
   "nbconvert_exporter": "python",
   "pygments_lexer": "ipython3",
   "version": "3.7.6"
  }
 },
 "nbformat": 4,
 "nbformat_minor": 4
}
