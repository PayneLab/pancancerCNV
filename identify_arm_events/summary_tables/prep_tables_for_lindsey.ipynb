{
 "cells": [
  {
   "cell_type": "markdown",
   "metadata": {},
   "source": [
    "# Get tables identifying samples with arm level events on 7p\n",
    "\n",
    "For Lindsey's analysis of EGFR."
   ]
  },
  {
   "cell_type": "code",
   "execution_count": 1,
   "metadata": {},
   "outputs": [],
   "source": [
    "import pandas as pd"
   ]
  },
  {
   "cell_type": "code",
   "execution_count": 2,
   "metadata": {},
   "outputs": [],
   "source": [
    "cancer_types = [\n",
    "    \"brca\",\n",
    "    \"ccrcc\",\n",
    "    \"colon\",\n",
    "    \"endometrial\",\n",
    "    \"gbm\",\n",
    "    \"hnscc\",\n",
    "    \"lscc\",\n",
    "    \"luad\",\n",
    "    \"ovarian\"\n",
    "]"
   ]
  },
  {
   "cell_type": "code",
   "execution_count": 3,
   "metadata": {},
   "outputs": [],
   "source": [
    "chr7p_df = pd.DataFrame()\n",
    "\n",
    "for cancer_type in cancer_types:\n",
    "    \n",
    "    # Read in the table\n",
    "    cancer_df = pd.read_csv(f\"{cancer_type}_cna_summary.tsv.gz\", sep=\"\\t\", dtype={\"chromosome\": str})\n",
    "    \n",
    "    # Select data for chr 7p\n",
    "    cancer_df = cancer_df[\n",
    "        (cancer_df[\"chromosome\"] == \"7\") &\n",
    "        (cancer_df[\"arm\"] == \"p\")\n",
    "    ]\n",
    "\n",
    "    # Mark the cancer type. We use the insert function instead of assign\n",
    "    # so we can specify to insert the column at the front of the table.\n",
    "    cancer_df.insert(0, \"cancer_type\", cancer_type)\n",
    "    \n",
    "    # Add columns indicating whether each sample has an arm level amplification or deletion\n",
    "    cancer_df = cancer_df.assign(\n",
    "        has_arm_amplification=cancer_df[\"prop_arm_amplified\"] >= 0.95,\n",
    "        has_arm_deletion=cancer_df[\"prop_arm_deleted\"] >= 0.95,\n",
    "    )\n",
    "    \n",
    "    # Append to the overall table\n",
    "    chr7p_df = chr7p_df.append(cancer_df)"
   ]
  },
  {
   "cell_type": "code",
   "execution_count": 4,
   "metadata": {},
   "outputs": [],
   "source": [
    "# Save the table\n",
    "chr7p_df.to_csv(\"7p_summary_cutoff_95_percent.tsv.gz\", sep=\"\\t\", index=False, compression=\"gzip\")"
   ]
  }
 ],
 "metadata": {
  "kernelspec": {
   "display_name": "Python 3",
   "language": "python",
   "name": "python3"
  },
  "language_info": {
   "codemirror_mode": {
    "name": "ipython",
    "version": 3
   },
   "file_extension": ".py",
   "mimetype": "text/x-python",
   "name": "python",
   "nbconvert_exporter": "python",
   "pygments_lexer": "ipython3",
   "version": "3.7.7"
  }
 },
 "nbformat": 4,
 "nbformat_minor": 4
}
