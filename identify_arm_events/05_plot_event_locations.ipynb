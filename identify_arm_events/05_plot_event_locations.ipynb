{
 "cells": [
  {
   "cell_type": "markdown",
   "metadata": {},
   "source": [
    "# SCNA analysis step 5: plot event locations\n",
    "\n",
    "Using the event tables created in the last step, create  graphs to visualize where the various events are. First load all the tables and concatenate them together (with cancer type column). Start by making 2 graphs:\n",
    "\n",
    "* whole chromsome gains\n",
    "* whole chromsome losses\n",
    "\n",
    "Next remove any rows that include chromsome level events (whole chromsome loss or gain). This will make sure we are not including whole chromosome events when we are looking at arm level events. Then we can make 4 additional graphs:\n",
    "\n",
    "* p-arm gains\n",
    "* p-arm losses\n",
    "* q-arm gains\n",
    "* q-arm losses\n",
    "\n",
    "Each of the above mentioned graphs will be a barplot with chromosome on the x-axis, number of patients with the event on the y-axis, and cancer type as the hue."
   ]
  }
 ],
 "metadata": {
  "kernelspec": {
   "display_name": "Python 3",
   "language": "python",
   "name": "python3"
  },
  "language_info": {
   "codemirror_mode": {
    "name": "ipython",
    "version": 3
   },
   "file_extension": ".py",
   "mimetype": "text/x-python",
   "name": "python",
   "nbconvert_exporter": "python",
   "pygments_lexer": "ipython3",
   "version": "3.7.6"
  }
 },
 "nbformat": 4,
 "nbformat_minor": 4
}
