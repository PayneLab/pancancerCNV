{
 "cells": [
  {
   "cell_type": "code",
   "execution_count": 1,
   "metadata": {},
   "outputs": [],
   "source": [
    "import pandas as pd\n",
    "import numpy as np\n",
    "import altair as alt\n",
    "import os\n",
    "from toolz.curried import pipe"
   ]
  },
  {
   "cell_type": "code",
   "execution_count": 2,
   "metadata": {},
   "outputs": [
    {
     "data": {
      "text/plain": [
       "DataTransformerRegistry.enable('json_dir')"
      ]
     },
     "execution_count": 2,
     "metadata": {},
     "output_type": "execute_result"
    }
   ],
   "source": [
    "# Altair options\n",
    "alt.data_transformers.disable_max_rows()\n",
    "\n",
    "def json_dir(data, data_dir):\n",
    "    os.makedirs(data_dir, exist_ok=True)\n",
    "    return pipe(data, alt.to_json(filename=os.path.join(data_dir, \"{prefix}-{hash}.{extension}\")) )\n",
    "\n",
    "alt.data_transformers.register(\"json_dir\", json_dir)\n",
    "alt.data_transformers.enable(\"json_dir\", data_dir=\"plot_data\")"
   ]
  },
  {
   "cell_type": "code",
   "execution_count": 3,
   "metadata": {},
   "outputs": [],
   "source": [
    "cancer_types = [\n",
    "    \"brca\",\n",
    "    \"ccrcc\",\n",
    "    \"colon\",\n",
    "    \"endometrial\",\n",
    "    \"gbm\",\n",
    "    \"hnscc\",\n",
    "    \"lscc\",\n",
    "    \"luad\",\n",
    "    \"ovarian\"\n",
    "]"
   ]
  },
  {
   "cell_type": "code",
   "execution_count": 4,
   "metadata": {},
   "outputs": [],
   "source": [
    "summaries_dir = \"summary_tables\"\n",
    "arm_summary = pd.DataFrame()\n",
    "\n",
    "for cancer_type in cancer_types:\n",
    "    file_path = os.path.join(summaries_dir, f\"{cancer_type}_cna_summary.tsv.gz\")\n",
    "    df = pd.read_csv(file_path, sep=\"\\t\", dtype={\"chromosome\": \"O\"}).\\\n",
    "        assign(cancer_type=cancer_type)\n",
    "    \n",
    "    arm_summary = arm_summary.append(df)"
   ]
  },
  {
   "cell_type": "code",
   "execution_count": 5,
   "metadata": {},
   "outputs": [],
   "source": [
    "arm_summary = arm_summary.assign(\n",
    "    arm_amp=arm_summary[\"prop_arm_amplified\"] >= 0.9,\n",
    "    arm_del=arm_summary[\"prop_arm_deleted\"] >= 0.9\n",
    ")"
   ]
  },
  {
   "cell_type": "code",
   "execution_count": 6,
   "metadata": {},
   "outputs": [
    {
     "data": {
      "text/plain": [
       "72"
      ]
     },
     "execution_count": 6,
     "metadata": {},
     "output_type": "execute_result"
    }
   ],
   "source": [
    "a = arm_summary\n",
    "a.loc[\n",
    "    (a.chromosome == \"7\") &\n",
    "    (a.arm == \"q\") &\n",
    "    (a.cancer_type == \"gbm\"),\n",
    "    \"arm_amp\"\n",
    "].sum()"
   ]
  },
  {
   "cell_type": "code",
   "execution_count": 7,
   "metadata": {},
   "outputs": [],
   "source": [
    "cancer_summary = arm_summary.\\\n",
    "    groupby([\"cancer_type\", \"chromosome\", \"arm\"])[[\"arm_amp\", \"arm_del\"]].\\\n",
    "    sum().\\\n",
    "    reset_index(drop=False).\\\n",
    "    rename(columns={\"arm_amp\": \"count_arm_amp\", \"arm_del\": \"count_arm_del\"})\n",
    "\n",
    "cancer_summary = cancer_summary.assign(\n",
    "    count_arm_del=0 - cancer_summary[\"count_arm_del\"]\n",
    ")\n",
    "\n",
    "samples_per_cancer = arm_summary[[\"cancer_type\", \"Patient_ID\"]].\\\n",
    "    drop_duplicates(keep=\"first\").\\\n",
    "    groupby(\"cancer_type\").\\\n",
    "    count().\\\n",
    "    reset_index(drop=False).\\\n",
    "    rename(columns={\"Patient_ID\": \"cancer_type_samples\"})\n",
    "\n",
    "cancer_summary = cancer_summary.merge(\n",
    "        right=samples_per_cancer,\n",
    "        on=\"cancer_type\",\n",
    "        how=\"outer\",\n",
    "        validate=\"many_to_one\"\n",
    ")\n",
    "\n",
    "cancer_summary = cancer_summary.assign(\n",
    "    prop_arm_amp=cancer_summary[\"count_arm_amp\"] / cancer_summary[\"cancer_type_samples\"],\n",
    "    prop_arm_del=cancer_summary[\"count_arm_del\"] / cancer_summary[\"cancer_type_samples\"]\n",
    ")"
   ]
  },
  {
   "cell_type": "code",
   "execution_count": 8,
   "metadata": {},
   "outputs": [],
   "source": [
    "cancer_summary = cancer_summary[[\"cancer_type\", \"chromosome\", \"arm\", \"prop_arm_amp\", \"prop_arm_del\"]]\n",
    "\n",
    "cancer_summary = cancer_summary.melt(\n",
    "    id_vars=[\"cancer_type\", \"chromosome\", \"arm\"],\n",
    "    var_name=\"amp_or_del\",\n",
    "    value_name=\"prop\"\n",
    ")"
   ]
  },
  {
   "cell_type": "code",
   "execution_count": 9,
   "metadata": {
    "scrolled": false
   },
   "outputs": [
    {
     "data": {
      "text/html": [
       "\n",
       "<div id=\"altair-viz-612b9e3c8fe14af0b72bf145e713f258\"></div>\n",
       "<script type=\"text/javascript\">\n",
       "  (function(spec, embedOpt){\n",
       "    let outputDiv = document.currentScript.previousElementSibling;\n",
       "    if (outputDiv.id !== \"altair-viz-612b9e3c8fe14af0b72bf145e713f258\") {\n",
       "      outputDiv = document.getElementById(\"altair-viz-612b9e3c8fe14af0b72bf145e713f258\");\n",
       "    }\n",
       "    const paths = {\n",
       "      \"vega\": \"https://cdn.jsdelivr.net/npm//vega@5?noext\",\n",
       "      \"vega-lib\": \"https://cdn.jsdelivr.net/npm//vega-lib?noext\",\n",
       "      \"vega-lite\": \"https://cdn.jsdelivr.net/npm//vega-lite@4.8.1?noext\",\n",
       "      \"vega-embed\": \"https://cdn.jsdelivr.net/npm//vega-embed@6?noext\",\n",
       "    };\n",
       "\n",
       "    function loadScript(lib) {\n",
       "      return new Promise(function(resolve, reject) {\n",
       "        var s = document.createElement('script');\n",
       "        s.src = paths[lib];\n",
       "        s.async = true;\n",
       "        s.onload = () => resolve(paths[lib]);\n",
       "        s.onerror = () => reject(`Error loading script: ${paths[lib]}`);\n",
       "        document.getElementsByTagName(\"head\")[0].appendChild(s);\n",
       "      });\n",
       "    }\n",
       "\n",
       "    function showError(err) {\n",
       "      outputDiv.innerHTML = `<div class=\"error\" style=\"color:red;\">${err}</div>`;\n",
       "      throw err;\n",
       "    }\n",
       "\n",
       "    function displayChart(vegaEmbed) {\n",
       "      vegaEmbed(outputDiv, spec, embedOpt)\n",
       "        .catch(err => showError(`Javascript Error: ${err.message}<br>This usually means there's a typo in your chart specification. See the javascript console for the full traceback.`));\n",
       "    }\n",
       "\n",
       "    if(typeof define === \"function\" && define.amd) {\n",
       "      requirejs.config({paths});\n",
       "      require([\"vega-embed\"], displayChart, err => showError(`Error loading script: ${err.message}`));\n",
       "    } else if (typeof vegaEmbed === \"function\") {\n",
       "      displayChart(vegaEmbed);\n",
       "    } else {\n",
       "      loadScript(\"vega\")\n",
       "        .then(() => loadScript(\"vega-lite\"))\n",
       "        .then(() => loadScript(\"vega-embed\"))\n",
       "        .catch(showError)\n",
       "        .then(() => displayChart(vegaEmbed));\n",
       "    }\n",
       "  })({\"config\": {\"view\": {\"continuousWidth\": 400, \"continuousHeight\": 300}, \"title\": {\"anchor\": \"middle\"}}, \"vconcat\": [{\"facet\": {\"column\": {\"type\": \"nominal\", \"field\": \"cancer_type\", \"header\": {\"labelOrient\": \"bottom\"}, \"title\": null}}, \"spec\": {\"mark\": \"bar\", \"encoding\": {\"color\": {\"condition\": {\"value\": \"steelblue\", \"test\": \"(datum.prop > 0)\"}, \"value\": \"red\"}, \"x\": {\"type\": \"nominal\", \"axis\": {\"labelAngle\": 0, \"title\": null}, \"field\": \"arm\"}, \"y\": {\"type\": \"quantitative\", \"axis\": {\"title\": \"Proportion of samples with event\"}, \"field\": \"prop\", \"scale\": {\"domain\": [-1, 1]}}}}, \"title\": \"Chromosome 1\", \"transform\": [{\"filter\": \"(datum.chromosome === '1')\"}]}, {\"facet\": {\"column\": {\"type\": \"nominal\", \"field\": \"cancer_type\", \"header\": {\"labelOrient\": \"bottom\"}, \"title\": null}}, \"spec\": {\"mark\": \"bar\", \"encoding\": {\"color\": {\"condition\": {\"value\": \"steelblue\", \"test\": \"(datum.prop > 0)\"}, \"value\": \"red\"}, \"x\": {\"type\": \"nominal\", \"axis\": {\"labelAngle\": 0, \"title\": null}, \"field\": \"arm\"}, \"y\": {\"type\": \"quantitative\", \"axis\": {\"title\": \"Proportion of samples with event\"}, \"field\": \"prop\", \"scale\": {\"domain\": [-1, 1]}}}}, \"title\": \"Chromosome 2\", \"transform\": [{\"filter\": \"(datum.chromosome === '2')\"}]}, {\"facet\": {\"column\": {\"type\": \"nominal\", \"field\": \"cancer_type\", \"header\": {\"labelOrient\": \"bottom\"}, \"title\": null}}, \"spec\": {\"mark\": \"bar\", \"encoding\": {\"color\": {\"condition\": {\"value\": \"steelblue\", \"test\": \"(datum.prop > 0)\"}, \"value\": \"red\"}, \"x\": {\"type\": \"nominal\", \"axis\": {\"labelAngle\": 0, \"title\": null}, \"field\": \"arm\"}, \"y\": {\"type\": \"quantitative\", \"axis\": {\"title\": \"Proportion of samples with event\"}, \"field\": \"prop\", \"scale\": {\"domain\": [-1, 1]}}}}, \"title\": \"Chromosome 3\", \"transform\": [{\"filter\": \"(datum.chromosome === '3')\"}]}, {\"facet\": {\"column\": {\"type\": \"nominal\", \"field\": \"cancer_type\", \"header\": {\"labelOrient\": \"bottom\"}, \"title\": null}}, \"spec\": {\"mark\": \"bar\", \"encoding\": {\"color\": {\"condition\": {\"value\": \"steelblue\", \"test\": \"(datum.prop > 0)\"}, \"value\": \"red\"}, \"x\": {\"type\": \"nominal\", \"axis\": {\"labelAngle\": 0, \"title\": null}, \"field\": \"arm\"}, \"y\": {\"type\": \"quantitative\", \"axis\": {\"title\": \"Proportion of samples with event\"}, \"field\": \"prop\", \"scale\": {\"domain\": [-1, 1]}}}}, \"title\": \"Chromosome 4\", \"transform\": [{\"filter\": \"(datum.chromosome === '4')\"}]}, {\"facet\": {\"column\": {\"type\": \"nominal\", \"field\": \"cancer_type\", \"header\": {\"labelOrient\": \"bottom\"}, \"title\": null}}, \"spec\": {\"mark\": \"bar\", \"encoding\": {\"color\": {\"condition\": {\"value\": \"steelblue\", \"test\": \"(datum.prop > 0)\"}, \"value\": \"red\"}, \"x\": {\"type\": \"nominal\", \"axis\": {\"labelAngle\": 0, \"title\": null}, \"field\": \"arm\"}, \"y\": {\"type\": \"quantitative\", \"axis\": {\"title\": \"Proportion of samples with event\"}, \"field\": \"prop\", \"scale\": {\"domain\": [-1, 1]}}}}, \"title\": \"Chromosome 5\", \"transform\": [{\"filter\": \"(datum.chromosome === '5')\"}]}, {\"facet\": {\"column\": {\"type\": \"nominal\", \"field\": \"cancer_type\", \"header\": {\"labelOrient\": \"bottom\"}, \"title\": null}}, \"spec\": {\"mark\": \"bar\", \"encoding\": {\"color\": {\"condition\": {\"value\": \"steelblue\", \"test\": \"(datum.prop > 0)\"}, \"value\": \"red\"}, \"x\": {\"type\": \"nominal\", \"axis\": {\"labelAngle\": 0, \"title\": null}, \"field\": \"arm\"}, \"y\": {\"type\": \"quantitative\", \"axis\": {\"title\": \"Proportion of samples with event\"}, \"field\": \"prop\", \"scale\": {\"domain\": [-1, 1]}}}}, \"title\": \"Chromosome 6\", \"transform\": [{\"filter\": \"(datum.chromosome === '6')\"}]}, {\"facet\": {\"column\": {\"type\": \"nominal\", \"field\": \"cancer_type\", \"header\": {\"labelOrient\": \"bottom\"}, \"title\": null}}, \"spec\": {\"mark\": \"bar\", \"encoding\": {\"color\": {\"condition\": {\"value\": \"steelblue\", \"test\": \"(datum.prop > 0)\"}, \"value\": \"red\"}, \"x\": {\"type\": \"nominal\", \"axis\": {\"labelAngle\": 0, \"title\": null}, \"field\": \"arm\"}, \"y\": {\"type\": \"quantitative\", \"axis\": {\"title\": \"Proportion of samples with event\"}, \"field\": \"prop\", \"scale\": {\"domain\": [-1, 1]}}}}, \"title\": \"Chromosome 7\", \"transform\": [{\"filter\": \"(datum.chromosome === '7')\"}]}, {\"facet\": {\"column\": {\"type\": \"nominal\", \"field\": \"cancer_type\", \"header\": {\"labelOrient\": \"bottom\"}, \"title\": null}}, \"spec\": {\"mark\": \"bar\", \"encoding\": {\"color\": {\"condition\": {\"value\": \"steelblue\", \"test\": \"(datum.prop > 0)\"}, \"value\": \"red\"}, \"x\": {\"type\": \"nominal\", \"axis\": {\"labelAngle\": 0, \"title\": null}, \"field\": \"arm\"}, \"y\": {\"type\": \"quantitative\", \"axis\": {\"title\": \"Proportion of samples with event\"}, \"field\": \"prop\", \"scale\": {\"domain\": [-1, 1]}}}}, \"title\": \"Chromosome 8\", \"transform\": [{\"filter\": \"(datum.chromosome === '8')\"}]}, {\"facet\": {\"column\": {\"type\": \"nominal\", \"field\": \"cancer_type\", \"header\": {\"labelOrient\": \"bottom\"}, \"title\": null}}, \"spec\": {\"mark\": \"bar\", \"encoding\": {\"color\": {\"condition\": {\"value\": \"steelblue\", \"test\": \"(datum.prop > 0)\"}, \"value\": \"red\"}, \"x\": {\"type\": \"nominal\", \"axis\": {\"labelAngle\": 0, \"title\": null}, \"field\": \"arm\"}, \"y\": {\"type\": \"quantitative\", \"axis\": {\"title\": \"Proportion of samples with event\"}, \"field\": \"prop\", \"scale\": {\"domain\": [-1, 1]}}}}, \"title\": \"Chromosome 9\", \"transform\": [{\"filter\": \"(datum.chromosome === '9')\"}]}, {\"facet\": {\"column\": {\"type\": \"nominal\", \"field\": \"cancer_type\", \"header\": {\"labelOrient\": \"bottom\"}, \"title\": null}}, \"spec\": {\"mark\": \"bar\", \"encoding\": {\"color\": {\"condition\": {\"value\": \"steelblue\", \"test\": \"(datum.prop > 0)\"}, \"value\": \"red\"}, \"x\": {\"type\": \"nominal\", \"axis\": {\"labelAngle\": 0, \"title\": null}, \"field\": \"arm\"}, \"y\": {\"type\": \"quantitative\", \"axis\": {\"title\": \"Proportion of samples with event\"}, \"field\": \"prop\", \"scale\": {\"domain\": [-1, 1]}}}}, \"title\": \"Chromosome 10\", \"transform\": [{\"filter\": \"(datum.chromosome === '10')\"}]}, {\"facet\": {\"column\": {\"type\": \"nominal\", \"field\": \"cancer_type\", \"header\": {\"labelOrient\": \"bottom\"}, \"title\": null}}, \"spec\": {\"mark\": \"bar\", \"encoding\": {\"color\": {\"condition\": {\"value\": \"steelblue\", \"test\": \"(datum.prop > 0)\"}, \"value\": \"red\"}, \"x\": {\"type\": \"nominal\", \"axis\": {\"labelAngle\": 0, \"title\": null}, \"field\": \"arm\"}, \"y\": {\"type\": \"quantitative\", \"axis\": {\"title\": \"Proportion of samples with event\"}, \"field\": \"prop\", \"scale\": {\"domain\": [-1, 1]}}}}, \"title\": \"Chromosome 11\", \"transform\": [{\"filter\": \"(datum.chromosome === '11')\"}]}, {\"facet\": {\"column\": {\"type\": \"nominal\", \"field\": \"cancer_type\", \"header\": {\"labelOrient\": \"bottom\"}, \"title\": null}}, \"spec\": {\"mark\": \"bar\", \"encoding\": {\"color\": {\"condition\": {\"value\": \"steelblue\", \"test\": \"(datum.prop > 0)\"}, \"value\": \"red\"}, \"x\": {\"type\": \"nominal\", \"axis\": {\"labelAngle\": 0, \"title\": null}, \"field\": \"arm\"}, \"y\": {\"type\": \"quantitative\", \"axis\": {\"title\": \"Proportion of samples with event\"}, \"field\": \"prop\", \"scale\": {\"domain\": [-1, 1]}}}}, \"title\": \"Chromosome 12\", \"transform\": [{\"filter\": \"(datum.chromosome === '12')\"}]}, {\"facet\": {\"column\": {\"type\": \"nominal\", \"field\": \"cancer_type\", \"header\": {\"labelOrient\": \"bottom\"}, \"title\": null}}, \"spec\": {\"mark\": \"bar\", \"encoding\": {\"color\": {\"condition\": {\"value\": \"steelblue\", \"test\": \"(datum.prop > 0)\"}, \"value\": \"red\"}, \"x\": {\"type\": \"nominal\", \"axis\": {\"labelAngle\": 0, \"title\": null}, \"field\": \"arm\"}, \"y\": {\"type\": \"quantitative\", \"axis\": {\"title\": \"Proportion of samples with event\"}, \"field\": \"prop\", \"scale\": {\"domain\": [-1, 1]}}}}, \"title\": \"Chromosome 13\", \"transform\": [{\"filter\": \"(datum.chromosome === '13')\"}]}, {\"facet\": {\"column\": {\"type\": \"nominal\", \"field\": \"cancer_type\", \"header\": {\"labelOrient\": \"bottom\"}, \"title\": null}}, \"spec\": {\"mark\": \"bar\", \"encoding\": {\"color\": {\"condition\": {\"value\": \"steelblue\", \"test\": \"(datum.prop > 0)\"}, \"value\": \"red\"}, \"x\": {\"type\": \"nominal\", \"axis\": {\"labelAngle\": 0, \"title\": null}, \"field\": \"arm\"}, \"y\": {\"type\": \"quantitative\", \"axis\": {\"title\": \"Proportion of samples with event\"}, \"field\": \"prop\", \"scale\": {\"domain\": [-1, 1]}}}}, \"title\": \"Chromosome 14\", \"transform\": [{\"filter\": \"(datum.chromosome === '14')\"}]}, {\"facet\": {\"column\": {\"type\": \"nominal\", \"field\": \"cancer_type\", \"header\": {\"labelOrient\": \"bottom\"}, \"title\": null}}, \"spec\": {\"mark\": \"bar\", \"encoding\": {\"color\": {\"condition\": {\"value\": \"steelblue\", \"test\": \"(datum.prop > 0)\"}, \"value\": \"red\"}, \"x\": {\"type\": \"nominal\", \"axis\": {\"labelAngle\": 0, \"title\": null}, \"field\": \"arm\"}, \"y\": {\"type\": \"quantitative\", \"axis\": {\"title\": \"Proportion of samples with event\"}, \"field\": \"prop\", \"scale\": {\"domain\": [-1, 1]}}}}, \"title\": \"Chromosome 15\", \"transform\": [{\"filter\": \"(datum.chromosome === '15')\"}]}, {\"facet\": {\"column\": {\"type\": \"nominal\", \"field\": \"cancer_type\", \"header\": {\"labelOrient\": \"bottom\"}, \"title\": null}}, \"spec\": {\"mark\": \"bar\", \"encoding\": {\"color\": {\"condition\": {\"value\": \"steelblue\", \"test\": \"(datum.prop > 0)\"}, \"value\": \"red\"}, \"x\": {\"type\": \"nominal\", \"axis\": {\"labelAngle\": 0, \"title\": null}, \"field\": \"arm\"}, \"y\": {\"type\": \"quantitative\", \"axis\": {\"title\": \"Proportion of samples with event\"}, \"field\": \"prop\", \"scale\": {\"domain\": [-1, 1]}}}}, \"title\": \"Chromosome 16\", \"transform\": [{\"filter\": \"(datum.chromosome === '16')\"}]}, {\"facet\": {\"column\": {\"type\": \"nominal\", \"field\": \"cancer_type\", \"header\": {\"labelOrient\": \"bottom\"}, \"title\": null}}, \"spec\": {\"mark\": \"bar\", \"encoding\": {\"color\": {\"condition\": {\"value\": \"steelblue\", \"test\": \"(datum.prop > 0)\"}, \"value\": \"red\"}, \"x\": {\"type\": \"nominal\", \"axis\": {\"labelAngle\": 0, \"title\": null}, \"field\": \"arm\"}, \"y\": {\"type\": \"quantitative\", \"axis\": {\"title\": \"Proportion of samples with event\"}, \"field\": \"prop\", \"scale\": {\"domain\": [-1, 1]}}}}, \"title\": \"Chromosome 17\", \"transform\": [{\"filter\": \"(datum.chromosome === '17')\"}]}, {\"facet\": {\"column\": {\"type\": \"nominal\", \"field\": \"cancer_type\", \"header\": {\"labelOrient\": \"bottom\"}, \"title\": null}}, \"spec\": {\"mark\": \"bar\", \"encoding\": {\"color\": {\"condition\": {\"value\": \"steelblue\", \"test\": \"(datum.prop > 0)\"}, \"value\": \"red\"}, \"x\": {\"type\": \"nominal\", \"axis\": {\"labelAngle\": 0, \"title\": null}, \"field\": \"arm\"}, \"y\": {\"type\": \"quantitative\", \"axis\": {\"title\": \"Proportion of samples with event\"}, \"field\": \"prop\", \"scale\": {\"domain\": [-1, 1]}}}}, \"title\": \"Chromosome 18\", \"transform\": [{\"filter\": \"(datum.chromosome === '18')\"}]}, {\"facet\": {\"column\": {\"type\": \"nominal\", \"field\": \"cancer_type\", \"header\": {\"labelOrient\": \"bottom\"}, \"title\": null}}, \"spec\": {\"mark\": \"bar\", \"encoding\": {\"color\": {\"condition\": {\"value\": \"steelblue\", \"test\": \"(datum.prop > 0)\"}, \"value\": \"red\"}, \"x\": {\"type\": \"nominal\", \"axis\": {\"labelAngle\": 0, \"title\": null}, \"field\": \"arm\"}, \"y\": {\"type\": \"quantitative\", \"axis\": {\"title\": \"Proportion of samples with event\"}, \"field\": \"prop\", \"scale\": {\"domain\": [-1, 1]}}}}, \"title\": \"Chromosome 19\", \"transform\": [{\"filter\": \"(datum.chromosome === '19')\"}]}, {\"facet\": {\"column\": {\"type\": \"nominal\", \"field\": \"cancer_type\", \"header\": {\"labelOrient\": \"bottom\"}, \"title\": null}}, \"spec\": {\"mark\": \"bar\", \"encoding\": {\"color\": {\"condition\": {\"value\": \"steelblue\", \"test\": \"(datum.prop > 0)\"}, \"value\": \"red\"}, \"x\": {\"type\": \"nominal\", \"axis\": {\"labelAngle\": 0, \"title\": null}, \"field\": \"arm\"}, \"y\": {\"type\": \"quantitative\", \"axis\": {\"title\": \"Proportion of samples with event\"}, \"field\": \"prop\", \"scale\": {\"domain\": [-1, 1]}}}}, \"title\": \"Chromosome 20\", \"transform\": [{\"filter\": \"(datum.chromosome === '20')\"}]}, {\"facet\": {\"column\": {\"type\": \"nominal\", \"field\": \"cancer_type\", \"header\": {\"labelOrient\": \"bottom\"}, \"title\": null}}, \"spec\": {\"mark\": \"bar\", \"encoding\": {\"color\": {\"condition\": {\"value\": \"steelblue\", \"test\": \"(datum.prop > 0)\"}, \"value\": \"red\"}, \"x\": {\"type\": \"nominal\", \"axis\": {\"labelAngle\": 0, \"title\": null}, \"field\": \"arm\"}, \"y\": {\"type\": \"quantitative\", \"axis\": {\"title\": \"Proportion of samples with event\"}, \"field\": \"prop\", \"scale\": {\"domain\": [-1, 1]}}}}, \"title\": \"Chromosome 21\", \"transform\": [{\"filter\": \"(datum.chromosome === '21')\"}]}, {\"facet\": {\"column\": {\"type\": \"nominal\", \"field\": \"cancer_type\", \"header\": {\"labelOrient\": \"bottom\"}, \"title\": null}}, \"spec\": {\"mark\": \"bar\", \"encoding\": {\"color\": {\"condition\": {\"value\": \"steelblue\", \"test\": \"(datum.prop > 0)\"}, \"value\": \"red\"}, \"x\": {\"type\": \"nominal\", \"axis\": {\"labelAngle\": 0, \"title\": null}, \"field\": \"arm\"}, \"y\": {\"type\": \"quantitative\", \"axis\": {\"title\": \"Proportion of samples with event\"}, \"field\": \"prop\", \"scale\": {\"domain\": [-1, 1]}}}}, \"title\": \"Chromosome 22\", \"transform\": [{\"filter\": \"(datum.chromosome === '22')\"}]}, {\"facet\": {\"column\": {\"type\": \"nominal\", \"field\": \"cancer_type\", \"header\": {\"labelOrient\": \"bottom\"}, \"title\": null}}, \"spec\": {\"mark\": \"bar\", \"encoding\": {\"color\": {\"condition\": {\"value\": \"steelblue\", \"test\": \"(datum.prop > 0)\"}, \"value\": \"red\"}, \"x\": {\"type\": \"nominal\", \"axis\": {\"labelAngle\": 0, \"title\": null}, \"field\": \"arm\"}, \"y\": {\"type\": \"quantitative\", \"axis\": {\"title\": \"Proportion of samples with event\"}, \"field\": \"prop\", \"scale\": {\"domain\": [-1, 1]}}}}, \"title\": \"Chromosome X\", \"transform\": [{\"filter\": \"(datum.chromosome === 'X')\"}]}, {\"facet\": {\"column\": {\"type\": \"nominal\", \"field\": \"cancer_type\", \"header\": {\"labelOrient\": \"bottom\"}, \"title\": null}}, \"spec\": {\"mark\": \"bar\", \"encoding\": {\"color\": {\"condition\": {\"value\": \"steelblue\", \"test\": \"(datum.prop > 0)\"}, \"value\": \"red\"}, \"x\": {\"type\": \"nominal\", \"axis\": {\"labelAngle\": 0, \"title\": null}, \"field\": \"arm\"}, \"y\": {\"type\": \"quantitative\", \"axis\": {\"title\": \"Proportion of samples with event\"}, \"field\": \"prop\", \"scale\": {\"domain\": [-1, 1]}}}}, \"title\": \"Chromosome Y\", \"transform\": [{\"filter\": \"(datum.chromosome === 'Y')\"}]}], \"data\": {\"url\": \"plot_data/altair-data-82cfe5ca364ec65bdf6e2aad8e5906ce.json\", \"format\": {\"type\": \"json\"}}, \"$schema\": \"https://vega.github.io/schema/vega-lite/v4.8.1.json\"}, {\"mode\": \"vega-lite\"});\n",
       "</script>"
      ],
      "text/plain": [
       "alt.VConcatChart(...)"
      ]
     },
     "execution_count": 9,
     "metadata": {},
     "output_type": "execute_result"
    }
   ],
   "source": [
    "chart = alt.Chart(cancer_summary).mark_bar().encode(\n",
    "    x=alt.X(\n",
    "        \"arm\",\n",
    "        axis=alt.Axis(\n",
    "            labelAngle=0,\n",
    "            title=None\n",
    "        )\n",
    "    ),\n",
    "    y=alt.Y(\n",
    "        \"prop\",\n",
    "        scale=alt.Scale(domain=(-1, 1)),\n",
    "        axis=alt.Axis(\n",
    "            title=\"Proportion of samples with event\"\n",
    "        )\n",
    "    ),\n",
    "    color=alt.condition(\n",
    "        alt.datum.prop > 0,\n",
    "        alt.value(\"steelblue\"),  # The positive color\n",
    "        alt.value(\"red\")  # The negative color\n",
    "    )\n",
    ").facet(\n",
    "    column=alt.Column(\n",
    "        \"cancer_type\",\n",
    "        title=None,\n",
    "        header=alt.Header(labelOrient=\"bottom\")\n",
    "    )\n",
    ")\n",
    "\n",
    "alt.vconcat(\n",
    "    *(\n",
    "        chart.transform_filter(\n",
    "            alt.datum.chromosome == val\n",
    "        ).properties(\n",
    "            title=f\"Chromosome {val}\"\n",
    "        )\n",
    "        \n",
    "        for val in sorted([chrm for chrm in cancer_summary[\"chromosome\"].unique() if chrm.isdigit()], key=int) + \\\n",
    "            [chrm for chrm in cancer_summary[\"chromosome\"].unique() if not chrm.isdigit()]\n",
    "    )\n",
    ").configure_title(\n",
    "    anchor=\"middle\"\n",
    ")"
   ]
  }
 ],
 "metadata": {
  "kernelspec": {
   "display_name": "Python 3",
   "language": "python",
   "name": "python3"
  },
  "language_info": {
   "codemirror_mode": {
    "name": "ipython",
    "version": 3
   },
   "file_extension": ".py",
   "mimetype": "text/x-python",
   "name": "python",
   "nbconvert_exporter": "python",
   "pygments_lexer": "ipython3",
   "version": "3.7.7"
  }
 },
 "nbformat": 4,
 "nbformat_minor": 4
}
