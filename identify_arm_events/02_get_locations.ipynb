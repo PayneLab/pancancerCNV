{
 "cells": [
  {
   "cell_type": "markdown",
   "metadata": {},
   "source": [
    "# SCNA analysis step 2: Get locations of genes\n",
    "\n",
    "- For each cancer type:\n",
    "    1. Assign locations to each gene\n",
    "    2. Based on location, assign which chromosome arm it's on"
   ]
  },
  {
   "cell_type": "markdown",
   "metadata": {},
   "source": [
    "## Setup"
   ]
  },
  {
   "cell_type": "code",
   "execution_count": 1,
   "metadata": {},
   "outputs": [],
   "source": [
    "import cptac\n",
    "import pandas as pd\n",
    "import numpy as np\n",
    "import pyensembl\n",
    "import os"
   ]
  },
  {
   "cell_type": "code",
   "execution_count": 5,
   "metadata": {},
   "outputs": [],
   "source": [
    "# Make sure we have the Ensembl data downloaded\n",
    "# The most recent release is 100, but 99 is still\n",
    "# recent (Jan 2020), and PyEnsembl only supports\n",
    "# up to 99 right now.\n",
    "ensembl = pyensembl.EnsemblRelease(99)\n",
    "\n",
    "try:\n",
    "    ensembl.genes() # If this fails, we need to download the data again.\n",
    "except ValueError as e:\n",
    "    if str(e).startswith(\"Missing genome data file from \"):\n",
    "        ensembl.download()\n",
    "        ensembl.index()\n",
    "    else:\n",
    "        raise e from None"
   ]
  },
  {
   "cell_type": "markdown",
   "metadata": {},
   "source": [
    "## Get gene locations"
   ]
  },
  {
   "cell_type": "code",
   "execution_count": 6,
   "metadata": {},
   "outputs": [],
   "source": [
    "def add_genes_locations(cancer_type, data_dir):\n",
    "    \"\"\"For a particular cancer type, load the CNA table, add location and \n",
    "    chromosome information, and then save it back to the same location.\n",
    "    \n",
    "    Parameters:\n",
    "    cancer_type (str): The name of the cancer type. Must match its name in the file name to read from.\n",
    "    data_dir (str): The path to the directory with the CNA files from step 1.\n",
    "    \"\"\"\n",
    "    \n",
    "    file_path = os.path.join(data_dir, f\"{cancer_type}_cna_long.tsv.gz\")\n",
    "    cna = pd.read_csv(file_path, sep='\\t')\n",
    "\n",
    "    chrs = []\n",
    "    starts = []\n",
    "    ends = []\n",
    "\n",
    "    for row in cna.itertuples(index=False):\n",
    "        db_id = row.Database_ID\n",
    "\n",
    "        if pd.notnull(db_id):\n",
    "            try:\n",
    "                info = ensembl.gene_by_id(db_id)\n",
    "            except ValueError as e:\n",
    "                if str(e).startswith(\"Gene not found: \"):\n",
    "                    pass # This will go down to the next try/catch and attempt lookup by name instead of ID\n",
    "                else:\n",
    "                    raise e from None\n",
    "            else:\n",
    "                chrs.append(info.contig)\n",
    "                starts.append(info.start)\n",
    "                ends.append(info.end)\n",
    "                continue\n",
    "\n",
    "        # We get to the following try/catch either if Database_ID is null, or \n",
    "        # if nothing was found by querying by Database_ID. That way we if don't\n",
    "        # find anything with the Database_ID, we try again with the gene name.\n",
    "        \n",
    "        # It appears that some genes have old names that are out of date,\n",
    "        # such as LSMD1. If we want to get even better coverage, we could\n",
    "        # try querying HGNC with old gene names, if the below returns nothing.\n",
    "        # But we're getting fairly good coverage right now, and we don't\n",
    "        # want to waste time going down an unnecessary rabbit hole.\n",
    "        try:\n",
    "            info = ensembl.genes_by_name(row.gene)\n",
    "        except ValueError as e:\n",
    "            if str(e).startswith(\"No results found for query\"):\n",
    "                chrs.append(np.nan)\n",
    "                starts.append(np.nan)\n",
    "                ends.append(np.nan)\n",
    "            else:\n",
    "                raise e from None\n",
    "        else:\n",
    "            chrs.append(info[0].contig)\n",
    "            starts.append(info[0].start)\n",
    "            ends.append(info[0].end)\n",
    "\n",
    "    # Add the columns we created\n",
    "    cna = cna.assign(\n",
    "        chromosome=chrs,\n",
    "        start=starts,\n",
    "        end=ends\n",
    "    )\n",
    "\n",
    "    # Check what proportion of genes we didn't find info for\n",
    "    not_found_prop = pd.isnull(cna[\"start\"]).sum() / cna.shape[0]\n",
    "\n",
    "    # Select only the genes we found info for\n",
    "    cna = cna[pd.notnull(cna[\"start\"])]\n",
    "\n",
    "    # Save it back to the same file path\n",
    "    cna.to_csv(file_path, index=False, compression=\"gzip\", sep=\"\\t\")\n",
    "    \n",
    "    return not_found_prop"
   ]
  },
  {
   "cell_type": "code",
   "execution_count": 19,
   "metadata": {},
   "outputs": [],
   "source": [
    "cancer_types = [\n",
    "    \"brca\",\n",
    "    \"ccrcc\",\n",
    "    \"colon\",\n",
    "    \"endometrial\",\n",
    "    \"gbm\",\n",
    "    \"hnscc\",\n",
    "    \"lscc\",\n",
    "    \"luad\",\n",
    "    \"ovarian\"\n",
    "]"
   ]
  },
  {
   "cell_type": "code",
   "execution_count": null,
   "metadata": {},
   "outputs": [],
   "source": [
    "for cancer_type in cancer_types:"
   ]
  }
 ],
 "metadata": {
  "kernelspec": {
   "display_name": "Python 3",
   "language": "python",
   "name": "python3"
  },
  "language_info": {
   "codemirror_mode": {
    "name": "ipython",
    "version": 3
   },
   "file_extension": ".py",
   "mimetype": "text/x-python",
   "name": "python",
   "nbconvert_exporter": "python",
   "pygments_lexer": "ipython3",
   "version": "3.7.7"
  }
 },
 "nbformat": 4,
 "nbformat_minor": 4
}
