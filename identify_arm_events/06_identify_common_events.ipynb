{
 "cells": [
  {
   "cell_type": "markdown",
   "metadata": {},
   "source": [
    "# SNCA analysis step 6: identify common events\n",
    "\n",
    "\n",
    "Identify significant events by setting MIN_SAMPLES_WITH_EVENT and MIN_CANCER_TYPES. Get a list of events with several cancer types that have several samples with that event. Create a table for each type of cancer with each significant event as a column (ex: 8p_gain, 20_loss, etc.) and boolean values indicating if a patient has the event."
   ]
  }
 ],
 "metadata": {
  "kernelspec": {
   "display_name": "Python 3",
   "language": "python",
   "name": "python3"
  },
  "language_info": {
   "codemirror_mode": {
    "name": "ipython",
    "version": 3
   },
   "file_extension": ".py",
   "mimetype": "text/x-python",
   "name": "python",
   "nbconvert_exporter": "python",
   "pygments_lexer": "ipython3",
   "version": "3.7.6"
  }
 },
 "nbformat": 4,
 "nbformat_minor": 4
}
