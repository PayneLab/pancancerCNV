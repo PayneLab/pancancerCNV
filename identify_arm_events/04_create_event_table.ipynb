{
 "cells": [
  {
   "cell_type": "markdown",
   "metadata": {},
   "source": [
    "# SCNA analysis step 4: Create event tables\n",
    "\n",
    "We will create tables for each cancer type with boolean columns for each event type (p_gain, q_gain, p_loss, q_loss, chromosome_gain, chromosome_loss).\n",
    "\n",
    "We first will define an event as having a certain portion of the region (p_arm, q_arm, whole chromosome) with the event (gain or loss)."
   ]
  },
  {
   "cell_type": "code",
   "execution_count": 1,
   "metadata": {},
   "outputs": [],
   "source": [
    "import pandas as pd\n",
    "import numpy as np\n",
    "import os"
   ]
  },
  {
   "cell_type": "code",
   "execution_count": 2,
   "metadata": {},
   "outputs": [],
   "source": [
    "# Defines the proportion needed to be considered an event\n",
    "EVENT_CUTOFF = 0.95"
   ]
  },
  {
   "cell_type": "code",
   "execution_count": 57,
   "metadata": {},
   "outputs": [],
   "source": [
    "def create_event_table(\n",
    "    cancer_type,\n",
    "    event_cutoff,\n",
    "    input_dir,\n",
    "    output_dir\n",
    "):\n",
    "    input_file = os.path.join(input_dir, f\"{cancer_type}_cna_summary.tsv.gz\")\n",
    "    summary = pd.read_csv(input_file, sep='\\t', dtype={\"chromosome\": \"O\"})\n",
    "    summary.rename(columns={'prop_arm_amplified': 'gain', 'prop_arm_deleted': 'loss'}, inplace=True)\n",
    "    event_summary = pd.pivot_table(summary, index=['Patient_ID', 'chromosome'], columns='arm', values=['gain', 'loss'])\n",
    "    event_summary.columns = [f'{col[1]}_{col[0]}' for col in event_summary.columns.values]\n",
    "    # Check to see if each arm has an event\n",
    "    for col in event_summary.columns:\n",
    "        event_summary[col] = event_summary[col] >= event_cutoff\n",
    "    # Define whole chromosome event when both arms are either gained or lost\n",
    "    event_summary['chromosome_gain'] = event_summary['p_gain'] & event_summary['q_gain']\n",
    "    event_summary['chromosome_loss'] = event_summary['p_loss'] & event_summary['q_loss']\n",
    "    event_summary.reset_index(inplace=True)\n",
    "    output_file = os.path.join(output_dir, f\"{cancer_type}_event_table.tsv.gz\")\n",
    "    event_summary.to_csv(output_file, index=False, compression=\"gzip\", sep='\\t')\n",
    "    return event_summary"
   ]
  },
  {
   "cell_type": "code",
   "execution_count": 4,
   "metadata": {},
   "outputs": [],
   "source": [
    "cancer_types = [\n",
    "    \"brca\",\n",
    "    \"ccrcc\",\n",
    "    \"colon\",\n",
    "    \"endometrial\",\n",
    "    \"gbm\",\n",
    "    \"hnscc\",\n",
    "    \"lscc\",\n",
    "    \"luad\",\n",
    "    \"ovarian\"\n",
    "]"
   ]
  },
  {
   "cell_type": "code",
   "execution_count": 59,
   "metadata": {},
   "outputs": [],
   "source": [
    "for cancer_type in cancer_types:\n",
    "    create_event_table(\n",
    "        cancer_type=cancer_type,\n",
    "        event_cutoff=EVENT_CUTOFF,\n",
    "        input_dir='summary_tables',\n",
    "        output_dir='event_tables'\n",
    "    )"
   ]
  }
 ],
 "metadata": {
  "kernelspec": {
   "display_name": "Python 3",
   "language": "python",
   "name": "python3"
  },
  "language_info": {
   "codemirror_mode": {
    "name": "ipython",
    "version": 3
   },
   "file_extension": ".py",
   "mimetype": "text/x-python",
   "name": "python",
   "nbconvert_exporter": "python",
   "pygments_lexer": "ipython3",
   "version": "3.7.6"
  }
 },
 "nbformat": 4,
 "nbformat_minor": 4
}
