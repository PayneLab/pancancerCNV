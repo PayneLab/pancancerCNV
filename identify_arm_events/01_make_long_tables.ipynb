{
 "cells": [
  {
   "cell_type": "markdown",
   "metadata": {},
   "source": [
    "# SCNA analysis step 1: Make long format CNA table for each cancer type\n",
    "\n",
    "For each cancer type, convert CNA table to long format (i.e., columns are [Patient_ID, gene, cna_val], so one row for each gene for each sample)"
   ]
  },
  {
   "cell_type": "code",
   "execution_count": 1,
   "metadata": {},
   "outputs": [],
   "source": [
    "import cptac\n",
    "import pandas as pd\n",
    "import numpy as np\n",
    "import datetime\n",
    "import os"
   ]
  },
  {
   "cell_type": "code",
   "execution_count": 2,
   "metadata": {},
   "outputs": [],
   "source": [
    "dss = {\n",
    "    \"brca\": cptac.Brca,\n",
    "    \"ccrcc\": cptac.Ccrcc,\n",
    "    \"colon\": cptac.Colon,\n",
    "    \"endometrial\": cptac.Endometrial,\n",
    "    \"gbm\": cptac.Gbm,\n",
    "    \"hnscc\": cptac.Hnscc,\n",
    "    \"lscc\": cptac.Lscc,\n",
    "    \"luad\": cptac.Luad,\n",
    "    \"ovarian\": cptac.Ovarian\n",
    "}"
   ]
  },
  {
   "cell_type": "code",
   "execution_count": 3,
   "metadata": {},
   "outputs": [],
   "source": [
    "def make_long_table(cancer_type, datasets_dict, long_cna_tables_dir):\n",
    "    \"\"\"Pass None for long_cna_tables_dir if you don't want to re-save the output.\"\"\"\n",
    "    \n",
    "    cna = dss[cancer_type]().\\\n",
    "        get_CNV().\\\n",
    "        reset_index().\\\n",
    "        melt(id_vars=\"Patient_ID\", value_name=\"cna_val\").\\\n",
    "        rename(columns={\"Name\": \"gene\"})\n",
    "    \n",
    "    if \"Database_ID\" in cna.columns:\n",
    "        # Parse the database IDs to remove version numbers from Ensembl IDs, as they interfere with lookup.\n",
    "        cna = cna.assign(\n",
    "            Database_ID=cna[\"Database_ID\"].str.rsplit(\".\", n=1, expand=True)[0]\n",
    "        )\n",
    "        \n",
    "    if long_cna_tables_dir is not None:\n",
    "        if not os.path.isdir(long_cna_tables_dir):\n",
    "            os.mkdir(long_cna_tables_dir)\n",
    "            \n",
    "        file_path = os.path.join(long_cna_tables_dir, f\"{cancer_type}_cna_long.tsv.gz\")\n",
    "        cna.to_csv(file_path, index=False, compression=\"gzip\", sep=\"\\t\")\n",
    "    \n",
    "    return file_path"
   ]
  },
  {
   "cell_type": "code",
   "execution_count": 4,
   "metadata": {},
   "outputs": [
    {
     "name": "stdout",
     "output_type": "stream",
     "text": [
      "long_cna_tables/brca_cna_long.tsv.gz     \n",
      "long_cna_tables/ccrcc_cna_long.tsv.gz     \n",
      "long_cna_tables/colon_cna_long.tsv.gz     \n",
      "long_cna_tables/endometrial_cna_long.tsv.gz     \n",
      "                                        \r"
     ]
    },
    {
     "name": "stderr",
     "output_type": "stream",
     "text": [
      "cptac warning: The GBM dataset is under publication embargo until March 01, 2021. CPTAC is a community resource project and data are made available rapidly after generation for community research use. The embargo allows exploring and utilizing the data, but analysis may not be published until after the embargo date. Please see https://proteomics.cancer.gov/data-portal/about/data-use-agreement or enter cptac.embargo() to open the webpage for more details. (/home/caleb/anaconda3/envs/dev/lib/python3.7/site-packages/ipykernel_launcher.py, line 4)\n"
     ]
    },
    {
     "name": "stdout",
     "output_type": "stream",
     "text": [
      "long_cna_tables/gbm_cna_long.tsv.gz\n",
      "                                          \r"
     ]
    },
    {
     "name": "stderr",
     "output_type": "stream",
     "text": [
      "cptac warning: The HNSCC data is currently strictly reserved for CPTAC investigators. Otherwise, you are not authorized to access these data. Additionally, even after these data become publicly available, they will be subject to a publication embargo (see https://proteomics.cancer.gov/data-portal/about/data-use-agreement or enter cptac.embargo() to open the webpage for more details). (/home/caleb/anaconda3/envs/dev/lib/python3.7/site-packages/ipykernel_launcher.py, line 4)\n"
     ]
    },
    {
     "name": "stdout",
     "output_type": "stream",
     "text": [
      "long_cna_tables/hnscc_cna_long.tsv.gz\n",
      "                                         \r"
     ]
    },
    {
     "name": "stderr",
     "output_type": "stream",
     "text": [
      "cptac warning: The LSCC data is currently strictly reserved for CPTAC investigators. Otherwise, you are not authorized to access these data. Additionally, even after these data become publicly available, they will be subject to a publication embargo (see https://proteomics.cancer.gov/data-portal/about/data-use-agreement or enter cptac.embargo() to open the webpage for more details). (/home/caleb/anaconda3/envs/dev/lib/python3.7/site-packages/ipykernel_launcher.py, line 4)\n"
     ]
    },
    {
     "name": "stdout",
     "output_type": "stream",
     "text": [
      "long_cna_tables/lscc_cna_long.tsv.gz\n",
      "long_cna_tables/luad_cna_long.tsv.gz     \n",
      "long_cna_tables/ovarian_cna_long.tsv.gz     \n"
     ]
    }
   ],
   "source": [
    "for cancer_type in dss.keys():\n",
    "    print(make_long_table(cancer_type, dss, \"long_cna_tables\"))"
   ]
  }
 ],
 "metadata": {
  "kernelspec": {
   "display_name": "Python 3",
   "language": "python",
   "name": "python3"
  },
  "language_info": {
   "codemirror_mode": {
    "name": "ipython",
    "version": 3
   },
   "file_extension": ".py",
   "mimetype": "text/x-python",
   "name": "python",
   "nbconvert_exporter": "python",
   "pygments_lexer": "ipython3",
   "version": "3.7.7"
  }
 },
 "nbformat": 4,
 "nbformat_minor": 4
}
