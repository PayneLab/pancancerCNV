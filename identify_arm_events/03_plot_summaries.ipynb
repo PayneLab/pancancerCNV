{
 "cells": [
  {
   "cell_type": "markdown",
   "metadata": {},
   "source": [
    "# SCNA analysis step 3: Plot summaries\n",
    "\n",
    "- From the summary table, create one big histogram\n",
    "    - X axis is proportion of arm that's covered by an event (take absolute value of event magnitudes so amplifications and deletions are treated the same)\n",
    "    - Y axis would be number of chromosome arms that have that bin's proportion\n",
    "    - Sanity check: Do separate plots for amplified/deleted\n",
    "- From this we can decide what proportion of arm deletion to call a whole arm amplification or deletion\n",
    "- If a patient has both arms amplified or both arms deleted, we can call it a whole chromosome event "
   ]
  },
  {
   "cell_type": "markdown",
   "metadata": {},
   "source": [
    "## Setup"
   ]
  },
  {
   "cell_type": "code",
   "execution_count": 1,
   "metadata": {},
   "outputs": [],
   "source": [
    "import pandas as pd\n",
    "import numpy as np\n",
    "import altair as alt\n",
    "import os\n",
    "from toolz.curried import pipe"
   ]
  },
  {
   "cell_type": "code",
   "execution_count": 2,
   "metadata": {},
   "outputs": [
    {
     "data": {
      "text/plain": [
       "DataTransformerRegistry.enable('json_dir')"
      ]
     },
     "execution_count": 2,
     "metadata": {},
     "output_type": "execute_result"
    }
   ],
   "source": [
    "# Altair options\n",
    "alt.data_transformers.disable_max_rows()\n",
    "\n",
    "def json_dir(data, data_dir):\n",
    "    os.makedirs(data_dir, exist_ok=True)\n",
    "    return pipe(data, alt.to_json(filename=os.path.join(data_dir, \"{prefix}-{hash}.{extension}\")) )\n",
    "\n",
    "alt.data_transformers.register(\"json_dir\", json_dir)\n",
    "alt.data_transformers.enable(\"json_dir\", data_dir=\"plot_data\")"
   ]
  },
  {
   "cell_type": "markdown",
   "metadata": {},
   "source": [
    "## Load data"
   ]
  },
  {
   "cell_type": "code",
   "execution_count": 3,
   "metadata": {},
   "outputs": [],
   "source": [
    "cancer_types = [\n",
    "    \"brca\",\n",
    "    \"ccrcc\",\n",
    "    \"colon\",\n",
    "    \"endometrial\",\n",
    "    \"gbm\",\n",
    "    \"hnscc\",\n",
    "    \"lscc\",\n",
    "    \"luad\",\n",
    "    \"ovarian\"\n",
    "]"
   ]
  },
  {
   "cell_type": "code",
   "execution_count": 4,
   "metadata": {},
   "outputs": [],
   "source": [
    "summaries_dir = \"summary_tables\"\n",
    "arm_summary = pd.DataFrame()\n",
    "\n",
    "for cancer_type in cancer_types:\n",
    "    file_path = os.path.join(summaries_dir, f\"{cancer_type}_cna_summary.tsv.gz\")\n",
    "    df = pd.read_csv(file_path, sep=\"\\t\").\\\n",
    "        assign(cancer_type=cancer_type)\n",
    "    \n",
    "    arm_summary = arm_summary.append(df)"
   ]
  },
  {
   "cell_type": "code",
   "execution_count": 5,
   "metadata": {},
   "outputs": [
    {
     "data": {
      "text/html": [
       "<div>\n",
       "<style scoped>\n",
       "    .dataframe tbody tr th:only-of-type {\n",
       "        vertical-align: middle;\n",
       "    }\n",
       "\n",
       "    .dataframe tbody tr th {\n",
       "        vertical-align: top;\n",
       "    }\n",
       "\n",
       "    .dataframe thead th {\n",
       "        text-align: right;\n",
       "    }\n",
       "</style>\n",
       "<table border=\"1\" class=\"dataframe\">\n",
       "  <thead>\n",
       "    <tr style=\"text-align: right;\">\n",
       "      <th></th>\n",
       "      <th>Patient_ID</th>\n",
       "      <th>chromosome</th>\n",
       "      <th>arm</th>\n",
       "      <th>prop_arm_amplified</th>\n",
       "      <th>prop_arm_deleted</th>\n",
       "      <th>cancer_type</th>\n",
       "    </tr>\n",
       "  </thead>\n",
       "  <tbody>\n",
       "    <tr>\n",
       "      <th>0</th>\n",
       "      <td>CPT000814</td>\n",
       "      <td>1</td>\n",
       "      <td>p</td>\n",
       "      <td>0.021756</td>\n",
       "      <td>0.028943</td>\n",
       "      <td>brca</td>\n",
       "    </tr>\n",
       "    <tr>\n",
       "      <th>1</th>\n",
       "      <td>CPT000814</td>\n",
       "      <td>1</td>\n",
       "      <td>q</td>\n",
       "      <td>0.782801</td>\n",
       "      <td>0.019510</td>\n",
       "      <td>brca</td>\n",
       "    </tr>\n",
       "    <tr>\n",
       "      <th>2</th>\n",
       "      <td>CPT000814</td>\n",
       "      <td>10</td>\n",
       "      <td>p</td>\n",
       "      <td>0.338837</td>\n",
       "      <td>0.000000</td>\n",
       "      <td>brca</td>\n",
       "    </tr>\n",
       "    <tr>\n",
       "      <th>3</th>\n",
       "      <td>CPT000814</td>\n",
       "      <td>11</td>\n",
       "      <td>p</td>\n",
       "      <td>0.083562</td>\n",
       "      <td>0.005349</td>\n",
       "      <td>brca</td>\n",
       "    </tr>\n",
       "    <tr>\n",
       "      <th>4</th>\n",
       "      <td>CPT000814</td>\n",
       "      <td>11</td>\n",
       "      <td>q</td>\n",
       "      <td>0.000002</td>\n",
       "      <td>0.982518</td>\n",
       "      <td>brca</td>\n",
       "    </tr>\n",
       "  </tbody>\n",
       "</table>\n",
       "</div>"
      ],
      "text/plain": [
       "  Patient_ID chromosome arm  prop_arm_amplified  prop_arm_deleted cancer_type\n",
       "0  CPT000814          1   p            0.021756          0.028943        brca\n",
       "1  CPT000814          1   q            0.782801          0.019510        brca\n",
       "2  CPT000814         10   p            0.338837          0.000000        brca\n",
       "3  CPT000814         11   p            0.083562          0.005349        brca\n",
       "4  CPT000814         11   q            0.000002          0.982518        brca"
      ]
     },
     "execution_count": 5,
     "metadata": {},
     "output_type": "execute_result"
    }
   ],
   "source": [
    "arm_summary.head()"
   ]
  },
  {
   "cell_type": "code",
   "execution_count": 6,
   "metadata": {},
   "outputs": [
    {
     "data": {
      "text/html": [
       "<div>\n",
       "<style scoped>\n",
       "    .dataframe tbody tr th:only-of-type {\n",
       "        vertical-align: middle;\n",
       "    }\n",
       "\n",
       "    .dataframe tbody tr th {\n",
       "        vertical-align: top;\n",
       "    }\n",
       "\n",
       "    .dataframe thead th {\n",
       "        text-align: right;\n",
       "    }\n",
       "</style>\n",
       "<table border=\"1\" class=\"dataframe\">\n",
       "  <thead>\n",
       "    <tr style=\"text-align: right;\">\n",
       "      <th></th>\n",
       "      <th>cancer_type</th>\n",
       "      <th>Patient_ID</th>\n",
       "      <th>chromosome</th>\n",
       "      <th>prop_chr_amplified</th>\n",
       "      <th>prop_chr_deleted</th>\n",
       "    </tr>\n",
       "  </thead>\n",
       "  <tbody>\n",
       "    <tr>\n",
       "      <th>0</th>\n",
       "      <td>brca</td>\n",
       "      <td>CPT000814</td>\n",
       "      <td>1</td>\n",
       "      <td>0.804557</td>\n",
       "      <td>0.048453</td>\n",
       "    </tr>\n",
       "    <tr>\n",
       "      <th>1</th>\n",
       "      <td>brca</td>\n",
       "      <td>CPT000814</td>\n",
       "      <td>10</td>\n",
       "      <td>0.338837</td>\n",
       "      <td>0.000000</td>\n",
       "    </tr>\n",
       "    <tr>\n",
       "      <th>2</th>\n",
       "      <td>brca</td>\n",
       "      <td>CPT000814</td>\n",
       "      <td>11</td>\n",
       "      <td>0.083563</td>\n",
       "      <td>0.987867</td>\n",
       "    </tr>\n",
       "    <tr>\n",
       "      <th>3</th>\n",
       "      <td>brca</td>\n",
       "      <td>CPT000814</td>\n",
       "      <td>12</td>\n",
       "      <td>1.005555</td>\n",
       "      <td>0.310725</td>\n",
       "    </tr>\n",
       "    <tr>\n",
       "      <th>4</th>\n",
       "      <td>brca</td>\n",
       "      <td>CPT000814</td>\n",
       "      <td>13</td>\n",
       "      <td>0.226643</td>\n",
       "      <td>0.695223</td>\n",
       "    </tr>\n",
       "  </tbody>\n",
       "</table>\n",
       "</div>"
      ],
      "text/plain": [
       "  cancer_type Patient_ID chromosome  prop_chr_amplified  prop_chr_deleted\n",
       "0        brca  CPT000814          1            0.804557          0.048453\n",
       "1        brca  CPT000814         10            0.338837          0.000000\n",
       "2        brca  CPT000814         11            0.083563          0.987867\n",
       "3        brca  CPT000814         12            1.005555          0.310725\n",
       "4        brca  CPT000814         13            0.226643          0.695223"
      ]
     },
     "execution_count": 6,
     "metadata": {},
     "output_type": "execute_result"
    }
   ],
   "source": [
    "chr_summary = arm_summary.\\\n",
    "    groupby([\"cancer_type\", \"Patient_ID\", \"chromosome\"])[[\"prop_arm_amplified\", \"prop_arm_deleted\"]].\\\n",
    "    sum().\\\n",
    "    reset_index(drop=False).\\\n",
    "    rename(columns={\"prop_arm_amplified\": \"prop_chr_amplified\", \"prop_arm_deleted\": \"prop_chr_deleted\"})\n",
    "\n",
    "chr_summary.head()"
   ]
  },
  {
   "cell_type": "markdown",
   "metadata": {},
   "source": [
    "## Plot 1: Overall distribution of proportions of arms amplified or deleted"
   ]
  },
  {
   "cell_type": "code",
   "execution_count": 7,
   "metadata": {},
   "outputs": [],
   "source": [
    "prop_arm_events = pd.DataFrame({\n",
    "    \"prop_covered\": arm_summary[\"prop_arm_amplified\"].append(arm_summary[\"prop_arm_deleted\"])\n",
    "})"
   ]
  },
  {
   "cell_type": "code",
   "execution_count": 8,
   "metadata": {},
   "outputs": [
    {
     "data": {
      "text/html": [
       "\n",
       "<div id=\"altair-viz-1655a251c99d40478a7544c7cf521f8b\"></div>\n",
       "<script type=\"text/javascript\">\n",
       "  (function(spec, embedOpt){\n",
       "    let outputDiv = document.currentScript.previousElementSibling;\n",
       "    if (outputDiv.id !== \"altair-viz-1655a251c99d40478a7544c7cf521f8b\") {\n",
       "      outputDiv = document.getElementById(\"altair-viz-1655a251c99d40478a7544c7cf521f8b\");\n",
       "    }\n",
       "    const paths = {\n",
       "      \"vega\": \"https://cdn.jsdelivr.net/npm//vega@5?noext\",\n",
       "      \"vega-lib\": \"https://cdn.jsdelivr.net/npm//vega-lib?noext\",\n",
       "      \"vega-lite\": \"https://cdn.jsdelivr.net/npm//vega-lite@4.8.1?noext\",\n",
       "      \"vega-embed\": \"https://cdn.jsdelivr.net/npm//vega-embed@6?noext\",\n",
       "    };\n",
       "\n",
       "    function loadScript(lib) {\n",
       "      return new Promise(function(resolve, reject) {\n",
       "        var s = document.createElement('script');\n",
       "        s.src = paths[lib];\n",
       "        s.async = true;\n",
       "        s.onload = () => resolve(paths[lib]);\n",
       "        s.onerror = () => reject(`Error loading script: ${paths[lib]}`);\n",
       "        document.getElementsByTagName(\"head\")[0].appendChild(s);\n",
       "      });\n",
       "    }\n",
       "\n",
       "    function showError(err) {\n",
       "      outputDiv.innerHTML = `<div class=\"error\" style=\"color:red;\">${err}</div>`;\n",
       "      throw err;\n",
       "    }\n",
       "\n",
       "    function displayChart(vegaEmbed) {\n",
       "      vegaEmbed(outputDiv, spec, embedOpt)\n",
       "        .catch(err => showError(`Javascript Error: ${err.message}<br>This usually means there's a typo in your chart specification. See the javascript console for the full traceback.`));\n",
       "    }\n",
       "\n",
       "    if(typeof define === \"function\" && define.amd) {\n",
       "      requirejs.config({paths});\n",
       "      require([\"vega-embed\"], displayChart, err => showError(`Error loading script: ${err.message}`));\n",
       "    } else if (typeof vegaEmbed === \"function\") {\n",
       "      displayChart(vegaEmbed);\n",
       "    } else {\n",
       "      loadScript(\"vega\")\n",
       "        .then(() => loadScript(\"vega-lite\"))\n",
       "        .then(() => loadScript(\"vega-embed\"))\n",
       "        .catch(showError)\n",
       "        .then(() => displayChart(vegaEmbed));\n",
       "    }\n",
       "  })({\"config\": {\"view\": {\"continuousWidth\": 400, \"continuousHeight\": 300}}, \"data\": {\"url\": \"plot_data/altair-data-6a962af950f464bef192641ccd99e1fb.json\", \"format\": {\"type\": \"json\"}}, \"mark\": \"bar\", \"encoding\": {\"x\": {\"type\": \"quantitative\", \"bin\": {\"step\": 0.01}, \"field\": \"prop_covered\"}, \"y\": {\"type\": \"quantitative\", \"aggregate\": \"count\"}}, \"title\": \"Distribution of events across arms\", \"width\": 800, \"$schema\": \"https://vega.github.io/schema/vega-lite/v4.8.1.json\"}, {\"mode\": \"vega-lite\"});\n",
       "</script>"
      ],
      "text/plain": [
       "alt.Chart(...)"
      ]
     },
     "execution_count": 8,
     "metadata": {},
     "output_type": "execute_result"
    }
   ],
   "source": [
    "alt.Chart(prop_arm_events).mark_bar().encode(\n",
    "    x=alt.X(\n",
    "        \"prop_covered:Q\",\n",
    "        bin=alt.Bin(step=0.01)\n",
    "    ),\n",
    "    y=alt.Y(\n",
    "        \"count()\"\n",
    "    )\n",
    ").properties(\n",
    "    width=800,\n",
    "    title=\"Distribution of events across arms\"\n",
    ")"
   ]
  },
  {
   "cell_type": "markdown",
   "metadata": {},
   "source": [
    "## Plot 2: Proportion of chromosome amplified or deleted"
   ]
  },
  {
   "cell_type": "code",
   "execution_count": 9,
   "metadata": {},
   "outputs": [],
   "source": [
    "prop_chr_events = pd.DataFrame({\n",
    "    \"prop_covered\": chr_summary[\"prop_chr_amplified\"].append(chr_summary[\"prop_chr_deleted\"])\n",
    "})"
   ]
  },
  {
   "cell_type": "code",
   "execution_count": 10,
   "metadata": {},
   "outputs": [
    {
     "data": {
      "text/html": [
       "\n",
       "<div id=\"altair-viz-a6ba608151a445319253bf7df4e18dc9\"></div>\n",
       "<script type=\"text/javascript\">\n",
       "  (function(spec, embedOpt){\n",
       "    let outputDiv = document.currentScript.previousElementSibling;\n",
       "    if (outputDiv.id !== \"altair-viz-a6ba608151a445319253bf7df4e18dc9\") {\n",
       "      outputDiv = document.getElementById(\"altair-viz-a6ba608151a445319253bf7df4e18dc9\");\n",
       "    }\n",
       "    const paths = {\n",
       "      \"vega\": \"https://cdn.jsdelivr.net/npm//vega@5?noext\",\n",
       "      \"vega-lib\": \"https://cdn.jsdelivr.net/npm//vega-lib?noext\",\n",
       "      \"vega-lite\": \"https://cdn.jsdelivr.net/npm//vega-lite@4.8.1?noext\",\n",
       "      \"vega-embed\": \"https://cdn.jsdelivr.net/npm//vega-embed@6?noext\",\n",
       "    };\n",
       "\n",
       "    function loadScript(lib) {\n",
       "      return new Promise(function(resolve, reject) {\n",
       "        var s = document.createElement('script');\n",
       "        s.src = paths[lib];\n",
       "        s.async = true;\n",
       "        s.onload = () => resolve(paths[lib]);\n",
       "        s.onerror = () => reject(`Error loading script: ${paths[lib]}`);\n",
       "        document.getElementsByTagName(\"head\")[0].appendChild(s);\n",
       "      });\n",
       "    }\n",
       "\n",
       "    function showError(err) {\n",
       "      outputDiv.innerHTML = `<div class=\"error\" style=\"color:red;\">${err}</div>`;\n",
       "      throw err;\n",
       "    }\n",
       "\n",
       "    function displayChart(vegaEmbed) {\n",
       "      vegaEmbed(outputDiv, spec, embedOpt)\n",
       "        .catch(err => showError(`Javascript Error: ${err.message}<br>This usually means there's a typo in your chart specification. See the javascript console for the full traceback.`));\n",
       "    }\n",
       "\n",
       "    if(typeof define === \"function\" && define.amd) {\n",
       "      requirejs.config({paths});\n",
       "      require([\"vega-embed\"], displayChart, err => showError(`Error loading script: ${err.message}`));\n",
       "    } else if (typeof vegaEmbed === \"function\") {\n",
       "      displayChart(vegaEmbed);\n",
       "    } else {\n",
       "      loadScript(\"vega\")\n",
       "        .then(() => loadScript(\"vega-lite\"))\n",
       "        .then(() => loadScript(\"vega-embed\"))\n",
       "        .catch(showError)\n",
       "        .then(() => displayChart(vegaEmbed));\n",
       "    }\n",
       "  })({\"config\": {\"view\": {\"continuousWidth\": 400, \"continuousHeight\": 300}}, \"data\": {\"url\": \"plot_data/altair-data-ae550baee9d1072b79b449924c197ff5.json\", \"format\": {\"type\": \"json\"}}, \"mark\": \"bar\", \"encoding\": {\"x\": {\"type\": \"quantitative\", \"bin\": {\"step\": 0.02}, \"field\": \"prop_covered\", \"scale\": {\"domain\": [0, 2]}}, \"y\": {\"type\": \"quantitative\", \"aggregate\": \"count\"}}, \"title\": \"Distribution of events across chromosomes\", \"width\": 800, \"$schema\": \"https://vega.github.io/schema/vega-lite/v4.8.1.json\"}, {\"mode\": \"vega-lite\"});\n",
       "</script>"
      ],
      "text/plain": [
       "alt.Chart(...)"
      ]
     },
     "execution_count": 10,
     "metadata": {},
     "output_type": "execute_result"
    }
   ],
   "source": [
    "alt.Chart(prop_chr_events).mark_bar().encode(\n",
    "    x=alt.X(\n",
    "        \"prop_covered:Q\",\n",
    "        bin=alt.Bin(step=0.02),\n",
    "        scale=alt.Scale(domain=(0, 2))\n",
    "    ),\n",
    "    y=alt.Y(\n",
    "        \"count()\"\n",
    "    )\n",
    ").properties(\n",
    "    width=800,\n",
    "    title=\"Distribution of events across chromosomes\"\n",
    ")"
   ]
  }
 ],
 "metadata": {
  "kernelspec": {
   "display_name": "Python 3",
   "language": "python",
   "name": "python3"
  },
  "language_info": {
   "codemirror_mode": {
    "name": "ipython",
    "version": 3
   },
   "file_extension": ".py",
   "mimetype": "text/x-python",
   "name": "python",
   "nbconvert_exporter": "python",
   "pygments_lexer": "ipython3",
   "version": "3.7.7"
  }
 },
 "nbformat": 4,
 "nbformat_minor": 4
}
