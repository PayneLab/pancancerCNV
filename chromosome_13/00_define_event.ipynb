{
 "cells": [
  {
   "cell_type": "markdown",
   "metadata": {},
   "source": [
    "# Define Event\n",
    "\n",
    "Before we can analyze the event, we need to identify the boundaries of the event. We will accomplish this by\n",
    "\n",
    "1. Defining the values to be classified as gains and losses\n",
    "2. Creating a counts table defining the various events\n",
    "3. Defining the porportion of patients with gain or loss to be considered significant\n",
    "4. Identifying regions of gain and loss\n",
    "5. Identifying regions where all cancer types meet criteria for gain or loss event."
   ]
  },
  {
   "cell_type": "markdown",
   "metadata": {},
   "source": [
    "## Setup"
   ]
  },
  {
   "cell_type": "code",
   "execution_count": 1,
   "metadata": {},
   "outputs": [
    {
     "name": "stderr",
     "output_type": "stream",
     "text": [
      "cptac warning: Your version of cptac (0.8.5) is out-of-date. Latest is 0.8.6. Please run 'pip install --upgrade cptac' to update it. (<ipython-input-1-7c050b7b6e1e>, line 4)\n"
     ]
    }
   ],
   "source": [
    "import seaborn as sns\n",
    "import pandas as pd\n",
    "import matplotlib.pyplot as plt\n",
    "import cptac\n",
    "import numpy as np\n",
    "import cnvutils"
   ]
  },
  {
   "cell_type": "markdown",
   "metadata": {},
   "source": [
    "## Part 1: Define Parameters\n",
    "\n",
    "These are the parameters that must be set for each analysis."
   ]
  },
  {
   "cell_type": "code",
   "execution_count": 2,
   "metadata": {},
   "outputs": [],
   "source": [
    "# # A list of cancer types to look at (should be all capital letter ex: BRCA)\n",
    "# CANCER_TYPES = ['BRCA', 'COLON', 'HNSCC', 'LSCC', 'LUAD', 'OVARIAN']\n",
    "# The porportion of patients with gain or loss of a given gene to be considered\n",
    "PATIENT_CUTOFF = 0.2\n",
    "# The chromosome to be analyzed (should be a string)\n",
    "CHROMOSOME = '13'\n",
    "# The arm to be analyzed. Options are: 'p', 'q' or 'both'.\n",
    "ARM = 'q'"
   ]
  },
  {
   "cell_type": "code",
   "execution_count": 3,
   "metadata": {},
   "outputs": [
    {
     "name": "stdout",
     "output_type": "stream",
     "text": [
      "Checking that hnscc index is up-to-date...\r"
     ]
    },
    {
     "name": "stderr",
     "output_type": "stream",
     "text": [
      "cptac warning: The GBM dataset is under publication embargo until March 01, 2021. CPTAC is a community resource project and data are made available rapidly after generation for community research use. The embargo allows exploring and utilizing the data, but analysis may not be published until after the embargo date. Please see https://proteomics.cancer.gov/data-portal/about/data-use-agreement or enter cptac.embargo() to open the webpage for more details. (<ipython-input-3-a1fe5222d684>, line 8)\n"
     ]
    },
    {
     "name": "stdout",
     "output_type": "stream",
     "text": [
      "Checking that lscc index is up-to-date... \r"
     ]
    },
    {
     "name": "stderr",
     "output_type": "stream",
     "text": [
      "cptac warning: The HNSCC data is currently strictly reserved for CPTAC investigators. Otherwise, you are not authorized to access these data. Additionally, even after these data become publicly available, they will be subject to a publication embargo (see https://proteomics.cancer.gov/data-portal/about/data-use-agreement or enter cptac.embargo() to open the webpage for more details). (<ipython-input-3-a1fe5222d684>, line 9)\n"
     ]
    },
    {
     "name": "stdout",
     "output_type": "stream",
     "text": [
      "Checking that luad index is up-to-date...\r"
     ]
    },
    {
     "name": "stderr",
     "output_type": "stream",
     "text": [
      "cptac warning: The LSCC data is currently strictly reserved for CPTAC investigators. Otherwise, you are not authorized to access these data. Additionally, even after these data become publicly available, they will be subject to a publication embargo (see https://proteomics.cancer.gov/data-portal/about/data-use-agreement or enter cptac.embargo() to open the webpage for more details). (<ipython-input-3-a1fe5222d684>, line 10)\n"
     ]
    },
    {
     "name": "stdout",
     "output_type": "stream",
     "text": [
      "                                            \r"
     ]
    }
   ],
   "source": [
    "# Here you will need to load in all the cancer types to be considered. We have listed all for convenience, simply comment\n",
    "# out the cancer types you do not want to consider.\n",
    "cnv = {\n",
    "    'BRCA': cptac.Brca().get_CNV(),\n",
    "#     'CCRCC': cptac.Ccrcc().get_CNV(),\n",
    "#     'COLON': cptac.Colon().get_CNV(),\n",
    "#     'ENDO': cptac.Endometrial().get_CNV(),\n",
    "    'GBM': cptac.Gbm().get_CNV(),\n",
    "    'HNSCC': cptac.Hnscc().get_CNV(),\n",
    "    'LSCC': cptac.Lscc().get_CNV(),\n",
    "    'LUAD': cptac.Luad().get_CNV(),\n",
    "    'OVARIAN': cptac.Ovarian().get_CNV()\n",
    "}"
   ]
  },
  {
   "cell_type": "markdown",
   "metadata": {},
   "source": [
    "## Part 2: Determine Cutoffs"
   ]
  },
  {
   "cell_type": "code",
   "execution_count": 4,
   "metadata": {},
   "outputs": [
    {
     "name": "stderr",
     "output_type": "stream",
     "text": [
      "C:\\Users\\chels\\anaconda3\\envs\\notebooks\\lib\\site-packages\\IPython\\core\\interactiveshell.py:3337: DtypeWarning: Columns (2) have mixed types.Specify dtype option on import or set low_memory=False.\n",
      "  if (await self.run_code(code, result,  async_=asy)):\n"
     ]
    }
   ],
   "source": [
    "counts = cnvutils.get_counts_table()"
   ]
  },
  {
   "cell_type": "code",
   "execution_count": 5,
   "metadata": {},
   "outputs": [],
   "source": [
    "cutoffs = dict()\n",
    "for cancer_type in cnv.keys():\n",
    "    df = cnv[cancer_type]\n",
    "    cutoffs[cancer_type] = len(df) * PATIENT_CUTOFF"
   ]
  },
  {
   "cell_type": "markdown",
   "metadata": {},
   "source": [
    "## Part 3: Subset Event"
   ]
  },
  {
   "cell_type": "code",
   "execution_count": 6,
   "metadata": {},
   "outputs": [],
   "source": [
    "# counts.cancer.unique()"
   ]
  },
  {
   "cell_type": "code",
   "execution_count": 7,
   "metadata": {},
   "outputs": [],
   "source": [
    "counts = counts[(counts.chromosome == CHROMOSOME)]\n",
    "if ARM != 'both':\n",
    "    counts = counts[counts.arm == ARM]"
   ]
  },
  {
   "cell_type": "code",
   "execution_count": 8,
   "metadata": {},
   "outputs": [],
   "source": [
    "# counts"
   ]
  },
  {
   "cell_type": "markdown",
   "metadata": {},
   "source": [
    "## Find Loss Regions"
   ]
  },
  {
   "cell_type": "code",
   "execution_count": 9,
   "metadata": {},
   "outputs": [
    {
     "name": "stdout",
     "output_type": "stream",
     "text": [
      "515\n",
      "310\n",
      "1335\n",
      "543\n",
      "298\n",
      "268\n"
     ]
    }
   ],
   "source": [
    "df = counts\n",
    "loss_event_locations = dict()\n",
    "for cancer in cnv.keys():\n",
    "    df_loss = df[(df.variable == 'loss') & (df.cancer == cancer)].sort_values('start_bp')\n",
    "    print(len(df_loss))\n",
    "    values = list(df_loss.value)\n",
    "    loss_events = list()\n",
    "    start = None\n",
    "    for i in range(0, len(values)):\n",
    "        val = values[i]\n",
    "        if val > cutoffs[cancer]:\n",
    "            if start is None:\n",
    "                start = i\n",
    "        else:\n",
    "            if start is not None:\n",
    "                loss_events.append((start, i))\n",
    "                start = None\n",
    "    if start is not None:\n",
    "        loss_events.append((start, len(values)-1))\n",
    "    event_locations = list()\n",
    "    for event in loss_events:\n",
    "        start_bp = df_loss.iloc[event[0]].start_bp\n",
    "        end_bp = df_loss.iloc[event[1]].start_bp\n",
    "        event_locations.append((start_bp, end_bp-start_bp))\n",
    "    loss_event_locations[cancer] = event_locations"
   ]
  },
  {
   "cell_type": "code",
   "execution_count": 10,
   "metadata": {},
   "outputs": [
    {
     "data": {
      "text/plain": [
       "[(19173772.0, 95107829.0)]"
      ]
     },
     "execution_count": 10,
     "metadata": {},
     "output_type": "execute_result"
    }
   ],
   "source": [
    "loss_event_locations['LUAD']"
   ]
  },
  {
   "cell_type": "code",
   "execution_count": 11,
   "metadata": {},
   "outputs": [],
   "source": [
    "loss_event_patients = list()\n",
    "for cancer in loss_event_locations.keys():\n",
    "    events = loss_event_locations[cancer]\n",
    "    for event in events:\n",
    "        start = event[0]\n",
    "        end = event[0] + event[1]\n",
    "        loss_event_patients.append((start, 1))\n",
    "        loss_event_patients.append((end, 0))\n",
    "#     patients += list(gain_event_locations[cancer])\n",
    "loss_event_patients.sort()"
   ]
  },
  {
   "cell_type": "code",
   "execution_count": 12,
   "metadata": {},
   "outputs": [
    {
     "data": {
      "text/html": [
       "<div>\n",
       "<style scoped>\n",
       "    .dataframe tbody tr th:only-of-type {\n",
       "        vertical-align: middle;\n",
       "    }\n",
       "\n",
       "    .dataframe tbody tr th {\n",
       "        vertical-align: top;\n",
       "    }\n",
       "\n",
       "    .dataframe thead th {\n",
       "        text-align: right;\n",
       "    }\n",
       "</style>\n",
       "<table border=\"1\" class=\"dataframe\">\n",
       "  <thead>\n",
       "    <tr style=\"text-align: right;\">\n",
       "      <th></th>\n",
       "      <th>Name</th>\n",
       "      <th>Database_ID</th>\n",
       "      <th>start_bp</th>\n",
       "      <th>end_bp</th>\n",
       "      <th>cancer</th>\n",
       "      <th>chromosome</th>\n",
       "      <th>arm</th>\n",
       "      <th>variable</th>\n",
       "      <th>value</th>\n",
       "    </tr>\n",
       "  </thead>\n",
       "  <tbody>\n",
       "    <tr>\n",
       "      <th>75</th>\n",
       "      <td>ABCC4</td>\n",
       "      <td>ENSG00000125257.9</td>\n",
       "      <td>95019835.0</td>\n",
       "      <td>95301475.0</td>\n",
       "      <td>BRCA</td>\n",
       "      <td>13</td>\n",
       "      <td>q</td>\n",
       "      <td>gain</td>\n",
       "      <td>12</td>\n",
       "    </tr>\n",
       "    <tr>\n",
       "      <th>100</th>\n",
       "      <td>ABHD13</td>\n",
       "      <td>ENSG00000139826.5</td>\n",
       "      <td>108218392.0</td>\n",
       "      <td>108234243.0</td>\n",
       "      <td>BRCA</td>\n",
       "      <td>13</td>\n",
       "      <td>q</td>\n",
       "      <td>gain</td>\n",
       "      <td>18</td>\n",
       "    </tr>\n",
       "    <tr>\n",
       "      <th>101</th>\n",
       "      <td>ABHD13</td>\n",
       "      <td>ENSG00000139826.5</td>\n",
       "      <td>108218392.0</td>\n",
       "      <td>108234243.0</td>\n",
       "      <td>CCRCC</td>\n",
       "      <td>13</td>\n",
       "      <td>q</td>\n",
       "      <td>gain</td>\n",
       "      <td>5</td>\n",
       "    </tr>\n",
       "    <tr>\n",
       "      <th>399</th>\n",
       "      <td>ADPRHL1</td>\n",
       "      <td>ENSG00000153531.8</td>\n",
       "      <td>113399610.0</td>\n",
       "      <td>113453524.0</td>\n",
       "      <td>BRCA</td>\n",
       "      <td>13</td>\n",
       "      <td>q</td>\n",
       "      <td>gain</td>\n",
       "      <td>21</td>\n",
       "    </tr>\n",
       "    <tr>\n",
       "      <th>532</th>\n",
       "      <td>AKAP11</td>\n",
       "      <td>ENSG00000023516.7</td>\n",
       "      <td>42272152.0</td>\n",
       "      <td>42323261.0</td>\n",
       "      <td>BRCA</td>\n",
       "      <td>13</td>\n",
       "      <td>q</td>\n",
       "      <td>gain</td>\n",
       "      <td>8</td>\n",
       "    </tr>\n",
       "    <tr>\n",
       "      <th>...</th>\n",
       "      <td>...</td>\n",
       "      <td>...</td>\n",
       "      <td>...</td>\n",
       "      <td>...</td>\n",
       "      <td>...</td>\n",
       "      <td>...</td>\n",
       "      <td>...</td>\n",
       "      <td>...</td>\n",
       "      <td>...</td>\n",
       "    </tr>\n",
       "    <tr>\n",
       "      <th>476486</th>\n",
       "      <td>ZDHHC20P4</td>\n",
       "      <td>NaN</td>\n",
       "      <td>68985058.0</td>\n",
       "      <td>68986064.0</td>\n",
       "      <td>HNSCC</td>\n",
       "      <td>13</td>\n",
       "      <td>q</td>\n",
       "      <td>loss</td>\n",
       "      <td>23</td>\n",
       "    </tr>\n",
       "    <tr>\n",
       "      <th>476487</th>\n",
       "      <td>ZDHHC4P1</td>\n",
       "      <td>NaN</td>\n",
       "      <td>42933858.0</td>\n",
       "      <td>42934892.0</td>\n",
       "      <td>HNSCC</td>\n",
       "      <td>13</td>\n",
       "      <td>q</td>\n",
       "      <td>loss</td>\n",
       "      <td>28</td>\n",
       "    </tr>\n",
       "    <tr>\n",
       "      <th>476531</th>\n",
       "      <td>ZNF646P1</td>\n",
       "      <td>NaN</td>\n",
       "      <td>53408882.0</td>\n",
       "      <td>53409876.0</td>\n",
       "      <td>HNSCC</td>\n",
       "      <td>13</td>\n",
       "      <td>q</td>\n",
       "      <td>loss</td>\n",
       "      <td>26</td>\n",
       "    </tr>\n",
       "    <tr>\n",
       "      <th>476570</th>\n",
       "      <td>ZNF962P</td>\n",
       "      <td>NaN</td>\n",
       "      <td>18467172.0</td>\n",
       "      <td>18485448.0</td>\n",
       "      <td>HNSCC</td>\n",
       "      <td>13</td>\n",
       "      <td>q</td>\n",
       "      <td>loss</td>\n",
       "      <td>27</td>\n",
       "    </tr>\n",
       "    <tr>\n",
       "      <th>476571</th>\n",
       "      <td>ZNF965P</td>\n",
       "      <td>NaN</td>\n",
       "      <td>18734080.0</td>\n",
       "      <td>18734896.0</td>\n",
       "      <td>HNSCC</td>\n",
       "      <td>13</td>\n",
       "      <td>q</td>\n",
       "      <td>loss</td>\n",
       "      <td>28</td>\n",
       "    </tr>\n",
       "  </tbody>\n",
       "</table>\n",
       "<p>9212 rows × 9 columns</p>\n",
       "</div>"
      ],
      "text/plain": [
       "             Name        Database_ID     start_bp       end_bp cancer  \\\n",
       "75          ABCC4  ENSG00000125257.9   95019835.0   95301475.0   BRCA   \n",
       "100        ABHD13  ENSG00000139826.5  108218392.0  108234243.0   BRCA   \n",
       "101        ABHD13  ENSG00000139826.5  108218392.0  108234243.0  CCRCC   \n",
       "399       ADPRHL1  ENSG00000153531.8  113399610.0  113453524.0   BRCA   \n",
       "532        AKAP11  ENSG00000023516.7   42272152.0   42323261.0   BRCA   \n",
       "...           ...                ...          ...          ...    ...   \n",
       "476486  ZDHHC20P4                NaN   68985058.0   68986064.0  HNSCC   \n",
       "476487   ZDHHC4P1                NaN   42933858.0   42934892.0  HNSCC   \n",
       "476531   ZNF646P1                NaN   53408882.0   53409876.0  HNSCC   \n",
       "476570    ZNF962P                NaN   18467172.0   18485448.0  HNSCC   \n",
       "476571    ZNF965P                NaN   18734080.0   18734896.0  HNSCC   \n",
       "\n",
       "       chromosome arm variable  value  \n",
       "75             13   q     gain     12  \n",
       "100            13   q     gain     18  \n",
       "101            13   q     gain      5  \n",
       "399            13   q     gain     21  \n",
       "532            13   q     gain      8  \n",
       "...           ...  ..      ...    ...  \n",
       "476486         13   q     loss     23  \n",
       "476487         13   q     loss     28  \n",
       "476531         13   q     loss     26  \n",
       "476570         13   q     loss     27  \n",
       "476571         13   q     loss     28  \n",
       "\n",
       "[9212 rows x 9 columns]"
      ]
     },
     "execution_count": 12,
     "metadata": {},
     "output_type": "execute_result"
    }
   ],
   "source": [
    "counts"
   ]
  },
  {
   "cell_type": "code",
   "execution_count": 13,
   "metadata": {},
   "outputs": [],
   "source": [
    "count = 0\n",
    "current_bp = 0\n",
    "start = list()\n",
    "end = list()\n",
    "size = list()\n",
    "total = list()\n",
    "for patient in loss_event_patients:\n",
    "    if patient[0] != current_bp:\n",
    "        start.append(current_bp)\n",
    "        end.append(patient[0])\n",
    "        size.append(patient[0]-current_bp)\n",
    "        total.append(count)\n",
    "        current_bp = patient[0]\n",
    "    if patient[1] == 1:\n",
    "        count += 1\n",
    "    else:\n",
    "        count -= 1\n",
    "loss_event_data = pd.DataFrame({'start': start, 'end': end, 'counts': total, 'length': size})"
   ]
  },
  {
   "cell_type": "code",
   "execution_count": 14,
   "metadata": {},
   "outputs": [
    {
     "data": {
      "text/html": [
       "<div>\n",
       "<style scoped>\n",
       "    .dataframe tbody tr th:only-of-type {\n",
       "        vertical-align: middle;\n",
       "    }\n",
       "\n",
       "    .dataframe tbody tr th {\n",
       "        vertical-align: top;\n",
       "    }\n",
       "\n",
       "    .dataframe thead th {\n",
       "        text-align: right;\n",
       "    }\n",
       "</style>\n",
       "<table border=\"1\" class=\"dataframe\">\n",
       "  <thead>\n",
       "    <tr style=\"text-align: right;\">\n",
       "      <th></th>\n",
       "      <th>start</th>\n",
       "      <th>end</th>\n",
       "      <th>counts</th>\n",
       "      <th>length</th>\n",
       "    </tr>\n",
       "  </thead>\n",
       "  <tbody>\n",
       "    <tr>\n",
       "      <th>0</th>\n",
       "      <td>0.0</td>\n",
       "      <td>18174010.0</td>\n",
       "      <td>0</td>\n",
       "      <td>18174010.0</td>\n",
       "    </tr>\n",
       "    <tr>\n",
       "      <th>1</th>\n",
       "      <td>18174010.0</td>\n",
       "      <td>18195297.0</td>\n",
       "      <td>1</td>\n",
       "      <td>21287.0</td>\n",
       "    </tr>\n",
       "    <tr>\n",
       "      <th>2</th>\n",
       "      <td>18195297.0</td>\n",
       "      <td>19173772.0</td>\n",
       "      <td>3</td>\n",
       "      <td>978475.0</td>\n",
       "    </tr>\n",
       "    <tr>\n",
       "      <th>3</th>\n",
       "      <td>19173772.0</td>\n",
       "      <td>19422877.0</td>\n",
       "      <td>5</td>\n",
       "      <td>249105.0</td>\n",
       "    </tr>\n",
       "    <tr>\n",
       "      <th>4</th>\n",
       "      <td>19422877.0</td>\n",
       "      <td>27255401.0</td>\n",
       "      <td>6</td>\n",
       "      <td>7832524.0</td>\n",
       "    </tr>\n",
       "    <tr>\n",
       "      <th>5</th>\n",
       "      <td>27255401.0</td>\n",
       "      <td>27270327.0</td>\n",
       "      <td>5</td>\n",
       "      <td>14926.0</td>\n",
       "    </tr>\n",
       "    <tr>\n",
       "      <th>6</th>\n",
       "      <td>27270327.0</td>\n",
       "      <td>45337480.0</td>\n",
       "      <td>6</td>\n",
       "      <td>18067153.0</td>\n",
       "    </tr>\n",
       "    <tr>\n",
       "      <th>7</th>\n",
       "      <td>45337480.0</td>\n",
       "      <td>45393316.0</td>\n",
       "      <td>5</td>\n",
       "      <td>55836.0</td>\n",
       "    </tr>\n",
       "    <tr>\n",
       "      <th>8</th>\n",
       "      <td>45393316.0</td>\n",
       "      <td>71296210.0</td>\n",
       "      <td>6</td>\n",
       "      <td>25902894.0</td>\n",
       "    </tr>\n",
       "    <tr>\n",
       "      <th>9</th>\n",
       "      <td>71296210.0</td>\n",
       "      <td>110148963.0</td>\n",
       "      <td>5</td>\n",
       "      <td>38852753.0</td>\n",
       "    </tr>\n",
       "    <tr>\n",
       "      <th>10</th>\n",
       "      <td>110148963.0</td>\n",
       "      <td>111316184.0</td>\n",
       "      <td>4</td>\n",
       "      <td>1167221.0</td>\n",
       "    </tr>\n",
       "    <tr>\n",
       "      <th>11</th>\n",
       "      <td>111316184.0</td>\n",
       "      <td>112067149.0</td>\n",
       "      <td>5</td>\n",
       "      <td>750965.0</td>\n",
       "    </tr>\n",
       "    <tr>\n",
       "      <th>12</th>\n",
       "      <td>112067149.0</td>\n",
       "      <td>114281601.0</td>\n",
       "      <td>4</td>\n",
       "      <td>2214452.0</td>\n",
       "    </tr>\n",
       "    <tr>\n",
       "      <th>13</th>\n",
       "      <td>114281601.0</td>\n",
       "      <td>114314482.0</td>\n",
       "      <td>3</td>\n",
       "      <td>32881.0</td>\n",
       "    </tr>\n",
       "    <tr>\n",
       "      <th>14</th>\n",
       "      <td>114314482.0</td>\n",
       "      <td>114329559.0</td>\n",
       "      <td>1</td>\n",
       "      <td>15077.0</td>\n",
       "    </tr>\n",
       "  </tbody>\n",
       "</table>\n",
       "</div>"
      ],
      "text/plain": [
       "          start          end  counts      length\n",
       "0           0.0   18174010.0       0  18174010.0\n",
       "1    18174010.0   18195297.0       1     21287.0\n",
       "2    18195297.0   19173772.0       3    978475.0\n",
       "3    19173772.0   19422877.0       5    249105.0\n",
       "4    19422877.0   27255401.0       6   7832524.0\n",
       "5    27255401.0   27270327.0       5     14926.0\n",
       "6    27270327.0   45337480.0       6  18067153.0\n",
       "7    45337480.0   45393316.0       5     55836.0\n",
       "8    45393316.0   71296210.0       6  25902894.0\n",
       "9    71296210.0  110148963.0       5  38852753.0\n",
       "10  110148963.0  111316184.0       4   1167221.0\n",
       "11  111316184.0  112067149.0       5    750965.0\n",
       "12  112067149.0  114281601.0       4   2214452.0\n",
       "13  114281601.0  114314482.0       3     32881.0\n",
       "14  114314482.0  114329559.0       1     15077.0"
      ]
     },
     "execution_count": 14,
     "metadata": {},
     "output_type": "execute_result"
    }
   ],
   "source": [
    "loss_event_data"
   ]
  },
  {
   "cell_type": "markdown",
   "metadata": {},
   "source": [
    "## Find Gain Regions"
   ]
  },
  {
   "cell_type": "code",
   "execution_count": 15,
   "metadata": {},
   "outputs": [],
   "source": [
    "# df = counts\n",
    "# gain_event_locations = dict()\n",
    "# for cancer in cnv.keys():\n",
    "#     df_gain = df[(df.variable == 'gain') & (df.cancer == cancer)].sort_values('start_bp')\n",
    "#     values = list(df_gain.value)\n",
    "#     gain_events = list()\n",
    "#     start = None\n",
    "#     for i in range(0, len(values)):\n",
    "#         val = values[i]\n",
    "#         if val > cutoffs[cancer]:\n",
    "#             if start is None:\n",
    "#                 start = i\n",
    "#         else:\n",
    "#             if start is not None:\n",
    "#                 gain_events.append((start, i))\n",
    "#                 start = None\n",
    "#     if start is not None:\n",
    "#         gain_events.append((start, len(values)-1))\n",
    "#     event_locations = list()\n",
    "#     for event in gain_events:\n",
    "#         start_bp = df_gain.iloc[event[0]].start_bp\n",
    "#         end_bp = df_gain.iloc[event[1]].start_bp\n",
    "        \n",
    "#         event_locations.append((start_bp, end_bp-start_bp))\n",
    "#     gain_event_locations[cancer] = event_locations"
   ]
  },
  {
   "cell_type": "code",
   "execution_count": null,
   "metadata": {},
   "outputs": [],
   "source": []
  },
  {
   "cell_type": "code",
   "execution_count": 16,
   "metadata": {},
   "outputs": [],
   "source": [
    "# gain_event_patients = list()\n",
    "# for cancer in gain_event_locations.keys():\n",
    "#     events = gain_event_locations[cancer]\n",
    "#     for event in events:\n",
    "#         start = event[0]\n",
    "#         end = event[0] + event[1]\n",
    "#         gain_event_patients.append((start, 1))\n",
    "#         gain_event_patients.append((end, 0))\n",
    "# #     patients += list(gain_event_locations[cancer])\n",
    "# gain_event_patients.sort()"
   ]
  },
  {
   "cell_type": "code",
   "execution_count": 17,
   "metadata": {},
   "outputs": [],
   "source": [
    "# count = 0\n",
    "# current_bp = 0\n",
    "# # results = list()\n",
    "# start = list()\n",
    "# end = list()\n",
    "# size = list()\n",
    "# total = list()\n",
    "# for patient in gain_event_patients:\n",
    "#     if patient[0] != current_bp:\n",
    "#         start.append(current_bp)\n",
    "#         end.append(patient[0])\n",
    "#         size.append(patient[0]-current_bp)\n",
    "#         total.append(count)\n",
    "# #         results.append((current_bp, patient[0], count))\n",
    "#         current_bp = patient[0]\n",
    "#     if patient[1] == 1:\n",
    "#         count += 1\n",
    "#     else:\n",
    "#         count -= 1\n",
    "# gain_event_data = pd.DataFrame({'start': start, 'end': end, 'counts': total, 'length': size})"
   ]
  },
  {
   "cell_type": "code",
   "execution_count": 18,
   "metadata": {},
   "outputs": [],
   "source": [
    "# gain_event_data"
   ]
  }
 ],
 "metadata": {
  "kernelspec": {
   "display_name": "Python 3",
   "language": "python",
   "name": "python3"
  },
  "language_info": {
   "codemirror_mode": {
    "name": "ipython",
    "version": 3
   },
   "file_extension": ".py",
   "mimetype": "text/x-python",
   "name": "python",
   "nbconvert_exporter": "python",
   "pygments_lexer": "ipython3",
   "version": "3.7.9"
  }
 },
 "nbformat": 4,
 "nbformat_minor": 4
}
