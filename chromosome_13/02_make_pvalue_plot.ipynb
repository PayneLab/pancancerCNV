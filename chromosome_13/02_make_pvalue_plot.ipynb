{
 "cells": [
  {
   "cell_type": "markdown",
   "metadata": {},
   "source": [
    "# Make pvalue plot"
   ]
  },
  {
   "cell_type": "markdown",
   "metadata": {},
   "source": [
    "## Setup"
   ]
  },
  {
   "cell_type": "code",
   "execution_count": 22,
   "metadata": {},
   "outputs": [],
   "source": [
    "import numpy as np\n",
    "import cnvutils\n",
    "import pandas as pd"
   ]
  },
  {
   "cell_type": "code",
   "execution_count": 23,
   "metadata": {},
   "outputs": [],
   "source": [
    "# The chromosome the event occurs on\n",
    "CHROMOSOME = '13'\n",
    "# The arm the event occurs on\n",
    "ARM = 'q'\n",
    "# Options: 'trans' or 'cis'\n",
    "TRANS_OR_CIS = 'cis'"
   ]
  },
  {
   "cell_type": "markdown",
   "metadata": {},
   "source": [
    "## Prepare the dataframe"
   ]
  },
  {
   "cell_type": "code",
   "execution_count": 24,
   "metadata": {},
   "outputs": [],
   "source": [
    "ttest_results_file = f\"{CHROMOSOME}{ARM}_{TRANS_OR_CIS}effects_ttest.tsv\"\n",
    "\n",
    "ttest_results = pd.\\\n",
    "read_csv(ttest_results_file, sep=\"\\t\").\\\n",
    "rename(columns={\"Name\": \"protein\"}).\\\n",
    "set_index(\"protein\")\n",
    "id_cols = [col for col in ttest_results.columns if not 'Database_ID' in col]\n",
    "ttest_results = ttest_results[id_cols]\n",
    "pvalue_cols = [col for col in ttest_results.columns if 'pvalue' in col]\n",
    "ttest_results = ttest_results[pvalue_cols]"
   ]
  },
  {
   "cell_type": "code",
   "execution_count": 25,
   "metadata": {},
   "outputs": [],
   "source": [
    "def get_cancer(val):\n",
    "    val_list = val.split('_')\n",
    "    return val_list[0].upper()"
   ]
  },
  {
   "cell_type": "code",
   "execution_count": 26,
   "metadata": {},
   "outputs": [],
   "source": [
    "ttest_results_long = ttest_results.reset_index().melt(id_vars='protein', var_name='cancer').sort_values('protein')\n",
    "ttest_results_long['cancer'] = ttest_results_long.cancer.apply(get_cancer)"
   ]
  },
  {
   "cell_type": "markdown",
   "metadata": {},
   "source": [
    "## Append Location Data"
   ]
  },
  {
   "cell_type": "code",
   "execution_count": 27,
   "metadata": {},
   "outputs": [],
   "source": [
    "locations = cnvutils.get_gene_locations()\n",
    "locations = locations.droplevel(1)"
   ]
  },
  {
   "cell_type": "code",
   "execution_count": 28,
   "metadata": {},
   "outputs": [],
   "source": [
    "results = ttest_results_long.set_index('protein')\n",
    "results = results.join(locations)\n",
    "results = results.reset_index()"
   ]
  },
  {
   "cell_type": "code",
   "execution_count": 29,
   "metadata": {},
   "outputs": [],
   "source": [
    "driver_genes = cnvutils.get_driver_genes()\n",
    "driver_genes = driver_genes.set_index('Gene')\n",
    "driver_genes.index.rename('Name', inplace=True)\n",
    "locations = cnvutils.get_gene_locations()\n",
    "driver_with_loc = driver_genes.reset_index().merge(locations.reset_index())\n",
    "genes = driver_with_loc[(driver_with_loc.chromosome == CHROMOSOME)].Name.unique()"
   ]
  },
  {
   "cell_type": "code",
   "execution_count": 30,
   "metadata": {},
   "outputs": [],
   "source": [
    "results = results[results['index'].isin(genes)]"
   ]
  },
  {
   "cell_type": "markdown",
   "metadata": {},
   "source": [
    "## Make the plots"
   ]
  },
  {
   "cell_type": "code",
   "execution_count": 31,
   "metadata": {},
   "outputs": [
    {
     "data": {
      "text/plain": [
       "<seaborn.axisgrid.FacetGrid at 0x1639694acc8>"
      ]
     },
     "execution_count": 31,
     "metadata": {},
     "output_type": "execute_result"
    },
    {
     "data": {
      "image/png": "[encoded data removed]",
      "text/plain": [
       "<Figure size 944.875x216 with 1 Axes>"
      ]
     },
     "metadata": {
      "needs_background": "light"
     },
     "output_type": "display_data"
    }
   ],
   "source": [
    "cnvutils.make_pvalue_plot(results, label_column='index', value_column='value', group_column='cancer')"
   ]
  }
 ],
 "metadata": {
  "kernelspec": {
   "display_name": "Python 3",
   "language": "python",
   "name": "python3"
  },
  "language_info": {
   "codemirror_mode": {
    "name": "ipython",
    "version": 3
   },
   "file_extension": ".py",
   "mimetype": "text/x-python",
   "name": "python",
   "nbconvert_exporter": "python",
   "pygments_lexer": "ipython3",
   "version": "3.7.9"
  }
 },
 "nbformat": 4,
 "nbformat_minor": 4
}
