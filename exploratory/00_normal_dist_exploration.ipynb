{
 "cells": [
  {
   "cell_type": "markdown",
   "metadata": {},
   "source": [
    "# Check distribution of protein copy counts for normal tissue\n",
    "\n",
    "This notebook informs analyses run in the `10_check_normal_expr.ipynb` notebook for each arm of each chromosome.\n",
    "\n",
    "We want to know why many cis proteins don't show a significant change even when the arm is deleted. It's possible that they have low expression to begin with, so the change from the deletion isn't noticeable.\n",
    "\n",
    "Unfortunately, we can only get relative expression levels from the CPTAC data, not absolute expression levels. So instead of using CPTAC dat, we're going to be working with tissue-specific absolute expression data from this paper: Wang D, Eraslan B, Wieland T, et al. A deep proteome and transcriptome abundance atlas of 29 healthy human \n",
    "tissues. Mol Syst Biol. 2019;15(2):e8503. Published 2019 Feb 18. doi:10.15252/msb.20188503\n",
    "\n",
    "We downloaded the specific table, Table 5, from https://www.embopress.org/action/downloadSupplement?doi=10.15252%2Fmsb.20188503&file=msb188503-sup-0007-TableEV5.zip\n",
    "\n",
    "The protein copy count data is significantly right skewed. This notebook investigates that and determines what data transformations to use."
   ]
  },
  {
   "cell_type": "code",
   "execution_count": null,
   "metadata": {},
   "outputs": [],
   "source": [
    "import pandas as pd\n",
    "import numpy as np\n",
    "import os\n",
    "import altair as alt\n",
    "import cnvutils\n",
    "import scipy.stats\n",
    "\n",
    "alt.data_transformers.disable_max_rows()"
   ]
  },
  {
   "cell_type": "markdown",
   "metadata": {},
   "source": [
    "## Plot distributions\n",
    "\n",
    "To determine which proteins naturally have \"low\" expression, we want to see what kind of distribution the protein copy counts follow for each tissue type. The plots below demonstrate that the distributions are all significantly right skewed."
   ]
  },
  {
   "cell_type": "code",
   "execution_count": null,
   "metadata": {},
   "outputs": [],
   "source": [
    "expr = cnvutils.get_normal_expr_table()"
   ]
  },
  {
   "cell_type": "code",
   "execution_count": null,
   "metadata": {},
   "outputs": [],
   "source": [
    "expr_df_long = expr.drop(\n",
    "    columns=[\"Gene_ID\", \"Protein_ID\"]\n",
    ").\\\n",
    "melt(\n",
    "    id_vars=\"Gene_name\",\n",
    "    var_name=\"tissue_type\",\n",
    "    value_name=\"prot_copy_count\"\n",
    ")\n",
    "\n",
    "alt.Chart(expr_df_long).mark_boxplot().encode(\n",
    "    x=\"prot_copy_count\",\n",
    "    y=\"tissue_type\"\n",
    ").properties(\n",
    "    width=800\n",
    ")"
   ]
  },
  {
   "cell_type": "markdown",
   "metadata": {},
   "source": [
    "### Plot with a log scale\n",
    "\n",
    "This should help with the right skew."
   ]
  },
  {
   "cell_type": "code",
   "execution_count": null,
   "metadata": {
    "scrolled": false
   },
   "outputs": [],
   "source": [
    "# Add 1 to each so we don't have problems with zero values\n",
    "expr_plus1 = expr_df_long.assign(prot_copy_count=expr_df_long[\"prot_copy_count\"] + 1)\n",
    "\n",
    "alt.Chart(expr_plus1).mark_boxplot().encode(\n",
    "    x=alt.X(\n",
    "        \"prot_copy_count\",\n",
    "        scale=alt.Scale(\n",
    "            type=\"log\"\n",
    "        )\n",
    "    ),\n",
    "    y=\"tissue_type\"\n",
    ").properties(\n",
    "    width=800\n",
    ")"
   ]
  },
  {
   "cell_type": "code",
   "execution_count": null,
   "metadata": {
    "scrolled": true
   },
   "outputs": [],
   "source": [
    "expr_plus1_log10 = expr_plus1.assign(prot_copy_count=np.log10(expr_plus1[\"prot_copy_count\"]))\n",
    "\n",
    "alt.Chart(expr_plus1_log10).mark_bar().encode(\n",
    "    x=alt.X(\n",
    "        \"prot_copy_count\",\n",
    "        bin=alt.Bin(step=0.25)\n",
    "    ),\n",
    "    y=\"count()\",\n",
    "    row=\"tissue_type\"\n",
    ").properties(\n",
    "    width=800\n",
    ")"
   ]
  },
  {
   "cell_type": "markdown",
   "metadata": {},
   "source": [
    "### Conclusion: Transform to log(x + 1), and exclude zeros\n",
    "\n",
    "Based on the plots above, it looks like our best option is to use a log(x + 1) scale, and exclude zeros. From a biological perspective, I'm fine with excluding the zeros, because proteins that aren't expressed seem a different class from proteins that just have low expression. Although it is important to remember that it's also possible that proteins with zero copies may have just been too low in expression to be detected. Nevertheless, the fact that there's such a huge number of proteins with zero copies suggests that they aren't just the few escaping detection."
   ]
  },
  {
   "cell_type": "code",
   "execution_count": null,
   "metadata": {
    "scrolled": false
   },
   "outputs": [],
   "source": [
    "expr_transf = expr_plus1_log10[expr_plus1_log10[\"prot_copy_count\"] > 0]\n",
    "\n",
    "alt.Chart(expr_transf).mark_bar().encode(\n",
    "    x=alt.X(\n",
    "        \"prot_copy_count\",\n",
    "        bin=alt.Bin(step=0.25)\n",
    "    ),\n",
    "    y=\"count()\"\n",
    ").properties(\n",
    "    width=800\n",
    ")"
   ]
  },
  {
   "cell_type": "markdown",
   "metadata": {},
   "source": [
    "## Calculate \"low\" cutoff for each tissue type"
   ]
  },
  {
   "cell_type": "code",
   "execution_count": null,
   "metadata": {
    "scrolled": false
   },
   "outputs": [],
   "source": [
    "low_cutoffs = expr_transf.groupby(\"tissue_type\").quantile(0.25)\n",
    "low_cutoffs"
   ]
  }
 ],
 "metadata": {
  "kernelspec": {
   "display_name": "Python 3 (ipykernel)",
   "language": "python",
   "name": "python3"
  },
  "language_info": {
   "codemirror_mode": {
    "name": "ipython",
    "version": 3
   },
   "file_extension": ".py",
   "mimetype": "text/x-python",
   "name": "python",
   "nbconvert_exporter": "python",
   "pygments_lexer": "ipython3",
   "version": "3.9.7"
  }
 },
 "nbformat": 4,
 "nbformat_minor": 4
}
