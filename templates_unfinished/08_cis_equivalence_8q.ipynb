{
 "cells": [
  {
   "cell_type": "markdown",
   "metadata": {},
   "source": [
    "# Equivalence tests for cis genes for 8q\n",
    "\n",
    "Here we look for genes IN the event discussed that are NOT affected by the arm-level event."
   ]
  },
  {
   "cell_type": "markdown",
   "metadata": {},
   "source": [
    "## Setup (Install necessary packages)\n",
    "\n",
    "We will start by importing necessary packages and collecting all of the proteomics data we will need to run the tests. The cancer types analyzed should have been determined in 01_event_basic_info where we determine which types of cancer seem to have the event we are looking at."
   ]
  },
  {
   "cell_type": "code",
   "execution_count": 1,
   "metadata": {},
   "outputs": [],
   "source": [
    "import pandas as pd\n",
    "import matplotlib.pyplot as plt\n",
    "import seaborn as sns\n",
    "import numpy as np\n",
    "import cptac\n",
    "from scipy import stats\n",
    "import cnvutils\n",
    "import cptac.utils\n",
    "import statsmodels.stats.power\n",
    "import statsmodels.stats.weightstats\n",
    "import statsmodels.stats.multitest"
   ]
  },
  {
   "cell_type": "code",
   "execution_count": 2,
   "metadata": {},
   "outputs": [],
   "source": [
    "# These variables specify which chromosome and arm we're working on, and whether to do cis or trans\n",
    "CHROMOSOME = '8'\n",
    "ARM = 'q'\n",
    "CIS_OR_TRANS = \"cis\""
   ]
  },
  {
   "cell_type": "code",
   "execution_count": 3,
   "metadata": {},
   "outputs": [],
   "source": [
    "if ARM == \"p\":\n",
    "    EVENT_COLUMN = \"loss_event\"\n",
    "    EXCLUDE_COLUMN = \"gain_event\"\n",
    "    EVENT_START = 0\n",
    "    EVENT_END = 30794385\n",
    "    \n",
    "elif ARM == \"q\":\n",
    "    EVENT_COLUMN = \"gain_event\"\n",
    "    EXCLUDE_COLUMN = \"loss_event\"\n",
    "    EVENT_START = 80794385\n",
    "    EVENT_END = 130794385\n",
    "\n",
    "else:\n",
    "    raise ValueError(\"Invalid value for ARM variable.\")"
   ]
  },
  {
   "cell_type": "markdown",
   "metadata": {},
   "source": [
    "## Load data"
   ]
  },
  {
   "cell_type": "code",
   "execution_count": 4,
   "metadata": {
    "scrolled": true
   },
   "outputs": [
    {
     "name": "stdout",
     "output_type": "stream",
     "text": [
      "Checking that luad index is up-to-date... \r"
     ]
    },
    {
     "name": "stderr",
     "output_type": "stream",
     "text": [
      "cptac warning: The LSCC data is currently strictly reserved for CPTAC investigators. Otherwise, you are not authorized to access these data. Additionally, even after these data become publicly available, they will be subject to a publication embargo (see https://proteomics.cancer.gov/data-portal/about/data-use-agreement or enter cptac.embargo() to open the webpage for more details). (/home/caleb/anaconda3/envs/dev/lib/python3.7/site-packages/ipykernel_launcher.py, line 9)\n"
     ]
    },
    {
     "name": "stdout",
     "output_type": "stream",
     "text": [
      "                                            \r"
     ]
    }
   ],
   "source": [
    "# Load in the cptac data for each cancer type that you want to analyze.\n",
    "\n",
    "br = cptac.Brca()\n",
    "# cc = cptac.Ccrcc()\n",
    "co = cptac.Colon()\n",
    "# en = cptac.Endometrial()\n",
    "# gb = cptac.Gbm()\n",
    "hn = cptac.Hnscc()\n",
    "ls = cptac.Lscc()\n",
    "lu = cptac.Luad()\n",
    "ov = cptac.Ovarian()"
   ]
  },
  {
   "cell_type": "code",
   "execution_count": 5,
   "metadata": {},
   "outputs": [],
   "source": [
    "# Now we need to get the proteomics tables for each type of cancer to analyze.\n",
    "proteomics = {\n",
    "    \"brca\": br.get_proteomics(tissue_type=\"tumor\"),\n",
    "    \"colon\": co.get_proteomics(tissue_type=\"tumor\"),\n",
    "    \"hnscc\": hn.get_proteomics(tissue_type=\"tumor\"),\n",
    "    \"lscc\": ls.get_proteomics(tissue_type=\"tumor\"),\n",
    "    \"luad\": lu.get_proteomics(tissue_type=\"tumor\"),\n",
    "    \"ovarian\": ov.get_proteomics(tissue_type=\"tumor\")\n",
    "}"
   ]
  },
  {
   "cell_type": "markdown",
   "metadata": {},
   "source": [
    "## Select the proteins we're interested in\n",
    "\n",
    "If we're looking at cis effects, we select proteins within the event. If we're looking at trans effects, we select proteins outside of the event.\n",
    "\n",
    "Note that the cnvutils.get_event_genes function uses Ensembl gene IDs for the Database_ID column, while the proteomics dataframes that have a Database_ID column use RefSeq protein IDs. So, when we're selecting the genes we want, we ignore the Database_ID column if it is present, and just use gene names."
   ]
  },
  {
   "cell_type": "code",
   "execution_count": 6,
   "metadata": {},
   "outputs": [],
   "source": [
    "selected_genes = cnvutils.\\\n",
    "get_event_genes(\n",
    "    chrm=CHROMOSOME,\n",
    "    event_start=EVENT_START,\n",
    "    event_end=EVENT_END,\n",
    "    cis_or_trans=CIS_OR_TRANS\n",
    ")[\"Name\"].\\\n",
    "drop_duplicates(keep=\"first\")\n",
    "\n",
    "for cancer_type in proteomics.keys():\n",
    "    df = proteomics[cancer_type].transpose()\n",
    "    \n",
    "    if df.index.nlevels == 1:\n",
    "        df = df[df.index.isin(selected_genes)]\n",
    "    else:\n",
    "        df = df[df.index.isin(selected_genes, level=\"Name\")]\n",
    "\n",
    "    proteomics[cancer_type] = df"
   ]
  },
  {
   "cell_type": "markdown",
   "metadata": {},
   "source": [
    "## Append Event Data\n",
    "\n",
    "We now append the data from the event table that should have been created in a previous notebook."
   ]
  },
  {
   "cell_type": "code",
   "execution_count": 7,
   "metadata": {},
   "outputs": [
    {
     "name": "stderr",
     "output_type": "stream",
     "text": [
      "/home/caleb/anaconda3/envs/dev/lib/python3.7/site-packages/pandas/core/reshape/merge.py:648: UserWarning: merging between different levels can give an unintended result (2 levels on the left,1 on the right)\n",
      "  warnings.warn(msg, UserWarning)\n"
     ]
    }
   ],
   "source": [
    "has_event = dict()\n",
    "for cancer_type in proteomics.keys():\n",
    "    \n",
    "    df = proteomics[cancer_type]\n",
    "    df = df.transpose()\n",
    "    \n",
    "    event = pd.read_csv(\n",
    "        f'{cancer_type}_has_event.tsv', \n",
    "        sep='\\t', \n",
    "        index_col=0,\n",
    "        dtype={EVENT_COLUMN: bool}\n",
    "    )\n",
    "    \n",
    "    if EXCLUDE_COLUMN:\n",
    "        event.drop(EXCLUDE_COLUMN, axis=1, inplace=True)\n",
    "        \n",
    "    event.index.rename('Name')\n",
    "    df = df.join(other=event, how=\"inner\")\n",
    "    \n",
    "    has_event[cancer_type] = df[EVENT_COLUMN]\n",
    "    proteomics[cancer_type] = df"
   ]
  },
  {
   "cell_type": "markdown",
   "metadata": {},
   "source": [
    "## Run equivalence tests\n",
    "\n",
    "To determine the upper and lower bounds for our equivalence tests, we will use power calculations to determine the minimum effect size we could detect in the first place for each gene. Note that the power calculations are for Student's t test, while our TOST equivalence tests use Welch's t test, but this is okay because Student's is more powerful than Welch's, so the minimum effect size will be underestimated, thus not hurting our accuracy. If it ends up being too strict, we'll alter our approach."
   ]
  },
  {
   "cell_type": "code",
   "execution_count": 8,
   "metadata": {},
   "outputs": [
    {
     "name": "stderr",
     "output_type": "stream",
     "text": [
      "/home/caleb/anaconda3/envs/dev/lib/python3.7/site-packages/statsmodels/stats/weightstats.py:977: RuntimeWarning: invalid value encountered in double_scalars\n",
      "  return np.sqrt(d1._var / (d1.nobs - 1) + d2._var / (d2.nobs - 1))\n",
      "/home/caleb/anaconda3/envs/dev/lib/python3.7/site-packages/statsmodels/stats/weightstats.py:1004: RuntimeWarning: invalid value encountered in double_scalars\n",
      "  sem1 = d1._var / (d1.nobs - 1)\n",
      "/home/caleb/anaconda3/envs/dev/lib/python3.7/site-packages/statsmodels/stats/weightstats.py:133: RuntimeWarning: invalid value encountered in double_scalars\n",
      "  return self.sum / self.sum_weights\n",
      "/home/caleb/anaconda3/envs/dev/lib/python3.7/site-packages/statsmodels/stats/weightstats.py:188: RuntimeWarning: invalid value encountered in double_scalars\n",
      "  return self.sumsquares / self.sum_weights\n"
     ]
    }
   ],
   "source": [
    "results_df = None\n",
    "for cancer_type in proteomics.keys():\n",
    "    prot_df = proteomics[cancer_type]\n",
    "    \n",
    "    comparisons = []\n",
    "    pvals = []\n",
    "    nulls = []\n",
    "    \n",
    "    # Iterate over all columns except the event column\n",
    "    for prot in prot_df.columns[~(prot_df.columns == EVENT_COLUMN)]:\n",
    "        \n",
    "        # Get the data\n",
    "        in_event = prot_df.loc[prot_df[EVENT_COLUMN], [prot]].iloc[:, 0].dropna()\n",
    "        not_event = prot_df.loc[~prot_df[EVENT_COLUMN], [prot]].iloc[:, 0].dropna()\n",
    "        \n",
    "        # Calculate the minimum effect size, to use for upper and lower bounds for the TOST\n",
    "        # Formula from the power calculation for a two sample Student's t-test from The\n",
    "        # Analysis of Biological Data by Whitlock and Schluter, 2nd edition (2015), Roberts and\n",
    "        # Company Publishers, pg. 444. Original formula was sample_size = 16 * (stdev / min_event) ^ 2\n",
    "        \n",
    "        # We separately calculate the standard deviation for each group and then mean them,\n",
    "        # because the distributions may have different locations even if their standard deviations\n",
    "        # are similar\n",
    "        min_effect = 4 * np.mean([np.std(in_event), np.std(not_event)]) / np.sqrt(np.mean([in_event.size, not_event.size]))\n",
    "\n",
    "        # Run TOST test\n",
    "        pval, res_lower, res_upper = statsmodels.stats.weightstats.ttost_ind(\n",
    "            x1=in_event,\n",
    "            x2=not_event,\n",
    "            low=-1.25 * min_effect,\n",
    "            upp=1.25 * min_effect,\n",
    "            usevar=\"unequal\"\n",
    "        )\n",
    "        \n",
    "        if pd.notnull(pval):\n",
    "            comparisons.append(prot)\n",
    "            pvals.append(pval)\n",
    "        else:\n",
    "            nulls.append(prot)\n",
    "            continue\n",
    "\n",
    "    # Multiple testing correction\n",
    "    reject, pvals, alpha_sidak, alpha_bonf = statsmodels.stats.multitest.multipletests(\n",
    "        pvals=pvals, \n",
    "        alpha=0.05, \n",
    "        method=\"fdr_bh\"\n",
    "    )\n",
    "        \n",
    "    results = pd.DataFrame({\"Comparison\": comparisons, \"P_Value\": pvals})\n",
    "\n",
    "    results.set_index('Comparison', inplace=True)\n",
    "    if isinstance(results.index[0], tuple):\n",
    "        results[['Name', f'{cancer_type}_Database_ID']] = pd.DataFrame(\n",
    "            results.index.values.tolist(),\n",
    "            index=results.index\n",
    "        )\n",
    "        results.set_index(['Name', f'{cancer_type}_Database_ID'], inplace=True)\n",
    "    else:\n",
    "        results.index.name='Name'\n",
    "    results.rename(columns={'P_Value': f'{cancer_type}_pvalue'}, inplace=True)\n",
    "    if results_df is None:\n",
    "        results_df = results\n",
    "    else:\n",
    "        results_df = results_df.join(results)"
   ]
  },
  {
   "cell_type": "markdown",
   "metadata": {},
   "source": [
    "## Save results"
   ]
  },
  {
   "cell_type": "code",
   "execution_count": 9,
   "metadata": {},
   "outputs": [],
   "source": [
    "# This will save the resulting table in the same directory as this notebook.\n",
    "# Modify if you would like to save to a different location.\n",
    "results_df.to_csv(f\"{CHROMOSOME}{ARM}_{CIS_OR_TRANS}_equiv.tsv\", sep='\\t')"
   ]
  }
 ],
 "metadata": {
  "kernelspec": {
   "display_name": "Python 3",
   "language": "python",
   "name": "python3"
  },
  "language_info": {
   "codemirror_mode": {
    "name": "ipython",
    "version": 3
   },
   "file_extension": ".py",
   "mimetype": "text/x-python",
   "name": "python",
   "nbconvert_exporter": "python",
   "pygments_lexer": "ipython3",
   "version": "3.7.7"
  }
 },
 "nbformat": 4,
 "nbformat_minor": 4
}
