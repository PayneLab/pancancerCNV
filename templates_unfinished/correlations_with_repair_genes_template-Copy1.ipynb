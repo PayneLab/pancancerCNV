{
 "cells": [
  {
   "cell_type": "markdown",
   "metadata": {},
   "source": [
    "# Correlations with Repair Genes\n",
    "\n",
    "Here we will see if our event correlates with any of the following known DNA repair genes:\n",
    "\n",
    "* **TP53** tumor suppressor, regulates cell division\n",
    "* **KMT2C** histone methyltransferase, regulates gene transcription by modifying chromatin structure\n",
    "* **ATM** responds to DNA damage by phosphorylating key substrates involved in DNA repair\n",
    "* **BAP1** Binds BRCA1, deubiquitinating enzyme\n",
    "* **BRCA2** deficiency known to impair completion of cell division by cytokinesis\n",
    "* **POLQ** contains RAD51 binding motifs, blocks RAD51-mediated recombination\n",
    "* **PRKDC** involved in DNA NHEJ during DNA double-strand break repair\n",
    "* **ATR** regulator of genomic integrity, controls and coordinates DNA-replication origin firing, replication-fork stability, cell-cycle checkpoints, and DNA repair\n",
    "* **BRCA1** critical roles in DNA repair, cell cycle checkpoint control, and maintenance of genomic stability\n",
    "* **MSH6** part of a large multisubunit protein complex of tumor suppressors\n",
    "* **POLE** catalytic subunit of DNA polymerase epsilon, involved in DNA repair\n",
    "* **FANCM** direct role in DNA processing\n",
    "* **TP53BP1** binds to WT p53, but not mutatant p53, also regulates ATM-dependent phosphorylation events\n",
    "* **CDK12** forms protein complexes with cyclin K, regulates expression of long complex genes, several of which have roles in DNA maintenance and repair\n",
    "* **FANCD2** links FA and ATM damage response pathways\n",
    "* **SLX4** critical scaffold element for the assembly of a multiprotein complex containing enzymes involved in DNA maintenance and repair"
   ]
  },
  {
   "cell_type": "markdown",
   "metadata": {},
   "source": [
    "## Setup"
   ]
  },
  {
   "cell_type": "code",
   "execution_count": null,
   "metadata": {},
   "outputs": [],
   "source": [
    "import cptac\n",
    "import pandas as pd\n",
    "import numpy as np\n",
    "import scipy.stats as stats\n",
    "import statsmodels.stats.multitest"
   ]
  },
  {
   "cell_type": "code",
   "execution_count": null,
   "metadata": {},
   "outputs": [],
   "source": [
    "EVENT_COLUMN = 'loss_event'"
   ]
  },
  {
   "cell_type": "code",
   "execution_count": null,
   "metadata": {},
   "outputs": [],
   "source": [
    "cancer_types = {\n",
    "    'brca': cptac.Brca(),\n",
    "    'ccrcc': cptac.Ccrcc(),\n",
    "    'colon': cptac.Colon(),\n",
    "    'endo': cptac.Endometrial(),\n",
    "    'gbm': cptac.Gbm(),\n",
    "    'hnscc': cptac.Hnscc(),\n",
    "    'luad': cptac.Luad(),\n",
    "    'lscc': cptac.Lscc(),\n",
    "    'ovarian': cptac.Ovarian()\n",
    "}"
   ]
  },
  {
   "cell_type": "code",
   "execution_count": null,
   "metadata": {},
   "outputs": [],
   "source": [
    "dna_repair_genes = ['TP53', 'KMT2C', 'ATM', 'BAP1', 'BRCA2', 'POLQ', 'PRKDC', 'ATR', 'BRCA1', 'MSH6', 'POLE', 'FANCM', 'TP53BP1', 'CDK12', 'FANCD2', 'SLX4']"
   ]
  },
  {
   "cell_type": "markdown",
   "metadata": {},
   "source": [
    "## Run Fisher Tests"
   ]
  },
  {
   "cell_type": "code",
   "execution_count": null,
   "metadata": {},
   "outputs": [],
   "source": [
    "repair_gene_dict = dict()\n",
    "cancers = list()\n",
    "genes = list()\n",
    "pvalues = list()\n",
    "odds_list = list()\n",
    "for cancer in cancer_types.keys():\n",
    "    has_event = pd.read_csv(f'{cancer}_has_event.tsv', sep='\\t', index_col=0)\n",
    "    mutations = cancer_types[cancer].get_somatic_mutation()\n",
    "    drivers = mutations[mutations.Gene.isin(dna_repair_genes)]\n",
    "    drivers['has_mutation'] = True\n",
    "    driver_table = pd.pivot_table(drivers, index=drivers.index, values='has_mutation', columns=['Gene']).fillna(False)\n",
    "    joined = has_event.join(driver_table).fillna(False)\n",
    "    for gene in dna_repair_genes:\n",
    "        if gene in joined.columns:\n",
    "            event_table = pd.crosstab(joined['loss_event'], joined[gene])\n",
    "            try:\n",
    "                odds, pvalue = stats.fisher_exact(event_table)\n",
    "                odds_list.append(odds)\n",
    "                pvalues.append(pvalue)\n",
    "                genes.append(gene)\n",
    "                cancers.append(cancer)\n",
    "            except:\n",
    "                genes.append(gene)\n",
    "                cancers.append(cancer)\n",
    "                odds_list.append(None)\n",
    "                pvalues.append(None)\n",
    "results = pd.DataFrame({\"gene\": genes,\n",
    "                        \"cancer\": cancers,\n",
    "                        \"pvalue\": pvalues,\n",
    "                        \"odds\": odds_list})"
   ]
  },
  {
   "cell_type": "code",
   "execution_count": null,
   "metadata": {},
   "outputs": [],
   "source": [
    "results"
   ]
  },
  {
   "cell_type": "markdown",
   "metadata": {},
   "source": [
    "## Correct Pvalues"
   ]
  },
  {
   "cell_type": "code",
   "execution_count": null,
   "metadata": {},
   "outputs": [],
   "source": [
    "# Correct for Multiple Tests\n",
    "corrected_data = pd.DataFrame()\n",
    "for cancer in results.cancer.unique():\n",
    "    cancer_results = results[results.cancer == cancer]\n",
    "    pvalues = cancer_results.pvalue\n",
    "    corrected = statsmodels.stats.multitest.multipletests(pvalues, method='fdr_bh')\n",
    "    cancer_results['pvalues'] = corrected[1]\n",
    "    if corrected_data.empty:\n",
    "        corrected_data = cancer_results\n",
    "    else:\n",
    "        corrected_data = pd.concat([corrected_data, cancer_results])\n"
   ]
  },
  {
   "cell_type": "code",
   "execution_count": null,
   "metadata": {},
   "outputs": [],
   "source": [
    "corrected_data[corrected_data.pvalues < 0.1 ]"
   ]
  }
 ],
 "metadata": {
  "kernelspec": {
   "display_name": "Python 3",
   "language": "python",
   "name": "python3"
  },
  "language_info": {
   "codemirror_mode": {
    "name": "ipython",
    "version": 3
   },
   "file_extension": ".py",
   "mimetype": "text/x-python",
   "name": "python",
   "nbconvert_exporter": "python",
   "pygments_lexer": "ipython3",
   "version": "3.7.9"
  }
 },
 "nbformat": 4,
 "nbformat_minor": 4
}
